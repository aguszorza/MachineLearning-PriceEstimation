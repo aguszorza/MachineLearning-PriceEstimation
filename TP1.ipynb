{
 "cells": [
  {
   "cell_type": "code",
   "execution_count": 58,
   "metadata": {
    "collapsed": true
   },
   "outputs": [],
   "source": [
    "%matplotlib inline\n",
    "\n",
    "import pandas as pd\n",
    "import numpy as np\n",
    "import matplotlib.pyplot as plt"
   ]
  },
  {
   "cell_type": "code",
   "execution_count": 59,
   "metadata": {
    "collapsed": true
   },
   "outputs": [],
   "source": [
    "propiedades = pd.read_csv('properati.csv')"
   ]
  },
  {
   "cell_type": "code",
   "execution_count": 60,
   "metadata": {},
   "outputs": [
    {
     "data": {
      "text/html": [
       "<div>\n",
       "<style>\n",
       "    .dataframe thead tr:only-child th {\n",
       "        text-align: right;\n",
       "    }\n",
       "\n",
       "    .dataframe thead th {\n",
       "        text-align: left;\n",
       "    }\n",
       "\n",
       "    .dataframe tbody tr th {\n",
       "        vertical-align: top;\n",
       "    }\n",
       "</style>\n",
       "<table border=\"1\" class=\"dataframe\">\n",
       "  <thead>\n",
       "    <tr style=\"text-align: right;\">\n",
       "      <th></th>\n",
       "      <th>created_on</th>\n",
       "      <th>operation</th>\n",
       "      <th>property_type</th>\n",
       "      <th>place_name</th>\n",
       "      <th>place_with_parent_names</th>\n",
       "      <th>country_name</th>\n",
       "      <th>state_name</th>\n",
       "      <th>lat</th>\n",
       "      <th>lon</th>\n",
       "      <th>price</th>\n",
       "      <th>currency</th>\n",
       "      <th>price_aprox_local_currency</th>\n",
       "      <th>price_aprox_usd</th>\n",
       "      <th>surface_total_in_m2</th>\n",
       "      <th>surface_covered_in_m2</th>\n",
       "      <th>price_usd_per_m2</th>\n",
       "      <th>price_per_m2</th>\n",
       "      <th>floor</th>\n",
       "      <th>rooms</th>\n",
       "      <th>expenses</th>\n",
       "    </tr>\n",
       "  </thead>\n",
       "  <tbody>\n",
       "    <tr>\n",
       "      <th>0</th>\n",
       "      <td>2012-09-19</td>\n",
       "      <td>sell</td>\n",
       "      <td>house</td>\n",
       "      <td>San Antonio De Padua</td>\n",
       "      <td>|Argentina|Bs.As. G.B.A. Zona Oeste|Merlo|San ...</td>\n",
       "      <td>Argentina</td>\n",
       "      <td>Bs.As. G.B.A. Zona Oeste</td>\n",
       "      <td>NaN</td>\n",
       "      <td>NaN</td>\n",
       "      <td>120000.0</td>\n",
       "      <td>USD</td>\n",
       "      <td>2117340.0</td>\n",
       "      <td>120000.0</td>\n",
       "      <td>333.0</td>\n",
       "      <td>93.0</td>\n",
       "      <td>360.36036</td>\n",
       "      <td>1290.322581</td>\n",
       "      <td>NaN</td>\n",
       "      <td>NaN</td>\n",
       "      <td>NaN</td>\n",
       "    </tr>\n",
       "    <tr>\n",
       "      <th>1</th>\n",
       "      <td>2012-10-22</td>\n",
       "      <td>sell</td>\n",
       "      <td>house</td>\n",
       "      <td>San Antonio De Padua</td>\n",
       "      <td>|Argentina|Bs.As. G.B.A. Zona Oeste|Merlo|San ...</td>\n",
       "      <td>Argentina</td>\n",
       "      <td>Bs.As. G.B.A. Zona Oeste</td>\n",
       "      <td>NaN</td>\n",
       "      <td>NaN</td>\n",
       "      <td>220000.0</td>\n",
       "      <td>USD</td>\n",
       "      <td>3881790.0</td>\n",
       "      <td>220000.0</td>\n",
       "      <td>220.0</td>\n",
       "      <td>220.0</td>\n",
       "      <td>1000.00000</td>\n",
       "      <td>1000.000000</td>\n",
       "      <td>NaN</td>\n",
       "      <td>NaN</td>\n",
       "      <td>NaN</td>\n",
       "    </tr>\n",
       "  </tbody>\n",
       "</table>\n",
       "</div>"
      ],
      "text/plain": [
       "   created_on operation property_type            place_name  \\\n",
       "0  2012-09-19      sell         house  San Antonio De Padua   \n",
       "1  2012-10-22      sell         house  San Antonio De Padua   \n",
       "\n",
       "                             place_with_parent_names country_name  \\\n",
       "0  |Argentina|Bs.As. G.B.A. Zona Oeste|Merlo|San ...    Argentina   \n",
       "1  |Argentina|Bs.As. G.B.A. Zona Oeste|Merlo|San ...    Argentina   \n",
       "\n",
       "                 state_name  lat  lon     price currency  \\\n",
       "0  Bs.As. G.B.A. Zona Oeste  NaN  NaN  120000.0      USD   \n",
       "1  Bs.As. G.B.A. Zona Oeste  NaN  NaN  220000.0      USD   \n",
       "\n",
       "   price_aprox_local_currency  price_aprox_usd  surface_total_in_m2  \\\n",
       "0                   2117340.0         120000.0                333.0   \n",
       "1                   3881790.0         220000.0                220.0   \n",
       "\n",
       "   surface_covered_in_m2  price_usd_per_m2  price_per_m2  floor  rooms  \\\n",
       "0                   93.0         360.36036   1290.322581    NaN    NaN   \n",
       "1                  220.0        1000.00000   1000.000000    NaN    NaN   \n",
       "\n",
       "   expenses  \n",
       "0       NaN  \n",
       "1       NaN  "
      ]
     },
     "execution_count": 60,
     "metadata": {},
     "output_type": "execute_result"
    }
   ],
   "source": [
    "#Elimino columnas innecesarias\n",
    "propiedades.drop(['id', 'geonames_id', 'lat-lon', 'properati_url', 'description', 'title', 'image_thumbnail'], axis = 1, inplace = True)\n",
    "propiedades.head(2)\n"
   ]
  },
  {
   "cell_type": "code",
   "execution_count": 61,
   "metadata": {},
   "outputs": [
    {
     "name": "stdout",
     "output_type": "stream",
     "text": [
      "<class 'pandas.core.frame.DataFrame'>\n",
      "RangeIndex: 187482 entries, 0 to 187481\n",
      "Data columns (total 20 columns):\n",
      "created_on                    187482 non-null object\n",
      "operation                     187482 non-null object\n",
      "property_type                 187482 non-null object\n",
      "place_name                    187447 non-null object\n",
      "place_with_parent_names       187482 non-null object\n",
      "country_name                  187482 non-null object\n",
      "state_name                    187482 non-null object\n",
      "lat                           118761 non-null float64\n",
      "lon                           118761 non-null float64\n",
      "price                         154443 non-null float64\n",
      "currency                      154441 non-null object\n",
      "price_aprox_local_currency    154443 non-null float64\n",
      "price_aprox_usd               154443 non-null float64\n",
      "surface_total_in_m2           125027 non-null float64\n",
      "surface_covered_in_m2         152420 non-null float64\n",
      "price_usd_per_m2              105024 non-null float64\n",
      "price_per_m2                  131665 non-null float64\n",
      "floor                         14294 non-null float64\n",
      "rooms                         80320 non-null float64\n",
      "expenses                      17520 non-null float64\n",
      "dtypes: float64(12), object(8)\n",
      "memory usage: 28.6+ MB\n"
     ]
    }
   ],
   "source": [
    "propiedades.info()"
   ]
  },
  {
   "cell_type": "code",
   "execution_count": 62,
   "metadata": {},
   "outputs": [
    {
     "name": "stdout",
     "output_type": "stream",
     "text": [
      "<class 'pandas.core.frame.DataFrame'>\n",
      "RangeIndex: 124746 entries, 0 to 124745\n",
      "Data columns (total 20 columns):\n",
      "created_on                    124746 non-null object\n",
      "operation                     124746 non-null object\n",
      "property_type                 124746 non-null object\n",
      "place_name                    124711 non-null object\n",
      "place_with_parent_names       124746 non-null object\n",
      "country_name                  124746 non-null object\n",
      "state_name                    124746 non-null object\n",
      "lat                           75504 non-null float64\n",
      "lon                           75504 non-null float64\n",
      "price                         110203 non-null float64\n",
      "currency                      110202 non-null object\n",
      "price_aprox_local_currency    110203 non-null float64\n",
      "price_aprox_usd               110203 non-null float64\n",
      "surface_total_in_m2           89385 non-null float64\n",
      "surface_covered_in_m2         109180 non-null float64\n",
      "price_usd_per_m2              79108 non-null float64\n",
      "price_per_m2                  98873 non-null float64\n",
      "floor                         10574 non-null float64\n",
      "rooms                         49922 non-null float64\n",
      "expenses                      14913 non-null float64\n",
      "dtypes: float64(12), object(8)\n",
      "memory usage: 19.0+ MB\n"
     ]
    }
   ],
   "source": [
    "#Elimino los registros que no sean de Capital Federal o Gran Buenos Aires\n",
    "capital = propiedades ['state_name'] == 'Capital Federal'\n",
    "gba = propiedades ['state_name'].str.contains('Bs.As. G.B.A.')\n",
    "propiedades = propiedades [capital | gba].reset_index()\n",
    "propiedades.drop(\"index\", axis = 1, inplace = True)\n",
    "propiedades.info()"
   ]
  },
  {
   "cell_type": "code",
   "execution_count": 63,
   "metadata": {},
   "outputs": [
    {
     "data": {
      "text/plain": [
       "state_name\n",
       "Bs.As. G.B.A. Zona Norte    39888\n",
       "Bs.As. G.B.A. Zona Oeste    22571\n",
       "Bs.As. G.B.A. Zona Sur      18135\n",
       "Capital Federal             44152\n",
       "Name: operation, dtype: int64"
      ]
     },
     "execution_count": 63,
     "metadata": {},
     "output_type": "execute_result"
    }
   ],
   "source": [
    "#Compruebo que solo haya capital y gba\n",
    "propiedades.groupby('state_name').agg(np.size)['operation']"
   ]
  },
  {
   "cell_type": "code",
   "execution_count": 64,
   "metadata": {
    "collapsed": true
   },
   "outputs": [],
   "source": [
    "def calcularPrecioM2(fila):\n",
    "    \"\"\"Recibe una lista con precio total, superficie total, superficie cubierta y precio por metro cuadrado,\n",
    "    y calcula este ultimo a partir de los anteriores, cuando es posible\"\"\"\n",
    "    precio_total,superficie_total,superficie_cubierta,precio_m2 = fila\n",
    "    if (np.isnan(precio_m2)):\n",
    "        if (superficie_total and not np.isnan(superficie_total)):\n",
    "            return precio_total/superficie_total\n",
    "        if(superficie_cubierta and not np.isnan(superficie_cubierta)):\n",
    "            return precio_total/superficie_cubierta\n",
    "    return precio_m2"
   ]
  },
  {
   "cell_type": "code",
   "execution_count": 65,
   "metadata": {},
   "outputs": [
    {
     "name": "stdout",
     "output_type": "stream",
     "text": [
      "<class 'pandas.core.frame.DataFrame'>\n",
      "RangeIndex: 124746 entries, 0 to 124745\n",
      "Data columns (total 20 columns):\n",
      "created_on                    124746 non-null object\n",
      "operation                     124746 non-null object\n",
      "property_type                 124746 non-null object\n",
      "place_name                    124711 non-null object\n",
      "place_with_parent_names       124746 non-null object\n",
      "country_name                  124746 non-null object\n",
      "state_name                    124746 non-null object\n",
      "lat                           75504 non-null float64\n",
      "lon                           75504 non-null float64\n",
      "price                         110203 non-null float64\n",
      "currency                      110202 non-null object\n",
      "price_aprox_local_currency    110203 non-null float64\n",
      "price_aprox_usd               110203 non-null float64\n",
      "surface_total_in_m2           89385 non-null float64\n",
      "surface_covered_in_m2         109180 non-null float64\n",
      "price_usd_per_m2              103159 non-null float64\n",
      "price_per_m2                  98873 non-null float64\n",
      "floor                         10574 non-null float64\n",
      "rooms                         49922 non-null float64\n",
      "expenses                      14913 non-null float64\n",
      "dtypes: float64(12), object(8)\n",
      "memory usage: 19.0+ MB\n"
     ]
    }
   ],
   "source": [
    "#Calculo el precio por metro cuadrado a partir del precio total y la superficie\n",
    "propiedades.loc[:,'price_usd_per_m2'] = propiedades.loc[:,['price_aprox_usd','surface_total_in_m2','surface_covered_in_m2','price_usd_per_m2']].apply(calcularPrecioM2,axis = 1)\n",
    "propiedades.info()"
   ]
  },
  {
   "cell_type": "code",
   "execution_count": null,
   "metadata": {
    "collapsed": true
   },
   "outputs": [],
   "source": []
  }
 ],
 "metadata": {
  "kernelspec": {
   "display_name": "Python 3",
   "language": "python",
   "name": "python3"
  },
  "language_info": {
   "codemirror_mode": {
    "name": "ipython",
    "version": 3
   },
   "file_extension": ".py",
   "mimetype": "text/x-python",
   "name": "python",
   "nbconvert_exporter": "python",
   "pygments_lexer": "ipython3",
   "version": "3.6.1"
  }
 },
 "nbformat": 4,
 "nbformat_minor": 2
}
