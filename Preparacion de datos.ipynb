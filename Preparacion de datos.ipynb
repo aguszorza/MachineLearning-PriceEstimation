{
 "cells": [
  {
   "cell_type": "markdown",
   "metadata": {},
   "source": [
    "### Preparacion de los datos, para el archivo csv ya unido y cuando ya se han eliminado todas las columnas que no sirven, y todos los datos que no son Capital y GBA"
   ]
  },
  {
   "cell_type": "code",
   "execution_count": 1,
   "metadata": {
    "collapsed": true
   },
   "outputs": [],
   "source": [
    "import pandas as pd\n",
    "import numpy as np"
   ]
  },
  {
   "cell_type": "code",
   "execution_count": null,
   "metadata": {
    "collapsed": true
   },
   "outputs": [],
   "source": [
    "propiedades = pd.read_csv('properati.csv')\n",
    "#propiedades = pd.read_csv('/home/agustin/Escritorio/escritorio/fiuba/Organizacion de datos/properati.csv')"
   ]
  },
  {
   "cell_type": "code",
   "execution_count": null,
   "metadata": {
    "collapsed": true
   },
   "outputs": [],
   "source": [
    "#Reemplazo todos los tipos de Palermo por uno unico\n",
    "\n",
    "propiedades.loc[propiedades.place_name.str.contains(\"Palermo\", na = False),'place_name'] = 'Palermo'\n",
    "propiedades.loc[propiedades.place_name.str.contains(\"Palermo\", na = False),'place_name'].value_counts()\n"
   ]
  },
  {
   "cell_type": "code",
   "execution_count": null,
   "metadata": {
    "collapsed": true
   },
   "outputs": [],
   "source": [
    "#Reemplazo todos los tipos de Lanus por uno unico\n",
    "\n",
    "propiedades.loc[(propiedades.place_name.str.contains(\"Lanus\", na = False)) | (propiedades.place_name.str.contains(\"Lanús\", na = False)),'place_name'] = 'Lanús'\n",
    "propiedades.loc[propiedades.place_name.str.contains(\"Lanús\", na = False),'place_name'].value_counts()\n"
   ]
  },
  {
   "cell_type": "code",
   "execution_count": 2,
   "metadata": {
    "collapsed": true
   },
   "outputs": [],
   "source": [
    "def unificar_superficie(fila):\n",
    "    s3,s2,s1 = fila\n",
    "    if (s3 and not np.isnan(s3)):\n",
    "        return s3\n",
    "    if (s2 and not np.isnan(s2)):\n",
    "        return s2\n",
    "    if (s1 and not np.isnan(s1)):\n",
    "        return s1\n",
    "    return np.nan\n"
   ]
  },
  {
   "cell_type": "code",
   "execution_count": null,
   "metadata": {
    "collapsed": true
   },
   "outputs": [],
   "source": [
    "#Unifico las superficies que estan en tres columnas\n",
    "\n",
    "propiedades.loc[:,'superficie'] = propiedades.loc[:,['surface_covered_in_m2','surface_in_m2','surface_total_in_m2']].apply(unificar_superficie, axis = 1)\n",
    "propiedades.drop(['surface_covered_in_m2','surface_in_m2','surface_total_in_m2'], axis = 1, inplace = True)\n"
   ]
  },
  {
   "cell_type": "code",
   "execution_count": 4,
   "metadata": {
    "collapsed": true
   },
   "outputs": [],
   "source": [
    "def calcularPrecioM2(fila):\n",
    "    \"\"\"Recibe una lista con precio total, superficie y precio por metro cuadrado,\n",
    "    y calcula este ultimo a partir de los anteriores, cuando es posible\"\"\"\n",
    "    precio_total, precio_m2, superficie = fila\n",
    "    if (np.isnan(precio_m2)):\n",
    "        if (superficie and not np.isnan(superficie)):\n",
    "            return precio_total/superficie\n",
    "    return precio_m2\n"
   ]
  },
  {
   "cell_type": "code",
   "execution_count": null,
   "metadata": {
    "collapsed": true
   },
   "outputs": [],
   "source": [
    "#Calculo el precio por metro cuadrado a partir del precio total y la superficie\n",
    "\n",
    "propiedades.loc[:,'price_usd_per_m2'] = propiedades.loc[:,['price_aprox_usd','price_usd_per_m2', 'superficie']].\\\n",
    "            apply(calcularPrecioM2,axis = 1)\n"
   ]
  },
  {
   "cell_type": "code",
   "execution_count": 6,
   "metadata": {
    "collapsed": true
   },
   "outputs": [],
   "source": [
    "def obtener_anio(fecha):\n",
    "    return int(fecha.split('-')[0])\n",
    "\n",
    "def obtener_mes(fecha):\n",
    "       return int(fecha.split('-')[1])"
   ]
  },
  {
   "cell_type": "code",
   "execution_count": null,
   "metadata": {
    "collapsed": true
   },
   "outputs": [],
   "source": [
    "#Calculo del anio y mes de publicacion\n",
    "\n",
    "propiedades.loc[:,'Year'] = propiedades.loc[:,'fecha_de_publicacion'].apply(obtener_anio)\n",
    "propiedades.loc[:,'Month'] = propiedades.loc[:,'fecha_de_publicacion'].apply(obtener_mes)"
   ]
  },
  {
   "cell_type": "code",
   "execution_count": null,
   "metadata": {
    "collapsed": true
   },
   "outputs": [],
   "source": [
    "#Calculo del anio y mes de creacion\n",
    "\n",
    "propiedades.loc[:,'Year_created'] = propiedades.loc[:,'created_on'].apply(obtener_anio)\n",
    "propiedades.loc[:,'Month_created'] = propiedades.loc[:,'created_on'].apply(obtener_mes)\n"
   ]
  },
  {
   "cell_type": "code",
   "execution_count": null,
   "metadata": {
    "collapsed": true
   },
   "outputs": [],
   "source": [
    "def distancia_entre_fechas(fila):\n",
    "    year, year_created, month, month_created = fila\n",
    "    return (month - month_created) + 12 * (year - year_created)\n",
    "    "
   ]
  },
  {
   "cell_type": "code",
   "execution_count": null,
   "metadata": {
    "collapsed": true
   },
   "outputs": [],
   "source": [
    "#Calculo la cantidad de meses que duro la publicacion\n",
    "\n",
    "propiedades.loc[:, 'cantidad_meses_publicado'] = propiedades.loc[:,['Year', 'Year_created', 'Month', 'Month_created']]\\\n",
    "        .apply(distancia_entre_fechas, axis = 1)"
   ]
  },
  {
   "cell_type": "code",
   "execution_count": 7,
   "metadata": {
    "collapsed": true
   },
   "outputs": [],
   "source": [
    "def convertir_expensas(fila):\n",
    "    \"\"\"Convierto las expensas a float, y si no se puede devuelve nan\"\"\"\n",
    "    try:\n",
    "        return float(fila)\n",
    "    except:\n",
    "        return np.nan\n"
   ]
  },
  {
   "cell_type": "code",
   "execution_count": null,
   "metadata": {
    "collapsed": true
   },
   "outputs": [],
   "source": [
    "#Convierto las expensas a float\n",
    "\n",
    "propiedades.loc[:,'expenses'] = propiedades.loc[:,'expenses'].apply(convertir_expensas)"
   ]
  },
  {
   "cell_type": "code",
   "execution_count": null,
   "metadata": {
    "collapsed": true
   },
   "outputs": [],
   "source": []
  }
 ],
 "metadata": {
  "kernelspec": {
   "display_name": "Python 3",
   "language": "python",
   "name": "python3"
  },
  "language_info": {
   "codemirror_mode": {
    "name": "ipython",
    "version": 3
   },
   "file_extension": ".py",
   "mimetype": "text/x-python",
   "name": "python",
   "nbconvert_exporter": "python",
   "pygments_lexer": "ipython3",
   "version": "3.6.1"
  }
 },
 "nbformat": 4,
 "nbformat_minor": 2
}
