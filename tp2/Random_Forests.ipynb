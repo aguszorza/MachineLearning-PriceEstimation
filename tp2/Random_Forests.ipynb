{
 "cells": [
  {
   "cell_type": "code",
   "execution_count": 1,
   "metadata": {
    "collapsed": true
   },
   "outputs": [],
   "source": [
    "import pandas as pd\n",
    "import numpy as np\n",
    "from sklearn.ensemble import RandomForestRegressor\n",
    "from sklearn.metrics import mean_squared_error\n",
    "\n",
    "import warnings\n",
    "warnings.simplefilter(\"ignore\", category=DeprecationWarning)"
   ]
  },
  {
   "cell_type": "code",
   "execution_count": 2,
   "metadata": {
    "collapsed": true
   },
   "outputs": [],
   "source": [
    "propiedades = pd.read_csv('/home/mati/Desktop/set_datos_propiedades.csv')"
   ]
  },
  {
   "cell_type": "code",
   "execution_count": 3,
   "metadata": {
    "collapsed": true
   },
   "outputs": [],
   "source": [
    "propiedades = propiedades.loc[(propiedades.price_aprox_usd.notnull()) & (propiedades.superficie.notnull()),\\\n",
    "                             ['place_name_encoded', 'property_type_encoded','price_aprox_usd','superficie',\\\n",
    "                             'Year','Month','seguridad','aire','gimnasio','cochera','pileta']]"
   ]
  },
  {
   "cell_type": "code",
   "execution_count": 4,
   "metadata": {},
   "outputs": [
    {
     "name": "stdout",
     "output_type": "stream",
     "text": [
      "<class 'pandas.core.frame.DataFrame'>\n",
      "Int64Index: 1132495 entries, 0 to 1413024\n",
      "Data columns (total 11 columns):\n",
      "place_name_encoded       1132495 non-null int64\n",
      "property_type_encoded    1132495 non-null int64\n",
      "price_aprox_usd          1132495 non-null float64\n",
      "superficie               1132495 non-null float64\n",
      "Year                     1132495 non-null int64\n",
      "Month                    1132495 non-null int64\n",
      "seguridad                1132495 non-null bool\n",
      "aire                     1132495 non-null bool\n",
      "gimnasio                 1132495 non-null bool\n",
      "cochera                  1132495 non-null bool\n",
      "pileta                   1132495 non-null bool\n",
      "dtypes: bool(5), float64(2), int64(4)\n",
      "memory usage: 65.9 MB\n"
     ]
    }
   ],
   "source": [
    "propiedades.info()"
   ]
  },
  {
   "cell_type": "markdown",
   "metadata": {},
   "source": [
    "# Random Forests"
   ]
  },
  {
   "cell_type": "code",
   "execution_count": 5,
   "metadata": {
    "collapsed": true
   },
   "outputs": [],
   "source": [
    "columnas = ['superficie','place_name_encoded','property_type_encoded','seguridad','gimnasio', 'aire', 'pileta', 'cochera']\n",
    "columnas_precio = columnas + ['price_aprox_usd']"
   ]
  },
  {
   "cell_type": "code",
   "execution_count": 6,
   "metadata": {
    "collapsed": true
   },
   "outputs": [],
   "source": [
    "set_entrenamiento = propiedades.loc[(propiedades.Year >= 2016) &((propiedades.Year < 2017) | (propiedades.Month < 6))\\\n",
    "                                    ,columnas_precio]\n",
    "set_pruebas = propiedades.loc[(propiedades.Year == 2017) & (propiedades.Month == 6),columnas_precio].head(20000)\n",
    "\n",
    "set_entrenamiento_datos = set_entrenamiento.loc[:,columnas]\n",
    "set_entrenamiento_resultado = set_entrenamiento.loc[:,'price_aprox_usd']"
   ]
  },
  {
   "cell_type": "code",
   "execution_count": 7,
   "metadata": {},
   "outputs": [
    {
     "name": "stdout",
     "output_type": "stream",
     "text": [
      "Precision = 86.83 % , error = 18173048430.320446\n"
     ]
    }
   ],
   "source": [
    "randomforest = RandomForestRegressor()\n",
    "randomforest.fit(set_entrenamiento_datos,set_entrenamiento_resultado)\n",
    "set_pruebas.loc[:,'resultado'] = set_pruebas.loc[:,columnas].apply(lambda x: randomforest.predict(x)[0],axis = 1)\n",
    "precision = randomforest.score(set_pruebas.loc[:,columnas],set_pruebas.price_aprox_usd) * 100\n",
    "error = mean_squared_error(set_pruebas.price_aprox_usd,set_pruebas.resultado)\n",
    "print(\"Precision = {:.2f} % , error = {}\".format(precision, error))"
   ]
  },
  {
   "cell_type": "markdown",
   "metadata": {},
   "source": [
    "## Ahora que tenemos una intuicion, probamos cambiando los parametros"
   ]
  },
  {
   "cell_type": "code",
   "execution_count": 8,
   "metadata": {
    "collapsed": true
   },
   "outputs": [],
   "source": [
    "columnas = ['superficie','place_name_encoded','property_type_encoded','seguridad','gimnasio', 'aire', 'pileta', 'cochera']\n",
    "columnas_precio = columnas + ['price_aprox_usd']"
   ]
  },
  {
   "cell_type": "code",
   "execution_count": 9,
   "metadata": {
    "collapsed": true
   },
   "outputs": [],
   "source": [
    "set_entrenamiento = propiedades.loc[(propiedades.Year >= 2016) &((propiedades.Year < 2017) | (propiedades.Month < 6))\\\n",
    "                                    ,columnas_precio]\n",
    "set_pruebas = propiedades.loc[(propiedades.Year == 2017) & (propiedades.Month == 6),columnas_precio].head(20000)\n",
    "\n",
    "set_entrenamiento_datos = set_entrenamiento.loc[:,columnas]\n",
    "set_entrenamiento_resultado = set_entrenamiento.loc[:,'price_aprox_usd']\n",
    "\n",
    "res = []"
   ]
  },
  {
   "cell_type": "code",
   "execution_count": 22,
   "metadata": {
    "collapsed": true
   },
   "outputs": [
    {
     "name": "stdout",
     "output_type": "stream",
     "text": [
      "18  -  0.4\n",
      "18  -  0.5\n",
      "19  -  0.4\n",
      "19  -  0.5\n",
      "21  -  0.4\n",
      "21  -  0.5\n",
      "22  -  0.4\n",
      "22  -  0.5\n",
      "23  -  0.4\n",
      "23  -  0.5\n",
      "24  -  0.4\n",
      "24  -  0.5\n",
      "25  -  0.4\n",
      "25  -  0.5\n"
     ]
    }
   ],
   "source": [
    "lista_arboles = [18,19,21,22,23,24,25]\n",
    "lista_feature = [0.4,0.5]\n",
    "\n",
    "for cant_arbol in lista_arboles:\n",
    "    for feature in lista_feature:\n",
    "        randomforest = RandomForestRegressor(n_estimators = cant_arbol, max_features = feature)\n",
    "        randomforest.fit(set_entrenamiento_datos,set_entrenamiento_resultado)\n",
    "        set_pruebas.loc[:,'resultado'] = set_pruebas.loc[:,columnas].apply(lambda x: randomforest.predict(x)[0],axis = 1)\n",
    "        precision = randomforest.score(set_pruebas.loc[:,columnas],set_pruebas.loc[:,'price_aprox_usd']) * 100\n",
    "        error = mean_squared_error(set_pruebas.price_aprox_usd,set_pruebas.resultado)\n",
    "        res.append((cant_arbol,feature,precision,error))\n",
    "        print(cant_arbol,' - ',feature)"
   ]
  },
  {
   "cell_type": "code",
   "execution_count": 23,
   "metadata": {},
   "outputs": [
    {
     "name": "stdout",
     "output_type": "stream",
     "text": [
      "Cant arboles = 5, % features = 0.7, precision = 84.56 % , error = 21303283909.34756\n",
      "Cant arboles = 5, % features = 0.8, precision = 86.98 % , error = 17965657840.70977\n",
      "Cant arboles = 5, % features = 1.0, precision = 85.78 % , error = 19620180384.3387\n",
      "Cant arboles = 10, % features = 0.7, precision = 87.80 % , error = 16829288107.881966\n",
      "Cant arboles = 10, % features = 0.8, precision = 88.25 % , error = 16211514021.839184\n",
      "Cant arboles = 10, % features = 1.0, precision = 87.08 % , error = 17828865003.33896\n",
      "Cant arboles = 15, % features = 0.7, precision = 88.11 % , error = 16405965237.87476\n",
      "Cant arboles = 15, % features = 0.8, precision = 87.22 % , error = 17635545323.111412\n",
      "Cant arboles = 15, % features = 1.0, precision = 87.26 % , error = 17575375715.987404\n",
      "Cant arboles = 20, % features = 0.7, precision = 87.63 % , error = 17063372312.071825\n",
      "Cant arboles = 20, % features = 0.8, precision = 87.91 % , error = 16677076812.98315\n",
      "Cant arboles = 20, % features = 1.0, precision = 86.92 % , error = 18044250553.40391\n",
      "Cant arboles = 30, % features = 0.7, precision = 87.71 % , error = 16958947979.915363\n",
      "Cant arboles = 30, % features = 0.8, precision = 88.57 % , error = 15773094392.332422\n",
      "Cant arboles = 30, % features = 1.0, precision = 87.94 % , error = 16643940293.77021\n",
      "Cant arboles = 5, % features = 0.4, precision = 86.52 % , error = 18598213787.643414\n",
      "Cant arboles = 5, % features = 0.5, precision = 86.15 % , error = 19103391440.53965\n",
      "Cant arboles = 5, % features = 0.6, precision = 86.92 % , error = 18050385827.928154\n",
      "Cant arboles = 10, % features = 0.4, precision = 87.46 % , error = 17304650798.835827\n",
      "Cant arboles = 10, % features = 0.5, precision = 88.19 % , error = 16289696850.103487\n",
      "Cant arboles = 10, % features = 0.6, precision = 87.55 % , error = 17169665077.522871\n",
      "Cant arboles = 15, % features = 0.4, precision = 88.17 % , error = 16316857705.948275\n",
      "Cant arboles = 15, % features = 0.5, precision = 87.24 % , error = 17603266948.080986\n",
      "Cant arboles = 15, % features = 0.6, precision = 87.74 % , error = 16913555625.744387\n",
      "Cant arboles = 20, % features = 0.4, precision = 88.63 % , error = 15692906830.660103\n",
      "Cant arboles = 20, % features = 0.5, precision = 87.42 % , error = 17351543668.745724\n",
      "Cant arboles = 20, % features = 0.6, precision = 87.36 % , error = 17431711330.453228\n",
      "Cant arboles = 30, % features = 0.4, precision = 88.16 % , error = 16340739261.424944\n",
      "Cant arboles = 30, % features = 0.5, precision = 87.84 % , error = 16779069238.602503\n",
      "Cant arboles = 30, % features = 0.6, precision = 87.38 % , error = 17406831401.020813\n",
      "Cant arboles = 50, % features = 0.4, precision = 87.89 % , error = 16710228687.085527\n",
      "Cant arboles = 50, % features = 0.6, precision = 87.91 % , error = 16679288522.212772\n",
      "Cant arboles = 50, % features = 0.8, precision = 88.05 % , error = 16487926508.155878\n",
      "Cant arboles = 50, % features = 1.0, precision = 87.44 % , error = 17321059542.031307\n",
      "Cant arboles = 18, % features = 0.4, precision = 88.53 % , error = 15830838873.991444\n",
      "Cant arboles = 18, % features = 0.5, precision = 88.16 % , error = 16336712427.297674\n",
      "Cant arboles = 19, % features = 0.4, precision = 87.88 % , error = 16721894480.959637\n",
      "Cant arboles = 19, % features = 0.5, precision = 87.38 % , error = 17404664640.63711\n",
      "Cant arboles = 21, % features = 0.4, precision = 87.78 % , error = 16858763894.230103\n",
      "Cant arboles = 21, % features = 0.5, precision = 88.19 % , error = 16298250593.146128\n",
      "Cant arboles = 22, % features = 0.4, precision = 88.09 % , error = 16428947152.626982\n",
      "Cant arboles = 22, % features = 0.5, precision = 87.65 % , error = 17040983828.000078\n",
      "Cant arboles = 23, % features = 0.4, precision = 88.21 % , error = 16258947736.727203\n",
      "Cant arboles = 23, % features = 0.5, precision = 88.04 % , error = 16505775665.00884\n",
      "Cant arboles = 24, % features = 0.4, precision = 87.53 % , error = 17206065274.7862\n",
      "Cant arboles = 24, % features = 0.5, precision = 87.50 % , error = 17242624399.563477\n",
      "Cant arboles = 25, % features = 0.4, precision = 87.47 % , error = 17290534497.767815\n",
      "Cant arboles = 25, % features = 0.5, precision = 87.83 % , error = 16794227611.830715\n"
     ]
    }
   ],
   "source": [
    "for r in res:\n",
    "    print(\"Cant arboles = {}, % features = {}, precision = {:.2f} % , error = {}\".format(r[0],r[1],r[2],r[3]))"
   ]
  },
  {
   "cell_type": "code",
   "execution_count": 24,
   "metadata": {},
   "outputs": [
    {
     "name": "stdout",
     "output_type": "stream",
     "text": [
      "Mayor precision = Cant arboles = 20, % features = 0.4, precision = 88.63 % , error = 15692906830.660103\n",
      "Menor error = Cant arboles = 20, % features = 0.4, precision = 88.63 % , error = 15692906830.660103\n"
     ]
    }
   ],
   "source": [
    "min_error = float('inf')\n",
    "max_precision = 0\n",
    "tupla_min_error = ()\n",
    "tupla_max_precision = ()\n",
    "for r in res:\n",
    "    if r[3] < min_error:\n",
    "        min_error = r[3]\n",
    "        tupla_min_error = r\n",
    "    if r[2] > max_precision:\n",
    "        max_precision = r[2]\n",
    "        tupla_max_precision = r\n",
    "        \n",
    "print(\"Mayor precision = Cant arboles = {}, % features = {}, precision = {:.2f} % , error = {}\".\\\n",
    "              format(tupla_max_precision[0],tupla_max_precision[1],tupla_max_precision[2],tupla_max_precision[3]))\n",
    "print(\"Menor error = Cant arboles = {}, % features = {}, precision = {:.2f} % , error = {}\".\\\n",
    "              format(tupla_min_error[0],tupla_min_error[1],tupla_min_error[2],tupla_min_error[3]))"
   ]
  },
  {
   "cell_type": "markdown",
   "metadata": {},
   "source": [
    "## Tomamos features = 0.4 y  cant = 20"
   ]
  },
  {
   "cell_type": "code",
   "execution_count": 39,
   "metadata": {
    "collapsed": true
   },
   "outputs": [],
   "source": [
    "#Probamos con varias combinaciones de columnas, y esta fue la de mejores resultados\n",
    "\n",
    "columnas = ['superficie','place_name_encoded','property_type_encoded','seguridad','gimnasio','aire','pileta','cochera']\n",
    "columnas_precio = columnas + ['price_aprox_usd']"
   ]
  },
  {
   "cell_type": "code",
   "execution_count": 40,
   "metadata": {
    "collapsed": true
   },
   "outputs": [],
   "source": [
    "set_entrenamiento = propiedades.loc[(propiedades.Year >= 2016) &((propiedades.Year < 2017) | (propiedades.Month < 6))\\\n",
    "                                    ,columnas_precio]\n",
    "set_pruebas = propiedades.loc[(propiedades.Year == 2017) & (propiedades.Month == 6),columnas_precio].head(20000)\n",
    "\n",
    "set_entrenamiento_datos = set_entrenamiento.loc[:,columnas]\n",
    "set_entrenamiento_resultado = set_entrenamiento.loc[:,'price_aprox_usd']"
   ]
  },
  {
   "cell_type": "code",
   "execution_count": 41,
   "metadata": {
    "collapsed": true
   },
   "outputs": [],
   "source": [
    "cant_arbol = 20\n",
    "feature = 0.4"
   ]
  },
  {
   "cell_type": "code",
   "execution_count": 42,
   "metadata": {},
   "outputs": [
    {
     "name": "stdout",
     "output_type": "stream",
     "text": [
      "Precision = 88.21 % , error = 16268143364.99585\n"
     ]
    }
   ],
   "source": [
    "randomforest = RandomForestRegressor(n_estimators = cant_arbol, max_features = feature)\n",
    "randomforest.fit(set_entrenamiento_datos,set_entrenamiento_resultado)\n",
    "set_pruebas.loc[:,'resultado'] = set_pruebas.loc[:,columnas].apply(lambda x: randomforest.predict(x)[0],axis = 1)\n",
    "precision = randomforest.score(set_pruebas.loc[:,columnas],set_pruebas.price_aprox_usd) * 100\n",
    "error = mean_squared_error(set_pruebas.price_aprox_usd,set_pruebas.resultado)\n",
    "print(\"Precision = {:.2f} % , error = {}\".format(precision, error))"
   ]
  },
  {
   "cell_type": "markdown",
   "metadata": {},
   "source": [
    "# calculo con los verdaderos datos a analizar"
   ]
  },
  {
   "cell_type": "code",
   "execution_count": 43,
   "metadata": {
    "collapsed": true
   },
   "outputs": [],
   "source": [
    "analizar = pd.read_csv(\"/home/mati/Desktop/properati_dataset_modificado.csv\")"
   ]
  },
  {
   "cell_type": "code",
   "execution_count": 44,
   "metadata": {
    "collapsed": true
   },
   "outputs": [],
   "source": [
    "analizar.loc[:,'price_usd'] = analizar.loc[:,columnas].apply(lambda x: randomforest.predict(x)[0],axis = 1)"
   ]
  },
  {
   "cell_type": "code",
   "execution_count": 45,
   "metadata": {
    "collapsed": true
   },
   "outputs": [],
   "source": [
    "resultado = analizar.loc[:,['id','price_usd']]"
   ]
  },
  {
   "cell_type": "code",
   "execution_count": 46,
   "metadata": {
    "collapsed": true
   },
   "outputs": [],
   "source": [
    "resultado.to_csv('Random_Forests_resultados', index = False)"
   ]
  }
 ],
 "metadata": {
  "kernelspec": {
   "display_name": "Python 3",
   "language": "python",
   "name": "python3"
  },
  "language_info": {
   "codemirror_mode": {
    "name": "ipython",
    "version": 3
   },
   "file_extension": ".py",
   "mimetype": "text/x-python",
   "name": "python",
   "nbconvert_exporter": "python",
   "pygments_lexer": "ipython3",
   "version": "3.6.1"
  }
 },
 "nbformat": 4,
 "nbformat_minor": 2
}
