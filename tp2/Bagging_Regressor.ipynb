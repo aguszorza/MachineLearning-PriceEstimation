{
 "cells": [
  {
   "cell_type": "code",
   "execution_count": 1,
   "metadata": {
    "collapsed": true
   },
   "outputs": [],
   "source": [
    "import pandas as pd\n",
    "import numpy as np\n",
    "from sklearn.metrics import mean_squared_error\n",
    "from sklearn.ensemble import BaggingRegressor\n",
    "\n",
    "import warnings\n",
    "warnings.simplefilter(\"ignore\", category=DeprecationWarning)"
   ]
  },
  {
   "cell_type": "code",
   "execution_count": 2,
   "metadata": {
    "collapsed": true
   },
   "outputs": [],
   "source": [
    "propiedades = pd.read_csv('/home/mati/Desktop/set_datos_propiedades.csv')"
   ]
  },
  {
   "cell_type": "code",
   "execution_count": 3,
   "metadata": {
    "collapsed": true
   },
   "outputs": [],
   "source": [
    "propiedades = propiedades.loc[(propiedades.price_aprox_usd.notnull()) & (propiedades.superficie.notnull()),\\\n",
    "                             ['place_name_encoded', 'property_type_encoded','price_aprox_usd','superficie',\\\n",
    "                             'Year','Month','seguridad','aire','gimnasio','cochera','pileta']]"
   ]
  },
  {
   "cell_type": "code",
   "execution_count": 4,
   "metadata": {},
   "outputs": [
    {
     "name": "stdout",
     "output_type": "stream",
     "text": [
      "<class 'pandas.core.frame.DataFrame'>\n",
      "Int64Index: 1132495 entries, 0 to 1413024\n",
      "Data columns (total 11 columns):\n",
      "place_name_encoded       1132495 non-null int64\n",
      "property_type_encoded    1132495 non-null int64\n",
      "price_aprox_usd          1132495 non-null float64\n",
      "superficie               1132495 non-null float64\n",
      "Year                     1132495 non-null int64\n",
      "Month                    1132495 non-null int64\n",
      "seguridad                1132495 non-null bool\n",
      "aire                     1132495 non-null bool\n",
      "gimnasio                 1132495 non-null bool\n",
      "cochera                  1132495 non-null bool\n",
      "pileta                   1132495 non-null bool\n",
      "dtypes: bool(5), float64(2), int64(4)\n",
      "memory usage: 65.9 MB\n"
     ]
    }
   ],
   "source": [
    "propiedades.info()"
   ]
  },
  {
   "cell_type": "markdown",
   "metadata": {},
   "source": [
    "# Bagging Regressor"
   ]
  },
  {
   "cell_type": "code",
   "execution_count": 5,
   "metadata": {
    "collapsed": true
   },
   "outputs": [],
   "source": [
    "columnas = ['superficie','place_name_encoded','property_type_encoded','seguridad','gimnasio', 'aire', 'pileta', 'cochera']\n",
    "columnas_precio = columnas + ['price_aprox_usd']"
   ]
  },
  {
   "cell_type": "code",
   "execution_count": 6,
   "metadata": {
    "collapsed": true
   },
   "outputs": [],
   "source": [
    "set_entrenamiento = propiedades.loc[(propiedades.Year >= 2016) &((propiedades.Year < 2017) | (propiedades.Month < 6))\\\n",
    "                                    ,columnas_precio]\n",
    "set_pruebas = propiedades.loc[(propiedades.Year == 2017) & (propiedades.Month == 6),columnas_precio].head(20000)\n",
    "\n",
    "set_entrenamiento_datos = set_entrenamiento.loc[:,columnas]\n",
    "set_entrenamiento_resultado = set_entrenamiento.loc[:,'price_aprox_usd']"
   ]
  },
  {
   "cell_type": "code",
   "execution_count": 7,
   "metadata": {},
   "outputs": [
    {
     "name": "stdout",
     "output_type": "stream",
     "text": [
      "Precision = 85.47 % , error = 20048219881.71454\n"
     ]
    }
   ],
   "source": [
    "bag = BaggingRegressor()\n",
    "bag.fit(set_entrenamiento_datos,set_entrenamiento_resultado)\n",
    "set_pruebas.loc[:,'resultado'] = set_pruebas.loc[:,columnas].apply(lambda x: bag.predict(x)[0],axis = 1)\n",
    "precision = bag.score(set_pruebas.loc[:,columnas],set_pruebas.price_aprox_usd) * 100\n",
    "error = mean_squared_error(set_pruebas.price_aprox_usd,set_pruebas.resultado)\n",
    "print(\"Precision = {:.2f} % , error = {}\".format(precision, error))"
   ]
  },
  {
   "cell_type": "markdown",
   "metadata": {},
   "source": [
    "### Ahora que tenemos una intuicion, probamos variando los parametros"
   ]
  },
  {
   "cell_type": "code",
   "execution_count": 8,
   "metadata": {
    "collapsed": true
   },
   "outputs": [],
   "source": [
    "columnas = ['superficie','place_name_encoded','property_type_encoded','seguridad','gimnasio', 'aire', 'pileta', 'cochera']\n",
    "columnas_precio = columnas + ['price_aprox_usd']"
   ]
  },
  {
   "cell_type": "code",
   "execution_count": 9,
   "metadata": {
    "collapsed": true
   },
   "outputs": [],
   "source": [
    "set_entrenamiento = propiedades.loc[(propiedades.Year >= 2016) &((propiedades.Year < 2017) | (propiedades.Month < 6))\\\n",
    "                                    ,columnas_precio]\n",
    "set_pruebas = propiedades.loc[(propiedades.Year == 2017) & (propiedades.Month == 6),columnas_precio].head(20000)\n",
    "\n",
    "set_entrenamiento_datos = set_entrenamiento.loc[:,columnas]\n",
    "set_entrenamiento_resultado = set_entrenamiento.loc[:,'price_aprox_usd']\n",
    "\n",
    "res = []"
   ]
  },
  {
   "cell_type": "code",
   "execution_count": 14,
   "metadata": {
    "collapsed": true,
    "scrolled": false
   },
   "outputs": [],
   "source": [
    "lista_estimators = [60,100]\n",
    "lista_samples = [1.0,0.8,0.6]\n",
    "lista_features = [1.0,0.7,0.5]\n",
    "\n",
    "for estimator in lista_estimators:\n",
    "    for sample in lista_samples:\n",
    "        for feature in lista_features:\n",
    "            bag = BaggingRegressor(n_estimators = estimator, max_samples = sample, max_features = feature)\n",
    "            bag.fit(set_entrenamiento_datos,set_entrenamiento_resultado)\n",
    "            set_pruebas.loc[:,'resultado'] = set_pruebas.loc[:,columnas].apply(lambda x: bag.predict(x)[0],axis = 1)\n",
    "            precision = bag.score(set_pruebas.loc[:,columnas],set_pruebas.price_aprox_usd) * 100\n",
    "            error = mean_squared_error(set_pruebas.price_aprox_usd,set_pruebas.resultado)\n",
    "            res.append((estimator,sample,feature,precision,error))\n",
    "            print(estimator,' - ',sample,' - ',feature)"
   ]
  },
  {
   "cell_type": "code",
   "execution_count": 15,
   "metadata": {},
   "outputs": [
    {
     "name": "stdout",
     "output_type": "stream",
     "text": [
      "estimator = 5, sample = 1.0, feature = 1.0, precision = 84.66 % ,error = 21165263855.557373\n",
      "estimator = 5, sample = 1.0, feature = 0.7, precision = 73.85 % ,error = 36082398204.61202\n",
      "estimator = 5, sample = 1.0, feature = 0.5, precision = 50.50 % ,error = 68290148675.160324\n",
      "estimator = 5, sample = 0.8, feature = 1.0, precision = 85.39 % ,error = 20157385553.401493\n",
      "estimator = 5, sample = 0.8, feature = 0.7, precision = 63.98 % ,error = 49695832898.52946\n",
      "estimator = 5, sample = 0.8, feature = 0.5, precision = 40.39 % ,error = 82241128407.55803\n",
      "estimator = 5, sample = 0.6, feature = 1.0, precision = 80.32 % ,error = 27148648359.931187\n",
      "estimator = 5, sample = 0.6, feature = 0.7, precision = 62.62 % ,error = 51571637501.82258\n",
      "estimator = 5, sample = 0.6, feature = 0.5, precision = 42.16 % ,error = 79794947337.227\n",
      "estimator = 10, sample = 1.0, feature = 1.0, precision = 87.29 % ,error = 17534216742.50338\n",
      "estimator = 10, sample = 1.0, feature = 0.7, precision = 69.06 % ,error = 42685566934.176414\n",
      "estimator = 10, sample = 1.0, feature = 0.5, precision = 74.33 % ,error = 35407506130.14339\n",
      "estimator = 10, sample = 0.8, feature = 1.0, precision = 84.43 % ,error = 21481069516.563118\n",
      "estimator = 10, sample = 0.8, feature = 0.7, precision = 63.74 % ,error = 50023885884.95025\n",
      "estimator = 10, sample = 0.8, feature = 0.5, precision = 66.30 % ,error = 46497886164.766235\n",
      "estimator = 10, sample = 0.6, feature = 1.0, precision = 82.46 % ,error = 24201655074.431267\n",
      "estimator = 10, sample = 0.6, feature = 0.7, precision = 72.83 % ,error = 37478191783.413185\n",
      "estimator = 10, sample = 0.6, feature = 0.5, precision = 65.21 % ,error = 47990908966.513\n",
      "estimator = 20, sample = 1.0, feature = 1.0, precision = 87.05 % ,error = 17859608660.69891\n",
      "estimator = 20, sample = 1.0, feature = 0.7, precision = 67.72 % ,error = 44539487654.563416\n",
      "estimator = 20, sample = 1.0, feature = 0.5, precision = 61.12 % ,error = 53638828882.65004\n",
      "estimator = 20, sample = 0.8, feature = 1.0, precision = 84.63 % ,error = 21210218616.055077\n",
      "estimator = 20, sample = 0.8, feature = 0.7, precision = 70.16 % ,error = 41167022588.15812\n",
      "estimator = 20, sample = 0.8, feature = 0.5, precision = 51.17 % ,error = 67368008219.67965\n",
      "estimator = 20, sample = 0.6, feature = 1.0, precision = 83.56 % ,error = 22686665864.457443\n",
      "estimator = 20, sample = 0.6, feature = 0.7, precision = 67.21 % ,error = 45230278222.76151\n",
      "estimator = 20, sample = 0.6, feature = 0.5, precision = 45.01 % ,error = 75859082645.98653\n",
      "estimator = 30, sample = 1.0, feature = 1.0, precision = 87.16 % ,error = 17714702331.082565\n",
      "estimator = 30, sample = 1.0, feature = 0.7, precision = 73.83 % ,error = 36108674605.438255\n",
      "estimator = 30, sample = 1.0, feature = 0.5, precision = 60.88 % ,error = 53972253734.06708\n",
      "estimator = 30, sample = 0.8, feature = 1.0, precision = 86.11 % ,error = 19163395465.547764\n",
      "estimator = 30, sample = 0.8, feature = 0.7, precision = 70.18 % ,error = 41136529710.51033\n",
      "estimator = 30, sample = 0.8, feature = 0.5, precision = 55.99 % ,error = 60715606843.9968\n",
      "estimator = 30, sample = 0.6, feature = 1.0, precision = 84.09 % ,error = 21946738237.59942\n",
      "estimator = 30, sample = 0.6, feature = 0.7, precision = 64.81 % ,error = 48552320078.18359\n",
      "estimator = 30, sample = 0.6, feature = 0.5, precision = 50.88 % ,error = 67761261349.555016\n",
      "estimator = 60, sample = 1.0, feature = 1.0, precision = 87.43 % ,error = 17346064976.98822\n",
      "estimator = 60, sample = 1.0, feature = 0.7, precision = 67.40 % ,error = 44980483639.0629\n",
      "estimator = 60, sample = 1.0, feature = 0.5, precision = 60.75 % ,error = 54143215055.509674\n",
      "estimator = 60, sample = 0.8, feature = 1.0, precision = 86.05 % ,error = 19249936487.197155\n",
      "estimator = 60, sample = 0.8, feature = 0.7, precision = 70.41 % ,error = 40822987061.48008\n",
      "estimator = 60, sample = 0.8, feature = 0.5, precision = 62.34 % ,error = 51961065281.763565\n",
      "estimator = 60, sample = 0.6, feature = 1.0, precision = 83.83 % ,error = 22305254819.311764\n",
      "estimator = 60, sample = 0.6, feature = 0.7, precision = 66.71 % ,error = 45932202483.5116\n",
      "estimator = 60, sample = 0.6, feature = 0.5, precision = 59.16 % ,error = 56338014250.33275\n",
      "estimator = 100, sample = 1.0, feature = 1.0, precision = 87.96 % ,error = 16615483933.183722\n",
      "estimator = 100, sample = 1.0, feature = 0.7, precision = 71.16 % ,error = 39787559274.16356\n",
      "estimator = 100, sample = 1.0, feature = 0.5, precision = 60.35 % ,error = 54706221794.8018\n"
     ]
    }
   ],
   "source": [
    "for r in res:\n",
    "    print (\"estimator = {}, sample = {}, feature = {}, precision = {:.2f} % ,error = {}\".format(r[0],r[1],r[2],r[3],r[4]))"
   ]
  },
  {
   "cell_type": "code",
   "execution_count": 16,
   "metadata": {},
   "outputs": [
    {
     "name": "stdout",
     "output_type": "stream",
     "text": [
      "Mayor precision = estimator = 5, sample = 1.0, feature = 1.0, precision = 84.66 % ,error = 21165263855.557373\n",
      "Menor error = estimator = 5, sample = 0.8, feature = 0.5, precision = 40.39 % ,error = 82241128407.55803\n"
     ]
    }
   ],
   "source": [
    "min_error = float('inf')\n",
    "max_precision = 0\n",
    "tupla_min_error = ()\n",
    "tupla_max_precision = ()\n",
    "for r in res:\n",
    "    if r[3] < min_error:\n",
    "        min_error = r[3]\n",
    "        tupla_min_error = r\n",
    "    if r[2] > max_precision:\n",
    "        max_precision = r[2]\n",
    "        tupla_max_precision = r\n",
    "        \n",
    "print(\"Mayor precision = estimator = {}, sample = {}, feature = {}, precision = {:.2f} % ,error = {}\".\\\n",
    "              format(tupla_max_precision[0],tupla_max_precision[1],tupla_max_precision[2],tupla_max_precision[3],tupla_max_precision[4]))\n",
    "print(\"Menor error = estimator = {}, sample = {}, feature = {}, precision = {:.2f} % ,error = {}\".\\\n",
    "              format(tupla_min_error[0],tupla_min_error[1],tupla_min_error[2],tupla_min_error[3],tupla_min_error[4]))"
   ]
  },
  {
   "cell_type": "markdown",
   "metadata": {},
   "source": [
    "# Elegimos estimator = 5, sample = 1, feature = 1"
   ]
  },
  {
   "cell_type": "code",
   "execution_count": 64,
   "metadata": {
    "collapsed": true
   },
   "outputs": [],
   "source": [
    "#Probamos varias combinaciones de columnas, la de mejor resultado fue esta\n",
    "\n",
    "columnas = ['superficie','place_name_encoded','property_type_encoded','seguridad','gimnasio','aire','pileta','cochera']\n",
    "columnas_precio = columnas + ['price_aprox_usd']"
   ]
  },
  {
   "cell_type": "code",
   "execution_count": 65,
   "metadata": {
    "collapsed": true
   },
   "outputs": [],
   "source": [
    "set_entrenamiento = propiedades.loc[(propiedades.Year >= 2015) &((propiedades.Year < 2017) | (propiedades.Month < 6))\\\n",
    "                                    ,columnas_precio]\n",
    "set_pruebas = propiedades.loc[(propiedades.Year == 2017) & (propiedades.Month == 6),columnas_precio].head(20000)\n",
    "\n",
    "set_entrenamiento_datos = set_entrenamiento.loc[:,columnas]\n",
    "set_entrenamiento_resultado = set_entrenamiento.loc[:,'price_aprox_usd']"
   ]
  },
  {
   "cell_type": "code",
   "execution_count": 66,
   "metadata": {
    "collapsed": true
   },
   "outputs": [],
   "source": [
    "estimator = 5\n",
    "sample = 1.0\n",
    "feature = 1.0"
   ]
  },
  {
   "cell_type": "code",
   "execution_count": 67,
   "metadata": {},
   "outputs": [
    {
     "name": "stdout",
     "output_type": "stream",
     "text": [
      "Precision = 88.12 % , error = 16395593552.139215\n"
     ]
    }
   ],
   "source": [
    "bag = BaggingRegressor(n_estimators = estimator, max_samples = sample, max_features = feature)\n",
    "bag.fit(set_entrenamiento_datos,set_entrenamiento_resultado)\n",
    "set_pruebas.loc[:,'resultado'] = set_pruebas.loc[:,columnas].apply(lambda x: bag.predict(x)[0],axis = 1)\n",
    "precision = bag.score(set_pruebas.loc[:,columnas],set_pruebas.price_aprox_usd) * 100\n",
    "error = mean_squared_error(set_pruebas.price_aprox_usd,set_pruebas.resultado)\n",
    "print(\"Precision = {:.2f} % , error = {}\".format(precision, error))"
   ]
  },
  {
   "cell_type": "markdown",
   "metadata": {},
   "source": [
    "# Calculamos los verdaderos datos"
   ]
  },
  {
   "cell_type": "code",
   "execution_count": 68,
   "metadata": {
    "collapsed": true
   },
   "outputs": [],
   "source": [
    "analizar = pd.read_csv('/home/mati/Desktop/properati_dataset_modificado.csv')"
   ]
  },
  {
   "cell_type": "code",
   "execution_count": 69,
   "metadata": {
    "collapsed": true
   },
   "outputs": [],
   "source": [
    "analizar.loc[:,'price_usd'] = analizar.loc[:,columnas].apply(lambda x: bag.predict(x)[0],axis = 1)"
   ]
  },
  {
   "cell_type": "code",
   "execution_count": 70,
   "metadata": {
    "collapsed": true
   },
   "outputs": [],
   "source": [
    "resultado = analizar.loc[:,['id','price_usd']]"
   ]
  },
  {
   "cell_type": "code",
   "execution_count": 71,
   "metadata": {
    "collapsed": true
   },
   "outputs": [],
   "source": [
    "resultado.to_csv('Bagging_Regresor_resultados.csv', index = False)"
   ]
  },
  {
   "cell_type": "markdown",
   "metadata": {},
   "source": [
    "# Ahora uso lat y lon en lugar de place name"
   ]
  },
  {
   "cell_type": "code",
   "execution_count": 2,
   "metadata": {
    "collapsed": true
   },
   "outputs": [],
   "source": [
    "propiedades = pd.read_csv('/home/mati/Desktop/set_datos_propiedades.csv')"
   ]
  },
  {
   "cell_type": "code",
   "execution_count": 3,
   "metadata": {
    "collapsed": true
   },
   "outputs": [],
   "source": [
    "propiedades = propiedades.loc[(propiedades.price_aprox_usd.notnull()) & (propiedades.superficie.notnull())\\\n",
    "                              & (propiedades.lat.notnull()) & (propiedades.lon.notnull()),\\\n",
    "                             ['lat', 'lon', 'property_type_encoded','price_aprox_usd','superficie',\\\n",
    "                             'Year','Month','seguridad','aire','gimnasio','cochera','pileta']]"
   ]
  },
  {
   "cell_type": "code",
   "execution_count": 4,
   "metadata": {
    "collapsed": true
   },
   "outputs": [],
   "source": [
    "columnas = ['superficie','lat', 'lon','property_type_encoded','seguridad','gimnasio', 'aire', 'pileta', 'cochera']\n",
    "columnas_precio = columnas + ['price_aprox_usd']"
   ]
  },
  {
   "cell_type": "code",
   "execution_count": 6,
   "metadata": {
    "collapsed": true
   },
   "outputs": [],
   "source": [
    "set_entrenamiento = propiedades.loc[(propiedades.Year >= 2016) &((propiedades.Year < 2017) | (propiedades.Month < 6))\\\n",
    "                                    ,columnas_precio]\n",
    "set_pruebas = propiedades.loc[(propiedades.Year == 2017) & (propiedades.Month == 6),columnas_precio].head(20000)\n",
    "\n",
    "set_entrenamiento_datos = set_entrenamiento.loc[:,columnas]\n",
    "set_entrenamiento_resultado = set_entrenamiento.loc[:,'price_aprox_usd']"
   ]
  },
  {
   "cell_type": "code",
   "execution_count": 7,
   "metadata": {},
   "outputs": [
    {
     "name": "stdout",
     "output_type": "stream",
     "text": [
      "Precision = 95.73 % , error = 4943209822.381698\n"
     ]
    }
   ],
   "source": [
    "bag = BaggingRegressor()\n",
    "bag.fit(set_entrenamiento_datos,set_entrenamiento_resultado)\n",
    "set_pruebas.loc[:,'resultado'] = set_pruebas.loc[:,columnas].apply(lambda x: bag.predict(x)[0],axis = 1)\n",
    "precision = bag.score(set_pruebas.loc[:,columnas],set_pruebas.price_aprox_usd) * 100\n",
    "error = mean_squared_error(set_pruebas.price_aprox_usd,set_pruebas.resultado)\n",
    "print(\"Precision = {:.2f} % , error = {}\".format(precision, error))"
   ]
  },
  {
   "cell_type": "code",
   "execution_count": 8,
   "metadata": {
    "collapsed": true
   },
   "outputs": [],
   "source": [
    "res = []"
   ]
  },
  {
   "cell_type": "code",
   "execution_count": 9,
   "metadata": {
    "collapsed": true
   },
   "outputs": [
    {
     "name": "stdout",
     "output_type": "stream",
     "text": [
      "5  -  1.0  -  1.0\n",
      "5  -  1.0  -  0.7\n",
      "5  -  1.0  -  0.5\n",
      "5  -  0.8  -  1.0\n",
      "5  -  0.8  -  0.7\n",
      "5  -  0.8  -  0.5\n",
      "5  -  0.6  -  1.0\n",
      "5  -  0.6  -  0.7\n",
      "5  -  0.6  -  0.5\n",
      "10  -  1.0  -  1.0\n",
      "10  -  1.0  -  0.7\n",
      "10  -  1.0  -  0.5\n",
      "10  -  0.8  -  1.0\n",
      "10  -  0.8  -  0.7\n",
      "10  -  0.8  -  0.5\n",
      "10  -  0.6  -  1.0\n",
      "10  -  0.6  -  0.7\n",
      "10  -  0.6  -  0.5\n",
      "20  -  1.0  -  1.0\n",
      "20  -  1.0  -  0.7\n",
      "20  -  1.0  -  0.5\n",
      "20  -  0.8  -  1.0\n",
      "20  -  0.8  -  0.7\n",
      "20  -  0.8  -  0.5\n",
      "20  -  0.6  -  1.0\n",
      "20  -  0.6  -  0.7\n",
      "20  -  0.6  -  0.5\n",
      "30  -  1.0  -  1.0\n",
      "30  -  1.0  -  0.7\n",
      "30  -  1.0  -  0.5\n",
      "30  -  0.8  -  1.0\n",
      "30  -  0.8  -  0.7\n",
      "30  -  0.8  -  0.5\n",
      "30  -  0.6  -  1.0\n",
      "30  -  0.6  -  0.7\n",
      "30  -  0.6  -  0.5\n",
      "60  -  1.0  -  1.0\n",
      "60  -  1.0  -  0.7\n",
      "60  -  1.0  -  0.5\n",
      "60  -  0.8  -  1.0\n",
      "60  -  0.8  -  0.7\n",
      "60  -  0.8  -  0.5\n",
      "60  -  0.6  -  1.0\n",
      "60  -  0.6  -  0.7\n",
      "60  -  0.6  -  0.5\n"
     ]
    }
   ],
   "source": [
    "lista_estimators = [5,10,20,30,60]\n",
    "lista_samples = [1.0,0.8,0.6]\n",
    "lista_features = [1.0,0.7,0.5]\n",
    "\n",
    "for estimator in lista_estimators:\n",
    "    for sample in lista_samples:\n",
    "        for feature in lista_features:\n",
    "            bag = BaggingRegressor(n_estimators = estimator, max_samples = sample, max_features = feature)\n",
    "            bag.fit(set_entrenamiento_datos,set_entrenamiento_resultado)\n",
    "            set_pruebas.loc[:,'resultado'] = set_pruebas.loc[:,columnas].apply(lambda x: bag.predict(x)[0],axis = 1)\n",
    "            precision = bag.score(set_pruebas.loc[:,columnas],set_pruebas.price_aprox_usd) * 100\n",
    "            error = mean_squared_error(set_pruebas.price_aprox_usd,set_pruebas.resultado)\n",
    "            res.append((estimator,sample,feature,precision,error))\n",
    "            print(estimator,' - ',sample,' - ',feature)"
   ]
  },
  {
   "cell_type": "code",
   "execution_count": 10,
   "metadata": {},
   "outputs": [
    {
     "name": "stdout",
     "output_type": "stream",
     "text": [
      "estimator = 5, sample = 1.0, feature = 1.0, precision = 94.95 % ,error = 5842586565.634796\n",
      "estimator = 5, sample = 1.0, feature = 0.7, precision = 93.00 % ,error = 8102370802.097091\n",
      "estimator = 5, sample = 1.0, feature = 0.5, precision = 75.84 % ,error = 27975154372.92071\n",
      "estimator = 5, sample = 0.8, feature = 1.0, precision = 92.69 % ,error = 8459730763.015385\n",
      "estimator = 5, sample = 0.8, feature = 0.7, precision = 90.59 % ,error = 10895870717.338966\n",
      "estimator = 5, sample = 0.8, feature = 0.5, precision = 81.22 % ,error = 21747450863.43158\n",
      "estimator = 5, sample = 0.6, feature = 1.0, precision = 92.36 % ,error = 8847762756.185787\n",
      "estimator = 5, sample = 0.6, feature = 0.7, precision = 88.11 % ,error = 13765182715.10855\n",
      "estimator = 5, sample = 0.6, feature = 0.5, precision = 78.40 % ,error = 25014997141.053345\n",
      "estimator = 10, sample = 1.0, feature = 1.0, precision = 95.90 % ,error = 4745785723.037289\n",
      "estimator = 10, sample = 1.0, feature = 0.7, precision = 92.27 % ,error = 8953670001.352488\n",
      "estimator = 10, sample = 1.0, feature = 0.5, precision = 84.87 % ,error = 17520624207.958576\n",
      "estimator = 10, sample = 0.8, feature = 1.0, precision = 93.38 % ,error = 7660251821.292604\n",
      "estimator = 10, sample = 0.8, feature = 0.7, precision = 88.73 % ,error = 13050664062.510199\n",
      "estimator = 10, sample = 0.8, feature = 0.5, precision = 77.22 % ,error = 26375218009.08994\n",
      "estimator = 10, sample = 0.6, feature = 1.0, precision = 91.45 % ,error = 9905095016.88114\n",
      "estimator = 10, sample = 0.6, feature = 0.7, precision = 89.49 % ,error = 12168698455.24577\n",
      "estimator = 10, sample = 0.6, feature = 0.5, precision = 73.70 % ,error = 30450986259.416325\n",
      "estimator = 20, sample = 1.0, feature = 1.0, precision = 96.14 % ,error = 4468729566.503309\n",
      "estimator = 20, sample = 1.0, feature = 0.7, precision = 92.72 % ,error = 8432706644.8643675\n",
      "estimator = 20, sample = 1.0, feature = 0.5, precision = 82.98 % ,error = 19703754238.989227\n",
      "estimator = 20, sample = 0.8, feature = 1.0, precision = 94.78 % ,error = 6048456049.711218\n",
      "estimator = 20, sample = 0.8, feature = 0.7, precision = 91.79 % ,error = 9509607869.212143\n",
      "estimator = 20, sample = 0.8, feature = 0.5, precision = 80.98 % ,error = 22022231057.955173\n",
      "estimator = 20, sample = 0.6, feature = 1.0, precision = 92.67 % ,error = 8483766331.610672\n",
      "estimator = 20, sample = 0.6, feature = 0.7, precision = 90.45 % ,error = 11061035271.980768\n",
      "estimator = 20, sample = 0.6, feature = 0.5, precision = 86.53 % ,error = 15592934141.674816\n",
      "estimator = 30, sample = 1.0, feature = 1.0, precision = 95.77 % ,error = 4892259993.314855\n",
      "estimator = 30, sample = 1.0, feature = 0.7, precision = 93.31 % ,error = 7746785658.211445\n",
      "estimator = 30, sample = 1.0, feature = 0.5, precision = 80.65 % ,error = 22404977358.98009\n",
      "estimator = 30, sample = 0.8, feature = 1.0, precision = 93.35 % ,error = 7702798135.855139\n",
      "estimator = 30, sample = 0.8, feature = 0.7, precision = 92.14 % ,error = 9096718844.963242\n",
      "estimator = 30, sample = 0.8, feature = 0.5, precision = 82.64 % ,error = 20098687581.30263\n",
      "estimator = 30, sample = 0.6, feature = 1.0, precision = 92.73 % ,error = 8418075463.524656\n",
      "estimator = 30, sample = 0.6, feature = 0.7, precision = 90.41 % ,error = 11109083463.414913\n",
      "estimator = 30, sample = 0.6, feature = 0.5, precision = 79.24 % ,error = 24032045012.488564\n",
      "estimator = 60, sample = 1.0, feature = 1.0, precision = 96.11 % ,error = 4508370829.384074\n",
      "estimator = 60, sample = 1.0, feature = 0.7, precision = 94.30 % ,error = 6595587460.764771\n",
      "estimator = 60, sample = 1.0, feature = 0.5, precision = 88.13 % ,error = 13740677071.90423\n",
      "estimator = 60, sample = 0.8, feature = 1.0, precision = 94.78 % ,error = 6046684167.497876\n",
      "estimator = 60, sample = 0.8, feature = 0.7, precision = 93.44 % ,error = 7599783981.001286\n",
      "estimator = 60, sample = 0.8, feature = 0.5, precision = 83.93 % ,error = 18608016537.14508\n",
      "estimator = 60, sample = 0.6, feature = 1.0, precision = 93.00 % ,error = 8105011207.118859\n",
      "estimator = 60, sample = 0.6, feature = 0.7, precision = 90.89 % ,error = 10549131453.51489\n",
      "estimator = 60, sample = 0.6, feature = 0.5, precision = 78.93 % ,error = 24390237534.55508\n"
     ]
    }
   ],
   "source": [
    "for r in res:\n",
    "    print (\"estimator = {}, sample = {}, feature = {}, precision = {:.2f} % ,error = {}\".format(r[0],r[1],r[2],r[3],r[4]))"
   ]
  },
  {
   "cell_type": "code",
   "execution_count": 11,
   "metadata": {},
   "outputs": [
    {
     "name": "stdout",
     "output_type": "stream",
     "text": [
      "Mayor precision = estimator = 5, sample = 1.0, feature = 1.0, precision = 94.95 % ,error = 5842586565.634796\n",
      "Menor error = estimator = 10, sample = 0.6, feature = 0.5, precision = 73.70 % ,error = 30450986259.416325\n"
     ]
    }
   ],
   "source": [
    "min_error = float('inf')\n",
    "max_precision = 0\n",
    "tupla_min_error = ()\n",
    "tupla_max_precision = ()\n",
    "for r in res:\n",
    "    if r[3] < min_error:\n",
    "        min_error = r[3]\n",
    "        tupla_min_error = r\n",
    "    if r[2] > max_precision:\n",
    "        max_precision = r[2]\n",
    "        tupla_max_precision = r\n",
    "        \n",
    "print(\"Mayor precision = estimator = {}, sample = {}, feature = {}, precision = {:.2f} % ,error = {}\".\\\n",
    "              format(tupla_max_precision[0],tupla_max_precision[1],tupla_max_precision[2],tupla_max_precision[3],tupla_max_precision[4]))\n",
    "print(\"Menor error = estimator = {}, sample = {}, feature = {}, precision = {:.2f} % ,error = {}\".\\\n",
    "              format(tupla_min_error[0],tupla_min_error[1],tupla_min_error[2],tupla_min_error[3],tupla_min_error[4]))"
   ]
  },
  {
   "cell_type": "markdown",
   "metadata": {},
   "source": [
    "# Elegimos estimator = 5, sample = 1, feature = 1"
   ]
  },
  {
   "cell_type": "code",
   "execution_count": 47,
   "metadata": {
    "collapsed": true
   },
   "outputs": [],
   "source": [
    "#Probamos distintas combinaciones de columnas, esta es la que dio mejores resultados\n",
    "\n",
    "columnas = ['superficie','lat', 'lon','seguridad','gimnasio', 'aire', 'pileta', 'cochera']\n",
    "columnas_precio = columnas + ['price_aprox_usd']"
   ]
  },
  {
   "cell_type": "code",
   "execution_count": 48,
   "metadata": {
    "collapsed": true
   },
   "outputs": [],
   "source": [
    "set_entrenamiento = propiedades.loc[(propiedades.Year >= 2016) &((propiedades.Year < 2017) | (propiedades.Month < 6))\\\n",
    "                                    ,columnas_precio]\n",
    "set_pruebas = propiedades.loc[(propiedades.Year == 2017) & (propiedades.Month == 6),columnas_precio].head(20000)\n",
    "\n",
    "set_entrenamiento_datos = set_entrenamiento.loc[:,columnas]\n",
    "set_entrenamiento_resultado = set_entrenamiento.loc[:,'price_aprox_usd']"
   ]
  },
  {
   "cell_type": "code",
   "execution_count": 49,
   "metadata": {
    "collapsed": true
   },
   "outputs": [],
   "source": [
    "estimator = 5\n",
    "sample = 1.0\n",
    "feature = 1.0"
   ]
  },
  {
   "cell_type": "code",
   "execution_count": 50,
   "metadata": {},
   "outputs": [
    {
     "name": "stdout",
     "output_type": "stream",
     "text": [
      "Precision = 95.75 % , error = 4925943468.576762\n"
     ]
    }
   ],
   "source": [
    "bag = BaggingRegressor(n_estimators = estimator, max_samples = sample, max_features = feature)\n",
    "bag.fit(set_entrenamiento_datos,set_entrenamiento_resultado)\n",
    "set_pruebas.loc[:,'resultado'] = set_pruebas.loc[:,columnas].apply(lambda x: bag.predict(x)[0],axis = 1)\n",
    "precision = bag.score(set_pruebas.loc[:,columnas],set_pruebas.price_aprox_usd) * 100\n",
    "error = mean_squared_error(set_pruebas.price_aprox_usd,set_pruebas.resultado)\n",
    "print(\"Precision = {:.2f} % , error = {}\".format(precision, error))"
   ]
  },
  {
   "cell_type": "markdown",
   "metadata": {},
   "source": [
    "# Calculo de los verdaderos datos a analizar"
   ]
  },
  {
   "cell_type": "code",
   "execution_count": 51,
   "metadata": {
    "collapsed": true
   },
   "outputs": [],
   "source": [
    "analizar = pd.read_csv(\"/home/mati/Desktop/properati_dataset_modificado.csv\")"
   ]
  },
  {
   "cell_type": "code",
   "execution_count": 52,
   "metadata": {
    "collapsed": true
   },
   "outputs": [],
   "source": [
    "analizar.loc[:,'price_usd'] = analizar.loc[:,columnas].apply(lambda x: bag.predict(x)[0],axis = 1)"
   ]
  },
  {
   "cell_type": "code",
   "execution_count": 53,
   "metadata": {
    "collapsed": true
   },
   "outputs": [],
   "source": [
    "resultado = analizar.loc[:,['id','price_usd']]\n",
    "\n",
    "resultado.to_csv('resultados/Bagging_Regresor_2.csv', index = False)"
   ]
  }
 ],
 "metadata": {
  "kernelspec": {
   "display_name": "Python 3",
   "language": "python",
   "name": "python3"
  },
  "language_info": {
   "codemirror_mode": {
    "name": "ipython",
    "version": 3
   },
   "file_extension": ".py",
   "mimetype": "text/x-python",
   "name": "python",
   "nbconvert_exporter": "python",
   "pygments_lexer": "ipython3",
   "version": "3.6.1"
  }
 },
 "nbformat": 4,
 "nbformat_minor": 2
}
