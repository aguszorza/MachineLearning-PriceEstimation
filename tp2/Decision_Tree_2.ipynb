{
 "cells": [
  {
   "cell_type": "markdown",
   "metadata": {},
   "source": [
    "## La idea es no calcular los datos faltantes. Voy calculando el precio con la mayor cantidad de datos posibles de los que tengo.\n",
    "\n",
    "#### Si el dato esta fuera de la restriccion (ej: sup = 567) lo cuento como NAN"
   ]
  },
  {
   "cell_type": "code",
   "execution_count": 1,
   "metadata": {
    "collapsed": true
   },
   "outputs": [],
   "source": [
    "import pandas as pd\n",
    "import numpy as np\n",
    "from sklearn.tree import DecisionTreeRegressor\n",
    "from sklearn.metrics import mean_squared_error\n",
    "from sklearn.model_selection import GridSearchCV\n",
    "from sklearn.externals import joblib\n",
    "import time\n",
    "\n",
    "import warnings\n",
    "warnings.simplefilter(\"ignore\", category=DeprecationWarning)"
   ]
  },
  {
   "cell_type": "markdown",
   "metadata": {},
   "source": [
    "# Pruebo sin poner promedios en superficies o lat lon faltantes"
   ]
  },
  {
   "cell_type": "code",
   "execution_count": 2,
   "metadata": {
    "collapsed": true
   },
   "outputs": [],
   "source": [
    "propiedades = pd.read_csv('../../datos_propiedades.csv')\n",
    "\n",
    "sup_min = 10\n",
    "sup_max = 300\n",
    "lat_min = -35\n",
    "lat_max = -34\n",
    "lon_min = -59\n",
    "lon_max = -58\n",
    "precio_min = 30000\n",
    "precio_max = 3000000\n",
    "\n",
    "set_pruebas = pd.read_csv(\"../properati_dataset_modificado3.csv\")\n",
    "set_pruebas.loc[:,'price_usd'] = 0.0"
   ]
  },
  {
   "cell_type": "code",
   "execution_count": 3,
   "metadata": {},
   "outputs": [
    {
     "name": "stdout",
     "output_type": "stream",
     "text": [
      "0-1-2-3-4-5-6-7-8-9-10-11-12-13-14-"
     ]
    }
   ],
   "source": [
    "cant = 15\n",
    "col = ['superficie','lat', 'lon','property_type_encoded']\n",
    "comodidades = ['seguridad','gimnasio','aire','pileta','cochera','transporte','comercio','servicios','doble piso','jardin']\n",
    "\n",
    "condiciones = (set_pruebas.superficie.notnull()) & (set_pruebas.lat.notnull()) & (set_pruebas.lon.notnull())\n",
    "\n",
    "for i in range(cant):\n",
    "    com = list(np.random.choice(comodidades,6,replace = False))\n",
    "    columnas = col + com\n",
    "    set_entrenamiento_datos = propiedades.loc[:,columnas]\n",
    "    set_entrenamiento_resultado = propiedades.loc[:,'price_aprox_usd']\n",
    "    \n",
    "    tree = DecisionTreeRegressor(criterion = 'mse', max_depth = 100, max_features = 0.8)\n",
    "    \n",
    "    tree.fit(set_entrenamiento_datos,set_entrenamiento_resultado)\n",
    "    set_pruebas.loc[condiciones,'price_usd'] = set_pruebas.loc[condiciones,'price_usd'] + \\\n",
    "            set_pruebas.loc[condiciones,columnas].apply(lambda x: tree.predict([x])[0],axis = 1)\n",
    "    print(i,end = '-')\n",
    "\n",
    "set_pruebas.loc[condiciones,'price_usd'] = set_pruebas.loc[condiciones,'price_usd'] / cant"
   ]
  },
  {
   "cell_type": "markdown",
   "metadata": {},
   "source": [
    "### Calculo para los que no tienen superficie pero si lat y lon"
   ]
  },
  {
   "cell_type": "code",
   "execution_count": 4,
   "metadata": {
    "collapsed": true
   },
   "outputs": [],
   "source": [
    "condiciones = (set_pruebas.price_usd == 0) & (set_pruebas.lat.notnull()) & (set_pruebas.lon.notnull())"
   ]
  },
  {
   "cell_type": "code",
   "execution_count": 5,
   "metadata": {},
   "outputs": [
    {
     "name": "stdout",
     "output_type": "stream",
     "text": [
      "0-1-2-3-4-5-6-7-8-9-10-11-12-13-14-"
     ]
    }
   ],
   "source": [
    "cant = 15\n",
    "col = ['lat', 'lon','property_type_encoded']\n",
    "comodidades = ['seguridad','gimnasio','aire','pileta','cochera','transporte','comercio','servicios','doble piso','jardin']\n",
    "\n",
    "for i in range(cant):\n",
    "    com = list(np.random.choice(comodidades,6,replace = False))\n",
    "    columnas = col + com\n",
    "    set_entrenamiento_datos = propiedades.loc[:,columnas]\n",
    "    set_entrenamiento_resultado = propiedades.loc[:,'price_aprox_usd']\n",
    "    \n",
    "    tree = DecisionTreeRegressor(criterion = 'mse', max_depth = 100, max_features = 0.8)\n",
    "    \n",
    "    tree.fit(set_entrenamiento_datos,set_entrenamiento_resultado)\n",
    "    set_pruebas.loc[condiciones,'price_usd'] = set_pruebas.loc[condiciones,'price_usd'] + \\\n",
    "            set_pruebas.loc[condiciones,columnas].apply(lambda x: tree.predict([x])[0],axis = 1)\n",
    "    print(i,end = '-')\n",
    "\n",
    "set_pruebas.loc[condiciones,'price_usd'] = set_pruebas.loc[condiciones,'price_usd'] / cant"
   ]
  },
  {
   "cell_type": "markdown",
   "metadata": {},
   "source": [
    "### Calculo para los que tienen superficie pero no lat y lon, y son de capital (state_name)"
   ]
  },
  {
   "cell_type": "code",
   "execution_count": 6,
   "metadata": {
    "collapsed": true
   },
   "outputs": [],
   "source": [
    "condiciones = (set_pruebas.price_usd == 0) & (set_pruebas.superficie.notnull()) \\\n",
    "                        & (set_pruebas.capital == True)"
   ]
  },
  {
   "cell_type": "code",
   "execution_count": 7,
   "metadata": {},
   "outputs": [
    {
     "name": "stdout",
     "output_type": "stream",
     "text": [
      "0-1-2-3-4-5-6-7-8-9-10-11-12-13-14-"
     ]
    }
   ],
   "source": [
    "propiedades = pd.read_csv('../../datos_propiedades.csv')\n",
    "propiedades = propiedades.loc[propiedades.capital == True]\n",
    "\n",
    "cant = 15\n",
    "col = ['superficie','property_type_encoded']\n",
    "comodidades = ['distancia_subtes', 'distancia_monumentos', 'Zona_inundacion', 'distancia_estadios', 'distancia_villas',\\\n",
    "           'seguridad','gimnasio','aire','pileta','cochera','comercio','transporte','servicios','jardin','doble piso']\n",
    "\n",
    "for i in range(cant):\n",
    "    n = np.random.randint(6,12)\n",
    "    com = list(np.random.choice(comodidades,n,replace = False))\n",
    "    columnas = col + com\n",
    "    set_entrenamiento_datos = propiedades.loc[:,columnas]\n",
    "    set_entrenamiento_resultado = propiedades.loc[:,'price_aprox_usd']\n",
    "    \n",
    "    tree = DecisionTreeRegressor(criterion = 'mse', max_depth = 100, max_features = 0.8)\n",
    "    \n",
    "    tree.fit(set_entrenamiento_datos,set_entrenamiento_resultado)\n",
    "    set_pruebas.loc[condiciones,'price_usd'] = set_pruebas.loc[condiciones,'price_usd'] +\\\n",
    "            set_pruebas.loc[condiciones,columnas].apply(lambda x: tree.predict([x])[0],axis = 1)\n",
    "    print(i,end = '-')\n",
    "    \n",
    "set_pruebas.loc[condiciones,'price_usd'] = set_pruebas.loc[condiciones,'price_usd'] / cant"
   ]
  },
  {
   "cell_type": "markdown",
   "metadata": {},
   "source": [
    "### Calculo para los que tienen superficie pero no lat y lon, y no son de capital (state_name)"
   ]
  },
  {
   "cell_type": "code",
   "execution_count": 8,
   "metadata": {
    "collapsed": true
   },
   "outputs": [],
   "source": [
    "condiciones = (set_pruebas.price_usd == 0) & (set_pruebas.superficie.notnull())"
   ]
  },
  {
   "cell_type": "code",
   "execution_count": 9,
   "metadata": {
    "collapsed": true
   },
   "outputs": [],
   "source": [
    "propiedades = pd.read_csv('../../datos_propiedades.csv')\n",
    "propiedades = propiedades.loc[propiedades.capital == False]"
   ]
  },
  {
   "cell_type": "code",
   "execution_count": 10,
   "metadata": {},
   "outputs": [
    {
     "name": "stdout",
     "output_type": "stream",
     "text": [
      "0-1-2-3-4-5-6-7-8-9-10-11-12-13-14-"
     ]
    }
   ],
   "source": [
    "cant = 15\n",
    "col = ['superficie','property_type_encoded']\n",
    "comodidades = ['seguridad','gimnasio','aire','pileta','cochera','transporte','comercio','servicios','doble piso','jardin']\n",
    "\n",
    "for i in range(cant):\n",
    "    n = np.random.randint(5,8)\n",
    "    com = list(np.random.choice(comodidades,n,replace = False))\n",
    "    columnas = col + com\n",
    "    set_entrenamiento_datos = propiedades.loc[:,columnas]\n",
    "    set_entrenamiento_resultado = propiedades.loc[:,'price_aprox_usd']\n",
    "    \n",
    "    tree = DecisionTreeRegressor(criterion = 'mse', max_depth = 100, max_features = 0.8)\n",
    "    \n",
    "    tree.fit(set_entrenamiento_datos,set_entrenamiento_resultado)\n",
    "    set_pruebas.loc[condiciones,'price_usd'] = set_pruebas.loc[condiciones,'price_usd']\\\n",
    "            + set_pruebas.loc[condiciones,columnas].apply(lambda x: tree.predict([x])[0],axis = 1)\n",
    "    print(i,end = '-')\n",
    "    \n",
    "set_pruebas.loc[condiciones,'price_usd'] = set_pruebas.loc[condiciones,'price_usd'] / cant"
   ]
  },
  {
   "cell_type": "markdown",
   "metadata": {},
   "source": [
    "### Calculo para los que no tienen superficie ni lat y lon, y son de capital (state_name)"
   ]
  },
  {
   "cell_type": "code",
   "execution_count": 11,
   "metadata": {
    "collapsed": true
   },
   "outputs": [],
   "source": [
    "condiciones = (set_pruebas.price_usd == 0) & (set_pruebas.capital == True)"
   ]
  },
  {
   "cell_type": "code",
   "execution_count": 12,
   "metadata": {},
   "outputs": [
    {
     "name": "stdout",
     "output_type": "stream",
     "text": [
      "0-1-2-3-4-5-6-7-8-9-10-11-12-13-14-"
     ]
    }
   ],
   "source": [
    "propiedades = pd.read_csv('../../datos_propiedades.csv')\n",
    "propiedades = propiedades.loc[propiedades.capital == True]\n",
    "\n",
    "cant = 15\n",
    "col = ['property_type_encoded']\n",
    "comodidades = ['distancia_subtes', 'distancia_monumentos', 'Zona_inundacion', 'distancia_estadios', 'distancia_villas',\\\n",
    "           'seguridad','gimnasio','aire','pileta','cochera','comercio','transporte','servicios','jardin','doble piso']\n",
    "\n",
    "for i in range(cant):\n",
    "    n = np.random.randint(7,12)\n",
    "    com = list(np.random.choice(comodidades,n,replace = False))\n",
    "    columnas = col + com\n",
    "    set_entrenamiento_datos = propiedades.loc[:,columnas]\n",
    "    set_entrenamiento_resultado = propiedades.loc[:,'price_aprox_usd']\n",
    "    \n",
    "    tree = DecisionTreeRegressor(criterion = 'mse', max_depth = 100, max_features = 0.8)\n",
    "    \n",
    "    tree.fit(set_entrenamiento_datos,set_entrenamiento_resultado)\n",
    "    set_pruebas.loc[condiciones,'price_usd'] = set_pruebas.loc[condiciones,'price_usd'] +\\\n",
    "            set_pruebas.loc[condiciones,columnas].apply(lambda x: tree.predict([x])[0],axis = 1)\n",
    "    print(i,end = '-')\n",
    "    \n",
    "set_pruebas.loc[condiciones,'price_usd'] = set_pruebas.loc[condiciones,'price_usd'] / cant"
   ]
  },
  {
   "cell_type": "markdown",
   "metadata": {},
   "source": [
    "### Calculo para los que no tienen superficie ni lat y lon, y no son de capital (state_name)"
   ]
  },
  {
   "cell_type": "code",
   "execution_count": 13,
   "metadata": {
    "collapsed": true
   },
   "outputs": [],
   "source": [
    "condiciones = (set_pruebas.price_usd == 0)"
   ]
  },
  {
   "cell_type": "code",
   "execution_count": 14,
   "metadata": {
    "collapsed": true
   },
   "outputs": [],
   "source": [
    "propiedades = pd.read_csv('../../datos_propiedades.csv')\n",
    "propiedades = propiedades.loc[propiedades.capital == False]"
   ]
  },
  {
   "cell_type": "code",
   "execution_count": 15,
   "metadata": {},
   "outputs": [
    {
     "name": "stdout",
     "output_type": "stream",
     "text": [
      "0-1-2-3-4-5-6-7-8-9-10-11-12-13-14-"
     ]
    }
   ],
   "source": [
    "cant = 15\n",
    "col = ['property_type_encoded']\n",
    "comodidades = ['seguridad','gimnasio','aire','pileta','cochera','transporte','comercio','servicios','doble piso','jardin']\n",
    "\n",
    "for i in range(cant):\n",
    "    n = np.random.randint(5,8)\n",
    "    com = list(np.random.choice(comodidades,n,replace = False))\n",
    "    columnas = col + com\n",
    "    set_entrenamiento_datos = propiedades.loc[:,columnas]\n",
    "    set_entrenamiento_resultado = propiedades.loc[:,'price_aprox_usd']\n",
    "    \n",
    "    tree = DecisionTreeRegressor(criterion = 'mse', max_depth = 100, max_features = 0.8)\n",
    "    \n",
    "    tree.fit(set_entrenamiento_datos,set_entrenamiento_resultado)\n",
    "    set_pruebas.loc[condiciones,'price_usd'] = set_pruebas.loc[condiciones,'price_usd']\\\n",
    "            + set_pruebas.loc[condiciones,columnas].apply(lambda x: tree.predict([x])[0],axis = 1)\n",
    "    print(i,end = '-')\n",
    "    \n",
    "set_pruebas.loc[condiciones,'price_usd'] = set_pruebas.loc[condiciones,'price_usd'] / cant"
   ]
  },
  {
   "cell_type": "markdown",
   "metadata": {},
   "source": [
    "### Resultado final"
   ]
  },
  {
   "cell_type": "code",
   "execution_count": 16,
   "metadata": {},
   "outputs": [
    {
     "data": {
      "text/html": [
       "<div>\n",
       "<style>\n",
       "    .dataframe thead tr:only-child th {\n",
       "        text-align: right;\n",
       "    }\n",
       "\n",
       "    .dataframe thead th {\n",
       "        text-align: left;\n",
       "    }\n",
       "\n",
       "    .dataframe tbody tr th {\n",
       "        vertical-align: top;\n",
       "    }\n",
       "</style>\n",
       "<table border=\"1\" class=\"dataframe\">\n",
       "  <thead>\n",
       "    <tr style=\"text-align: right;\">\n",
       "      <th></th>\n",
       "      <th>id</th>\n",
       "      <th>price_usd</th>\n",
       "    </tr>\n",
       "  </thead>\n",
       "  <tbody>\n",
       "    <tr>\n",
       "      <th>count</th>\n",
       "      <td>1.416600e+04</td>\n",
       "      <td>1.416600e+04</td>\n",
       "    </tr>\n",
       "    <tr>\n",
       "      <th>mean</th>\n",
       "      <td>2.285382e+06</td>\n",
       "      <td>1.936209e+05</td>\n",
       "    </tr>\n",
       "    <tr>\n",
       "      <th>std</th>\n",
       "      <td>4.290968e+04</td>\n",
       "      <td>1.647987e+05</td>\n",
       "    </tr>\n",
       "    <tr>\n",
       "      <th>min</th>\n",
       "      <td>3.632000e+03</td>\n",
       "      <td>3.517032e+04</td>\n",
       "    </tr>\n",
       "    <tr>\n",
       "      <th>25%</th>\n",
       "      <td>2.271809e+06</td>\n",
       "      <td>9.870979e+04</td>\n",
       "    </tr>\n",
       "    <tr>\n",
       "      <th>50%</th>\n",
       "      <td>2.290284e+06</td>\n",
       "      <td>1.442160e+05</td>\n",
       "    </tr>\n",
       "    <tr>\n",
       "      <th>75%</th>\n",
       "      <td>2.309395e+06</td>\n",
       "      <td>2.292599e+05</td>\n",
       "    </tr>\n",
       "    <tr>\n",
       "      <th>max</th>\n",
       "      <td>2.332338e+06</td>\n",
       "      <td>3.000000e+06</td>\n",
       "    </tr>\n",
       "  </tbody>\n",
       "</table>\n",
       "</div>"
      ],
      "text/plain": [
       "                 id     price_usd\n",
       "count  1.416600e+04  1.416600e+04\n",
       "mean   2.285382e+06  1.936209e+05\n",
       "std    4.290968e+04  1.647987e+05\n",
       "min    3.632000e+03  3.517032e+04\n",
       "25%    2.271809e+06  9.870979e+04\n",
       "50%    2.290284e+06  1.442160e+05\n",
       "75%    2.309395e+06  2.292599e+05\n",
       "max    2.332338e+06  3.000000e+06"
      ]
     },
     "execution_count": 16,
     "metadata": {},
     "output_type": "execute_result"
    }
   ],
   "source": [
    "resultado = set_pruebas.loc[:,['id','price_usd']]\n",
    "\n",
    "resultado.to_csv('resultados/Decision_tree_separandoTODO.csv', index = False)\n",
    "resultado.describe()"
   ]
  },
  {
   "cell_type": "markdown",
   "metadata": {},
   "source": [
    "# .............................................."
   ]
  },
  {
   "cell_type": "code",
   "execution_count": 6,
   "metadata": {},
   "outputs": [
    {
     "data": {
      "text/plain": [
       "count    14166.000000\n",
       "mean       120.606241\n",
       "std        113.037456\n",
       "min         10.000000\n",
       "25%         47.000000\n",
       "50%         74.000000\n",
       "75%        150.000000\n",
       "max        500.000000\n",
       "Name: superficie, dtype: float64"
      ]
     },
     "execution_count": 6,
     "metadata": {},
     "output_type": "execute_result"
    }
   ],
   "source": [
    "a = pd.read_csv(\"../properati_dataset_modificado.csv\")\n",
    "set_pruebas = pd.read_csv(\"../properati_dataset_modificado2.csv\")\n",
    "def normalizar_sup(s):\n",
    "    if s < sup_min:\n",
    "        return sup_min\n",
    "    if s > sup_max:\n",
    "        return sup_max\n",
    "    return s\n",
    "sup_min = 10\n",
    "sup_max = 500\n",
    "lat_min = -35\n",
    "lat_max = -34\n",
    "lon_min = -59\n",
    "lon_max = -58\n",
    "precio_min = 30000\n",
    "precio_max = 3000000\n",
    "\n",
    "set_pruebas.loc[:,'superficie'] = a.loc[:,'superficie'].apply(lambda x: normalizar_sup(x))\n",
    "set_pruebas.loc[:,'superficie'].describe()"
   ]
  },
  {
   "cell_type": "code",
   "execution_count": 8,
   "metadata": {},
   "outputs": [
    {
     "name": "stdout",
     "output_type": "stream",
     "text": [
      "0-1-2-3-4-5-6-7-8-9-"
     ]
    }
   ],
   "source": [
    "propiedades = pd.read_csv('../../datos_con_fecha.csv')\n",
    "\n",
    "sup_min = 10\n",
    "sup_max = 500\n",
    "lat_min = -35\n",
    "lat_max = -34\n",
    "lon_min = -59\n",
    "lon_max = -58\n",
    "precio_min = 30000\n",
    "precio_max = 3000000\n",
    "\n",
    "propiedades = propiedades.loc[(propiedades.price_aprox_usd.notnull()) & (propiedades.superficie.notnull())\\\n",
    "                              & (propiedades.lat.notnull()) & (propiedades.lon.notnull()) & (propiedades.Year >=2017)\\\n",
    "                        & (propiedades.price_aprox_usd <= precio_max) & (propiedades.price_aprox_usd >= precio_min) &\\\n",
    "                         (propiedades.superficie <= sup_max) & (propiedades.superficie >= sup_min) &\\\n",
    "                      (propiedades.lat <= lat_max) & (propiedades.lat >= lat_min) &\\\n",
    "                       (propiedades.lon <= lon_max) & (propiedades.lon >= lon_min),:]\n",
    "\n",
    "set_pruebas.loc[:,'price_usd'] = 0.0\n",
    "cant = 10\n",
    "col = ['superficie','lat', 'lon','property_type_encoded']\n",
    "comodidades = ['seguridad','gimnasio','aire','pileta','cochera']\n",
    "\n",
    "for i in range(cant):\n",
    "    com = list(np.random.choice(comodidades,4,replace = False))\n",
    "    columnas = col + com\n",
    "    set_entrenamiento_datos = propiedades.loc[:,columnas]\n",
    "    set_entrenamiento_resultado = propiedades.loc[:,'price_aprox_usd']\n",
    "    \n",
    "    tree = DecisionTreeRegressor(criterion = 'mse', max_depth = 100, max_features = 0.8)\n",
    "    \n",
    "    tree.fit(set_entrenamiento_datos,set_entrenamiento_resultado)\n",
    "    set_pruebas.loc[:,'res'] = set_pruebas.loc[:,columnas].apply(lambda x: tree.predict([x])[0],axis = 1)\n",
    "    set_pruebas.loc[:,'price_usd'] = set_pruebas.loc[:,'price_usd'] + set_pruebas.loc[:,'res']\n",
    "    print(i,end = '-')\n",
    "set_pruebas.loc[:,'price_usd'] = set_pruebas.loc[:,'price_usd'] / cant\n",
    "\n",
    "resultado = set_pruebas.loc[:,['id','price_usd']]\n",
    "\n",
    "resultado.to_csv('resultados/Decision_tree_menosColumnas_sup500.csv', index = False)"
   ]
  }
 ],
 "metadata": {
  "kernelspec": {
   "display_name": "Python 3",
   "language": "python",
   "name": "python3"
  },
  "language_info": {
   "codemirror_mode": {
    "name": "ipython",
    "version": 3
   },
   "file_extension": ".py",
   "mimetype": "text/x-python",
   "name": "python",
   "nbconvert_exporter": "python",
   "pygments_lexer": "ipython3",
   "version": "3.6.1"
  }
 },
 "nbformat": 4,
 "nbformat_minor": 2
}
