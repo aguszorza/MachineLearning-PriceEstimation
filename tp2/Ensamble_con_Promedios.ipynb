{
 "cells": [
  {
   "cell_type": "code",
   "execution_count": 1,
   "metadata": {
    "collapsed": true
   },
   "outputs": [],
   "source": [
    "import pandas as pd\n",
    "import numpy as np\n",
    "from sklearn.metrics import mean_squared_error\n",
    "\n",
    "import warnings\n",
    "warnings.simplefilter(\"ignore\", category=DeprecationWarning)"
   ]
  },
  {
   "cell_type": "code",
   "execution_count": 2,
   "metadata": {
    "collapsed": true
   },
   "outputs": [],
   "source": [
    "from sklearn.ensemble import BaggingRegressor\n",
    "from sklearn.ensemble import AdaBoostRegressor\n",
    "from sklearn.tree import DecisionTreeRegressor\n",
    "from sklearn.neighbors import KNeighborsRegressor\n",
    "from sklearn.neural_network import MLPRegressor\n",
    "from sklearn.ensemble import RandomForestRegressor"
   ]
  },
  {
   "cell_type": "code",
   "execution_count": 3,
   "metadata": {
    "collapsed": true
   },
   "outputs": [],
   "source": [
    "propiedades = pd.read_csv('/home/mati/Desktop/set_datos_propiedades.csv')"
   ]
  },
  {
   "cell_type": "code",
   "execution_count": 4,
   "metadata": {
    "collapsed": true
   },
   "outputs": [],
   "source": [
    "propiedades = propiedades.loc[(propiedades.price_aprox_usd.notnull()) & (propiedades.superficie.notnull()),\\\n",
    "                             ['place_name_encoded', 'property_type_encoded','price_aprox_usd','superficie',\\\n",
    "                             'Year','Month','seguridad','aire','gimnasio','cochera','pileta']]"
   ]
  },
  {
   "cell_type": "code",
   "execution_count": 5,
   "metadata": {
    "collapsed": true
   },
   "outputs": [],
   "source": [
    "columnas = ['superficie','place_name_encoded','property_type_encoded','seguridad','gimnasio', 'aire', 'pileta', 'cochera']\n",
    "columnas_precio = columnas + ['price_aprox_usd']"
   ]
  },
  {
   "cell_type": "code",
   "execution_count": 6,
   "metadata": {
    "collapsed": true
   },
   "outputs": [],
   "source": [
    "set_entrenamiento = propiedades.loc[(propiedades.Year >= 2016) &((propiedades.Year < 2017) | (propiedades.Month < 6))\\\n",
    "                                    ,columnas_precio]\n",
    "set_pruebas = propiedades.loc[(propiedades.Year == 2017) & (propiedades.Month == 6),columnas_precio].head(20000)\n",
    "\n",
    "set_entrenamiento_datos = set_entrenamiento.loc[:,columnas]\n",
    "set_entrenamiento_resultado = set_entrenamiento.loc[:,'price_aprox_usd']"
   ]
  },
  {
   "cell_type": "markdown",
   "metadata": {},
   "source": [
    "# Calculo los distintos algoritmos con los parametros que mejor resultado nos dio"
   ]
  },
  {
   "cell_type": "code",
   "execution_count": 7,
   "metadata": {
    "collapsed": true
   },
   "outputs": [],
   "source": [
    "### Bagging regressor\n",
    "\n",
    "bag = BaggingRegressor(n_estimators = 5, max_samples = 1.0, max_features = 1.0)\n",
    "bag.fit(set_entrenamiento_datos,set_entrenamiento_resultado)\n",
    "set_pruebas.loc[:,'resultado_Bagging_Regressor'] = set_pruebas.loc[:,columnas].apply(lambda x: bag.predict(x)[0],axis = 1)"
   ]
  },
  {
   "cell_type": "code",
   "execution_count": 8,
   "metadata": {
    "collapsed": true
   },
   "outputs": [],
   "source": [
    "### Ada boost\n",
    "\n",
    "ada = AdaBoostRegressor(n_estimators = 3, loss = 'square')\n",
    "ada.fit(set_entrenamiento_datos,set_entrenamiento_resultado)\n",
    "set_pruebas.loc[:,'resultado_Ada_Boost'] = set_pruebas.loc[:,columnas].apply(lambda x: ada.predict(x)[0],axis = 1)"
   ]
  },
  {
   "cell_type": "code",
   "execution_count": 9,
   "metadata": {
    "collapsed": true
   },
   "outputs": [],
   "source": [
    "### Decision Tree\n",
    "\n",
    "tree = DecisionTreeRegressor(criterion = 'mse', max_depth = None, min_samples_split = 2,\\\n",
    "                             min_samples_leaf = 1, max_features = 1.0)\n",
    "tree.fit(set_entrenamiento_datos,set_entrenamiento_resultado)\n",
    "set_pruebas.loc[:,'resultado_Decision_Tree'] = set_pruebas.loc[:,columnas].apply(lambda x: tree.predict(x)[0],axis = 1)"
   ]
  },
  {
   "cell_type": "code",
   "execution_count": 10,
   "metadata": {
    "collapsed": true
   },
   "outputs": [],
   "source": [
    "### KNN\n",
    "\n",
    "knn = KNeighborsRegressor(n_neighbors = 1, p = 1)\n",
    "knn.fit(set_entrenamiento_datos,set_entrenamiento_resultado)\n",
    "set_pruebas.loc[:,'resultado_KNN'] = set_pruebas.loc[:,columnas].apply(lambda x: knn.predict(x)[0],axis = 1)"
   ]
  },
  {
   "cell_type": "code",
   "execution_count": 11,
   "metadata": {
    "collapsed": true
   },
   "outputs": [],
   "source": [
    "### Perceptron\n",
    "\n",
    "perceptron = MLPRegressor(solver = 'lbfgs', activation = 'logistic', tol = 1e-8)\n",
    "perceptron.fit(set_entrenamiento_datos,set_entrenamiento_resultado)\n",
    "set_pruebas.loc[:,'resultado_Perceptron'] = set_pruebas.loc[:,columnas].apply(lambda x: perceptron.predict(x)[0],axis = 1)"
   ]
  },
  {
   "cell_type": "code",
   "execution_count": 12,
   "metadata": {
    "collapsed": true
   },
   "outputs": [],
   "source": [
    "### Random Forest\n",
    "\n",
    "randomforest = RandomForestRegressor(n_estimators = 20, max_features = 0.4)\n",
    "randomforest.fit(set_entrenamiento_datos,set_entrenamiento_resultado)\n",
    "set_pruebas.loc[:,'resultado_Random_Forest'] = set_pruebas.loc[:,columnas].\\\n",
    "                        apply(lambda x: randomforest.predict(x)[0],axis = 1)"
   ]
  },
  {
   "cell_type": "markdown",
   "metadata": {},
   "source": [
    "# Calculo el promedio de los resultados con todas las combinaciones posibles entre algoritmos"
   ]
  },
  {
   "cell_type": "code",
   "execution_count": 13,
   "metadata": {
    "collapsed": true
   },
   "outputs": [],
   "source": [
    "algoritmos = ['KNN', 'Random_Forest', 'Decision_Tree', 'Bagging_Regressor','Perceptron','Ada_Boost']"
   ]
  },
  {
   "cell_type": "code",
   "execution_count": 14,
   "metadata": {},
   "outputs": [],
   "source": [
    "# Prueba todas las combinaciones de algoritmos y calcula el promedio de ellos\n",
    "# El set de pruebas debe tener una columna por algoritmo con su resultado\n",
    "# Las columnas deben llamarse resutado_algoritmo\n",
    "\n",
    "def calcular_promedio(lista, set_pruebas):\n",
    "    set_pruebas.loc[:,'promedio'] = 0\n",
    "    for i in range(len(lista)):\n",
    "        columna = 'resultado_' + lista[i]\n",
    "        set_pruebas.loc[:,'promedio'] = set_pruebas.loc[:,'promedio'] + set_pruebas.loc[:,columna]\n",
    "    set_pruebas.loc[:,'promedio'] = set_pruebas.loc[:,'promedio'] / len(lista)\n",
    "    error = mean_squared_error(set_pruebas.price_aprox_usd,set_pruebas.promedio)\n",
    "    return error\n",
    "\n",
    "def combinaciones(lista, minimo):\n",
    "    comb = [[]]\n",
    "    for x in lista:\n",
    "        comb = comb + [c + [x] for c in comb]\n",
    "    res = [c for c in comb if len(c) >= minimo]\n",
    "    return res"
   ]
  },
  {
   "cell_type": "code",
   "execution_count": 15,
   "metadata": {},
   "outputs": [
    {
     "name": "stdout",
     "output_type": "stream",
     "text": [
      "Error = 14266035004.118303, algoritmos = ['KNN', 'Random_Forest']\n",
      "Error = 13447551683.010105, algoritmos = ['KNN', 'Decision_Tree']\n",
      "Error = 13167017744.002684, algoritmos = ['Random_Forest', 'Decision_Tree']\n",
      "Error = 13143630556.971027, algoritmos = ['KNN', 'Random_Forest', 'Decision_Tree']\n",
      "Error = 15232589483.03835, algoritmos = ['KNN', 'Bagging_Regressor']\n",
      "Error = 16525748799.911219, algoritmos = ['Random_Forest', 'Bagging_Regressor']\n",
      "Error = 14613000295.9816, algoritmos = ['KNN', 'Random_Forest', 'Bagging_Regressor']\n",
      "Error = 14108598239.029737, algoritmos = ['Decision_Tree', 'Bagging_Regressor']\n",
      "Error = 13562536727.210936, algoritmos = ['KNN', 'Decision_Tree', 'Bagging_Regressor']\n",
      "Error = 14116865245.021082, algoritmos = ['Random_Forest', 'Decision_Tree', 'Bagging_Regressor']\n",
      "Error = 13559550563.35171, algoritmos = ['KNN', 'Random_Forest', 'Decision_Tree', 'Bagging_Regressor']\n",
      "Error = 44330463621.53088, algoritmos = ['KNN', 'Perceptron']\n",
      "Error = 48020057048.287575, algoritmos = ['Random_Forest', 'Perceptron']\n",
      "Error = 28569132095.932964, algoritmos = ['KNN', 'Random_Forest', 'Perceptron']\n",
      "Error = 43109800585.6, algoritmos = ['Decision_Tree', 'Perceptron']\n",
      "Error = 26410621459.692917, algoritmos = ['KNN', 'Decision_Tree', 'Perceptron']\n",
      "Error = 28030031804.11809, algoritmos = ['Random_Forest', 'Decision_Tree', 'Perceptron']\n",
      "Error = 21362453828.22233, algoritmos = ['KNN', 'Random_Forest', 'Decision_Tree', 'Perceptron']\n",
      "Error = 48831879134.81197, algoritmos = ['Bagging_Regressor', 'Perceptron']\n",
      "Error = 28930367862.393906, algoritmos = ['KNN', 'Bagging_Regressor', 'Perceptron']\n",
      "Error = 31249197431.65477, algoritmos = ['Random_Forest', 'Bagging_Regressor', 'Perceptron']\n",
      "Error = 23160072207.92802, algoritmos = ['KNN', 'Random_Forest', 'Bagging_Regressor', 'Perceptron']\n",
      "Error = 28380168022.18215, algoritmos = ['Decision_Tree', 'Bagging_Regressor', 'Perceptron']\n",
      "Error = 21559645047.886547, algoritmos = ['KNN', 'Decision_Tree', 'Bagging_Regressor', 'Perceptron']\n",
      "Error = 22852506642.645767, algoritmos = ['Random_Forest', 'Decision_Tree', 'Bagging_Regressor', 'Perceptron']\n",
      "Error = 19177819962.741436, algoritmos = ['KNN', 'Random_Forest', 'Decision_Tree', 'Bagging_Regressor', 'Perceptron']\n",
      "Error = 33448956406.719036, algoritmos = ['KNN', 'Ada_Boost']\n",
      "Error = 37119365682.82701, algoritmos = ['Random_Forest', 'Ada_Boost']\n",
      "Error = 23798674044.711903, algoritmos = ['KNN', 'Random_Forest', 'Ada_Boost']\n",
      "Error = 32114650791.339893, algoritmos = ['Decision_Tree', 'Ada_Boost']\n",
      "Error = 21598181884.56095, algoritmos = ['KNN', 'Decision_Tree', 'Ada_Boost']\n",
      "Error = 23209065939.80893, algoritmos = ['Random_Forest', 'Decision_Tree', 'Ada_Boost']\n",
      "Error = 18692450717.10172, algoritmos = ['KNN', 'Random_Forest', 'Decision_Tree', 'Ada_Boost']\n",
      "Error = 38126703506.047745, algoritmos = ['Bagging_Regressor', 'Ada_Boost']\n",
      "Error = 24246805694.149, algoritmos = ['KNN', 'Bagging_Regressor', 'Ada_Boost']\n",
      "Error = 26557108974.232655, algoritmos = ['Random_Forest', 'Bagging_Regressor', 'Ada_Boost']\n",
      "Error = 20562562638.181374, algoritmos = ['KNN', 'Random_Forest', 'Bagging_Regressor', 'Ada_Boost']\n",
      "Error = 23646098040.849136, algoritmos = ['Decision_Tree', 'Bagging_Regressor', 'Ada_Boost']\n",
      "Error = 18938520870.940014, algoritmos = ['KNN', 'Decision_Tree', 'Bagging_Regressor', 'Ada_Boost']\n",
      "Error = 20226586428.037064, algoritmos = ['Random_Forest', 'Decision_Tree', 'Bagging_Regressor', 'Ada_Boost']\n",
      "Error = 17523976745.425972, algoritmos = ['KNN', 'Random_Forest', 'Decision_Tree', 'Bagging_Regressor', 'Ada_Boost']\n",
      "Error = 103082972407.44888, algoritmos = ['Perceptron', 'Ada_Boost']\n",
      "Error = 53074920006.55581, algoritmos = ['KNN', 'Perceptron', 'Ada_Boost']\n",
      "Error = 56450305113.2545, algoritmos = ['Random_Forest', 'Perceptron', 'Ada_Boost']\n",
      "Error = 37354232541.75971, algoritmos = ['KNN', 'Random_Forest', 'Perceptron', 'Ada_Boost']\n",
      "Error = 52431247112.40161, algoritmos = ['Decision_Tree', 'Perceptron', 'Ada_Boost']\n",
      "Error = 35106914299.06684, algoritmos = ['KNN', 'Decision_Tree', 'Perceptron', 'Ada_Boost']\n",
      "Error = 36994088383.634834, algoritmos = ['Random_Forest', 'Decision_Tree', 'Perceptron', 'Ada_Boost']\n",
      "Error = 28240296125.250813, algoritmos = ['KNN', 'Random_Forest', 'Decision_Tree', 'Perceptron', 'Ada_Boost']\n",
      "Error = 56829666810.51575, algoritmos = ['Bagging_Regressor', 'Perceptron', 'Ada_Boost']\n",
      "Error = 37567863093.47236, algoritmos = ['KNN', 'Bagging_Regressor', 'Perceptron', 'Ada_Boost']\n",
      "Error = 39848460492.01042, algoritmos = ['Random_Forest', 'Bagging_Regressor', 'Perceptron', 'Ada_Boost']\n",
      "Error = 30058670411.709637, algoritmos = ['KNN', 'Random_Forest', 'Bagging_Regressor', 'Perceptron', 'Ada_Boost']\n",
      "Error = 37201475439.37422, algoritmos = ['Decision_Tree', 'Bagging_Regressor', 'Perceptron', 'Ada_Boost']\n",
      "Error = 28373177183.00606, algoritmos = ['KNN', 'Decision_Tree', 'Bagging_Regressor', 'Perceptron', 'Ada_Boost']\n",
      "Error = 29825412293.782425, algoritmos = ['Random_Forest', 'Decision_Tree', 'Bagging_Regressor', 'Perceptron', 'Ada_Boost']\n",
      "Error = 24555936503.038406, algoritmos = ['KNN', 'Random_Forest', 'Decision_Tree', 'Bagging_Regressor', 'Perceptron', 'Ada_Boost']\n"
     ]
    }
   ],
   "source": [
    "errores = []\n",
    "combinaciones_posibles = combinaciones(algoritmos,2)\n",
    "for comb in combinaciones_posibles:\n",
    "    error = calcular_promedio(comb,set_pruebas)\n",
    "    errores.append((error,comb))\n",
    "    print(\"Error = {}, algoritmos = {}\".format(error,comb))"
   ]
  },
  {
   "cell_type": "code",
   "execution_count": 16,
   "metadata": {},
   "outputs": [
    {
     "name": "stdout",
     "output_type": "stream",
     "text": [
      "Menor Error = 13143630556.971027, algoritmos = ['KNN', 'Random_Forest', 'Decision_Tree']\n"
     ]
    }
   ],
   "source": [
    "min_error = float(\"inf\")\n",
    "min_e = ()\n",
    "for e in errores:\n",
    "    if e[0] < min_error:\n",
    "        min_error = e[0]\n",
    "        min_e = e[1]\n",
    "\n",
    "print(\"Menor Error = {}, algoritmos = {}\".format(min_error,min_e))"
   ]
  },
  {
   "cell_type": "markdown",
   "metadata": {},
   "source": [
    "# Tomamos los algoritmos con menor error"
   ]
  },
  {
   "cell_type": "code",
   "execution_count": 17,
   "metadata": {
    "collapsed": true
   },
   "outputs": [],
   "source": [
    "algoritmos = ['KNN','Random_Forest','Decision_Tree']\n",
    "funciones = [knn,randomforest,tree]"
   ]
  },
  {
   "cell_type": "code",
   "execution_count": 18,
   "metadata": {},
   "outputs": [
    {
     "name": "stdout",
     "output_type": "stream",
     "text": [
      "13143630557.0\n"
     ]
    }
   ],
   "source": [
    "error = calcular_promedio(algoritmos,set_pruebas)\n",
    "print(error)"
   ]
  },
  {
   "cell_type": "markdown",
   "metadata": {},
   "source": [
    "# Calculo con los verdaderos datos a analizar"
   ]
  },
  {
   "cell_type": "code",
   "execution_count": 19,
   "metadata": {
    "collapsed": true
   },
   "outputs": [],
   "source": [
    "analizar = pd.read_csv('/home/mati/Desktop/properati_dataset_modificado.csv')"
   ]
  },
  {
   "cell_type": "code",
   "execution_count": 20,
   "metadata": {
    "collapsed": true
   },
   "outputs": [],
   "source": [
    "for i in range(len(algoritmos)):\n",
    "    algoritmo = algoritmos[i]\n",
    "    funcion = funciones[i]\n",
    "    cadena = 'resultado_' + algoritmo \n",
    "    analizar.loc[:,cadena] = analizar.loc[:,columnas].apply(lambda x: funcion.predict(x)[0],axis = 1)"
   ]
  },
  {
   "cell_type": "code",
   "execution_count": 22,
   "metadata": {},
   "outputs": [],
   "source": [
    "analizar.loc[:,'price_aprox_usd'] = 0\n",
    "calcular_promedio(algoritmos, analizar)\n",
    "analizar.rename(columns = {'Promedio': 'price_usd'}, inplace = True)"
   ]
  },
  {
   "cell_type": "code",
   "execution_count": 23,
   "metadata": {
    "collapsed": true
   },
   "outputs": [],
   "source": [
    "resultado = analizar.loc[:,['id','price_usd']]"
   ]
  },
  {
   "cell_type": "code",
   "execution_count": 24,
   "metadata": {
    "collapsed": true
   },
   "outputs": [],
   "source": [
    "resultado.to_csv('Ensamble_con_Promedios.csv', index = False)"
   ]
  }
 ],
 "metadata": {
  "kernelspec": {
   "display_name": "Python 3",
   "language": "python",
   "name": "python3"
  },
  "language_info": {
   "codemirror_mode": {
    "name": "ipython",
    "version": 3
   },
   "file_extension": ".py",
   "mimetype": "text/x-python",
   "name": "python",
   "nbconvert_exporter": "python",
   "pygments_lexer": "ipython3",
   "version": "3.6.1"
  }
 },
 "nbformat": 4,
 "nbformat_minor": 2
}
