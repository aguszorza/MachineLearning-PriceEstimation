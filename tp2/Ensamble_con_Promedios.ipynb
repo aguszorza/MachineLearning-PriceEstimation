{
 "cells": [
  {
   "cell_type": "code",
   "execution_count": 1,
   "metadata": {
    "collapsed": true
   },
   "outputs": [],
   "source": [
    "import pandas as pd\n",
    "import numpy as np\n",
    "from sklearn.metrics import mean_squared_error\n",
    "\n",
    "import warnings\n",
    "warnings.simplefilter(\"ignore\", category=DeprecationWarning)"
   ]
  },
  {
   "cell_type": "code",
   "execution_count": 2,
   "metadata": {
    "collapsed": true
   },
   "outputs": [],
   "source": [
    "from sklearn.ensemble import BaggingRegressor\n",
    "from sklearn.ensemble import AdaBoostRegressor\n",
    "from sklearn.tree import DecisionTreeRegressor\n",
    "from sklearn.neighbors import KNeighborsRegressor\n",
    "from sklearn.neural_network import MLPRegressor\n",
    "from sklearn.ensemble import RandomForestRegressor\n",
    "from sklearn.ensemble import ExtraTreesRegressor"
   ]
  },
  {
   "cell_type": "code",
   "execution_count": 3,
   "metadata": {
    "collapsed": true
   },
   "outputs": [],
   "source": [
    "propiedades = pd.read_csv('/home/mati/Desktop/set_datos_propiedades.csv')"
   ]
  },
  {
   "cell_type": "code",
   "execution_count": 4,
   "metadata": {
    "collapsed": true
   },
   "outputs": [],
   "source": [
    "propiedades = propiedades.loc[(propiedades.price_aprox_usd.notnull()) & (propiedades.superficie.notnull()),\\\n",
    "                             ['place_name_encoded', 'property_type_encoded','price_aprox_usd','superficie',\\\n",
    "                             'Year','Month','seguridad','aire','gimnasio','cochera','pileta']]"
   ]
  },
  {
   "cell_type": "code",
   "execution_count": 5,
   "metadata": {
    "collapsed": true
   },
   "outputs": [],
   "source": [
    "columnas = ['superficie','place_name_encoded','property_type_encoded','seguridad','gimnasio', 'aire', 'pileta', 'cochera']\n",
    "columnas_precio = columnas + ['price_aprox_usd']"
   ]
  },
  {
   "cell_type": "code",
   "execution_count": 6,
   "metadata": {
    "collapsed": true
   },
   "outputs": [],
   "source": [
    "set_entrenamiento = propiedades.loc[(propiedades.Year >= 2016) &((propiedades.Year < 2017) | (propiedades.Month < 6))\\\n",
    "                                    ,columnas_precio]\n",
    "set_pruebas = propiedades.loc[(propiedades.Year == 2017) & (propiedades.Month == 6),columnas_precio].head(20000)\n",
    "\n",
    "set_entrenamiento_datos = set_entrenamiento.loc[:,columnas]\n",
    "set_entrenamiento_resultado = set_entrenamiento.loc[:,'price_aprox_usd']"
   ]
  },
  {
   "cell_type": "markdown",
   "metadata": {},
   "source": [
    "# Calculo los distintos algoritmos con los parametros que mejor resultado nos dio"
   ]
  },
  {
   "cell_type": "code",
   "execution_count": 7,
   "metadata": {
    "collapsed": true
   },
   "outputs": [],
   "source": [
    "### Bagging regressor\n",
    "\n",
    "bag = BaggingRegressor(n_estimators = 5, max_samples = 1.0, max_features = 1.0)\n",
    "bag.fit(set_entrenamiento_datos,set_entrenamiento_resultado)\n",
    "set_pruebas.loc[:,'resultado_Bagging_Regressor'] = set_pruebas.loc[:,columnas].apply(lambda x: bag.predict(x)[0],axis = 1)"
   ]
  },
  {
   "cell_type": "code",
   "execution_count": 8,
   "metadata": {
    "collapsed": true
   },
   "outputs": [],
   "source": [
    "### Ada boost\n",
    "\n",
    "ada = AdaBoostRegressor(n_estimators = 3, loss = 'square')\n",
    "ada.fit(set_entrenamiento_datos,set_entrenamiento_resultado)\n",
    "set_pruebas.loc[:,'resultado_Ada_Boost'] = set_pruebas.loc[:,columnas].apply(lambda x: ada.predict(x)[0],axis = 1)"
   ]
  },
  {
   "cell_type": "code",
   "execution_count": 9,
   "metadata": {
    "collapsed": true
   },
   "outputs": [],
   "source": [
    "### Decision Tree\n",
    "\n",
    "tree = DecisionTreeRegressor(criterion = 'mse', max_depth = None, min_samples_split = 2,\\\n",
    "                             min_samples_leaf = 1, max_features = 1.0)\n",
    "tree.fit(set_entrenamiento_datos,set_entrenamiento_resultado)\n",
    "set_pruebas.loc[:,'resultado_Decision_Tree'] = set_pruebas.loc[:,columnas].apply(lambda x: tree.predict(x)[0],axis = 1)"
   ]
  },
  {
   "cell_type": "code",
   "execution_count": 10,
   "metadata": {
    "collapsed": true
   },
   "outputs": [],
   "source": [
    "### KNN\n",
    "\n",
    "knn = KNeighborsRegressor(n_neighbors = 1, p = 1)\n",
    "knn.fit(set_entrenamiento_datos,set_entrenamiento_resultado)\n",
    "set_pruebas.loc[:,'resultado_KNN'] = set_pruebas.loc[:,columnas].apply(lambda x: knn.predict(x)[0],axis = 1)"
   ]
  },
  {
   "cell_type": "code",
   "execution_count": 11,
   "metadata": {
    "collapsed": true
   },
   "outputs": [],
   "source": [
    "### Perceptron\n",
    "\n",
    "perceptron = MLPRegressor(solver = 'lbfgs', activation = 'logistic', tol = 1e-8)\n",
    "perceptron.fit(set_entrenamiento_datos,set_entrenamiento_resultado)\n",
    "set_pruebas.loc[:,'resultado_Perceptron'] = set_pruebas.loc[:,columnas].apply(lambda x: perceptron.predict(x)[0],axis = 1)"
   ]
  },
  {
   "cell_type": "code",
   "execution_count": 12,
   "metadata": {
    "collapsed": true
   },
   "outputs": [],
   "source": [
    "### Random Forest\n",
    "\n",
    "randomforest = RandomForestRegressor(n_estimators = 20, max_features = 0.4)\n",
    "randomforest.fit(set_entrenamiento_datos,set_entrenamiento_resultado)\n",
    "set_pruebas.loc[:,'resultado_Random_Forest'] = set_pruebas.loc[:,columnas].\\\n",
    "                        apply(lambda x: randomforest.predict(x)[0],axis = 1)"
   ]
  },
  {
   "cell_type": "code",
   "execution_count": 13,
   "metadata": {
    "collapsed": true
   },
   "outputs": [],
   "source": [
    "### Extra Trees\n",
    "\n",
    "xtree = ExtraTreesRegressor()\n",
    "xtree.fit(set_entrenamiento_datos,set_entrenamiento_resultado)\n",
    "set_pruebas.loc[:,'resultado_Extra_Trees'] = set_pruebas.loc[:,columnas].apply(lambda x: xtree.predict([x])[0],axis = 1)"
   ]
  },
  {
   "cell_type": "markdown",
   "metadata": {},
   "source": [
    "# Calculo el promedio de los resultados con todas las combinaciones posibles entre algoritmos"
   ]
  },
  {
   "cell_type": "code",
   "execution_count": 14,
   "metadata": {
    "collapsed": true
   },
   "outputs": [],
   "source": [
    "algoritmos = ['KNN', 'Random_Forest', 'Decision_Tree', 'Bagging_Regressor','Perceptron','Ada_Boost','Extra_Trees']"
   ]
  },
  {
   "cell_type": "code",
   "execution_count": 15,
   "metadata": {
    "collapsed": true
   },
   "outputs": [],
   "source": [
    "# Prueba todas las combinaciones de algoritmos y calcula el promedio de ellos\n",
    "# El set de pruebas debe tener una columna por algoritmo con su resultado\n",
    "# Las columnas deben llamarse resutado_algoritmo\n",
    "\n",
    "def calcular_promedio(lista, set_pruebas):\n",
    "    set_pruebas.loc[:,'promedio'] = 0\n",
    "    for i in range(len(lista)):\n",
    "        columna = 'resultado_' + lista[i]\n",
    "        set_pruebas.loc[:,'promedio'] = set_pruebas.loc[:,'promedio'] + set_pruebas.loc[:,columna]\n",
    "    set_pruebas.loc[:,'promedio'] = set_pruebas.loc[:,'promedio'] / len(lista)\n",
    "    error = mean_squared_error(set_pruebas.price_aprox_usd,set_pruebas.promedio)\n",
    "    return error\n",
    "\n",
    "def combinaciones(lista, minimo):\n",
    "    comb = [[]]\n",
    "    for x in lista:\n",
    "        comb = comb + [c + [x] for c in comb]\n",
    "    res = [c for c in comb if len(c) >= minimo]\n",
    "    return res"
   ]
  },
  {
   "cell_type": "code",
   "execution_count": 16,
   "metadata": {
    "scrolled": false
   },
   "outputs": [
    {
     "name": "stdout",
     "output_type": "stream",
     "text": [
      "Error = 14722421331.65495, algoritmos = ['KNN', 'Random_Forest']\n",
      "Error = 13451704377.516186, algoritmos = ['KNN', 'Decision_Tree']\n",
      "Error = 13600470045.386127, algoritmos = ['Random_Forest', 'Decision_Tree']\n",
      "Error = 13389339655.42486, algoritmos = ['KNN', 'Random_Forest', 'Decision_Tree']\n",
      "Error = 15679111005.421247, algoritmos = ['KNN', 'Bagging_Regressor']\n",
      "Error = 17583029653.47144, algoritmos = ['Random_Forest', 'Bagging_Regressor']\n",
      "Error = 15252499037.651335, algoritmos = ['KNN', 'Random_Forest', 'Bagging_Regressor']\n",
      "Error = 14559422694.502415, algoritmos = ['Decision_Tree', 'Bagging_Regressor']\n",
      "Error = 13880089887.308224, algoritmos = ['KNN', 'Decision_Tree', 'Bagging_Regressor']\n",
      "Error = 14746564972.14597, algoritmos = ['Random_Forest', 'Decision_Tree', 'Bagging_Regressor']\n",
      "Error = 14009338489.869534, algoritmos = ['KNN', 'Random_Forest', 'Decision_Tree', 'Bagging_Regressor']\n",
      "Error = 43435850845.501625, algoritmos = ['KNN', 'Perceptron']\n",
      "Error = 48677992370.379616, algoritmos = ['Random_Forest', 'Perceptron']\n",
      "Error = 28918154497.195568, algoritmos = ['KNN', 'Random_Forest', 'Perceptron']\n",
      "Error = 42225900710.96219, algoritmos = ['Decision_Tree', 'Perceptron']\n",
      "Error = 26021974368.875385, algoritmos = ['KNN', 'Decision_Tree', 'Perceptron']\n",
      "Error = 28372104065.6366, algoritmos = ['Random_Forest', 'Decision_Tree', 'Perceptron']\n",
      "Error = 21586894746.724598, algoritmos = ['KNN', 'Random_Forest', 'Decision_Tree', 'Perceptron']\n",
      "Error = 48867081306.18262, algoritmos = ['Bagging_Regressor', 'Perceptron']\n",
      "Error = 29066743078.71747, algoritmos = ['KNN', 'Bagging_Regressor', 'Perceptron']\n",
      "Error = 32196940766.6699, algoritmos = ['Random_Forest', 'Bagging_Regressor', 'Perceptron']\n",
      "Error = 23790752641.536892, algoritmos = ['KNN', 'Random_Forest', 'Bagging_Regressor', 'Perceptron']\n",
      "Error = 28521698413.98072, algoritmos = ['Decision_Tree', 'Bagging_Regressor', 'Perceptron']\n",
      "Error = 21707350410.823483, algoritmos = ['KNN', 'Decision_Tree', 'Bagging_Regressor', 'Perceptron']\n",
      "Error = 23479499183.50541, algoritmos = ['Random_Forest', 'Decision_Tree', 'Bagging_Regressor', 'Perceptron']\n",
      "Error = 19641660826.57081, algoritmos = ['KNN', 'Random_Forest', 'Decision_Tree', 'Bagging_Regressor', 'Perceptron']\n",
      "Error = 33430891473.622993, algoritmos = ['KNN', 'Ada_Boost']\n",
      "Error = 38652613743.52427, algoritmos = ['Random_Forest', 'Ada_Boost']\n",
      "Error = 24533979810.682827, algoritmos = ['KNN', 'Random_Forest', 'Ada_Boost']\n",
      "Error = 32104024191.037106, algoritmos = ['Decision_Tree', 'Ada_Boost']\n",
      "Error = 21594911729.88721, algoritmos = ['KNN', 'Decision_Tree', 'Ada_Boost']\n",
      "Error = 23935966202.214325, algoritmos = ['Random_Forest', 'Decision_Tree', 'Ada_Boost']\n",
      "Error = 19131813594.099987, algoritmos = ['KNN', 'Random_Forest', 'Decision_Tree', 'Ada_Boost']\n",
      "Error = 38878463818.050385, algoritmos = ['Bagging_Regressor', 'Ada_Boost']\n",
      "Error = 24698906676.08166, algoritmos = ['KNN', 'Bagging_Regressor', 'Ada_Boost']\n",
      "Error = 27820029139.600002, algoritmos = ['Random_Forest', 'Bagging_Regressor', 'Ada_Boost']\n",
      "Error = 21368986246.8605, algoritmos = ['KNN', 'Random_Forest', 'Bagging_Regressor', 'Ada_Boost']\n",
      "Error = 24101898834.435387, algoritmos = ['Decision_Tree', 'Bagging_Regressor', 'Ada_Boost']\n",
      "Error = 19261459542.879658, algoritmos = ['KNN', 'Decision_Tree', 'Bagging_Regressor', 'Ada_Boost']\n",
      "Error = 21028503501.817406, algoritmos = ['Random_Forest', 'Decision_Tree', 'Bagging_Regressor', 'Ada_Boost']\n",
      "Error = 18098781283.442757, algoritmos = ['KNN', 'Random_Forest', 'Decision_Tree', 'Bagging_Regressor', 'Ada_Boost']\n",
      "Error = 102114686154.84361, algoritmos = ['Perceptron', 'Ada_Boost']\n",
      "Error = 52649566411.13037, algoritmos = ['KNN', 'Perceptron', 'Ada_Boost']\n",
      "Error = 57254343486.572174, algoritmos = ['Random_Forest', 'Perceptron', 'Ada_Boost']\n",
      "Error = 37838978583.79893, algoritmos = ['KNN', 'Random_Forest', 'Perceptron', 'Ada_Boost']\n",
      "Error = 52012442203.43048, algoritmos = ['Decision_Tree', 'Perceptron', 'Ada_Boost']\n",
      "Error = 34874330704.70598, algoritmos = ['KNN', 'Decision_Tree', 'Perceptron', 'Ada_Boost']\n",
      "Error = 37475930382.85068, algoritmos = ['Random_Forest', 'Decision_Tree', 'Perceptron', 'Ada_Boost']\n",
      "Error = 28569576418.034668, algoritmos = ['KNN', 'Random_Forest', 'Decision_Tree', 'Perceptron', 'Ada_Boost']\n",
      "Error = 57078114468.43178, algoritmos = ['Bagging_Regressor', 'Perceptron', 'Ada_Boost']\n",
      "Error = 37776158604.25027, algoritmos = ['KNN', 'Bagging_Regressor', 'Perceptron', 'Ada_Boost']\n",
      "Error = 40816546527.44003, algoritmos = ['Random_Forest', 'Bagging_Regressor', 'Perceptron', 'Ada_Boost']\n",
      "Error = 30741098590.87973, algoritmos = ['KNN', 'Random_Forest', 'Bagging_Regressor', 'Perceptron', 'Ada_Boost']\n",
      "Error = 37413676147.13953, algoritmos = ['Decision_Tree', 'Bagging_Regressor', 'Perceptron', 'Ada_Boost']\n",
      "Error = 28552971366.79893, algoritmos = ['KNN', 'Decision_Tree', 'Bagging_Regressor', 'Perceptron', 'Ada_Boost']\n",
      "Error = 30506123684.49394, algoritmos = ['Random_Forest', 'Decision_Tree', 'Bagging_Regressor', 'Perceptron', 'Ada_Boost']\n",
      "Error = 25072382522.4701, algoritmos = ['KNN', 'Random_Forest', 'Decision_Tree', 'Bagging_Regressor', 'Perceptron', 'Ada_Boost']\n",
      "Error = 13425742644.436403, algoritmos = ['KNN', 'Extra_Trees']\n",
      "Error = 13579035160.620932, algoritmos = ['Random_Forest', 'Extra_Trees']\n",
      "Error = 13382932015.186197, algoritmos = ['KNN', 'Random_Forest', 'Extra_Trees']\n",
      "Error = 12331535640.117018, algoritmos = ['Decision_Tree', 'Extra_Trees']\n",
      "Error = 12799903948.605354, algoritmos = ['KNN', 'Decision_Tree', 'Extra_Trees']\n",
      "Error = 12888322974.83614, algoritmos = ['Random_Forest', 'Decision_Tree', 'Extra_Trees']\n",
      "Error = 12913444539.45874, algoritmos = ['KNN', 'Random_Forest', 'Decision_Tree', 'Extra_Trees']\n",
      "Error = 14487732576.56205, algoritmos = ['Bagging_Regressor', 'Extra_Trees']\n",
      "Error = 13851346587.880596, algoritmos = ['KNN', 'Bagging_Regressor', 'Extra_Trees']\n",
      "Error = 14719833605.302603, algoritmos = ['Random_Forest', 'Bagging_Regressor', 'Extra_Trees']\n",
      "Error = 13996056519.577188, algoritmos = ['KNN', 'Random_Forest', 'Bagging_Regressor', 'Extra_Trees']\n",
      "Error = 13357743314.352757, algoritmos = ['Decision_Tree', 'Bagging_Regressor', 'Extra_Trees']\n",
      "Error = 13213802323.592155, algoritmos = ['KNN', 'Decision_Tree', 'Bagging_Regressor', 'Extra_Trees']\n",
      "Error = 13713738844.10072, algoritmos = ['Random_Forest', 'Decision_Tree', 'Bagging_Regressor', 'Extra_Trees']\n",
      "Error = 13414727269.389826, algoritmos = ['KNN', 'Random_Forest', 'Decision_Tree', 'Bagging_Regressor', 'Extra_Trees']\n",
      "Error = 42131891571.692894, algoritmos = ['Perceptron', 'Extra_Trees']\n",
      "Error = 25983311504.412678, algoritmos = ['KNN', 'Perceptron', 'Extra_Trees']\n",
      "Error = 28335453133.75815, algoritmos = ['Random_Forest', 'Perceptron', 'Extra_Trees']\n",
      "Error = 21568033021.100018, algoritmos = ['KNN', 'Random_Forest', 'Perceptron', 'Extra_Trees']\n",
      "Error = 25449591864.831238, algoritmos = ['Decision_Tree', 'Perceptron', 'Extra_Trees']\n",
      "Error = 19928657650.002888, algoritmos = ['KNN', 'Decision_Tree', 'Perceptron', 'Extra_Trees']\n",
      "Error = 21263149889.7184, algoritmos = ['Random_Forest', 'Decision_Tree', 'Perceptron', 'Extra_Trees']\n",
      "Error = 18190792269.315754, algoritmos = ['KNN', 'Random_Forest', 'Decision_Tree', 'Perceptron', 'Extra_Trees']\n",
      "Error = 28462711822.913307, algoritmos = ['Bagging_Regressor', 'Perceptron', 'Extra_Trees']\n",
      "Error = 21675924876.905113, algoritmos = ['KNN', 'Bagging_Regressor', 'Perceptron', 'Extra_Trees']\n",
      "Error = 23449205361.66569, algoritmos = ['Random_Forest', 'Bagging_Regressor', 'Perceptron', 'Extra_Trees']\n",
      "Error = 19623395611.6699, algoritmos = ['KNN', 'Random_Forest', 'Bagging_Regressor', 'Perceptron', 'Extra_Trees']\n",
      "Error = 21371607489.360992, algoritmos = ['Decision_Tree', 'Bagging_Regressor', 'Perceptron', 'Extra_Trees']\n",
      "Error = 18283442792.706417, algoritmos = ['KNN', 'Decision_Tree', 'Bagging_Regressor', 'Perceptron', 'Extra_Trees']\n",
      "Error = 19425646349.806747, algoritmos = ['Random_Forest', 'Decision_Tree', 'Bagging_Regressor', 'Perceptron', 'Extra_Trees']\n",
      "Error = 17375797822.60799, algoritmos = ['KNN', 'Random_Forest', 'Decision_Tree', 'Bagging_Regressor', 'Perceptron', 'Extra_Trees']\n",
      "Error = 32075610067.27675, algoritmos = ['Ada_Boost', 'Extra_Trees']\n",
      "Error = 21585402205.650692, algoritmos = ['KNN', 'Ada_Boost', 'Extra_Trees']\n",
      "Error = 23928468610.562073, algoritmos = ['Random_Forest', 'Ada_Boost', 'Extra_Trees']\n",
      "Error = 19129350622.352642, algoritmos = ['KNN', 'Random_Forest', 'Ada_Boost', 'Extra_Trees']\n",
      "Error = 20999719389.159714, algoritmos = ['Decision_Tree', 'Ada_Boost', 'Extra_Trees']\n"
     ]
    },
    {
     "name": "stdout",
     "output_type": "stream",
     "text": [
      "Error = 17465850777.98808, algoritmos = ['KNN', 'Decision_Tree', 'Ada_Boost', 'Extra_Trees']\n",
      "Error = 18795238203.959415, algoritmos = ['Random_Forest', 'Decision_Tree', 'Ada_Boost', 'Extra_Trees']\n",
      "Error = 16637086483.582275, algoritmos = ['KNN', 'Random_Forest', 'Decision_Tree', 'Ada_Boost', 'Extra_Trees']\n",
      "Error = 24072065583.594162, algoritmos = ['Bagging_Regressor', 'Ada_Boost', 'Extra_Trees']\n",
      "Error = 19246432762.83852, algoritmos = ['KNN', 'Bagging_Regressor', 'Ada_Boost', 'Extra_Trees']\n",
      "Error = 21014608433.85491, algoritmos = ['Random_Forest', 'Bagging_Regressor', 'Ada_Boost', 'Extra_Trees']\n",
      "Error = 18091011271.023277, algoritmos = ['KNN', 'Random_Forest', 'Bagging_Regressor', 'Ada_Boost', 'Extra_Trees']\n",
      "Error = 18912886088.282787, algoritmos = ['Decision_Tree', 'Bagging_Regressor', 'Ada_Boost', 'Extra_Trees']\n",
      "Error = 16735618789.168634, algoritmos = ['KNN', 'Decision_Tree', 'Bagging_Regressor', 'Ada_Boost', 'Extra_Trees']\n",
      "Error = 17874555265.472687, algoritmos = ['Random_Forest', 'Decision_Tree', 'Bagging_Regressor', 'Ada_Boost', 'Extra_Trees']\n",
      "Error = 16316538523.176193, algoritmos = ['KNN', 'Random_Forest', 'Decision_Tree', 'Bagging_Regressor', 'Ada_Boost', 'Extra_Trees']\n",
      "Error = 51972689387.55418, algoritmos = ['Perceptron', 'Ada_Boost', 'Extra_Trees']\n",
      "Error = 34853724169.33262, algoritmos = ['KNN', 'Perceptron', 'Ada_Boost', 'Extra_Trees']\n",
      "Error = 37456455559.55596, algoritmos = ['Random_Forest', 'Perceptron', 'Ada_Boost', 'Extra_Trees']\n",
      "Error = 28558235362.202557, algoritmos = ['KNN', 'Random_Forest', 'Perceptron', 'Ada_Boost', 'Extra_Trees']\n",
      "Error = 34497612038.871735, algoritmos = ['Decision_Tree', 'Perceptron', 'Ada_Boost', 'Extra_Trees']\n",
      "Error = 26654285328.276176, algoritmos = ['KNN', 'Decision_Tree', 'Perceptron', 'Ada_Boost', 'Extra_Trees']\n",
      "Error = 28327337464.872677, algoritmos = ['Random_Forest', 'Decision_Tree', 'Perceptron', 'Ada_Boost', 'Extra_Trees']\n",
      "Error = 23536833057.989113, algoritmos = ['KNN', 'Random_Forest', 'Decision_Tree', 'Perceptron', 'Ada_Boost', 'Extra_Trees']\n",
      "Error = 37381637515.551, algoritmos = ['Bagging_Regressor', 'Perceptron', 'Ada_Boost', 'Extra_Trees']\n",
      "Error = 28533589473.658794, algoritmos = ['KNN', 'Bagging_Regressor', 'Perceptron', 'Ada_Boost', 'Extra_Trees']\n",
      "Error = 30487466087.084133, algoritmos = ['Random_Forest', 'Bagging_Regressor', 'Perceptron', 'Ada_Boost', 'Extra_Trees']\n",
      "Error = 25060205601.405323, algoritmos = ['KNN', 'Random_Forest', 'Bagging_Regressor', 'Perceptron', 'Ada_Boost', 'Extra_Trees']\n",
      "Error = 28303053652.384907, algoritmos = ['Decision_Tree', 'Bagging_Regressor', 'Perceptron', 'Ada_Boost', 'Extra_Trees']\n",
      "Error = 23536106562.941635, algoritmos = ['KNN', 'Decision_Tree', 'Bagging_Regressor', 'Perceptron', 'Ada_Boost', 'Extra_Trees']\n",
      "Error = 24898037577.024208, algoritmos = ['Random_Forest', 'Decision_Tree', 'Bagging_Regressor', 'Perceptron', 'Ada_Boost', 'Extra_Trees']\n",
      "Error = 21648980828.775143, algoritmos = ['KNN', 'Random_Forest', 'Decision_Tree', 'Bagging_Regressor', 'Perceptron', 'Ada_Boost', 'Extra_Trees']\n"
     ]
    }
   ],
   "source": [
    "errores = []\n",
    "combinaciones_posibles = combinaciones(algoritmos,2)\n",
    "for comb in combinaciones_posibles:\n",
    "    error = calcular_promedio(comb,set_pruebas)\n",
    "    errores.append((error,comb))\n",
    "    print(\"Error = {}, algoritmos = {}\".format(error,comb))"
   ]
  },
  {
   "cell_type": "code",
   "execution_count": 17,
   "metadata": {},
   "outputs": [
    {
     "name": "stdout",
     "output_type": "stream",
     "text": [
      "Menor Error = 12331535640.117018, algoritmos = ['Decision_Tree', 'Extra_Trees']\n"
     ]
    }
   ],
   "source": [
    "min_error = float(\"inf\")\n",
    "min_e = ()\n",
    "for e in errores:\n",
    "    if e[0] < min_error:\n",
    "        min_error = e[0]\n",
    "        min_e = e[1]\n",
    "\n",
    "print(\"Menor Error = {}, algoritmos = {}\".format(min_error,min_e))"
   ]
  },
  {
   "cell_type": "markdown",
   "metadata": {},
   "source": [
    "# Tomamos los algoritmos con menor error"
   ]
  },
  {
   "cell_type": "code",
   "execution_count": 18,
   "metadata": {
    "collapsed": true
   },
   "outputs": [],
   "source": [
    "algoritmos = ['Extra_Trees','Decision_Tree']\n",
    "funciones = [xtree,tree]"
   ]
  },
  {
   "cell_type": "code",
   "execution_count": 19,
   "metadata": {},
   "outputs": [
    {
     "name": "stdout",
     "output_type": "stream",
     "text": [
      "12331535640.1\n"
     ]
    }
   ],
   "source": [
    "error = calcular_promedio(algoritmos,set_pruebas)\n",
    "print(error)"
   ]
  },
  {
   "cell_type": "markdown",
   "metadata": {},
   "source": [
    "# Calculo con los verdaderos datos a analizar"
   ]
  },
  {
   "cell_type": "code",
   "execution_count": 20,
   "metadata": {
    "collapsed": true
   },
   "outputs": [],
   "source": [
    "analizar = pd.read_csv('/home/mati/Desktop/properati_dataset_modificado.csv')"
   ]
  },
  {
   "cell_type": "code",
   "execution_count": 21,
   "metadata": {
    "collapsed": true
   },
   "outputs": [],
   "source": [
    "for i in range(len(algoritmos)):\n",
    "    algoritmo = algoritmos[i]\n",
    "    funcion = funciones[i]\n",
    "    cadena = 'resultado_' + algoritmo \n",
    "    analizar.loc[:,cadena] = analizar.loc[:,columnas].apply(lambda x: funcion.predict(x)[0],axis = 1)"
   ]
  },
  {
   "cell_type": "code",
   "execution_count": 22,
   "metadata": {
    "collapsed": true
   },
   "outputs": [],
   "source": [
    "analizar.loc[:,'price_aprox_usd'] = 0\n",
    "calcular_promedio(algoritmos, analizar)\n",
    "analizar.rename(columns = {'promedio': 'price_usd'}, inplace = True)"
   ]
  },
  {
   "cell_type": "code",
   "execution_count": 23,
   "metadata": {
    "collapsed": true
   },
   "outputs": [],
   "source": [
    "resultado = analizar.loc[:,['id','price_usd']]"
   ]
  },
  {
   "cell_type": "code",
   "execution_count": 24,
   "metadata": {
    "collapsed": true
   },
   "outputs": [],
   "source": [
    "resultado.to_csv('resultados/Ensamble_con_Promedios.csv', index = False)"
   ]
  },
  {
   "cell_type": "markdown",
   "metadata": {},
   "source": [
    "# Pruebo con los dos y tres algoritmos que tuvimos mejores resultados"
   ]
  },
  {
   "cell_type": "code",
   "execution_count": 25,
   "metadata": {
    "collapsed": true
   },
   "outputs": [],
   "source": [
    "algoritmos2 = ['Extra_Trees','Bagging_Regressor']\n",
    "algoritmos3 = ['Extra_Trees','Bagging_Regressor','KNN']\n",
    "algoritmos4 = ['Extra_Trees','Bagging_Regressor','KNN','Perceptron']\n",
    "funciones = [xtree,bag,knn,perceptron]\n",
    "for i in range(len(algoritmos4)):\n",
    "    algoritmo = algoritmos4[i]\n",
    "    funcion = funciones[i]\n",
    "    cadena = 'resultado_' + algoritmo \n",
    "    analizar.loc[:,cadena] = analizar.loc[:,columnas].apply(lambda x: funcion.predict(x)[0],axis = 1)"
   ]
  },
  {
   "cell_type": "code",
   "execution_count": 26,
   "metadata": {
    "collapsed": true
   },
   "outputs": [],
   "source": [
    "calcular_promedio(algoritmos2, analizar)\n",
    "analizar.drop(['price_usd'], axis = 1, inplace = True)\n",
    "analizar.rename(columns = {'promedio': 'price_usd'}, inplace = True)\n",
    "resultado = analizar.loc[:,['id','price_usd']]\n",
    "resultado.to_csv('resultados/Ensamble_con_Promedios_2.csv', index = False)"
   ]
  },
  {
   "cell_type": "code",
   "execution_count": 27,
   "metadata": {
    "collapsed": true
   },
   "outputs": [],
   "source": [
    "calcular_promedio(algoritmos3, analizar)\n",
    "analizar.drop(['price_usd'], axis = 1, inplace = True)\n",
    "analizar.rename(columns = {'promedio': 'price_usd'}, inplace = True)\n",
    "resultado = analizar.loc[:,['id','price_usd']]\n",
    "resultado.to_csv('resultados/Ensamble_con_Promedios_3.csv', index = False)"
   ]
  },
  {
   "cell_type": "code",
   "execution_count": 28,
   "metadata": {
    "collapsed": true
   },
   "outputs": [],
   "source": [
    "calcular_promedio(algoritmos4, analizar)\n",
    "analizar.drop(['price_usd'], axis = 1, inplace = True)\n",
    "analizar.rename(columns = {'promedio': 'price_usd'}, inplace = True)\n",
    "resultado = analizar.loc[:,['id','price_usd']]\n",
    "resultado.to_csv('resultados/Ensamble_con_Promedios_4.csv', index = False)"
   ]
  }
 ],
 "metadata": {
  "kernelspec": {
   "display_name": "Python 3",
   "language": "python",
   "name": "python3"
  },
  "language_info": {
   "codemirror_mode": {
    "name": "ipython",
    "version": 3
   },
   "file_extension": ".py",
   "mimetype": "text/x-python",
   "name": "python",
   "nbconvert_exporter": "python",
   "pygments_lexer": "ipython3",
   "version": "3.6.1"
  }
 },
 "nbformat": 4,
 "nbformat_minor": 2
}
