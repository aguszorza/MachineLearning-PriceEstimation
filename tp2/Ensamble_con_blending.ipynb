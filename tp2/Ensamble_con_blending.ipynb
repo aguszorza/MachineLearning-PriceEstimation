{
 "cells": [
  {
   "cell_type": "code",
   "execution_count": 1,
   "metadata": {
    "collapsed": true
   },
   "outputs": [],
   "source": [
    "import pandas as pd\n",
    "import numpy as np\n",
    "from sklearn.metrics import mean_squared_error\n",
    "from sklearn.model_selection import GridSearchCV\n",
    "from sklearn.externals import joblib\n",
    "from sklearn.model_selection import train_test_split\n",
    "import time\n",
    "\n",
    "import warnings\n",
    "warnings.simplefilter(\"ignore\", category=DeprecationWarning)"
   ]
  },
  {
   "cell_type": "code",
   "execution_count": 2,
   "metadata": {
    "collapsed": true
   },
   "outputs": [],
   "source": [
    "from sklearn.ensemble import BaggingRegressor\n",
    "from sklearn.ensemble import AdaBoostRegressor\n",
    "from sklearn.tree import DecisionTreeRegressor\n",
    "from sklearn.neighbors import KNeighborsRegressor\n",
    "from sklearn.neural_network import MLPRegressor\n",
    "from sklearn.ensemble import RandomForestRegressor\n",
    "from sklearn.ensemble import ExtraTreesRegressor\n",
    "from sklearn.ensemble import BaggingRegressor\n",
    "import lightgbm as lgb\n",
    "import xgboost"
   ]
  },
  {
   "cell_type": "code",
   "execution_count": 3,
   "metadata": {
    "collapsed": true
   },
   "outputs": [],
   "source": [
    "sup_min = 10\n",
    "sup_max = 300\n",
    "lat_min = -35\n",
    "lat_max = -34\n",
    "lon_min = -59\n",
    "lon_max = -58\n",
    "precio_min = 30000\n",
    "precio_max = 3000000"
   ]
  },
  {
   "cell_type": "code",
   "execution_count": 18,
   "metadata": {
    "collapsed": true
   },
   "outputs": [],
   "source": [
    "propiedades = pd.read_csv('../../set_datos_propiedades.csv')\n",
    "analizar = pd.read_csv('../properati_dataset_modificado2.csv')\n",
    "\n",
    "propiedades = propiedades.loc[(propiedades.price_aprox_usd.notnull()) & (propiedades.superficie.notnull())\\\n",
    "                              & (propiedades.lat.notnull()) & (propiedades.lon.notnull()) & (propiedades.Year >=2017)\\\n",
    "                        & (propiedades.price_aprox_usd <= precio_max) & (propiedades.price_aprox_usd >= precio_min) &\\\n",
    "                         (propiedades.superficie <= sup_max) & (propiedades.superficie >= sup_min) &\\\n",
    "                      (propiedades.lat <= lat_max) & (propiedades.lat >= lat_min) &\\\n",
    "                       (propiedades.lon <= lon_max) & (propiedades.lon >= lon_min),:]\n",
    "\n",
    "columnas = ['superficie','lat','lon','property_type_encoded','seguridad','gimnasio','aire','pileta','cochera']"
   ]
  },
  {
   "cell_type": "code",
   "execution_count": 20,
   "metadata": {
    "collapsed": false
   },
   "outputs": [],
   "source": [
    "datos = propiedades.loc[:,columnas]\n",
    "resultados = propiedades.loc[:, 'price_aprox_usd']\n",
    "\n",
    "set_entrenamiento_datos,set_pruebas_datos, set_entrenamiento_resultado, set_pruebas_resultado = \\\n",
    "train_test_split(datos, resultados, test_size = 0.1, random_state = 42)"
   ]
  },
  {
   "cell_type": "code",
   "execution_count": null,
   "metadata": {
    "collapsed": false
   },
   "outputs": [],
   "source": [
    "criterios = ['mse','friedman_mse']\n",
    "max_depth = [None,50,75,100,150]\n",
    "features = [0.4,0.6,0.8,1.0]\n",
    "\n",
    "parametros = {\"criterion\" : criterios, \"max_depth\" : max_depth, \"max_features\" : features}\n",
    "\n",
    "iteraciones_cross_validation = 20\n",
    "arbol = DecisionTreeRegressor()\n",
    "\n",
    "inicio = time.strftime(\"%X\")\n",
    "\n",
    "grid = GridSearchCV( estimator = arbol, param_grid = parametros, n_jobs = 2, cv = iteraciones_cross_validation)\n",
    "\n",
    "grid.fit(set_entrenamiento_datos,set_entrenamiento_resultado)\n",
    "\n",
    "score = grid.best_score_ * 100\n",
    "mejores_parametros = grid.best_params_\n",
    "fin = time.strftime(\"%X\")\n",
    "\n",
    "print(\"Tiempo: {} --- {} \\n Precision: {:.2f} \\n Parametros = {}\".format(inicio,fin,score,mejores_parametros))\n",
    "\n",
    "set_pruebas_datos.loc[:,'resultado_Decision_Tree'] = set_pruebas_datos.loc[:,columnas].apply(lambda x: grid.predict([x])[0],axis = 1)\n",
    "analizar.loc[:,'resultado_Decision_Tree'] = analizar.loc[:,columnas].apply(lambda x: grid.predict([x])[0],axis = 1)"
   ]
  },
  {
   "cell_type": "code",
   "execution_count": null,
   "metadata": {
    "collapsed": false
   },
   "outputs": [],
   "source": [
    "lista_k = [1,2,3,10,15,20,30,50]\n",
    "lista_dist = [1,2,5]\n",
    "\n",
    "parametros = {\"n_neighbors\" : lista_k, \"p\" : lista_dist}\n",
    "\n",
    "iteraciones_cross_validation = 5\n",
    "knn = KNeighborsRegressor()\n",
    "\n",
    "inicio = time.strftime(\"%X\")\n",
    "\n",
    "grid = GridSearchCV( estimator = knn, param_grid = parametros, n_jobs = 2, cv = iteraciones_cross_validation)\n",
    "\n",
    "grid.fit(set_entrenamiento_datos,set_entrenamiento_resultado)\n",
    "\n",
    "score = grid.best_score_ * 100\n",
    "mejores_parametros = grid.best_params_\n",
    "fin = time.strftime(\"%X\")\n",
    "\n",
    "print(\"Tiempo: {} --- {} \\n Precision: {:.2f} \\n Parametros = {}\".format(inicio,fin,score,mejores_parametros))\n",
    "\n",
    "set_pruebas_datos.loc[:,'resultado_KNN'] = set_pruebas_datos.loc[:,columnas].apply(lambda x: grid.predict([x])[0],axis = 1)\n",
    "analizar.loc[:,'resultado_KNN'] = analizar.loc[:,columnas].apply(lambda x: grid.predict([x])[0],axis = 1)"
   ]
  },
  {
   "cell_type": "code",
   "execution_count": null,
   "metadata": {
    "collapsed": false
   },
   "outputs": [],
   "source": [
    "estimators = [1000]\n",
    "samples = [1.0]\n",
    "features = [1.0]\n",
    "\n",
    "parametros = {\"n_estimators\" : estimators, \"max_samples\" : samples, \"max_features\" : features}\n",
    "\n",
    "iteraciones_cross_validation = 3\n",
    "bag = BaggingRegressor()\n",
    "\n",
    "inicio = time.strftime(\"%X\")\n",
    "\n",
    "grid = GridSearchCV( estimator = bag, param_grid = parametros, n_jobs = 2, cv = iteraciones_cross_validation)\n",
    "\n",
    "grid.fit(set_entrenamiento_datos,set_entrenamiento_resultado)\n",
    "\n",
    "score = grid.best_score_ * 100\n",
    "mejores_parametros = grid.best_params_\n",
    "fin = time.strftime(\"%X\")\n",
    "\n",
    "print(\"Tiempo: {} --- {} \\n Precision: {:.2f} \\n Parametros = {}\".format(inicio,fin,score,mejores_parametros))\n",
    "\n",
    "set_pruebas_datos.loc[:,'resultado_Bagging_Regressor'] = set_pruebas_datos.loc[:,columnas].apply(lambda x: grid.predict([x])[0],axis = 1)\n",
    "analizar.loc[:,'resultado_Bagging_Regressor'] = analizar.loc[:,columnas].apply(lambda x: grid.predict([x])[0],axis = 1)"
   ]
  },
  {
   "cell_type": "code",
   "execution_count": null,
   "metadata": {
    "collapsed": true
   },
   "outputs": [],
   "source": [
    "joblib.dump(grid, 'algoritmos/Bagging_Regressor_blending.pkl')"
   ]
  },
  {
   "cell_type": "code",
   "execution_count": null,
   "metadata": {
    "collapsed": false
   },
   "outputs": [],
   "source": [
    "# ALgoritmo predictor final\n",
    "columnas = columnas + ['resultado_Decision_Tree', 'resultado_KNN', 'resultado_Bagging_Regressor']\n",
    "\n",
    "criterios = ['mse','friedman_mse']\n",
    "max_depth = [None,50,75,100,150]\n",
    "features = [0.4,0.6,0.8,1.0]\n",
    "\n",
    "parametros = {\"criterion\" : criterios, \"max_depth\" : max_depth, \"max_features\" : features}\n",
    "\n",
    "iteraciones_cross_validation = 10\n",
    "arbol = DecisionTreeRegressor()\n",
    "\n",
    "inicio = time.strftime(\"%X\")\n",
    "\n",
    "grid = GridSearchCV( estimator = arbol, param_grid = parametros, n_jobs = 2, cv = iteraciones_cross_validation)\n",
    "\n",
    "grid.fit(set_pruebas_datos.loc[:,columnas], set_pruebas_resultado)\n",
    "\n",
    "score = grid.best_score_ * 100\n",
    "mejores_parametros = grid.best_params_\n",
    "fin = time.strftime(\"%X\")\n",
    "\n",
    "print(\"Tiempo: {} --- {} \\n Precision: {:.2f} \\n Parametros = {}\".format(inicio,fin,score,mejores_parametros))"
   ]
  },
  {
   "cell_type": "code",
   "execution_count": null,
   "metadata": {
    "collapsed": false
   },
   "outputs": [],
   "source": [
    "joblib.dump(grid, 'algoritmos/Blending_final.pkl')"
   ]
  },
  {
   "cell_type": "code",
   "execution_count": null,
   "metadata": {
    "collapsed": true
   },
   "outputs": [],
   "source": [
    "analizar.loc[:,'price_usd'] = analizar.loc[:,columnas].apply(lambda x: grid.predict([x])[0],axis = 1)\n",
    "\n",
    "resultado = analizar.loc[:,['id','price_usd']]\n",
    "\n",
    "resultado.to_csv('resultados/Ensamble_con_Blending.csv', index = False)\n",
    "#956216016563.16200"
   ]
  }
 ],
 "metadata": {
  "kernelspec": {
   "display_name": "Python [default]",
   "language": "python",
   "name": "python3"
  },
  "language_info": {
   "codemirror_mode": {
    "name": "ipython",
    "version": 3
   },
   "file_extension": ".py",
   "mimetype": "text/x-python",
   "name": "python",
   "nbconvert_exporter": "python",
   "pygments_lexer": "ipython3",
   "version": "3.5.2"
  }
 },
 "nbformat": 4,
 "nbformat_minor": 2
}
