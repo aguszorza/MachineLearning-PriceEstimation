{
 "cells": [
  {
   "cell_type": "code",
   "execution_count": null,
   "metadata": {
    "collapsed": true
   },
   "outputs": [],
   "source": [
    "import pandas as pd\n",
    "import numpy as np\n",
    "from sklearn.metrics import mean_squared_error\n",
    "from sklearn.neighbors import KNeighborsRegressor\n",
    "from sklearn.ensemble import ExtraTreesRegressor\n",
    "from sklearn.preprocessing import StandardScaler \n",
    "from sklearn.tree import DecisionTreeRegressor\n",
    "from sklearn.model_selection import GridSearchCV\n",
    "from sklearn.externals import joblib\n",
    "import time\n",
    "from sklearn.decomposition import TruncatedSVD\n",
    "from sklearn.model_selection import train_test_split\n",
    "from sklearn import preprocessing\n",
    "\n",
    "import warnings\n",
    "warnings.simplefilter(\"ignore\", category=DeprecationWarning)"
   ]
  },
  {
   "cell_type": "code",
   "execution_count": null,
   "metadata": {
    "collapsed": true
   },
   "outputs": [],
   "source": [
    "propiedades = pd.read_csv('../../set_datos_one_hot_encoder.csv')\n",
    "set_pruebas = pd.read_csv('../set_pruebas_one_hot_encoder.csv')\n",
    "\n",
    "columnas = ['superficie','lat', 'lon','property_type_encoded','seguridad','gimnasio', 'aire', \\\n",
    "            'pileta', 'cochera','transporte','comercio', 'servicios', 'doble piso', 'jardin']"
   ]
  },
  {
   "cell_type": "code",
   "execution_count": null,
   "metadata": {
    "collapsed": true
   },
   "outputs": [],
   "source": [
    "def encodear(x):\n",
    "    return [float(x) for x in x.strip('[').strip(']').split(',')]"
   ]
  },
  {
   "cell_type": "code",
   "execution_count": null,
   "metadata": {
    "collapsed": true
   },
   "outputs": [],
   "source": [
    "propiedades.loc[:,'property_type_encoded'] = propiedades.loc[:,'property_type_encoded']\\\n",
    ".apply(lambda x: encodear(x))\n",
    "\n",
    "set_pruebas.loc[:,'property_type_encoded'] = set_pruebas.loc[:,'property_type_encoded']\\\n",
    ".apply(lambda x: encodear(x))"
   ]
  },
  {
   "cell_type": "code",
   "execution_count": null,
   "metadata": {
    "collapsed": true
   },
   "outputs": [],
   "source": [
    "def predecir(x, estimador):\n",
    "    x = list(x[:3]) + x[3] + list(x[4:])\n",
    "    return estimador.predict([x])"
   ]
  },
  {
   "cell_type": "code",
   "execution_count": null,
   "metadata": {
    "collapsed": true
   },
   "outputs": [],
   "source": [
    "set_entrenamiento_datos = propiedades.loc[:,columnas]\n",
    "set_entrenamiento_resultado = propiedades.loc[:,'price_aprox_usd']"
   ]
  },
  {
   "cell_type": "code",
   "execution_count": null,
   "metadata": {
    "collapsed": true
   },
   "outputs": [],
   "source": [
    "datos = []\n",
    "\n",
    "for i in range(len(set_entrenamiento_datos)): \n",
    "    x = []\n",
    "    for n in columnas:\n",
    "        x.append(set_entrenamiento_datos[n][i])\n",
    "    x = x[:3] + x[3] + x[4:]\n",
    "    datos.append(x)"
   ]
  },
  {
   "cell_type": "code",
   "execution_count": null,
   "metadata": {
    "collapsed": true
   },
   "outputs": [],
   "source": [
    "def predecir(x, estimador):\n",
    "    x = list(x[:3]) + x[3] + list(x[4:])\n",
    "    return estimador.predict([x])"
   ]
  },
  {
   "cell_type": "code",
   "execution_count": null,
   "metadata": {},
   "outputs": [],
   "source": [
    "datos = []\n",
    "\n",
    "for i in range(len(set_entrenamiento_datos)): \n",
    "    x = []\n",
    "    for n in columnas:\n",
    "        x.append(set_entrenamiento_datos[n][i])\n",
    "    x = x[:3] + x[3] + x[4:]\n",
    "    datos.append(x)"
   ]
  },
  {
   "cell_type": "markdown",
   "metadata": {},
   "source": [
    "# Decision tree con gridsearch"
   ]
  },
  {
   "cell_type": "code",
   "execution_count": null,
   "metadata": {
    "collapsed": true
   },
   "outputs": [],
   "source": [
    "criterios = ['mse']\n",
    "max_depth = [None,150]\n",
    "features = [0.8,1.0]\n",
    "\n",
    "parametros = {\"criterion\" : criterios, \"max_depth\" : max_depth, \"max_features\" : features}\n",
    "\n",
    "iteraciones_cross_validation = 5\n",
    "arbol = DecisionTreeRegressor()"
   ]
  },
  {
   "cell_type": "code",
   "execution_count": null,
   "metadata": {},
   "outputs": [],
   "source": [
    "inicio = time.strftime(\"%X\")\n",
    "\n",
    "grid = GridSearchCV( estimator = arbol, param_grid = parametros, n_jobs = 2, cv = iteraciones_cross_validation)\n",
    "\n",
    "grid.fit(datos, set_entrenamiento_resultado)\n",
    "\n",
    "score = grid.best_score_ * 100\n",
    "mejores_parametros = grid.best_params_\n",
    "fin = time.strftime(\"%X\")\n",
    "\n",
    "print(\"Tiempo: {} --- {} \\n Precision: {:.2f} \\n Parametros = {}\".format(inicio,fin,score,mejores_parametros))"
   ]
  },
  {
   "cell_type": "code",
   "execution_count": null,
   "metadata": {
    "collapsed": true
   },
   "outputs": [],
   "source": [
    "set_pruebas.loc[:,'price_usd'] = set_pruebas.loc[:,columnas].apply(lambda x: predecir(x, grid)[0],axis = 1)\n",
    "\n",
    "resultado = set_pruebas.loc[:,['id','price_usd']]\n",
    "\n",
    "resultado.to_csv('resultados/Decision_tree_gridsearch_oneHotEncoder.csv', index = False)"
   ]
  },
  {
   "cell_type": "markdown",
   "metadata": {},
   "source": [
    "# Extra trees con gridsearch"
   ]
  },
  {
   "cell_type": "code",
   "execution_count": 24,
   "metadata": {
    "collapsed": true
   },
   "outputs": [],
   "source": [
    "criterios = ['mse']\n",
    "max_depth = [None,100]\n",
    "features = [0.4,0.6,1.0]\n",
    "estimators = [20, 30,50]\n",
    "\n",
    "parametros = {\"criterion\" : criterios, \"max_depth\" : max_depth, \\\n",
    "              \"n_estimators\" : estimators, \"max_features\" : features}\n",
    "\n",
    "iteraciones_cross_validation = 10\n",
    "arbol = ExtraTreesRegressor()"
   ]
  },
  {
   "cell_type": "code",
   "execution_count": 25,
   "metadata": {},
   "outputs": [
    {
     "name": "stdout",
     "output_type": "stream",
     "text": [
      "Tiempo: 17:21:24 --- 18:29:07 \n",
      " Precision: 97.57 \n",
      " Parametros = {'max_depth': 100, 'max_features': 0.4, 'n_estimators': 50, 'criterion': 'mse'}\n"
     ]
    }
   ],
   "source": [
    "inicio = time.strftime(\"%X\")\n",
    "\n",
    "grid = GridSearchCV( estimator = arbol, param_grid = parametros, n_jobs = 2, cv = iteraciones_cross_validation)\n",
    "\n",
    "grid.fit(datos, set_entrenamiento_resultado)\n",
    "\n",
    "score = grid.best_score_ * 100\n",
    "mejores_parametros = grid.best_params_\n",
    "fin = time.strftime(\"%X\")\n",
    "\n",
    "print(\"Tiempo: {} --- {} \\n Precision: {:.2f} \\n Parametros = {}\".format(inicio,fin,score,mejores_parametros))"
   ]
  },
  {
   "cell_type": "code",
   "execution_count": 26,
   "metadata": {
    "collapsed": true
   },
   "outputs": [],
   "source": [
    "set_pruebas.loc[:,'price_usd'] = set_pruebas.loc[:,columnas].apply(lambda x: predecir(x, grid)[0],axis = 1)\n",
    "\n",
    "resultado = set_pruebas.loc[:,['id','price_usd']]\n",
    "\n",
    "resultado.to_csv('resultados/Extra_trees_gridsearch_con_indice.csv', index = False)"
   ]
  },
  {
   "cell_type": "markdown",
   "metadata": {},
   "source": [
    "# Usando el state name encoded"
   ]
  },
  {
   "cell_type": "code",
   "execution_count": 90,
   "metadata": {
    "collapsed": true
   },
   "outputs": [],
   "source": [
    "propiedades = pd.read_csv('../../set_datos_one_hot_encoder.csv')\n",
    "set_pruebas = pd.read_csv('../set_pruebas_one_hot_encoder.csv')\n",
    "\n",
    "columnas = ['superficie','lat','lon','property_type_encoded', 'state_name_encoded',\\\n",
    "            'seguridad','gimnasio','aire','pileta','cochera']"
   ]
  },
  {
   "cell_type": "code",
   "execution_count": 91,
   "metadata": {
    "collapsed": true
   },
   "outputs": [],
   "source": [
    "def encodear(x):\n",
    "    return [float(x) for x in x.strip('[').strip(']').split(',')]"
   ]
  },
  {
   "cell_type": "code",
   "execution_count": 92,
   "metadata": {
    "collapsed": true
   },
   "outputs": [],
   "source": [
    "propiedades.loc[:,'property_type_encoded'] = propiedades.loc[:,'property_type_encoded']\\\n",
    ".apply(lambda x: encodear(x))\n",
    "\n",
    "propiedades.loc[:,'state_name_encoded'] = propiedades.loc[:,'state_name_encoded']\\\n",
    ".apply(lambda x: encodear(x))\n",
    "\n",
    "set_pruebas.loc[:,'property_type_encoded'] = set_pruebas.loc[:,'property_type_encoded']\\\n",
    ".apply(lambda x: encodear(x))\n",
    "\n",
    "set_pruebas.loc[:,'state_name_encoded'] = set_pruebas.loc[:,'state_name_encoded']\\\n",
    ".apply(lambda x: encodear(x))"
   ]
  },
  {
   "cell_type": "code",
   "execution_count": 93,
   "metadata": {
    "collapsed": true
   },
   "outputs": [],
   "source": [
    "def predecir(x, estimador):\n",
    "    x = list(x[:3]) + x[3] + x[4] + list(x[5:])\n",
    "    return estimador.predict([x])"
   ]
  },
  {
   "cell_type": "code",
   "execution_count": 94,
   "metadata": {
    "collapsed": true
   },
   "outputs": [],
   "source": [
    "set_entrenamiento_datos = propiedades.loc[:,columnas]\n",
    "set_entrenamiento_resultado = propiedades.loc[:,'price_aprox_usd']"
   ]
  },
  {
   "cell_type": "code",
   "execution_count": 95,
   "metadata": {
    "collapsed": true
   },
   "outputs": [],
   "source": [
    "datos = []\n",
    "\n",
    "for i in range(len(set_entrenamiento_datos)): \n",
    "    x = []\n",
    "    for n in columnas:\n",
    "        x.append(set_entrenamiento_datos[n][i])\n",
    "    x = x[:3] + x[3] + x[4] + x[5:]\n",
    "    datos.append(x)"
   ]
  },
  {
   "cell_type": "code",
   "execution_count": 96,
   "metadata": {
    "collapsed": true
   },
   "outputs": [],
   "source": [
    "criterios = ['mse']\n",
    "max_depth = [None,100,150]\n",
    "features = [0.6,0.8,1.0]\n",
    "\n",
    "parametros = {\"criterion\" : criterios, \"max_depth\" : max_depth, \"max_features\" : features}\n",
    "\n",
    "iteraciones_cross_validation = 5\n",
    "arbol = DecisionTreeRegressor()"
   ]
  },
  {
   "cell_type": "code",
   "execution_count": 97,
   "metadata": {},
   "outputs": [
    {
     "name": "stdout",
     "output_type": "stream",
     "text": [
      "Tiempo: 03:06:31 --- 03:10:57 \n",
      " Precision: 96.16 \n",
      " Parametros = {'criterion': 'mse', 'max_depth': 100, 'max_features': 0.6}\n"
     ]
    }
   ],
   "source": [
    "inicio = time.strftime(\"%X\")\n",
    "\n",
    "grid = GridSearchCV( estimator = arbol, param_grid = parametros, n_jobs = 2, cv = iteraciones_cross_validation)\n",
    "\n",
    "grid.fit(datos, set_entrenamiento_resultado)\n",
    "\n",
    "score = grid.best_score_ * 100\n",
    "mejores_parametros = grid.best_params_\n",
    "fin = time.strftime(\"%X\")\n",
    "\n",
    "print(\"Tiempo: {} --- {} \\n Precision: {:.2f} \\n Parametros = {}\".format(inicio,fin,score,mejores_parametros))"
   ]
  },
  {
   "cell_type": "code",
   "execution_count": 98,
   "metadata": {
    "collapsed": true
   },
   "outputs": [],
   "source": [
    "set_pruebas.loc[:,'price_usd'] = set_pruebas.loc[:,columnas].apply(lambda x: predecir(x, grid)[0],axis = 1)\n",
    "\n",
    "resultado = set_pruebas.loc[:,['id','price_usd']]\n",
    "\n",
    "resultado.to_csv('resultados/Decision_tree_HotEncoder_StateName.csv', index = False)"
   ]
  },
  {
   "cell_type": "markdown",
   "metadata": {},
   "source": [
    "# Aplicando Bagging"
   ]
  },
  {
   "cell_type": "code",
   "execution_count": null,
   "metadata": {
    "collapsed": true
   },
   "outputs": [],
   "source": [
    "propiedades = pd.read_csv('../../set_datos_one_hot_encoder.csv')\n",
    "set_pruebas = pd.read_csv('../set_pruebas_one_hot_encoder.csv')"
   ]
  },
  {
   "cell_type": "code",
   "execution_count": null,
   "metadata": {
    "collapsed": true
   },
   "outputs": [],
   "source": [
    "def encodear(x):\n",
    "    return [float(x) for x in x.strip('[').strip(']').split(',')]"
   ]
  },
  {
   "cell_type": "code",
   "execution_count": null,
   "metadata": {
    "collapsed": true
   },
   "outputs": [],
   "source": [
    "propiedades.loc[:,'property_type_encoded'] = propiedades.loc[:,'property_type_encoded']\\\n",
    ".apply(lambda x: encodear(x))\n",
    "\n",
    "set_pruebas.loc[:,'property_type_encoded'] = set_pruebas.loc[:,'property_type_encoded']\\\n",
    ".apply(lambda x: encodear(x))"
   ]
  },
  {
   "cell_type": "code",
   "execution_count": null,
   "metadata": {
    "collapsed": true
   },
   "outputs": [],
   "source": [
    "def predecir(x, estimador):\n",
    "    x = list(x[:3]) + x[3] + list(x[4:])\n",
    "    return estimador.predict([x])"
   ]
  },
  {
   "cell_type": "code",
   "execution_count": null,
   "metadata": {
    "collapsed": true
   },
   "outputs": [],
   "source": [
    "set_pruebas.loc[:,'price_usd'] = 0.0\n",
    "\n",
    "cant = 10\n",
    "col = ['superficie','lat', 'lon','property_type_encoded']\n",
    "comodidades = ['seguridad','gimnasio','aire','pileta','cochera','transporte','comercio','servicios','doble piso','jardin']\n",
    "\n",
    "for i in range(cant):\n",
    "    com = list(np.random.choice(comodidades,7,replace = False))\n",
    "    columnas = col + com\n",
    "    set_entrenamiento_datos = propiedades.loc[:,columnas]\n",
    "    set_entrenamiento_resultado = propiedades.loc[:,'price_aprox_usd']\n",
    "    \n",
    "    datos = []\n",
    "\n",
    "    for k in range(len(set_entrenamiento_datos)): \n",
    "        x = []\n",
    "        for n in columnas:\n",
    "            x.append(set_entrenamiento_datos[n][k])\n",
    "        x = x[:3] + x[3] + x[4:]\n",
    "        datos.append(x)\n",
    "    \n",
    "    tree = DecisionTreeRegressor(criterion = 'mse', max_depth = 100, max_features = 0.8)\n",
    "    \n",
    "    tree.fit(datos,set_entrenamiento_resultado)\n",
    "    set_pruebas.loc[:,'res'] = set_pruebas.loc[:,columnas].apply(lambda x: predecir(x, tree)[0],axis = 1)\n",
    "    set_pruebas.loc[:,'price_usd'] = set_pruebas.loc[:,'price_usd'] + set_pruebas.loc[:,'res']"
   ]
  },
  {
   "cell_type": "code",
   "execution_count": null,
   "metadata": {
    "collapsed": true
   },
   "outputs": [],
   "source": [
    "set_pruebas.loc[:,'price_usd'] = set_pruebas.loc[:,'price_usd'] / cant\n",
    "\n",
    "resultado = set_pruebas.loc[:,['id','price_usd']]\n",
    "\n",
    "resultado.to_csv('resultados/Decision_tree_bagging_OneHotEncoder.csv', index = False)"
   ]
  },
  {
   "cell_type": "markdown",
   "metadata": {},
   "source": [
    "# Realizando bagging de a dos en dos"
   ]
  },
  {
   "cell_type": "code",
   "execution_count": null,
   "metadata": {
    "collapsed": true
   },
   "outputs": [],
   "source": [
    "propiedades = pd.read_csv('../../set_datos_one_hot_encoder.csv')\n",
    "set_pruebas = pd.read_csv('../set_pruebas_one_hot_encoder.csv')"
   ]
  },
  {
   "cell_type": "code",
   "execution_count": null,
   "metadata": {
    "collapsed": true
   },
   "outputs": [],
   "source": [
    "def encodear(x):\n",
    "    return [float(x) for x in x.strip('[').strip(']').split(',')]"
   ]
  },
  {
   "cell_type": "code",
   "execution_count": null,
   "metadata": {
    "collapsed": true
   },
   "outputs": [],
   "source": [
    "propiedades.loc[:,'property_type_encoded'] = propiedades.loc[:,'property_type_encoded']\\\n",
    ".apply(lambda x: encodear(x))\n",
    "\n",
    "set_pruebas.loc[:,'property_type_encoded'] = set_pruebas.loc[:,'property_type_encoded']\\\n",
    ".apply(lambda x: encodear(x))"
   ]
  },
  {
   "cell_type": "code",
   "execution_count": null,
   "metadata": {
    "collapsed": true
   },
   "outputs": [],
   "source": [
    "def predecir(x, estimador):\n",
    "    x = list(x[:3]) + x[3] + list(x[4:])\n",
    "    return estimador.predict([x])"
   ]
  },
  {
   "cell_type": "code",
   "execution_count": null,
   "metadata": {
    "collapsed": true
   },
   "outputs": [],
   "source": [
    "set_pruebas.loc[:,'price_usd'] = 0.0\n",
    "\n",
    "cant = 10\n",
    "col = ['superficie','lat', 'lon','property_type_encoded']\n",
    "comodidades = ['seguridad','gimnasio','aire','pileta','cochera','transporte','comercio','servicios','doble piso','jardin']\n",
    "\n",
    "for i in range(cant):\n",
    "    com = list(np.random.choice(comodidades,7,replace = False))\n",
    "    columnas = col + com\n",
    "    set_entrenamiento_datos = propiedades.loc[:,columnas]\n",
    "    set_entrenamiento_resultado = propiedades.loc[:,'price_aprox_usd']\n",
    "\n",
    "    datos = []\n",
    "\n",
    "    for k in range(len(set_entrenamiento_datos)): \n",
    "        x = []\n",
    "        for n in columnas:\n",
    "            x.append(set_entrenamiento_datos[n][k])\n",
    "        x = x[:3] + x[3] + x[4:]\n",
    "        datos.append(x)\n",
    "\n",
    "    tree = DecisionTreeRegressor(criterion = 'mse', max_depth = 100, max_features = 0.8)\n",
    "\n",
    "    tree.fit(datos,set_entrenamiento_resultado)\n",
    "    set_pruebas.loc[:,'price_usd'] = (set_pruebas.loc[:,columnas].apply(lambda x: predecir(x, tree)[0],axis = 1) + \\\n",
    "            set_pruebas.loc[:,'price_usd']) / 2\n",
    "resultado = set_pruebas.loc[:,['id','price_usd']]\n",
    "\n",
    "resultado.to_csv('resultados/Decision_tree_bagging_OneHotEncoder_2En2.csv', index = False)"
   ]
  }
 ],
 "metadata": {
  "anaconda-cloud": {},
  "kernelspec": {
   "display_name": "Python 3",
   "language": "python",
   "name": "python3"
  },
  "language_info": {
   "codemirror_mode": {
    "name": "ipython",
    "version": 3
   },
   "file_extension": ".py",
   "mimetype": "text/x-python",
   "name": "python",
   "nbconvert_exporter": "python",
   "pygments_lexer": "ipython3",
   "version": "3.6.1"
  }
 },
 "nbformat": 4,
 "nbformat_minor": 2
}
