{
 "cells": [
  {
   "cell_type": "code",
   "execution_count": 1,
   "metadata": {
    "collapsed": true
   },
   "outputs": [],
   "source": [
    "import pandas as pd\n",
    "import numpy as np\n",
    "from sklearn import preprocessing\n",
    "from sklearn.neural_network import MLPRegressor\n",
    "from sklearn.metrics import mean_squared_error\n",
    "\n",
    "from sklearn.model_selection import GridSearchCV\n",
    "from sklearn.externals import joblib\n",
    "import time\n",
    "\n",
    "import warnings\n",
    "warnings.simplefilter(\"ignore\", category=DeprecationWarning)"
   ]
  },
  {
   "cell_type": "code",
   "execution_count": 2,
   "metadata": {
    "collapsed": true
   },
   "outputs": [],
   "source": [
    "def obtener_rmse(col_true, col_pred):\n",
    "    return mean_squared_error(col_true, col_pred)**0.5"
   ]
  },
  {
   "cell_type": "code",
   "execution_count": 3,
   "metadata": {
    "collapsed": true
   },
   "outputs": [],
   "source": [
    "propiedades = pd.read_csv('/home/agustin/Escritorio/escritorio/fiuba/Organizacion de datos/datos para el tp2/set_datos_propiedades.csv')"
   ]
  },
  {
   "cell_type": "code",
   "execution_count": 4,
   "metadata": {
    "collapsed": true
   },
   "outputs": [],
   "source": [
    "propiedades.drop(['lat','lon','fecha_de_publicacion', 'expenses', 'state_name',\\\n",
    "                  'distancia_villas', 'description'], axis = 1, inplace = True)\n",
    "propiedades = propiedades.loc[propiedades.superficie.notnull(),:]"
   ]
  },
  {
   "cell_type": "markdown",
   "metadata": {},
   "source": [
    "## Convierto los indices con preprocesamiento"
   ]
  },
  {
   "cell_type": "code",
   "execution_count": 5,
   "metadata": {
    "collapsed": true
   },
   "outputs": [],
   "source": [
    "barrios = {}\n",
    "for x in list(propiedades.place_name_encoded):\n",
    "    if x not in barrios:\n",
    "        barrios[x] = [x]"
   ]
  },
  {
   "cell_type": "code",
   "execution_count": 6,
   "metadata": {},
   "outputs": [
    {
     "data": {
      "text/plain": [
       "OneHotEncoder(categorical_features='all', dtype=<type 'numpy.float64'>,\n",
       "       handle_unknown='error', n_values='auto', sparse=True)"
      ]
     },
     "execution_count": 6,
     "metadata": {},
     "output_type": "execute_result"
    }
   ],
   "source": [
    "tipos = preprocessing.OneHotEncoder()\n",
    "tipos.fit([[0],[1],[2], [3]]) "
   ]
  },
  {
   "cell_type": "code",
   "execution_count": 7,
   "metadata": {
    "scrolled": true
   },
   "outputs": [
    {
     "data": {
      "text/plain": [
       "OneHotEncoder(categorical_features='all', dtype=<type 'numpy.float64'>,\n",
       "       handle_unknown='error', n_values='auto', sparse=True)"
      ]
     },
     "execution_count": 7,
     "metadata": {},
     "output_type": "execute_result"
    }
   ],
   "source": [
    "pre_barrios = preprocessing.OneHotEncoder()\n",
    "pre_barrios.fit(barrios.values())"
   ]
  },
  {
   "cell_type": "code",
   "execution_count": 8,
   "metadata": {
    "collapsed": true
   },
   "outputs": [],
   "source": [
    "propiedades.loc[:,'place_name_encoded_2'] = propiedades.loc[:,'place_name_encoded']\\\n",
    ".apply(lambda x: pre_barrios.transform([[x]]))"
   ]
  },
  {
   "cell_type": "code",
   "execution_count": 9,
   "metadata": {
    "collapsed": true
   },
   "outputs": [],
   "source": [
    "propiedades.loc[:,'property_type_encoded_2'] = propiedades.loc[:,'property_type_encoded']\\\n",
    ".apply(lambda x: tipos.transform([[x]]))"
   ]
  },
  {
   "cell_type": "code",
   "execution_count": 10,
   "metadata": {
    "collapsed": true
   },
   "outputs": [],
   "source": [
    "propiedades.to_csv('/home/agustin/Escritorio/datos_indice.csv', index = False)"
   ]
  },
  {
   "cell_type": "code",
   "execution_count": 11,
   "metadata": {
    "collapsed": true
   },
   "outputs": [],
   "source": [
    "entrenar = propiedades.loc[(propiedades.Year >= 2016) & ((propiedades.Month < 6) | (propiedades.Year < 2017)),:]"
   ]
  },
  {
   "cell_type": "code",
   "execution_count": 12,
   "metadata": {
    "collapsed": true
   },
   "outputs": [],
   "source": [
    "adivinar = propiedades.loc[(propiedades.Year == 2017) & (propiedades.Month == 6),:]"
   ]
  },
  {
   "cell_type": "markdown",
   "metadata": {},
   "source": [
    "## Perceptron sin indices de preprocesamiento"
   ]
  },
  {
   "cell_type": "code",
   "execution_count": 44,
   "metadata": {
    "collapsed": true
   },
   "outputs": [],
   "source": [
    "def adivinar_precio(fila, perceptron):\n",
    "    return  perceptron.predict([fila])[0]"
   ]
  },
  {
   "cell_type": "code",
   "execution_count": 7,
   "metadata": {
    "collapsed": true
   },
   "outputs": [],
   "source": [
    "condiciones = ['place_name_encoded', 'property_type_encoded', 'superficie', 'gimnasio',\\\n",
    "               'pileta', 'seguridad']\n",
    "\n",
    "precios = condiciones + ['price_aprox_usd']"
   ]
  },
  {
   "cell_type": "code",
   "execution_count": 41,
   "metadata": {
    "collapsed": true
   },
   "outputs": [],
   "source": [
    "funcion = ['adam', 'lbfgs', 'sgd']\n",
    "activacion = ['relu','identity', 'logistic', 'tanh']\n",
    "tolerancia = [1e-5, 1e-8, 1e-10]"
   ]
  },
  {
   "cell_type": "code",
   "execution_count": null,
   "metadata": {
    "collapsed": true
   },
   "outputs": [],
   "source": [
    "impresion = []\n",
    "for i in range (0, len(funcion)):\n",
    "    for j in range(0, len(activacion)):\n",
    "        for k in range(0, len(tolerancia)):\n",
    "            perceptron = MLPRegressor(solver = funcion[i], activation = activacion[j], tol = tolerancia[k])\n",
    "            perceptron.fit(entrenar.loc[:,condiciones], entrenar.loc[:, 'price_aprox_usd'])\n",
    "            adivinar.loc[:,'precio_adivinado_perceptron'] = adivinar.loc[:, condiciones]\\\n",
    "            .apply(lambda x: adivinar_precio(x, perceptron), axis = 1)\n",
    "            error = obtener_rmse(adivinar.loc[:,'price_aprox_usd'], adivinar.loc[:,'precio_adivinado_perceptron'])\n",
    "            impresion.append((funcion[i], activacion[j], tolerancia[k], error))"
   ]
  },
  {
   "cell_type": "code",
   "execution_count": 21,
   "metadata": {},
   "outputs": [
    {
     "name": "stdout",
     "output_type": "stream",
     "text": [
      "Funcion = adam , activacion = relu, tolerancia = 1e-05, error = 2856923.30569\n",
      "Funcion = adam , activacion = relu, tolerancia = 1e-08, error = 7885404.28854\n",
      "Funcion = adam , activacion = relu, tolerancia = 1e-10, error = 983892.01563\n",
      "Funcion = adam , activacion = identity, tolerancia = 1e-05, error = 8068786.87283\n",
      "Funcion = adam , activacion = identity, tolerancia = 1e-08, error = 6847308.97947\n",
      "Funcion = adam , activacion = identity, tolerancia = 1e-10, error = 7189725.68045\n",
      "Funcion = adam , activacion = logistic, tolerancia = 1e-05, error = 446011.124687\n",
      "Funcion = adam , activacion = logistic, tolerancia = 1e-08, error = 446001.878031\n",
      "Funcion = adam , activacion = logistic, tolerancia = 1e-10, error = 446003.376714\n",
      "Funcion = adam , activacion = tanh, tolerancia = 1e-05, error = 445965.857984\n",
      "Funcion = adam , activacion = tanh, tolerancia = 1e-08, error = 445964.564555\n",
      "Funcion = adam , activacion = tanh, tolerancia = 1e-10, error = 445965.56429\n",
      "Funcion = lbfgs , activacion = relu, tolerancia = 1e-05, error = 408879.078082\n",
      "Funcion = lbfgs , activacion = relu, tolerancia = 1e-08, error = 405035.572014\n",
      "Funcion = lbfgs , activacion = relu, tolerancia = 1e-10, error = 474906.293364\n",
      "Funcion = lbfgs , activacion = identity, tolerancia = 1e-05, error = 405465.524485\n",
      "Funcion = lbfgs , activacion = identity, tolerancia = 1e-08, error = 405468.764146\n",
      "Funcion = lbfgs , activacion = identity, tolerancia = 1e-10, error = 405470.477971\n",
      "Funcion = lbfgs , activacion = logistic, tolerancia = 1e-05, error = 382700.228527\n",
      "Funcion = lbfgs , activacion = logistic, tolerancia = 1e-08, error = 365530.991054\n",
      "Funcion = lbfgs , activacion = logistic, tolerancia = 1e-10, error = 384512.851827\n",
      "Funcion = lbfgs , activacion = tanh, tolerancia = 1e-05, error = 382111.45821\n",
      "Funcion = lbfgs , activacion = tanh, tolerancia = 1e-08, error = 386310.546273\n",
      "Funcion = lbfgs , activacion = tanh, tolerancia = 1e-10, error = 380269.619921\n",
      "Funcion = sgd , activacion = relu, tolerancia = 1e-05, error = 389848.222958\n",
      "Funcion = sgd , activacion = relu, tolerancia = 1e-08, error = 389792.444267\n",
      "Funcion = sgd , activacion = relu, tolerancia = 1e-10, error = 389850.929682\n"
     ]
    }
   ],
   "source": [
    "for i in range (0, len(impresion)):\n",
    "    print(\"Funcion = {} , activacion = {}, tolerancia = {}, error = {}\".format(impresion[i][0], impresion[i][1], impresion[i][2], impresion[i][3]))"
   ]
  },
  {
   "cell_type": "markdown",
   "metadata": {},
   "source": [
    "#### Algunos de sgd no corrieron porque tiraron error. El mejor resultado se obtuvo con solver = lbfgs, activation = logistic y tol = 1e-8"
   ]
  },
  {
   "cell_type": "markdown",
   "metadata": {},
   "source": [
    "## Corro nuevamente lbfgs pero con iteraciones de aprendizaje"
   ]
  },
  {
   "cell_type": "code",
   "execution_count": 46,
   "metadata": {
    "collapsed": true
   },
   "outputs": [],
   "source": [
    "impresion_2 = []\n",
    "for k in range(0, len(tolerancia)):\n",
    "        perceptron = MLPRegressor(solver = 'lbfgs', activation = 'logistic', tol = tolerancia[k], warm_start = True)\n",
    "        for j in range(15):\n",
    "            perceptron.fit(entrenar.loc[:,condiciones], entrenar.loc[:, 'price_aprox_usd'])\n",
    "        adivinar.loc[:,'precio_adivinado_perceptron'] = adivinar.loc[:, condiciones]\\\n",
    "        .apply(lambda x: adivinar_precio(x, perceptron), axis = 1)\n",
    "        error = obtener_rmse(adivinar.loc[:,'price_aprox_usd'], adivinar.loc[:,'precio_adivinado_perceptron'])\n",
    "        impresion_2.append(('lbfgs', 'logistic', tolerancia[k], error))"
   ]
  },
  {
   "cell_type": "code",
   "execution_count": 47,
   "metadata": {},
   "outputs": [
    {
     "name": "stdout",
     "output_type": "stream",
     "text": [
      "Funcion = lbfgs , activacion = logistic, tolerancia = 1e-05, error = 374794.999012\n",
      "Funcion = lbfgs , activacion = logistic, tolerancia = 1e-08, error = 387524.296117\n",
      "Funcion = lbfgs , activacion = logistic, tolerancia = 1e-10, error = 383514.002996\n"
     ]
    }
   ],
   "source": [
    "for i in range (0, len(impresion_2)):\n",
    "    print(\"Funcion = {} , activacion = {}, tolerancia = {}, error = {}\".format(impresion_2[i][0], impresion_2[i][1], impresion_2[i][2], impresion_2[i][3]))\n",
    "    #print(\"Funcion = {} , activacion = {}, tolerancia = {}, error = {}\".format(impresion_2[i]))"
   ]
  },
  {
   "cell_type": "markdown",
   "metadata": {},
   "source": [
    "## Calculo con los verdaderos datos con indices simples"
   ]
  },
  {
   "cell_type": "code",
   "execution_count": 4,
   "metadata": {
    "collapsed": true
   },
   "outputs": [],
   "source": [
    "entrenar = propiedades.loc[(propiedades.Year >= 2016) & ((propiedades.Month >= 6) | (propiedades.Year == 2017)),:]"
   ]
  },
  {
   "cell_type": "code",
   "execution_count": 8,
   "metadata": {
    "collapsed": true
   },
   "outputs": [],
   "source": [
    "perceptron = MLPRegressor(solver = 'lbfgs', activation = 'logistic', tol=1e-10,  warm_start = True)\n",
    "for k in range(6):\n",
    "    perceptron.fit(entrenar.loc[:,condiciones], entrenar.loc[:, 'price_aprox_usd'])"
   ]
  },
  {
   "cell_type": "code",
   "execution_count": 9,
   "metadata": {
    "collapsed": true
   },
   "outputs": [],
   "source": [
    "analizar = pd.read_csv('/home/agustin/Escritorio/escritorio/fiuba/Organizacion de datos/datos para el tp2/properati_dataset_modificado.csv')"
   ]
  },
  {
   "cell_type": "code",
   "execution_count": 12,
   "metadata": {
    "collapsed": true
   },
   "outputs": [],
   "source": [
    "analizar.loc[:,'price_usd'] = analizar.loc[:,condiciones].apply(lambda x: perceptron.predict([x])[0],axis = 1)"
   ]
  },
  {
   "cell_type": "code",
   "execution_count": 14,
   "metadata": {},
   "outputs": [
    {
     "data": {
      "text/plain": [
       "count     14166.000000\n",
       "mean     273737.920575\n",
       "std       13839.190497\n",
       "min      257696.031603\n",
       "25%      263776.557855\n",
       "50%      263816.677580\n",
       "75%      282017.209480\n",
       "max      296299.883654\n",
       "Name: price_usd, dtype: float64"
      ]
     },
     "execution_count": 14,
     "metadata": {},
     "output_type": "execute_result"
    }
   ],
   "source": [
    "analizar.price_usd.describe()"
   ]
  },
  {
   "cell_type": "code",
   "execution_count": 16,
   "metadata": {
    "collapsed": true
   },
   "outputs": [],
   "source": [
    "resultado = analizar.loc[:,['id','price_usd']]"
   ]
  },
  {
   "cell_type": "code",
   "execution_count": 17,
   "metadata": {
    "collapsed": true
   },
   "outputs": [],
   "source": [
    "resultado.to_csv('Perceptron_resultados.csv', index = False)"
   ]
  },
  {
   "cell_type": "markdown",
   "metadata": {},
   "source": [
    "## Con preprocesamiento de standarizacion"
   ]
  },
  {
   "cell_type": "code",
   "execution_count": 5,
   "metadata": {
    "collapsed": true
   },
   "outputs": [],
   "source": [
    "entrenar = propiedades.loc[((propiedades.Year == 2016) & (propiedades.Month >= 6)) | ((propiedades.Year == 2017) & (propiedades.Month < 6)),:]\n",
    "adivinar = propiedades.loc[(propiedades.Year == 2017) & (propiedades.Month >= 6),:]"
   ]
  },
  {
   "cell_type": "code",
   "execution_count": 11,
   "metadata": {},
   "outputs": [
    {
     "data": {
      "text/plain": [
       "StandardScaler(copy=True, with_mean=True, with_std=True)"
      ]
     },
     "execution_count": 11,
     "metadata": {},
     "output_type": "execute_result"
    }
   ],
   "source": [
    "from sklearn.preprocessing import StandardScaler  \n",
    "scaler = StandardScaler()  \n",
    "scaler.fit(entrenar.loc[:,condiciones])  "
   ]
  },
  {
   "cell_type": "code",
   "execution_count": 40,
   "metadata": {
    "collapsed": true
   },
   "outputs": [],
   "source": [
    "perceptron = MLPRegressor(solver = 'lbfgs', activation = 'logistic', tol=1e-10,  warm_start = True)\n",
    "for k in range(6):\n",
    "    perceptron.fit(scaler.transform(entrenar.loc[:,condiciones]), entrenar.loc[:, 'price_aprox_usd'])\n",
    "    print(k)"
   ]
  },
  {
   "cell_type": "code",
   "execution_count": 34,
   "metadata": {},
   "outputs": [
    {
     "data": {
      "text/plain": [
       "371377.69918790885"
      ]
     },
     "execution_count": 34,
     "metadata": {},
     "output_type": "execute_result"
    }
   ],
   "source": [
    "adivinar.loc[:,'precio_adivinado_perceptron'] = adivinar.loc[:, condiciones]\\\n",
    ".apply(lambda x: perceptron.predict(scaler.transform([x]))[0],axis = 1)\n",
    "obtener_rmse(adivinar.loc[:,'price_aprox_usd'], adivinar.loc[:,'precio_adivinado_perceptron'])"
   ]
  },
  {
   "cell_type": "code",
   "execution_count": 35,
   "metadata": {},
   "outputs": [
    {
     "data": {
      "text/plain": [
       "MLPRegressor(activation='logistic', alpha=0.0001, batch_size='auto',\n",
       "       beta_1=0.9, beta_2=0.999, early_stopping=False, epsilon=1e-08,\n",
       "       hidden_layer_sizes=(100,), learning_rate='constant',\n",
       "       learning_rate_init=0.001, max_iter=200, momentum=0.9,\n",
       "       nesterovs_momentum=True, power_t=0.5, random_state=None,\n",
       "       shuffle=True, solver='lbfgs', tol=1e-10, validation_fraction=0.1,\n",
       "       verbose=False, warm_start=True)"
      ]
     },
     "execution_count": 35,
     "metadata": {},
     "output_type": "execute_result"
    }
   ],
   "source": [
    "perceptron.fit(scaler.transform(adivinar.loc[:,condiciones]), adivinar.loc[:, 'price_aprox_usd'])"
   ]
  },
  {
   "cell_type": "code",
   "execution_count": 36,
   "metadata": {},
   "outputs": [
    {
     "data": {
      "text/plain": [
       "371163.71740396123"
      ]
     },
     "execution_count": 36,
     "metadata": {},
     "output_type": "execute_result"
    }
   ],
   "source": [
    "adivinar.loc[:,'precio_adivinado_perceptron'] = adivinar.loc[:, condiciones]\\\n",
    ".apply(lambda x: perceptron.predict(scaler.transform([x]))[0],axis = 1)\n",
    "obtener_rmse(adivinar.loc[:,'price_aprox_usd'], adivinar.loc[:,'precio_adivinado_perceptron'])"
   ]
  },
  {
   "cell_type": "code",
   "execution_count": 37,
   "metadata": {},
   "outputs": [
    {
     "data": {
      "text/plain": [
       "count     84605.000000\n",
       "mean     275410.730227\n",
       "std      111632.520567\n",
       "min       51843.428600\n",
       "25%      179065.385049\n",
       "50%      275235.405024\n",
       "75%      368577.680155\n",
       "max      484760.297554\n",
       "Name: precio_adivinado_perceptron, dtype: float64"
      ]
     },
     "execution_count": 37,
     "metadata": {},
     "output_type": "execute_result"
    }
   ],
   "source": [
    "adivinar.precio_adivinado_perceptron.describe()"
   ]
  },
  {
   "cell_type": "code",
   "execution_count": 25,
   "metadata": {
    "collapsed": true
   },
   "outputs": [],
   "source": [
    "analizar = pd.read_csv('/home/agustin/Escritorio/escritorio/fiuba/Organizacion de datos/datos para el tp2/properati_dataset_modificado.csv')"
   ]
  },
  {
   "cell_type": "code",
   "execution_count": 38,
   "metadata": {
    "collapsed": true
   },
   "outputs": [],
   "source": [
    "analizar.loc[:,'price_usd'] = analizar.loc[:,condiciones]\\\n",
    ".apply(lambda x: abs(perceptron.predict(scaler.transform([x]))[0]),axis = 1)"
   ]
  },
  {
   "cell_type": "code",
   "execution_count": 39,
   "metadata": {},
   "outputs": [
    {
     "data": {
      "text/plain": [
       "count     14166.000000\n",
       "mean     241770.056467\n",
       "std       95024.671605\n",
       "min       51843.637336\n",
       "25%      179065.385049\n",
       "50%      204477.225855\n",
       "75%      325592.993634\n",
       "max      478662.318505\n",
       "Name: price_usd, dtype: float64"
      ]
     },
     "execution_count": 39,
     "metadata": {},
     "output_type": "execute_result"
    }
   ],
   "source": [
    "analizar.price_usd.describe()"
   ]
  },
  {
   "cell_type": "code",
   "execution_count": 30,
   "metadata": {
    "collapsed": true
   },
   "outputs": [],
   "source": [
    "resultado = analizar.loc[:,['id','price_usd']]"
   ]
  },
  {
   "cell_type": "code",
   "execution_count": 31,
   "metadata": {
    "collapsed": true
   },
   "outputs": [],
   "source": [
    "resultado.to_csv('Perceptron_resultados_con_standard_scaler.csv', index = False)"
   ]
  },
  {
   "cell_type": "markdown",
   "metadata": {},
   "source": [
    "## Ahora uso lat y lon en lugar de place name"
   ]
  },
  {
   "cell_type": "code",
   "execution_count": 4,
   "metadata": {
    "collapsed": true
   },
   "outputs": [],
   "source": [
    "propiedades = propiedades.loc[(propiedades.price_aprox_usd.notnull()) & (propiedades.superficie.notnull())\\\n",
    "                              & (propiedades.lat.notnull()) & (propiedades.lon.notnull()),\\\n",
    "                             ['lat', 'lon', 'property_type_encoded','price_aprox_usd','superficie',\\\n",
    "                             'Year','Month','seguridad','aire','gimnasio','cochera','pileta']]"
   ]
  },
  {
   "cell_type": "code",
   "execution_count": 5,
   "metadata": {
    "collapsed": true
   },
   "outputs": [],
   "source": [
    "columnas = ['superficie','lat', 'lon','property_type_encoded','seguridad','gimnasio', 'aire', 'pileta', 'cochera']\n",
    "columnas_precio = columnas + ['price_aprox_usd']"
   ]
  },
  {
   "cell_type": "code",
   "execution_count": 6,
   "metadata": {
    "collapsed": true
   },
   "outputs": [],
   "source": [
    "set_entrenamiento = propiedades.loc[(propiedades.Year >= 2016) &((propiedades.Year < 2017) | (propiedades.Month < 6))\\\n",
    "                                    ,columnas_precio]\n",
    "set_pruebas = propiedades.loc[(propiedades.Year == 2017) & (propiedades.Month == 6),columnas_precio].head(20000)\n",
    "\n",
    "set_entrenamiento_datos = set_entrenamiento.loc[:,columnas]\n",
    "set_entrenamiento_resultado = set_entrenamiento.loc[:,'price_aprox_usd']"
   ]
  },
  {
   "cell_type": "code",
   "execution_count": 9,
   "metadata": {},
   "outputs": [
    {
     "name": "stdout",
     "output_type": "stream",
     "text": [
      "Precision = 20.15 % , error = 92449448897.9\n"
     ]
    }
   ],
   "source": [
    "perceptron = MLPRegressor(solver = 'lbfgs', activation = 'logistic', tol=1e-10,  warm_start = True)\n",
    "for k in range(6):\n",
    "    perceptron.fit(set_entrenamiento_datos,set_entrenamiento_resultado)\n",
    "set_pruebas.loc[:,'resultado'] = set_pruebas.loc[:,columnas].apply(lambda x: perceptron.predict([x])[0],axis = 1)\n",
    "precision = perceptron.score(set_pruebas.loc[:,columnas],set_pruebas.price_aprox_usd) * 100\n",
    "error = mean_squared_error(set_pruebas.price_aprox_usd,set_pruebas.resultado)\n",
    "print(\"Precision = {:.2f} % , error = {}\".format(precision, error))"
   ]
  },
  {
   "cell_type": "markdown",
   "metadata": {},
   "source": [
    "#### El resultado obtenido no es bueno por lo que no continuamos "
   ]
  },
  {
   "cell_type": "markdown",
   "metadata": {},
   "source": [
    "## Usando Gridsearch y Cross Validation"
   ]
  },
  {
   "cell_type": "code",
   "execution_count": null,
   "metadata": {
    "collapsed": true
   },
   "outputs": [],
   "source": [
    "propiedades = pd.read_csv('/home/agustin/Escritorio/escritorio/fiuba/Organizacion de datos/datos para el tp2/set_datos_propiedades.csv')\n",
    "\n",
    "propiedades = propiedades.loc[(propiedades.price_aprox_usd.notnull()) & (propiedades.superficie.notnull())\\\n",
    "                              & (propiedades.lat.notnull()) & (propiedades.lon.notnull()) & (propiedades.Year >=2016)]\n",
    "\n",
    "columnas = ['superficie','lat', 'lon','property_type_encoded','seguridad','gimnasio', 'aire', 'pileta', 'cochera']\n",
    "columnas_precio = columnas + ['price_aprox_usd']\n",
    "\n",
    "set_entrenamiento_datos = propiedades.loc[:,columnas]\n",
    "set_entrenamiento_resultado = propiedades.loc[:,'price_aprox_usd']"
   ]
  },
  {
   "cell_type": "code",
   "execution_count": null,
   "metadata": {
    "collapsed": true
   },
   "outputs": [],
   "source": [
    "# Parametros\n",
    "\n",
    "funcion = ['adam', 'lbfgs']\n",
    "activacion = ['relu','identity', 'logistic', 'tanh']\n",
    "tolerancia = [1e-8, 1e-10]\n",
    "\n",
    "parametros = {\"solver\" : funcion, \"activation\" : activacion, \"tol\" : tolerancia}\n",
    "\n",
    "iteraciones_cross_validation = 5\n",
    "perceptron = MLPRegressor()"
   ]
  },
  {
   "cell_type": "code",
   "execution_count": null,
   "metadata": {
    "collapsed": true
   },
   "outputs": [],
   "source": [
    "inicio = time.strftime(\"%X\")\n",
    "\n",
    "grid = GridSearchCV( estimator = perceptron, param_grid = parametros, n_jobs = 2, cv = iteraciones_cross_validation)\n",
    "\n",
    "grid.fit(set_entrenamiento_datos, set_entrenamiento_resultado)\n",
    "\n",
    "score = grid.best_score_ * 100\n",
    "mejores_parametros = grid.best_params_\n",
    "fin = time.strftime(\"%X\")\n",
    "\n",
    "print(\"Tiempo: {} --- {} \\n Precision: {:.2f} \\n Parametros = {}\".format(inicio,fin,score,mejores_parametros))"
   ]
  },
  {
   "cell_type": "code",
   "execution_count": null,
   "metadata": {
    "collapsed": true
   },
   "outputs": [],
   "source": [
    "analizar = pd.read_csv(\"../properati_dataset_modificado.csv\")\n",
    "\n",
    "analizar.loc[:,'price_usd'] = analizar.loc[:,columnas].apply(lambda x: grid.predict(x)[0],axis = 1)\n",
    "\n",
    "resultado = analizar.loc[:,['id','price_usd']]\n",
    "\n",
    "resultado.to_csv('resultados/Perceptron_GridSearch.csv', index = False)\n",
    "\n",
    "joblib.dump(grid, '/home/agustin/Escritorio/Perceptron.pkl')"
   ]
  },
  {
   "cell_type": "markdown",
   "metadata": {},
   "source": [
    "# Hago Bagging con el mejor algoritmo"
   ]
  },
  {
   "cell_type": "code",
   "execution_count": null,
   "metadata": {
    "collapsed": true
   },
   "outputs": [],
   "source": [
    "propiedades = pd.read_csv('/home/agustin/Escritorio/escritorio/fiuba/Organizacion de datos/datos para el tp2/set_datos_propiedades.csv')\n",
    "\n",
    "propiedades = propiedades.loc[(propiedades.price_aprox_usd.notnull()) & (propiedades.superficie.notnull())\\\n",
    "                              & (propiedades.lat.notnull()) & (propiedades.lon.notnull()) & (propiedades.Year >=2016)]\n",
    "\n",
    "columnas = ['superficie','lat', 'lon','property_type_encoded','seguridad','gimnasio', 'aire', 'pileta', 'cochera']\n",
    "columnas_precio = columnas + ['price_aprox_usd']\n",
    "\n",
    "set_pruebas = analizar = pd.read_csv(\"../properati_dataset_modificado.csv\")\n",
    "set_pruebas.loc[:,'price_usd'] = 0.0"
   ]
  },
  {
   "cell_type": "code",
   "execution_count": null,
   "metadata": {
    "collapsed": true
   },
   "outputs": [],
   "source": [
    "cant = 10\n",
    "\n",
    "for i in range(cant):\n",
    "    datos = propiedades.sample(frac = 0.7)\n",
    "    set_entrenamiento_datos = datos.loc[:,columnas]\n",
    "    set_entrenamiento_resultado = datos.loc[:,'price_aprox_usd']\n",
    "    \n",
    "    perceptron = MLPRegressor(solver = , activation = , tol = )\n",
    "    \n",
    "    perceptron.fit(set_entrenamiento_datos,set_entrenamiento_resultado)\n",
    "    set_pruebas.loc[:,'res'] = set_pruebas.loc[:,columnas].apply(lambda x: perceptron.predict(x)[0],axis = 1)\n",
    "    set_pruebas.loc[:,'price_usd'] = set_pruebas.loc[:,'price_usd'] + set_pruebas.loc[:,'res']"
   ]
  },
  {
   "cell_type": "code",
   "execution_count": null,
   "metadata": {
    "collapsed": true
   },
   "outputs": [],
   "source": [
    "set_pruebas.loc[:,'price_usd'] = set_pruebas.loc[:,'price_usd'] / cant\n",
    "\n",
    "resultado = set_pruebas.loc[:,['id','price_usd']]\n",
    "\n",
    "resultado.to_csv('resultados/Perceptron_Cross_Validation.csv', index = False)"
   ]
  }
 ],
 "metadata": {
  "kernelspec": {
   "display_name": "Python 3",
   "language": "python",
   "name": "python3"
  },
  "language_info": {
   "codemirror_mode": {
    "name": "ipython",
    "version": 2
   },
   "file_extension": ".py",
   "mimetype": "text/x-python",
   "name": "python",
   "nbconvert_exporter": "python",
   "pygments_lexer": "ipython2",
   "version": "2.7.12"
  }
 },
 "nbformat": 4,
 "nbformat_minor": 2
}
