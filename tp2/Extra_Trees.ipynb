{
 "cells": [
  {
   "cell_type": "code",
   "execution_count": 2,
   "metadata": {},
   "outputs": [],
   "source": [
    "import pandas as pd\n",
    "import numpy as np\n",
    "from sklearn.ensemble import ExtraTreesRegressor\n",
    "from sklearn.metrics import mean_squared_error\n",
    "\n",
    "import warnings\n",
    "warnings.simplefilter(\"ignore\", category=DeprecationWarning)"
   ]
  },
  {
   "cell_type": "code",
   "execution_count": 4,
   "metadata": {},
   "outputs": [],
   "source": [
    "propiedades = pd.read_csv('/home/agustin/Escritorio/escritorio/fiuba/Organizacion de datos/datos para el tp2/set_datos_propiedades.csv')"
   ]
  },
  {
   "cell_type": "code",
   "execution_count": 5,
   "metadata": {
    "collapsed": true
   },
   "outputs": [],
   "source": [
    "propiedades = propiedades.loc[(propiedades.price_aprox_usd.notnull()) & (propiedades.superficie.notnull()),\\\n",
    "                             ['place_name_encoded', 'property_type_encoded','price_aprox_usd','superficie',\\\n",
    "                             'Year','Month','seguridad','aire','gimnasio','cochera','pileta']]"
   ]
  },
  {
   "cell_type": "code",
   "execution_count": 4,
   "metadata": {},
   "outputs": [
    {
     "name": "stdout",
     "output_type": "stream",
     "text": [
      "<class 'pandas.core.frame.DataFrame'>\n",
      "Int64Index: 1132495 entries, 0 to 1413024\n",
      "Data columns (total 11 columns):\n",
      "place_name_encoded       1132495 non-null int64\n",
      "property_type_encoded    1132495 non-null int64\n",
      "price_aprox_usd          1132495 non-null float64\n",
      "superficie               1132495 non-null float64\n",
      "Year                     1132495 non-null int64\n",
      "Month                    1132495 non-null int64\n",
      "seguridad                1132495 non-null bool\n",
      "aire                     1132495 non-null bool\n",
      "gimnasio                 1132495 non-null bool\n",
      "cochera                  1132495 non-null bool\n",
      "pileta                   1132495 non-null bool\n",
      "dtypes: bool(5), float64(2), int64(4)\n",
      "memory usage: 65.9 MB\n"
     ]
    }
   ],
   "source": [
    "propiedades.info()"
   ]
  },
  {
   "cell_type": "markdown",
   "metadata": {},
   "source": [
    "# Decision Tree"
   ]
  },
  {
   "cell_type": "code",
   "execution_count": 6,
   "metadata": {
    "collapsed": true
   },
   "outputs": [],
   "source": [
    "columnas = ['superficie','place_name_encoded','property_type_encoded','seguridad','gimnasio', 'aire', 'pileta', 'cochera']\n",
    "columnas_precio = columnas + ['price_aprox_usd']"
   ]
  },
  {
   "cell_type": "code",
   "execution_count": 7,
   "metadata": {
    "collapsed": true
   },
   "outputs": [],
   "source": [
    "set_entrenamiento = propiedades.loc[(propiedades.Year >= 2016) &((propiedades.Year < 2017) | (propiedades.Month < 6))\\\n",
    "                                    ,columnas_precio]\n",
    "set_pruebas = propiedades.loc[(propiedades.Year == 2017) & (propiedades.Month == 6),columnas_precio].head(20000)\n",
    "\n",
    "set_entrenamiento_datos = set_entrenamiento.loc[:,columnas]\n",
    "set_entrenamiento_resultado = set_entrenamiento.loc[:,'price_aprox_usd']"
   ]
  },
  {
   "cell_type": "code",
   "execution_count": 9,
   "metadata": {},
   "outputs": [
    {
     "name": "stdout",
     "output_type": "stream",
     "text": [
      "Precision = 91.02 % , error = 12388393674.6\n"
     ]
    }
   ],
   "source": [
    "tree = ExtraTreesRegressor()\n",
    "tree.fit(set_entrenamiento_datos,set_entrenamiento_resultado)\n",
    "set_pruebas.loc[:,'resultado'] = set_pruebas.loc[:,columnas].apply(lambda x: tree.predict([x])[0],axis = 1)\n",
    "precision = tree.score(set_pruebas.loc[:,columnas],set_pruebas.price_aprox_usd) * 100\n",
    "error = mean_squared_error(set_pruebas.price_aprox_usd,set_pruebas.resultado)\n",
    "print(\"Precision = {:.2f} % , error = {}\".format(precision, error))"
   ]
  },
  {
   "cell_type": "code",
   "execution_count": 12,
   "metadata": {},
   "outputs": [
    {
     "name": "stdout",
     "output_type": "stream",
     "text": [
      "0 - Precision = 90.97 % , error = 12456484013.9\n",
      "1 - Precision = 91.04 % , error = 12365143887.2\n",
      "2 - Precision = 91.07 % , error = 12317432207.1\n",
      "3 - Precision = 91.02 % , error = 12390494796.7\n",
      "4 - Precision = 91.03 % , error = 12378641786.7\n",
      "5 - Precision = 91.01 % , error = 12402098557.2\n",
      "6 - Precision = 91.01 % , error = 12399062890.3\n",
      "7 - Precision = 91.04 % , error = 12363994452.4\n",
      "8 - Precision = 91.10 % , error = 12277970916.6\n",
      "9 - Precision = 91.00 % , error = 12409765742.2\n"
     ]
    }
   ],
   "source": [
    "for i in range (10):\n",
    "    tree = ExtraTreesRegressor(warm_start = True)\n",
    "    tree.fit(set_entrenamiento_datos,set_entrenamiento_resultado)\n",
    "    set_pruebas.loc[:,'resultado'] = set_pruebas.loc[:,columnas].apply(lambda x: tree.predict([x])[0],axis = 1)\n",
    "    precision = tree.score(set_pruebas.loc[:,columnas],set_pruebas.price_aprox_usd) * 100\n",
    "    error = mean_squared_error(set_pruebas.price_aprox_usd,set_pruebas.resultado)\n",
    "    print(\"{} - Precision = {:.2f} % , error = {}\".format(i, precision, error))"
   ]
  },
  {
   "cell_type": "markdown",
   "metadata": {},
   "source": [
    "#### Warm start no influye mucho por lo que decidimos no utilizarlo."
   ]
  },
  {
   "cell_type": "markdown",
   "metadata": {},
   "source": [
    "## Ahora que tenemos una intuicion, probamos cambiando los parametros"
   ]
  },
  {
   "cell_type": "code",
   "execution_count": 7,
   "metadata": {
    "collapsed": true
   },
   "outputs": [],
   "source": [
    "columnas = ['superficie','place_name_encoded','property_type_encoded','seguridad','gimnasio', 'aire', 'pileta', 'cochera']\n",
    "columnas_precio = columnas + ['price_aprox_usd']"
   ]
  },
  {
   "cell_type": "code",
   "execution_count": 8,
   "metadata": {
    "collapsed": true
   },
   "outputs": [],
   "source": [
    "set_entrenamiento = propiedades.loc[(propiedades.Year >= 2016) &((propiedades.Year < 2017) | (propiedades.Month < 6))\\\n",
    "                                    ,columnas_precio]\n",
    "set_pruebas = propiedades.loc[(propiedades.Year == 2017) & (propiedades.Month == 6),columnas_precio].head(20000)\n",
    "\n",
    "set_entrenamiento_datos = set_entrenamiento.loc[:,columnas]\n",
    "set_entrenamiento_resultado = set_entrenamiento.loc[:,'price_aprox_usd']\n",
    "\n",
    "res = []"
   ]
  },
  {
   "cell_type": "code",
   "execution_count": 9,
   "metadata": {
    "scrolled": true
   },
   "outputs": [
    {
     "name": "stdout",
     "output_type": "stream",
     "text": [
      "mse  -  None  -  2  -  1  -  0.4\n",
      "mse  -  None  -  2  -  1  -  0.6\n",
      "mse  -  None  -  2  -  1  -  1.0\n",
      "mse  -  None  -  2  -  10  -  0.4\n",
      "mse  -  None  -  2  -  10  -  0.6\n",
      "mse  -  None  -  2  -  10  -  1.0\n",
      "mse  -  None  -  3  -  1  -  0.4\n",
      "mse  -  None  -  3  -  1  -  0.6\n",
      "mse  -  None  -  3  -  1  -  1.0\n",
      "mse  -  None  -  3  -  10  -  0.4\n",
      "mse  -  None  -  3  -  10  -  0.6\n",
      "mse  -  None  -  3  -  10  -  1.0\n",
      "mse  -  1  -  2  -  1  -  0.4\n",
      "mse  -  1  -  2  -  1  -  0.6\n",
      "mse  -  1  -  2  -  1  -  1.0\n",
      "mse  -  1  -  2  -  10  -  0.4\n",
      "mse  -  1  -  2  -  10  -  0.6\n",
      "mse  -  1  -  2  -  10  -  1.0\n",
      "mse  -  1  -  3  -  1  -  0.4\n",
      "mse  -  1  -  3  -  1  -  0.6\n",
      "mse  -  1  -  3  -  1  -  1.0\n",
      "mse  -  1  -  3  -  10  -  0.4\n",
      "mse  -  1  -  3  -  10  -  0.6\n",
      "mse  -  1  -  3  -  10  -  1.0\n",
      "mse  -  5  -  2  -  1  -  0.4\n",
      "mse  -  5  -  2  -  1  -  0.6\n",
      "mse  -  5  -  2  -  1  -  1.0\n",
      "mse  -  5  -  2  -  10  -  0.4\n",
      "mse  -  5  -  2  -  10  -  0.6\n",
      "mse  -  5  -  2  -  10  -  1.0\n",
      "mse  -  5  -  3  -  1  -  0.4\n",
      "mse  -  5  -  3  -  1  -  0.6\n",
      "mse  -  5  -  3  -  1  -  1.0\n",
      "mse  -  5  -  3  -  10  -  0.4\n",
      "mse  -  5  -  3  -  10  -  0.6\n",
      "mse  -  5  -  3  -  10  -  1.0\n",
      "mse  -  10  -  2  -  1  -  0.4\n",
      "mse  -  10  -  2  -  1  -  0.6\n",
      "mse  -  10  -  2  -  1  -  1.0\n",
      "mse  -  10  -  2  -  10  -  0.4\n",
      "mse  -  10  -  2  -  10  -  0.6\n",
      "mse  -  10  -  2  -  10  -  1.0\n",
      "mse  -  10  -  3  -  1  -  0.4\n",
      "mse  -  10  -  3  -  1  -  0.6\n",
      "mse  -  10  -  3  -  1  -  1.0\n",
      "mse  -  10  -  3  -  10  -  0.4\n",
      "mse  -  10  -  3  -  10  -  0.6\n",
      "mse  -  10  -  3  -  10  -  1.0\n",
      "friedman_mse  -  None  -  2  -  1  -  0.4\n",
      "friedman_mse  -  None  -  2  -  1  -  0.6\n",
      "friedman_mse  -  None  -  2  -  1  -  1.0\n",
      "friedman_mse  -  None  -  2  -  10  -  0.4\n",
      "friedman_mse  -  None  -  2  -  10  -  0.6\n",
      "friedman_mse  -  None  -  2  -  10  -  1.0\n",
      "friedman_mse  -  None  -  3  -  1  -  0.4\n",
      "friedman_mse  -  None  -  3  -  1  -  0.6\n",
      "friedman_mse  -  None  -  3  -  1  -  1.0\n",
      "friedman_mse  -  None  -  3  -  10  -  0.4\n",
      "friedman_mse  -  None  -  3  -  10  -  0.6\n",
      "friedman_mse  -  None  -  3  -  10  -  1.0\n",
      "friedman_mse  -  1  -  2  -  1  -  0.4\n",
      "friedman_mse  -  1  -  2  -  1  -  0.6\n",
      "friedman_mse  -  1  -  2  -  1  -  1.0\n",
      "friedman_mse  -  1  -  2  -  10  -  0.4\n",
      "friedman_mse  -  1  -  2  -  10  -  0.6\n",
      "friedman_mse  -  1  -  2  -  10  -  1.0\n",
      "friedman_mse  -  1  -  3  -  1  -  0.4\n",
      "friedman_mse  -  1  -  3  -  1  -  0.6\n",
      "friedman_mse  -  1  -  3  -  1  -  1.0\n",
      "friedman_mse  -  1  -  3  -  10  -  0.4\n",
      "friedman_mse  -  1  -  3  -  10  -  0.6\n",
      "friedman_mse  -  1  -  3  -  10  -  1.0\n",
      "friedman_mse  -  5  -  2  -  1  -  0.4\n",
      "friedman_mse  -  5  -  2  -  1  -  0.6\n",
      "friedman_mse  -  5  -  2  -  1  -  1.0\n",
      "friedman_mse  -  5  -  2  -  10  -  0.4\n",
      "friedman_mse  -  5  -  2  -  10  -  0.6\n",
      "friedman_mse  -  5  -  2  -  10  -  1.0\n",
      "friedman_mse  -  5  -  3  -  1  -  0.4\n",
      "friedman_mse  -  5  -  3  -  1  -  0.6\n",
      "friedman_mse  -  5  -  3  -  1  -  1.0\n",
      "friedman_mse  -  5  -  3  -  10  -  0.4\n",
      "friedman_mse  -  5  -  3  -  10  -  0.6\n",
      "friedman_mse  -  5  -  3  -  10  -  1.0\n",
      "friedman_mse  -  10  -  2  -  1  -  0.4\n",
      "friedman_mse  -  10  -  2  -  1  -  0.6\n",
      "friedman_mse  -  10  -  2  -  1  -  1.0\n",
      "friedman_mse  -  10  -  2  -  10  -  0.4\n",
      "friedman_mse  -  10  -  2  -  10  -  0.6\n",
      "friedman_mse  -  10  -  2  -  10  -  1.0\n",
      "friedman_mse  -  10  -  3  -  1  -  0.4\n",
      "friedman_mse  -  10  -  3  -  1  -  0.6\n",
      "friedman_mse  -  10  -  3  -  1  -  1.0\n",
      "friedman_mse  -  10  -  3  -  10  -  0.4\n",
      "friedman_mse  -  10  -  3  -  10  -  0.6\n",
      "friedman_mse  -  10  -  3  -  10  -  1.0\n"
     ]
    }
   ],
   "source": [
    "lista_criterio = ['mse','mae']\n",
    "lista_max_depth = [None,1,5,10]\n",
    "lista_features = [0.4,0.6,1.0]\n",
    "lista_estimators = [5, 10, 20, 50]\n",
    "\n",
    "for criterio in lista_criterio:\n",
    "    for max_depth in lista_max_depth:\n",
    "        for estimator in lista_estimators:\n",
    "            for feature in lista_features:\n",
    "\n",
    "                tree = ExtraTreesRegressor(criterion = criterio, max_depth = max_depth, n_estimators = estimator,\\\n",
    "                                max_features = feature)\n",
    "                tree.fit(set_entrenamiento_datos,set_entrenamiento_resultado)\n",
    "                set_pruebas.loc[:,'resultado'] = set_pruebas.loc[:,columnas].apply\\\n",
    "                        (lambda x: tree.predict(x)[0],axis = 1)\n",
    "                precision = tree.score(set_pruebas.loc[:,columnas],set_pruebas.loc[:,'price_aprox_usd']) * 100\n",
    "                error = mean_squared_error(set_pruebas.price_aprox_usd,set_pruebas.resultado)\n",
    "                res.append((criterio,max_depth,estimator,feature,precision,error))\n",
    "                print(criterio,' - ',max_depth,' - ',estimator,' - ',feature)"
   ]
  },
  {
   "cell_type": "code",
   "execution_count": 11,
   "metadata": {
    "scrolled": false
   },
   "outputs": [],
   "source": [
    "for r in res:\n",
    "    print(\"Criterio = {}, max_depth = {}, n_estimators = {}, features = {}, precision = {:.2f} % , error = {}\"\\\n",
    "          .format(r[0],r[1],r[2],r[3],r[4],r[5]))"
   ]
  },
  {
   "cell_type": "code",
   "execution_count": 11,
   "metadata": {},
   "outputs": [
    {
     "name": "stdout",
     "output_type": "stream",
     "text": [
      "Mayor precision = Criterio = mse, max_depth = None, min_sample_split = 2, min_sample_leaf = 1, features = 1.0, precision = 90.99 % , error = 12436424287.069954\n",
      "Menor error = Criterio = mse, max_depth = None, min_sample_split = 2, min_sample_leaf = 1, features = 1.0, precision = 90.99 % , error = 12436424287.069954\n"
     ]
    }
   ],
   "source": [
    "min_error = float('inf')\n",
    "max_precision = 0\n",
    "tupla_min_error = ()\n",
    "tupla_max_precision = ()\n",
    "for r in res:\n",
    "    if r[5] < min_error:\n",
    "        min_error = r[5]\n",
    "        tupla_min_error = r\n",
    "    if r[4] > max_precision:\n",
    "        max_precision = r[4]\n",
    "        tupla_max_precision = r\n",
    "        \n",
    "print(\"Mayor precision = Criterio = {}, max_depth = {}, n_estimators = {}, features = {}, precision = {:.2f} % , error = {}\".\\\n",
    "              format(tupla_max_precision[0],tupla_max_precision[1],tupla_max_precision[2],tupla_max_precision[3],tupla_max_precision[4],tupla_max_precision[5]))\n",
    "print(\"Menor error = Criterio = {}, max_depth = {}, n_estimators = {}, features = {}, precision = {:.2f} % , error = {}\".\\\n",
    "              format(tupla_min_error[0],tupla_min_error[1],tupla_min_error[2],tupla_min_error[3],tupla_min_error[4],tupla_min_error[5]))"
   ]
  },
  {
   "cell_type": "markdown",
   "metadata": {},
   "source": [
    "## Tomamos criterio = mse, max_depth = None , n_estimators = 1, features = 1.0"
   ]
  },
  {
   "cell_type": "code",
   "execution_count": 56,
   "metadata": {
    "collapsed": true
   },
   "outputs": [],
   "source": [
    "#Probamos distintas combinaciones de columnas, esta es la que dio mejores resultados\n",
    "\n",
    "columnas = ['superficie','place_name_encoded','property_type_encoded','seguridad','gimnasio','aire','pileta','cochera']\n",
    "columnas_precio = columnas + ['price_aprox_usd']"
   ]
  },
  {
   "cell_type": "code",
   "execution_count": 57,
   "metadata": {
    "collapsed": true
   },
   "outputs": [],
   "source": [
    "set_entrenamiento = propiedades.loc[(propiedades.Year >= 2016) &((propiedades.Year < 2017) | (propiedades.Month < 6))\\\n",
    "                                    ,columnas_precio]\n",
    "set_pruebas = propiedades.loc[(propiedades.Year == 2017) & (propiedades.Month == 6),columnas_precio].head(20000)\n",
    "\n",
    "set_entrenamiento_datos = set_entrenamiento.loc[:,columnas]\n",
    "set_entrenamiento_resultado = set_entrenamiento.loc[:,'price_aprox_usd']"
   ]
  },
  {
   "cell_type": "code",
   "execution_count": 58,
   "metadata": {
    "collapsed": true
   },
   "outputs": [],
   "source": [
    "criterio = 'mse'\n",
    "max_depth = None\n",
    "estimator = 2\n",
    "feature = 1.0"
   ]
  },
  {
   "cell_type": "code",
   "execution_count": 59,
   "metadata": {},
   "outputs": [
    {
     "name": "stdout",
     "output_type": "stream",
     "text": [
      "Precision = 90.97 % , error = 12458466712.821684\n"
     ]
    }
   ],
   "source": [
    "tree = ExtraTreesRegressor(criterion = criterio, max_depth = max_depth, n_estimators = estimator,\\\n",
    "                                max_features = feature)\n",
    "tree.fit(set_entrenamiento_datos,set_entrenamiento_resultado)\n",
    "set_pruebas.loc[:,'resultado'] = set_pruebas.loc[:,columnas].apply(lambda x: tree.predict(x)[0],axis = 1)\n",
    "precision = tree.score(set_pruebas.loc[:,columnas],set_pruebas.price_aprox_usd) * 100\n",
    "error = mean_squared_error(set_pruebas.price_aprox_usd,set_pruebas.resultado)\n",
    "print(\"Precision = {:.2f} % , error = {}\".format(precision, error))"
   ]
  },
  {
   "cell_type": "markdown",
   "metadata": {},
   "source": [
    "# calculo con los verdaderos datos a analizar"
   ]
  },
  {
   "cell_type": "code",
   "execution_count": 60,
   "metadata": {
    "collapsed": true
   },
   "outputs": [],
   "source": [
    "analizar = pd.read_csv(\"/home/mati/Desktop/properati_dataset_modificado.csv\")"
   ]
  },
  {
   "cell_type": "code",
   "execution_count": 62,
   "metadata": {
    "collapsed": true
   },
   "outputs": [],
   "source": [
    "analizar.loc[:,'price_usd'] = analizar.loc[:,columnas].apply(lambda x: tree.predict(x)[0],axis = 1)"
   ]
  },
  {
   "cell_type": "code",
   "execution_count": 63,
   "metadata": {
    "collapsed": true
   },
   "outputs": [],
   "source": [
    "resultado = analizar.loc[:,['id','price_usd']]"
   ]
  },
  {
   "cell_type": "code",
   "execution_count": 64,
   "metadata": {
    "collapsed": true
   },
   "outputs": [],
   "source": [
    "resultado.to_csv('resultados/Extra_trees.csv', index = False)"
   ]
  }
 ],
 "metadata": {
  "kernelspec": {
   "display_name": "Python 3",
   "language": "python",
   "name": "python3"
  },
  "language_info": {
   "codemirror_mode": {
    "name": "ipython",
    "version": 2
   },
   "file_extension": ".py",
   "mimetype": "text/x-python",
   "name": "python",
   "nbconvert_exporter": "python",
   "pygments_lexer": "ipython2",
   "version": "2.7.12"
  }
 },
 "nbformat": 4,
 "nbformat_minor": 2
}
