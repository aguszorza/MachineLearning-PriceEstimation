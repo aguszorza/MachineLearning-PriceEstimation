{
 "cells": [
  {
   "cell_type": "code",
   "execution_count": 1,
   "metadata": {
    "collapsed": true
   },
   "outputs": [],
   "source": [
    "import pandas as pd\n",
    "import numpy as np\n",
    "from sklearn.ensemble import ExtraTreesRegressor\n",
    "from sklearn.metrics import mean_squared_error\n",
    "from sklearn.model_selection import GridSearchCV\n",
    "from sklearn.externals import joblib\n",
    "import time\n",
    "from sklearn.decomposition import TruncatedSVD\n",
    "from sklearn.model_selection import train_test_split\n",
    "\n",
    "import warnings\n",
    "warnings.simplefilter(\"ignore\", category=DeprecationWarning)"
   ]
  },
  {
   "cell_type": "code",
   "execution_count": 2,
   "metadata": {
    "collapsed": true
   },
   "outputs": [],
   "source": [
    "propiedades = pd.read_csv('../../set_datos_propiedades.csv')"
   ]
  },
  {
   "cell_type": "code",
   "execution_count": 3,
   "metadata": {
    "collapsed": true
   },
   "outputs": [],
   "source": [
    "propiedades = propiedades.loc[(propiedades.price_aprox_usd.notnull()) & (propiedades.superficie.notnull()),\\\n",
    "                             ['place_name_encoded', 'property_type_encoded','price_aprox_usd','superficie',\\\n",
    "                             'Year','Month','seguridad','aire','gimnasio','cochera','pileta']]"
   ]
  },
  {
   "cell_type": "markdown",
   "metadata": {},
   "source": [
    "# Extra Trees"
   ]
  },
  {
   "cell_type": "code",
   "execution_count": 5,
   "metadata": {
    "collapsed": true
   },
   "outputs": [],
   "source": [
    "columnas = ['superficie','place_name_encoded','property_type_encoded','seguridad','gimnasio', 'aire', 'pileta', 'cochera']\n",
    "columnas_precio = columnas + ['price_aprox_usd']"
   ]
  },
  {
   "cell_type": "code",
   "execution_count": 6,
   "metadata": {
    "collapsed": true
   },
   "outputs": [],
   "source": [
    "set_entrenamiento = propiedades.loc[(propiedades.Year >= 2016) &((propiedades.Year < 2017) | (propiedades.Month < 6))\\\n",
    "                                    ,columnas_precio]\n",
    "set_pruebas = propiedades.loc[(propiedades.Year == 2017) & (propiedades.Month == 6),columnas_precio].head(20000)\n",
    "\n",
    "set_entrenamiento_datos = set_entrenamiento.loc[:,columnas]\n",
    "set_entrenamiento_resultado = set_entrenamiento.loc[:,'price_aprox_usd']"
   ]
  },
  {
   "cell_type": "code",
   "execution_count": 7,
   "metadata": {},
   "outputs": [
    {
     "name": "stdout",
     "output_type": "stream",
     "text": [
      "Precision = 91.10 % , error = 12283571587.994453\n"
     ]
    }
   ],
   "source": [
    "tree = ExtraTreesRegressor()\n",
    "tree.fit(set_entrenamiento_datos,set_entrenamiento_resultado)\n",
    "set_pruebas.loc[:,'resultado'] = set_pruebas.loc[:,columnas].apply(lambda x: tree.predict([x])[0],axis = 1)\n",
    "precision = tree.score(set_pruebas.loc[:,columnas],set_pruebas.price_aprox_usd) * 100\n",
    "error = mean_squared_error(set_pruebas.price_aprox_usd,set_pruebas.resultado)\n",
    "print(\"Precision = {:.2f} % , error = {}\".format(precision, error))"
   ]
  },
  {
   "cell_type": "code",
   "execution_count": 8,
   "metadata": {},
   "outputs": [
    {
     "name": "stdout",
     "output_type": "stream",
     "text": [
      "0 - Precision = 91.04 % , error = 12364606457.395063\n",
      "1 - Precision = 91.01 % , error = 12401141721.729986\n",
      "2 - Precision = 91.01 % , error = 12400642509.67664\n",
      "3 - Precision = 91.02 % , error = 12382131275.855284\n",
      "4 - Precision = 91.05 % , error = 12347604610.34062\n",
      "5 - Precision = 91.03 % , error = 12376616074.84907\n",
      "6 - Precision = 91.02 % , error = 12395149588.84798\n",
      "7 - Precision = 91.04 % , error = 12368032690.276468\n",
      "8 - Precision = 91.03 % , error = 12374965587.690071\n",
      "9 - Precision = 91.04 % , error = 12367679923.832384\n"
     ]
    }
   ],
   "source": [
    "for i in range (10):\n",
    "    tree = ExtraTreesRegressor(warm_start = True)\n",
    "    tree.fit(set_entrenamiento_datos,set_entrenamiento_resultado)\n",
    "    set_pruebas.loc[:,'resultado'] = set_pruebas.loc[:,columnas].apply(lambda x: tree.predict([x])[0],axis = 1)\n",
    "    precision = tree.score(set_pruebas.loc[:,columnas],set_pruebas.price_aprox_usd) * 100\n",
    "    error = mean_squared_error(set_pruebas.price_aprox_usd,set_pruebas.resultado)\n",
    "    print(\"{} - Precision = {:.2f} % , error = {}\".format(i, precision, error))"
   ]
  },
  {
   "cell_type": "markdown",
   "metadata": {},
   "source": [
    "#### Warm start no influye mucho por lo que decidimos no utilizarlo."
   ]
  },
  {
   "cell_type": "markdown",
   "metadata": {},
   "source": [
    "## Ahora que tenemos una intuicion, probamos cambiando los parametros"
   ]
  },
  {
   "cell_type": "code",
   "execution_count": 4,
   "metadata": {
    "collapsed": true
   },
   "outputs": [],
   "source": [
    "columnas = ['superficie','place_name_encoded','property_type_encoded','seguridad','gimnasio', 'aire', 'pileta', 'cochera']\n",
    "columnas_precio = columnas + ['price_aprox_usd']"
   ]
  },
  {
   "cell_type": "code",
   "execution_count": 5,
   "metadata": {
    "collapsed": true
   },
   "outputs": [],
   "source": [
    "set_entrenamiento = propiedades.loc[(propiedades.Year >= 2016) &((propiedades.Year < 2017) | (propiedades.Month < 6))\\\n",
    "                                    ,columnas_precio]\n",
    "set_pruebas = propiedades.loc[(propiedades.Year == 2017) & (propiedades.Month == 6),columnas_precio].head(20000)\n",
    "\n",
    "set_entrenamiento_datos = set_entrenamiento.loc[:,columnas]\n",
    "set_entrenamiento_resultado = set_entrenamiento.loc[:,'price_aprox_usd']\n",
    "\n",
    "res = []"
   ]
  },
  {
   "cell_type": "code",
   "execution_count": null,
   "metadata": {
    "collapsed": true
   },
   "outputs": [],
   "source": [
    "lista_criterio = ['mse']\n",
    "lista_max_depth = [None,1,5,10]\n",
    "lista_features = [0.4,0.6,1.0]\n",
    "lista_estimators = [5, 10, 20, 50]\n",
    "\n",
    "for criterio in lista_criterio:\n",
    "    for max_depth in lista_max_depth:\n",
    "        for estimator in lista_estimators:\n",
    "            for feature in lista_features:\n",
    "\n",
    "                tree = ExtraTreesRegressor(criterion = criterio, max_depth = max_depth, n_estimators = estimator,\\\n",
    "                                max_features = feature)\n",
    "                tree.fit(set_entrenamiento_datos,set_entrenamiento_resultado)\n",
    "                set_pruebas.loc[:,'resultado'] = set_pruebas.loc[:,columnas].apply\\\n",
    "                        (lambda x: tree.predict(x)[0],axis = 1)\n",
    "                precision = tree.score(set_pruebas.loc[:,columnas],set_pruebas.loc[:,'price_aprox_usd']) * 100\n",
    "                error = mean_squared_error(set_pruebas.price_aprox_usd,set_pruebas.resultado)\n",
    "                res.append((criterio,max_depth,estimator,feature,precision,error))\n",
    "                print(criterio,' - ',max_depth,' - ',estimator,' - ',feature)"
   ]
  },
  {
   "cell_type": "code",
   "execution_count": 7,
   "metadata": {
    "scrolled": false
   },
   "outputs": [
    {
     "name": "stdout",
     "output_type": "stream",
     "text": [
      "Criterio = mse, max_depth = None, n_estimators = 5, features = 0.4, precision = 91.03 % , error = 12368260838.480778\n",
      "Criterio = mse, max_depth = None, n_estimators = 5, features = 0.6, precision = 91.02 % , error = 12384470260.495207\n",
      "Criterio = mse, max_depth = None, n_estimators = 5, features = 1.0, precision = 91.03 % , error = 12373499765.923872\n",
      "Criterio = mse, max_depth = None, n_estimators = 10, features = 0.4, precision = 91.01 % , error = 12402224812.661474\n",
      "Criterio = mse, max_depth = None, n_estimators = 10, features = 0.6, precision = 91.01 % , error = 12408602399.492172\n",
      "Criterio = mse, max_depth = None, n_estimators = 10, features = 1.0, precision = 90.98 % , error = 12449835718.443325\n",
      "Criterio = mse, max_depth = None, n_estimators = 20, features = 0.4, precision = 91.03 % , error = 12372884685.18024\n",
      "Criterio = mse, max_depth = None, n_estimators = 20, features = 0.6, precision = 91.04 % , error = 12356921945.141111\n",
      "Criterio = mse, max_depth = None, n_estimators = 20, features = 1.0, precision = 91.07 % , error = 12325333017.713741\n",
      "Criterio = mse, max_depth = None, n_estimators = 50, features = 0.4, precision = 91.05 % , error = 12351609123.02617\n",
      "Criterio = mse, max_depth = None, n_estimators = 50, features = 0.6, precision = 91.07 % , error = 12324003203.223608\n",
      "Criterio = mse, max_depth = None, n_estimators = 50, features = 1.0, precision = 91.03 % , error = 12377478188.703226\n",
      "Criterio = mse, max_depth = 1, n_estimators = 5, features = 0.4, precision = 2.45 % , error = 134574772590.13734\n",
      "Criterio = mse, max_depth = 1, n_estimators = 5, features = 0.6, precision = 7.54 % , error = 127559124331.9394\n",
      "Criterio = mse, max_depth = 1, n_estimators = 5, features = 1.0, precision = 8.04 % , error = 126866601834.10048\n",
      "Criterio = mse, max_depth = 1, n_estimators = 10, features = 0.4, precision = 7.82 % , error = 127176016328.55345\n",
      "Criterio = mse, max_depth = 1, n_estimators = 10, features = 0.6, precision = 6.99 % , error = 128318354914.49167\n",
      "Criterio = mse, max_depth = 1, n_estimators = 10, features = 1.0, precision = 8.04 % , error = 126866601834.1005\n",
      "Criterio = mse, max_depth = 1, n_estimators = 20, features = 0.4, precision = 6.50 % , error = 128991102483.5797\n",
      "Criterio = mse, max_depth = 1, n_estimators = 20, features = 0.6, precision = 7.02 % , error = 128274205192.48254\n",
      "Criterio = mse, max_depth = 1, n_estimators = 20, features = 1.0, precision = 8.04 % , error = 126866601834.10048\n",
      "Criterio = mse, max_depth = 1, n_estimators = 50, features = 0.4, precision = 6.17 % , error = 129449639038.0695\n",
      "Criterio = mse, max_depth = 1, n_estimators = 50, features = 0.6, precision = 6.93 % , error = 128404113820.46104\n",
      "Criterio = mse, max_depth = 1, n_estimators = 50, features = 1.0, precision = 8.04 % , error = 126866601834.10045\n",
      "Criterio = mse, max_depth = 5, n_estimators = 5, features = 0.4, precision = 16.81 % , error = 114766054365.2974\n",
      "Criterio = mse, max_depth = 5, n_estimators = 5, features = 0.6, precision = 19.16 % , error = 111523475855.2128\n",
      "Criterio = mse, max_depth = 5, n_estimators = 5, features = 1.0, precision = 21.31 % , error = 108555321892.80255\n",
      "Criterio = mse, max_depth = 5, n_estimators = 10, features = 0.4, precision = 16.31 % , error = 115460264131.73814\n",
      "Criterio = mse, max_depth = 5, n_estimators = 10, features = 0.6, precision = 15.93 % , error = 115984953247.15108\n",
      "Criterio = mse, max_depth = 5, n_estimators = 10, features = 1.0, precision = 20.12 % , error = 110207486690.06279\n",
      "Criterio = mse, max_depth = 5, n_estimators = 20, features = 0.4, precision = 16.23 % , error = 115562390498.61043\n",
      "Criterio = mse, max_depth = 5, n_estimators = 20, features = 0.6, precision = 17.93 % , error = 113229411827.7401\n",
      "Criterio = mse, max_depth = 5, n_estimators = 20, features = 1.0, precision = 21.46 % , error = 108356349217.51538\n",
      "Criterio = mse, max_depth = 5, n_estimators = 50, features = 0.4, precision = 15.77 % , error = 116203694156.85715\n",
      "Criterio = mse, max_depth = 5, n_estimators = 50, features = 0.6, precision = 19.38 % , error = 111219067830.1092\n",
      "Criterio = mse, max_depth = 5, n_estimators = 50, features = 1.0, precision = 20.87 % , error = 109171137285.57607\n",
      "Criterio = mse, max_depth = 10, n_estimators = 5, features = 0.4, precision = 32.96 % , error = 92485878448.64046\n",
      "Criterio = mse, max_depth = 10, n_estimators = 5, features = 0.6, precision = 39.58 % , error = 83350251129.48132\n",
      "Criterio = mse, max_depth = 10, n_estimators = 5, features = 1.0, precision = 42.92 % , error = 78745795771.85822\n",
      "Criterio = mse, max_depth = 10, n_estimators = 10, features = 0.4, precision = 33.07 % , error = 92333755619.12038\n",
      "Criterio = mse, max_depth = 10, n_estimators = 10, features = 0.6, precision = 34.11 % , error = 90899993513.86197\n",
      "Criterio = mse, max_depth = 10, n_estimators = 10, features = 1.0, precision = 48.29 % , error = 71343641798.14777\n",
      "Criterio = mse, max_depth = 10, n_estimators = 20, features = 0.4, precision = 33.48 % , error = 91777789551.41824\n",
      "Criterio = mse, max_depth = 10, n_estimators = 20, features = 0.6, precision = 36.78 % , error = 87223502389.69836\n",
      "Criterio = mse, max_depth = 10, n_estimators = 20, features = 1.0, precision = 45.81 % , error = 74758378891.09169\n",
      "Criterio = mse, max_depth = 10, n_estimators = 50, features = 0.4, precision = 34.04 % , error = 91005109119.70985\n",
      "Criterio = mse, max_depth = 10, n_estimators = 50, features = 0.6, precision = 37.37 % , error = 86410150647.56387\n",
      "Criterio = mse, max_depth = 10, n_estimators = 50, features = 1.0, precision = 46.25 % , error = 74148644037.62743\n"
     ]
    }
   ],
   "source": [
    "for r in res:\n",
    "    print(\"Criterio = {}, max_depth = {}, n_estimators = {}, features = {}, precision = {:.2f} % , error = {}\"\\\n",
    "          .format(r[0],r[1],r[2],r[3],r[4],r[5]))"
   ]
  },
  {
   "cell_type": "code",
   "execution_count": 8,
   "metadata": {},
   "outputs": [
    {
     "name": "stdout",
     "output_type": "stream",
     "text": [
      "Mayor precision = Criterio = mse, max_depth = None, n_estimators = 50, features = 0.6, precision = 91.07 % , error = 12324003203.223608\n",
      "Menor error = Criterio = mse, max_depth = None, n_estimators = 50, features = 0.6, precision = 91.07 % , error = 12324003203.223608\n"
     ]
    }
   ],
   "source": [
    "min_error = float('inf')\n",
    "max_precision = 0\n",
    "tupla_min_error = ()\n",
    "tupla_max_precision = ()\n",
    "for r in res:\n",
    "    if r[5] < min_error:\n",
    "        min_error = r[5]\n",
    "        tupla_min_error = r\n",
    "    if r[4] > max_precision:\n",
    "        max_precision = r[4]\n",
    "        tupla_max_precision = r\n",
    "        \n",
    "print(\"Mayor precision = Criterio = {}, max_depth = {}, n_estimators = {}, features = {}, precision = {:.2f} % , error = {}\".\\\n",
    "              format(tupla_max_precision[0],tupla_max_precision[1],tupla_max_precision[2],tupla_max_precision[3],tupla_max_precision[4],tupla_max_precision[5]))\n",
    "print(\"Menor error = Criterio = {}, max_depth = {}, n_estimators = {}, features = {}, precision = {:.2f} % , error = {}\".\\\n",
    "              format(tupla_min_error[0],tupla_min_error[1],tupla_min_error[2],tupla_min_error[3],tupla_min_error[4],tupla_min_error[5]))"
   ]
  },
  {
   "cell_type": "markdown",
   "metadata": {},
   "source": [
    "### Vemos que los mejores resultados no varian demasiado del default\n",
    "## Tomamos los parametros por default"
   ]
  },
  {
   "cell_type": "code",
   "execution_count": 36,
   "metadata": {
    "collapsed": true
   },
   "outputs": [],
   "source": [
    "#Probamos distintas combinaciones de columnas, esta es la que dio mejores resultados\n",
    "\n",
    "columnas = ['superficie','place_name_encoded','property_type_encoded','seguridad','gimnasio','aire','pileta','cochera']\n",
    "columnas_precio = columnas + ['price_aprox_usd']"
   ]
  },
  {
   "cell_type": "code",
   "execution_count": 37,
   "metadata": {
    "collapsed": true
   },
   "outputs": [],
   "source": [
    "set_entrenamiento = propiedades.loc[(propiedades.Year >= 2017) &((propiedades.Year < 2017) | (propiedades.Month < 6))\\\n",
    "                                    ,columnas_precio]\n",
    "set_pruebas = propiedades.loc[(propiedades.Year == 2017) & (propiedades.Month == 6),columnas_precio].head(20000)\n",
    "\n",
    "set_entrenamiento_datos = set_entrenamiento.loc[:,columnas]\n",
    "set_entrenamiento_resultado = set_entrenamiento.loc[:,'price_aprox_usd']"
   ]
  },
  {
   "cell_type": "code",
   "execution_count": 38,
   "metadata": {},
   "outputs": [
    {
     "name": "stdout",
     "output_type": "stream",
     "text": [
      "Precision = 91.30 % , error = 12005480261.044409\n"
     ]
    }
   ],
   "source": [
    "tree = ExtraTreesRegressor()\n",
    "tree.fit(set_entrenamiento_datos,set_entrenamiento_resultado)\n",
    "set_pruebas.loc[:,'resultado'] = set_pruebas.loc[:,columnas].apply(lambda x: tree.predict(x)[0],axis = 1)\n",
    "precision = tree.score(set_pruebas.loc[:,columnas],set_pruebas.price_aprox_usd) * 100\n",
    "error = mean_squared_error(set_pruebas.price_aprox_usd,set_pruebas.resultado)\n",
    "print(\"Precision = {:.2f} % , error = {}\".format(precision, error))"
   ]
  },
  {
   "cell_type": "markdown",
   "metadata": {},
   "source": [
    "# calculo con los verdaderos datos a analizar"
   ]
  },
  {
   "cell_type": "code",
   "execution_count": 39,
   "metadata": {
    "collapsed": true
   },
   "outputs": [],
   "source": [
    "analizar = pd.read_csv(\"../properati_dataset_modificado.csv\")"
   ]
  },
  {
   "cell_type": "code",
   "execution_count": 40,
   "metadata": {
    "collapsed": true
   },
   "outputs": [],
   "source": [
    "analizar.loc[:,'price_usd'] = analizar.loc[:,columnas].apply(lambda x: tree.predict(x)[0],axis = 1)"
   ]
  },
  {
   "cell_type": "code",
   "execution_count": 41,
   "metadata": {
    "collapsed": true
   },
   "outputs": [],
   "source": [
    "resultado = analizar.loc[:,['id','price_usd']]"
   ]
  },
  {
   "cell_type": "code",
   "execution_count": 42,
   "metadata": {
    "collapsed": true
   },
   "outputs": [],
   "source": [
    "resultado.to_csv('resultados/Extra_trees.csv', index = False)"
   ]
  },
  {
   "cell_type": "markdown",
   "metadata": {},
   "source": [
    "# Ahora uso lat y lon en lugar de place name"
   ]
  },
  {
   "cell_type": "code",
   "execution_count": 3,
   "metadata": {
    "collapsed": true
   },
   "outputs": [],
   "source": [
    "propiedades = propiedades.loc[(propiedades.price_aprox_usd.notnull()) & (propiedades.superficie.notnull())\\\n",
    "                              & (propiedades.lat.notnull()) & (propiedades.lon.notnull()),\\\n",
    "                             ['lat', 'lon', 'property_type_encoded','price_aprox_usd','superficie',\\\n",
    "                             'Year','Month','seguridad','aire','gimnasio','cochera','pileta']]"
   ]
  },
  {
   "cell_type": "code",
   "execution_count": 4,
   "metadata": {
    "collapsed": true
   },
   "outputs": [],
   "source": [
    "columnas = ['superficie','lat', 'lon','property_type_encoded','seguridad','gimnasio', 'aire', 'pileta', 'cochera']\n",
    "columnas_precio = columnas + ['price_aprox_usd']"
   ]
  },
  {
   "cell_type": "code",
   "execution_count": 5,
   "metadata": {
    "collapsed": true
   },
   "outputs": [],
   "source": [
    "set_entrenamiento = propiedades.loc[(propiedades.Year >= 2016) &((propiedades.Year < 2017) | (propiedades.Month < 6))\\\n",
    "                                    ,columnas_precio]\n",
    "set_pruebas = propiedades.loc[(propiedades.Year == 2017) & (propiedades.Month == 6),columnas_precio].head(20000)\n",
    "\n",
    "set_entrenamiento_datos = set_entrenamiento.loc[:,columnas]\n",
    "set_entrenamiento_resultado = set_entrenamiento.loc[:,'price_aprox_usd']"
   ]
  },
  {
   "cell_type": "code",
   "execution_count": 6,
   "metadata": {},
   "outputs": [
    {
     "name": "stdout",
     "output_type": "stream",
     "text": [
      "Precision = 98.48 % , error = 1758674510.4602613\n"
     ]
    }
   ],
   "source": [
    "tree = ExtraTreesRegressor()\n",
    "tree.fit(set_entrenamiento_datos,set_entrenamiento_resultado)\n",
    "set_pruebas.loc[:,'resultado'] = set_pruebas.loc[:,columnas].apply(lambda x: tree.predict([x])[0],axis = 1)\n",
    "precision = tree.score(set_pruebas.loc[:,columnas],set_pruebas.price_aprox_usd) * 100\n",
    "error = mean_squared_error(set_pruebas.price_aprox_usd,set_pruebas.resultado)\n",
    "print(\"Precision = {:.2f} % , error = {}\".format(precision, error))"
   ]
  },
  {
   "cell_type": "code",
   "execution_count": 7,
   "metadata": {
    "collapsed": true
   },
   "outputs": [],
   "source": [
    "res = []"
   ]
  },
  {
   "cell_type": "code",
   "execution_count": null,
   "metadata": {
    "collapsed": true
   },
   "outputs": [],
   "source": [
    "lista_criterio = ['mse']\n",
    "lista_max_depth = [None,1,5,10]\n",
    "lista_features = [0.4,0.6,1.0]\n",
    "lista_estimators = [5, 10, 20, 50]\n",
    "\n",
    "for criterio in lista_criterio:\n",
    "    for max_depth in lista_max_depth:\n",
    "        for estimator in lista_estimators:\n",
    "            for feature in lista_features:\n",
    "\n",
    "                tree = ExtraTreesRegressor(criterion = criterio, max_depth = max_depth, n_estimators = estimator,\\\n",
    "                                max_features = feature)\n",
    "                tree.fit(set_entrenamiento_datos,set_entrenamiento_resultado)\n",
    "                set_pruebas.loc[:,'resultado'] = set_pruebas.loc[:,columnas].apply\\\n",
    "                        (lambda x: tree.predict(x)[0],axis = 1)\n",
    "                precision = tree.score(set_pruebas.loc[:,columnas],set_pruebas.loc[:,'price_aprox_usd']) * 100\n",
    "                error = mean_squared_error(set_pruebas.price_aprox_usd,set_pruebas.resultado)\n",
    "                res.append((criterio,max_depth,estimator,feature,precision,error))\n",
    "                print(criterio,' - ',max_depth,' - ',estimator,' - ',feature)"
   ]
  },
  {
   "cell_type": "code",
   "execution_count": 9,
   "metadata": {},
   "outputs": [
    {
     "name": "stdout",
     "output_type": "stream",
     "text": [
      "Criterio = mse, max_depth = None, n_estimators = 5, features = 0.4, precision = 98.35 % , error = 1915206367.0457602\n",
      "Criterio = mse, max_depth = None, n_estimators = 5, features = 0.6, precision = 98.47 % , error = 1769817440.7403753\n",
      "Criterio = mse, max_depth = None, n_estimators = 5, features = 1.0, precision = 98.43 % , error = 1820225390.1640992\n",
      "Criterio = mse, max_depth = None, n_estimators = 10, features = 0.4, precision = 98.42 % , error = 1826549098.0249176\n",
      "Criterio = mse, max_depth = None, n_estimators = 10, features = 0.6, precision = 98.53 % , error = 1704458798.5872374\n",
      "Criterio = mse, max_depth = None, n_estimators = 10, features = 1.0, precision = 98.52 % , error = 1711365561.7320929\n",
      "Criterio = mse, max_depth = None, n_estimators = 20, features = 0.4, precision = 98.54 % , error = 1686884065.0109363\n",
      "Criterio = mse, max_depth = None, n_estimators = 20, features = 0.6, precision = 98.57 % , error = 1656624489.9679508\n",
      "Criterio = mse, max_depth = None, n_estimators = 20, features = 1.0, precision = 98.53 % , error = 1706387057.8683422\n",
      "Criterio = mse, max_depth = None, n_estimators = 50, features = 0.4, precision = 98.52 % , error = 1715497942.2296238\n",
      "Criterio = mse, max_depth = None, n_estimators = 50, features = 0.6, precision = 98.56 % , error = 1662694666.12415\n",
      "Criterio = mse, max_depth = None, n_estimators = 50, features = 1.0, precision = 98.52 % , error = 1719358454.295967\n",
      "Criterio = mse, max_depth = 1, n_estimators = 5, features = 0.4, precision = 2.33 % , error = 113084436020.09912\n",
      "Criterio = mse, max_depth = 1, n_estimators = 5, features = 0.6, precision = 5.04 % , error = 109951210813.03198\n",
      "Criterio = mse, max_depth = 1, n_estimators = 5, features = 1.0, precision = 5.13 % , error = 109845938967.9887\n",
      "Criterio = mse, max_depth = 1, n_estimators = 10, features = 0.4, precision = 3.92 % , error = 111246175416.21255\n",
      "Criterio = mse, max_depth = 1, n_estimators = 10, features = 0.6, precision = 6.27 % , error = 108528972135.3415\n",
      "Criterio = mse, max_depth = 1, n_estimators = 10, features = 1.0, precision = 5.13 % , error = 109845938967.9887\n",
      "Criterio = mse, max_depth = 1, n_estimators = 20, features = 0.4, precision = 4.25 % , error = 110860389521.07997\n",
      "Criterio = mse, max_depth = 1, n_estimators = 20, features = 0.6, precision = 5.62 % , error = 109271885512.7295\n",
      "Criterio = mse, max_depth = 1, n_estimators = 20, features = 1.0, precision = 5.13 % , error = 109845938967.9887\n",
      "Criterio = mse, max_depth = 1, n_estimators = 50, features = 0.4, precision = 4.74 % , error = 110301145897.00572\n",
      "Criterio = mse, max_depth = 1, n_estimators = 50, features = 0.6, precision = 5.59 % , error = 109306863527.78183\n",
      "Criterio = mse, max_depth = 1, n_estimators = 50, features = 1.0, precision = 5.13 % , error = 109845938967.9887\n",
      "Criterio = mse, max_depth = 5, n_estimators = 5, features = 0.4, precision = 11.98 % , error = 101915205202.01357\n",
      "Criterio = mse, max_depth = 5, n_estimators = 5, features = 0.6, precision = 17.59 % , error = 95422427555.03485\n",
      "Criterio = mse, max_depth = 5, n_estimators = 5, features = 1.0, precision = 19.77 % , error = 92892241274.89856\n",
      "Criterio = mse, max_depth = 5, n_estimators = 10, features = 0.4, precision = 14.32 % , error = 99202852382.54993\n",
      "Criterio = mse, max_depth = 5, n_estimators = 10, features = 0.6, precision = 16.10 % , error = 97141005613.77039\n",
      "Criterio = mse, max_depth = 5, n_estimators = 10, features = 1.0, precision = 22.57 % , error = 89650977950.97878\n",
      "Criterio = mse, max_depth = 5, n_estimators = 20, features = 0.4, precision = 13.48 % , error = 100176477683.80142\n",
      "Criterio = mse, max_depth = 5, n_estimators = 20, features = 0.6, precision = 17.44 % , error = 95588570789.87758\n",
      "Criterio = mse, max_depth = 5, n_estimators = 20, features = 1.0, precision = 22.07 % , error = 90232834326.54716\n",
      "Criterio = mse, max_depth = 5, n_estimators = 50, features = 0.4, precision = 15.43 % , error = 97918023104.87177\n",
      "Criterio = mse, max_depth = 5, n_estimators = 50, features = 0.6, precision = 17.69 % , error = 95299347005.96606\n",
      "Criterio = mse, max_depth = 5, n_estimators = 50, features = 1.0, precision = 23.32 % , error = 88782194216.8276\n",
      "Criterio = mse, max_depth = 10, n_estimators = 5, features = 0.4, precision = 30.11 % , error = 80924461433.87555\n",
      "Criterio = mse, max_depth = 10, n_estimators = 5, features = 0.6, precision = 33.67 % , error = 76796746550.75188\n",
      "Criterio = mse, max_depth = 10, n_estimators = 5, features = 1.0, precision = 48.32 % , error = 59833341179.738075\n",
      "Criterio = mse, max_depth = 10, n_estimators = 10, features = 0.4, precision = 33.50 % , error = 76997692657.52887\n",
      "Criterio = mse, max_depth = 10, n_estimators = 10, features = 0.6, precision = 39.10 % , error = 70514926872.10242\n",
      "Criterio = mse, max_depth = 10, n_estimators = 10, features = 1.0, precision = 49.10 % , error = 58932392102.447624\n",
      "Criterio = mse, max_depth = 10, n_estimators = 20, features = 0.4, precision = 31.56 % , error = 79247739017.59143\n",
      "Criterio = mse, max_depth = 10, n_estimators = 20, features = 0.6, precision = 40.45 % , error = 68944956068.1955\n",
      "Criterio = mse, max_depth = 10, n_estimators = 20, features = 1.0, precision = 48.99 % , error = 59059538973.04565\n",
      "Criterio = mse, max_depth = 10, n_estimators = 50, features = 0.4, precision = 31.70 % , error = 79074825288.2371\n",
      "Criterio = mse, max_depth = 10, n_estimators = 50, features = 0.6, precision = 39.96 % , error = 69511873435.2586\n",
      "Criterio = mse, max_depth = 10, n_estimators = 50, features = 1.0, precision = 50.85 % , error = 56908668272.5652\n"
     ]
    }
   ],
   "source": [
    "for r in res:\n",
    "    print(\"Criterio = {}, max_depth = {}, n_estimators = {}, features = {}, precision = {:.2f} % , error = {}\"\\\n",
    "          .format(r[0],r[1],r[2],r[3],r[4],r[5]))"
   ]
  },
  {
   "cell_type": "code",
   "execution_count": 10,
   "metadata": {},
   "outputs": [
    {
     "name": "stdout",
     "output_type": "stream",
     "text": [
      "Mayor precision = Criterio = mse, max_depth = None, n_estimators = 20, features = 0.6, precision = 98.57 % , error = 1656624489.9679508\n",
      "Menor error = Criterio = mse, max_depth = None, n_estimators = 20, features = 0.6, precision = 98.57 % , error = 1656624489.9679508\n"
     ]
    }
   ],
   "source": [
    "min_error = float('inf')\n",
    "max_precision = 0\n",
    "tupla_min_error = ()\n",
    "tupla_max_precision = ()\n",
    "for r in res:\n",
    "    if r[5] < min_error:\n",
    "        min_error = r[5]\n",
    "        tupla_min_error = r\n",
    "    if r[4] > max_precision:\n",
    "        max_precision = r[4]\n",
    "        tupla_max_precision = r\n",
    "        \n",
    "print(\"Mayor precision = Criterio = {}, max_depth = {}, n_estimators = {}, features = {}, precision = {:.2f} % , error = {}\".\\\n",
    "              format(tupla_max_precision[0],tupla_max_precision[1],tupla_max_precision[2],tupla_max_precision[3],tupla_max_precision[4],tupla_max_precision[5]))\n",
    "print(\"Menor error = Criterio = {}, max_depth = {}, n_estimators = {}, features = {}, precision = {:.2f} % , error = {}\".\\\n",
    "              format(tupla_min_error[0],tupla_min_error[1],tupla_min_error[2],tupla_min_error[3],tupla_min_error[4],tupla_min_error[5]))"
   ]
  },
  {
   "cell_type": "markdown",
   "metadata": {},
   "source": [
    "## Tomamos los parametros por default, porque no cambia mucho"
   ]
  },
  {
   "cell_type": "code",
   "execution_count": 27,
   "metadata": {
    "collapsed": true
   },
   "outputs": [],
   "source": [
    "#Probamos distintas combinaciones de columnas, esta es la que dio mejores resultados\n",
    "\n",
    "columnas = ['superficie','lat', 'lon','property_type_encoded','seguridad','gimnasio', 'aire', 'pileta', 'cochera']\n",
    "columnas_precio = columnas + ['price_aprox_usd']"
   ]
  },
  {
   "cell_type": "code",
   "execution_count": 28,
   "metadata": {
    "collapsed": true
   },
   "outputs": [],
   "source": [
    "set_entrenamiento = propiedades.loc[(propiedades.Year >= 2016) &((propiedades.Year < 2017) | (propiedades.Month < 6))\\\n",
    "                                    ,columnas_precio]\n",
    "set_pruebas = propiedades.loc[(propiedades.Year == 2017) & (propiedades.Month == 6),columnas_precio].head(20000)\n",
    "\n",
    "set_entrenamiento_datos = set_entrenamiento.loc[:,columnas]\n",
    "set_entrenamiento_resultado = set_entrenamiento.loc[:,'price_aprox_usd']"
   ]
  },
  {
   "cell_type": "code",
   "execution_count": 29,
   "metadata": {},
   "outputs": [
    {
     "name": "stdout",
     "output_type": "stream",
     "text": [
      "Precision = 98.61 % , error = 1605873834.2964687\n"
     ]
    }
   ],
   "source": [
    "tree = ExtraTreesRegressor()\n",
    "tree.fit(set_entrenamiento_datos,set_entrenamiento_resultado)\n",
    "set_pruebas.loc[:,'resultado'] = set_pruebas.loc[:,columnas].apply(lambda x: tree.predict(x)[0],axis = 1)\n",
    "precision = tree.score(set_pruebas.loc[:,columnas],set_pruebas.price_aprox_usd) * 100\n",
    "error = mean_squared_error(set_pruebas.price_aprox_usd,set_pruebas.resultado)\n",
    "print(\"Precision = {:.2f} % , error = {}\".format(precision, error))"
   ]
  },
  {
   "cell_type": "markdown",
   "metadata": {},
   "source": [
    "# Calculo de los verdaderos datos a analizar"
   ]
  },
  {
   "cell_type": "code",
   "execution_count": 30,
   "metadata": {
    "collapsed": true
   },
   "outputs": [],
   "source": [
    "analizar = pd.read_csv(\"../properati_dataset_modificado.csv\")"
   ]
  },
  {
   "cell_type": "code",
   "execution_count": 31,
   "metadata": {
    "collapsed": true
   },
   "outputs": [],
   "source": [
    "analizar.loc[:,'price_usd'] = analizar.loc[:,columnas].apply(lambda x: tree.predict(x)[0],axis = 1)"
   ]
  },
  {
   "cell_type": "code",
   "execution_count": 32,
   "metadata": {
    "collapsed": true
   },
   "outputs": [],
   "source": [
    "resultado = analizar.loc[:,['id','price_usd']]\n",
    "\n",
    "resultado.to_csv('resultados/Extra_trees_2.csv', index = False)"
   ]
  },
  {
   "cell_type": "markdown",
   "metadata": {},
   "source": [
    "# Usando Grid Search y Cross Validation"
   ]
  },
  {
   "cell_type": "code",
   "execution_count": 2,
   "metadata": {
    "collapsed": true
   },
   "outputs": [],
   "source": [
    "propiedades = pd.read_csv('../../set_datos_propiedades.csv')\n",
    "\n",
    "propiedades = propiedades.loc[(propiedades.price_aprox_usd.notnull()) & (propiedades.superficie.notnull())\\\n",
    "                              & (propiedades.lat.notnull()) & (propiedades.lon.notnull()) & (propiedades.Year >=2016)]\n",
    "\n",
    "columnas = ['superficie','lat', 'lon','property_type_encoded','seguridad','gimnasio', 'aire', 'pileta', 'cochera']\n",
    "columnas_precio = columnas + ['price_aprox_usd']\n",
    "\n",
    "set_entrenamiento_datos = propiedades.loc[:,columnas]\n",
    "set_entrenamiento_resultado = propiedades.loc[:,'price_aprox_usd']"
   ]
  },
  {
   "cell_type": "code",
   "execution_count": 3,
   "metadata": {
    "collapsed": true
   },
   "outputs": [],
   "source": [
    "# Parametros\n",
    "\n",
    "criterios = ['mse']\n",
    "max_depth = [None,1,5,10]\n",
    "features = [0.4,0.6,1.0]\n",
    "estimators = [5, 10, 20, 30]\n",
    "\n",
    "parametros = {\"criterion\" : criterios, \"max_depth\" : max_depth, \\\n",
    "              \"n_estimators\" : estimators, \"max_features\" : features}\n",
    "\n",
    "iteraciones_cross_validation = 30\n",
    "arbol = ExtraTreesRegressor()"
   ]
  },
  {
   "cell_type": "code",
   "execution_count": 4,
   "metadata": {},
   "outputs": [
    {
     "name": "stdout",
     "output_type": "stream",
     "text": [
      "Tiempo: 13:48:57 --- 17:10:15 \n",
      " Precision: 96.28 \n",
      " Parametros = {'criterion': 'mse', 'max_depth': None, 'max_features': 1.0, 'n_estimators': 10}\n"
     ]
    }
   ],
   "source": [
    "inicio = time.strftime(\"%X\")\n",
    "\n",
    "grid = GridSearchCV( estimator = arbol, param_grid = parametros, n_jobs = -1, cv = iteraciones_cross_validation)\n",
    "\n",
    "grid.fit(set_entrenamiento_datos, set_entrenamiento_resultado)\n",
    "\n",
    "score = grid.best_score_ * 100\n",
    "mejores_parametros = grid.best_params_\n",
    "fin = time.strftime(\"%X\")\n",
    "\n",
    "print(\"Tiempo: {} --- {} \\n Precision: {:.2f} \\n Parametros = {}\".format(inicio,fin,score,mejores_parametros))"
   ]
  },
  {
   "cell_type": "code",
   "execution_count": 5,
   "metadata": {
    "collapsed": true
   },
   "outputs": [],
   "source": [
    "#Con 10 iteraciones:    Precision: 93.71       12:32:41 --- 13:34:00 \n",
    "#               Parametros = {'criterion': 'mse', 'max_depth': None, 'max_features': 1.0, 'n_estimators': 30}"
   ]
  },
  {
   "cell_type": "code",
   "execution_count": 6,
   "metadata": {
    "collapsed": true
   },
   "outputs": [],
   "source": [
    "analizar = pd.read_csv(\"../properati_dataset_modificado.csv\")\n",
    "\n",
    "analizar.loc[:,'price_usd'] = analizar.loc[:,columnas].apply(lambda x: grid.predict(x)[0],axis = 1)\n",
    "\n",
    "resultado = analizar.loc[:,['id','price_usd']]\n",
    "\n",
    "resultado.to_csv('resultados/Extra_trees_GridSearch.csv', index = False)"
   ]
  },
  {
   "cell_type": "code",
   "execution_count": 9,
   "metadata": {},
   "outputs": [
    {
     "data": {
      "text/plain": [
       "['algoritmos/extra_trees.pkl']"
      ]
     },
     "execution_count": 9,
     "metadata": {},
     "output_type": "execute_result"
    }
   ],
   "source": [
    "joblib.dump(grid, 'algoritmos/extra_trees.pkl')"
   ]
  },
  {
   "cell_type": "markdown",
   "metadata": {},
   "source": [
    "## Hago Bagging con el mejor algoritmo"
   ]
  },
  {
   "cell_type": "code",
   "execution_count": 2,
   "metadata": {
    "collapsed": true
   },
   "outputs": [],
   "source": [
    "propiedades = pd.read_csv('../../set_datos_propiedades.csv')\n",
    "\n",
    "propiedades = propiedades.loc[(propiedades.price_aprox_usd.notnull()) & (propiedades.superficie.notnull())\\\n",
    "                              & (propiedades.lat.notnull()) & (propiedades.lon.notnull()) & (propiedades.Year >=2016)]\n",
    "\n",
    "columnas = ['superficie','lat', 'lon','property_type_encoded','seguridad','gimnasio', 'aire', 'pileta', 'cochera']\n",
    "columnas_precio = columnas + ['price_aprox_usd']\n",
    "\n",
    "set_pruebas = analizar = pd.read_csv(\"../properati_dataset_modificado.csv\")\n",
    "set_pruebas.loc[:,'price_usd'] = 0.0"
   ]
  },
  {
   "cell_type": "code",
   "execution_count": 3,
   "metadata": {
    "collapsed": true
   },
   "outputs": [],
   "source": [
    "cant = 10\n",
    "\n",
    "for i in range(cant):\n",
    "    datos = propiedades.sample(frac = 0.4)\n",
    "    set_entrenamiento_datos = datos.loc[:,columnas]\n",
    "    set_entrenamiento_resultado = datos.loc[:,'price_aprox_usd']\n",
    "    \n",
    "    tree = ExtraTreesRegressor(criterion = 'mse', max_depth = None, max_features = 1.0, n_estimators = 10)\n",
    "    \n",
    "    tree.fit(set_entrenamiento_datos,set_entrenamiento_resultado)\n",
    "    set_pruebas.loc[:,'res'] = set_pruebas.loc[:,columnas].apply(lambda x: tree.predict(x)[0],axis = 1)\n",
    "    set_pruebas.loc[:,'price_usd'] = set_pruebas.loc[:,'price_usd'] + set_pruebas.loc[:,'res']"
   ]
  },
  {
   "cell_type": "code",
   "execution_count": 4,
   "metadata": {
    "collapsed": true
   },
   "outputs": [],
   "source": [
    "set_pruebas.loc[:,'price_usd'] = set_pruebas.loc[:,'price_usd'] / cant\n",
    "\n",
    "resultado = set_pruebas.loc[:,['id','price_usd']]\n",
    "\n",
    "resultado.to_csv('resultados/Extra_Trees_Cross_Validation.csv', index = False)"
   ]
  },
  {
   "cell_type": "markdown",
   "metadata": {},
   "source": [
    "# Usando SVD con varias dimensiones"
   ]
  },
  {
   "cell_type": "code",
   "execution_count": 2,
   "metadata": {
    "collapsed": true
   },
   "outputs": [],
   "source": [
    "propiedades = pd.read_csv('../../set_datos_propiedades.csv')\n",
    "\n",
    "sup_min = 10\n",
    "sup_max = 300\n",
    "lat_min = -35\n",
    "lat_max = -34\n",
    "lon_min = -59\n",
    "lon_max = -58\n",
    "precio_min = 30000\n",
    "precio_max = 3000000\n",
    "\n",
    "propiedades = propiedades.loc[(propiedades.price_aprox_usd.notnull()) & (propiedades.superficie.notnull())\\\n",
    "                              & (propiedades.lat.notnull()) & (propiedades.lon.notnull()) & (propiedades.Year >=2016)\\\n",
    "                        & (propiedades.price_aprox_usd <= precio_max) & (propiedades.price_aprox_usd >= precio_min) &\\\n",
    "                         (propiedades.superficie <= sup_max) & (propiedades.superficie >= sup_min) &\\\n",
    "                      (propiedades.lat <= lat_max) & (propiedades.lat >= lat_min) &\\\n",
    "                       (propiedades.lon <= lon_max) & (propiedades.lon >= lon_min),:]\n",
    "\n",
    "columnas = ['superficie','lat', 'lon','property_type_encoded','seguridad','gimnasio', 'aire', 'pileta', 'cochera']\n",
    "columnas_precio = columnas + ['price_aprox_usd']"
   ]
  },
  {
   "cell_type": "code",
   "execution_count": 3,
   "metadata": {},
   "outputs": [
    {
     "name": "stdout",
     "output_type": "stream",
     "text": [
      "Dim = 2, Precision = 95.23, error = 614094012.124, digitos = 9\n",
      "Dim = 3, Precision = 96.21, error = 488466104.05, digitos = 9\n",
      "Dim = 4, Precision = 96.04, error = 509694181.673, digitos = 9\n",
      "Dim = 5, Precision = 96.07, error = 505640896.107, digitos = 9\n",
      "Dim = 6, Precision = 96.06, error = 507787276.501, digitos = 9\n",
      "Dim = 7, Precision = 96.04, error = 510308700.766, digitos = 9\n",
      "Dim = 8, Precision = 96.04, error = 509450488.954, digitos = 9\n"
     ]
    }
   ],
   "source": [
    "X = propiedades.loc[:,columnas]\n",
    "y = propiedades.loc[:,'price_aprox_usd']\n",
    "X_train, X_test, y_train, y_test = train_test_split(X, y, test_size=0.2)\n",
    "\n",
    "for i in range(2,len(columnas)):\n",
    "    svd = TruncatedSVD(n_components = i)\n",
    "    datos = svd.fit_transform(X_train)\n",
    "    test = svd.transform(X_test)\n",
    "    \n",
    "    tree = ExtraTreesRegressor()\n",
    "    tree.fit(datos,y_train)\n",
    "    precision = tree.score(test,y_test) * 100\n",
    "    error = mean_squared_error(tree.predict(test),y_test)\n",
    "    \n",
    "    print(\"Dim = {}, Precision = {:.2f}, error = {}, digitos = {}\".\\\n",
    "                  format(i,precision,error,len(str(int(round(error,0))))))"
   ]
  },
  {
   "cell_type": "code",
   "execution_count": 5,
   "metadata": {
    "collapsed": true
   },
   "outputs": [],
   "source": [
    "set_pruebas = analizar = pd.read_csv(\"../properati_dataset_modificado.csv\")\n",
    "\n",
    "svd = TruncatedSVD(n_components = 3)\n",
    "datos = svd.fit_transform(propiedades.loc[:,columnas])\n",
    "test = svd.transform(set_pruebas.loc[:,columnas])\n",
    "\n",
    "tree = ExtraTreesRegressor()\n",
    "tree.fit(datos,propiedades.loc[:,'price_aprox_usd'])\n",
    "set_pruebas.loc[:,'price_usd'] = tree.predict(test)\n",
    "\n",
    "resultado = set_pruebas.loc[:,['id','price_usd']]\n",
    "resultado.to_csv('resultados/Extra_Trees_SVD.csv', index = False)"
   ]
  },
  {
   "cell_type": "markdown",
   "metadata": {},
   "source": [
    "# Agregando el resultado de SVD dimension 2 al Dataframe"
   ]
  },
  {
   "cell_type": "code",
   "execution_count": 6,
   "metadata": {
    "collapsed": true
   },
   "outputs": [],
   "source": [
    "propiedades = pd.read_csv('../../set_datos_propiedades.csv')\n",
    "\n",
    "sup_min = 10\n",
    "sup_max = 300\n",
    "lat_min = -35\n",
    "lat_max = -34\n",
    "lon_min = -59\n",
    "lon_max = -58\n",
    "precio_min = 30000\n",
    "precio_max = 3000000\n",
    "\n",
    "propiedades = propiedades.loc[(propiedades.price_aprox_usd.notnull()) & (propiedades.superficie.notnull())\\\n",
    "                              & (propiedades.lat.notnull()) & (propiedades.lon.notnull()) & (propiedades.Year >=2016)\\\n",
    "                        & (propiedades.price_aprox_usd <= precio_max) & (propiedades.price_aprox_usd >= precio_min) &\\\n",
    "                         (propiedades.superficie <= sup_max) & (propiedades.superficie >= sup_min) &\\\n",
    "                      (propiedades.lat <= lat_max) & (propiedades.lat >= lat_min) &\\\n",
    "                       (propiedades.lon <= lon_max) & (propiedades.lon >= lon_min),:]\n",
    "\n",
    "prop = propiedades.loc[(propiedades.Year >= 2016), :]\n",
    "\n",
    "columnas = ['superficie','lat', 'lon','property_type_encoded','seguridad','gimnasio', 'aire', 'pileta', 'cochera']\n",
    "columnas_precio = columnas + ['price_aprox_usd']"
   ]
  },
  {
   "cell_type": "code",
   "execution_count": 7,
   "metadata": {
    "collapsed": true
   },
   "outputs": [],
   "source": [
    "set_entrenamiento = prop.loc[(prop.Year >= 2016) &((prop.Year < 2017) | (prop.Month < 6))\\\n",
    "                                    ,columnas_precio]\n",
    "set_pruebas = prop.loc[(prop.Year == 2017) & (prop.Month == 6),columnas_precio].head(20000)\n",
    "\n",
    "set_entrenamiento_datos = set_entrenamiento.loc[:,columnas]\n",
    "set_entrenamiento_resultado = set_entrenamiento.loc[:,'price_aprox_usd']"
   ]
  },
  {
   "cell_type": "code",
   "execution_count": 8,
   "metadata": {
    "collapsed": true
   },
   "outputs": [],
   "source": [
    "svd = TruncatedSVD()\n",
    "resultado = svd.fit_transform(set_entrenamiento_datos)\n",
    "resultado = pd.DataFrame(resultado)\n",
    "pruebas = svd.transform(set_pruebas.loc[:,columnas])\n",
    "pruebas = pd.DataFrame(pruebas)"
   ]
  },
  {
   "cell_type": "code",
   "execution_count": 9,
   "metadata": {},
   "outputs": [
    {
     "data": {
      "text/plain": [
       "count    334935.000000\n",
       "mean         95.098990\n",
       "std          24.394078\n",
       "min          52.920358\n",
       "25%          75.951302\n",
       "50%          88.599928\n",
       "75%         110.070518\n",
       "max         157.152840\n",
       "Name: SVD 1, dtype: float64"
      ]
     },
     "execution_count": 9,
     "metadata": {},
     "output_type": "execute_result"
    }
   ],
   "source": [
    "set_entrenamiento_datos.reset_index(drop = True, inplace = True)\n",
    "set_entrenamiento_datos.loc[:,'SVD 1'] = resultado.loc[:,0]\n",
    "set_entrenamiento_datos.loc[:,'SVD 2'] = resultado.loc[:,1]\n",
    "set_entrenamiento_datos['SVD 1'].describe()"
   ]
  },
  {
   "cell_type": "code",
   "execution_count": 10,
   "metadata": {},
   "outputs": [
    {
     "data": {
      "text/plain": [
       "count    20000.000000\n",
       "mean        96.581427\n",
       "std         24.831401\n",
       "min         52.920358\n",
       "25%         76.701836\n",
       "50%         90.073607\n",
       "75%        112.379512\n",
       "max        157.152840\n",
       "Name: SVD 1, dtype: float64"
      ]
     },
     "execution_count": 10,
     "metadata": {},
     "output_type": "execute_result"
    }
   ],
   "source": [
    "set_pruebas.reset_index(drop = True, inplace = True)\n",
    "set_pruebas.loc[:,'SVD 1'] = pruebas.loc[:,0]\n",
    "set_pruebas.loc[:,'SVD 2'] = pruebas.loc[:,1]\n",
    "set_pruebas['SVD 1'].describe()"
   ]
  },
  {
   "cell_type": "code",
   "execution_count": 11,
   "metadata": {
    "collapsed": true
   },
   "outputs": [],
   "source": [
    "columnas = columnas + ['SVD 1', 'SVD 2']"
   ]
  },
  {
   "cell_type": "code",
   "execution_count": 12,
   "metadata": {},
   "outputs": [
    {
     "name": "stdout",
     "output_type": "stream",
     "text": [
      "Precision = 97.65 % , error = 327729879.181\n"
     ]
    }
   ],
   "source": [
    "tree = ExtraTreesRegressor()\n",
    "tree.fit(set_entrenamiento_datos, set_entrenamiento_resultado)\n",
    "set_pruebas.loc[:,'resultado'] = set_pruebas.loc[:,columnas].apply(lambda x: tree.predict([x])[0],axis = 1)\n",
    "precision = tree.score(set_pruebas.loc[:,columnas],set_pruebas.price_aprox_usd) * 100\n",
    "error = mean_squared_error(set_pruebas.price_aprox_usd, set_pruebas.resultado)\n",
    "print(\"Precision = {:.2f} % , error = {}\".format(precision, error))"
   ]
  },
  {
   "cell_type": "code",
   "execution_count": 13,
   "metadata": {
    "collapsed": true
   },
   "outputs": [],
   "source": [
    "res = []"
   ]
  },
  {
   "cell_type": "code",
   "execution_count": null,
   "metadata": {
    "collapsed": true
   },
   "outputs": [],
   "source": [
    "lista_criterio = ['mse']\n",
    "lista_max_depth = [None,1,5,10]\n",
    "lista_features = [0.4,0.6,1.0]\n",
    "lista_estimators = [5, 10, 20, 50]\n",
    "\n",
    "for criterio in lista_criterio:\n",
    "    for max_depth in lista_max_depth:\n",
    "        for estimator in lista_estimators:\n",
    "            for feature in lista_features:\n",
    "                    \n",
    "                    tree = ExtraTreesRegressor(criterion = criterio, max_depth = max_depth, n_estimators = estimator,\\\n",
    "                                max_features = feature)\n",
    "                    tree.fit(set_entrenamiento_datos,set_entrenamiento_resultado)\n",
    "                    set_pruebas.loc[:,'resultado'] = set_pruebas.loc[:,columnas].apply\\\n",
    "                            (lambda x: tree.predict([x])[0],axis = 1)\n",
    "                    precision = tree.score(set_pruebas.loc[:,columnas],set_pruebas.price_aprox_usd) * 100\n",
    "                    error = mean_squared_error(set_pruebas.price_aprox_usd,set_pruebas.resultado)\n",
    "                    res.append((criterio, max_depth, estimator, feature, precision, error))\n",
    "                    print(criterio,' - ',max_depth,' - ',estimator,' - ',feature)"
   ]
  },
  {
   "cell_type": "code",
   "execution_count": 15,
   "metadata": {},
   "outputs": [
    {
     "name": "stdout",
     "output_type": "stream",
     "text": [
      "Criterio = mse, max_depth = None, n_estimators = 5, max_features = 0.4, precision = 97.46 % , error = 353229345.8\n",
      "Criterio = mse, max_depth = None, n_estimators = 5, max_features = 0.6, precision = 97.56 % , error = 340049115.876\n",
      "Criterio = mse, max_depth = None, n_estimators = 5, max_features = 1.0, precision = 97.54 % , error = 342911595.589\n",
      "Criterio = mse, max_depth = None, n_estimators = 10, max_features = 0.4, precision = 97.56 % , error = 339475496.744\n",
      "Criterio = mse, max_depth = None, n_estimators = 10, max_features = 0.6, precision = 97.58 % , error = 336244035.868\n",
      "Criterio = mse, max_depth = None, n_estimators = 10, max_features = 1.0, precision = 97.63 % , error = 329944149.874\n",
      "Criterio = mse, max_depth = None, n_estimators = 20, max_features = 0.4, precision = 97.59 % , error = 335591268.386\n",
      "Criterio = mse, max_depth = None, n_estimators = 20, max_features = 0.6, precision = 97.59 % , error = 336111948.182\n",
      "Criterio = mse, max_depth = None, n_estimators = 20, max_features = 1.0, precision = 97.68 % , error = 323611477.63\n",
      "Criterio = mse, max_depth = None, n_estimators = 50, max_features = 0.4, precision = 97.58 % , error = 336458231.353\n",
      "Criterio = mse, max_depth = None, n_estimators = 50, max_features = 0.6, precision = 97.63 % , error = 329947584.065\n",
      "Criterio = mse, max_depth = None, n_estimators = 50, max_features = 1.0, precision = 97.68 % , error = 322520266.947\n",
      "Criterio = mse, max_depth = 1, n_estimators = 5, max_features = 0.4, precision = 11.09 % , error = 12376489188.2\n",
      "Criterio = mse, max_depth = 1, n_estimators = 5, max_features = 0.6, precision = 22.44 % , error = 10795780016.9\n",
      "Criterio = mse, max_depth = 1, n_estimators = 5, max_features = 1.0, precision = 21.92 % , error = 10868298388.5\n",
      "Criterio = mse, max_depth = 1, n_estimators = 10, max_features = 0.4, precision = 17.81 % , error = 11440180599.9\n",
      "Criterio = mse, max_depth = 1, n_estimators = 10, max_features = 0.6, precision = 19.04 % , error = 11269488549.0\n",
      "Criterio = mse, max_depth = 1, n_estimators = 10, max_features = 1.0, precision = 22.99 % , error = 10719941574.0\n",
      "Criterio = mse, max_depth = 1, n_estimators = 20, max_features = 0.4, precision = 20.05 % , error = 11129294385.9\n",
      "Criterio = mse, max_depth = 1, n_estimators = 20, max_features = 0.6, precision = 20.36 % , error = 11086021919.2\n",
      "Criterio = mse, max_depth = 1, n_estimators = 20, max_features = 1.0, precision = 22.54 % , error = 10782135065.7\n",
      "Criterio = mse, max_depth = 1, n_estimators = 50, max_features = 0.4, precision = 17.65 % , error = 11463161983.9\n",
      "Criterio = mse, max_depth = 1, n_estimators = 50, max_features = 0.6, precision = 21.03 % , error = 10991917204.6\n",
      "Criterio = mse, max_depth = 1, n_estimators = 50, max_features = 1.0, precision = 22.72 % , error = 10756971899.8\n",
      "Criterio = mse, max_depth = 5, n_estimators = 5, max_features = 0.4, precision = 45.84 % , error = 7538829403.04\n",
      "Criterio = mse, max_depth = 5, n_estimators = 5, max_features = 0.6, precision = 47.37 % , error = 7326322984.94\n",
      "Criterio = mse, max_depth = 5, n_estimators = 5, max_features = 1.0, precision = 50.06 % , error = 6951627505.98\n",
      "Criterio = mse, max_depth = 5, n_estimators = 10, max_features = 0.4, precision = 46.55 % , error = 7440048356.32\n",
      "Criterio = mse, max_depth = 5, n_estimators = 10, max_features = 0.6, precision = 48.63 % , error = 7150395660.69\n",
      "Criterio = mse, max_depth = 5, n_estimators = 10, max_features = 1.0, precision = 50.84 % , error = 6842934121.32\n",
      "Criterio = mse, max_depth = 5, n_estimators = 20, max_features = 0.4, precision = 46.13 % , error = 7498068878.22\n",
      "Criterio = mse, max_depth = 5, n_estimators = 20, max_features = 0.6, precision = 49.40 % , error = 7043233786.49\n",
      "Criterio = mse, max_depth = 5, n_estimators = 20, max_features = 1.0, precision = 50.66 % , error = 6867639737.18\n",
      "Criterio = mse, max_depth = 5, n_estimators = 50, max_features = 0.4, precision = 46.65 % , error = 7426400202.53\n",
      "Criterio = mse, max_depth = 5, n_estimators = 50, max_features = 0.6, precision = 49.03 % , error = 7095512956.93\n",
      "Criterio = mse, max_depth = 5, n_estimators = 50, max_features = 1.0, precision = 51.36 % , error = 6770204761.27\n",
      "Criterio = mse, max_depth = 10, n_estimators = 5, max_features = 0.4, precision = 61.18 % , error = 5404262062.03\n",
      "Criterio = mse, max_depth = 10, n_estimators = 5, max_features = 0.6, precision = 64.13 % , error = 4992648329.71\n",
      "Criterio = mse, max_depth = 10, n_estimators = 5, max_features = 1.0, precision = 66.95 % , error = 4600950850.02\n",
      "Criterio = mse, max_depth = 10, n_estimators = 10, max_features = 0.4, precision = 61.42 % , error = 5370450050.36\n",
      "Criterio = mse, max_depth = 10, n_estimators = 10, max_features = 0.6, precision = 62.93 % , error = 5159777448.54\n",
      "Criterio = mse, max_depth = 10, n_estimators = 10, max_features = 1.0, precision = 66.55 % , error = 4655816804.18\n",
      "Criterio = mse, max_depth = 10, n_estimators = 20, max_features = 0.4, precision = 60.82 % , error = 5453688977.78\n",
      "Criterio = mse, max_depth = 10, n_estimators = 20, max_features = 0.6, precision = 63.84 % , error = 5033463073.11\n",
      "Criterio = mse, max_depth = 10, n_estimators = 20, max_features = 1.0, precision = 67.94 % , error = 4463126466.02\n",
      "Criterio = mse, max_depth = 10, n_estimators = 50, max_features = 0.4, precision = 61.66 % , error = 5337599601.0\n",
      "Criterio = mse, max_depth = 10, n_estimators = 50, max_features = 0.6, precision = 64.32 % , error = 4967224750.79\n",
      "Criterio = mse, max_depth = 10, n_estimators = 50, max_features = 1.0, precision = 67.84 % , error = 4476172773.29\n"
     ]
    }
   ],
   "source": [
    "for r in res:\n",
    "    print(\"Criterio = {}, max_depth = {}, n_estimators = {}, max_features = {}, precision = {:.2f} % , error = {}\"\\\n",
    "          .format(r[0],r[1],r[2],r[3],r[4],r[5]))"
   ]
  },
  {
   "cell_type": "code",
   "execution_count": 17,
   "metadata": {},
   "outputs": [
    {
     "name": "stdout",
     "output_type": "stream",
     "text": [
      "Mayor precision = Criterio = mse, max_depth = None, n_estimators = 50, max_features = 1.0, precision = 97.68 % , error = 322520266.947\n",
      "Menor error = Criterio = mse, max_depth = None, n_estimators = 50, max_features = 1.0, precision = 97.68 % , error = 322520266.947\n"
     ]
    }
   ],
   "source": [
    "min_error = float('inf')\n",
    "max_precision = 0\n",
    "tupla_min_error = ()\n",
    "tupla_max_precision = ()\n",
    "for r in res:\n",
    "    if r[5] < min_error:\n",
    "        min_error = r[5]\n",
    "        tupla_min_error = r\n",
    "    if r[4] > max_precision:\n",
    "        max_precision = r[4]\n",
    "        tupla_max_precision = r\n",
    "        \n",
    "print(\"Mayor precision = Criterio = {}, max_depth = {}, n_estimators = {}, max_features = {}, precision = {:.2f} % , error = {}\".\\\n",
    "              format(tupla_max_precision[0],tupla_max_precision[1],tupla_max_precision[2],tupla_max_precision[3],tupla_max_precision[4],tupla_max_precision[5]))\n",
    "print(\"Menor error = Criterio = {}, max_depth = {}, n_estimators = {}, max_features = {}, precision = {:.2f} % , error = {}\".\\\n",
    "              format(tupla_min_error[0],tupla_min_error[1],tupla_min_error[2],tupla_min_error[3],tupla_min_error[4],tupla_min_error[5]))"
   ]
  },
  {
   "cell_type": "code",
   "execution_count": 18,
   "metadata": {
    "collapsed": true
   },
   "outputs": [],
   "source": [
    "criterio = 'mse'\n",
    "max_depth = None\n",
    "n_estimators = 50\n",
    "max_features = 1.0"
   ]
  },
  {
   "cell_type": "code",
   "execution_count": 19,
   "metadata": {},
   "outputs": [
    {
     "name": "stdout",
     "output_type": "stream",
     "text": [
      "Precision = 97.69 % , error = 321091779.696\n"
     ]
    }
   ],
   "source": [
    "tree = ExtraTreesRegressor(criterion = criterio, max_depth = max_depth, n_estimators = estimator,\\\n",
    "                                max_features = feature)\n",
    "tree.fit(set_entrenamiento_datos,set_entrenamiento_resultado)\n",
    "set_pruebas.loc[:,'resultado'] = set_pruebas.loc[:,columnas].apply(lambda x: tree.predict([x])[0],axis = 1)\n",
    "precision = tree.score(set_pruebas.loc[:,columnas],set_pruebas.price_aprox_usd) * 100\n",
    "error = mean_squared_error(set_pruebas.price_aprox_usd,set_pruebas.resultado)\n",
    "print(\"Precision = {:.2f} % , error = {}\".format(precision, error))"
   ]
  },
  {
   "cell_type": "markdown",
   "metadata": {},
   "source": [
    "# calculo con los verdaderos datos a analizar"
   ]
  },
  {
   "cell_type": "code",
   "execution_count": 20,
   "metadata": {
    "collapsed": true
   },
   "outputs": [],
   "source": [
    "analizar = pd.read_csv(\"../properati_dataset_modificado.csv\")"
   ]
  },
  {
   "cell_type": "code",
   "execution_count": 21,
   "metadata": {
    "collapsed": true
   },
   "outputs": [],
   "source": [
    "columnas = ['superficie','lat', 'lon','property_type_encoded','seguridad','gimnasio', 'aire', 'pileta', 'cochera']\n",
    "analisis = svd.transform(analizar.loc[:,columnas])\n",
    "analisis = pd.DataFrame(analisis)"
   ]
  },
  {
   "cell_type": "code",
   "execution_count": 22,
   "metadata": {},
   "outputs": [
    {
     "data": {
      "text/plain": [
       "count    1.416600e+04\n",
       "mean     3.301517e+02\n",
       "std      2.023766e+04\n",
       "min      4.621164e+01\n",
       "25%      8.041788e+01\n",
       "50%      1.004089e+02\n",
       "75%      1.568249e+02\n",
       "max      2.405964e+06\n",
       "Name: SVD 1, dtype: float64"
      ]
     },
     "execution_count": 22,
     "metadata": {},
     "output_type": "execute_result"
    }
   ],
   "source": [
    "analizar.loc[:,'SVD 1'] = analisis.loc[:,0]\n",
    "analizar.loc[:,'SVD 2'] = analisis.loc[:,1]\n",
    "analizar['SVD 1'].describe()"
   ]
  },
  {
   "cell_type": "code",
   "execution_count": 23,
   "metadata": {},
   "outputs": [
    {
     "data": {
      "text/plain": [
       "count     14166.000000\n",
       "mean     182684.106345\n",
       "std      117467.774672\n",
       "min       23852.000000\n",
       "25%      105617.000000\n",
       "50%      150818.666667\n",
       "75%      218988.000000\n",
       "max      962600.000000\n",
       "Name: price_usd, dtype: float64"
      ]
     },
     "execution_count": 23,
     "metadata": {},
     "output_type": "execute_result"
    }
   ],
   "source": [
    "columnas += ['SVD 1', 'SVD 2']\n",
    "analizar.loc[:,'price_usd'] = analizar.loc[:,columnas].apply(lambda x: tree.predict([x])[0],axis = 1)\n",
    "analizar.price_usd.describe()"
   ]
  },
  {
   "cell_type": "code",
   "execution_count": 25,
   "metadata": {
    "collapsed": true
   },
   "outputs": [],
   "source": [
    "resultado = analizar.loc[:,['id','price_usd']]"
   ]
  },
  {
   "cell_type": "code",
   "execution_count": 26,
   "metadata": {
    "collapsed": true
   },
   "outputs": [],
   "source": [
    "resultado.to_csv('resultados/Extra_Trees_menos_datos_svd_agregada', index = False)"
   ]
  },
  {
   "cell_type": "markdown",
   "metadata": {},
   "source": [
    "# Grid Search y Cross Validation definitivo"
   ]
  },
  {
   "cell_type": "code",
   "execution_count": 2,
   "metadata": {
    "collapsed": true
   },
   "outputs": [],
   "source": [
    "sup_min = 10\n",
    "sup_max = 300\n",
    "lat_min = -35\n",
    "lat_max = -34\n",
    "lon_min = -59\n",
    "lon_max = -58\n",
    "precio_min = 30000\n",
    "precio_max = 3000000"
   ]
  },
  {
   "cell_type": "code",
   "execution_count": 7,
   "metadata": {
    "collapsed": true
   },
   "outputs": [],
   "source": [
    "propiedades = pd.read_csv('../../datos_con_fecha.csv')\n",
    "\n",
    "propiedades = propiedades.loc[(propiedades.price_aprox_usd.notnull()) & (propiedades.superficie.notnull())\\\n",
    "                              & (propiedades.lat.notnull()) & (propiedades.lon.notnull()) & (propiedades.Year >=2017)\\\n",
    "                        & (propiedades.price_aprox_usd <= precio_max) & (propiedades.price_aprox_usd >= precio_min) &\\\n",
    "                         (propiedades.superficie <= sup_max) & (propiedades.superficie >= sup_min) &\\\n",
    "                      (propiedades.lat <= lat_max) & (propiedades.lat >= lat_min) &\\\n",
    "                       (propiedades.lon <= lon_max) & (propiedades.lon >= lon_min),:]\n",
    "\n",
    "columnas = ['superficie','lat', 'lon','property_type_encoded','seguridad','gimnasio', 'aire', 'pileta', 'cochera',\\\n",
    "            'doble piso', 'jardin', 'servicios','comercio','transporte','fecha']\n",
    "columnas_precio = columnas + ['price_aprox_usd']\n",
    "\n",
    "set_entrenamiento_datos = propiedades.loc[:,columnas]\n",
    "set_entrenamiento_resultado = propiedades.loc[:,'price_aprox_usd']"
   ]
  },
  {
   "cell_type": "code",
   "execution_count": 8,
   "metadata": {
    "collapsed": true
   },
   "outputs": [],
   "source": [
    "# Parametros\n",
    "\n",
    "criterios = ['mse']\n",
    "max_depth = [None,50,75,100]\n",
    "features = [0.4,0.6,1.0]\n",
    "estimators = [5, 10, 20, 30,50]\n",
    "\n",
    "parametros = {\"criterion\" : criterios, \"max_depth\" : max_depth, \\\n",
    "              \"n_estimators\" : estimators, \"max_features\" : features}\n",
    "\n",
    "iteraciones_cross_validation = 25\n",
    "arbol = ExtraTreesRegressor()"
   ]
  },
  {
   "cell_type": "code",
   "execution_count": 9,
   "metadata": {},
   "outputs": [
    {
     "name": "stdout",
     "output_type": "stream",
     "text": [
      "Tiempo: 12:30:31 --- 23:14:26 \n",
      " Precision: 96.81 \n",
      " Parametros = {'criterion': 'mse', 'max_depth': 100, 'max_features': 1.0, 'n_estimators': 50}\n"
     ]
    }
   ],
   "source": [
    "inicio = time.strftime(\"%X\")\n",
    "\n",
    "grid = GridSearchCV( estimator = arbol, param_grid = parametros, n_jobs = 2, cv = iteraciones_cross_validation)\n",
    "\n",
    "grid.fit(set_entrenamiento_datos, set_entrenamiento_resultado)\n",
    "\n",
    "score = grid.best_score_ * 100\n",
    "mejores_parametros = grid.best_params_\n",
    "fin = time.strftime(\"%X\")\n",
    "\n",
    "print(\"Tiempo: {} --- {} \\n Precision: {:.2f} \\n Parametros = {}\".format(inicio,fin,score,mejores_parametros))"
   ]
  },
  {
   "cell_type": "code",
   "execution_count": 10,
   "metadata": {
    "collapsed": true
   },
   "outputs": [],
   "source": [
    "analizar = pd.read_csv(\"../properati_dataset_modificado2.csv\")\n",
    "\n",
    "analizar.loc[:,'price_usd'] = analizar.loc[:,columnas].apply(lambda x: grid.predict(x)[0],axis = 1)\n",
    "\n",
    "resultado = analizar.loc[:,['id','price_usd']]\n",
    "\n",
    "resultado.to_csv('resultados/Extra_trees_GridSearch_definitivo.csv', index = False)"
   ]
  },
  {
   "cell_type": "code",
   "execution_count": 11,
   "metadata": {},
   "outputs": [
    {
     "data": {
      "text/plain": [
       "['algoritmos/extra_trees_definitivo.pkl']"
      ]
     },
     "execution_count": 11,
     "metadata": {},
     "output_type": "execute_result"
    }
   ],
   "source": [
    "joblib.dump(grid, 'algoritmos/extra_trees_definitivo.pkl')"
   ]
  },
  {
   "cell_type": "markdown",
   "metadata": {},
   "source": [
    "## Hago Bagging con el mejor algoritmo"
   ]
  },
  {
   "cell_type": "code",
   "execution_count": 14,
   "metadata": {
    "collapsed": true
   },
   "outputs": [],
   "source": [
    "propiedades = pd.read_csv('../../datos_con_fecha.csv')\n",
    "\n",
    "propiedades = propiedades.loc[(propiedades.price_aprox_usd.notnull()) & (propiedades.superficie.notnull())\\\n",
    "                              & (propiedades.lat.notnull()) & (propiedades.lon.notnull()) & (propiedades.Year >=2017)\\\n",
    "                        & (propiedades.price_aprox_usd <= precio_max) & (propiedades.price_aprox_usd >= precio_min) &\\\n",
    "                         (propiedades.superficie <= sup_max) & (propiedades.superficie >= sup_min) &\\\n",
    "                      (propiedades.lat <= lat_max) & (propiedades.lat >= lat_min) &\\\n",
    "                       (propiedades.lon <= lon_max) & (propiedades.lon >= lon_min),:]\n",
    "\n",
    "set_pruebas = analizar = pd.read_csv(\"../properati_dataset_modificado2.csv\")\n",
    "set_pruebas.loc[:,'price_usd'] = 0.0"
   ]
  },
  {
   "cell_type": "code",
   "execution_count": 15,
   "metadata": {
    "collapsed": true
   },
   "outputs": [],
   "source": [
    "cant = 10\n",
    "col = ['superficie','lat', 'lon','property_type_encoded','fecha']\n",
    "comodidades = ['seguridad','gimnasio', 'aire', 'pileta', 'cochera',\\\n",
    "               'doble piso', 'jardin', 'servicios','comercio','transporte']\n",
    "\n",
    "for i in range(cant):\n",
    "    com = list(np.random.choice(comodidades,6,replace = False))\n",
    "    columnas = col + com\n",
    "    \n",
    "    set_entrenamiento_datos = propiedades.loc[:,columnas]\n",
    "    set_entrenamiento_resultado = propiedades.loc[:,'price_aprox_usd']\n",
    "    \n",
    "    tree = ExtraTreesRegressor(criterion = 'mse', max_depth = 100, max_features = 1.0, n_estimators = 50)\n",
    "    \n",
    "    tree.fit(set_entrenamiento_datos,set_entrenamiento_resultado)\n",
    "    set_pruebas.loc[:,'res'] = set_pruebas.loc[:,columnas].apply(lambda x: tree.predict(x)[0],axis = 1)\n",
    "    set_pruebas.loc[:,'price_usd'] = set_pruebas.loc[:,'price_usd'] + set_pruebas.loc[:,'res']"
   ]
  },
  {
   "cell_type": "code",
   "execution_count": 16,
   "metadata": {
    "collapsed": true
   },
   "outputs": [],
   "source": [
    "set_pruebas.loc[:,'price_usd'] = set_pruebas.loc[:,'price_usd'] / cant\n",
    "\n",
    "resultado = set_pruebas.loc[:,['id','price_usd']]\n",
    "\n",
    "resultado.to_csv('resultados/Extra_Trees_Bagging_definitivo.csv', index = False)"
   ]
  },
  {
   "cell_type": "markdown",
   "metadata": {},
   "source": [
    "# Pruebo con muchos estimadores"
   ]
  },
  {
   "cell_type": "code",
   "execution_count": null,
   "metadata": {
    "collapsed": true
   },
   "outputs": [],
   "source": [
    "sup_min = 10\n",
    "sup_max = 300\n",
    "lat_min = -35\n",
    "lat_max = -34\n",
    "lon_min = -59\n",
    "lon_max = -58\n",
    "precio_min = 30000\n",
    "precio_max = 3000000"
   ]
  },
  {
   "cell_type": "code",
   "execution_count": null,
   "metadata": {
    "collapsed": true
   },
   "outputs": [],
   "source": [
    "propiedades = pd.read_csv('../../datos_con_fecha.csv')\n",
    "\n",
    "propiedades = propiedades.loc[(propiedades.price_aprox_usd.notnull()) & (propiedades.superficie.notnull())\\\n",
    "                              & (propiedades.lat.notnull()) & (propiedades.lon.notnull()) & (propiedades.Year >=2017)\\\n",
    "                        & (propiedades.price_aprox_usd <= precio_max) & (propiedades.price_aprox_usd >= precio_min) &\\\n",
    "                         (propiedades.superficie <= sup_max) & (propiedades.superficie >= sup_min) &\\\n",
    "                      (propiedades.lat <= lat_max) & (propiedades.lat >= lat_min) &\\\n",
    "                       (propiedades.lon <= lon_max) & (propiedades.lon >= lon_min),:]\n",
    "\n",
    "columnas = ['superficie','lat', 'lon','property_type_encoded','seguridad','gimnasio', 'aire', 'pileta', 'cochera',\\\n",
    "            'doble piso', 'jardin', 'servicios','comercio','transporte','fecha']\n",
    "columnas_precio = columnas + ['price_aprox_usd']\n",
    "\n",
    "set_entrenamiento_datos = propiedades.loc[:,columnas]\n",
    "set_entrenamiento_resultado = propiedades.loc[:,'price_aprox_usd']"
   ]
  },
  {
   "cell_type": "code",
   "execution_count": null,
   "metadata": {
    "collapsed": true
   },
   "outputs": [],
   "source": [
    "inicio = time.strftime(\"%X\")\n",
    "\n",
    "tree = ExtraTreesRegressor(criterion = 'mse', max_depth = 75, max_features = 1.0, n_estimators = 1000)\n",
    "\n",
    "tree.fit(set_entrenamiento_datos, set_entrenamiento_resultado)\n",
    "\n",
    "fin = time.strftime(\"%X\")\n",
    "\n",
    "print(\"Tiempo: {} --- {}\".format(inicio,fin))"
   ]
  },
  {
   "cell_type": "code",
   "execution_count": null,
   "metadata": {
    "collapsed": true
   },
   "outputs": [],
   "source": [
    "analizar = pd.read_csv(\"../properati_dataset_modificado2.csv\")\n",
    "\n",
    "analizar.loc[:,'price_usd'] = analizar.loc[:,columnas].apply(lambda x: tree.predict(x)[0],axis = 1)\n",
    "\n",
    "resultado = analizar.loc[:,['id','price_usd']]\n",
    "\n",
    "resultado.to_csv('resultados/Extra_trees_GridSearch_5kEst.csv', index = False)\n",
    "joblib.dump(tree, 'algoritmos/extra_trees_5kEst.pkl')"
   ]
  },
  {
   "cell_type": "markdown",
   "metadata": {},
   "source": [
    "# Grid Search y Cross Validation definitivo sin fecha"
   ]
  },
  {
   "cell_type": "code",
   "execution_count": 2,
   "metadata": {
    "collapsed": true
   },
   "outputs": [],
   "source": [
    "sup_min = 10\n",
    "sup_max = 300\n",
    "lat_min = -35\n",
    "lat_max = -34\n",
    "lon_min = -59\n",
    "lon_max = -58\n",
    "precio_min = 30000\n",
    "precio_max = 3000000"
   ]
  },
  {
   "cell_type": "code",
   "execution_count": 3,
   "metadata": {
    "collapsed": true
   },
   "outputs": [],
   "source": [
    "propiedades = pd.read_csv('../../datos_con_fecha.csv')\n",
    "\n",
    "propiedades = propiedades.loc[(propiedades.price_aprox_usd.notnull()) & (propiedades.superficie.notnull())\\\n",
    "                              & (propiedades.lat.notnull()) & (propiedades.lon.notnull()) & (propiedades.Year >=2017)\\\n",
    "                        & (propiedades.price_aprox_usd <= precio_max) & (propiedades.price_aprox_usd >= precio_min) &\\\n",
    "                         (propiedades.superficie <= sup_max) & (propiedades.superficie >= sup_min) &\\\n",
    "                      (propiedades.lat <= lat_max) & (propiedades.lat >= lat_min) &\\\n",
    "                       (propiedades.lon <= lon_max) & (propiedades.lon >= lon_min),:]\n",
    "\n",
    "columnas = ['superficie','lat', 'lon','property_type_encoded','seguridad','gimnasio', 'aire', 'pileta', 'cochera',\\\n",
    "            'doble piso', 'jardin', 'servicios','comercio','transporte']\n",
    "columnas_precio = columnas + ['price_aprox_usd']\n",
    "\n",
    "set_entrenamiento_datos = propiedades.loc[:,columnas]\n",
    "set_entrenamiento_resultado = propiedades.loc[:,'price_aprox_usd']"
   ]
  },
  {
   "cell_type": "code",
   "execution_count": 4,
   "metadata": {
    "collapsed": true
   },
   "outputs": [],
   "source": [
    "# Parametros\n",
    "\n",
    "criterios = ['mse']\n",
    "max_depth = [None,100]\n",
    "features = [0.4,0.6,1.0]\n",
    "estimators = [20, 30,50]\n",
    "\n",
    "parametros = {\"criterion\" : criterios, \"max_depth\" : max_depth, \\\n",
    "              \"n_estimators\" : estimators, \"max_features\" : features}\n",
    "\n",
    "iteraciones_cross_validation = 10\n",
    "arbol = ExtraTreesRegressor()"
   ]
  },
  {
   "cell_type": "code",
   "execution_count": 5,
   "metadata": {},
   "outputs": [
    {
     "name": "stdout",
     "output_type": "stream",
     "text": [
      "Tiempo: 22:24:49 --- 23:57:42 \n",
      " Precision: 97.58 \n",
      " Parametros = {'criterion': 'mse', 'max_depth': None, 'max_features': 0.4, 'n_estimators': 50}\n"
     ]
    }
   ],
   "source": [
    "inicio = time.strftime(\"%X\")\n",
    "\n",
    "grid = GridSearchCV( estimator = arbol, param_grid = parametros, n_jobs = 2, cv = iteraciones_cross_validation)\n",
    "\n",
    "grid.fit(set_entrenamiento_datos, set_entrenamiento_resultado)\n",
    "\n",
    "score = grid.best_score_ * 100\n",
    "mejores_parametros = grid.best_params_\n",
    "fin = time.strftime(\"%X\")\n",
    "\n",
    "print(\"Tiempo: {} --- {} \\n Precision: {:.2f} \\n Parametros = {}\".format(inicio,fin,score,mejores_parametros))"
   ]
  },
  {
   "cell_type": "code",
   "execution_count": 6,
   "metadata": {
    "collapsed": true
   },
   "outputs": [],
   "source": [
    "analizar = pd.read_csv(\"../properati_dataset_modificado2.csv\")\n",
    "\n",
    "analizar.loc[:,'price_usd'] = analizar.loc[:,columnas].apply(lambda x: grid.predict(x)[0],axis = 1)\n",
    "\n",
    "resultado = analizar.loc[:,['id','price_usd']]\n",
    "\n",
    "resultado.to_csv('resultados/Extra_trees_GridSearch_definitivo_sin_fecha.csv', index = False)"
   ]
  },
  {
   "cell_type": "code",
   "execution_count": 7,
   "metadata": {},
   "outputs": [
    {
     "data": {
      "text/plain": [
       "['algoritmos/extra_trees_definitivo_sin_fecha.pkl']"
      ]
     },
     "execution_count": 7,
     "metadata": {},
     "output_type": "execute_result"
    }
   ],
   "source": [
    "joblib.dump(grid, 'algoritmos/extra_trees_definitivo_sin_fecha.pkl')"
   ]
  },
  {
   "cell_type": "markdown",
   "metadata": {},
   "source": [
    "## Hago Bagging con el mejor algoritmo"
   ]
  },
  {
   "cell_type": "code",
   "execution_count": 15,
   "metadata": {
    "collapsed": true
   },
   "outputs": [],
   "source": [
    "propiedades = pd.read_csv('../../datos_con_fecha.csv')\n",
    "\n",
    "propiedades = propiedades.loc[(propiedades.price_aprox_usd.notnull()) & (propiedades.superficie.notnull())\\\n",
    "                              & (propiedades.lat.notnull()) & (propiedades.lon.notnull()) & (propiedades.Year >=2017)\\\n",
    "                        & (propiedades.price_aprox_usd <= precio_max) & (propiedades.price_aprox_usd >= precio_min) &\\\n",
    "                         (propiedades.superficie <= sup_max) & (propiedades.superficie >= sup_min) &\\\n",
    "                      (propiedades.lat <= lat_max) & (propiedades.lat >= lat_min) &\\\n",
    "                       (propiedades.lon <= lon_max) & (propiedades.lon >= lon_min),:]\n",
    "\n",
    "set_pruebas = analizar = pd.read_csv(\"../properati_dataset_modificado2.csv\")\n",
    "set_pruebas.loc[:,'price_usd'] = 0.0"
   ]
  },
  {
   "cell_type": "code",
   "execution_count": 16,
   "metadata": {
    "collapsed": true
   },
   "outputs": [],
   "source": [
    "cant = 10\n",
    "col = ['superficie','lat', 'lon','property_type_encoded']\n",
    "comodidades = ['seguridad','gimnasio', 'aire', 'pileta', 'cochera',\\\n",
    "               'doble piso', 'jardin', 'servicios','comercio','transporte']\n",
    "\n",
    "for i in range(cant):\n",
    "    com = list(np.random.choice(comodidades,6,replace = False))\n",
    "    columnas = col + com\n",
    "    \n",
    "    set_entrenamiento_datos = propiedades.loc[:,columnas]\n",
    "    set_entrenamiento_resultado = propiedades.loc[:,'price_aprox_usd']\n",
    "    \n",
    "    tree = ExtraTreesRegressor(criterion = 'mse', max_depth = None, max_features = 0.4, n_estimators = 50)\n",
    "    \n",
    "    tree.fit(set_entrenamiento_datos,set_entrenamiento_resultado)\n",
    "    set_pruebas.loc[:,'res'] = set_pruebas.loc[:,columnas].apply(lambda x: tree.predict(x)[0],axis = 1)\n",
    "    set_pruebas.loc[:,'price_usd'] = set_pruebas.loc[:,'price_usd'] + set_pruebas.loc[:,'res']"
   ]
  },
  {
   "cell_type": "code",
   "execution_count": 17,
   "metadata": {
    "collapsed": true
   },
   "outputs": [],
   "source": [
    "set_pruebas.loc[:,'price_usd'] = set_pruebas.loc[:,'price_usd'] / cant\n",
    "\n",
    "resultado = set_pruebas.loc[:,['id','price_usd']]\n",
    "\n",
    "resultado.to_csv('resultados/Extra_Trees_Bagging_definitivo_sin_fecha.csv', index = False)"
   ]
  },
  {
   "cell_type": "markdown",
   "metadata": {},
   "source": [
    "# Pruebo con muchos estimadores sin fecha"
   ]
  },
  {
   "cell_type": "code",
   "execution_count": 2,
   "metadata": {
    "collapsed": true
   },
   "outputs": [],
   "source": [
    "sup_min = 10\n",
    "sup_max = 300\n",
    "lat_min = -35\n",
    "lat_max = -34\n",
    "lon_min = -59\n",
    "lon_max = -58\n",
    "precio_min = 30000\n",
    "precio_max = 3000000"
   ]
  },
  {
   "cell_type": "code",
   "execution_count": 3,
   "metadata": {
    "collapsed": true
   },
   "outputs": [],
   "source": [
    "propiedades = pd.read_csv('../../datos_con_fecha.csv')\n",
    "\n",
    "propiedades = propiedades.loc[(propiedades.price_aprox_usd.notnull()) & (propiedades.superficie.notnull())\\\n",
    "                              & (propiedades.lat.notnull()) & (propiedades.lon.notnull()) & (propiedades.Year >=2017)\\\n",
    "                        & (propiedades.price_aprox_usd <= precio_max) & (propiedades.price_aprox_usd >= precio_min) &\\\n",
    "                         (propiedades.superficie <= sup_max) & (propiedades.superficie >= sup_min) &\\\n",
    "                      (propiedades.lat <= lat_max) & (propiedades.lat >= lat_min) &\\\n",
    "                       (propiedades.lon <= lon_max) & (propiedades.lon >= lon_min),:]\n",
    "\n",
    "columnas = ['superficie','lat', 'lon','property_type_encoded','seguridad','gimnasio', 'aire', 'pileta', 'cochera',\\\n",
    "            'doble piso', 'jardin', 'servicios','comercio','transporte']\n",
    "columnas_precio = columnas + ['price_aprox_usd']\n",
    "\n",
    "set_entrenamiento_datos = propiedades.loc[:,columnas]\n",
    "set_entrenamiento_resultado = propiedades.loc[:,'price_aprox_usd']"
   ]
  },
  {
   "cell_type": "code",
   "execution_count": 4,
   "metadata": {},
   "outputs": [
    {
     "name": "stdout",
     "output_type": "stream",
     "text": [
      "Tiempo: 01:37:34 --- 01:56:38\n"
     ]
    }
   ],
   "source": [
    "inicio = time.strftime(\"%X\")\n",
    "\n",
    "tree = ExtraTreesRegressor(criterion = 'mse', max_depth = 75, max_features = 1.0, n_estimators = 1000)\n",
    "\n",
    "tree.fit(set_entrenamiento_datos, set_entrenamiento_resultado)\n",
    "\n",
    "fin = time.strftime(\"%X\")\n",
    "\n",
    "print(\"Tiempo: {} --- {}\".format(inicio,fin))"
   ]
  },
  {
   "cell_type": "code",
   "execution_count": 5,
   "metadata": {},
   "outputs": [
    {
     "data": {
      "text/plain": [
       "['algoritmos/extra_trees_5kEst_sinfecha.pkl']"
      ]
     },
     "execution_count": 5,
     "metadata": {},
     "output_type": "execute_result"
    }
   ],
   "source": [
    "analizar = pd.read_csv(\"../properati_dataset_modificado2.csv\")\n",
    "\n",
    "analizar.loc[:,'price_usd'] = analizar.loc[:,columnas].apply(lambda x: tree.predict([x])[0],axis = 1)\n",
    "\n",
    "resultado = analizar.loc[:,['id','price_usd']]\n",
    "\n",
    "resultado.to_csv('resultados/Extra_trees_GridSearch_5kEst_sinfecha.csv', index = False)\n",
    "joblib.dump(tree, 'algoritmos/extra_trees_5kEst_sinfecha.pkl')"
   ]
  },
  {
   "cell_type": "markdown",
   "metadata": {},
   "source": [
    "## Bagging con menos columnas"
   ]
  },
  {
   "cell_type": "code",
   "execution_count": 3,
   "metadata": {
    "collapsed": true
   },
   "outputs": [],
   "source": [
    "sup_min = 10\n",
    "sup_max = 300\n",
    "lat_min = -35\n",
    "lat_max = -34\n",
    "lon_min = -59\n",
    "lon_max = -58\n",
    "precio_min = 30000\n",
    "precio_max = 3000000\n",
    "\n",
    "propiedades = pd.read_csv('../../datos_con_fecha.csv')\n",
    "\n",
    "propiedades = propiedades.loc[(propiedades.price_aprox_usd.notnull()) & (propiedades.superficie.notnull())\\\n",
    "                              & (propiedades.lat.notnull()) & (propiedades.lon.notnull()) & (propiedades.Year >=2017)\\\n",
    "                        & (propiedades.price_aprox_usd <= precio_max) & (propiedades.price_aprox_usd >= precio_min) &\\\n",
    "                         (propiedades.superficie <= sup_max) & (propiedades.superficie >= sup_min) &\\\n",
    "                      (propiedades.lat <= lat_max) & (propiedades.lat >= lat_min) &\\\n",
    "                       (propiedades.lon <= lon_max) & (propiedades.lon >= lon_min),:]\n",
    "\n",
    "set_pruebas = analizar = pd.read_csv(\"../properati_dataset_modificado2.csv\")\n",
    "set_pruebas.loc[:,'price_usd'] = 0.0"
   ]
  },
  {
   "cell_type": "code",
   "execution_count": 9,
   "metadata": {
    "collapsed": true
   },
   "outputs": [],
   "source": [
    "cant = 10\n",
    "col = ['superficie','lat', 'lon','property_type_encoded']\n",
    "comodidades = ['seguridad','gimnasio', 'aire', 'pileta', 'cochera']\n",
    "\n",
    "\n",
    "for i in range(cant):\n",
    "    com = list(np.random.choice(comodidades,4,replace = False))\n",
    "    columnas = col + com\n",
    "    \n",
    "    set_entrenamiento_datos = propiedades.loc[:,columnas]\n",
    "    set_entrenamiento_resultado = propiedades.loc[:,'price_aprox_usd']\n",
    "    \n",
    "    tree = ExtraTreesRegressor(criterion = 'mse', max_depth = None, max_features = 0.4, n_estimators = 50)\n",
    "    \n",
    "    tree.fit(set_entrenamiento_datos,set_entrenamiento_resultado)\n",
    "    set_pruebas.loc[:,'res'] = set_pruebas.loc[:,columnas].apply(lambda x: tree.predict([x])[0],axis = 1)\n",
    "    set_pruebas.loc[:,'price_usd'] = set_pruebas.loc[:,'price_usd'] + set_pruebas.loc[:,'res']"
   ]
  },
  {
   "cell_type": "code",
   "execution_count": 10,
   "metadata": {
    "collapsed": true
   },
   "outputs": [],
   "source": [
    "set_pruebas.loc[:,'price_usd'] = set_pruebas.loc[:,'price_usd'] / cant\n",
    "\n",
    "resultado = set_pruebas.loc[:,['id','price_usd']]\n",
    "\n",
    "resultado.to_csv('resultados/Extra Trees/Extra_Trees_Bagging_definitivo_menos_columnas.csv', index = False)"
   ]
  }
 ],
 "metadata": {
  "anaconda-cloud": {},
  "kernelspec": {
   "display_name": "Python 3",
   "language": "python",
   "name": "python3"
  },
  "language_info": {
   "codemirror_mode": {
    "name": "ipython",
    "version": 3
   },
   "file_extension": ".py",
   "mimetype": "text/x-python",
   "name": "python",
   "nbconvert_exporter": "python",
   "pygments_lexer": "ipython3",
   "version": "3.6.1"
  }
 },
 "nbformat": 4,
 "nbformat_minor": 2
}
