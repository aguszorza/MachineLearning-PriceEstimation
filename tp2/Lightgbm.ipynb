{
 "cells": [
  {
   "cell_type": "code",
   "execution_count": 1,
   "metadata": {
    "collapsed": true
   },
   "outputs": [],
   "source": [
    "import pandas as pd\n",
    "import numpy as np\n",
    "from sklearn.metrics import mean_squared_error\n",
    "import lightgbm as lgb\n",
    "from sklearn.model_selection import GridSearchCV\n",
    "from sklearn.externals import joblib\n",
    "from sklearn.model_selection import train_test_split\n",
    "import time\n",
    "from sklearn.decomposition import TruncatedSVD\n",
    "from sklearn.model_selection import train_test_split\n",
    "\n",
    "import warnings\n",
    "warnings.simplefilter(\"ignore\", category=DeprecationWarning)\n",
    "#https://lightgbm.readthedocs.io/en/latest/Installation-Guide.html"
   ]
  },
  {
   "cell_type": "code",
   "execution_count": 2,
   "metadata": {
    "collapsed": true
   },
   "outputs": [],
   "source": [
    "propiedades = pd.read_csv('../../set_datos_propiedades.csv')"
   ]
  },
  {
   "cell_type": "code",
   "execution_count": 3,
   "metadata": {
    "collapsed": true
   },
   "outputs": [],
   "source": [
    "propiedades = propiedades.loc[(propiedades.price_aprox_usd.notnull()) & (propiedades.superficie.notnull()),\\\n",
    "                             ['place_name_encoded', 'property_type_encoded','price_aprox_usd','superficie',\\\n",
    "                             'Year','Month','seguridad','aire','gimnasio','cochera','pileta']]"
   ]
  },
  {
   "cell_type": "markdown",
   "metadata": {},
   "source": [
    "# LightGBM"
   ]
  },
  {
   "cell_type": "code",
   "execution_count": 9,
   "metadata": {
    "collapsed": true
   },
   "outputs": [],
   "source": [
    "columnas = ['superficie','place_name_encoded','property_type_encoded','seguridad','gimnasio', 'aire', 'pileta', 'cochera']\n",
    "columnas_precio = columnas + ['price_aprox_usd']"
   ]
  },
  {
   "cell_type": "code",
   "execution_count": 10,
   "metadata": {
    "collapsed": true
   },
   "outputs": [],
   "source": [
    "set_entrenamiento = propiedades.loc[(propiedades.Year >= 2016) &((propiedades.Year < 2017) | (propiedades.Month < 6))\\\n",
    "                                    ,columnas_precio]\n",
    "set_pruebas = propiedades.loc[(propiedades.Year == 2017) & (propiedades.Month == 6),columnas_precio].head(20000)\n",
    "\n",
    "set_entrenamiento_datos = set_entrenamiento.loc[:,columnas]\n",
    "set_entrenamiento_resultado = set_entrenamiento.loc[:,'price_aprox_usd']"
   ]
  },
  {
   "cell_type": "code",
   "execution_count": 29,
   "metadata": {
    "collapsed": false
   },
   "outputs": [
    {
     "name": "stdout",
     "output_type": "stream",
     "text": [
      "Precision = 0.230676213694%, error = 1.37641955262e+11\n"
     ]
    }
   ],
   "source": [
    "lgbm = lgb.LGBMRegressor()\n",
    "lgbm.fit(set_entrenamiento_datos,set_entrenamiento_resultado)\n",
    "set_pruebas.loc[:,'resultado'] = lgbm.predict(set_pruebas.loc[:,columnas])\n",
    "precision = lgbm.score(set_pruebas.loc[:,columnas],set_pruebas.price_aprox_usd) * 100\n",
    "error = mean_squared_error(set_pruebas.price_aprox_usd,set_pruebas.resultado)\n",
    "print(\"Precision = {}%, error = {}\".format(precision, error))"
   ]
  },
  {
   "cell_type": "markdown",
   "metadata": {},
   "source": [
    "### Ahora que tenemos una intuicion, probamos variando los parametros"
   ]
  },
  {
   "cell_type": "code",
   "execution_count": 30,
   "metadata": {
    "collapsed": true
   },
   "outputs": [],
   "source": [
    "columnas = ['superficie','place_name_encoded','property_type_encoded','seguridad','gimnasio', 'aire', 'pileta', 'cochera']\n",
    "columnas_precio = columnas + ['price_aprox_usd']"
   ]
  },
  {
   "cell_type": "code",
   "execution_count": 33,
   "metadata": {
    "collapsed": true
   },
   "outputs": [],
   "source": [
    "set_entrenamiento = propiedades.loc[(propiedades.Year >= 2016) &((propiedades.Year < 2017) | (propiedades.Month < 6))\\\n",
    "                                    ,columnas_precio]\n",
    "set_pruebas = propiedades.loc[(propiedades.Year == 2017) & (propiedades.Month == 6),columnas_precio].head(20000)\n",
    "\n",
    "set_entrenamiento_datos = set_entrenamiento.loc[:,columnas]\n",
    "set_entrenamiento_resultado = set_entrenamiento.loc[:,'price_aprox_usd']\n",
    "\n",
    "res = []"
   ]
  },
  {
   "cell_type": "code",
   "execution_count": null,
   "metadata": {
    "collapsed": true
   },
   "outputs": [],
   "source": [
    "boosting = ['gbdt', 'dart', 'goss', 'rf']\n",
    "estimators = [10, 20, 50]\n",
    "learning_rate = [0.1, 0.3, 0.5]\n",
    "\n",
    "for b in boosting:\n",
    "    for e in estimators:\n",
    "        for lr in learning_rate:\n",
    "            try:\n",
    "                lgbm = lgb.LGBMRegressor(boosting_type = b, n_estimators = e, learning_rate = lr)\n",
    "                lgbm.fit(set_entrenamiento_datos,set_entrenamiento_resultado)\n",
    "                set_pruebas.loc[:,'resultado'] = lgbm.predict(set_pruebas.loc[:,columnas])\n",
    "                precision = lgbm.score(set_pruebas.loc[:,columnas],set_pruebas.price_aprox_usd) * 100\n",
    "                error = mean_squared_error(set_pruebas.price_aprox_usd,set_pruebas.resultado)\n",
    "                res.append((b, e, lr, precision, error))\n",
    "                print(b, '-', e, '-', lr)\n",
    "            except:\n",
    "                continue"
   ]
  },
  {
   "cell_type": "code",
   "execution_count": 36,
   "metadata": {
    "collapsed": false
   },
   "outputs": [
    {
     "name": "stdout",
     "output_type": "stream",
     "text": [
      "boosting_type = gbdt, n_estimators = 10, learnig_rate = 0.1, precision = 0.23 % , error = 1.37641955262e+11\n",
      "boosting_type = gbdt, n_estimators = 10, learnig_rate = 0.3, precision = 0.23 % , error = 1.37641955262e+11\n",
      "boosting_type = gbdt, n_estimators = 10, learnig_rate = 0.5, precision = 0.23 % , error = 1.37641955262e+11\n",
      "boosting_type = gbdt, n_estimators = 20, learnig_rate = 0.1, precision = 0.46 % , error = 1.37318841383e+11\n",
      "boosting_type = gbdt, n_estimators = 20, learnig_rate = 0.3, precision = 0.46 % , error = 1.37318841383e+11\n",
      "boosting_type = gbdt, n_estimators = 20, learnig_rate = 0.5, precision = 0.46 % , error = 1.37318841383e+11\n",
      "boosting_type = gbdt, n_estimators = 50, learnig_rate = 0.1, precision = 1.17 % , error = 1.36348628327e+11\n",
      "boosting_type = gbdt, n_estimators = 50, learnig_rate = 0.3, precision = 1.17 % , error = 1.3634861732e+11\n",
      "boosting_type = gbdt, n_estimators = 50, learnig_rate = 0.5, precision = 1.17 % , error = 1.36348603281e+11\n",
      "boosting_type = dart, n_estimators = 10, learnig_rate = 0.1, precision = 0.22 % , error = 1.37658163456e+11\n",
      "boosting_type = dart, n_estimators = 10, learnig_rate = 0.3, precision = 0.22 % , error = 1.37658163456e+11\n",
      "boosting_type = dart, n_estimators = 10, learnig_rate = 0.5, precision = 0.22 % , error = 1.37658163456e+11\n",
      "boosting_type = dart, n_estimators = 20, learnig_rate = 0.1, precision = -50.69 % , error = 2.07888691064e+11\n",
      "boosting_type = dart, n_estimators = 20, learnig_rate = 0.3, precision = -50.69 % , error = 2.07888691064e+11\n",
      "boosting_type = dart, n_estimators = 20, learnig_rate = 0.5, precision = -50.69 % , error = 2.07888691064e+11\n",
      "boosting_type = dart, n_estimators = 50, learnig_rate = 0.1, precision = -50.53 % , error = 2.07672198292e+11\n",
      "boosting_type = dart, n_estimators = 50, learnig_rate = 0.3, precision = -50.53 % , error = 2.07671798582e+11\n",
      "boosting_type = dart, n_estimators = 50, learnig_rate = 0.5, precision = -50.53 % , error = 2.07671634513e+11\n",
      "boosting_type = goss, n_estimators = 10, learnig_rate = 0.1, precision = 0.23 % , error = 1.37641955262e+11\n",
      "boosting_type = goss, n_estimators = 10, learnig_rate = 0.3, precision = 0.24 % , error = 1.37635488015e+11\n",
      "boosting_type = goss, n_estimators = 10, learnig_rate = 0.5, precision = 0.24 % , error = 1.37634963154e+11\n",
      "boosting_type = goss, n_estimators = 20, learnig_rate = 0.1, precision = 0.47 % , error = 1.373090266e+11\n",
      "boosting_type = goss, n_estimators = 20, learnig_rate = 0.3, precision = 0.48 % , error = 1.37302859364e+11\n",
      "boosting_type = goss, n_estimators = 20, learnig_rate = 0.5, precision = 0.48 % , error = 1.37303175176e+11\n",
      "boosting_type = goss, n_estimators = 50, learnig_rate = 0.1, precision = 1.19 % , error = 1.36324808551e+11\n",
      "boosting_type = goss, n_estimators = 50, learnig_rate = 0.3, precision = 1.19 % , error = 1.36318726628e+11\n",
      "boosting_type = goss, n_estimators = 50, learnig_rate = 0.5, precision = 1.19 % , error = 1.36317175083e+11\n"
     ]
    }
   ],
   "source": [
    "for r in res:\n",
    "    print (\"boosting_type = {}, n_estimators = {}, learnig_rate = {}, precision = {:.2f} % , error = {}\".format(r[0],r[1],r[2],r[3], r[4]))"
   ]
  },
  {
   "cell_type": "code",
   "execution_count": 37,
   "metadata": {
    "collapsed": false
   },
   "outputs": [
    {
     "name": "stdout",
     "output_type": "stream",
     "text": [
      "Mayor precision = boosting_type = goss, n_estimators = 50, learnig_rate = 0.5, precision = 1.19 % , error = 1.36317175083e+11\n",
      "Menor error = boosting_type = goss, n_estimators = 50, learnig_rate = 0.5, precision = 1.19 % , error = 1.36317175083e+11\n"
     ]
    }
   ],
   "source": [
    "min_error = float('inf')\n",
    "max_precision = 0\n",
    "tupla_min_error = ()\n",
    "tupla_max_precision = ()\n",
    "for r in res:\n",
    "    if r[4] < min_error:\n",
    "        min_error = r[4]\n",
    "        tupla_min_error = r\n",
    "    if r[3] > max_precision:\n",
    "        max_precision = r[3]\n",
    "        tupla_max_precision = r\n",
    "        \n",
    "print(\"Mayor precision = boosting_type = {}, n_estimators = {}, learnig_rate = {}, precision = {:.2f} % , error = {}\".\\\n",
    "              format(tupla_max_precision[0],tupla_max_precision[1],tupla_max_precision[2],tupla_max_precision[3], tupla_max_precision[4]))\n",
    "print(\"Menor error = boosting_type = {}, n_estimators = {}, learnig_rate = {}, precision = {:.2f} % , error = {}\".\\\n",
    "              format(tupla_min_error[0],tupla_min_error[1],tupla_min_error[2],tupla_min_error[3], tupla_min_error[4]))"
   ]
  },
  {
   "cell_type": "markdown",
   "metadata": {},
   "source": [
    "# Modifico max_depth"
   ]
  },
  {
   "cell_type": "code",
   "execution_count": 38,
   "metadata": {
    "collapsed": true
   },
   "outputs": [],
   "source": [
    "columnas = ['superficie','place_name_encoded','property_type_encoded','seguridad','gimnasio','aire','pileta','cochera']\n",
    "columnas_precio = columnas + ['price_aprox_usd']"
   ]
  },
  {
   "cell_type": "code",
   "execution_count": 39,
   "metadata": {
    "collapsed": true
   },
   "outputs": [],
   "source": [
    "set_entrenamiento = propiedades.loc[(propiedades.Year >= 2016) &((propiedades.Year < 2017) | (propiedades.Month < 6))\\\n",
    "                                    ,columnas_precio]\n",
    "set_pruebas = propiedades.loc[(propiedades.Year == 2017) & (propiedades.Month == 6),columnas_precio].head(20000)\n",
    "\n",
    "set_entrenamiento_datos = set_entrenamiento.loc[:,columnas]\n",
    "set_entrenamiento_resultado = set_entrenamiento.loc[:,'price_aprox_usd']"
   ]
  },
  {
   "cell_type": "code",
   "execution_count": 40,
   "metadata": {
    "collapsed": true
   },
   "outputs": [],
   "source": [
    "max_depth = [1, 5, 10, 15]"
   ]
  },
  {
   "cell_type": "code",
   "execution_count": null,
   "metadata": {
    "collapsed": true
   },
   "outputs": [],
   "source": [
    "for d in max_depth:\n",
    "    lgbm = lgb.LGBMRegressor(boosting_type = 'goss', n_estimators = 50, learning_rate = 0.5, max_depth = d)\n",
    "    lgbm.fit(set_entrenamiento_datos,set_entrenamiento_resultado)\n",
    "    set_pruebas.loc[:,'resultado'] = lgbm.predict(set_pruebas.loc[:,columnas])\n",
    "    precision = lgbm.score(set_pruebas.loc[:,columnas],set_pruebas.price_aprox_usd) * 100\n",
    "    error = mean_squared_error(set_pruebas.price_aprox_usd,set_pruebas.resultado)\n",
    "    res.append((b, e, lr, precision, error))\n",
    "    print(b, '-', e, '-', lr)"
   ]
  },
  {
   "cell_type": "code",
   "execution_count": 42,
   "metadata": {
    "collapsed": false
   },
   "outputs": [
    {
     "name": "stdout",
     "output_type": "stream",
     "text": [
      "boosting_type = rf, n_estimators = 50, learnig_rate = 0.5, precision = 1.09 % , error = 1.36452039915e+11\n",
      "boosting_type = rf, n_estimators = 50, learnig_rate = 0.5, precision = 1.18 % , error = 1.36326866928e+11\n",
      "boosting_type = rf, n_estimators = 50, learnig_rate = 0.5, precision = 1.19 % , error = 1.36317175083e+11\n",
      "boosting_type = rf, n_estimators = 50, learnig_rate = 0.5, precision = 1.19 % , error = 1.36317175083e+11\n"
     ]
    }
   ],
   "source": [
    "for r in res[27:]:\n",
    "    print (\"boosting_type = {}, n_estimators = {}, learnig_rate = {}, precision = {:.2f} % , error = {}\".format(r[0],r[1],r[2],r[3], r[4]))"
   ]
  },
  {
   "cell_type": "markdown",
   "metadata": {},
   "source": [
    "## Aumentamos los valores de max depth y n_estimators para ver si mejoramos la precisión"
   ]
  },
  {
   "cell_type": "code",
   "execution_count": 47,
   "metadata": {
    "collapsed": false
   },
   "outputs": [
    {
     "name": "stdout",
     "output_type": "stream",
     "text": [
      "Precision = 38.9816250348%, error = 84181070076.1\n"
     ]
    }
   ],
   "source": [
    "lgbm = lgb.LGBMRegressor(boosting_type = 'goss', n_estimators = 5000, learning_rate = 2.9, max_depth = 1000)\n",
    "lgbm.fit(set_entrenamiento_datos,set_entrenamiento_resultado)\n",
    "set_pruebas.loc[:,'resultado'] = lgbm.predict(set_pruebas.loc[:,columnas])\n",
    "precision = lgbm.score(set_pruebas.loc[:,columnas],set_pruebas.price_aprox_usd) * 100\n",
    "error = mean_squared_error(set_pruebas.price_aprox_usd,set_pruebas.resultado)\n",
    "print(\"Precision = {}%, error = {}\".format(precision, error))"
   ]
  },
  {
   "cell_type": "code",
   "execution_count": null,
   "metadata": {
    "collapsed": true
   },
   "outputs": [],
   "source": [
    "n_estimators = [5000, 10000, 50000, 100000]\n",
    "b = 'goss'\n",
    "lr = 2.9\n",
    "d = 1000\n",
    "res = []\n",
    "\n",
    "for n in n_estimators:\n",
    "    lgbm = lgb.LGBMRegressor(boosting_type = b, n_estimators = n, learning_rate = lr, max_depth = d)\n",
    "    lgbm.fit(set_entrenamiento_datos,set_entrenamiento_resultado)\n",
    "    set_pruebas.loc[:,'resultado'] = lgbm.predict(set_pruebas.loc[:,columnas])\n",
    "    precision = lgbm.score(set_pruebas.loc[:,columnas],set_pruebas.price_aprox_usd) * 100\n",
    "    error = mean_squared_error(set_pruebas.price_aprox_usd,set_pruebas.resultado)\n",
    "    res.append((b, n, lr, precision, error))\n",
    "    print(n)"
   ]
  },
  {
   "cell_type": "code",
   "execution_count": 52,
   "metadata": {
    "collapsed": false
   },
   "outputs": [
    {
     "name": "stdout",
     "output_type": "stream",
     "text": [
      "boosting_type = goss, n_estimators = 5000, learnig_rate = 2.9, precision = 38.98 % , error = 84181070076.1\n",
      "boosting_type = goss, n_estimators = 10000, learnig_rate = 2.9, precision = 47.01 % , error = 73107356570.7\n",
      "boosting_type = goss, n_estimators = 50000, learnig_rate = 2.9, precision = 54.98 % , error = 62112893806.8\n",
      "boosting_type = goss, n_estimators = 100000, learnig_rate = 2.9, precision = 58.98 % , error = 56587427148.9\n"
     ]
    }
   ],
   "source": [
    "for r in res:\n",
    "    print (\"boosting_type = {}, n_estimators = {}, learnig_rate = {}, precision = {:.2f} % , error = {}\".format(r[0],r[1],r[2],r[3], r[4]))"
   ]
  },
  {
   "cell_type": "markdown",
   "metadata": {},
   "source": [
    "#### Se puede ver que al aumentar la cantidad de estimadores mejora la precision por lo que tomamos un número más grande"
   ]
  },
  {
   "cell_type": "markdown",
   "metadata": {},
   "source": [
    "# Calculamos los verdaderos datos"
   ]
  },
  {
   "cell_type": "code",
   "execution_count": 53,
   "metadata": {
    "collapsed": true
   },
   "outputs": [],
   "source": [
    "analizar = pd.read_csv(\"../properati_dataset_modificado.csv\")"
   ]
  },
  {
   "cell_type": "code",
   "execution_count": 55,
   "metadata": {
    "collapsed": true
   },
   "outputs": [],
   "source": [
    "analizar.loc[:,'price_usd'] = analizar.loc[:,columnas].apply(lambda x: lgbm.predict([x])[0],axis = 1)"
   ]
  },
  {
   "cell_type": "code",
   "execution_count": 56,
   "metadata": {
    "collapsed": false
   },
   "outputs": [
    {
     "data": {
      "text/plain": [
       "count    1.416600e+04\n",
       "mean     2.471407e+05\n",
       "std      2.493879e+05\n",
       "min     -5.653215e+05\n",
       "25%      1.145887e+05\n",
       "50%      1.621351e+05\n",
       "75%      2.909809e+05\n",
       "max      8.571289e+06\n",
       "Name: price_usd, dtype: float64"
      ]
     },
     "execution_count": 56,
     "metadata": {},
     "output_type": "execute_result"
    }
   ],
   "source": [
    "analizar.price_usd.describe()"
   ]
  },
  {
   "cell_type": "code",
   "execution_count": 57,
   "metadata": {
    "collapsed": true
   },
   "outputs": [],
   "source": [
    "analizar.loc[:, 'price_usd'] = analizar.loc[:, 'price_usd'].apply(lambda x: abs(x))"
   ]
  },
  {
   "cell_type": "code",
   "execution_count": 58,
   "metadata": {
    "collapsed": false,
    "scrolled": true
   },
   "outputs": [
    {
     "data": {
      "text/plain": [
       "count    1.416600e+04\n",
       "mean     2.477323e+05\n",
       "std      2.488002e+05\n",
       "min      6.880918e+03\n",
       "25%      1.147296e+05\n",
       "50%      1.624316e+05\n",
       "75%      2.914919e+05\n",
       "max      8.571289e+06\n",
       "Name: price_usd, dtype: float64"
      ]
     },
     "execution_count": 58,
     "metadata": {},
     "output_type": "execute_result"
    }
   ],
   "source": [
    "analizar.price_usd.describe()"
   ]
  },
  {
   "cell_type": "code",
   "execution_count": 59,
   "metadata": {
    "collapsed": true
   },
   "outputs": [],
   "source": [
    "resultado = analizar.loc[:,['id','price_usd']]"
   ]
  },
  {
   "cell_type": "code",
   "execution_count": 60,
   "metadata": {
    "collapsed": true
   },
   "outputs": [],
   "source": [
    "resultado.to_csv('resultados/lightgbm_resultados.csv', index = False)"
   ]
  },
  {
   "cell_type": "markdown",
   "metadata": {},
   "source": [
    "## Ahora uso lat y lon en lugar de place name"
   ]
  },
  {
   "cell_type": "code",
   "execution_count": 3,
   "metadata": {
    "collapsed": true
   },
   "outputs": [],
   "source": [
    "propiedades = propiedades.loc[(propiedades.price_aprox_usd.notnull()) & (propiedades.superficie.notnull())\\\n",
    "                              & (propiedades.lat.notnull()) & (propiedades.lon.notnull()),\\\n",
    "                             ['lat', 'lon', 'property_type_encoded','price_aprox_usd','superficie',\\\n",
    "                             'Year','Month','seguridad','aire','gimnasio','cochera','pileta']]"
   ]
  },
  {
   "cell_type": "code",
   "execution_count": 4,
   "metadata": {
    "collapsed": true
   },
   "outputs": [],
   "source": [
    "columnas = ['superficie','lat', 'lon','property_type_encoded','seguridad','gimnasio', 'aire', 'pileta', 'cochera']\n",
    "columnas_precio = columnas + ['price_aprox_usd']"
   ]
  },
  {
   "cell_type": "code",
   "execution_count": 5,
   "metadata": {
    "collapsed": true
   },
   "outputs": [],
   "source": [
    "set_entrenamiento = propiedades.loc[(propiedades.Year >= 2016) &((propiedades.Year < 2017) | (propiedades.Month < 6))\\\n",
    "                                    ,columnas_precio]\n",
    "set_pruebas = propiedades.loc[(propiedades.Year == 2017) & (propiedades.Month == 6),columnas_precio].head(20000)\n",
    "\n",
    "set_entrenamiento_datos = set_entrenamiento.loc[:,columnas]\n",
    "set_entrenamiento_resultado = set_entrenamiento.loc[:,'price_aprox_usd']"
   ]
  },
  {
   "cell_type": "code",
   "execution_count": 66,
   "metadata": {
    "collapsed": false
   },
   "outputs": [
    {
     "name": "stdout",
     "output_type": "stream",
     "text": [
      "Precision = 0.225789592842%, error = 1.15522485637e+11\n"
     ]
    }
   ],
   "source": [
    "lgbm = lgb.LGBMRegressor()\n",
    "lgbm.fit(set_entrenamiento_datos,set_entrenamiento_resultado)\n",
    "set_pruebas.loc[:,'resultado'] = lgbm.predict(set_pruebas.loc[:,columnas])\n",
    "precision = lgbm.score(set_pruebas.loc[:,columnas],set_pruebas.price_aprox_usd) * 100\n",
    "error = mean_squared_error(set_pruebas.price_aprox_usd,set_pruebas.resultado)\n",
    "print(\"Precision = {}%, error = {}\".format(precision, error))"
   ]
  },
  {
   "cell_type": "code",
   "execution_count": 67,
   "metadata": {
    "collapsed": true
   },
   "outputs": [],
   "source": [
    "res = []"
   ]
  },
  {
   "cell_type": "code",
   "execution_count": null,
   "metadata": {
    "collapsed": true
   },
   "outputs": [],
   "source": [
    "boosting = ['gbdt', 'dart', 'goss', 'rf']\n",
    "estimators = [10, 20, 50]\n",
    "learning_rate = [0.1, 0.3, 0.5]\n",
    "\n",
    "for b in boosting:\n",
    "    for e in estimators:\n",
    "        for lr in learning_rate:\n",
    "            try:\n",
    "                lgbm = lgb.LGBMRegressor(boosting_type = b, n_estimators = e, learning_rate = lr)\n",
    "                lgbm.fit(set_entrenamiento_datos,set_entrenamiento_resultado)\n",
    "                set_pruebas.loc[:,'resultado'] = lgbm.predict(set_pruebas.loc[:,columnas])\n",
    "                precision = lgbm.score(set_pruebas.loc[:,columnas],set_pruebas.price_aprox_usd) * 100\n",
    "                error = mean_squared_error(set_pruebas.price_aprox_usd,set_pruebas.resultado)\n",
    "                res.append((b, e, lr, precision, error))\n",
    "                print(b, '-', e, '-', lr)\n",
    "            except:\n",
    "                continue"
   ]
  },
  {
   "cell_type": "code",
   "execution_count": 69,
   "metadata": {
    "collapsed": false
   },
   "outputs": [
    {
     "name": "stdout",
     "output_type": "stream",
     "text": [
      "boosting_type = gbdt, n_estimators = 10, learnig_rate = 0.1, precision = 0.23 % , error = 1.15522485637e+11\n",
      "boosting_type = gbdt, n_estimators = 10, learnig_rate = 0.3, precision = 0.23 % , error = 1.15522485637e+11\n",
      "boosting_type = gbdt, n_estimators = 10, learnig_rate = 0.5, precision = 0.23 % , error = 1.15522485637e+11\n",
      "boosting_type = gbdt, n_estimators = 20, learnig_rate = 0.1, precision = 0.48 % , error = 1.15225738506e+11\n",
      "boosting_type = gbdt, n_estimators = 20, learnig_rate = 0.3, precision = 0.48 % , error = 1.15225738506e+11\n",
      "boosting_type = gbdt, n_estimators = 20, learnig_rate = 0.5, precision = 0.48 % , error = 1.15225738506e+11\n",
      "boosting_type = gbdt, n_estimators = 50, learnig_rate = 0.1, precision = 1.24 % , error = 1.14345223916e+11\n",
      "boosting_type = gbdt, n_estimators = 50, learnig_rate = 0.3, precision = 1.24 % , error = 1.14345223916e+11\n",
      "boosting_type = gbdt, n_estimators = 50, learnig_rate = 0.5, precision = 1.24 % , error = 1.14345223916e+11\n",
      "boosting_type = dart, n_estimators = 10, learnig_rate = 0.1, precision = 0.21 % , error = 1.15537496336e+11\n",
      "boosting_type = dart, n_estimators = 10, learnig_rate = 0.3, precision = 0.21 % , error = 1.15537496336e+11\n",
      "boosting_type = dart, n_estimators = 10, learnig_rate = 0.5, precision = 0.21 % , error = 1.15537496336e+11\n",
      "boosting_type = dart, n_estimators = 20, learnig_rate = 0.1, precision = -52.42 % , error = 1.76478748301e+11\n",
      "boosting_type = dart, n_estimators = 20, learnig_rate = 0.3, precision = -52.42 % , error = 1.76478748301e+11\n",
      "boosting_type = dart, n_estimators = 20, learnig_rate = 0.5, precision = -52.42 % , error = 1.76478748301e+11\n",
      "boosting_type = dart, n_estimators = 50, learnig_rate = 0.1, precision = -52.30 % , error = 1.76338228683e+11\n",
      "boosting_type = dart, n_estimators = 50, learnig_rate = 0.3, precision = -52.30 % , error = 1.76338158574e+11\n",
      "boosting_type = dart, n_estimators = 50, learnig_rate = 0.5, precision = -52.30 % , error = 1.76338158574e+11\n",
      "boosting_type = goss, n_estimators = 10, learnig_rate = 0.1, precision = 0.23 % , error = 1.15522485637e+11\n",
      "boosting_type = goss, n_estimators = 10, learnig_rate = 0.3, precision = 0.22 % , error = 1.15524090025e+11\n",
      "boosting_type = goss, n_estimators = 10, learnig_rate = 0.5, precision = 0.22 % , error = 1.15524325425e+11\n",
      "boosting_type = goss, n_estimators = 20, learnig_rate = 0.1, precision = 0.48 % , error = 1.15226832102e+11\n",
      "boosting_type = goss, n_estimators = 20, learnig_rate = 0.3, precision = 0.48 % , error = 1.15228841218e+11\n",
      "boosting_type = goss, n_estimators = 20, learnig_rate = 0.5, precision = 0.48 % , error = 1.15229342282e+11\n",
      "boosting_type = goss, n_estimators = 50, learnig_rate = 0.1, precision = 1.24 % , error = 1.14353909685e+11\n",
      "boosting_type = goss, n_estimators = 50, learnig_rate = 0.3, precision = 1.23 % , error = 1.14356864248e+11\n",
      "boosting_type = goss, n_estimators = 50, learnig_rate = 0.5, precision = 1.23 % , error = 1.14357312858e+11\n"
     ]
    }
   ],
   "source": [
    "for r in res:\n",
    "    print (\"boosting_type = {}, n_estimators = {}, learnig_rate = {}, precision = {:.2f} % , error = {}\".format(r[0],r[1],r[2],r[3], r[4]))"
   ]
  },
  {
   "cell_type": "code",
   "execution_count": 70,
   "metadata": {
    "collapsed": false
   },
   "outputs": [
    {
     "name": "stdout",
     "output_type": "stream",
     "text": [
      "Mayor precision = boosting_type = gbdt, n_estimators = 50, learnig_rate = 0.1, precision = 1.24 % , error = 1.14345223916e+11\n",
      "Menor error = boosting_type = gbdt, n_estimators = 50, learnig_rate = 0.1, precision = 1.24 % , error = 1.14345223916e+11\n"
     ]
    }
   ],
   "source": [
    "min_error = float('inf')\n",
    "max_precision = 0\n",
    "tupla_min_error = ()\n",
    "tupla_max_precision = ()\n",
    "for r in res:\n",
    "    if r[4] < min_error:\n",
    "        min_error = r[4]\n",
    "        tupla_min_error = r\n",
    "    if r[3] > max_precision:\n",
    "        max_precision = r[3]\n",
    "        tupla_max_precision = r\n",
    "        \n",
    "print(\"Mayor precision = boosting_type = {}, n_estimators = {}, learnig_rate = {}, precision = {:.2f} % , error = {}\".\\\n",
    "              format(tupla_max_precision[0],tupla_max_precision[1],tupla_max_precision[2],tupla_max_precision[3], tupla_max_precision[4]))\n",
    "print(\"Menor error = boosting_type = {}, n_estimators = {}, learnig_rate = {}, precision = {:.2f} % , error = {}\".\\\n",
    "              format(tupla_min_error[0],tupla_min_error[1],tupla_min_error[2],tupla_min_error[3], tupla_min_error[4]))"
   ]
  },
  {
   "cell_type": "code",
   "execution_count": 71,
   "metadata": {
    "collapsed": false
   },
   "outputs": [
    {
     "name": "stdout",
     "output_type": "stream",
     "text": [
      "5000\n",
      "10000\n",
      "50000\n",
      "100000\n"
     ]
    }
   ],
   "source": [
    "n_estimators = [5000, 10000, 50000, 100000]\n",
    "b = 'goss'\n",
    "lr = 2.9\n",
    "res = []\n",
    "\n",
    "for n in n_estimators:\n",
    "    lgbm = lgb.LGBMRegressor(boosting_type = b, n_estimators = n, learning_rate = lr)\n",
    "    lgbm.fit(set_entrenamiento_datos,set_entrenamiento_resultado)\n",
    "    set_pruebas.loc[:,'resultado'] = lgbm.predict(set_pruebas.loc[:,columnas])\n",
    "    precision = lgbm.score(set_pruebas.loc[:,columnas],set_pruebas.price_aprox_usd) * 100\n",
    "    error = mean_squared_error(set_pruebas.price_aprox_usd,set_pruebas.resultado)\n",
    "    res.append((b, n, lr, precision, error))\n",
    "    print(n)"
   ]
  },
  {
   "cell_type": "code",
   "execution_count": 72,
   "metadata": {
    "collapsed": false
   },
   "outputs": [
    {
     "name": "stdout",
     "output_type": "stream",
     "text": [
      "boosting_type = goss, n_estimators = 5000, learnig_rate = 2.9, precision = 39.90 % , error = 69586432759.9\n",
      "boosting_type = goss, n_estimators = 10000, learnig_rate = 2.9, precision = 49.19 % , error = 58834615136.1\n",
      "boosting_type = goss, n_estimators = 50000, learnig_rate = 2.9, precision = 62.36 % , error = 43585312292.7\n",
      "boosting_type = goss, n_estimators = 100000, learnig_rate = 2.9, precision = 68.84 % , error = 36082874388.6\n"
     ]
    }
   ],
   "source": [
    "for r in res:\n",
    "    print (\"boosting_type = {}, n_estimators = {}, learnig_rate = {}, precision = {:.2f} % , error = {}\".format(r[0],r[1],r[2],r[3], r[4]))"
   ]
  },
  {
   "cell_type": "code",
   "execution_count": 73,
   "metadata": {
    "collapsed": false
   },
   "outputs": [
    {
     "name": "stdout",
     "output_type": "stream",
     "text": [
      "Mayor precision = boosting_type = goss, n_estimators = 100000, learnig_rate = 2.9, precision = 68.84 % , error = 36082874388.6\n",
      "Menor error = boosting_type = goss, n_estimators = 100000, learnig_rate = 2.9, precision = 68.84 % , error = 36082874388.6\n"
     ]
    }
   ],
   "source": [
    "min_error = float('inf')\n",
    "max_precision = 0\n",
    "tupla_min_error = ()\n",
    "tupla_max_precision = ()\n",
    "for r in res:\n",
    "    if r[4] < min_error:\n",
    "        min_error = r[4]\n",
    "        tupla_min_error = r\n",
    "    if r[3] > max_precision:\n",
    "        max_precision = r[3]\n",
    "        tupla_max_precision = r\n",
    "        \n",
    "print(\"Mayor precision = boosting_type = {}, n_estimators = {}, learnig_rate = {}, precision = {:.2f} % , error = {}\".\\\n",
    "              format(tupla_max_precision[0],tupla_max_precision[1],tupla_max_precision[2],tupla_max_precision[3], tupla_max_precision[4]))\n",
    "print(\"Menor error = boosting_type = {}, n_estimators = {}, learnig_rate = {}, precision = {:.2f} % , error = {}\".\\\n",
    "              format(tupla_min_error[0],tupla_min_error[1],tupla_min_error[2],tupla_min_error[3], tupla_min_error[4]))"
   ]
  },
  {
   "cell_type": "markdown",
   "metadata": {},
   "source": [
    "# Calculamos los verdaderos datos"
   ]
  },
  {
   "cell_type": "code",
   "execution_count": 74,
   "metadata": {
    "collapsed": true
   },
   "outputs": [],
   "source": [
    "analizar = pd.read_csv(\"../properati_dataset_modificado.csv\")"
   ]
  },
  {
   "cell_type": "code",
   "execution_count": 75,
   "metadata": {
    "collapsed": true
   },
   "outputs": [],
   "source": [
    "analizar.loc[:,'price_usd'] = analizar.loc[:,columnas].apply(lambda x: lgbm.predict([x])[0],axis = 1)"
   ]
  },
  {
   "cell_type": "code",
   "execution_count": 76,
   "metadata": {
    "collapsed": false
   },
   "outputs": [
    {
     "data": {
      "text/plain": [
       "count    1.416600e+04\n",
       "mean     2.389744e+05\n",
       "std      2.538136e+05\n",
       "min     -1.128486e+06\n",
       "25%      1.092698e+05\n",
       "50%      1.590292e+05\n",
       "75%      2.817779e+05\n",
       "max      5.876935e+06\n",
       "Name: price_usd, dtype: float64"
      ]
     },
     "execution_count": 76,
     "metadata": {},
     "output_type": "execute_result"
    }
   ],
   "source": [
    "analizar.price_usd.describe()"
   ]
  },
  {
   "cell_type": "code",
   "execution_count": 77,
   "metadata": {
    "collapsed": true
   },
   "outputs": [],
   "source": [
    "analizar.loc[:, 'price_usd'] = analizar.loc[:, 'price_usd'].apply(lambda x: abs(x))"
   ]
  },
  {
   "cell_type": "code",
   "execution_count": 78,
   "metadata": {
    "collapsed": false,
    "scrolled": true
   },
   "outputs": [
    {
     "data": {
      "text/plain": [
       "count    1.416600e+04\n",
       "mean     2.396352e+05\n",
       "std      2.531898e+05\n",
       "min      3.814273e+03\n",
       "25%      1.093145e+05\n",
       "50%      1.591093e+05\n",
       "75%      2.818319e+05\n",
       "max      5.876935e+06\n",
       "Name: price_usd, dtype: float64"
      ]
     },
     "execution_count": 78,
     "metadata": {},
     "output_type": "execute_result"
    }
   ],
   "source": [
    "analizar.price_usd.describe()"
   ]
  },
  {
   "cell_type": "code",
   "execution_count": 79,
   "metadata": {
    "collapsed": true
   },
   "outputs": [],
   "source": [
    "resultado = analizar.loc[:,['id','price_usd']]"
   ]
  },
  {
   "cell_type": "code",
   "execution_count": 80,
   "metadata": {
    "collapsed": true
   },
   "outputs": [],
   "source": [
    "resultado.to_csv('resultados/lightgbm_latlon_resultados.csv', index = False)"
   ]
  },
  {
   "cell_type": "markdown",
   "metadata": {},
   "source": [
    "# Usando Grid Search y Cross Validation"
   ]
  },
  {
   "cell_type": "code",
   "execution_count": 3,
   "metadata": {
    "collapsed": true
   },
   "outputs": [],
   "source": [
    "propiedades = propiedades.loc[(propiedades.price_aprox_usd.notnull()) & (propiedades.superficie.notnull())\\\n",
    "                              & (propiedades.lat.notnull()) & (propiedades.lon.notnull()) & (propiedades.Year >=2016)]\n",
    "\n",
    "columnas = ['superficie','lat', 'lon','property_type_encoded','seguridad','gimnasio', 'aire', 'pileta', 'cochera']\n",
    "columnas_precio = columnas + ['price_aprox_usd']\n",
    "\n",
    "set_entrenamiento_datos = propiedades.loc[:,columnas]\n",
    "set_entrenamiento_resultado = propiedades.loc[:,'price_aprox_usd']"
   ]
  },
  {
   "cell_type": "code",
   "execution_count": 24,
   "metadata": {
    "collapsed": true
   },
   "outputs": [],
   "source": [
    "# Vario unicamente la cantidad de estimadores\n",
    "boosting = ['goss'] # rf no se tiene en cuenta pues levanta excepcion\n",
    "estimators = [100, 1000, 5000]\n",
    "learning_rate = [0.5, 0.9]\n",
    "\n",
    "parametros = {\"n_estimators\" : estimators, \"learning_rate\" : learning_rate, \"boosting_type\" : boosting}\n",
    "\n",
    "iteraciones_cross_validation = 25\n",
    "lgbm = lgb.LGBMRegressor()"
   ]
  },
  {
   "cell_type": "code",
   "execution_count": 25,
   "metadata": {
    "collapsed": false
   },
   "outputs": [
    {
     "name": "stdout",
     "output_type": "stream",
     "text": [
      "Tiempo: 12:35:18 --- 19:20:59 \n",
      " Precision: 41.32 \n",
      " Parametros = {'boosting_type': 'goss', 'learning_rate': 0.5, 'n_estimators': 5000}\n"
     ]
    }
   ],
   "source": [
    "inicio = time.strftime(\"%X\")\n",
    "\n",
    "grid = GridSearchCV( estimator = lgbm, param_grid = parametros, n_jobs = -1, cv = iteraciones_cross_validation)\n",
    "\n",
    "grid.fit(set_entrenamiento_datos, set_entrenamiento_resultado)\n",
    "\n",
    "score = grid.best_score_ * 100\n",
    "mejores_parametros = grid.best_params_\n",
    "fin = time.strftime(\"%X\")\n",
    "\n",
    "print(\"Tiempo: {} --- {} \\n Precision: {:.2f} \\n Parametros = {}\".format(inicio,fin,score,mejores_parametros))"
   ]
  },
  {
   "cell_type": "code",
   "execution_count": 27,
   "metadata": {
    "collapsed": false
   },
   "outputs": [
    {
     "data": {
      "text/plain": [
       "count     14166.000000\n",
       "mean     233809.103726\n",
       "std      161628.517309\n",
       "min       52303.525426\n",
       "25%      116187.346107\n",
       "50%      162430.635225\n",
       "75%      314994.565201\n",
       "max      753801.382929\n",
       "Name: price_usd, dtype: float64"
      ]
     },
     "execution_count": 27,
     "metadata": {},
     "output_type": "execute_result"
    }
   ],
   "source": [
    "analizar = pd.read_csv(\"../properati_dataset_modificado.csv\")\n",
    "\n",
    "analizar.loc[:,'price_usd'] = analizar.loc[:,columnas].apply(lambda x: grid.predict([x])[0],axis = 1)\n",
    "\n",
    "analizar.price_usd.describe()"
   ]
  },
  {
   "cell_type": "code",
   "execution_count": 28,
   "metadata": {
    "collapsed": false
   },
   "outputs": [
    {
     "data": {
      "text/plain": [
       "['algoritmos/Lightgbm.pkl']"
      ]
     },
     "execution_count": 28,
     "metadata": {},
     "output_type": "execute_result"
    }
   ],
   "source": [
    "resultado = analizar.loc[:,['id','price_usd']]\n",
    "\n",
    "resultado.to_csv('resultados/Lightgbm_GridSearch.csv', index = False)\n",
    "\n",
    "joblib.dump(grid, 'algoritmos/Lightgbm.pkl')"
   ]
  },
  {
   "cell_type": "markdown",
   "metadata": {},
   "source": [
    "#### Para un número mayor de estimadores se debería obtener una mejor precisión pero como el tiempo es muy largo se descarto"
   ]
  },
  {
   "cell_type": "markdown",
   "metadata": {},
   "source": [
    "# Hago bagging con el mejor algoritmo"
   ]
  },
  {
   "cell_type": "code",
   "execution_count": 13,
   "metadata": {
    "collapsed": true
   },
   "outputs": [],
   "source": [
    "propiedades = propiedades.loc[(propiedades.price_aprox_usd.notnull()) & (propiedades.superficie.notnull())\\\n",
    "                              & (propiedades.lat.notnull()) & (propiedades.lon.notnull()) & (propiedades.Year >=2016)]\n",
    "\n",
    "columnas = ['superficie','lat', 'lon','property_type_encoded','seguridad','gimnasio', 'aire', 'pileta', 'cochera']\n",
    "columnas_precio = columnas + ['price_aprox_usd']\n",
    "\n",
    "set_pruebas = analizar = pd.read_csv(\"../properati_dataset_modificado.csv\")\n",
    "set_pruebas.loc[:,'price_usd'] = 0.0"
   ]
  },
  {
   "cell_type": "code",
   "execution_count": 14,
   "metadata": {
    "collapsed": true
   },
   "outputs": [],
   "source": [
    "cant = 10\n",
    "\n",
    "for i in range(cant):\n",
    "    datos = propiedades.sample(frac = 0.4)\n",
    "    set_entrenamiento_datos = datos.loc[:,columnas]\n",
    "    set_entrenamiento_resultado = datos.loc[:,'price_aprox_usd']\n",
    "    \n",
    "    lgbm = lgb.LGBMRegressor(boosting_type = 'goss', learning_rate = 0.5, n_estimators = 5000) # Mejor resultado\n",
    "    \n",
    "    lgbm.fit(set_entrenamiento_datos,set_entrenamiento_resultado)\n",
    "    set_pruebas.loc[:,'res'] = set_pruebas.loc[:,columnas].apply(lambda x: lgbm.predict([x])[0],axis = 1)\n",
    "    set_pruebas.loc[:,'price_usd'] = set_pruebas.loc[:,'price_usd'] + set_pruebas.loc[:,'res']"
   ]
  },
  {
   "cell_type": "code",
   "execution_count": 17,
   "metadata": {
    "collapsed": true
   },
   "outputs": [],
   "source": [
    "set_pruebas.loc[:,'price_usd'] = set_pruebas.loc[:,'price_usd'] / cant\n",
    "\n",
    "resultado = set_pruebas.loc[:,['id','price_usd']]\n",
    "\n",
    "resultado.to_csv('resultados/Lightgbm_Cross_Validation.csv', index = False)"
   ]
  },
  {
   "cell_type": "markdown",
   "metadata": {},
   "source": [
    "# Usando SVD con varias dimensiones"
   ]
  },
  {
   "cell_type": "code",
   "execution_count": 2,
   "metadata": {
    "collapsed": true
   },
   "outputs": [],
   "source": [
    "propiedades = pd.read_csv('../../set_datos_propiedades.csv')\n",
    "\n",
    "sup_min = 10\n",
    "sup_max = 150\n",
    "\n",
    "lat_min = -35\n",
    "lat_max = -34\n",
    "\n",
    "lon_min = -59\n",
    "lon_max = -58\n",
    "\n",
    "precio_min = 5000\n",
    "precio_max = 1000000\n",
    "\n",
    "propiedades = propiedades.loc[(propiedades.price_aprox_usd.notnull()) & (propiedades.superficie.notnull())\\\n",
    "                              & (propiedades.lat.notnull()) & (propiedades.lon.notnull()) & (propiedades.Year >=2016)\\\n",
    "                        & (propiedades.price_aprox_usd <= precio_max) & (propiedades.price_aprox_usd >= precio_min) &\\\n",
    "                         (propiedades.superficie <= sup_max) & (propiedades.superficie >= sup_min) &\\\n",
    "                      (propiedades.lat <= lat_max) & (propiedades.lat >= lat_min) &\\\n",
    "                       (propiedades.lon <= lon_max) & (propiedades.lon >= lon_min),:]\n",
    "\n",
    "columnas = ['superficie','lat', 'lon','property_type_encoded','seguridad','gimnasio', 'aire', 'pileta', 'cochera']\n",
    "columnas_precio = columnas + ['price_aprox_usd']"
   ]
  },
  {
   "cell_type": "code",
   "execution_count": 7,
   "metadata": {
    "collapsed": false
   },
   "outputs": [
    {
     "name": "stdout",
     "output_type": "stream",
     "text": [
      "Dim = 2, Precision = 41.45, error = 7496075794.63, digitos = 10\n",
      "Dim = 3, Precision = 71.17, error = 3691564873.03, digitos = 10\n",
      "Dim = 4, Precision = 74.29, error = 3291071934.07, digitos = 10\n",
      "Dim = 5, Precision = 74.41, error = 3276746822.98, digitos = 10\n",
      "Dim = 6, Precision = 75.30, error = 3162544284.26, digitos = 10\n",
      "Dim = 7, Precision = 76.27, error = 3038492305.81, digitos = 10\n",
      "Dim = 8, Precision = 76.54, error = 3003914925.53, digitos = 10\n"
     ]
    }
   ],
   "source": [
    "X = propiedades.loc[:,columnas]\n",
    "y = propiedades.loc[:,'price_aprox_usd']\n",
    "X_train, X_test, y_train, y_test = train_test_split(X, y, test_size=0.2)\n",
    "\n",
    "for i in range(2,len(columnas)):\n",
    "    svd = TruncatedSVD(n_components = i)\n",
    "    datos = svd.fit_transform(X_train)\n",
    "    test = svd.transform(X_test)\n",
    "    \n",
    "    lgbm = lgb.LGBMRegressor(n_estimators = 100000)\n",
    "    lgbm.fit(datos,y_train)\n",
    "    precision = lgbm.score(test,y_test) * 100\n",
    "    error = mean_squared_error(lgbm.predict(test),y_test)\n",
    "    \n",
    "    print(\"Dim = {}, Precision = {:.2f}, error = {}, digitos = {}\".\\\n",
    "                  format(i,precision,error,len(str(int(round(error,0))))))"
   ]
  },
  {
   "cell_type": "code",
   "execution_count": 3,
   "metadata": {
    "collapsed": true
   },
   "outputs": [],
   "source": [
    "set_pruebas = analizar = pd.read_csv(\"../properati_dataset_modificado.csv\")\n",
    "\n",
    "svd = TruncatedSVD(n_components = 8)\n",
    "datos = svd.fit_transform(propiedades.loc[:,columnas])\n",
    "test = svd.transform(set_pruebas.loc[:,columnas])\n",
    "\n",
    "lgbm = lgb.LGBMRegressor(n_estimators = 100000)\n",
    "lgbm.fit(datos,propiedades.loc[:,'price_aprox_usd'])\n",
    "set_pruebas.loc[:,'price_usd'] = lgbm.predict(test)\n",
    "\n",
    "resultado = set_pruebas.loc[:,['id','price_usd']]\n",
    "resultado.to_csv('resultados/Lightgbm_SVD.csv', index = False)"
   ]
  },
  {
   "cell_type": "markdown",
   "metadata": {},
   "source": [
    "# Agregando el resultado de SVD dimension 2 al Dataframe"
   ]
  },
  {
   "cell_type": "code",
   "execution_count": 2,
   "metadata": {
    "collapsed": true
   },
   "outputs": [],
   "source": [
    "propiedades = pd.read_csv('../../set_datos_propiedades.csv')\n",
    "\n",
    "sup_min = 10\n",
    "sup_max = 150\n",
    "\n",
    "lat_min = -35\n",
    "lat_max = -34\n",
    "\n",
    "lon_min = -59\n",
    "lon_max = -58\n",
    "\n",
    "precio_min = 5000\n",
    "precio_max = 1000000\n",
    "\n",
    "propiedades = propiedades.loc[(propiedades.price_aprox_usd.notnull()) & (propiedades.superficie.notnull())\\\n",
    "                              & (propiedades.lat.notnull()) & (propiedades.lon.notnull()) & (propiedades.Year >=2016)\\\n",
    "                        & (propiedades.price_aprox_usd <= precio_max) & (propiedades.price_aprox_usd >= precio_min) &\\\n",
    "                         (propiedades.superficie <= sup_max) & (propiedades.superficie >= sup_min) &\\\n",
    "                      (propiedades.lat <= lat_max) & (propiedades.lat >= lat_min) &\\\n",
    "                       (propiedades.lon <= lon_max) & (propiedades.lon >= lon_min),:]\n",
    "\n",
    "prop = propiedades.loc[(propiedades.Year >= 2016), :]\n",
    "\n",
    "columnas = ['superficie','lat', 'lon','property_type_encoded','seguridad','gimnasio', 'aire', 'pileta', 'cochera']\n",
    "columnas_precio = columnas + ['price_aprox_usd']"
   ]
  },
  {
   "cell_type": "code",
   "execution_count": 3,
   "metadata": {
    "collapsed": true
   },
   "outputs": [],
   "source": [
    "set_entrenamiento = prop.loc[(prop.Year >= 2016) &((prop.Year < 2017) | (prop.Month < 6))\\\n",
    "                                    ,columnas_precio]\n",
    "set_pruebas = prop.loc[(prop.Year == 2017) & (prop.Month == 6),columnas_precio].head(20000)\n",
    "\n",
    "set_entrenamiento_datos = set_entrenamiento.loc[:,columnas]\n",
    "set_entrenamiento_resultado = set_entrenamiento.loc[:,'price_aprox_usd']"
   ]
  },
  {
   "cell_type": "code",
   "execution_count": 4,
   "metadata": {
    "collapsed": true
   },
   "outputs": [],
   "source": [
    "svd = TruncatedSVD()\n",
    "resultado = svd.fit_transform(set_entrenamiento_datos)\n",
    "resultado = pd.DataFrame(resultado)\n",
    "pruebas = svd.transform(set_pruebas.loc[:,columnas])\n",
    "pruebas = pd.DataFrame(pruebas)"
   ]
  },
  {
   "cell_type": "code",
   "execution_count": 5,
   "metadata": {
    "collapsed": false
   },
   "outputs": [
    {
     "data": {
      "text/plain": [
       "count    334935.000000\n",
       "mean         95.098990\n",
       "std          24.394078\n",
       "min          52.920358\n",
       "25%          75.951302\n",
       "50%          88.599928\n",
       "75%         110.070518\n",
       "max         157.152840\n",
       "Name: SVD 1, dtype: float64"
      ]
     },
     "execution_count": 5,
     "metadata": {},
     "output_type": "execute_result"
    }
   ],
   "source": [
    "set_entrenamiento_datos.reset_index(drop = True, inplace = True)\n",
    "set_entrenamiento_datos.loc[:,'SVD 1'] = resultado.loc[:,0]\n",
    "set_entrenamiento_datos.loc[:,'SVD 2'] = resultado.loc[:,1]\n",
    "set_entrenamiento_datos['SVD 1'].describe()"
   ]
  },
  {
   "cell_type": "code",
   "execution_count": 6,
   "metadata": {
    "collapsed": false
   },
   "outputs": [
    {
     "data": {
      "text/plain": [
       "count    20000.000000\n",
       "mean        96.581427\n",
       "std         24.831401\n",
       "min         52.920358\n",
       "25%         76.701836\n",
       "50%         90.073607\n",
       "75%        112.379512\n",
       "max        157.152840\n",
       "Name: SVD 1, dtype: float64"
      ]
     },
     "execution_count": 6,
     "metadata": {},
     "output_type": "execute_result"
    }
   ],
   "source": [
    "set_pruebas.reset_index(drop = True, inplace = True)\n",
    "set_pruebas.loc[:,'SVD 1'] = pruebas.loc[:,0]\n",
    "set_pruebas.loc[:,'SVD 2'] = pruebas.loc[:,1]\n",
    "set_pruebas['SVD 1'].describe()"
   ]
  },
  {
   "cell_type": "code",
   "execution_count": 7,
   "metadata": {
    "collapsed": true
   },
   "outputs": [],
   "source": [
    "columnas = columnas + ['SVD 1', 'SVD 2']"
   ]
  },
  {
   "cell_type": "code",
   "execution_count": 8,
   "metadata": {
    "collapsed": false
   },
   "outputs": [
    {
     "name": "stdout",
     "output_type": "stream",
     "text": [
      "Precision = 92.14 % , error = 1094773934.55\n"
     ]
    }
   ],
   "source": [
    "boosting_type = 'goss'\n",
    "n_estimators = 100000\n",
    "learning_rate = 2.9\n",
    "\n",
    "lgbm = lgb.LGBMRegressor(n_estimators = n_estimators, boosting_type = boosting_type, learning_rate = learning_rate)\n",
    "lgbm.fit(set_entrenamiento_datos, set_entrenamiento_resultado)\n",
    "set_pruebas.loc[:,'resultado'] = set_pruebas.loc[:,columnas].apply(lambda x: lgbm.predict([x])[0],axis = 1)\n",
    "precision = lgbm.score(set_pruebas.loc[:,columnas],set_pruebas.price_aprox_usd) * 100\n",
    "error = mean_squared_error(set_pruebas.price_aprox_usd, set_pruebas.resultado)\n",
    "print(\"Precision = {:.2f} % , error = {}\".format(precision, error))"
   ]
  },
  {
   "cell_type": "code",
   "execution_count": 9,
   "metadata": {
    "collapsed": true
   },
   "outputs": [],
   "source": [
    "res = []"
   ]
  },
  {
   "cell_type": "code",
   "execution_count": null,
   "metadata": {
    "collapsed": true
   },
   "outputs": [],
   "source": [
    "boosting = ['gbdt', 'goss', 'dart']\n",
    "estimators = [1000, 10000, 100000]\n",
    "learning_rate = [0.1, 0.3, 0.5]\n",
    "\n",
    "for b in boosting:\n",
    "    for e in estimators:\n",
    "        for lr in learning_rate:\n",
    "                    \n",
    "            lgbm = lgb.LGBMRegressor(boosting_type = b, n_estimators = e, learning_rate = lr)\n",
    "            lgbm.fit(set_entrenamiento_datos,set_entrenamiento_resultado)\n",
    "            set_pruebas.loc[:,'resultado'] = set_pruebas.loc[:,columnas].apply\\\n",
    "                    (lambda x: lgbm.predict([x])[0],axis = 1)\n",
    "            precision = lgbm.score(set_pruebas.loc[:,columnas],set_pruebas.price_aprox_usd) * 100\n",
    "            error = mean_squared_error(set_pruebas.price_aprox_usd,set_pruebas.resultado)\n",
    "            res.append((b, e, lr, precision, error))\n",
    "            print(b,' - ',e,' - ',lr)"
   ]
  },
  {
   "cell_type": "markdown",
   "metadata": {},
   "source": [
    "#### Los resultados faltantes con dart se descartaron debido al elevedo tiempo de entrenamiento"
   ]
  },
  {
   "cell_type": "code",
   "execution_count": 12,
   "metadata": {
    "collapsed": false
   },
   "outputs": [
    {
     "name": "stdout",
     "output_type": "stream",
     "text": [
      "Boosting_type = gbdt, n_estimators = 1000, learning_rate = 0.1, precision = 46.00 % , error = 7517061110.72\n",
      "Boosting_type = gbdt, n_estimators = 1000, learning_rate = 0.3, precision = 45.98 % , error = 7520237244.12\n",
      "Boosting_type = gbdt, n_estimators = 1000, learning_rate = 0.5, precision = 45.94 % , error = 7525505455.55\n",
      "Boosting_type = gbdt, n_estimators = 10000, learning_rate = 0.1, precision = 76.46 % , error = 3276631087.32\n",
      "Boosting_type = gbdt, n_estimators = 10000, learning_rate = 0.3, precision = 75.76 % , error = 3374859215.08\n",
      "Boosting_type = gbdt, n_estimators = 10000, learning_rate = 0.5, precision = 76.47 % , error = 3274709904.0\n",
      "Boosting_type = gbdt, n_estimators = 100000, learning_rate = 0.1, precision = 89.23 % , error = 1498608977.3\n",
      "Boosting_type = gbdt, n_estimators = 100000, learning_rate = 0.3, precision = 89.24 % , error = 1498475513.35\n",
      "Boosting_type = gbdt, n_estimators = 100000, learning_rate = 0.5, precision = 89.27 % , error = 1493615099.85\n",
      "Boosting_type = goss, n_estimators = 1000, learning_rate = 0.1, precision = 47.31 % , error = 7335035948.85\n",
      "Boosting_type = goss, n_estimators = 1000, learning_rate = 0.3, precision = 47.32 % , error = 7333173183.39\n",
      "Boosting_type = goss, n_estimators = 1000, learning_rate = 0.5, precision = 47.31 % , error = 7333776992.15\n",
      "Boosting_type = goss, n_estimators = 10000, learning_rate = 0.1, precision = 78.50 % , error = 2992642894.98\n",
      "Boosting_type = goss, n_estimators = 10000, learning_rate = 0.3, precision = 78.32 % , error = 3017768574.9\n",
      "Boosting_type = goss, n_estimators = 10000, learning_rate = 0.5, precision = 78.44 % , error = 3001222080.46\n",
      "Boosting_type = goss, n_estimators = 100000, learning_rate = 0.1, precision = 92.02 % , error = 1111373606.52\n",
      "Boosting_type = goss, n_estimators = 100000, learning_rate = 0.3, precision = 92.07 % , error = 1104313891.4\n",
      "Boosting_type = goss, n_estimators = 100000, learning_rate = 0.5, precision = 92.14 % , error = 1094565101.87\n",
      "Boosting_type = dart, n_estimators = 1000, learning_rate = 0.1, precision = -169.88 % , error = 37566823923.7\n",
      "Boosting_type = dart, n_estimators = 1000, learning_rate = 0.3, precision = -171.94 % , error = 37854124709.4\n",
      "Boosting_type = dart, n_estimators = 1000, learning_rate = 0.5, precision = -172.05 % , error = 37868906864.4\n"
     ]
    }
   ],
   "source": [
    "for r in res:\n",
    "    print(\"Boosting_type = {}, n_estimators = {}, learning_rate = {}, precision = {:.2f} % , error = {}\"\\\n",
    "          .format(r[0],r[1],r[2],r[3],r[4]))"
   ]
  },
  {
   "cell_type": "code",
   "execution_count": 13,
   "metadata": {
    "collapsed": false
   },
   "outputs": [
    {
     "name": "stdout",
     "output_type": "stream",
     "text": [
      "Mayor precision = Boosting_type = goss, n_estimators = 100000, learning_rate = 0.5, precision = 92.14 % , error = 1094565101.87\n",
      "Menor error = Boosting_type = goss, n_estimators = 100000, learning_rate = 0.5, precision = 92.14 % , error = 1094565101.87\n"
     ]
    }
   ],
   "source": [
    "min_error = float('inf')\n",
    "max_precision = 0\n",
    "tupla_min_error = ()\n",
    "tupla_max_precision = ()\n",
    "for r in res:\n",
    "    if r[4] < min_error:\n",
    "        min_error = r[4]\n",
    "        tupla_min_error = r\n",
    "    if r[3] > max_precision:\n",
    "        max_precision = r[3]\n",
    "        tupla_max_precision = r\n",
    "        \n",
    "print(\"Mayor precision = Boosting_type = {}, n_estimators = {}, learning_rate = {}, precision = {:.2f} % , error = {}\".\\\n",
    "              format(tupla_max_precision[0],tupla_max_precision[1],tupla_max_precision[2],tupla_max_precision[3],tupla_max_precision[4]))\n",
    "print(\"Menor error = Boosting_type = {}, n_estimators = {}, learning_rate = {}, precision = {:.2f} % , error = {}\".\\\n",
    "              format(tupla_min_error[0],tupla_min_error[1],tupla_min_error[2],tupla_min_error[3],tupla_min_error[4]))"
   ]
  },
  {
   "cell_type": "code",
   "execution_count": 18,
   "metadata": {
    "collapsed": true
   },
   "outputs": [],
   "source": [
    "boosting_type = 'goss'\n",
    "n_estimators = 100000\n",
    "learning_rate = 2.9"
   ]
  },
  {
   "cell_type": "code",
   "execution_count": 19,
   "metadata": {
    "collapsed": false
   },
   "outputs": [
    {
     "name": "stdout",
     "output_type": "stream",
     "text": [
      "Precision = 92.13 % , error = 1095184110.6446629\n"
     ]
    }
   ],
   "source": [
    "lgbm = lgb.LGBMRegressor(n_estimators = n_estimators, boosting_type = boosting_type, learning_rate = learning_rate)\n",
    "lgbm.fit(set_entrenamiento_datos, set_entrenamiento_resultado)\n",
    "set_pruebas.loc[:,'resultado'] = set_pruebas.loc[:,columnas].apply(lambda x: lgbm.predict([x])[0],axis = 1)\n",
    "precision = lgbm.score(set_pruebas.loc[:,columnas],set_pruebas.price_aprox_usd) * 100\n",
    "error = mean_squared_error(set_pruebas.price_aprox_usd, set_pruebas.resultado)\n",
    "print(\"Precision = {:.2f} % , error = {}\".format(precision, error))"
   ]
  },
  {
   "cell_type": "markdown",
   "metadata": {},
   "source": [
    "# calculo con los verdaderos datos a analizar"
   ]
  },
  {
   "cell_type": "code",
   "execution_count": 20,
   "metadata": {
    "collapsed": true
   },
   "outputs": [],
   "source": [
    "analizar = pd.read_csv(\"../properati_dataset_modificado.csv\")"
   ]
  },
  {
   "cell_type": "code",
   "execution_count": 21,
   "metadata": {
    "collapsed": true
   },
   "outputs": [],
   "source": [
    "columnas = ['superficie','lat', 'lon','property_type_encoded','seguridad','gimnasio', 'aire', 'pileta', 'cochera']\n",
    "analisis = svd.transform(analizar.loc[:,columnas])\n",
    "analisis = pd.DataFrame(analisis)"
   ]
  },
  {
   "cell_type": "code",
   "execution_count": 22,
   "metadata": {
    "collapsed": false
   },
   "outputs": [
    {
     "data": {
      "text/plain": [
       "count    1.416600e+04\n",
       "mean     3.301517e+02\n",
       "std      2.023766e+04\n",
       "min      4.621164e+01\n",
       "25%      8.041788e+01\n",
       "50%      1.004089e+02\n",
       "75%      1.568249e+02\n",
       "max      2.405964e+06\n",
       "Name: SVD 1, dtype: float64"
      ]
     },
     "execution_count": 22,
     "metadata": {},
     "output_type": "execute_result"
    }
   ],
   "source": [
    "analizar.loc[:,'SVD 1'] = analisis.loc[:,0]\n",
    "analizar.loc[:,'SVD 2'] = analisis.loc[:,1]\n",
    "analizar['SVD 1'].describe()"
   ]
  },
  {
   "cell_type": "code",
   "execution_count": 23,
   "metadata": {
    "collapsed": false
   },
   "outputs": [
    {
     "data": {
      "text/plain": [
       "count     14166.000000\n",
       "mean     174603.495621\n",
       "std      121008.662890\n",
       "min      -82950.371115\n",
       "25%       98424.253866\n",
       "50%      141683.573214\n",
       "75%      208513.166014\n",
       "max      928491.881348\n",
       "Name: price_usd, dtype: float64"
      ]
     },
     "execution_count": 23,
     "metadata": {},
     "output_type": "execute_result"
    }
   ],
   "source": [
    "columnas += ['SVD 1', 'SVD 2']\n",
    "analizar.loc[:,'price_usd'] = analizar.loc[:,columnas].apply(lambda x: lgbm.predict([x])[0],axis = 1)\n",
    "analizar.price_usd.describe()"
   ]
  },
  {
   "cell_type": "code",
   "execution_count": 24,
   "metadata": {
    "collapsed": false
   },
   "outputs": [
    {
     "data": {
      "text/plain": [
       "count     14166.000000\n",
       "mean     174702.098381\n",
       "std      120866.254873\n",
       "min         523.545630\n",
       "25%       98424.253866\n",
       "50%      141683.573214\n",
       "75%      208513.166014\n",
       "max      928491.881348\n",
       "Name: price_usd, dtype: float64"
      ]
     },
     "execution_count": 24,
     "metadata": {},
     "output_type": "execute_result"
    }
   ],
   "source": [
    "analizar.loc[:, 'price_usd'] = analizar.loc[:, 'price_usd'].apply(lambda x: abs(x))\n",
    "analizar.price_usd.describe()"
   ]
  },
  {
   "cell_type": "code",
   "execution_count": 25,
   "metadata": {
    "collapsed": true
   },
   "outputs": [],
   "source": [
    "resultado = analizar.loc[:,['id','price_usd']]"
   ]
  },
  {
   "cell_type": "code",
   "execution_count": 26,
   "metadata": {
    "collapsed": true
   },
   "outputs": [],
   "source": [
    "resultado.to_csv('resultados/Lightgbm_menos_datos_svd_agregada.csv', index = False)"
   ]
  },
  {
   "cell_type": "code",
   "execution_count": 27,
   "metadata": {
    "collapsed": false
   },
   "outputs": [
    {
     "data": {
      "text/plain": [
       "['algoritmos/Lightgbm_svd_agregada.pkl']"
      ]
     },
     "execution_count": 27,
     "metadata": {},
     "output_type": "execute_result"
    }
   ],
   "source": [
    "joblib.dump(lgbm, 'algoritmos/Lightgbm_svd_agregada.pkl')"
   ]
  },
  {
   "cell_type": "markdown",
   "metadata": {},
   "source": [
    "# Usando muchos estimadores definitivo"
   ]
  },
  {
   "cell_type": "code",
   "execution_count": 2,
   "metadata": {
    "collapsed": true
   },
   "outputs": [],
   "source": [
    "sup_min = 10\n",
    "sup_max = 300\n",
    "lat_min = -35\n",
    "lat_max = -34\n",
    "lon_min = -59\n",
    "lon_max = -58\n",
    "precio_min = 30000\n",
    "precio_max = 3000000"
   ]
  },
  {
   "cell_type": "code",
   "execution_count": 3,
   "metadata": {
    "collapsed": true
   },
   "outputs": [],
   "source": [
    "propiedades = pd.read_csv('../../datos_con_fecha.csv')\n",
    "\n",
    "propiedades = propiedades.loc[(propiedades.price_aprox_usd.notnull()) & (propiedades.superficie.notnull())\\\n",
    "                              & (propiedades.lat.notnull()) & (propiedades.lon.notnull()) & (propiedades.Year >=2017)\\\n",
    "                        & (propiedades.price_aprox_usd <= precio_max) & (propiedades.price_aprox_usd >= precio_min) &\\\n",
    "                         (propiedades.superficie <= sup_max) & (propiedades.superficie >= sup_min) &\\\n",
    "                      (propiedades.lat <= lat_max) & (propiedades.lat >= lat_min) &\\\n",
    "                       (propiedades.lon <= lon_max) & (propiedades.lon >= lon_min),:]\n",
    "\n",
    "columnas = ['superficie','lat', 'lon','property_type_encoded','seguridad','gimnasio', 'aire', \\\n",
    "            'pileta', 'cochera','transporte','comercio', 'servicios', 'doble piso', 'jardin','fecha']\n",
    "\n",
    "set_entrenamiento_datos = propiedades.loc[:,columnas]\n",
    "set_entrenamiento_resultado = propiedades.loc[:,'price_aprox_usd']"
   ]
  },
  {
   "cell_type": "code",
   "execution_count": 4,
   "metadata": {
    "collapsed": false
   },
   "outputs": [
    {
     "name": "stdout",
     "output_type": "stream",
     "text": [
      "Tiempo: 18:37:43 --- 19:20:00\n"
     ]
    }
   ],
   "source": [
    "inicio = time.strftime(\"%X\")\n",
    "\n",
    "lgbm = lgb.LGBMRegressor(boosting_type = 'goss', learning_rate = 0.5, n_estimators = 200000) \n",
    "lgbm.fit(set_entrenamiento_datos,set_entrenamiento_resultado)\n",
    "\n",
    "fin = time.strftime(\"%X\")\n",
    "\n",
    "print(\"Tiempo: {} --- {}\".format(inicio,fin))"
   ]
  },
  {
   "cell_type": "code",
   "execution_count": 5,
   "metadata": {
    "collapsed": false
   },
   "outputs": [
    {
     "data": {
      "text/plain": [
       "['algoritmos/Lightgbm_200kEst_definitivo_confecha.pkl']"
      ]
     },
     "execution_count": 5,
     "metadata": {},
     "output_type": "execute_result"
    }
   ],
   "source": [
    "analizar = pd.read_csv(\"../properati_dataset_modificado2.csv\")\n",
    "\n",
    "analizar.loc[:,'price_usd'] = analizar.loc[:,columnas].apply(lambda x: abs(lgbm.predict([x])[0]),axis = 1)\n",
    "\n",
    "resultado = analizar.loc[:,['id','price_usd']]\n",
    "\n",
    "resultado.to_csv('resultados/Lightgbm_200kEst_definitivo_confecha.csv', index = False)\n",
    "joblib.dump(lgbm, 'algoritmos/Lightgbm_200kEst_definitivo_confecha.pkl')"
   ]
  },
  {
   "cell_type": "markdown",
   "metadata": {},
   "source": [
    "# Usando muchos estimadores definitivo sin fecha"
   ]
  },
  {
   "cell_type": "code",
   "execution_count": 6,
   "metadata": {
    "collapsed": true
   },
   "outputs": [],
   "source": [
    "sup_min = 10\n",
    "sup_max = 300\n",
    "lat_min = -35\n",
    "lat_max = -34\n",
    "lon_min = -59\n",
    "lon_max = -58\n",
    "precio_min = 30000\n",
    "precio_max = 3000000"
   ]
  },
  {
   "cell_type": "code",
   "execution_count": 7,
   "metadata": {
    "collapsed": true
   },
   "outputs": [],
   "source": [
    "propiedades = pd.read_csv('../../datos_con_fecha.csv')\n",
    "\n",
    "propiedades = propiedades.loc[(propiedades.price_aprox_usd.notnull()) & (propiedades.superficie.notnull())\\\n",
    "                              & (propiedades.lat.notnull()) & (propiedades.lon.notnull()) & (propiedades.Year >=2017)\\\n",
    "                        & (propiedades.price_aprox_usd <= precio_max) & (propiedades.price_aprox_usd >= precio_min) &\\\n",
    "                         (propiedades.superficie <= sup_max) & (propiedades.superficie >= sup_min) &\\\n",
    "                      (propiedades.lat <= lat_max) & (propiedades.lat >= lat_min) &\\\n",
    "                       (propiedades.lon <= lon_max) & (propiedades.lon >= lon_min),:]\n",
    "\n",
    "columnas = ['superficie','lat', 'lon','property_type_encoded','seguridad','gimnasio', 'aire', \\\n",
    "            'pileta', 'cochera','transporte','comercio', 'servicios', 'doble piso', 'jardin']\n",
    "\n",
    "set_entrenamiento_datos = propiedades.loc[:,columnas]\n",
    "set_entrenamiento_resultado = propiedades.loc[:,'price_aprox_usd']"
   ]
  },
  {
   "cell_type": "code",
   "execution_count": 8,
   "metadata": {
    "collapsed": false
   },
   "outputs": [
    {
     "name": "stdout",
     "output_type": "stream",
     "text": [
      "Tiempo: 19:36:11 --- 20:18:37\n"
     ]
    }
   ],
   "source": [
    "inicio = time.strftime(\"%X\")\n",
    "\n",
    "lgbm = lgb.LGBMRegressor(boosting_type = 'goss', learning_rate = 0.5, n_estimators = 200000) \n",
    "lgbm.fit(set_entrenamiento_datos,set_entrenamiento_resultado)\n",
    "\n",
    "fin = time.strftime(\"%X\")\n",
    "\n",
    "print(\"Tiempo: {} --- {}\".format(inicio,fin))"
   ]
  },
  {
   "cell_type": "code",
   "execution_count": 10,
   "metadata": {
    "collapsed": false
   },
   "outputs": [
    {
     "data": {
      "text/plain": [
       "['algoritmos/Lightgbm_200kEst_definitivo_sinfecha.pkl']"
      ]
     },
     "execution_count": 10,
     "metadata": {},
     "output_type": "execute_result"
    }
   ],
   "source": [
    "analizar = pd.read_csv(\"../properati_dataset_modificado2.csv\")\n",
    "\n",
    "analizar.loc[:,'price_usd'] = analizar.loc[:,columnas].apply(lambda x: abs(lgbm.predict([x])[0]),axis = 1)\n",
    "\n",
    "resultado = analizar.loc[:,['id','price_usd']]\n",
    "\n",
    "resultado.to_csv('resultados/Lightgbm_200kEst_definitivo_sinfecha.csv', index = False)\n",
    "joblib.dump(lgbm, 'algoritmos/Lightgbm_200kEst_definitivo_sinfecha.pkl')"
   ]
  }
 ],
 "metadata": {
  "anaconda-cloud": {},
  "kernelspec": {
   "display_name": "Python [default]",
   "language": "python",
   "name": "python3"
  },
  "language_info": {
   "codemirror_mode": {
    "name": "ipython",
    "version": 3
   },
   "file_extension": ".py",
   "mimetype": "text/x-python",
   "name": "python",
   "nbconvert_exporter": "python",
   "pygments_lexer": "ipython3",
   "version": "3.5.2"
  }
 },
 "nbformat": 4,
 "nbformat_minor": 2
}
