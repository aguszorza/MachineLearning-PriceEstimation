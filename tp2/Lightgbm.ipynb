{
 "cells": [
  {
   "cell_type": "code",
   "execution_count": 1,
   "metadata": {
    "collapsed": false
   },
   "outputs": [],
   "source": [
    "import pandas as pd\n",
    "import numpy as np\n",
    "from sklearn.metrics import mean_squared_error\n",
    "import lightgbm as lgb\n",
    "from sklearn.model_selection import GridSearchCV\n",
    "from sklearn.externals import joblib\n",
    "import time\n",
    "\n",
    "import warnings\n",
    "warnings.simplefilter(\"ignore\", category=DeprecationWarning)\n",
    "#https://lightgbm.readthedocs.io/en/latest/Installation-Guide.html"
   ]
  },
  {
   "cell_type": "code",
   "execution_count": 2,
   "metadata": {
    "collapsed": true
   },
   "outputs": [],
   "source": [
    "#propiedades = pd.read_csv('/home/agustin/Escritorio/escritorio/fiuba/Organizacion de datos/datos para el tp2/set_datos_propiedades.csv')\n",
    "propiedades = pd.read_csv('../../set_datos_propiedades.csv')"
   ]
  },
  {
   "cell_type": "code",
   "execution_count": 3,
   "metadata": {
    "collapsed": true
   },
   "outputs": [],
   "source": [
    "propiedades = propiedades.loc[(propiedades.price_aprox_usd.notnull()) & (propiedades.superficie.notnull()),\\\n",
    "                             ['place_name_encoded', 'property_type_encoded','price_aprox_usd','superficie',\\\n",
    "                             'Year','Month','seguridad','aire','gimnasio','cochera','pileta']]"
   ]
  },
  {
   "cell_type": "code",
   "execution_count": 4,
   "metadata": {
    "collapsed": false
   },
   "outputs": [
    {
     "name": "stdout",
     "output_type": "stream",
     "text": [
      "<class 'pandas.core.frame.DataFrame'>\n",
      "Int64Index: 1132495 entries, 0 to 1413024\n",
      "Data columns (total 11 columns):\n",
      "place_name_encoded       1132495 non-null int64\n",
      "property_type_encoded    1132495 non-null int64\n",
      "price_aprox_usd          1132495 non-null float64\n",
      "superficie               1132495 non-null float64\n",
      "Year                     1132495 non-null int64\n",
      "Month                    1132495 non-null int64\n",
      "seguridad                1132495 non-null bool\n",
      "aire                     1132495 non-null bool\n",
      "gimnasio                 1132495 non-null bool\n",
      "cochera                  1132495 non-null bool\n",
      "pileta                   1132495 non-null bool\n",
      "dtypes: bool(5), float64(2), int64(4)\n",
      "memory usage: 65.9 MB\n"
     ]
    }
   ],
   "source": [
    "propiedades.info()"
   ]
  },
  {
   "cell_type": "markdown",
   "metadata": {},
   "source": [
    "# LightGBM"
   ]
  },
  {
   "cell_type": "code",
   "execution_count": 9,
   "metadata": {
    "collapsed": true
   },
   "outputs": [],
   "source": [
    "columnas = ['superficie','place_name_encoded','property_type_encoded','seguridad','gimnasio', 'aire', 'pileta', 'cochera']\n",
    "columnas_precio = columnas + ['price_aprox_usd']"
   ]
  },
  {
   "cell_type": "code",
   "execution_count": 10,
   "metadata": {
    "collapsed": true
   },
   "outputs": [],
   "source": [
    "set_entrenamiento = propiedades.loc[(propiedades.Year >= 2016) &((propiedades.Year < 2017) | (propiedades.Month < 6))\\\n",
    "                                    ,columnas_precio]\n",
    "set_pruebas = propiedades.loc[(propiedades.Year == 2017) & (propiedades.Month == 6),columnas_precio].head(20000)\n",
    "\n",
    "set_entrenamiento_datos = set_entrenamiento.loc[:,columnas]\n",
    "set_entrenamiento_resultado = set_entrenamiento.loc[:,'price_aprox_usd']"
   ]
  },
  {
   "cell_type": "code",
   "execution_count": 29,
   "metadata": {
    "collapsed": false
   },
   "outputs": [
    {
     "name": "stdout",
     "output_type": "stream",
     "text": [
      "Precision = 0.230676213694%, error = 1.37641955262e+11\n"
     ]
    }
   ],
   "source": [
    "lgbm = lgb.LGBMRegressor()\n",
    "lgbm.fit(set_entrenamiento_datos,set_entrenamiento_resultado)\n",
    "set_pruebas.loc[:,'resultado'] = lgbm.predict(set_pruebas.loc[:,columnas])\n",
    "precision = lgbm.score(set_pruebas.loc[:,columnas],set_pruebas.price_aprox_usd) * 100\n",
    "error = mean_squared_error(set_pruebas.price_aprox_usd,set_pruebas.resultado)\n",
    "print(\"Precision = {}%, error = {}\".format(precision, error))"
   ]
  },
  {
   "cell_type": "markdown",
   "metadata": {},
   "source": [
    "### Ahora que tenemos una intuicion, probamos variando los parametros"
   ]
  },
  {
   "cell_type": "code",
   "execution_count": 30,
   "metadata": {
    "collapsed": true
   },
   "outputs": [],
   "source": [
    "columnas = ['superficie','place_name_encoded','property_type_encoded','seguridad','gimnasio', 'aire', 'pileta', 'cochera']\n",
    "columnas_precio = columnas + ['price_aprox_usd']"
   ]
  },
  {
   "cell_type": "code",
   "execution_count": 33,
   "metadata": {
    "collapsed": true
   },
   "outputs": [],
   "source": [
    "set_entrenamiento = propiedades.loc[(propiedades.Year >= 2016) &((propiedades.Year < 2017) | (propiedades.Month < 6))\\\n",
    "                                    ,columnas_precio]\n",
    "set_pruebas = propiedades.loc[(propiedades.Year == 2017) & (propiedades.Month == 6),columnas_precio].head(20000)\n",
    "\n",
    "set_entrenamiento_datos = set_entrenamiento.loc[:,columnas]\n",
    "set_entrenamiento_resultado = set_entrenamiento.loc[:,'price_aprox_usd']\n",
    "\n",
    "res = []"
   ]
  },
  {
   "cell_type": "code",
   "execution_count": 34,
   "metadata": {
    "collapsed": false
   },
   "outputs": [
    {
     "name": "stdout",
     "output_type": "stream",
     "text": [
      "('gbdt', '-', 10, '-', 0.1)\n",
      "('gbdt', '-', 10, '-', 0.3)\n",
      "('gbdt', '-', 10, '-', 0.5)\n",
      "('gbdt', '-', 20, '-', 0.1)\n",
      "('gbdt', '-', 20, '-', 0.3)\n",
      "('gbdt', '-', 20, '-', 0.5)\n",
      "('gbdt', '-', 50, '-', 0.1)\n",
      "('gbdt', '-', 50, '-', 0.3)\n",
      "('gbdt', '-', 50, '-', 0.5)\n",
      "('dart', '-', 10, '-', 0.1)\n",
      "('dart', '-', 10, '-', 0.3)\n",
      "('dart', '-', 10, '-', 0.5)\n",
      "('dart', '-', 20, '-', 0.1)\n",
      "('dart', '-', 20, '-', 0.3)\n",
      "('dart', '-', 20, '-', 0.5)\n",
      "('dart', '-', 50, '-', 0.1)\n",
      "('dart', '-', 50, '-', 0.3)\n",
      "('dart', '-', 50, '-', 0.5)\n",
      "('goss', '-', 10, '-', 0.1)\n",
      "('goss', '-', 10, '-', 0.3)\n",
      "('goss', '-', 10, '-', 0.5)\n",
      "('goss', '-', 20, '-', 0.1)\n",
      "('goss', '-', 20, '-', 0.3)\n",
      "('goss', '-', 20, '-', 0.5)\n",
      "('goss', '-', 50, '-', 0.1)\n",
      "('goss', '-', 50, '-', 0.3)\n",
      "('goss', '-', 50, '-', 0.5)\n"
     ]
    }
   ],
   "source": [
    "boosting = ['gbdt', 'dart', 'goss', 'rf']\n",
    "estimators = [10, 20, 50]\n",
    "learning_rate = [0.1, 0.3, 0.5]\n",
    "\n",
    "for b in boosting:\n",
    "    for e in estimators:\n",
    "        for lr in learning_rate:\n",
    "            try:\n",
    "                lgbm = lgb.LGBMRegressor(boosting_type = b, n_estimators = e, learning_rate = lr)\n",
    "                lgbm.fit(set_entrenamiento_datos,set_entrenamiento_resultado)\n",
    "                set_pruebas.loc[:,'resultado'] = lgbm.predict(set_pruebas.loc[:,columnas])\n",
    "                precision = lgbm.score(set_pruebas.loc[:,columnas],set_pruebas.price_aprox_usd) * 100\n",
    "                error = mean_squared_error(set_pruebas.price_aprox_usd,set_pruebas.resultado)\n",
    "                res.append((b, e, lr, precision, error))\n",
    "                print(b, '-', e, '-', lr)\n",
    "            except:\n",
    "                continue"
   ]
  },
  {
   "cell_type": "code",
   "execution_count": 36,
   "metadata": {
    "collapsed": false
   },
   "outputs": [
    {
     "name": "stdout",
     "output_type": "stream",
     "text": [
      "boosting_type = gbdt, n_estimators = 10, learnig_rate = 0.1, precision = 0.23 % , error = 1.37641955262e+11\n",
      "boosting_type = gbdt, n_estimators = 10, learnig_rate = 0.3, precision = 0.23 % , error = 1.37641955262e+11\n",
      "boosting_type = gbdt, n_estimators = 10, learnig_rate = 0.5, precision = 0.23 % , error = 1.37641955262e+11\n",
      "boosting_type = gbdt, n_estimators = 20, learnig_rate = 0.1, precision = 0.46 % , error = 1.37318841383e+11\n",
      "boosting_type = gbdt, n_estimators = 20, learnig_rate = 0.3, precision = 0.46 % , error = 1.37318841383e+11\n",
      "boosting_type = gbdt, n_estimators = 20, learnig_rate = 0.5, precision = 0.46 % , error = 1.37318841383e+11\n",
      "boosting_type = gbdt, n_estimators = 50, learnig_rate = 0.1, precision = 1.17 % , error = 1.36348628327e+11\n",
      "boosting_type = gbdt, n_estimators = 50, learnig_rate = 0.3, precision = 1.17 % , error = 1.3634861732e+11\n",
      "boosting_type = gbdt, n_estimators = 50, learnig_rate = 0.5, precision = 1.17 % , error = 1.36348603281e+11\n",
      "boosting_type = dart, n_estimators = 10, learnig_rate = 0.1, precision = 0.22 % , error = 1.37658163456e+11\n",
      "boosting_type = dart, n_estimators = 10, learnig_rate = 0.3, precision = 0.22 % , error = 1.37658163456e+11\n",
      "boosting_type = dart, n_estimators = 10, learnig_rate = 0.5, precision = 0.22 % , error = 1.37658163456e+11\n",
      "boosting_type = dart, n_estimators = 20, learnig_rate = 0.1, precision = -50.69 % , error = 2.07888691064e+11\n",
      "boosting_type = dart, n_estimators = 20, learnig_rate = 0.3, precision = -50.69 % , error = 2.07888691064e+11\n",
      "boosting_type = dart, n_estimators = 20, learnig_rate = 0.5, precision = -50.69 % , error = 2.07888691064e+11\n",
      "boosting_type = dart, n_estimators = 50, learnig_rate = 0.1, precision = -50.53 % , error = 2.07672198292e+11\n",
      "boosting_type = dart, n_estimators = 50, learnig_rate = 0.3, precision = -50.53 % , error = 2.07671798582e+11\n",
      "boosting_type = dart, n_estimators = 50, learnig_rate = 0.5, precision = -50.53 % , error = 2.07671634513e+11\n",
      "boosting_type = goss, n_estimators = 10, learnig_rate = 0.1, precision = 0.23 % , error = 1.37641955262e+11\n",
      "boosting_type = goss, n_estimators = 10, learnig_rate = 0.3, precision = 0.24 % , error = 1.37635488015e+11\n",
      "boosting_type = goss, n_estimators = 10, learnig_rate = 0.5, precision = 0.24 % , error = 1.37634963154e+11\n",
      "boosting_type = goss, n_estimators = 20, learnig_rate = 0.1, precision = 0.47 % , error = 1.373090266e+11\n",
      "boosting_type = goss, n_estimators = 20, learnig_rate = 0.3, precision = 0.48 % , error = 1.37302859364e+11\n",
      "boosting_type = goss, n_estimators = 20, learnig_rate = 0.5, precision = 0.48 % , error = 1.37303175176e+11\n",
      "boosting_type = goss, n_estimators = 50, learnig_rate = 0.1, precision = 1.19 % , error = 1.36324808551e+11\n",
      "boosting_type = goss, n_estimators = 50, learnig_rate = 0.3, precision = 1.19 % , error = 1.36318726628e+11\n",
      "boosting_type = goss, n_estimators = 50, learnig_rate = 0.5, precision = 1.19 % , error = 1.36317175083e+11\n"
     ]
    }
   ],
   "source": [
    "for r in res:\n",
    "    print (\"boosting_type = {}, n_estimators = {}, learnig_rate = {}, precision = {:.2f} % , error = {}\".format(r[0],r[1],r[2],r[3], r[4]))"
   ]
  },
  {
   "cell_type": "code",
   "execution_count": 37,
   "metadata": {
    "collapsed": false
   },
   "outputs": [
    {
     "name": "stdout",
     "output_type": "stream",
     "text": [
      "Mayor precision = boosting_type = goss, n_estimators = 50, learnig_rate = 0.5, precision = 1.19 % , error = 1.36317175083e+11\n",
      "Menor error = boosting_type = goss, n_estimators = 50, learnig_rate = 0.5, precision = 1.19 % , error = 1.36317175083e+11\n"
     ]
    }
   ],
   "source": [
    "min_error = float('inf')\n",
    "max_precision = 0\n",
    "tupla_min_error = ()\n",
    "tupla_max_precision = ()\n",
    "for r in res:\n",
    "    if r[4] < min_error:\n",
    "        min_error = r[4]\n",
    "        tupla_min_error = r\n",
    "    if r[3] > max_precision:\n",
    "        max_precision = r[3]\n",
    "        tupla_max_precision = r\n",
    "        \n",
    "print(\"Mayor precision = boosting_type = {}, n_estimators = {}, learnig_rate = {}, precision = {:.2f} % , error = {}\".\\\n",
    "              format(tupla_max_precision[0],tupla_max_precision[1],tupla_max_precision[2],tupla_max_precision[3], tupla_max_precision[4]))\n",
    "print(\"Menor error = boosting_type = {}, n_estimators = {}, learnig_rate = {}, precision = {:.2f} % , error = {}\".\\\n",
    "              format(tupla_min_error[0],tupla_min_error[1],tupla_min_error[2],tupla_min_error[3], tupla_min_error[4]))"
   ]
  },
  {
   "cell_type": "markdown",
   "metadata": {},
   "source": [
    "# Modifico max_depth"
   ]
  },
  {
   "cell_type": "code",
   "execution_count": 38,
   "metadata": {
    "collapsed": true
   },
   "outputs": [],
   "source": [
    "columnas = ['superficie','place_name_encoded','property_type_encoded','seguridad','gimnasio','aire','pileta','cochera']\n",
    "columnas_precio = columnas + ['price_aprox_usd']"
   ]
  },
  {
   "cell_type": "code",
   "execution_count": 39,
   "metadata": {
    "collapsed": true
   },
   "outputs": [],
   "source": [
    "set_entrenamiento = propiedades.loc[(propiedades.Year >= 2016) &((propiedades.Year < 2017) | (propiedades.Month < 6))\\\n",
    "                                    ,columnas_precio]\n",
    "set_pruebas = propiedades.loc[(propiedades.Year == 2017) & (propiedades.Month == 6),columnas_precio].head(20000)\n",
    "\n",
    "set_entrenamiento_datos = set_entrenamiento.loc[:,columnas]\n",
    "set_entrenamiento_resultado = set_entrenamiento.loc[:,'price_aprox_usd']"
   ]
  },
  {
   "cell_type": "code",
   "execution_count": 40,
   "metadata": {
    "collapsed": true
   },
   "outputs": [],
   "source": [
    "max_depth = [1, 5, 10, 15]"
   ]
  },
  {
   "cell_type": "code",
   "execution_count": 41,
   "metadata": {
    "collapsed": false
   },
   "outputs": [
    {
     "name": "stdout",
     "output_type": "stream",
     "text": [
      "('rf', '-', 50, '-', 0.5)\n",
      "('rf', '-', 50, '-', 0.5)\n",
      "('rf', '-', 50, '-', 0.5)\n",
      "('rf', '-', 50, '-', 0.5)\n"
     ]
    }
   ],
   "source": [
    "for d in max_depth:\n",
    "    lgbm = lgb.LGBMRegressor(boosting_type = 'goss', n_estimators = 50, learning_rate = 0.5, max_depth = d)\n",
    "    lgbm.fit(set_entrenamiento_datos,set_entrenamiento_resultado)\n",
    "    set_pruebas.loc[:,'resultado'] = lgbm.predict(set_pruebas.loc[:,columnas])\n",
    "    precision = lgbm.score(set_pruebas.loc[:,columnas],set_pruebas.price_aprox_usd) * 100\n",
    "    error = mean_squared_error(set_pruebas.price_aprox_usd,set_pruebas.resultado)\n",
    "    res.append((b, e, lr, precision, error))\n",
    "    print(b, '-', e, '-', lr)"
   ]
  },
  {
   "cell_type": "code",
   "execution_count": 42,
   "metadata": {
    "collapsed": false
   },
   "outputs": [
    {
     "name": "stdout",
     "output_type": "stream",
     "text": [
      "boosting_type = rf, n_estimators = 50, learnig_rate = 0.5, precision = 1.09 % , error = 1.36452039915e+11\n",
      "boosting_type = rf, n_estimators = 50, learnig_rate = 0.5, precision = 1.18 % , error = 1.36326866928e+11\n",
      "boosting_type = rf, n_estimators = 50, learnig_rate = 0.5, precision = 1.19 % , error = 1.36317175083e+11\n",
      "boosting_type = rf, n_estimators = 50, learnig_rate = 0.5, precision = 1.19 % , error = 1.36317175083e+11\n"
     ]
    }
   ],
   "source": [
    "for r in res[27:]:\n",
    "    print (\"boosting_type = {}, n_estimators = {}, learnig_rate = {}, precision = {:.2f} % , error = {}\".format(r[0],r[1],r[2],r[3], r[4]))"
   ]
  },
  {
   "cell_type": "markdown",
   "metadata": {},
   "source": [
    "## Aumentamos los valores de max depth y n_estimators para ver si mejoramos la precisión"
   ]
  },
  {
   "cell_type": "code",
   "execution_count": 47,
   "metadata": {
    "collapsed": false
   },
   "outputs": [
    {
     "name": "stdout",
     "output_type": "stream",
     "text": [
      "Precision = 38.9816250348%, error = 84181070076.1\n"
     ]
    }
   ],
   "source": [
    "lgbm = lgb.LGBMRegressor(boosting_type = 'goss', n_estimators = 5000, learning_rate = 2.9, max_depth = 1000)\n",
    "lgbm.fit(set_entrenamiento_datos,set_entrenamiento_resultado)\n",
    "set_pruebas.loc[:,'resultado'] = lgbm.predict(set_pruebas.loc[:,columnas])\n",
    "precision = lgbm.score(set_pruebas.loc[:,columnas],set_pruebas.price_aprox_usd) * 100\n",
    "error = mean_squared_error(set_pruebas.price_aprox_usd,set_pruebas.resultado)\n",
    "print(\"Precision = {}%, error = {}\".format(precision, error))"
   ]
  },
  {
   "cell_type": "code",
   "execution_count": 48,
   "metadata": {
    "collapsed": false
   },
   "outputs": [
    {
     "name": "stdout",
     "output_type": "stream",
     "text": [
      "5000\n",
      "10000\n",
      "50000\n",
      "100000\n"
     ]
    }
   ],
   "source": [
    "n_estimators = [5000, 10000, 50000, 100000]\n",
    "b = 'goss'\n",
    "lr = 2.9\n",
    "d = 1000\n",
    "res = []\n",
    "\n",
    "for n in n_estimators:\n",
    "    lgbm = lgb.LGBMRegressor(boosting_type = b, n_estimators = n, learning_rate = lr, max_depth = d)\n",
    "    lgbm.fit(set_entrenamiento_datos,set_entrenamiento_resultado)\n",
    "    set_pruebas.loc[:,'resultado'] = lgbm.predict(set_pruebas.loc[:,columnas])\n",
    "    precision = lgbm.score(set_pruebas.loc[:,columnas],set_pruebas.price_aprox_usd) * 100\n",
    "    error = mean_squared_error(set_pruebas.price_aprox_usd,set_pruebas.resultado)\n",
    "    res.append((b, n, lr, precision, error))\n",
    "    print(n)"
   ]
  },
  {
   "cell_type": "code",
   "execution_count": 52,
   "metadata": {
    "collapsed": false
   },
   "outputs": [
    {
     "name": "stdout",
     "output_type": "stream",
     "text": [
      "boosting_type = goss, n_estimators = 5000, learnig_rate = 2.9, precision = 38.98 % , error = 84181070076.1\n",
      "boosting_type = goss, n_estimators = 10000, learnig_rate = 2.9, precision = 47.01 % , error = 73107356570.7\n",
      "boosting_type = goss, n_estimators = 50000, learnig_rate = 2.9, precision = 54.98 % , error = 62112893806.8\n",
      "boosting_type = goss, n_estimators = 100000, learnig_rate = 2.9, precision = 58.98 % , error = 56587427148.9\n"
     ]
    }
   ],
   "source": [
    "for r in res:\n",
    "    print (\"boosting_type = {}, n_estimators = {}, learnig_rate = {}, precision = {:.2f} % , error = {}\".format(r[0],r[1],r[2],r[3], r[4]))"
   ]
  },
  {
   "cell_type": "markdown",
   "metadata": {},
   "source": [
    "#### Se puede ver que al aumentar la cantidad de estimadores mejora la precision por lo que tomamos un número más grande"
   ]
  },
  {
   "cell_type": "markdown",
   "metadata": {},
   "source": [
    "# Calculamos los verdaderos datos"
   ]
  },
  {
   "cell_type": "code",
   "execution_count": 53,
   "metadata": {
    "collapsed": true
   },
   "outputs": [],
   "source": [
    "analizar = pd.read_csv(\"/home/agustin/Escritorio/escritorio/fiuba/Organizacion de datos/tpDatos/properati_dataset_modificado.csv\")"
   ]
  },
  {
   "cell_type": "code",
   "execution_count": 55,
   "metadata": {
    "collapsed": true
   },
   "outputs": [],
   "source": [
    "analizar.loc[:,'price_usd'] = analizar.loc[:,columnas].apply(lambda x: lgbm.predict([x])[0],axis = 1)"
   ]
  },
  {
   "cell_type": "code",
   "execution_count": 56,
   "metadata": {
    "collapsed": false
   },
   "outputs": [
    {
     "data": {
      "text/plain": [
       "count    1.416600e+04\n",
       "mean     2.471407e+05\n",
       "std      2.493879e+05\n",
       "min     -5.653215e+05\n",
       "25%      1.145887e+05\n",
       "50%      1.621351e+05\n",
       "75%      2.909809e+05\n",
       "max      8.571289e+06\n",
       "Name: price_usd, dtype: float64"
      ]
     },
     "execution_count": 56,
     "metadata": {},
     "output_type": "execute_result"
    }
   ],
   "source": [
    "analizar.price_usd.describe()"
   ]
  },
  {
   "cell_type": "code",
   "execution_count": 57,
   "metadata": {
    "collapsed": true
   },
   "outputs": [],
   "source": [
    "analizar.loc[:, 'price_usd'] = analizar.loc[:, 'price_usd'].apply(lambda x: abs(x))"
   ]
  },
  {
   "cell_type": "code",
   "execution_count": 58,
   "metadata": {
    "collapsed": false,
    "scrolled": true
   },
   "outputs": [
    {
     "data": {
      "text/plain": [
       "count    1.416600e+04\n",
       "mean     2.477323e+05\n",
       "std      2.488002e+05\n",
       "min      6.880918e+03\n",
       "25%      1.147296e+05\n",
       "50%      1.624316e+05\n",
       "75%      2.914919e+05\n",
       "max      8.571289e+06\n",
       "Name: price_usd, dtype: float64"
      ]
     },
     "execution_count": 58,
     "metadata": {},
     "output_type": "execute_result"
    }
   ],
   "source": [
    "analizar.price_usd.describe()"
   ]
  },
  {
   "cell_type": "code",
   "execution_count": 59,
   "metadata": {
    "collapsed": true
   },
   "outputs": [],
   "source": [
    "resultado = analizar.loc[:,['id','price_usd']]"
   ]
  },
  {
   "cell_type": "code",
   "execution_count": 60,
   "metadata": {
    "collapsed": true
   },
   "outputs": [],
   "source": [
    "resultado.to_csv('resultados/lightgbm_resultados.csv', index = False)"
   ]
  },
  {
   "cell_type": "markdown",
   "metadata": {},
   "source": [
    "## Ahora uso lat y lon en lugar de place name"
   ]
  },
  {
   "cell_type": "code",
   "execution_count": 3,
   "metadata": {
    "collapsed": true
   },
   "outputs": [],
   "source": [
    "propiedades = propiedades.loc[(propiedades.price_aprox_usd.notnull()) & (propiedades.superficie.notnull())\\\n",
    "                              & (propiedades.lat.notnull()) & (propiedades.lon.notnull()),\\\n",
    "                             ['lat', 'lon', 'property_type_encoded','price_aprox_usd','superficie',\\\n",
    "                             'Year','Month','seguridad','aire','gimnasio','cochera','pileta']]"
   ]
  },
  {
   "cell_type": "code",
   "execution_count": 4,
   "metadata": {
    "collapsed": true
   },
   "outputs": [],
   "source": [
    "columnas = ['superficie','lat', 'lon','property_type_encoded','seguridad','gimnasio', 'aire', 'pileta', 'cochera']\n",
    "columnas_precio = columnas + ['price_aprox_usd']"
   ]
  },
  {
   "cell_type": "code",
   "execution_count": 5,
   "metadata": {
    "collapsed": true
   },
   "outputs": [],
   "source": [
    "set_entrenamiento = propiedades.loc[(propiedades.Year >= 2016) &((propiedades.Year < 2017) | (propiedades.Month < 6))\\\n",
    "                                    ,columnas_precio]\n",
    "set_pruebas = propiedades.loc[(propiedades.Year == 2017) & (propiedades.Month == 6),columnas_precio].head(20000)\n",
    "\n",
    "set_entrenamiento_datos = set_entrenamiento.loc[:,columnas]\n",
    "set_entrenamiento_resultado = set_entrenamiento.loc[:,'price_aprox_usd']"
   ]
  },
  {
   "cell_type": "code",
   "execution_count": 66,
   "metadata": {
    "collapsed": false
   },
   "outputs": [
    {
     "name": "stdout",
     "output_type": "stream",
     "text": [
      "Precision = 0.225789592842%, error = 1.15522485637e+11\n"
     ]
    }
   ],
   "source": [
    "lgbm = lgb.LGBMRegressor()\n",
    "lgbm.fit(set_entrenamiento_datos,set_entrenamiento_resultado)\n",
    "set_pruebas.loc[:,'resultado'] = lgbm.predict(set_pruebas.loc[:,columnas])\n",
    "precision = lgbm.score(set_pruebas.loc[:,columnas],set_pruebas.price_aprox_usd) * 100\n",
    "error = mean_squared_error(set_pruebas.price_aprox_usd,set_pruebas.resultado)\n",
    "print(\"Precision = {}%, error = {}\".format(precision, error))"
   ]
  },
  {
   "cell_type": "code",
   "execution_count": 67,
   "metadata": {
    "collapsed": true
   },
   "outputs": [],
   "source": [
    "res = []"
   ]
  },
  {
   "cell_type": "code",
   "execution_count": 68,
   "metadata": {
    "collapsed": false
   },
   "outputs": [
    {
     "name": "stdout",
     "output_type": "stream",
     "text": [
      "('gbdt', '-', 10, '-', 0.1)\n",
      "('gbdt', '-', 10, '-', 0.3)\n",
      "('gbdt', '-', 10, '-', 0.5)\n",
      "('gbdt', '-', 20, '-', 0.1)\n",
      "('gbdt', '-', 20, '-', 0.3)\n",
      "('gbdt', '-', 20, '-', 0.5)\n",
      "('gbdt', '-', 50, '-', 0.1)\n",
      "('gbdt', '-', 50, '-', 0.3)\n",
      "('gbdt', '-', 50, '-', 0.5)\n",
      "('dart', '-', 10, '-', 0.1)\n",
      "('dart', '-', 10, '-', 0.3)\n",
      "('dart', '-', 10, '-', 0.5)\n",
      "('dart', '-', 20, '-', 0.1)\n",
      "('dart', '-', 20, '-', 0.3)\n",
      "('dart', '-', 20, '-', 0.5)\n",
      "('dart', '-', 50, '-', 0.1)\n",
      "('dart', '-', 50, '-', 0.3)\n",
      "('dart', '-', 50, '-', 0.5)\n",
      "('goss', '-', 10, '-', 0.1)\n",
      "('goss', '-', 10, '-', 0.3)\n",
      "('goss', '-', 10, '-', 0.5)\n",
      "('goss', '-', 20, '-', 0.1)\n",
      "('goss', '-', 20, '-', 0.3)\n",
      "('goss', '-', 20, '-', 0.5)\n",
      "('goss', '-', 50, '-', 0.1)\n",
      "('goss', '-', 50, '-', 0.3)\n",
      "('goss', '-', 50, '-', 0.5)\n"
     ]
    }
   ],
   "source": [
    "boosting = ['gbdt', 'dart', 'goss', 'rf']\n",
    "estimators = [10, 20, 50]\n",
    "learning_rate = [0.1, 0.3, 0.5]\n",
    "\n",
    "for b in boosting:\n",
    "    for e in estimators:\n",
    "        for lr in learning_rate:\n",
    "            try:\n",
    "                lgbm = lgb.LGBMRegressor(boosting_type = b, n_estimators = e, learning_rate = lr)\n",
    "                lgbm.fit(set_entrenamiento_datos,set_entrenamiento_resultado)\n",
    "                set_pruebas.loc[:,'resultado'] = lgbm.predict(set_pruebas.loc[:,columnas])\n",
    "                precision = lgbm.score(set_pruebas.loc[:,columnas],set_pruebas.price_aprox_usd) * 100\n",
    "                error = mean_squared_error(set_pruebas.price_aprox_usd,set_pruebas.resultado)\n",
    "                res.append((b, e, lr, precision, error))\n",
    "                print(b, '-', e, '-', lr)\n",
    "            except:\n",
    "                continue"
   ]
  },
  {
   "cell_type": "code",
   "execution_count": 69,
   "metadata": {
    "collapsed": false
   },
   "outputs": [
    {
     "name": "stdout",
     "output_type": "stream",
     "text": [
      "boosting_type = gbdt, n_estimators = 10, learnig_rate = 0.1, precision = 0.23 % , error = 1.15522485637e+11\n",
      "boosting_type = gbdt, n_estimators = 10, learnig_rate = 0.3, precision = 0.23 % , error = 1.15522485637e+11\n",
      "boosting_type = gbdt, n_estimators = 10, learnig_rate = 0.5, precision = 0.23 % , error = 1.15522485637e+11\n",
      "boosting_type = gbdt, n_estimators = 20, learnig_rate = 0.1, precision = 0.48 % , error = 1.15225738506e+11\n",
      "boosting_type = gbdt, n_estimators = 20, learnig_rate = 0.3, precision = 0.48 % , error = 1.15225738506e+11\n",
      "boosting_type = gbdt, n_estimators = 20, learnig_rate = 0.5, precision = 0.48 % , error = 1.15225738506e+11\n",
      "boosting_type = gbdt, n_estimators = 50, learnig_rate = 0.1, precision = 1.24 % , error = 1.14345223916e+11\n",
      "boosting_type = gbdt, n_estimators = 50, learnig_rate = 0.3, precision = 1.24 % , error = 1.14345223916e+11\n",
      "boosting_type = gbdt, n_estimators = 50, learnig_rate = 0.5, precision = 1.24 % , error = 1.14345223916e+11\n",
      "boosting_type = dart, n_estimators = 10, learnig_rate = 0.1, precision = 0.21 % , error = 1.15537496336e+11\n",
      "boosting_type = dart, n_estimators = 10, learnig_rate = 0.3, precision = 0.21 % , error = 1.15537496336e+11\n",
      "boosting_type = dart, n_estimators = 10, learnig_rate = 0.5, precision = 0.21 % , error = 1.15537496336e+11\n",
      "boosting_type = dart, n_estimators = 20, learnig_rate = 0.1, precision = -52.42 % , error = 1.76478748301e+11\n",
      "boosting_type = dart, n_estimators = 20, learnig_rate = 0.3, precision = -52.42 % , error = 1.76478748301e+11\n",
      "boosting_type = dart, n_estimators = 20, learnig_rate = 0.5, precision = -52.42 % , error = 1.76478748301e+11\n",
      "boosting_type = dart, n_estimators = 50, learnig_rate = 0.1, precision = -52.30 % , error = 1.76338228683e+11\n",
      "boosting_type = dart, n_estimators = 50, learnig_rate = 0.3, precision = -52.30 % , error = 1.76338158574e+11\n",
      "boosting_type = dart, n_estimators = 50, learnig_rate = 0.5, precision = -52.30 % , error = 1.76338158574e+11\n",
      "boosting_type = goss, n_estimators = 10, learnig_rate = 0.1, precision = 0.23 % , error = 1.15522485637e+11\n",
      "boosting_type = goss, n_estimators = 10, learnig_rate = 0.3, precision = 0.22 % , error = 1.15524090025e+11\n",
      "boosting_type = goss, n_estimators = 10, learnig_rate = 0.5, precision = 0.22 % , error = 1.15524325425e+11\n",
      "boosting_type = goss, n_estimators = 20, learnig_rate = 0.1, precision = 0.48 % , error = 1.15226832102e+11\n",
      "boosting_type = goss, n_estimators = 20, learnig_rate = 0.3, precision = 0.48 % , error = 1.15228841218e+11\n",
      "boosting_type = goss, n_estimators = 20, learnig_rate = 0.5, precision = 0.48 % , error = 1.15229342282e+11\n",
      "boosting_type = goss, n_estimators = 50, learnig_rate = 0.1, precision = 1.24 % , error = 1.14353909685e+11\n",
      "boosting_type = goss, n_estimators = 50, learnig_rate = 0.3, precision = 1.23 % , error = 1.14356864248e+11\n",
      "boosting_type = goss, n_estimators = 50, learnig_rate = 0.5, precision = 1.23 % , error = 1.14357312858e+11\n"
     ]
    }
   ],
   "source": [
    "for r in res:\n",
    "    print (\"boosting_type = {}, n_estimators = {}, learnig_rate = {}, precision = {:.2f} % , error = {}\".format(r[0],r[1],r[2],r[3], r[4]))"
   ]
  },
  {
   "cell_type": "code",
   "execution_count": 70,
   "metadata": {
    "collapsed": false
   },
   "outputs": [
    {
     "name": "stdout",
     "output_type": "stream",
     "text": [
      "Mayor precision = boosting_type = gbdt, n_estimators = 50, learnig_rate = 0.1, precision = 1.24 % , error = 1.14345223916e+11\n",
      "Menor error = boosting_type = gbdt, n_estimators = 50, learnig_rate = 0.1, precision = 1.24 % , error = 1.14345223916e+11\n"
     ]
    }
   ],
   "source": [
    "min_error = float('inf')\n",
    "max_precision = 0\n",
    "tupla_min_error = ()\n",
    "tupla_max_precision = ()\n",
    "for r in res:\n",
    "    if r[4] < min_error:\n",
    "        min_error = r[4]\n",
    "        tupla_min_error = r\n",
    "    if r[3] > max_precision:\n",
    "        max_precision = r[3]\n",
    "        tupla_max_precision = r\n",
    "        \n",
    "print(\"Mayor precision = boosting_type = {}, n_estimators = {}, learnig_rate = {}, precision = {:.2f} % , error = {}\".\\\n",
    "              format(tupla_max_precision[0],tupla_max_precision[1],tupla_max_precision[2],tupla_max_precision[3], tupla_max_precision[4]))\n",
    "print(\"Menor error = boosting_type = {}, n_estimators = {}, learnig_rate = {}, precision = {:.2f} % , error = {}\".\\\n",
    "              format(tupla_min_error[0],tupla_min_error[1],tupla_min_error[2],tupla_min_error[3], tupla_min_error[4]))"
   ]
  },
  {
   "cell_type": "code",
   "execution_count": 71,
   "metadata": {
    "collapsed": false
   },
   "outputs": [
    {
     "name": "stdout",
     "output_type": "stream",
     "text": [
      "5000\n",
      "10000\n",
      "50000\n",
      "100000\n"
     ]
    }
   ],
   "source": [
    "n_estimators = [5000, 10000, 50000, 100000]\n",
    "b = 'goss'\n",
    "lr = 2.9\n",
    "res = []\n",
    "\n",
    "for n in n_estimators:\n",
    "    lgbm = lgb.LGBMRegressor(boosting_type = b, n_estimators = n, learning_rate = lr)\n",
    "    lgbm.fit(set_entrenamiento_datos,set_entrenamiento_resultado)\n",
    "    set_pruebas.loc[:,'resultado'] = lgbm.predict(set_pruebas.loc[:,columnas])\n",
    "    precision = lgbm.score(set_pruebas.loc[:,columnas],set_pruebas.price_aprox_usd) * 100\n",
    "    error = mean_squared_error(set_pruebas.price_aprox_usd,set_pruebas.resultado)\n",
    "    res.append((b, n, lr, precision, error))\n",
    "    print(n)"
   ]
  },
  {
   "cell_type": "code",
   "execution_count": 72,
   "metadata": {
    "collapsed": false
   },
   "outputs": [
    {
     "name": "stdout",
     "output_type": "stream",
     "text": [
      "boosting_type = goss, n_estimators = 5000, learnig_rate = 2.9, precision = 39.90 % , error = 69586432759.9\n",
      "boosting_type = goss, n_estimators = 10000, learnig_rate = 2.9, precision = 49.19 % , error = 58834615136.1\n",
      "boosting_type = goss, n_estimators = 50000, learnig_rate = 2.9, precision = 62.36 % , error = 43585312292.7\n",
      "boosting_type = goss, n_estimators = 100000, learnig_rate = 2.9, precision = 68.84 % , error = 36082874388.6\n"
     ]
    }
   ],
   "source": [
    "for r in res:\n",
    "    print (\"boosting_type = {}, n_estimators = {}, learnig_rate = {}, precision = {:.2f} % , error = {}\".format(r[0],r[1],r[2],r[3], r[4]))"
   ]
  },
  {
   "cell_type": "code",
   "execution_count": 73,
   "metadata": {
    "collapsed": false
   },
   "outputs": [
    {
     "name": "stdout",
     "output_type": "stream",
     "text": [
      "Mayor precision = boosting_type = goss, n_estimators = 100000, learnig_rate = 2.9, precision = 68.84 % , error = 36082874388.6\n",
      "Menor error = boosting_type = goss, n_estimators = 100000, learnig_rate = 2.9, precision = 68.84 % , error = 36082874388.6\n"
     ]
    }
   ],
   "source": [
    "min_error = float('inf')\n",
    "max_precision = 0\n",
    "tupla_min_error = ()\n",
    "tupla_max_precision = ()\n",
    "for r in res:\n",
    "    if r[4] < min_error:\n",
    "        min_error = r[4]\n",
    "        tupla_min_error = r\n",
    "    if r[3] > max_precision:\n",
    "        max_precision = r[3]\n",
    "        tupla_max_precision = r\n",
    "        \n",
    "print(\"Mayor precision = boosting_type = {}, n_estimators = {}, learnig_rate = {}, precision = {:.2f} % , error = {}\".\\\n",
    "              format(tupla_max_precision[0],tupla_max_precision[1],tupla_max_precision[2],tupla_max_precision[3], tupla_max_precision[4]))\n",
    "print(\"Menor error = boosting_type = {}, n_estimators = {}, learnig_rate = {}, precision = {:.2f} % , error = {}\".\\\n",
    "              format(tupla_min_error[0],tupla_min_error[1],tupla_min_error[2],tupla_min_error[3], tupla_min_error[4]))"
   ]
  },
  {
   "cell_type": "markdown",
   "metadata": {},
   "source": [
    "# Calculamos los verdaderos datos"
   ]
  },
  {
   "cell_type": "code",
   "execution_count": 74,
   "metadata": {
    "collapsed": true
   },
   "outputs": [],
   "source": [
    "analizar = pd.read_csv(\"/home/agustin/Escritorio/escritorio/fiuba/Organizacion de datos/tpDatos/properati_dataset_modificado.csv\")"
   ]
  },
  {
   "cell_type": "code",
   "execution_count": 75,
   "metadata": {
    "collapsed": true
   },
   "outputs": [],
   "source": [
    "analizar.loc[:,'price_usd'] = analizar.loc[:,columnas].apply(lambda x: lgbm.predict([x])[0],axis = 1)"
   ]
  },
  {
   "cell_type": "code",
   "execution_count": 76,
   "metadata": {
    "collapsed": false
   },
   "outputs": [
    {
     "data": {
      "text/plain": [
       "count    1.416600e+04\n",
       "mean     2.389744e+05\n",
       "std      2.538136e+05\n",
       "min     -1.128486e+06\n",
       "25%      1.092698e+05\n",
       "50%      1.590292e+05\n",
       "75%      2.817779e+05\n",
       "max      5.876935e+06\n",
       "Name: price_usd, dtype: float64"
      ]
     },
     "execution_count": 76,
     "metadata": {},
     "output_type": "execute_result"
    }
   ],
   "source": [
    "analizar.price_usd.describe()"
   ]
  },
  {
   "cell_type": "code",
   "execution_count": 77,
   "metadata": {
    "collapsed": true
   },
   "outputs": [],
   "source": [
    "analizar.loc[:, 'price_usd'] = analizar.loc[:, 'price_usd'].apply(lambda x: abs(x))"
   ]
  },
  {
   "cell_type": "code",
   "execution_count": 78,
   "metadata": {
    "collapsed": false,
    "scrolled": true
   },
   "outputs": [
    {
     "data": {
      "text/plain": [
       "count    1.416600e+04\n",
       "mean     2.396352e+05\n",
       "std      2.531898e+05\n",
       "min      3.814273e+03\n",
       "25%      1.093145e+05\n",
       "50%      1.591093e+05\n",
       "75%      2.818319e+05\n",
       "max      5.876935e+06\n",
       "Name: price_usd, dtype: float64"
      ]
     },
     "execution_count": 78,
     "metadata": {},
     "output_type": "execute_result"
    }
   ],
   "source": [
    "analizar.price_usd.describe()"
   ]
  },
  {
   "cell_type": "code",
   "execution_count": 79,
   "metadata": {
    "collapsed": true
   },
   "outputs": [],
   "source": [
    "resultado = analizar.loc[:,['id','price_usd']]"
   ]
  },
  {
   "cell_type": "code",
   "execution_count": 80,
   "metadata": {
    "collapsed": true
   },
   "outputs": [],
   "source": [
    "resultado.to_csv('resultados/lightgbm_latlon_resultados.csv', index = False)"
   ]
  },
  {
   "cell_type": "markdown",
   "metadata": {},
   "source": [
    "# Usando Grid Search y Cross Validation"
   ]
  },
  {
   "cell_type": "code",
   "execution_count": 3,
   "metadata": {
    "collapsed": true
   },
   "outputs": [],
   "source": [
    "propiedades = propiedades.loc[(propiedades.price_aprox_usd.notnull()) & (propiedades.superficie.notnull())\\\n",
    "                              & (propiedades.lat.notnull()) & (propiedades.lon.notnull()) & (propiedades.Year >=2016)]\n",
    "\n",
    "columnas = ['superficie','lat', 'lon','property_type_encoded','seguridad','gimnasio', 'aire', 'pileta', 'cochera']\n",
    "columnas_precio = columnas + ['price_aprox_usd']\n",
    "\n",
    "set_entrenamiento_datos = propiedades.loc[:,columnas]\n",
    "set_entrenamiento_resultado = propiedades.loc[:,'price_aprox_usd']"
   ]
  },
  {
   "cell_type": "code",
   "execution_count": 4,
   "metadata": {
    "collapsed": true
   },
   "outputs": [],
   "source": [
    "boosting = ['gbdt', 'dart', 'goss'] # rf no se tiene en cuenta pues levanta excepcion\n",
    "estimators = [10000]\n",
    "learning_rate = [0.3, 0.5, 0.9]\n",
    "\n",
    "parametros = {\"n_estimators\" : estimators, \"learning_rate\" : learning_rate, \"boosting_type\" : boosting}\n",
    "\n",
    "iteraciones_cross_validation = 15\n",
    "lgbm = lgb.LGBMRegressor()"
   ]
  },
  {
   "cell_type": "code",
   "execution_count": null,
   "metadata": {
    "collapsed": false
   },
   "outputs": [],
   "source": [
    "inicio = time.strftime(\"%X\")\n",
    "\n",
    "grid = GridSearchCV( estimator = lgbm, param_grid = parametros, n_jobs = -1, cv = iteraciones_cross_validation)\n",
    "\n",
    "grid.fit(set_entrenamiento_datos, set_entrenamiento_resultado)\n",
    "\n",
    "score = grid.best_score_ * 100\n",
    "mejores_parametros = grid.best_params_\n",
    "fin = time.strftime(\"%X\")\n",
    "\n",
    "print(\"Tiempo: {} --- {} \\n Precision: {:.2f} \\n Parametros = {}\".format(inicio,fin,score,mejores_parametros))"
   ]
  },
  {
   "cell_type": "code",
   "execution_count": 24,
   "metadata": {
    "collapsed": true
   },
   "outputs": [],
   "source": [
    "# Vario unicamente la cantidad de estimadores\n",
    "boosting = ['goss'] # rf no se tiene en cuenta pues levanta excepcion\n",
    "estimators = [100, 1000, 5000]\n",
    "learning_rate = [0.5, 0.9]\n",
    "\n",
    "parametros = {\"n_estimators\" : estimators, \"learning_rate\" : learning_rate, \"boosting_type\" : boosting}\n",
    "\n",
    "iteraciones_cross_validation = 25\n",
    "lgbm = lgb.LGBMRegressor()"
   ]
  },
  {
   "cell_type": "code",
   "execution_count": 25,
   "metadata": {
    "collapsed": false
   },
   "outputs": [
    {
     "name": "stdout",
     "output_type": "stream",
     "text": [
      "Tiempo: 12:35:18 --- 19:20:59 \n",
      " Precision: 41.32 \n",
      " Parametros = {'boosting_type': 'goss', 'learning_rate': 0.5, 'n_estimators': 5000}\n"
     ]
    }
   ],
   "source": [
    "inicio = time.strftime(\"%X\")\n",
    "\n",
    "grid = GridSearchCV( estimator = lgbm, param_grid = parametros, n_jobs = -1, cv = iteraciones_cross_validation)\n",
    "\n",
    "grid.fit(set_entrenamiento_datos, set_entrenamiento_resultado)\n",
    "\n",
    "score = grid.best_score_ * 100\n",
    "mejores_parametros = grid.best_params_\n",
    "fin = time.strftime(\"%X\")\n",
    "\n",
    "print(\"Tiempo: {} --- {} \\n Precision: {:.2f} \\n Parametros = {}\".format(inicio,fin,score,mejores_parametros))"
   ]
  },
  {
   "cell_type": "code",
   "execution_count": 27,
   "metadata": {
    "collapsed": false
   },
   "outputs": [
    {
     "data": {
      "text/plain": [
       "count     14166.000000\n",
       "mean     233809.103726\n",
       "std      161628.517309\n",
       "min       52303.525426\n",
       "25%      116187.346107\n",
       "50%      162430.635225\n",
       "75%      314994.565201\n",
       "max      753801.382929\n",
       "Name: price_usd, dtype: float64"
      ]
     },
     "execution_count": 27,
     "metadata": {},
     "output_type": "execute_result"
    }
   ],
   "source": [
    "analizar = pd.read_csv(\"../properati_dataset_modificado.csv\")\n",
    "\n",
    "analizar.loc[:,'price_usd'] = analizar.loc[:,columnas].apply(lambda x: grid.predict([x])[0],axis = 1)\n",
    "\n",
    "analizar.price_usd.describe()"
   ]
  },
  {
   "cell_type": "code",
   "execution_count": 28,
   "metadata": {
    "collapsed": false
   },
   "outputs": [
    {
     "data": {
      "text/plain": [
       "['algoritmos/Lightgbm.pkl']"
      ]
     },
     "execution_count": 28,
     "metadata": {},
     "output_type": "execute_result"
    }
   ],
   "source": [
    "resultado = analizar.loc[:,['id','price_usd']]\n",
    "\n",
    "resultado.to_csv('resultados/Lightgbm_GridSearch.csv', index = False)\n",
    "\n",
    "joblib.dump(grid, 'algoritmos/Lightgbm.pkl')"
   ]
  },
  {
   "cell_type": "markdown",
   "metadata": {},
   "source": [
    "# Hago una especie de cross validation con el mejor algoritmo"
   ]
  },
  {
   "cell_type": "code",
   "execution_count": null,
   "metadata": {
    "collapsed": true
   },
   "outputs": [],
   "source": [
    "propiedades = propiedades.loc[(propiedades.price_aprox_usd.notnull()) & (propiedades.superficie.notnull())\\\n",
    "                              & (propiedades.lat.notnull()) & (propiedades.lon.notnull()) & (propiedades.Year >=2016)]\n",
    "\n",
    "columnas = ['superficie','lat', 'lon','property_type_encoded','seguridad','gimnasio', 'aire', 'pileta', 'cochera']\n",
    "columnas_precio = columnas + ['price_aprox_usd']\n",
    "\n",
    "set_pruebas = analizar = pd.read_csv(\"../properati_dataset_modificado.csv\")\n",
    "set_pruebas.loc[:,'price_usd'] = 0.0"
   ]
  },
  {
   "cell_type": "code",
   "execution_count": null,
   "metadata": {
    "collapsed": true
   },
   "outputs": [],
   "source": [
    "cant = 10\n",
    "\n",
    "for i in range(cant):\n",
    "    datos = propiedades.sample(frac = 0.4)\n",
    "    set_entrenamiento_datos = datos.loc[:,columnas]\n",
    "    set_entrenamiento_resultado = datos.loc[:,'price_aprox_usd']\n",
    "    \n",
    "    lgbm = lgb.LGBMRegressor() # Mejor resultado\n",
    "    \n",
    "    lgbm.fit(set_entrenamiento_datos,set_entrenamiento_resultado)\n",
    "    set_pruebas.loc[:,'res'] = set_pruebas.loc[:,columnas].apply(lambda x: lgbm.predict(x)[0],axis = 1)\n",
    "    set_pruebas.loc[:,'price_usd'] = set_pruebas.loc[:,'price_usd'] + set_pruebas.loc[:,'res']"
   ]
  },
  {
   "cell_type": "code",
   "execution_count": null,
   "metadata": {
    "collapsed": true
   },
   "outputs": [],
   "source": [
    "set_pruebas.loc[:,'price_usd'] = set_pruebas.loc[:,'price_usd'] / cant\n",
    "\n",
    "resultado = set_pruebas.loc[:,['id','price_usd']]\n",
    "\n",
    "resultado.to_csv('resultados/Lightgbm_Cross_Validation.csv', index = False)"
   ]
  },
  {
   "cell_type": "code",
   "execution_count": 7,
   "metadata": {
    "collapsed": false
   },
   "outputs": [
    {
     "ename": "JoblibLightGBMError",
     "evalue": "JoblibLightGBMError\n___________________________________________________________________________\nMultiprocessing exception:\n...........................................................................\nC:\\Users\\Usuario\\Anaconda3\\lib\\runpy.py in _run_module_as_main(mod_name='ipykernel.__main__', alter_argv=1)\n    179         sys.exit(msg)\n    180     main_globals = sys.modules[\"__main__\"].__dict__\n    181     if alter_argv:\n    182         sys.argv[0] = mod_spec.origin\n    183     return _run_code(code, main_globals, None,\n--> 184                      \"__main__\", mod_spec)\n        mod_spec = ModuleSpec(name='ipykernel.__main__', loader=<_f...da3\\\\lib\\\\site-packages\\\\ipykernel\\\\__main__.py')\n    185 \n    186 def run_module(mod_name, init_globals=None,\n    187                run_name=None, alter_sys=False):\n    188     \"\"\"Execute a module's code without importing it\n\n...........................................................................\nC:\\Users\\Usuario\\Anaconda3\\lib\\runpy.py in _run_code(code=<code object <module> at 0x000000000128B930, fil...lib\\site-packages\\ipykernel\\__main__.py\", line 1>, run_globals={'__builtins__': <module 'builtins' (built-in)>, '__cached__': r'C:\\Users\\Usuario\\Anaconda3\\lib\\site-packages\\ipykernel\\__pycache__\\__main__.cpython-35.pyc', '__doc__': None, '__file__': r'C:\\Users\\Usuario\\Anaconda3\\lib\\site-packages\\ipykernel\\__main__.py', '__loader__': <_frozen_importlib_external.SourceFileLoader object>, '__name__': '__main__', '__package__': 'ipykernel', '__spec__': ModuleSpec(name='ipykernel.__main__', loader=<_f...da3\\\\lib\\\\site-packages\\\\ipykernel\\\\__main__.py'), 'app': <module 'ipykernel.kernelapp' from 'C:\\\\Users\\\\U...a3\\\\lib\\\\site-packages\\\\ipykernel\\\\kernelapp.py'>}, init_globals=None, mod_name='__main__', mod_spec=ModuleSpec(name='ipykernel.__main__', loader=<_f...da3\\\\lib\\\\site-packages\\\\ipykernel\\\\__main__.py'), pkg_name='ipykernel', script_name=None)\n     80                        __cached__ = cached,\n     81                        __doc__ = None,\n     82                        __loader__ = loader,\n     83                        __package__ = pkg_name,\n     84                        __spec__ = mod_spec)\n---> 85     exec(code, run_globals)\n        code = <code object <module> at 0x000000000128B930, fil...lib\\site-packages\\ipykernel\\__main__.py\", line 1>\n        run_globals = {'__builtins__': <module 'builtins' (built-in)>, '__cached__': r'C:\\Users\\Usuario\\Anaconda3\\lib\\site-packages\\ipykernel\\__pycache__\\__main__.cpython-35.pyc', '__doc__': None, '__file__': r'C:\\Users\\Usuario\\Anaconda3\\lib\\site-packages\\ipykernel\\__main__.py', '__loader__': <_frozen_importlib_external.SourceFileLoader object>, '__name__': '__main__', '__package__': 'ipykernel', '__spec__': ModuleSpec(name='ipykernel.__main__', loader=<_f...da3\\\\lib\\\\site-packages\\\\ipykernel\\\\__main__.py'), 'app': <module 'ipykernel.kernelapp' from 'C:\\\\Users\\\\U...a3\\\\lib\\\\site-packages\\\\ipykernel\\\\kernelapp.py'>}\n     86     return run_globals\n     87 \n     88 def _run_module_code(code, init_globals=None,\n     89                     mod_name=None, mod_spec=None,\n\n...........................................................................\nC:\\Users\\Usuario\\Anaconda3\\lib\\site-packages\\ipykernel\\__main__.py in <module>()\n      1 if __name__ == '__main__':\n      2     from ipykernel import kernelapp as app\n----> 3     app.launch_new_instance()\n\n...........................................................................\nC:\\Users\\Usuario\\Anaconda3\\lib\\site-packages\\traitlets\\config\\application.py in launch_instance(cls=<class 'ipykernel.kernelapp.IPKernelApp'>, argv=None, **kwargs={})\n    648 \n    649         If a global instance already exists, this reinitializes and starts it\n    650         \"\"\"\n    651         app = cls.instance(**kwargs)\n    652         app.initialize(argv)\n--> 653         app.start()\n        app.start = <bound method IPKernelApp.start of <ipykernel.kernelapp.IPKernelApp object>>\n    654 \n    655 #-----------------------------------------------------------------------------\n    656 # utility functions, for convenience\n    657 #-----------------------------------------------------------------------------\n\n...........................................................................\nC:\\Users\\Usuario\\Anaconda3\\lib\\site-packages\\ipykernel\\kernelapp.py in start(self=<ipykernel.kernelapp.IPKernelApp object>)\n    469             return self.subapp.start()\n    470         if self.poller is not None:\n    471             self.poller.start()\n    472         self.kernel.start()\n    473         try:\n--> 474             ioloop.IOLoop.instance().start()\n    475         except KeyboardInterrupt:\n    476             pass\n    477 \n    478 launch_new_instance = IPKernelApp.launch_instance\n\n...........................................................................\nC:\\Users\\Usuario\\Anaconda3\\lib\\site-packages\\zmq\\eventloop\\ioloop.py in start(self=<zmq.eventloop.ioloop.ZMQIOLoop object>)\n    157             PollIOLoop.configure(ZMQIOLoop)\n    158         return PollIOLoop.current(*args, **kwargs)\n    159     \n    160     def start(self):\n    161         try:\n--> 162             super(ZMQIOLoop, self).start()\n        self.start = <bound method ZMQIOLoop.start of <zmq.eventloop.ioloop.ZMQIOLoop object>>\n    163         except ZMQError as e:\n    164             if e.errno == ETERM:\n    165                 # quietly return on ETERM\n    166                 pass\n\n...........................................................................\nC:\\Users\\Usuario\\Anaconda3\\lib\\site-packages\\tornado\\ioloop.py in start(self=<zmq.eventloop.ioloop.ZMQIOLoop object>)\n    882                 self._events.update(event_pairs)\n    883                 while self._events:\n    884                     fd, events = self._events.popitem()\n    885                     try:\n    886                         fd_obj, handler_func = self._handlers[fd]\n--> 887                         handler_func(fd_obj, events)\n        handler_func = <function wrap.<locals>.null_wrapper>\n        fd_obj = <zmq.sugar.socket.Socket object>\n        events = 1\n    888                     except (OSError, IOError) as e:\n    889                         if errno_from_exception(e) == errno.EPIPE:\n    890                             # Happens when the client closes the connection\n    891                             pass\n\n...........................................................................\nC:\\Users\\Usuario\\Anaconda3\\lib\\site-packages\\tornado\\stack_context.py in null_wrapper(*args=(<zmq.sugar.socket.Socket object>, 1), **kwargs={})\n    270         # Fast path when there are no active contexts.\n    271         def null_wrapper(*args, **kwargs):\n    272             try:\n    273                 current_state = _state.contexts\n    274                 _state.contexts = cap_contexts[0]\n--> 275                 return fn(*args, **kwargs)\n        args = (<zmq.sugar.socket.Socket object>, 1)\n        kwargs = {}\n    276             finally:\n    277                 _state.contexts = current_state\n    278         null_wrapper._wrapped = True\n    279         return null_wrapper\n\n...........................................................................\nC:\\Users\\Usuario\\Anaconda3\\lib\\site-packages\\zmq\\eventloop\\zmqstream.py in _handle_events(self=<zmq.eventloop.zmqstream.ZMQStream object>, fd=<zmq.sugar.socket.Socket object>, events=1)\n    435             # dispatch events:\n    436             if events & IOLoop.ERROR:\n    437                 gen_log.error(\"got POLLERR event on ZMQStream, which doesn't make sense\")\n    438                 return\n    439             if events & IOLoop.READ:\n--> 440                 self._handle_recv()\n        self._handle_recv = <bound method ZMQStream._handle_recv of <zmq.eventloop.zmqstream.ZMQStream object>>\n    441                 if not self.socket:\n    442                     return\n    443             if events & IOLoop.WRITE:\n    444                 self._handle_send()\n\n...........................................................................\nC:\\Users\\Usuario\\Anaconda3\\lib\\site-packages\\zmq\\eventloop\\zmqstream.py in _handle_recv(self=<zmq.eventloop.zmqstream.ZMQStream object>)\n    467                 gen_log.error(\"RECV Error: %s\"%zmq.strerror(e.errno))\n    468         else:\n    469             if self._recv_callback:\n    470                 callback = self._recv_callback\n    471                 # self._recv_callback = None\n--> 472                 self._run_callback(callback, msg)\n        self._run_callback = <bound method ZMQStream._run_callback of <zmq.eventloop.zmqstream.ZMQStream object>>\n        callback = <function wrap.<locals>.null_wrapper>\n        msg = [<zmq.sugar.frame.Frame object>, <zmq.sugar.frame.Frame object>, <zmq.sugar.frame.Frame object>, <zmq.sugar.frame.Frame object>, <zmq.sugar.frame.Frame object>, <zmq.sugar.frame.Frame object>, <zmq.sugar.frame.Frame object>]\n    473                 \n    474         # self.update_state()\n    475         \n    476 \n\n...........................................................................\nC:\\Users\\Usuario\\Anaconda3\\lib\\site-packages\\zmq\\eventloop\\zmqstream.py in _run_callback(self=<zmq.eventloop.zmqstream.ZMQStream object>, callback=<function wrap.<locals>.null_wrapper>, *args=([<zmq.sugar.frame.Frame object>, <zmq.sugar.frame.Frame object>, <zmq.sugar.frame.Frame object>, <zmq.sugar.frame.Frame object>, <zmq.sugar.frame.Frame object>, <zmq.sugar.frame.Frame object>, <zmq.sugar.frame.Frame object>],), **kwargs={})\n    409         close our socket.\"\"\"\n    410         try:\n    411             # Use a NullContext to ensure that all StackContexts are run\n    412             # inside our blanket exception handler rather than outside.\n    413             with stack_context.NullContext():\n--> 414                 callback(*args, **kwargs)\n        callback = <function wrap.<locals>.null_wrapper>\n        args = ([<zmq.sugar.frame.Frame object>, <zmq.sugar.frame.Frame object>, <zmq.sugar.frame.Frame object>, <zmq.sugar.frame.Frame object>, <zmq.sugar.frame.Frame object>, <zmq.sugar.frame.Frame object>, <zmq.sugar.frame.Frame object>],)\n        kwargs = {}\n    415         except:\n    416             gen_log.error(\"Uncaught exception, closing connection.\",\n    417                           exc_info=True)\n    418             # Close the socket on an uncaught exception from a user callback\n\n...........................................................................\nC:\\Users\\Usuario\\Anaconda3\\lib\\site-packages\\tornado\\stack_context.py in null_wrapper(*args=([<zmq.sugar.frame.Frame object>, <zmq.sugar.frame.Frame object>, <zmq.sugar.frame.Frame object>, <zmq.sugar.frame.Frame object>, <zmq.sugar.frame.Frame object>, <zmq.sugar.frame.Frame object>, <zmq.sugar.frame.Frame object>],), **kwargs={})\n    270         # Fast path when there are no active contexts.\n    271         def null_wrapper(*args, **kwargs):\n    272             try:\n    273                 current_state = _state.contexts\n    274                 _state.contexts = cap_contexts[0]\n--> 275                 return fn(*args, **kwargs)\n        args = ([<zmq.sugar.frame.Frame object>, <zmq.sugar.frame.Frame object>, <zmq.sugar.frame.Frame object>, <zmq.sugar.frame.Frame object>, <zmq.sugar.frame.Frame object>, <zmq.sugar.frame.Frame object>, <zmq.sugar.frame.Frame object>],)\n        kwargs = {}\n    276             finally:\n    277                 _state.contexts = current_state\n    278         null_wrapper._wrapped = True\n    279         return null_wrapper\n\n...........................................................................\nC:\\Users\\Usuario\\Anaconda3\\lib\\site-packages\\ipykernel\\kernelbase.py in dispatcher(msg=[<zmq.sugar.frame.Frame object>, <zmq.sugar.frame.Frame object>, <zmq.sugar.frame.Frame object>, <zmq.sugar.frame.Frame object>, <zmq.sugar.frame.Frame object>, <zmq.sugar.frame.Frame object>, <zmq.sugar.frame.Frame object>])\n    271         if self.control_stream:\n    272             self.control_stream.on_recv(self.dispatch_control, copy=False)\n    273 \n    274         def make_dispatcher(stream):\n    275             def dispatcher(msg):\n--> 276                 return self.dispatch_shell(stream, msg)\n        msg = [<zmq.sugar.frame.Frame object>, <zmq.sugar.frame.Frame object>, <zmq.sugar.frame.Frame object>, <zmq.sugar.frame.Frame object>, <zmq.sugar.frame.Frame object>, <zmq.sugar.frame.Frame object>, <zmq.sugar.frame.Frame object>]\n    277             return dispatcher\n    278 \n    279         for s in self.shell_streams:\n    280             s.on_recv(make_dispatcher(s), copy=False)\n\n...........................................................................\nC:\\Users\\Usuario\\Anaconda3\\lib\\site-packages\\ipykernel\\kernelbase.py in dispatch_shell(self=<ipykernel.ipkernel.IPythonKernel object>, stream=<zmq.eventloop.zmqstream.ZMQStream object>, msg={'buffers': [], 'content': {'allow_stdin': True, 'code': 'inicio = time.strftime(\"%X\")\\n\\ngrid = GridSearchC... {}\".format(inicio,fin,score,mejores_parametros))', 'silent': False, 'stop_on_error': True, 'store_history': True, 'user_expressions': {}}, 'header': {'date': '2017-10-29T12:52:10.563776', 'msg_id': '05455D3843714B4B90FB773940CD6149', 'msg_type': 'execute_request', 'session': '7D3FC2E10E5C48FDBF6C3316C2BBF837', 'username': 'username', 'version': '5.0'}, 'metadata': {}, 'msg_id': '05455D3843714B4B90FB773940CD6149', 'msg_type': 'execute_request', 'parent_header': {}})\n    223             self.log.error(\"UNKNOWN MESSAGE TYPE: %r\", msg_type)\n    224         else:\n    225             self.log.debug(\"%s: %s\", msg_type, msg)\n    226             self.pre_handler_hook()\n    227             try:\n--> 228                 handler(stream, idents, msg)\n        handler = <bound method Kernel.execute_request of <ipykernel.ipkernel.IPythonKernel object>>\n        stream = <zmq.eventloop.zmqstream.ZMQStream object>\n        idents = [b'7D3FC2E10E5C48FDBF6C3316C2BBF837']\n        msg = {'buffers': [], 'content': {'allow_stdin': True, 'code': 'inicio = time.strftime(\"%X\")\\n\\ngrid = GridSearchC... {}\".format(inicio,fin,score,mejores_parametros))', 'silent': False, 'stop_on_error': True, 'store_history': True, 'user_expressions': {}}, 'header': {'date': '2017-10-29T12:52:10.563776', 'msg_id': '05455D3843714B4B90FB773940CD6149', 'msg_type': 'execute_request', 'session': '7D3FC2E10E5C48FDBF6C3316C2BBF837', 'username': 'username', 'version': '5.0'}, 'metadata': {}, 'msg_id': '05455D3843714B4B90FB773940CD6149', 'msg_type': 'execute_request', 'parent_header': {}}\n    229             except Exception:\n    230                 self.log.error(\"Exception in message handler:\", exc_info=True)\n    231             finally:\n    232                 self.post_handler_hook()\n\n...........................................................................\nC:\\Users\\Usuario\\Anaconda3\\lib\\site-packages\\ipykernel\\kernelbase.py in execute_request(self=<ipykernel.ipkernel.IPythonKernel object>, stream=<zmq.eventloop.zmqstream.ZMQStream object>, ident=[b'7D3FC2E10E5C48FDBF6C3316C2BBF837'], parent={'buffers': [], 'content': {'allow_stdin': True, 'code': 'inicio = time.strftime(\"%X\")\\n\\ngrid = GridSearchC... {}\".format(inicio,fin,score,mejores_parametros))', 'silent': False, 'stop_on_error': True, 'store_history': True, 'user_expressions': {}}, 'header': {'date': '2017-10-29T12:52:10.563776', 'msg_id': '05455D3843714B4B90FB773940CD6149', 'msg_type': 'execute_request', 'session': '7D3FC2E10E5C48FDBF6C3316C2BBF837', 'username': 'username', 'version': '5.0'}, 'metadata': {}, 'msg_id': '05455D3843714B4B90FB773940CD6149', 'msg_type': 'execute_request', 'parent_header': {}})\n    385         if not silent:\n    386             self.execution_count += 1\n    387             self._publish_execute_input(code, parent, self.execution_count)\n    388 \n    389         reply_content = self.do_execute(code, silent, store_history,\n--> 390                                         user_expressions, allow_stdin)\n        user_expressions = {}\n        allow_stdin = True\n    391 \n    392         # Flush output before sending the reply.\n    393         sys.stdout.flush()\n    394         sys.stderr.flush()\n\n...........................................................................\nC:\\Users\\Usuario\\Anaconda3\\lib\\site-packages\\ipykernel\\ipkernel.py in do_execute(self=<ipykernel.ipkernel.IPythonKernel object>, code='inicio = time.strftime(\"%X\")\\n\\ngrid = GridSearchC... {}\".format(inicio,fin,score,mejores_parametros))', silent=False, store_history=True, user_expressions={}, allow_stdin=True)\n    191 \n    192         self._forward_input(allow_stdin)\n    193 \n    194         reply_content = {}\n    195         try:\n--> 196             res = shell.run_cell(code, store_history=store_history, silent=silent)\n        res = undefined\n        shell.run_cell = <bound method ZMQInteractiveShell.run_cell of <ipykernel.zmqshell.ZMQInteractiveShell object>>\n        code = 'inicio = time.strftime(\"%X\")\\n\\ngrid = GridSearchC... {}\".format(inicio,fin,score,mejores_parametros))'\n        store_history = True\n        silent = False\n    197         finally:\n    198             self._restore_input()\n    199 \n    200         if res.error_before_exec is not None:\n\n...........................................................................\nC:\\Users\\Usuario\\Anaconda3\\lib\\site-packages\\ipykernel\\zmqshell.py in run_cell(self=<ipykernel.zmqshell.ZMQInteractiveShell object>, *args=('inicio = time.strftime(\"%X\")\\n\\ngrid = GridSearchC... {}\".format(inicio,fin,score,mejores_parametros))',), **kwargs={'silent': False, 'store_history': True})\n    496             )\n    497         self.payload_manager.write_payload(payload)\n    498 \n    499     def run_cell(self, *args, **kwargs):\n    500         self._last_traceback = None\n--> 501         return super(ZMQInteractiveShell, self).run_cell(*args, **kwargs)\n        self.run_cell = <bound method ZMQInteractiveShell.run_cell of <ipykernel.zmqshell.ZMQInteractiveShell object>>\n        args = ('inicio = time.strftime(\"%X\")\\n\\ngrid = GridSearchC... {}\".format(inicio,fin,score,mejores_parametros))',)\n        kwargs = {'silent': False, 'store_history': True}\n    502 \n    503     def _showtraceback(self, etype, evalue, stb):\n    504         # try to preserve ordering of tracebacks and print statements\n    505         sys.stdout.flush()\n\n...........................................................................\nC:\\Users\\Usuario\\Anaconda3\\lib\\site-packages\\IPython\\core\\interactiveshell.py in run_cell(self=<ipykernel.zmqshell.ZMQInteractiveShell object>, raw_cell='inicio = time.strftime(\"%X\")\\n\\ngrid = GridSearchC... {}\".format(inicio,fin,score,mejores_parametros))', store_history=True, silent=False, shell_futures=True)\n   2712                 self.displayhook.exec_result = result\n   2713 \n   2714                 # Execute the user code\n   2715                 interactivity = \"none\" if silent else self.ast_node_interactivity\n   2716                 has_raised = self.run_ast_nodes(code_ast.body, cell_name,\n-> 2717                    interactivity=interactivity, compiler=compiler, result=result)\n        interactivity = 'last_expr'\n        compiler = <IPython.core.compilerop.CachingCompiler object>\n   2718                 \n   2719                 self.last_execution_succeeded = not has_raised\n   2720 \n   2721                 # Reset this so later displayed values do not modify the\n\n...........................................................................\nC:\\Users\\Usuario\\Anaconda3\\lib\\site-packages\\IPython\\core\\interactiveshell.py in run_ast_nodes(self=<ipykernel.zmqshell.ZMQInteractiveShell object>, nodelist=[<_ast.Assign object>, <_ast.Assign object>, <_ast.Expr object>, <_ast.Assign object>, <_ast.Assign object>, <_ast.Assign object>, <_ast.Expr object>], cell_name='<ipython-input-7-febf5e4d777f>', interactivity='last', compiler=<IPython.core.compilerop.CachingCompiler object>, result=<ExecutionResult object at 7aed358, execution_co..._before_exec=None error_in_exec=None result=None>)\n   2816 \n   2817         try:\n   2818             for i, node in enumerate(to_run_exec):\n   2819                 mod = ast.Module([node])\n   2820                 code = compiler(mod, cell_name, \"exec\")\n-> 2821                 if self.run_code(code, result):\n        self.run_code = <bound method InteractiveShell.run_code of <ipykernel.zmqshell.ZMQInteractiveShell object>>\n        code = <code object <module> at 0x0000000004BE7780, file \"<ipython-input-7-febf5e4d777f>\", line 5>\n        result = <ExecutionResult object at 7aed358, execution_co..._before_exec=None error_in_exec=None result=None>\n   2822                     return True\n   2823 \n   2824             for i, node in enumerate(to_run_interactive):\n   2825                 mod = ast.Interactive([node])\n\n...........................................................................\nC:\\Users\\Usuario\\Anaconda3\\lib\\site-packages\\IPython\\core\\interactiveshell.py in run_code(self=<ipykernel.zmqshell.ZMQInteractiveShell object>, code_obj=<code object <module> at 0x0000000004BE7780, file \"<ipython-input-7-febf5e4d777f>\", line 5>, result=<ExecutionResult object at 7aed358, execution_co..._before_exec=None error_in_exec=None result=None>)\n   2876         outflag = 1  # happens in more places, so it's easier as default\n   2877         try:\n   2878             try:\n   2879                 self.hooks.pre_run_code_hook()\n   2880                 #rprint('Running code', repr(code_obj)) # dbg\n-> 2881                 exec(code_obj, self.user_global_ns, self.user_ns)\n        code_obj = <code object <module> at 0x0000000004BE7780, file \"<ipython-input-7-febf5e4d777f>\", line 5>\n        self.user_global_ns = {'GridSearchCV': <class 'sklearn.model_selection._search.GridSearchCV'>, 'In': ['', 'import pandas as pd\\nimport numpy as np\\nfrom skle....readthedocs.io/en/latest/Installation-Guide.html', 'import pandas as pd\\nimport numpy as np\\nfrom skle....readthedocs.io/en/latest/Installation-Guide.html', \"#propiedades = pd.read_csv('/home/agustin/Escrit... = pd.read_csv('../../set_datos_propiedades.csv')\", 'propiedades.head()', \"propiedades = propiedades.loc[(propiedades.price..._resultado = propiedades.loc[:,'price_aprox_usd']\", \"boosting = ['gbdt', 'dart', 'goss', 'rf']\\nestima..._cross_validation = 25\\nlgbm = lgb.LGBMRegressor()\", 'inicio = time.strftime(\"%X\")\\n\\ngrid = GridSearchC... {}\".format(inicio,fin,score,mejores_parametros))'], 'Out': {4:   description  expenses fecha_de_publicacion    ... \n3                 465  \n4                 629  }, '_':   description  expenses fecha_de_publicacion    ... \n3                 465  \n4                 629  , '_4':   description  expenses fecha_de_publicacion    ... \n3                 465  \n4                 629  , '__': '', '___': '', '__builtin__': <module 'builtins' (built-in)>, '__builtins__': <module 'builtins' (built-in)>, '__doc__': 'Automatically created module for IPython interactive environment', ...}\n        self.user_ns = {'GridSearchCV': <class 'sklearn.model_selection._search.GridSearchCV'>, 'In': ['', 'import pandas as pd\\nimport numpy as np\\nfrom skle....readthedocs.io/en/latest/Installation-Guide.html', 'import pandas as pd\\nimport numpy as np\\nfrom skle....readthedocs.io/en/latest/Installation-Guide.html', \"#propiedades = pd.read_csv('/home/agustin/Escrit... = pd.read_csv('../../set_datos_propiedades.csv')\", 'propiedades.head()', \"propiedades = propiedades.loc[(propiedades.price..._resultado = propiedades.loc[:,'price_aprox_usd']\", \"boosting = ['gbdt', 'dart', 'goss', 'rf']\\nestima..._cross_validation = 25\\nlgbm = lgb.LGBMRegressor()\", 'inicio = time.strftime(\"%X\")\\n\\ngrid = GridSearchC... {}\".format(inicio,fin,score,mejores_parametros))'], 'Out': {4:   description  expenses fecha_de_publicacion    ... \n3                 465  \n4                 629  }, '_':   description  expenses fecha_de_publicacion    ... \n3                 465  \n4                 629  , '_4':   description  expenses fecha_de_publicacion    ... \n3                 465  \n4                 629  , '__': '', '___': '', '__builtin__': <module 'builtins' (built-in)>, '__builtins__': <module 'builtins' (built-in)>, '__doc__': 'Automatically created module for IPython interactive environment', ...}\n   2882             finally:\n   2883                 # Reset our crash handler in place\n   2884                 sys.excepthook = old_excepthook\n   2885         except SystemExit as e:\n\n...........................................................................\nC:\\Users\\Usuario\\Desktop\\Organizacion de datos\\tpDatos\\tp2\\<ipython-input-7-febf5e4d777f> in <module>()\n      1 inicio = time.strftime(\"%X\")\n      2 \n      3 grid = GridSearchCV( estimator = lgbm, param_grid = parametros, n_jobs = -1, cv = iteraciones_cross_validation)\n      4 \n----> 5 grid.fit(set_entrenamiento_datos, set_entrenamiento_resultado)\n      6 \n      7 score = grid.best_score_ * 100\n      8 mejores_parametros = grid.best_params_\n      9 fin = time.strftime(\"%X\")\n     10 \n\n...........................................................................\nC:\\Users\\Usuario\\Anaconda3\\lib\\site-packages\\sklearn\\model_selection\\_search.py in fit(self=GridSearchCV(cv=25, error_score='raise',\n       ...train_score=True,\n       scoring=None, verbose=0), X=         superficie        lat        lon  prope... True   True   False  \n\n[519031 rows x 9 columns], y=677740     490000.00\n677741     810000.00\n677742...   87000.00\nName: price_aprox_usd, dtype: float64, groups=None, **fit_params={})\n    633                                   return_train_score=self.return_train_score,\n    634                                   return_n_test_samples=True,\n    635                                   return_times=True, return_parameters=False,\n    636                                   error_score=self.error_score)\n    637           for parameters, (train, test) in product(candidate_params,\n--> 638                                                    cv.split(X, y, groups)))\n        cv.split = <bound method _BaseKFold.split of KFold(n_splits=25, random_state=None, shuffle=False)>\n        X =          superficie        lat        lon  prope... True   True   False  \n\n[519031 rows x 9 columns]\n        y = 677740     490000.00\n677741     810000.00\n677742...   87000.00\nName: price_aprox_usd, dtype: float64\n        groups = None\n    639 \n    640         # if one choose to see train score, \"out\" will contain train score info\n    641         if self.return_train_score:\n    642             (train_score_dicts, test_score_dicts, test_sample_counts, fit_time,\n\n...........................................................................\nC:\\Users\\Usuario\\Anaconda3\\lib\\site-packages\\sklearn\\externals\\joblib\\parallel.py in __call__(self=Parallel(n_jobs=-1), iterable=<generator object BaseSearchCV.fit.<locals>.<genexpr>>)\n    784             if pre_dispatch == \"all\" or n_jobs == 1:\n    785                 # The iterable was consumed all at once by the above for loop.\n    786                 # No need to wait for async callbacks to trigger to\n    787                 # consumption.\n    788                 self._iterating = False\n--> 789             self.retrieve()\n        self.retrieve = <bound method Parallel.retrieve of Parallel(n_jobs=-1)>\n    790             # Make sure that we get a last message telling us we are done\n    791             elapsed_time = time.time() - self._start_time\n    792             self._print('Done %3i out of %3i | elapsed: %s finished',\n    793                         (len(self._output), len(self._output),\n\n---------------------------------------------------------------------------\nSub-process traceback:\n---------------------------------------------------------------------------\nLightGBMError                                      Sun Oct 29 14:12:09 2017\nPID: 7424               Python 3.5.2: C:\\Users\\Usuario\\Anaconda3\\python.exe\n...........................................................................\nC:\\Users\\Usuario\\Anaconda3\\lib\\site-packages\\sklearn\\externals\\joblib\\parallel.py in __call__(self=<sklearn.externals.joblib.parallel.BatchedCalls object>)\n    126     def __init__(self, iterator_slice):\n    127         self.items = list(iterator_slice)\n    128         self._size = len(self.items)\n    129 \n    130     def __call__(self):\n--> 131         return [func(*args, **kwargs) for func, args, kwargs in self.items]\n        self.items = [(<function _fit_and_score>, (LGBMRegressor(boosting_type='rf', colsample_bytr...subsample_for_bin=50000,\n       subsample_freq=1),          superficie        lat        lon  prope... True   True   False  \n\n[519031 rows x 9 columns], 677740     490000.00\n677741     810000.00\n677742...   87000.00\nName: price_aprox_usd, dtype: float64, {'score': <function _passthrough_scorer>}, memmap([ 20762,  20763,  20764, ..., 519028, 519029, 519030]), array([    0,     1,     2, ..., 20759, 20760, 20761]), 0, {'boosting_type': 'rf', 'learning_rate': 0.1, 'n_estimators': 10}), {'error_score': 'raise', 'fit_params': {}, 'return_n_test_samples': True, 'return_parameters': False, 'return_times': True, 'return_train_score': True})]\n    132 \n    133     def __len__(self):\n    134         return self._size\n    135 \n\n...........................................................................\nC:\\Users\\Usuario\\Anaconda3\\lib\\site-packages\\sklearn\\externals\\joblib\\parallel.py in <listcomp>(.0=<list_iterator object>)\n    126     def __init__(self, iterator_slice):\n    127         self.items = list(iterator_slice)\n    128         self._size = len(self.items)\n    129 \n    130     def __call__(self):\n--> 131         return [func(*args, **kwargs) for func, args, kwargs in self.items]\n        func = <function _fit_and_score>\n        args = (LGBMRegressor(boosting_type='rf', colsample_bytr...subsample_for_bin=50000,\n       subsample_freq=1),          superficie        lat        lon  prope... True   True   False  \n\n[519031 rows x 9 columns], 677740     490000.00\n677741     810000.00\n677742...   87000.00\nName: price_aprox_usd, dtype: float64, {'score': <function _passthrough_scorer>}, memmap([ 20762,  20763,  20764, ..., 519028, 519029, 519030]), array([    0,     1,     2, ..., 20759, 20760, 20761]), 0, {'boosting_type': 'rf', 'learning_rate': 0.1, 'n_estimators': 10})\n        kwargs = {'error_score': 'raise', 'fit_params': {}, 'return_n_test_samples': True, 'return_parameters': False, 'return_times': True, 'return_train_score': True}\n    132 \n    133     def __len__(self):\n    134         return self._size\n    135 \n\n...........................................................................\nC:\\Users\\Usuario\\Anaconda3\\lib\\site-packages\\sklearn\\model_selection\\_validation.py in _fit_and_score(estimator=LGBMRegressor(boosting_type='rf', colsample_bytr...subsample_for_bin=50000,\n       subsample_freq=1), X=         superficie        lat        lon  prope... True   True   False  \n\n[519031 rows x 9 columns], y=677740     490000.00\n677741     810000.00\n677742...   87000.00\nName: price_aprox_usd, dtype: float64, scorer={'score': <function _passthrough_scorer>}, train=memmap([ 20762,  20763,  20764, ..., 519028, 519029, 519030]), test=array([    0,     1,     2, ..., 20759, 20760, 20761]), verbose=0, parameters={'boosting_type': 'rf', 'learning_rate': 0.1, 'n_estimators': 10}, fit_params={}, return_train_score=True, return_parameters=False, return_n_test_samples=True, return_times=True, error_score='raise')\n    432 \n    433     try:\n    434         if y_train is None:\n    435             estimator.fit(X_train, **fit_params)\n    436         else:\n--> 437             estimator.fit(X_train, y_train, **fit_params)\n        estimator.fit = <bound method LGBMRegressor.fit of LGBMRegressor...ubsample_for_bin=50000,\n       subsample_freq=1)>\n        X_train =          superficie        lat        lon  prope... True   True   False  \n\n[498269 rows x 9 columns]\n        y_train = 708612     415000.00\n708613     155000.00\n708614...   87000.00\nName: price_aprox_usd, dtype: float64\n        fit_params = {}\n    438 \n    439     except Exception as e:\n    440         # Note fit time as time until error\n    441         fit_time = time.time() - start_time\n\n...........................................................................\nC:\\Users\\Usuario\\Anaconda3\\lib\\site-packages\\lightgbm\\sklearn.py in fit(self=LGBMRegressor(boosting_type='rf', colsample_bytr...subsample_for_bin=50000,\n       subsample_freq=1), X=         superficie        lat        lon  prope... True   True   False  \n\n[498269 rows x 9 columns], y=708612     415000.00\n708613     155000.00\n708614...   87000.00\nName: price_aprox_usd, dtype: float64, sample_weight=None, init_score=None, eval_set=None, eval_names=None, eval_sample_weight=None, eval_init_score=None, eval_metric='l2', early_stopping_rounds=None, verbose=True, feature_name='auto', categorical_feature='auto', callbacks=None)\n    607                                        eval_init_score=eval_init_score,\n    608                                        eval_metric=eval_metric,\n    609                                        early_stopping_rounds=early_stopping_rounds,\n    610                                        verbose=verbose, feature_name=feature_name,\n    611                                        categorical_feature=categorical_feature,\n--> 612                                        callbacks=callbacks)\n        callbacks = None\n    613         return self\n    614 \n    615     base_doc = LGBMModel.fit.__doc__\n    616     fit.__doc__ = (base_doc[:base_doc.find('eval_metric :')] +\n\n...........................................................................\nC:\\Users\\Usuario\\Anaconda3\\lib\\site-packages\\lightgbm\\sklearn.py in fit(self=LGBMRegressor(boosting_type='rf', colsample_bytr...subsample_for_bin=50000,\n       subsample_freq=1), X=         superficie        lat        lon  prope... True   True   False  \n\n[498269 rows x 9 columns], y=708612     415000.00\n708613     155000.00\n708614...   87000.00\nName: price_aprox_usd, dtype: float64, sample_weight=None, init_score=None, group=None, eval_set=None, eval_names=None, eval_sample_weight=None, eval_init_score=None, eval_group=None, eval_metric='l2', early_stopping_rounds=None, verbose=True, feature_name='auto', categorical_feature='auto', callbacks=None)\n    454                               self.n_estimators, valid_sets=valid_sets, valid_names=eval_names,\n    455                               early_stopping_rounds=early_stopping_rounds,\n    456                               evals_result=evals_result, fobj=self._fobj, feval=feval,\n    457                               verbose_eval=verbose, feature_name=feature_name,\n    458                               categorical_feature=categorical_feature,\n--> 459                               callbacks=callbacks)\n        callbacks = None\n    460 \n    461         if evals_result:\n    462             self._evals_result = evals_result\n    463 \n\n...........................................................................\nC:\\Users\\Usuario\\Anaconda3\\lib\\site-packages\\lightgbm\\engine.py in train(params={'boosting_type': 'rf', 'colsample_bytree': 1.0, 'learning_rate': 0.1, 'max_bin': 255, 'max_depth': -1, 'metric': 'l2', 'min_child_samples': 10, 'min_child_weight': 5, 'min_split_gain': 0.0, 'nthread': -1, ...}, train_set=<lightgbm.basic.Dataset object>, num_boost_round=10, valid_sets=[], valid_names=None, fobj=None, feval=None, init_model=None, feature_name='auto', categorical_feature='auto', early_stopping_rounds=None, evals_result={}, verbose_eval=True, learning_rates=None, keep_training_booster=False, callbacks={<function print_evaluation.<locals>.callback>, <function record_evaluation.<locals>.callback>})\n    173     callbacks_before_iter = sorted(callbacks_before_iter, key=attrgetter('order'))\n    174     callbacks_after_iter = sorted(callbacks_after_iter, key=attrgetter('order'))\n    175 \n    176     \"\"\"construct booster\"\"\"\n    177     try:\n--> 178         booster = Booster(params=params, train_set=train_set)\n        booster = undefined\n        params = {'boosting_type': 'rf', 'colsample_bytree': 1.0, 'learning_rate': 0.1, 'max_bin': 255, 'max_depth': -1, 'metric': 'l2', 'min_child_samples': 10, 'min_child_weight': 5, 'min_split_gain': 0.0, 'nthread': -1, ...}\n        train_set = <lightgbm.basic.Dataset object>\n    179         if is_valid_contain_train:\n    180             booster.set_train_data_name(train_data_name)\n    181         for valid_set, name_valid_set in zip(reduced_valid_sets, name_valid_sets):\n    182             booster.add_valid(valid_set, name_valid_set)\n\n...........................................................................\nC:\\Users\\Usuario\\Anaconda3\\lib\\site-packages\\lightgbm\\basic.py in __init__(self=<lightgbm.basic.Booster object>, params={'boosting_type': 'rf', 'colsample_bytree': 1.0, 'learning_rate': 0.1, 'max_bin': 255, 'max_depth': -1, 'metric': 'l2', 'min_child_samples': 10, 'min_child_weight': 5, 'min_split_gain': 0.0, 'nthread': -1, ...}, train_set=<lightgbm.basic.Dataset object>, model_file=None, silent=False)\n   1265             \"\"\"construct booster object\"\"\"\n   1266             self.handle = ctypes.c_void_p()\n   1267             _safe_call(_LIB.LGBM_BoosterCreate(\n   1268                 train_set.construct().handle,\n   1269                 c_str(params_str),\n-> 1270                 ctypes.byref(self.handle)))\n        self.handle = c_void_p(None)\n   1271             \"\"\"save reference to data\"\"\"\n   1272             self.train_set = train_set\n   1273             self.valid_sets = []\n   1274             self.name_valid_sets = []\n\n...........................................................................\nC:\\Users\\Usuario\\Anaconda3\\lib\\site-packages\\lightgbm\\basic.py in _safe_call(ret=-1)\n     43     ----------\n     44     ret : int\n     45         return value from API calls\n     46     \"\"\"\n     47     if ret != 0:\n---> 48         raise LightGBMError(_LIB.LGBM_GetLastError())\n     49 \n     50 \n     51 def is_numeric(obj):\n     52     \"\"\"Check is a number or not, include numpy number etc.\"\"\"\n\nLightGBMError: b'Check failed: config->bagging_freq > 0 && config->bagging_fraction < 1.0f && config->bagging_fraction > 0.0f at c:\\\\projects\\\\lightgbm\\\\python-package\\\\compile\\\\src\\\\boosting\\\\rf.hpp, line 29 .\\n'\n___________________________________________________________________________",
     "output_type": "error",
     "traceback": [
      "\u001b[0;31m---------------------------------------------------------------------------\u001b[0m",
      "\u001b[0;31mRemoteTraceback\u001b[0m                           Traceback (most recent call last)",
      "\u001b[0;31mRemoteTraceback\u001b[0m: \n\"\"\"\nTraceback (most recent call last):\n  File \"C:\\Users\\Usuario\\Anaconda3\\lib\\site-packages\\sklearn\\externals\\joblib\\_parallel_backends.py\", line 350, in __call__\n    return self.func(*args, **kwargs)\n  File \"C:\\Users\\Usuario\\Anaconda3\\lib\\site-packages\\sklearn\\externals\\joblib\\parallel.py\", line 131, in __call__\n    return [func(*args, **kwargs) for func, args, kwargs in self.items]\n  File \"C:\\Users\\Usuario\\Anaconda3\\lib\\site-packages\\sklearn\\externals\\joblib\\parallel.py\", line 131, in <listcomp>\n    return [func(*args, **kwargs) for func, args, kwargs in self.items]\n  File \"C:\\Users\\Usuario\\Anaconda3\\lib\\site-packages\\sklearn\\model_selection\\_validation.py\", line 437, in _fit_and_score\n    estimator.fit(X_train, y_train, **fit_params)\n  File \"C:\\Users\\Usuario\\Anaconda3\\lib\\site-packages\\lightgbm\\sklearn.py\", line 612, in fit\n    callbacks=callbacks)\n  File \"C:\\Users\\Usuario\\Anaconda3\\lib\\site-packages\\lightgbm\\sklearn.py\", line 459, in fit\n    callbacks=callbacks)\n  File \"C:\\Users\\Usuario\\Anaconda3\\lib\\site-packages\\lightgbm\\engine.py\", line 178, in train\n    booster = Booster(params=params, train_set=train_set)\n  File \"C:\\Users\\Usuario\\Anaconda3\\lib\\site-packages\\lightgbm\\basic.py\", line 1270, in __init__\n    ctypes.byref(self.handle)))\n  File \"C:\\Users\\Usuario\\Anaconda3\\lib\\site-packages\\lightgbm\\basic.py\", line 48, in _safe_call\n    raise LightGBMError(_LIB.LGBM_GetLastError())\nlightgbm.basic.LightGBMError: b'Check failed: config->bagging_freq > 0 && config->bagging_fraction < 1.0f && config->bagging_fraction > 0.0f at c:\\\\projects\\\\lightgbm\\\\python-package\\\\compile\\\\src\\\\boosting\\\\rf.hpp, line 29 .\\n'\n\nDuring handling of the above exception, another exception occurred:\n\nTraceback (most recent call last):\n  File \"C:\\Users\\Usuario\\Anaconda3\\lib\\multiprocessing\\pool.py\", line 119, in worker\n    result = (True, func(*args, **kwds))\n  File \"C:\\Users\\Usuario\\Anaconda3\\lib\\site-packages\\sklearn\\externals\\joblib\\_parallel_backends.py\", line 359, in __call__\n    raise TransportableException(text, e_type)\nsklearn.externals.joblib.my_exceptions.TransportableException: TransportableException\n___________________________________________________________________________\nLightGBMError                                      Sun Oct 29 14:12:09 2017\nPID: 7424               Python 3.5.2: C:\\Users\\Usuario\\Anaconda3\\python.exe\n...........................................................................\nC:\\Users\\Usuario\\Anaconda3\\lib\\site-packages\\sklearn\\externals\\joblib\\parallel.py in __call__(self=<sklearn.externals.joblib.parallel.BatchedCalls object>)\n    126     def __init__(self, iterator_slice):\n    127         self.items = list(iterator_slice)\n    128         self._size = len(self.items)\n    129 \n    130     def __call__(self):\n--> 131         return [func(*args, **kwargs) for func, args, kwargs in self.items]\n        self.items = [(<function _fit_and_score>, (LGBMRegressor(boosting_type='rf', colsample_bytr...subsample_for_bin=50000,\n       subsample_freq=1),          superficie        lat        lon  prope... True   True   False  \n\n[519031 rows x 9 columns], 677740     490000.00\n677741     810000.00\n677742...   87000.00\nName: price_aprox_usd, dtype: float64, {'score': <function _passthrough_scorer>}, memmap([ 20762,  20763,  20764, ..., 519028, 519029, 519030]), array([    0,     1,     2, ..., 20759, 20760, 20761]), 0, {'boosting_type': 'rf', 'learning_rate': 0.1, 'n_estimators': 10}), {'error_score': 'raise', 'fit_params': {}, 'return_n_test_samples': True, 'return_parameters': False, 'return_times': True, 'return_train_score': True})]\n    132 \n    133     def __len__(self):\n    134         return self._size\n    135 \n\n...........................................................................\nC:\\Users\\Usuario\\Anaconda3\\lib\\site-packages\\sklearn\\externals\\joblib\\parallel.py in <listcomp>(.0=<list_iterator object>)\n    126     def __init__(self, iterator_slice):\n    127         self.items = list(iterator_slice)\n    128         self._size = len(self.items)\n    129 \n    130     def __call__(self):\n--> 131         return [func(*args, **kwargs) for func, args, kwargs in self.items]\n        func = <function _fit_and_score>\n        args = (LGBMRegressor(boosting_type='rf', colsample_bytr...subsample_for_bin=50000,\n       subsample_freq=1),          superficie        lat        lon  prope... True   True   False  \n\n[519031 rows x 9 columns], 677740     490000.00\n677741     810000.00\n677742...   87000.00\nName: price_aprox_usd, dtype: float64, {'score': <function _passthrough_scorer>}, memmap([ 20762,  20763,  20764, ..., 519028, 519029, 519030]), array([    0,     1,     2, ..., 20759, 20760, 20761]), 0, {'boosting_type': 'rf', 'learning_rate': 0.1, 'n_estimators': 10})\n        kwargs = {'error_score': 'raise', 'fit_params': {}, 'return_n_test_samples': True, 'return_parameters': False, 'return_times': True, 'return_train_score': True}\n    132 \n    133     def __len__(self):\n    134         return self._size\n    135 \n\n...........................................................................\nC:\\Users\\Usuario\\Anaconda3\\lib\\site-packages\\sklearn\\model_selection\\_validation.py in _fit_and_score(estimator=LGBMRegressor(boosting_type='rf', colsample_bytr...subsample_for_bin=50000,\n       subsample_freq=1), X=         superficie        lat        lon  prope... True   True   False  \n\n[519031 rows x 9 columns], y=677740     490000.00\n677741     810000.00\n677742...   87000.00\nName: price_aprox_usd, dtype: float64, scorer={'score': <function _passthrough_scorer>}, train=memmap([ 20762,  20763,  20764, ..., 519028, 519029, 519030]), test=array([    0,     1,     2, ..., 20759, 20760, 20761]), verbose=0, parameters={'boosting_type': 'rf', 'learning_rate': 0.1, 'n_estimators': 10}, fit_params={}, return_train_score=True, return_parameters=False, return_n_test_samples=True, return_times=True, error_score='raise')\n    432 \n    433     try:\n    434         if y_train is None:\n    435             estimator.fit(X_train, **fit_params)\n    436         else:\n--> 437             estimator.fit(X_train, y_train, **fit_params)\n        estimator.fit = <bound method LGBMRegressor.fit of LGBMRegressor...ubsample_for_bin=50000,\n       subsample_freq=1)>\n        X_train =          superficie        lat        lon  prope... True   True   False  \n\n[498269 rows x 9 columns]\n        y_train = 708612     415000.00\n708613     155000.00\n708614...   87000.00\nName: price_aprox_usd, dtype: float64\n        fit_params = {}\n    438 \n    439     except Exception as e:\n    440         # Note fit time as time until error\n    441         fit_time = time.time() - start_time\n\n...........................................................................\nC:\\Users\\Usuario\\Anaconda3\\lib\\site-packages\\lightgbm\\sklearn.py in fit(self=LGBMRegressor(boosting_type='rf', colsample_bytr...subsample_for_bin=50000,\n       subsample_freq=1), X=         superficie        lat        lon  prope... True   True   False  \n\n[498269 rows x 9 columns], y=708612     415000.00\n708613     155000.00\n708614...   87000.00\nName: price_aprox_usd, dtype: float64, sample_weight=None, init_score=None, eval_set=None, eval_names=None, eval_sample_weight=None, eval_init_score=None, eval_metric='l2', early_stopping_rounds=None, verbose=True, feature_name='auto', categorical_feature='auto', callbacks=None)\n    607                                        eval_init_score=eval_init_score,\n    608                                        eval_metric=eval_metric,\n    609                                        early_stopping_rounds=early_stopping_rounds,\n    610                                        verbose=verbose, feature_name=feature_name,\n    611                                        categorical_feature=categorical_feature,\n--> 612                                        callbacks=callbacks)\n        callbacks = None\n    613         return self\n    614 \n    615     base_doc = LGBMModel.fit.__doc__\n    616     fit.__doc__ = (base_doc[:base_doc.find('eval_metric :')] +\n\n...........................................................................\nC:\\Users\\Usuario\\Anaconda3\\lib\\site-packages\\lightgbm\\sklearn.py in fit(self=LGBMRegressor(boosting_type='rf', colsample_bytr...subsample_for_bin=50000,\n       subsample_freq=1), X=         superficie        lat        lon  prope... True   True   False  \n\n[498269 rows x 9 columns], y=708612     415000.00\n708613     155000.00\n708614...   87000.00\nName: price_aprox_usd, dtype: float64, sample_weight=None, init_score=None, group=None, eval_set=None, eval_names=None, eval_sample_weight=None, eval_init_score=None, eval_group=None, eval_metric='l2', early_stopping_rounds=None, verbose=True, feature_name='auto', categorical_feature='auto', callbacks=None)\n    454                               self.n_estimators, valid_sets=valid_sets, valid_names=eval_names,\n    455                               early_stopping_rounds=early_stopping_rounds,\n    456                               evals_result=evals_result, fobj=self._fobj, feval=feval,\n    457                               verbose_eval=verbose, feature_name=feature_name,\n    458                               categorical_feature=categorical_feature,\n--> 459                               callbacks=callbacks)\n        callbacks = None\n    460 \n    461         if evals_result:\n    462             self._evals_result = evals_result\n    463 \n\n...........................................................................\nC:\\Users\\Usuario\\Anaconda3\\lib\\site-packages\\lightgbm\\engine.py in train(params={'boosting_type': 'rf', 'colsample_bytree': 1.0, 'learning_rate': 0.1, 'max_bin': 255, 'max_depth': -1, 'metric': 'l2', 'min_child_samples': 10, 'min_child_weight': 5, 'min_split_gain': 0.0, 'nthread': -1, ...}, train_set=<lightgbm.basic.Dataset object>, num_boost_round=10, valid_sets=[], valid_names=None, fobj=None, feval=None, init_model=None, feature_name='auto', categorical_feature='auto', early_stopping_rounds=None, evals_result={}, verbose_eval=True, learning_rates=None, keep_training_booster=False, callbacks={<function print_evaluation.<locals>.callback>, <function record_evaluation.<locals>.callback>})\n    173     callbacks_before_iter = sorted(callbacks_before_iter, key=attrgetter('order'))\n    174     callbacks_after_iter = sorted(callbacks_after_iter, key=attrgetter('order'))\n    175 \n    176     \"\"\"construct booster\"\"\"\n    177     try:\n--> 178         booster = Booster(params=params, train_set=train_set)\n        booster = undefined\n        params = {'boosting_type': 'rf', 'colsample_bytree': 1.0, 'learning_rate': 0.1, 'max_bin': 255, 'max_depth': -1, 'metric': 'l2', 'min_child_samples': 10, 'min_child_weight': 5, 'min_split_gain': 0.0, 'nthread': -1, ...}\n        train_set = <lightgbm.basic.Dataset object>\n    179         if is_valid_contain_train:\n    180             booster.set_train_data_name(train_data_name)\n    181         for valid_set, name_valid_set in zip(reduced_valid_sets, name_valid_sets):\n    182             booster.add_valid(valid_set, name_valid_set)\n\n...........................................................................\nC:\\Users\\Usuario\\Anaconda3\\lib\\site-packages\\lightgbm\\basic.py in __init__(self=<lightgbm.basic.Booster object>, params={'boosting_type': 'rf', 'colsample_bytree': 1.0, 'learning_rate': 0.1, 'max_bin': 255, 'max_depth': -1, 'metric': 'l2', 'min_child_samples': 10, 'min_child_weight': 5, 'min_split_gain': 0.0, 'nthread': -1, ...}, train_set=<lightgbm.basic.Dataset object>, model_file=None, silent=False)\n   1265             \"\"\"construct booster object\"\"\"\n   1266             self.handle = ctypes.c_void_p()\n   1267             _safe_call(_LIB.LGBM_BoosterCreate(\n   1268                 train_set.construct().handle,\n   1269                 c_str(params_str),\n-> 1270                 ctypes.byref(self.handle)))\n        self.handle = c_void_p(None)\n   1271             \"\"\"save reference to data\"\"\"\n   1272             self.train_set = train_set\n   1273             self.valid_sets = []\n   1274             self.name_valid_sets = []\n\n...........................................................................\nC:\\Users\\Usuario\\Anaconda3\\lib\\site-packages\\lightgbm\\basic.py in _safe_call(ret=-1)\n     43     ----------\n     44     ret : int\n     45         return value from API calls\n     46     \"\"\"\n     47     if ret != 0:\n---> 48         raise LightGBMError(_LIB.LGBM_GetLastError())\n     49 \n     50 \n     51 def is_numeric(obj):\n     52     \"\"\"Check is a number or not, include numpy number etc.\"\"\"\n\nLightGBMError: b'Check failed: config->bagging_freq > 0 && config->bagging_fraction < 1.0f && config->bagging_fraction > 0.0f at c:\\\\projects\\\\lightgbm\\\\python-package\\\\compile\\\\src\\\\boosting\\\\rf.hpp, line 29 .\\n'\n___________________________________________________________________________\n\"\"\"",
      "\nThe above exception was the direct cause of the following exception:\n",
      "\u001b[0;31mTransportableException\u001b[0m                    Traceback (most recent call last)",
      "\u001b[0;32mC:\\Users\\Usuario\\Anaconda3\\lib\\site-packages\\sklearn\\externals\\joblib\\parallel.py\u001b[0m in \u001b[0;36mretrieve\u001b[0;34m(self)\u001b[0m\n\u001b[1;32m    698\u001b[0m                 \u001b[1;32mif\u001b[0m \u001b[0mgetattr\u001b[0m\u001b[1;33m(\u001b[0m\u001b[0mself\u001b[0m\u001b[1;33m.\u001b[0m\u001b[0m_backend\u001b[0m\u001b[1;33m,\u001b[0m \u001b[1;34m'supports_timeout'\u001b[0m\u001b[1;33m,\u001b[0m \u001b[1;32mFalse\u001b[0m\u001b[1;33m)\u001b[0m\u001b[1;33m:\u001b[0m\u001b[1;33m\u001b[0m\u001b[0m\n\u001b[0;32m--> 699\u001b[0;31m                     \u001b[0mself\u001b[0m\u001b[1;33m.\u001b[0m\u001b[0m_output\u001b[0m\u001b[1;33m.\u001b[0m\u001b[0mextend\u001b[0m\u001b[1;33m(\u001b[0m\u001b[0mjob\u001b[0m\u001b[1;33m.\u001b[0m\u001b[0mget\u001b[0m\u001b[1;33m(\u001b[0m\u001b[0mtimeout\u001b[0m\u001b[1;33m=\u001b[0m\u001b[0mself\u001b[0m\u001b[1;33m.\u001b[0m\u001b[0mtimeout\u001b[0m\u001b[1;33m)\u001b[0m\u001b[1;33m)\u001b[0m\u001b[1;33m\u001b[0m\u001b[0m\n\u001b[0m\u001b[1;32m    700\u001b[0m                 \u001b[1;32melse\u001b[0m\u001b[1;33m:\u001b[0m\u001b[1;33m\u001b[0m\u001b[0m\n",
      "\u001b[0;32mC:\\Users\\Usuario\\Anaconda3\\lib\\multiprocessing\\pool.py\u001b[0m in \u001b[0;36mget\u001b[0;34m(self, timeout)\u001b[0m\n\u001b[1;32m    607\u001b[0m         \u001b[1;32melse\u001b[0m\u001b[1;33m:\u001b[0m\u001b[1;33m\u001b[0m\u001b[0m\n\u001b[0;32m--> 608\u001b[0;31m             \u001b[1;32mraise\u001b[0m \u001b[0mself\u001b[0m\u001b[1;33m.\u001b[0m\u001b[0m_value\u001b[0m\u001b[1;33m\u001b[0m\u001b[0m\n\u001b[0m\u001b[1;32m    609\u001b[0m \u001b[1;33m\u001b[0m\u001b[0m\n",
      "\u001b[0;31mTransportableException\u001b[0m: TransportableException\n___________________________________________________________________________\nLightGBMError                                      Sun Oct 29 14:12:09 2017\nPID: 7424               Python 3.5.2: C:\\Users\\Usuario\\Anaconda3\\python.exe\n...........................................................................\nC:\\Users\\Usuario\\Anaconda3\\lib\\site-packages\\sklearn\\externals\\joblib\\parallel.py in __call__(self=<sklearn.externals.joblib.parallel.BatchedCalls object>)\n    126     def __init__(self, iterator_slice):\n    127         self.items = list(iterator_slice)\n    128         self._size = len(self.items)\n    129 \n    130     def __call__(self):\n--> 131         return [func(*args, **kwargs) for func, args, kwargs in self.items]\n        self.items = [(<function _fit_and_score>, (LGBMRegressor(boosting_type='rf', colsample_bytr...subsample_for_bin=50000,\n       subsample_freq=1),          superficie        lat        lon  prope... True   True   False  \n\n[519031 rows x 9 columns], 677740     490000.00\n677741     810000.00\n677742...   87000.00\nName: price_aprox_usd, dtype: float64, {'score': <function _passthrough_scorer>}, memmap([ 20762,  20763,  20764, ..., 519028, 519029, 519030]), array([    0,     1,     2, ..., 20759, 20760, 20761]), 0, {'boosting_type': 'rf', 'learning_rate': 0.1, 'n_estimators': 10}), {'error_score': 'raise', 'fit_params': {}, 'return_n_test_samples': True, 'return_parameters': False, 'return_times': True, 'return_train_score': True})]\n    132 \n    133     def __len__(self):\n    134         return self._size\n    135 \n\n...........................................................................\nC:\\Users\\Usuario\\Anaconda3\\lib\\site-packages\\sklearn\\externals\\joblib\\parallel.py in <listcomp>(.0=<list_iterator object>)\n    126     def __init__(self, iterator_slice):\n    127         self.items = list(iterator_slice)\n    128         self._size = len(self.items)\n    129 \n    130     def __call__(self):\n--> 131         return [func(*args, **kwargs) for func, args, kwargs in self.items]\n        func = <function _fit_and_score>\n        args = (LGBMRegressor(boosting_type='rf', colsample_bytr...subsample_for_bin=50000,\n       subsample_freq=1),          superficie        lat        lon  prope... True   True   False  \n\n[519031 rows x 9 columns], 677740     490000.00\n677741     810000.00\n677742...   87000.00\nName: price_aprox_usd, dtype: float64, {'score': <function _passthrough_scorer>}, memmap([ 20762,  20763,  20764, ..., 519028, 519029, 519030]), array([    0,     1,     2, ..., 20759, 20760, 20761]), 0, {'boosting_type': 'rf', 'learning_rate': 0.1, 'n_estimators': 10})\n        kwargs = {'error_score': 'raise', 'fit_params': {}, 'return_n_test_samples': True, 'return_parameters': False, 'return_times': True, 'return_train_score': True}\n    132 \n    133     def __len__(self):\n    134         return self._size\n    135 \n\n...........................................................................\nC:\\Users\\Usuario\\Anaconda3\\lib\\site-packages\\sklearn\\model_selection\\_validation.py in _fit_and_score(estimator=LGBMRegressor(boosting_type='rf', colsample_bytr...subsample_for_bin=50000,\n       subsample_freq=1), X=         superficie        lat        lon  prope... True   True   False  \n\n[519031 rows x 9 columns], y=677740     490000.00\n677741     810000.00\n677742...   87000.00\nName: price_aprox_usd, dtype: float64, scorer={'score': <function _passthrough_scorer>}, train=memmap([ 20762,  20763,  20764, ..., 519028, 519029, 519030]), test=array([    0,     1,     2, ..., 20759, 20760, 20761]), verbose=0, parameters={'boosting_type': 'rf', 'learning_rate': 0.1, 'n_estimators': 10}, fit_params={}, return_train_score=True, return_parameters=False, return_n_test_samples=True, return_times=True, error_score='raise')\n    432 \n    433     try:\n    434         if y_train is None:\n    435             estimator.fit(X_train, **fit_params)\n    436         else:\n--> 437             estimator.fit(X_train, y_train, **fit_params)\n        estimator.fit = <bound method LGBMRegressor.fit of LGBMRegressor...ubsample_for_bin=50000,\n       subsample_freq=1)>\n        X_train =          superficie        lat        lon  prope... True   True   False  \n\n[498269 rows x 9 columns]\n        y_train = 708612     415000.00\n708613     155000.00\n708614...   87000.00\nName: price_aprox_usd, dtype: float64\n        fit_params = {}\n    438 \n    439     except Exception as e:\n    440         # Note fit time as time until error\n    441         fit_time = time.time() - start_time\n\n...........................................................................\nC:\\Users\\Usuario\\Anaconda3\\lib\\site-packages\\lightgbm\\sklearn.py in fit(self=LGBMRegressor(boosting_type='rf', colsample_bytr...subsample_for_bin=50000,\n       subsample_freq=1), X=         superficie        lat        lon  prope... True   True   False  \n\n[498269 rows x 9 columns], y=708612     415000.00\n708613     155000.00\n708614...   87000.00\nName: price_aprox_usd, dtype: float64, sample_weight=None, init_score=None, eval_set=None, eval_names=None, eval_sample_weight=None, eval_init_score=None, eval_metric='l2', early_stopping_rounds=None, verbose=True, feature_name='auto', categorical_feature='auto', callbacks=None)\n    607                                        eval_init_score=eval_init_score,\n    608                                        eval_metric=eval_metric,\n    609                                        early_stopping_rounds=early_stopping_rounds,\n    610                                        verbose=verbose, feature_name=feature_name,\n    611                                        categorical_feature=categorical_feature,\n--> 612                                        callbacks=callbacks)\n        callbacks = None\n    613         return self\n    614 \n    615     base_doc = LGBMModel.fit.__doc__\n    616     fit.__doc__ = (base_doc[:base_doc.find('eval_metric :')] +\n\n...........................................................................\nC:\\Users\\Usuario\\Anaconda3\\lib\\site-packages\\lightgbm\\sklearn.py in fit(self=LGBMRegressor(boosting_type='rf', colsample_bytr...subsample_for_bin=50000,\n       subsample_freq=1), X=         superficie        lat        lon  prope... True   True   False  \n\n[498269 rows x 9 columns], y=708612     415000.00\n708613     155000.00\n708614...   87000.00\nName: price_aprox_usd, dtype: float64, sample_weight=None, init_score=None, group=None, eval_set=None, eval_names=None, eval_sample_weight=None, eval_init_score=None, eval_group=None, eval_metric='l2', early_stopping_rounds=None, verbose=True, feature_name='auto', categorical_feature='auto', callbacks=None)\n    454                               self.n_estimators, valid_sets=valid_sets, valid_names=eval_names,\n    455                               early_stopping_rounds=early_stopping_rounds,\n    456                               evals_result=evals_result, fobj=self._fobj, feval=feval,\n    457                               verbose_eval=verbose, feature_name=feature_name,\n    458                               categorical_feature=categorical_feature,\n--> 459                               callbacks=callbacks)\n        callbacks = None\n    460 \n    461         if evals_result:\n    462             self._evals_result = evals_result\n    463 \n\n...........................................................................\nC:\\Users\\Usuario\\Anaconda3\\lib\\site-packages\\lightgbm\\engine.py in train(params={'boosting_type': 'rf', 'colsample_bytree': 1.0, 'learning_rate': 0.1, 'max_bin': 255, 'max_depth': -1, 'metric': 'l2', 'min_child_samples': 10, 'min_child_weight': 5, 'min_split_gain': 0.0, 'nthread': -1, ...}, train_set=<lightgbm.basic.Dataset object>, num_boost_round=10, valid_sets=[], valid_names=None, fobj=None, feval=None, init_model=None, feature_name='auto', categorical_feature='auto', early_stopping_rounds=None, evals_result={}, verbose_eval=True, learning_rates=None, keep_training_booster=False, callbacks={<function print_evaluation.<locals>.callback>, <function record_evaluation.<locals>.callback>})\n    173     callbacks_before_iter = sorted(callbacks_before_iter, key=attrgetter('order'))\n    174     callbacks_after_iter = sorted(callbacks_after_iter, key=attrgetter('order'))\n    175 \n    176     \"\"\"construct booster\"\"\"\n    177     try:\n--> 178         booster = Booster(params=params, train_set=train_set)\n        booster = undefined\n        params = {'boosting_type': 'rf', 'colsample_bytree': 1.0, 'learning_rate': 0.1, 'max_bin': 255, 'max_depth': -1, 'metric': 'l2', 'min_child_samples': 10, 'min_child_weight': 5, 'min_split_gain': 0.0, 'nthread': -1, ...}\n        train_set = <lightgbm.basic.Dataset object>\n    179         if is_valid_contain_train:\n    180             booster.set_train_data_name(train_data_name)\n    181         for valid_set, name_valid_set in zip(reduced_valid_sets, name_valid_sets):\n    182             booster.add_valid(valid_set, name_valid_set)\n\n...........................................................................\nC:\\Users\\Usuario\\Anaconda3\\lib\\site-packages\\lightgbm\\basic.py in __init__(self=<lightgbm.basic.Booster object>, params={'boosting_type': 'rf', 'colsample_bytree': 1.0, 'learning_rate': 0.1, 'max_bin': 255, 'max_depth': -1, 'metric': 'l2', 'min_child_samples': 10, 'min_child_weight': 5, 'min_split_gain': 0.0, 'nthread': -1, ...}, train_set=<lightgbm.basic.Dataset object>, model_file=None, silent=False)\n   1265             \"\"\"construct booster object\"\"\"\n   1266             self.handle = ctypes.c_void_p()\n   1267             _safe_call(_LIB.LGBM_BoosterCreate(\n   1268                 train_set.construct().handle,\n   1269                 c_str(params_str),\n-> 1270                 ctypes.byref(self.handle)))\n        self.handle = c_void_p(None)\n   1271             \"\"\"save reference to data\"\"\"\n   1272             self.train_set = train_set\n   1273             self.valid_sets = []\n   1274             self.name_valid_sets = []\n\n...........................................................................\nC:\\Users\\Usuario\\Anaconda3\\lib\\site-packages\\lightgbm\\basic.py in _safe_call(ret=-1)\n     43     ----------\n     44     ret : int\n     45         return value from API calls\n     46     \"\"\"\n     47     if ret != 0:\n---> 48         raise LightGBMError(_LIB.LGBM_GetLastError())\n     49 \n     50 \n     51 def is_numeric(obj):\n     52     \"\"\"Check is a number or not, include numpy number etc.\"\"\"\n\nLightGBMError: b'Check failed: config->bagging_freq > 0 && config->bagging_fraction < 1.0f && config->bagging_fraction > 0.0f at c:\\\\projects\\\\lightgbm\\\\python-package\\\\compile\\\\src\\\\boosting\\\\rf.hpp, line 29 .\\n'\n___________________________________________________________________________",
      "\nDuring handling of the above exception, another exception occurred:\n",
      "\u001b[0;31mJoblibLightGBMError\u001b[0m                       Traceback (most recent call last)",
      "\u001b[0;32m<ipython-input-7-febf5e4d777f>\u001b[0m in \u001b[0;36m<module>\u001b[0;34m()\u001b[0m\n\u001b[1;32m      3\u001b[0m \u001b[0mgrid\u001b[0m \u001b[1;33m=\u001b[0m \u001b[0mGridSearchCV\u001b[0m\u001b[1;33m(\u001b[0m \u001b[0mestimator\u001b[0m \u001b[1;33m=\u001b[0m \u001b[0mlgbm\u001b[0m\u001b[1;33m,\u001b[0m \u001b[0mparam_grid\u001b[0m \u001b[1;33m=\u001b[0m \u001b[0mparametros\u001b[0m\u001b[1;33m,\u001b[0m \u001b[0mn_jobs\u001b[0m \u001b[1;33m=\u001b[0m \u001b[1;33m-\u001b[0m\u001b[1;36m1\u001b[0m\u001b[1;33m,\u001b[0m \u001b[0mcv\u001b[0m \u001b[1;33m=\u001b[0m \u001b[0miteraciones_cross_validation\u001b[0m\u001b[1;33m)\u001b[0m\u001b[1;33m\u001b[0m\u001b[0m\n\u001b[1;32m      4\u001b[0m \u001b[1;33m\u001b[0m\u001b[0m\n\u001b[0;32m----> 5\u001b[0;31m \u001b[0mgrid\u001b[0m\u001b[1;33m.\u001b[0m\u001b[0mfit\u001b[0m\u001b[1;33m(\u001b[0m\u001b[0mset_entrenamiento_datos\u001b[0m\u001b[1;33m,\u001b[0m \u001b[0mset_entrenamiento_resultado\u001b[0m\u001b[1;33m)\u001b[0m\u001b[1;33m\u001b[0m\u001b[0m\n\u001b[0m\u001b[1;32m      6\u001b[0m \u001b[1;33m\u001b[0m\u001b[0m\n\u001b[1;32m      7\u001b[0m \u001b[0mscore\u001b[0m \u001b[1;33m=\u001b[0m \u001b[0mgrid\u001b[0m\u001b[1;33m.\u001b[0m\u001b[0mbest_score_\u001b[0m \u001b[1;33m*\u001b[0m \u001b[1;36m100\u001b[0m\u001b[1;33m\u001b[0m\u001b[0m\n",
      "\u001b[0;32mC:\\Users\\Usuario\\Anaconda3\\lib\\site-packages\\sklearn\\model_selection\\_search.py\u001b[0m in \u001b[0;36mfit\u001b[0;34m(self, X, y, groups, **fit_params)\u001b[0m\n\u001b[1;32m    636\u001b[0m                                   error_score=self.error_score)\n\u001b[1;32m    637\u001b[0m           for parameters, (train, test) in product(candidate_params,\n\u001b[0;32m--> 638\u001b[0;31m                                                    cv.split(X, y, groups)))\n\u001b[0m\u001b[1;32m    639\u001b[0m \u001b[1;33m\u001b[0m\u001b[0m\n\u001b[1;32m    640\u001b[0m         \u001b[1;31m# if one choose to see train score, \"out\" will contain train score info\u001b[0m\u001b[1;33m\u001b[0m\u001b[1;33m\u001b[0m\u001b[0m\n",
      "\u001b[0;32mC:\\Users\\Usuario\\Anaconda3\\lib\\site-packages\\sklearn\\externals\\joblib\\parallel.py\u001b[0m in \u001b[0;36m__call__\u001b[0;34m(self, iterable)\u001b[0m\n\u001b[1;32m    787\u001b[0m                 \u001b[1;31m# consumption.\u001b[0m\u001b[1;33m\u001b[0m\u001b[1;33m\u001b[0m\u001b[0m\n\u001b[1;32m    788\u001b[0m                 \u001b[0mself\u001b[0m\u001b[1;33m.\u001b[0m\u001b[0m_iterating\u001b[0m \u001b[1;33m=\u001b[0m \u001b[1;32mFalse\u001b[0m\u001b[1;33m\u001b[0m\u001b[0m\n\u001b[0;32m--> 789\u001b[0;31m             \u001b[0mself\u001b[0m\u001b[1;33m.\u001b[0m\u001b[0mretrieve\u001b[0m\u001b[1;33m(\u001b[0m\u001b[1;33m)\u001b[0m\u001b[1;33m\u001b[0m\u001b[0m\n\u001b[0m\u001b[1;32m    790\u001b[0m             \u001b[1;31m# Make sure that we get a last message telling us we are done\u001b[0m\u001b[1;33m\u001b[0m\u001b[1;33m\u001b[0m\u001b[0m\n\u001b[1;32m    791\u001b[0m             \u001b[0melapsed_time\u001b[0m \u001b[1;33m=\u001b[0m \u001b[0mtime\u001b[0m\u001b[1;33m.\u001b[0m\u001b[0mtime\u001b[0m\u001b[1;33m(\u001b[0m\u001b[1;33m)\u001b[0m \u001b[1;33m-\u001b[0m \u001b[0mself\u001b[0m\u001b[1;33m.\u001b[0m\u001b[0m_start_time\u001b[0m\u001b[1;33m\u001b[0m\u001b[0m\n",
      "\u001b[0;32mC:\\Users\\Usuario\\Anaconda3\\lib\\site-packages\\sklearn\\externals\\joblib\\parallel.py\u001b[0m in \u001b[0;36mretrieve\u001b[0;34m(self)\u001b[0m\n\u001b[1;32m    738\u001b[0m                     \u001b[0mexception\u001b[0m \u001b[1;33m=\u001b[0m \u001b[0mexception_type\u001b[0m\u001b[1;33m(\u001b[0m\u001b[0mreport\u001b[0m\u001b[1;33m)\u001b[0m\u001b[1;33m\u001b[0m\u001b[0m\n\u001b[1;32m    739\u001b[0m \u001b[1;33m\u001b[0m\u001b[0m\n\u001b[0;32m--> 740\u001b[0;31m                     \u001b[1;32mraise\u001b[0m \u001b[0mexception\u001b[0m\u001b[1;33m\u001b[0m\u001b[0m\n\u001b[0m\u001b[1;32m    741\u001b[0m \u001b[1;33m\u001b[0m\u001b[0m\n\u001b[1;32m    742\u001b[0m     \u001b[1;32mdef\u001b[0m \u001b[0m__call__\u001b[0m\u001b[1;33m(\u001b[0m\u001b[0mself\u001b[0m\u001b[1;33m,\u001b[0m \u001b[0miterable\u001b[0m\u001b[1;33m)\u001b[0m\u001b[1;33m:\u001b[0m\u001b[1;33m\u001b[0m\u001b[0m\n",
      "\u001b[0;31mJoblibLightGBMError\u001b[0m: JoblibLightGBMError\n___________________________________________________________________________\nMultiprocessing exception:\n...........................................................................\nC:\\Users\\Usuario\\Anaconda3\\lib\\runpy.py in _run_module_as_main(mod_name='ipykernel.__main__', alter_argv=1)\n    179         sys.exit(msg)\n    180     main_globals = sys.modules[\"__main__\"].__dict__\n    181     if alter_argv:\n    182         sys.argv[0] = mod_spec.origin\n    183     return _run_code(code, main_globals, None,\n--> 184                      \"__main__\", mod_spec)\n        mod_spec = ModuleSpec(name='ipykernel.__main__', loader=<_f...da3\\\\lib\\\\site-packages\\\\ipykernel\\\\__main__.py')\n    185 \n    186 def run_module(mod_name, init_globals=None,\n    187                run_name=None, alter_sys=False):\n    188     \"\"\"Execute a module's code without importing it\n\n...........................................................................\nC:\\Users\\Usuario\\Anaconda3\\lib\\runpy.py in _run_code(code=<code object <module> at 0x000000000128B930, fil...lib\\site-packages\\ipykernel\\__main__.py\", line 1>, run_globals={'__builtins__': <module 'builtins' (built-in)>, '__cached__': r'C:\\Users\\Usuario\\Anaconda3\\lib\\site-packages\\ipykernel\\__pycache__\\__main__.cpython-35.pyc', '__doc__': None, '__file__': r'C:\\Users\\Usuario\\Anaconda3\\lib\\site-packages\\ipykernel\\__main__.py', '__loader__': <_frozen_importlib_external.SourceFileLoader object>, '__name__': '__main__', '__package__': 'ipykernel', '__spec__': ModuleSpec(name='ipykernel.__main__', loader=<_f...da3\\\\lib\\\\site-packages\\\\ipykernel\\\\__main__.py'), 'app': <module 'ipykernel.kernelapp' from 'C:\\\\Users\\\\U...a3\\\\lib\\\\site-packages\\\\ipykernel\\\\kernelapp.py'>}, init_globals=None, mod_name='__main__', mod_spec=ModuleSpec(name='ipykernel.__main__', loader=<_f...da3\\\\lib\\\\site-packages\\\\ipykernel\\\\__main__.py'), pkg_name='ipykernel', script_name=None)\n     80                        __cached__ = cached,\n     81                        __doc__ = None,\n     82                        __loader__ = loader,\n     83                        __package__ = pkg_name,\n     84                        __spec__ = mod_spec)\n---> 85     exec(code, run_globals)\n        code = <code object <module> at 0x000000000128B930, fil...lib\\site-packages\\ipykernel\\__main__.py\", line 1>\n        run_globals = {'__builtins__': <module 'builtins' (built-in)>, '__cached__': r'C:\\Users\\Usuario\\Anaconda3\\lib\\site-packages\\ipykernel\\__pycache__\\__main__.cpython-35.pyc', '__doc__': None, '__file__': r'C:\\Users\\Usuario\\Anaconda3\\lib\\site-packages\\ipykernel\\__main__.py', '__loader__': <_frozen_importlib_external.SourceFileLoader object>, '__name__': '__main__', '__package__': 'ipykernel', '__spec__': ModuleSpec(name='ipykernel.__main__', loader=<_f...da3\\\\lib\\\\site-packages\\\\ipykernel\\\\__main__.py'), 'app': <module 'ipykernel.kernelapp' from 'C:\\\\Users\\\\U...a3\\\\lib\\\\site-packages\\\\ipykernel\\\\kernelapp.py'>}\n     86     return run_globals\n     87 \n     88 def _run_module_code(code, init_globals=None,\n     89                     mod_name=None, mod_spec=None,\n\n...........................................................................\nC:\\Users\\Usuario\\Anaconda3\\lib\\site-packages\\ipykernel\\__main__.py in <module>()\n      1 if __name__ == '__main__':\n      2     from ipykernel import kernelapp as app\n----> 3     app.launch_new_instance()\n\n...........................................................................\nC:\\Users\\Usuario\\Anaconda3\\lib\\site-packages\\traitlets\\config\\application.py in launch_instance(cls=<class 'ipykernel.kernelapp.IPKernelApp'>, argv=None, **kwargs={})\n    648 \n    649         If a global instance already exists, this reinitializes and starts it\n    650         \"\"\"\n    651         app = cls.instance(**kwargs)\n    652         app.initialize(argv)\n--> 653         app.start()\n        app.start = <bound method IPKernelApp.start of <ipykernel.kernelapp.IPKernelApp object>>\n    654 \n    655 #-----------------------------------------------------------------------------\n    656 # utility functions, for convenience\n    657 #-----------------------------------------------------------------------------\n\n...........................................................................\nC:\\Users\\Usuario\\Anaconda3\\lib\\site-packages\\ipykernel\\kernelapp.py in start(self=<ipykernel.kernelapp.IPKernelApp object>)\n    469             return self.subapp.start()\n    470         if self.poller is not None:\n    471             self.poller.start()\n    472         self.kernel.start()\n    473         try:\n--> 474             ioloop.IOLoop.instance().start()\n    475         except KeyboardInterrupt:\n    476             pass\n    477 \n    478 launch_new_instance = IPKernelApp.launch_instance\n\n...........................................................................\nC:\\Users\\Usuario\\Anaconda3\\lib\\site-packages\\zmq\\eventloop\\ioloop.py in start(self=<zmq.eventloop.ioloop.ZMQIOLoop object>)\n    157             PollIOLoop.configure(ZMQIOLoop)\n    158         return PollIOLoop.current(*args, **kwargs)\n    159     \n    160     def start(self):\n    161         try:\n--> 162             super(ZMQIOLoop, self).start()\n        self.start = <bound method ZMQIOLoop.start of <zmq.eventloop.ioloop.ZMQIOLoop object>>\n    163         except ZMQError as e:\n    164             if e.errno == ETERM:\n    165                 # quietly return on ETERM\n    166                 pass\n\n...........................................................................\nC:\\Users\\Usuario\\Anaconda3\\lib\\site-packages\\tornado\\ioloop.py in start(self=<zmq.eventloop.ioloop.ZMQIOLoop object>)\n    882                 self._events.update(event_pairs)\n    883                 while self._events:\n    884                     fd, events = self._events.popitem()\n    885                     try:\n    886                         fd_obj, handler_func = self._handlers[fd]\n--> 887                         handler_func(fd_obj, events)\n        handler_func = <function wrap.<locals>.null_wrapper>\n        fd_obj = <zmq.sugar.socket.Socket object>\n        events = 1\n    888                     except (OSError, IOError) as e:\n    889                         if errno_from_exception(e) == errno.EPIPE:\n    890                             # Happens when the client closes the connection\n    891                             pass\n\n...........................................................................\nC:\\Users\\Usuario\\Anaconda3\\lib\\site-packages\\tornado\\stack_context.py in null_wrapper(*args=(<zmq.sugar.socket.Socket object>, 1), **kwargs={})\n    270         # Fast path when there are no active contexts.\n    271         def null_wrapper(*args, **kwargs):\n    272             try:\n    273                 current_state = _state.contexts\n    274                 _state.contexts = cap_contexts[0]\n--> 275                 return fn(*args, **kwargs)\n        args = (<zmq.sugar.socket.Socket object>, 1)\n        kwargs = {}\n    276             finally:\n    277                 _state.contexts = current_state\n    278         null_wrapper._wrapped = True\n    279         return null_wrapper\n\n...........................................................................\nC:\\Users\\Usuario\\Anaconda3\\lib\\site-packages\\zmq\\eventloop\\zmqstream.py in _handle_events(self=<zmq.eventloop.zmqstream.ZMQStream object>, fd=<zmq.sugar.socket.Socket object>, events=1)\n    435             # dispatch events:\n    436             if events & IOLoop.ERROR:\n    437                 gen_log.error(\"got POLLERR event on ZMQStream, which doesn't make sense\")\n    438                 return\n    439             if events & IOLoop.READ:\n--> 440                 self._handle_recv()\n        self._handle_recv = <bound method ZMQStream._handle_recv of <zmq.eventloop.zmqstream.ZMQStream object>>\n    441                 if not self.socket:\n    442                     return\n    443             if events & IOLoop.WRITE:\n    444                 self._handle_send()\n\n...........................................................................\nC:\\Users\\Usuario\\Anaconda3\\lib\\site-packages\\zmq\\eventloop\\zmqstream.py in _handle_recv(self=<zmq.eventloop.zmqstream.ZMQStream object>)\n    467                 gen_log.error(\"RECV Error: %s\"%zmq.strerror(e.errno))\n    468         else:\n    469             if self._recv_callback:\n    470                 callback = self._recv_callback\n    471                 # self._recv_callback = None\n--> 472                 self._run_callback(callback, msg)\n        self._run_callback = <bound method ZMQStream._run_callback of <zmq.eventloop.zmqstream.ZMQStream object>>\n        callback = <function wrap.<locals>.null_wrapper>\n        msg = [<zmq.sugar.frame.Frame object>, <zmq.sugar.frame.Frame object>, <zmq.sugar.frame.Frame object>, <zmq.sugar.frame.Frame object>, <zmq.sugar.frame.Frame object>, <zmq.sugar.frame.Frame object>, <zmq.sugar.frame.Frame object>]\n    473                 \n    474         # self.update_state()\n    475         \n    476 \n\n...........................................................................\nC:\\Users\\Usuario\\Anaconda3\\lib\\site-packages\\zmq\\eventloop\\zmqstream.py in _run_callback(self=<zmq.eventloop.zmqstream.ZMQStream object>, callback=<function wrap.<locals>.null_wrapper>, *args=([<zmq.sugar.frame.Frame object>, <zmq.sugar.frame.Frame object>, <zmq.sugar.frame.Frame object>, <zmq.sugar.frame.Frame object>, <zmq.sugar.frame.Frame object>, <zmq.sugar.frame.Frame object>, <zmq.sugar.frame.Frame object>],), **kwargs={})\n    409         close our socket.\"\"\"\n    410         try:\n    411             # Use a NullContext to ensure that all StackContexts are run\n    412             # inside our blanket exception handler rather than outside.\n    413             with stack_context.NullContext():\n--> 414                 callback(*args, **kwargs)\n        callback = <function wrap.<locals>.null_wrapper>\n        args = ([<zmq.sugar.frame.Frame object>, <zmq.sugar.frame.Frame object>, <zmq.sugar.frame.Frame object>, <zmq.sugar.frame.Frame object>, <zmq.sugar.frame.Frame object>, <zmq.sugar.frame.Frame object>, <zmq.sugar.frame.Frame object>],)\n        kwargs = {}\n    415         except:\n    416             gen_log.error(\"Uncaught exception, closing connection.\",\n    417                           exc_info=True)\n    418             # Close the socket on an uncaught exception from a user callback\n\n...........................................................................\nC:\\Users\\Usuario\\Anaconda3\\lib\\site-packages\\tornado\\stack_context.py in null_wrapper(*args=([<zmq.sugar.frame.Frame object>, <zmq.sugar.frame.Frame object>, <zmq.sugar.frame.Frame object>, <zmq.sugar.frame.Frame object>, <zmq.sugar.frame.Frame object>, <zmq.sugar.frame.Frame object>, <zmq.sugar.frame.Frame object>],), **kwargs={})\n    270         # Fast path when there are no active contexts.\n    271         def null_wrapper(*args, **kwargs):\n    272             try:\n    273                 current_state = _state.contexts\n    274                 _state.contexts = cap_contexts[0]\n--> 275                 return fn(*args, **kwargs)\n        args = ([<zmq.sugar.frame.Frame object>, <zmq.sugar.frame.Frame object>, <zmq.sugar.frame.Frame object>, <zmq.sugar.frame.Frame object>, <zmq.sugar.frame.Frame object>, <zmq.sugar.frame.Frame object>, <zmq.sugar.frame.Frame object>],)\n        kwargs = {}\n    276             finally:\n    277                 _state.contexts = current_state\n    278         null_wrapper._wrapped = True\n    279         return null_wrapper\n\n...........................................................................\nC:\\Users\\Usuario\\Anaconda3\\lib\\site-packages\\ipykernel\\kernelbase.py in dispatcher(msg=[<zmq.sugar.frame.Frame object>, <zmq.sugar.frame.Frame object>, <zmq.sugar.frame.Frame object>, <zmq.sugar.frame.Frame object>, <zmq.sugar.frame.Frame object>, <zmq.sugar.frame.Frame object>, <zmq.sugar.frame.Frame object>])\n    271         if self.control_stream:\n    272             self.control_stream.on_recv(self.dispatch_control, copy=False)\n    273 \n    274         def make_dispatcher(stream):\n    275             def dispatcher(msg):\n--> 276                 return self.dispatch_shell(stream, msg)\n        msg = [<zmq.sugar.frame.Frame object>, <zmq.sugar.frame.Frame object>, <zmq.sugar.frame.Frame object>, <zmq.sugar.frame.Frame object>, <zmq.sugar.frame.Frame object>, <zmq.sugar.frame.Frame object>, <zmq.sugar.frame.Frame object>]\n    277             return dispatcher\n    278 \n    279         for s in self.shell_streams:\n    280             s.on_recv(make_dispatcher(s), copy=False)\n\n...........................................................................\nC:\\Users\\Usuario\\Anaconda3\\lib\\site-packages\\ipykernel\\kernelbase.py in dispatch_shell(self=<ipykernel.ipkernel.IPythonKernel object>, stream=<zmq.eventloop.zmqstream.ZMQStream object>, msg={'buffers': [], 'content': {'allow_stdin': True, 'code': 'inicio = time.strftime(\"%X\")\\n\\ngrid = GridSearchC... {}\".format(inicio,fin,score,mejores_parametros))', 'silent': False, 'stop_on_error': True, 'store_history': True, 'user_expressions': {}}, 'header': {'date': '2017-10-29T12:52:10.563776', 'msg_id': '05455D3843714B4B90FB773940CD6149', 'msg_type': 'execute_request', 'session': '7D3FC2E10E5C48FDBF6C3316C2BBF837', 'username': 'username', 'version': '5.0'}, 'metadata': {}, 'msg_id': '05455D3843714B4B90FB773940CD6149', 'msg_type': 'execute_request', 'parent_header': {}})\n    223             self.log.error(\"UNKNOWN MESSAGE TYPE: %r\", msg_type)\n    224         else:\n    225             self.log.debug(\"%s: %s\", msg_type, msg)\n    226             self.pre_handler_hook()\n    227             try:\n--> 228                 handler(stream, idents, msg)\n        handler = <bound method Kernel.execute_request of <ipykernel.ipkernel.IPythonKernel object>>\n        stream = <zmq.eventloop.zmqstream.ZMQStream object>\n        idents = [b'7D3FC2E10E5C48FDBF6C3316C2BBF837']\n        msg = {'buffers': [], 'content': {'allow_stdin': True, 'code': 'inicio = time.strftime(\"%X\")\\n\\ngrid = GridSearchC... {}\".format(inicio,fin,score,mejores_parametros))', 'silent': False, 'stop_on_error': True, 'store_history': True, 'user_expressions': {}}, 'header': {'date': '2017-10-29T12:52:10.563776', 'msg_id': '05455D3843714B4B90FB773940CD6149', 'msg_type': 'execute_request', 'session': '7D3FC2E10E5C48FDBF6C3316C2BBF837', 'username': 'username', 'version': '5.0'}, 'metadata': {}, 'msg_id': '05455D3843714B4B90FB773940CD6149', 'msg_type': 'execute_request', 'parent_header': {}}\n    229             except Exception:\n    230                 self.log.error(\"Exception in message handler:\", exc_info=True)\n    231             finally:\n    232                 self.post_handler_hook()\n\n...........................................................................\nC:\\Users\\Usuario\\Anaconda3\\lib\\site-packages\\ipykernel\\kernelbase.py in execute_request(self=<ipykernel.ipkernel.IPythonKernel object>, stream=<zmq.eventloop.zmqstream.ZMQStream object>, ident=[b'7D3FC2E10E5C48FDBF6C3316C2BBF837'], parent={'buffers': [], 'content': {'allow_stdin': True, 'code': 'inicio = time.strftime(\"%X\")\\n\\ngrid = GridSearchC... {}\".format(inicio,fin,score,mejores_parametros))', 'silent': False, 'stop_on_error': True, 'store_history': True, 'user_expressions': {}}, 'header': {'date': '2017-10-29T12:52:10.563776', 'msg_id': '05455D3843714B4B90FB773940CD6149', 'msg_type': 'execute_request', 'session': '7D3FC2E10E5C48FDBF6C3316C2BBF837', 'username': 'username', 'version': '5.0'}, 'metadata': {}, 'msg_id': '05455D3843714B4B90FB773940CD6149', 'msg_type': 'execute_request', 'parent_header': {}})\n    385         if not silent:\n    386             self.execution_count += 1\n    387             self._publish_execute_input(code, parent, self.execution_count)\n    388 \n    389         reply_content = self.do_execute(code, silent, store_history,\n--> 390                                         user_expressions, allow_stdin)\n        user_expressions = {}\n        allow_stdin = True\n    391 \n    392         # Flush output before sending the reply.\n    393         sys.stdout.flush()\n    394         sys.stderr.flush()\n\n...........................................................................\nC:\\Users\\Usuario\\Anaconda3\\lib\\site-packages\\ipykernel\\ipkernel.py in do_execute(self=<ipykernel.ipkernel.IPythonKernel object>, code='inicio = time.strftime(\"%X\")\\n\\ngrid = GridSearchC... {}\".format(inicio,fin,score,mejores_parametros))', silent=False, store_history=True, user_expressions={}, allow_stdin=True)\n    191 \n    192         self._forward_input(allow_stdin)\n    193 \n    194         reply_content = {}\n    195         try:\n--> 196             res = shell.run_cell(code, store_history=store_history, silent=silent)\n        res = undefined\n        shell.run_cell = <bound method ZMQInteractiveShell.run_cell of <ipykernel.zmqshell.ZMQInteractiveShell object>>\n        code = 'inicio = time.strftime(\"%X\")\\n\\ngrid = GridSearchC... {}\".format(inicio,fin,score,mejores_parametros))'\n        store_history = True\n        silent = False\n    197         finally:\n    198             self._restore_input()\n    199 \n    200         if res.error_before_exec is not None:\n\n...........................................................................\nC:\\Users\\Usuario\\Anaconda3\\lib\\site-packages\\ipykernel\\zmqshell.py in run_cell(self=<ipykernel.zmqshell.ZMQInteractiveShell object>, *args=('inicio = time.strftime(\"%X\")\\n\\ngrid = GridSearchC... {}\".format(inicio,fin,score,mejores_parametros))',), **kwargs={'silent': False, 'store_history': True})\n    496             )\n    497         self.payload_manager.write_payload(payload)\n    498 \n    499     def run_cell(self, *args, **kwargs):\n    500         self._last_traceback = None\n--> 501         return super(ZMQInteractiveShell, self).run_cell(*args, **kwargs)\n        self.run_cell = <bound method ZMQInteractiveShell.run_cell of <ipykernel.zmqshell.ZMQInteractiveShell object>>\n        args = ('inicio = time.strftime(\"%X\")\\n\\ngrid = GridSearchC... {}\".format(inicio,fin,score,mejores_parametros))',)\n        kwargs = {'silent': False, 'store_history': True}\n    502 \n    503     def _showtraceback(self, etype, evalue, stb):\n    504         # try to preserve ordering of tracebacks and print statements\n    505         sys.stdout.flush()\n\n...........................................................................\nC:\\Users\\Usuario\\Anaconda3\\lib\\site-packages\\IPython\\core\\interactiveshell.py in run_cell(self=<ipykernel.zmqshell.ZMQInteractiveShell object>, raw_cell='inicio = time.strftime(\"%X\")\\n\\ngrid = GridSearchC... {}\".format(inicio,fin,score,mejores_parametros))', store_history=True, silent=False, shell_futures=True)\n   2712                 self.displayhook.exec_result = result\n   2713 \n   2714                 # Execute the user code\n   2715                 interactivity = \"none\" if silent else self.ast_node_interactivity\n   2716                 has_raised = self.run_ast_nodes(code_ast.body, cell_name,\n-> 2717                    interactivity=interactivity, compiler=compiler, result=result)\n        interactivity = 'last_expr'\n        compiler = <IPython.core.compilerop.CachingCompiler object>\n   2718                 \n   2719                 self.last_execution_succeeded = not has_raised\n   2720 \n   2721                 # Reset this so later displayed values do not modify the\n\n...........................................................................\nC:\\Users\\Usuario\\Anaconda3\\lib\\site-packages\\IPython\\core\\interactiveshell.py in run_ast_nodes(self=<ipykernel.zmqshell.ZMQInteractiveShell object>, nodelist=[<_ast.Assign object>, <_ast.Assign object>, <_ast.Expr object>, <_ast.Assign object>, <_ast.Assign object>, <_ast.Assign object>, <_ast.Expr object>], cell_name='<ipython-input-7-febf5e4d777f>', interactivity='last', compiler=<IPython.core.compilerop.CachingCompiler object>, result=<ExecutionResult object at 7aed358, execution_co..._before_exec=None error_in_exec=None result=None>)\n   2816 \n   2817         try:\n   2818             for i, node in enumerate(to_run_exec):\n   2819                 mod = ast.Module([node])\n   2820                 code = compiler(mod, cell_name, \"exec\")\n-> 2821                 if self.run_code(code, result):\n        self.run_code = <bound method InteractiveShell.run_code of <ipykernel.zmqshell.ZMQInteractiveShell object>>\n        code = <code object <module> at 0x0000000004BE7780, file \"<ipython-input-7-febf5e4d777f>\", line 5>\n        result = <ExecutionResult object at 7aed358, execution_co..._before_exec=None error_in_exec=None result=None>\n   2822                     return True\n   2823 \n   2824             for i, node in enumerate(to_run_interactive):\n   2825                 mod = ast.Interactive([node])\n\n...........................................................................\nC:\\Users\\Usuario\\Anaconda3\\lib\\site-packages\\IPython\\core\\interactiveshell.py in run_code(self=<ipykernel.zmqshell.ZMQInteractiveShell object>, code_obj=<code object <module> at 0x0000000004BE7780, file \"<ipython-input-7-febf5e4d777f>\", line 5>, result=<ExecutionResult object at 7aed358, execution_co..._before_exec=None error_in_exec=None result=None>)\n   2876         outflag = 1  # happens in more places, so it's easier as default\n   2877         try:\n   2878             try:\n   2879                 self.hooks.pre_run_code_hook()\n   2880                 #rprint('Running code', repr(code_obj)) # dbg\n-> 2881                 exec(code_obj, self.user_global_ns, self.user_ns)\n        code_obj = <code object <module> at 0x0000000004BE7780, file \"<ipython-input-7-febf5e4d777f>\", line 5>\n        self.user_global_ns = {'GridSearchCV': <class 'sklearn.model_selection._search.GridSearchCV'>, 'In': ['', 'import pandas as pd\\nimport numpy as np\\nfrom skle....readthedocs.io/en/latest/Installation-Guide.html', 'import pandas as pd\\nimport numpy as np\\nfrom skle....readthedocs.io/en/latest/Installation-Guide.html', \"#propiedades = pd.read_csv('/home/agustin/Escrit... = pd.read_csv('../../set_datos_propiedades.csv')\", 'propiedades.head()', \"propiedades = propiedades.loc[(propiedades.price..._resultado = propiedades.loc[:,'price_aprox_usd']\", \"boosting = ['gbdt', 'dart', 'goss', 'rf']\\nestima..._cross_validation = 25\\nlgbm = lgb.LGBMRegressor()\", 'inicio = time.strftime(\"%X\")\\n\\ngrid = GridSearchC... {}\".format(inicio,fin,score,mejores_parametros))'], 'Out': {4:   description  expenses fecha_de_publicacion    ... \n3                 465  \n4                 629  }, '_':   description  expenses fecha_de_publicacion    ... \n3                 465  \n4                 629  , '_4':   description  expenses fecha_de_publicacion    ... \n3                 465  \n4                 629  , '__': '', '___': '', '__builtin__': <module 'builtins' (built-in)>, '__builtins__': <module 'builtins' (built-in)>, '__doc__': 'Automatically created module for IPython interactive environment', ...}\n        self.user_ns = {'GridSearchCV': <class 'sklearn.model_selection._search.GridSearchCV'>, 'In': ['', 'import pandas as pd\\nimport numpy as np\\nfrom skle....readthedocs.io/en/latest/Installation-Guide.html', 'import pandas as pd\\nimport numpy as np\\nfrom skle....readthedocs.io/en/latest/Installation-Guide.html', \"#propiedades = pd.read_csv('/home/agustin/Escrit... = pd.read_csv('../../set_datos_propiedades.csv')\", 'propiedades.head()', \"propiedades = propiedades.loc[(propiedades.price..._resultado = propiedades.loc[:,'price_aprox_usd']\", \"boosting = ['gbdt', 'dart', 'goss', 'rf']\\nestima..._cross_validation = 25\\nlgbm = lgb.LGBMRegressor()\", 'inicio = time.strftime(\"%X\")\\n\\ngrid = GridSearchC... {}\".format(inicio,fin,score,mejores_parametros))'], 'Out': {4:   description  expenses fecha_de_publicacion    ... \n3                 465  \n4                 629  }, '_':   description  expenses fecha_de_publicacion    ... \n3                 465  \n4                 629  , '_4':   description  expenses fecha_de_publicacion    ... \n3                 465  \n4                 629  , '__': '', '___': '', '__builtin__': <module 'builtins' (built-in)>, '__builtins__': <module 'builtins' (built-in)>, '__doc__': 'Automatically created module for IPython interactive environment', ...}\n   2882             finally:\n   2883                 # Reset our crash handler in place\n   2884                 sys.excepthook = old_excepthook\n   2885         except SystemExit as e:\n\n...........................................................................\nC:\\Users\\Usuario\\Desktop\\Organizacion de datos\\tpDatos\\tp2\\<ipython-input-7-febf5e4d777f> in <module>()\n      1 inicio = time.strftime(\"%X\")\n      2 \n      3 grid = GridSearchCV( estimator = lgbm, param_grid = parametros, n_jobs = -1, cv = iteraciones_cross_validation)\n      4 \n----> 5 grid.fit(set_entrenamiento_datos, set_entrenamiento_resultado)\n      6 \n      7 score = grid.best_score_ * 100\n      8 mejores_parametros = grid.best_params_\n      9 fin = time.strftime(\"%X\")\n     10 \n\n...........................................................................\nC:\\Users\\Usuario\\Anaconda3\\lib\\site-packages\\sklearn\\model_selection\\_search.py in fit(self=GridSearchCV(cv=25, error_score='raise',\n       ...train_score=True,\n       scoring=None, verbose=0), X=         superficie        lat        lon  prope... True   True   False  \n\n[519031 rows x 9 columns], y=677740     490000.00\n677741     810000.00\n677742...   87000.00\nName: price_aprox_usd, dtype: float64, groups=None, **fit_params={})\n    633                                   return_train_score=self.return_train_score,\n    634                                   return_n_test_samples=True,\n    635                                   return_times=True, return_parameters=False,\n    636                                   error_score=self.error_score)\n    637           for parameters, (train, test) in product(candidate_params,\n--> 638                                                    cv.split(X, y, groups)))\n        cv.split = <bound method _BaseKFold.split of KFold(n_splits=25, random_state=None, shuffle=False)>\n        X =          superficie        lat        lon  prope... True   True   False  \n\n[519031 rows x 9 columns]\n        y = 677740     490000.00\n677741     810000.00\n677742...   87000.00\nName: price_aprox_usd, dtype: float64\n        groups = None\n    639 \n    640         # if one choose to see train score, \"out\" will contain train score info\n    641         if self.return_train_score:\n    642             (train_score_dicts, test_score_dicts, test_sample_counts, fit_time,\n\n...........................................................................\nC:\\Users\\Usuario\\Anaconda3\\lib\\site-packages\\sklearn\\externals\\joblib\\parallel.py in __call__(self=Parallel(n_jobs=-1), iterable=<generator object BaseSearchCV.fit.<locals>.<genexpr>>)\n    784             if pre_dispatch == \"all\" or n_jobs == 1:\n    785                 # The iterable was consumed all at once by the above for loop.\n    786                 # No need to wait for async callbacks to trigger to\n    787                 # consumption.\n    788                 self._iterating = False\n--> 789             self.retrieve()\n        self.retrieve = <bound method Parallel.retrieve of Parallel(n_jobs=-1)>\n    790             # Make sure that we get a last message telling us we are done\n    791             elapsed_time = time.time() - self._start_time\n    792             self._print('Done %3i out of %3i | elapsed: %s finished',\n    793                         (len(self._output), len(self._output),\n\n---------------------------------------------------------------------------\nSub-process traceback:\n---------------------------------------------------------------------------\nLightGBMError                                      Sun Oct 29 14:12:09 2017\nPID: 7424               Python 3.5.2: C:\\Users\\Usuario\\Anaconda3\\python.exe\n...........................................................................\nC:\\Users\\Usuario\\Anaconda3\\lib\\site-packages\\sklearn\\externals\\joblib\\parallel.py in __call__(self=<sklearn.externals.joblib.parallel.BatchedCalls object>)\n    126     def __init__(self, iterator_slice):\n    127         self.items = list(iterator_slice)\n    128         self._size = len(self.items)\n    129 \n    130     def __call__(self):\n--> 131         return [func(*args, **kwargs) for func, args, kwargs in self.items]\n        self.items = [(<function _fit_and_score>, (LGBMRegressor(boosting_type='rf', colsample_bytr...subsample_for_bin=50000,\n       subsample_freq=1),          superficie        lat        lon  prope... True   True   False  \n\n[519031 rows x 9 columns], 677740     490000.00\n677741     810000.00\n677742...   87000.00\nName: price_aprox_usd, dtype: float64, {'score': <function _passthrough_scorer>}, memmap([ 20762,  20763,  20764, ..., 519028, 519029, 519030]), array([    0,     1,     2, ..., 20759, 20760, 20761]), 0, {'boosting_type': 'rf', 'learning_rate': 0.1, 'n_estimators': 10}), {'error_score': 'raise', 'fit_params': {}, 'return_n_test_samples': True, 'return_parameters': False, 'return_times': True, 'return_train_score': True})]\n    132 \n    133     def __len__(self):\n    134         return self._size\n    135 \n\n...........................................................................\nC:\\Users\\Usuario\\Anaconda3\\lib\\site-packages\\sklearn\\externals\\joblib\\parallel.py in <listcomp>(.0=<list_iterator object>)\n    126     def __init__(self, iterator_slice):\n    127         self.items = list(iterator_slice)\n    128         self._size = len(self.items)\n    129 \n    130     def __call__(self):\n--> 131         return [func(*args, **kwargs) for func, args, kwargs in self.items]\n        func = <function _fit_and_score>\n        args = (LGBMRegressor(boosting_type='rf', colsample_bytr...subsample_for_bin=50000,\n       subsample_freq=1),          superficie        lat        lon  prope... True   True   False  \n\n[519031 rows x 9 columns], 677740     490000.00\n677741     810000.00\n677742...   87000.00\nName: price_aprox_usd, dtype: float64, {'score': <function _passthrough_scorer>}, memmap([ 20762,  20763,  20764, ..., 519028, 519029, 519030]), array([    0,     1,     2, ..., 20759, 20760, 20761]), 0, {'boosting_type': 'rf', 'learning_rate': 0.1, 'n_estimators': 10})\n        kwargs = {'error_score': 'raise', 'fit_params': {}, 'return_n_test_samples': True, 'return_parameters': False, 'return_times': True, 'return_train_score': True}\n    132 \n    133     def __len__(self):\n    134         return self._size\n    135 \n\n...........................................................................\nC:\\Users\\Usuario\\Anaconda3\\lib\\site-packages\\sklearn\\model_selection\\_validation.py in _fit_and_score(estimator=LGBMRegressor(boosting_type='rf', colsample_bytr...subsample_for_bin=50000,\n       subsample_freq=1), X=         superficie        lat        lon  prope... True   True   False  \n\n[519031 rows x 9 columns], y=677740     490000.00\n677741     810000.00\n677742...   87000.00\nName: price_aprox_usd, dtype: float64, scorer={'score': <function _passthrough_scorer>}, train=memmap([ 20762,  20763,  20764, ..., 519028, 519029, 519030]), test=array([    0,     1,     2, ..., 20759, 20760, 20761]), verbose=0, parameters={'boosting_type': 'rf', 'learning_rate': 0.1, 'n_estimators': 10}, fit_params={}, return_train_score=True, return_parameters=False, return_n_test_samples=True, return_times=True, error_score='raise')\n    432 \n    433     try:\n    434         if y_train is None:\n    435             estimator.fit(X_train, **fit_params)\n    436         else:\n--> 437             estimator.fit(X_train, y_train, **fit_params)\n        estimator.fit = <bound method LGBMRegressor.fit of LGBMRegressor...ubsample_for_bin=50000,\n       subsample_freq=1)>\n        X_train =          superficie        lat        lon  prope... True   True   False  \n\n[498269 rows x 9 columns]\n        y_train = 708612     415000.00\n708613     155000.00\n708614...   87000.00\nName: price_aprox_usd, dtype: float64\n        fit_params = {}\n    438 \n    439     except Exception as e:\n    440         # Note fit time as time until error\n    441         fit_time = time.time() - start_time\n\n...........................................................................\nC:\\Users\\Usuario\\Anaconda3\\lib\\site-packages\\lightgbm\\sklearn.py in fit(self=LGBMRegressor(boosting_type='rf', colsample_bytr...subsample_for_bin=50000,\n       subsample_freq=1), X=         superficie        lat        lon  prope... True   True   False  \n\n[498269 rows x 9 columns], y=708612     415000.00\n708613     155000.00\n708614...   87000.00\nName: price_aprox_usd, dtype: float64, sample_weight=None, init_score=None, eval_set=None, eval_names=None, eval_sample_weight=None, eval_init_score=None, eval_metric='l2', early_stopping_rounds=None, verbose=True, feature_name='auto', categorical_feature='auto', callbacks=None)\n    607                                        eval_init_score=eval_init_score,\n    608                                        eval_metric=eval_metric,\n    609                                        early_stopping_rounds=early_stopping_rounds,\n    610                                        verbose=verbose, feature_name=feature_name,\n    611                                        categorical_feature=categorical_feature,\n--> 612                                        callbacks=callbacks)\n        callbacks = None\n    613         return self\n    614 \n    615     base_doc = LGBMModel.fit.__doc__\n    616     fit.__doc__ = (base_doc[:base_doc.find('eval_metric :')] +\n\n...........................................................................\nC:\\Users\\Usuario\\Anaconda3\\lib\\site-packages\\lightgbm\\sklearn.py in fit(self=LGBMRegressor(boosting_type='rf', colsample_bytr...subsample_for_bin=50000,\n       subsample_freq=1), X=         superficie        lat        lon  prope... True   True   False  \n\n[498269 rows x 9 columns], y=708612     415000.00\n708613     155000.00\n708614...   87000.00\nName: price_aprox_usd, dtype: float64, sample_weight=None, init_score=None, group=None, eval_set=None, eval_names=None, eval_sample_weight=None, eval_init_score=None, eval_group=None, eval_metric='l2', early_stopping_rounds=None, verbose=True, feature_name='auto', categorical_feature='auto', callbacks=None)\n    454                               self.n_estimators, valid_sets=valid_sets, valid_names=eval_names,\n    455                               early_stopping_rounds=early_stopping_rounds,\n    456                               evals_result=evals_result, fobj=self._fobj, feval=feval,\n    457                               verbose_eval=verbose, feature_name=feature_name,\n    458                               categorical_feature=categorical_feature,\n--> 459                               callbacks=callbacks)\n        callbacks = None\n    460 \n    461         if evals_result:\n    462             self._evals_result = evals_result\n    463 \n\n...........................................................................\nC:\\Users\\Usuario\\Anaconda3\\lib\\site-packages\\lightgbm\\engine.py in train(params={'boosting_type': 'rf', 'colsample_bytree': 1.0, 'learning_rate': 0.1, 'max_bin': 255, 'max_depth': -1, 'metric': 'l2', 'min_child_samples': 10, 'min_child_weight': 5, 'min_split_gain': 0.0, 'nthread': -1, ...}, train_set=<lightgbm.basic.Dataset object>, num_boost_round=10, valid_sets=[], valid_names=None, fobj=None, feval=None, init_model=None, feature_name='auto', categorical_feature='auto', early_stopping_rounds=None, evals_result={}, verbose_eval=True, learning_rates=None, keep_training_booster=False, callbacks={<function print_evaluation.<locals>.callback>, <function record_evaluation.<locals>.callback>})\n    173     callbacks_before_iter = sorted(callbacks_before_iter, key=attrgetter('order'))\n    174     callbacks_after_iter = sorted(callbacks_after_iter, key=attrgetter('order'))\n    175 \n    176     \"\"\"construct booster\"\"\"\n    177     try:\n--> 178         booster = Booster(params=params, train_set=train_set)\n        booster = undefined\n        params = {'boosting_type': 'rf', 'colsample_bytree': 1.0, 'learning_rate': 0.1, 'max_bin': 255, 'max_depth': -1, 'metric': 'l2', 'min_child_samples': 10, 'min_child_weight': 5, 'min_split_gain': 0.0, 'nthread': -1, ...}\n        train_set = <lightgbm.basic.Dataset object>\n    179         if is_valid_contain_train:\n    180             booster.set_train_data_name(train_data_name)\n    181         for valid_set, name_valid_set in zip(reduced_valid_sets, name_valid_sets):\n    182             booster.add_valid(valid_set, name_valid_set)\n\n...........................................................................\nC:\\Users\\Usuario\\Anaconda3\\lib\\site-packages\\lightgbm\\basic.py in __init__(self=<lightgbm.basic.Booster object>, params={'boosting_type': 'rf', 'colsample_bytree': 1.0, 'learning_rate': 0.1, 'max_bin': 255, 'max_depth': -1, 'metric': 'l2', 'min_child_samples': 10, 'min_child_weight': 5, 'min_split_gain': 0.0, 'nthread': -1, ...}, train_set=<lightgbm.basic.Dataset object>, model_file=None, silent=False)\n   1265             \"\"\"construct booster object\"\"\"\n   1266             self.handle = ctypes.c_void_p()\n   1267             _safe_call(_LIB.LGBM_BoosterCreate(\n   1268                 train_set.construct().handle,\n   1269                 c_str(params_str),\n-> 1270                 ctypes.byref(self.handle)))\n        self.handle = c_void_p(None)\n   1271             \"\"\"save reference to data\"\"\"\n   1272             self.train_set = train_set\n   1273             self.valid_sets = []\n   1274             self.name_valid_sets = []\n\n...........................................................................\nC:\\Users\\Usuario\\Anaconda3\\lib\\site-packages\\lightgbm\\basic.py in _safe_call(ret=-1)\n     43     ----------\n     44     ret : int\n     45         return value from API calls\n     46     \"\"\"\n     47     if ret != 0:\n---> 48         raise LightGBMError(_LIB.LGBM_GetLastError())\n     49 \n     50 \n     51 def is_numeric(obj):\n     52     \"\"\"Check is a number or not, include numpy number etc.\"\"\"\n\nLightGBMError: b'Check failed: config->bagging_freq > 0 && config->bagging_fraction < 1.0f && config->bagging_fraction > 0.0f at c:\\\\projects\\\\lightgbm\\\\python-package\\\\compile\\\\src\\\\boosting\\\\rf.hpp, line 29 .\\n'\n___________________________________________________________________________"
     ]
    }
   ],
   "source": [
    "inicio = time.strftime(\"%X\")\n",
    "\n",
    "grid = GridSearchCV( estimator = lgbm, param_grid = parametros, n_jobs = -1, cv = iteraciones_cross_validation)\n",
    "\n",
    "grid.fit(set_entrenamiento_datos, set_entrenamiento_resultado)\n",
    "\n",
    "score = grid.best_score_ * 100\n",
    "mejores_parametros = grid.best_params_\n",
    "fin = time.strftime(\"%X\")\n",
    "\n",
    "print(\"Tiempo: {} --- {} \\n Precision: {:.2f} \\n Parametros = {}\".format(inicio,fin,score,mejores_parametros))"
   ]
  }
 ],
 "metadata": {
  "anaconda-cloud": {},
  "kernelspec": {
   "display_name": "Python [default]",
   "language": "python",
   "name": "python3"
  },
  "language_info": {
   "codemirror_mode": {
    "name": "ipython",
    "version": 3
   },
   "file_extension": ".py",
   "mimetype": "text/x-python",
   "name": "python",
   "nbconvert_exporter": "python",
   "pygments_lexer": "ipython3",
   "version": "3.5.2"
  }
 },
 "nbformat": 4,
 "nbformat_minor": 2
}
