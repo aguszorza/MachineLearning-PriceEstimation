{
 "cells": [
  {
   "cell_type": "code",
   "execution_count": 1,
   "metadata": {
    "collapsed": true
   },
   "outputs": [],
   "source": [
    "import pandas as pd\n",
    "import numpy as np\n",
    "from sklearn.metrics import mean_squared_error\n",
    "import lightgbm as lgb\n",
    "from sklearn.model_selection import GridSearchCV\n",
    "from sklearn.externals import joblib\n",
    "from sklearn.model_selection import train_test_split\n",
    "import time\n",
    "from sklearn.decomposition import TruncatedSVD\n",
    "from sklearn.model_selection import train_test_split\n",
    "\n",
    "import warnings\n",
    "warnings.simplefilter(\"ignore\", category=DeprecationWarning)\n",
    "#https://lightgbm.readthedocs.io/en/latest/Installation-Guide.html"
   ]
  },
  {
   "cell_type": "code",
   "execution_count": 2,
   "metadata": {
    "collapsed": true
   },
   "outputs": [],
   "source": [
    "propiedades = pd.read_csv('../../set_datos_propiedades.csv')"
   ]
  },
  {
   "cell_type": "code",
   "execution_count": 3,
   "metadata": {
    "collapsed": true
   },
   "outputs": [],
   "source": [
    "propiedades = propiedades.loc[(propiedades.price_aprox_usd.notnull()) & (propiedades.superficie.notnull()),\\\n",
    "                             ['place_name_encoded', 'property_type_encoded','price_aprox_usd','superficie',\\\n",
    "                             'Year','Month','seguridad','aire','gimnasio','cochera','pileta']]"
   ]
  },
  {
   "cell_type": "code",
   "execution_count": 4,
   "metadata": {},
   "outputs": [
    {
     "name": "stdout",
     "output_type": "stream",
     "text": [
      "<class 'pandas.core.frame.DataFrame'>\n",
      "Int64Index: 1132495 entries, 0 to 1413024\n",
      "Data columns (total 11 columns):\n",
      "place_name_encoded       1132495 non-null int64\n",
      "property_type_encoded    1132495 non-null int64\n",
      "price_aprox_usd          1132495 non-null float64\n",
      "superficie               1132495 non-null float64\n",
      "Year                     1132495 non-null int64\n",
      "Month                    1132495 non-null int64\n",
      "seguridad                1132495 non-null bool\n",
      "aire                     1132495 non-null bool\n",
      "gimnasio                 1132495 non-null bool\n",
      "cochera                  1132495 non-null bool\n",
      "pileta                   1132495 non-null bool\n",
      "dtypes: bool(5), float64(2), int64(4)\n",
      "memory usage: 65.9 MB\n"
     ]
    }
   ],
   "source": [
    "propiedades.info()"
   ]
  },
  {
   "cell_type": "markdown",
   "metadata": {},
   "source": [
    "# LightGBM"
   ]
  },
  {
   "cell_type": "code",
   "execution_count": 9,
   "metadata": {
    "collapsed": true
   },
   "outputs": [],
   "source": [
    "columnas = ['superficie','place_name_encoded','property_type_encoded','seguridad','gimnasio', 'aire', 'pileta', 'cochera']\n",
    "columnas_precio = columnas + ['price_aprox_usd']"
   ]
  },
  {
   "cell_type": "code",
   "execution_count": 10,
   "metadata": {
    "collapsed": true
   },
   "outputs": [],
   "source": [
    "set_entrenamiento = propiedades.loc[(propiedades.Year >= 2016) &((propiedades.Year < 2017) | (propiedades.Month < 6))\\\n",
    "                                    ,columnas_precio]\n",
    "set_pruebas = propiedades.loc[(propiedades.Year == 2017) & (propiedades.Month == 6),columnas_precio].head(20000)\n",
    "\n",
    "set_entrenamiento_datos = set_entrenamiento.loc[:,columnas]\n",
    "set_entrenamiento_resultado = set_entrenamiento.loc[:,'price_aprox_usd']"
   ]
  },
  {
   "cell_type": "code",
   "execution_count": 29,
   "metadata": {},
   "outputs": [
    {
     "name": "stdout",
     "output_type": "stream",
     "text": [
      "Precision = 0.230676213694%, error = 1.37641955262e+11\n"
     ]
    }
   ],
   "source": [
    "lgbm = lgb.LGBMRegressor()\n",
    "lgbm.fit(set_entrenamiento_datos,set_entrenamiento_resultado)\n",
    "set_pruebas.loc[:,'resultado'] = lgbm.predict(set_pruebas.loc[:,columnas])\n",
    "precision = lgbm.score(set_pruebas.loc[:,columnas],set_pruebas.price_aprox_usd) * 100\n",
    "error = mean_squared_error(set_pruebas.price_aprox_usd,set_pruebas.resultado)\n",
    "print(\"Precision = {}%, error = {}\".format(precision, error))"
   ]
  },
  {
   "cell_type": "markdown",
   "metadata": {},
   "source": [
    "### Ahora que tenemos una intuicion, probamos variando los parametros"
   ]
  },
  {
   "cell_type": "code",
   "execution_count": 30,
   "metadata": {
    "collapsed": true
   },
   "outputs": [],
   "source": [
    "columnas = ['superficie','place_name_encoded','property_type_encoded','seguridad','gimnasio', 'aire', 'pileta', 'cochera']\n",
    "columnas_precio = columnas + ['price_aprox_usd']"
   ]
  },
  {
   "cell_type": "code",
   "execution_count": 33,
   "metadata": {
    "collapsed": true
   },
   "outputs": [],
   "source": [
    "set_entrenamiento = propiedades.loc[(propiedades.Year >= 2016) &((propiedades.Year < 2017) | (propiedades.Month < 6))\\\n",
    "                                    ,columnas_precio]\n",
    "set_pruebas = propiedades.loc[(propiedades.Year == 2017) & (propiedades.Month == 6),columnas_precio].head(20000)\n",
    "\n",
    "set_entrenamiento_datos = set_entrenamiento.loc[:,columnas]\n",
    "set_entrenamiento_resultado = set_entrenamiento.loc[:,'price_aprox_usd']\n",
    "\n",
    "res = []"
   ]
  },
  {
   "cell_type": "code",
   "execution_count": 34,
   "metadata": {},
   "outputs": [
    {
     "name": "stdout",
     "output_type": "stream",
     "text": [
      "('gbdt', '-', 10, '-', 0.1)\n",
      "('gbdt', '-', 10, '-', 0.3)\n",
      "('gbdt', '-', 10, '-', 0.5)\n",
      "('gbdt', '-', 20, '-', 0.1)\n",
      "('gbdt', '-', 20, '-', 0.3)\n",
      "('gbdt', '-', 20, '-', 0.5)\n",
      "('gbdt', '-', 50, '-', 0.1)\n",
      "('gbdt', '-', 50, '-', 0.3)\n",
      "('gbdt', '-', 50, '-', 0.5)\n",
      "('dart', '-', 10, '-', 0.1)\n",
      "('dart', '-', 10, '-', 0.3)\n",
      "('dart', '-', 10, '-', 0.5)\n",
      "('dart', '-', 20, '-', 0.1)\n",
      "('dart', '-', 20, '-', 0.3)\n",
      "('dart', '-', 20, '-', 0.5)\n",
      "('dart', '-', 50, '-', 0.1)\n",
      "('dart', '-', 50, '-', 0.3)\n",
      "('dart', '-', 50, '-', 0.5)\n",
      "('goss', '-', 10, '-', 0.1)\n",
      "('goss', '-', 10, '-', 0.3)\n",
      "('goss', '-', 10, '-', 0.5)\n",
      "('goss', '-', 20, '-', 0.1)\n",
      "('goss', '-', 20, '-', 0.3)\n",
      "('goss', '-', 20, '-', 0.5)\n",
      "('goss', '-', 50, '-', 0.1)\n",
      "('goss', '-', 50, '-', 0.3)\n",
      "('goss', '-', 50, '-', 0.5)\n"
     ]
    }
   ],
   "source": [
    "boosting = ['gbdt', 'dart', 'goss', 'rf']\n",
    "estimators = [10, 20, 50]\n",
    "learning_rate = [0.1, 0.3, 0.5]\n",
    "\n",
    "for b in boosting:\n",
    "    for e in estimators:\n",
    "        for lr in learning_rate:\n",
    "            try:\n",
    "                lgbm = lgb.LGBMRegressor(boosting_type = b, n_estimators = e, learning_rate = lr)\n",
    "                lgbm.fit(set_entrenamiento_datos,set_entrenamiento_resultado)\n",
    "                set_pruebas.loc[:,'resultado'] = lgbm.predict(set_pruebas.loc[:,columnas])\n",
    "                precision = lgbm.score(set_pruebas.loc[:,columnas],set_pruebas.price_aprox_usd) * 100\n",
    "                error = mean_squared_error(set_pruebas.price_aprox_usd,set_pruebas.resultado)\n",
    "                res.append((b, e, lr, precision, error))\n",
    "                print(b, '-', e, '-', lr)\n",
    "            except:\n",
    "                continue"
   ]
  },
  {
   "cell_type": "code",
   "execution_count": 36,
   "metadata": {},
   "outputs": [
    {
     "name": "stdout",
     "output_type": "stream",
     "text": [
      "boosting_type = gbdt, n_estimators = 10, learnig_rate = 0.1, precision = 0.23 % , error = 1.37641955262e+11\n",
      "boosting_type = gbdt, n_estimators = 10, learnig_rate = 0.3, precision = 0.23 % , error = 1.37641955262e+11\n",
      "boosting_type = gbdt, n_estimators = 10, learnig_rate = 0.5, precision = 0.23 % , error = 1.37641955262e+11\n",
      "boosting_type = gbdt, n_estimators = 20, learnig_rate = 0.1, precision = 0.46 % , error = 1.37318841383e+11\n",
      "boosting_type = gbdt, n_estimators = 20, learnig_rate = 0.3, precision = 0.46 % , error = 1.37318841383e+11\n",
      "boosting_type = gbdt, n_estimators = 20, learnig_rate = 0.5, precision = 0.46 % , error = 1.37318841383e+11\n",
      "boosting_type = gbdt, n_estimators = 50, learnig_rate = 0.1, precision = 1.17 % , error = 1.36348628327e+11\n",
      "boosting_type = gbdt, n_estimators = 50, learnig_rate = 0.3, precision = 1.17 % , error = 1.3634861732e+11\n",
      "boosting_type = gbdt, n_estimators = 50, learnig_rate = 0.5, precision = 1.17 % , error = 1.36348603281e+11\n",
      "boosting_type = dart, n_estimators = 10, learnig_rate = 0.1, precision = 0.22 % , error = 1.37658163456e+11\n",
      "boosting_type = dart, n_estimators = 10, learnig_rate = 0.3, precision = 0.22 % , error = 1.37658163456e+11\n",
      "boosting_type = dart, n_estimators = 10, learnig_rate = 0.5, precision = 0.22 % , error = 1.37658163456e+11\n",
      "boosting_type = dart, n_estimators = 20, learnig_rate = 0.1, precision = -50.69 % , error = 2.07888691064e+11\n",
      "boosting_type = dart, n_estimators = 20, learnig_rate = 0.3, precision = -50.69 % , error = 2.07888691064e+11\n",
      "boosting_type = dart, n_estimators = 20, learnig_rate = 0.5, precision = -50.69 % , error = 2.07888691064e+11\n",
      "boosting_type = dart, n_estimators = 50, learnig_rate = 0.1, precision = -50.53 % , error = 2.07672198292e+11\n",
      "boosting_type = dart, n_estimators = 50, learnig_rate = 0.3, precision = -50.53 % , error = 2.07671798582e+11\n",
      "boosting_type = dart, n_estimators = 50, learnig_rate = 0.5, precision = -50.53 % , error = 2.07671634513e+11\n",
      "boosting_type = goss, n_estimators = 10, learnig_rate = 0.1, precision = 0.23 % , error = 1.37641955262e+11\n",
      "boosting_type = goss, n_estimators = 10, learnig_rate = 0.3, precision = 0.24 % , error = 1.37635488015e+11\n",
      "boosting_type = goss, n_estimators = 10, learnig_rate = 0.5, precision = 0.24 % , error = 1.37634963154e+11\n",
      "boosting_type = goss, n_estimators = 20, learnig_rate = 0.1, precision = 0.47 % , error = 1.373090266e+11\n",
      "boosting_type = goss, n_estimators = 20, learnig_rate = 0.3, precision = 0.48 % , error = 1.37302859364e+11\n",
      "boosting_type = goss, n_estimators = 20, learnig_rate = 0.5, precision = 0.48 % , error = 1.37303175176e+11\n",
      "boosting_type = goss, n_estimators = 50, learnig_rate = 0.1, precision = 1.19 % , error = 1.36324808551e+11\n",
      "boosting_type = goss, n_estimators = 50, learnig_rate = 0.3, precision = 1.19 % , error = 1.36318726628e+11\n",
      "boosting_type = goss, n_estimators = 50, learnig_rate = 0.5, precision = 1.19 % , error = 1.36317175083e+11\n"
     ]
    }
   ],
   "source": [
    "for r in res:\n",
    "    print (\"boosting_type = {}, n_estimators = {}, learnig_rate = {}, precision = {:.2f} % , error = {}\".format(r[0],r[1],r[2],r[3], r[4]))"
   ]
  },
  {
   "cell_type": "code",
   "execution_count": 37,
   "metadata": {},
   "outputs": [
    {
     "name": "stdout",
     "output_type": "stream",
     "text": [
      "Mayor precision = boosting_type = goss, n_estimators = 50, learnig_rate = 0.5, precision = 1.19 % , error = 1.36317175083e+11\n",
      "Menor error = boosting_type = goss, n_estimators = 50, learnig_rate = 0.5, precision = 1.19 % , error = 1.36317175083e+11\n"
     ]
    }
   ],
   "source": [
    "min_error = float('inf')\n",
    "max_precision = 0\n",
    "tupla_min_error = ()\n",
    "tupla_max_precision = ()\n",
    "for r in res:\n",
    "    if r[4] < min_error:\n",
    "        min_error = r[4]\n",
    "        tupla_min_error = r\n",
    "    if r[3] > max_precision:\n",
    "        max_precision = r[3]\n",
    "        tupla_max_precision = r\n",
    "        \n",
    "print(\"Mayor precision = boosting_type = {}, n_estimators = {}, learnig_rate = {}, precision = {:.2f} % , error = {}\".\\\n",
    "              format(tupla_max_precision[0],tupla_max_precision[1],tupla_max_precision[2],tupla_max_precision[3], tupla_max_precision[4]))\n",
    "print(\"Menor error = boosting_type = {}, n_estimators = {}, learnig_rate = {}, precision = {:.2f} % , error = {}\".\\\n",
    "              format(tupla_min_error[0],tupla_min_error[1],tupla_min_error[2],tupla_min_error[3], tupla_min_error[4]))"
   ]
  },
  {
   "cell_type": "markdown",
   "metadata": {},
   "source": [
    "# Modifico max_depth"
   ]
  },
  {
   "cell_type": "code",
   "execution_count": 38,
   "metadata": {
    "collapsed": true
   },
   "outputs": [],
   "source": [
    "columnas = ['superficie','place_name_encoded','property_type_encoded','seguridad','gimnasio','aire','pileta','cochera']\n",
    "columnas_precio = columnas + ['price_aprox_usd']"
   ]
  },
  {
   "cell_type": "code",
   "execution_count": 39,
   "metadata": {
    "collapsed": true
   },
   "outputs": [],
   "source": [
    "set_entrenamiento = propiedades.loc[(propiedades.Year >= 2016) &((propiedades.Year < 2017) | (propiedades.Month < 6))\\\n",
    "                                    ,columnas_precio]\n",
    "set_pruebas = propiedades.loc[(propiedades.Year == 2017) & (propiedades.Month == 6),columnas_precio].head(20000)\n",
    "\n",
    "set_entrenamiento_datos = set_entrenamiento.loc[:,columnas]\n",
    "set_entrenamiento_resultado = set_entrenamiento.loc[:,'price_aprox_usd']"
   ]
  },
  {
   "cell_type": "code",
   "execution_count": 40,
   "metadata": {
    "collapsed": true
   },
   "outputs": [],
   "source": [
    "max_depth = [1, 5, 10, 15]"
   ]
  },
  {
   "cell_type": "code",
   "execution_count": 41,
   "metadata": {},
   "outputs": [
    {
     "name": "stdout",
     "output_type": "stream",
     "text": [
      "('rf', '-', 50, '-', 0.5)\n",
      "('rf', '-', 50, '-', 0.5)\n",
      "('rf', '-', 50, '-', 0.5)\n",
      "('rf', '-', 50, '-', 0.5)\n"
     ]
    }
   ],
   "source": [
    "for d in max_depth:\n",
    "    lgbm = lgb.LGBMRegressor(boosting_type = 'goss', n_estimators = 50, learning_rate = 0.5, max_depth = d)\n",
    "    lgbm.fit(set_entrenamiento_datos,set_entrenamiento_resultado)\n",
    "    set_pruebas.loc[:,'resultado'] = lgbm.predict(set_pruebas.loc[:,columnas])\n",
    "    precision = lgbm.score(set_pruebas.loc[:,columnas],set_pruebas.price_aprox_usd) * 100\n",
    "    error = mean_squared_error(set_pruebas.price_aprox_usd,set_pruebas.resultado)\n",
    "    res.append((b, e, lr, precision, error))\n",
    "    print(b, '-', e, '-', lr)"
   ]
  },
  {
   "cell_type": "code",
   "execution_count": 42,
   "metadata": {},
   "outputs": [
    {
     "name": "stdout",
     "output_type": "stream",
     "text": [
      "boosting_type = rf, n_estimators = 50, learnig_rate = 0.5, precision = 1.09 % , error = 1.36452039915e+11\n",
      "boosting_type = rf, n_estimators = 50, learnig_rate = 0.5, precision = 1.18 % , error = 1.36326866928e+11\n",
      "boosting_type = rf, n_estimators = 50, learnig_rate = 0.5, precision = 1.19 % , error = 1.36317175083e+11\n",
      "boosting_type = rf, n_estimators = 50, learnig_rate = 0.5, precision = 1.19 % , error = 1.36317175083e+11\n"
     ]
    }
   ],
   "source": [
    "for r in res[27:]:\n",
    "    print (\"boosting_type = {}, n_estimators = {}, learnig_rate = {}, precision = {:.2f} % , error = {}\".format(r[0],r[1],r[2],r[3], r[4]))"
   ]
  },
  {
   "cell_type": "markdown",
   "metadata": {},
   "source": [
    "## Aumentamos los valores de max depth y n_estimators para ver si mejoramos la precisión"
   ]
  },
  {
   "cell_type": "code",
   "execution_count": 47,
   "metadata": {},
   "outputs": [
    {
     "name": "stdout",
     "output_type": "stream",
     "text": [
      "Precision = 38.9816250348%, error = 84181070076.1\n"
     ]
    }
   ],
   "source": [
    "lgbm = lgb.LGBMRegressor(boosting_type = 'goss', n_estimators = 5000, learning_rate = 2.9, max_depth = 1000)\n",
    "lgbm.fit(set_entrenamiento_datos,set_entrenamiento_resultado)\n",
    "set_pruebas.loc[:,'resultado'] = lgbm.predict(set_pruebas.loc[:,columnas])\n",
    "precision = lgbm.score(set_pruebas.loc[:,columnas],set_pruebas.price_aprox_usd) * 100\n",
    "error = mean_squared_error(set_pruebas.price_aprox_usd,set_pruebas.resultado)\n",
    "print(\"Precision = {}%, error = {}\".format(precision, error))"
   ]
  },
  {
   "cell_type": "code",
   "execution_count": 48,
   "metadata": {},
   "outputs": [
    {
     "name": "stdout",
     "output_type": "stream",
     "text": [
      "5000\n",
      "10000\n",
      "50000\n",
      "100000\n"
     ]
    }
   ],
   "source": [
    "n_estimators = [5000, 10000, 50000, 100000]\n",
    "b = 'goss'\n",
    "lr = 2.9\n",
    "d = 1000\n",
    "res = []\n",
    "\n",
    "for n in n_estimators:\n",
    "    lgbm = lgb.LGBMRegressor(boosting_type = b, n_estimators = n, learning_rate = lr, max_depth = d)\n",
    "    lgbm.fit(set_entrenamiento_datos,set_entrenamiento_resultado)\n",
    "    set_pruebas.loc[:,'resultado'] = lgbm.predict(set_pruebas.loc[:,columnas])\n",
    "    precision = lgbm.score(set_pruebas.loc[:,columnas],set_pruebas.price_aprox_usd) * 100\n",
    "    error = mean_squared_error(set_pruebas.price_aprox_usd,set_pruebas.resultado)\n",
    "    res.append((b, n, lr, precision, error))\n",
    "    print(n)"
   ]
  },
  {
   "cell_type": "code",
   "execution_count": 52,
   "metadata": {},
   "outputs": [
    {
     "name": "stdout",
     "output_type": "stream",
     "text": [
      "boosting_type = goss, n_estimators = 5000, learnig_rate = 2.9, precision = 38.98 % , error = 84181070076.1\n",
      "boosting_type = goss, n_estimators = 10000, learnig_rate = 2.9, precision = 47.01 % , error = 73107356570.7\n",
      "boosting_type = goss, n_estimators = 50000, learnig_rate = 2.9, precision = 54.98 % , error = 62112893806.8\n",
      "boosting_type = goss, n_estimators = 100000, learnig_rate = 2.9, precision = 58.98 % , error = 56587427148.9\n"
     ]
    }
   ],
   "source": [
    "for r in res:\n",
    "    print (\"boosting_type = {}, n_estimators = {}, learnig_rate = {}, precision = {:.2f} % , error = {}\".format(r[0],r[1],r[2],r[3], r[4]))"
   ]
  },
  {
   "cell_type": "markdown",
   "metadata": {},
   "source": [
    "#### Se puede ver que al aumentar la cantidad de estimadores mejora la precision por lo que tomamos un número más grande"
   ]
  },
  {
   "cell_type": "markdown",
   "metadata": {},
   "source": [
    "# Calculamos los verdaderos datos"
   ]
  },
  {
   "cell_type": "code",
   "execution_count": 53,
   "metadata": {
    "collapsed": true
   },
   "outputs": [],
   "source": [
    "analizar = pd.read_csv(\"/home/agustin/Escritorio/escritorio/fiuba/Organizacion de datos/tpDatos/properati_dataset_modificado.csv\")"
   ]
  },
  {
   "cell_type": "code",
   "execution_count": 55,
   "metadata": {
    "collapsed": true
   },
   "outputs": [],
   "source": [
    "analizar.loc[:,'price_usd'] = analizar.loc[:,columnas].apply(lambda x: lgbm.predict([x])[0],axis = 1)"
   ]
  },
  {
   "cell_type": "code",
   "execution_count": 56,
   "metadata": {},
   "outputs": [
    {
     "data": {
      "text/plain": [
       "count    1.416600e+04\n",
       "mean     2.471407e+05\n",
       "std      2.493879e+05\n",
       "min     -5.653215e+05\n",
       "25%      1.145887e+05\n",
       "50%      1.621351e+05\n",
       "75%      2.909809e+05\n",
       "max      8.571289e+06\n",
       "Name: price_usd, dtype: float64"
      ]
     },
     "execution_count": 56,
     "metadata": {},
     "output_type": "execute_result"
    }
   ],
   "source": [
    "analizar.price_usd.describe()"
   ]
  },
  {
   "cell_type": "code",
   "execution_count": 57,
   "metadata": {
    "collapsed": true
   },
   "outputs": [],
   "source": [
    "analizar.loc[:, 'price_usd'] = analizar.loc[:, 'price_usd'].apply(lambda x: abs(x))"
   ]
  },
  {
   "cell_type": "code",
   "execution_count": 58,
   "metadata": {
    "scrolled": true
   },
   "outputs": [
    {
     "data": {
      "text/plain": [
       "count    1.416600e+04\n",
       "mean     2.477323e+05\n",
       "std      2.488002e+05\n",
       "min      6.880918e+03\n",
       "25%      1.147296e+05\n",
       "50%      1.624316e+05\n",
       "75%      2.914919e+05\n",
       "max      8.571289e+06\n",
       "Name: price_usd, dtype: float64"
      ]
     },
     "execution_count": 58,
     "metadata": {},
     "output_type": "execute_result"
    }
   ],
   "source": [
    "analizar.price_usd.describe()"
   ]
  },
  {
   "cell_type": "code",
   "execution_count": 59,
   "metadata": {
    "collapsed": true
   },
   "outputs": [],
   "source": [
    "resultado = analizar.loc[:,['id','price_usd']]"
   ]
  },
  {
   "cell_type": "code",
   "execution_count": 60,
   "metadata": {
    "collapsed": true
   },
   "outputs": [],
   "source": [
    "resultado.to_csv('resultados/lightgbm_resultados.csv', index = False)"
   ]
  },
  {
   "cell_type": "markdown",
   "metadata": {},
   "source": [
    "## Ahora uso lat y lon en lugar de place name"
   ]
  },
  {
   "cell_type": "code",
   "execution_count": 3,
   "metadata": {
    "collapsed": true
   },
   "outputs": [],
   "source": [
    "propiedades = propiedades.loc[(propiedades.price_aprox_usd.notnull()) & (propiedades.superficie.notnull())\\\n",
    "                              & (propiedades.lat.notnull()) & (propiedades.lon.notnull()),\\\n",
    "                             ['lat', 'lon', 'property_type_encoded','price_aprox_usd','superficie',\\\n",
    "                             'Year','Month','seguridad','aire','gimnasio','cochera','pileta']]"
   ]
  },
  {
   "cell_type": "code",
   "execution_count": 4,
   "metadata": {
    "collapsed": true
   },
   "outputs": [],
   "source": [
    "columnas = ['superficie','lat', 'lon','property_type_encoded','seguridad','gimnasio', 'aire', 'pileta', 'cochera']\n",
    "columnas_precio = columnas + ['price_aprox_usd']"
   ]
  },
  {
   "cell_type": "code",
   "execution_count": 5,
   "metadata": {
    "collapsed": true
   },
   "outputs": [],
   "source": [
    "set_entrenamiento = propiedades.loc[(propiedades.Year >= 2016) &((propiedades.Year < 2017) | (propiedades.Month < 6))\\\n",
    "                                    ,columnas_precio]\n",
    "set_pruebas = propiedades.loc[(propiedades.Year == 2017) & (propiedades.Month == 6),columnas_precio].head(20000)\n",
    "\n",
    "set_entrenamiento_datos = set_entrenamiento.loc[:,columnas]\n",
    "set_entrenamiento_resultado = set_entrenamiento.loc[:,'price_aprox_usd']"
   ]
  },
  {
   "cell_type": "code",
   "execution_count": 66,
   "metadata": {},
   "outputs": [
    {
     "name": "stdout",
     "output_type": "stream",
     "text": [
      "Precision = 0.225789592842%, error = 1.15522485637e+11\n"
     ]
    }
   ],
   "source": [
    "lgbm = lgb.LGBMRegressor()\n",
    "lgbm.fit(set_entrenamiento_datos,set_entrenamiento_resultado)\n",
    "set_pruebas.loc[:,'resultado'] = lgbm.predict(set_pruebas.loc[:,columnas])\n",
    "precision = lgbm.score(set_pruebas.loc[:,columnas],set_pruebas.price_aprox_usd) * 100\n",
    "error = mean_squared_error(set_pruebas.price_aprox_usd,set_pruebas.resultado)\n",
    "print(\"Precision = {}%, error = {}\".format(precision, error))"
   ]
  },
  {
   "cell_type": "code",
   "execution_count": 67,
   "metadata": {
    "collapsed": true
   },
   "outputs": [],
   "source": [
    "res = []"
   ]
  },
  {
   "cell_type": "code",
   "execution_count": 68,
   "metadata": {},
   "outputs": [
    {
     "name": "stdout",
     "output_type": "stream",
     "text": [
      "('gbdt', '-', 10, '-', 0.1)\n",
      "('gbdt', '-', 10, '-', 0.3)\n",
      "('gbdt', '-', 10, '-', 0.5)\n",
      "('gbdt', '-', 20, '-', 0.1)\n",
      "('gbdt', '-', 20, '-', 0.3)\n",
      "('gbdt', '-', 20, '-', 0.5)\n",
      "('gbdt', '-', 50, '-', 0.1)\n",
      "('gbdt', '-', 50, '-', 0.3)\n",
      "('gbdt', '-', 50, '-', 0.5)\n",
      "('dart', '-', 10, '-', 0.1)\n",
      "('dart', '-', 10, '-', 0.3)\n",
      "('dart', '-', 10, '-', 0.5)\n",
      "('dart', '-', 20, '-', 0.1)\n",
      "('dart', '-', 20, '-', 0.3)\n",
      "('dart', '-', 20, '-', 0.5)\n",
      "('dart', '-', 50, '-', 0.1)\n",
      "('dart', '-', 50, '-', 0.3)\n",
      "('dart', '-', 50, '-', 0.5)\n",
      "('goss', '-', 10, '-', 0.1)\n",
      "('goss', '-', 10, '-', 0.3)\n",
      "('goss', '-', 10, '-', 0.5)\n",
      "('goss', '-', 20, '-', 0.1)\n",
      "('goss', '-', 20, '-', 0.3)\n",
      "('goss', '-', 20, '-', 0.5)\n",
      "('goss', '-', 50, '-', 0.1)\n",
      "('goss', '-', 50, '-', 0.3)\n",
      "('goss', '-', 50, '-', 0.5)\n"
     ]
    }
   ],
   "source": [
    "boosting = ['gbdt', 'dart', 'goss', 'rf']\n",
    "estimators = [10, 20, 50]\n",
    "learning_rate = [0.1, 0.3, 0.5]\n",
    "\n",
    "for b in boosting:\n",
    "    for e in estimators:\n",
    "        for lr in learning_rate:\n",
    "            try:\n",
    "                lgbm = lgb.LGBMRegressor(boosting_type = b, n_estimators = e, learning_rate = lr)\n",
    "                lgbm.fit(set_entrenamiento_datos,set_entrenamiento_resultado)\n",
    "                set_pruebas.loc[:,'resultado'] = lgbm.predict(set_pruebas.loc[:,columnas])\n",
    "                precision = lgbm.score(set_pruebas.loc[:,columnas],set_pruebas.price_aprox_usd) * 100\n",
    "                error = mean_squared_error(set_pruebas.price_aprox_usd,set_pruebas.resultado)\n",
    "                res.append((b, e, lr, precision, error))\n",
    "                print(b, '-', e, '-', lr)\n",
    "            except:\n",
    "                continue"
   ]
  },
  {
   "cell_type": "code",
   "execution_count": 69,
   "metadata": {},
   "outputs": [
    {
     "name": "stdout",
     "output_type": "stream",
     "text": [
      "boosting_type = gbdt, n_estimators = 10, learnig_rate = 0.1, precision = 0.23 % , error = 1.15522485637e+11\n",
      "boosting_type = gbdt, n_estimators = 10, learnig_rate = 0.3, precision = 0.23 % , error = 1.15522485637e+11\n",
      "boosting_type = gbdt, n_estimators = 10, learnig_rate = 0.5, precision = 0.23 % , error = 1.15522485637e+11\n",
      "boosting_type = gbdt, n_estimators = 20, learnig_rate = 0.1, precision = 0.48 % , error = 1.15225738506e+11\n",
      "boosting_type = gbdt, n_estimators = 20, learnig_rate = 0.3, precision = 0.48 % , error = 1.15225738506e+11\n",
      "boosting_type = gbdt, n_estimators = 20, learnig_rate = 0.5, precision = 0.48 % , error = 1.15225738506e+11\n",
      "boosting_type = gbdt, n_estimators = 50, learnig_rate = 0.1, precision = 1.24 % , error = 1.14345223916e+11\n",
      "boosting_type = gbdt, n_estimators = 50, learnig_rate = 0.3, precision = 1.24 % , error = 1.14345223916e+11\n",
      "boosting_type = gbdt, n_estimators = 50, learnig_rate = 0.5, precision = 1.24 % , error = 1.14345223916e+11\n",
      "boosting_type = dart, n_estimators = 10, learnig_rate = 0.1, precision = 0.21 % , error = 1.15537496336e+11\n",
      "boosting_type = dart, n_estimators = 10, learnig_rate = 0.3, precision = 0.21 % , error = 1.15537496336e+11\n",
      "boosting_type = dart, n_estimators = 10, learnig_rate = 0.5, precision = 0.21 % , error = 1.15537496336e+11\n",
      "boosting_type = dart, n_estimators = 20, learnig_rate = 0.1, precision = -52.42 % , error = 1.76478748301e+11\n",
      "boosting_type = dart, n_estimators = 20, learnig_rate = 0.3, precision = -52.42 % , error = 1.76478748301e+11\n",
      "boosting_type = dart, n_estimators = 20, learnig_rate = 0.5, precision = -52.42 % , error = 1.76478748301e+11\n",
      "boosting_type = dart, n_estimators = 50, learnig_rate = 0.1, precision = -52.30 % , error = 1.76338228683e+11\n",
      "boosting_type = dart, n_estimators = 50, learnig_rate = 0.3, precision = -52.30 % , error = 1.76338158574e+11\n",
      "boosting_type = dart, n_estimators = 50, learnig_rate = 0.5, precision = -52.30 % , error = 1.76338158574e+11\n",
      "boosting_type = goss, n_estimators = 10, learnig_rate = 0.1, precision = 0.23 % , error = 1.15522485637e+11\n",
      "boosting_type = goss, n_estimators = 10, learnig_rate = 0.3, precision = 0.22 % , error = 1.15524090025e+11\n",
      "boosting_type = goss, n_estimators = 10, learnig_rate = 0.5, precision = 0.22 % , error = 1.15524325425e+11\n",
      "boosting_type = goss, n_estimators = 20, learnig_rate = 0.1, precision = 0.48 % , error = 1.15226832102e+11\n",
      "boosting_type = goss, n_estimators = 20, learnig_rate = 0.3, precision = 0.48 % , error = 1.15228841218e+11\n",
      "boosting_type = goss, n_estimators = 20, learnig_rate = 0.5, precision = 0.48 % , error = 1.15229342282e+11\n",
      "boosting_type = goss, n_estimators = 50, learnig_rate = 0.1, precision = 1.24 % , error = 1.14353909685e+11\n",
      "boosting_type = goss, n_estimators = 50, learnig_rate = 0.3, precision = 1.23 % , error = 1.14356864248e+11\n",
      "boosting_type = goss, n_estimators = 50, learnig_rate = 0.5, precision = 1.23 % , error = 1.14357312858e+11\n"
     ]
    }
   ],
   "source": [
    "for r in res:\n",
    "    print (\"boosting_type = {}, n_estimators = {}, learnig_rate = {}, precision = {:.2f} % , error = {}\".format(r[0],r[1],r[2],r[3], r[4]))"
   ]
  },
  {
   "cell_type": "code",
   "execution_count": 70,
   "metadata": {},
   "outputs": [
    {
     "name": "stdout",
     "output_type": "stream",
     "text": [
      "Mayor precision = boosting_type = gbdt, n_estimators = 50, learnig_rate = 0.1, precision = 1.24 % , error = 1.14345223916e+11\n",
      "Menor error = boosting_type = gbdt, n_estimators = 50, learnig_rate = 0.1, precision = 1.24 % , error = 1.14345223916e+11\n"
     ]
    }
   ],
   "source": [
    "min_error = float('inf')\n",
    "max_precision = 0\n",
    "tupla_min_error = ()\n",
    "tupla_max_precision = ()\n",
    "for r in res:\n",
    "    if r[4] < min_error:\n",
    "        min_error = r[4]\n",
    "        tupla_min_error = r\n",
    "    if r[3] > max_precision:\n",
    "        max_precision = r[3]\n",
    "        tupla_max_precision = r\n",
    "        \n",
    "print(\"Mayor precision = boosting_type = {}, n_estimators = {}, learnig_rate = {}, precision = {:.2f} % , error = {}\".\\\n",
    "              format(tupla_max_precision[0],tupla_max_precision[1],tupla_max_precision[2],tupla_max_precision[3], tupla_max_precision[4]))\n",
    "print(\"Menor error = boosting_type = {}, n_estimators = {}, learnig_rate = {}, precision = {:.2f} % , error = {}\".\\\n",
    "              format(tupla_min_error[0],tupla_min_error[1],tupla_min_error[2],tupla_min_error[3], tupla_min_error[4]))"
   ]
  },
  {
   "cell_type": "code",
   "execution_count": 71,
   "metadata": {},
   "outputs": [
    {
     "name": "stdout",
     "output_type": "stream",
     "text": [
      "5000\n",
      "10000\n",
      "50000\n",
      "100000\n"
     ]
    }
   ],
   "source": [
    "n_estimators = [5000, 10000, 50000, 100000]\n",
    "b = 'goss'\n",
    "lr = 2.9\n",
    "res = []\n",
    "\n",
    "for n in n_estimators:\n",
    "    lgbm = lgb.LGBMRegressor(boosting_type = b, n_estimators = n, learning_rate = lr)\n",
    "    lgbm.fit(set_entrenamiento_datos,set_entrenamiento_resultado)\n",
    "    set_pruebas.loc[:,'resultado'] = lgbm.predict(set_pruebas.loc[:,columnas])\n",
    "    precision = lgbm.score(set_pruebas.loc[:,columnas],set_pruebas.price_aprox_usd) * 100\n",
    "    error = mean_squared_error(set_pruebas.price_aprox_usd,set_pruebas.resultado)\n",
    "    res.append((b, n, lr, precision, error))\n",
    "    print(n)"
   ]
  },
  {
   "cell_type": "code",
   "execution_count": 72,
   "metadata": {},
   "outputs": [
    {
     "name": "stdout",
     "output_type": "stream",
     "text": [
      "boosting_type = goss, n_estimators = 5000, learnig_rate = 2.9, precision = 39.90 % , error = 69586432759.9\n",
      "boosting_type = goss, n_estimators = 10000, learnig_rate = 2.9, precision = 49.19 % , error = 58834615136.1\n",
      "boosting_type = goss, n_estimators = 50000, learnig_rate = 2.9, precision = 62.36 % , error = 43585312292.7\n",
      "boosting_type = goss, n_estimators = 100000, learnig_rate = 2.9, precision = 68.84 % , error = 36082874388.6\n"
     ]
    }
   ],
   "source": [
    "for r in res:\n",
    "    print (\"boosting_type = {}, n_estimators = {}, learnig_rate = {}, precision = {:.2f} % , error = {}\".format(r[0],r[1],r[2],r[3], r[4]))"
   ]
  },
  {
   "cell_type": "code",
   "execution_count": 73,
   "metadata": {},
   "outputs": [
    {
     "name": "stdout",
     "output_type": "stream",
     "text": [
      "Mayor precision = boosting_type = goss, n_estimators = 100000, learnig_rate = 2.9, precision = 68.84 % , error = 36082874388.6\n",
      "Menor error = boosting_type = goss, n_estimators = 100000, learnig_rate = 2.9, precision = 68.84 % , error = 36082874388.6\n"
     ]
    }
   ],
   "source": [
    "min_error = float('inf')\n",
    "max_precision = 0\n",
    "tupla_min_error = ()\n",
    "tupla_max_precision = ()\n",
    "for r in res:\n",
    "    if r[4] < min_error:\n",
    "        min_error = r[4]\n",
    "        tupla_min_error = r\n",
    "    if r[3] > max_precision:\n",
    "        max_precision = r[3]\n",
    "        tupla_max_precision = r\n",
    "        \n",
    "print(\"Mayor precision = boosting_type = {}, n_estimators = {}, learnig_rate = {}, precision = {:.2f} % , error = {}\".\\\n",
    "              format(tupla_max_precision[0],tupla_max_precision[1],tupla_max_precision[2],tupla_max_precision[3], tupla_max_precision[4]))\n",
    "print(\"Menor error = boosting_type = {}, n_estimators = {}, learnig_rate = {}, precision = {:.2f} % , error = {}\".\\\n",
    "              format(tupla_min_error[0],tupla_min_error[1],tupla_min_error[2],tupla_min_error[3], tupla_min_error[4]))"
   ]
  },
  {
   "cell_type": "markdown",
   "metadata": {},
   "source": [
    "# Calculamos los verdaderos datos"
   ]
  },
  {
   "cell_type": "code",
   "execution_count": 74,
   "metadata": {
    "collapsed": true
   },
   "outputs": [],
   "source": [
    "analizar = pd.read_csv(\"/home/agustin/Escritorio/escritorio/fiuba/Organizacion de datos/tpDatos/properati_dataset_modificado.csv\")"
   ]
  },
  {
   "cell_type": "code",
   "execution_count": 75,
   "metadata": {
    "collapsed": true
   },
   "outputs": [],
   "source": [
    "analizar.loc[:,'price_usd'] = analizar.loc[:,columnas].apply(lambda x: lgbm.predict([x])[0],axis = 1)"
   ]
  },
  {
   "cell_type": "code",
   "execution_count": 76,
   "metadata": {},
   "outputs": [
    {
     "data": {
      "text/plain": [
       "count    1.416600e+04\n",
       "mean     2.389744e+05\n",
       "std      2.538136e+05\n",
       "min     -1.128486e+06\n",
       "25%      1.092698e+05\n",
       "50%      1.590292e+05\n",
       "75%      2.817779e+05\n",
       "max      5.876935e+06\n",
       "Name: price_usd, dtype: float64"
      ]
     },
     "execution_count": 76,
     "metadata": {},
     "output_type": "execute_result"
    }
   ],
   "source": [
    "analizar.price_usd.describe()"
   ]
  },
  {
   "cell_type": "code",
   "execution_count": 77,
   "metadata": {
    "collapsed": true
   },
   "outputs": [],
   "source": [
    "analizar.loc[:, 'price_usd'] = analizar.loc[:, 'price_usd'].apply(lambda x: abs(x))"
   ]
  },
  {
   "cell_type": "code",
   "execution_count": 78,
   "metadata": {
    "scrolled": true
   },
   "outputs": [
    {
     "data": {
      "text/plain": [
       "count    1.416600e+04\n",
       "mean     2.396352e+05\n",
       "std      2.531898e+05\n",
       "min      3.814273e+03\n",
       "25%      1.093145e+05\n",
       "50%      1.591093e+05\n",
       "75%      2.818319e+05\n",
       "max      5.876935e+06\n",
       "Name: price_usd, dtype: float64"
      ]
     },
     "execution_count": 78,
     "metadata": {},
     "output_type": "execute_result"
    }
   ],
   "source": [
    "analizar.price_usd.describe()"
   ]
  },
  {
   "cell_type": "code",
   "execution_count": 79,
   "metadata": {
    "collapsed": true
   },
   "outputs": [],
   "source": [
    "resultado = analizar.loc[:,['id','price_usd']]"
   ]
  },
  {
   "cell_type": "code",
   "execution_count": 80,
   "metadata": {
    "collapsed": true
   },
   "outputs": [],
   "source": [
    "resultado.to_csv('resultados/lightgbm_latlon_resultados.csv', index = False)"
   ]
  },
  {
   "cell_type": "markdown",
   "metadata": {},
   "source": [
    "# Usando Grid Search y Cross Validation"
   ]
  },
  {
   "cell_type": "code",
   "execution_count": 3,
   "metadata": {
    "collapsed": true
   },
   "outputs": [],
   "source": [
    "propiedades = propiedades.loc[(propiedades.price_aprox_usd.notnull()) & (propiedades.superficie.notnull())\\\n",
    "                              & (propiedades.lat.notnull()) & (propiedades.lon.notnull()) & (propiedades.Year >=2016)]\n",
    "\n",
    "columnas = ['superficie','lat', 'lon','property_type_encoded','seguridad','gimnasio', 'aire', 'pileta', 'cochera']\n",
    "columnas_precio = columnas + ['price_aprox_usd']\n",
    "\n",
    "set_entrenamiento_datos = propiedades.loc[:,columnas]\n",
    "set_entrenamiento_resultado = propiedades.loc[:,'price_aprox_usd']"
   ]
  },
  {
   "cell_type": "code",
   "execution_count": 24,
   "metadata": {
    "collapsed": true
   },
   "outputs": [],
   "source": [
    "# Vario unicamente la cantidad de estimadores\n",
    "boosting = ['goss'] # rf no se tiene en cuenta pues levanta excepcion\n",
    "estimators = [100, 1000, 5000]\n",
    "learning_rate = [0.5, 0.9]\n",
    "\n",
    "parametros = {\"n_estimators\" : estimators, \"learning_rate\" : learning_rate, \"boosting_type\" : boosting}\n",
    "\n",
    "iteraciones_cross_validation = 25\n",
    "lgbm = lgb.LGBMRegressor()"
   ]
  },
  {
   "cell_type": "code",
   "execution_count": 25,
   "metadata": {},
   "outputs": [
    {
     "name": "stdout",
     "output_type": "stream",
     "text": [
      "Tiempo: 12:35:18 --- 19:20:59 \n",
      " Precision: 41.32 \n",
      " Parametros = {'boosting_type': 'goss', 'learning_rate': 0.5, 'n_estimators': 5000}\n"
     ]
    }
   ],
   "source": [
    "inicio = time.strftime(\"%X\")\n",
    "\n",
    "grid = GridSearchCV( estimator = lgbm, param_grid = parametros, n_jobs = -1, cv = iteraciones_cross_validation)\n",
    "\n",
    "grid.fit(set_entrenamiento_datos, set_entrenamiento_resultado)\n",
    "\n",
    "score = grid.best_score_ * 100\n",
    "mejores_parametros = grid.best_params_\n",
    "fin = time.strftime(\"%X\")\n",
    "\n",
    "print(\"Tiempo: {} --- {} \\n Precision: {:.2f} \\n Parametros = {}\".format(inicio,fin,score,mejores_parametros))"
   ]
  },
  {
   "cell_type": "code",
   "execution_count": 27,
   "metadata": {},
   "outputs": [
    {
     "data": {
      "text/plain": [
       "count     14166.000000\n",
       "mean     233809.103726\n",
       "std      161628.517309\n",
       "min       52303.525426\n",
       "25%      116187.346107\n",
       "50%      162430.635225\n",
       "75%      314994.565201\n",
       "max      753801.382929\n",
       "Name: price_usd, dtype: float64"
      ]
     },
     "execution_count": 27,
     "metadata": {},
     "output_type": "execute_result"
    }
   ],
   "source": [
    "analizar = pd.read_csv(\"../properati_dataset_modificado.csv\")\n",
    "\n",
    "analizar.loc[:,'price_usd'] = analizar.loc[:,columnas].apply(lambda x: grid.predict([x])[0],axis = 1)\n",
    "\n",
    "analizar.price_usd.describe()"
   ]
  },
  {
   "cell_type": "code",
   "execution_count": 28,
   "metadata": {},
   "outputs": [
    {
     "data": {
      "text/plain": [
       "['algoritmos/Lightgbm.pkl']"
      ]
     },
     "execution_count": 28,
     "metadata": {},
     "output_type": "execute_result"
    }
   ],
   "source": [
    "resultado = analizar.loc[:,['id','price_usd']]\n",
    "\n",
    "resultado.to_csv('resultados/Lightgbm_GridSearch.csv', index = False)\n",
    "\n",
    "joblib.dump(grid, 'algoritmos/Lightgbm.pkl')"
   ]
  },
  {
   "cell_type": "markdown",
   "metadata": {},
   "source": [
    "#### Para un número mayor de estimadores se debería obtener una mejor precisión pero como el tiempo es muy largo se descarto"
   ]
  },
  {
   "cell_type": "markdown",
   "metadata": {},
   "source": [
    "# Hago bagging con el mejor algoritmo"
   ]
  },
  {
   "cell_type": "code",
   "execution_count": 13,
   "metadata": {
    "collapsed": true
   },
   "outputs": [],
   "source": [
    "propiedades = propiedades.loc[(propiedades.price_aprox_usd.notnull()) & (propiedades.superficie.notnull())\\\n",
    "                              & (propiedades.lat.notnull()) & (propiedades.lon.notnull()) & (propiedades.Year >=2016)]\n",
    "\n",
    "columnas = ['superficie','lat', 'lon','property_type_encoded','seguridad','gimnasio', 'aire', 'pileta', 'cochera']\n",
    "columnas_precio = columnas + ['price_aprox_usd']\n",
    "\n",
    "set_pruebas = analizar = pd.read_csv(\"../properati_dataset_modificado.csv\")\n",
    "set_pruebas.loc[:,'price_usd'] = 0.0"
   ]
  },
  {
   "cell_type": "code",
   "execution_count": 14,
   "metadata": {
    "collapsed": true
   },
   "outputs": [],
   "source": [
    "cant = 10\n",
    "\n",
    "for i in range(cant):\n",
    "    datos = propiedades.sample(frac = 0.4)\n",
    "    set_entrenamiento_datos = datos.loc[:,columnas]\n",
    "    set_entrenamiento_resultado = datos.loc[:,'price_aprox_usd']\n",
    "    \n",
    "    lgbm = lgb.LGBMRegressor(boosting_type = 'goss', learning_rate = 0.5, n_estimators = 5000) # Mejor resultado\n",
    "    \n",
    "    lgbm.fit(set_entrenamiento_datos,set_entrenamiento_resultado)\n",
    "    set_pruebas.loc[:,'res'] = set_pruebas.loc[:,columnas].apply(lambda x: lgbm.predict([x])[0],axis = 1)\n",
    "    set_pruebas.loc[:,'price_usd'] = set_pruebas.loc[:,'price_usd'] + set_pruebas.loc[:,'res']"
   ]
  },
  {
   "cell_type": "code",
   "execution_count": 17,
   "metadata": {
    "collapsed": true
   },
   "outputs": [],
   "source": [
    "set_pruebas.loc[:,'price_usd'] = set_pruebas.loc[:,'price_usd'] / cant\n",
    "\n",
    "resultado = set_pruebas.loc[:,['id','price_usd']]\n",
    "\n",
    "resultado.to_csv('resultados/Lightgbm_Cross_Validation.csv', index = False)"
   ]
  },
  {
   "cell_type": "markdown",
   "metadata": {},
   "source": [
    "# Pruebo con mas estimadores y menos datos"
   ]
  },
  {
   "cell_type": "code",
   "execution_count": 2,
   "metadata": {
    "collapsed": true
   },
   "outputs": [],
   "source": [
    "propiedades = pd.read_csv('../../set_datos_propiedades.csv')\n",
    "\n",
    "sup_min = 10\n",
    "sup_max = 150\n",
    "\n",
    "lat_min = -35\n",
    "lat_max = -34\n",
    "\n",
    "lon_min = -59\n",
    "lon_max = -58\n",
    "\n",
    "precio_min = 5000\n",
    "precio_max = 1000000\n",
    "\n",
    "propiedades = propiedades.loc[(propiedades.price_aprox_usd.notnull()) & (propiedades.superficie.notnull())\\\n",
    "                              & (propiedades.lat.notnull()) & (propiedades.lon.notnull()) & (propiedades.Year >=2016)\\\n",
    "                        & (propiedades.price_aprox_usd <= precio_max) & (propiedades.price_aprox_usd >= precio_min) &\\\n",
    "                         (propiedades.superficie <= sup_max) & (propiedades.superficie >= sup_min) &\\\n",
    "                      (propiedades.lat <= lat_max) & (propiedades.lat >= lat_min) &\\\n",
    "                       (propiedades.lon <= lon_max) & (propiedades.lon >= lon_min),:]\n",
    "\n",
    "columnas = ['superficie','lat', 'lon','property_type_encoded','seguridad','gimnasio', 'aire', 'pileta', 'cochera']\n",
    "columnas_precio = columnas + ['price_aprox_usd']"
   ]
  },
  {
   "cell_type": "code",
   "execution_count": 3,
   "metadata": {},
   "outputs": [
    {
     "name": "stdout",
     "output_type": "stream",
     "text": [
      "Tiempo: 11:27:32 --- 14:48:29 \n",
      " Precision: 95.34 \n",
      " Error = 592519791.6858435  digitos = 9\n"
     ]
    }
   ],
   "source": [
    "X = propiedades.loc[:,columnas]\n",
    "y = propiedades.loc[:,'price_aprox_usd']\n",
    "X_train, X_test, y_train, y_test = train_test_split(X, y, test_size=0.2)\n",
    "\n",
    "inicio = time.strftime(\"%X\")\n",
    "\n",
    "lgbm = lgb.LGBMRegressor(boosting_type = 'goss', learning_rate = 0.5, n_estimators = 250000)\n",
    "lgbm.fit(X_train,y_train)\n",
    "\n",
    "score = lgbm.score(X_test,y_test) * 100\n",
    "error = mean_squared_error(lgbm.predict(X_test),y_test)\n",
    "\n",
    "fin = time.strftime(\"%X\")\n",
    "joblib.dump(lgbm, 'algoritmos/lightgbm_menosDatos_250kEst.pkl')\n",
    "\n",
    "print(\"Tiempo: {} --- {} \\n Precision: {:.2f} \\n Error = {}  digitos = {}\".\\\n",
    "              format(inicio,fin,score,error, len(str(int(round(error,0))))))"
   ]
  },
  {
   "cell_type": "code",
   "execution_count": 4,
   "metadata": {
    "collapsed": true
   },
   "outputs": [],
   "source": [
    "analizar = pd.read_csv(\"../properati_dataset_modificado.csv\")\n",
    "\n",
    "analizar.loc[:,'price_usd'] = analizar.loc[:,columnas].apply(lambda x: lgbm.predict([x])[0],axis = 1)\n",
    "\n",
    "resultado = analizar.loc[:,['id','price_usd']]\n",
    "\n",
    "resultado.to_csv('resultados/Lightgbm_menosDatos_250kEst.csv', index = False)"
   ]
  },
  {
   "cell_type": "markdown",
   "metadata": {},
   "source": [
    "# Usando SVD con varias dimensiones"
   ]
  },
  {
   "cell_type": "code",
   "execution_count": 2,
   "metadata": {
    "collapsed": true
   },
   "outputs": [],
   "source": [
    "propiedades = pd.read_csv('../../set_datos_propiedades.csv')\n",
    "\n",
    "sup_min = 10\n",
    "sup_max = 150\n",
    "\n",
    "lat_min = -35\n",
    "lat_max = -34\n",
    "\n",
    "lon_min = -59\n",
    "lon_max = -58\n",
    "\n",
    "precio_min = 5000\n",
    "precio_max = 1000000\n",
    "\n",
    "propiedades = propiedades.loc[(propiedades.price_aprox_usd.notnull()) & (propiedades.superficie.notnull())\\\n",
    "                              & (propiedades.lat.notnull()) & (propiedades.lon.notnull()) & (propiedades.Year >=2016)\\\n",
    "                        & (propiedades.price_aprox_usd <= precio_max) & (propiedades.price_aprox_usd >= precio_min) &\\\n",
    "                         (propiedades.superficie <= sup_max) & (propiedades.superficie >= sup_min) &\\\n",
    "                      (propiedades.lat <= lat_max) & (propiedades.lat >= lat_min) &\\\n",
    "                       (propiedades.lon <= lon_max) & (propiedades.lon >= lon_min),:]\n",
    "\n",
    "columnas = ['superficie','lat', 'lon','property_type_encoded','seguridad','gimnasio', 'aire', 'pileta', 'cochera']\n",
    "columnas_precio = columnas + ['price_aprox_usd']"
   ]
  },
  {
   "cell_type": "code",
   "execution_count": 7,
   "metadata": {},
   "outputs": [
    {
     "name": "stdout",
     "output_type": "stream",
     "text": [
      "Dim = 2, Precision = 41.45, error = 7496075794.63, digitos = 10\n",
      "Dim = 3, Precision = 71.17, error = 3691564873.03, digitos = 10\n",
      "Dim = 4, Precision = 74.29, error = 3291071934.07, digitos = 10\n",
      "Dim = 5, Precision = 74.41, error = 3276746822.98, digitos = 10\n",
      "Dim = 6, Precision = 75.30, error = 3162544284.26, digitos = 10\n",
      "Dim = 7, Precision = 76.27, error = 3038492305.81, digitos = 10\n",
      "Dim = 8, Precision = 76.54, error = 3003914925.53, digitos = 10\n"
     ]
    }
   ],
   "source": [
    "X = propiedades.loc[:,columnas]\n",
    "y = propiedades.loc[:,'price_aprox_usd']\n",
    "X_train, X_test, y_train, y_test = train_test_split(X, y, test_size=0.2)\n",
    "\n",
    "for i in range(2,len(columnas)):\n",
    "    svd = TruncatedSVD(n_components = i)\n",
    "    datos = svd.fit_transform(X_train)\n",
    "    test = svd.transform(X_test)\n",
    "    \n",
    "    lgbm = lgb.LGBMRegressor(n_estimators = 100000)\n",
    "    lgbm.fit(datos,y_train)\n",
    "    precision = lgbm.score(test,y_test) * 100\n",
    "    error = mean_squared_error(lgbm.predict(test),y_test)\n",
    "    \n",
    "    print(\"Dim = {}, Precision = {:.2f}, error = {}, digitos = {}\".\\\n",
    "                  format(i,precision,error,len(str(int(round(error,0))))))"
   ]
  },
  {
   "cell_type": "code",
   "execution_count": 3,
   "metadata": {
    "collapsed": true
   },
   "outputs": [],
   "source": [
    "set_pruebas = analizar = pd.read_csv(\"../properati_dataset_modificado.csv\")\n",
    "\n",
    "svd = TruncatedSVD(n_components = 8)\n",
    "datos = svd.fit_transform(propiedades.loc[:,columnas])\n",
    "test = svd.transform(set_pruebas.loc[:,columnas])\n",
    "\n",
    "lgbm = lgb.LGBMRegressor(n_estimators = 100000)\n",
    "lgbm.fit(datos,propiedades.loc[:,'price_aprox_usd'])\n",
    "set_pruebas.loc[:,'price_usd'] = lgbm.predict(test)\n",
    "\n",
    "resultado = set_pruebas.loc[:,['id','price_usd']]\n",
    "resultado.to_csv('resultados/Lightgbm_SVD.csv', index = False)"
   ]
  },
  {
   "cell_type": "markdown",
   "metadata": {},
   "source": [
    "# Agregando el resultado de SVD dimension 2 al Dataframe"
   ]
  },
  {
   "cell_type": "code",
   "execution_count": 2,
   "metadata": {
    "collapsed": true
   },
   "outputs": [],
   "source": [
    "propiedades = pd.read_csv('../../set_datos_propiedades.csv')\n",
    "\n",
    "sup_min = 10\n",
    "sup_max = 150\n",
    "\n",
    "lat_min = -35\n",
    "lat_max = -34\n",
    "\n",
    "lon_min = -59\n",
    "lon_max = -58\n",
    "\n",
    "precio_min = 5000\n",
    "precio_max = 1000000\n",
    "\n",
    "propiedades = propiedades.loc[(propiedades.price_aprox_usd.notnull()) & (propiedades.superficie.notnull())\\\n",
    "                              & (propiedades.lat.notnull()) & (propiedades.lon.notnull()) & (propiedades.Year >=2016)\\\n",
    "                        & (propiedades.price_aprox_usd <= precio_max) & (propiedades.price_aprox_usd >= precio_min) &\\\n",
    "                         (propiedades.superficie <= sup_max) & (propiedades.superficie >= sup_min) &\\\n",
    "                      (propiedades.lat <= lat_max) & (propiedades.lat >= lat_min) &\\\n",
    "                       (propiedades.lon <= lon_max) & (propiedades.lon >= lon_min),:]\n",
    "\n",
    "prop = propiedades.loc[(propiedades.Year >= 2016), :]\n",
    "\n",
    "columnas = ['superficie','lat', 'lon','property_type_encoded','seguridad','gimnasio', 'aire', 'pileta', 'cochera']\n",
    "columnas_precio = columnas + ['price_aprox_usd']"
   ]
  },
  {
   "cell_type": "code",
   "execution_count": 3,
   "metadata": {
    "collapsed": true
   },
   "outputs": [],
   "source": [
    "set_entrenamiento = prop.loc[(prop.Year >= 2016) &((prop.Year < 2017) | (prop.Month < 6))\\\n",
    "                                    ,columnas_precio]\n",
    "set_pruebas = prop.loc[(prop.Year == 2017) & (prop.Month == 6),columnas_precio].head(20000)\n",
    "\n",
    "set_entrenamiento_datos = set_entrenamiento.loc[:,columnas]\n",
    "set_entrenamiento_resultado = set_entrenamiento.loc[:,'price_aprox_usd']"
   ]
  },
  {
   "cell_type": "code",
   "execution_count": 4,
   "metadata": {
    "collapsed": true
   },
   "outputs": [],
   "source": [
    "svd = TruncatedSVD()\n",
    "resultado = svd.fit_transform(set_entrenamiento_datos)\n",
    "resultado = pd.DataFrame(resultado)\n",
    "pruebas = svd.transform(set_pruebas.loc[:,columnas])\n",
    "pruebas = pd.DataFrame(pruebas)"
   ]
  },
  {
   "cell_type": "code",
   "execution_count": 5,
   "metadata": {},
   "outputs": [
    {
     "data": {
      "text/plain": [
       "count    334935.000000\n",
       "mean         95.098990\n",
       "std          24.394078\n",
       "min          52.920358\n",
       "25%          75.951302\n",
       "50%          88.599928\n",
       "75%         110.070518\n",
       "max         157.152840\n",
       "Name: SVD 1, dtype: float64"
      ]
     },
     "execution_count": 5,
     "metadata": {},
     "output_type": "execute_result"
    }
   ],
   "source": [
    "set_entrenamiento_datos.reset_index(drop = True, inplace = True)\n",
    "set_entrenamiento_datos.loc[:,'SVD 1'] = resultado.loc[:,0]\n",
    "set_entrenamiento_datos.loc[:,'SVD 2'] = resultado.loc[:,1]\n",
    "set_entrenamiento_datos['SVD 1'].describe()"
   ]
  },
  {
   "cell_type": "code",
   "execution_count": 6,
   "metadata": {},
   "outputs": [
    {
     "data": {
      "text/plain": [
       "count    20000.000000\n",
       "mean        96.581427\n",
       "std         24.831401\n",
       "min         52.920358\n",
       "25%         76.701836\n",
       "50%         90.073607\n",
       "75%        112.379512\n",
       "max        157.152840\n",
       "Name: SVD 1, dtype: float64"
      ]
     },
     "execution_count": 6,
     "metadata": {},
     "output_type": "execute_result"
    }
   ],
   "source": [
    "set_pruebas.reset_index(drop = True, inplace = True)\n",
    "set_pruebas.loc[:,'SVD 1'] = pruebas.loc[:,0]\n",
    "set_pruebas.loc[:,'SVD 2'] = pruebas.loc[:,1]\n",
    "set_pruebas['SVD 1'].describe()"
   ]
  },
  {
   "cell_type": "code",
   "execution_count": 7,
   "metadata": {
    "collapsed": true
   },
   "outputs": [],
   "source": [
    "columnas = columnas + ['SVD 1', 'SVD 2']"
   ]
  },
  {
   "cell_type": "code",
   "execution_count": 9,
   "metadata": {},
   "outputs": [
    {
     "name": "stdout",
     "output_type": "stream",
     "text": [
      "Precision = 92.14 % , error = 1094773934.55\n"
     ]
    }
   ],
   "source": [
    "boosting_type = 'goss'\n",
    "n_estimators = 100000\n",
    "learning_rate = 2.9\n",
    "\n",
    "lgbm = lgb.LGBMRegressor(n_estimators = n_estimators, boosting_type = boosting_type, learning_rate = learning_rate)\n",
    "lgbm.fit(set_entrenamiento_datos, set_entrenamiento_resultado)\n",
    "set_pruebas.loc[:,'resultado'] = set_pruebas.loc[:,columnas].apply(lambda x: lgbm.predict([x])[0],axis = 1)\n",
    "precision = lgbm.score(set_pruebas.loc[:,columnas],set_pruebas.price_aprox_usd) * 100\n",
    "error = mean_squared_error(set_pruebas.price_aprox_usd, set_pruebas.resultado)\n",
    "print(\"Precision = {:.2f} % , error = {}\".format(precision, error))"
   ]
  },
  {
   "cell_type": "code",
   "execution_count": 11,
   "metadata": {
    "collapsed": true
   },
   "outputs": [],
   "source": [
    "res = []"
   ]
  },
  {
   "cell_type": "code",
   "execution_count": null,
   "metadata": {},
   "outputs": [
    {
     "name": "stdout",
     "output_type": "stream",
     "text": [
      "('gbdt', ' - ', 1000, ' - ', 0.1)\n",
      "('gbdt', ' - ', 1000, ' - ', 0.3)\n",
      "('gbdt', ' - ', 1000, ' - ', 0.5)\n",
      "('gbdt', ' - ', 10000, ' - ', 0.1)\n",
      "('gbdt', ' - ', 10000, ' - ', 0.3)\n",
      "('gbdt', ' - ', 10000, ' - ', 0.5)\n",
      "('gbdt', ' - ', 100000, ' - ', 0.1)\n",
      "('gbdt', ' - ', 100000, ' - ', 0.3)\n",
      "('gbdt', ' - ', 100000, ' - ', 0.5)\n",
      "('dart', ' - ', 1000, ' - ', 0.1)\n",
      "('dart', ' - ', 1000, ' - ', 0.3)\n",
      "('dart', ' - ', 1000, ' - ', 0.5)\n"
     ]
    }
   ],
   "source": [
    "boosting = ['gbdt', 'dart', 'goss']\n",
    "estimators = [1000, 10000, 100000]\n",
    "learning_rate = [0.1, 0.3, 0.5]\n",
    "\n",
    "for b in boosting:\n",
    "    for e in estimators:\n",
    "        for lr in learning_rate:\n",
    "                    \n",
    "            lgbm = lgb.LGBMRegressor(boosting_type = b, n_estimators = e, learning_rate = lr)\n",
    "            lgbm.fit(set_entrenamiento_datos,set_entrenamiento_resultado)\n",
    "            set_pruebas.loc[:,'resultado'] = set_pruebas.loc[:,columnas].apply\\\n",
    "                    (lambda x: lgbm.predict([x])[0],axis = 1)\n",
    "            precision = lgbm.score(set_pruebas.loc[:,columnas],set_pruebas.price_aprox_usd) * 100\n",
    "            error = mean_squared_error(set_pruebas.price_aprox_usd,set_pruebas.resultado)\n",
    "            res.append((b, e, lr, precision, error))\n",
    "            print(b,' - ',e,' - ',lr)"
   ]
  },
  {
   "cell_type": "code",
   "execution_count": null,
   "metadata": {},
   "outputs": [],
   "source": [
    "for r in res:\n",
    "    print(\"Boosting_type = {}, n_estimators = {}, learning_rate = {}, precision = {:.2f} % , error = {}\"\\\n",
    "          .format(r[0],r[1],r[2],r[3],r[4]))"
   ]
  }
 ],
 "metadata": {
  "anaconda-cloud": {},
  "kernelspec": {
   "display_name": "Python 3",
   "language": "python",
   "name": "python3"
  },
  "language_info": {
   "codemirror_mode": {
    "name": "ipython",
    "version": 2
   },
   "file_extension": ".py",
   "mimetype": "text/x-python",
   "name": "python",
   "nbconvert_exporter": "python",
   "pygments_lexer": "ipython2",
   "version": "2.7.12"
  }
 },
 "nbformat": 4,
 "nbformat_minor": 2
}
