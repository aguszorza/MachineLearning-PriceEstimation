{
 "cells": [
  {
   "cell_type": "code",
   "execution_count": 1,
   "metadata": {
    "collapsed": true
   },
   "outputs": [],
   "source": [
    "import pandas as pd\n",
    "import numpy as np\n",
    "from sklearn.tree import DecisionTreeRegressor\n",
    "from sklearn.metrics import mean_squared_error\n",
    "from sklearn.model_selection import GridSearchCV\n",
    "from sklearn.externals import joblib\n",
    "import time\n",
    "from sklearn.decomposition import TruncatedSVD\n",
    "from sklearn.model_selection import train_test_split\n",
    "\n",
    "\n",
    "import warnings\n",
    "warnings.simplefilter(\"ignore\", category=DeprecationWarning)"
   ]
  },
  {
   "cell_type": "code",
   "execution_count": 2,
   "metadata": {
    "collapsed": true
   },
   "outputs": [],
   "source": [
    "propiedades = pd.read_csv('../../set_datos_propiedades.csv')"
   ]
  },
  {
   "cell_type": "code",
   "execution_count": 3,
   "metadata": {
    "collapsed": true
   },
   "outputs": [],
   "source": [
    "propiedades = propiedades.loc[(propiedades.price_aprox_usd.notnull()) & (propiedades.superficie.notnull()),\\\n",
    "                             ['place_name_encoded', 'property_type_encoded','price_aprox_usd','superficie',\\\n",
    "                             'Year','Month','seguridad','aire','gimnasio','cochera','pileta']]"
   ]
  },
  {
   "cell_type": "markdown",
   "metadata": {},
   "source": [
    "# Decision Tree"
   ]
  },
  {
   "cell_type": "code",
   "execution_count": 14,
   "metadata": {
    "collapsed": true
   },
   "outputs": [],
   "source": [
    "columnas = ['superficie','place_name_encoded','property_type_encoded','seguridad','gimnasio', 'aire', 'pileta', 'cochera']\n",
    "columnas_precio = columnas + ['price_aprox_usd']"
   ]
  },
  {
   "cell_type": "code",
   "execution_count": 15,
   "metadata": {
    "collapsed": true
   },
   "outputs": [],
   "source": [
    "set_entrenamiento = propiedades.loc[(propiedades.Year >= 2016) &((propiedades.Year < 2017) | (propiedades.Month < 6))\\\n",
    "                                    ,columnas_precio]\n",
    "set_pruebas = propiedades.loc[(propiedades.Year == 2017) & (propiedades.Month == 6),columnas_precio].head(20000)\n",
    "\n",
    "set_entrenamiento_datos = set_entrenamiento.loc[:,columnas]\n",
    "set_entrenamiento_resultado = set_entrenamiento.loc[:,'price_aprox_usd']"
   ]
  },
  {
   "cell_type": "code",
   "execution_count": 16,
   "metadata": {},
   "outputs": [
    {
     "name": "stdout",
     "output_type": "stream",
     "text": [
      "Precision = 90.99 % , error = 12434347138.596506\n"
     ]
    }
   ],
   "source": [
    "tree = DecisionTreeRegressor()\n",
    "tree.fit(set_entrenamiento_datos,set_entrenamiento_resultado)\n",
    "set_pruebas.loc[:,'resultado'] = set_pruebas.loc[:,columnas].apply(lambda x: tree.predict(x)[0],axis = 1)\n",
    "precision = tree.score(set_pruebas.loc[:,columnas],set_pruebas.price_aprox_usd) * 100\n",
    "error = mean_squared_error(set_pruebas.price_aprox_usd,set_pruebas.resultado)\n",
    "print(\"Precision = {:.2f} % , error = {}\".format(precision, error))"
   ]
  },
  {
   "cell_type": "markdown",
   "metadata": {},
   "source": [
    "## Ahora que tenemos una intuicion, probamos cambiando los parametros"
   ]
  },
  {
   "cell_type": "code",
   "execution_count": 7,
   "metadata": {
    "collapsed": true
   },
   "outputs": [],
   "source": [
    "columnas = ['superficie','place_name_encoded','property_type_encoded','seguridad','gimnasio', 'aire', 'pileta', 'cochera']\n",
    "columnas_precio = columnas + ['price_aprox_usd']"
   ]
  },
  {
   "cell_type": "code",
   "execution_count": 8,
   "metadata": {
    "collapsed": true
   },
   "outputs": [],
   "source": [
    "set_entrenamiento = propiedades.loc[(propiedades.Year >= 2016) &((propiedades.Year < 2017) | (propiedades.Month < 6))\\\n",
    "                                    ,columnas_precio]\n",
    "set_pruebas = propiedades.loc[(propiedades.Year == 2017) & (propiedades.Month == 6),columnas_precio].head(20000)\n",
    "\n",
    "set_entrenamiento_datos = set_entrenamiento.loc[:,columnas]\n",
    "set_entrenamiento_resultado = set_entrenamiento.loc[:,'price_aprox_usd']\n",
    "\n",
    "res = []"
   ]
  },
  {
   "cell_type": "code",
   "execution_count": null,
   "metadata": {
    "collapsed": true
   },
   "outputs": [],
   "source": [
    "lista_criterio = ['mse','friedman_mse']\n",
    "lista_max_depth = [None,1,5,10]\n",
    "lista_min_samples_split = [2,3]\n",
    "lista_min_samples_leaf = [1,10]\n",
    "lista_features = [0.4,0.6,1.0]\n",
    "\n",
    "for criterio in lista_criterio:\n",
    "    for max_depth in lista_max_depth:\n",
    "        for min_sample in lista_min_samples_split:\n",
    "            for min_leaf in lista_min_samples_leaf:\n",
    "                for feature in lista_features:\n",
    "                    \n",
    "                    tree = DecisionTreeRegressor(criterion = criterio, max_depth = max_depth, min_samples_split = min_sample,\\\n",
    "                                    min_samples_leaf = min_leaf, max_features = feature)\n",
    "                    tree.fit(set_entrenamiento_datos,set_entrenamiento_resultado)\n",
    "                    set_pruebas.loc[:,'resultado'] = set_pruebas.loc[:,columnas].apply\\\n",
    "                            (lambda x: tree.predict(x)[0],axis = 1)\n",
    "                    precision = tree.score(set_pruebas.loc[:,columnas],set_pruebas.loc[:,'price_aprox_usd']) * 100\n",
    "                    error = mean_squared_error(set_pruebas.price_aprox_usd,set_pruebas.resultado)\n",
    "                    res.append((criterio,max_depth,min_sample,min_leaf,feature,precision,error))\n",
    "                    print(criterio,' - ',max_depth,' - ',min_sample,' - ',min_leaf,' - ',feature)"
   ]
  },
  {
   "cell_type": "code",
   "execution_count": 10,
   "metadata": {
    "scrolled": false
   },
   "outputs": [
    {
     "name": "stdout",
     "output_type": "stream",
     "text": [
      "Criterio = mse, max_depth = None, min_sample_split = 2, min_sample_leaf = 1, features = 0.4, precision = 90.92 % , error = 12523178385.446316\n",
      "Criterio = mse, max_depth = None, min_sample_split = 2, min_sample_leaf = 1, features = 0.6, precision = 90.84 % , error = 12633432697.540848\n",
      "Criterio = mse, max_depth = None, min_sample_split = 2, min_sample_leaf = 1, features = 1.0, precision = 90.99 % , error = 12436424287.069954\n",
      "Criterio = mse, max_depth = None, min_sample_split = 2, min_sample_leaf = 10, features = 0.4, precision = 61.57 % , error = 53024760632.939766\n",
      "Criterio = mse, max_depth = None, min_sample_split = 2, min_sample_leaf = 10, features = 0.6, precision = 58.74 % , error = 56920716118.86883\n",
      "Criterio = mse, max_depth = None, min_sample_split = 2, min_sample_leaf = 10, features = 1.0, precision = 62.36 % , error = 51921658182.3563\n",
      "Criterio = mse, max_depth = None, min_sample_split = 3, min_sample_leaf = 1, features = 0.4, precision = 90.29 % , error = 13398537273.276394\n",
      "Criterio = mse, max_depth = None, min_sample_split = 3, min_sample_leaf = 1, features = 0.6, precision = 90.62 % , error = 12946473277.73687\n",
      "Criterio = mse, max_depth = None, min_sample_split = 3, min_sample_leaf = 1, features = 1.0, precision = 89.98 % , error = 13824638133.12685\n",
      "Criterio = mse, max_depth = None, min_sample_split = 3, min_sample_leaf = 10, features = 0.4, precision = 62.38 % , error = 51897113155.1373\n",
      "Criterio = mse, max_depth = None, min_sample_split = 3, min_sample_leaf = 10, features = 0.6, precision = 59.36 % , error = 56061802267.68974\n",
      "Criterio = mse, max_depth = None, min_sample_split = 3, min_sample_leaf = 10, features = 1.0, precision = 62.36 % , error = 51921324550.0338\n",
      "Criterio = mse, max_depth = 1, min_sample_split = 2, min_sample_leaf = 1, features = 0.4, precision = 8.04 % , error = 126866601834.1005\n",
      "Criterio = mse, max_depth = 1, min_sample_split = 2, min_sample_leaf = 1, features = 0.6, precision = 25.14 % , error = 103281682036.2066\n",
      "Criterio = mse, max_depth = 1, min_sample_split = 2, min_sample_leaf = 1, features = 1.0, precision = 25.14 % , error = 103281682036.20676\n",
      "Criterio = mse, max_depth = 1, min_sample_split = 2, min_sample_leaf = 10, features = 0.4, precision = 6.27 % , error = 129310236374.38138\n",
      "Criterio = mse, max_depth = 1, min_sample_split = 2, min_sample_leaf = 10, features = 0.6, precision = 25.14 % , error = 103281682036.2067\n",
      "Criterio = mse, max_depth = 1, min_sample_split = 2, min_sample_leaf = 10, features = 1.0, precision = 25.14 % , error = 103281682036.20676\n",
      "Criterio = mse, max_depth = 1, min_sample_split = 3, min_sample_leaf = 1, features = 0.4, precision = 25.14 % , error = 103281682036.20654\n",
      "Criterio = mse, max_depth = 1, min_sample_split = 3, min_sample_leaf = 1, features = 0.6, precision = 8.04 % , error = 126866601834.1005\n",
      "Criterio = mse, max_depth = 1, min_sample_split = 3, min_sample_leaf = 1, features = 1.0, precision = 25.14 % , error = 103281682036.20674\n",
      "Criterio = mse, max_depth = 1, min_sample_split = 3, min_sample_leaf = 10, features = 0.4, precision = 1.58 % , error = 135784182566.21402\n",
      "Criterio = mse, max_depth = 1, min_sample_split = 3, min_sample_leaf = 10, features = 0.6, precision = 25.14 % , error = 103281682036.20674\n",
      "Criterio = mse, max_depth = 1, min_sample_split = 3, min_sample_leaf = 10, features = 1.0, precision = 25.14 % , error = 103281682036.20663\n",
      "Criterio = mse, max_depth = 5, min_sample_split = 2, min_sample_leaf = 1, features = 0.4, precision = 36.10 % , error = 88162833459.66348\n",
      "Criterio = mse, max_depth = 5, min_sample_split = 2, min_sample_leaf = 1, features = 0.6, precision = 39.15 % , error = 83954629247.17972\n",
      "Criterio = mse, max_depth = 5, min_sample_split = 2, min_sample_leaf = 1, features = 1.0, precision = 40.84 % , error = 81613575697.65526\n",
      "Criterio = mse, max_depth = 5, min_sample_split = 2, min_sample_leaf = 10, features = 0.4, precision = 35.47 % , error = 89030508642.25435\n",
      "Criterio = mse, max_depth = 5, min_sample_split = 2, min_sample_leaf = 10, features = 0.6, precision = 40.24 % , error = 82442498795.26736\n",
      "Criterio = mse, max_depth = 5, min_sample_split = 2, min_sample_leaf = 10, features = 1.0, precision = 40.84 % , error = 81613575697.65527\n",
      "Criterio = mse, max_depth = 5, min_sample_split = 3, min_sample_leaf = 1, features = 0.4, precision = 38.31 % , error = 85104916787.55827\n",
      "Criterio = mse, max_depth = 5, min_sample_split = 3, min_sample_leaf = 1, features = 0.6, precision = 41.97 % , error = 80063690533.51427\n",
      "Criterio = mse, max_depth = 5, min_sample_split = 3, min_sample_leaf = 1, features = 1.0, precision = 40.84 % , error = 81613575697.65526\n",
      "Criterio = mse, max_depth = 5, min_sample_split = 3, min_sample_leaf = 10, features = 0.4, precision = 30.67 % , error = 95644129430.28612\n",
      "Criterio = mse, max_depth = 5, min_sample_split = 3, min_sample_leaf = 10, features = 0.6, precision = 17.10 % , error = 114366350173.6955\n",
      "Criterio = mse, max_depth = 5, min_sample_split = 3, min_sample_leaf = 10, features = 1.0, precision = 40.84 % , error = 81613575697.65527\n",
      "Criterio = mse, max_depth = 10, min_sample_split = 2, min_sample_leaf = 1, features = 0.4, precision = 54.39 % , error = 62925853433.49056\n",
      "Criterio = mse, max_depth = 10, min_sample_split = 2, min_sample_leaf = 1, features = 0.6, precision = 51.73 % , error = 66587107591.68717\n",
      "Criterio = mse, max_depth = 10, min_sample_split = 2, min_sample_leaf = 1, features = 1.0, precision = 54.65 % , error = 62566338944.95822\n",
      "Criterio = mse, max_depth = 10, min_sample_split = 2, min_sample_leaf = 10, features = 0.4, precision = 47.67 % , error = 72198890118.16615\n",
      "Criterio = mse, max_depth = 10, min_sample_split = 2, min_sample_leaf = 10, features = 0.6, precision = 48.30 % , error = 71324181594.83945\n",
      "Criterio = mse, max_depth = 10, min_sample_split = 2, min_sample_leaf = 10, features = 1.0, precision = 46.11 % , error = 74345456833.84073\n",
      "Criterio = mse, max_depth = 10, min_sample_split = 3, min_sample_leaf = 1, features = 0.4, precision = 46.81 % , error = 73378296092.91219\n",
      "Criterio = mse, max_depth = 10, min_sample_split = 3, min_sample_leaf = 1, features = 0.6, precision = 50.39 % , error = 68447104615.06246\n",
      "Criterio = mse, max_depth = 10, min_sample_split = 3, min_sample_leaf = 1, features = 1.0, precision = 54.65 % , error = 62561163944.95822\n",
      "Criterio = mse, max_depth = 10, min_sample_split = 3, min_sample_leaf = 10, features = 0.4, precision = 46.33 % , error = 74041581893.98581\n",
      "Criterio = mse, max_depth = 10, min_sample_split = 3, min_sample_leaf = 10, features = 0.6, precision = 52.57 % , error = 65438705230.89646\n",
      "Criterio = mse, max_depth = 10, min_sample_split = 3, min_sample_leaf = 10, features = 1.0, precision = 46.11 % , error = 74345456833.84073\n",
      "Criterio = friedman_mse, max_depth = None, min_sample_split = 2, min_sample_leaf = 1, features = 0.4, precision = 90.86 % , error = 12605271717.660795\n",
      "Criterio = friedman_mse, max_depth = None, min_sample_split = 2, min_sample_leaf = 1, features = 0.6, precision = 90.93 % , error = 12513842227.632835\n",
      "Criterio = friedman_mse, max_depth = None, min_sample_split = 2, min_sample_leaf = 1, features = 1.0, precision = 90.98 % , error = 12448471444.675638\n",
      "Criterio = friedman_mse, max_depth = None, min_sample_split = 2, min_sample_leaf = 10, features = 0.4, precision = 62.87 % , error = 51227323534.231316\n",
      "Criterio = friedman_mse, max_depth = None, min_sample_split = 2, min_sample_leaf = 10, features = 0.6, precision = 64.69 % , error = 48710697772.047195\n",
      "Criterio = friedman_mse, max_depth = None, min_sample_split = 2, min_sample_leaf = 10, features = 1.0, precision = 62.36 % , error = 51921390351.012474\n",
      "Criterio = friedman_mse, max_depth = None, min_sample_split = 3, min_sample_leaf = 1, features = 0.4, precision = 90.40 % , error = 13243240184.083107\n",
      "Criterio = friedman_mse, max_depth = None, min_sample_split = 3, min_sample_leaf = 1, features = 0.6, precision = 90.38 % , error = 13272382309.491701\n",
      "Criterio = friedman_mse, max_depth = None, min_sample_split = 3, min_sample_leaf = 1, features = 1.0, precision = 89.97 % , error = 13840844833.457441\n",
      "Criterio = friedman_mse, max_depth = None, min_sample_split = 3, min_sample_leaf = 10, features = 0.4, precision = 9.56 % , error = 124765124509.38785\n",
      "Criterio = friedman_mse, max_depth = None, min_sample_split = 3, min_sample_leaf = 10, features = 0.6, precision = 39.25 % , error = 83809786511.49998\n",
      "Criterio = friedman_mse, max_depth = None, min_sample_split = 3, min_sample_leaf = 10, features = 1.0, precision = 62.36 % , error = 51922062260.98422\n",
      "Criterio = friedman_mse, max_depth = 1, min_sample_split = 2, min_sample_leaf = 1, features = 0.4, precision = 8.04 % , error = 126866601834.10045\n",
      "Criterio = friedman_mse, max_depth = 1, min_sample_split = 2, min_sample_leaf = 1, features = 0.6, precision = 25.14 % , error = 103281682036.2067\n",
      "Criterio = friedman_mse, max_depth = 1, min_sample_split = 2, min_sample_leaf = 1, features = 1.0, precision = 25.14 % , error = 103281682036.20673\n",
      "Criterio = friedman_mse, max_depth = 1, min_sample_split = 2, min_sample_leaf = 10, features = 0.4, precision = 2.81 % , error = 134078048063.5254\n",
      "Criterio = friedman_mse, max_depth = 1, min_sample_split = 2, min_sample_leaf = 10, features = 0.6, precision = 2.81 % , error = 134078048063.52542\n",
      "Criterio = friedman_mse, max_depth = 1, min_sample_split = 2, min_sample_leaf = 10, features = 1.0, precision = 25.14 % , error = 103281682036.20662\n",
      "Criterio = friedman_mse, max_depth = 1, min_sample_split = 3, min_sample_leaf = 1, features = 0.4, precision = 2.81 % , error = 134078048063.5254\n",
      "Criterio = friedman_mse, max_depth = 1, min_sample_split = 3, min_sample_leaf = 1, features = 0.6, precision = 8.04 % , error = 126866601834.1005\n",
      "Criterio = friedman_mse, max_depth = 1, min_sample_split = 3, min_sample_leaf = 1, features = 1.0, precision = 25.14 % , error = 103281682036.20676\n",
      "Criterio = friedman_mse, max_depth = 1, min_sample_split = 3, min_sample_leaf = 10, features = 0.4, precision = 25.14 % , error = 103281682036.2066\n",
      "Criterio = friedman_mse, max_depth = 1, min_sample_split = 3, min_sample_leaf = 10, features = 0.6, precision = 2.81 % , error = 134078048063.52542\n",
      "Criterio = friedman_mse, max_depth = 1, min_sample_split = 3, min_sample_leaf = 10, features = 1.0, precision = 25.14 % , error = 103281682036.2066\n",
      "Criterio = friedman_mse, max_depth = 5, min_sample_split = 2, min_sample_leaf = 1, features = 0.4, precision = 36.31 % , error = 87870452884.9896\n",
      "Criterio = friedman_mse, max_depth = 5, min_sample_split = 2, min_sample_leaf = 1, features = 0.6, precision = 38.20 % , error = 85255082576.0799\n",
      "Criterio = friedman_mse, max_depth = 5, min_sample_split = 2, min_sample_leaf = 1, features = 1.0, precision = 40.84 % , error = 81613575697.65526\n",
      "Criterio = friedman_mse, max_depth = 5, min_sample_split = 2, min_sample_leaf = 10, features = 0.4, precision = 24.35 % , error = 104372684586.84572\n",
      "Criterio = friedman_mse, max_depth = 5, min_sample_split = 2, min_sample_leaf = 10, features = 0.6, precision = 14.13 % , error = 118466650896.15668\n",
      "Criterio = friedman_mse, max_depth = 5, min_sample_split = 2, min_sample_leaf = 10, features = 1.0, precision = 40.84 % , error = 81613575697.65526\n",
      "Criterio = friedman_mse, max_depth = 5, min_sample_split = 3, min_sample_leaf = 1, features = 0.4, precision = 36.49 % , error = 87617427301.29453\n",
      "Criterio = friedman_mse, max_depth = 5, min_sample_split = 3, min_sample_leaf = 1, features = 0.6, precision = 40.89 % , error = 81553005938.2496\n",
      "Criterio = friedman_mse, max_depth = 5, min_sample_split = 3, min_sample_leaf = 1, features = 1.0, precision = 40.84 % , error = 81613575697.65526\n",
      "Criterio = friedman_mse, max_depth = 5, min_sample_split = 3, min_sample_leaf = 10, features = 0.4, precision = 24.23 % , error = 104534418658.33081\n",
      "Criterio = friedman_mse, max_depth = 5, min_sample_split = 3, min_sample_leaf = 10, features = 0.6, precision = 39.46 % , error = 83517572722.54166\n",
      "Criterio = friedman_mse, max_depth = 5, min_sample_split = 3, min_sample_leaf = 10, features = 1.0, precision = 40.84 % , error = 81613575697.65524\n",
      "Criterio = friedman_mse, max_depth = 10, min_sample_split = 2, min_sample_leaf = 1, features = 0.4, precision = 53.40 % , error = 64289046442.879715\n",
      "Criterio = friedman_mse, max_depth = 10, min_sample_split = 2, min_sample_leaf = 1, features = 0.6, precision = 53.48 % , error = 64181904974.59927\n",
      "Criterio = friedman_mse, max_depth = 10, min_sample_split = 2, min_sample_leaf = 1, features = 1.0, precision = 54.65 % , error = 62566338944.95821\n",
      "Criterio = friedman_mse, max_depth = 10, min_sample_split = 2, min_sample_leaf = 10, features = 0.4, precision = 48.46 % , error = 71106910686.63257\n",
      "Criterio = friedman_mse, max_depth = 10, min_sample_split = 2, min_sample_leaf = 10, features = 0.6, precision = 49.57 % , error = 69567179482.68202\n",
      "Criterio = friedman_mse, max_depth = 10, min_sample_split = 2, min_sample_leaf = 10, features = 1.0, precision = 46.11 % , error = 74345456833.84073\n",
      "Criterio = friedman_mse, max_depth = 10, min_sample_split = 3, min_sample_leaf = 1, features = 0.4, precision = 52.70 % , error = 65256907590.59724\n",
      "Criterio = friedman_mse, max_depth = 10, min_sample_split = 3, min_sample_leaf = 1, features = 0.6, precision = 46.95 % , error = 73183867619.30122\n",
      "Criterio = friedman_mse, max_depth = 10, min_sample_split = 3, min_sample_leaf = 1, features = 1.0, precision = 54.65 % , error = 62566338944.95822\n",
      "Criterio = friedman_mse, max_depth = 10, min_sample_split = 3, min_sample_leaf = 10, features = 0.4, precision = 42.69 % , error = 79066914697.7851\n",
      "Criterio = friedman_mse, max_depth = 10, min_sample_split = 3, min_sample_leaf = 10, features = 0.6, precision = 51.21 % , error = 67307638509.869774\n",
      "Criterio = friedman_mse, max_depth = 10, min_sample_split = 3, min_sample_leaf = 10, features = 1.0, precision = 46.11 % , error = 74345456833.84073\n"
     ]
    }
   ],
   "source": [
    "for r in res:\n",
    "    print(\"Criterio = {}, max_depth = {}, min_sample_split = {}, min_sample_leaf = {}, features = {}, precision = {:.2f} % , error = {}\"\\\n",
    "          .format(r[0],r[1],r[2],r[3],r[4],r[5],r[6]))"
   ]
  },
  {
   "cell_type": "code",
   "execution_count": 11,
   "metadata": {},
   "outputs": [
    {
     "name": "stdout",
     "output_type": "stream",
     "text": [
      "Mayor precision = Criterio = mse, max_depth = None, min_sample_split = 2, min_sample_leaf = 1, features = 1.0, precision = 90.99 % , error = 12436424287.069954\n",
      "Menor error = Criterio = mse, max_depth = None, min_sample_split = 2, min_sample_leaf = 1, features = 1.0, precision = 90.99 % , error = 12436424287.069954\n"
     ]
    }
   ],
   "source": [
    "min_error = float('inf')\n",
    "max_precision = 0\n",
    "tupla_min_error = ()\n",
    "tupla_max_precision = ()\n",
    "for r in res:\n",
    "    if r[6] < min_error:\n",
    "        min_error = r[6]\n",
    "        tupla_min_error = r\n",
    "    if r[5] > max_precision:\n",
    "        max_precision = r[5]\n",
    "        tupla_max_precision = r\n",
    "        \n",
    "print(\"Mayor precision = Criterio = {}, max_depth = {}, min_sample_split = {}, min_sample_leaf = {}, features = {}, precision = {:.2f} % , error = {}\".\\\n",
    "              format(tupla_max_precision[0],tupla_max_precision[1],tupla_max_precision[2],tupla_max_precision[3],tupla_max_precision[4],tupla_max_precision[5],tupla_max_precision[6]))\n",
    "print(\"Menor error = Criterio = {}, max_depth = {}, min_sample_split = {}, min_sample_leaf = {}, features = {}, precision = {:.2f} % , error = {}\".\\\n",
    "              format(tupla_min_error[0],tupla_min_error[1],tupla_min_error[2],tupla_min_error[3],tupla_min_error[4],tupla_min_error[5],tupla_min_error[6]))"
   ]
  },
  {
   "cell_type": "markdown",
   "metadata": {},
   "source": [
    "## Tomamos criterio = mse, max_depth = None ,min_sample = 2 ,min_leaf = 1, features = 1.0"
   ]
  },
  {
   "cell_type": "code",
   "execution_count": 56,
   "metadata": {
    "collapsed": true
   },
   "outputs": [],
   "source": [
    "#Probamos distintas combinaciones de columnas, esta es la que dio mejores resultados\n",
    "\n",
    "columnas = ['superficie','place_name_encoded','property_type_encoded','seguridad','gimnasio','aire','pileta','cochera']\n",
    "columnas_precio = columnas + ['price_aprox_usd']"
   ]
  },
  {
   "cell_type": "code",
   "execution_count": 57,
   "metadata": {
    "collapsed": true
   },
   "outputs": [],
   "source": [
    "set_entrenamiento = propiedades.loc[(propiedades.Year >= 2016) &((propiedades.Year < 2017) | (propiedades.Month < 6))\\\n",
    "                                    ,columnas_precio]\n",
    "set_pruebas = propiedades.loc[(propiedades.Year == 2017) & (propiedades.Month == 6),columnas_precio].head(20000)\n",
    "\n",
    "set_entrenamiento_datos = set_entrenamiento.loc[:,columnas]\n",
    "set_entrenamiento_resultado = set_entrenamiento.loc[:,'price_aprox_usd']"
   ]
  },
  {
   "cell_type": "code",
   "execution_count": 58,
   "metadata": {
    "collapsed": true
   },
   "outputs": [],
   "source": [
    "criterio = 'mse'\n",
    "max_depth = None\n",
    "min_sample = 2\n",
    "min_leaf = 1\n",
    "feature = 1.0"
   ]
  },
  {
   "cell_type": "code",
   "execution_count": 59,
   "metadata": {},
   "outputs": [
    {
     "name": "stdout",
     "output_type": "stream",
     "text": [
      "Precision = 90.97 % , error = 12458466712.821684\n"
     ]
    }
   ],
   "source": [
    "tree = DecisionTreeRegressor(criterion = criterio, max_depth = max_depth, min_samples_split = min_sample,\\\n",
    "                                    min_samples_leaf = min_leaf, max_features = feature)\n",
    "tree.fit(set_entrenamiento_datos,set_entrenamiento_resultado)\n",
    "set_pruebas.loc[:,'resultado'] = set_pruebas.loc[:,columnas].apply(lambda x: tree.predict(x)[0],axis = 1)\n",
    "precision = tree.score(set_pruebas.loc[:,columnas],set_pruebas.price_aprox_usd) * 100\n",
    "error = mean_squared_error(set_pruebas.price_aprox_usd,set_pruebas.resultado)\n",
    "print(\"Precision = {:.2f} % , error = {}\".format(precision, error))"
   ]
  },
  {
   "cell_type": "markdown",
   "metadata": {},
   "source": [
    "# calculo con los verdaderos datos a analizar"
   ]
  },
  {
   "cell_type": "code",
   "execution_count": 60,
   "metadata": {
    "collapsed": true
   },
   "outputs": [],
   "source": [
    "analizar = pd.read_csv(\"../properati_dataset_modificado.csv\")"
   ]
  },
  {
   "cell_type": "code",
   "execution_count": 62,
   "metadata": {
    "collapsed": true
   },
   "outputs": [],
   "source": [
    "analizar.loc[:,'price_usd'] = analizar.loc[:,columnas].apply(lambda x: tree.predict(x)[0],axis = 1)"
   ]
  },
  {
   "cell_type": "code",
   "execution_count": 63,
   "metadata": {
    "collapsed": true
   },
   "outputs": [],
   "source": [
    "resultado = analizar.loc[:,['id','price_usd']]"
   ]
  },
  {
   "cell_type": "code",
   "execution_count": 64,
   "metadata": {
    "collapsed": true
   },
   "outputs": [],
   "source": [
    "resultado.to_csv('Decision_tree_resultados', index = False)"
   ]
  },
  {
   "cell_type": "markdown",
   "metadata": {},
   "source": [
    "# Ahora uso lat y lon en lugar de place name"
   ]
  },
  {
   "cell_type": "code",
   "execution_count": 2,
   "metadata": {
    "collapsed": true
   },
   "outputs": [],
   "source": [
    "propiedades = pd.read_csv('../../set_datos_propiedades.csv')"
   ]
  },
  {
   "cell_type": "code",
   "execution_count": 3,
   "metadata": {
    "collapsed": true
   },
   "outputs": [],
   "source": [
    "propiedades = propiedades.loc[(propiedades.price_aprox_usd.notnull()) & (propiedades.superficie.notnull())\\\n",
    "                              & (propiedades.lat.notnull()) & (propiedades.lon.notnull()),\\\n",
    "                             ['lat', 'lon', 'property_type_encoded','price_aprox_usd','superficie',\\\n",
    "                             'Year','Month','seguridad','aire','gimnasio','cochera','pileta']]"
   ]
  },
  {
   "cell_type": "code",
   "execution_count": 4,
   "metadata": {
    "collapsed": true
   },
   "outputs": [],
   "source": [
    "columnas = ['superficie','lat', 'lon','property_type_encoded','seguridad','gimnasio', 'aire', 'pileta', 'cochera']\n",
    "columnas_precio = columnas + ['price_aprox_usd']"
   ]
  },
  {
   "cell_type": "code",
   "execution_count": 5,
   "metadata": {
    "collapsed": true
   },
   "outputs": [],
   "source": [
    "set_entrenamiento = propiedades.loc[(propiedades.Year >= 2016) &((propiedades.Year < 2017) | (propiedades.Month < 6))\\\n",
    "                                    ,columnas_precio]\n",
    "set_pruebas = propiedades.loc[(propiedades.Year == 2017) & (propiedades.Month == 6),columnas_precio].head(20000)\n",
    "\n",
    "set_entrenamiento_datos = set_entrenamiento.loc[:,columnas]\n",
    "set_entrenamiento_resultado = set_entrenamiento.loc[:,'price_aprox_usd']"
   ]
  },
  {
   "cell_type": "code",
   "execution_count": 6,
   "metadata": {},
   "outputs": [
    {
     "name": "stdout",
     "output_type": "stream",
     "text": [
      "Precision = 98.28 % , error = 1989833789.7358894\n"
     ]
    }
   ],
   "source": [
    "tree = DecisionTreeRegressor()\n",
    "tree.fit(set_entrenamiento_datos,set_entrenamiento_resultado)\n",
    "set_pruebas.loc[:,'resultado'] = set_pruebas.loc[:,columnas].apply(lambda x: tree.predict(x)[0],axis = 1)\n",
    "precision = tree.score(set_pruebas.loc[:,columnas],set_pruebas.price_aprox_usd) * 100\n",
    "error = mean_squared_error(set_pruebas.price_aprox_usd,set_pruebas.resultado)\n",
    "print(\"Precision = {:.2f} % , error = {}\".format(precision, error))"
   ]
  },
  {
   "cell_type": "code",
   "execution_count": 7,
   "metadata": {
    "collapsed": true
   },
   "outputs": [],
   "source": [
    "res = []"
   ]
  },
  {
   "cell_type": "code",
   "execution_count": null,
   "metadata": {
    "collapsed": true,
    "scrolled": true
   },
   "outputs": [],
   "source": [
    "lista_criterio = ['mse','friedman_mse']\n",
    "lista_max_depth = [None,1,5,10]\n",
    "lista_min_samples_split = [2,3]\n",
    "lista_min_samples_leaf = [1,10]\n",
    "lista_features = [0.4,0.6,1.0]\n",
    "\n",
    "for criterio in lista_criterio:\n",
    "    for max_depth in lista_max_depth:\n",
    "        for min_sample in lista_min_samples_split:\n",
    "            for min_leaf in lista_min_samples_leaf:\n",
    "                for feature in lista_features:\n",
    "                    \n",
    "                    tree = DecisionTreeRegressor(criterion = criterio, max_depth = max_depth, min_samples_split = min_sample,\\\n",
    "                                    min_samples_leaf = min_leaf, max_features = feature)\n",
    "                    tree.fit(set_entrenamiento_datos,set_entrenamiento_resultado)\n",
    "                    set_pruebas.loc[:,'resultado'] = set_pruebas.loc[:,columnas].apply\\\n",
    "                            (lambda x: tree.predict(x)[0],axis = 1)\n",
    "                    precision = tree.score(set_pruebas.loc[:,columnas],set_pruebas.loc[:,'price_aprox_usd']) * 100\n",
    "                    error = mean_squared_error(set_pruebas.price_aprox_usd,set_pruebas.resultado)\n",
    "                    res.append((criterio,max_depth,min_sample,min_leaf,feature,precision,error))\n",
    "                    print(criterio,' - ',max_depth,' - ',min_sample,' - ',min_leaf,' - ',feature)"
   ]
  },
  {
   "cell_type": "code",
   "execution_count": 9,
   "metadata": {
    "scrolled": false
   },
   "outputs": [
    {
     "name": "stdout",
     "output_type": "stream",
     "text": [
      "Criterio = mse, max_depth = None, min_sample_split = 2, min_sample_leaf = 1, features = 0.4, precision = 98.05 % , error = 2255960804.956864\n",
      "Criterio = mse, max_depth = None, min_sample_split = 2, min_sample_leaf = 1, features = 0.6, precision = 98.28 % , error = 1989025537.2791593\n",
      "Criterio = mse, max_depth = None, min_sample_split = 2, min_sample_leaf = 1, features = 1.0, precision = 98.21 % , error = 2074825073.4398386\n",
      "Criterio = mse, max_depth = None, min_sample_split = 2, min_sample_leaf = 10, features = 0.4, precision = 64.17 % , error = 41481380227.237434\n",
      "Criterio = mse, max_depth = None, min_sample_split = 2, min_sample_leaf = 10, features = 0.6, precision = 57.61 % , error = 49080302558.42927\n",
      "Criterio = mse, max_depth = None, min_sample_split = 2, min_sample_leaf = 10, features = 1.0, precision = 63.76 % , error = 41963364067.33917\n",
      "Criterio = mse, max_depth = None, min_sample_split = 3, min_sample_leaf = 1, features = 0.4, precision = 95.81 % , error = 4850759665.253196\n",
      "Criterio = mse, max_depth = None, min_sample_split = 3, min_sample_leaf = 1, features = 0.6, precision = 96.90 % , error = 3588935789.116769\n",
      "Criterio = mse, max_depth = None, min_sample_split = 3, min_sample_leaf = 1, features = 1.0, precision = 97.53 % , error = 2862097179.227169\n",
      "Criterio = mse, max_depth = None, min_sample_split = 3, min_sample_leaf = 10, features = 0.4, precision = 63.61 % , error = 42133022913.45793\n",
      "Criterio = mse, max_depth = None, min_sample_split = 3, min_sample_leaf = 10, features = 0.6, precision = 60.60 % , error = 45617426324.334465\n",
      "Criterio = mse, max_depth = None, min_sample_split = 3, min_sample_leaf = 10, features = 1.0, precision = 63.76 % , error = 41964510431.52439\n",
      "Criterio = mse, max_depth = 1, min_sample_split = 2, min_sample_leaf = 1, features = 0.4, precision = 5.13 % , error = 109845938967.98868\n",
      "Criterio = mse, max_depth = 1, min_sample_split = 2, min_sample_leaf = 1, features = 0.6, precision = 18.33 % , error = 94559067043.93503\n",
      "Criterio = mse, max_depth = 1, min_sample_split = 2, min_sample_leaf = 1, features = 1.0, precision = 18.33 % , error = 94559067043.93501\n",
      "Criterio = mse, max_depth = 1, min_sample_split = 2, min_sample_leaf = 10, features = 0.4, precision = 18.33 % , error = 94559067043.93504\n",
      "Criterio = mse, max_depth = 1, min_sample_split = 2, min_sample_leaf = 10, features = 0.6, precision = 18.33 % , error = 94559067043.93506\n",
      "Criterio = mse, max_depth = 1, min_sample_split = 2, min_sample_leaf = 10, features = 1.0, precision = 18.33 % , error = 94559067043.93503\n",
      "Criterio = mse, max_depth = 1, min_sample_split = 3, min_sample_leaf = 1, features = 0.4, precision = 3.76 % , error = 111433490765.53677\n",
      "Criterio = mse, max_depth = 1, min_sample_split = 3, min_sample_leaf = 1, features = 0.6, precision = 5.13 % , error = 109845938967.98871\n",
      "Criterio = mse, max_depth = 1, min_sample_split = 3, min_sample_leaf = 1, features = 1.0, precision = 18.33 % , error = 94559067043.93504\n",
      "Criterio = mse, max_depth = 1, min_sample_split = 3, min_sample_leaf = 10, features = 0.4, precision = 3.65 % , error = 111556147085.53654\n",
      "Criterio = mse, max_depth = 1, min_sample_split = 3, min_sample_leaf = 10, features = 0.6, precision = 5.13 % , error = 109845938967.9887\n",
      "Criterio = mse, max_depth = 1, min_sample_split = 3, min_sample_leaf = 10, features = 1.0, precision = 18.33 % , error = 94559067043.93504\n",
      "Criterio = mse, max_depth = 5, min_sample_split = 2, min_sample_leaf = 1, features = 0.4, precision = 16.04 % , error = 97215022070.07983\n",
      "Criterio = mse, max_depth = 5, min_sample_split = 2, min_sample_leaf = 1, features = 0.6, precision = 39.57 % , error = 69968946834.17314\n",
      "Criterio = mse, max_depth = 5, min_sample_split = 2, min_sample_leaf = 1, features = 1.0, precision = 39.00 % , error = 70622977435.2081\n",
      "Criterio = mse, max_depth = 5, min_sample_split = 2, min_sample_leaf = 10, features = 0.4, precision = 30.58 % , error = 80378899968.38983\n",
      "Criterio = mse, max_depth = 5, min_sample_split = 2, min_sample_leaf = 10, features = 0.6, precision = 22.69 % , error = 89515572165.55896\n",
      "Criterio = mse, max_depth = 5, min_sample_split = 2, min_sample_leaf = 10, features = 1.0, precision = 26.76 % , error = 84794822611.61017\n",
      "Criterio = mse, max_depth = 5, min_sample_split = 3, min_sample_leaf = 1, features = 0.4, precision = 29.23 % , error = 81943866819.84268\n",
      "Criterio = mse, max_depth = 5, min_sample_split = 3, min_sample_leaf = 1, features = 0.6, precision = 31.41 % , error = 79419469295.21117\n",
      "Criterio = mse, max_depth = 5, min_sample_split = 3, min_sample_leaf = 1, features = 1.0, precision = 39.00 % , error = 70622977435.2081\n",
      "Criterio = mse, max_depth = 5, min_sample_split = 3, min_sample_leaf = 10, features = 0.4, precision = 27.56 % , error = 83869225480.64093\n",
      "Criterio = mse, max_depth = 5, min_sample_split = 3, min_sample_leaf = 10, features = 0.6, precision = 26.54 % , error = 85051716921.57663\n",
      "Criterio = mse, max_depth = 5, min_sample_split = 3, min_sample_leaf = 10, features = 1.0, precision = 26.76 % , error = 84794822611.61017\n",
      "Criterio = mse, max_depth = 10, min_sample_split = 2, min_sample_leaf = 1, features = 0.4, precision = 57.90 % , error = 48749379206.690765\n",
      "Criterio = mse, max_depth = 10, min_sample_split = 2, min_sample_leaf = 1, features = 0.6, precision = 63.24 % , error = 42565736054.589294\n",
      "Criterio = mse, max_depth = 10, min_sample_split = 2, min_sample_leaf = 1, features = 1.0, precision = 60.04 % , error = 46267319651.4866\n",
      "Criterio = mse, max_depth = 10, min_sample_split = 2, min_sample_leaf = 10, features = 0.4, precision = 43.15 % , error = 65826745998.34309\n",
      "Criterio = mse, max_depth = 10, min_sample_split = 2, min_sample_leaf = 10, features = 0.6, precision = 50.84 % , error = 56916072711.42975\n",
      "Criterio = mse, max_depth = 10, min_sample_split = 2, min_sample_leaf = 10, features = 1.0, precision = 46.57 % , error = 61863332525.71536\n",
      "Criterio = mse, max_depth = 10, min_sample_split = 3, min_sample_leaf = 1, features = 0.4, precision = 54.19 % , error = 53045252834.18482\n",
      "Criterio = mse, max_depth = 10, min_sample_split = 3, min_sample_leaf = 1, features = 0.6, precision = 64.66 % , error = 40918989087.68042\n",
      "Criterio = mse, max_depth = 10, min_sample_split = 3, min_sample_leaf = 1, features = 1.0, precision = 59.95 % , error = 46367319651.4866\n",
      "Criterio = mse, max_depth = 10, min_sample_split = 3, min_sample_leaf = 10, features = 0.4, precision = 43.75 % , error = 65128646072.320885\n",
      "Criterio = mse, max_depth = 10, min_sample_split = 3, min_sample_leaf = 10, features = 0.6, precision = 41.59 % , error = 67631745902.50509\n",
      "Criterio = mse, max_depth = 10, min_sample_split = 3, min_sample_leaf = 10, features = 1.0, precision = 46.57 % , error = 61863332525.71536\n",
      "Criterio = friedman_mse, max_depth = None, min_sample_split = 2, min_sample_leaf = 1, features = 0.4, precision = 97.88 % , error = 2457487463.536039\n",
      "Criterio = friedman_mse, max_depth = None, min_sample_split = 2, min_sample_leaf = 1, features = 0.6, precision = 98.23 % , error = 2055025871.5645523\n",
      "Criterio = friedman_mse, max_depth = None, min_sample_split = 2, min_sample_leaf = 1, features = 1.0, precision = 98.25 % , error = 2029055583.6078923\n",
      "Criterio = friedman_mse, max_depth = None, min_sample_split = 2, min_sample_leaf = 10, features = 0.4, precision = 42.42 % , error = 66672123708.73071\n",
      "Criterio = friedman_mse, max_depth = None, min_sample_split = 2, min_sample_leaf = 10, features = 0.6, precision = 65.80 % , error = 39601001712.78557\n",
      "Criterio = friedman_mse, max_depth = None, min_sample_split = 2, min_sample_leaf = 10, features = 1.0, precision = 63.76 % , error = 41965621244.039246\n",
      "Criterio = friedman_mse, max_depth = None, min_sample_split = 3, min_sample_leaf = 1, features = 0.4, precision = 96.39 % , error = 4184775555.9133053\n",
      "Criterio = friedman_mse, max_depth = None, min_sample_split = 3, min_sample_leaf = 1, features = 0.6, precision = 95.84 % , error = 4813108128.777667\n",
      "Criterio = friedman_mse, max_depth = None, min_sample_split = 3, min_sample_leaf = 1, features = 1.0, precision = 97.57 % , error = 2814625727.338652\n",
      "Criterio = friedman_mse, max_depth = None, min_sample_split = 3, min_sample_leaf = 10, features = 0.4, precision = 62.63 % , error = 43266924974.679535\n",
      "Criterio = friedman_mse, max_depth = None, min_sample_split = 3, min_sample_leaf = 10, features = 0.6, precision = 61.31 % , error = 44792141301.3744\n",
      "Criterio = friedman_mse, max_depth = None, min_sample_split = 3, min_sample_leaf = 10, features = 1.0, precision = 63.75 % , error = 41971840918.10189\n",
      "Criterio = friedman_mse, max_depth = 1, min_sample_split = 2, min_sample_leaf = 1, features = 0.4, precision = 18.33 % , error = 94559067043.93504\n",
      "Criterio = friedman_mse, max_depth = 1, min_sample_split = 2, min_sample_leaf = 1, features = 0.6, precision = 18.33 % , error = 94559067043.93509\n",
      "Criterio = friedman_mse, max_depth = 1, min_sample_split = 2, min_sample_leaf = 1, features = 1.0, precision = 18.33 % , error = 94559067043.93506\n",
      "Criterio = friedman_mse, max_depth = 1, min_sample_split = 2, min_sample_leaf = 10, features = 0.4, precision = 1.93 % , error = 113549127173.0803\n",
      "Criterio = friedman_mse, max_depth = 1, min_sample_split = 2, min_sample_leaf = 10, features = 0.6, precision = 3.65 % , error = 111556147085.53653\n",
      "Criterio = friedman_mse, max_depth = 1, min_sample_split = 2, min_sample_leaf = 10, features = 1.0, precision = 18.33 % , error = 94559067043.93504\n",
      "Criterio = friedman_mse, max_depth = 1, min_sample_split = 3, min_sample_leaf = 1, features = 0.4, precision = 18.33 % , error = 94559067043.93506\n",
      "Criterio = friedman_mse, max_depth = 1, min_sample_split = 3, min_sample_leaf = 1, features = 0.6, precision = 5.13 % , error = 109845938967.9887\n",
      "Criterio = friedman_mse, max_depth = 1, min_sample_split = 3, min_sample_leaf = 1, features = 1.0, precision = 18.33 % , error = 94559067043.93506\n",
      "Criterio = friedman_mse, max_depth = 1, min_sample_split = 3, min_sample_leaf = 10, features = 0.4, precision = 18.33 % , error = 94559067043.93503\n",
      "Criterio = friedman_mse, max_depth = 1, min_sample_split = 3, min_sample_leaf = 10, features = 0.6, precision = 3.65 % , error = 111556147085.5365\n",
      "Criterio = friedman_mse, max_depth = 1, min_sample_split = 3, min_sample_leaf = 10, features = 1.0, precision = 18.33 % , error = 94559067043.93503\n",
      "Criterio = friedman_mse, max_depth = 5, min_sample_split = 2, min_sample_leaf = 1, features = 0.4, precision = 33.27 % , error = 77266893927.94737\n",
      "Criterio = friedman_mse, max_depth = 5, min_sample_split = 2, min_sample_leaf = 1, features = 0.6, precision = 36.63 % , error = 73372553612.73248\n",
      "Criterio = friedman_mse, max_depth = 5, min_sample_split = 2, min_sample_leaf = 1, features = 1.0, precision = 39.00 % , error = 70622977435.2081\n",
      "Criterio = friedman_mse, max_depth = 5, min_sample_split = 2, min_sample_leaf = 10, features = 0.4, precision = 22.40 % , error = 89850060411.707\n",
      "Criterio = friedman_mse, max_depth = 5, min_sample_split = 2, min_sample_leaf = 10, features = 0.6, precision = 25.37 % , error = 86409506134.76012\n",
      "Criterio = friedman_mse, max_depth = 5, min_sample_split = 2, min_sample_leaf = 10, features = 1.0, precision = 26.76 % , error = 84794822611.61018\n",
      "Criterio = friedman_mse, max_depth = 5, min_sample_split = 3, min_sample_leaf = 1, features = 0.4, precision = 31.33 % , error = 79508708581.7131\n",
      "Criterio = friedman_mse, max_depth = 5, min_sample_split = 3, min_sample_leaf = 1, features = 0.6, precision = 40.37 % , error = 69046627849.75455\n",
      "Criterio = friedman_mse, max_depth = 5, min_sample_split = 3, min_sample_leaf = 1, features = 1.0, precision = 39.00 % , error = 70622977435.2081\n",
      "Criterio = friedman_mse, max_depth = 5, min_sample_split = 3, min_sample_leaf = 10, features = 0.4, precision = 30.02 % , error = 81027095956.03745\n",
      "Criterio = friedman_mse, max_depth = 5, min_sample_split = 3, min_sample_leaf = 10, features = 0.6, precision = 22.62 % , error = 89589518169.0754\n",
      "Criterio = friedman_mse, max_depth = 5, min_sample_split = 3, min_sample_leaf = 10, features = 1.0, precision = 26.76 % , error = 84794822611.61017\n",
      "Criterio = friedman_mse, max_depth = 10, min_sample_split = 2, min_sample_leaf = 1, features = 0.4, precision = 51.54 % , error = 56108199559.9877\n",
      "Criterio = friedman_mse, max_depth = 10, min_sample_split = 2, min_sample_leaf = 1, features = 0.6, precision = 62.03 % , error = 43964996074.440994\n",
      "Criterio = friedman_mse, max_depth = 10, min_sample_split = 2, min_sample_leaf = 1, features = 1.0, precision = 60.04 % , error = 46267319651.4866\n",
      "Criterio = friedman_mse, max_depth = 10, min_sample_split = 2, min_sample_leaf = 10, features = 0.4, precision = 40.61 % , error = 68763895197.04436\n",
      "Criterio = friedman_mse, max_depth = 10, min_sample_split = 2, min_sample_leaf = 10, features = 0.6, precision = 51.82 % , error = 55786580411.27388\n",
      "Criterio = friedman_mse, max_depth = 10, min_sample_split = 2, min_sample_leaf = 10, features = 1.0, precision = 46.57 % , error = 61863332525.71536\n",
      "Criterio = friedman_mse, max_depth = 10, min_sample_split = 3, min_sample_leaf = 1, features = 0.4, precision = 58.29 % , error = 48298830487.96459\n",
      "Criterio = friedman_mse, max_depth = 10, min_sample_split = 3, min_sample_leaf = 1, features = 0.6, precision = 64.28 % , error = 41353769724.52272\n",
      "Criterio = friedman_mse, max_depth = 10, min_sample_split = 3, min_sample_leaf = 1, features = 1.0, precision = 59.95 % , error = 46367319651.4866\n",
      "Criterio = friedman_mse, max_depth = 10, min_sample_split = 3, min_sample_leaf = 10, features = 0.4, precision = 39.07 % , error = 70549040402.24905\n",
      "Criterio = friedman_mse, max_depth = 10, min_sample_split = 3, min_sample_leaf = 10, features = 0.6, precision = 49.12 % , error = 58909279912.63107\n",
      "Criterio = friedman_mse, max_depth = 10, min_sample_split = 3, min_sample_leaf = 10, features = 1.0, precision = 46.57 % , error = 61863332525.71536\n"
     ]
    }
   ],
   "source": [
    "for r in res:\n",
    "    print(\"Criterio = {}, max_depth = {}, min_sample_split = {}, min_sample_leaf = {}, features = {}, precision = {:.2f} % , error = {}\"\\\n",
    "          .format(r[0],r[1],r[2],r[3],r[4],r[5],r[6]))"
   ]
  },
  {
   "cell_type": "code",
   "execution_count": 10,
   "metadata": {},
   "outputs": [
    {
     "name": "stdout",
     "output_type": "stream",
     "text": [
      "Mayor precision = Criterio = mse, max_depth = None, min_sample_split = 2, min_sample_leaf = 1, features = 0.6, precision = 98.28 % , error = 1989025537.2791593\n",
      "Menor error = Criterio = mse, max_depth = None, min_sample_split = 2, min_sample_leaf = 1, features = 0.6, precision = 98.28 % , error = 1989025537.2791593\n"
     ]
    }
   ],
   "source": [
    "min_error = float('inf')\n",
    "max_precision = 0\n",
    "tupla_min_error = ()\n",
    "tupla_max_precision = ()\n",
    "for r in res:\n",
    "    if r[6] < min_error:\n",
    "        min_error = r[6]\n",
    "        tupla_min_error = r\n",
    "    if r[5] > max_precision:\n",
    "        max_precision = r[5]\n",
    "        tupla_max_precision = r\n",
    "        \n",
    "print(\"Mayor precision = Criterio = {}, max_depth = {}, min_sample_split = {}, min_sample_leaf = {}, features = {}, precision = {:.2f} % , error = {}\".\\\n",
    "              format(tupla_max_precision[0],tupla_max_precision[1],tupla_max_precision[2],tupla_max_precision[3],tupla_max_precision[4],tupla_max_precision[5],tupla_max_precision[6]))\n",
    "print(\"Menor error = Criterio = {}, max_depth = {}, min_sample_split = {}, min_sample_leaf = {}, features = {}, precision = {:.2f} % , error = {}\".\\\n",
    "              format(tupla_min_error[0],tupla_min_error[1],tupla_min_error[2],tupla_min_error[3],tupla_min_error[4],tupla_min_error[5],tupla_min_error[6]))"
   ]
  },
  {
   "cell_type": "markdown",
   "metadata": {},
   "source": [
    "## Tomamos criterio = mse, max_depth = None ,min_sample = 2 ,min_leaf = 1, features = 0.6"
   ]
  },
  {
   "cell_type": "code",
   "execution_count": 49,
   "metadata": {
    "collapsed": true
   },
   "outputs": [],
   "source": [
    "#Probamos distintas combinaciones de columnas, esta es la que dio mejores resultados\n",
    "\n",
    "columnas = ['superficie','lat', 'lon','property_type_encoded','seguridad','gimnasio', 'aire', 'pileta', 'cochera']\n",
    "columnas_precio = columnas + ['price_aprox_usd']"
   ]
  },
  {
   "cell_type": "code",
   "execution_count": 50,
   "metadata": {
    "collapsed": true
   },
   "outputs": [],
   "source": [
    "set_entrenamiento = propiedades.loc[(propiedades.Year >= 2016) &((propiedades.Year < 2017) | (propiedades.Month < 6))\\\n",
    "                                    ,columnas_precio]\n",
    "set_pruebas = propiedades.loc[(propiedades.Year == 2017) & (propiedades.Month == 6),columnas_precio].head(20000)\n",
    "\n",
    "set_entrenamiento_datos = set_entrenamiento.loc[:,columnas]\n",
    "set_entrenamiento_resultado = set_entrenamiento.loc[:,'price_aprox_usd']"
   ]
  },
  {
   "cell_type": "code",
   "execution_count": 51,
   "metadata": {
    "collapsed": true
   },
   "outputs": [],
   "source": [
    "criterio = 'mse'\n",
    "max_depth = None\n",
    "min_sample = 2\n",
    "min_leaf = 1\n",
    "feature = 0.6"
   ]
  },
  {
   "cell_type": "code",
   "execution_count": 52,
   "metadata": {},
   "outputs": [
    {
     "name": "stdout",
     "output_type": "stream",
     "text": [
      "Precision = 98.10 % , error = 2198804392.142215\n"
     ]
    }
   ],
   "source": [
    "tree = DecisionTreeRegressor(criterion = criterio, max_depth = max_depth, min_samples_split = min_sample,\\\n",
    "                                    min_samples_leaf = min_leaf, max_features = feature)\n",
    "tree.fit(set_entrenamiento_datos,set_entrenamiento_resultado)\n",
    "set_pruebas.loc[:,'resultado'] = set_pruebas.loc[:,columnas].apply(lambda x: tree.predict(x)[0],axis = 1)\n",
    "precision = tree.score(set_pruebas.loc[:,columnas],set_pruebas.price_aprox_usd) * 100\n",
    "error = mean_squared_error(set_pruebas.price_aprox_usd,set_pruebas.resultado)\n",
    "print(\"Precision = {:.2f} % , error = {}\".format(precision, error))"
   ]
  },
  {
   "cell_type": "markdown",
   "metadata": {},
   "source": [
    "# calculo con los verdaderos datos a analizar"
   ]
  },
  {
   "cell_type": "code",
   "execution_count": 53,
   "metadata": {
    "collapsed": true
   },
   "outputs": [],
   "source": [
    "analizar = pd.read_csv(\"../properati_dataset_modificado.csv\")"
   ]
  },
  {
   "cell_type": "code",
   "execution_count": 54,
   "metadata": {
    "collapsed": true
   },
   "outputs": [],
   "source": [
    "analizar.loc[:,'price_usd'] = analizar.loc[:,columnas].apply(lambda x: tree.predict(x)[0],axis = 1)"
   ]
  },
  {
   "cell_type": "code",
   "execution_count": 55,
   "metadata": {
    "collapsed": true
   },
   "outputs": [],
   "source": [
    "resultado = analizar.loc[:,['id','price_usd']]"
   ]
  },
  {
   "cell_type": "code",
   "execution_count": 56,
   "metadata": {
    "collapsed": true
   },
   "outputs": [],
   "source": [
    "resultado.to_csv('resultados/Decision_tree_2', index = False)"
   ]
  },
  {
   "cell_type": "markdown",
   "metadata": {},
   "source": [
    "# Usando Grid Search y Cross Validation"
   ]
  },
  {
   "cell_type": "code",
   "execution_count": 2,
   "metadata": {
    "collapsed": true
   },
   "outputs": [],
   "source": [
    "propiedades = pd.read_csv('../../set_datos_propiedades.csv')\n",
    "\n",
    "propiedades = propiedades.loc[(propiedades.price_aprox_usd.notnull()) & (propiedades.superficie.notnull())\\\n",
    "                              & (propiedades.lat.notnull()) & (propiedades.lon.notnull()) & (propiedades.Year >=2016)]\n",
    "\n",
    "columnas = ['superficie','lat', 'lon','property_type_encoded','seguridad','gimnasio', 'aire', 'pileta', 'cochera']\n",
    "columnas_precio = columnas + ['price_aprox_usd']\n",
    "\n",
    "set_entrenamiento_datos = propiedades.loc[:,columnas]\n",
    "set_entrenamiento_resultado = propiedades.loc[:,'price_aprox_usd']"
   ]
  },
  {
   "cell_type": "code",
   "execution_count": 3,
   "metadata": {
    "collapsed": true
   },
   "outputs": [],
   "source": [
    "# Parametros\n",
    "\n",
    "criterios = ['mse','friedman_mse']\n",
    "max_depth = [None,1,5,10]\n",
    "samples_split = [2,3]\n",
    "features = [0.4,0.6,1.0]\n",
    "\n",
    "parametros = {\"criterion\" : criterios, \"max_depth\" : max_depth, \\\n",
    "              \"min_samples_split\" : samples_split, \"max_features\" : features}\n",
    "\n",
    "iteraciones_cross_validation = 75\n",
    "arbol = DecisionTreeRegressor()"
   ]
  },
  {
   "cell_type": "code",
   "execution_count": 4,
   "metadata": {},
   "outputs": [
    {
     "name": "stdout",
     "output_type": "stream",
     "text": [
      "Tiempo: 17:47:24 --- 19:17:30 \n",
      " Precision: 95.69 \n",
      " Parametros = {'criterion': 'mse', 'max_depth': None, 'max_features': 0.4, 'min_samples_split': 3}\n"
     ]
    }
   ],
   "source": [
    "inicio = time.strftime(\"%X\")\n",
    "\n",
    "grid = GridSearchCV( estimator = arbol, param_grid = parametros, n_jobs = -1, cv = iteraciones_cross_validation)\n",
    "\n",
    "grid.fit(set_entrenamiento_datos, set_entrenamiento_resultado)\n",
    "\n",
    "score = grid.best_score_ * 100\n",
    "mejores_parametros = grid.best_params_\n",
    "fin = time.strftime(\"%X\")\n",
    "\n",
    "print(\"Tiempo: {} --- {} \\n Precision: {:.2f} \\n Parametros = {}\".format(inicio,fin,score,mejores_parametros))"
   ]
  },
  {
   "cell_type": "code",
   "execution_count": 5,
   "metadata": {
    "collapsed": true
   },
   "outputs": [],
   "source": [
    "#Con 10 iteraciones de CV: Precision: 92.52       12:17:11 --- 12:29:12\n",
    "#               Parametros = {'criterion': 'mse', 'max_depth': None, 'max_features': 0.6, 'min_samples_split': 3}\n",
    "\n",
    "#Con 30 iteraciones de CV:  Precision: 94.97       11:24:03 --- 12:00:09\n",
    "#              Parametros = {'criterion': 'mse', 'max_depth': None, 'max_features': 0.4, 'min_samples_split': 2}\n",
    "\n",
    "#Con 50 iteraciones de CV:    Precision: 95.61     12:09:55 --- 13:12:40 \n",
    "#              Parametros = {'criterion': 'mse', 'max_depth': None, 'max_features': 0.6, 'min_samples_split': 2}"
   ]
  },
  {
   "cell_type": "code",
   "execution_count": 6,
   "metadata": {
    "collapsed": true
   },
   "outputs": [],
   "source": [
    "analizar = pd.read_csv(\"../properati_dataset_modificado.csv\")\n",
    "\n",
    "analizar.loc[:,'price_usd'] = analizar.loc[:,columnas].apply(lambda x: grid.predict(x)[0],axis = 1)\n",
    "\n",
    "resultado = analizar.loc[:,['id','price_usd']]\n",
    "\n",
    "resultado.to_csv('resultados/Decision_tree_GridSearch.csv', index = False)"
   ]
  },
  {
   "cell_type": "code",
   "execution_count": 7,
   "metadata": {},
   "outputs": [
    {
     "data": {
      "text/plain": [
       "['algoritmos/decision_tree.pkl']"
      ]
     },
     "execution_count": 7,
     "metadata": {},
     "output_type": "execute_result"
    }
   ],
   "source": [
    "joblib.dump(grid, 'algoritmos/decision_tree.pkl')"
   ]
  },
  {
   "cell_type": "markdown",
   "metadata": {},
   "source": [
    "## Hago bagging con el mejor algoritmo"
   ]
  },
  {
   "cell_type": "code",
   "execution_count": 2,
   "metadata": {
    "collapsed": true
   },
   "outputs": [],
   "source": [
    "propiedades = pd.read_csv('../../set_datos_propiedades.csv')\n",
    "\n",
    "propiedades = propiedades.loc[(propiedades.price_aprox_usd.notnull()) & (propiedades.superficie.notnull())\\\n",
    "                              & (propiedades.lat.notnull()) & (propiedades.lon.notnull()) & (propiedades.Year >=2016)]\n",
    "\n",
    "columnas = ['superficie','lat', 'lon','property_type_encoded','seguridad','gimnasio', 'aire', 'pileta', 'cochera']\n",
    "columnas_precio = columnas + ['price_aprox_usd']\n",
    "\n",
    "set_pruebas = analizar = pd.read_csv(\"../properati_dataset_modificado.csv\")\n",
    "set_pruebas.loc[:,'price_usd'] = 0.0"
   ]
  },
  {
   "cell_type": "code",
   "execution_count": 3,
   "metadata": {
    "collapsed": true
   },
   "outputs": [],
   "source": [
    "cant = 10\n",
    "\n",
    "for i in range(cant):\n",
    "    datos = propiedades.sample(frac = 0.4)\n",
    "    set_entrenamiento_datos = datos.loc[:,columnas]\n",
    "    set_entrenamiento_resultado = datos.loc[:,'price_aprox_usd']\n",
    "    \n",
    "    tree = DecisionTreeRegressor(criterion = 'mse', max_depth = None, max_features = 0.4, min_samples_split = 3)\n",
    "    \n",
    "    tree.fit(set_entrenamiento_datos,set_entrenamiento_resultado)\n",
    "    set_pruebas.loc[:,'res'] = set_pruebas.loc[:,columnas].apply(lambda x: tree.predict(x)[0],axis = 1)\n",
    "    set_pruebas.loc[:,'price_usd'] = set_pruebas.loc[:,'price_usd'] + set_pruebas.loc[:,'res']"
   ]
  },
  {
   "cell_type": "code",
   "execution_count": 4,
   "metadata": {
    "collapsed": true
   },
   "outputs": [],
   "source": [
    "set_pruebas.loc[:,'price_usd'] = set_pruebas.loc[:,'price_usd'] / cant\n",
    "\n",
    "resultado = set_pruebas.loc[:,['id','price_usd']]\n",
    "\n",
    "resultado.to_csv('resultados/Decision_tree_Cross_Validation.csv', index = False)"
   ]
  },
  {
   "cell_type": "markdown",
   "metadata": {},
   "source": [
    "# Usando Grid Search y Cross Validation con las fechas"
   ]
  },
  {
   "cell_type": "code",
   "execution_count": 3,
   "metadata": {
    "collapsed": true
   },
   "outputs": [],
   "source": [
    "propiedades = pd.read_csv('../../set_datos_propiedades.csv')\n",
    "\n",
    "propiedades = propiedades.loc[(propiedades.price_aprox_usd.notnull()) & (propiedades.superficie.notnull())\\\n",
    "                              & (propiedades.lat.notnull()) & (propiedades.lon.notnull()) & (propiedades.Year >=2016)]\n",
    "\n",
    "propiedades.loc[:,'fecha'] = propiedades.loc[:,['Year', 'Month']].apply(lambda x: int(str(x[0]) + str(x[1])), axis = 1)\n",
    "\n",
    "columnas = ['superficie','lat', 'lon','property_type_encoded','seguridad','gimnasio', 'aire','pileta', 'cochera', 'fecha']\n",
    "columnas_precio = columnas + ['price_aprox_usd']\n",
    "\n",
    "set_entrenamiento_datos = propiedades.loc[:,columnas]\n",
    "set_entrenamiento_resultado = propiedades.loc[:,'price_aprox_usd']"
   ]
  },
  {
   "cell_type": "code",
   "execution_count": 14,
   "metadata": {
    "collapsed": true
   },
   "outputs": [],
   "source": [
    "# Parametros\n",
    "\n",
    "criterios = ['mse','friedman_mse']\n",
    "max_depth = [None,5,10]\n",
    "features = [0.4,0.6,1.0]\n",
    "\n",
    "parametros = {\"criterion\" : criterios, \"max_depth\" : max_depth, \"max_features\" : features}\n",
    "\n",
    "iteraciones_cross_validation = 25\n",
    "arbol = DecisionTreeRegressor()"
   ]
  },
  {
   "cell_type": "code",
   "execution_count": 15,
   "metadata": {},
   "outputs": [
    {
     "name": "stdout",
     "output_type": "stream",
     "text": [
      "Tiempo: 20:55:33 --- 21:14:42 \n",
      " Precision: 94.61 \n",
      " Parametros = {'criterion': 'friedman_mse', 'max_depth': None, 'max_features': 0.6}\n"
     ]
    }
   ],
   "source": [
    "inicio = time.strftime(\"%X\")\n",
    "\n",
    "grid = GridSearchCV( estimator = arbol, param_grid = parametros, n_jobs = 2, cv = iteraciones_cross_validation)\n",
    "\n",
    "grid.fit(set_entrenamiento_datos, set_entrenamiento_resultado)\n",
    "\n",
    "score = grid.best_score_ * 100\n",
    "mejores_parametros = grid.best_params_\n",
    "fin = time.strftime(\"%X\")\n",
    "\n",
    "print(\"Tiempo: {} --- {} \\n Precision: {:.2f} \\n Parametros = {}\".format(inicio,fin,score,mejores_parametros))"
   ]
  },
  {
   "cell_type": "code",
   "execution_count": 17,
   "metadata": {
    "collapsed": true
   },
   "outputs": [],
   "source": [
    "analizar = pd.read_csv(\"../properati_dataset_modificado.csv\")\n",
    "\n",
    "analizar.loc[:,'Month'] = analizar.created_on.apply(lambda x: int(x.split('-')[1]))\n",
    "analizar.loc[:,'Year'] = analizar.created_on.apply(lambda x: int(x.split('-')[0]))\n",
    "analizar.loc[:,'fecha'] = analizar.loc[:,['Year', 'Month']].apply(lambda x: int(str(x[0]) + str(x[1])), axis = 1)\n",
    "\n",
    "analizar.loc[:,'price_usd'] = analizar.loc[:,columnas].apply(lambda x: grid.predict(x)[0],axis = 1)\n",
    "\n",
    "resultado = analizar.loc[:,['id','price_usd']]\n",
    "\n",
    "resultado.to_csv('resultados/Decision_tree_GridSearch_fechas.csv', index = False)"
   ]
  },
  {
   "cell_type": "code",
   "execution_count": 18,
   "metadata": {},
   "outputs": [
    {
     "data": {
      "text/plain": [
       "['algoritmos/decision_tree_3.pkl']"
      ]
     },
     "execution_count": 18,
     "metadata": {},
     "output_type": "execute_result"
    }
   ],
   "source": [
    "joblib.dump(grid, 'algoritmos/decision_tree_3.pkl')"
   ]
  },
  {
   "cell_type": "markdown",
   "metadata": {},
   "source": [
    "## Hago bagging con el mejor algoritmo"
   ]
  },
  {
   "cell_type": "code",
   "execution_count": 19,
   "metadata": {
    "collapsed": true
   },
   "outputs": [],
   "source": [
    "analizar.loc[:,'price_usd'] = 0.0"
   ]
  },
  {
   "cell_type": "code",
   "execution_count": 20,
   "metadata": {
    "collapsed": true
   },
   "outputs": [],
   "source": [
    "cant = 10\n",
    "\n",
    "for i in range(cant):\n",
    "    datos = propiedades.sample(frac = 0.4)\n",
    "    set_entrenamiento_datos = datos.loc[:,columnas]\n",
    "    set_entrenamiento_resultado = datos.loc[:,'price_aprox_usd']\n",
    "    \n",
    "    tree = DecisionTreeRegressor(criterion = 'friedman_mse', max_depth = None, max_features = 0.6)\n",
    "    \n",
    "    tree.fit(set_entrenamiento_datos,set_entrenamiento_resultado)\n",
    "    analizar.loc[:,'res'] = analizar.loc[:,columnas].apply(lambda x: tree.predict(x)[0],axis = 1)\n",
    "    analizar.loc[:,'price_usd'] = analizar.loc[:,'price_usd'] + analizar.loc[:,'res']"
   ]
  },
  {
   "cell_type": "code",
   "execution_count": 21,
   "metadata": {
    "collapsed": true
   },
   "outputs": [],
   "source": [
    "analizar.loc[:,'price_usd'] = analizar.loc[:,'price_usd'] / cant\n",
    "\n",
    "resultado = analizar.loc[:,['id','price_usd']]\n",
    "\n",
    "resultado.to_csv('resultados/Decision_tree_Cross_Validation_fechas.csv', index = False)"
   ]
  },
  {
   "cell_type": "markdown",
   "metadata": {},
   "source": [
    "# Usando Grid Search y Cross Validation con mas columnas"
   ]
  },
  {
   "cell_type": "code",
   "execution_count": 6,
   "metadata": {
    "collapsed": true
   },
   "outputs": [],
   "source": [
    "propiedades = pd.read_csv('../../set_datos_propiedades.csv')\n",
    "\n",
    "propiedades = propiedades.loc[(propiedades.price_aprox_usd.notnull()) & (propiedades.superficie.notnull())\\\n",
    "                              & (propiedades.lat.notnull()) & (propiedades.lon.notnull()) & (propiedades.Year >=2016)]\n",
    "\n",
    "columnas = ['superficie','lat', 'lon','property_type_encoded','seguridad','gimnasio', 'aire', \\\n",
    "            'pileta', 'cochera','transporte','comercio', 'servicios', 'doble piso', 'jardin']\n",
    "columnas_precio = columnas + ['price_aprox_usd']\n",
    "\n",
    "set_entrenamiento_datos = propiedades.loc[:,columnas]\n",
    "set_entrenamiento_resultado = propiedades.loc[:,'price_aprox_usd']"
   ]
  },
  {
   "cell_type": "code",
   "execution_count": 7,
   "metadata": {
    "collapsed": true
   },
   "outputs": [],
   "source": [
    "# Parametros\n",
    "\n",
    "criterios = ['mse','friedman_mse']\n",
    "max_depth = [None,60]\n",
    "features = [0.4,0.6,1.0]\n",
    "\n",
    "parametros = {\"criterion\" : criterios, \"max_depth\" : max_depth, \"max_features\" : features}\n",
    "\n",
    "iteraciones_cross_validation = 10\n",
    "arbol = DecisionTreeRegressor()"
   ]
  },
  {
   "cell_type": "code",
   "execution_count": 8,
   "metadata": {},
   "outputs": [
    {
     "name": "stdout",
     "output_type": "stream",
     "text": [
      "Tiempo: 18:43:39 --- 18:48:36 \n",
      " Precision: 92.76 \n",
      " Parametros = {'max_features': 1.0, 'criterion': 'mse', 'max_depth': 60}\n"
     ]
    }
   ],
   "source": [
    "inicio = time.strftime(\"%X\")\n",
    "\n",
    "grid = GridSearchCV( estimator = arbol, param_grid = parametros, n_jobs = 2, cv = iteraciones_cross_validation)\n",
    "\n",
    "grid.fit(set_entrenamiento_datos, set_entrenamiento_resultado)\n",
    "\n",
    "score = grid.best_score_ * 100\n",
    "mejores_parametros = grid.best_params_\n",
    "fin = time.strftime(\"%X\")\n",
    "\n",
    "print(\"Tiempo: {} --- {} \\n Precision: {:.2f} \\n Parametros = {}\".format(inicio,fin,score,mejores_parametros))"
   ]
  },
  {
   "cell_type": "code",
   "execution_count": 10,
   "metadata": {
    "collapsed": true
   },
   "outputs": [],
   "source": [
    "analizar = pd.read_csv(\"../properati_dataset_modificado.csv\")\n",
    "\n",
    "analizar.loc[:,'price_usd'] = analizar.loc[:,columnas].apply(lambda x: grid.predict([x])[0],axis = 1)\n",
    "\n",
    "resultado = analizar.loc[:,['id','price_usd']]\n",
    "\n",
    "resultado.to_csv('resultados/Decision_tree_GridSearch_mas_columnas.csv', index = False)"
   ]
  },
  {
   "cell_type": "markdown",
   "metadata": {},
   "source": [
    "## Hago bagging con el mejor algoritmo"
   ]
  },
  {
   "cell_type": "code",
   "execution_count": 12,
   "metadata": {
    "collapsed": true
   },
   "outputs": [],
   "source": [
    "propiedades = pd.read_csv('../..set_datos_propiedades.csv')\n",
    "\n",
    "propiedades = propiedades.loc[(propiedades.price_aprox_usd.notnull()) & (propiedades.superficie.notnull())\\\n",
    "                              & (propiedades.lat.notnull()) & (propiedades.lon.notnull()) & (propiedades.Year >=2016)]\n",
    "\n",
    "columnas = ['superficie','lat', 'lon','property_type_encoded','seguridad','gimnasio', 'aire', \\\n",
    "            'pileta', 'cochera','transporte','comercio', 'servicios', 'doble piso', 'jardin']\n",
    "columnas_precio = columnas + ['price_aprox_usd']\n",
    "\n",
    "set_pruebas = analizar = pd.read_csv(\"../properati_dataset_modificado.csv\")\n",
    "set_pruebas.loc[:,'price_usd'] = 0.0"
   ]
  },
  {
   "cell_type": "code",
   "execution_count": 15,
   "metadata": {
    "collapsed": true
   },
   "outputs": [],
   "source": [
    "cant = 10\n",
    "\n",
    "for i in range(cant):\n",
    "    datos = propiedades.sample(frac = 0.7)\n",
    "    set_entrenamiento_datos = datos.loc[:,columnas]\n",
    "    set_entrenamiento_resultado = datos.loc[:,'price_aprox_usd']\n",
    "    \n",
    "    tree = DecisionTreeRegressor(criterion = 'mse', max_depth = 60, max_features = 1.0)\n",
    "    \n",
    "    tree.fit(set_entrenamiento_datos,set_entrenamiento_resultado)\n",
    "    set_pruebas.loc[:,'res'] = set_pruebas.loc[:,columnas].apply(lambda x: tree.predict([x])[0],axis = 1)\n",
    "    set_pruebas.loc[:,'price_usd'] = set_pruebas.loc[:,'price_usd'] + set_pruebas.loc[:,'res']"
   ]
  },
  {
   "cell_type": "code",
   "execution_count": 16,
   "metadata": {
    "collapsed": true
   },
   "outputs": [],
   "source": [
    "set_pruebas.loc[:,'price_usd'] = set_pruebas.loc[:,'price_usd'] / cant\n",
    "\n",
    "resultado = set_pruebas.loc[:,['id','price_usd']]\n",
    "\n",
    "resultado.to_csv('resultados/Decision_tree_Cross_Validation_mas_columnas.csv', index = False)"
   ]
  },
  {
   "cell_type": "markdown",
   "metadata": {},
   "source": [
    "# Usando SVD con varias dimensiones"
   ]
  },
  {
   "cell_type": "code",
   "execution_count": 2,
   "metadata": {
    "collapsed": true
   },
   "outputs": [],
   "source": [
    "propiedades = pd.read_csv('../../set_datos_propiedades.csv')\n",
    "\n",
    "sup_min = 10\n",
    "sup_max = 300\n",
    "lat_min = -35\n",
    "lat_max = -34\n",
    "lon_min = -59\n",
    "lon_max = -58\n",
    "precio_min = 30000\n",
    "precio_max = 3000000\n",
    "\n",
    "propiedades = propiedades.loc[(propiedades.price_aprox_usd.notnull()) & (propiedades.superficie.notnull())\\\n",
    "                              & (propiedades.lat.notnull()) & (propiedades.lon.notnull()) & (propiedades.Year >=2016)\\\n",
    "                        & (propiedades.price_aprox_usd <= precio_max) & (propiedades.price_aprox_usd >= precio_min) &\\\n",
    "                         (propiedades.superficie <= sup_max) & (propiedades.superficie >= sup_min) &\\\n",
    "                      (propiedades.lat <= lat_max) & (propiedades.lat >= lat_min) &\\\n",
    "                       (propiedades.lon <= lon_max) & (propiedades.lon >= lon_min),:]\n",
    "\n",
    "columnas = ['superficie','lat', 'lon','property_type_encoded','seguridad','gimnasio', 'aire', 'pileta', 'cochera']\n",
    "columnas_precio = columnas + ['price_aprox_usd']"
   ]
  },
  {
   "cell_type": "code",
   "execution_count": 3,
   "metadata": {},
   "outputs": [
    {
     "name": "stdout",
     "output_type": "stream",
     "text": [
      "Dim = 2, Precision = 94.14, error = 730878798.442, digitos = 9\n",
      "Dim = 3, Precision = 95.24, error = 593020063.06, digitos = 9\n",
      "Dim = 4, Precision = 95.39, error = 575166124.756, digitos = 9\n",
      "Dim = 5, Precision = 95.42, error = 571276210.332, digitos = 9\n",
      "Dim = 6, Precision = 95.64, error = 543869222.969, digitos = 9\n",
      "Dim = 7, Precision = 95.51, error = 560562059.834, digitos = 9\n",
      "Dim = 8, Precision = 95.54, error = 556312307.442, digitos = 9\n"
     ]
    }
   ],
   "source": [
    "X = propiedades.loc[:,columnas]\n",
    "y = propiedades.loc[:,'price_aprox_usd']\n",
    "X_train, X_test, y_train, y_test = train_test_split(X, y, test_size=0.2)\n",
    "\n",
    "for i in range(2,len(columnas)):\n",
    "    svd = TruncatedSVD(n_components = i)\n",
    "    datos = svd.fit_transform(X_train)\n",
    "    test = svd.transform(X_test)\n",
    "    \n",
    "    tree = DecisionTreeRegressor()\n",
    "    tree.fit(datos,y_train)\n",
    "    precision = tree.score(test,y_test) * 100\n",
    "    error = mean_squared_error(tree.predict(test),y_test)\n",
    "    \n",
    "    print(\"Dim = {}, Precision = {:.2f}, error = {}, digitos = {}\".\\\n",
    "                  format(i,precision,error,len(str(int(round(error,0))))))"
   ]
  },
  {
   "cell_type": "code",
   "execution_count": 6,
   "metadata": {
    "collapsed": true
   },
   "outputs": [],
   "source": [
    "set_pruebas = analizar = pd.read_csv(\"../properati_dataset_modificado.csv\")\n",
    "\n",
    "svd = TruncatedSVD(n_components = 6)\n",
    "datos = svd.fit_transform(propiedades.loc[:,columnas])\n",
    "test = svd.transform(set_pruebas.loc[:,columnas])\n",
    "\n",
    "tree = DecisionTreeRegressor()\n",
    "tree.fit(datos,propiedades.loc[:,'price_aprox_usd'])\n",
    "set_pruebas.loc[:,'price_usd'] = tree.predict(test)\n",
    "\n",
    "resultado = set_pruebas.loc[:,['id','price_usd']]\n",
    "resultado.to_csv('resultados/Decision_Tree_SVD.csv', index = False)"
   ]
  },
  {
   "cell_type": "markdown",
   "metadata": {},
   "source": [
    "# Agregando el resultado de SVD dimension 2 al Dataframe"
   ]
  },
  {
   "cell_type": "code",
   "execution_count": 7,
   "metadata": {
    "collapsed": true
   },
   "outputs": [],
   "source": [
    "propiedades = pd.read_csv('../../set_datos_propiedades.csv')\n",
    "\n",
    "sup_min = 10\n",
    "sup_max = 300\n",
    "lat_min = -35\n",
    "lat_max = -34\n",
    "lon_min = -59\n",
    "lon_max = -58\n",
    "precio_min = 30000\n",
    "precio_max = 3000000\n",
    "\n",
    "propiedades = propiedades.loc[(propiedades.price_aprox_usd.notnull()) & (propiedades.superficie.notnull())\\\n",
    "                              & (propiedades.lat.notnull()) & (propiedades.lon.notnull()) & (propiedades.Year >=2016)\\\n",
    "                        & (propiedades.price_aprox_usd <= precio_max) & (propiedades.price_aprox_usd >= precio_min) &\\\n",
    "                         (propiedades.superficie <= sup_max) & (propiedades.superficie >= sup_min) &\\\n",
    "                      (propiedades.lat <= lat_max) & (propiedades.lat >= lat_min) &\\\n",
    "                       (propiedades.lon <= lon_max) & (propiedades.lon >= lon_min),:]\n",
    "\n",
    "prop = propiedades.loc[(propiedades.Year >= 2016), :]\n",
    "\n",
    "columnas = ['superficie','lat', 'lon','property_type_encoded','seguridad','gimnasio', 'aire', 'pileta', 'cochera']\n",
    "columnas_precio = columnas + ['price_aprox_usd']"
   ]
  },
  {
   "cell_type": "code",
   "execution_count": 8,
   "metadata": {
    "collapsed": true
   },
   "outputs": [],
   "source": [
    "set_entrenamiento = prop.loc[(prop.Year >= 2016) &((prop.Year < 2017) | (prop.Month < 6))\\\n",
    "                                    ,columnas_precio]\n",
    "set_pruebas = prop.loc[(prop.Year == 2017) & (prop.Month == 6),columnas_precio].head(20000)\n",
    "\n",
    "set_entrenamiento_datos = set_entrenamiento.loc[:,columnas]\n",
    "set_entrenamiento_resultado = set_entrenamiento.loc[:,'price_aprox_usd']"
   ]
  },
  {
   "cell_type": "code",
   "execution_count": 9,
   "metadata": {
    "collapsed": true
   },
   "outputs": [],
   "source": [
    "svd = TruncatedSVD()\n",
    "resultado = svd.fit_transform(set_entrenamiento_datos)\n",
    "resultado = pd.DataFrame(resultado)\n",
    "pruebas = svd.transform(set_pruebas.loc[:,columnas])\n",
    "pruebas = pd.DataFrame(pruebas)"
   ]
  },
  {
   "cell_type": "code",
   "execution_count": 10,
   "metadata": {},
   "outputs": [
    {
     "data": {
      "text/plain": [
       "count    334935.000000\n",
       "mean         95.098990\n",
       "std          24.394078\n",
       "min          52.920358\n",
       "25%          75.951302\n",
       "50%          88.599928\n",
       "75%         110.070518\n",
       "max         157.152840\n",
       "Name: SVD 1, dtype: float64"
      ]
     },
     "execution_count": 10,
     "metadata": {},
     "output_type": "execute_result"
    }
   ],
   "source": [
    "set_entrenamiento_datos.reset_index(drop = True, inplace = True)\n",
    "set_entrenamiento_datos.loc[:,'SVD 1'] = resultado.loc[:,0]\n",
    "set_entrenamiento_datos.loc[:,'SVD 2'] = resultado.loc[:,1]\n",
    "set_entrenamiento_datos['SVD 1'].describe()"
   ]
  },
  {
   "cell_type": "code",
   "execution_count": 11,
   "metadata": {},
   "outputs": [
    {
     "data": {
      "text/plain": [
       "count    20000.000000\n",
       "mean        96.581427\n",
       "std         24.831401\n",
       "min         52.920358\n",
       "25%         76.701836\n",
       "50%         90.073607\n",
       "75%        112.379512\n",
       "max        157.152840\n",
       "Name: SVD 1, dtype: float64"
      ]
     },
     "execution_count": 11,
     "metadata": {},
     "output_type": "execute_result"
    }
   ],
   "source": [
    "set_pruebas.reset_index(drop = True, inplace = True)\n",
    "set_pruebas.loc[:,'SVD 1'] = pruebas.loc[:,0]\n",
    "set_pruebas.loc[:,'SVD 2'] = pruebas.loc[:,1]\n",
    "set_pruebas['SVD 1'].describe()"
   ]
  },
  {
   "cell_type": "code",
   "execution_count": 12,
   "metadata": {
    "collapsed": true
   },
   "outputs": [],
   "source": [
    "columnas = columnas + ['SVD 1', 'SVD 2']"
   ]
  },
  {
   "cell_type": "code",
   "execution_count": 19,
   "metadata": {},
   "outputs": [
    {
     "name": "stdout",
     "output_type": "stream",
     "text": [
      "Precision = 96.92 % , error = 428205209.64\n"
     ]
    }
   ],
   "source": [
    "criterio = 'mse'\n",
    "max_depth = None\n",
    "min_sample = 2\n",
    "min_leaf = 1\n",
    "feature = 0.6\n",
    "\n",
    "tree = DecisionTreeRegressor(criterion = criterio, max_depth = max_depth, min_samples_split = min_sample,\\\n",
    "                                    min_samples_leaf = min_leaf, max_features = feature)\n",
    "tree.fit(set_entrenamiento_datos, set_entrenamiento_resultado)\n",
    "set_pruebas.loc[:,'resultado'] = set_pruebas.loc[:,columnas].apply(lambda x: tree.predict([x])[0],axis = 1)\n",
    "precision = tree.score(set_pruebas.loc[:,columnas],set_pruebas.price_aprox_usd) * 100\n",
    "error = mean_squared_error(set_pruebas.price_aprox_usd, set_pruebas.resultado)\n",
    "print(\"Precision = {:.2f} % , error = {}\".format(precision, error))"
   ]
  },
  {
   "cell_type": "code",
   "execution_count": 21,
   "metadata": {
    "collapsed": true
   },
   "outputs": [],
   "source": [
    "res = []"
   ]
  },
  {
   "cell_type": "code",
   "execution_count": null,
   "metadata": {
    "collapsed": true
   },
   "outputs": [],
   "source": [
    "lista_criterio = ['mse','friedman_mse']\n",
    "lista_max_depth = [None,1,5,10]\n",
    "lista_min_samples_split = [2,3]\n",
    "lista_min_samples_leaf = [1,10]\n",
    "lista_features = [0.4,0.6,1.0]\n",
    "\n",
    "for criterio in lista_criterio:\n",
    "    for max_depth in lista_max_depth:\n",
    "        for min_sample in lista_min_samples_split:\n",
    "            for min_leaf in lista_min_samples_leaf:\n",
    "                for feature in lista_features:\n",
    "                    \n",
    "                    tree = DecisionTreeRegressor(criterion = criterio, max_depth = max_depth, min_samples_split = min_sample,\\\n",
    "                                    min_samples_leaf = min_leaf, max_features = feature)\n",
    "                    tree.fit(set_entrenamiento_datos,set_entrenamiento_resultado)\n",
    "                    set_pruebas.loc[:,'resultado'] = set_pruebas.loc[:,columnas].apply\\\n",
    "                            (lambda x: tree.predict([x])[0],axis = 1)\n",
    "                    precision = tree.score(set_pruebas.loc[:,columnas],set_pruebas.price_aprox_usd) * 100\n",
    "                    error = mean_squared_error(set_pruebas.price_aprox_usd,set_pruebas.resultado)\n",
    "                    res.append((criterio,max_depth,min_sample,min_leaf,feature,precision,error))\n",
    "                    print(criterio,' - ',max_depth,' - ',min_sample,' - ',min_leaf,' - ',feature)"
   ]
  },
  {
   "cell_type": "code",
   "execution_count": 23,
   "metadata": {
    "scrolled": false
   },
   "outputs": [
    {
     "name": "stdout",
     "output_type": "stream",
     "text": [
      "Criterio = mse, max_depth = None, min_sample_split = 2, min_sample_leaf = 1, features = 0.4, precision = 96.78 % , error = 448563759.129\n",
      "Criterio = mse, max_depth = None, min_sample_split = 2, min_sample_leaf = 1, features = 0.6, precision = 96.64 % , error = 467097985.363\n",
      "Criterio = mse, max_depth = None, min_sample_split = 2, min_sample_leaf = 1, features = 1.0, precision = 96.85 % , error = 437849809.241\n",
      "Criterio = mse, max_depth = None, min_sample_split = 2, min_sample_leaf = 10, features = 0.4, precision = 89.00 % , error = 1530772522.34\n",
      "Criterio = mse, max_depth = None, min_sample_split = 2, min_sample_leaf = 10, features = 0.6, precision = 89.50 % , error = 1461564141.62\n",
      "Criterio = mse, max_depth = None, min_sample_split = 2, min_sample_leaf = 10, features = 1.0, precision = 90.44 % , error = 1331337408.24\n",
      "Criterio = mse, max_depth = None, min_sample_split = 3, min_sample_leaf = 1, features = 0.4, precision = 96.87 % , error = 435233903.01\n",
      "Criterio = mse, max_depth = None, min_sample_split = 3, min_sample_leaf = 1, features = 0.6, precision = 96.71 % , error = 458595167.106\n",
      "Criterio = mse, max_depth = None, min_sample_split = 3, min_sample_leaf = 1, features = 1.0, precision = 96.76 % , error = 451126412.46\n",
      "Criterio = mse, max_depth = None, min_sample_split = 3, min_sample_leaf = 10, features = 0.4, precision = 88.79 % , error = 1560094272.89\n",
      "Criterio = mse, max_depth = None, min_sample_split = 3, min_sample_leaf = 10, features = 0.6, precision = 89.50 % , error = 1460942460.59\n",
      "Criterio = mse, max_depth = None, min_sample_split = 3, min_sample_leaf = 10, features = 1.0, precision = 90.44 % , error = 1331177163.98\n",
      "Criterio = mse, max_depth = 1, min_sample_split = 2, min_sample_leaf = 1, features = 0.4, precision = 6.65 % , error = 12994666858.5\n",
      "Criterio = mse, max_depth = 1, min_sample_split = 2, min_sample_leaf = 1, features = 0.6, precision = 20.92 % , error = 11008379513.1\n",
      "Criterio = mse, max_depth = 1, min_sample_split = 2, min_sample_leaf = 1, features = 1.0, precision = 21.14 % , error = 10977824901.4\n",
      "Criterio = mse, max_depth = 1, min_sample_split = 2, min_sample_leaf = 10, features = 0.4, precision = 20.88 % , error = 11013029992.2\n",
      "Criterio = mse, max_depth = 1, min_sample_split = 2, min_sample_leaf = 10, features = 0.6, precision = 20.92 % , error = 11008379513.1\n",
      "Criterio = mse, max_depth = 1, min_sample_split = 2, min_sample_leaf = 10, features = 1.0, precision = 21.14 % , error = 10977824901.4\n",
      "Criterio = mse, max_depth = 1, min_sample_split = 3, min_sample_leaf = 1, features = 0.4, precision = 5.67 % , error = 13131321854.6\n",
      "Criterio = mse, max_depth = 1, min_sample_split = 3, min_sample_leaf = 1, features = 0.6, precision = 21.14 % , error = 10977824901.4\n",
      "Criterio = mse, max_depth = 1, min_sample_split = 3, min_sample_leaf = 1, features = 1.0, precision = 21.14 % , error = 10977824901.4\n",
      "Criterio = mse, max_depth = 1, min_sample_split = 3, min_sample_leaf = 10, features = 0.4, precision = 20.92 % , error = 11008379513.1\n",
      "Criterio = mse, max_depth = 1, min_sample_split = 3, min_sample_leaf = 10, features = 0.6, precision = 21.14 % , error = 10977824901.4\n",
      "Criterio = mse, max_depth = 1, min_sample_split = 3, min_sample_leaf = 10, features = 1.0, precision = 21.14 % , error = 10977824901.4\n",
      "Criterio = mse, max_depth = 5, min_sample_split = 2, min_sample_leaf = 1, features = 0.4, precision = 52.22 % , error = 6650267852.29\n",
      "Criterio = mse, max_depth = 5, min_sample_split = 2, min_sample_leaf = 1, features = 0.6, precision = 54.76 % , error = 6298047140.75\n",
      "Criterio = mse, max_depth = 5, min_sample_split = 2, min_sample_leaf = 1, features = 1.0, precision = 56.05 % , error = 6118020668.21\n",
      "Criterio = mse, max_depth = 5, min_sample_split = 2, min_sample_leaf = 10, features = 0.4, precision = 49.01 % , error = 7097874074.73\n",
      "Criterio = mse, max_depth = 5, min_sample_split = 2, min_sample_leaf = 10, features = 0.6, precision = 58.60 % , error = 5763186521.98\n",
      "Criterio = mse, max_depth = 5, min_sample_split = 2, min_sample_leaf = 10, features = 1.0, precision = 56.05 % , error = 6118020668.21\n",
      "Criterio = mse, max_depth = 5, min_sample_split = 3, min_sample_leaf = 1, features = 0.4, precision = 54.14 % , error = 6384283481.22\n",
      "Criterio = mse, max_depth = 5, min_sample_split = 3, min_sample_leaf = 1, features = 0.6, precision = 54.33 % , error = 6356702793.66\n",
      "Criterio = mse, max_depth = 5, min_sample_split = 3, min_sample_leaf = 1, features = 1.0, precision = 56.05 % , error = 6118020668.21\n",
      "Criterio = mse, max_depth = 5, min_sample_split = 3, min_sample_leaf = 10, features = 0.4, precision = 53.72 % , error = 6441767112.56\n",
      "Criterio = mse, max_depth = 5, min_sample_split = 3, min_sample_leaf = 10, features = 0.6, precision = 54.84 % , error = 6286889020.45\n",
      "Criterio = mse, max_depth = 5, min_sample_split = 3, min_sample_leaf = 10, features = 1.0, precision = 56.05 % , error = 6118020668.21\n",
      "Criterio = mse, max_depth = 10, min_sample_split = 2, min_sample_leaf = 1, features = 0.4, precision = 73.16 % , error = 3735514942.18\n",
      "Criterio = mse, max_depth = 10, min_sample_split = 2, min_sample_leaf = 1, features = 0.6, precision = 73.42 % , error = 3699297377.63\n",
      "Criterio = mse, max_depth = 10, min_sample_split = 2, min_sample_leaf = 1, features = 1.0, precision = 75.20 % , error = 3452183569.1\n",
      "Criterio = mse, max_depth = 10, min_sample_split = 2, min_sample_leaf = 10, features = 0.4, precision = 68.37 % , error = 4402221224.18\n",
      "Criterio = mse, max_depth = 10, min_sample_split = 2, min_sample_leaf = 10, features = 0.6, precision = 72.56 % , error = 3819941342.61\n",
      "Criterio = mse, max_depth = 10, min_sample_split = 2, min_sample_leaf = 10, features = 1.0, precision = 74.96 % , error = 3486084441.57\n",
      "Criterio = mse, max_depth = 10, min_sample_split = 3, min_sample_leaf = 1, features = 0.4, precision = 71.09 % , error = 4024132277.76\n",
      "Criterio = mse, max_depth = 10, min_sample_split = 3, min_sample_leaf = 1, features = 0.6, precision = 73.20 % , error = 3730882653.57\n",
      "Criterio = mse, max_depth = 10, min_sample_split = 3, min_sample_leaf = 1, features = 1.0, precision = 75.19 % , error = 3454162974.26\n",
      "Criterio = mse, max_depth = 10, min_sample_split = 3, min_sample_leaf = 10, features = 0.4, precision = 68.80 % , error = 4343399165.01\n",
      "Criterio = mse, max_depth = 10, min_sample_split = 3, min_sample_leaf = 10, features = 0.6, precision = 73.33 % , error = 3712959415.25\n",
      "Criterio = mse, max_depth = 10, min_sample_split = 3, min_sample_leaf = 10, features = 1.0, precision = 74.96 % , error = 3486084441.57\n",
      "Criterio = friedman_mse, max_depth = None, min_sample_split = 2, min_sample_leaf = 1, features = 0.4, precision = 97.16 % , error = 395590550.85\n",
      "Criterio = friedman_mse, max_depth = None, min_sample_split = 2, min_sample_leaf = 1, features = 0.6, precision = 96.04 % , error = 550734133.935\n",
      "Criterio = friedman_mse, max_depth = None, min_sample_split = 2, min_sample_leaf = 1, features = 1.0, precision = 96.84 % , error = 439601758.709\n",
      "Criterio = friedman_mse, max_depth = None, min_sample_split = 2, min_sample_leaf = 10, features = 0.4, precision = 88.39 % , error = 1615740392.0\n",
      "Criterio = friedman_mse, max_depth = None, min_sample_split = 2, min_sample_leaf = 10, features = 0.6, precision = 89.08 % , error = 1520636641.95\n",
      "Criterio = friedman_mse, max_depth = None, min_sample_split = 2, min_sample_leaf = 10, features = 1.0, precision = 90.44 % , error = 1331246685.74\n",
      "Criterio = friedman_mse, max_depth = None, min_sample_split = 3, min_sample_leaf = 1, features = 0.4, precision = 96.78 % , error = 447708265.075\n",
      "Criterio = friedman_mse, max_depth = None, min_sample_split = 3, min_sample_leaf = 1, features = 0.6, precision = 96.65 % , error = 466893940.372\n",
      "Criterio = friedman_mse, max_depth = None, min_sample_split = 3, min_sample_leaf = 1, features = 1.0, precision = 96.83 % , error = 441064149.067\n",
      "Criterio = friedman_mse, max_depth = None, min_sample_split = 3, min_sample_leaf = 10, features = 0.4, precision = 88.83 % , error = 1554272855.95\n",
      "Criterio = friedman_mse, max_depth = None, min_sample_split = 3, min_sample_leaf = 10, features = 0.6, precision = 89.87 % , error = 1410551252.89\n",
      "Criterio = friedman_mse, max_depth = None, min_sample_split = 3, min_sample_leaf = 10, features = 1.0, precision = 90.48 % , error = 1325176382.51\n",
      "Criterio = friedman_mse, max_depth = 1, min_sample_split = 2, min_sample_leaf = 1, features = 0.4, precision = 21.14 % , error = 10977824901.4\n",
      "Criterio = friedman_mse, max_depth = 1, min_sample_split = 2, min_sample_leaf = 1, features = 0.6, precision = 21.14 % , error = 10977824901.4\n",
      "Criterio = friedman_mse, max_depth = 1, min_sample_split = 2, min_sample_leaf = 1, features = 1.0, precision = 21.14 % , error = 10977824901.4\n",
      "Criterio = friedman_mse, max_depth = 1, min_sample_split = 2, min_sample_leaf = 10, features = 0.4, precision = 20.92 % , error = 11008379513.1\n",
      "Criterio = friedman_mse, max_depth = 1, min_sample_split = 2, min_sample_leaf = 10, features = 0.6, precision = 7.13 % , error = 12927672236.2\n",
      "Criterio = friedman_mse, max_depth = 1, min_sample_split = 2, min_sample_leaf = 10, features = 1.0, precision = 21.14 % , error = 10977824901.4\n",
      "Criterio = friedman_mse, max_depth = 1, min_sample_split = 3, min_sample_leaf = 1, features = 0.4, precision = 21.14 % , error = 10977824901.4\n",
      "Criterio = friedman_mse, max_depth = 1, min_sample_split = 3, min_sample_leaf = 1, features = 0.6, precision = 20.88 % , error = 11013029992.2\n",
      "Criterio = friedman_mse, max_depth = 1, min_sample_split = 3, min_sample_leaf = 1, features = 1.0, precision = 21.14 % , error = 10977824901.4\n",
      "Criterio = friedman_mse, max_depth = 1, min_sample_split = 3, min_sample_leaf = 10, features = 0.4, precision = 20.88 % , error = 11013029992.2\n",
      "Criterio = friedman_mse, max_depth = 1, min_sample_split = 3, min_sample_leaf = 10, features = 0.6, precision = 21.14 % , error = 10977824901.4\n",
      "Criterio = friedman_mse, max_depth = 1, min_sample_split = 3, min_sample_leaf = 10, features = 1.0, precision = 21.14 % , error = 10977824901.4\n",
      "Criterio = friedman_mse, max_depth = 5, min_sample_split = 2, min_sample_leaf = 1, features = 0.4, precision = 49.29 % , error = 7058470556.02\n",
      "Criterio = friedman_mse, max_depth = 5, min_sample_split = 2, min_sample_leaf = 1, features = 0.6, precision = 55.34 % , error = 6216950153.64\n",
      "Criterio = friedman_mse, max_depth = 5, min_sample_split = 2, min_sample_leaf = 1, features = 1.0, precision = 56.05 % , error = 6118020668.21\n",
      "Criterio = friedman_mse, max_depth = 5, min_sample_split = 2, min_sample_leaf = 10, features = 0.4, precision = 51.38 % , error = 6767817077.17\n",
      "Criterio = friedman_mse, max_depth = 5, min_sample_split = 2, min_sample_leaf = 10, features = 0.6, precision = 55.70 % , error = 6166133839.52\n",
      "Criterio = friedman_mse, max_depth = 5, min_sample_split = 2, min_sample_leaf = 10, features = 1.0, precision = 56.05 % , error = 6118020668.21\n",
      "Criterio = friedman_mse, max_depth = 5, min_sample_split = 3, min_sample_leaf = 1, features = 0.4, precision = 52.82 % , error = 6567566723.51\n",
      "Criterio = friedman_mse, max_depth = 5, min_sample_split = 3, min_sample_leaf = 1, features = 0.6, precision = 55.79 % , error = 6153562470.73\n",
      "Criterio = friedman_mse, max_depth = 5, min_sample_split = 3, min_sample_leaf = 1, features = 1.0, precision = 56.05 % , error = 6118020668.21\n",
      "Criterio = friedman_mse, max_depth = 5, min_sample_split = 3, min_sample_leaf = 10, features = 0.4, precision = 54.26 % , error = 6366739768.22\n",
      "Criterio = friedman_mse, max_depth = 5, min_sample_split = 3, min_sample_leaf = 10, features = 0.6, precision = 54.23 % , error = 6370666268.41\n",
      "Criterio = friedman_mse, max_depth = 5, min_sample_split = 3, min_sample_leaf = 10, features = 1.0, precision = 56.05 % , error = 6118020668.21\n",
      "Criterio = friedman_mse, max_depth = 10, min_sample_split = 2, min_sample_leaf = 1, features = 0.4, precision = 72.38 % , error = 3845027519.61\n",
      "Criterio = friedman_mse, max_depth = 10, min_sample_split = 2, min_sample_leaf = 1, features = 0.6, precision = 73.01 % , error = 3756799236.63\n",
      "Criterio = friedman_mse, max_depth = 10, min_sample_split = 2, min_sample_leaf = 1, features = 1.0, precision = 75.20 % , error = 3452222827.1\n",
      "Criterio = friedman_mse, max_depth = 10, min_sample_split = 2, min_sample_leaf = 10, features = 0.4, precision = 69.94 % , error = 4184769746.3\n",
      "Criterio = friedman_mse, max_depth = 10, min_sample_split = 2, min_sample_leaf = 10, features = 0.6, precision = 72.70 % , error = 3799704666.8\n",
      "Criterio = friedman_mse, max_depth = 10, min_sample_split = 2, min_sample_leaf = 10, features = 1.0, precision = 74.96 % , error = 3486084441.57\n",
      "Criterio = friedman_mse, max_depth = 10, min_sample_split = 3, min_sample_leaf = 1, features = 0.4, precision = 71.13 % , error = 4018545081.9\n",
      "Criterio = friedman_mse, max_depth = 10, min_sample_split = 3, min_sample_leaf = 1, features = 0.6, precision = 73.30 % , error = 3717068619.92\n",
      "Criterio = friedman_mse, max_depth = 10, min_sample_split = 3, min_sample_leaf = 1, features = 1.0, precision = 75.20 % , error = 3451577598.82\n",
      "Criterio = friedman_mse, max_depth = 10, min_sample_split = 3, min_sample_leaf = 10, features = 0.4, precision = 72.79 % , error = 3788257864.44\n",
      "Criterio = friedman_mse, max_depth = 10, min_sample_split = 3, min_sample_leaf = 10, features = 0.6, precision = 73.32 % , error = 3714404006.56\n",
      "Criterio = friedman_mse, max_depth = 10, min_sample_split = 3, min_sample_leaf = 10, features = 1.0, precision = 74.96 % , error = 3486084441.57\n"
     ]
    }
   ],
   "source": [
    "for r in res:\n",
    "    print(\"Criterio = {}, max_depth = {}, min_sample_split = {}, min_sample_leaf = {}, features = {}, precision = {:.2f} % , error = {}\"\\\n",
    "          .format(r[0],r[1],r[2],r[3],r[4],r[5],r[6]))"
   ]
  },
  {
   "cell_type": "code",
   "execution_count": 24,
   "metadata": {},
   "outputs": [
    {
     "name": "stdout",
     "output_type": "stream",
     "text": [
      "Mayor precision = Criterio = friedman_mse, max_depth = None, min_sample_split = 2, min_sample_leaf = 1, features = 0.4, precision = 97.16 % , error = 395590550.85\n",
      "Menor error = Criterio = friedman_mse, max_depth = None, min_sample_split = 2, min_sample_leaf = 1, features = 0.4, precision = 97.16 % , error = 395590550.85\n"
     ]
    }
   ],
   "source": [
    "min_error = float('inf')\n",
    "max_precision = 0\n",
    "tupla_min_error = ()\n",
    "tupla_max_precision = ()\n",
    "for r in res:\n",
    "    if r[6] < min_error:\n",
    "        min_error = r[6]\n",
    "        tupla_min_error = r\n",
    "    if r[5] > max_precision:\n",
    "        max_precision = r[5]\n",
    "        tupla_max_precision = r\n",
    "        \n",
    "print(\"Mayor precision = Criterio = {}, max_depth = {}, min_sample_split = {}, min_sample_leaf = {}, features = {}, precision = {:.2f} % , error = {}\".\\\n",
    "              format(tupla_max_precision[0],tupla_max_precision[1],tupla_max_precision[2],tupla_max_precision[3],tupla_max_precision[4],tupla_max_precision[5],tupla_max_precision[6]))\n",
    "print(\"Menor error = Criterio = {}, max_depth = {}, min_sample_split = {}, min_sample_leaf = {}, features = {}, precision = {:.2f} % , error = {}\".\\\n",
    "              format(tupla_min_error[0],tupla_min_error[1],tupla_min_error[2],tupla_min_error[3],tupla_min_error[4],tupla_min_error[5],tupla_min_error[6]))"
   ]
  },
  {
   "cell_type": "code",
   "execution_count": 25,
   "metadata": {
    "collapsed": true
   },
   "outputs": [],
   "source": [
    "criterio = 'friedman_mse'\n",
    "max_depth = None\n",
    "min_sample = 2\n",
    "min_leaf = 1\n",
    "feature = 0.4"
   ]
  },
  {
   "cell_type": "code",
   "execution_count": 33,
   "metadata": {},
   "outputs": [
    {
     "name": "stdout",
     "output_type": "stream",
     "text": [
      "Precision = 97.17 % , error = 394167047.417\n"
     ]
    }
   ],
   "source": [
    "tree = DecisionTreeRegressor(criterion = criterio, max_depth = max_depth, min_samples_split = min_sample,\\\n",
    "                                    min_samples_leaf = min_leaf, max_features = feature)\n",
    "tree.fit(set_entrenamiento_datos,set_entrenamiento_resultado)\n",
    "set_pruebas.loc[:,'resultado'] = set_pruebas.loc[:,columnas].apply(lambda x: tree.predict([x])[0],axis = 1)\n",
    "precision = tree.score(set_pruebas.loc[:,columnas],set_pruebas.price_aprox_usd) * 100\n",
    "error = mean_squared_error(set_pruebas.price_aprox_usd,set_pruebas.resultado)\n",
    "print(\"Precision = {:.2f} % , error = {}\".format(precision, error))"
   ]
  },
  {
   "cell_type": "markdown",
   "metadata": {},
   "source": [
    "# calculo con los verdaderos datos a analizar"
   ]
  },
  {
   "cell_type": "code",
   "execution_count": 34,
   "metadata": {
    "collapsed": true
   },
   "outputs": [],
   "source": [
    "analizar = pd.read_csv(\"../properati_dataset_modificado.csv\")"
   ]
  },
  {
   "cell_type": "code",
   "execution_count": 35,
   "metadata": {
    "collapsed": true
   },
   "outputs": [],
   "source": [
    "columnas = ['superficie','lat', 'lon','property_type_encoded','seguridad','gimnasio', 'aire', 'pileta', 'cochera']\n",
    "analisis = svd.transform(analizar.loc[:,columnas])\n",
    "analisis = pd.DataFrame(analisis)"
   ]
  },
  {
   "cell_type": "code",
   "execution_count": 36,
   "metadata": {},
   "outputs": [
    {
     "data": {
      "text/plain": [
       "count    1.416600e+04\n",
       "mean     3.301517e+02\n",
       "std      2.023766e+04\n",
       "min      4.621164e+01\n",
       "25%      8.041788e+01\n",
       "50%      1.004089e+02\n",
       "75%      1.568249e+02\n",
       "max      2.405964e+06\n",
       "Name: SVD 1, dtype: float64"
      ]
     },
     "execution_count": 36,
     "metadata": {},
     "output_type": "execute_result"
    }
   ],
   "source": [
    "analizar.loc[:,'SVD 1'] = analisis.loc[:,0]\n",
    "analizar.loc[:,'SVD 2'] = analisis.loc[:,1]\n",
    "analizar['SVD 1'].describe()"
   ]
  },
  {
   "cell_type": "code",
   "execution_count": 37,
   "metadata": {
    "collapsed": true
   },
   "outputs": [],
   "source": [
    "columnas += ['SVD 1', 'SVD 2']\n",
    "analizar.loc[:,'price_usd'] = analizar.loc[:,columnas].apply(lambda x: tree.predict([x])[0],axis = 1)"
   ]
  },
  {
   "cell_type": "code",
   "execution_count": 38,
   "metadata": {},
   "outputs": [
    {
     "data": {
      "text/plain": [
       "count      14166.000000\n",
       "mean      193623.159905\n",
       "std       147566.773996\n",
       "min         5000.000000\n",
       "25%        97500.000000\n",
       "50%       150000.000000\n",
       "75%       237950.000000\n",
       "max      1000000.000000\n",
       "Name: price_usd, dtype: float64"
      ]
     },
     "execution_count": 38,
     "metadata": {},
     "output_type": "execute_result"
    }
   ],
   "source": [
    "analizar.price_usd.describe()"
   ]
  },
  {
   "cell_type": "code",
   "execution_count": 39,
   "metadata": {
    "collapsed": true
   },
   "outputs": [],
   "source": [
    "resultado = analizar.loc[:,['id','price_usd']]"
   ]
  },
  {
   "cell_type": "code",
   "execution_count": 40,
   "metadata": {
    "collapsed": true
   },
   "outputs": [],
   "source": [
    "resultado.to_csv('resultados/Decision_tree_menos_datos_svd_agregada', index = False)"
   ]
  },
  {
   "cell_type": "markdown",
   "metadata": {},
   "source": [
    "# Grid Search y Cross Validation definitivo"
   ]
  },
  {
   "cell_type": "code",
   "execution_count": 2,
   "metadata": {
    "collapsed": true
   },
   "outputs": [],
   "source": [
    "sup_min = 10\n",
    "sup_max = 300\n",
    "lat_min = -35\n",
    "lat_max = -34\n",
    "lon_min = -59\n",
    "lon_max = -58\n",
    "precio_min = 30000\n",
    "precio_max = 3000000"
   ]
  },
  {
   "cell_type": "code",
   "execution_count": 3,
   "metadata": {
    "collapsed": true
   },
   "outputs": [],
   "source": [
    "propiedades = pd.read_csv('../../datos_con_fecha.csv')\n",
    "\n",
    "propiedades = propiedades.loc[(propiedades.price_aprox_usd.notnull()) & (propiedades.superficie.notnull())\\\n",
    "                              & (propiedades.lat.notnull()) & (propiedades.lon.notnull()) & (propiedades.Year >=2017)\\\n",
    "                        & (propiedades.price_aprox_usd <= precio_max) & (propiedades.price_aprox_usd >= precio_min) &\\\n",
    "                         (propiedades.superficie <= sup_max) & (propiedades.superficie >= sup_min) &\\\n",
    "                      (propiedades.lat <= lat_max) & (propiedades.lat >= lat_min) &\\\n",
    "                       (propiedades.lon <= lon_max) & (propiedades.lon >= lon_min),:]\n",
    "\n",
    "columnas = ['superficie','lat', 'lon','property_type_encoded','seguridad','gimnasio', 'aire', \\\n",
    "            'pileta', 'cochera','transporte','comercio', 'servicios', 'doble piso', 'jardin','fecha']\n",
    "\n",
    "set_entrenamiento_datos = propiedades.loc[:,columnas]\n",
    "set_entrenamiento_resultado = propiedades.loc[:,'price_aprox_usd']"
   ]
  },
  {
   "cell_type": "code",
   "execution_count": 4,
   "metadata": {
    "collapsed": true
   },
   "outputs": [],
   "source": [
    "# Parametros\n",
    "\n",
    "criterios = ['mse','friedman_mse']\n",
    "max_depth = [None,50,75,100,150]\n",
    "features = [0.4,0.6,0.8,1.0]\n",
    "\n",
    "parametros = {\"criterion\" : criterios, \"max_depth\" : max_depth, \"max_features\" : features}\n",
    "\n",
    "iteraciones_cross_validation = 12\n",
    "arbol = DecisionTreeRegressor()"
   ]
  },
  {
   "cell_type": "code",
   "execution_count": 5,
   "metadata": {},
   "outputs": [
    {
     "name": "stdout",
     "output_type": "stream",
     "text": [
      "Tiempo: 22:41:48 --- 22:58:00 \n",
      " Precision: 95.80 \n",
      " Parametros = {'criterion': 'mse', 'max_depth': 100, 'max_features': 0.8}\n"
     ]
    }
   ],
   "source": [
    "inicio = time.strftime(\"%X\")\n",
    "\n",
    "grid = GridSearchCV( estimator = arbol, param_grid = parametros, n_jobs = 2, cv = iteraciones_cross_validation)\n",
    "\n",
    "grid.fit(set_entrenamiento_datos, set_entrenamiento_resultado)\n",
    "\n",
    "score = grid.best_score_ * 100\n",
    "mejores_parametros = grid.best_params_\n",
    "fin = time.strftime(\"%X\")\n",
    "\n",
    "print(\"Tiempo: {} --- {} \\n Precision: {:.2f} \\n Parametros = {}\".format(inicio,fin,score,mejores_parametros))"
   ]
  },
  {
   "cell_type": "code",
   "execution_count": 6,
   "metadata": {},
   "outputs": [
    {
     "data": {
      "text/plain": [
       "['algoritmos/decision_tree_definitivo.pkl']"
      ]
     },
     "execution_count": 6,
     "metadata": {},
     "output_type": "execute_result"
    }
   ],
   "source": [
    "analizar = pd.read_csv(\"../properati_dataset_modificado2.csv\")\n",
    "\n",
    "analizar.loc[:,'price_usd'] = analizar.loc[:,columnas].apply(lambda x: grid.predict(x)[0],axis = 1)\n",
    "\n",
    "resultado = analizar.loc[:,['id','price_usd']]\n",
    "\n",
    "resultado.to_csv('resultados/Decision_tree_GridSearch_definitivo.csv', index = False)\n",
    "joblib.dump(grid, 'algoritmos/decision_tree_definitivo.pkl')"
   ]
  },
  {
   "cell_type": "markdown",
   "metadata": {},
   "source": [
    "# Haciendo bagging"
   ]
  },
  {
   "cell_type": "code",
   "execution_count": 9,
   "metadata": {
    "collapsed": true
   },
   "outputs": [],
   "source": [
    "propiedades = pd.read_csv('../../datos_con_fecha.csv')\n",
    "\n",
    "sup_min = 10\n",
    "sup_max = 300\n",
    "lat_min = -35\n",
    "lat_max = -34\n",
    "lon_min = -59\n",
    "lon_max = -58\n",
    "precio_min = 30000\n",
    "precio_max = 3000000\n",
    "\n",
    "propiedades = propiedades.loc[(propiedades.price_aprox_usd.notnull()) & (propiedades.superficie.notnull())\\\n",
    "                              & (propiedades.lat.notnull()) & (propiedades.lon.notnull()) & (propiedades.Year >=2017)\\\n",
    "                        & (propiedades.price_aprox_usd <= precio_max) & (propiedades.price_aprox_usd >= precio_min) &\\\n",
    "                         (propiedades.superficie <= sup_max) & (propiedades.superficie >= sup_min) &\\\n",
    "                      (propiedades.lat <= lat_max) & (propiedades.lat >= lat_min) &\\\n",
    "                       (propiedades.lon <= lon_max) & (propiedades.lon >= lon_min),:]\n",
    "\n",
    "set_pruebas = pd.read_csv(\"../properati_dataset_modificado2.csv\")\n",
    "set_pruebas.loc[:,'price_usd'] = 0.0"
   ]
  },
  {
   "cell_type": "code",
   "execution_count": 10,
   "metadata": {},
   "outputs": [
    {
     "name": "stdout",
     "output_type": "stream",
     "text": [
      "0 - 1 - 2 - 3 - 4 - 5 - 6 - 7 - 8 - 9 - "
     ]
    }
   ],
   "source": [
    "cant = 10\n",
    "col = ['superficie','lat', 'lon','property_type_encoded','fecha']\n",
    "comodidades = ['seguridad','gimnasio','aire','pileta','cochera','transporte','comercio','servicios','doble piso','jardin']\n",
    "\n",
    "for i in range(cant):\n",
    "    com = list(np.random.choice(comodidades,6,replace = False))\n",
    "    columnas = col + com\n",
    "    set_entrenamiento_datos = propiedades.loc[:,columnas]\n",
    "    set_entrenamiento_resultado = propiedades.loc[:,'price_aprox_usd']\n",
    "    \n",
    "    tree = DecisionTreeRegressor(criterion = 'mse', max_depth = 100, max_features = 0.8)\n",
    "    \n",
    "    tree.fit(set_entrenamiento_datos,set_entrenamiento_resultado)\n",
    "    set_pruebas.loc[:,'res'] = set_pruebas.loc[:,columnas].apply(lambda x: tree.predict(x)[0],axis = 1)\n",
    "    set_pruebas.loc[:,'price_usd'] = set_pruebas.loc[:,'price_usd'] + set_pruebas.loc[:,'res']\n",
    "    print(i,end = ' - ')"
   ]
  },
  {
   "cell_type": "code",
   "execution_count": 11,
   "metadata": {
    "collapsed": true
   },
   "outputs": [],
   "source": [
    "set_pruebas.loc[:,'price_usd'] = set_pruebas.loc[:,'price_usd'] / cant\n",
    "\n",
    "resultado = set_pruebas.loc[:,['id','price_usd']]\n",
    "\n",
    "resultado.to_csv('resultados/Decision_tree_bagging_definitivo.csv', index = False)"
   ]
  },
  {
   "cell_type": "markdown",
   "metadata": {},
   "source": [
    "# Grid Search y Cross Validation definitivo sin fecha"
   ]
  },
  {
   "cell_type": "code",
   "execution_count": 2,
   "metadata": {
    "collapsed": true
   },
   "outputs": [],
   "source": [
    "sup_min = 10\n",
    "sup_max = 300\n",
    "lat_min = -35\n",
    "lat_max = -34\n",
    "lon_min = -59\n",
    "lon_max = -58\n",
    "precio_min = 30000\n",
    "precio_max = 3000000"
   ]
  },
  {
   "cell_type": "code",
   "execution_count": 3,
   "metadata": {
    "collapsed": true
   },
   "outputs": [],
   "source": [
    "propiedades = pd.read_csv('../../datos_con_fecha.csv')\n",
    "\n",
    "propiedades = propiedades.loc[(propiedades.price_aprox_usd.notnull()) & (propiedades.superficie.notnull())\\\n",
    "                              & (propiedades.lat.notnull()) & (propiedades.lon.notnull()) & (propiedades.Year >=2017)\\\n",
    "                        & (propiedades.price_aprox_usd <= precio_max) & (propiedades.price_aprox_usd >= precio_min) &\\\n",
    "                         (propiedades.superficie <= sup_max) & (propiedades.superficie >= sup_min) &\\\n",
    "                      (propiedades.lat <= lat_max) & (propiedades.lat >= lat_min) &\\\n",
    "                       (propiedades.lon <= lon_max) & (propiedades.lon >= lon_min),:]\n",
    "\n",
    "columnas = ['superficie','lat', 'lon','property_type_encoded','seguridad','gimnasio', 'aire', \\\n",
    "            'pileta', 'cochera','transporte','comercio', 'servicios', 'doble piso', 'jardin']\n",
    "\n",
    "set_entrenamiento_datos = propiedades.loc[:,columnas]\n",
    "set_entrenamiento_resultado = propiedades.loc[:,'price_aprox_usd']"
   ]
  },
  {
   "cell_type": "code",
   "execution_count": 4,
   "metadata": {
    "collapsed": true
   },
   "outputs": [],
   "source": [
    "# Parametros\n",
    "\n",
    "criterios = ['mse','friedman_mse']\n",
    "max_depth = [None,50,75,100,150]\n",
    "features = [0.4,0.6,0.8,1.0]\n",
    "\n",
    "parametros = {\"criterion\" : criterios, \"max_depth\" : max_depth, \"max_features\" : features}\n",
    "\n",
    "iteraciones_cross_validation = 20\n",
    "arbol = DecisionTreeRegressor()"
   ]
  },
  {
   "cell_type": "code",
   "execution_count": 5,
   "metadata": {},
   "outputs": [
    {
     "name": "stdout",
     "output_type": "stream",
     "text": [
      "Tiempo: 17:33:11 --- 17:50:26 \n",
      " Precision: 96.39 \n",
      " Parametros = {'max_features': 0.8, 'criterion': 'mse', 'max_depth': 100}\n"
     ]
    }
   ],
   "source": [
    "inicio = time.strftime(\"%X\")\n",
    "\n",
    "grid = GridSearchCV( estimator = arbol, param_grid = parametros, n_jobs = 2, cv = iteraciones_cross_validation)\n",
    "\n",
    "grid.fit(set_entrenamiento_datos, set_entrenamiento_resultado)\n",
    "\n",
    "score = grid.best_score_ * 100\n",
    "mejores_parametros = grid.best_params_\n",
    "fin = time.strftime(\"%X\")\n",
    "\n",
    "print(\"Tiempo: {} --- {} \\n Precision: {:.2f} \\n Parametros = {}\".format(inicio,fin,score,mejores_parametros))"
   ]
  },
  {
   "cell_type": "code",
   "execution_count": 7,
   "metadata": {},
   "outputs": [
    {
     "data": {
      "text/plain": [
       "['algoritmos/decision_tree_definitivo_sinfecha.pkl']"
      ]
     },
     "execution_count": 7,
     "metadata": {},
     "output_type": "execute_result"
    }
   ],
   "source": [
    "analizar = pd.read_csv(\"../properati_dataset_modificado2.csv\")\n",
    "\n",
    "analizar.loc[:,'price_usd'] = analizar.loc[:,columnas].apply(lambda x: grid.predict([x])[0],axis = 1)\n",
    "\n",
    "resultado = analizar.loc[:,['id','price_usd']]\n",
    "\n",
    "resultado.to_csv('resultados/Decision_tree_GridSearch_definitivo_sinfecha.csv', index = False)\n",
    "joblib.dump(grid, 'algoritmos/decision_tree_definitivo_sinfecha.pkl')"
   ]
  },
  {
   "cell_type": "markdown",
   "metadata": {},
   "source": [
    "# Haciendo bagging sin fecha"
   ]
  },
  {
   "cell_type": "code",
   "execution_count": 8,
   "metadata": {
    "collapsed": true
   },
   "outputs": [],
   "source": [
    "propiedades = pd.read_csv('../../datos_con_fecha.csv')\n",
    "\n",
    "sup_min = 10\n",
    "sup_max = 300\n",
    "lat_min = -35\n",
    "lat_max = -34\n",
    "lon_min = -59\n",
    "lon_max = -58\n",
    "precio_min = 30000\n",
    "precio_max = 3000000\n",
    "\n",
    "propiedades = propiedades.loc[(propiedades.price_aprox_usd.notnull()) & (propiedades.superficie.notnull())\\\n",
    "                              & (propiedades.lat.notnull()) & (propiedades.lon.notnull()) & (propiedades.Year >=2017)\\\n",
    "                        & (propiedades.price_aprox_usd <= precio_max) & (propiedades.price_aprox_usd >= precio_min) &\\\n",
    "                         (propiedades.superficie <= sup_max) & (propiedades.superficie >= sup_min) &\\\n",
    "                      (propiedades.lat <= lat_max) & (propiedades.lat >= lat_min) &\\\n",
    "                       (propiedades.lon <= lon_max) & (propiedades.lon >= lon_min),:]\n",
    "\n",
    "set_pruebas = pd.read_csv(\"../properati_dataset_modificado2.csv\")\n",
    "set_pruebas.loc[:,'price_usd'] = 0.0"
   ]
  },
  {
   "cell_type": "code",
   "execution_count": 12,
   "metadata": {
    "collapsed": true
   },
   "outputs": [],
   "source": [
    "cant = 10\n",
    "col = ['superficie','lat', 'lon','property_type_encoded']\n",
    "comodidades = ['seguridad','gimnasio','aire','pileta','cochera','transporte','comercio','servicios','doble piso','jardin']\n",
    "\n",
    "for i in range(cant):\n",
    "    com = list(np.random.choice(comodidades,6,replace = False))\n",
    "    columnas = col + com\n",
    "    set_entrenamiento_datos = propiedades.loc[:,columnas]\n",
    "    set_entrenamiento_resultado = propiedades.loc[:,'price_aprox_usd']\n",
    "    \n",
    "    tree = DecisionTreeRegressor(criterion = 'mse', max_depth = 100, max_features = 0.8)\n",
    "    \n",
    "    tree.fit(set_entrenamiento_datos,set_entrenamiento_resultado)\n",
    "    set_pruebas.loc[:,'res'] = set_pruebas.loc[:,columnas].apply(lambda x: tree.predict([x])[0],axis = 1)\n",
    "    set_pruebas.loc[:,'price_usd'] = set_pruebas.loc[:,'price_usd'] + set_pruebas.loc[:,'res']"
   ]
  },
  {
   "cell_type": "code",
   "execution_count": 13,
   "metadata": {
    "collapsed": true
   },
   "outputs": [],
   "source": [
    "set_pruebas.loc[:,'price_usd'] = set_pruebas.loc[:,'price_usd'] / cant\n",
    "\n",
    "resultado = set_pruebas.loc[:,['id','price_usd']]\n",
    "\n",
    "resultado.to_csv('resultados/Decision_tree_bagging_definitivo_sinfecha.csv', index = False)"
   ]
  },
  {
   "cell_type": "markdown",
   "metadata": {},
   "source": [
    "# Grid Search y Cross Validation con columnas de descripcion"
   ]
  },
  {
   "cell_type": "code",
   "execution_count": 3,
   "metadata": {
    "collapsed": true
   },
   "outputs": [],
   "source": [
    "sup_min = 10\n",
    "sup_max = 300\n",
    "lat_min = -35\n",
    "lat_max = -34\n",
    "lon_min = -59\n",
    "lon_max = -58\n",
    "precio_min = 30000\n",
    "precio_max = 3000000"
   ]
  },
  {
   "cell_type": "code",
   "execution_count": 50,
   "metadata": {
    "collapsed": true
   },
   "outputs": [],
   "source": [
    "propiedades = pd.read_csv('../../set_datos_sup_desc.csv')\n",
    "\n",
    "propiedades.loc[:, 'Year'] = propiedades.loc[:,'created_on'].apply(lambda x: int(x.split('-')[0]))\n",
    "\n",
    "propiedades = propiedades.loc[(propiedades.price_aprox_usd.notnull()) & (propiedades.superficie.notnull())\\\n",
    "                              & (propiedades.lat.notnull()) & (propiedades.lon.notnull()) & (propiedades.Year >=2017)\\\n",
    "                        & (propiedades.price_aprox_usd <= precio_max) & (propiedades.price_aprox_usd >= precio_min) &\\\n",
    "                         (propiedades.superficie <= sup_max) & (propiedades.superficie >= sup_min) &\\\n",
    "                      (propiedades.lat <= lat_max) & (propiedades.lat >= lat_min) &\\\n",
    "                       (propiedades.lon <= lon_max) & (propiedades.lon >= lon_min),:]\n",
    "\n",
    "columnas = ['superficie','lat', 'lon','property_type_encoded','seguridad','gimnasio', 'aire', \\\n",
    "'pileta', 'cochera','transporte','cocina','comedor', 'living', 'banos', 'balcon','ambientes',\\\n",
    "'departamento', 'dormitorios','quincho', 'granito','porcelanato','completo', 'excelente', 'edificio',\\\n",
    "'lavadero', 'amplio', 'planta', 'cuadras', 'placard', 'terraza', 'acceso', 'parrilla', 'luminoso',\\\n",
    "'madera', 'credito', 'calidad', 'cucicba', 'amenities']\n",
    "\n",
    "set_entrenamiento_datos = propiedades.loc[:,columnas]\n",
    "set_entrenamiento_resultado = propiedades.loc[:,'price_aprox_usd']"
   ]
  },
  {
   "cell_type": "code",
   "execution_count": 51,
   "metadata": {
    "collapsed": true
   },
   "outputs": [],
   "source": [
    "# Parametros\n",
    "\n",
    "criterios = ['mse','friedman_mse']\n",
    "max_depth = [None,50,75,100,150]\n",
    "features = [0.4,0.6,0.8,1.0]\n",
    "\n",
    "parametros = {\"criterion\" : criterios, \"max_depth\" : max_depth, \"max_features\" : features}\n",
    "\n",
    "iteraciones_cross_validation = 20\n",
    "arbol = DecisionTreeRegressor()"
   ]
  },
  {
   "cell_type": "code",
   "execution_count": 52,
   "metadata": {},
   "outputs": [
    {
     "name": "stdout",
     "output_type": "stream",
     "text": [
      "Tiempo: 19:24:17 --- 19:46:33 \n",
      " Precision: 93.87 \n",
      " Parametros = {'max_features': 0.8, 'criterion': 'mse', 'max_depth': 75}\n"
     ]
    }
   ],
   "source": [
    "inicio = time.strftime(\"%X\")\n",
    "\n",
    "grid = GridSearchCV( estimator = arbol, param_grid = parametros, n_jobs = 2, cv = iteraciones_cross_validation)\n",
    "\n",
    "grid.fit(set_entrenamiento_datos, set_entrenamiento_resultado)\n",
    "\n",
    "score = grid.best_score_ * 100\n",
    "mejores_parametros = grid.best_params_\n",
    "fin = time.strftime(\"%X\")\n",
    "\n",
    "print(\"Tiempo: {} --- {} \\n Precision: {:.2f} \\n Parametros = {}\".format(inicio,fin,score,mejores_parametros))"
   ]
  },
  {
   "cell_type": "code",
   "execution_count": 53,
   "metadata": {},
   "outputs": [
    {
     "data": {
      "text/plain": [
       "['algoritmos/decision_tree_ColumnasDescripcion.pkl']"
      ]
     },
     "execution_count": 53,
     "metadata": {},
     "output_type": "execute_result"
    }
   ],
   "source": [
    "analizar = pd.read_csv(\"../properati_dataset_modificado_descripciones.csv\")\n",
    "\n",
    "analizar.loc[:,'price_usd'] = analizar.loc[:,columnas].apply(lambda x: grid.predict([x])[0],axis = 1)\n",
    "\n",
    "resultado = analizar.loc[:,['id','price_usd']]\n",
    "\n",
    "resultado.to_csv('resultados/Decision_tree_GridSearch_ColumnasDescripcion.csv', index = False)\n",
    "joblib.dump(grid, 'algoritmos/decision_tree_ColumnasDescripcion.pkl')"
   ]
  },
  {
   "cell_type": "markdown",
   "metadata": {},
   "source": [
    "# Haciendo más columnas de descripción"
   ]
  },
  {
   "cell_type": "code",
   "execution_count": 2,
   "metadata": {
    "collapsed": true
   },
   "outputs": [],
   "source": [
    "propiedades = pd.read_csv('../../set_datos_sup_desc.csv')\n",
    "\n",
    "sup_min = 10\n",
    "sup_max = 300\n",
    "lat_min = -35\n",
    "lat_max = -34\n",
    "lon_min = -59\n",
    "lon_max = -58\n",
    "precio_min = 30000\n",
    "precio_max = 3000000\n",
    "\n",
    "propiedades.loc[:, 'Year'] = propiedades.loc[:,'created_on'].apply(lambda x: int(x.split('-')[0]))\n",
    "\n",
    "propiedades = propiedades.loc[(propiedades.price_aprox_usd.notnull()) & (propiedades.superficie.notnull())\\\n",
    "                              & (propiedades.lat.notnull()) & (propiedades.lon.notnull()) & (propiedades.Year >=2017)\\\n",
    "                        & (propiedades.price_aprox_usd <= precio_max) & (propiedades.price_aprox_usd >= precio_min) &\\\n",
    "                         (propiedades.superficie <= sup_max) & (propiedades.superficie >= sup_min) &\\\n",
    "                      (propiedades.lat <= lat_max) & (propiedades.lat >= lat_min) &\\\n",
    "                       (propiedades.lon <= lon_max) & (propiedades.lon >= lon_min),:]\n",
    "\n",
    "set_pruebas = pd.read_csv(\"../properati_dataset_modificado_descripciones.csv\")\n",
    "set_pruebas.loc[:,'price_usd'] = 0.0"
   ]
  },
  {
   "cell_type": "code",
   "execution_count": 3,
   "metadata": {},
   "outputs": [],
   "source": [
    "cant = 10\n",
    "\n",
    "col = ['superficie','lat', 'lon','property_type_encoded']\n",
    "comodidades = ['seguridad','gimnasio', 'aire', 'pileta', 'cochera','transporte','cocina','comedor',\\\n",
    "'living', 'banos', 'balcon','ambientes','departamento', 'dormitorios','quincho', 'granito','porcelanato',\\\n",
    "'completo', 'excelente', 'edificio','lavadero', 'amplio', 'planta', 'cuadras', 'placard', 'terraza', 'acceso',\\\n",
    "'parrilla', 'luminoso','madera', 'credito', 'calidad', 'cucicba', 'amenities','expensas','mesada',\\\n",
    "'responsable','muebles', 'espacio', 'diario', 'independiente', 'cubierta','contrafrente', 'integrada',\\\n",
    "'recepcion','categoria', 'profesional', 'baulera', 'natural']\n",
    "comodidades = comodidades + ['unidades', 'principal', 'espacio', 'estacion', 'vestidor', 'solarium', 'central', \\\n",
    "                             'parquet', 'estrenar', 'granito']\n",
    "comodidades = comodidades + ['patio',  'casa', 'suite', 'vista', 'hall', 'agua',  \\\n",
    "        'lote', 'fondo', 'acero', 'torre',  'horno',  'sala', 'salon', 'frente','toilette']\n",
    "#comodidades = comodidades + ['piso', 'pisos', 'apto','sobre','doble','marca','nuevo', 'bacha', 'ideal','excelente']\n",
    "comodidades = comodidades + ['afip', 'auto',  'autos', 'super', 'mejor', 'ninos', 'sauna', 'lindo', 'caba',\\\n",
    "                             'rio', 'gym', 'luz', 'sol', 'spa']\n",
    "n = int(len(comodidades) * 0.8)\n",
    "\n",
    "for i in range(cant):\n",
    "    com = list(np.random.choice(comodidades,n,replace = False))\n",
    "    columnas = col + com\n",
    "    set_entrenamiento_datos = propiedades.loc[:,columnas]\n",
    "    set_entrenamiento_resultado = propiedades.loc[:,'price_aprox_usd']\n",
    "    \n",
    "    tree = DecisionTreeRegressor(criterion = 'mse', max_depth = 100, max_features = 0.8)\n",
    "    \n",
    "    tree.fit(set_entrenamiento_datos,set_entrenamiento_resultado)\n",
    "    set_pruebas.loc[:,'res'] = set_pruebas.loc[:,columnas].apply(lambda x: tree.predict([x])[0],axis = 1)\n",
    "    set_pruebas.loc[:,'price_usd'] = set_pruebas.loc[:,'price_usd'] + set_pruebas.loc[:,'res']\n",
    "    #print(i,end = '-')"
   ]
  },
  {
   "cell_type": "code",
   "execution_count": 5,
   "metadata": {
    "collapsed": true
   },
   "outputs": [],
   "source": [
    "set_pruebas.loc[:,'price_usd'] = set_pruebas.loc[:,'price_usd'] / cant\n",
    "\n",
    "resultado = set_pruebas.loc[:,['id','price_usd']]\n",
    "\n",
    "resultado.to_csv('resultados/DecisionTree_88ColumnasDescripcion.csv', index = False)"
   ]
  }
 ],
 "metadata": {
  "kernelspec": {
   "display_name": "Python 3",
   "language": "python",
   "name": "python3"
  },
  "language_info": {
   "codemirror_mode": {
    "name": "ipython",
    "version": 2
   },
   "file_extension": ".py",
   "mimetype": "text/x-python",
   "name": "python",
   "nbconvert_exporter": "python",
   "pygments_lexer": "ipython2",
   "version": "2.7.12"
  }
 },
 "nbformat": 4,
 "nbformat_minor": 2
}
