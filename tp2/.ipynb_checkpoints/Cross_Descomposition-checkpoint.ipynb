{
 "cells": [
  {
   "cell_type": "code",
   "execution_count": 1,
   "metadata": {
    "collapsed": true
   },
   "outputs": [],
   "source": [
    "import pandas as pd\n",
    "import numpy as np\n",
    "from sklearn.cross_decomposition import PLSRegression\n",
    "from sklearn.metrics import mean_squared_error\n",
    "\n",
    "import warnings\n",
    "warnings.simplefilter(\"ignore\", category=DeprecationWarning)"
   ]
  },
  {
   "cell_type": "code",
   "execution_count": 3,
   "metadata": {},
   "outputs": [],
   "source": [
    "#propiedades = pd.read_csv('/home/mati/Desktop/set_datos_propiedades.csv')\n",
    "propiedades = pd.read_csv('/home/agustin/Escritorio/escritorio/fiuba/Organizacion de datos/datos para el tp2/set_datos_propiedades.csv')"
   ]
  },
  {
   "cell_type": "code",
   "execution_count": 3,
   "metadata": {
    "collapsed": true
   },
   "outputs": [],
   "source": [
    "propiedades = propiedades.loc[(propiedades.price_aprox_usd.notnull()) & (propiedades.superficie.notnull()),\\\n",
    "                             ['place_name_encoded', 'property_type_encoded','price_aprox_usd','superficie',\\\n",
    "                             'Year','Month','seguridad','aire','gimnasio','cochera','pileta']]"
   ]
  },
  {
   "cell_type": "code",
   "execution_count": 4,
   "metadata": {},
   "outputs": [
    {
     "name": "stdout",
     "output_type": "stream",
     "text": [
      "<class 'pandas.core.frame.DataFrame'>\n",
      "Int64Index: 1132495 entries, 0 to 1413024\n",
      "Data columns (total 11 columns):\n",
      "place_name_encoded       1132495 non-null int64\n",
      "property_type_encoded    1132495 non-null int64\n",
      "price_aprox_usd          1132495 non-null float64\n",
      "superficie               1132495 non-null float64\n",
      "Year                     1132495 non-null int64\n",
      "Month                    1132495 non-null int64\n",
      "seguridad                1132495 non-null bool\n",
      "aire                     1132495 non-null bool\n",
      "gimnasio                 1132495 non-null bool\n",
      "cochera                  1132495 non-null bool\n",
      "pileta                   1132495 non-null bool\n",
      "dtypes: bool(5), float64(2), int64(4)\n",
      "memory usage: 65.9 MB\n"
     ]
    }
   ],
   "source": [
    "propiedades.info()"
   ]
  },
  {
   "cell_type": "markdown",
   "metadata": {},
   "source": [
    "# Cross Descomposition"
   ]
  },
  {
   "cell_type": "code",
   "execution_count": 20,
   "metadata": {
    "collapsed": true
   },
   "outputs": [],
   "source": [
    "columnas = ['superficie','place_name_encoded','property_type_encoded','seguridad','gimnasio', 'aire', 'pileta', 'cochera']\n",
    "columnas_precio = columnas + ['price_aprox_usd']"
   ]
  },
  {
   "cell_type": "code",
   "execution_count": 6,
   "metadata": {
    "collapsed": true
   },
   "outputs": [],
   "source": [
    "set_entrenamiento = propiedades.loc[(propiedades.Year >= 2017) &((propiedades.Year < 2017) | (propiedades.Month < 6))\\\n",
    "                                    ,columnas_precio]\n",
    "set_pruebas = propiedades.loc[(propiedades.Year == 2017) & (propiedades.Month == 6),columnas_precio].head(20000)\n",
    "\n",
    "set_entrenamiento_datos = set_entrenamiento.loc[:,columnas]\n",
    "set_entrenamiento_resultado = set_entrenamiento.loc[:,'price_aprox_usd']"
   ]
  },
  {
   "cell_type": "code",
   "execution_count": 19,
   "metadata": {},
   "outputs": [
    {
     "name": "stdout",
     "output_type": "stream",
     "text": [
      " error = 126374122315.4162\n"
     ]
    }
   ],
   "source": [
    "pls = PLSRegression()\n",
    "pls.fit(set_entrenamiento_datos,set_entrenamiento_resultado)\n",
    "pruebas = set_pruebas.loc[:,columnas].apply(lambda x: pls.predict(x)[0],axis = 1)\n",
    "error = mean_squared_error(set_pruebas.price_aprox_usd,pruebas.superficie)\n",
    "print(\" error = {}\".format(error))"
   ]
  },
  {
   "cell_type": "markdown",
   "metadata": {},
   "source": [
    "## Ahora que tenemos una intuicion, probamos cambiando los parametros"
   ]
  },
  {
   "cell_type": "code",
   "execution_count": 21,
   "metadata": {
    "collapsed": true
   },
   "outputs": [],
   "source": [
    "columnas = ['superficie','place_name_encoded','property_type_encoded','seguridad','gimnasio', 'aire', 'pileta', 'cochera']\n",
    "columnas_precio = columnas + ['price_aprox_usd']"
   ]
  },
  {
   "cell_type": "code",
   "execution_count": 22,
   "metadata": {
    "collapsed": true
   },
   "outputs": [],
   "source": [
    "set_entrenamiento = propiedades.loc[(propiedades.Year >= 2016) &((propiedades.Year < 2017) | (propiedades.Month < 6))\\\n",
    "                                    ,columnas_precio]\n",
    "set_pruebas = propiedades.loc[(propiedades.Year == 2017) & (propiedades.Month == 6),columnas_precio].head(20000)\n",
    "\n",
    "set_entrenamiento_datos = set_entrenamiento.loc[:,columnas]\n",
    "set_entrenamiento_resultado = set_entrenamiento.loc[:,'price_aprox_usd']\n",
    "\n",
    "res = []"
   ]
  },
  {
   "cell_type": "code",
   "execution_count": 23,
   "metadata": {
    "collapsed": true
   },
   "outputs": [
    {
     "name": "stdout",
     "output_type": "stream",
     "text": [
      "2  -  1e-06\n",
      "2  -  1e-07\n",
      "2  -  1e-08\n",
      "2  -  1e-05\n",
      "3  -  1e-06\n",
      "3  -  1e-07\n",
      "3  -  1e-08\n",
      "3  -  1e-05\n",
      "4  -  1e-06\n",
      "4  -  1e-07\n",
      "4  -  1e-08\n",
      "4  -  1e-05\n",
      "5  -  1e-06\n",
      "5  -  1e-07\n",
      "5  -  1e-08\n",
      "5  -  1e-05\n",
      "6  -  1e-06\n",
      "6  -  1e-07\n",
      "6  -  1e-08\n",
      "6  -  1e-05\n"
     ]
    }
   ],
   "source": [
    "lista_componentes = [2,3,4,5,6]\n",
    "lista_tol = [10**(-6),10**(-7),10**(-8),10**(-5)]\n",
    "\n",
    "for componente in lista_componentes:\n",
    "    for tol in lista_tol:\n",
    "                    \n",
    "            pls = PLSRegression(n_components = componente, tol = tol)\n",
    "            pls.fit(set_entrenamiento_datos,set_entrenamiento_resultado)\n",
    "            pruebas = set_pruebas.loc[:,columnas].apply(lambda x: pls.predict(x)[0],axis = 1)\n",
    "            error = mean_squared_error(set_pruebas.price_aprox_usd,pruebas.superficie)\n",
    "            res.append((componente,tol,error))\n",
    "            print(componente,' - ',tol)"
   ]
  },
  {
   "cell_type": "code",
   "execution_count": 24,
   "metadata": {
    "scrolled": false
   },
   "outputs": [
    {
     "name": "stdout",
     "output_type": "stream",
     "text": [
      "Componente = 2, tol = 1e-06 , error = 126089699357.22545\n",
      "Componente = 2, tol = 1e-07 , error = 126089699357.22545\n",
      "Componente = 2, tol = 1e-08 , error = 126089699357.22545\n",
      "Componente = 2, tol = 1e-05 , error = 126089699357.22545\n",
      "Componente = 3, tol = 1e-06 , error = 126255572114.7569\n",
      "Componente = 3, tol = 1e-07 , error = 126255572114.7569\n",
      "Componente = 3, tol = 1e-08 , error = 126255572114.7569\n",
      "Componente = 3, tol = 1e-05 , error = 126255572114.7569\n",
      "Componente = 4, tol = 1e-06 , error = 126259045032.7744\n",
      "Componente = 4, tol = 1e-07 , error = 126259045032.7744\n",
      "Componente = 4, tol = 1e-08 , error = 126259045032.7744\n",
      "Componente = 4, tol = 1e-05 , error = 126259045032.7744\n",
      "Componente = 5, tol = 1e-06 , error = 126250960844.76817\n",
      "Componente = 5, tol = 1e-07 , error = 126250960844.76817\n",
      "Componente = 5, tol = 1e-08 , error = 126250960844.76817\n",
      "Componente = 5, tol = 1e-05 , error = 126250960844.76817\n",
      "Componente = 6, tol = 1e-06 , error = 126250613439.04845\n",
      "Componente = 6, tol = 1e-07 , error = 126250613439.04845\n",
      "Componente = 6, tol = 1e-08 , error = 126250613439.04845\n",
      "Componente = 6, tol = 1e-05 , error = 126250613439.04845\n"
     ]
    }
   ],
   "source": [
    "for r in res:\n",
    "    print(\"Componente = {}, tol = {} , error = {}\".format(r[0],r[1],r[2]))"
   ]
  },
  {
   "cell_type": "code",
   "execution_count": 25,
   "metadata": {},
   "outputs": [
    {
     "name": "stdout",
     "output_type": "stream",
     "text": [
      "Menor error = Componente = 2, tol = 1e-06 , error = 126089699357.22545\n"
     ]
    }
   ],
   "source": [
    "min_error = float('inf')\n",
    "tupla_min_error = ()\n",
    "for r in res:\n",
    "    if r[2] < min_error:\n",
    "        min_error = r[2]\n",
    "        tupla_min_error = r\n",
    "        \n",
    "print(\"Menor error = Componente = {}, tol = {} , error = {}\".\\\n",
    "              format(tupla_min_error[0],tupla_min_error[1],tupla_min_error[2]))"
   ]
  },
  {
   "cell_type": "markdown",
   "metadata": {},
   "source": [
    "## Tomamos componentes = 2, tol = 10^-6"
   ]
  },
  {
   "cell_type": "code",
   "execution_count": 112,
   "metadata": {
    "collapsed": true
   },
   "outputs": [],
   "source": [
    "#Probamos distintas combinaciones de columnas, esta es la que dio mejores resultados\n",
    "\n",
    "columnas = ['superficie','place_name_encoded','property_type_encoded','aire','pileta']\n",
    "columnas_precio = columnas + ['price_aprox_usd']"
   ]
  },
  {
   "cell_type": "code",
   "execution_count": 113,
   "metadata": {
    "collapsed": true
   },
   "outputs": [],
   "source": [
    "set_entrenamiento = propiedades.loc[(propiedades.Year >= 2016) &((propiedades.Year < 2017) | (propiedades.Month < 6))\\\n",
    "                                    ,columnas_precio]\n",
    "set_pruebas = propiedades.loc[(propiedades.Year == 2017) & (propiedades.Month == 6),columnas_precio].head(20000)\n",
    "\n",
    "set_entrenamiento_datos = set_entrenamiento.loc[:,columnas]\n",
    "set_entrenamiento_resultado = set_entrenamiento.loc[:,'price_aprox_usd']"
   ]
  },
  {
   "cell_type": "code",
   "execution_count": 114,
   "metadata": {
    "collapsed": true
   },
   "outputs": [],
   "source": [
    "componente = 2\n",
    "tol = 10**(-6)"
   ]
  },
  {
   "cell_type": "code",
   "execution_count": 115,
   "metadata": {},
   "outputs": [
    {
     "name": "stdout",
     "output_type": "stream",
     "text": [
      "error = 124786853572.65765\n"
     ]
    }
   ],
   "source": [
    "pls = PLSRegression(n_components = componente, tol = tol)\n",
    "pls.fit(set_entrenamiento_datos,set_entrenamiento_resultado)\n",
    "pruebas = set_pruebas.loc[:,columnas].apply(lambda x: pls.predict(x)[0],axis = 1)\n",
    "error = mean_squared_error(set_pruebas.price_aprox_usd,pruebas.superficie) \n",
    "print(\"error = {}\".format(error))"
   ]
  },
  {
   "cell_type": "markdown",
   "metadata": {},
   "source": [
    "# calculo con los verdaderos datos a analizar"
   ]
  },
  {
   "cell_type": "code",
   "execution_count": 117,
   "metadata": {
    "collapsed": true
   },
   "outputs": [],
   "source": [
    "analizar = pd.read_csv(\"/home/mati/Desktop/properati_dataset_modificado.csv\")"
   ]
  },
  {
   "cell_type": "code",
   "execution_count": 118,
   "metadata": {
    "collapsed": true
   },
   "outputs": [],
   "source": [
    "res = analizar.loc[:,columnas].apply(lambda x: pls.predict(x)[0],axis = 1)"
   ]
  },
  {
   "cell_type": "code",
   "execution_count": 119,
   "metadata": {
    "collapsed": true
   },
   "outputs": [],
   "source": [
    "analizar.loc[:,'price_usd'] = res.superficie"
   ]
  },
  {
   "cell_type": "code",
   "execution_count": 122,
   "metadata": {
    "collapsed": true
   },
   "outputs": [],
   "source": [
    "resultado = analizar.loc[:,['id','price_usd']]"
   ]
  },
  {
   "cell_type": "code",
   "execution_count": 123,
   "metadata": {
    "collapsed": true
   },
   "outputs": [],
   "source": [
    "resultado.to_csv('Cross_Descomposition_resultados', index = False)"
   ]
  },
  {
   "cell_type": "markdown",
   "metadata": {},
   "source": [
    "# Ahora uso lat y lon en lugar de place name"
   ]
  },
  {
   "cell_type": "code",
   "execution_count": 4,
   "metadata": {
    "collapsed": true
   },
   "outputs": [],
   "source": [
    "propiedades = propiedades.loc[(propiedades.price_aprox_usd.notnull()) & (propiedades.superficie.notnull())\\\n",
    "                              & (propiedades.lat.notnull()) & (propiedades.lon.notnull()),\\\n",
    "                             ['lat', 'lon', 'property_type_encoded','price_aprox_usd','superficie',\\\n",
    "                             'Year','Month','seguridad','aire','gimnasio','cochera','pileta']]"
   ]
  },
  {
   "cell_type": "code",
   "execution_count": 5,
   "metadata": {
    "collapsed": true
   },
   "outputs": [],
   "source": [
    "columnas = ['superficie','lat', 'lon','property_type_encoded','seguridad','gimnasio', 'aire', 'pileta', 'cochera']\n",
    "columnas_precio = columnas + ['price_aprox_usd']"
   ]
  },
  {
   "cell_type": "code",
   "execution_count": 6,
   "metadata": {
    "collapsed": true
   },
   "outputs": [],
   "source": [
    "set_entrenamiento = propiedades.loc[(propiedades.Year >= 2016) &((propiedades.Year < 2017) | (propiedades.Month < 6))\\\n",
    "                                    ,columnas_precio]\n",
    "set_pruebas = propiedades.loc[(propiedades.Year == 2017) & (propiedades.Month == 6),columnas_precio].head(20000)\n",
    "\n",
    "set_entrenamiento_datos = set_entrenamiento.loc[:,columnas]\n",
    "set_entrenamiento_resultado = set_entrenamiento.loc[:,'price_aprox_usd']"
   ]
  },
  {
   "cell_type": "code",
   "execution_count": 8,
   "metadata": {},
   "outputs": [
    {
     "name": "stdout",
     "output_type": "stream",
     "text": [
      " error = 1.03935621386e+11\n"
     ]
    }
   ],
   "source": [
    "pls = PLSRegression()\n",
    "pls.fit(set_entrenamiento_datos,set_entrenamiento_resultado)\n",
    "pruebas = set_pruebas.loc[:,columnas].apply(lambda x: pls.predict([x])[0],axis = 1)\n",
    "error = mean_squared_error(set_pruebas.price_aprox_usd,pruebas.superficie)\n",
    "print(\" error = {}\".format(error))"
   ]
  },
  {
   "cell_type": "code",
   "execution_count": 11,
   "metadata": {
    "collapsed": true
   },
   "outputs": [],
   "source": [
    "res = []"
   ]
  },
  {
   "cell_type": "code",
   "execution_count": 12,
   "metadata": {},
   "outputs": [
    {
     "name": "stdout",
     "output_type": "stream",
     "text": [
      "(2, ' - ', 1e-06)\n",
      "(2, ' - ', 1e-07)\n",
      "(2, ' - ', 1e-08)\n",
      "(2, ' - ', 1e-05)\n",
      "(3, ' - ', 1e-06)\n",
      "(3, ' - ', 1e-07)\n",
      "(3, ' - ', 1e-08)\n",
      "(3, ' - ', 1e-05)\n",
      "(4, ' - ', 1e-06)\n",
      "(4, ' - ', 1e-07)\n",
      "(4, ' - ', 1e-08)\n",
      "(4, ' - ', 1e-05)\n",
      "(5, ' - ', 1e-06)\n",
      "(5, ' - ', 1e-07)\n",
      "(5, ' - ', 1e-08)\n",
      "(5, ' - ', 1e-05)\n",
      "(6, ' - ', 1e-06)\n",
      "(6, ' - ', 1e-07)\n",
      "(6, ' - ', 1e-08)\n",
      "(6, ' - ', 1e-05)\n"
     ]
    }
   ],
   "source": [
    "lista_componentes = [2,3,4,5,6]\n",
    "lista_tol = [10**(-6),10**(-7),10**(-8),10**(-5)]\n",
    "\n",
    "for componente in lista_componentes:\n",
    "    for tol in lista_tol:\n",
    "                    \n",
    "            pls = PLSRegression(n_components = componente, tol = tol)\n",
    "            pls.fit(set_entrenamiento_datos,set_entrenamiento_resultado)\n",
    "            pruebas = set_pruebas.loc[:,columnas].apply(lambda x: pls.predict([x])[0],axis = 1)\n",
    "            error = mean_squared_error(set_pruebas.price_aprox_usd,pruebas.superficie)\n",
    "            res.append((componente,tol,error))\n",
    "            print(componente,' - ',tol)"
   ]
  },
  {
   "cell_type": "code",
   "execution_count": 13,
   "metadata": {
    "scrolled": false
   },
   "outputs": [
    {
     "name": "stdout",
     "output_type": "stream",
     "text": [
      "Componente = 2, tol = 1e-06 , error = 1.03935621386e+11\n",
      "Componente = 2, tol = 1e-07 , error = 1.03935621386e+11\n",
      "Componente = 2, tol = 1e-08 , error = 1.03935621386e+11\n",
      "Componente = 2, tol = 1e-05 , error = 1.03935621386e+11\n",
      "Componente = 3, tol = 1e-06 , error = 1.0375127662e+11\n",
      "Componente = 3, tol = 1e-07 , error = 1.0375127662e+11\n",
      "Componente = 3, tol = 1e-08 , error = 1.0375127662e+11\n",
      "Componente = 3, tol = 1e-05 , error = 1.0375127662e+11\n",
      "Componente = 4, tol = 1e-06 , error = 1.03714921955e+11\n",
      "Componente = 4, tol = 1e-07 , error = 1.03714921955e+11\n",
      "Componente = 4, tol = 1e-08 , error = 1.03714921955e+11\n",
      "Componente = 4, tol = 1e-05 , error = 1.03714921955e+11\n",
      "Componente = 5, tol = 1e-06 , error = 1.03709873276e+11\n",
      "Componente = 5, tol = 1e-07 , error = 1.03709873276e+11\n",
      "Componente = 5, tol = 1e-08 , error = 1.03709873276e+11\n",
      "Componente = 5, tol = 1e-05 , error = 1.03709873276e+11\n",
      "Componente = 6, tol = 1e-06 , error = 1.03708360621e+11\n",
      "Componente = 6, tol = 1e-07 , error = 1.03708360621e+11\n",
      "Componente = 6, tol = 1e-08 , error = 1.03708360621e+11\n",
      "Componente = 6, tol = 1e-05 , error = 1.03708360621e+11\n"
     ]
    }
   ],
   "source": [
    "for r in res:\n",
    "    print(\"Componente = {}, tol = {} , error = {}\".format(r[0],r[1],r[2]))"
   ]
  },
  {
   "cell_type": "code",
   "execution_count": 14,
   "metadata": {},
   "outputs": [
    {
     "name": "stdout",
     "output_type": "stream",
     "text": [
      "Menor error = Componente = 6, tol = 1e-06 , error = 1.03708360621e+11\n"
     ]
    }
   ],
   "source": [
    "min_error = float('inf')\n",
    "tupla_min_error = ()\n",
    "for r in res:\n",
    "    if r[2] < min_error:\n",
    "        min_error = r[2]\n",
    "        tupla_min_error = r\n",
    "        \n",
    "print(\"Menor error = Componente = {}, tol = {} , error = {}\".\\\n",
    "              format(tupla_min_error[0],tupla_min_error[1],tupla_min_error[2]))"
   ]
  },
  {
   "cell_type": "markdown",
   "metadata": {},
   "source": [
    "# calculo con los verdaderos datos a analizar"
   ]
  },
  {
   "cell_type": "code",
   "execution_count": 15,
   "metadata": {
    "collapsed": true
   },
   "outputs": [],
   "source": [
    "#analizar = pd.read_csv(\"/home/mati/Desktop/properati_dataset_modificado.csv\")\n",
    "analizar =  pd.read_csv(\"../properati_dataset_modificado.csv\")"
   ]
  },
  {
   "cell_type": "code",
   "execution_count": 18,
   "metadata": {},
   "outputs": [],
   "source": [
    "res = analizar.loc[:,columnas].apply(lambda x: pls.predict([x])[0],axis = 1)"
   ]
  },
  {
   "cell_type": "code",
   "execution_count": 19,
   "metadata": {
    "collapsed": true
   },
   "outputs": [],
   "source": [
    "analizar.loc[:,'price_usd'] = res.superficie"
   ]
  },
  {
   "cell_type": "code",
   "execution_count": 20,
   "metadata": {
    "collapsed": true
   },
   "outputs": [],
   "source": [
    "resultado = analizar.loc[:,['id','price_usd']]"
   ]
  },
  {
   "cell_type": "code",
   "execution_count": 22,
   "metadata": {
    "collapsed": true
   },
   "outputs": [],
   "source": [
    "resultado.to_csv('resultados/Cross_Descomposition_resultados_latlon.csv', index = False)"
   ]
  }
 ],
 "metadata": {
  "kernelspec": {
   "display_name": "Python 3",
   "language": "python",
   "name": "python3"
  },
  "language_info": {
   "codemirror_mode": {
    "name": "ipython",
    "version": 2
   },
   "file_extension": ".py",
   "mimetype": "text/x-python",
   "name": "python",
   "nbconvert_exporter": "python",
   "pygments_lexer": "ipython2",
   "version": "2.7.12"
  }
 },
 "nbformat": 4,
 "nbformat_minor": 2
}
