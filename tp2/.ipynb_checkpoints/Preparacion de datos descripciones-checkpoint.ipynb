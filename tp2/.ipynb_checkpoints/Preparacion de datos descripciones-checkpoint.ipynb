{
 "cells": [
  {
   "cell_type": "code",
   "execution_count": 1,
   "metadata": {
    "collapsed": true
   },
   "outputs": [],
   "source": [
    "import pandas as pd\n",
    "import numpy as np\n",
    "from sklearn import preprocessing\n",
    "from math import radians, sin, cos, asin, sqrt, pi, atan, atan2, fabs\n",
    "import unicodedata\n",
    "\n",
    "\n",
    "import geopandas as gpd\n",
    "from shapely.geometry import Polygon, MultiPolygon, Point\n",
    "from shapely import wkt"
   ]
  },
  {
   "cell_type": "code",
   "execution_count": 15,
   "metadata": {},
   "outputs": [],
   "source": [
    "pruebas = pd.read_csv(\"../properati_dataset_modificado_descripciones.csv\")\n",
    "propiedades = pd.read_csv('../../set_datos_sup_desc.csv')"
   ]
  },
  {
   "cell_type": "code",
   "execution_count": 4,
   "metadata": {
    "collapsed": true
   },
   "outputs": [],
   "source": [
    "def eliminar_tildes(s):\n",
    "   return str(''.join((c for c in unicodedata.normalize('NFD', s) if unicodedata.category(c) != 'Mn')))\n",
    " \n",
    "\n",
    "def contar(x, minimo, d):\n",
    "    lista = x.split()\n",
    "    for cadena in lista:\n",
    "        if ',' in cadena:\n",
    "            cadena = cadena.split(',')\n",
    "        elif '.' in cadena:\n",
    "            cadena = cadena.split('.')\n",
    "        elif ':' in cadena:\n",
    "            cadena = cadena.split(':')\n",
    "        elif '-' in cadena:\n",
    "            cadena = cadena.split('-')\n",
    "        else:\n",
    "            cadena = [cadena]\n",
    "        for palabra in cadena:\n",
    "            try:\n",
    "                if len(palabra) < minimo:\n",
    "                    continue\n",
    "                palabra = eliminar_tildes(unicode(palabra, \"utf-8\"))\n",
    "                palabra = palabra.lower()\n",
    "                if palabra not in d:\n",
    "                    d[palabra] = 0\n",
    "                d[palabra] += 1\n",
    "            except UnicodeEncodeError:\n",
    "                continue\n"
   ]
  },
  {
   "cell_type": "code",
   "execution_count": 5,
   "metadata": {
    "collapsed": true
   },
   "outputs": [],
   "source": [
    "d={}\n",
    "a = pruebas.loc[:, 'description'].apply(lambda x: contar(x, 6,d))"
   ]
  },
  {
   "cell_type": "code",
   "execution_count": 6,
   "metadata": {},
   "outputs": [
    {
     "data": {
      "text/plain": [
       "28893"
      ]
     },
     "execution_count": 6,
     "metadata": {},
     "output_type": "execute_result"
    }
   ],
   "source": [
    "len(d)"
   ]
  },
  {
   "cell_type": "code",
   "execution_count": 7,
   "metadata": {
    "collapsed": true
   },
   "outputs": [],
   "source": [
    "for c in d.keys():\n",
    "    if d[c]< 1000:\n",
    "        del d[c]"
   ]
  },
  {
   "cell_type": "code",
   "execution_count": 8,
   "metadata": {},
   "outputs": [
    {
     "data": {
      "text/plain": [
       "107"
      ]
     },
     "execution_count": 8,
     "metadata": {},
     "output_type": "execute_result"
    }
   ],
   "source": [
    "len(d)"
   ]
  },
  {
   "cell_type": "code",
   "execution_count": 9,
   "metadata": {},
   "outputs": [
    {
     "name": "stdout",
     "output_type": "stream",
     "text": [
      "traves\n",
      "calidad\n",
      "pileta\n",
      "quincho\n",
      "categoria\n",
      "departamentos\n",
      "central\n",
      "parque\n",
      "electrico\n",
      "inmueble\n",
      "amplio\n"
     ]
    }
   ],
   "source": [
    "c = 0\n",
    "for i in d.keys():\n",
    "    c+=1\n",
    "    print(i)\n",
    "    if c > 10:\n",
    "        break"
   ]
  },
  {
   "cell_type": "code",
   "execution_count": 10,
   "metadata": {},
   "outputs": [
    {
     "data": {
      "text/plain": [
       "[('cocina', 12233),\n",
       " ('comedor', 9781),\n",
       " ('ambientes', 8900),\n",
       " ('living', 7435),\n",
       " ('balcon', 6364),\n",
       " ('completo', 6327),\n",
       " ('dormitorios', 6297),\n",
       " ('departamento', 6080),\n",
       " ('frente', 5789),\n",
       " ('dormitorio', 5143),\n",
       " ('excelente', 4764),\n",
       " ('lavadero', 4637),\n",
       " ('edificio', 4623),\n",
       " ('amplio', 3897),\n",
       " ('planta', 3897),\n",
       " ('placard', 3692),\n",
       " ('cochera', 3563),\n",
       " ('terraza', 3281),\n",
       " ('cuenta', 3245),\n",
       " ('parrilla', 3133),\n",
       " ('cuadras', 3121),\n",
       " ('propiedades', 3004),\n",
       " ('expensas', 2960),\n",
       " ('mesada', 2948),\n",
       " ('luminoso', 2724),\n",
       " ('acceso', 2698),\n",
       " ('entrada', 2568),\n",
       " ('medidas', 2524),\n",
       " ('ubicacion', 2498),\n",
       " ('toilette', 2498),\n",
       " ('propiedad', 2474),\n",
       " ('ubicado', 2446),\n",
       " ('unidades', 2439),\n",
       " ('estado', 2356),\n",
       " ('cucicba', 2327),\n",
       " ('metros', 2203),\n",
       " ('banos', 2169),\n",
       " ('cocheras', 2165),\n",
       " ('servicio', 2136),\n",
       " ('corredor', 2093),\n",
       " ('principal', 2091),\n",
       " ('credito', 2071),\n",
       " ('madera', 2034),\n",
       " ('salida', 2023),\n",
       " ('responsable', 1998),\n",
       " ('muebles', 1923),\n",
       " ('publicado', 1882),\n",
       " ('espacio', 1865),\n",
       " ('jardin', 1806),\n",
       " ('parque', 1796),\n",
       " ('seguridad', 1795),\n",
       " ('calidad', 1765),\n",
       " ('pileta', 1705),\n",
       " ('acondicionado', 1679),\n",
       " ('diario', 1620),\n",
       " ('independiente', 1609),\n",
       " ('propietario', 1597),\n",
       " ('cubierta', 1563),\n",
       " ('calefaccion', 1551),\n",
       " ('inmueble', 1526),\n",
       " ('similar', 1515),\n",
       " ('contrafrente', 1515),\n",
       " ('piscina', 1506),\n",
       " ('integrada', 1506),\n",
       " ('recepcion', 1476),\n",
       " ('estacion', 1471),\n",
       " ('barrio', 1465),\n",
       " ('instalacion', 1453),\n",
       " ('departamentos', 1429),\n",
       " ('caliente', 1369),\n",
       " ('cuadra', 1354),\n",
       " ('aluminio', 1345),\n",
       " ('traves', 1338),\n",
       " ('categoria', 1331),\n",
       " ('servicios', 1314),\n",
       " ('profesional', 1313),\n",
       " ('vestidor', 1311),\n",
       " ('amplios', 1299),\n",
       " ('solarium', 1283),\n",
       " ('codigo', 1273),\n",
       " ('ambiente', 1271),\n",
       " ('natural', 1269),\n",
       " ('encuentra', 1265),\n",
       " ('puertas', 1255),\n",
       " ('amenities', 1250),\n",
       " ('central', 1242),\n",
       " ('dependencia', 1234),\n",
       " ('palermo', 1202),\n",
       " ('completos', 1202),\n",
       " ('precio', 1199),\n",
       " ('baulera', 1193),\n",
       " ('unidad', 1187),\n",
       " ('parquet', 1186),\n",
       " ('amplia', 1180),\n",
       " ('escalera', 1178),\n",
       " ('comercial', 1138),\n",
       " ('electrico', 1124),\n",
       " ('quincho', 1121),\n",
       " ('estrenar', 1117),\n",
       " ('primera', 1101),\n",
       " ('capital', 1101),\n",
       " ('escritorio', 1086),\n",
       " ('superficie', 1081),\n",
       " ('granito', 1052),\n",
       " ('porcelanato', 1047),\n",
       " ('ciudad', 1023),\n",
       " ('aproximadas', 1007)]"
      ]
     },
     "execution_count": 10,
     "metadata": {},
     "output_type": "execute_result"
    }
   ],
   "source": [
    "l = d.items()\n",
    "l.sort(key = lambda x: x[1],reverse = True)\n",
    "l"
   ]
  },
  {
   "cell_type": "code",
   "execution_count": 11,
   "metadata": {
    "collapsed": true
   },
   "outputs": [],
   "source": [
    "def tiene_cadena(string, lista):\n",
    "    string = str(string)\n",
    "    string = string.split()\n",
    "    for cadena in string:\n",
    "        if ',' in cadena:\n",
    "            cadena = cadena.split(',')\n",
    "        elif '.' in cadena:\n",
    "            cadena = cadena.split('.')\n",
    "        elif ':' in cadena:\n",
    "            cadena = cadena.split(':')\n",
    "        elif '-' in cadena:\n",
    "            cadena = cadena.split('-')\n",
    "        else:\n",
    "            cadena = [cadena]\n",
    "        for palabra in cadena:\n",
    "            try:\n",
    "                if len(palabra) == 0:\n",
    "                    continue\n",
    "                palabra = eliminar_tildes(unicode(palabra, \"utf-8\"))\n",
    "                palabra = palabra.lower()\n",
    "                if palabra in lista:\n",
    "                    return True\n",
    "            except UnicodeEncodeError:\n",
    "                continue\n",
    "    return False"
   ]
  },
  {
   "cell_type": "code",
   "execution_count": 74,
   "metadata": {
    "collapsed": true
   },
   "outputs": [],
   "source": [
    "# Tomamos aquellas palabras que nos parecen importantes\n",
    "lista = ['cocina', 'comedor', 'living', 'banos', 'balcon','ambientes', 'departamento', 'dormitorios',\\\n",
    "'quincho', 'granito','porcelanato','completo', 'excelente', 'edificio', 'lavadero', 'amplio', 'planta',\\\n",
    "'cuadras', 'placard', 'terraza', 'acceso', 'parrilla', 'luminoso',  'madera', 'credito', 'calidad',\\\n",
    "'cucicba', 'amenities']"
   ]
  },
  {
   "cell_type": "code",
   "execution_count": 82,
   "metadata": {
    "collapsed": true
   },
   "outputs": [],
   "source": [
    "cadenas = ['vigilancia', 'seguridad', 'alarma', 'blindado', 'blindaje', 'guardia']\n",
    "propiedades.loc[:,'seguridad'] = propiedades.loc[:, 'description'].apply(lambda x: tiene_cadena(x, cadenas))\n",
    "pruebas.loc[:,'seguridad'] = pruebas.loc[:, 'description'].apply(lambda x: tiene_cadena(x, cadenas))"
   ]
  },
  {
   "cell_type": "code",
   "execution_count": 83,
   "metadata": {
    "collapsed": true
   },
   "outputs": [],
   "source": [
    "cadenas = ['aire frio', 'acondicionado', 'split', 'acondicionados', 'climatizador', 'central',\\\n",
    "          'radiante', 'pisoradiante', 'radante', 'radiador', 'calefaccion']\n",
    "propiedades.loc[:,'aire'] = propiedades.loc[:, 'description'].apply(lambda x: tiene_cadena(x, cadenas))\n",
    "pruebas.loc[:,'aire'] = pruebas.loc[:, 'description'].apply(lambda x: tiene_cadena(x, cadenas))"
   ]
  },
  {
   "cell_type": "code",
   "execution_count": 84,
   "metadata": {
    "collapsed": true
   },
   "outputs": [],
   "source": [
    "cadenas = ['pileta', 'piscina', 'picina','pisina', 'yaccuzi', ' jacuzzi', 'jacuzi',\\\n",
    "           'yacuzi', 'yacusi', 'jacussi', 'hidromasaje']\n",
    "propiedades.loc[:,'pileta'] = propiedades.loc[:, 'description'].apply(lambda x: tiene_cadena(x, cadenas))\n",
    "pruebas.loc[:,'pileta'] = pruebas.loc[:, 'description'].apply(lambda x: tiene_cadena(x, cadenas))"
   ]
  },
  {
   "cell_type": "code",
   "execution_count": 86,
   "metadata": {
    "collapsed": true
   },
   "outputs": [],
   "source": [
    "cadenas = ['cochera', 'cocheras', 'garage', 'estacionamiento']\n",
    "propiedades.loc[:,'cochera'] = propiedades.loc[:, 'description'].apply(lambda x: tiene_cadena(x, cadenas))\n",
    "pruebas.loc[:,'cochera'] = pruebas.loc[:, 'description'].apply(lambda x: tiene_cadena(x, cadenas))"
   ]
  },
  {
   "cell_type": "code",
   "execution_count": 87,
   "metadata": {
    "collapsed": true
   },
   "outputs": [],
   "source": [
    "cadenas = ['tren', 'subte', 'estacion']\n",
    "propiedades.loc[:,'transporte'] = propiedades.loc[:, 'description'].apply(lambda x: tiene_cadena(x, cadenas))\n",
    "pruebas.loc[:,'transporte'] = pruebas.loc[:, 'description'].apply(lambda x: tiene_cadena(x, cadenas))"
   ]
  },
  {
   "cell_type": "code",
   "execution_count": 93,
   "metadata": {
    "collapsed": true,
    "scrolled": true
   },
   "outputs": [],
   "source": [
    "for palabra in lista:\n",
    "    propiedades.loc[:,palabra] = propiedades.loc[:, 'description'].apply(lambda x: tiene_cadena(x, [palabra]))\n",
    "    pruebas.loc[:,palabra] = pruebas.loc[:, 'description'].apply(lambda x: tiene_cadena(x, [palabra]))"
   ]
  },
  {
   "cell_type": "code",
   "execution_count": 19,
   "metadata": {
    "collapsed": true
   },
   "outputs": [],
   "source": [
    "# Agrego mas elementos para ver si mejora\n",
    "lista = ['expensas','mesada','responsable', 'muebles', 'espacio', 'diario', 'independiente', 'cubierta',\\\n",
    "         'contrafrente', 'integrada', 'recepcion', 'categoria', 'profesional', 'baulera', 'natural']\n",
    "for palabra in lista:\n",
    "    propiedades.loc[:,palabra] = propiedades.loc[:, 'description'].apply(lambda x: tiene_cadena(x, [palabra]))\n",
    "    pruebas.loc[:,palabra] = pruebas.loc[:, 'description'].apply(lambda x: tiene_cadena(x, [palabra]))"
   ]
  },
  {
   "cell_type": "code",
   "execution_count": 20,
   "metadata": {
    "collapsed": true
   },
   "outputs": [],
   "source": [
    "propiedades.to_csv('../../set_datos_sup_desc.csv', index = False)\n",
    "pruebas.to_csv('../properati_dataset_modificado_descripciones.csv', index = False)"
   ]
  }
 ],
 "metadata": {
  "kernelspec": {
   "display_name": "Python 3",
   "language": "python",
   "name": "python3"
  },
  "language_info": {
   "codemirror_mode": {
    "name": "ipython",
    "version": 2
   },
   "file_extension": ".py",
   "mimetype": "text/x-python",
   "name": "python",
   "nbconvert_exporter": "python",
   "pygments_lexer": "ipython2",
   "version": "2.7.12"
  }
 },
 "nbformat": 4,
 "nbformat_minor": 2
}
