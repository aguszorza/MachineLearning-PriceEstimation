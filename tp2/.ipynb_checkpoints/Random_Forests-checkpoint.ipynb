{
 "cells": [
  {
   "cell_type": "code",
   "execution_count": 1,
   "metadata": {
    "collapsed": true
   },
   "outputs": [],
   "source": [
    "import pandas as pd\n",
    "import numpy as np\n",
    "from sklearn.ensemble import RandomForestRegressor\n",
    "from sklearn.metrics import mean_squared_error\n",
    "from sklearn.model_selection import GridSearchCV\n",
    "from sklearn.externals import joblib\n",
    "import time\n",
    "\n",
    "import warnings\n",
    "warnings.simplefilter(\"ignore\", category=DeprecationWarning)"
   ]
  },
  {
   "cell_type": "code",
   "execution_count": 2,
   "metadata": {
    "collapsed": true
   },
   "outputs": [],
   "source": [
    "propiedades = pd.read_csv('/home/mati/Desktop/set_datos_propiedades.csv')\n",
    "#propiedades = pd.read_csv('/home/agustin/Escritorio/escritorio/fiuba/Organizacion de datos/datos para el tp2/set_datos_propiedades.csv')"
   ]
  },
  {
   "cell_type": "code",
   "execution_count": 3,
   "metadata": {
    "collapsed": true
   },
   "outputs": [],
   "source": [
    "propiedades = propiedades.loc[(propiedades.price_aprox_usd.notnull()) & (propiedades.superficie.notnull()),\\\n",
    "                             ['place_name_encoded', 'property_type_encoded','price_aprox_usd','superficie',\\\n",
    "                             'Year','Month','seguridad','aire','gimnasio','cochera','pileta']]"
   ]
  },
  {
   "cell_type": "code",
   "execution_count": 4,
   "metadata": {},
   "outputs": [
    {
     "name": "stdout",
     "output_type": "stream",
     "text": [
      "<class 'pandas.core.frame.DataFrame'>\n",
      "Int64Index: 1132495 entries, 0 to 1413024\n",
      "Data columns (total 11 columns):\n",
      "place_name_encoded       1132495 non-null int64\n",
      "property_type_encoded    1132495 non-null int64\n",
      "price_aprox_usd          1132495 non-null float64\n",
      "superficie               1132495 non-null float64\n",
      "Year                     1132495 non-null int64\n",
      "Month                    1132495 non-null int64\n",
      "seguridad                1132495 non-null bool\n",
      "aire                     1132495 non-null bool\n",
      "gimnasio                 1132495 non-null bool\n",
      "cochera                  1132495 non-null bool\n",
      "pileta                   1132495 non-null bool\n",
      "dtypes: bool(5), float64(2), int64(4)\n",
      "memory usage: 65.9 MB\n"
     ]
    }
   ],
   "source": [
    "propiedades.info()"
   ]
  },
  {
   "cell_type": "markdown",
   "metadata": {},
   "source": [
    "# Random Forests"
   ]
  },
  {
   "cell_type": "code",
   "execution_count": 5,
   "metadata": {
    "collapsed": true
   },
   "outputs": [],
   "source": [
    "columnas = ['superficie','place_name_encoded','property_type_encoded','seguridad','gimnasio', 'aire', 'pileta', 'cochera']\n",
    "columnas_precio = columnas + ['price_aprox_usd']"
   ]
  },
  {
   "cell_type": "code",
   "execution_count": 6,
   "metadata": {
    "collapsed": true
   },
   "outputs": [],
   "source": [
    "set_entrenamiento = propiedades.loc[(propiedades.Year >= 2016) &((propiedades.Year < 2017) | (propiedades.Month < 6))\\\n",
    "                                    ,columnas_precio]\n",
    "set_pruebas = propiedades.loc[(propiedades.Year == 2017) & (propiedades.Month == 6),columnas_precio].head(20000)\n",
    "\n",
    "set_entrenamiento_datos = set_entrenamiento.loc[:,columnas]\n",
    "set_entrenamiento_resultado = set_entrenamiento.loc[:,'price_aprox_usd']"
   ]
  },
  {
   "cell_type": "code",
   "execution_count": 7,
   "metadata": {},
   "outputs": [
    {
     "name": "stdout",
     "output_type": "stream",
     "text": [
      "Precision = 86.83 % , error = 18173048430.320446\n"
     ]
    }
   ],
   "source": [
    "randomforest = RandomForestRegressor()\n",
    "randomforest.fit(set_entrenamiento_datos,set_entrenamiento_resultado)\n",
    "set_pruebas.loc[:,'resultado'] = set_pruebas.loc[:,columnas].apply(lambda x: randomforest.predict(x)[0],axis = 1)\n",
    "precision = randomforest.score(set_pruebas.loc[:,columnas],set_pruebas.price_aprox_usd) * 100\n",
    "error = mean_squared_error(set_pruebas.price_aprox_usd,set_pruebas.resultado)\n",
    "print(\"Precision = {:.2f} % , error = {}\".format(precision, error))"
   ]
  },
  {
   "cell_type": "markdown",
   "metadata": {},
   "source": [
    "## Ahora que tenemos una intuicion, probamos cambiando los parametros"
   ]
  },
  {
   "cell_type": "code",
   "execution_count": 8,
   "metadata": {
    "collapsed": true
   },
   "outputs": [],
   "source": [
    "columnas = ['superficie','place_name_encoded','property_type_encoded','seguridad','gimnasio', 'aire', 'pileta', 'cochera']\n",
    "columnas_precio = columnas + ['price_aprox_usd']"
   ]
  },
  {
   "cell_type": "code",
   "execution_count": 9,
   "metadata": {
    "collapsed": true
   },
   "outputs": [],
   "source": [
    "set_entrenamiento = propiedades.loc[(propiedades.Year >= 2016) &((propiedades.Year < 2017) | (propiedades.Month < 6))\\\n",
    "                                    ,columnas_precio]\n",
    "set_pruebas = propiedades.loc[(propiedades.Year == 2017) & (propiedades.Month == 6),columnas_precio].head(20000)\n",
    "\n",
    "set_entrenamiento_datos = set_entrenamiento.loc[:,columnas]\n",
    "set_entrenamiento_resultado = set_entrenamiento.loc[:,'price_aprox_usd']\n",
    "\n",
    "res = []"
   ]
  },
  {
   "cell_type": "code",
   "execution_count": 22,
   "metadata": {
    "collapsed": true
   },
   "outputs": [
    {
     "name": "stdout",
     "output_type": "stream",
     "text": [
      "18  -  0.4\n",
      "18  -  0.5\n",
      "19  -  0.4\n",
      "19  -  0.5\n",
      "21  -  0.4\n",
      "21  -  0.5\n",
      "22  -  0.4\n",
      "22  -  0.5\n",
      "23  -  0.4\n",
      "23  -  0.5\n",
      "24  -  0.4\n",
      "24  -  0.5\n",
      "25  -  0.4\n",
      "25  -  0.5\n"
     ]
    }
   ],
   "source": [
    "lista_arboles = [18,19,21,22,23,24,25]\n",
    "lista_feature = [0.4,0.5]\n",
    "\n",
    "for cant_arbol in lista_arboles:\n",
    "    for feature in lista_feature:\n",
    "        randomforest = RandomForestRegressor(n_estimators = cant_arbol, max_features = feature)\n",
    "        randomforest.fit(set_entrenamiento_datos,set_entrenamiento_resultado)\n",
    "        set_pruebas.loc[:,'resultado'] = set_pruebas.loc[:,columnas].apply(lambda x: randomforest.predict(x)[0],axis = 1)\n",
    "        precision = randomforest.score(set_pruebas.loc[:,columnas],set_pruebas.loc[:,'price_aprox_usd']) * 100\n",
    "        error = mean_squared_error(set_pruebas.price_aprox_usd,set_pruebas.resultado)\n",
    "        res.append((cant_arbol,feature,precision,error))\n",
    "        print(cant_arbol,' - ',feature)"
   ]
  },
  {
   "cell_type": "code",
   "execution_count": 23,
   "metadata": {},
   "outputs": [
    {
     "name": "stdout",
     "output_type": "stream",
     "text": [
      "Cant arboles = 5, % features = 0.7, precision = 84.56 % , error = 21303283909.34756\n",
      "Cant arboles = 5, % features = 0.8, precision = 86.98 % , error = 17965657840.70977\n",
      "Cant arboles = 5, % features = 1.0, precision = 85.78 % , error = 19620180384.3387\n",
      "Cant arboles = 10, % features = 0.7, precision = 87.80 % , error = 16829288107.881966\n",
      "Cant arboles = 10, % features = 0.8, precision = 88.25 % , error = 16211514021.839184\n",
      "Cant arboles = 10, % features = 1.0, precision = 87.08 % , error = 17828865003.33896\n",
      "Cant arboles = 15, % features = 0.7, precision = 88.11 % , error = 16405965237.87476\n",
      "Cant arboles = 15, % features = 0.8, precision = 87.22 % , error = 17635545323.111412\n",
      "Cant arboles = 15, % features = 1.0, precision = 87.26 % , error = 17575375715.987404\n",
      "Cant arboles = 20, % features = 0.7, precision = 87.63 % , error = 17063372312.071825\n",
      "Cant arboles = 20, % features = 0.8, precision = 87.91 % , error = 16677076812.98315\n",
      "Cant arboles = 20, % features = 1.0, precision = 86.92 % , error = 18044250553.40391\n",
      "Cant arboles = 30, % features = 0.7, precision = 87.71 % , error = 16958947979.915363\n",
      "Cant arboles = 30, % features = 0.8, precision = 88.57 % , error = 15773094392.332422\n",
      "Cant arboles = 30, % features = 1.0, precision = 87.94 % , error = 16643940293.77021\n",
      "Cant arboles = 5, % features = 0.4, precision = 86.52 % , error = 18598213787.643414\n",
      "Cant arboles = 5, % features = 0.5, precision = 86.15 % , error = 19103391440.53965\n",
      "Cant arboles = 5, % features = 0.6, precision = 86.92 % , error = 18050385827.928154\n",
      "Cant arboles = 10, % features = 0.4, precision = 87.46 % , error = 17304650798.835827\n",
      "Cant arboles = 10, % features = 0.5, precision = 88.19 % , error = 16289696850.103487\n",
      "Cant arboles = 10, % features = 0.6, precision = 87.55 % , error = 17169665077.522871\n",
      "Cant arboles = 15, % features = 0.4, precision = 88.17 % , error = 16316857705.948275\n",
      "Cant arboles = 15, % features = 0.5, precision = 87.24 % , error = 17603266948.080986\n",
      "Cant arboles = 15, % features = 0.6, precision = 87.74 % , error = 16913555625.744387\n",
      "Cant arboles = 20, % features = 0.4, precision = 88.63 % , error = 15692906830.660103\n",
      "Cant arboles = 20, % features = 0.5, precision = 87.42 % , error = 17351543668.745724\n",
      "Cant arboles = 20, % features = 0.6, precision = 87.36 % , error = 17431711330.453228\n",
      "Cant arboles = 30, % features = 0.4, precision = 88.16 % , error = 16340739261.424944\n",
      "Cant arboles = 30, % features = 0.5, precision = 87.84 % , error = 16779069238.602503\n",
      "Cant arboles = 30, % features = 0.6, precision = 87.38 % , error = 17406831401.020813\n",
      "Cant arboles = 50, % features = 0.4, precision = 87.89 % , error = 16710228687.085527\n",
      "Cant arboles = 50, % features = 0.6, precision = 87.91 % , error = 16679288522.212772\n",
      "Cant arboles = 50, % features = 0.8, precision = 88.05 % , error = 16487926508.155878\n",
      "Cant arboles = 50, % features = 1.0, precision = 87.44 % , error = 17321059542.031307\n",
      "Cant arboles = 18, % features = 0.4, precision = 88.53 % , error = 15830838873.991444\n",
      "Cant arboles = 18, % features = 0.5, precision = 88.16 % , error = 16336712427.297674\n",
      "Cant arboles = 19, % features = 0.4, precision = 87.88 % , error = 16721894480.959637\n",
      "Cant arboles = 19, % features = 0.5, precision = 87.38 % , error = 17404664640.63711\n",
      "Cant arboles = 21, % features = 0.4, precision = 87.78 % , error = 16858763894.230103\n",
      "Cant arboles = 21, % features = 0.5, precision = 88.19 % , error = 16298250593.146128\n",
      "Cant arboles = 22, % features = 0.4, precision = 88.09 % , error = 16428947152.626982\n",
      "Cant arboles = 22, % features = 0.5, precision = 87.65 % , error = 17040983828.000078\n",
      "Cant arboles = 23, % features = 0.4, precision = 88.21 % , error = 16258947736.727203\n",
      "Cant arboles = 23, % features = 0.5, precision = 88.04 % , error = 16505775665.00884\n",
      "Cant arboles = 24, % features = 0.4, precision = 87.53 % , error = 17206065274.7862\n",
      "Cant arboles = 24, % features = 0.5, precision = 87.50 % , error = 17242624399.563477\n",
      "Cant arboles = 25, % features = 0.4, precision = 87.47 % , error = 17290534497.767815\n",
      "Cant arboles = 25, % features = 0.5, precision = 87.83 % , error = 16794227611.830715\n"
     ]
    }
   ],
   "source": [
    "for r in res:\n",
    "    print(\"Cant arboles = {}, % features = {}, precision = {:.2f} % , error = {}\".format(r[0],r[1],r[2],r[3]))"
   ]
  },
  {
   "cell_type": "code",
   "execution_count": 24,
   "metadata": {},
   "outputs": [
    {
     "name": "stdout",
     "output_type": "stream",
     "text": [
      "Mayor precision = Cant arboles = 20, % features = 0.4, precision = 88.63 % , error = 15692906830.660103\n",
      "Menor error = Cant arboles = 20, % features = 0.4, precision = 88.63 % , error = 15692906830.660103\n"
     ]
    }
   ],
   "source": [
    "min_error = float('inf')\n",
    "max_precision = 0\n",
    "tupla_min_error = ()\n",
    "tupla_max_precision = ()\n",
    "for r in res:\n",
    "    if r[3] < min_error:\n",
    "        min_error = r[3]\n",
    "        tupla_min_error = r\n",
    "    if r[2] > max_precision:\n",
    "        max_precision = r[2]\n",
    "        tupla_max_precision = r\n",
    "        \n",
    "print(\"Mayor precision = Cant arboles = {}, % features = {}, precision = {:.2f} % , error = {}\".\\\n",
    "              format(tupla_max_precision[0],tupla_max_precision[1],tupla_max_precision[2],tupla_max_precision[3]))\n",
    "print(\"Menor error = Cant arboles = {}, % features = {}, precision = {:.2f} % , error = {}\".\\\n",
    "              format(tupla_min_error[0],tupla_min_error[1],tupla_min_error[2],tupla_min_error[3]))"
   ]
  },
  {
   "cell_type": "markdown",
   "metadata": {},
   "source": [
    "## Tomamos features = 0.4 y  cant = 20"
   ]
  },
  {
   "cell_type": "code",
   "execution_count": 39,
   "metadata": {
    "collapsed": true
   },
   "outputs": [],
   "source": [
    "#Probamos con varias combinaciones de columnas, y esta fue la de mejores resultados\n",
    "\n",
    "columnas = ['superficie','place_name_encoded','property_type_encoded','seguridad','gimnasio','aire','pileta','cochera']\n",
    "columnas_precio = columnas + ['price_aprox_usd']"
   ]
  },
  {
   "cell_type": "code",
   "execution_count": 40,
   "metadata": {
    "collapsed": true
   },
   "outputs": [],
   "source": [
    "set_entrenamiento = propiedades.loc[(propiedades.Year >= 2016) &((propiedades.Year < 2017) | (propiedades.Month < 6))\\\n",
    "                                    ,columnas_precio]\n",
    "set_pruebas = propiedades.loc[(propiedades.Year == 2017) & (propiedades.Month == 6),columnas_precio].head(20000)\n",
    "\n",
    "set_entrenamiento_datos = set_entrenamiento.loc[:,columnas]\n",
    "set_entrenamiento_resultado = set_entrenamiento.loc[:,'price_aprox_usd']"
   ]
  },
  {
   "cell_type": "code",
   "execution_count": 41,
   "metadata": {
    "collapsed": true
   },
   "outputs": [],
   "source": [
    "cant_arbol = 20\n",
    "feature = 0.4"
   ]
  },
  {
   "cell_type": "code",
   "execution_count": 42,
   "metadata": {},
   "outputs": [
    {
     "name": "stdout",
     "output_type": "stream",
     "text": [
      "Precision = 88.21 % , error = 16268143364.99585\n"
     ]
    }
   ],
   "source": [
    "randomforest = RandomForestRegressor(n_estimators = cant_arbol, max_features = feature)\n",
    "randomforest.fit(set_entrenamiento_datos,set_entrenamiento_resultado)\n",
    "set_pruebas.loc[:,'resultado'] = set_pruebas.loc[:,columnas].apply(lambda x: randomforest.predict(x)[0],axis = 1)\n",
    "precision = randomforest.score(set_pruebas.loc[:,columnas],set_pruebas.price_aprox_usd) * 100\n",
    "error = mean_squared_error(set_pruebas.price_aprox_usd,set_pruebas.resultado)\n",
    "print(\"Precision = {:.2f} % , error = {}\".format(precision, error))"
   ]
  },
  {
   "cell_type": "markdown",
   "metadata": {},
   "source": [
    "# calculo con los verdaderos datos a analizar"
   ]
  },
  {
   "cell_type": "code",
   "execution_count": 43,
   "metadata": {
    "collapsed": true
   },
   "outputs": [],
   "source": [
    "analizar = pd.read_csv(\"/home/mati/Desktop/properati_dataset_modificado.csv\")"
   ]
  },
  {
   "cell_type": "code",
   "execution_count": 44,
   "metadata": {
    "collapsed": true
   },
   "outputs": [],
   "source": [
    "analizar.loc[:,'price_usd'] = analizar.loc[:,columnas].apply(lambda x: randomforest.predict(x)[0],axis = 1)"
   ]
  },
  {
   "cell_type": "code",
   "execution_count": 45,
   "metadata": {
    "collapsed": true
   },
   "outputs": [],
   "source": [
    "resultado = analizar.loc[:,['id','price_usd']]"
   ]
  },
  {
   "cell_type": "code",
   "execution_count": 46,
   "metadata": {
    "collapsed": true
   },
   "outputs": [],
   "source": [
    "resultado.to_csv('Random_Forests_resultados', index = False)"
   ]
  },
  {
   "cell_type": "markdown",
   "metadata": {},
   "source": [
    "## Utilizando standard scaler"
   ]
  },
  {
   "cell_type": "code",
   "execution_count": 6,
   "metadata": {
    "collapsed": true
   },
   "outputs": [],
   "source": [
    "columnas = ['superficie','place_name_encoded','property_type_encoded','seguridad','gimnasio', 'aire', 'pileta', 'cochera']\n",
    "columnas_precio = columnas + ['price_aprox_usd']"
   ]
  },
  {
   "cell_type": "code",
   "execution_count": 7,
   "metadata": {
    "collapsed": true
   },
   "outputs": [],
   "source": [
    "set_entrenamiento = propiedades.loc[(propiedades.Year >= 2016) &((propiedades.Year < 2017) | (propiedades.Month < 6))\\\n",
    "                                    ,columnas_precio]\n",
    "set_pruebas = propiedades.loc[(propiedades.Year == 2017) & (propiedades.Month == 6),columnas_precio].head(20000)\n",
    "\n",
    "set_entrenamiento_datos = set_entrenamiento.loc[:,columnas]\n",
    "set_entrenamiento_resultado = set_entrenamiento.loc[:,'price_aprox_usd']"
   ]
  },
  {
   "cell_type": "code",
   "execution_count": 8,
   "metadata": {},
   "outputs": [
    {
     "data": {
      "text/plain": [
       "StandardScaler(copy=True, with_mean=True, with_std=True)"
      ]
     },
     "execution_count": 8,
     "metadata": {},
     "output_type": "execute_result"
    }
   ],
   "source": [
    "from sklearn.preprocessing import StandardScaler  \n",
    "scaler = StandardScaler()  \n",
    "scaler.fit(set_entrenamiento_datos)  "
   ]
  },
  {
   "cell_type": "code",
   "execution_count": 37,
   "metadata": {},
   "outputs": [
    {
     "name": "stdout",
     "output_type": "stream",
     "text": [
      "Precision = 88.38 % , error = 16025887536.8\n"
     ]
    }
   ],
   "source": [
    "randomforest = RandomForestRegressor(n_estimators = 20, max_features = 0.4, warm_start = True)\n",
    "for i in range (15):\n",
    "    randomforest.fit(scaler.transform(set_entrenamiento_datos),set_entrenamiento_resultado)\n",
    "set_pruebas.loc[:,'resultado'] = set_pruebas.loc[:,columnas].apply(lambda x: randomforest.predict(scaler.transform([x]))[0],axis = 1)\n",
    "precision = randomforest.score(scaler.transform(set_pruebas.loc[:,columnas]),set_pruebas.price_aprox_usd) * 100\n",
    "error = mean_squared_error(set_pruebas.price_aprox_usd,set_pruebas.resultado)\n",
    "print(\"Precision = {:.2f} % , error = {}\".format(precision, error))"
   ]
  },
  {
   "cell_type": "code",
   "execution_count": 38,
   "metadata": {
    "collapsed": true
   },
   "outputs": [],
   "source": [
    "analizar = pd.read_csv('/home/agustin/Escritorio/escritorio/fiuba/Organizacion de datos/datos para el tp2/properati_dataset_modificado.csv')"
   ]
  },
  {
   "cell_type": "code",
   "execution_count": 39,
   "metadata": {
    "collapsed": true
   },
   "outputs": [],
   "source": [
    "analizar.loc[:,'price_usd'] = analizar.loc[:,columnas].apply(lambda x: randomforest.predict(scaler.transform([x]))[0],axis = 1)"
   ]
  },
  {
   "cell_type": "code",
   "execution_count": 41,
   "metadata": {},
   "outputs": [
    {
     "data": {
      "text/plain": [
       "count    1.416600e+04\n",
       "mean     2.427062e+05\n",
       "std      3.100394e+05\n",
       "min      5.005030e+03\n",
       "25%      1.065692e+05\n",
       "50%      1.597793e+05\n",
       "75%      2.700639e+05\n",
       "max      2.037744e+07\n",
       "Name: price_usd, dtype: float64"
      ]
     },
     "execution_count": 41,
     "metadata": {},
     "output_type": "execute_result"
    }
   ],
   "source": [
    "analizar.price_usd.describe()"
   ]
  },
  {
   "cell_type": "code",
   "execution_count": 42,
   "metadata": {
    "collapsed": true
   },
   "outputs": [],
   "source": [
    "resultado = analizar.loc[:,['id','price_usd']]"
   ]
  },
  {
   "cell_type": "code",
   "execution_count": 43,
   "metadata": {
    "collapsed": true
   },
   "outputs": [],
   "source": [
    "resultado.to_csv('resultados/Random_Forests_standard_scaler_resultados', index = False)"
   ]
  },
  {
   "cell_type": "markdown",
   "metadata": {},
   "source": [
    "# Usando lat lon en lugar de place name"
   ]
  },
  {
   "cell_type": "code",
   "execution_count": 2,
   "metadata": {
    "collapsed": true
   },
   "outputs": [],
   "source": [
    "propiedades = pd.read_csv('/home/mati/Desktop/set_datos_propiedades.csv')"
   ]
  },
  {
   "cell_type": "code",
   "execution_count": 3,
   "metadata": {
    "collapsed": true
   },
   "outputs": [],
   "source": [
    "propiedades = propiedades.loc[(propiedades.price_aprox_usd.notnull()) & (propiedades.superficie.notnull())\\\n",
    "                              & (propiedades.lat.notnull()) & (propiedades.lon.notnull()),\\\n",
    "                             ['lat', 'lon', 'property_type_encoded','price_aprox_usd','superficie',\\\n",
    "                             'Year','Month','seguridad','aire','gimnasio','cochera','pileta']]"
   ]
  },
  {
   "cell_type": "code",
   "execution_count": 4,
   "metadata": {
    "collapsed": true
   },
   "outputs": [],
   "source": [
    "columnas = ['superficie','lat', 'lon','property_type_encoded','seguridad','gimnasio', 'aire', 'pileta', 'cochera']\n",
    "columnas_precio = columnas + ['price_aprox_usd']"
   ]
  },
  {
   "cell_type": "code",
   "execution_count": 5,
   "metadata": {
    "collapsed": true
   },
   "outputs": [],
   "source": [
    "set_entrenamiento = propiedades.loc[(propiedades.Year >= 2016) &((propiedades.Year < 2017) | (propiedades.Month < 6))\\\n",
    "                                    ,columnas_precio]\n",
    "set_pruebas = propiedades.loc[(propiedades.Year == 2017) & (propiedades.Month == 6),columnas_precio].head(20000)\n",
    "\n",
    "set_entrenamiento_datos = set_entrenamiento.loc[:,columnas]\n",
    "set_entrenamiento_resultado = set_entrenamiento.loc[:,'price_aprox_usd']"
   ]
  },
  {
   "cell_type": "code",
   "execution_count": 6,
   "metadata": {},
   "outputs": [
    {
     "name": "stdout",
     "output_type": "stream",
     "text": [
      "Precision = 95.02 % , error = 5769331856.080151\n"
     ]
    }
   ],
   "source": [
    "randomforest = RandomForestRegressor()\n",
    "randomforest.fit(set_entrenamiento_datos,set_entrenamiento_resultado)\n",
    "set_pruebas.loc[:,'resultado'] = set_pruebas.loc[:,columnas].apply(lambda x: randomforest.predict(x)[0],axis = 1)\n",
    "precision = randomforest.score(set_pruebas.loc[:,columnas],set_pruebas.price_aprox_usd) * 100\n",
    "error = mean_squared_error(set_pruebas.price_aprox_usd,set_pruebas.resultado)\n",
    "print(\"Precision = {:.2f} % , error = {}\".format(precision, error))"
   ]
  },
  {
   "cell_type": "code",
   "execution_count": 7,
   "metadata": {
    "collapsed": true
   },
   "outputs": [],
   "source": [
    "res = []"
   ]
  },
  {
   "cell_type": "code",
   "execution_count": 8,
   "metadata": {},
   "outputs": [
    {
     "name": "stdout",
     "output_type": "stream",
     "text": [
      "5  -  0.4\n",
      "5  -  0.5\n",
      "5  -  0.6\n",
      "5  -  0.8\n",
      "5  -  1.0\n",
      "10  -  0.4\n",
      "10  -  0.5\n",
      "10  -  0.6\n",
      "10  -  0.8\n",
      "10  -  1.0\n",
      "15  -  0.4\n",
      "15  -  0.5\n",
      "15  -  0.6\n",
      "15  -  0.8\n",
      "15  -  1.0\n",
      "20  -  0.4\n",
      "20  -  0.5\n",
      "20  -  0.6\n",
      "20  -  0.8\n",
      "20  -  1.0\n",
      "25  -  0.4\n",
      "25  -  0.5\n",
      "25  -  0.6\n",
      "25  -  0.8\n",
      "25  -  1.0\n",
      "30  -  0.4\n",
      "30  -  0.5\n",
      "30  -  0.6\n",
      "30  -  0.8\n",
      "30  -  1.0\n",
      "50  -  0.4\n",
      "50  -  0.5\n",
      "50  -  0.6\n",
      "50  -  0.8\n",
      "50  -  1.0\n"
     ]
    }
   ],
   "source": [
    "lista_arboles = [5,10,15,20,25,30,50]\n",
    "lista_feature = [0.4,0.5,0.6,0.8,1.0]\n",
    "\n",
    "for cant_arbol in lista_arboles:\n",
    "    for feature in lista_feature:\n",
    "        randomforest = RandomForestRegressor(n_estimators = cant_arbol, max_features = feature)\n",
    "        randomforest.fit(set_entrenamiento_datos,set_entrenamiento_resultado)\n",
    "        set_pruebas.loc[:,'resultado'] = set_pruebas.loc[:,columnas].apply(lambda x: randomforest.predict(x)[0],axis = 1)\n",
    "        precision = randomforest.score(set_pruebas.loc[:,columnas],set_pruebas.loc[:,'price_aprox_usd']) * 100\n",
    "        error = mean_squared_error(set_pruebas.price_aprox_usd,set_pruebas.resultado)\n",
    "        res.append((cant_arbol,feature,precision,error))\n",
    "        print(cant_arbol,' - ',feature)"
   ]
  },
  {
   "cell_type": "code",
   "execution_count": 9,
   "metadata": {},
   "outputs": [
    {
     "name": "stdout",
     "output_type": "stream",
     "text": [
      "Cant arboles = 5, % features = 0.4, precision = 94.55 % , error = 6307030644.998087\n",
      "Cant arboles = 5, % features = 0.5, precision = 93.82 % , error = 7154235562.696608\n",
      "Cant arboles = 5, % features = 0.6, precision = 95.77 % , error = 4902160429.393464\n",
      "Cant arboles = 5, % features = 0.8, precision = 93.82 % , error = 7158688782.447428\n",
      "Cant arboles = 5, % features = 1.0, precision = 95.51 % , error = 5199701473.432254\n",
      "Cant arboles = 10, % features = 0.4, precision = 95.66 % , error = 5024785549.323212\n",
      "Cant arboles = 10, % features = 0.5, precision = 94.52 % , error = 6339578504.01168\n",
      "Cant arboles = 10, % features = 0.6, precision = 94.95 % , error = 5844629858.660479\n",
      "Cant arboles = 10, % features = 0.8, precision = 95.02 % , error = 5770632726.046741\n",
      "Cant arboles = 10, % features = 1.0, precision = 95.13 % , error = 5634883047.226112\n",
      "Cant arboles = 15, % features = 0.4, precision = 96.69 % , error = 3834602573.188404\n",
      "Cant arboles = 15, % features = 0.5, precision = 96.24 % , error = 4350814296.351617\n",
      "Cant arboles = 15, % features = 0.6, precision = 95.06 % , error = 5718320173.585896\n",
      "Cant arboles = 15, % features = 0.8, precision = 96.08 % , error = 4536898296.274602\n",
      "Cant arboles = 15, % features = 1.0, precision = 95.46 % , error = 5261225620.7411375\n",
      "Cant arboles = 20, % features = 0.4, precision = 96.33 % , error = 4251623089.123303\n",
      "Cant arboles = 20, % features = 0.5, precision = 95.86 % , error = 4792593002.464648\n",
      "Cant arboles = 20, % features = 0.6, precision = 96.15 % , error = 4454652146.161707\n",
      "Cant arboles = 20, % features = 0.8, precision = 95.27 % , error = 5477741077.057862\n",
      "Cant arboles = 20, % features = 1.0, precision = 95.82 % , error = 4835071905.650907\n",
      "Cant arboles = 25, % features = 0.4, precision = 95.80 % , error = 4863189753.625308\n",
      "Cant arboles = 25, % features = 0.5, precision = 96.29 % , error = 4290931463.885616\n",
      "Cant arboles = 25, % features = 0.6, precision = 95.94 % , error = 4702474901.090191\n",
      "Cant arboles = 25, % features = 0.8, precision = 96.31 % , error = 4272043036.929114\n",
      "Cant arboles = 25, % features = 1.0, precision = 95.67 % , error = 5009359737.534953\n",
      "Cant arboles = 30, % features = 0.4, precision = 95.78 % , error = 4881882536.124961\n",
      "Cant arboles = 30, % features = 0.5, precision = 95.80 % , error = 4867436512.989378\n",
      "Cant arboles = 30, % features = 0.6, precision = 96.04 % , error = 4581256728.746621\n",
      "Cant arboles = 30, % features = 0.8, precision = 95.73 % , error = 4944943700.104921\n",
      "Cant arboles = 30, % features = 1.0, precision = 95.74 % , error = 4930458105.622676\n",
      "Cant arboles = 50, % features = 0.4, precision = 96.21 % , error = 4383652366.371601\n",
      "Cant arboles = 50, % features = 0.5, precision = 95.86 % , error = 4796642670.322291\n",
      "Cant arboles = 50, % features = 0.6, precision = 96.21 % , error = 4387708484.659102\n",
      "Cant arboles = 50, % features = 0.8, precision = 96.08 % , error = 4544446944.126075\n",
      "Cant arboles = 50, % features = 1.0, precision = 95.72 % , error = 4954501106.513994\n"
     ]
    }
   ],
   "source": [
    "for r in res:\n",
    "    print(\"Cant arboles = {}, % features = {}, precision = {:.2f} % , error = {}\".format(r[0],r[1],r[2],r[3]))"
   ]
  },
  {
   "cell_type": "code",
   "execution_count": 10,
   "metadata": {},
   "outputs": [
    {
     "name": "stdout",
     "output_type": "stream",
     "text": [
      "Mayor precision = Cant arboles = 15, % features = 0.4, precision = 96.69 % , error = 3834602573.188404\n",
      "Menor error = Cant arboles = 15, % features = 0.4, precision = 96.69 % , error = 3834602573.188404\n"
     ]
    }
   ],
   "source": [
    "min_error = float('inf')\n",
    "max_precision = 0\n",
    "tupla_min_error = ()\n",
    "tupla_max_precision = ()\n",
    "for r in res:\n",
    "    if r[3] < min_error:\n",
    "        min_error = r[3]\n",
    "        tupla_min_error = r\n",
    "    if r[2] > max_precision:\n",
    "        max_precision = r[2]\n",
    "        tupla_max_precision = r\n",
    "        \n",
    "print(\"Mayor precision = Cant arboles = {}, % features = {}, precision = {:.2f} % , error = {}\".\\\n",
    "              format(tupla_max_precision[0],tupla_max_precision[1],tupla_max_precision[2],tupla_max_precision[3]))\n",
    "print(\"Menor error = Cant arboles = {}, % features = {}, precision = {:.2f} % , error = {}\".\\\n",
    "              format(tupla_min_error[0],tupla_min_error[1],tupla_min_error[2],tupla_min_error[3]))"
   ]
  },
  {
   "cell_type": "markdown",
   "metadata": {},
   "source": [
    "## Tomamos features = 0.4 y  cant = 15"
   ]
  },
  {
   "cell_type": "code",
   "execution_count": 30,
   "metadata": {
    "collapsed": true
   },
   "outputs": [],
   "source": [
    "#Probamos distintas combinaciones de columnas, esta es la que dio mejores resultados\n",
    "\n",
    "columnas = ['superficie','lat', 'lon','property_type_encoded','seguridad','gimnasio', 'aire', 'pileta', 'cochera']\n",
    "columnas_precio = columnas + ['price_aprox_usd']"
   ]
  },
  {
   "cell_type": "code",
   "execution_count": 31,
   "metadata": {
    "collapsed": true
   },
   "outputs": [],
   "source": [
    "set_entrenamiento = propiedades.loc[(propiedades.Year >= 2016) &((propiedades.Year < 2017) | (propiedades.Month < 6))\\\n",
    "                                    ,columnas_precio]\n",
    "set_pruebas = propiedades.loc[(propiedades.Year == 2017) & (propiedades.Month == 6),columnas_precio].head(20000)\n",
    "\n",
    "set_entrenamiento_datos = set_entrenamiento.loc[:,columnas]\n",
    "set_entrenamiento_resultado = set_entrenamiento.loc[:,'price_aprox_usd']"
   ]
  },
  {
   "cell_type": "code",
   "execution_count": 32,
   "metadata": {
    "collapsed": true
   },
   "outputs": [],
   "source": [
    "cant_arbol = 15\n",
    "feature = 0.4"
   ]
  },
  {
   "cell_type": "code",
   "execution_count": 33,
   "metadata": {},
   "outputs": [
    {
     "name": "stdout",
     "output_type": "stream",
     "text": [
      "Precision = 95.78 % , error = 4890492521.827894\n"
     ]
    }
   ],
   "source": [
    "randomforest = RandomForestRegressor(n_estimators = cant_arbol, max_features = feature)\n",
    "randomforest.fit(set_entrenamiento_datos,set_entrenamiento_resultado)\n",
    "set_pruebas.loc[:,'resultado'] = set_pruebas.loc[:,columnas].apply(lambda x: randomforest.predict(x)[0],axis = 1)\n",
    "precision = randomforest.score(set_pruebas.loc[:,columnas],set_pruebas.price_aprox_usd) * 100\n",
    "error = mean_squared_error(set_pruebas.price_aprox_usd,set_pruebas.resultado)\n",
    "print(\"Precision = {:.2f} % , error = {}\".format(precision, error))"
   ]
  },
  {
   "cell_type": "markdown",
   "metadata": {},
   "source": [
    "# calculo con los verdaderos datos a analizar"
   ]
  },
  {
   "cell_type": "code",
   "execution_count": 34,
   "metadata": {
    "collapsed": true
   },
   "outputs": [],
   "source": [
    "analizar = pd.read_csv(\"/home/mati/Desktop/properati_dataset_modificado.csv\")"
   ]
  },
  {
   "cell_type": "code",
   "execution_count": 35,
   "metadata": {
    "collapsed": true
   },
   "outputs": [],
   "source": [
    "analizar.loc[:,'price_usd'] = analizar.loc[:,columnas].apply(lambda x: randomforest.predict(x)[0],axis = 1)"
   ]
  },
  {
   "cell_type": "code",
   "execution_count": 36,
   "metadata": {
    "collapsed": true
   },
   "outputs": [],
   "source": [
    "resultado = analizar.loc[:,['id','price_usd']]"
   ]
  },
  {
   "cell_type": "code",
   "execution_count": 37,
   "metadata": {
    "collapsed": true
   },
   "outputs": [],
   "source": [
    "resultado.to_csv('resultados/Random_Forests_2', index = False)"
   ]
  },
  {
   "cell_type": "markdown",
   "metadata": {},
   "source": [
    "# Usando Grid Search y Cross Validation"
   ]
  },
  {
   "cell_type": "code",
   "execution_count": 2,
   "metadata": {
    "collapsed": true
   },
   "outputs": [],
   "source": [
    "propiedades = pd.read_csv('/home/mati/Desktop/set_datos_propiedades.csv')\n",
    "\n",
    "propiedades = propiedades.loc[(propiedades.price_aprox_usd.notnull()) & (propiedades.superficie.notnull())\\\n",
    "                              & (propiedades.lat.notnull()) & (propiedades.lon.notnull()) & (propiedades.Year >=2016)]\n",
    "\n",
    "columnas = ['superficie','lat', 'lon','property_type_encoded','seguridad','gimnasio', 'aire', 'pileta', 'cochera']\n",
    "columnas_precio = columnas + ['price_aprox_usd']\n",
    "\n",
    "set_entrenamiento_datos = propiedades.loc[:,columnas]\n",
    "set_entrenamiento_resultado = propiedades.loc[:,'price_aprox_usd']"
   ]
  },
  {
   "cell_type": "code",
   "execution_count": 3,
   "metadata": {
    "collapsed": true
   },
   "outputs": [],
   "source": [
    "# Parametros\n",
    "\n",
    "lista_arboles = [5,10,15,20,30,50]\n",
    "lista_feature = [0.4,0.5,0.7,1.0]\n",
    "\n",
    "parametros = {\"n_estimators\" : lista_arboles, \"max_features\" : lista_feature}\n",
    "\n",
    "iteraciones_cross_validation = 10\n",
    "rf = RandomForestRegressor()"
   ]
  },
  {
   "cell_type": "code",
   "execution_count": 4,
   "metadata": {},
   "outputs": [
    {
     "name": "stdout",
     "output_type": "stream",
     "text": [
      "Tiempo: 17:25:17 --- 20:16:41 \n",
      " Precision: 93.72 \n",
      " Parametros = {'max_features': 0.4, 'n_estimators': 20}\n"
     ]
    }
   ],
   "source": [
    "inicio = time.strftime(\"%X\")\n",
    "\n",
    "grid = GridSearchCV( estimator = rf, param_grid = parametros, n_jobs = 2, cv = iteraciones_cross_validation)\n",
    "\n",
    "grid.fit(set_entrenamiento_datos, set_entrenamiento_resultado)\n",
    "\n",
    "score = grid.best_score_ * 100\n",
    "mejores_parametros = grid.best_params_\n",
    "fin = time.strftime(\"%X\")\n",
    "\n",
    "print(\"Tiempo: {} --- {} \\n Precision: {:.2f} \\n Parametros = {}\".format(inicio,fin,score,mejores_parametros))"
   ]
  },
  {
   "cell_type": "code",
   "execution_count": 5,
   "metadata": {},
   "outputs": [
    {
     "data": {
      "text/plain": [
       "['algoritmos/random_forests.pkl']"
      ]
     },
     "execution_count": 5,
     "metadata": {},
     "output_type": "execute_result"
    }
   ],
   "source": [
    "analizar = pd.read_csv(\"/home/mati/Desktop/properati_dataset_modificado.csv\")\n",
    "\n",
    "analizar.loc[:,'price_usd'] = analizar.loc[:,columnas].apply(lambda x: grid.predict(x)[0],axis = 1)\n",
    "\n",
    "resultado = analizar.loc[:,['id','price_usd']]\n",
    "\n",
    "resultado.to_csv('resultados/Random_Forests_GridSearch.csv', index = False)\n",
    "\n",
    "joblib.dump(grid, 'algoritmos/random_forests.pkl')"
   ]
  },
  {
   "cell_type": "markdown",
   "metadata": {},
   "source": [
    "## Hago Bagging con el mejor algoritmo"
   ]
  },
  {
   "cell_type": "code",
   "execution_count": 2,
   "metadata": {
    "collapsed": true
   },
   "outputs": [],
   "source": [
    "propiedades = pd.read_csv('/home/mati/Desktop/set_datos_propiedades.csv')\n",
    "\n",
    "propiedades = propiedades.loc[(propiedades.price_aprox_usd.notnull()) & (propiedades.superficie.notnull())\\\n",
    "                              & (propiedades.lat.notnull()) & (propiedades.lon.notnull()) & (propiedades.Year >=2016)]\n",
    "\n",
    "columnas = ['superficie','lat', 'lon','property_type_encoded','seguridad','gimnasio', 'aire', 'pileta', 'cochera']\n",
    "columnas_precio = columnas + ['price_aprox_usd']\n",
    "\n",
    "set_pruebas = analizar = pd.read_csv(\"/home/mati/Desktop/properati_dataset_modificado.csv\")\n",
    "set_pruebas.loc[:,'price_usd'] = 0.0"
   ]
  },
  {
   "cell_type": "code",
   "execution_count": 3,
   "metadata": {
    "collapsed": true
   },
   "outputs": [],
   "source": [
    "cant = 10\n",
    "\n",
    "for i in range(cant):\n",
    "    datos = propiedades.sample(frac = 0.4)\n",
    "    set_entrenamiento_datos = datos.loc[:,columnas]\n",
    "    set_entrenamiento_resultado = datos.loc[:,'price_aprox_usd']\n",
    "    \n",
    "    rf = RandomForestRegressor(n_estimators = 20, max_features = 0.4)\n",
    "    \n",
    "    rf.fit(set_entrenamiento_datos,set_entrenamiento_resultado)\n",
    "    set_pruebas.loc[:,'res'] = set_pruebas.loc[:,columnas].apply(lambda x: rf.predict(x)[0],axis = 1)\n",
    "    set_pruebas.loc[:,'price_usd'] = set_pruebas.loc[:,'price_usd'] + set_pruebas.loc[:,'res']"
   ]
  },
  {
   "cell_type": "code",
   "execution_count": 4,
   "metadata": {
    "collapsed": true
   },
   "outputs": [],
   "source": [
    "set_pruebas.loc[:,'price_usd'] = set_pruebas.loc[:,'price_usd'] / cant\n",
    "\n",
    "resultado = set_pruebas.loc[:,['id','price_usd']]\n",
    "\n",
    "resultado.to_csv('resultados/Random_Forests_Cross_Validation.csv', index = False)"
   ]
  }
 ],
 "metadata": {
  "kernelspec": {
   "display_name": "Python 3",
   "language": "python",
   "name": "python3"
  },
  "language_info": {
   "codemirror_mode": {
    "name": "ipython",
    "version": 2
   },
   "file_extension": ".py",
   "mimetype": "text/x-python",
   "name": "python",
   "nbconvert_exporter": "python",
   "pygments_lexer": "ipython2",
   "version": "2.7.12"
  }
 },
 "nbformat": 4,
 "nbformat_minor": 2
}
