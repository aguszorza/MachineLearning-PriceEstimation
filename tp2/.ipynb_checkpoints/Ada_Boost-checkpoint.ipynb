{
 "cells": [
  {
   "cell_type": "code",
   "execution_count": 2,
   "metadata": {
    "collapsed": true
   },
   "outputs": [],
   "source": [
    "import pandas as pd\n",
    "import numpy as np\n",
    "from sklearn.metrics import mean_squared_error\n",
    "from sklearn.ensemble import AdaBoostRegressor\n",
    "\n",
    "import warnings\n",
    "warnings.simplefilter(\"ignore\", category=DeprecationWarning)"
   ]
  },
  {
   "cell_type": "code",
   "execution_count": 2,
   "metadata": {
    "collapsed": true
   },
   "outputs": [],
   "source": [
    "propiedades = pd.read_csv('/home/mati/Desktop/set_datos_propiedades.csv')"
   ]
  },
  {
   "cell_type": "code",
   "execution_count": 3,
   "metadata": {
    "collapsed": true
   },
   "outputs": [],
   "source": [
    "propiedades = propiedades.loc[(propiedades.price_aprox_usd.notnull()) & (propiedades.superficie.notnull()),\\\n",
    "                             ['place_name_encoded', 'property_type_encoded','price_aprox_usd','superficie',\\\n",
    "                             'Year','Month','seguridad','aire','gimnasio','cochera','pileta']]"
   ]
  },
  {
   "cell_type": "code",
   "execution_count": 4,
   "metadata": {},
   "outputs": [
    {
     "name": "stdout",
     "output_type": "stream",
     "text": [
      "<class 'pandas.core.frame.DataFrame'>\n",
      "Int64Index: 1132495 entries, 0 to 1413024\n",
      "Data columns (total 11 columns):\n",
      "place_name_encoded       1132495 non-null int64\n",
      "property_type_encoded    1132495 non-null int64\n",
      "price_aprox_usd          1132495 non-null float64\n",
      "superficie               1132495 non-null float64\n",
      "Year                     1132495 non-null int64\n",
      "Month                    1132495 non-null int64\n",
      "seguridad                1132495 non-null bool\n",
      "aire                     1132495 non-null bool\n",
      "gimnasio                 1132495 non-null bool\n",
      "cochera                  1132495 non-null bool\n",
      "pileta                   1132495 non-null bool\n",
      "dtypes: bool(5), float64(2), int64(4)\n",
      "memory usage: 65.9 MB\n"
     ]
    }
   ],
   "source": [
    "propiedades.info()"
   ]
  },
  {
   "cell_type": "markdown",
   "metadata": {},
   "source": [
    "# Ada Boost"
   ]
  },
  {
   "cell_type": "code",
   "execution_count": 5,
   "metadata": {
    "collapsed": true
   },
   "outputs": [],
   "source": [
    "columnas = ['superficie','place_name_encoded','property_type_encoded','seguridad','gimnasio', 'aire', 'pileta', 'cochera']\n",
    "columnas_precio = columnas + ['price_aprox_usd']"
   ]
  },
  {
   "cell_type": "code",
   "execution_count": 6,
   "metadata": {
    "collapsed": true
   },
   "outputs": [],
   "source": [
    "set_entrenamiento = propiedades.loc[(propiedades.Year >= 2016) &((propiedades.Year < 2017) | (propiedades.Month < 6))\\\n",
    "                                    ,columnas_precio]\n",
    "set_pruebas = propiedades.loc[(propiedades.Year == 2017) & (propiedades.Month == 6),columnas_precio].head(20000)\n",
    "\n",
    "set_entrenamiento_datos = set_entrenamiento.loc[:,columnas]\n",
    "set_entrenamiento_resultado = set_entrenamiento.loc[:,'price_aprox_usd']"
   ]
  },
  {
   "cell_type": "code",
   "execution_count": 7,
   "metadata": {},
   "outputs": [
    {
     "name": "stdout",
     "output_type": "stream",
     "text": [
      "Precision = 19.43 % , error = 111158957920.4786\n"
     ]
    }
   ],
   "source": [
    "ada = AdaBoostRegressor()\n",
    "ada.fit(set_entrenamiento_datos,set_entrenamiento_resultado)\n",
    "set_pruebas.loc[:,'resultado'] = set_pruebas.loc[:,columnas].apply(lambda x: ada.predict(x)[0],axis = 1)\n",
    "precision = ada.score(set_pruebas.loc[:,columnas],set_pruebas.price_aprox_usd) * 100\n",
    "error = mean_squared_error(set_pruebas.price_aprox_usd,set_pruebas.resultado)\n",
    "print(\"Precision = {:.2f} % , error = {}\".format(precision, error))"
   ]
  },
  {
   "cell_type": "markdown",
   "metadata": {},
   "source": [
    "### Ahora que tenemos una intuicion, probamos variando los parametros"
   ]
  },
  {
   "cell_type": "code",
   "execution_count": 8,
   "metadata": {
    "collapsed": true
   },
   "outputs": [],
   "source": [
    "columnas = ['superficie','place_name_encoded','property_type_encoded','seguridad','gimnasio', 'aire', 'pileta', 'cochera']\n",
    "columnas_precio = columnas + ['price_aprox_usd']"
   ]
  },
  {
   "cell_type": "code",
   "execution_count": 9,
   "metadata": {
    "collapsed": true
   },
   "outputs": [],
   "source": [
    "set_entrenamiento = propiedades.loc[(propiedades.Year >= 2016) &((propiedades.Year < 2017) | (propiedades.Month < 6))\\\n",
    "                                    ,columnas_precio]\n",
    "set_pruebas = propiedades.loc[(propiedades.Year == 2017) & (propiedades.Month == 6),columnas_precio].head(20000)\n",
    "\n",
    "set_entrenamiento_datos = set_entrenamiento.loc[:,columnas]\n",
    "set_entrenamiento_resultado = set_entrenamiento.loc[:,'price_aprox_usd']\n",
    "\n",
    "res = []"
   ]
  },
  {
   "cell_type": "code",
   "execution_count": 14,
   "metadata": {},
   "outputs": [
    {
     "name": "stdout",
     "output_type": "stream",
     "text": [
      "2  -  square\n",
      "3  -  square\n",
      "4  -  square\n",
      "6  -  square\n",
      "7  -  square\n",
      "8  -  square\n",
      "9  -  square\n"
     ]
    }
   ],
   "source": [
    "lista_estimators = [2,3,4,6,7,8,9]\n",
    "lista_loss = ['square']\n",
    "\n",
    "for estimator in lista_estimators:\n",
    "    for loss in lista_loss:\n",
    "            ada = AdaBoostRegressor(n_estimators = estimator, loss = loss)\n",
    "            ada.fit(set_entrenamiento_datos,set_entrenamiento_resultado)\n",
    "            set_pruebas.loc[:,'resultado'] = set_pruebas.loc[:,columnas].apply(lambda x: ada.predict(x)[0],axis = 1)\n",
    "            precision = ada.score(set_pruebas.loc[:,columnas],set_pruebas.price_aprox_usd) * 100\n",
    "            error = mean_squared_error(set_pruebas.price_aprox_usd,set_pruebas.resultado)\n",
    "            res.append((estimator,loss,precision,error))\n",
    "            print(estimator,' - ',loss)"
   ]
  },
  {
   "cell_type": "code",
   "execution_count": 15,
   "metadata": {},
   "outputs": [
    {
     "name": "stdout",
     "output_type": "stream",
     "text": [
      "estimator = 5, loss = linear, precision = 32.13 % ,error = 93630226703.13373\n",
      "estimator = 5, loss = square, precision = 34.31 % ,error = 90632374291.81346\n",
      "estimator = 5, loss = exponential, precision = 1.51 % ,error = 135883111824.44695\n",
      "estimator = 10, loss = linear, precision = 22.75 % ,error = 106576850575.38762\n",
      "estimator = 10, loss = square, precision = 32.36 % ,error = 93310837266.75972\n",
      "estimator = 10, loss = exponential, precision = -9.61 % ,error = 151221086248.75476\n",
      "estimator = 20, loss = linear, precision = 19.78 % ,error = 110673588583.70625\n",
      "estimator = 20, loss = square, precision = 25.97 % ,error = 102136082638.34029\n",
      "estimator = 20, loss = exponential, precision = -29.00 % ,error = 177962620514.4057\n",
      "estimator = 30, loss = linear, precision = 15.17 % ,error = 117025175411.09717\n",
      "estimator = 30, loss = square, precision = 32.69 % ,error = 92865597001.814\n",
      "estimator = 30, loss = exponential, precision = -154.98 % ,error = 351764422658.5229\n",
      "estimator = 50, loss = linear, precision = 20.83 % ,error = 109216765227.91713\n",
      "estimator = 50, loss = square, precision = -29.09 % ,error = 178098698872.26486\n",
      "estimator = 50, loss = exponential, precision = -870.85 % ,error = 1339386826253.6804\n",
      "estimator = 60, loss = linear, precision = 22.98 % ,error = 106256249865.67613\n",
      "estimator = 60, loss = square, precision = 17.01 % ,error = 114487354277.112\n",
      "estimator = 60, loss = exponential, precision = -1562.18 % ,error = 2293151162755.1343\n",
      "estimator = 100, loss = linear, precision = 23.32 % ,error = 105790374581.3882\n",
      "estimator = 100, loss = square, precision = 19.47 % ,error = 111098964893.8339\n",
      "estimator = 100, loss = exponential, precision = -4035.16 % ,error = 5704868984197.02\n",
      "estimator = 2, loss = square, precision = 33.21 % ,error = 92144353344.8781\n",
      "estimator = 3, loss = square, precision = 35.10 % ,error = 89531247481.83997\n",
      "estimator = 4, loss = square, precision = 33.23 % ,error = 92121754593.63208\n",
      "estimator = 6, loss = square, precision = 33.79 % ,error = 91345186477.93584\n",
      "estimator = 7, loss = square, precision = 29.04 % ,error = 97897870888.0036\n",
      "estimator = 8, loss = square, precision = 34.38 % ,error = 90524129388.66135\n",
      "estimator = 9, loss = square, precision = 34.29 % ,error = 90649292865.59389\n"
     ]
    }
   ],
   "source": [
    "for r in res:\n",
    "    print (\"estimator = {}, loss = {}, precision = {:.2f} % ,error = {}\".format(r[0],r[1],r[2],r[3]))"
   ]
  },
  {
   "cell_type": "code",
   "execution_count": 16,
   "metadata": {},
   "outputs": [
    {
     "name": "stdout",
     "output_type": "stream",
     "text": [
      "Mayor precision = estimator = 3, loss = square, precision = 35.10 % ,error = 89531247481.83997\n",
      "Menor error = estimator = 3, loss = square, precision = 35.10 % ,error = 89531247481.83997\n"
     ]
    }
   ],
   "source": [
    "min_error = float('inf')\n",
    "max_precision = 0\n",
    "tupla_min_error = ()\n",
    "tupla_max_precision = ()\n",
    "for r in res:\n",
    "    if r[3] < min_error:\n",
    "        min_error = r[3]\n",
    "        tupla_min_error = r\n",
    "    if r[2] > max_precision:\n",
    "        max_precision = r[2]\n",
    "        tupla_max_precision = r\n",
    "        \n",
    "print(\"Mayor precision = estimator = {}, loss = {}, precision = {:.2f} % ,error = {}\".\\\n",
    "              format(tupla_max_precision[0],tupla_max_precision[1],tupla_max_precision[2],tupla_max_precision[3]))\n",
    "print(\"Menor error = estimator = {}, loss = {}, precision = {:.2f} % ,error = {}\".\\\n",
    "              format(tupla_min_error[0],tupla_min_error[1],tupla_min_error[2],tupla_min_error[3]))"
   ]
  },
  {
   "cell_type": "markdown",
   "metadata": {},
   "source": [
    "# Elegimos estimator = 3, loss = square"
   ]
  },
  {
   "cell_type": "code",
   "execution_count": 70,
   "metadata": {
    "collapsed": true
   },
   "outputs": [],
   "source": [
    "#Probamos varias combinaciones de columnas, la de mejor resultado fue esta\n",
    "\n",
    "columnas = ['superficie','place_name_encoded','property_type_encoded','seguridad','gimnasio','aire','pileta','cochera']\n",
    "columnas_precio = columnas + ['price_aprox_usd']"
   ]
  },
  {
   "cell_type": "code",
   "execution_count": 71,
   "metadata": {
    "collapsed": true
   },
   "outputs": [],
   "source": [
    "set_entrenamiento = propiedades.loc[(propiedades.Year >= 2016) &((propiedades.Year < 2017) | (propiedades.Month < 6))\\\n",
    "                                    ,columnas_precio]\n",
    "set_pruebas = propiedades.loc[(propiedades.Year == 2017) & (propiedades.Month == 6),columnas_precio].head(20000)\n",
    "\n",
    "set_entrenamiento_datos = set_entrenamiento.loc[:,columnas]\n",
    "set_entrenamiento_resultado = set_entrenamiento.loc[:,'price_aprox_usd']"
   ]
  },
  {
   "cell_type": "code",
   "execution_count": 72,
   "metadata": {
    "collapsed": true
   },
   "outputs": [],
   "source": [
    "estimator = 3\n",
    "loss = 'square'"
   ]
  },
  {
   "cell_type": "code",
   "execution_count": 73,
   "metadata": {},
   "outputs": [
    {
     "name": "stdout",
     "output_type": "stream",
     "text": [
      "Precision = 33.18 % , error = 92185282012.8887\n"
     ]
    }
   ],
   "source": [
    "ada = AdaBoostRegressor(n_estimators = estimator, loss = loss)\n",
    "ada.fit(set_entrenamiento_datos,set_entrenamiento_resultado)\n",
    "set_pruebas.loc[:,'resultado'] = set_pruebas.loc[:,columnas].apply(lambda x: ada.predict(x)[0],axis = 1)\n",
    "precision = ada.score(set_pruebas.loc[:,columnas],set_pruebas.price_aprox_usd) * 100\n",
    "error = mean_squared_error(set_pruebas.price_aprox_usd,set_pruebas.resultado)\n",
    "print(\"Precision = {:.2f} % , error = {}\".format(precision, error))"
   ]
  },
  {
   "cell_type": "markdown",
   "metadata": {},
   "source": [
    "# Calculamos los verdaderos datos"
   ]
  },
  {
   "cell_type": "code",
   "execution_count": 74,
   "metadata": {
    "collapsed": true
   },
   "outputs": [],
   "source": [
    "analizar = pd.read_csv('/home/mati/Desktop/properati_dataset_modificado.csv')"
   ]
  },
  {
   "cell_type": "code",
   "execution_count": 75,
   "metadata": {
    "collapsed": true
   },
   "outputs": [],
   "source": [
    "analizar.loc[:,'price_usd'] = analizar.loc[:,columnas].apply(lambda x: ada.predict(x)[0],axis = 1)"
   ]
  },
  {
   "cell_type": "code",
   "execution_count": 76,
   "metadata": {
    "collapsed": true
   },
   "outputs": [],
   "source": [
    "resultado = analizar.loc[:,['id','price_usd']]"
   ]
  },
  {
   "cell_type": "code",
   "execution_count": 77,
   "metadata": {
    "collapsed": true
   },
   "outputs": [],
   "source": [
    "resultado.to_csv('Ada_Boost_resultados.csv', index = False)"
   ]
  },
  {
   "cell_type": "markdown",
   "metadata": {},
   "source": [
    "## Ahora uso lat y lon en lugar de place name"
   ]
  },
  {
   "cell_type": "code",
   "execution_count": 3,
   "metadata": {},
   "outputs": [],
   "source": [
    "propiedades = pd.read_csv('/home/agustin/Escritorio/escritorio/fiuba/Organizacion de datos/datos para el tp2/set_datos_propiedades.csv')"
   ]
  },
  {
   "cell_type": "code",
   "execution_count": 4,
   "metadata": {
    "collapsed": true
   },
   "outputs": [],
   "source": [
    "propiedades = propiedades.loc[(propiedades.price_aprox_usd.notnull()) & (propiedades.superficie.notnull())\\\n",
    "                              & (propiedades.lat.notnull()) & (propiedades.lon.notnull()),\\\n",
    "                             ['lat', 'lon', 'property_type_encoded','price_aprox_usd','superficie',\\\n",
    "                             'Year','Month','seguridad','aire','gimnasio','cochera','pileta']]"
   ]
  },
  {
   "cell_type": "code",
   "execution_count": 5,
   "metadata": {
    "collapsed": true
   },
   "outputs": [],
   "source": [
    "columnas = ['superficie','lat', 'lon','property_type_encoded','seguridad','gimnasio', 'aire', 'pileta', 'cochera']\n",
    "columnas_precio = columnas + ['price_aprox_usd']"
   ]
  },
  {
   "cell_type": "code",
   "execution_count": 6,
   "metadata": {
    "collapsed": true
   },
   "outputs": [],
   "source": [
    "set_entrenamiento = propiedades.loc[(propiedades.Year >= 2016) &((propiedades.Year < 2017) | (propiedades.Month < 6))\\\n",
    "                                    ,columnas_precio]\n",
    "set_pruebas = propiedades.loc[(propiedades.Year == 2017) & (propiedades.Month == 6),columnas_precio].head(20000)\n",
    "\n",
    "set_entrenamiento_datos = set_entrenamiento.loc[:,columnas]\n",
    "set_entrenamiento_resultado = set_entrenamiento.loc[:,'price_aprox_usd']"
   ]
  },
  {
   "cell_type": "code",
   "execution_count": 8,
   "metadata": {},
   "outputs": [
    {
     "name": "stdout",
     "output_type": "stream",
     "text": [
      "Precision = -9.57 % , error = 1.26863901639e+11\n"
     ]
    }
   ],
   "source": [
    "ada = AdaBoostRegressor()\n",
    "ada.fit(set_entrenamiento_datos,set_entrenamiento_resultado)\n",
    "set_pruebas.loc[:,'resultado'] = set_pruebas.loc[:,columnas].apply(lambda x: ada.predict([x])[0],axis = 1)\n",
    "precision = ada.score(set_pruebas.loc[:,columnas],set_pruebas.price_aprox_usd) * 100\n",
    "error = mean_squared_error(set_pruebas.price_aprox_usd,set_pruebas.resultado)\n",
    "print(\"Precision = {:.2f} % , error = {}\".format(precision, error))"
   ]
  },
  {
   "cell_type": "code",
   "execution_count": 9,
   "metadata": {
    "collapsed": true
   },
   "outputs": [],
   "source": [
    "res = []"
   ]
  },
  {
   "cell_type": "code",
   "execution_count": 11,
   "metadata": {},
   "outputs": [
    {
     "name": "stdout",
     "output_type": "stream",
     "text": [
      "(2, ' - ', 'linear', '-', 0.1)\n",
      "(2, ' - ', 'linear', '-', 0.3)\n",
      "(2, ' - ', 'linear', '-', 0.5)\n",
      "(2, ' - ', 'square', '-', 0.1)\n",
      "(2, ' - ', 'square', '-', 0.3)\n",
      "(2, ' - ', 'square', '-', 0.5)\n",
      "(2, ' - ', 'exponential', '-', 0.1)\n",
      "(2, ' - ', 'exponential', '-', 0.3)\n",
      "(2, ' - ', 'exponential', '-', 0.5)\n",
      "(3, ' - ', 'linear', '-', 0.1)\n",
      "(3, ' - ', 'linear', '-', 0.3)\n",
      "(3, ' - ', 'linear', '-', 0.5)\n",
      "(3, ' - ', 'square', '-', 0.1)\n",
      "(3, ' - ', 'square', '-', 0.3)\n",
      "(3, ' - ', 'square', '-', 0.5)\n",
      "(3, ' - ', 'exponential', '-', 0.1)\n",
      "(3, ' - ', 'exponential', '-', 0.3)\n",
      "(3, ' - ', 'exponential', '-', 0.5)\n",
      "(4, ' - ', 'linear', '-', 0.1)\n",
      "(4, ' - ', 'linear', '-', 0.3)\n",
      "(4, ' - ', 'linear', '-', 0.5)\n",
      "(4, ' - ', 'square', '-', 0.1)\n",
      "(4, ' - ', 'square', '-', 0.3)\n",
      "(4, ' - ', 'square', '-', 0.5)\n",
      "(4, ' - ', 'exponential', '-', 0.1)\n",
      "(4, ' - ', 'exponential', '-', 0.3)\n",
      "(4, ' - ', 'exponential', '-', 0.5)\n",
      "(6, ' - ', 'linear', '-', 0.1)\n",
      "(6, ' - ', 'linear', '-', 0.3)\n",
      "(6, ' - ', 'linear', '-', 0.5)\n",
      "(6, ' - ', 'square', '-', 0.1)\n",
      "(6, ' - ', 'square', '-', 0.3)\n",
      "(6, ' - ', 'square', '-', 0.5)\n",
      "(6, ' - ', 'exponential', '-', 0.1)\n",
      "(6, ' - ', 'exponential', '-', 0.3)\n",
      "(6, ' - ', 'exponential', '-', 0.5)\n",
      "(7, ' - ', 'linear', '-', 0.1)\n",
      "(7, ' - ', 'linear', '-', 0.3)\n",
      "(7, ' - ', 'linear', '-', 0.5)\n",
      "(7, ' - ', 'square', '-', 0.1)\n",
      "(7, ' - ', 'square', '-', 0.3)\n",
      "(7, ' - ', 'square', '-', 0.5)\n",
      "(7, ' - ', 'exponential', '-', 0.1)\n",
      "(7, ' - ', 'exponential', '-', 0.3)\n",
      "(7, ' - ', 'exponential', '-', 0.5)\n",
      "(8, ' - ', 'linear', '-', 0.1)\n",
      "(8, ' - ', 'linear', '-', 0.3)\n",
      "(8, ' - ', 'linear', '-', 0.5)\n",
      "(8, ' - ', 'square', '-', 0.1)\n",
      "(8, ' - ', 'square', '-', 0.3)\n",
      "(8, ' - ', 'square', '-', 0.5)\n",
      "(8, ' - ', 'exponential', '-', 0.1)\n",
      "(8, ' - ', 'exponential', '-', 0.3)\n",
      "(8, ' - ', 'exponential', '-', 0.5)\n",
      "(9, ' - ', 'linear', '-', 0.1)\n",
      "(9, ' - ', 'linear', '-', 0.3)\n",
      "(9, ' - ', 'linear', '-', 0.5)\n",
      "(9, ' - ', 'square', '-', 0.1)\n",
      "(9, ' - ', 'square', '-', 0.3)\n",
      "(9, ' - ', 'square', '-', 0.5)\n",
      "(9, ' - ', 'exponential', '-', 0.1)\n",
      "(9, ' - ', 'exponential', '-', 0.3)\n",
      "(9, ' - ', 'exponential', '-', 0.5)\n"
     ]
    }
   ],
   "source": [
    "lista_estimators = [2,3,4,6,7,8,9]\n",
    "lista_loss = ['linear', 'square', 'exponential']\n",
    "learning = [0.1, 0.3, 0.5]\n",
    "\n",
    "for estimator in lista_estimators:\n",
    "    for loss in lista_loss:\n",
    "        for lr in learning:\n",
    "            ada = AdaBoostRegressor(n_estimators = estimator, loss = loss, learning_rate = lr)\n",
    "            ada.fit(set_entrenamiento_datos,set_entrenamiento_resultado)\n",
    "            set_pruebas.loc[:,'resultado'] = set_pruebas.loc[:,columnas].apply(lambda x: ada.predict([x])[0],axis = 1)\n",
    "            precision = ada.score(set_pruebas.loc[:,columnas],set_pruebas.price_aprox_usd) * 100\n",
    "            error = mean_squared_error(set_pruebas.price_aprox_usd,set_pruebas.resultado)\n",
    "            res.append((estimator, loss, lr, precision, error))\n",
    "            print(estimator,' - ',loss, '-', lr)"
   ]
  },
  {
   "cell_type": "code",
   "execution_count": 26,
   "metadata": {},
   "outputs": [
    {
     "name": "stdout",
     "output_type": "stream",
     "text": [
      "n_estimators = 2, loss = linear, learning_rate = 0.1, precision = 28.84 % , error = 82397323104.6\n",
      "n_estimators = 2, loss = linear, learning_rate = 0.3, precision = 28.76 % , error = 82482787855.2\n",
      "n_estimators = 2, loss = linear, learning_rate = 0.5, precision = 16.03 % , error = 97228407150.8\n",
      "n_estimators = 2, loss = square, learning_rate = 0.1, precision = 28.78 % , error = 82459835853.2\n",
      "n_estimators = 2, loss = square, learning_rate = 0.3, precision = 27.13 % , error = 84373804046.7\n",
      "n_estimators = 2, loss = square, learning_rate = 0.5, precision = 27.47 % , error = 83975408201.2\n",
      "n_estimators = 2, loss = exponential, learning_rate = 0.1, precision = 28.79 % , error = 82452163909.7\n",
      "n_estimators = 2, loss = exponential, learning_rate = 0.3, precision = 28.65 % , error = 82615783269.4\n",
      "n_estimators = 2, loss = exponential, learning_rate = 0.5, precision = 28.76 % , error = 82489174151.4\n",
      "n_estimators = 3, loss = linear, learning_rate = 0.1, precision = 28.46 % , error = 82831239035.6\n",
      "n_estimators = 3, loss = linear, learning_rate = 0.3, precision = 29.43 % , error = 81707543590.0\n",
      "n_estimators = 3, loss = linear, learning_rate = 0.5, precision = 24.57 % , error = 87336817598.9\n",
      "n_estimators = 3, loss = square, learning_rate = 0.1, precision = 30.44 % , error = 80534463211.2\n",
      "n_estimators = 3, loss = square, learning_rate = 0.3, precision = 28.71 % , error = 82540562916.9\n",
      "n_estimators = 3, loss = square, learning_rate = 0.5, precision = 27.12 % , error = 84380632993.9\n",
      "n_estimators = 3, loss = exponential, learning_rate = 0.1, precision = 28.89 % , error = 82332319696.6\n",
      "n_estimators = 3, loss = exponential, learning_rate = 0.3, precision = 28.66 % , error = 82603058374.3\n",
      "n_estimators = 3, loss = exponential, learning_rate = 0.5, precision = 29.23 % , error = 81941351340.8\n",
      "n_estimators = 4, loss = linear, learning_rate = 0.1, precision = 28.22 % , error = 83106395768.4\n",
      "n_estimators = 4, loss = linear, learning_rate = 0.3, precision = 28.35 % , error = 82963313363.3\n",
      "n_estimators = 4, loss = linear, learning_rate = 0.5, precision = 22.47 % , error = 89768442180.8\n",
      "n_estimators = 4, loss = square, learning_rate = 0.1, precision = 27.02 % , error = 84500738290.9\n",
      "n_estimators = 4, loss = square, learning_rate = 0.3, precision = 28.59 % , error = 82676498681.5\n",
      "n_estimators = 4, loss = square, learning_rate = 0.5, precision = 27.27 % , error = 84212286022.9\n",
      "n_estimators = 4, loss = exponential, learning_rate = 0.1, precision = 28.58 % , error = 82692813431.3\n",
      "n_estimators = 4, loss = exponential, learning_rate = 0.3, precision = 31.96 % , error = 78773763346.7\n",
      "n_estimators = 4, loss = exponential, learning_rate = 0.5, precision = 29.92 % , error = 81144736511.3\n",
      "n_estimators = 6, loss = linear, learning_rate = 0.1, precision = 30.11 % , error = 80919781017.0\n",
      "n_estimators = 6, loss = linear, learning_rate = 0.3, precision = 33.23 % , error = 77305125329.2\n",
      "n_estimators = 6, loss = linear, learning_rate = 0.5, precision = 23.23 % , error = 88892224153.0\n",
      "n_estimators = 6, loss = square, learning_rate = 0.1, precision = 30.21 % , error = 80811200665.0\n",
      "n_estimators = 6, loss = square, learning_rate = 0.3, precision = 29.72 % , error = 81369783297.6\n",
      "n_estimators = 6, loss = square, learning_rate = 0.5, precision = 29.28 % , error = 81878726786.0\n",
      "n_estimators = 6, loss = exponential, learning_rate = 0.1, precision = 28.87 % , error = 82353837256.3\n",
      "n_estimators = 6, loss = exponential, learning_rate = 0.3, precision = 31.20 % , error = 79664953992.0\n",
      "n_estimators = 6, loss = exponential, learning_rate = 0.5, precision = 29.42 % , error = 81725271438.1\n",
      "n_estimators = 7, loss = linear, learning_rate = 0.1, precision = 29.11 % , error = 82080548443.9\n",
      "n_estimators = 7, loss = linear, learning_rate = 0.3, precision = 26.44 % , error = 85165834756.7\n",
      "n_estimators = 7, loss = linear, learning_rate = 0.5, precision = 26.41 % , error = 85209553571.5\n",
      "n_estimators = 7, loss = square, learning_rate = 0.1, precision = 28.89 % , error = 82333267399.5\n",
      "n_estimators = 7, loss = square, learning_rate = 0.3, precision = 28.17 % , error = 83163721795.4\n",
      "n_estimators = 7, loss = square, learning_rate = 0.5, precision = 18.91 % , error = 93885135748.7\n",
      "n_estimators = 7, loss = exponential, learning_rate = 0.1, precision = 31.14 % , error = 79723019279.7\n",
      "n_estimators = 7, loss = exponential, learning_rate = 0.3, precision = 31.24 % , error = 79616160938.0\n",
      "n_estimators = 7, loss = exponential, learning_rate = 0.5, precision = 24.20 % , error = 87764747632.8\n",
      "n_estimators = 8, loss = linear, learning_rate = 0.1, precision = 29.89 % , error = 81174473735.1\n",
      "n_estimators = 8, loss = linear, learning_rate = 0.3, precision = 23.63 % , error = 88425962468.4\n",
      "n_estimators = 8, loss = linear, learning_rate = 0.5, precision = 29.74 % , error = 81352485848.1\n",
      "n_estimators = 8, loss = square, learning_rate = 0.1, precision = 32.23 % , error = 78465045377.4\n",
      "n_estimators = 8, loss = square, learning_rate = 0.3, precision = 23.92 % , error = 88087568046.1\n",
      "n_estimators = 8, loss = square, learning_rate = 0.5, precision = 24.29 % , error = 87658374761.3\n",
      "n_estimators = 8, loss = exponential, learning_rate = 0.1, precision = 29.16 % , error = 82015619710.2\n",
      "n_estimators = 8, loss = exponential, learning_rate = 0.3, precision = 26.82 % , error = 84727983592.4\n",
      "n_estimators = 8, loss = exponential, learning_rate = 0.5, precision = 26.77 % , error = 84793590768.8\n",
      "n_estimators = 9, loss = linear, learning_rate = 0.1, precision = 29.97 % , error = 81088706292.9\n",
      "n_estimators = 9, loss = linear, learning_rate = 0.3, precision = 20.66 % , error = 91864544749.1\n",
      "n_estimators = 9, loss = linear, learning_rate = 0.5, precision = 23.76 % , error = 88268820887.9\n",
      "n_estimators = 9, loss = square, learning_rate = 0.1, precision = 29.15 % , error = 82028149328.0\n",
      "n_estimators = 9, loss = square, learning_rate = 0.3, precision = 29.55 % , error = 81571224599.0\n",
      "n_estimators = 9, loss = square, learning_rate = 0.5, precision = 16.20 % , error = 97024572956.6\n",
      "n_estimators = 9, loss = exponential, learning_rate = 0.1, precision = 32.97 % , error = 77609727714.9\n",
      "n_estimators = 9, loss = exponential, learning_rate = 0.3, precision = 30.48 % , error = 80489244308.1\n",
      "n_estimators = 9, loss = exponential, learning_rate = 0.5, precision = 25.28 % , error = 86515275294.7\n"
     ]
    }
   ],
   "source": [
    "for r in res[9:]:\n",
    "    print (\"n_estimators = {}, loss = {}, learning_rate = {}, precision = {:.2f} % , error = {}\".format(r[0],r[1],r[2],r[3], r[4]))"
   ]
  },
  {
   "cell_type": "code",
   "execution_count": 31,
   "metadata": {},
   "outputs": [
    {
     "name": "stdout",
     "output_type": "stream",
     "text": [
      "Mayor precision = estimator = 6, loss = linear, learning_rate = 0.3, precision = 33.23 % ,error = 77305125329.2\n",
      "Menor error = estimator = 6, loss = linear, learning_rate = 0.3, precision = 33.23 % ,error = 77305125329.2\n"
     ]
    }
   ],
   "source": [
    "min_error = float('inf')\n",
    "max_precision = 0\n",
    "tupla_min_error = ()\n",
    "tupla_max_precision = ()\n",
    "for r in res[9:]:\n",
    "    if r[4] < min_error:\n",
    "        min_error = r[4]\n",
    "        tupla_min_error = r\n",
    "    if r[3] > max_precision:\n",
    "        max_precision = r[3]\n",
    "        tupla_max_precision = r\n",
    "        \n",
    "print(\"Mayor precision = estimator = {}, loss = {}, learning_rate = {}, precision = {:.2f} % ,error = {}\".\\\n",
    "              format(tupla_max_precision[0],tupla_max_precision[1],tupla_max_precision[2],tupla_max_precision[3], tupla_max_precision[4]))\n",
    "print(\"Menor error = estimator = {}, loss = {}, learning_rate = {}, precision = {:.2f} % ,error = {}\".\\\n",
    "              format(tupla_min_error[0],tupla_min_error[1],tupla_min_error[2],tupla_min_error[3], tupla_max_precision[4]))"
   ]
  },
  {
   "cell_type": "markdown",
   "metadata": {},
   "source": [
    "## Elegimos n_estimators = 6, loss = linear, learning_rate = 0.3"
   ]
  },
  {
   "cell_type": "code",
   "execution_count": 32,
   "metadata": {
    "collapsed": true
   },
   "outputs": [],
   "source": [
    "estimator = 6\n",
    "loss = 'linear'\n",
    "lr = 0.3"
   ]
  },
  {
   "cell_type": "code",
   "execution_count": 53,
   "metadata": {},
   "outputs": [
    {
     "name": "stdout",
     "output_type": "stream",
     "text": [
      "Precision = 33.03 % , error = 77536289297.0\n"
     ]
    }
   ],
   "source": [
    "ada = AdaBoostRegressor(n_estimators = estimator, loss = loss, learning_rate = lr)\n",
    "ada.fit(set_entrenamiento_datos,set_entrenamiento_resultado)\n",
    "set_pruebas.loc[:,'resultado'] = set_pruebas.loc[:,columnas].apply(lambda x: ada.predict([x])[0],axis = 1)\n",
    "precision = ada.score(set_pruebas.loc[:,columnas],set_pruebas.price_aprox_usd) * 100\n",
    "error = mean_squared_error(set_pruebas.price_aprox_usd,set_pruebas.resultado)\n",
    "print(\"Precision = {:.2f} % , error = {}\".format(precision, error))"
   ]
  },
  {
   "cell_type": "markdown",
   "metadata": {},
   "source": [
    "## Calculamos los verdaderos datos"
   ]
  },
  {
   "cell_type": "code",
   "execution_count": 36,
   "metadata": {
    "collapsed": true
   },
   "outputs": [],
   "source": [
    "analizar = pd.read_csv(\"/home/agustin/Escritorio/escritorio/fiuba/Organizacion de datos/tpDatos/properati_dataset_modificado.csv\")"
   ]
  },
  {
   "cell_type": "code",
   "execution_count": 54,
   "metadata": {
    "collapsed": true
   },
   "outputs": [],
   "source": [
    "analizar.loc[:,'price_usd'] = analizar.loc[:,columnas].apply(lambda x: ada.predict([x])[0],axis = 1)"
   ]
  },
  {
   "cell_type": "code",
   "execution_count": 55,
   "metadata": {},
   "outputs": [
    {
     "data": {
      "text/plain": [
       "count    1.416600e+04\n",
       "mean     2.631090e+05\n",
       "std      4.425128e+05\n",
       "min      1.000000e+05\n",
       "25%      1.238464e+05\n",
       "50%      1.990295e+05\n",
       "75%      3.186828e+05\n",
       "max      4.654544e+07\n",
       "Name: price_usd, dtype: float64"
      ]
     },
     "execution_count": 55,
     "metadata": {},
     "output_type": "execute_result"
    }
   ],
   "source": [
    "analizar.price_usd.describe()"
   ]
  },
  {
   "cell_type": "code",
   "execution_count": 56,
   "metadata": {
    "collapsed": true
   },
   "outputs": [],
   "source": [
    "resultado = analizar.loc[:,['id','price_usd']]"
   ]
  },
  {
   "cell_type": "code",
   "execution_count": 57,
   "metadata": {
    "collapsed": true
   },
   "outputs": [],
   "source": [
    "resultado.to_csv('resultados/Ada_Boost_latlon_resultados.csv', index = False)"
   ]
  }
 ],
 "metadata": {
  "kernelspec": {
   "display_name": "Python 3",
   "language": "python",
   "name": "python3"
  },
  "language_info": {
   "codemirror_mode": {
    "name": "ipython",
    "version": 2
   },
   "file_extension": ".py",
   "mimetype": "text/x-python",
   "name": "python",
   "nbconvert_exporter": "python",
   "pygments_lexer": "ipython2",
   "version": "2.7.12"
  }
 },
 "nbformat": 4,
 "nbformat_minor": 2
}
