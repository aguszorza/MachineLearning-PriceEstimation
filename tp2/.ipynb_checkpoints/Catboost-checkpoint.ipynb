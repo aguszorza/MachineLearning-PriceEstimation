{
 "cells": [
  {
   "cell_type": "code",
   "execution_count": 1,
   "metadata": {
    "collapsed": true
   },
   "outputs": [],
   "source": [
    "import pandas as pd\n",
    "import numpy as np\n",
    "from catboost import Pool, CatBoostRegressor\n",
    "from sklearn.metrics import mean_squared_error\n",
    "from sklearn.preprocessing import StandardScaler  \n",
    "\n",
    "import warnings\n",
    "warnings.simplefilter(\"ignore\", category=DeprecationWarning)\n",
    "\n",
    "# https://tech.yandex.com/catboost/doc/dg/concepts/python-reference_catboostregressor-docpage/"
   ]
  },
  {
   "cell_type": "code",
   "execution_count": 2,
   "metadata": {
    "collapsed": true
   },
   "outputs": [],
   "source": [
    "def obtener_rmse(col_true, col_pred):\n",
    "    return mean_squared_error(col_true, col_pred)**0.5"
   ]
  },
  {
   "cell_type": "code",
   "execution_count": 3,
   "metadata": {
    "collapsed": true
   },
   "outputs": [],
   "source": [
    "propiedades = pd.read_csv('/home/agustin/Escritorio/escritorio/fiuba/Organizacion de datos/datos para el tp2/set_datos_propiedades.csv')"
   ]
  },
  {
   "cell_type": "code",
   "execution_count": 4,
   "metadata": {
    "collapsed": true
   },
   "outputs": [],
   "source": [
    "propiedades = propiedades.loc[(propiedades.price_aprox_usd.notnull()) & (propiedades.superficie.notnull()),\\\n",
    "                             ['place_name_encoded', 'property_type_encoded','price_aprox_usd','superficie',\\\n",
    "                             'Year','Month','seguridad','aire','gimnasio','cochera','pileta']]"
   ]
  },
  {
   "cell_type": "code",
   "execution_count": 6,
   "metadata": {},
   "outputs": [
    {
     "name": "stdout",
     "output_type": "stream",
     "text": [
      "<class 'pandas.core.frame.DataFrame'>\n",
      "Int64Index: 1132495 entries, 0 to 1413024\n",
      "Data columns (total 11 columns):\n",
      "place_name_encoded       1132495 non-null int64\n",
      "property_type_encoded    1132495 non-null int64\n",
      "price_aprox_usd          1132495 non-null float64\n",
      "superficie               1132495 non-null float64\n",
      "Year                     1132495 non-null int64\n",
      "Month                    1132495 non-null int64\n",
      "seguridad                1132495 non-null bool\n",
      "aire                     1132495 non-null bool\n",
      "gimnasio                 1132495 non-null bool\n",
      "cochera                  1132495 non-null bool\n",
      "pileta                   1132495 non-null bool\n",
      "dtypes: bool(5), float64(2), int64(4)\n",
      "memory usage: 65.9 MB\n"
     ]
    }
   ],
   "source": [
    "propiedades.info()"
   ]
  },
  {
   "cell_type": "markdown",
   "metadata": {},
   "source": [
    "# Catboost"
   ]
  },
  {
   "cell_type": "code",
   "execution_count": 5,
   "metadata": {
    "collapsed": true
   },
   "outputs": [],
   "source": [
    "columnas = ['superficie','place_name_encoded','property_type_encoded','seguridad','gimnasio', 'aire', 'pileta', 'cochera']\n",
    "columnas_precio = columnas + ['price_aprox_usd']"
   ]
  },
  {
   "cell_type": "code",
   "execution_count": 6,
   "metadata": {
    "collapsed": true
   },
   "outputs": [],
   "source": [
    "set_entrenamiento = propiedades.loc[(propiedades.Year >= 2016) &((propiedades.Year < 2017) | (propiedades.Month < 6))\\\n",
    "                                    ,columnas_precio]\n",
    "set_pruebas = propiedades.loc[(propiedades.Year == 2017) & (propiedades.Month == 6),columnas_precio].head(20000)\n",
    "\n",
    "set_entrenamiento_datos = set_entrenamiento.loc[:,columnas]\n",
    "set_entrenamiento_resultado = set_entrenamiento.loc[:,'price_aprox_usd']"
   ]
  },
  {
   "cell_type": "code",
   "execution_count": 12,
   "metadata": {},
   "outputs": [
    {
     "name": "stdout",
     "output_type": "stream",
     "text": [
      "('Error: ', 64837103002.541389)\n"
     ]
    }
   ],
   "source": [
    "cat = CatBoostRegressor()\n",
    "cat.fit(Pool(set_entrenamiento_datos,set_entrenamiento_resultado))\n",
    "set_pruebas.loc[:,'resultado'] = cat.predict(Pool(set_pruebas.loc[:,columnas]))\n",
    "error = mean_squared_error(set_pruebas.price_aprox_usd, set_pruebas.resultado)\n",
    "print('Error: ', error)"
   ]
  },
  {
   "cell_type": "markdown",
   "metadata": {},
   "source": [
    "## Ahora que tenemos una intuicion, probamos cambiando los parametros"
   ]
  },
  {
   "cell_type": "code",
   "execution_count": 15,
   "metadata": {
    "collapsed": true
   },
   "outputs": [],
   "source": [
    "columnas = ['superficie','place_name_encoded','property_type_encoded','seguridad','gimnasio', 'aire', 'pileta', 'cochera']\n",
    "columnas_precio = columnas + ['price_aprox_usd']"
   ]
  },
  {
   "cell_type": "code",
   "execution_count": 16,
   "metadata": {
    "collapsed": true
   },
   "outputs": [],
   "source": [
    "set_entrenamiento = propiedades.loc[(propiedades.Year >= 2016) &((propiedades.Year < 2017) | (propiedades.Month < 6))\\\n",
    "                                    ,columnas_precio]\n",
    "set_pruebas = propiedades.loc[(propiedades.Year == 2017) & (propiedades.Month == 6),columnas_precio].head(20000)\n",
    "\n",
    "set_entrenamiento_datos = set_entrenamiento.loc[:,columnas]\n",
    "set_entrenamiento_resultado = set_entrenamiento.loc[:,'price_aprox_usd']\n",
    "\n",
    "res = []"
   ]
  },
  {
   "cell_type": "code",
   "execution_count": 21,
   "metadata": {},
   "outputs": [
    {
     "name": "stdout",
     "output_type": "stream",
     "text": [
      "(1, 0.1, 'RMSE')\n",
      "(1, 0.1, 'LogLinQuantile')\n",
      "(1, 0.1, 'MAE')\n",
      "(1, 0.1, 'MAPE')\n",
      "(1, 0.1, 'Quantile')\n",
      "(1, 0.3, 'RMSE')\n",
      "(1, 0.3, 'MAE')\n",
      "(1, 0.3, 'MAPE')\n",
      "(1, 0.3, 'Quantile')\n",
      "(1, 0.5, 'RMSE')\n",
      "(1, 0.5, 'MAE')\n",
      "(1, 0.5, 'MAPE')\n",
      "(1, 0.5, 'Quantile')\n",
      "(3, 0.1, 'RMSE')\n",
      "(3, 0.1, 'LogLinQuantile')\n",
      "(3, 0.1, 'MAE')\n",
      "(3, 0.1, 'MAPE')\n",
      "Training has stopped (degenerate solution on iteration 303, probably too small l2-regularization, try to increase it)\n",
      "(3, 0.1, 'Quantile')\n",
      "(3, 0.3, 'RMSE')\n",
      "Training has stopped (degenerate solution on iteration 33, probably too small l2-regularization, try to increase it)\n",
      "(3, 0.3, 'MAE')\n",
      "(3, 0.3, 'MAPE')\n",
      "Training has stopped (degenerate solution on iteration 143, probably too small l2-regularization, try to increase it)\n",
      "(3, 0.3, 'Quantile')\n",
      "(3, 0.5, 'RMSE')\n",
      "(3, 0.5, 'MAE')\n",
      "(3, 0.5, 'MAPE')\n",
      "Training has stopped (degenerate solution on iteration 27, probably too small l2-regularization, try to increase it)\n",
      "(3, 0.5, 'Quantile')\n",
      "(7, 0.1, 'RMSE')\n",
      "(7, 0.1, 'LogLinQuantile')\n",
      "(7, 0.1, 'MAE')\n",
      "(7, 0.1, 'MAPE')\n",
      "Training has stopped (degenerate solution on iteration 217, probably too small l2-regularization, try to increase it)\n",
      "(7, 0.1, 'Quantile')\n",
      "(7, 0.3, 'RMSE')\n",
      "Training has stopped (degenerate solution on iteration 50, probably too small l2-regularization, try to increase it)\n",
      "(7, 0.3, 'MAE')\n",
      "(7, 0.3, 'MAPE')\n",
      "Training has stopped (degenerate solution on iteration 35, probably too small l2-regularization, try to increase it)\n",
      "(7, 0.3, 'Quantile')\n",
      "(7, 0.5, 'RMSE')\n",
      "Training has stopped (degenerate solution on iteration 24, probably too small l2-regularization, try to increase it)\n",
      "(7, 0.5, 'MAE')\n",
      "(7, 0.5, 'MAPE')\n",
      "Training has stopped (degenerate solution on iteration 29, probably too small l2-regularization, try to increase it)\n",
      "(7, 0.5, 'Quantile')\n"
     ]
    }
   ],
   "source": [
    "loss_function = ['RMSE', 'LogLinQuantile', 'MAE', 'MAPE', 'Poisson', 'Quantile', ]\n",
    "depth = [1, 3, 7]\n",
    "learning = [0.1, 0.3, 0.5]\n",
    "\n",
    "for d in depth:\n",
    "    for l in learning:\n",
    "        for lf in loss_function:\n",
    "            try:\n",
    "                cat = CatBoostRegressor(loss_function = lf, depth = d, learning_rate = l)\n",
    "                cat.fit(Pool(set_entrenamiento_datos,set_entrenamiento_resultado))\n",
    "                set_pruebas.loc[:,'resultado'] = cat.predict(Pool(set_pruebas.loc[:,columnas]))\n",
    "                error = mean_squared_error(set_pruebas.price_aprox_usd, set_pruebas.resultado)\n",
    "                res.append((d, l, lf, error))\n",
    "                print(d, l, lf)\n",
    "            except:\n",
    "                continue"
   ]
  },
  {
   "cell_type": "code",
   "execution_count": 22,
   "metadata": {},
   "outputs": [
    {
     "name": "stdout",
     "output_type": "stream",
     "text": [
      "depth = 1, learning_rate = 0.1, loss_function = RMSE,  error = 80955325787.0\n",
      "depth = 1, learning_rate = 0.1, loss_function = LogLinQuantile,  error = 2.82096904532e+11\n",
      "depth = 1, learning_rate = 0.1, loss_function = MAE,  error = 2.08101531638e+11\n",
      "depth = 1, learning_rate = 0.1, loss_function = MAPE,  error = 2.08114774078e+11\n",
      "depth = 1, learning_rate = 0.1, loss_function = RMSE,  error = 80859322386.8\n",
      "depth = 1, learning_rate = 0.1, loss_function = LogLinQuantile,  error = 2.81016221648e+11\n",
      "depth = 1, learning_rate = 0.1, loss_function = MAE,  error = 2.08101531639e+11\n",
      "depth = 1, learning_rate = 0.1, loss_function = MAPE,  error = 2.08114774078e+11\n",
      "depth = 1, learning_rate = 0.1, loss_function = Quantile,  error = 2.0810153164e+11\n",
      "depth = 1, learning_rate = 0.3, loss_function = RMSE,  error = 79650734679.2\n",
      "depth = 1, learning_rate = 0.3, loss_function = MAE,  error = 2.08075050195e+11\n",
      "depth = 1, learning_rate = 0.3, loss_function = MAPE,  error = 2.08114773774e+11\n",
      "depth = 1, learning_rate = 0.3, loss_function = Quantile,  error = 2.08075050192e+11\n",
      "depth = 1, learning_rate = 0.5, loss_function = RMSE,  error = 79468391164.3\n",
      "depth = 1, learning_rate = 0.5, loss_function = MAE,  error = 2.08048573758e+11\n",
      "depth = 1, learning_rate = 0.5, loss_function = MAPE,  error = 2.08114773469e+11\n",
      "depth = 1, learning_rate = 0.5, loss_function = Quantile,  error = 2.08048573762e+11\n",
      "depth = 3, learning_rate = 0.1, loss_function = RMSE,  error = 69143615687.9\n",
      "depth = 3, learning_rate = 0.1, loss_function = LogLinQuantile,  error = 2.79497072595e+11\n",
      "depth = 3, learning_rate = 0.1, loss_function = MAE,  error = 2.08101531795e+11\n",
      "depth = 3, learning_rate = 0.1, loss_function = MAPE,  error = 2.08114774095e+11\n",
      "depth = 3, learning_rate = 0.1, loss_function = Quantile,  error = 2.08101531766e+11\n",
      "depth = 3, learning_rate = 0.3, loss_function = RMSE,  error = 63857734834.5\n",
      "depth = 3, learning_rate = 0.3, loss_function = MAE,  error = 2.08075050337e+11\n",
      "depth = 3, learning_rate = 0.3, loss_function = MAPE,  error = 2.08114773827e+11\n",
      "depth = 3, learning_rate = 0.3, loss_function = Quantile,  error = 2.08075050364e+11\n",
      "depth = 3, learning_rate = 0.5, loss_function = RMSE,  error = 60410570507.8\n",
      "depth = 3, learning_rate = 0.5, loss_function = MAE,  error = 2.08048573903e+11\n",
      "depth = 3, learning_rate = 0.5, loss_function = MAPE,  error = 2.08114773559e+11\n",
      "depth = 3, learning_rate = 0.5, loss_function = Quantile,  error = 2.08048573922e+11\n",
      "depth = 7, learning_rate = 0.1, loss_function = RMSE,  error = 57276873635.1\n",
      "depth = 7, learning_rate = 0.1, loss_function = LogLinQuantile,  error = 2.78193798871e+11\n",
      "depth = 7, learning_rate = 0.1, loss_function = MAE,  error = 2.0810153229e+11\n",
      "depth = 7, learning_rate = 0.1, loss_function = MAPE,  error = 2.08114774099e+11\n",
      "depth = 7, learning_rate = 0.1, loss_function = Quantile,  error = 2.08101532251e+11\n",
      "depth = 7, learning_rate = 0.3, loss_function = RMSE,  error = 51455052859.8\n",
      "depth = 7, learning_rate = 0.3, loss_function = MAE,  error = 2.08075051092e+11\n",
      "depth = 7, learning_rate = 0.3, loss_function = MAPE,  error = 2.08114773839e+11\n",
      "depth = 7, learning_rate = 0.3, loss_function = Quantile,  error = 2.08075050933e+11\n",
      "depth = 7, learning_rate = 0.5, loss_function = RMSE,  error = 49613284230.6\n",
      "depth = 7, learning_rate = 0.5, loss_function = MAE,  error = 2.08048574591e+11\n",
      "depth = 7, learning_rate = 0.5, loss_function = MAPE,  error = 2.08114773579e+11\n",
      "depth = 7, learning_rate = 0.5, loss_function = Quantile,  error = 2.08048574305e+11\n"
     ]
    }
   ],
   "source": [
    "for r in res:\n",
    "    print(\"depth = {}, learning_rate = {}, loss_function = {},  error = {}\".format(r[0],r[1],r[2],r[3]))"
   ]
  },
  {
   "cell_type": "code",
   "execution_count": 25,
   "metadata": {},
   "outputs": [
    {
     "name": "stdout",
     "output_type": "stream",
     "text": [
      "depth = 7, learning_rate = 0.5, loss_function = RMSE,  error = 49613284230.6\n"
     ]
    }
   ],
   "source": [
    "min_error = float('inf')\n",
    "tupla_min_error = ()\n",
    "for r in res:\n",
    "    if r[3] < min_error:\n",
    "        min_error = r[3]\n",
    "        tupla_min_error = r\n",
    "        \n",
    "print(\"depth = {}, learning_rate = {}, loss_function = {},  error = {}\".\\\n",
    "    format(tupla_min_error[0],tupla_min_error[1],tupla_min_error[2],tupla_min_error[3]))"
   ]
  },
  {
   "cell_type": "markdown",
   "metadata": {},
   "source": [
    "#### Se puede observar que los mejores resultados se obtienen con loss_funcion = RMSE. Por lo que continuaremos con esta funcion y variando los otros parametros para intentar alcanzar un mejor resultado"
   ]
  },
  {
   "cell_type": "code",
   "execution_count": 28,
   "metadata": {},
   "outputs": [
    {
     "name": "stdout",
     "output_type": "stream",
     "text": [
      "(3, 0.3, 'Newton')\n",
      "(3, 0.3, 'Gradient')\n",
      "(3, 0.5, 'Newton')\n",
      "(3, 0.5, 'Gradient')\n",
      "(3, 0.7, 'Newton')\n",
      "(3, 0.7, 'Gradient')\n",
      "(7, 0.3, 'Newton')\n",
      "(7, 0.3, 'Gradient')\n",
      "(7, 0.5, 'Newton')\n",
      "(7, 0.5, 'Gradient')\n",
      "(7, 0.7, 'Newton')\n",
      "(7, 0.7, 'Gradient')\n",
      "(9, 0.3, 'Newton')\n",
      "(9, 0.3, 'Gradient')\n",
      "(9, 0.5, 'Newton')\n",
      "(9, 0.5, 'Gradient')\n",
      "(9, 0.7, 'Newton')\n",
      "(9, 0.7, 'Gradient')\n"
     ]
    }
   ],
   "source": [
    "lf = 'RMSE'\n",
    "leaf_estimation_method = ['Newton', 'Gradient']\n",
    "depth = [3, 7, 9]\n",
    "learning = [0.3, 0.5, 0.7]\n",
    "\n",
    "for d in depth:\n",
    "    for l in learning:\n",
    "        for lem in leaf_estimation_method:\n",
    "            cat = CatBoostRegressor(loss_function = lf, depth = d, learning_rate = l, leaf_estimation_method = lem)\n",
    "            cat.fit(Pool(set_entrenamiento_datos,set_entrenamiento_resultado))\n",
    "            set_pruebas.loc[:,'resultado'] = cat.predict(Pool(set_pruebas.loc[:,columnas]))\n",
    "            error = mean_squared_error(set_pruebas.price_aprox_usd, set_pruebas.resultado)\n",
    "            res.append((d, l, lf, lem, error))\n",
    "            print(d, l, lem)"
   ]
  },
  {
   "cell_type": "code",
   "execution_count": 37,
   "metadata": {},
   "outputs": [
    {
     "name": "stdout",
     "output_type": "stream",
     "text": [
      "depth = 3, learning_rate = 0.3, loss_function = RMSE, leaf_estimation_method Newton, error = 61739913464.5\n",
      "depth = 3, learning_rate = 0.3, loss_function = RMSE, leaf_estimation_method Gradient, error = 63088049605.2\n",
      "depth = 3, learning_rate = 0.5, loss_function = RMSE, leaf_estimation_method Newton, error = 62436188793.4\n",
      "depth = 3, learning_rate = 0.5, loss_function = RMSE, leaf_estimation_method Gradient, error = 61846263745.1\n",
      "depth = 3, learning_rate = 0.7, loss_function = RMSE, leaf_estimation_method Newton, error = 61185064987.1\n",
      "depth = 3, learning_rate = 0.7, loss_function = RMSE, leaf_estimation_method Gradient, error = 61443317708.3\n",
      "depth = 7, learning_rate = 0.3, loss_function = RMSE, leaf_estimation_method Newton, error = 50664512437.9\n",
      "depth = 7, learning_rate = 0.3, loss_function = RMSE, leaf_estimation_method Gradient, error = 48594860802.2\n",
      "depth = 7, learning_rate = 0.5, loss_function = RMSE, leaf_estimation_method Newton, error = 48346598053.9\n",
      "depth = 7, learning_rate = 0.5, loss_function = RMSE, leaf_estimation_method Gradient, error = 46957569110.4\n",
      "depth = 7, learning_rate = 0.7, loss_function = RMSE, leaf_estimation_method Newton, error = 47270115149.1\n",
      "depth = 7, learning_rate = 0.7, loss_function = RMSE, leaf_estimation_method Gradient, error = 46979767576.9\n",
      "depth = 9, learning_rate = 0.3, loss_function = RMSE, leaf_estimation_method Newton, error = 45668997284.2\n",
      "depth = 9, learning_rate = 0.3, loss_function = RMSE, leaf_estimation_method Gradient, error = 46078044628.7\n",
      "depth = 9, learning_rate = 0.5, loss_function = RMSE, leaf_estimation_method Newton, error = 44450612706.0\n",
      "depth = 9, learning_rate = 0.5, loss_function = RMSE, leaf_estimation_method Gradient, error = 46874952836.1\n",
      "depth = 9, learning_rate = 0.7, loss_function = RMSE, leaf_estimation_method Newton, error = 43683632431.8\n",
      "depth = 9, learning_rate = 0.7, loss_function = RMSE, leaf_estimation_method Gradient, error = 44536374139.9\n"
     ]
    }
   ],
   "source": [
    "for r in res[43:]:\n",
    "    print(\"depth = {}, learning_rate = {}, loss_function = {}, leaf_estimation_method {}, error = {}\".format(r[0],r[1],r[2],r[3], r[4]))"
   ]
  },
  {
   "cell_type": "code",
   "execution_count": 38,
   "metadata": {},
   "outputs": [
    {
     "name": "stdout",
     "output_type": "stream",
     "text": [
      "depth = 9, learning_rate = 0.7, loss_function = RMSE,  leaf_estimation_method Newton,error = 43683632431.8\n"
     ]
    }
   ],
   "source": [
    "min_error = float('inf')\n",
    "tupla_min_error = ()\n",
    "for r in res[43:]:\n",
    "    if r[4] < min_error:\n",
    "        min_error = r[4]\n",
    "        tupla_min_error = r\n",
    "        \n",
    "print(\"depth = {}, learning_rate = {}, loss_function = {},  leaf_estimation_method {},error = {}\".\\\n",
    "    format(tupla_min_error[0],tupla_min_error[1],tupla_min_error[2],tupla_min_error[3], tupla_min_error[4]))"
   ]
  },
  {
   "cell_type": "markdown",
   "metadata": {},
   "source": [
    "## Elegimos depth = 9, learning_rate = 0.7, loss_function = RMSE,  leaf_estimation_method Newton"
   ]
  },
  {
   "cell_type": "code",
   "execution_count": 42,
   "metadata": {
    "collapsed": true
   },
   "outputs": [],
   "source": [
    "columnas = ['superficie','place_name_encoded','property_type_encoded','seguridad','gimnasio', 'aire', 'pileta', 'cochera']\n",
    "columnas_precio = columnas + ['price_aprox_usd']"
   ]
  },
  {
   "cell_type": "code",
   "execution_count": 43,
   "metadata": {
    "collapsed": true
   },
   "outputs": [],
   "source": [
    "set_entrenamiento = propiedades.loc[(propiedades.Year >= 2016) &((propiedades.Year < 2017) | (propiedades.Month < 6))\\\n",
    "                                    ,columnas_precio]\n",
    "set_pruebas = propiedades.loc[(propiedades.Year == 2017) & (propiedades.Month == 6),columnas_precio].head(20000)\n",
    "\n",
    "set_entrenamiento_datos = set_entrenamiento.loc[:,columnas]\n",
    "set_entrenamiento_resultado = set_entrenamiento.loc[:,'price_aprox_usd']"
   ]
  },
  {
   "cell_type": "code",
   "execution_count": 48,
   "metadata": {},
   "outputs": [
    {
     "name": "stdout",
     "output_type": "stream",
     "text": [
      "44513170231.5\n"
     ]
    }
   ],
   "source": [
    "lf = 'RMSE'\n",
    "lem = 'Newton'\n",
    "d = 9\n",
    "l = 0.7\n",
    "\n",
    "cat = CatBoostRegressor(loss_function = lf, depth = d, learning_rate = l, leaf_estimation_method = lem)\n",
    "cat.fit(Pool(set_entrenamiento_datos,set_entrenamiento_resultado))\n",
    "set_pruebas.loc[:,'resultado'] = cat.predict(Pool(set_pruebas.loc[:,columnas]))\n",
    "error = mean_squared_error(set_pruebas.price_aprox_usd, set_pruebas.resultado)\n",
    "print(error)"
   ]
  },
  {
   "cell_type": "markdown",
   "metadata": {},
   "source": [
    "# calculo con los verdaderos datos a analizar"
   ]
  },
  {
   "cell_type": "code",
   "execution_count": 49,
   "metadata": {
    "collapsed": true
   },
   "outputs": [],
   "source": [
    "analizar = pd.read_csv(\"/home/agustin/Escritorio/escritorio/fiuba/Organizacion de datos/datos para el tp2/properati_dataset_modificado.csv\")"
   ]
  },
  {
   "cell_type": "code",
   "execution_count": 50,
   "metadata": {
    "collapsed": true
   },
   "outputs": [],
   "source": [
    "analizar.loc[:,'price_usd'] = cat.predict(Pool(analizar.loc[:,columnas]))"
   ]
  },
  {
   "cell_type": "code",
   "execution_count": 51,
   "metadata": {},
   "outputs": [
    {
     "data": {
      "text/plain": [
       "count    1.416600e+04\n",
       "mean     2.423444e+05\n",
       "std      2.777354e+05\n",
       "min     -1.270310e+06\n",
       "25%      1.113211e+05\n",
       "50%      1.626517e+05\n",
       "75%      2.713292e+05\n",
       "max      8.849407e+06\n",
       "Name: price_usd, dtype: float64"
      ]
     },
     "execution_count": 51,
     "metadata": {},
     "output_type": "execute_result"
    }
   ],
   "source": [
    "analizar.price_usd.describe()"
   ]
  },
  {
   "cell_type": "code",
   "execution_count": 52,
   "metadata": {
    "collapsed": true
   },
   "outputs": [],
   "source": [
    "# Las predicciones con precio negativo las convierto en valores positivos\n",
    "analizar.loc[:,'price_usd'] = analizar.loc[:,\"price_usd\"].apply(lambda x: abs(x))"
   ]
  },
  {
   "cell_type": "code",
   "execution_count": 53,
   "metadata": {},
   "outputs": [
    {
     "data": {
      "text/plain": [
       "count    1.416600e+04\n",
       "mean     2.439598e+05\n",
       "std      2.763174e+05\n",
       "min      5.011507e+03\n",
       "25%      1.118089e+05\n",
       "50%      1.630035e+05\n",
       "75%      2.722750e+05\n",
       "max      8.849407e+06\n",
       "Name: price_usd, dtype: float64"
      ]
     },
     "execution_count": 53,
     "metadata": {},
     "output_type": "execute_result"
    }
   ],
   "source": [
    "analizar.price_usd.describe()"
   ]
  },
  {
   "cell_type": "code",
   "execution_count": 54,
   "metadata": {
    "collapsed": true
   },
   "outputs": [],
   "source": [
    "resultado = analizar.loc[:,['id','price_usd']]"
   ]
  },
  {
   "cell_type": "code",
   "execution_count": 55,
   "metadata": {
    "collapsed": true
   },
   "outputs": [],
   "source": [
    "resultado.to_csv('resultados/catboost_resultados.csv', index = False)"
   ]
  },
  {
   "cell_type": "markdown",
   "metadata": {},
   "source": [
    "## Utilizando Standard Scaler"
   ]
  },
  {
   "cell_type": "code",
   "execution_count": 6,
   "metadata": {
    "collapsed": true
   },
   "outputs": [],
   "source": [
    "columnas = ['superficie','place_name_encoded','property_type_encoded','seguridad','gimnasio', 'aire', 'pileta', 'cochera']\n",
    "columnas_precio = columnas + ['price_aprox_usd']"
   ]
  },
  {
   "cell_type": "code",
   "execution_count": 7,
   "metadata": {
    "collapsed": true
   },
   "outputs": [],
   "source": [
    "set_entrenamiento = propiedades.loc[(propiedades.Year >= 2016) &((propiedades.Year < 2017) | (propiedades.Month < 6))\\\n",
    "                                    ,columnas_precio]\n",
    "set_pruebas = propiedades.loc[(propiedades.Year == 2017) & (propiedades.Month == 6),columnas_precio].head(20000)\n",
    "\n",
    "set_entrenamiento_datos = set_entrenamiento.loc[:,columnas]\n",
    "set_entrenamiento_resultado = set_entrenamiento.loc[:,'price_aprox_usd']"
   ]
  },
  {
   "cell_type": "code",
   "execution_count": 8,
   "metadata": {},
   "outputs": [
    {
     "data": {
      "text/plain": [
       "StandardScaler(copy=True, with_mean=True, with_std=True)"
      ]
     },
     "execution_count": 8,
     "metadata": {},
     "output_type": "execute_result"
    }
   ],
   "source": [
    "scaler = StandardScaler()  \n",
    "scaler.fit(set_entrenamiento_datos)"
   ]
  },
  {
   "cell_type": "code",
   "execution_count": 12,
   "metadata": {},
   "outputs": [
    {
     "name": "stdout",
     "output_type": "stream",
     "text": [
      "47316459550.5\n"
     ]
    }
   ],
   "source": [
    "lf = 'RMSE'\n",
    "lem = 'Newton'\n",
    "d = 9\n",
    "l = 0.7\n",
    "\n",
    "cat = CatBoostRegressor(loss_function = lf, depth = d, learning_rate = l, leaf_estimation_method = lem)\n",
    "cat.fit(Pool(scaler.transform(set_entrenamiento_datos),set_entrenamiento_resultado))\n",
    "set_pruebas.loc[:,'resultado'] = cat.predict(Pool(scaler.transform(set_pruebas.loc[:,columnas])))\n",
    "error = mean_squared_error(set_pruebas.price_aprox_usd, set_pruebas.resultado)\n",
    "print(error)"
   ]
  },
  {
   "cell_type": "markdown",
   "metadata": {},
   "source": [
    "#### Los resultados obtenidos con standard scaler son peores que los obtenidos sin standard scaler"
   ]
  },
  {
   "cell_type": "markdown",
   "metadata": {},
   "source": [
    "# Ahora uso lat y lon en lugar de place name"
   ]
  },
  {
   "cell_type": "code",
   "execution_count": 4,
   "metadata": {
    "collapsed": true
   },
   "outputs": [],
   "source": [
    "propiedades = propiedades.loc[(propiedades.price_aprox_usd.notnull()) & (propiedades.superficie.notnull())\\\n",
    "                              & (propiedades.lat.notnull()) & (propiedades.lon.notnull()),\\\n",
    "                             ['lat', 'lon', 'property_type_encoded','price_aprox_usd','superficie',\\\n",
    "                             'Year','Month','seguridad','aire','gimnasio','cochera','pileta']]"
   ]
  },
  {
   "cell_type": "code",
   "execution_count": 5,
   "metadata": {
    "collapsed": true
   },
   "outputs": [],
   "source": [
    "columnas = ['superficie','lat', 'lon','property_type_encoded','seguridad','gimnasio', 'aire', 'pileta', 'cochera']\n",
    "columnas_precio = columnas + ['price_aprox_usd']"
   ]
  },
  {
   "cell_type": "code",
   "execution_count": 6,
   "metadata": {
    "collapsed": true
   },
   "outputs": [],
   "source": [
    "set_entrenamiento = propiedades.loc[(propiedades.Year >= 2016) &((propiedades.Year < 2017) | (propiedades.Month < 6))\\\n",
    "                                    ,columnas_precio]\n",
    "set_pruebas = propiedades.loc[(propiedades.Year == 2017) & (propiedades.Month == 6),columnas_precio].head(20000)\n",
    "\n",
    "set_entrenamiento_datos = set_entrenamiento.loc[:,columnas]\n",
    "set_entrenamiento_resultado = set_entrenamiento.loc[:,'price_aprox_usd']"
   ]
  },
  {
   "cell_type": "code",
   "execution_count": 7,
   "metadata": {},
   "outputs": [
    {
     "name": "stdout",
     "output_type": "stream",
     "text": [
      "46624066719.2\n"
     ]
    }
   ],
   "source": [
    "cat = CatBoostRegressor()\n",
    "cat.fit(Pool(set_entrenamiento_datos,set_entrenamiento_resultado))\n",
    "set_pruebas.loc[:,'resultado'] = cat.predict(Pool(set_pruebas.loc[:,columnas]))\n",
    "error = mean_squared_error(set_pruebas.price_aprox_usd, set_pruebas.resultado)\n",
    "print(error)"
   ]
  },
  {
   "cell_type": "code",
   "execution_count": 12,
   "metadata": {},
   "outputs": [
    {
     "name": "stdout",
     "output_type": "stream",
     "text": [
      "21465356596.3\n"
     ]
    }
   ],
   "source": [
    "lf = 'RMSE'\n",
    "lem = 'Newton'\n",
    "d = 9\n",
    "l = 0.7\n",
    "\n",
    "cat = CatBoostRegressor(loss_function = lf, depth = d, learning_rate = l, leaf_estimation_method = lem)\n",
    "cat.fit(Pool(set_entrenamiento_datos,set_entrenamiento_resultado))\n",
    "set_pruebas.loc[:,'resultado'] = cat.predict(Pool(set_pruebas.loc[:,columnas]))\n",
    "error = mean_squared_error(set_pruebas.price_aprox_usd, set_pruebas.resultado)\n",
    "print(error)"
   ]
  },
  {
   "cell_type": "code",
   "execution_count": 13,
   "metadata": {
    "collapsed": true
   },
   "outputs": [],
   "source": [
    "res = []"
   ]
  },
  {
   "cell_type": "code",
   "execution_count": 14,
   "metadata": {},
   "outputs": [
    {
     "name": "stdout",
     "output_type": "stream",
     "text": [
      "(1, 0.1, 'RMSE')\n",
      "(1, 0.1, 'LogLinQuantile')\n",
      "(1, 0.1, 'MAE')\n",
      "(1, 0.1, 'MAPE')\n",
      "(1, 0.1, 'Quantile')\n",
      "(1, 0.3, 'RMSE')\n",
      "(1, 0.3, 'MAE')\n",
      "(1, 0.3, 'MAPE')\n",
      "(1, 0.3, 'Quantile')\n",
      "(1, 0.5, 'RMSE')\n",
      "(1, 0.5, 'MAE')\n",
      "(1, 0.5, 'MAPE')\n",
      "(1, 0.5, 'Quantile')\n",
      "(3, 0.1, 'RMSE')\n",
      "(3, 0.1, 'LogLinQuantile')\n",
      "(3, 0.1, 'MAE')\n",
      "(3, 0.1, 'MAPE')\n",
      "Training has stopped (degenerate solution on iteration 307, probably too small l2-regularization, try to increase it)\n",
      "(3, 0.1, 'Quantile')\n",
      "(3, 0.3, 'RMSE')\n",
      "(3, 0.3, 'MAE')\n",
      "(3, 0.3, 'MAPE')\n",
      "Training has stopped (degenerate solution on iteration 25, probably too small l2-regularization, try to increase it)\n",
      "(3, 0.3, 'Quantile')\n",
      "(3, 0.5, 'RMSE')\n",
      "(3, 0.5, 'MAE')\n",
      "(3, 0.5, 'MAPE')\n",
      "Training has stopped (degenerate solution on iteration 61, probably too small l2-regularization, try to increase it)\n",
      "(3, 0.5, 'Quantile')\n",
      "(7, 0.1, 'RMSE')\n",
      "(7, 0.1, 'LogLinQuantile')\n",
      "(7, 0.1, 'MAE')\n",
      "(7, 0.1, 'MAPE')\n",
      "Training has stopped (degenerate solution on iteration 223, probably too small l2-regularization, try to increase it)\n",
      "(7, 0.1, 'Quantile')\n",
      "(7, 0.3, 'RMSE')\n",
      "Training has stopped (degenerate solution on iteration 102, probably too small l2-regularization, try to increase it)\n",
      "(7, 0.3, 'MAE')\n",
      "(7, 0.3, 'MAPE')\n",
      "Training has stopped (degenerate solution on iteration 41, probably too small l2-regularization, try to increase it)\n",
      "(7, 0.3, 'Quantile')\n",
      "(7, 0.5, 'RMSE')\n",
      "Training has stopped (degenerate solution on iteration 103, probably too small l2-regularization, try to increase it)\n",
      "(7, 0.5, 'MAE')\n",
      "(7, 0.5, 'MAPE')\n",
      "Training has stopped (degenerate solution on iteration 27, probably too small l2-regularization, try to increase it)\n",
      "(7, 0.5, 'Quantile')\n"
     ]
    }
   ],
   "source": [
    "loss_function = ['RMSE', 'LogLinQuantile', 'MAE', 'MAPE', 'Poisson', 'Quantile', ]\n",
    "depth = [1, 3, 7]\n",
    "learning = [0.1, 0.3, 0.5]\n",
    "\n",
    "for d in depth:\n",
    "    for l in learning:\n",
    "        for lf in loss_function:\n",
    "            try:\n",
    "                cat = CatBoostRegressor(loss_function = lf, depth = d, learning_rate = l)\n",
    "                cat.fit(Pool(set_entrenamiento_datos,set_entrenamiento_resultado))\n",
    "                set_pruebas.loc[:,'resultado'] = cat.predict(Pool(set_pruebas.loc[:,columnas]))\n",
    "                error = mean_squared_error(set_pruebas.price_aprox_usd, set_pruebas.resultado)\n",
    "                res.append((d, l, lf, error))\n",
    "                print(d, l, lf)\n",
    "            except:\n",
    "                continue"
   ]
  },
  {
   "cell_type": "code",
   "execution_count": 15,
   "metadata": {},
   "outputs": [
    {
     "name": "stdout",
     "output_type": "stream",
     "text": [
      "depth = 1, learning_rate = 0.1, loss_function = RMSE,  error = 68395823536.0\n",
      "depth = 1, learning_rate = 0.1, loss_function = LogLinQuantile,  error = 2.45760139419e+11\n",
      "depth = 1, learning_rate = 0.1, loss_function = MAE,  error = 1.76633662069e+11\n",
      "depth = 1, learning_rate = 0.1, loss_function = MAPE,  error = 1.76645996248e+11\n",
      "depth = 1, learning_rate = 0.1, loss_function = Quantile,  error = 1.7663366207e+11\n",
      "depth = 1, learning_rate = 0.3, loss_function = RMSE,  error = 67909222571.9\n",
      "depth = 1, learning_rate = 0.3, loss_function = MAE,  error = 1.76608997162e+11\n",
      "depth = 1, learning_rate = 0.3, loss_function = MAPE,  error = 1.76645995947e+11\n",
      "depth = 1, learning_rate = 0.3, loss_function = Quantile,  error = 1.76608997139e+11\n",
      "depth = 1, learning_rate = 0.5, loss_function = RMSE,  error = 67969670620.1\n",
      "depth = 1, learning_rate = 0.5, loss_function = MAE,  error = 1.76584337257e+11\n",
      "depth = 1, learning_rate = 0.5, loss_function = MAPE,  error = 1.76645995645e+11\n",
      "depth = 1, learning_rate = 0.5, loss_function = Quantile,  error = 1.76584337228e+11\n",
      "depth = 3, learning_rate = 0.1, loss_function = RMSE,  error = 51897035719.3\n",
      "depth = 3, learning_rate = 0.1, loss_function = LogLinQuantile,  error = 2.44069424957e+11\n",
      "depth = 3, learning_rate = 0.1, loss_function = MAE,  error = 1.76633662288e+11\n",
      "depth = 3, learning_rate = 0.1, loss_function = MAPE,  error = 1.76645996255e+11\n",
      "depth = 3, learning_rate = 0.1, loss_function = Quantile,  error = 1.76633662273e+11\n",
      "depth = 3, learning_rate = 0.3, loss_function = RMSE,  error = 50149251807.5\n",
      "depth = 3, learning_rate = 0.3, loss_function = MAE,  error = 1.7660899735e+11\n",
      "depth = 3, learning_rate = 0.3, loss_function = MAPE,  error = 1.76645995962e+11\n",
      "depth = 3, learning_rate = 0.3, loss_function = Quantile,  error = 1.76608997342e+11\n",
      "depth = 3, learning_rate = 0.5, loss_function = RMSE,  error = 48521265193.8\n",
      "depth = 3, learning_rate = 0.5, loss_function = MAE,  error = 1.76584337443e+11\n",
      "depth = 3, learning_rate = 0.5, loss_function = MAPE,  error = 1.76645995671e+11\n",
      "depth = 3, learning_rate = 0.5, loss_function = Quantile,  error = 1.76584337432e+11\n",
      "depth = 7, learning_rate = 0.1, loss_function = RMSE,  error = 36738841580.0\n",
      "depth = 7, learning_rate = 0.1, loss_function = LogLinQuantile,  error = 2.34362487624e+11\n",
      "depth = 7, learning_rate = 0.1, loss_function = MAE,  error = 1.76633663079e+11\n",
      "depth = 7, learning_rate = 0.1, loss_function = MAPE,  error = 1.76645996268e+11\n",
      "depth = 7, learning_rate = 0.1, loss_function = Quantile,  error = 1.76633663164e+11\n",
      "depth = 7, learning_rate = 0.3, loss_function = RMSE,  error = 30487635291.8\n",
      "depth = 7, learning_rate = 0.3, loss_function = MAE,  error = 1.76608998263e+11\n",
      "depth = 7, learning_rate = 0.3, loss_function = MAPE,  error = 1.76645996007e+11\n",
      "depth = 7, learning_rate = 0.3, loss_function = Quantile,  error = 1.76608998445e+11\n",
      "depth = 7, learning_rate = 0.5, loss_function = RMSE,  error = 28964960487.9\n",
      "depth = 7, learning_rate = 0.5, loss_function = MAE,  error = 1.76584338217e+11\n",
      "depth = 7, learning_rate = 0.5, loss_function = MAPE,  error = 1.76645995747e+11\n",
      "depth = 7, learning_rate = 0.5, loss_function = Quantile,  error = 1.76584338629e+11\n"
     ]
    }
   ],
   "source": [
    "for r in res:\n",
    "    print(\"depth = {}, learning_rate = {}, loss_function = {},  error = {}\".format(r[0],r[1],r[2],r[3]))"
   ]
  },
  {
   "cell_type": "code",
   "execution_count": 16,
   "metadata": {},
   "outputs": [
    {
     "name": "stdout",
     "output_type": "stream",
     "text": [
      "depth = 7, learning_rate = 0.5, loss_function = RMSE,  error = 28964960487.9\n"
     ]
    }
   ],
   "source": [
    "min_error = float('inf')\n",
    "tupla_min_error = ()\n",
    "for r in res:\n",
    "    if r[3] < min_error:\n",
    "        min_error = r[3]\n",
    "        tupla_min_error = r\n",
    "        \n",
    "print(\"depth = {}, learning_rate = {}, loss_function = {},  error = {}\".\\\n",
    "    format(tupla_min_error[0],tupla_min_error[1],tupla_min_error[2],tupla_min_error[3]))"
   ]
  },
  {
   "cell_type": "code",
   "execution_count": 17,
   "metadata": {},
   "outputs": [
    {
     "name": "stdout",
     "output_type": "stream",
     "text": [
      "(3, 0.3, 'Newton')\n",
      "(3, 0.3, 'Gradient')\n",
      "(3, 0.5, 'Newton')\n",
      "(3, 0.5, 'Gradient')\n",
      "(3, 0.7, 'Newton')\n",
      "(3, 0.7, 'Gradient')\n",
      "(7, 0.3, 'Newton')\n",
      "(7, 0.3, 'Gradient')\n",
      "(7, 0.5, 'Newton')\n",
      "(7, 0.5, 'Gradient')\n",
      "(7, 0.7, 'Newton')\n",
      "(7, 0.7, 'Gradient')\n",
      "(9, 0.3, 'Newton')\n",
      "(9, 0.3, 'Gradient')\n",
      "(9, 0.5, 'Newton')\n",
      "(9, 0.5, 'Gradient')\n",
      "(9, 0.7, 'Newton')\n",
      "(9, 0.7, 'Gradient')\n"
     ]
    }
   ],
   "source": [
    "lf = 'RMSE'\n",
    "leaf_estimation_method = ['Newton', 'Gradient']\n",
    "depth = [3, 7, 9]\n",
    "learning = [0.3, 0.5, 0.7]\n",
    "\n",
    "for d in depth:\n",
    "    for l in learning:\n",
    "        for lem in leaf_estimation_method:\n",
    "            cat = CatBoostRegressor(loss_function = lf, depth = d, learning_rate = l, leaf_estimation_method = lem)\n",
    "            cat.fit(Pool(set_entrenamiento_datos,set_entrenamiento_resultado))\n",
    "            set_pruebas.loc[:,'resultado'] = cat.predict(Pool(set_pruebas.loc[:,columnas]))\n",
    "            error = mean_squared_error(set_pruebas.price_aprox_usd, set_pruebas.resultado)\n",
    "            res.append((d, l, lf, lem, error))\n",
    "            print(d, l, lem)"
   ]
  },
  {
   "cell_type": "code",
   "execution_count": 18,
   "metadata": {},
   "outputs": [
    {
     "name": "stdout",
     "output_type": "stream",
     "text": [
      "depth = 3, learning_rate = 0.7, loss_function = RMSE, leaf_estimation_method = Newton, error = 49463450903.8\n",
      "depth = 3, learning_rate = 0.7, loss_function = RMSE, leaf_estimation_method = Gradient, error = 47187635004.9\n",
      "depth = 7, learning_rate = 0.3, loss_function = RMSE, leaf_estimation_method = Newton, error = 32389837138.2\n",
      "depth = 7, learning_rate = 0.3, loss_function = RMSE, leaf_estimation_method = Gradient, error = 33197632566.7\n",
      "depth = 7, learning_rate = 0.5, loss_function = RMSE, leaf_estimation_method = Newton, error = 28746005800.9\n",
      "depth = 7, learning_rate = 0.5, loss_function = RMSE, leaf_estimation_method = Gradient, error = 28999671682.2\n",
      "depth = 7, learning_rate = 0.7, loss_function = RMSE, leaf_estimation_method = Newton, error = 28137251040.1\n",
      "depth = 7, learning_rate = 0.7, loss_function = RMSE, leaf_estimation_method = Gradient, error = 28065297773.6\n",
      "depth = 9, learning_rate = 0.3, loss_function = RMSE, leaf_estimation_method = Newton, error = 26177239354.3\n",
      "depth = 9, learning_rate = 0.3, loss_function = RMSE, leaf_estimation_method = Gradient, error = 26315179171.5\n",
      "depth = 9, learning_rate = 0.5, loss_function = RMSE, leaf_estimation_method = Newton, error = 24932677894.9\n",
      "depth = 9, learning_rate = 0.5, loss_function = RMSE, leaf_estimation_method = Gradient, error = 25062992349.3\n",
      "depth = 9, learning_rate = 0.7, loss_function = RMSE, leaf_estimation_method = Newton, error = 24098199566.8\n",
      "depth = 9, learning_rate = 0.7, loss_function = RMSE, leaf_estimation_method = Gradient, error = 24516854986.0\n"
     ]
    }
   ],
   "source": [
    "for r in res[43:]:\n",
    "    print(\"depth = {}, learning_rate = {}, loss_function = {}, leaf_estimation_method = {}, error = {}\".format(r[0],r[1],r[2],r[3], r[4]))"
   ]
  },
  {
   "cell_type": "code",
   "execution_count": 19,
   "metadata": {},
   "outputs": [
    {
     "name": "stdout",
     "output_type": "stream",
     "text": [
      "depth = 9, learning_rate = 0.7, loss_function = RMSE,  leaf_estimation_method = Newton,error = 24098199566.8\n"
     ]
    }
   ],
   "source": [
    "min_error = float('inf')\n",
    "tupla_min_error = ()\n",
    "for r in res[43:]:\n",
    "    if r[4] < min_error:\n",
    "        min_error = r[4]\n",
    "        tupla_min_error = r\n",
    "        \n",
    "print(\"depth = {}, learning_rate = {}, loss_function = {},  leaf_estimation_method = {},error = {}\".\\\n",
    "    format(tupla_min_error[0],tupla_min_error[1],tupla_min_error[2],tupla_min_error[3], tupla_min_error[4]))"
   ]
  },
  {
   "cell_type": "markdown",
   "metadata": {},
   "source": [
    "## Calculo de los verdaderos datos a analizar"
   ]
  },
  {
   "cell_type": "code",
   "execution_count": 20,
   "metadata": {
    "collapsed": true
   },
   "outputs": [],
   "source": [
    "analizar = pd.read_csv(\"/home/agustin/Escritorio/escritorio/fiuba/Organizacion de datos/tpDatos/properati_dataset_modificado.csv\")"
   ]
  },
  {
   "cell_type": "code",
   "execution_count": 22,
   "metadata": {
    "collapsed": true
   },
   "outputs": [],
   "source": [
    "analizar.loc[:,'price_usd'] = cat.predict(Pool(analizar.loc[:,columnas]))"
   ]
  },
  {
   "cell_type": "code",
   "execution_count": 23,
   "metadata": {},
   "outputs": [
    {
     "data": {
      "text/plain": [
       "count    1.416600e+04\n",
       "mean     2.710392e+05\n",
       "std      4.407396e+05\n",
       "min     -1.693840e+06\n",
       "25%      1.066302e+05\n",
       "50%      1.562886e+05\n",
       "75%      2.721992e+05\n",
       "max      1.888102e+07\n",
       "Name: price_usd, dtype: float64"
      ]
     },
     "execution_count": 23,
     "metadata": {},
     "output_type": "execute_result"
    }
   ],
   "source": [
    "analizar.price_usd.describe()"
   ]
  },
  {
   "cell_type": "code",
   "execution_count": 26,
   "metadata": {},
   "outputs": [],
   "source": [
    "analizar.loc[:, 'price_usd'] = analizar.loc[:, 'price_usd'].apply(lambda x: abs(x))"
   ]
  },
  {
   "cell_type": "code",
   "execution_count": 27,
   "metadata": {},
   "outputs": [
    {
     "data": {
      "text/plain": [
       "count    1.416600e+04\n",
       "mean     2.744049e+05\n",
       "std      4.386519e+05\n",
       "min      5.672223e+02\n",
       "25%      1.070302e+05\n",
       "50%      1.569190e+05\n",
       "75%      2.734567e+05\n",
       "max      1.888102e+07\n",
       "Name: price_usd, dtype: float64"
      ]
     },
     "execution_count": 27,
     "metadata": {},
     "output_type": "execute_result"
    }
   ],
   "source": [
    "analizar.price_usd.describe()"
   ]
  },
  {
   "cell_type": "code",
   "execution_count": 28,
   "metadata": {
    "collapsed": true
   },
   "outputs": [],
   "source": [
    "resultado = analizar.loc[:,['id','price_usd']]\n",
    "resultado.to_csv('resultados/Catboost_lat_lon_resultados.csv', index = False)"
   ]
  }
 ],
 "metadata": {
  "anaconda-cloud": {},
  "kernelspec": {
   "display_name": "Python 3",
   "language": "python",
   "name": "python3"
  },
  "language_info": {
   "codemirror_mode": {
    "name": "ipython",
    "version": 2
   },
   "file_extension": ".py",
   "mimetype": "text/x-python",
   "name": "python",
   "nbconvert_exporter": "python",
   "pygments_lexer": "ipython2",
   "version": "2.7.12"
  }
 },
 "nbformat": 4,
 "nbformat_minor": 2
}
