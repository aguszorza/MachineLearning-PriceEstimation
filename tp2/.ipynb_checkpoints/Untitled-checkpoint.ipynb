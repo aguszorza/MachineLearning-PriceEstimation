{
 "cells": [
  {
   "cell_type": "code",
   "execution_count": 9,
   "metadata": {
    "collapsed": true
   },
   "outputs": [],
   "source": [
    "import pandas as pd\n",
    "import numpy as np\n",
    "from sklearn import preprocessing\n",
    "from math import radians, sin, cos, asin, sqrt, pi, atan, atan2, fabs\n",
    "\n",
    "import geopandas as gpd\n",
    "from shapely.geometry import Polygon, MultiPolygon, Point\n",
    "from shapely import wkt"
   ]
  },
  {
   "cell_type": "code",
   "execution_count": 10,
   "metadata": {
    "collapsed": true
   },
   "outputs": [],
   "source": [
    "propiedades = pd.read_csv('../../datos_con_fecha.csv')"
   ]
  },
  {
   "cell_type": "code",
   "execution_count": 11,
   "metadata": {
    "collapsed": true
   },
   "outputs": [],
   "source": [
    "def unificar_superficies(fila):\n",
    "    total,covered = fila\n",
    "    if (not np.isnan(total) and total != 0):\n",
    "        return total\n",
    "    if (not np.isnan(covered) and covered != 0):\n",
    "        return covered\n",
    "    return None\n",
    "\n",
    "def obtener_promedio_por_zona_y_tipo(x,columna, datos):\n",
    "    \"Devuelve el promedio de la columna para los datos\"\n",
    "    zona, tipo = x\n",
    "    df = datos.loc[(datos.place_name == zona) & (datos.property_type == tipo),columna]\n",
    "    return df.median()\n",
    "\n",
    "def obtener_promedio_por_zona(zona,columna, datos):\n",
    "    \"Devuelve el promedio de la columna para los datos\"\n",
    "    df = datos.loc[(datos.place_name == zona) ,columna]\n",
    "    return df.mean()"
   ]
  },
  {
   "cell_type": "code",
   "execution_count": 22,
   "metadata": {
    "collapsed": true
   },
   "outputs": [],
   "source": [
    "pruebas = pd.read_csv(\"../set_pruebas_one_hot_encoder.csv\")\n",
    "pruebas.loc[:,'superficie'] = None"
   ]
  },
  {
   "cell_type": "code",
   "execution_count": 23,
   "metadata": {},
   "outputs": [
    {
     "name": "stdout",
     "output_type": "stream",
     "text": [
      "1\n",
      "2\n",
      "3\n"
     ]
    }
   ],
   "source": [
    "#Unifico las superficies\n",
    "pruebas.loc[:,'superficie'] = pruebas.loc[:,['surface_total_in_m2','surface_covered_in_m2']].apply\\\n",
    "            (lambda x: unificar_superficies(x), axis = 1)\n",
    "print('1')\n",
    "\n",
    "#Completo superficies faltantes con promedios\n",
    "#Primero promedio de los datos\n",
    "pruebas.loc[pruebas.superficie.isnull(),'superficie'] = pruebas.loc[pruebas.superficie.isnull(),\\\n",
    "                                                    ['place_name','property_type']].apply\\\n",
    "                (lambda x: obtener_promedio_por_zona_y_tipo(x,'superficie',propiedades), axis = 1)\n",
    "print('2')\n",
    "#Luego promedio de las pruebas\n",
    "pruebas.loc[pruebas.superficie.isnull(),'superficie'] = pruebas.loc[pruebas.superficie.isnull(),\\\n",
    "                                                    ['place_name','property_type']].apply\\\n",
    "                (lambda x: obtener_promedio_por_zona_y_tipo(x,'superficie',pruebas), axis = 1)\n",
    "print('3')\n",
    "#Si alguno sigue siendo null le pongo la media de todos los datos\n",
    "pruebas.loc[pruebas.superficie.isnull(),'superficie'] =\\\n",
    "            propiedades.loc[propiedades.superficie.notnull(),'superficie'].median()"
   ]
  },
  {
   "cell_type": "code",
   "execution_count": 24,
   "metadata": {
    "collapsed": true
   },
   "outputs": [],
   "source": [
    "sup_min = 10\n",
    "sup_max = 300\n",
    "lat_min = -35\n",
    "lat_max = -34\n",
    "lon_min = -59\n",
    "lon_max = -58\n",
    "precio_min = 30000\n",
    "precio_max = 3000000\n",
    "\n",
    "def normalizar_sup(s):\n",
    "    if s < sup_min:\n",
    "        return sup_min\n",
    "    if s > sup_max:\n",
    "        return sup_max\n",
    "    return s\n",
    "\n",
    "pruebas.loc[:,'superficie'] = pruebas.loc[:,'superficie'].apply(lambda x: normalizar_sup(x))"
   ]
  },
  {
   "cell_type": "code",
   "execution_count": 25,
   "metadata": {
    "collapsed": true
   },
   "outputs": [],
   "source": [
    "pruebas.to_csv(\"../set_pruebas_one_hot_encoder.csv\", index = False)"
   ]
  }
 ],
 "metadata": {
  "kernelspec": {
   "display_name": "Python 3",
   "language": "python",
   "name": "python3"
  },
  "language_info": {
   "codemirror_mode": {
    "name": "ipython",
    "version": 3
   },
   "file_extension": ".py",
   "mimetype": "text/x-python",
   "name": "python",
   "nbconvert_exporter": "python",
   "pygments_lexer": "ipython3",
   "version": "3.6.1"
  }
 },
 "nbformat": 4,
 "nbformat_minor": 2
}
