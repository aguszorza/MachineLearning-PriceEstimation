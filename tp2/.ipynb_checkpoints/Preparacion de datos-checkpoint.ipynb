{
 "cells": [
  {
   "cell_type": "code",
   "execution_count": 30,
   "metadata": {
    "collapsed": true
   },
   "outputs": [],
   "source": [
    "import pandas as pd\n",
    "import numpy as np\n",
    "from sklearn import preprocessing"
   ]
  },
  {
   "cell_type": "code",
   "execution_count": 7,
   "metadata": {},
   "outputs": [
    {
     "name": "stderr",
     "output_type": "stream",
     "text": [
      "/home/mati/anaconda3/lib/python3.6/site-packages/IPython/core/interactiveshell.py:2717: DtypeWarning: Columns (0,1) have mixed types. Specify dtype option on import or set low_memory=False.\n",
      "  interactivity=interactivity, compiler=compiler, result=result)\n"
     ]
    }
   ],
   "source": [
    "propiedades = pd.read_csv('/home/mati/Desktop/propiedades_descripcion.csv')\n",
    "propiedades = propiedades.loc[propiedades.Year >= 2015,:]"
   ]
  },
  {
   "cell_type": "code",
   "execution_count": 3,
   "metadata": {
    "collapsed": true
   },
   "outputs": [],
   "source": [
    "pruebas = pd.read_csv(\"/home/mati/Desktop/properati_dataset_testing_noprice.csv\")"
   ]
  },
  {
   "cell_type": "markdown",
   "metadata": {},
   "source": [
    "#### Calculo el precio a partir del precio m2 y la superficie"
   ]
  },
  {
   "cell_type": "code",
   "execution_count": 8,
   "metadata": {
    "collapsed": true
   },
   "outputs": [],
   "source": [
    "def calcular_precio_usd(fila):\n",
    "    usd,currency,precio,sup,m2 = fila\n",
    "    if (not np.isnan(usd) and usd != 0):\n",
    "        return usd\n",
    "    if (currency == 'USD'):\n",
    "        if (not np.isnan(precio) and precio != 0 ):\n",
    "            return precio\n",
    "    if (not np.isnan(sup) and not np.isnan(m2) and sup and m2):\n",
    "        return sup * m2\n",
    "    return np.nan\n",
    "\n",
    "propiedades.loc[:,'price_aprox_usd'] = propiedades.loc[:,['price_aprox_usd','currency','price',\\\n",
    "                      'superficie','price_usd_per_m2']].apply(lambda x: calcular_precio_usd(x),axis = 1)"
   ]
  },
  {
   "cell_type": "code",
   "execution_count": 10,
   "metadata": {
    "collapsed": true
   },
   "outputs": [],
   "source": [
    "propiedades.loc[:, 'Month'] = propiedades.loc[:,'fecha_de_publicacion'].apply(lambda x: int(x.split('-')[1]))\n",
    "propiedades = propiedades.loc[propiedades.price_aprox_usd.notnull(),:].reset_index()"
   ]
  },
  {
   "cell_type": "code",
   "execution_count": 39,
   "metadata": {
    "collapsed": true
   },
   "outputs": [],
   "source": [
    "propiedades.drop(['index','price','price_aprox_local_currency','price_usd_per_m2','price_per_m2'], axis = 1, inplace = True)\n",
    "propiedades = propiedades.loc[propiedades.place_name.notnull(),:]"
   ]
  },
  {
   "cell_type": "markdown",
   "metadata": {},
   "source": [
    "### Busco datos con las descripciones (las del tp1)"
   ]
  },
  {
   "cell_type": "code",
   "execution_count": 14,
   "metadata": {
    "collapsed": true
   },
   "outputs": [],
   "source": [
    "def tiene_cadena(cadena, lista):\n",
    "    cadena = str(cadena)\n",
    "    cadena = cadena.lower()\n",
    "    resultado = False\n",
    "    for x in lista:\n",
    "        resultado = resultado or (x in cadena)\n",
    "    return resultado"
   ]
  },
  {
   "cell_type": "code",
   "execution_count": 15,
   "metadata": {
    "collapsed": true
   },
   "outputs": [],
   "source": [
    "cadenas = ['vigilancia', 'seguridad', 'alarma', 'blindado', 'blindaje', 'guardia']\n",
    "propiedades.loc[:,'seguridad'] = propiedades.loc[:, 'description'].apply(lambda x: tiene_cadena(x, cadenas))\n",
    "pruebas.loc[:,'seguridad'] = pruebas.loc[:, 'description'].apply(lambda x: tiene_cadena(x, cadenas))"
   ]
  },
  {
   "cell_type": "code",
   "execution_count": 16,
   "metadata": {
    "collapsed": true
   },
   "outputs": [],
   "source": [
    "cadenas = ['gimnasio', 'gym', 'gimnacio']\n",
    "propiedades.loc[:,'gimnasio'] = propiedades.loc[:, 'description'].apply(lambda x: tiene_cadena(x, cadenas))\n",
    "pruebas.loc[:,'gimnasio'] = pruebas.loc[:, 'description'].apply(lambda x: tiene_cadena(x, cadenas))"
   ]
  },
  {
   "cell_type": "code",
   "execution_count": 17,
   "metadata": {
    "collapsed": true
   },
   "outputs": [],
   "source": [
    "cadenas = ['aire frio', 'aire acondicionado', 'split', 'aires acondicionados', 'climatizador', 'central',\\\n",
    "          'losa radiante', 'piso radiante', 'pisoradiante', 'loza radiante', 'los radiantes', 'radante',\\\n",
    "          'radiador']\n",
    "propiedades.loc[:,'aire'] = propiedades.loc[:, 'description'].apply(lambda x: tiene_cadena(x, cadenas))\n",
    "pruebas.loc[:,'aire'] = pruebas.loc[:, 'description'].apply(lambda x: tiene_cadena(x, cadenas))"
   ]
  },
  {
   "cell_type": "code",
   "execution_count": 18,
   "metadata": {
    "collapsed": true
   },
   "outputs": [],
   "source": [
    "cadenas = ['pileta', 'piscina', 'picina','pisina', 'yaccuzi', ' jacuzzi', 'jacuzi',\\\n",
    "           'yacuzi', 'yacusi', 'jacussi', 'hidromasaje']\n",
    "propiedades.loc[:,'pileta'] = propiedades.loc[:, 'description'].apply(lambda x: tiene_cadena(x, cadenas))\n",
    "pruebas.loc[:,'pileta'] = pruebas.loc[:, 'description'].apply(lambda x: tiene_cadena(x, cadenas))"
   ]
  },
  {
   "cell_type": "code",
   "execution_count": 19,
   "metadata": {
    "collapsed": true
   },
   "outputs": [],
   "source": [
    "cadenas = ['cochera', 'garage', 'estacionamiento', 'entrada de auto']\n",
    "propiedades.loc[:,'cochera'] = propiedades.loc[:, 'description'].apply(lambda x: tiene_cadena(x, cadenas))\n",
    "pruebas.loc[:,'cochera'] = pruebas.loc[:, 'description'].apply(lambda x: tiene_cadena(x, cadenas))"
   ]
  },
  {
   "cell_type": "markdown",
   "metadata": {},
   "source": [
    "### Calculos para datos faltantes en las pruebas"
   ]
  },
  {
   "cell_type": "code",
   "execution_count": 22,
   "metadata": {
    "collapsed": true
   },
   "outputs": [],
   "source": [
    "def unificar_superficies(fila):\n",
    "    total,covered = fila\n",
    "    if (not np.isnan(total) and total != 0):\n",
    "        return total\n",
    "    if (not np.isnan(covered) and covered != 0):\n",
    "        return covered\n",
    "    return None\n",
    "\n",
    "def traducir_tipo_propiedad(x):\n",
    "    if x == 'casa':\n",
    "        return 'house'\n",
    "    if x == 'departamento':\n",
    "        return 'apartment'\n",
    "    if x == 'ph':\n",
    "        return 'PH'\n",
    "    return x\n",
    "\n",
    "def obtener_promedio_por_zona_y_tipo(x,columna, datos):\n",
    "    \"Devuelve el promedio de la columna para los datos\"\n",
    "    zona, tipo = x\n",
    "    df = datos.loc[(datos.place_name == zona) & (datos.property_type == tipo),columna]\n",
    "    return df.mean()"
   ]
  },
  {
   "cell_type": "code",
   "execution_count": 28,
   "metadata": {
    "collapsed": true
   },
   "outputs": [],
   "source": [
    "#Traduzco el tipo de propiedad\n",
    "pruebas.loc[:,'property_type'] = pruebas.loc[:,'property_type'].apply(traducir_tipo_propiedad)\n",
    "\n",
    "#Unifico las superficies\n",
    "pruebas.loc[:,'superficie'] = pruebas.loc[:,['surface_total_in_m2','surface_covered_in_m2']].apply\\\n",
    "            (lambda x: unificar_superficies(x), axis = 1)\n",
    "\n",
    "#Completo superficies faltantes con promedios\n",
    "#Primero promedio de los datos\n",
    "pruebas.loc[pruebas.superficie.isnull(),'superficie'] = pruebas.loc[pruebas.superficie.isnull(),\\\n",
    "                                                    ['place_name','property_type']].apply\\\n",
    "                (lambda x: obtener_promedio_por_zona_y_tipo(x,'superficie',propiedades), axis = 1)\n",
    "#Luego promedio de las pruebas\n",
    "pruebas.loc[pruebas.superficie.isnull(),'superficie'] = pruebas.loc[pruebas.superficie.isnull(),\\\n",
    "                                                    ['place_name','property_type']].apply\\\n",
    "                (lambda x: obtener_promedio_por_zona_y_tipo(x,'superficie',pruebas), axis = 1)\n",
    "#Si alguno sigue siendo null le pongo 10\n",
    "pruebas.loc[pruebas.superficie.isnull(),'superficie'] = 10"
   ]
  },
  {
   "cell_type": "markdown",
   "metadata": {},
   "source": [
    "## Encodeo los strings"
   ]
  },
  {
   "cell_type": "code",
   "execution_count": 31,
   "metadata": {
    "collapsed": true
   },
   "outputs": [],
   "source": [
    "places = list(propiedades['place_name']) + list(pruebas['place_name'])\n",
    "types = list(propiedades['property_type'])"
   ]
  },
  {
   "cell_type": "code",
   "execution_count": 32,
   "metadata": {},
   "outputs": [
    {
     "data": {
      "text/plain": [
       "LabelEncoder()"
      ]
     },
     "execution_count": 32,
     "metadata": {},
     "output_type": "execute_result"
    }
   ],
   "source": [
    "encoder_places = preprocessing.LabelEncoder()\n",
    "encoder_places.fit(places)\n",
    "\n",
    "encoder_types = preprocessing.LabelEncoder()\n",
    "encoder_types.fit(types)"
   ]
  },
  {
   "cell_type": "code",
   "execution_count": 33,
   "metadata": {
    "collapsed": true
   },
   "outputs": [],
   "source": [
    "propiedades.loc[:,'property_type_encoded'] = propiedades.loc[:,'property_type'].apply(lambda x: encoder_types.transform([x])[0])"
   ]
  },
  {
   "cell_type": "code",
   "execution_count": 38,
   "metadata": {
    "collapsed": true
   },
   "outputs": [],
   "source": [
    "propiedades.loc[:,'place_name_encoded'] = propiedades.loc[:,'place_name'].apply(lambda x: encoder_places.transform([x])[0])"
   ]
  },
  {
   "cell_type": "code",
   "execution_count": 40,
   "metadata": {
    "collapsed": true
   },
   "outputs": [],
   "source": [
    "pruebas.loc[:,'property_type_encoded'] = pruebas.loc[:,'property_type'].apply(lambda x: encoder_types.transform([x])[0])\n",
    "pruebas.loc[:,'place_name_encoded'] = pruebas.loc[:,'place_name'].apply(lambda x: encoder_places.transform([x])[0])"
   ]
  },
  {
   "cell_type": "markdown",
   "metadata": {},
   "source": [
    "### Elimino columnas de pruebas que no sirven"
   ]
  },
  {
   "cell_type": "code",
   "execution_count": 42,
   "metadata": {},
   "outputs": [
    {
     "name": "stdout",
     "output_type": "stream",
     "text": [
      "<class 'pandas.core.frame.DataFrame'>\n",
      "RangeIndex: 14166 entries, 0 to 14165\n",
      "Data columns (total 22 columns):\n",
      "id                         14166 non-null int64\n",
      "created_on                 14166 non-null object\n",
      "property_type              14166 non-null object\n",
      "place_name                 14166 non-null object\n",
      "place_with_parent_names    14166 non-null object\n",
      "state_name                 14166 non-null object\n",
      "lat                        10487 non-null float64\n",
      "lon                        10487 non-null float64\n",
      "surface_total_in_m2        11853 non-null float64\n",
      "surface_covered_in_m2      13005 non-null float64\n",
      "floor                      1368 non-null float64\n",
      "rooms                      7500 non-null float64\n",
      "expenses                   2543 non-null object\n",
      "description                14166 non-null object\n",
      "seguridad                  14166 non-null bool\n",
      "gimnasio                   14166 non-null bool\n",
      "aire                       14166 non-null bool\n",
      "pileta                     14166 non-null bool\n",
      "cochera                    14166 non-null bool\n",
      "superficie                 14166 non-null float64\n",
      "property_type_encoded      14166 non-null int64\n",
      "place_name_encoded         14166 non-null int64\n",
      "dtypes: bool(5), float64(7), int64(3), object(7)\n",
      "memory usage: 1.9+ MB\n"
     ]
    }
   ],
   "source": [
    "pruebas.drop(['operation','country_name','lat-lon'], axis = 1, inplace = True)\n",
    "pruebas.info()"
   ]
  },
  {
   "cell_type": "markdown",
   "metadata": {},
   "source": [
    "### Exporto a csv"
   ]
  },
  {
   "cell_type": "code",
   "execution_count": 43,
   "metadata": {
    "collapsed": true
   },
   "outputs": [],
   "source": [
    "propiedades.to_csv(\"/home/mati/Desktop/set_datos_propiedades.csv\", index = False)"
   ]
  },
  {
   "cell_type": "code",
   "execution_count": 44,
   "metadata": {
    "collapsed": true
   },
   "outputs": [],
   "source": [
    "pruebas.to_csv(\"/home/mati/Desktop/properati_dataset_modificado.csv\", index = False)"
   ]
  }
 ],
 "metadata": {
  "kernelspec": {
   "display_name": "Python 3",
   "language": "python",
   "name": "python3"
  },
  "language_info": {
   "codemirror_mode": {
    "name": "ipython",
    "version": 2
   },
   "file_extension": ".py",
   "mimetype": "text/x-python",
   "name": "python",
   "nbconvert_exporter": "python",
   "pygments_lexer": "ipython2",
   "version": "2.7.12"
  }
 },
 "nbformat": 4,
 "nbformat_minor": 2
}
