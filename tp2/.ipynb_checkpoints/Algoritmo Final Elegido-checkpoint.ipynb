{
 "cells": [
  {
   "cell_type": "code",
   "execution_count": null,
   "metadata": {
    "collapsed": true
   },
   "outputs": [],
   "source": [
    "import pandas as pd\n",
    "import numpy as np\n",
    "from sklearn.metrics import mean_squared_error\n",
    "from sklearn.tree import DecisionTreeRegressor\n",
    "from sklearn import preprocessing\n",
    "from sklearn.model_selection import train_test_split\n",
    "import datetime\n",
    "\n",
    "import warnings\n",
    "warnings.simplefilter(\"ignore\", category=DeprecationWarning)"
   ]
  },
  {
   "cell_type": "code",
   "execution_count": null,
   "metadata": {
    "collapsed": true
   },
   "outputs": [],
   "source": [
    "inicio = datetime.datetime.now()"
   ]
  },
  {
   "cell_type": "code",
   "execution_count": null,
   "metadata": {
    "collapsed": true
   },
   "outputs": [],
   "source": [
    "propiedades = pd.read_csv('../../set_datos_one_hot_encoder.csv')\n",
    "set_pruebas = pd.read_csv('../set_pruebas_one_hot_encoder.csv')\n",
    "\n",
    "columnas = ['superficie','lat', 'lon','property_type_encoded','seguridad','gimnasio', 'aire', \\\n",
    "            'pileta', 'cochera','transporte','comercio', 'servicios', 'doble piso', 'jardin']"
   ]
  },
  {
   "cell_type": "code",
   "execution_count": null,
   "metadata": {
    "collapsed": true
   },
   "outputs": [],
   "source": [
    "def encodear(cadena):\n",
    "    \"Convierte un string de lista de numeros en una lista de numeros\"\n",
    "    return [float(x) for x in cadena.strip('[').strip(']').split(',')]\n",
    "\n",
    "def obtener_lista_datos(x):\n",
    "    return list(x[:3]) + x[3] + list(x[4:])"
   ]
  },
  {
   "cell_type": "code",
   "execution_count": null,
   "metadata": {
    "collapsed": true
   },
   "outputs": [],
   "source": [
    "propiedades.loc[:,'property_type_encoded'] = propiedades.loc[:,'property_type_encoded']\\\n",
    ".apply(lambda x: encodear(x))\n",
    "\n",
    "set_pruebas.loc[:,'property_type_encoded'] = set_pruebas.loc[:,'property_type_encoded']\\\n",
    ".apply(lambda x: encodear(x))"
   ]
  },
  {
   "cell_type": "markdown",
   "metadata": {},
   "source": [
    "# Parametros del estimador"
   ]
  },
  {
   "cell_type": "code",
   "execution_count": null,
   "metadata": {
    "collapsed": true
   },
   "outputs": [],
   "source": [
    "criterion = 'mse'\n",
    "max_depth = None\n",
    "max_features = 0.9"
   ]
  },
  {
   "cell_type": "markdown",
   "metadata": {},
   "source": [
    "# Con un set de validacion"
   ]
  },
  {
   "cell_type": "code",
   "execution_count": null,
   "metadata": {
    "collapsed": true
   },
   "outputs": [],
   "source": [
    "X_train, X_test, y_train, y_test = train_test_split(propiedades.loc[:,columnas], \\\n",
    "                                        propiedades.loc[:,'price_aprox_usd'], test_size=0.2)\n",
    "X_train = pd.DataFrame(X_train).reset_index(drop = True)\n",
    "X_test = pd.DataFrame(X_test).reset_index(drop = True)"
   ]
  },
  {
   "cell_type": "code",
   "execution_count": null,
   "metadata": {},
   "outputs": [],
   "source": [
    "datos = []\n",
    "\n",
    "for i in range(len(X_train)): \n",
    "    x = []\n",
    "    for n in columnas:\n",
    "        x.append(X_train[n][i])\n",
    "    datos.append(obtener_lista_datos(x))\n",
    "    \n",
    "test = []\n",
    "\n",
    "for i in range(len(X_test)): \n",
    "    x = []\n",
    "    for n in columnas:\n",
    "        x.append(X_test[n][i])\n",
    "    test.append(obtener_lista_datos(x))"
   ]
  },
  {
   "cell_type": "code",
   "execution_count": null,
   "metadata": {},
   "outputs": [],
   "source": [
    "tree = DecisionTreeRegressor(criterion = criterion, max_depth = max_depth, max_features = max_features)\n",
    "    \n",
    "tree.fit(datos,y_train)\n",
    "precision = tree.score(test,y_test) * 100\n",
    "error = mean_squared_error(tree.predict(test), y_test)\n",
    "print(\"Precision = {:.2f} %,  Error = {:.0f}\".format(precision,error))"
   ]
  },
  {
   "cell_type": "markdown",
   "metadata": {},
   "source": [
    "# Con el set de pruebas"
   ]
  },
  {
   "cell_type": "code",
   "execution_count": null,
   "metadata": {
    "collapsed": true
   },
   "outputs": [],
   "source": [
    "set_entrenamiento_datos = propiedades.loc[:,columnas]\n",
    "set_entrenamiento_resultado = propiedades.loc[:,'price_aprox_usd']"
   ]
  },
  {
   "cell_type": "code",
   "execution_count": null,
   "metadata": {
    "collapsed": true
   },
   "outputs": [],
   "source": [
    "datos = []\n",
    "\n",
    "for i in range(len(set_entrenamiento_datos)): \n",
    "    x = []\n",
    "    for n in columnas:\n",
    "        x.append(set_entrenamiento_datos[n][i])\n",
    "    datos.append(obtener_lista_datos(x))"
   ]
  },
  {
   "cell_type": "code",
   "execution_count": null,
   "metadata": {
    "collapsed": true
   },
   "outputs": [],
   "source": [
    "arbol = DecisionTreeRegressor(criterion = criterion, max_depth = max_depth, max_features = max_features)\n",
    "\n",
    "arbol.fit(datos, set_entrenamiento_resultado)\n",
    "\n",
    "set_pruebas.loc[:,'price_usd'] = set_pruebas.loc[:,columnas].apply\\\n",
    "                            (lambda x: arbol.predict(obtener_lista_datos(x))[0],axis = 1)\n",
    "\n",
    "resultado = set_pruebas.loc[:,['id','price_usd']]\n",
    "\n",
    "resultado.to_csv('resultados/AlgoritmoFinal.csv', index = False)"
   ]
  },
  {
   "cell_type": "code",
   "execution_count": null,
   "metadata": {},
   "outputs": [],
   "source": [
    "fin = datetime.datetime.now()\n",
    "tiempo = fin - inicio\n",
    "print(\"Tardo {:.0f} minutos.\".format(tiempo.seconds / 60))"
   ]
  }
 ],
 "metadata": {
  "kernelspec": {
   "display_name": "Python 3",
   "language": "python",
   "name": "python3"
  },
  "language_info": {
   "codemirror_mode": {
    "name": "ipython",
    "version": 3
   },
   "file_extension": ".py",
   "mimetype": "text/x-python",
   "name": "python",
   "nbconvert_exporter": "python",
   "pygments_lexer": "ipython3",
   "version": "3.6.1"
  }
 },
 "nbformat": 4,
 "nbformat_minor": 2
}
