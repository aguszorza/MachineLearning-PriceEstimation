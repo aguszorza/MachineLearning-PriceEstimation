{
 "cells": [
  {
   "cell_type": "code",
   "execution_count": 1,
   "metadata": {
    "collapsed": true
   },
   "outputs": [],
   "source": [
    "import pandas as pd\n",
    "import numpy as np\n",
    "import geopandas as gpd\n",
    "from shapely.geometry import Polygon, MultiPolygon, Point\n",
    "from geopandas import GeoDataFrame\n",
    "from sklearn import preprocessing\n",
    "from sklearn.neural_network import MLPRegressor\n",
    "from sklearn.metrics import mean_squared_error"
   ]
  },
  {
   "cell_type": "code",
   "execution_count": 45,
   "metadata": {
    "collapsed": true
   },
   "outputs": [],
   "source": [
    "def obtener_rmse(col_true, col_pred):\n",
    "    return mean_squared_error(col_true, col_pred)**0.5"
   ]
  },
  {
   "cell_type": "code",
   "execution_count": 3,
   "metadata": {
    "collapsed": true
   },
   "outputs": [],
   "source": [
    "propiedades = pd.read_csv('/home/agustin/Escritorio/escritorio/fiuba/Organizacion de datos/datos para el tp2/set_datos_propiedades.csv')"
   ]
  },
  {
   "cell_type": "code",
   "execution_count": 4,
   "metadata": {
    "collapsed": true
   },
   "outputs": [],
   "source": [
    "propiedades.drop(['lat','lon','fecha_de_publicacion', 'expenses', 'state_name',\\\n",
    "                  'distancia_villas', 'description'], axis = 1, inplace = True)\n",
    "propiedades = propiedades.loc[propiedades.superficie.notnull(),:]"
   ]
  },
  {
   "cell_type": "markdown",
   "metadata": {},
   "source": [
    "## Convierto los indices con preprocesamiento"
   ]
  },
  {
   "cell_type": "code",
   "execution_count": 5,
   "metadata": {
    "collapsed": true
   },
   "outputs": [],
   "source": [
    "barrios = {}\n",
    "for x in list(propiedades.place_name_encoded):\n",
    "    if x not in barrios:\n",
    "        barrios[x] = [x]"
   ]
  },
  {
   "cell_type": "code",
   "execution_count": 6,
   "metadata": {},
   "outputs": [
    {
     "data": {
      "text/plain": [
       "OneHotEncoder(categorical_features='all', dtype=<type 'numpy.float64'>,\n",
       "       handle_unknown='error', n_values='auto', sparse=True)"
      ]
     },
     "execution_count": 6,
     "metadata": {},
     "output_type": "execute_result"
    }
   ],
   "source": [
    "tipos = preprocessing.OneHotEncoder()\n",
    "tipos.fit([[0],[1],[2], [3]]) "
   ]
  },
  {
   "cell_type": "code",
   "execution_count": 7,
   "metadata": {
    "scrolled": true
   },
   "outputs": [
    {
     "data": {
      "text/plain": [
       "OneHotEncoder(categorical_features='all', dtype=<type 'numpy.float64'>,\n",
       "       handle_unknown='error', n_values='auto', sparse=True)"
      ]
     },
     "execution_count": 7,
     "metadata": {},
     "output_type": "execute_result"
    }
   ],
   "source": [
    "pre_barrios = preprocessing.OneHotEncoder()\n",
    "pre_barrios.fit(barrios.values())"
   ]
  },
  {
   "cell_type": "code",
   "execution_count": 8,
   "metadata": {
    "collapsed": true
   },
   "outputs": [],
   "source": [
    "propiedades.loc[:,'place_name_encoded_2'] = propiedades.loc[:,'place_name_encoded']\\\n",
    ".apply(lambda x: pre_barrios.transform([[x]]))"
   ]
  },
  {
   "cell_type": "code",
   "execution_count": 9,
   "metadata": {
    "collapsed": true
   },
   "outputs": [],
   "source": [
    "propiedades.loc[:,'property_type_encoded_2'] = propiedades.loc[:,'property_type_encoded']\\\n",
    ".apply(lambda x: tipos.transform([[x]]))"
   ]
  },
  {
   "cell_type": "code",
   "execution_count": 10,
   "metadata": {
    "collapsed": true
   },
   "outputs": [],
   "source": [
    "propiedades.to_csv('/home/agustin/Escritorio/datos_indice.csv', index = False)"
   ]
  },
  {
   "cell_type": "code",
   "execution_count": 11,
   "metadata": {
    "collapsed": true
   },
   "outputs": [],
   "source": [
    "entrenar = propiedades.loc[(propiedades.Year >= 2016) & ((propiedades.Month < 6) | (propiedades.Year < 2017)),:]"
   ]
  },
  {
   "cell_type": "code",
   "execution_count": 12,
   "metadata": {
    "collapsed": true
   },
   "outputs": [],
   "source": [
    "adivinar = propiedades.loc[(propiedades.Year == 2017) & (propiedades.Month == 6),:]"
   ]
  },
  {
   "cell_type": "markdown",
   "metadata": {},
   "source": [
    "## Perceptron sin indices de preprocesamiento"
   ]
  },
  {
   "cell_type": "code",
   "execution_count": 44,
   "metadata": {
    "collapsed": true
   },
   "outputs": [],
   "source": [
    "def adivinar_precio(fila, perceptron):\n",
    "    return  perceptron.predict([fila])[0]"
   ]
  },
  {
   "cell_type": "code",
   "execution_count": 7,
   "metadata": {
    "collapsed": true
   },
   "outputs": [],
   "source": [
    "condiciones = ['place_name_encoded', 'property_type_encoded', 'superficie', 'gimnasio',\\\n",
    "               'pileta', 'seguridad']\n",
    "\n",
    "precios = condiciones + ['price_aprox_usd']"
   ]
  },
  {
   "cell_type": "code",
   "execution_count": 41,
   "metadata": {
    "collapsed": true
   },
   "outputs": [],
   "source": [
    "funcion = ['adam', 'lbfgs', 'sgd']\n",
    "activacion = ['relu','identity', 'logistic', 'tanh']\n",
    "tolerancia = [1e-5, 1e-8, 1e-10]"
   ]
  },
  {
   "cell_type": "code",
   "execution_count": null,
   "metadata": {
    "collapsed": true
   },
   "outputs": [],
   "source": [
    "impresion = []\n",
    "for i in range (0, len(funcion)):\n",
    "    for j in range(0, len(activacion)):\n",
    "        for k in range(0, len(tolerancia)):\n",
    "            perceptron = MLPRegressor(solver = funcion[i], activation = activacion[j], tol = tolerancia[k])\n",
    "            perceptron.fit(entrenar.loc[:,condiciones], entrenar.loc[:, 'price_aprox_usd'])\n",
    "            adivinar.loc[:,'precio_adivinado_perceptron'] = adivinar.loc[:, condiciones]\\\n",
    "            .apply(lambda x: adivinar_precio(x, perceptron), axis = 1)\n",
    "            error = obtener_rmse(adivinar.loc[:,'price_aprox_usd'], adivinar.loc[:,'precio_adivinado_perceptron'])\n",
    "            impresion.append((funcion[i], activacion[j], tolerancia[k], error))"
   ]
  },
  {
   "cell_type": "code",
   "execution_count": 21,
   "metadata": {},
   "outputs": [
    {
     "name": "stdout",
     "output_type": "stream",
     "text": [
      "Funcion = adam , activacion = relu, tolerancia = 1e-05, error = 2856923.30569\n",
      "Funcion = adam , activacion = relu, tolerancia = 1e-08, error = 7885404.28854\n",
      "Funcion = adam , activacion = relu, tolerancia = 1e-10, error = 983892.01563\n",
      "Funcion = adam , activacion = identity, tolerancia = 1e-05, error = 8068786.87283\n",
      "Funcion = adam , activacion = identity, tolerancia = 1e-08, error = 6847308.97947\n",
      "Funcion = adam , activacion = identity, tolerancia = 1e-10, error = 7189725.68045\n",
      "Funcion = adam , activacion = logistic, tolerancia = 1e-05, error = 446011.124687\n",
      "Funcion = adam , activacion = logistic, tolerancia = 1e-08, error = 446001.878031\n",
      "Funcion = adam , activacion = logistic, tolerancia = 1e-10, error = 446003.376714\n",
      "Funcion = adam , activacion = tanh, tolerancia = 1e-05, error = 445965.857984\n",
      "Funcion = adam , activacion = tanh, tolerancia = 1e-08, error = 445964.564555\n",
      "Funcion = adam , activacion = tanh, tolerancia = 1e-10, error = 445965.56429\n",
      "Funcion = lbfgs , activacion = relu, tolerancia = 1e-05, error = 408879.078082\n",
      "Funcion = lbfgs , activacion = relu, tolerancia = 1e-08, error = 405035.572014\n",
      "Funcion = lbfgs , activacion = relu, tolerancia = 1e-10, error = 474906.293364\n",
      "Funcion = lbfgs , activacion = identity, tolerancia = 1e-05, error = 405465.524485\n",
      "Funcion = lbfgs , activacion = identity, tolerancia = 1e-08, error = 405468.764146\n",
      "Funcion = lbfgs , activacion = identity, tolerancia = 1e-10, error = 405470.477971\n",
      "Funcion = lbfgs , activacion = logistic, tolerancia = 1e-05, error = 382700.228527\n",
      "Funcion = lbfgs , activacion = logistic, tolerancia = 1e-08, error = 365530.991054\n",
      "Funcion = lbfgs , activacion = logistic, tolerancia = 1e-10, error = 384512.851827\n",
      "Funcion = lbfgs , activacion = tanh, tolerancia = 1e-05, error = 382111.45821\n",
      "Funcion = lbfgs , activacion = tanh, tolerancia = 1e-08, error = 386310.546273\n",
      "Funcion = lbfgs , activacion = tanh, tolerancia = 1e-10, error = 380269.619921\n",
      "Funcion = sgd , activacion = relu, tolerancia = 1e-05, error = 389848.222958\n",
      "Funcion = sgd , activacion = relu, tolerancia = 1e-08, error = 389792.444267\n",
      "Funcion = sgd , activacion = relu, tolerancia = 1e-10, error = 389850.929682\n"
     ]
    }
   ],
   "source": [
    "for i in range (0, len(impresion)):\n",
    "    print(\"Funcion = {} , activacion = {}, tolerancia = {}, error = {}\".format(impresion[i][0], impresion[i][1], impresion[i][2], impresion[i][3]))"
   ]
  },
  {
   "cell_type": "markdown",
   "metadata": {},
   "source": [
    "#### Algunos de sgd no corrieron porque tiraron error. El mejor resultado se obtuvo con solver = lbfgs, activation = logistic y tol = 1e-8"
   ]
  },
  {
   "cell_type": "markdown",
   "metadata": {},
   "source": [
    "## Corro nuevamente lbfgs pero con iteraciones de aprendizaje"
   ]
  },
  {
   "cell_type": "code",
   "execution_count": 46,
   "metadata": {
    "collapsed": true
   },
   "outputs": [],
   "source": [
    "impresion_2 = []\n",
    "for k in range(0, len(tolerancia)):\n",
    "        perceptron = MLPRegressor(solver = 'lbfgs', activation = 'logistic', tol = tolerancia[k], warm_start = True)\n",
    "        for j in range(15):\n",
    "            perceptron.fit(entrenar.loc[:,condiciones], entrenar.loc[:, 'price_aprox_usd'])\n",
    "        adivinar.loc[:,'precio_adivinado_perceptron'] = adivinar.loc[:, condiciones]\\\n",
    "        .apply(lambda x: adivinar_precio(x, perceptron), axis = 1)\n",
    "        error = obtener_rmse(adivinar.loc[:,'price_aprox_usd'], adivinar.loc[:,'precio_adivinado_perceptron'])\n",
    "        impresion_2.append(('lbfgs', 'logistic', tolerancia[k], error))"
   ]
  },
  {
   "cell_type": "code",
   "execution_count": 47,
   "metadata": {},
   "outputs": [
    {
     "name": "stdout",
     "output_type": "stream",
     "text": [
      "Funcion = lbfgs , activacion = logistic, tolerancia = 1e-05, error = 374794.999012\n",
      "Funcion = lbfgs , activacion = logistic, tolerancia = 1e-08, error = 387524.296117\n",
      "Funcion = lbfgs , activacion = logistic, tolerancia = 1e-10, error = 383514.002996\n"
     ]
    }
   ],
   "source": [
    "for i in range (0, len(impresion_2)):\n",
    "    print(\"Funcion = {} , activacion = {}, tolerancia = {}, error = {}\".format(impresion_2[i][0], impresion_2[i][1], impresion_2[i][2], impresion_2[i][3]))\n",
    "    #print(\"Funcion = {} , activacion = {}, tolerancia = {}, error = {}\".format(impresion_2[i]))"
   ]
  },
  {
   "cell_type": "markdown",
   "metadata": {},
   "source": [
    "#### Despues veo de ejecutar con los indices de preprocesamiento. Pero seguro tarde mucho tiempo mas"
   ]
  },
  {
   "cell_type": "markdown",
   "metadata": {},
   "source": [
    "## Calculo con los verdaderos datos con indices simples"
   ]
  },
  {
   "cell_type": "code",
   "execution_count": 4,
   "metadata": {
    "collapsed": true
   },
   "outputs": [],
   "source": [
    "entrenar = propiedades.loc[(propiedades.Year >= 2016) & ((propiedades.Month >= 6) | (propiedades.Year == 2017)),:]"
   ]
  },
  {
   "cell_type": "code",
   "execution_count": 8,
   "metadata": {
    "collapsed": true
   },
   "outputs": [],
   "source": [
    "perceptron = MLPRegressor(solver = 'lbfgs', activation = 'logistic', tol=1e-10,  warm_start = True)\n",
    "for k in range(6):\n",
    "    perceptron.fit(entrenar.loc[:,condiciones], entrenar.loc[:, 'price_aprox_usd'])"
   ]
  },
  {
   "cell_type": "code",
   "execution_count": 9,
   "metadata": {
    "collapsed": true
   },
   "outputs": [],
   "source": [
    "analizar = pd.read_csv('/home/agustin/Escritorio/escritorio/fiuba/Organizacion de datos/datos para el tp2/properati_dataset_modificado.csv')"
   ]
  },
  {
   "cell_type": "code",
   "execution_count": 10,
   "metadata": {},
   "outputs": [
    {
     "data": {
      "text/plain": [
       "Index([u'id', u'created_on', u'property_type', u'place_name',\n",
       "       u'place_with_parent_names', u'state_name', u'lat', u'lon',\n",
       "       u'surface_total_in_m2', u'surface_covered_in_m2', u'floor', u'rooms',\n",
       "       u'expenses', u'description', u'seguridad', u'gimnasio', u'aire',\n",
       "       u'pileta', u'cochera', u'superficie', u'property_type_encoded',\n",
       "       u'place_name_encoded'],\n",
       "      dtype='object')"
      ]
     },
     "execution_count": 10,
     "metadata": {},
     "output_type": "execute_result"
    }
   ],
   "source": [
    "analizar.keys()"
   ]
  },
  {
   "cell_type": "code",
   "execution_count": 12,
   "metadata": {
    "collapsed": true
   },
   "outputs": [],
   "source": [
    "analizar.loc[:,'price_usd'] = analizar.loc[:,condiciones].apply(lambda x: perceptron.predict([x])[0],axis = 1)"
   ]
  },
  {
   "cell_type": "code",
   "execution_count": 14,
   "metadata": {},
   "outputs": [
    {
     "data": {
      "text/plain": [
       "count     14166.000000\n",
       "mean     273737.920575\n",
       "std       13839.190497\n",
       "min      257696.031603\n",
       "25%      263776.557855\n",
       "50%      263816.677580\n",
       "75%      282017.209480\n",
       "max      296299.883654\n",
       "Name: price_usd, dtype: float64"
      ]
     },
     "execution_count": 14,
     "metadata": {},
     "output_type": "execute_result"
    }
   ],
   "source": [
    "analizar.price_usd.describe()"
   ]
  },
  {
   "cell_type": "code",
   "execution_count": 16,
   "metadata": {
    "collapsed": true
   },
   "outputs": [],
   "source": [
    "resultado = analizar.loc[:,['id','price_usd']]"
   ]
  },
  {
   "cell_type": "code",
   "execution_count": 17,
   "metadata": {
    "collapsed": true
   },
   "outputs": [],
   "source": [
    "resultado.to_csv('Perceptron_resultados.csv', index = False)"
   ]
  },
  {
   "cell_type": "markdown",
   "metadata": {},
   "source": [
    "## Con preprocesamiento de standarizacion"
   ]
  },
  {
   "cell_type": "code",
   "execution_count": 5,
   "metadata": {
    "collapsed": true
   },
   "outputs": [],
   "source": [
    "entrenar = propiedades.loc[((propiedades.Year == 2016) & (propiedades.Month >= 6)) | ((propiedades.Year == 2017) & (propiedades.Month < 6)),:]\n",
    "adivinar = propiedades.loc[(propiedades.Year == 2017) & (propiedades.Month >= 6),:]"
   ]
  },
  {
   "cell_type": "code",
   "execution_count": 11,
   "metadata": {},
   "outputs": [
    {
     "data": {
      "text/plain": [
       "StandardScaler(copy=True, with_mean=True, with_std=True)"
      ]
     },
     "execution_count": 11,
     "metadata": {},
     "output_type": "execute_result"
    }
   ],
   "source": [
    "from sklearn.preprocessing import StandardScaler  \n",
    "scaler = StandardScaler()  \n",
    "scaler.fit(entrenar.loc[:,condiciones])  \n",
    "#X_train = scaler.transform(condiciones)  "
   ]
  },
  {
   "cell_type": "code",
   "execution_count": 40,
   "metadata": {
    "collapsed": true
   },
   "outputs": [],
   "source": [
    "perceptron = MLPRegressor(solver = 'lbfgs', activation = 'logistic', tol=1e-10,  warm_start = True)\n",
    "for k in range(6):\n",
    "    perceptron.fit(scaler.transform(entrenar.loc[:,condiciones]), entrenar.loc[:, 'price_aprox_usd'])\n",
    "    print(k)"
   ]
  },
  {
   "cell_type": "code",
   "execution_count": 34,
   "metadata": {},
   "outputs": [
    {
     "data": {
      "text/plain": [
       "371377.69918790885"
      ]
     },
     "execution_count": 34,
     "metadata": {},
     "output_type": "execute_result"
    }
   ],
   "source": [
    "adivinar.loc[:,'precio_adivinado_perceptron'] = adivinar.loc[:, condiciones]\\\n",
    ".apply(lambda x: perceptron.predict(scaler.transform([x]))[0],axis = 1)\n",
    "obtener_rmse(adivinar.loc[:,'price_aprox_usd'], adivinar.loc[:,'precio_adivinado_perceptron'])"
   ]
  },
  {
   "cell_type": "code",
   "execution_count": 35,
   "metadata": {},
   "outputs": [
    {
     "data": {
      "text/plain": [
       "MLPRegressor(activation='logistic', alpha=0.0001, batch_size='auto',\n",
       "       beta_1=0.9, beta_2=0.999, early_stopping=False, epsilon=1e-08,\n",
       "       hidden_layer_sizes=(100,), learning_rate='constant',\n",
       "       learning_rate_init=0.001, max_iter=200, momentum=0.9,\n",
       "       nesterovs_momentum=True, power_t=0.5, random_state=None,\n",
       "       shuffle=True, solver='lbfgs', tol=1e-10, validation_fraction=0.1,\n",
       "       verbose=False, warm_start=True)"
      ]
     },
     "execution_count": 35,
     "metadata": {},
     "output_type": "execute_result"
    }
   ],
   "source": [
    "perceptron.fit(scaler.transform(adivinar.loc[:,condiciones]), adivinar.loc[:, 'price_aprox_usd'])"
   ]
  },
  {
   "cell_type": "code",
   "execution_count": 36,
   "metadata": {},
   "outputs": [
    {
     "data": {
      "text/plain": [
       "371163.71740396123"
      ]
     },
     "execution_count": 36,
     "metadata": {},
     "output_type": "execute_result"
    }
   ],
   "source": [
    "adivinar.loc[:,'precio_adivinado_perceptron'] = adivinar.loc[:, condiciones]\\\n",
    ".apply(lambda x: perceptron.predict(scaler.transform([x]))[0],axis = 1)\n",
    "obtener_rmse(adivinar.loc[:,'price_aprox_usd'], adivinar.loc[:,'precio_adivinado_perceptron'])"
   ]
  },
  {
   "cell_type": "code",
   "execution_count": 37,
   "metadata": {},
   "outputs": [
    {
     "data": {
      "text/plain": [
       "count     84605.000000\n",
       "mean     275410.730227\n",
       "std      111632.520567\n",
       "min       51843.428600\n",
       "25%      179065.385049\n",
       "50%      275235.405024\n",
       "75%      368577.680155\n",
       "max      484760.297554\n",
       "Name: precio_adivinado_perceptron, dtype: float64"
      ]
     },
     "execution_count": 37,
     "metadata": {},
     "output_type": "execute_result"
    }
   ],
   "source": [
    "adivinar.precio_adivinado_perceptron.describe()"
   ]
  },
  {
   "cell_type": "code",
   "execution_count": 25,
   "metadata": {
    "collapsed": true
   },
   "outputs": [],
   "source": [
    "analizar = pd.read_csv('/home/agustin/Escritorio/escritorio/fiuba/Organizacion de datos/datos para el tp2/properati_dataset_modificado.csv')"
   ]
  },
  {
   "cell_type": "code",
   "execution_count": 38,
   "metadata": {
    "collapsed": true
   },
   "outputs": [],
   "source": [
    "analizar.loc[:,'price_usd'] = analizar.loc[:,condiciones]\\\n",
    ".apply(lambda x: abs(perceptron.predict(scaler.transform([x]))[0]),axis = 1)"
   ]
  },
  {
   "cell_type": "code",
   "execution_count": 39,
   "metadata": {},
   "outputs": [
    {
     "data": {
      "text/plain": [
       "count     14166.000000\n",
       "mean     241770.056467\n",
       "std       95024.671605\n",
       "min       51843.637336\n",
       "25%      179065.385049\n",
       "50%      204477.225855\n",
       "75%      325592.993634\n",
       "max      478662.318505\n",
       "Name: price_usd, dtype: float64"
      ]
     },
     "execution_count": 39,
     "metadata": {},
     "output_type": "execute_result"
    }
   ],
   "source": [
    "analizar.price_usd.describe()"
   ]
  },
  {
   "cell_type": "code",
   "execution_count": 30,
   "metadata": {
    "collapsed": true
   },
   "outputs": [],
   "source": [
    "resultado = analizar.loc[:,['id','price_usd']]"
   ]
  },
  {
   "cell_type": "code",
   "execution_count": 31,
   "metadata": {
    "collapsed": true
   },
   "outputs": [],
   "source": [
    "resultado.to_csv('Perceptron_resultados_con_standard_scaler.csv', index = False)"
   ]
  },
  {
   "cell_type": "markdown",
   "metadata": {},
   "source": [
    "## Perceptron con los indices de preprocesamiento"
   ]
  },
  {
   "cell_type": "code",
   "execution_count": 13,
   "metadata": {
    "collapsed": true
   },
   "outputs": [],
   "source": [
    "def adivinar_precio_indice(fila, perceptron):\n",
    "    barrio = fila[0]\n",
    "    tipo = fila[1]\n",
    "    columnas = fila[2:]\n",
    "    l =  list(barrio.toarray()[0]) + list(tipo.toarray()[0]) + columnas\n",
    "    return  perceptron.predict([l])[0]"
   ]
  },
  {
   "cell_type": "code",
   "execution_count": 14,
   "metadata": {
    "collapsed": true
   },
   "outputs": [],
   "source": [
    "condiciones = ['place_name_encoded_2', 'property_type_encoded_2', 'superficie', 'gimnasio',\\\n",
    "               'pileta', 'seguridad']\n",
    "\n",
    "precios = condiciones + ['price_aprox_usd']"
   ]
  },
  {
   "cell_type": "code",
   "execution_count": 15,
   "metadata": {
    "collapsed": true
   },
   "outputs": [],
   "source": [
    "funcion = ['adam', 'lbfgs', 'sgd']\n",
    "activacion = ['relu','identity', 'logistic', 'tanh']\n",
    "tolerancia = [1e-5, 1e-8, 1e-10]\n",
    "impresion = []\n",
    "#max_iter = 500\n",
    "#warm....."
   ]
  },
  {
   "cell_type": "code",
   "execution_count": null,
   "metadata": {
    "collapsed": true
   },
   "outputs": [],
   "source": [
    "X_true = []\n",
    "Y_true = []\n",
    "entrenar.reset_index(drop = True, inplace = True)\n",
    "for i in range(0,len(entrenar)):\n",
    "    if np.isnan(entrenar.price_aprox_usd[i]):\n",
    "        continue\n",
    "    l = list(entrenar.place_name_encoded_2[i].toarray()[0]) + list(entrenar.property_type_encoded_2[i].toarray()[0])\n",
    "    l.append(entrenar.superficie[i])\n",
    "    l.append(entrenar.gimnasio[i])\n",
    "    l.append(entrenar.pileta[i])\n",
    "    l.append(entrenar.seguridad[i])\n",
    "    X_true.append(l)\n",
    "    Y_true.append(entrenar.price_aprox_usd[i])"
   ]
  },
  {
   "cell_type": "code",
   "execution_count": 2,
   "metadata": {},
   "outputs": [
    {
     "ename": "NameError",
     "evalue": "name 'propiedades' is not defined",
     "output_type": "error",
     "traceback": [
      "\u001b[0;31m---------------------------------------------------------------------------\u001b[0m",
      "\u001b[0;31mNameError\u001b[0m                                 Traceback (most recent call last)",
      "\u001b[0;32m<ipython-input-2-68f46bd41add>\u001b[0m in \u001b[0;36m<module>\u001b[0;34m()\u001b[0m\n\u001b[0;32m----> 1\u001b[0;31m \u001b[0mpropiedades\u001b[0m\u001b[0;34m.\u001b[0m\u001b[0mhead\u001b[0m\u001b[0;34m(\u001b[0m\u001b[0;34m)\u001b[0m\u001b[0;34m\u001b[0m\u001b[0m\n\u001b[0m",
      "\u001b[0;31mNameError\u001b[0m: name 'propiedades' is not defined"
     ]
    }
   ],
   "source": [
    "propiedades.head()"
   ]
  },
  {
   "cell_type": "code",
   "execution_count": 16,
   "metadata": {},
   "outputs": [
    {
     "ename": "ValueError",
     "evalue": "setting an array element with a sequence.",
     "output_type": "error",
     "traceback": [
      "\u001b[0;31m---------------------------------------------------------------------------\u001b[0m",
      "\u001b[0;31mValueError\u001b[0m                                Traceback (most recent call last)",
      "\u001b[0;32m<ipython-input-16-7f0e34722ab9>\u001b[0m in \u001b[0;36m<module>\u001b[0;34m()\u001b[0m\n\u001b[1;32m      3\u001b[0m         \u001b[0;32mfor\u001b[0m \u001b[0mk\u001b[0m \u001b[0;32min\u001b[0m \u001b[0mrange\u001b[0m\u001b[0;34m(\u001b[0m\u001b[0;36m0\u001b[0m\u001b[0;34m,\u001b[0m \u001b[0mlen\u001b[0m\u001b[0;34m(\u001b[0m\u001b[0mtolerancia\u001b[0m\u001b[0;34m)\u001b[0m\u001b[0;34m)\u001b[0m\u001b[0;34m:\u001b[0m\u001b[0;34m\u001b[0m\u001b[0m\n\u001b[1;32m      4\u001b[0m             \u001b[0mperceptron\u001b[0m \u001b[0;34m=\u001b[0m \u001b[0mMLPRegressor\u001b[0m\u001b[0;34m(\u001b[0m\u001b[0msolver\u001b[0m \u001b[0;34m=\u001b[0m \u001b[0mfuncion\u001b[0m\u001b[0;34m[\u001b[0m\u001b[0mi\u001b[0m\u001b[0;34m]\u001b[0m\u001b[0;34m,\u001b[0m \u001b[0mactivation\u001b[0m \u001b[0;34m=\u001b[0m \u001b[0mactivacion\u001b[0m\u001b[0;34m[\u001b[0m\u001b[0mj\u001b[0m\u001b[0;34m]\u001b[0m\u001b[0;34m,\u001b[0m \u001b[0mtol\u001b[0m \u001b[0;34m=\u001b[0m \u001b[0mtolerancia\u001b[0m\u001b[0;34m[\u001b[0m\u001b[0mk\u001b[0m\u001b[0;34m]\u001b[0m\u001b[0;34m)\u001b[0m\u001b[0;34m\u001b[0m\u001b[0m\n\u001b[0;32m----> 5\u001b[0;31m             \u001b[0mperceptron\u001b[0m\u001b[0;34m.\u001b[0m\u001b[0mfit\u001b[0m\u001b[0;34m(\u001b[0m\u001b[0mpropiedades\u001b[0m\u001b[0;34m.\u001b[0m\u001b[0mloc\u001b[0m\u001b[0;34m[\u001b[0m\u001b[0;34m:\u001b[0m\u001b[0;34m,\u001b[0m\u001b[0mcondiciones\u001b[0m\u001b[0;34m]\u001b[0m\u001b[0;34m,\u001b[0m \u001b[0mpropiedades\u001b[0m\u001b[0;34m.\u001b[0m\u001b[0mloc\u001b[0m\u001b[0;34m[\u001b[0m\u001b[0;34m:\u001b[0m\u001b[0;34m,\u001b[0m \u001b[0;34m'price_aprox_usd'\u001b[0m\u001b[0;34m]\u001b[0m\u001b[0;34m)\u001b[0m\u001b[0;34m\u001b[0m\u001b[0m\n\u001b[0m\u001b[1;32m      6\u001b[0m             \u001b[0madivinar\u001b[0m\u001b[0;34m.\u001b[0m\u001b[0mloc\u001b[0m\u001b[0;34m[\u001b[0m\u001b[0;34m:\u001b[0m\u001b[0;34m,\u001b[0m\u001b[0;34m'precio_adivinado_perceptron'\u001b[0m\u001b[0;34m]\u001b[0m \u001b[0;34m=\u001b[0m \u001b[0madivinar\u001b[0m\u001b[0;34m.\u001b[0m\u001b[0mloc\u001b[0m\u001b[0;34m[\u001b[0m\u001b[0;34m:\u001b[0m\u001b[0;34m,\u001b[0m \u001b[0mcondiciones\u001b[0m\u001b[0;34m]\u001b[0m            \u001b[0;34m.\u001b[0m\u001b[0mapply\u001b[0m\u001b[0;34m(\u001b[0m\u001b[0;32mlambda\u001b[0m \u001b[0mx\u001b[0m\u001b[0;34m:\u001b[0m \u001b[0madivinar_precio_indice\u001b[0m\u001b[0;34m(\u001b[0m\u001b[0mx\u001b[0m\u001b[0;34m,\u001b[0m \u001b[0mperceptron\u001b[0m\u001b[0;34m)\u001b[0m\u001b[0;34m,\u001b[0m \u001b[0maxis\u001b[0m \u001b[0;34m=\u001b[0m \u001b[0;36m1\u001b[0m\u001b[0;34m)\u001b[0m\u001b[0;34m\u001b[0m\u001b[0m\n\u001b[1;32m      7\u001b[0m             \u001b[0merror\u001b[0m \u001b[0;34m=\u001b[0m \u001b[0mobtener_rmse\u001b[0m\u001b[0;34m(\u001b[0m\u001b[0mpropiedades\u001b[0m\u001b[0;34m.\u001b[0m\u001b[0mloc\u001b[0m\u001b[0;34m[\u001b[0m\u001b[0;34m:\u001b[0m\u001b[0;34m,\u001b[0m\u001b[0;34m'price_aprox_usd'\u001b[0m\u001b[0;34m]\u001b[0m\u001b[0;34m,\u001b[0m \u001b[0mpropiedades\u001b[0m\u001b[0;34m.\u001b[0m\u001b[0mloc\u001b[0m\u001b[0;34m[\u001b[0m\u001b[0;34m:\u001b[0m\u001b[0;34m,\u001b[0m\u001b[0;34m'precio_adivinado_perceptron'\u001b[0m\u001b[0;34m]\u001b[0m\u001b[0;34m)\u001b[0m\u001b[0;34m\u001b[0m\u001b[0m\n",
      "\u001b[0;32m/usr/local/lib/python2.7/dist-packages/sklearn/neural_network/multilayer_perceptron.pyc\u001b[0m in \u001b[0;36mfit\u001b[0;34m(self, X, y)\u001b[0m\n\u001b[1;32m    618\u001b[0m         \u001b[0mself\u001b[0m \u001b[0;34m:\u001b[0m \u001b[0mreturns\u001b[0m \u001b[0ma\u001b[0m \u001b[0mtrained\u001b[0m \u001b[0mMLP\u001b[0m \u001b[0mmodel\u001b[0m\u001b[0;34m.\u001b[0m\u001b[0;34m\u001b[0m\u001b[0m\n\u001b[1;32m    619\u001b[0m         \"\"\"\n\u001b[0;32m--> 620\u001b[0;31m         \u001b[0;32mreturn\u001b[0m \u001b[0mself\u001b[0m\u001b[0;34m.\u001b[0m\u001b[0m_fit\u001b[0m\u001b[0;34m(\u001b[0m\u001b[0mX\u001b[0m\u001b[0;34m,\u001b[0m \u001b[0my\u001b[0m\u001b[0;34m,\u001b[0m \u001b[0mincremental\u001b[0m\u001b[0;34m=\u001b[0m\u001b[0mFalse\u001b[0m\u001b[0;34m)\u001b[0m\u001b[0;34m\u001b[0m\u001b[0m\n\u001b[0m\u001b[1;32m    621\u001b[0m \u001b[0;34m\u001b[0m\u001b[0m\n\u001b[1;32m    622\u001b[0m     \u001b[0;34m@\u001b[0m\u001b[0mproperty\u001b[0m\u001b[0;34m\u001b[0m\u001b[0m\n",
      "\u001b[0;32m/usr/local/lib/python2.7/dist-packages/sklearn/neural_network/multilayer_perceptron.pyc\u001b[0m in \u001b[0;36m_fit\u001b[0;34m(self, X, y, incremental)\u001b[0m\n\u001b[1;32m    329\u001b[0m                              hidden_layer_sizes)\n\u001b[1;32m    330\u001b[0m \u001b[0;34m\u001b[0m\u001b[0m\n\u001b[0;32m--> 331\u001b[0;31m         \u001b[0mX\u001b[0m\u001b[0;34m,\u001b[0m \u001b[0my\u001b[0m \u001b[0;34m=\u001b[0m \u001b[0mself\u001b[0m\u001b[0;34m.\u001b[0m\u001b[0m_validate_input\u001b[0m\u001b[0;34m(\u001b[0m\u001b[0mX\u001b[0m\u001b[0;34m,\u001b[0m \u001b[0my\u001b[0m\u001b[0;34m,\u001b[0m \u001b[0mincremental\u001b[0m\u001b[0;34m)\u001b[0m\u001b[0;34m\u001b[0m\u001b[0m\n\u001b[0m\u001b[1;32m    332\u001b[0m         \u001b[0mn_samples\u001b[0m\u001b[0;34m,\u001b[0m \u001b[0mn_features\u001b[0m \u001b[0;34m=\u001b[0m \u001b[0mX\u001b[0m\u001b[0;34m.\u001b[0m\u001b[0mshape\u001b[0m\u001b[0;34m\u001b[0m\u001b[0m\n\u001b[1;32m    333\u001b[0m \u001b[0;34m\u001b[0m\u001b[0m\n",
      "\u001b[0;32m/usr/local/lib/python2.7/dist-packages/sklearn/neural_network/multilayer_perceptron.pyc\u001b[0m in \u001b[0;36m_validate_input\u001b[0;34m(self, X, y, incremental)\u001b[0m\n\u001b[1;32m   1302\u001b[0m     \u001b[0;32mdef\u001b[0m \u001b[0m_validate_input\u001b[0m\u001b[0;34m(\u001b[0m\u001b[0mself\u001b[0m\u001b[0;34m,\u001b[0m \u001b[0mX\u001b[0m\u001b[0;34m,\u001b[0m \u001b[0my\u001b[0m\u001b[0;34m,\u001b[0m \u001b[0mincremental\u001b[0m\u001b[0;34m)\u001b[0m\u001b[0;34m:\u001b[0m\u001b[0;34m\u001b[0m\u001b[0m\n\u001b[1;32m   1303\u001b[0m         X, y = check_X_y(X, y, accept_sparse=['csr', 'csc', 'coo'],\n\u001b[0;32m-> 1304\u001b[0;31m                          multi_output=True, y_numeric=True)\n\u001b[0m\u001b[1;32m   1305\u001b[0m         \u001b[0;32mif\u001b[0m \u001b[0my\u001b[0m\u001b[0;34m.\u001b[0m\u001b[0mndim\u001b[0m \u001b[0;34m==\u001b[0m \u001b[0;36m2\u001b[0m \u001b[0;32mand\u001b[0m \u001b[0my\u001b[0m\u001b[0;34m.\u001b[0m\u001b[0mshape\u001b[0m\u001b[0;34m[\u001b[0m\u001b[0;36m1\u001b[0m\u001b[0;34m]\u001b[0m \u001b[0;34m==\u001b[0m \u001b[0;36m1\u001b[0m\u001b[0;34m:\u001b[0m\u001b[0;34m\u001b[0m\u001b[0m\n\u001b[1;32m   1306\u001b[0m             \u001b[0my\u001b[0m \u001b[0;34m=\u001b[0m \u001b[0mcolumn_or_1d\u001b[0m\u001b[0;34m(\u001b[0m\u001b[0my\u001b[0m\u001b[0;34m,\u001b[0m \u001b[0mwarn\u001b[0m\u001b[0;34m=\u001b[0m\u001b[0mTrue\u001b[0m\u001b[0;34m)\u001b[0m\u001b[0;34m\u001b[0m\u001b[0m\n",
      "\u001b[0;32m/usr/local/lib/python2.7/dist-packages/sklearn/utils/validation.pyc\u001b[0m in \u001b[0;36mcheck_X_y\u001b[0;34m(X, y, accept_sparse, dtype, order, copy, force_all_finite, ensure_2d, allow_nd, multi_output, ensure_min_samples, ensure_min_features, y_numeric, warn_on_dtype, estimator)\u001b[0m\n\u001b[1;32m    540\u001b[0m     X = check_array(X, accept_sparse, dtype, order, copy, force_all_finite,\n\u001b[1;32m    541\u001b[0m                     \u001b[0mensure_2d\u001b[0m\u001b[0;34m,\u001b[0m \u001b[0mallow_nd\u001b[0m\u001b[0;34m,\u001b[0m \u001b[0mensure_min_samples\u001b[0m\u001b[0;34m,\u001b[0m\u001b[0;34m\u001b[0m\u001b[0m\n\u001b[0;32m--> 542\u001b[0;31m                     ensure_min_features, warn_on_dtype, estimator)\n\u001b[0m\u001b[1;32m    543\u001b[0m     \u001b[0;32mif\u001b[0m \u001b[0mmulti_output\u001b[0m\u001b[0;34m:\u001b[0m\u001b[0;34m\u001b[0m\u001b[0m\n\u001b[1;32m    544\u001b[0m         y = check_array(y, 'csr', force_all_finite=True, ensure_2d=False,\n",
      "\u001b[0;32m/usr/local/lib/python2.7/dist-packages/sklearn/utils/validation.pyc\u001b[0m in \u001b[0;36mcheck_array\u001b[0;34m(array, accept_sparse, dtype, order, copy, force_all_finite, ensure_2d, allow_nd, ensure_min_samples, ensure_min_features, warn_on_dtype, estimator)\u001b[0m\n\u001b[1;32m    415\u001b[0m         \u001b[0;31m# make sure we actually converted to numeric:\u001b[0m\u001b[0;34m\u001b[0m\u001b[0;34m\u001b[0m\u001b[0m\n\u001b[1;32m    416\u001b[0m         \u001b[0;32mif\u001b[0m \u001b[0mdtype_numeric\u001b[0m \u001b[0;32mand\u001b[0m \u001b[0marray\u001b[0m\u001b[0;34m.\u001b[0m\u001b[0mdtype\u001b[0m\u001b[0;34m.\u001b[0m\u001b[0mkind\u001b[0m \u001b[0;34m==\u001b[0m \u001b[0;34m\"O\"\u001b[0m\u001b[0;34m:\u001b[0m\u001b[0;34m\u001b[0m\u001b[0m\n\u001b[0;32m--> 417\u001b[0;31m             \u001b[0marray\u001b[0m \u001b[0;34m=\u001b[0m \u001b[0marray\u001b[0m\u001b[0;34m.\u001b[0m\u001b[0mastype\u001b[0m\u001b[0;34m(\u001b[0m\u001b[0mnp\u001b[0m\u001b[0;34m.\u001b[0m\u001b[0mfloat64\u001b[0m\u001b[0;34m)\u001b[0m\u001b[0;34m\u001b[0m\u001b[0m\n\u001b[0m\u001b[1;32m    418\u001b[0m         \u001b[0;32mif\u001b[0m \u001b[0;32mnot\u001b[0m \u001b[0mallow_nd\u001b[0m \u001b[0;32mand\u001b[0m \u001b[0marray\u001b[0m\u001b[0;34m.\u001b[0m\u001b[0mndim\u001b[0m \u001b[0;34m>=\u001b[0m \u001b[0;36m3\u001b[0m\u001b[0;34m:\u001b[0m\u001b[0;34m\u001b[0m\u001b[0m\n\u001b[1;32m    419\u001b[0m             raise ValueError(\"Found array with dim %d. %s expected <= 2.\"\n",
      "\u001b[0;31mValueError\u001b[0m: setting an array element with a sequence."
     ]
    }
   ],
   "source": [
    "for i in range (0, len(funcion)):\n",
    "    for j in range(0, len(activacion)):\n",
    "        for k in range(0, len(tolerancia)):\n",
    "            perceptron = MLPRegressor(solver = funcion[i], activation = activacion[j], tol = tolerancia[k])\n",
    "            perceptron.fit(entrenar.loc[:,condiciones], entrenar.loc[:, 'price_aprox_usd'])\n",
    "            adivinar.loc[:,'precio_adivinado_perceptron'] = adivinar.loc[:, condiciones]\\\n",
    "            .apply(lambda x: adivinar_precio(x, perceptron), axis = 1)\n",
    "            error = obtener_rmse(adivinar.loc[:,'price_aprox_usd'], adivinar.loc[:,'precio_adivinado_perceptron'])\n",
    "            impresion.append((funcion[i], activacion[j], tolerancia[k], error))"
   ]
  },
  {
   "cell_type": "code",
   "execution_count": null,
   "metadata": {
    "collapsed": true
   },
   "outputs": [],
   "source": [
    "for i in range (0, len(impresion)):\n",
    "    print(\"Funcion = {} , activacion = {}, tolerancia = {}, error = {}\".format(impresion[i][0], impresion[i][1], impresion[i][2], impresion[i][3]))"
   ]
  },
  {
   "cell_type": "code",
   "execution_count": 27,
   "metadata": {},
   "outputs": [
    {
     "name": "stderr",
     "output_type": "stream",
     "text": [
      "/usr/local/lib/python2.7/dist-packages/sklearn/neural_network/multilayer_perceptron.py:564: ConvergenceWarning: Stochastic Optimizer: Maximum iterations (200) reached and the optimization hasn't converged yet.\n",
      "  % self.max_iter, ConvergenceWarning)\n"
     ]
    },
    {
     "data": {
      "text/plain": [
       "MLPRegressor(activation='relu', alpha=0.0001, batch_size='auto', beta_1=0.9,\n",
       "       beta_2=0.999, early_stopping=False, epsilon=1e-08,\n",
       "       hidden_layer_sizes=(100,), learning_rate='constant',\n",
       "       learning_rate_init=0.001, max_iter=200, momentum=0.9,\n",
       "       nesterovs_momentum=True, power_t=0.5, random_state=None,\n",
       "       shuffle=True, solver='adam', tol=0.0001, validation_fraction=0.1,\n",
       "       verbose=False, warm_start=False)"
      ]
     },
     "execution_count": 27,
     "metadata": {},
     "output_type": "execute_result"
    }
   ],
   "source": [
    "perceptron = MLPRegressor()\n",
    "perceptron.fit(propiedades.loc[:,condiciones], propiedades.loc[:, 'price_aprox_usd'])"
   ]
  },
  {
   "cell_type": "code",
   "execution_count": 39,
   "metadata": {},
   "outputs": [
    {
     "name": "stderr",
     "output_type": "stream",
     "text": [
      "/usr/local/lib/python2.7/dist-packages/pandas/core/indexing.py:337: SettingWithCopyWarning: \n",
      "A value is trying to be set on a copy of a slice from a DataFrame.\n",
      "Try using .loc[row_indexer,col_indexer] = value instead\n",
      "\n",
      "See the caveats in the documentation: http://pandas.pydata.org/pandas-docs/stable/indexing.html#indexing-view-versus-copy\n",
      "  self.obj[key] = _infer_fill_value(value)\n",
      "/usr/local/lib/python2.7/dist-packages/pandas/core/indexing.py:517: SettingWithCopyWarning: \n",
      "A value is trying to be set on a copy of a slice from a DataFrame.\n",
      "Try using .loc[row_indexer,col_indexer] = value instead\n",
      "\n",
      "See the caveats in the documentation: http://pandas.pydata.org/pandas-docs/stable/indexing.html#indexing-view-versus-copy\n",
      "  self.obj[item] = s\n"
     ]
    }
   ],
   "source": [
    "adivinar.loc[:,'precio_adivinado_perceptron'] = adivinar.loc[:, condiciones]\\\n",
    ".apply(lambda x: adivinar_precio_indice(x, perceptron), axis = 1)"
   ]
  },
  {
   "cell_type": "code",
   "execution_count": 63,
   "metadata": {},
   "outputs": [
    {
     "data": {
      "text/plain": [
       "416926.48116043647"
      ]
     },
     "execution_count": 63,
     "metadata": {},
     "output_type": "execute_result"
    }
   ],
   "source": [
    "obtener_rmse(propiedades.loc[:,'price_aprox_usd'], propiedades.loc[:,'precio_adivinado_perceptron'])"
   ]
  }
 ],
 "metadata": {
  "kernelspec": {
   "display_name": "Python 3",
   "language": "python",
   "name": "python3"
  },
  "language_info": {
   "codemirror_mode": {
    "name": "ipython",
    "version": 2
   },
   "file_extension": ".py",
   "mimetype": "text/x-python",
   "name": "python",
   "nbconvert_exporter": "python",
   "pygments_lexer": "ipython2",
   "version": "2.7.12"
  }
 },
 "nbformat": 4,
 "nbformat_minor": 2
}
