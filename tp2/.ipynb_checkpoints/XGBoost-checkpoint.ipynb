{
 "cells": [
  {
   "cell_type": "code",
   "execution_count": 1,
   "metadata": {},
   "outputs": [
    {
     "name": "stderr",
     "output_type": "stream",
     "text": [
      "/home/mati/anaconda3/lib/python3.6/site-packages/sklearn/cross_validation.py:44: DeprecationWarning: This module was deprecated in version 0.18 in favor of the model_selection module into which all the refactored classes and functions are moved. Also note that the interface of the new CV iterators are different from that of this module. This module will be removed in 0.20.\n",
      "  \"This module will be removed in 0.20.\", DeprecationWarning)\n"
     ]
    }
   ],
   "source": [
    "import pandas as pd\n",
    "import numpy as np\n",
    "import xgboost\n",
    "from sklearn.metrics import mean_squared_error\n",
    "from sklearn.externals import joblib\n",
    "import time\n",
    "\n",
    "import warnings\n",
    "warnings.simplefilter(\"ignore\", category=DeprecationWarning)\n",
    "\n",
    "# http://xgboost.readthedocs.io/en/latest/python/python_api.html"
   ]
  },
  {
   "cell_type": "code",
   "execution_count": 2,
   "metadata": {
    "collapsed": true
   },
   "outputs": [],
   "source": [
    "def obtener_rmse(col_true, col_pred):\n",
    "    return mean_squared_error(col_true, col_pred)**0.5"
   ]
  },
  {
   "cell_type": "code",
   "execution_count": 2,
   "metadata": {
    "collapsed": true
   },
   "outputs": [],
   "source": [
    "propiedades = pd.read_csv('../../set_datos_propiedades.csv')"
   ]
  },
  {
   "cell_type": "code",
   "execution_count": 4,
   "metadata": {
    "collapsed": true
   },
   "outputs": [],
   "source": [
    "propiedades = propiedades.loc[(propiedades.price_aprox_usd.notnull()) & (propiedades.superficie.notnull()),\\\n",
    "                             ['place_name_encoded', 'property_type_encoded','price_aprox_usd','superficie',\\\n",
    "                             'Year','Month','seguridad','aire','gimnasio','cochera','pileta']]"
   ]
  },
  {
   "cell_type": "markdown",
   "metadata": {},
   "source": [
    "# XGBoost"
   ]
  },
  {
   "cell_type": "code",
   "execution_count": 5,
   "metadata": {
    "collapsed": true
   },
   "outputs": [],
   "source": [
    "columnas = ['superficie','place_name_encoded','property_type_encoded','seguridad','gimnasio', 'aire', 'pileta', 'cochera']\n",
    "columnas_precio = columnas + ['price_aprox_usd']"
   ]
  },
  {
   "cell_type": "code",
   "execution_count": 6,
   "metadata": {
    "collapsed": true
   },
   "outputs": [],
   "source": [
    "set_entrenamiento = propiedades.loc[(propiedades.Year >= 2016) &((propiedades.Year < 2017) | (propiedades.Month < 6))\\\n",
    "                                    ,columnas_precio]\n",
    "set_pruebas = propiedades.loc[(propiedades.Year == 2017) & (propiedades.Month == 6),columnas_precio].head(20000)\n",
    "\n",
    "set_entrenamiento_datos = set_entrenamiento.loc[:,columnas]\n",
    "set_entrenamiento_resultado = set_entrenamiento.loc[:,'price_aprox_usd']"
   ]
  },
  {
   "cell_type": "code",
   "execution_count": 7,
   "metadata": {},
   "outputs": [
    {
     "name": "stdout",
     "output_type": "stream",
     "text": [
      "('Error: ', 70627765788.652054)\n"
     ]
    }
   ],
   "source": [
    "xgb = xgboost.XGBRegressor()\n",
    "xgb.fit(set_entrenamiento_datos,set_entrenamiento_resultado)\n",
    "set_pruebas.loc[:,'resultado'] = xgb.predict(set_pruebas.loc[:,columnas])\n",
    "error = mean_squared_error(set_pruebas.price_aprox_usd, set_pruebas.resultado)\n",
    "print('Error: ', error)"
   ]
  },
  {
   "cell_type": "markdown",
   "metadata": {},
   "source": [
    "## Ahora que tenemos una intuicion, probamos cambiando los parametros"
   ]
  },
  {
   "cell_type": "code",
   "execution_count": 57,
   "metadata": {
    "collapsed": true
   },
   "outputs": [],
   "source": [
    "columnas = ['superficie','place_name_encoded','property_type_encoded','seguridad','gimnasio', 'aire', 'pileta', 'cochera']\n",
    "columnas_precio = columnas + ['price_aprox_usd']"
   ]
  },
  {
   "cell_type": "code",
   "execution_count": 58,
   "metadata": {
    "collapsed": true
   },
   "outputs": [],
   "source": [
    "set_entrenamiento = propiedades.loc[(propiedades.Year >= 2016) &((propiedades.Year < 2017) | (propiedades.Month < 6))\\\n",
    "                                    ,columnas_precio]\n",
    "set_pruebas = propiedades.loc[(propiedades.Year == 2017) & (propiedades.Month == 6),columnas_precio].head(20000)\n",
    "\n",
    "set_entrenamiento_datos = set_entrenamiento.loc[:,columnas]\n",
    "set_entrenamiento_resultado = set_entrenamiento.loc[:,'price_aprox_usd']\n",
    "\n",
    "res = []"
   ]
  },
  {
   "cell_type": "code",
   "execution_count": null,
   "metadata": {
    "collapsed": true
   },
   "outputs": [],
   "source": [
    "max_depth = [1, 3, 7]\n",
    "learning = [0.1, 0.3, 0.5]\n",
    "n_estimators = [50, 100]\n",
    "booster = ['gbtree', 'gblinear', 'dart']\n",
    "\n",
    "for m in max_depth:\n",
    "    for n in n_estimators:\n",
    "        for l in learning:\n",
    "            for b in booster:\n",
    "                xgb = xgboost.XGBRegressor(n_estimators = n, max_depth = m, learning_rate = l, booster = b)\n",
    "                xgb.fit(set_entrenamiento_datos,set_entrenamiento_resultado)\n",
    "                set_pruebas.loc[:,'resultado'] = xgb.predict(set_pruebas.loc[:,columnas])\n",
    "                error = mean_squared_error(set_pruebas.price_aprox_usd, set_pruebas.resultado)\n",
    "                res.append((m, n, l, b, error))\n",
    "                print(m, n, l, b)"
   ]
  },
  {
   "cell_type": "code",
   "execution_count": null,
   "metadata": {
    "collapsed": true
   },
   "outputs": [],
   "source": [
    "max_depth = [7, 10]\n",
    "l = 0.5\n",
    "n_estimators = [300, 500]\n",
    "b = 'gbtree'\n",
    "for m in max_depth:\n",
    "    for n in n_estimators:\n",
    "        xgb = xgboost.XGBRegressor(n_estimators = n, max_depth = m, learning_rate = l, booster = b)\n",
    "        xgb.fit(set_entrenamiento_datos,set_entrenamiento_resultado)\n",
    "        set_pruebas.loc[:,'resultado'] = xgb.predict(set_pruebas.loc[:,columnas])\n",
    "        error = mean_squared_error(set_pruebas.price_aprox_usd, set_pruebas.resultado)\n",
    "        res.append((m, n, l, b, error))\n",
    "        print(m, n, l, b)"
   ]
  },
  {
   "cell_type": "code",
   "execution_count": 61,
   "metadata": {},
   "outputs": [
    {
     "name": "stdout",
     "output_type": "stream",
     "text": [
      "Max_depth = 1, n_estimators = 50, learning_rate = 0.1 , booster = gbtree, error = 89451293300.6\n",
      "Max_depth = 1, n_estimators = 50, learning_rate = 0.1 , booster = gblinear, error = 1.19920619905e+11\n",
      "Max_depth = 1, n_estimators = 50, learning_rate = 0.1 , booster = dart, error = 89451293300.6\n",
      "Max_depth = 1, n_estimators = 50, learning_rate = 0.3 , booster = gbtree, error = 87059794761.6\n",
      "Max_depth = 1, n_estimators = 50, learning_rate = 0.3 , booster = gblinear, error = 1.19146619035e+11\n",
      "Max_depth = 1, n_estimators = 50, learning_rate = 0.3 , booster = dart, error = 87059794761.6\n",
      "Max_depth = 1, n_estimators = 50, learning_rate = 0.5 , booster = gbtree, error = 85218127548.2\n",
      "Max_depth = 1, n_estimators = 50, learning_rate = 0.5 , booster = gblinear, error = 1.19071791597e+11\n",
      "Max_depth = 1, n_estimators = 50, learning_rate = 0.5 , booster = dart, error = 85218127548.2\n",
      "Max_depth = 1, n_estimators = 100, learning_rate = 0.1 , booster = gbtree, error = 87961505560.7\n",
      "Max_depth = 1, n_estimators = 100, learning_rate = 0.1 , booster = gblinear, error = 1.19275518293e+11\n",
      "Max_depth = 1, n_estimators = 100, learning_rate = 0.1 , booster = dart, error = 87961505560.7\n",
      "Max_depth = 1, n_estimators = 100, learning_rate = 0.3 , booster = gbtree, error = 84714870336.6\n",
      "Max_depth = 1, n_estimators = 100, learning_rate = 0.3 , booster = gblinear, error = 1.19057837981e+11\n",
      "Max_depth = 1, n_estimators = 100, learning_rate = 0.3 , booster = dart, error = 84714870336.6\n",
      "Max_depth = 1, n_estimators = 100, learning_rate = 0.5 , booster = gbtree, error = 83249682474.1\n",
      "Max_depth = 1, n_estimators = 100, learning_rate = 0.5 , booster = gblinear, error = 1.19035258393e+11\n",
      "Max_depth = 1, n_estimators = 100, learning_rate = 0.5 , booster = dart, error = 83249682474.1\n",
      "Max_depth = 3, n_estimators = 50, learning_rate = 0.1 , booster = gbtree, error = 75821148390.9\n",
      "Max_depth = 3, n_estimators = 50, learning_rate = 0.1 , booster = gblinear, error = 1.19920619905e+11\n",
      "Max_depth = 3, n_estimators = 50, learning_rate = 0.1 , booster = dart, error = 75821148390.9\n",
      "Max_depth = 3, n_estimators = 50, learning_rate = 0.3 , booster = gbtree, error = 67025412050.8\n",
      "Max_depth = 3, n_estimators = 50, learning_rate = 0.3 , booster = gblinear, error = 1.19146619035e+11\n",
      "Max_depth = 3, n_estimators = 50, learning_rate = 0.3 , booster = dart, error = 67025412051.8\n",
      "Max_depth = 3, n_estimators = 50, learning_rate = 0.5 , booster = gbtree, error = 64123260654.6\n",
      "Max_depth = 3, n_estimators = 50, learning_rate = 0.5 , booster = gblinear, error = 1.19071791597e+11\n",
      "Max_depth = 3, n_estimators = 50, learning_rate = 0.5 , booster = dart, error = 64123260183.2\n",
      "Max_depth = 3, n_estimators = 100, learning_rate = 0.1 , booster = gbtree, error = 70627765788.7\n",
      "Max_depth = 3, n_estimators = 100, learning_rate = 0.1 , booster = gblinear, error = 1.19275518293e+11\n",
      "Max_depth = 3, n_estimators = 100, learning_rate = 0.1 , booster = dart, error = 70627765731.6\n",
      "Max_depth = 3, n_estimators = 100, learning_rate = 0.3 , booster = gbtree, error = 61875781606.3\n",
      "Max_depth = 3, n_estimators = 100, learning_rate = 0.3 , booster = gblinear, error = 1.19057837981e+11\n",
      "Max_depth = 3, n_estimators = 100, learning_rate = 0.3 , booster = dart, error = 61875781484.2\n",
      "Max_depth = 3, n_estimators = 100, learning_rate = 0.5 , booster = gbtree, error = 59604020536.1\n",
      "Max_depth = 3, n_estimators = 100, learning_rate = 0.5 , booster = gblinear, error = 1.19035258393e+11\n",
      "Max_depth = 3, n_estimators = 100, learning_rate = 0.5 , booster = dart, error = 59604020450.0\n",
      "Max_depth = 7, n_estimators = 50, learning_rate = 0.1 , booster = gbtree, error = 56737458699.9\n",
      "Max_depth = 7, n_estimators = 50, learning_rate = 0.1 , booster = gblinear, error = 1.19920619905e+11\n",
      "Max_depth = 7, n_estimators = 50, learning_rate = 0.1 , booster = dart, error = 56737458841.4\n",
      "Max_depth = 7, n_estimators = 50, learning_rate = 0.3 , booster = gbtree, error = 43556673971.7\n",
      "Max_depth = 7, n_estimators = 50, learning_rate = 0.3 , booster = gblinear, error = 1.19146619035e+11\n",
      "Max_depth = 7, n_estimators = 50, learning_rate = 0.3 , booster = dart, error = 43556674135.7\n",
      "Max_depth = 7, n_estimators = 50, learning_rate = 0.5 , booster = gbtree, error = 38873723111.3\n",
      "Max_depth = 7, n_estimators = 50, learning_rate = 0.5 , booster = gblinear, error = 1.19071791597e+11\n",
      "Max_depth = 7, n_estimators = 50, learning_rate = 0.5 , booster = dart, error = 38873723130.2\n",
      "Max_depth = 7, n_estimators = 100, learning_rate = 0.1 , booster = gbtree, error = 47555560751.7\n",
      "Max_depth = 7, n_estimators = 100, learning_rate = 0.1 , booster = gblinear, error = 1.19275518293e+11\n",
      "Max_depth = 7, n_estimators = 100, learning_rate = 0.1 , booster = dart, error = 47555560835.7\n",
      "Max_depth = 7, n_estimators = 100, learning_rate = 0.3 , booster = gbtree, error = 37285373413.8\n",
      "Max_depth = 7, n_estimators = 100, learning_rate = 0.3 , booster = gblinear, error = 1.19057837981e+11\n",
      "Max_depth = 7, n_estimators = 100, learning_rate = 0.3 , booster = dart, error = 37285373250.8\n",
      "Max_depth = 7, n_estimators = 100, learning_rate = 0.5 , booster = gbtree, error = 34462614151.3\n",
      "Max_depth = 7, n_estimators = 100, learning_rate = 0.5 , booster = gblinear, error = 1.19035258393e+11\n",
      "Max_depth = 7, n_estimators = 100, learning_rate = 0.5 , booster = dart, error = 34462614175.5\n",
      "Max_depth = 7, n_estimators = 300, learning_rate = 0.5 , booster = gbtree, error = 24045352589.9\n",
      "Max_depth = 7, n_estimators = 500, learning_rate = 0.5 , booster = gbtree, error = 20168556860.5\n",
      "Max_depth = 10, n_estimators = 300, learning_rate = 0.5 , booster = gbtree, error = 13996157586.4\n",
      "Max_depth = 10, n_estimators = 500, learning_rate = 0.5 , booster = gbtree, error = 12974389431.9\n"
     ]
    }
   ],
   "source": [
    "for r in res:\n",
    "    print(\"Max_depth = {}, n_estimators = {}, learning_rate = {} , booster = {}, error = {}\".format(r[0],r[1],r[2],r[3], r[4]))"
   ]
  },
  {
   "cell_type": "code",
   "execution_count": 62,
   "metadata": {},
   "outputs": [
    {
     "name": "stdout",
     "output_type": "stream",
     "text": [
      "Max_depth = 10, n_estimators = 500, learning_rate = 0.5 , booster = gbtree, error = 12974389431.9\n"
     ]
    }
   ],
   "source": [
    "min_error = float('inf')\n",
    "tupla_min_error = ()\n",
    "for r in res:\n",
    "    if r[4] < min_error:\n",
    "        min_error = r[4]\n",
    "        tupla_min_error = r\n",
    "        \n",
    "print(\"Max_depth = {}, n_estimators = {}, learning_rate = {} , booster = {}, error = {}\".\\\n",
    "    format(tupla_min_error[0],tupla_min_error[1],tupla_min_error[2],tupla_min_error[3], tupla_min_error[4]))"
   ]
  },
  {
   "cell_type": "markdown",
   "metadata": {},
   "source": [
    "## Elegimos max_depth = 7, n_estimators = 100, learning_rate = 0.5 y booster = gbtree"
   ]
  },
  {
   "cell_type": "code",
   "execution_count": 15,
   "metadata": {
    "collapsed": true
   },
   "outputs": [],
   "source": [
    "columnas = ['superficie','place_name_encoded','property_type_encoded','seguridad','gimnasio', 'aire', 'pileta', 'cochera']\n",
    "columnas_precio = columnas + ['price_aprox_usd']"
   ]
  },
  {
   "cell_type": "code",
   "execution_count": 16,
   "metadata": {
    "collapsed": true
   },
   "outputs": [],
   "source": [
    "set_entrenamiento = propiedades.loc[(propiedades.Year >= 2016) &((propiedades.Year < 2017) | (propiedades.Month < 6))\\\n",
    "                                    ,columnas_precio]\n",
    "set_pruebas = propiedades.loc[(propiedades.Year == 2017) & (propiedades.Month == 6),columnas_precio].head(20000)\n",
    "\n",
    "set_entrenamiento_datos = set_entrenamiento.loc[:,columnas]\n",
    "set_entrenamiento_resultado = set_entrenamiento.loc[:,'price_aprox_usd']"
   ]
  },
  {
   "cell_type": "code",
   "execution_count": 17,
   "metadata": {},
   "outputs": [
    {
     "name": "stdout",
     "output_type": "stream",
     "text": [
      "34462614151.3\n"
     ]
    }
   ],
   "source": [
    "m = 7\n",
    "l = 0.5\n",
    "n = 100\n",
    "b = 'gbtree'\n",
    "\n",
    "xgb = xgboost.XGBRegressor(n_estimators = n, max_depth = m, learning_rate = l, booster = b)\n",
    "xgb.fit(set_entrenamiento_datos,set_entrenamiento_resultado)\n",
    "set_pruebas.loc[:,'resultado'] = xgb.predict(set_pruebas.loc[:,columnas])\n",
    "error = mean_squared_error(set_pruebas.price_aprox_usd, set_pruebas.resultado)\n",
    "print(error)"
   ]
  },
  {
   "cell_type": "markdown",
   "metadata": {},
   "source": [
    "## Elegimos max_depth = 10, n_estimators = 500, learning_rate = 0.5 y booster = gbtree"
   ]
  },
  {
   "cell_type": "code",
   "execution_count": 47,
   "metadata": {
    "collapsed": true
   },
   "outputs": [],
   "source": [
    "columnas = ['superficie','place_name_encoded','property_type_encoded','seguridad','gimnasio', 'aire', 'pileta', 'cochera']\n",
    "columnas_precio = columnas + ['price_aprox_usd']"
   ]
  },
  {
   "cell_type": "code",
   "execution_count": 48,
   "metadata": {
    "collapsed": true
   },
   "outputs": [],
   "source": [
    "set_entrenamiento = propiedades.loc[(propiedades.Year >= 2016) &((propiedades.Year < 2017) | (propiedades.Month < 6))\\\n",
    "                                    ,columnas_precio]\n",
    "set_pruebas = propiedades.loc[(propiedades.Year == 2017) & (propiedades.Month == 6),columnas_precio].head(20000)\n",
    "\n",
    "set_entrenamiento_datos = set_entrenamiento.loc[:,columnas]\n",
    "set_entrenamiento_resultado = set_entrenamiento.loc[:,'price_aprox_usd']"
   ]
  },
  {
   "cell_type": "code",
   "execution_count": 49,
   "metadata": {},
   "outputs": [
    {
     "name": "stdout",
     "output_type": "stream",
     "text": [
      "12974389431.9\n"
     ]
    }
   ],
   "source": [
    "m = 10\n",
    "l = 0.5\n",
    "n = 500\n",
    "b = 'gbtree'\n",
    "\n",
    "xgb = xgboost.XGBRegressor(n_estimators = n, max_depth = m, learning_rate = l, booster = b)\n",
    "xgb.fit(set_entrenamiento_datos,set_entrenamiento_resultado)\n",
    "set_pruebas.loc[:,'resultado'] = xgb.predict(set_pruebas.loc[:,columnas])\n",
    "error = mean_squared_error(set_pruebas.price_aprox_usd, set_pruebas.resultado)\n",
    "print(error)"
   ]
  },
  {
   "cell_type": "markdown",
   "metadata": {},
   "source": [
    "# calculo con los verdaderos datos a analizar"
   ]
  },
  {
   "cell_type": "code",
   "execution_count": 50,
   "metadata": {
    "collapsed": true
   },
   "outputs": [],
   "source": [
    "analizar = pd.read_csv(\"../properati_dataset_modificado.csv\")"
   ]
  },
  {
   "cell_type": "code",
   "execution_count": 51,
   "metadata": {
    "collapsed": true
   },
   "outputs": [],
   "source": [
    "analizar.loc[:,'price_usd'] = xgb.predict(analizar.loc[:,columnas])"
   ]
  },
  {
   "cell_type": "code",
   "execution_count": 52,
   "metadata": {},
   "outputs": [
    {
     "data": {
      "text/plain": [
       "count    1.416600e+04\n",
       "mean     2.380542e+05\n",
       "std      4.528047e+05\n",
       "min     -8.993336e+05\n",
       "25%      1.032099e+05\n",
       "50%      1.543094e+05\n",
       "75%      2.629287e+05\n",
       "max      4.404158e+07\n",
       "Name: price_usd, dtype: float64"
      ]
     },
     "execution_count": 52,
     "metadata": {},
     "output_type": "execute_result"
    }
   ],
   "source": [
    "analizar.price_usd.describe()"
   ]
  },
  {
   "cell_type": "code",
   "execution_count": 53,
   "metadata": {
    "collapsed": true
   },
   "outputs": [],
   "source": [
    "# Las predicciones con precio negativo las convierto en valores positivos\n",
    "analizar.loc[:,'price_usd'] = analizar.loc[:,\"price_usd\"].apply(lambda x: abs(x))"
   ]
  },
  {
   "cell_type": "code",
   "execution_count": 54,
   "metadata": {},
   "outputs": [
    {
     "data": {
      "text/plain": [
       "count    1.416600e+04\n",
       "mean     2.393106e+05\n",
       "std      4.521419e+05\n",
       "min      2.949538e+02\n",
       "25%      1.037648e+05\n",
       "50%      1.547995e+05\n",
       "75%      2.633302e+05\n",
       "max      4.404158e+07\n",
       "Name: price_usd, dtype: float64"
      ]
     },
     "execution_count": 54,
     "metadata": {},
     "output_type": "execute_result"
    }
   ],
   "source": [
    "analizar.price_usd.describe()"
   ]
  },
  {
   "cell_type": "code",
   "execution_count": 55,
   "metadata": {
    "collapsed": true
   },
   "outputs": [],
   "source": [
    "resultado = analizar.loc[:,['id','price_usd']]"
   ]
  },
  {
   "cell_type": "code",
   "execution_count": 56,
   "metadata": {
    "collapsed": true
   },
   "outputs": [],
   "source": [
    "resultado.to_csv('resultados/XGBoost_resultados_2.csv', index = False)"
   ]
  },
  {
   "cell_type": "markdown",
   "metadata": {},
   "source": [
    "# Ahora uso lat y lon en lugar de place name"
   ]
  },
  {
   "cell_type": "code",
   "execution_count": 3,
   "metadata": {
    "collapsed": true
   },
   "outputs": [],
   "source": [
    "propiedades = propiedades.loc[(propiedades.price_aprox_usd.notnull()) & (propiedades.superficie.notnull())\\\n",
    "                              & (propiedades.lat.notnull()) & (propiedades.lon.notnull()),\\\n",
    "                             ['lat', 'lon', 'property_type_encoded','price_aprox_usd','superficie',\\\n",
    "                             'Year','Month','seguridad','aire','gimnasio','cochera','pileta']]"
   ]
  },
  {
   "cell_type": "code",
   "execution_count": 4,
   "metadata": {
    "collapsed": true
   },
   "outputs": [],
   "source": [
    "columnas = ['superficie','lat', 'lon','property_type_encoded','seguridad','gimnasio', 'aire', 'pileta', 'cochera']\n",
    "columnas_precio = columnas + ['price_aprox_usd']"
   ]
  },
  {
   "cell_type": "code",
   "execution_count": 5,
   "metadata": {
    "collapsed": true
   },
   "outputs": [],
   "source": [
    "set_entrenamiento = propiedades.loc[(propiedades.Year >= 2016) &((propiedades.Year < 2017) | (propiedades.Month < 6))\\\n",
    "                                    ,columnas_precio]\n",
    "set_pruebas = propiedades.loc[(propiedades.Year == 2017) & (propiedades.Month == 6),columnas_precio].head(20000)\n",
    "\n",
    "set_entrenamiento_datos = set_entrenamiento.loc[:,columnas]\n",
    "set_entrenamiento_resultado = set_entrenamiento.loc[:,'price_aprox_usd']"
   ]
  },
  {
   "cell_type": "code",
   "execution_count": 6,
   "metadata": {},
   "outputs": [
    {
     "name": "stdout",
     "output_type": "stream",
     "text": [
      "('Error: ', 52794471961.235115)\n"
     ]
    }
   ],
   "source": [
    "xgb = xgboost.XGBRegressor()\n",
    "xgb.fit(set_entrenamiento_datos,set_entrenamiento_resultado)\n",
    "set_pruebas.loc[:,'resultado'] = xgb.predict(set_pruebas.loc[:,columnas])\n",
    "error = mean_squared_error(set_pruebas.price_aprox_usd, set_pruebas.resultado)\n",
    "print('Error: ', error)"
   ]
  },
  {
   "cell_type": "code",
   "execution_count": 7,
   "metadata": {
    "collapsed": true
   },
   "outputs": [],
   "source": [
    "res = []"
   ]
  },
  {
   "cell_type": "code",
   "execution_count": null,
   "metadata": {
    "collapsed": true
   },
   "outputs": [],
   "source": [
    "max_depth = [1, 3, 7]\n",
    "learning = [0.1, 0.3, 0.5]\n",
    "n_estimators = [50, 100]\n",
    "booster = ['gbtree', 'gblinear', 'dart']\n",
    "\n",
    "for m in max_depth:\n",
    "    for n in n_estimators:\n",
    "        for l in learning:\n",
    "            for b in booster:\n",
    "                xgb = xgboost.XGBRegressor(n_estimators = n, max_depth = m, learning_rate = l, booster = b)\n",
    "                xgb.fit(set_entrenamiento_datos,set_entrenamiento_resultado)\n",
    "                set_pruebas.loc[:,'resultado'] = xgb.predict(set_pruebas.loc[:,columnas])\n",
    "                error = mean_squared_error(set_pruebas.price_aprox_usd, set_pruebas.resultado)\n",
    "                res.append((m, n, l, b, error))\n",
    "                print(m, n, l, b)"
   ]
  },
  {
   "cell_type": "code",
   "execution_count": 10,
   "metadata": {},
   "outputs": [
    {
     "name": "stdout",
     "output_type": "stream",
     "text": [
      "Max_depth = 7, n_estimators = 100, learning_rate = 0.5 , booster = gbtree, error = 18680682185.9\n"
     ]
    }
   ],
   "source": [
    "min_error = float('inf')\n",
    "tupla_min_error = ()\n",
    "for r in res:\n",
    "    if r[4] < min_error:\n",
    "        min_error = r[4]\n",
    "        tupla_min_error = r\n",
    "        \n",
    "print(\"Max_depth = {}, n_estimators = {}, learning_rate = {} , booster = {}, error = {}\".\\\n",
    "    format(tupla_min_error[0],tupla_min_error[1],tupla_min_error[2],tupla_min_error[3], tupla_min_error[4]))"
   ]
  },
  {
   "cell_type": "code",
   "execution_count": null,
   "metadata": {
    "collapsed": true
   },
   "outputs": [],
   "source": [
    "max_depth = [7, 10]\n",
    "l = 0.5\n",
    "n_estimators = [300, 500]\n",
    "b = 'gbtree'\n",
    "for m in max_depth:\n",
    "    for n in n_estimators:\n",
    "        xgb = xgboost.XGBRegressor(n_estimators = n, max_depth = m, learning_rate = l, booster = b)\n",
    "        xgb.fit(set_entrenamiento_datos,set_entrenamiento_resultado)\n",
    "        set_pruebas.loc[:,'resultado'] = xgb.predict(set_pruebas.loc[:,columnas])\n",
    "        error = mean_squared_error(set_pruebas.price_aprox_usd, set_pruebas.resultado)\n",
    "        res.append((m, n, l, b, error))\n",
    "        print(m, n, l, b)"
   ]
  },
  {
   "cell_type": "code",
   "execution_count": 12,
   "metadata": {},
   "outputs": [
    {
     "name": "stdout",
     "output_type": "stream",
     "text": [
      "Max_depth = 1, n_estimators = 50, learning_rate = 0.1 , booster = gbtree, error = 77881015910.2\n",
      "Max_depth = 1, n_estimators = 50, learning_rate = 0.1 , booster = gblinear, error = 1.04636623742e+11\n",
      "Max_depth = 1, n_estimators = 50, learning_rate = 0.1 , booster = dart, error = 77881015910.2\n",
      "Max_depth = 1, n_estimators = 50, learning_rate = 0.3 , booster = gbtree, error = 71678787504.9\n",
      "Max_depth = 1, n_estimators = 50, learning_rate = 0.3 , booster = gblinear, error = 1.04043928525e+11\n",
      "Max_depth = 1, n_estimators = 50, learning_rate = 0.3 , booster = dart, error = 71678787504.9\n",
      "Max_depth = 1, n_estimators = 50, learning_rate = 0.5 , booster = gbtree, error = 70326846666.8\n",
      "Max_depth = 1, n_estimators = 50, learning_rate = 0.5 , booster = gblinear, error = 1.04006153461e+11\n",
      "Max_depth = 1, n_estimators = 50, learning_rate = 0.5 , booster = dart, error = 70326846666.8\n",
      "Max_depth = 1, n_estimators = 100, learning_rate = 0.1 , booster = gbtree, error = 73611591194.6\n",
      "Max_depth = 1, n_estimators = 100, learning_rate = 0.1 , booster = gblinear, error = 1.0416043068e+11\n",
      "Max_depth = 1, n_estimators = 100, learning_rate = 0.1 , booster = dart, error = 73611591194.6\n",
      "Max_depth = 1, n_estimators = 100, learning_rate = 0.3 , booster = gbtree, error = 69223082219.3\n",
      "Max_depth = 1, n_estimators = 100, learning_rate = 0.3 , booster = gblinear, error = 1.04005182501e+11\n",
      "Max_depth = 1, n_estimators = 100, learning_rate = 0.3 , booster = dart, error = 69223082219.3\n",
      "Max_depth = 1, n_estimators = 100, learning_rate = 0.5 , booster = gbtree, error = 69097774666.9\n",
      "Max_depth = 1, n_estimators = 100, learning_rate = 0.5 , booster = gblinear, error = 1.04001793848e+11\n",
      "Max_depth = 1, n_estimators = 100, learning_rate = 0.5 , booster = dart, error = 69097774666.9\n",
      "Max_depth = 3, n_estimators = 50, learning_rate = 0.1 , booster = gbtree, error = 57171150288.5\n",
      "Max_depth = 3, n_estimators = 50, learning_rate = 0.1 , booster = gblinear, error = 1.04636623742e+11\n",
      "Max_depth = 3, n_estimators = 50, learning_rate = 0.1 , booster = dart, error = 57171150288.5\n",
      "Max_depth = 3, n_estimators = 50, learning_rate = 0.3 , booster = gbtree, error = 51222325507.8\n",
      "Max_depth = 3, n_estimators = 50, learning_rate = 0.3 , booster = gblinear, error = 1.04043928525e+11\n",
      "Max_depth = 3, n_estimators = 50, learning_rate = 0.3 , booster = dart, error = 51222325448.2\n",
      "Max_depth = 3, n_estimators = 50, learning_rate = 0.5 , booster = gbtree, error = 48142588190.8\n",
      "Max_depth = 3, n_estimators = 50, learning_rate = 0.5 , booster = gblinear, error = 1.04006153461e+11\n",
      "Max_depth = 3, n_estimators = 50, learning_rate = 0.5 , booster = dart, error = 48142588128.1\n",
      "Max_depth = 3, n_estimators = 100, learning_rate = 0.1 , booster = gbtree, error = 52794471961.2\n",
      "Max_depth = 3, n_estimators = 100, learning_rate = 0.1 , booster = gblinear, error = 1.0416043068e+11\n",
      "Max_depth = 3, n_estimators = 100, learning_rate = 0.1 , booster = dart, error = 52794471961.2\n",
      "Max_depth = 3, n_estimators = 100, learning_rate = 0.3 , booster = gbtree, error = 47836481012.1\n",
      "Max_depth = 3, n_estimators = 100, learning_rate = 0.3 , booster = gblinear, error = 1.04005182501e+11\n",
      "Max_depth = 3, n_estimators = 100, learning_rate = 0.3 , booster = dart, error = 47836481142.2\n",
      "Max_depth = 3, n_estimators = 100, learning_rate = 0.5 , booster = gbtree, error = 43898024706.3\n",
      "Max_depth = 3, n_estimators = 100, learning_rate = 0.5 , booster = gblinear, error = 1.04001793848e+11\n",
      "Max_depth = 3, n_estimators = 100, learning_rate = 0.5 , booster = dart, error = 43898024595.0\n",
      "Max_depth = 7, n_estimators = 50, learning_rate = 0.1 , booster = gbtree, error = 38389809390.4\n",
      "Max_depth = 7, n_estimators = 50, learning_rate = 0.1 , booster = gblinear, error = 1.04636623742e+11\n",
      "Max_depth = 7, n_estimators = 50, learning_rate = 0.1 , booster = dart, error = 38389809387.5\n",
      "Max_depth = 7, n_estimators = 50, learning_rate = 0.3 , booster = gbtree, error = 26835664679.4\n",
      "Max_depth = 7, n_estimators = 50, learning_rate = 0.3 , booster = gblinear, error = 1.04043928525e+11\n",
      "Max_depth = 7, n_estimators = 50, learning_rate = 0.3 , booster = dart, error = 26835664796.4\n",
      "Max_depth = 7, n_estimators = 50, learning_rate = 0.5 , booster = gbtree, error = 26031409305.5\n",
      "Max_depth = 7, n_estimators = 50, learning_rate = 0.5 , booster = gblinear, error = 1.04006153461e+11\n",
      "Max_depth = 7, n_estimators = 50, learning_rate = 0.5 , booster = dart, error = 26031408919.9\n",
      "Max_depth = 7, n_estimators = 100, learning_rate = 0.1 , booster = gbtree, error = 31942999890.0\n",
      "Max_depth = 7, n_estimators = 100, learning_rate = 0.1 , booster = gblinear, error = 1.0416043068e+11\n",
      "Max_depth = 7, n_estimators = 100, learning_rate = 0.1 , booster = dart, error = 31942999941.7\n",
      "Max_depth = 7, n_estimators = 100, learning_rate = 0.3 , booster = gbtree, error = 19920364062.8\n",
      "Max_depth = 7, n_estimators = 100, learning_rate = 0.3 , booster = gblinear, error = 1.04005182501e+11\n",
      "Max_depth = 7, n_estimators = 100, learning_rate = 0.3 , booster = dart, error = 19920363975.9\n",
      "Max_depth = 7, n_estimators = 100, learning_rate = 0.5 , booster = gbtree, error = 18680682185.9\n",
      "Max_depth = 7, n_estimators = 100, learning_rate = 0.5 , booster = gblinear, error = 1.04001793848e+11\n",
      "Max_depth = 7, n_estimators = 100, learning_rate = 0.5 , booster = dart, error = 18680682187.6\n",
      "Max_depth = 7, n_estimators = 300, learning_rate = 0.5 , booster = gbtree, error = 11890040347.8\n",
      "Max_depth = 7, n_estimators = 500, learning_rate = 0.5 , booster = gbtree, error = 5304232638.67\n",
      "Max_depth = 10, n_estimators = 300, learning_rate = 0.5 , booster = gbtree, error = 2989483692.81\n",
      "Max_depth = 10, n_estimators = 500, learning_rate = 0.5 , booster = gbtree, error = 2249870876.26\n"
     ]
    }
   ],
   "source": [
    "for r in res:\n",
    "    print(\"Max_depth = {}, n_estimators = {}, learning_rate = {} , booster = {}, error = {}\".format(r[0],r[1],r[2],r[3], r[4]))"
   ]
  },
  {
   "cell_type": "code",
   "execution_count": 13,
   "metadata": {},
   "outputs": [
    {
     "name": "stdout",
     "output_type": "stream",
     "text": [
      "Max_depth = 10, n_estimators = 500, learning_rate = 0.5 , booster = gbtree, error = 2249870876.26\n"
     ]
    }
   ],
   "source": [
    "min_error = float('inf')\n",
    "tupla_min_error = ()\n",
    "for r in res:\n",
    "    if r[4] < min_error:\n",
    "        min_error = r[4]\n",
    "        tupla_min_error = r\n",
    "        \n",
    "print(\"Max_depth = {}, n_estimators = {}, learning_rate = {} , booster = {}, error = {}\".\\\n",
    "    format(tupla_min_error[0],tupla_min_error[1],tupla_min_error[2],tupla_min_error[3], tupla_min_error[4]))"
   ]
  },
  {
   "cell_type": "code",
   "execution_count": 32,
   "metadata": {},
   "outputs": [
    {
     "data": {
      "text/plain": [
       "951447283.6083287"
      ]
     },
     "execution_count": 32,
     "metadata": {},
     "output_type": "execute_result"
    }
   ],
   "source": [
    "# Obtengo el error con el set de entrenamiento\n",
    "mean_squared_error(xgb.predict(set_entrenamiento_datos), set_entrenamiento_resultado)"
   ]
  },
  {
   "cell_type": "markdown",
   "metadata": {},
   "source": [
    "# calculo con los verdaderos datos a analizar"
   ]
  },
  {
   "cell_type": "code",
   "execution_count": 16,
   "metadata": {
    "collapsed": true
   },
   "outputs": [],
   "source": [
    "analizar = pd.read_csv(\"../properati_dataset_modificado.csv\")"
   ]
  },
  {
   "cell_type": "code",
   "execution_count": 17,
   "metadata": {
    "collapsed": true
   },
   "outputs": [],
   "source": [
    "analizar.loc[:,'price_usd'] = xgb.predict(analizar.loc[:,columnas])"
   ]
  },
  {
   "cell_type": "code",
   "execution_count": 18,
   "metadata": {},
   "outputs": [
    {
     "data": {
      "text/plain": [
       "count    1.416600e+04\n",
       "mean     2.466999e+05\n",
       "std      6.413061e+05\n",
       "min     -4.142394e+05\n",
       "25%      1.012079e+05\n",
       "50%      1.538635e+05\n",
       "75%      2.615367e+05\n",
       "max      4.942000e+07\n",
       "Name: price_usd, dtype: float64"
      ]
     },
     "execution_count": 18,
     "metadata": {},
     "output_type": "execute_result"
    }
   ],
   "source": [
    "analizar.price_usd.describe()"
   ]
  },
  {
   "cell_type": "code",
   "execution_count": 19,
   "metadata": {
    "collapsed": true
   },
   "outputs": [],
   "source": [
    "# Las predicciones con precio negativo las convierto en valores positivos\n",
    "analizar.loc[:,'price_usd'] = analizar.loc[:,\"price_usd\"].apply(lambda x: abs(x))"
   ]
  },
  {
   "cell_type": "code",
   "execution_count": 20,
   "metadata": {},
   "outputs": [
    {
     "data": {
      "text/plain": [
       "count    1.416600e+04\n",
       "mean     2.476073e+05\n",
       "std      6.409562e+05\n",
       "min      1.697878e+02\n",
       "25%      1.015205e+05\n",
       "50%      1.540672e+05\n",
       "75%      2.617388e+05\n",
       "max      4.942000e+07\n",
       "Name: price_usd, dtype: float64"
      ]
     },
     "execution_count": 20,
     "metadata": {},
     "output_type": "execute_result"
    }
   ],
   "source": [
    "analizar.price_usd.describe()"
   ]
  },
  {
   "cell_type": "code",
   "execution_count": 21,
   "metadata": {
    "collapsed": true
   },
   "outputs": [],
   "source": [
    "resultado = analizar.loc[:,['id','price_usd']]"
   ]
  },
  {
   "cell_type": "code",
   "execution_count": 22,
   "metadata": {
    "collapsed": true
   },
   "outputs": [],
   "source": [
    "resultado.to_csv('resultados/XGBoost_resultados_latlon.csv', index = False)"
   ]
  },
  {
   "cell_type": "markdown",
   "metadata": {},
   "source": [
    "# Usando muchos estimadores"
   ]
  },
  {
   "cell_type": "code",
   "execution_count": 2,
   "metadata": {
    "collapsed": true
   },
   "outputs": [],
   "source": [
    "sup_min = 10\n",
    "sup_max = 300\n",
    "lat_min = -35\n",
    "lat_max = -34\n",
    "lon_min = -59\n",
    "lon_max = -58\n",
    "precio_min = 30000\n",
    "precio_max = 3000000"
   ]
  },
  {
   "cell_type": "code",
   "execution_count": 3,
   "metadata": {
    "collapsed": true
   },
   "outputs": [],
   "source": [
    "propiedades = pd.read_csv('../../datos_con_fecha.csv')\n",
    "\n",
    "propiedades = propiedades.loc[(propiedades.price_aprox_usd.notnull()) & (propiedades.superficie.notnull())\\\n",
    "                              & (propiedades.lat.notnull()) & (propiedades.lon.notnull()) & (propiedades.Year >=2017)\\\n",
    "                        & (propiedades.price_aprox_usd <= precio_max) & (propiedades.price_aprox_usd >= precio_min) &\\\n",
    "                         (propiedades.superficie <= sup_max) & (propiedades.superficie >= sup_min) &\\\n",
    "                      (propiedades.lat <= lat_max) & (propiedades.lat >= lat_min) &\\\n",
    "                       (propiedades.lon <= lon_max) & (propiedades.lon >= lon_min),:]\n",
    "\n",
    "columnas = ['superficie','lat', 'lon','property_type_encoded','seguridad','gimnasio', 'aire', \\\n",
    "            'pileta', 'cochera','transporte','comercio', 'servicios', 'doble piso', 'jardin','fecha']\n",
    "\n",
    "set_entrenamiento_datos = propiedades.loc[:,columnas]\n",
    "set_entrenamiento_resultado = propiedades.loc[:,'price_aprox_usd']"
   ]
  },
  {
   "cell_type": "code",
   "execution_count": 5,
   "metadata": {},
   "outputs": [
    {
     "name": "stdout",
     "output_type": "stream",
     "text": [
      "Tiempo: 22:32:24 --- 01:42:32 \n"
     ]
    }
   ],
   "source": [
    "inicio = time.strftime(\"%X\")\n",
    "\n",
    "xgb = xgboost.XGBRegressor(n_estimators = 5000, max_depth = 50, learning_rate = 0.5)\n",
    "\n",
    "xgb.fit(set_entrenamiento_datos, set_entrenamiento_resultado)\n",
    "\n",
    "fin = time.strftime(\"%X\")\n",
    "\n",
    "print(\"Tiempo: {} --- {} \".format(inicio,fin))"
   ]
  },
  {
   "cell_type": "code",
   "execution_count": 12,
   "metadata": {},
   "outputs": [
    {
     "data": {
      "text/plain": [
       "['algoritmos/XGBoost_5kEst_confecha.pkl']"
      ]
     },
     "execution_count": 12,
     "metadata": {},
     "output_type": "execute_result"
    }
   ],
   "source": [
    "analizar = pd.read_csv(\"../properati_dataset_modificado2.csv\")\n",
    "\n",
    "analizar.loc[:,'price_usd'] = xgb.predict(analizar.loc[:,columnas])\n",
    "analizar.loc[:,'price_usd'] = analizar.loc[:,\"price_usd\"].apply(lambda x: abs(x))\n",
    "resultado = analizar.loc[:,['id','price_usd']]\n",
    "\n",
    "resultado.to_csv('resultados/XGBoost_5kEst_confecha.csv', index = False)\n",
    "joblib.dump(xgb, 'algoritmos/XGBoost_5kEst_confecha.pkl')"
   ]
  },
  {
   "cell_type": "markdown",
   "metadata": {},
   "source": [
    "## Con 15k"
   ]
  },
  {
   "cell_type": "code",
   "execution_count": null,
   "metadata": {
    "collapsed": true
   },
   "outputs": [],
   "source": [
    "sup_min = 10\n",
    "sup_max = 300\n",
    "lat_min = -35\n",
    "lat_max = -34\n",
    "lon_min = -59\n",
    "lon_max = -58\n",
    "precio_min = 30000\n",
    "precio_max = 3000000"
   ]
  },
  {
   "cell_type": "code",
   "execution_count": null,
   "metadata": {
    "collapsed": true
   },
   "outputs": [],
   "source": [
    "propiedades = pd.read_csv('../../datos_con_fecha.csv')\n",
    "\n",
    "propiedades = propiedades.loc[(propiedades.price_aprox_usd.notnull()) & (propiedades.superficie.notnull())\\\n",
    "                              & (propiedades.lat.notnull()) & (propiedades.lon.notnull()) & (propiedades.Year >=2017)\\\n",
    "                        & (propiedades.price_aprox_usd <= precio_max) & (propiedades.price_aprox_usd >= precio_min) &\\\n",
    "                         (propiedades.superficie <= sup_max) & (propiedades.superficie >= sup_min) &\\\n",
    "                      (propiedades.lat <= lat_max) & (propiedades.lat >= lat_min) &\\\n",
    "                       (propiedades.lon <= lon_max) & (propiedades.lon >= lon_min),:]\n",
    "\n",
    "columnas = ['superficie','lat', 'lon','property_type_encoded','seguridad','gimnasio', 'aire', \\\n",
    "            'pileta', 'cochera','transporte','comercio', 'servicios', 'doble piso', 'jardin','fecha']\n",
    "\n",
    "set_entrenamiento_datos = propiedades.loc[:,columnas]\n",
    "set_entrenamiento_resultado = propiedades.loc[:,'price_aprox_usd']"
   ]
  },
  {
   "cell_type": "code",
   "execution_count": null,
   "metadata": {},
   "outputs": [],
   "source": [
    "inicio = time.strftime(\"%X\")\n",
    "\n",
    "xgb = xgboost.XGBRegressor(n_estimators = 15000, max_depth = 50, learning_rate = 0.5)\n",
    "\n",
    "xgb.fit(set_entrenamiento_datos, set_entrenamiento_resultado)\n",
    "\n",
    "fin = time.strftime(\"%X\")\n",
    "\n",
    "print(\"Tiempo: {} --- {} \".format(inicio,fin))"
   ]
  },
  {
   "cell_type": "code",
   "execution_count": null,
   "metadata": {},
   "outputs": [],
   "source": [
    "analizar = pd.read_csv(\"../properati_dataset_modificado2.csv\")\n",
    "\n",
    "analizar.loc[:,'price_usd'] = xgb.predict(analizar.loc[:,columnas])\n",
    "analizar.loc[:,'price_usd'] = analizar.loc[:,\"price_usd\"].apply(lambda x: abs(x))\n",
    "resultado = analizar.loc[:,['id','price_usd']]\n",
    "\n",
    "resultado.to_csv('resultados/XGBoost_15kEst_confecha.csv', index = False)\n",
    "joblib.dump(xgb, 'algoritmos/XGBoost_15kEst_confecha.pkl')"
   ]
  },
  {
   "cell_type": "markdown",
   "metadata": {},
   "source": [
    "# Usando muchos estimadores sin fecha"
   ]
  },
  {
   "cell_type": "code",
   "execution_count": null,
   "metadata": {
    "collapsed": true
   },
   "outputs": [],
   "source": [
    "sup_min = 10\n",
    "sup_max = 300\n",
    "lat_min = -35\n",
    "lat_max = -34\n",
    "lon_min = -59\n",
    "lon_max = -58\n",
    "precio_min = 30000\n",
    "precio_max = 3000000"
   ]
  },
  {
   "cell_type": "code",
   "execution_count": null,
   "metadata": {
    "collapsed": true
   },
   "outputs": [],
   "source": [
    "propiedades = pd.read_csv('../../datos_con_fecha.csv')\n",
    "\n",
    "propiedades = propiedades.loc[(propiedades.price_aprox_usd.notnull()) & (propiedades.superficie.notnull())\\\n",
    "                              & (propiedades.lat.notnull()) & (propiedades.lon.notnull()) & (propiedades.Year >=2017)\\\n",
    "                        & (propiedades.price_aprox_usd <= precio_max) & (propiedades.price_aprox_usd >= precio_min) &\\\n",
    "                         (propiedades.superficie <= sup_max) & (propiedades.superficie >= sup_min) &\\\n",
    "                      (propiedades.lat <= lat_max) & (propiedades.lat >= lat_min) &\\\n",
    "                       (propiedades.lon <= lon_max) & (propiedades.lon >= lon_min),:]\n",
    "\n",
    "columnas = ['superficie','lat', 'lon','property_type_encoded','seguridad','gimnasio', 'aire', \\\n",
    "            'pileta', 'cochera','transporte','comercio', 'servicios', 'doble piso', 'jardin']\n",
    "\n",
    "set_entrenamiento_datos = propiedades.loc[:,columnas]\n",
    "set_entrenamiento_resultado = propiedades.loc[:,'price_aprox_usd']"
   ]
  },
  {
   "cell_type": "code",
   "execution_count": null,
   "metadata": {
    "collapsed": true
   },
   "outputs": [],
   "source": [
    "inicio = time.strftime(\"%X\")\n",
    "\n",
    "xgb = xgboost.XGBRegressor(n_estimators = 15000, max_depth = 50, learning_rate = 0.5)\n",
    "\n",
    "xgb.fit(set_entrenamiento_datos, set_entrenamiento_resultado)\n",
    "\n",
    "fin = time.strftime(\"%X\")\n",
    "\n",
    "print(\"Tiempo: {} --- {} \".format(inicio,fin))"
   ]
  },
  {
   "cell_type": "code",
   "execution_count": null,
   "metadata": {
    "collapsed": true
   },
   "outputs": [],
   "source": [
    "analizar = pd.read_csv(\"../properati_dataset_modificado2.csv\")\n",
    "\n",
    "analizar.loc[:,'price_usd'] = xgb.predict(analizar.loc[:,columnas])\n",
    "analizar.loc[:,'price_usd'] = analizar.loc[:,\"price_usd\"].apply(lambda x: abs(x))\n",
    "resultado = analizar.loc[:,['id','price_usd']]\n",
    "\n",
    "resultado.to_csv('resultados/XGBoost_15kEst_sinfecha.csv', index = False)\n",
    "joblib.dump(xgb, 'algoritmos/XGBoost_15kEst_sinfecha.pkl')"
   ]
  }
 ],
 "metadata": {
  "anaconda-cloud": {},
  "kernelspec": {
   "display_name": "Python 3",
   "language": "python",
   "name": "python3"
  },
  "language_info": {
   "codemirror_mode": {
    "name": "ipython",
    "version": 3
   },
   "file_extension": ".py",
   "mimetype": "text/x-python",
   "name": "python",
   "nbconvert_exporter": "python",
   "pygments_lexer": "ipython3",
   "version": "3.6.1"
  }
 },
 "nbformat": 4,
 "nbformat_minor": 2
}
