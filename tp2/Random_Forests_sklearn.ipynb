{
 "cells": [
  {
   "cell_type": "code",
   "execution_count": 8,
   "metadata": {
    "collapsed": true
   },
   "outputs": [],
   "source": [
    "import warnings\n",
    "warnings.simplefilter(\"ignore\", category=DeprecationWarning)"
   ]
  },
  {
   "cell_type": "code",
   "execution_count": 2,
   "metadata": {
    "collapsed": true
   },
   "outputs": [],
   "source": [
    "import pandas as pd\n",
    "import numpy as np\n",
    "from sklearn.ensemble import RandomForestRegressor\n",
    "from sklearn import preprocessing"
   ]
  },
  {
   "cell_type": "code",
   "execution_count": 3,
   "metadata": {
    "collapsed": true
   },
   "outputs": [],
   "source": [
    "def error_relativo(x,medido):\n",
    "    return abs(x - medido) * 100 / x"
   ]
  },
  {
   "cell_type": "code",
   "execution_count": 32,
   "metadata": {},
   "outputs": [],
   "source": [
    "propiedades = pd.read_csv('/home/mati/Desktop/properati_descripciones_knn.csv')"
   ]
  },
  {
   "cell_type": "code",
   "execution_count": 33,
   "metadata": {
    "collapsed": true
   },
   "outputs": [],
   "source": [
    "set_entrenamiento = propiedades.loc[(propiedades.Year < 2017) | (propiedades.Month < 6),\\\n",
    "        ['superficie','place_name_encoded','property_type_encoded','price_aprox_usd','seguridad','gimnasio']]\n",
    "set_pruebas = propiedades.loc[(propiedades.Year == 2017) & (propiedades.Month == 6),\\\n",
    "        ['superficie','place_name_encoded','property_type_encoded','price_aprox_usd','seguridad','gimnasio']].sample(15000)"
   ]
  },
  {
   "cell_type": "code",
   "execution_count": 34,
   "metadata": {
    "collapsed": true
   },
   "outputs": [],
   "source": [
    "set_entrenamiento_datos = set_entrenamiento.loc[:,['superficie','place_name_encoded','property_type_encoded',\\\n",
    "                                                   'seguridad','gimnasio']]\n",
    "set_entrenamiento_resultado = set_entrenamiento.loc[:,'price_aprox_usd']"
   ]
  },
  {
   "cell_type": "code",
   "execution_count": 35,
   "metadata": {},
   "outputs": [],
   "source": [
    "randomforest = RandomForestRegressor()\n",
    "randomforest.fit(set_entrenamiento_datos,set_entrenamiento_resultado)\n",
    "set_pruebas.loc[:,'resultado'] = set_pruebas.loc[:,['superficie','place_name_encoded','property_type_encoded',\\\n",
    "                            'seguridad','gimnasio']].apply(lambda x: randomforest.predict(x)[0],axis = 1)\n",
    "set_pruebas.loc[:,'error_relativo'] = set_pruebas.loc[:,['price_aprox_usd','resultado']].\\\n",
    "                apply(lambda x: error_relativo(x[0],x[1]), axis = 1)"
   ]
  },
  {
   "cell_type": "code",
   "execution_count": 36,
   "metadata": {},
   "outputs": [
    {
     "name": "stdout",
     "output_type": "stream",
     "text": [
      "66.8367541021\n"
     ]
    },
    {
     "data": {
      "text/plain": [
       "count    14883.000000\n",
       "mean        15.374766\n",
       "std         21.768486\n",
       "min          0.000000\n",
       "25%          1.785450\n",
       "50%          8.166667\n",
       "75%         20.225245\n",
       "max        199.153133\n",
       "Name: error_relativo, dtype: float64"
      ]
     },
     "execution_count": 36,
     "metadata": {},
     "output_type": "execute_result"
    }
   ],
   "source": [
    "print(randomforest.score(set_pruebas.loc[:,['superficie','place_name_encoded','property_type_encoded',\\\n",
    "                            'seguridad','gimnasio']],set_pruebas.loc[:,'price_aprox_usd']) * 100)\n",
    "set_pruebas[set_pruebas.error_relativo < 200].error_relativo.describe()"
   ]
  },
  {
   "cell_type": "markdown",
   "metadata": {},
   "source": [
    "## Ahora que tenemos una intuicion, probamos cambiando los parametros"
   ]
  },
  {
   "cell_type": "code",
   "execution_count": 14,
   "metadata": {
    "collapsed": true
   },
   "outputs": [],
   "source": [
    "propiedades = pd.read_csv('/home/mati/Desktop/properati_descripciones_knn.csv')\n",
    "\n",
    "set_entrenamiento = propiedades.loc[(propiedades.Year < 2017) | (propiedades.Month < 6),\\\n",
    "        ['superficie','place_name_encoded','property_type_encoded','price_aprox_usd','seguridad','gimnasio']]\n",
    "set_pruebas = propiedades.loc[(propiedades.Year == 2017) & (propiedades.Month == 6),\\\n",
    "        ['superficie','place_name_encoded','property_type_encoded','price_aprox_usd','seguridad','gimnasio']].sample(15000)\n",
    "\n",
    "set_entrenamiento_datos = set_entrenamiento.loc[:,['superficie','place_name_encoded','property_type_encoded',\\\n",
    "                                                   'seguridad','gimnasio']]\n",
    "set_entrenamiento_resultado = set_entrenamiento.loc[:,'price_aprox_usd']"
   ]
  },
  {
   "cell_type": "code",
   "execution_count": null,
   "metadata": {},
   "outputs": [],
   "source": [
    "res = []\n",
    "lista_arboles = [5,10,20,30,100]\n",
    "lista_feature = [0.5]\n",
    "\n",
    "for cant_arbol in lista_arboles:\n",
    "    for feature in lista_feature:\n",
    "        randomforest = RandomForestRegressor(n_estimators = cant_arbol, max_features = feature)\n",
    "        randomforest.fit(set_entrenamiento_datos,set_entrenamiento_resultado)\n",
    "        set_pruebas.loc[:,'resultado'] = set_pruebas.loc[:,['superficie','place_name_encoded','property_type_encoded',\\\n",
    "                            'seguridad','gimnasio']].apply(lambda x: randomforest.predict(x)[0],axis = 1)\n",
    "        set_pruebas.loc[:,'error_relativo'] = set_pruebas.loc[:,['price_aprox_usd','resultado']].\\\n",
    "                apply(lambda x: error_relativo(x[0],x[1]), axis = 1)\n",
    "        error = set_pruebas.loc[set_pruebas.error_relativo < 200,:].error_relativo.mean()\n",
    "        cant = set_pruebas.loc[set_pruebas.error_relativo < 200,:].error_relativo.count()\n",
    "        precision = randomforest.score(set_pruebas.loc[:,['superficie','place_name_encoded','property_type_encoded',\\\n",
    "                            'seguridad','gimnasio']],set_pruebas.loc[:,'price_aprox_usd']) * 100\n",
    "        res.append((cant_arbol,feature,error,cant,precision))\n",
    "        print(cant_arbol,' - ',feature)"
   ]
  },
  {
   "cell_type": "code",
   "execution_count": 21,
   "metadata": {},
   "outputs": [
    {
     "name": "stdout",
     "output_type": "stream",
     "text": [
      "Cant arboles = 5, % features = 0.5, error = 15.51140013061924, cantidad = 14859, precision = 85.35\n",
      "Cant arboles = 5, % features = 0.7, error = 15.50905961189723, cantidad = 14854, precision = 64.52\n",
      "Cant arboles = 5, % features = 1.0, error = 15.371427728972733, cantidad = 14847, precision = 63.64\n",
      "Cant arboles = 10, % features = 0.5, error = 15.491710897184387, cantidad = 14859, precision = 85.61\n",
      "Cant arboles = 10, % features = 0.7, error = 15.470925951849924, cantidad = 14858, precision = 80.35\n",
      "Cant arboles = 10, % features = 1.0, error = 15.421936805593825, cantidad = 14854, precision = 85.20\n",
      "Cant arboles = 20, % features = 0.5, error = 15.391098003460806, cantidad = 14857, precision = 80.54\n",
      "Cant arboles = 20, % features = 0.7, error = 15.429889570567612, cantidad = 14851, precision = 70.31\n",
      "Cant arboles = 20, % features = 1.0, error = 15.381341070970887, cantidad = 14853, precision = 60.37\n",
      "Cant arboles = 30, % features = 0.5, error = 15.451073242401757, cantidad = 14858, precision = 82.16\n",
      "Cant arboles = 30, % features = 0.7, error = 15.399026492498944, cantidad = 14855, precision = 73.52\n",
      "Cant arboles = 30, % features = 1.0, error = 15.358732237220092, cantidad = 14852, precision = 65.57\n",
      "Cant arboles = 100, % features = 0.5, error = 15.420536661749727, cantidad = 14857, precision = 85.40\n",
      "Cant arboles = 100, % features = 0.7, error = 15.41311979755502, cantidad = 14856, precision = 84.74\n",
      "Cant arboles = 100, % features = 1.0, error = 15.4078207412614, cantidad = 14856, precision = 77.16\n"
     ]
    }
   ],
   "source": [
    "for r in res:\n",
    "    print(\"Cant arboles = {}, % features = {}, error = {}, cantidad = {}, precision = {:.2f}\".\\\n",
    "          format(r[0],r[1],r[2],r[3],r[4]))"
   ]
  },
  {
   "cell_type": "markdown",
   "metadata": {},
   "source": [
    "## Tomamos features = 0.5 y buscamos cant entre 5 y 15"
   ]
  },
  {
   "cell_type": "code",
   "execution_count": 25,
   "metadata": {},
   "outputs": [
    {
     "name": "stdout",
     "output_type": "stream",
     "text": [
      "9  -  0.6\n",
      "9  -  0.7\n",
      "9  -  0.8\n",
      "9  -  0.9\n",
      "9  -  1.0\n"
     ]
    }
   ],
   "source": [
    "lista_arboles = [9]\n",
    "lista_feature = [0.6,0.7,0.8,0.9,1.0]\n",
    "\n",
    "for cant_arbol in lista_arboles:\n",
    "    for feature in lista_feature:\n",
    "        randomforest = RandomForestRegressor(n_estimators = cant_arbol, max_features = feature)\n",
    "        randomforest.fit(set_entrenamiento_datos,set_entrenamiento_resultado)\n",
    "        set_pruebas.loc[:,'resultado'] = set_pruebas.loc[:,['superficie','place_name_encoded','property_type_encoded',\\\n",
    "                            'seguridad','gimnasio']].apply(lambda x: randomforest.predict(x)[0],axis = 1)\n",
    "        set_pruebas.loc[:,'error_relativo'] = set_pruebas.loc[:,['price_aprox_usd','resultado']].\\\n",
    "                apply(lambda x: error_relativo(x[0],x[1]), axis = 1)\n",
    "        error = set_pruebas.loc[set_pruebas.error_relativo < 200,:].error_relativo.mean()\n",
    "        cant = set_pruebas.loc[set_pruebas.error_relativo < 200,:].error_relativo.count()\n",
    "        precision = randomforest.score(set_pruebas.loc[:,['superficie','place_name_encoded','property_type_encoded',\\\n",
    "                            'seguridad','gimnasio']],set_pruebas.loc[:,'price_aprox_usd']) * 100\n",
    "        res.append((cant_arbol,feature,error,cant,precision))\n",
    "        print(cant_arbol,' - ',feature)"
   ]
  },
  {
   "cell_type": "code",
   "execution_count": 27,
   "metadata": {},
   "outputs": [
    {
     "name": "stdout",
     "output_type": "stream",
     "text": [
      "Cant arboles = 5, % features = 0.5, error = 15.46, cantidad = 14854, precision = 84.18\n",
      "Cant arboles = 6, % features = 0.5, error = 15.37, cantidad = 14852, precision = 70.09\n",
      "Cant arboles = 7, % features = 0.5, error = 15.30, cantidad = 14854, precision = 82.35\n",
      "Cant arboles = 8, % features = 0.5, error = 15.38, cantidad = 14854, precision = 83.46\n",
      "Cant arboles = 9, % features = 0.5, error = 15.39, cantidad = 14857, precision = 85.64\n",
      "Cant arboles = 10, % features = 0.5, error = 15.46, cantidad = 14851, precision = 80.89\n",
      "Cant arboles = 11, % features = 0.5, error = 15.47, cantidad = 14862, precision = 84.11\n",
      "Cant arboles = 12, % features = 0.5, error = 15.43, cantidad = 14850, precision = 85.06\n",
      "Cant arboles = 13, % features = 0.5, error = 15.36, cantidad = 14851, precision = 84.08\n",
      "Cant arboles = 14, % features = 0.5, error = 15.39, cantidad = 14854, precision = 85.40\n",
      "Cant arboles = 15, % features = 0.5, error = 15.45, cantidad = 14856, precision = 80.13\n",
      "Cant arboles = 9, % features = 0.6, error = 15.38, cantidad = 14851, precision = 83.73\n",
      "Cant arboles = 9, % features = 0.7, error = 15.43, cantidad = 14856, precision = 85.70\n",
      "Cant arboles = 9, % features = 0.8, error = 15.40, cantidad = 14847, precision = 59.73\n",
      "Cant arboles = 9, % features = 0.9, error = 15.35, cantidad = 14851, precision = 84.68\n",
      "Cant arboles = 9, % features = 1.0, error = 15.36, cantidad = 14846, precision = 47.15\n"
     ]
    }
   ],
   "source": [
    "for r in res:\n",
    "    print(\"Cant arboles = {}, % features = {}, error = {:.2f}, cantidad = {}, precision = {:.2f}\".\\\n",
    "          format(r[0],r[1],r[2],r[3],r[4]))"
   ]
  },
  {
   "cell_type": "markdown",
   "metadata": {},
   "source": [
    "## Tomamos cant = 9, features = 0.7"
   ]
  },
  {
   "cell_type": "code",
   "execution_count": 41,
   "metadata": {
    "collapsed": true
   },
   "outputs": [],
   "source": [
    "propiedades = pd.read_csv('/home/mati/Desktop/properati_descripciones_knn.csv')\n",
    "\n",
    "set_entrenamiento = propiedades.loc[(propiedades.Year < 2017) | (propiedades.Month < 6),\\\n",
    "        ['superficie','place_name_encoded','property_type_encoded','price_aprox_usd','seguridad','gimnasio']]\n",
    "set_pruebas = propiedades.loc[(propiedades.Year == 2017) & (propiedades.Month == 6),\\\n",
    "        ['superficie','place_name_encoded','property_type_encoded','price_aprox_usd','seguridad','gimnasio']].sample(15000)\n",
    "\n",
    "set_entrenamiento_datos = set_entrenamiento.loc[:,['superficie','place_name_encoded','property_type_encoded',\\\n",
    "                                                   'seguridad','gimnasio']]\n",
    "set_entrenamiento_resultado = set_entrenamiento.loc[:,'price_aprox_usd']"
   ]
  },
  {
   "cell_type": "code",
   "execution_count": 42,
   "metadata": {},
   "outputs": [
    {
     "name": "stdout",
     "output_type": "stream",
     "text": [
      "86.0141632861\n"
     ]
    }
   ],
   "source": [
    "randomforest = RandomForestRegressor(n_estimators = 9, max_features = 0.7)\n",
    "randomforest.fit(set_entrenamiento_datos,set_entrenamiento_resultado)\n",
    "set_pruebas.loc[:,'resultado'] = set_pruebas.loc[:,['superficie','place_name_encoded','property_type_encoded',\\\n",
    "                            'seguridad','gimnasio']].apply(lambda x: randomforest.predict(x)[0],axis = 1)\n",
    "set_pruebas.loc[:,'error_relativo'] = set_pruebas.loc[:,['price_aprox_usd','resultado']].\\\n",
    "                apply(lambda x: error_relativo(x[0],x[1]), axis = 1)\n",
    "        \n",
    "precision = randomforest.score(set_pruebas.loc[:,['superficie','place_name_encoded','property_type_encoded',\\\n",
    "                            'seguridad','gimnasio']],set_pruebas.loc[:,'price_aprox_usd']) * 100\n",
    "\n",
    "print(precision)"
   ]
  },
  {
   "cell_type": "markdown",
   "metadata": {},
   "source": [
    "# calculo con los verdaderos datos a analizar"
   ]
  },
  {
   "cell_type": "code",
   "execution_count": 44,
   "metadata": {},
   "outputs": [],
   "source": [
    "analizar = pd.read_csv(\"/home/mati/Desktop/properati_dataset_modificado.csv\")"
   ]
  },
  {
   "cell_type": "code",
   "execution_count": 45,
   "metadata": {
    "collapsed": true
   },
   "outputs": [],
   "source": [
    "analizar.loc[:,'price_usd'] = analizar.loc[:,['superficie','place_name_encoded','property_type_encoded',\\\n",
    "                            'seguridad','gimnasio']].apply(lambda x: randomforest.predict(x)[0],axis = 1)"
   ]
  },
  {
   "cell_type": "code",
   "execution_count": 46,
   "metadata": {},
   "outputs": [
    {
     "data": {
      "text/html": [
       "<div>\n",
       "<style>\n",
       "    .dataframe thead tr:only-child th {\n",
       "        text-align: right;\n",
       "    }\n",
       "\n",
       "    .dataframe thead th {\n",
       "        text-align: left;\n",
       "    }\n",
       "\n",
       "    .dataframe tbody tr th {\n",
       "        vertical-align: top;\n",
       "    }\n",
       "</style>\n",
       "<table border=\"1\" class=\"dataframe\">\n",
       "  <thead>\n",
       "    <tr style=\"text-align: right;\">\n",
       "      <th></th>\n",
       "      <th>id</th>\n",
       "      <th>price_usd</th>\n",
       "    </tr>\n",
       "  </thead>\n",
       "  <tbody>\n",
       "    <tr>\n",
       "      <th>0</th>\n",
       "      <td>3632</td>\n",
       "      <td>230714.056167</td>\n",
       "    </tr>\n",
       "    <tr>\n",
       "      <th>1</th>\n",
       "      <td>3633</td>\n",
       "      <td>145322.962963</td>\n",
       "    </tr>\n",
       "    <tr>\n",
       "      <th>2</th>\n",
       "      <td>2263404</td>\n",
       "      <td>108566.910048</td>\n",
       "    </tr>\n",
       "    <tr>\n",
       "      <th>3</th>\n",
       "      <td>2263405</td>\n",
       "      <td>70591.448802</td>\n",
       "    </tr>\n",
       "    <tr>\n",
       "      <th>4</th>\n",
       "      <td>2263406</td>\n",
       "      <td>57015.873016</td>\n",
       "    </tr>\n",
       "  </tbody>\n",
       "</table>\n",
       "</div>"
      ],
      "text/plain": [
       "        id      price_usd\n",
       "0     3632  230714.056167\n",
       "1     3633  145322.962963\n",
       "2  2263404  108566.910048\n",
       "3  2263405   70591.448802\n",
       "4  2263406   57015.873016"
      ]
     },
     "execution_count": 46,
     "metadata": {},
     "output_type": "execute_result"
    }
   ],
   "source": [
    "resultado = analizar.loc[:,['id','price_usd']]\n",
    "resultado.to_csv('Random_Forests_resultados', index = False)\n",
    "resultado.head()"
   ]
  }
 ],
 "metadata": {
  "kernelspec": {
   "display_name": "Python 3",
   "language": "python",
   "name": "python3"
  },
  "language_info": {
   "codemirror_mode": {
    "name": "ipython",
    "version": 3
   },
   "file_extension": ".py",
   "mimetype": "text/x-python",
   "name": "python",
   "nbconvert_exporter": "python",
   "pygments_lexer": "ipython3",
   "version": "3.6.1"
  }
 },
 "nbformat": 4,
 "nbformat_minor": 2
}
