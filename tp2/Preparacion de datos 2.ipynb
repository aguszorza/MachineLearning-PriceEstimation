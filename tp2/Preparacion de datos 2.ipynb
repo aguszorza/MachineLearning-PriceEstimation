{
 "cells": [
  {
   "cell_type": "markdown",
   "metadata": {},
   "source": [
    "# Para las pruebas, dejando en NAN los que no tienen datos"
   ]
  },
  {
   "cell_type": "code",
   "execution_count": 1,
   "metadata": {
    "collapsed": true
   },
   "outputs": [],
   "source": [
    "import pandas as pd\n",
    "import numpy as np\n",
    "from sklearn import preprocessing\n",
    "from math import radians, sin, cos, asin, sqrt, pi, atan, atan2, fabs\n",
    "\n",
    "import geopandas as gpd\n",
    "from shapely.geometry import Polygon, MultiPolygon, Point\n",
    "from shapely import wkt"
   ]
  },
  {
   "cell_type": "code",
   "execution_count": 2,
   "metadata": {},
   "outputs": [
    {
     "name": "stdout",
     "output_type": "stream",
     "text": [
      "<class 'pandas.core.frame.DataFrame'>\n",
      "RangeIndex: 14166 entries, 0 to 14165\n",
      "Data columns (total 17 columns):\n",
      "id                         14166 non-null int64\n",
      "created_on                 14166 non-null object\n",
      "property_type              14166 non-null object\n",
      "operation                  14166 non-null object\n",
      "place_name                 14166 non-null object\n",
      "place_with_parent_names    14166 non-null object\n",
      "country_name               14166 non-null object\n",
      "state_name                 14166 non-null object\n",
      "lat-lon                    10487 non-null object\n",
      "lat                        10487 non-null float64\n",
      "lon                        10487 non-null float64\n",
      "surface_total_in_m2        11853 non-null float64\n",
      "surface_covered_in_m2      13005 non-null float64\n",
      "floor                      1368 non-null float64\n",
      "rooms                      7500 non-null float64\n",
      "expenses                   2543 non-null object\n",
      "description                14166 non-null object\n",
      "dtypes: float64(6), int64(1), object(10)\n",
      "memory usage: 1.8+ MB\n"
     ]
    }
   ],
   "source": [
    "pruebas = pd.read_csv(\"properati_dataset_testing_noprice.csv\")\n",
    "pruebas.info()"
   ]
  },
  {
   "cell_type": "code",
   "execution_count": 3,
   "metadata": {
    "collapsed": true
   },
   "outputs": [],
   "source": [
    "def unificar_superficies(fila):\n",
    "    total,covered = fila\n",
    "    if (not np.isnan(total) and total != 0):\n",
    "        return total\n",
    "    if (not np.isnan(covered) and covered != 0):\n",
    "        return covered\n",
    "    return None\n",
    "\n",
    "pruebas.loc[:,'superficie'] = pruebas.loc[:,['surface_total_in_m2','surface_covered_in_m2']].apply\\\n",
    "            (lambda x: unificar_superficies(x), axis = 1)"
   ]
  },
  {
   "cell_type": "code",
   "execution_count": 4,
   "metadata": {
    "collapsed": true
   },
   "outputs": [],
   "source": [
    "def ponerNAN(valor,minimo,maximo):\n",
    "    if (valor >= minimo) and (valor <= maximo):\n",
    "        return valor\n",
    "    return None"
   ]
  },
  {
   "cell_type": "code",
   "execution_count": 5,
   "metadata": {
    "collapsed": true
   },
   "outputs": [],
   "source": [
    "sup_min = 10\n",
    "sup_max = 300\n",
    "lat_min = -35\n",
    "lat_max = -34\n",
    "lon_min = -59\n",
    "lon_max = -58\n",
    "\n",
    "pruebas.loc[:,'superficie'] = pruebas.loc[:,'superficie'].apply(lambda x: ponerNAN(x,sup_min,sup_max))\n",
    "pruebas.loc[:,'lat'] = pruebas.loc[:,'lat'].apply(lambda x: ponerNAN(x,lat_min,lat_max))\n",
    "pruebas.loc[:,'lon'] = pruebas.loc[:,'lon'].apply(lambda x: ponerNAN(x,lon_min,lon_max))"
   ]
  },
  {
   "cell_type": "code",
   "execution_count": 6,
   "metadata": {
    "collapsed": true
   },
   "outputs": [],
   "source": [
    "def tiene_cadena(cadena, lista):\n",
    "    cadena = str(cadena)\n",
    "    cadena = cadena.lower()\n",
    "    resultado = False\n",
    "    for x in lista:\n",
    "        resultado = resultado or (x in cadena)\n",
    "    return resultado\n"
   ]
  },
  {
   "cell_type": "code",
   "execution_count": 7,
   "metadata": {},
   "outputs": [
    {
     "name": "stdout",
     "output_type": "stream",
     "text": [
      "OK\n"
     ]
    }
   ],
   "source": [
    "cadenas = ['vigilancia', 'seguridad', 'alarma', 'blindado', 'blindaje', 'guardia']\n",
    "pruebas.loc[:,'seguridad'] = pruebas.loc[:, 'description'].apply(lambda x: tiene_cadena(x, cadenas))\n",
    "print(\"OK\")"
   ]
  },
  {
   "cell_type": "code",
   "execution_count": 8,
   "metadata": {},
   "outputs": [
    {
     "name": "stdout",
     "output_type": "stream",
     "text": [
      "OK\n"
     ]
    }
   ],
   "source": [
    "cadenas = ['gimnasio', 'gym', 'gimnacio']\n",
    "pruebas.loc[:,'gimnasio'] = pruebas.loc[:, 'description'].apply(lambda x: tiene_cadena(x, cadenas))\n",
    "print(\"OK\")"
   ]
  },
  {
   "cell_type": "code",
   "execution_count": 9,
   "metadata": {},
   "outputs": [
    {
     "name": "stdout",
     "output_type": "stream",
     "text": [
      "OK\n"
     ]
    }
   ],
   "source": [
    "cadenas = ['aire frio', 'aire acondicionado', 'split', 'aires acondicionados', 'climatizador', 'central',\\\n",
    "          'losa radiante', 'piso radiante', 'pisoradiante', 'loza radiante', 'los radiantes', 'radante',\\\n",
    "          'radiador']\n",
    "pruebas.loc[:,'aire'] = pruebas.loc[:, 'description'].apply(lambda x: tiene_cadena(x, cadenas))\n",
    "print(\"OK\")"
   ]
  },
  {
   "cell_type": "code",
   "execution_count": 10,
   "metadata": {},
   "outputs": [
    {
     "name": "stdout",
     "output_type": "stream",
     "text": [
      "OK\n"
     ]
    }
   ],
   "source": [
    "cadenas = ['pileta', 'piscina', 'picina','pisina', 'yaccuzi', ' jacuzzi', 'jacuzi',\\\n",
    "           'yacuzi', 'yacusi', 'jacussi', 'hidromasaje']\n",
    "pruebas.loc[:,'pileta'] = pruebas.loc[:, 'description'].apply(lambda x: tiene_cadena(x, cadenas))\n",
    "print(\"OK\")"
   ]
  },
  {
   "cell_type": "code",
   "execution_count": 11,
   "metadata": {},
   "outputs": [
    {
     "name": "stdout",
     "output_type": "stream",
     "text": [
      "OK\n"
     ]
    }
   ],
   "source": [
    "cadenas = ['cochera', 'garage', 'estacionamiento', 'entrada de auto']\n",
    "pruebas.loc[:,'cochera'] = pruebas.loc[:, 'description'].apply(lambda x: tiene_cadena(x, cadenas))\n",
    "print(\"OK\")"
   ]
  },
  {
   "cell_type": "code",
   "execution_count": 12,
   "metadata": {},
   "outputs": [
    {
     "name": "stdout",
     "output_type": "stream",
     "text": [
      "OK\n"
     ]
    }
   ],
   "source": [
    "cadenas = ['tren', 'subte', 'estacion', 'estación']\n",
    "pruebas.loc[:,'transporte'] = pruebas.loc[:, 'description'].apply(lambda x: tiene_cadena(x, cadenas))\n",
    "print(\"OK\")"
   ]
  },
  {
   "cell_type": "code",
   "execution_count": 13,
   "metadata": {},
   "outputs": [
    {
     "name": "stdout",
     "output_type": "stream",
     "text": [
      "OK\n"
     ]
    }
   ],
   "source": [
    "cadenas = ['shoping', 'shopping', 'shoppin', 'centro comercial', 'museo', 'monumento', 'estadio', 'cancha', 'comercio']\n",
    "pruebas.loc[:,'comercio'] = pruebas.loc[:, 'description'].apply(lambda x: tiene_cadena(x, cadenas))\n",
    "print(\"OK\")"
   ]
  },
  {
   "cell_type": "code",
   "execution_count": 14,
   "metadata": {},
   "outputs": [
    {
     "name": "stdout",
     "output_type": "stream",
     "text": [
      "OK\n"
     ]
    }
   ],
   "source": [
    "cadenas = ['hospital', 'escuela', 'universidad', 'clínica', 'clinica', 'sanatorio']\n",
    "pruebas.loc[:,'servicios'] = pruebas.loc[:, 'description'].apply(lambda x: tiene_cadena(x, cadenas))\n",
    "print(\"OK\")"
   ]
  },
  {
   "cell_type": "code",
   "execution_count": 15,
   "metadata": {},
   "outputs": [
    {
     "name": "stdout",
     "output_type": "stream",
     "text": [
      "OK\n"
     ]
    }
   ],
   "source": [
    "cadenas = ['parrila', 'jardin', 'jardín', 'parrilla', 'fondo', 'parque', 'quincho', 'sum']\n",
    "pruebas.loc[:,'jardin'] = pruebas.loc[:, 'description'].apply(lambda x: tiene_cadena(x, cadenas))\n",
    "print(\"OK\")"
   ]
  },
  {
   "cell_type": "code",
   "execution_count": 16,
   "metadata": {},
   "outputs": [
    {
     "name": "stdout",
     "output_type": "stream",
     "text": [
      "OK\n"
     ]
    }
   ],
   "source": [
    "cadenas = ['pisos', 'plantas', 'escaleras', 'escalera', 'planta baja', 'planta alta']\n",
    "pruebas.loc[:,'doble piso'] = pruebas.loc[:, 'description'].apply(lambda x: tiene_cadena(x, cadenas))\n",
    "print(\"OK\")"
   ]
  },
  {
   "cell_type": "code",
   "execution_count": 17,
   "metadata": {},
   "outputs": [
    {
     "name": "stdout",
     "output_type": "stream",
     "text": [
      "OK\n"
     ]
    }
   ],
   "source": [
    "#Agrego la columna fecha\n",
    "\n",
    "pruebas.loc[:,'Month'] = pruebas.created_on.apply(lambda x: int(x.split('-')[1]))\n",
    "pruebas.loc[:,'Year'] = pruebas.created_on.apply(lambda x: int(x.split('-')[0]))\n",
    "pruebas.loc[:,'fecha'] = pruebas.loc[:,['Year', 'Month']].apply(lambda x: int(str(x[0]) + str(x[1])), axis = 1)\n",
    "print(\"OK\")"
   ]
  },
  {
   "cell_type": "code",
   "execution_count": 18,
   "metadata": {
    "collapsed": true
   },
   "outputs": [],
   "source": [
    "def calcular_distancia(lat1,long1,lat2,long2):\n",
    "    lon1, lat1 = (radians(coord) for coord in (long1,lat1))\n",
    "    lon2, lat2 = (radians(coord) for coord in (long2,lat2))\n",
    "    dlat = (lat2 - lat1)\n",
    "    dlon = (lon2 - lon1)\n",
    "    a = (\n",
    "        sin(dlat * 0.5)**2 +\n",
    "        cos(lat1) * cos(lat2) * sin(dlon * 0.5)**2\n",
    "    )\n",
    "    \n",
    "    radioTierra = 6371008.8\n",
    "    return 2 * radioTierra * asin(sqrt(a)) / 1000\n",
    "\n",
    "#distancia de Haversine"
   ]
  },
  {
   "cell_type": "code",
   "execution_count": 19,
   "metadata": {
    "collapsed": true
   },
   "outputs": [],
   "source": [
    "def distancia_minima(fila, dataframe):\n",
    "    lat, lon = fila\n",
    "    distancias = []\n",
    "    for i in range (len(dataframe)):\n",
    "        d = calcular_distancia(lat,lon,dataframe.lat[i], dataframe.lon[i])\n",
    "        distancias.append(d)\n",
    "    return min(distancias)"
   ]
  },
  {
   "cell_type": "code",
   "execution_count": 20,
   "metadata": {},
   "outputs": [
    {
     "name": "stdout",
     "output_type": "stream",
     "text": [
      "OK\n"
     ]
    }
   ],
   "source": [
    "#Pertenece realmente a Capital?\n",
    "CABA = gpd.read_file('tpDatos/tp1/datos/mapas/barrios.shp')\n",
    "pruebas.loc[:,'capital'] = pruebas.loc[:,['lon','lat']].apply(lambda x: CABA.contains(Point(x[0], x[1])).any(),axis = 1)\n",
    "print(\"OK\")"
   ]
  },
  {
   "cell_type": "code",
   "execution_count": 24,
   "metadata": {
    "collapsed": true
   },
   "outputs": [],
   "source": [
    "condiciones = (pruebas.capital == True) & (pruebas.lat.notnull()) & (pruebas.lon.notnull())"
   ]
  },
  {
   "cell_type": "code",
   "execution_count": 25,
   "metadata": {},
   "outputs": [
    {
     "name": "stdout",
     "output_type": "stream",
     "text": [
      "OK\n"
     ]
    }
   ],
   "source": [
    "# Distancia de subtes\n",
    "subtes = pd.read_csv('tpDatos/tp1/datos/estaciones-de-subte.csv', sep = \",\")\n",
    "subtes.rename(columns = {'X': 'lon', 'Y': 'lat'}, inplace = True)\n",
    "pruebas.loc[:,'distancia_subtes'] = 0\n",
    "pruebas.loc[condiciones,'distancia_subtes'] = \\\n",
    "        pruebas.loc[condiciones,['lat','lon']].apply(lambda x: distancia_minima(x, subtes), axis = 1)\n",
    "print(\"OK\")"
   ]
  },
  {
   "cell_type": "code",
   "execution_count": 26,
   "metadata": {},
   "outputs": [
    {
     "name": "stdout",
     "output_type": "stream",
     "text": [
      "OK\n"
     ]
    }
   ],
   "source": [
    "# Distancia a monumentos\n",
    "monumentos = pd.read_csv('tpDatos/tp1/datos/monumentos.csv', sep = \",\")\n",
    "pruebas.loc[:,'distancia_monumentos'] = 0\n",
    "pruebas.loc[condiciones,'distancia_monumentos'] = \\\n",
    "        pruebas.loc[condiciones,['lat','lon']].apply(lambda x: distancia_minima(x, monumentos), axis = 1)\n",
    "print(\"OK\")"
   ]
  },
  {
   "cell_type": "code",
   "execution_count": 27,
   "metadata": {},
   "outputs": [
    {
     "name": "stdout",
     "output_type": "stream",
     "text": [
      "OK\n"
     ]
    }
   ],
   "source": [
    "# Distancia a estadios\n",
    "estadios = pd.read_csv('tpDatos/tp1/datos/estadios.csv', sep = \";\")\n",
    "estadios.rename(columns = {'LAT': 'lat', 'LONG': 'lon' }, inplace = True)\n",
    "pruebas.loc[:,'distancia_estadios'] = 0\n",
    "pruebas.loc[condiciones,'distancia_estadios'] = \\\n",
    "        pruebas.loc[condiciones,['lat','lon']].apply(lambda x: distancia_minima(x, estadios), axis = 1)\n",
    "print(\"OK\")"
   ]
  },
  {
   "cell_type": "code",
   "execution_count": 29,
   "metadata": {},
   "outputs": [
    {
     "name": "stdout",
     "output_type": "stream",
     "text": [
      "OK\n"
     ]
    }
   ],
   "source": [
    "# Distancia a Villas\n",
    "villas = gpd.read_file('tpDatos/tp1/datos/villas/villas.dbf')\n",
    "pruebas.loc[:,'distancia_villas'] = 0\n",
    "pruebas.loc[condiciones,'distancia_villas'] = \\\n",
    "        pruebas.loc[condiciones,['lat','lon']].apply(lambda x: min(villas.distance(Point(x[1], x[0]))) * 100, axis = 1)\n",
    "print(\"OK\")"
   ]
  },
  {
   "cell_type": "code",
   "execution_count": 30,
   "metadata": {},
   "outputs": [
    {
     "name": "stdout",
     "output_type": "stream",
     "text": [
      "OK\n"
     ]
    }
   ],
   "source": [
    "# Pertenece a una zona de inundacion\n",
    "inundaciones = gpd.read_file('tpDatos/tp1/datos/mapas/inundaciones.dbf')\n",
    "\n",
    "pruebas.loc[:,'Zona_inundacion'] = 0\n",
    "pruebas.loc[condiciones,'Zona_inundacion'] = pruebas.loc[condiciones,\\\n",
    "                        ['lat','lon']].apply(lambda x: inundaciones.contains(Point(x[1], x[0])).any(), axis = 1)\n",
    "print(\"OK\")"
   ]
  },
  {
   "cell_type": "code",
   "execution_count": 31,
   "metadata": {
    "collapsed": true
   },
   "outputs": [],
   "source": [
    "pruebas.drop(['operation','country_name','lat-lon'], axis = 1, inplace = True)"
   ]
  },
  {
   "cell_type": "code",
   "execution_count": 36,
   "metadata": {
    "collapsed": true
   },
   "outputs": [],
   "source": [
    "def traducir_tipo_propiedad(x):\n",
    "    if x == 'casa':\n",
    "        return 'house'\n",
    "    if x == 'departamento':\n",
    "        return 'apartment'\n",
    "    if x == 'ph':\n",
    "        return 'PH'\n",
    "    return x\n",
    "#Traduzco el tipo de propiedad\n",
    "pruebas.loc[:,'property_type'] = pruebas.loc[:,'property_type'].apply(traducir_tipo_propiedad)"
   ]
  },
  {
   "cell_type": "code",
   "execution_count": 44,
   "metadata": {
    "collapsed": true
   },
   "outputs": [],
   "source": [
    "tipos = ['PH','apartment','house']\n",
    "encoder_types = preprocessing.LabelEncoder()\n",
    "encoder_types.fit(tipos)\n",
    "pruebas.loc[:,'property_type_encoded'] = pruebas.loc[:,'property_type'].apply(lambda x: encoder_types.transform([x])[0])"
   ]
  },
  {
   "cell_type": "code",
   "execution_count": 52,
   "metadata": {
    "collapsed": true
   },
   "outputs": [],
   "source": [
    "pruebas.to_csv('properati_dataset_modificado3.csv', index = False)"
   ]
  }
 ],
 "metadata": {
  "kernelspec": {
   "display_name": "Python 3",
   "language": "python",
   "name": "python3"
  },
  "language_info": {
   "codemirror_mode": {
    "name": "ipython",
    "version": 3
   },
   "file_extension": ".py",
   "mimetype": "text/x-python",
   "name": "python",
   "nbconvert_exporter": "python",
   "pygments_lexer": "ipython3",
   "version": "3.6.1"
  }
 },
 "nbformat": 4,
 "nbformat_minor": 2
}
