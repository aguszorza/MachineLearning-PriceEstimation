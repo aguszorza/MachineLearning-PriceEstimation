{
 "cells": [
  {
   "cell_type": "code",
   "execution_count": 1,
   "metadata": {
    "collapsed": true
   },
   "outputs": [],
   "source": [
    "import pandas as pd\n",
    "import numpy as np\n",
    "from sklearn import preprocessing\n",
    "from math import radians, sin, cos, asin, sqrt, pi, atan, atan2, fabs\n",
    "import unicodedata\n",
    "\n",
    "\n",
    "import geopandas as gpd\n",
    "from shapely.geometry import Polygon, MultiPolygon, Point\n",
    "from shapely import wkt"
   ]
  },
  {
   "cell_type": "code",
   "execution_count": 2,
   "metadata": {
    "collapsed": true
   },
   "outputs": [],
   "source": [
    "pruebas = pd.read_csv(\"../properati_dataset_modificado2.csv\")"
   ]
  },
  {
   "cell_type": "code",
   "execution_count": 3,
   "metadata": {
    "collapsed": true
   },
   "outputs": [],
   "source": [
    "def eliminar_tildes(s):\n",
    "   return str(''.join((c for c in unicodedata.normalize('NFD', s) if unicodedata.category(c) != 'Mn')))\n",
    " \n",
    "\n",
    "def contar(x, minimo, d):\n",
    "    lista = x.split()\n",
    "    for cadena in lista:\n",
    "        if ',' in cadena:\n",
    "            cadena = cadena.split(',')\n",
    "        elif '.' in cadena:\n",
    "            cadea = cadena.split('.')\n",
    "        elif ':' in cadena:\n",
    "            cadea = cadena.split(':')\n",
    "        elif '-' in cadena:\n",
    "            cadea = cadena.split('-')\n",
    "        else:\n",
    "            cadena = [cadena]\n",
    "        for palabra in cadena:\n",
    "            try:\n",
    "                if len(palabra) < minimo:\n",
    "                    continue\n",
    "                palabra = eliminar_tildes(unicode(palabra, \"utf-8\"))\n",
    "                palabra = palabra.lower()\n",
    "                if palabra not in d:\n",
    "                    d[palabra] = 0\n",
    "                d[palabra] += 1\n",
    "            except UnicodeEncodeError:\n",
    "                continue\n"
   ]
  },
  {
   "cell_type": "code",
   "execution_count": 4,
   "metadata": {},
   "outputs": [],
   "source": [
    "d={}\n",
    "a = pruebas.loc[:, 'description'].apply(lambda x: contar(x, 6,d))"
   ]
  },
  {
   "cell_type": "code",
   "execution_count": 5,
   "metadata": {},
   "outputs": [
    {
     "data": {
      "text/plain": [
       "23086"
      ]
     },
     "execution_count": 5,
     "metadata": {},
     "output_type": "execute_result"
    }
   ],
   "source": [
    "len(d)"
   ]
  },
  {
   "cell_type": "code",
   "execution_count": 6,
   "metadata": {
    "collapsed": true
   },
   "outputs": [],
   "source": [
    "for c in d.keys():\n",
    "    if d[c]< 1000:\n",
    "        del d[c]"
   ]
  },
  {
   "cell_type": "code",
   "execution_count": 7,
   "metadata": {},
   "outputs": [
    {
     "data": {
      "text/plain": [
       "81"
      ]
     },
     "execution_count": 7,
     "metadata": {},
     "output_type": "execute_result"
    }
   ],
   "source": [
    "len(d)"
   ]
  },
  {
   "cell_type": "code",
   "execution_count": 8,
   "metadata": {},
   "outputs": [
    {
     "name": "stdout",
     "output_type": "stream",
     "text": [
      "traves\n",
      "calidad\n",
      "pileta\n",
      "departamentos\n",
      "parque\n",
      "inmueble\n",
      "amplio\n",
      "amplia\n",
      "ambiente\n",
      "banos\n",
      "estado\n"
     ]
    }
   ],
   "source": [
    "c = 0\n",
    "for i in d.keys():\n",
    "    c+=1\n",
    "    print(i)\n",
    "    if c > 10:\n",
    "        break"
   ]
  },
  {
   "cell_type": "code",
   "execution_count": 9,
   "metadata": {},
   "outputs": [
    {
     "data": {
      "text/plain": [
       "[('cocina', 11000),\n",
       " ('comedor', 8297),\n",
       " ('ambientes', 7541),\n",
       " ('living', 6330),\n",
       " ('departamento', 5674),\n",
       " ('dormitorios', 5591),\n",
       " ('balcon', 5129),\n",
       " ('frente', 4665),\n",
       " ('dormitorio', 4565),\n",
       " ('completo', 4530),\n",
       " ('excelente', 4405),\n",
       " ('edificio', 3823),\n",
       " ('lavadero', 3673),\n",
       " ('amplio', 3593),\n",
       " ('planta', 3491),\n",
       " ('cuenta', 3087),\n",
       " ('cuadras', 3065),\n",
       " ('placard', 2990),\n",
       " ('cochera', 2947),\n",
       " ('mesada', 2588),\n",
       " ('propiedades', 2579),\n",
       " ('terraza', 2539),\n",
       " ('acceso', 2441),\n",
       " ('medidas', 2357),\n",
       " ('entrada', 2338),\n",
       " ('ubicado', 2292),\n",
       " ('parrilla', 2260),\n",
       " ('cucicba', 2232),\n",
       " ('metros', 2133),\n",
       " ('unidades', 2125),\n",
       " ('expensas', 2122),\n",
       " ('corredor', 2072),\n",
       " ('propiedad', 2072),\n",
       " ('salida', 2014),\n",
       " ('principal', 1882),\n",
       " ('ubicacion', 1877),\n",
       " ('banos', 1863),\n",
       " ('luminoso', 1857),\n",
       " ('muebles', 1834),\n",
       " ('toilette', 1797),\n",
       " ('publicado', 1759),\n",
       " ('espacio', 1750),\n",
       " ('cocheras', 1747),\n",
       " ('parque', 1608),\n",
       " ('madera', 1577),\n",
       " ('estado', 1567),\n",
       " ('pileta', 1518),\n",
       " ('jardin', 1506),\n",
       " ('credito', 1493),\n",
       " ('seguridad', 1420),\n",
       " ('servicio', 1391),\n",
       " ('calefaccion', 1379),\n",
       " ('acondicionado', 1360),\n",
       " ('barrio', 1355),\n",
       " ('traves', 1338),\n",
       " ('estacion', 1333),\n",
       " ('propietario', 1328),\n",
       " ('cuadra', 1320),\n",
       " ('diario', 1300),\n",
       " ('integrada', 1284),\n",
       " ('encuentra', 1260),\n",
       " ('piscina', 1257),\n",
       " ('caliente', 1236),\n",
       " ('amplios', 1218),\n",
       " ('calidad', 1214),\n",
       " ('departamentos', 1200),\n",
       " ('aluminio', 1186),\n",
       " ('cubierta', 1157),\n",
       " ('contrafrente', 1121),\n",
       " ('precio', 1114),\n",
       " ('ambiente', 1098),\n",
       " ('independiente', 1098),\n",
       " ('primera', 1091),\n",
       " ('amplia', 1083),\n",
       " ('dependencia', 1065),\n",
       " ('servicios', 1064),\n",
       " ('capital', 1050),\n",
       " ('puertas', 1025),\n",
       " ('vestidor', 1024),\n",
       " ('natural', 1021),\n",
       " ('inmueble', 1009)]"
      ]
     },
     "execution_count": 9,
     "metadata": {},
     "output_type": "execute_result"
    }
   ],
   "source": [
    "l = d.items()\n",
    "l.sort(key = lambda x: x[1],reverse = True)\n",
    "l"
   ]
  },
  {
   "cell_type": "code",
   "execution_count": null,
   "metadata": {
    "collapsed": true
   },
   "outputs": [],
   "source": [
    "# Tomamos aquellas palabras "
   ]
  }
 ],
 "metadata": {
  "kernelspec": {
   "display_name": "Python 3",
   "language": "python",
   "name": "python3"
  },
  "language_info": {
   "codemirror_mode": {
    "name": "ipython",
    "version": 2
   },
   "file_extension": ".py",
   "mimetype": "text/x-python",
   "name": "python",
   "nbconvert_exporter": "python",
   "pygments_lexer": "ipython2",
   "version": "2.7.12"
  }
 },
 "nbformat": 4,
 "nbformat_minor": 2
}
