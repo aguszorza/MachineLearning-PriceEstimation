{
 "cells": [
  {
   "cell_type": "code",
   "execution_count": 1,
   "metadata": {
    "collapsed": true
   },
   "outputs": [],
   "source": [
    "import pandas as pd\n",
    "import numpy as np\n",
    "from sklearn.metrics import mean_squared_error\n",
    "from sklearn.model_selection import GridSearchCV\n",
    "from sklearn.externals import joblib\n",
    "import time\n",
    "\n",
    "import warnings\n",
    "warnings.simplefilter(\"ignore\", category=DeprecationWarning)"
   ]
  },
  {
   "cell_type": "code",
   "execution_count": 2,
   "metadata": {
    "collapsed": true
   },
   "outputs": [],
   "source": [
    "a1 = pd.read_csv('algoritmos/Decision_tree_Cross_Validation.csv')\n",
    "a2 = pd.read_csv('resultados/lightgbm_latlon_resultados.csv')\n",
    "a3 = pd.read_csv('resultados/Extra_trees_2.csv')\n",
    "a4 = pd.read_csv('resultados/Decision_tree_Cross_Validation_fechas.csv')\n",
    "a5 = pd.read_csv('resultados/Decision_tree_Cross_Validation_menos_datos.csv')\n",
    "a6 = pd.read_csv('resultados/Decision_tree_GridSearch_menosDatos.csv')\n",
    "a7 = pd.read_csv('resultados/Bagging_Regresor_resultados.csv')\n",
    "a8 = pd.read_csv('resultados/KNN_standard_scaler_resultados.csv')\n",
    "a9 = pd.read_csv('resultados/Lightgbm_GridSearch.csv')\n",
    "a10 = pd.read_csv('resultados/Bagging_Regressor_GridSearch.csv')"
   ]
  },
  {
   "cell_type": "code",
   "execution_count": 5,
   "metadata": {
    "collapsed": true
   },
   "outputs": [],
   "source": [
    "a = [a1,a2,a3,a4,a5,a6,a7,a8,a9,a10]"
   ]
  },
  {
   "cell_type": "code",
   "execution_count": 11,
   "metadata": {
    "collapsed": true
   },
   "outputs": [],
   "source": [
    "analizar = pd.read_csv(\"../properati_dataset_modificado.csv\")"
   ]
  },
  {
   "cell_type": "code",
   "execution_count": 16,
   "metadata": {
    "collapsed": true
   },
   "outputs": [],
   "source": [
    "res = analizar.loc[:,['id','price_usd']]\n",
    "res.loc[:,'price_usd'] = 0.0"
   ]
  },
  {
   "cell_type": "code",
   "execution_count": 18,
   "metadata": {
    "collapsed": true
   },
   "outputs": [],
   "source": [
    "for x in a:\n",
    "    res.loc[:,'price_usd'] = res.loc[:,'price_usd'] + x.loc[:,'price_usd']\n",
    "res.loc[:,'price_usd'] = res.loc[:,'price_usd'] / len(a)"
   ]
  },
  {
   "cell_type": "code",
   "execution_count": 20,
   "metadata": {},
   "outputs": [
    {
     "data": {
      "text/html": [
       "<div>\n",
       "<style>\n",
       "    .dataframe thead tr:only-child th {\n",
       "        text-align: right;\n",
       "    }\n",
       "\n",
       "    .dataframe thead th {\n",
       "        text-align: left;\n",
       "    }\n",
       "\n",
       "    .dataframe tbody tr th {\n",
       "        vertical-align: top;\n",
       "    }\n",
       "</style>\n",
       "<table border=\"1\" class=\"dataframe\">\n",
       "  <thead>\n",
       "    <tr style=\"text-align: right;\">\n",
       "      <th></th>\n",
       "      <th>id</th>\n",
       "      <th>price_usd</th>\n",
       "    </tr>\n",
       "  </thead>\n",
       "  <tbody>\n",
       "    <tr>\n",
       "      <th>count</th>\n",
       "      <td>1.416600e+04</td>\n",
       "      <td>1.416600e+04</td>\n",
       "    </tr>\n",
       "    <tr>\n",
       "      <th>mean</th>\n",
       "      <td>2.285382e+06</td>\n",
       "      <td>2.255481e+05</td>\n",
       "    </tr>\n",
       "    <tr>\n",
       "      <th>std</th>\n",
       "      <td>4.290968e+04</td>\n",
       "      <td>2.322223e+05</td>\n",
       "    </tr>\n",
       "    <tr>\n",
       "      <th>min</th>\n",
       "      <td>3.632000e+03</td>\n",
       "      <td>4.169945e+04</td>\n",
       "    </tr>\n",
       "    <tr>\n",
       "      <th>25%</th>\n",
       "      <td>2.271809e+06</td>\n",
       "      <td>1.098478e+05</td>\n",
       "    </tr>\n",
       "    <tr>\n",
       "      <th>50%</th>\n",
       "      <td>2.290284e+06</td>\n",
       "      <td>1.608363e+05</td>\n",
       "    </tr>\n",
       "    <tr>\n",
       "      <th>75%</th>\n",
       "      <td>2.309395e+06</td>\n",
       "      <td>2.645763e+05</td>\n",
       "    </tr>\n",
       "    <tr>\n",
       "      <th>max</th>\n",
       "      <td>2.332338e+06</td>\n",
       "      <td>1.423876e+07</td>\n",
       "    </tr>\n",
       "  </tbody>\n",
       "</table>\n",
       "</div>"
      ],
      "text/plain": [
       "                 id     price_usd\n",
       "count  1.416600e+04  1.416600e+04\n",
       "mean   2.285382e+06  2.255481e+05\n",
       "std    4.290968e+04  2.322223e+05\n",
       "min    3.632000e+03  4.169945e+04\n",
       "25%    2.271809e+06  1.098478e+05\n",
       "50%    2.290284e+06  1.608363e+05\n",
       "75%    2.309395e+06  2.645763e+05\n",
       "max    2.332338e+06  1.423876e+07"
      ]
     },
     "execution_count": 20,
     "metadata": {},
     "output_type": "execute_result"
    }
   ],
   "source": [
    "res.describe()"
   ]
  },
  {
   "cell_type": "code",
   "execution_count": 22,
   "metadata": {
    "collapsed": true
   },
   "outputs": [],
   "source": [
    "res.to_csv('promedios_10_mejores_archivos.csv', index = False)"
   ]
  },
  {
   "cell_type": "code",
   "execution_count": 23,
   "metadata": {},
   "outputs": [
    {
     "data": {
      "text/html": [
       "<div>\n",
       "<style>\n",
       "    .dataframe thead tr:only-child th {\n",
       "        text-align: right;\n",
       "    }\n",
       "\n",
       "    .dataframe thead th {\n",
       "        text-align: left;\n",
       "    }\n",
       "\n",
       "    .dataframe tbody tr th {\n",
       "        vertical-align: top;\n",
       "    }\n",
       "</style>\n",
       "<table border=\"1\" class=\"dataframe\">\n",
       "  <thead>\n",
       "    <tr style=\"text-align: right;\">\n",
       "      <th></th>\n",
       "      <th>id</th>\n",
       "      <th>price_usd</th>\n",
       "    </tr>\n",
       "  </thead>\n",
       "  <tbody>\n",
       "    <tr>\n",
       "      <th>count</th>\n",
       "      <td>1.416600e+04</td>\n",
       "      <td>1.416600e+04</td>\n",
       "    </tr>\n",
       "    <tr>\n",
       "      <th>mean</th>\n",
       "      <td>2.285382e+06</td>\n",
       "      <td>2.347397e+05</td>\n",
       "    </tr>\n",
       "    <tr>\n",
       "      <th>std</th>\n",
       "      <td>4.290968e+04</td>\n",
       "      <td>2.292220e+05</td>\n",
       "    </tr>\n",
       "    <tr>\n",
       "      <th>min</th>\n",
       "      <td>3.632000e+03</td>\n",
       "      <td>3.631376e+04</td>\n",
       "    </tr>\n",
       "    <tr>\n",
       "      <th>25%</th>\n",
       "      <td>2.271809e+06</td>\n",
       "      <td>1.102087e+05</td>\n",
       "    </tr>\n",
       "    <tr>\n",
       "      <th>50%</th>\n",
       "      <td>2.290284e+06</td>\n",
       "      <td>1.606478e+05</td>\n",
       "    </tr>\n",
       "    <tr>\n",
       "      <th>75%</th>\n",
       "      <td>2.309395e+06</td>\n",
       "      <td>2.791678e+05</td>\n",
       "    </tr>\n",
       "    <tr>\n",
       "      <th>max</th>\n",
       "      <td>2.332338e+06</td>\n",
       "      <td>9.543407e+06</td>\n",
       "    </tr>\n",
       "  </tbody>\n",
       "</table>\n",
       "</div>"
      ],
      "text/plain": [
       "                 id     price_usd\n",
       "count  1.416600e+04  1.416600e+04\n",
       "mean   2.285382e+06  2.347397e+05\n",
       "std    4.290968e+04  2.292220e+05\n",
       "min    3.632000e+03  3.631376e+04\n",
       "25%    2.271809e+06  1.102087e+05\n",
       "50%    2.290284e+06  1.606478e+05\n",
       "75%    2.309395e+06  2.791678e+05\n",
       "max    2.332338e+06  9.543407e+06"
      ]
     },
     "execution_count": 23,
     "metadata": {},
     "output_type": "execute_result"
    }
   ],
   "source": [
    "a = [a1,a2,a3,a8,a9]\n",
    "res = analizar.loc[:,['id','price_usd']]\n",
    "res.loc[:,'price_usd'] = 0.0\n",
    "\n",
    "for x in a:\n",
    "    res.loc[:,'price_usd'] = res.loc[:,'price_usd'] + x.loc[:,'price_usd']\n",
    "res.loc[:,'price_usd'] = res.loc[:,'price_usd'] / len(a)\n",
    "\n",
    "res.describe()"
   ]
  },
  {
   "cell_type": "code",
   "execution_count": 24,
   "metadata": {
    "collapsed": true
   },
   "outputs": [],
   "source": [
    "res.to_csv('promedios_5_mejores_archivos.csv', index = False)"
   ]
  },
  {
   "cell_type": "code",
   "execution_count": 3,
   "metadata": {},
   "outputs": [
    {
     "data": {
      "text/html": [
       "<div>\n",
       "<style>\n",
       "    .dataframe thead tr:only-child th {\n",
       "        text-align: right;\n",
       "    }\n",
       "\n",
       "    .dataframe thead th {\n",
       "        text-align: left;\n",
       "    }\n",
       "\n",
       "    .dataframe tbody tr th {\n",
       "        vertical-align: top;\n",
       "    }\n",
       "</style>\n",
       "<table border=\"1\" class=\"dataframe\">\n",
       "  <thead>\n",
       "    <tr style=\"text-align: right;\">\n",
       "      <th></th>\n",
       "      <th>id</th>\n",
       "      <th>price_usd</th>\n",
       "    </tr>\n",
       "  </thead>\n",
       "  <tbody>\n",
       "    <tr>\n",
       "      <th>count</th>\n",
       "      <td>1.416600e+04</td>\n",
       "      <td>1.416600e+04</td>\n",
       "    </tr>\n",
       "    <tr>\n",
       "      <th>mean</th>\n",
       "      <td>2.285382e+06</td>\n",
       "      <td>2.359991e+05</td>\n",
       "    </tr>\n",
       "    <tr>\n",
       "      <th>std</th>\n",
       "      <td>4.290968e+04</td>\n",
       "      <td>3.412248e+05</td>\n",
       "    </tr>\n",
       "    <tr>\n",
       "      <th>min</th>\n",
       "      <td>3.632000e+03</td>\n",
       "      <td>2.412983e+04</td>\n",
       "    </tr>\n",
       "    <tr>\n",
       "      <th>25%</th>\n",
       "      <td>2.271809e+06</td>\n",
       "      <td>1.068681e+05</td>\n",
       "    </tr>\n",
       "    <tr>\n",
       "      <th>50%</th>\n",
       "      <td>2.290284e+06</td>\n",
       "      <td>1.591631e+05</td>\n",
       "    </tr>\n",
       "    <tr>\n",
       "      <th>75%</th>\n",
       "      <td>2.309395e+06</td>\n",
       "      <td>2.664039e+05</td>\n",
       "    </tr>\n",
       "    <tr>\n",
       "      <th>max</th>\n",
       "      <td>2.332338e+06</td>\n",
       "      <td>2.855247e+07</td>\n",
       "    </tr>\n",
       "  </tbody>\n",
       "</table>\n",
       "</div>"
      ],
      "text/plain": [
       "                 id     price_usd\n",
       "count  1.416600e+04  1.416600e+04\n",
       "mean   2.285382e+06  2.359991e+05\n",
       "std    4.290968e+04  3.412248e+05\n",
       "min    3.632000e+03  2.412983e+04\n",
       "25%    2.271809e+06  1.068681e+05\n",
       "50%    2.290284e+06  1.591631e+05\n",
       "75%    2.309395e+06  2.664039e+05\n",
       "max    2.332338e+06  2.855247e+07"
      ]
     },
     "execution_count": 3,
     "metadata": {},
     "output_type": "execute_result"
    }
   ],
   "source": [
    "a1.describe()"
   ]
  }
 ],
 "metadata": {
  "kernelspec": {
   "display_name": "Python 3",
   "language": "python",
   "name": "python3"
  },
  "language_info": {
   "codemirror_mode": {
    "name": "ipython",
    "version": 3
   },
   "file_extension": ".py",
   "mimetype": "text/x-python",
   "name": "python",
   "nbconvert_exporter": "python",
   "pygments_lexer": "ipython3",
   "version": "3.6.1"
  }
 },
 "nbformat": 4,
 "nbformat_minor": 2
}
