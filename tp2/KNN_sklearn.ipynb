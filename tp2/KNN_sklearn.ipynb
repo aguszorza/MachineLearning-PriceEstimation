{
 "cells": [
  {
   "cell_type": "code",
   "execution_count": 1,
   "metadata": {
    "collapsed": true
   },
   "outputs": [],
   "source": [
    "import warnings\n",
    "warnings.simplefilter(\"ignore\", category=DeprecationWarning)"
   ]
  },
  {
   "cell_type": "code",
   "execution_count": 2,
   "metadata": {
    "collapsed": true
   },
   "outputs": [],
   "source": [
    "import pandas as pd\n",
    "import numpy as np"
   ]
  },
  {
   "cell_type": "code",
   "execution_count": 43,
   "metadata": {
    "collapsed": true
   },
   "outputs": [],
   "source": [
    "propiedades = pd.read_csv('/home/mati/Desktop/properati.csv')\n",
    "propiedades = propiedades.loc[propiedades.Year >= 2016,:]"
   ]
  },
  {
   "cell_type": "code",
   "execution_count": 3,
   "metadata": {
    "collapsed": true
   },
   "outputs": [],
   "source": [
    "def calcular_precio_usd(fila):\n",
    "    usd,currency,precio,sup,m2 = fila\n",
    "    if (not np.isnan(usd) and usd != 0):\n",
    "        return usd\n",
    "    if (currency == 'USD'):\n",
    "        if (not np.isnan(precio) and precio != 0 ):\n",
    "            return precio\n",
    "    if (not np.isnan(sup) and not np.isnan(m2) and sup and m2):\n",
    "        return sup * m2\n",
    "    return np.nan"
   ]
  },
  {
   "cell_type": "code",
   "execution_count": 46,
   "metadata": {
    "collapsed": true
   },
   "outputs": [],
   "source": [
    "propiedades.loc[:,'price_aprox_usd'] = propiedades.loc[:,['price_aprox_usd','currency','price',\\\n",
    "                                                          'superficie','price_usd_per_m2']]\\\n",
    "         .apply(lambda x: calcular_precio_usd(x),axis = 1)"
   ]
  },
  {
   "cell_type": "code",
   "execution_count": null,
   "metadata": {
    "collapsed": true
   },
   "outputs": [],
   "source": [
    "propiedades = propiedades.loc[propiedades.price_aprox_usd.notnull(),:].reset_index()"
   ]
  },
  {
   "cell_type": "code",
   "execution_count": null,
   "metadata": {
    "collapsed": true
   },
   "outputs": [],
   "source": [
    "propiedades.loc[:,'place_name'] = propiedades.loc[:,'place_with_parent_names'].apply\\\n",
    "           (lambda x: x.split('|')[3])"
   ]
  },
  {
   "cell_type": "markdown",
   "metadata": {},
   "source": [
    "#### Me quedo con las columnas superficie,place_name,property_type (y tal vez lat,lon)"
   ]
  },
  {
   "cell_type": "code",
   "execution_count": null,
   "metadata": {
    "collapsed": true
   },
   "outputs": [],
   "source": [
    "propiedades = propiedades.loc[:,['superficie','place_name','property_type','lat','lon','price_aprox_usd','Year','Month']]"
   ]
  },
  {
   "cell_type": "markdown",
   "metadata": {},
   "source": [
    "## Encodeo los strings"
   ]
  },
  {
   "cell_type": "code",
   "execution_count": 12,
   "metadata": {
    "collapsed": true
   },
   "outputs": [],
   "source": [
    "places = list(propiedades['place_name'])\n",
    "types = list(propiedades['property_type'])"
   ]
  },
  {
   "cell_type": "code",
   "execution_count": 13,
   "metadata": {
    "collapsed": true
   },
   "outputs": [],
   "source": [
    "from sklearn import preprocessing\n",
    "encoder = preprocessing.LabelEncoder()\n",
    "encoder.fit(places)\n",
    "propiedades.loc[:,'place_name_encoded'] = propiedades.loc[:,'place_name'].apply(lambda x: encoder.transform([x])[0])"
   ]
  },
  {
   "cell_type": "code",
   "execution_count": 14,
   "metadata": {
    "collapsed": true
   },
   "outputs": [],
   "source": [
    "encoder = preprocessing.LabelEncoder()\n",
    "encoder.fit(types)\n",
    "propiedades.loc[:,'property_type_encoded'] = propiedades.loc[:,'property_type'].apply(lambda x: encoder.transform([x])[0])"
   ]
  },
  {
   "cell_type": "code",
   "execution_count": 15,
   "metadata": {
    "collapsed": true
   },
   "outputs": [],
   "source": [
    "propiedades.loc[propiedades.superficie.isnull(),:] = 10"
   ]
  },
  {
   "cell_type": "code",
   "execution_count": null,
   "metadata": {
    "collapsed": true
   },
   "outputs": [],
   "source": [
    "propiedades.to_csv('/home/mati/Desktop/properati_knn.csv', index = False)"
   ]
  },
  {
   "cell_type": "markdown",
   "metadata": {},
   "source": [
    "# KNN"
   ]
  },
  {
   "cell_type": "code",
   "execution_count": 5,
   "metadata": {
    "collapsed": true
   },
   "outputs": [],
   "source": [
    "propiedades = pd.read_csv('/home/mati/Desktop/properati_knn.csv')"
   ]
  },
  {
   "cell_type": "code",
   "execution_count": 8,
   "metadata": {},
   "outputs": [
    {
     "name": "stdout",
     "output_type": "stream",
     "text": [
      "entrenamiento = 650820, pruebas = 15000\n",
      "\n",
      "\n",
      "<class 'pandas.core.frame.DataFrame'>\n",
      "Int64Index: 650820 entries, 0 to 735421\n",
      "Data columns (total 4 columns):\n",
      "superficie               650820 non-null float64\n",
      "place_name_encoded       650820 non-null int64\n",
      "property_type_encoded    650820 non-null int64\n",
      "price_aprox_usd          650820 non-null float64\n",
      "dtypes: float64(2), int64(2)\n",
      "memory usage: 24.8 MB\n"
     ]
    }
   ],
   "source": [
    "#En principio sin lat y lon ya que no estan completos\n",
    "\n",
    "set_entrenamiento = propiedades.loc[(propiedades.Year < 2017) | (propiedades.Month < 6),\\\n",
    "        ['superficie','place_name_encoded','property_type_encoded','price_aprox_usd']]\n",
    "set_pruebas = propiedades.loc[(propiedades.Year == 2017) & (propiedades.Month == 6),\\\n",
    "        ['superficie','place_name_encoded','property_type_encoded','price_aprox_usd']].sample(15000)\n",
    "print('entrenamiento = {}, pruebas = {}\\n\\n'.format(len(set_entrenamiento),len(set_pruebas)))\n",
    "set_entrenamiento.info()"
   ]
  },
  {
   "cell_type": "code",
   "execution_count": 9,
   "metadata": {
    "collapsed": true
   },
   "outputs": [],
   "source": [
    "set_entrenamiento_datos = set_entrenamiento.loc[:,['superficie','place_name_encoded','property_type_encoded']]\n",
    "set_entrenamiento_resultado = set_entrenamiento.loc[:,'price_aprox_usd']"
   ]
  },
  {
   "cell_type": "code",
   "execution_count": 16,
   "metadata": {
    "collapsed": true
   },
   "outputs": [],
   "source": [
    "from sklearn.neighbors import KNeighborsRegressor"
   ]
  },
  {
   "cell_type": "code",
   "execution_count": 11,
   "metadata": {},
   "outputs": [
    {
     "data": {
      "text/plain": [
       "KNeighborsRegressor(algorithm='auto', leaf_size=30, metric='minkowski',\n",
       "          metric_params=None, n_jobs=1, n_neighbors=10, p=2,\n",
       "          weights='uniform')"
      ]
     },
     "execution_count": 11,
     "metadata": {},
     "output_type": "execute_result"
    }
   ],
   "source": [
    "knn = KNeighborsRegressor(n_neighbors=10)\n",
    "knn.fit(set_entrenamiento_datos,set_entrenamiento_resultado)"
   ]
  },
  {
   "cell_type": "code",
   "execution_count": 19,
   "metadata": {
    "collapsed": true
   },
   "outputs": [],
   "source": [
    "set_pruebas.loc[:,'resultado'] = set_pruebas.loc[:,['superficie','place_name_encoded','property_type_encoded']].\\\n",
    "        apply(lambda x: knn.predict(x)[0],axis = 1)"
   ]
  },
  {
   "cell_type": "code",
   "execution_count": 20,
   "metadata": {
    "collapsed": true
   },
   "outputs": [],
   "source": [
    "def error_relativo(x,medido):\n",
    "    return abs(x - medido) * 100 / x"
   ]
  },
  {
   "cell_type": "code",
   "execution_count": 22,
   "metadata": {},
   "outputs": [
    {
     "data": {
      "text/html": [
       "<div>\n",
       "<style>\n",
       "    .dataframe thead tr:only-child th {\n",
       "        text-align: right;\n",
       "    }\n",
       "\n",
       "    .dataframe thead th {\n",
       "        text-align: left;\n",
       "    }\n",
       "\n",
       "    .dataframe tbody tr th {\n",
       "        vertical-align: top;\n",
       "    }\n",
       "</style>\n",
       "<table border=\"1\" class=\"dataframe\">\n",
       "  <thead>\n",
       "    <tr style=\"text-align: right;\">\n",
       "      <th></th>\n",
       "      <th>superficie</th>\n",
       "      <th>place_name_encoded</th>\n",
       "      <th>property_type_encoded</th>\n",
       "      <th>price_aprox_usd</th>\n",
       "      <th>resultado</th>\n",
       "      <th>error_relativo</th>\n",
       "    </tr>\n",
       "  </thead>\n",
       "  <tbody>\n",
       "    <tr>\n",
       "      <th>678160</th>\n",
       "      <td>55.0</td>\n",
       "      <td>72</td>\n",
       "      <td>1</td>\n",
       "      <td>107000.0</td>\n",
       "      <td>163126.0</td>\n",
       "      <td>52.454206</td>\n",
       "    </tr>\n",
       "  </tbody>\n",
       "</table>\n",
       "</div>"
      ],
      "text/plain": [
       "        superficie  place_name_encoded  property_type_encoded  \\\n",
       "678160        55.0                  72                      1   \n",
       "\n",
       "        price_aprox_usd  resultado  error_relativo  \n",
       "678160         107000.0   163126.0       52.454206  "
      ]
     },
     "execution_count": 22,
     "metadata": {},
     "output_type": "execute_result"
    }
   ],
   "source": [
    "set_pruebas.loc[:,'error_relativo'] = set_pruebas.loc[:,['price_aprox_usd','resultado']].\\\n",
    "        apply(lambda x: error_relativo(x[0],x[1]), axis = 1)\n",
    "set_pruebas.head(1)"
   ]
  },
  {
   "cell_type": "code",
   "execution_count": 23,
   "metadata": {},
   "outputs": [
    {
     "data": {
      "text/plain": [
       "count    15000.000000\n",
       "mean        32.970245\n",
       "std        111.627276\n",
       "min          0.000000\n",
       "25%          7.000000\n",
       "50%         16.216216\n",
       "75%         31.613047\n",
       "max       4829.500000\n",
       "Name: error_relativo, dtype: float64"
      ]
     },
     "execution_count": 23,
     "metadata": {},
     "output_type": "execute_result"
    }
   ],
   "source": [
    "set_pruebas.error_relativo.describe()"
   ]
  },
  {
   "cell_type": "code",
   "execution_count": 24,
   "metadata": {},
   "outputs": [
    {
     "data": {
      "text/plain": [
       "24.113510230240433"
      ]
     },
     "execution_count": 24,
     "metadata": {},
     "output_type": "execute_result"
    }
   ],
   "source": [
    "set_pruebas.loc[set_pruebas.error_relativo < 200,:].error_relativo.mean()"
   ]
  },
  {
   "cell_type": "markdown",
   "metadata": {},
   "source": [
    "## Pruebas con varios k y varias distancias"
   ]
  },
  {
   "cell_type": "code",
   "execution_count": 30,
   "metadata": {
    "collapsed": true
   },
   "outputs": [],
   "source": [
    "res = []"
   ]
  },
  {
   "cell_type": "code",
   "execution_count": 41,
   "metadata": {},
   "outputs": [
    {
     "name": "stdout",
     "output_type": "stream",
     "text": [
      "5  -  50\n",
      "5  -  500\n",
      "10  -  50\n",
      "10  -  500\n"
     ]
    }
   ],
   "source": [
    "lista_k = [5,10]\n",
    "lista_dist = [50,500]\n",
    "\n",
    "for k in lista_k:\n",
    "    for d in lista_dist:\n",
    "        knn = KNeighborsRegressor(n_neighbors = k, p = d)\n",
    "        knn.fit(set_entrenamiento_datos,set_entrenamiento_resultado)\n",
    "        set_pruebas.loc[:,'resultado'] = set_pruebas.loc[:,['superficie','place_name_encoded','property_type_encoded']].\\\n",
    "                apply(lambda x: knn.predict(x)[0],axis = 1)\n",
    "        set_pruebas.loc[:,'error_relativo'] = set_pruebas.loc[:,['price_aprox_usd','resultado']].\\\n",
    "                apply(lambda x: error_relativo(x[0],x[1]), axis = 1)\n",
    "        error = set_pruebas.loc[set_pruebas.error_relativo < 200,:].error_relativo.mean()\n",
    "        cant = set_pruebas.loc[set_pruebas.error_relativo < 200,:].error_relativo.count()\n",
    "        res.append((k,d,error,cant))\n",
    "        print(k,' - ',d)"
   ]
  },
  {
   "cell_type": "code",
   "execution_count": 42,
   "metadata": {},
   "outputs": [
    {
     "name": "stdout",
     "output_type": "stream",
     "text": [
      "k = 10, dist = 1, error = 24.07050720693464, cantidad = 14762.\n",
      "k = 10, dist = 2, error = 24.113510230240433, cantidad = 14759.\n",
      "k = 10, dist = 3, error = 24.117962518478, cantidad = 14759.\n",
      "k = 20, dist = 1, error = 25.459824075381945, cantidad = 14716.\n",
      "k = 20, dist = 2, error = 25.567620912375215, cantidad = 14711.\n",
      "k = 20, dist = 3, error = 25.56908034638874, cantidad = 14711.\n",
      "k = 30, dist = 1, error = 26.219269836364344, cantidad = 14699.\n",
      "k = 30, dist = 2, error = 26.31727096580955, cantidad = 14696.\n",
      "k = 30, dist = 3, error = 26.315937128667215, cantidad = 14694.\n",
      "k = 10, dist = 4, error = 24.115759709213098, cantidad = 14759.\n",
      "k = 10, dist = 5, error = 24.115759709213098, cantidad = 14759.\n",
      "k = 20, dist = 4, error = 25.56836718715498, cantidad = 14711.\n",
      "k = 20, dist = 5, error = 25.568382702281166, cantidad = 14711.\n",
      "k = 30, dist = 4, error = 26.312515418166804, cantidad = 14694.\n",
      "k = 30, dist = 5, error = 26.309756163049887, cantidad = 14694.\n",
      "k = 100, dist = 1, error = 28.30099223537152, cantidad = 14639.\n",
      "k = 100, dist = 2, error = 28.536323153069507, cantidad = 14624.\n",
      "k = 200, dist = 1, error = 29.897996483114007, cantidad = 14594.\n",
      "k = 200, dist = 2, error = 30.215324520278237, cantidad = 14574.\n",
      "k = 500, dist = 1, error = 31.9824711989743, cantidad = 14534.\n",
      "k = 500, dist = 2, error = 32.658398992715306, cantidad = 14508.\n",
      "k = 1000, dist = 1, error = 34.36577658363763, cantidad = 14550.\n",
      "k = 1000, dist = 2, error = 35.31329194328859, cantidad = 14533.\n",
      "k = 5, dist = 1, error = 23.030440981897264, cantidad = 14740.\n",
      "k = 5, dist = 2, error = 23.03515984441467, cantidad = 14736.\n",
      "k = 5, dist = 50, error = 23.066112789397792, cantidad = 14738.\n",
      "k = 5, dist = 500, error = 23.091559524608186, cantidad = 14740.\n",
      "k = 10, dist = 50, error = 24.12853069457722, cantidad = 14760.\n",
      "k = 10, dist = 500, error = 24.136467111833852, cantidad = 14760.\n"
     ]
    }
   ],
   "source": [
    "for r in res:\n",
    "    print (\"k = {}, dist = {}, error = {}, cantidad = {}.\".format(r[0],r[1],r[2],r[3]))"
   ]
  },
  {
   "cell_type": "markdown",
   "metadata": {},
   "source": [
    "### -------------------------------------------------------------\n",
    "## Pruebo con mas datos"
   ]
  },
  {
   "cell_type": "code",
   "execution_count": 4,
   "metadata": {},
   "outputs": [
    {
     "name": "stderr",
     "output_type": "stream",
     "text": [
      "/home/mati/anaconda3/lib/python3.6/site-packages/IPython/core/interactiveshell.py:2717: DtypeWarning: Columns (0,1) have mixed types. Specify dtype option on import or set low_memory=False.\n",
      "  interactivity=interactivity, compiler=compiler, result=result)\n"
     ]
    }
   ],
   "source": [
    "propiedades = pd.read_csv('/home/mati/Desktop/propiedades_descripcion.csv')"
   ]
  },
  {
   "cell_type": "code",
   "execution_count": 5,
   "metadata": {},
   "outputs": [
    {
     "name": "stdout",
     "output_type": "stream",
     "text": [
      "<class 'pandas.core.frame.DataFrame'>\n",
      "Int64Index: 840782 entries, 1614307 to 2455308\n",
      "Data columns (total 16 columns):\n",
      "description                   840782 non-null object\n",
      "expenses                      95850 non-null object\n",
      "fecha_de_publicacion          840782 non-null object\n",
      "lat                           652617 non-null float64\n",
      "lon                           652617 non-null float64\n",
      "place_name                    840782 non-null object\n",
      "price                         752849 non-null float64\n",
      "price_aprox_local_currency    752849 non-null float64\n",
      "price_aprox_usd               752849 non-null float64\n",
      "price_per_m2                  655753 non-null float64\n",
      "price_usd_per_m2              693202 non-null float64\n",
      "property_type                 840782 non-null object\n",
      "state_name                    840782 non-null object\n",
      "superficie                    761391 non-null float64\n",
      "Year                          840782 non-null int64\n",
      "distancia_villas              652617 non-null float64\n",
      "dtypes: float64(9), int64(1), object(6)\n",
      "memory usage: 109.0+ MB\n"
     ]
    }
   ],
   "source": [
    "propiedades = propiedades.loc[(propiedades.Year >= 2016) & (propiedades.place_name.notnull()) \\\n",
    "                              & (propiedades.description.notnull()),:]\n",
    "propiedades.info()"
   ]
  },
  {
   "cell_type": "code",
   "execution_count": 8,
   "metadata": {},
   "outputs": [],
   "source": [
    "propiedades.loc[:, 'Month'] = propiedades.loc[:,'fecha_de_publicacion'].apply(lambda x: int(x.split('-')[1]))"
   ]
  },
  {
   "cell_type": "code",
   "execution_count": 9,
   "metadata": {
    "collapsed": true
   },
   "outputs": [],
   "source": [
    "propiedades.loc[:,'price_aprox_usd'] = propiedades.loc[:,['price_aprox_usd','currency','price',\\\n",
    "                                                          'superficie','price_usd_per_m2']]\\\n",
    "         .apply(lambda x: calcular_precio_usd(x),axis = 1)"
   ]
  },
  {
   "cell_type": "code",
   "execution_count": 10,
   "metadata": {
    "collapsed": true
   },
   "outputs": [],
   "source": [
    "propiedades = propiedades.loc[propiedades.price_aprox_usd.notnull(),:].reset_index()"
   ]
  },
  {
   "cell_type": "code",
   "execution_count": 11,
   "metadata": {
    "collapsed": true
   },
   "outputs": [],
   "source": [
    "propiedades = propiedades.loc[:,['superficie','place_name','property_type','lat','lon','price_aprox_usd'\\\n",
    "                    ,'Year','Month','description']]"
   ]
  },
  {
   "cell_type": "markdown",
   "metadata": {},
   "source": [
    "### Busco datos con las descripciones"
   ]
  },
  {
   "cell_type": "code",
   "execution_count": 17,
   "metadata": {
    "collapsed": true
   },
   "outputs": [],
   "source": [
    "def tiene_cadena(cadena, lista):\n",
    "    cadena = str(cadena)\n",
    "    cadena = cadena.lower()\n",
    "    resultado = False\n",
    "    for x in lista:\n",
    "        resultado = resultado or (x in cadena)\n",
    "    return resultado"
   ]
  },
  {
   "cell_type": "code",
   "execution_count": 18,
   "metadata": {
    "collapsed": true
   },
   "outputs": [],
   "source": [
    "cadenas = ['vigilancia', 'seguridad', 'alarma', 'blindado', 'blindaje', 'guardia']\n",
    "propiedades.loc[:,'seguridad'] = propiedades.loc[:, 'description'].apply(lambda x: tiene_cadena(x, cadenas))"
   ]
  },
  {
   "cell_type": "code",
   "execution_count": 19,
   "metadata": {
    "collapsed": true
   },
   "outputs": [],
   "source": [
    "cadenas = ['gimnasio', 'gym', 'gimnacio']\n",
    "propiedades.loc[:,'gimnasio'] = propiedades.loc[:, 'description'].apply(lambda x: tiene_cadena(x, cadenas))"
   ]
  },
  {
   "cell_type": "code",
   "execution_count": 20,
   "metadata": {
    "collapsed": true
   },
   "outputs": [],
   "source": [
    "cadenas = ['aire frio', 'aire acondicionado', 'split', 'aires acondicionados', 'climatizador', 'central',\\\n",
    "          'losa radiante', 'piso radiante', 'pisoradiante', 'loza radiante', 'los radiantes', 'radante',\\\n",
    "          'radiador']\n",
    "propiedades.loc[:,'aire'] = propiedades.loc[:, 'description'].apply(lambda x: tiene_cadena(x, cadenas))"
   ]
  },
  {
   "cell_type": "code",
   "execution_count": 21,
   "metadata": {
    "collapsed": true
   },
   "outputs": [],
   "source": [
    "propiedades.to_csv('/home/mati/Desktop/properati_descripciones_knn.csv', index = False)"
   ]
  },
  {
   "cell_type": "markdown",
   "metadata": {},
   "source": [
    "# KNN"
   ]
  },
  {
   "cell_type": "code",
   "execution_count": 23,
   "metadata": {
    "collapsed": true
   },
   "outputs": [],
   "source": [
    "propiedades = pd.read_csv('/home/mati/Desktop/properati_descripciones_knn.csv')"
   ]
  },
  {
   "cell_type": "code",
   "execution_count": 24,
   "metadata": {},
   "outputs": [
    {
     "name": "stdout",
     "output_type": "stream",
     "text": [
      "entrenamiento = 650622, pruebas = 15000\n",
      "\n",
      "\n",
      "<class 'pandas.core.frame.DataFrame'>\n",
      "Int64Index: 650622 entries, 0 to 735203\n",
      "Data columns (total 7 columns):\n",
      "superficie               650622 non-null float64\n",
      "place_name_encoded       650622 non-null int64\n",
      "property_type_encoded    650622 non-null int64\n",
      "price_aprox_usd          650622 non-null float64\n",
      "seguridad                650622 non-null bool\n",
      "aire                     650622 non-null bool\n",
      "gimnasio                 650622 non-null bool\n",
      "dtypes: bool(3), float64(2), int64(2)\n",
      "memory usage: 26.7 MB\n"
     ]
    }
   ],
   "source": [
    "#En principio sin lat y lon ya que no estan completos\n",
    "\n",
    "set_entrenamiento = propiedades.loc[(propiedades.Year < 2017) | (propiedades.Month < 6),\\\n",
    "        ['superficie','place_name_encoded','property_type_encoded','price_aprox_usd','seguridad','aire','gimnasio']]\n",
    "set_pruebas = propiedades.loc[(propiedades.Year == 2017) & (propiedades.Month == 6),\\\n",
    "        ['superficie','place_name_encoded','property_type_encoded','price_aprox_usd','seguridad','aire','gimnasio']].sample(15000)\n",
    "print('entrenamiento = {}, pruebas = {}\\n\\n'.format(len(set_entrenamiento),len(set_pruebas)))\n",
    "set_entrenamiento.info()"
   ]
  },
  {
   "cell_type": "code",
   "execution_count": 25,
   "metadata": {
    "collapsed": true
   },
   "outputs": [],
   "source": [
    "set_entrenamiento_datos = set_entrenamiento.loc[:,['superficie','place_name_encoded','property_type_encoded',\\\n",
    "                                                   'seguridad','aire','gimnasio']]\n",
    "set_entrenamiento_resultado = set_entrenamiento.loc[:,'price_aprox_usd']"
   ]
  },
  {
   "cell_type": "code",
   "execution_count": 69,
   "metadata": {
    "collapsed": true
   },
   "outputs": [],
   "source": [
    "res = []"
   ]
  },
  {
   "cell_type": "code",
   "execution_count": null,
   "metadata": {
    "collapsed": true
   },
   "outputs": [],
   "source": [
    "lista_k = [5,10,15,20,30,40,50]\n",
    "lista_dist = [1,2,3]\n",
    "\n",
    "for k in lista_k:\n",
    "    for d in lista_dist:\n",
    "        knn = KNeighborsRegressor(n_neighbors = k, p = d)\n",
    "        knn.fit(set_entrenamiento_datos,set_entrenamiento_resultado)\n",
    "        set_pruebas.loc[:,'resultado'] = set_pruebas.loc[:,['superficie','place_name_encoded','property_type_encoded']].\\\n",
    "                apply(lambda x: knn.predict(x)[0],axis = 1)\n",
    "        set_pruebas.loc[:,'error_relativo'] = set_pruebas.loc[:,['price_aprox_usd','resultado']].\\\n",
    "                apply(lambda x: error_relativo(x[0],x[1]), axis = 1)\n",
    "        error = set_pruebas.loc[set_pruebas.error_relativo < 200,:].error_relativo.mean()\n",
    "        cant = set_pruebas.loc[set_pruebas.error_relativo < 200,:].error_relativo.count()\n",
    "        res.append((k,d,error,cant))\n",
    "        print(k,' - ',d)"
   ]
  },
  {
   "cell_type": "code",
   "execution_count": null,
   "metadata": {
    "collapsed": true
   },
   "outputs": [],
   "source": [
    "for r in res:\n",
    "    print (\"k = {}, dist = {}, error = {}, cantidad = {}.\".format(r[0],r[1],r[2],r[3]))"
   ]
  }
 ],
 "metadata": {
  "kernelspec": {
   "display_name": "Python 3",
   "language": "python",
   "name": "python3"
  },
  "language_info": {
   "codemirror_mode": {
    "name": "ipython",
    "version": 3
   },
   "file_extension": ".py",
   "mimetype": "text/x-python",
   "name": "python",
   "nbconvert_exporter": "python",
   "pygments_lexer": "ipython3",
   "version": "3.6.1"
  }
 },
 "nbformat": 4,
 "nbformat_minor": 2
}
