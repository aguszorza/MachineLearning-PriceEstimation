{
 "cells": [
  {
   "cell_type": "markdown",
   "metadata": {},
   "source": [
    "# Algoritmo final: Decision Tree"
   ]
  },
  {
   "cell_type": "code",
   "execution_count": 1,
   "metadata": {
    "collapsed": true
   },
   "outputs": [],
   "source": [
    "import pandas as pd\n",
    "import numpy as np\n",
    "from sklearn.metrics import mean_squared_error\n",
    "from sklearn.tree import DecisionTreeRegressor\n",
    "from sklearn import preprocessing\n",
    "from sklearn.model_selection import train_test_split\n",
    "import datetime\n",
    "\n",
    "import warnings\n",
    "warnings.simplefilter(\"ignore\", category=DeprecationWarning)"
   ]
  },
  {
   "cell_type": "code",
   "execution_count": 2,
   "metadata": {
    "collapsed": true
   },
   "outputs": [],
   "source": [
    "inicio = datetime.datetime.now()"
   ]
  },
  {
   "cell_type": "code",
   "execution_count": 130,
   "metadata": {
    "collapsed": true
   },
   "outputs": [],
   "source": [
    "propiedades = pd.read_csv('../../set_datos_sup_desc.csv')\n",
    "set_pruebas = pd.read_csv(\"../properati_dataset_modificado_descripciones.csv\")"
   ]
  },
  {
   "cell_type": "code",
   "execution_count": 131,
   "metadata": {
    "collapsed": true
   },
   "outputs": [],
   "source": [
    "sup_min = 10\n",
    "sup_max = 300\n",
    "lat_min = -35\n",
    "lat_max = -34\n",
    "lon_min = -59\n",
    "lon_max = -58\n",
    "precio_min = 30000\n",
    "precio_max = 3000000\n",
    "\n",
    "propiedades.loc[:, 'Year'] = propiedades.loc[:,'created_on'].apply(lambda x: int(x.split('-')[0]))\n",
    "\n",
    "propiedades.loc[:, 'Month'] = propiedades.loc[:,'created_on'].apply(lambda x: int(x.split('-')[1]))\n",
    "\n",
    "\n",
    "propiedades = propiedades.loc[(propiedades.price_aprox_usd.notnull()) & (propiedades.superficie.notnull())\\\n",
    "                              & (propiedades.lat.notnull()) & (propiedades.lon.notnull())\\\n",
    "                        & (propiedades.price_aprox_usd <= precio_max) & (propiedades.price_aprox_usd >= precio_min) &\\\n",
    "                         (propiedades.superficie <= sup_max) & (propiedades.superficie >= sup_min) &\\\n",
    "                      (propiedades.lat <= lat_max) & (propiedades.lat >= lat_min) &\\\n",
    "                       (propiedades.lon <= lon_max) & (propiedades.lon >= lon_min) &\\\n",
    "                              (propiedades.Year >=2017),:]\n"
   ]
  },
  {
   "cell_type": "markdown",
   "metadata": {},
   "source": [
    "# Columnas"
   ]
  },
  {
   "cell_type": "code",
   "execution_count": 132,
   "metadata": {},
   "outputs": [
    {
     "data": {
      "text/plain": [
       "81"
      ]
     },
     "execution_count": 132,
     "metadata": {},
     "output_type": "execute_result"
    }
   ],
   "source": [
    "col = ['superficie','lat', 'lon','property_type_encoded']\n",
    "\n",
    "comodidades = ['seguridad','gimnasio', 'aire', 'pileta', 'cochera','transporte','cocina','comedor',\\\n",
    "'living', 'banos', 'balcon','ambientes','departamento', 'dormitorios','quincho','porcelanato',\\\n",
    "'completo', 'edificio','lavadero', 'amplio', 'planta', 'cuadras', 'placard', 'terraza', 'acceso',\\\n",
    "'parrilla', 'luminoso','madera', 'credito', 'calidad', 'cucicba', 'amenities','expensas','mesada',\\\n",
    "'responsable','muebles', 'diario', 'independiente', 'cubierta','contrafrente', 'integrada',\\\n",
    "'recepcion','categoria', 'profesional', 'baulera', 'natural','unidades', 'principal', 'espacio', 'estacion', 'vestidor',\\\n",
    "'solarium', 'central','parquet', 'estrenar', 'granito','patio',  'casa', 'suite', 'vista', 'hall', 'agua',  \\\n",
    "'lote', 'fondo', 'acero', 'torre',  'horno',  'sala', 'salon', 'frente','toilette','piso', 'pisos', 'apto',\\\n",
    "'sobre','doble','marca','nuevo', 'bacha', 'ideal','excelente']\n",
    "\n",
    "len(comodidades)"
   ]
  },
  {
   "cell_type": "markdown",
   "metadata": {},
   "source": [
    "# Parametros del estimador"
   ]
  },
  {
   "cell_type": "code",
   "execution_count": 133,
   "metadata": {
    "collapsed": true
   },
   "outputs": [],
   "source": [
    "criterion = 'mse'\n",
    "max_depth = 20\n",
    "max_features = 0.8"
   ]
  },
  {
   "cell_type": "markdown",
   "metadata": {},
   "source": [
    "# Con un set de validacion"
   ]
  },
  {
   "cell_type": "code",
   "execution_count": 117,
   "metadata": {
    "collapsed": true
   },
   "outputs": [],
   "source": [
    "columnas = col + comodidades\n",
    "X_train, X_test, y_train, y_test = train_test_split(propiedades.loc[:,columnas+['description']], \\\n",
    "                                        propiedades.loc[:,'price_aprox_usd'], test_size=0.2)\n",
    "X_train = pd.DataFrame(X_train).reset_index(drop = True)\n",
    "X_test = pd.DataFrame(X_test).reset_index(drop = True)"
   ]
  },
  {
   "cell_type": "code",
   "execution_count": 118,
   "metadata": {},
   "outputs": [
    {
     "name": "stdout",
     "output_type": "stream",
     "text": [
      "Precision = 93.49 %,  Error = 2487568555\n"
     ]
    }
   ],
   "source": [
    "tree = DecisionTreeRegressor(criterion = criterion, max_depth = max_depth, max_features = max_features)\n",
    "    \n",
    "tree.fit(X_train.loc[:,columnas],y_train)\n",
    "a = tree.predict(X_test.loc[:,columnas])\n",
    "precision = tree.score(X_test.loc[:,columnas],y_test) * 100\n",
    "error = mean_squared_error(tree.predict(X_test.loc[:,columnas]), y_test)\n",
    "print(\"Precision = {:.2f} %,  Error = {:.0f}\".format(precision,error))"
   ]
  },
  {
   "cell_type": "markdown",
   "metadata": {},
   "source": [
    "# Con el set de pruebas"
   ]
  },
  {
   "cell_type": "code",
   "execution_count": 135,
   "metadata": {},
   "outputs": [
    {
     "name": "stdout",
     "output_type": "stream",
     "text": [
      "0\n",
      "1\n",
      "2\n",
      "3\n",
      "4\n",
      "5\n",
      "6\n",
      "7\n",
      "8\n",
      "9\n",
      "10\n",
      "11\n",
      "12\n",
      "13\n",
      "14\n",
      "15\n",
      "16\n",
      "17\n",
      "18\n",
      "19\n",
      "20\n",
      "21\n",
      "22\n",
      "23\n",
      "24\n",
      "25\n",
      "26\n",
      "27\n",
      "28\n",
      "29\n",
      "30\n",
      "31\n",
      "32\n",
      "33\n",
      "34\n",
      "35\n",
      "36\n",
      "37\n",
      "38\n",
      "39\n",
      "40\n",
      "41\n",
      "42\n",
      "43\n",
      "44\n",
      "45\n",
      "46\n",
      "47\n",
      "48\n",
      "49\n"
     ]
    }
   ],
   "source": [
    "set_pruebas.loc[:,'price_usd'] = 0.0\n",
    "cant = 50\n",
    "\n",
    "n = int(len(comodidades) * 0.8)\n",
    "\n",
    "for i in range(cant):\n",
    "    com = list(np.random.choice(comodidades,n,replace = False))\n",
    "    columnas = col + com\n",
    "    set_entrenamiento_datos = propiedades.loc[:,columnas]\n",
    "    set_entrenamiento_resultado = propiedades.loc[:,'price_aprox_usd']\n",
    "    \n",
    "    tree = DecisionTreeRegressor(criterion = criterion, max_depth = max_depth, max_features = max_features)\n",
    "    \n",
    "    tree.fit(set_entrenamiento_datos,set_entrenamiento_resultado)\n",
    "    set_pruebas.loc[:,'price_usd'] = set_pruebas.loc[:,'price_usd'] + \\\n",
    "                set_pruebas.loc[:,columnas].apply(lambda x: tree.predict([x])[0],axis = 1)\n",
    "    print(i)"
   ]
  },
  {
   "cell_type": "code",
   "execution_count": 136,
   "metadata": {
    "collapsed": true
   },
   "outputs": [],
   "source": [
    "set_pruebas.loc[:,'price_usd'] = set_pruebas.loc[:,'price_usd'] / cant\n",
    "\n",
    "resultado = set_pruebas.loc[:,['id','price_usd']]\n",
    "\n",
    "resultado.to_csv('resultados/AlgoritmoFinal_clase.csv', index = False)"
   ]
  },
  {
   "cell_type": "code",
   "execution_count": 11,
   "metadata": {},
   "outputs": [
    {
     "name": "stdout",
     "output_type": "stream",
     "text": [
      "Tardo 2 minutos.\n"
     ]
    }
   ],
   "source": [
    "fin = datetime.datetime.now()\n",
    "tiempo = fin - inicio\n",
    "print(\"Tardo {:.0f} minutos.\".format(tiempo.seconds / 60))"
   ]
  }
 ],
 "metadata": {
  "kernelspec": {
   "display_name": "Python 3",
   "language": "python",
   "name": "python3"
  },
  "language_info": {
   "codemirror_mode": {
    "name": "ipython",
    "version": 2
   },
   "file_extension": ".py",
   "mimetype": "text/x-python",
   "name": "python",
   "nbconvert_exporter": "python",
   "pygments_lexer": "ipython2",
   "version": "2.7.12"
  }
 },
 "nbformat": 4,
 "nbformat_minor": 2
}
