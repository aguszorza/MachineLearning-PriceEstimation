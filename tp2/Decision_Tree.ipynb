{
 "cells": [
  {
   "cell_type": "code",
   "execution_count": 2,
   "metadata": {
    "collapsed": true
   },
   "outputs": [],
   "source": [
    "import pandas as pd\n",
    "import numpy as np\n",
    "from sklearn.tree import DecisionTreeRegressor\n",
    "from sklearn.metrics import mean_squared_error\n",
    "from sklearn.model_selection import GridSearchCV\n",
    "from sklearn.externals import joblib\n",
    "import time\n",
    "\n",
    "import warnings\n",
    "warnings.simplefilter(\"ignore\", category=DeprecationWarning)"
   ]
  },
  {
   "cell_type": "code",
   "execution_count": 2,
   "metadata": {
    "collapsed": true
   },
   "outputs": [],
   "source": [
    "propiedades = pd.read_csv('/home/mati/Desktop/set_datos_propiedades.csv')"
   ]
  },
  {
   "cell_type": "code",
   "execution_count": 3,
   "metadata": {
    "collapsed": true
   },
   "outputs": [],
   "source": [
    "propiedades = propiedades.loc[(propiedades.price_aprox_usd.notnull()) & (propiedades.superficie.notnull()),\\\n",
    "                             ['place_name_encoded', 'property_type_encoded','price_aprox_usd','superficie',\\\n",
    "                             'Year','Month','seguridad','aire','gimnasio','cochera','pileta']]"
   ]
  },
  {
   "cell_type": "code",
   "execution_count": 4,
   "metadata": {},
   "outputs": [
    {
     "name": "stdout",
     "output_type": "stream",
     "text": [
      "<class 'pandas.core.frame.DataFrame'>\n",
      "Int64Index: 1132495 entries, 0 to 1413024\n",
      "Data columns (total 11 columns):\n",
      "place_name_encoded       1132495 non-null int64\n",
      "property_type_encoded    1132495 non-null int64\n",
      "price_aprox_usd          1132495 non-null float64\n",
      "superficie               1132495 non-null float64\n",
      "Year                     1132495 non-null int64\n",
      "Month                    1132495 non-null int64\n",
      "seguridad                1132495 non-null bool\n",
      "aire                     1132495 non-null bool\n",
      "gimnasio                 1132495 non-null bool\n",
      "cochera                  1132495 non-null bool\n",
      "pileta                   1132495 non-null bool\n",
      "dtypes: bool(5), float64(2), int64(4)\n",
      "memory usage: 65.9 MB\n"
     ]
    }
   ],
   "source": [
    "propiedades.info()"
   ]
  },
  {
   "cell_type": "markdown",
   "metadata": {},
   "source": [
    "# Decision Tree"
   ]
  },
  {
   "cell_type": "code",
   "execution_count": 14,
   "metadata": {
    "collapsed": true
   },
   "outputs": [],
   "source": [
    "columnas = ['superficie','place_name_encoded','property_type_encoded','seguridad','gimnasio', 'aire', 'pileta', 'cochera']\n",
    "columnas_precio = columnas + ['price_aprox_usd']"
   ]
  },
  {
   "cell_type": "code",
   "execution_count": 15,
   "metadata": {
    "collapsed": true
   },
   "outputs": [],
   "source": [
    "set_entrenamiento = propiedades.loc[(propiedades.Year >= 2016) &((propiedades.Year < 2017) | (propiedades.Month < 6))\\\n",
    "                                    ,columnas_precio]\n",
    "set_pruebas = propiedades.loc[(propiedades.Year == 2017) & (propiedades.Month == 6),columnas_precio].head(20000)\n",
    "\n",
    "set_entrenamiento_datos = set_entrenamiento.loc[:,columnas]\n",
    "set_entrenamiento_resultado = set_entrenamiento.loc[:,'price_aprox_usd']"
   ]
  },
  {
   "cell_type": "code",
   "execution_count": 16,
   "metadata": {},
   "outputs": [
    {
     "name": "stdout",
     "output_type": "stream",
     "text": [
      "Precision = 90.99 % , error = 12434347138.596506\n"
     ]
    }
   ],
   "source": [
    "tree = DecisionTreeRegressor()\n",
    "tree.fit(set_entrenamiento_datos,set_entrenamiento_resultado)\n",
    "set_pruebas.loc[:,'resultado'] = set_pruebas.loc[:,columnas].apply(lambda x: tree.predict(x)[0],axis = 1)\n",
    "precision = tree.score(set_pruebas.loc[:,columnas],set_pruebas.price_aprox_usd) * 100\n",
    "error = mean_squared_error(set_pruebas.price_aprox_usd,set_pruebas.resultado)\n",
    "print(\"Precision = {:.2f} % , error = {}\".format(precision, error))"
   ]
  },
  {
   "cell_type": "markdown",
   "metadata": {},
   "source": [
    "## Ahora que tenemos una intuicion, probamos cambiando los parametros"
   ]
  },
  {
   "cell_type": "code",
   "execution_count": 7,
   "metadata": {
    "collapsed": true
   },
   "outputs": [],
   "source": [
    "columnas = ['superficie','place_name_encoded','property_type_encoded','seguridad','gimnasio', 'aire', 'pileta', 'cochera']\n",
    "columnas_precio = columnas + ['price_aprox_usd']"
   ]
  },
  {
   "cell_type": "code",
   "execution_count": 8,
   "metadata": {
    "collapsed": true
   },
   "outputs": [],
   "source": [
    "set_entrenamiento = propiedades.loc[(propiedades.Year >= 2016) &((propiedades.Year < 2017) | (propiedades.Month < 6))\\\n",
    "                                    ,columnas_precio]\n",
    "set_pruebas = propiedades.loc[(propiedades.Year == 2017) & (propiedades.Month == 6),columnas_precio].head(20000)\n",
    "\n",
    "set_entrenamiento_datos = set_entrenamiento.loc[:,columnas]\n",
    "set_entrenamiento_resultado = set_entrenamiento.loc[:,'price_aprox_usd']\n",
    "\n",
    "res = []"
   ]
  },
  {
   "cell_type": "code",
   "execution_count": 9,
   "metadata": {
    "collapsed": true
   },
   "outputs": [
    {
     "name": "stdout",
     "output_type": "stream",
     "text": [
      "mse  -  None  -  2  -  1  -  0.4\n",
      "mse  -  None  -  2  -  1  -  0.6\n",
      "mse  -  None  -  2  -  1  -  1.0\n",
      "mse  -  None  -  2  -  10  -  0.4\n",
      "mse  -  None  -  2  -  10  -  0.6\n",
      "mse  -  None  -  2  -  10  -  1.0\n",
      "mse  -  None  -  3  -  1  -  0.4\n",
      "mse  -  None  -  3  -  1  -  0.6\n",
      "mse  -  None  -  3  -  1  -  1.0\n",
      "mse  -  None  -  3  -  10  -  0.4\n",
      "mse  -  None  -  3  -  10  -  0.6\n",
      "mse  -  None  -  3  -  10  -  1.0\n",
      "mse  -  1  -  2  -  1  -  0.4\n",
      "mse  -  1  -  2  -  1  -  0.6\n",
      "mse  -  1  -  2  -  1  -  1.0\n",
      "mse  -  1  -  2  -  10  -  0.4\n",
      "mse  -  1  -  2  -  10  -  0.6\n",
      "mse  -  1  -  2  -  10  -  1.0\n",
      "mse  -  1  -  3  -  1  -  0.4\n",
      "mse  -  1  -  3  -  1  -  0.6\n",
      "mse  -  1  -  3  -  1  -  1.0\n",
      "mse  -  1  -  3  -  10  -  0.4\n",
      "mse  -  1  -  3  -  10  -  0.6\n",
      "mse  -  1  -  3  -  10  -  1.0\n",
      "mse  -  5  -  2  -  1  -  0.4\n",
      "mse  -  5  -  2  -  1  -  0.6\n",
      "mse  -  5  -  2  -  1  -  1.0\n",
      "mse  -  5  -  2  -  10  -  0.4\n",
      "mse  -  5  -  2  -  10  -  0.6\n",
      "mse  -  5  -  2  -  10  -  1.0\n",
      "mse  -  5  -  3  -  1  -  0.4\n",
      "mse  -  5  -  3  -  1  -  0.6\n",
      "mse  -  5  -  3  -  1  -  1.0\n",
      "mse  -  5  -  3  -  10  -  0.4\n",
      "mse  -  5  -  3  -  10  -  0.6\n",
      "mse  -  5  -  3  -  10  -  1.0\n",
      "mse  -  10  -  2  -  1  -  0.4\n",
      "mse  -  10  -  2  -  1  -  0.6\n",
      "mse  -  10  -  2  -  1  -  1.0\n",
      "mse  -  10  -  2  -  10  -  0.4\n",
      "mse  -  10  -  2  -  10  -  0.6\n",
      "mse  -  10  -  2  -  10  -  1.0\n",
      "mse  -  10  -  3  -  1  -  0.4\n",
      "mse  -  10  -  3  -  1  -  0.6\n",
      "mse  -  10  -  3  -  1  -  1.0\n",
      "mse  -  10  -  3  -  10  -  0.4\n",
      "mse  -  10  -  3  -  10  -  0.6\n",
      "mse  -  10  -  3  -  10  -  1.0\n",
      "friedman_mse  -  None  -  2  -  1  -  0.4\n",
      "friedman_mse  -  None  -  2  -  1  -  0.6\n",
      "friedman_mse  -  None  -  2  -  1  -  1.0\n",
      "friedman_mse  -  None  -  2  -  10  -  0.4\n",
      "friedman_mse  -  None  -  2  -  10  -  0.6\n",
      "friedman_mse  -  None  -  2  -  10  -  1.0\n",
      "friedman_mse  -  None  -  3  -  1  -  0.4\n",
      "friedman_mse  -  None  -  3  -  1  -  0.6\n",
      "friedman_mse  -  None  -  3  -  1  -  1.0\n",
      "friedman_mse  -  None  -  3  -  10  -  0.4\n",
      "friedman_mse  -  None  -  3  -  10  -  0.6\n",
      "friedman_mse  -  None  -  3  -  10  -  1.0\n",
      "friedman_mse  -  1  -  2  -  1  -  0.4\n",
      "friedman_mse  -  1  -  2  -  1  -  0.6\n",
      "friedman_mse  -  1  -  2  -  1  -  1.0\n",
      "friedman_mse  -  1  -  2  -  10  -  0.4\n",
      "friedman_mse  -  1  -  2  -  10  -  0.6\n",
      "friedman_mse  -  1  -  2  -  10  -  1.0\n",
      "friedman_mse  -  1  -  3  -  1  -  0.4\n",
      "friedman_mse  -  1  -  3  -  1  -  0.6\n",
      "friedman_mse  -  1  -  3  -  1  -  1.0\n",
      "friedman_mse  -  1  -  3  -  10  -  0.4\n",
      "friedman_mse  -  1  -  3  -  10  -  0.6\n",
      "friedman_mse  -  1  -  3  -  10  -  1.0\n",
      "friedman_mse  -  5  -  2  -  1  -  0.4\n",
      "friedman_mse  -  5  -  2  -  1  -  0.6\n",
      "friedman_mse  -  5  -  2  -  1  -  1.0\n",
      "friedman_mse  -  5  -  2  -  10  -  0.4\n",
      "friedman_mse  -  5  -  2  -  10  -  0.6\n",
      "friedman_mse  -  5  -  2  -  10  -  1.0\n",
      "friedman_mse  -  5  -  3  -  1  -  0.4\n",
      "friedman_mse  -  5  -  3  -  1  -  0.6\n",
      "friedman_mse  -  5  -  3  -  1  -  1.0\n",
      "friedman_mse  -  5  -  3  -  10  -  0.4\n",
      "friedman_mse  -  5  -  3  -  10  -  0.6\n",
      "friedman_mse  -  5  -  3  -  10  -  1.0\n",
      "friedman_mse  -  10  -  2  -  1  -  0.4\n",
      "friedman_mse  -  10  -  2  -  1  -  0.6\n",
      "friedman_mse  -  10  -  2  -  1  -  1.0\n",
      "friedman_mse  -  10  -  2  -  10  -  0.4\n",
      "friedman_mse  -  10  -  2  -  10  -  0.6\n",
      "friedman_mse  -  10  -  2  -  10  -  1.0\n",
      "friedman_mse  -  10  -  3  -  1  -  0.4\n",
      "friedman_mse  -  10  -  3  -  1  -  0.6\n",
      "friedman_mse  -  10  -  3  -  1  -  1.0\n",
      "friedman_mse  -  10  -  3  -  10  -  0.4\n",
      "friedman_mse  -  10  -  3  -  10  -  0.6\n",
      "friedman_mse  -  10  -  3  -  10  -  1.0\n"
     ]
    }
   ],
   "source": [
    "lista_criterio = ['mse','friedman_mse']\n",
    "lista_max_depth = [None,1,5,10]\n",
    "lista_min_samples_split = [2,3]\n",
    "lista_min_samples_leaf = [1,10]\n",
    "lista_features = [0.4,0.6,1.0]\n",
    "\n",
    "for criterio in lista_criterio:\n",
    "    for max_depth in lista_max_depth:\n",
    "        for min_sample in lista_min_samples_split:\n",
    "            for min_leaf in lista_min_samples_leaf:\n",
    "                for feature in lista_features:\n",
    "                    \n",
    "                    tree = DecisionTreeRegressor(criterion = criterio, max_depth = max_depth, min_samples_split = min_sample,\\\n",
    "                                    min_samples_leaf = min_leaf, max_features = feature)\n",
    "                    tree.fit(set_entrenamiento_datos,set_entrenamiento_resultado)\n",
    "                    set_pruebas.loc[:,'resultado'] = set_pruebas.loc[:,columnas].apply\\\n",
    "                            (lambda x: tree.predict(x)[0],axis = 1)\n",
    "                    precision = tree.score(set_pruebas.loc[:,columnas],set_pruebas.loc[:,'price_aprox_usd']) * 100\n",
    "                    error = mean_squared_error(set_pruebas.price_aprox_usd,set_pruebas.resultado)\n",
    "                    res.append((criterio,max_depth,min_sample,min_leaf,feature,precision,error))\n",
    "                    print(criterio,' - ',max_depth,' - ',min_sample,' - ',min_leaf,' - ',feature)"
   ]
  },
  {
   "cell_type": "code",
   "execution_count": 10,
   "metadata": {
    "scrolled": false
   },
   "outputs": [
    {
     "name": "stdout",
     "output_type": "stream",
     "text": [
      "Criterio = mse, max_depth = None, min_sample_split = 2, min_sample_leaf = 1, features = 0.4, precision = 90.92 % , error = 12523178385.446316\n",
      "Criterio = mse, max_depth = None, min_sample_split = 2, min_sample_leaf = 1, features = 0.6, precision = 90.84 % , error = 12633432697.540848\n",
      "Criterio = mse, max_depth = None, min_sample_split = 2, min_sample_leaf = 1, features = 1.0, precision = 90.99 % , error = 12436424287.069954\n",
      "Criterio = mse, max_depth = None, min_sample_split = 2, min_sample_leaf = 10, features = 0.4, precision = 61.57 % , error = 53024760632.939766\n",
      "Criterio = mse, max_depth = None, min_sample_split = 2, min_sample_leaf = 10, features = 0.6, precision = 58.74 % , error = 56920716118.86883\n",
      "Criterio = mse, max_depth = None, min_sample_split = 2, min_sample_leaf = 10, features = 1.0, precision = 62.36 % , error = 51921658182.3563\n",
      "Criterio = mse, max_depth = None, min_sample_split = 3, min_sample_leaf = 1, features = 0.4, precision = 90.29 % , error = 13398537273.276394\n",
      "Criterio = mse, max_depth = None, min_sample_split = 3, min_sample_leaf = 1, features = 0.6, precision = 90.62 % , error = 12946473277.73687\n",
      "Criterio = mse, max_depth = None, min_sample_split = 3, min_sample_leaf = 1, features = 1.0, precision = 89.98 % , error = 13824638133.12685\n",
      "Criterio = mse, max_depth = None, min_sample_split = 3, min_sample_leaf = 10, features = 0.4, precision = 62.38 % , error = 51897113155.1373\n",
      "Criterio = mse, max_depth = None, min_sample_split = 3, min_sample_leaf = 10, features = 0.6, precision = 59.36 % , error = 56061802267.68974\n",
      "Criterio = mse, max_depth = None, min_sample_split = 3, min_sample_leaf = 10, features = 1.0, precision = 62.36 % , error = 51921324550.0338\n",
      "Criterio = mse, max_depth = 1, min_sample_split = 2, min_sample_leaf = 1, features = 0.4, precision = 8.04 % , error = 126866601834.1005\n",
      "Criterio = mse, max_depth = 1, min_sample_split = 2, min_sample_leaf = 1, features = 0.6, precision = 25.14 % , error = 103281682036.2066\n",
      "Criterio = mse, max_depth = 1, min_sample_split = 2, min_sample_leaf = 1, features = 1.0, precision = 25.14 % , error = 103281682036.20676\n",
      "Criterio = mse, max_depth = 1, min_sample_split = 2, min_sample_leaf = 10, features = 0.4, precision = 6.27 % , error = 129310236374.38138\n",
      "Criterio = mse, max_depth = 1, min_sample_split = 2, min_sample_leaf = 10, features = 0.6, precision = 25.14 % , error = 103281682036.2067\n",
      "Criterio = mse, max_depth = 1, min_sample_split = 2, min_sample_leaf = 10, features = 1.0, precision = 25.14 % , error = 103281682036.20676\n",
      "Criterio = mse, max_depth = 1, min_sample_split = 3, min_sample_leaf = 1, features = 0.4, precision = 25.14 % , error = 103281682036.20654\n",
      "Criterio = mse, max_depth = 1, min_sample_split = 3, min_sample_leaf = 1, features = 0.6, precision = 8.04 % , error = 126866601834.1005\n",
      "Criterio = mse, max_depth = 1, min_sample_split = 3, min_sample_leaf = 1, features = 1.0, precision = 25.14 % , error = 103281682036.20674\n",
      "Criterio = mse, max_depth = 1, min_sample_split = 3, min_sample_leaf = 10, features = 0.4, precision = 1.58 % , error = 135784182566.21402\n",
      "Criterio = mse, max_depth = 1, min_sample_split = 3, min_sample_leaf = 10, features = 0.6, precision = 25.14 % , error = 103281682036.20674\n",
      "Criterio = mse, max_depth = 1, min_sample_split = 3, min_sample_leaf = 10, features = 1.0, precision = 25.14 % , error = 103281682036.20663\n",
      "Criterio = mse, max_depth = 5, min_sample_split = 2, min_sample_leaf = 1, features = 0.4, precision = 36.10 % , error = 88162833459.66348\n",
      "Criterio = mse, max_depth = 5, min_sample_split = 2, min_sample_leaf = 1, features = 0.6, precision = 39.15 % , error = 83954629247.17972\n",
      "Criterio = mse, max_depth = 5, min_sample_split = 2, min_sample_leaf = 1, features = 1.0, precision = 40.84 % , error = 81613575697.65526\n",
      "Criterio = mse, max_depth = 5, min_sample_split = 2, min_sample_leaf = 10, features = 0.4, precision = 35.47 % , error = 89030508642.25435\n",
      "Criterio = mse, max_depth = 5, min_sample_split = 2, min_sample_leaf = 10, features = 0.6, precision = 40.24 % , error = 82442498795.26736\n",
      "Criterio = mse, max_depth = 5, min_sample_split = 2, min_sample_leaf = 10, features = 1.0, precision = 40.84 % , error = 81613575697.65527\n",
      "Criterio = mse, max_depth = 5, min_sample_split = 3, min_sample_leaf = 1, features = 0.4, precision = 38.31 % , error = 85104916787.55827\n",
      "Criterio = mse, max_depth = 5, min_sample_split = 3, min_sample_leaf = 1, features = 0.6, precision = 41.97 % , error = 80063690533.51427\n",
      "Criterio = mse, max_depth = 5, min_sample_split = 3, min_sample_leaf = 1, features = 1.0, precision = 40.84 % , error = 81613575697.65526\n",
      "Criterio = mse, max_depth = 5, min_sample_split = 3, min_sample_leaf = 10, features = 0.4, precision = 30.67 % , error = 95644129430.28612\n",
      "Criterio = mse, max_depth = 5, min_sample_split = 3, min_sample_leaf = 10, features = 0.6, precision = 17.10 % , error = 114366350173.6955\n",
      "Criterio = mse, max_depth = 5, min_sample_split = 3, min_sample_leaf = 10, features = 1.0, precision = 40.84 % , error = 81613575697.65527\n",
      "Criterio = mse, max_depth = 10, min_sample_split = 2, min_sample_leaf = 1, features = 0.4, precision = 54.39 % , error = 62925853433.49056\n",
      "Criterio = mse, max_depth = 10, min_sample_split = 2, min_sample_leaf = 1, features = 0.6, precision = 51.73 % , error = 66587107591.68717\n",
      "Criterio = mse, max_depth = 10, min_sample_split = 2, min_sample_leaf = 1, features = 1.0, precision = 54.65 % , error = 62566338944.95822\n",
      "Criterio = mse, max_depth = 10, min_sample_split = 2, min_sample_leaf = 10, features = 0.4, precision = 47.67 % , error = 72198890118.16615\n",
      "Criterio = mse, max_depth = 10, min_sample_split = 2, min_sample_leaf = 10, features = 0.6, precision = 48.30 % , error = 71324181594.83945\n",
      "Criterio = mse, max_depth = 10, min_sample_split = 2, min_sample_leaf = 10, features = 1.0, precision = 46.11 % , error = 74345456833.84073\n",
      "Criterio = mse, max_depth = 10, min_sample_split = 3, min_sample_leaf = 1, features = 0.4, precision = 46.81 % , error = 73378296092.91219\n",
      "Criterio = mse, max_depth = 10, min_sample_split = 3, min_sample_leaf = 1, features = 0.6, precision = 50.39 % , error = 68447104615.06246\n",
      "Criterio = mse, max_depth = 10, min_sample_split = 3, min_sample_leaf = 1, features = 1.0, precision = 54.65 % , error = 62561163944.95822\n",
      "Criterio = mse, max_depth = 10, min_sample_split = 3, min_sample_leaf = 10, features = 0.4, precision = 46.33 % , error = 74041581893.98581\n",
      "Criterio = mse, max_depth = 10, min_sample_split = 3, min_sample_leaf = 10, features = 0.6, precision = 52.57 % , error = 65438705230.89646\n",
      "Criterio = mse, max_depth = 10, min_sample_split = 3, min_sample_leaf = 10, features = 1.0, precision = 46.11 % , error = 74345456833.84073\n",
      "Criterio = friedman_mse, max_depth = None, min_sample_split = 2, min_sample_leaf = 1, features = 0.4, precision = 90.86 % , error = 12605271717.660795\n",
      "Criterio = friedman_mse, max_depth = None, min_sample_split = 2, min_sample_leaf = 1, features = 0.6, precision = 90.93 % , error = 12513842227.632835\n",
      "Criterio = friedman_mse, max_depth = None, min_sample_split = 2, min_sample_leaf = 1, features = 1.0, precision = 90.98 % , error = 12448471444.675638\n",
      "Criterio = friedman_mse, max_depth = None, min_sample_split = 2, min_sample_leaf = 10, features = 0.4, precision = 62.87 % , error = 51227323534.231316\n",
      "Criterio = friedman_mse, max_depth = None, min_sample_split = 2, min_sample_leaf = 10, features = 0.6, precision = 64.69 % , error = 48710697772.047195\n",
      "Criterio = friedman_mse, max_depth = None, min_sample_split = 2, min_sample_leaf = 10, features = 1.0, precision = 62.36 % , error = 51921390351.012474\n",
      "Criterio = friedman_mse, max_depth = None, min_sample_split = 3, min_sample_leaf = 1, features = 0.4, precision = 90.40 % , error = 13243240184.083107\n",
      "Criterio = friedman_mse, max_depth = None, min_sample_split = 3, min_sample_leaf = 1, features = 0.6, precision = 90.38 % , error = 13272382309.491701\n",
      "Criterio = friedman_mse, max_depth = None, min_sample_split = 3, min_sample_leaf = 1, features = 1.0, precision = 89.97 % , error = 13840844833.457441\n",
      "Criterio = friedman_mse, max_depth = None, min_sample_split = 3, min_sample_leaf = 10, features = 0.4, precision = 9.56 % , error = 124765124509.38785\n",
      "Criterio = friedman_mse, max_depth = None, min_sample_split = 3, min_sample_leaf = 10, features = 0.6, precision = 39.25 % , error = 83809786511.49998\n",
      "Criterio = friedman_mse, max_depth = None, min_sample_split = 3, min_sample_leaf = 10, features = 1.0, precision = 62.36 % , error = 51922062260.98422\n",
      "Criterio = friedman_mse, max_depth = 1, min_sample_split = 2, min_sample_leaf = 1, features = 0.4, precision = 8.04 % , error = 126866601834.10045\n",
      "Criterio = friedman_mse, max_depth = 1, min_sample_split = 2, min_sample_leaf = 1, features = 0.6, precision = 25.14 % , error = 103281682036.2067\n",
      "Criterio = friedman_mse, max_depth = 1, min_sample_split = 2, min_sample_leaf = 1, features = 1.0, precision = 25.14 % , error = 103281682036.20673\n",
      "Criterio = friedman_mse, max_depth = 1, min_sample_split = 2, min_sample_leaf = 10, features = 0.4, precision = 2.81 % , error = 134078048063.5254\n",
      "Criterio = friedman_mse, max_depth = 1, min_sample_split = 2, min_sample_leaf = 10, features = 0.6, precision = 2.81 % , error = 134078048063.52542\n",
      "Criterio = friedman_mse, max_depth = 1, min_sample_split = 2, min_sample_leaf = 10, features = 1.0, precision = 25.14 % , error = 103281682036.20662\n",
      "Criterio = friedman_mse, max_depth = 1, min_sample_split = 3, min_sample_leaf = 1, features = 0.4, precision = 2.81 % , error = 134078048063.5254\n",
      "Criterio = friedman_mse, max_depth = 1, min_sample_split = 3, min_sample_leaf = 1, features = 0.6, precision = 8.04 % , error = 126866601834.1005\n",
      "Criterio = friedman_mse, max_depth = 1, min_sample_split = 3, min_sample_leaf = 1, features = 1.0, precision = 25.14 % , error = 103281682036.20676\n",
      "Criterio = friedman_mse, max_depth = 1, min_sample_split = 3, min_sample_leaf = 10, features = 0.4, precision = 25.14 % , error = 103281682036.2066\n",
      "Criterio = friedman_mse, max_depth = 1, min_sample_split = 3, min_sample_leaf = 10, features = 0.6, precision = 2.81 % , error = 134078048063.52542\n",
      "Criterio = friedman_mse, max_depth = 1, min_sample_split = 3, min_sample_leaf = 10, features = 1.0, precision = 25.14 % , error = 103281682036.2066\n",
      "Criterio = friedman_mse, max_depth = 5, min_sample_split = 2, min_sample_leaf = 1, features = 0.4, precision = 36.31 % , error = 87870452884.9896\n",
      "Criterio = friedman_mse, max_depth = 5, min_sample_split = 2, min_sample_leaf = 1, features = 0.6, precision = 38.20 % , error = 85255082576.0799\n",
      "Criterio = friedman_mse, max_depth = 5, min_sample_split = 2, min_sample_leaf = 1, features = 1.0, precision = 40.84 % , error = 81613575697.65526\n",
      "Criterio = friedman_mse, max_depth = 5, min_sample_split = 2, min_sample_leaf = 10, features = 0.4, precision = 24.35 % , error = 104372684586.84572\n",
      "Criterio = friedman_mse, max_depth = 5, min_sample_split = 2, min_sample_leaf = 10, features = 0.6, precision = 14.13 % , error = 118466650896.15668\n",
      "Criterio = friedman_mse, max_depth = 5, min_sample_split = 2, min_sample_leaf = 10, features = 1.0, precision = 40.84 % , error = 81613575697.65526\n",
      "Criterio = friedman_mse, max_depth = 5, min_sample_split = 3, min_sample_leaf = 1, features = 0.4, precision = 36.49 % , error = 87617427301.29453\n",
      "Criterio = friedman_mse, max_depth = 5, min_sample_split = 3, min_sample_leaf = 1, features = 0.6, precision = 40.89 % , error = 81553005938.2496\n",
      "Criterio = friedman_mse, max_depth = 5, min_sample_split = 3, min_sample_leaf = 1, features = 1.0, precision = 40.84 % , error = 81613575697.65526\n",
      "Criterio = friedman_mse, max_depth = 5, min_sample_split = 3, min_sample_leaf = 10, features = 0.4, precision = 24.23 % , error = 104534418658.33081\n",
      "Criterio = friedman_mse, max_depth = 5, min_sample_split = 3, min_sample_leaf = 10, features = 0.6, precision = 39.46 % , error = 83517572722.54166\n",
      "Criterio = friedman_mse, max_depth = 5, min_sample_split = 3, min_sample_leaf = 10, features = 1.0, precision = 40.84 % , error = 81613575697.65524\n",
      "Criterio = friedman_mse, max_depth = 10, min_sample_split = 2, min_sample_leaf = 1, features = 0.4, precision = 53.40 % , error = 64289046442.879715\n",
      "Criterio = friedman_mse, max_depth = 10, min_sample_split = 2, min_sample_leaf = 1, features = 0.6, precision = 53.48 % , error = 64181904974.59927\n",
      "Criterio = friedman_mse, max_depth = 10, min_sample_split = 2, min_sample_leaf = 1, features = 1.0, precision = 54.65 % , error = 62566338944.95821\n",
      "Criterio = friedman_mse, max_depth = 10, min_sample_split = 2, min_sample_leaf = 10, features = 0.4, precision = 48.46 % , error = 71106910686.63257\n",
      "Criterio = friedman_mse, max_depth = 10, min_sample_split = 2, min_sample_leaf = 10, features = 0.6, precision = 49.57 % , error = 69567179482.68202\n",
      "Criterio = friedman_mse, max_depth = 10, min_sample_split = 2, min_sample_leaf = 10, features = 1.0, precision = 46.11 % , error = 74345456833.84073\n",
      "Criterio = friedman_mse, max_depth = 10, min_sample_split = 3, min_sample_leaf = 1, features = 0.4, precision = 52.70 % , error = 65256907590.59724\n",
      "Criterio = friedman_mse, max_depth = 10, min_sample_split = 3, min_sample_leaf = 1, features = 0.6, precision = 46.95 % , error = 73183867619.30122\n",
      "Criterio = friedman_mse, max_depth = 10, min_sample_split = 3, min_sample_leaf = 1, features = 1.0, precision = 54.65 % , error = 62566338944.95822\n",
      "Criterio = friedman_mse, max_depth = 10, min_sample_split = 3, min_sample_leaf = 10, features = 0.4, precision = 42.69 % , error = 79066914697.7851\n",
      "Criterio = friedman_mse, max_depth = 10, min_sample_split = 3, min_sample_leaf = 10, features = 0.6, precision = 51.21 % , error = 67307638509.869774\n",
      "Criterio = friedman_mse, max_depth = 10, min_sample_split = 3, min_sample_leaf = 10, features = 1.0, precision = 46.11 % , error = 74345456833.84073\n"
     ]
    }
   ],
   "source": [
    "for r in res:\n",
    "    print(\"Criterio = {}, max_depth = {}, min_sample_split = {}, min_sample_leaf = {}, features = {}, precision = {:.2f} % , error = {}\"\\\n",
    "          .format(r[0],r[1],r[2],r[3],r[4],r[5],r[6]))"
   ]
  },
  {
   "cell_type": "code",
   "execution_count": 11,
   "metadata": {},
   "outputs": [
    {
     "name": "stdout",
     "output_type": "stream",
     "text": [
      "Mayor precision = Criterio = mse, max_depth = None, min_sample_split = 2, min_sample_leaf = 1, features = 1.0, precision = 90.99 % , error = 12436424287.069954\n",
      "Menor error = Criterio = mse, max_depth = None, min_sample_split = 2, min_sample_leaf = 1, features = 1.0, precision = 90.99 % , error = 12436424287.069954\n"
     ]
    }
   ],
   "source": [
    "min_error = float('inf')\n",
    "max_precision = 0\n",
    "tupla_min_error = ()\n",
    "tupla_max_precision = ()\n",
    "for r in res:\n",
    "    if r[6] < min_error:\n",
    "        min_error = r[6]\n",
    "        tupla_min_error = r\n",
    "    if r[5] > max_precision:\n",
    "        max_precision = r[5]\n",
    "        tupla_max_precision = r\n",
    "        \n",
    "print(\"Mayor precision = Criterio = {}, max_depth = {}, min_sample_split = {}, min_sample_leaf = {}, features = {}, precision = {:.2f} % , error = {}\".\\\n",
    "              format(tupla_max_precision[0],tupla_max_precision[1],tupla_max_precision[2],tupla_max_precision[3],tupla_max_precision[4],tupla_max_precision[5],tupla_max_precision[6]))\n",
    "print(\"Menor error = Criterio = {}, max_depth = {}, min_sample_split = {}, min_sample_leaf = {}, features = {}, precision = {:.2f} % , error = {}\".\\\n",
    "              format(tupla_min_error[0],tupla_min_error[1],tupla_min_error[2],tupla_min_error[3],tupla_min_error[4],tupla_min_error[5],tupla_min_error[6]))"
   ]
  },
  {
   "cell_type": "markdown",
   "metadata": {},
   "source": [
    "## Tomamos criterio = mse, max_depth = None ,min_sample = 2 ,min_leaf = 1, features = 1.0"
   ]
  },
  {
   "cell_type": "code",
   "execution_count": 56,
   "metadata": {
    "collapsed": true
   },
   "outputs": [],
   "source": [
    "#Probamos distintas combinaciones de columnas, esta es la que dio mejores resultados\n",
    "\n",
    "columnas = ['superficie','place_name_encoded','property_type_encoded','seguridad','gimnasio','aire','pileta','cochera']\n",
    "columnas_precio = columnas + ['price_aprox_usd']"
   ]
  },
  {
   "cell_type": "code",
   "execution_count": 57,
   "metadata": {
    "collapsed": true
   },
   "outputs": [],
   "source": [
    "set_entrenamiento = propiedades.loc[(propiedades.Year >= 2016) &((propiedades.Year < 2017) | (propiedades.Month < 6))\\\n",
    "                                    ,columnas_precio]\n",
    "set_pruebas = propiedades.loc[(propiedades.Year == 2017) & (propiedades.Month == 6),columnas_precio].head(20000)\n",
    "\n",
    "set_entrenamiento_datos = set_entrenamiento.loc[:,columnas]\n",
    "set_entrenamiento_resultado = set_entrenamiento.loc[:,'price_aprox_usd']"
   ]
  },
  {
   "cell_type": "code",
   "execution_count": 58,
   "metadata": {
    "collapsed": true
   },
   "outputs": [],
   "source": [
    "criterio = 'mse'\n",
    "max_depth = None\n",
    "min_sample = 2\n",
    "min_leaf = 1\n",
    "feature = 1.0"
   ]
  },
  {
   "cell_type": "code",
   "execution_count": 59,
   "metadata": {},
   "outputs": [
    {
     "name": "stdout",
     "output_type": "stream",
     "text": [
      "Precision = 90.97 % , error = 12458466712.821684\n"
     ]
    }
   ],
   "source": [
    "tree = DecisionTreeRegressor(criterion = criterio, max_depth = max_depth, min_samples_split = min_sample,\\\n",
    "                                    min_samples_leaf = min_leaf, max_features = feature)\n",
    "tree.fit(set_entrenamiento_datos,set_entrenamiento_resultado)\n",
    "set_pruebas.loc[:,'resultado'] = set_pruebas.loc[:,columnas].apply(lambda x: tree.predict(x)[0],axis = 1)\n",
    "precision = tree.score(set_pruebas.loc[:,columnas],set_pruebas.price_aprox_usd) * 100\n",
    "error = mean_squared_error(set_pruebas.price_aprox_usd,set_pruebas.resultado)\n",
    "print(\"Precision = {:.2f} % , error = {}\".format(precision, error))"
   ]
  },
  {
   "cell_type": "markdown",
   "metadata": {},
   "source": [
    "# calculo con los verdaderos datos a analizar"
   ]
  },
  {
   "cell_type": "code",
   "execution_count": 60,
   "metadata": {
    "collapsed": true
   },
   "outputs": [],
   "source": [
    "analizar = pd.read_csv(\"/home/mati/Desktop/properati_dataset_modificado.csv\")"
   ]
  },
  {
   "cell_type": "code",
   "execution_count": 62,
   "metadata": {
    "collapsed": true
   },
   "outputs": [],
   "source": [
    "analizar.loc[:,'price_usd'] = analizar.loc[:,columnas].apply(lambda x: tree.predict(x)[0],axis = 1)"
   ]
  },
  {
   "cell_type": "code",
   "execution_count": 63,
   "metadata": {
    "collapsed": true
   },
   "outputs": [],
   "source": [
    "resultado = analizar.loc[:,['id','price_usd']]"
   ]
  },
  {
   "cell_type": "code",
   "execution_count": 64,
   "metadata": {
    "collapsed": true
   },
   "outputs": [],
   "source": [
    "resultado.to_csv('Decision_tree_resultados', index = False)"
   ]
  },
  {
   "cell_type": "markdown",
   "metadata": {},
   "source": [
    "# Ahora uso lat y lon en lugar de place name"
   ]
  },
  {
   "cell_type": "code",
   "execution_count": 2,
   "metadata": {
    "collapsed": true
   },
   "outputs": [],
   "source": [
    "propiedades = pd.read_csv('/home/mati/Desktop/set_datos_propiedades.csv')"
   ]
  },
  {
   "cell_type": "code",
   "execution_count": 3,
   "metadata": {
    "collapsed": true
   },
   "outputs": [],
   "source": [
    "propiedades = propiedades.loc[(propiedades.price_aprox_usd.notnull()) & (propiedades.superficie.notnull())\\\n",
    "                              & (propiedades.lat.notnull()) & (propiedades.lon.notnull()),\\\n",
    "                             ['lat', 'lon', 'property_type_encoded','price_aprox_usd','superficie',\\\n",
    "                             'Year','Month','seguridad','aire','gimnasio','cochera','pileta']]"
   ]
  },
  {
   "cell_type": "code",
   "execution_count": 4,
   "metadata": {
    "collapsed": true
   },
   "outputs": [],
   "source": [
    "columnas = ['superficie','lat', 'lon','property_type_encoded','seguridad','gimnasio', 'aire', 'pileta', 'cochera']\n",
    "columnas_precio = columnas + ['price_aprox_usd']"
   ]
  },
  {
   "cell_type": "code",
   "execution_count": 5,
   "metadata": {
    "collapsed": true
   },
   "outputs": [],
   "source": [
    "set_entrenamiento = propiedades.loc[(propiedades.Year >= 2016) &((propiedades.Year < 2017) | (propiedades.Month < 6))\\\n",
    "                                    ,columnas_precio]\n",
    "set_pruebas = propiedades.loc[(propiedades.Year == 2017) & (propiedades.Month == 6),columnas_precio].head(20000)\n",
    "\n",
    "set_entrenamiento_datos = set_entrenamiento.loc[:,columnas]\n",
    "set_entrenamiento_resultado = set_entrenamiento.loc[:,'price_aprox_usd']"
   ]
  },
  {
   "cell_type": "code",
   "execution_count": 6,
   "metadata": {},
   "outputs": [
    {
     "name": "stdout",
     "output_type": "stream",
     "text": [
      "Precision = 98.28 % , error = 1989833789.7358894\n"
     ]
    }
   ],
   "source": [
    "tree = DecisionTreeRegressor()\n",
    "tree.fit(set_entrenamiento_datos,set_entrenamiento_resultado)\n",
    "set_pruebas.loc[:,'resultado'] = set_pruebas.loc[:,columnas].apply(lambda x: tree.predict(x)[0],axis = 1)\n",
    "precision = tree.score(set_pruebas.loc[:,columnas],set_pruebas.price_aprox_usd) * 100\n",
    "error = mean_squared_error(set_pruebas.price_aprox_usd,set_pruebas.resultado)\n",
    "print(\"Precision = {:.2f} % , error = {}\".format(precision, error))"
   ]
  },
  {
   "cell_type": "code",
   "execution_count": 7,
   "metadata": {
    "collapsed": true
   },
   "outputs": [],
   "source": [
    "res = []"
   ]
  },
  {
   "cell_type": "code",
   "execution_count": 8,
   "metadata": {
    "scrolled": true
   },
   "outputs": [
    {
     "name": "stdout",
     "output_type": "stream",
     "text": [
      "mse  -  None  -  2  -  1  -  0.4\n",
      "mse  -  None  -  2  -  1  -  0.6\n",
      "mse  -  None  -  2  -  1  -  1.0\n",
      "mse  -  None  -  2  -  10  -  0.4\n",
      "mse  -  None  -  2  -  10  -  0.6\n",
      "mse  -  None  -  2  -  10  -  1.0\n",
      "mse  -  None  -  3  -  1  -  0.4\n",
      "mse  -  None  -  3  -  1  -  0.6\n",
      "mse  -  None  -  3  -  1  -  1.0\n",
      "mse  -  None  -  3  -  10  -  0.4\n",
      "mse  -  None  -  3  -  10  -  0.6\n",
      "mse  -  None  -  3  -  10  -  1.0\n",
      "mse  -  1  -  2  -  1  -  0.4\n",
      "mse  -  1  -  2  -  1  -  0.6\n",
      "mse  -  1  -  2  -  1  -  1.0\n",
      "mse  -  1  -  2  -  10  -  0.4\n",
      "mse  -  1  -  2  -  10  -  0.6\n",
      "mse  -  1  -  2  -  10  -  1.0\n",
      "mse  -  1  -  3  -  1  -  0.4\n",
      "mse  -  1  -  3  -  1  -  0.6\n",
      "mse  -  1  -  3  -  1  -  1.0\n",
      "mse  -  1  -  3  -  10  -  0.4\n",
      "mse  -  1  -  3  -  10  -  0.6\n",
      "mse  -  1  -  3  -  10  -  1.0\n",
      "mse  -  5  -  2  -  1  -  0.4\n",
      "mse  -  5  -  2  -  1  -  0.6\n",
      "mse  -  5  -  2  -  1  -  1.0\n",
      "mse  -  5  -  2  -  10  -  0.4\n",
      "mse  -  5  -  2  -  10  -  0.6\n",
      "mse  -  5  -  2  -  10  -  1.0\n",
      "mse  -  5  -  3  -  1  -  0.4\n",
      "mse  -  5  -  3  -  1  -  0.6\n",
      "mse  -  5  -  3  -  1  -  1.0\n",
      "mse  -  5  -  3  -  10  -  0.4\n",
      "mse  -  5  -  3  -  10  -  0.6\n",
      "mse  -  5  -  3  -  10  -  1.0\n",
      "mse  -  10  -  2  -  1  -  0.4\n",
      "mse  -  10  -  2  -  1  -  0.6\n",
      "mse  -  10  -  2  -  1  -  1.0\n",
      "mse  -  10  -  2  -  10  -  0.4\n",
      "mse  -  10  -  2  -  10  -  0.6\n",
      "mse  -  10  -  2  -  10  -  1.0\n",
      "mse  -  10  -  3  -  1  -  0.4\n",
      "mse  -  10  -  3  -  1  -  0.6\n",
      "mse  -  10  -  3  -  1  -  1.0\n",
      "mse  -  10  -  3  -  10  -  0.4\n",
      "mse  -  10  -  3  -  10  -  0.6\n",
      "mse  -  10  -  3  -  10  -  1.0\n",
      "friedman_mse  -  None  -  2  -  1  -  0.4\n",
      "friedman_mse  -  None  -  2  -  1  -  0.6\n",
      "friedman_mse  -  None  -  2  -  1  -  1.0\n",
      "friedman_mse  -  None  -  2  -  10  -  0.4\n",
      "friedman_mse  -  None  -  2  -  10  -  0.6\n",
      "friedman_mse  -  None  -  2  -  10  -  1.0\n",
      "friedman_mse  -  None  -  3  -  1  -  0.4\n",
      "friedman_mse  -  None  -  3  -  1  -  0.6\n",
      "friedman_mse  -  None  -  3  -  1  -  1.0\n",
      "friedman_mse  -  None  -  3  -  10  -  0.4\n",
      "friedman_mse  -  None  -  3  -  10  -  0.6\n",
      "friedman_mse  -  None  -  3  -  10  -  1.0\n",
      "friedman_mse  -  1  -  2  -  1  -  0.4\n",
      "friedman_mse  -  1  -  2  -  1  -  0.6\n",
      "friedman_mse  -  1  -  2  -  1  -  1.0\n",
      "friedman_mse  -  1  -  2  -  10  -  0.4\n",
      "friedman_mse  -  1  -  2  -  10  -  0.6\n",
      "friedman_mse  -  1  -  2  -  10  -  1.0\n",
      "friedman_mse  -  1  -  3  -  1  -  0.4\n",
      "friedman_mse  -  1  -  3  -  1  -  0.6\n",
      "friedman_mse  -  1  -  3  -  1  -  1.0\n",
      "friedman_mse  -  1  -  3  -  10  -  0.4\n",
      "friedman_mse  -  1  -  3  -  10  -  0.6\n",
      "friedman_mse  -  1  -  3  -  10  -  1.0\n",
      "friedman_mse  -  5  -  2  -  1  -  0.4\n",
      "friedman_mse  -  5  -  2  -  1  -  0.6\n",
      "friedman_mse  -  5  -  2  -  1  -  1.0\n",
      "friedman_mse  -  5  -  2  -  10  -  0.4\n",
      "friedman_mse  -  5  -  2  -  10  -  0.6\n",
      "friedman_mse  -  5  -  2  -  10  -  1.0\n",
      "friedman_mse  -  5  -  3  -  1  -  0.4\n",
      "friedman_mse  -  5  -  3  -  1  -  0.6\n",
      "friedman_mse  -  5  -  3  -  1  -  1.0\n",
      "friedman_mse  -  5  -  3  -  10  -  0.4\n",
      "friedman_mse  -  5  -  3  -  10  -  0.6\n",
      "friedman_mse  -  5  -  3  -  10  -  1.0\n",
      "friedman_mse  -  10  -  2  -  1  -  0.4\n",
      "friedman_mse  -  10  -  2  -  1  -  0.6\n",
      "friedman_mse  -  10  -  2  -  1  -  1.0\n",
      "friedman_mse  -  10  -  2  -  10  -  0.4\n",
      "friedman_mse  -  10  -  2  -  10  -  0.6\n",
      "friedman_mse  -  10  -  2  -  10  -  1.0\n",
      "friedman_mse  -  10  -  3  -  1  -  0.4\n",
      "friedman_mse  -  10  -  3  -  1  -  0.6\n",
      "friedman_mse  -  10  -  3  -  1  -  1.0\n",
      "friedman_mse  -  10  -  3  -  10  -  0.4\n",
      "friedman_mse  -  10  -  3  -  10  -  0.6\n",
      "friedman_mse  -  10  -  3  -  10  -  1.0\n"
     ]
    }
   ],
   "source": [
    "lista_criterio = ['mse','friedman_mse']\n",
    "lista_max_depth = [None,1,5,10]\n",
    "lista_min_samples_split = [2,3]\n",
    "lista_min_samples_leaf = [1,10]\n",
    "lista_features = [0.4,0.6,1.0]\n",
    "\n",
    "for criterio in lista_criterio:\n",
    "    for max_depth in lista_max_depth:\n",
    "        for min_sample in lista_min_samples_split:\n",
    "            for min_leaf in lista_min_samples_leaf:\n",
    "                for feature in lista_features:\n",
    "                    \n",
    "                    tree = DecisionTreeRegressor(criterion = criterio, max_depth = max_depth, min_samples_split = min_sample,\\\n",
    "                                    min_samples_leaf = min_leaf, max_features = feature)\n",
    "                    tree.fit(set_entrenamiento_datos,set_entrenamiento_resultado)\n",
    "                    set_pruebas.loc[:,'resultado'] = set_pruebas.loc[:,columnas].apply\\\n",
    "                            (lambda x: tree.predict(x)[0],axis = 1)\n",
    "                    precision = tree.score(set_pruebas.loc[:,columnas],set_pruebas.loc[:,'price_aprox_usd']) * 100\n",
    "                    error = mean_squared_error(set_pruebas.price_aprox_usd,set_pruebas.resultado)\n",
    "                    res.append((criterio,max_depth,min_sample,min_leaf,feature,precision,error))\n",
    "                    print(criterio,' - ',max_depth,' - ',min_sample,' - ',min_leaf,' - ',feature)"
   ]
  },
  {
   "cell_type": "code",
   "execution_count": 9,
   "metadata": {
    "scrolled": false
   },
   "outputs": [
    {
     "name": "stdout",
     "output_type": "stream",
     "text": [
      "Criterio = mse, max_depth = None, min_sample_split = 2, min_sample_leaf = 1, features = 0.4, precision = 98.05 % , error = 2255960804.956864\n",
      "Criterio = mse, max_depth = None, min_sample_split = 2, min_sample_leaf = 1, features = 0.6, precision = 98.28 % , error = 1989025537.2791593\n",
      "Criterio = mse, max_depth = None, min_sample_split = 2, min_sample_leaf = 1, features = 1.0, precision = 98.21 % , error = 2074825073.4398386\n",
      "Criterio = mse, max_depth = None, min_sample_split = 2, min_sample_leaf = 10, features = 0.4, precision = 64.17 % , error = 41481380227.237434\n",
      "Criterio = mse, max_depth = None, min_sample_split = 2, min_sample_leaf = 10, features = 0.6, precision = 57.61 % , error = 49080302558.42927\n",
      "Criterio = mse, max_depth = None, min_sample_split = 2, min_sample_leaf = 10, features = 1.0, precision = 63.76 % , error = 41963364067.33917\n",
      "Criterio = mse, max_depth = None, min_sample_split = 3, min_sample_leaf = 1, features = 0.4, precision = 95.81 % , error = 4850759665.253196\n",
      "Criterio = mse, max_depth = None, min_sample_split = 3, min_sample_leaf = 1, features = 0.6, precision = 96.90 % , error = 3588935789.116769\n",
      "Criterio = mse, max_depth = None, min_sample_split = 3, min_sample_leaf = 1, features = 1.0, precision = 97.53 % , error = 2862097179.227169\n",
      "Criterio = mse, max_depth = None, min_sample_split = 3, min_sample_leaf = 10, features = 0.4, precision = 63.61 % , error = 42133022913.45793\n",
      "Criterio = mse, max_depth = None, min_sample_split = 3, min_sample_leaf = 10, features = 0.6, precision = 60.60 % , error = 45617426324.334465\n",
      "Criterio = mse, max_depth = None, min_sample_split = 3, min_sample_leaf = 10, features = 1.0, precision = 63.76 % , error = 41964510431.52439\n",
      "Criterio = mse, max_depth = 1, min_sample_split = 2, min_sample_leaf = 1, features = 0.4, precision = 5.13 % , error = 109845938967.98868\n",
      "Criterio = mse, max_depth = 1, min_sample_split = 2, min_sample_leaf = 1, features = 0.6, precision = 18.33 % , error = 94559067043.93503\n",
      "Criterio = mse, max_depth = 1, min_sample_split = 2, min_sample_leaf = 1, features = 1.0, precision = 18.33 % , error = 94559067043.93501\n",
      "Criterio = mse, max_depth = 1, min_sample_split = 2, min_sample_leaf = 10, features = 0.4, precision = 18.33 % , error = 94559067043.93504\n",
      "Criterio = mse, max_depth = 1, min_sample_split = 2, min_sample_leaf = 10, features = 0.6, precision = 18.33 % , error = 94559067043.93506\n",
      "Criterio = mse, max_depth = 1, min_sample_split = 2, min_sample_leaf = 10, features = 1.0, precision = 18.33 % , error = 94559067043.93503\n",
      "Criterio = mse, max_depth = 1, min_sample_split = 3, min_sample_leaf = 1, features = 0.4, precision = 3.76 % , error = 111433490765.53677\n",
      "Criterio = mse, max_depth = 1, min_sample_split = 3, min_sample_leaf = 1, features = 0.6, precision = 5.13 % , error = 109845938967.98871\n",
      "Criterio = mse, max_depth = 1, min_sample_split = 3, min_sample_leaf = 1, features = 1.0, precision = 18.33 % , error = 94559067043.93504\n",
      "Criterio = mse, max_depth = 1, min_sample_split = 3, min_sample_leaf = 10, features = 0.4, precision = 3.65 % , error = 111556147085.53654\n",
      "Criterio = mse, max_depth = 1, min_sample_split = 3, min_sample_leaf = 10, features = 0.6, precision = 5.13 % , error = 109845938967.9887\n",
      "Criterio = mse, max_depth = 1, min_sample_split = 3, min_sample_leaf = 10, features = 1.0, precision = 18.33 % , error = 94559067043.93504\n",
      "Criterio = mse, max_depth = 5, min_sample_split = 2, min_sample_leaf = 1, features = 0.4, precision = 16.04 % , error = 97215022070.07983\n",
      "Criterio = mse, max_depth = 5, min_sample_split = 2, min_sample_leaf = 1, features = 0.6, precision = 39.57 % , error = 69968946834.17314\n",
      "Criterio = mse, max_depth = 5, min_sample_split = 2, min_sample_leaf = 1, features = 1.0, precision = 39.00 % , error = 70622977435.2081\n",
      "Criterio = mse, max_depth = 5, min_sample_split = 2, min_sample_leaf = 10, features = 0.4, precision = 30.58 % , error = 80378899968.38983\n",
      "Criterio = mse, max_depth = 5, min_sample_split = 2, min_sample_leaf = 10, features = 0.6, precision = 22.69 % , error = 89515572165.55896\n",
      "Criterio = mse, max_depth = 5, min_sample_split = 2, min_sample_leaf = 10, features = 1.0, precision = 26.76 % , error = 84794822611.61017\n",
      "Criterio = mse, max_depth = 5, min_sample_split = 3, min_sample_leaf = 1, features = 0.4, precision = 29.23 % , error = 81943866819.84268\n",
      "Criterio = mse, max_depth = 5, min_sample_split = 3, min_sample_leaf = 1, features = 0.6, precision = 31.41 % , error = 79419469295.21117\n",
      "Criterio = mse, max_depth = 5, min_sample_split = 3, min_sample_leaf = 1, features = 1.0, precision = 39.00 % , error = 70622977435.2081\n",
      "Criterio = mse, max_depth = 5, min_sample_split = 3, min_sample_leaf = 10, features = 0.4, precision = 27.56 % , error = 83869225480.64093\n",
      "Criterio = mse, max_depth = 5, min_sample_split = 3, min_sample_leaf = 10, features = 0.6, precision = 26.54 % , error = 85051716921.57663\n",
      "Criterio = mse, max_depth = 5, min_sample_split = 3, min_sample_leaf = 10, features = 1.0, precision = 26.76 % , error = 84794822611.61017\n",
      "Criterio = mse, max_depth = 10, min_sample_split = 2, min_sample_leaf = 1, features = 0.4, precision = 57.90 % , error = 48749379206.690765\n",
      "Criterio = mse, max_depth = 10, min_sample_split = 2, min_sample_leaf = 1, features = 0.6, precision = 63.24 % , error = 42565736054.589294\n",
      "Criterio = mse, max_depth = 10, min_sample_split = 2, min_sample_leaf = 1, features = 1.0, precision = 60.04 % , error = 46267319651.4866\n",
      "Criterio = mse, max_depth = 10, min_sample_split = 2, min_sample_leaf = 10, features = 0.4, precision = 43.15 % , error = 65826745998.34309\n",
      "Criterio = mse, max_depth = 10, min_sample_split = 2, min_sample_leaf = 10, features = 0.6, precision = 50.84 % , error = 56916072711.42975\n",
      "Criterio = mse, max_depth = 10, min_sample_split = 2, min_sample_leaf = 10, features = 1.0, precision = 46.57 % , error = 61863332525.71536\n",
      "Criterio = mse, max_depth = 10, min_sample_split = 3, min_sample_leaf = 1, features = 0.4, precision = 54.19 % , error = 53045252834.18482\n",
      "Criterio = mse, max_depth = 10, min_sample_split = 3, min_sample_leaf = 1, features = 0.6, precision = 64.66 % , error = 40918989087.68042\n",
      "Criterio = mse, max_depth = 10, min_sample_split = 3, min_sample_leaf = 1, features = 1.0, precision = 59.95 % , error = 46367319651.4866\n",
      "Criterio = mse, max_depth = 10, min_sample_split = 3, min_sample_leaf = 10, features = 0.4, precision = 43.75 % , error = 65128646072.320885\n",
      "Criterio = mse, max_depth = 10, min_sample_split = 3, min_sample_leaf = 10, features = 0.6, precision = 41.59 % , error = 67631745902.50509\n",
      "Criterio = mse, max_depth = 10, min_sample_split = 3, min_sample_leaf = 10, features = 1.0, precision = 46.57 % , error = 61863332525.71536\n",
      "Criterio = friedman_mse, max_depth = None, min_sample_split = 2, min_sample_leaf = 1, features = 0.4, precision = 97.88 % , error = 2457487463.536039\n",
      "Criterio = friedman_mse, max_depth = None, min_sample_split = 2, min_sample_leaf = 1, features = 0.6, precision = 98.23 % , error = 2055025871.5645523\n",
      "Criterio = friedman_mse, max_depth = None, min_sample_split = 2, min_sample_leaf = 1, features = 1.0, precision = 98.25 % , error = 2029055583.6078923\n",
      "Criterio = friedman_mse, max_depth = None, min_sample_split = 2, min_sample_leaf = 10, features = 0.4, precision = 42.42 % , error = 66672123708.73071\n",
      "Criterio = friedman_mse, max_depth = None, min_sample_split = 2, min_sample_leaf = 10, features = 0.6, precision = 65.80 % , error = 39601001712.78557\n",
      "Criterio = friedman_mse, max_depth = None, min_sample_split = 2, min_sample_leaf = 10, features = 1.0, precision = 63.76 % , error = 41965621244.039246\n",
      "Criterio = friedman_mse, max_depth = None, min_sample_split = 3, min_sample_leaf = 1, features = 0.4, precision = 96.39 % , error = 4184775555.9133053\n",
      "Criterio = friedman_mse, max_depth = None, min_sample_split = 3, min_sample_leaf = 1, features = 0.6, precision = 95.84 % , error = 4813108128.777667\n",
      "Criterio = friedman_mse, max_depth = None, min_sample_split = 3, min_sample_leaf = 1, features = 1.0, precision = 97.57 % , error = 2814625727.338652\n",
      "Criterio = friedman_mse, max_depth = None, min_sample_split = 3, min_sample_leaf = 10, features = 0.4, precision = 62.63 % , error = 43266924974.679535\n",
      "Criterio = friedman_mse, max_depth = None, min_sample_split = 3, min_sample_leaf = 10, features = 0.6, precision = 61.31 % , error = 44792141301.3744\n",
      "Criterio = friedman_mse, max_depth = None, min_sample_split = 3, min_sample_leaf = 10, features = 1.0, precision = 63.75 % , error = 41971840918.10189\n",
      "Criterio = friedman_mse, max_depth = 1, min_sample_split = 2, min_sample_leaf = 1, features = 0.4, precision = 18.33 % , error = 94559067043.93504\n",
      "Criterio = friedman_mse, max_depth = 1, min_sample_split = 2, min_sample_leaf = 1, features = 0.6, precision = 18.33 % , error = 94559067043.93509\n",
      "Criterio = friedman_mse, max_depth = 1, min_sample_split = 2, min_sample_leaf = 1, features = 1.0, precision = 18.33 % , error = 94559067043.93506\n",
      "Criterio = friedman_mse, max_depth = 1, min_sample_split = 2, min_sample_leaf = 10, features = 0.4, precision = 1.93 % , error = 113549127173.0803\n",
      "Criterio = friedman_mse, max_depth = 1, min_sample_split = 2, min_sample_leaf = 10, features = 0.6, precision = 3.65 % , error = 111556147085.53653\n",
      "Criterio = friedman_mse, max_depth = 1, min_sample_split = 2, min_sample_leaf = 10, features = 1.0, precision = 18.33 % , error = 94559067043.93504\n",
      "Criterio = friedman_mse, max_depth = 1, min_sample_split = 3, min_sample_leaf = 1, features = 0.4, precision = 18.33 % , error = 94559067043.93506\n",
      "Criterio = friedman_mse, max_depth = 1, min_sample_split = 3, min_sample_leaf = 1, features = 0.6, precision = 5.13 % , error = 109845938967.9887\n",
      "Criterio = friedman_mse, max_depth = 1, min_sample_split = 3, min_sample_leaf = 1, features = 1.0, precision = 18.33 % , error = 94559067043.93506\n",
      "Criterio = friedman_mse, max_depth = 1, min_sample_split = 3, min_sample_leaf = 10, features = 0.4, precision = 18.33 % , error = 94559067043.93503\n",
      "Criterio = friedman_mse, max_depth = 1, min_sample_split = 3, min_sample_leaf = 10, features = 0.6, precision = 3.65 % , error = 111556147085.5365\n",
      "Criterio = friedman_mse, max_depth = 1, min_sample_split = 3, min_sample_leaf = 10, features = 1.0, precision = 18.33 % , error = 94559067043.93503\n",
      "Criterio = friedman_mse, max_depth = 5, min_sample_split = 2, min_sample_leaf = 1, features = 0.4, precision = 33.27 % , error = 77266893927.94737\n",
      "Criterio = friedman_mse, max_depth = 5, min_sample_split = 2, min_sample_leaf = 1, features = 0.6, precision = 36.63 % , error = 73372553612.73248\n",
      "Criterio = friedman_mse, max_depth = 5, min_sample_split = 2, min_sample_leaf = 1, features = 1.0, precision = 39.00 % , error = 70622977435.2081\n",
      "Criterio = friedman_mse, max_depth = 5, min_sample_split = 2, min_sample_leaf = 10, features = 0.4, precision = 22.40 % , error = 89850060411.707\n",
      "Criterio = friedman_mse, max_depth = 5, min_sample_split = 2, min_sample_leaf = 10, features = 0.6, precision = 25.37 % , error = 86409506134.76012\n",
      "Criterio = friedman_mse, max_depth = 5, min_sample_split = 2, min_sample_leaf = 10, features = 1.0, precision = 26.76 % , error = 84794822611.61018\n",
      "Criterio = friedman_mse, max_depth = 5, min_sample_split = 3, min_sample_leaf = 1, features = 0.4, precision = 31.33 % , error = 79508708581.7131\n",
      "Criterio = friedman_mse, max_depth = 5, min_sample_split = 3, min_sample_leaf = 1, features = 0.6, precision = 40.37 % , error = 69046627849.75455\n",
      "Criterio = friedman_mse, max_depth = 5, min_sample_split = 3, min_sample_leaf = 1, features = 1.0, precision = 39.00 % , error = 70622977435.2081\n",
      "Criterio = friedman_mse, max_depth = 5, min_sample_split = 3, min_sample_leaf = 10, features = 0.4, precision = 30.02 % , error = 81027095956.03745\n",
      "Criterio = friedman_mse, max_depth = 5, min_sample_split = 3, min_sample_leaf = 10, features = 0.6, precision = 22.62 % , error = 89589518169.0754\n",
      "Criterio = friedman_mse, max_depth = 5, min_sample_split = 3, min_sample_leaf = 10, features = 1.0, precision = 26.76 % , error = 84794822611.61017\n",
      "Criterio = friedman_mse, max_depth = 10, min_sample_split = 2, min_sample_leaf = 1, features = 0.4, precision = 51.54 % , error = 56108199559.9877\n",
      "Criterio = friedman_mse, max_depth = 10, min_sample_split = 2, min_sample_leaf = 1, features = 0.6, precision = 62.03 % , error = 43964996074.440994\n",
      "Criterio = friedman_mse, max_depth = 10, min_sample_split = 2, min_sample_leaf = 1, features = 1.0, precision = 60.04 % , error = 46267319651.4866\n",
      "Criterio = friedman_mse, max_depth = 10, min_sample_split = 2, min_sample_leaf = 10, features = 0.4, precision = 40.61 % , error = 68763895197.04436\n",
      "Criterio = friedman_mse, max_depth = 10, min_sample_split = 2, min_sample_leaf = 10, features = 0.6, precision = 51.82 % , error = 55786580411.27388\n",
      "Criterio = friedman_mse, max_depth = 10, min_sample_split = 2, min_sample_leaf = 10, features = 1.0, precision = 46.57 % , error = 61863332525.71536\n",
      "Criterio = friedman_mse, max_depth = 10, min_sample_split = 3, min_sample_leaf = 1, features = 0.4, precision = 58.29 % , error = 48298830487.96459\n",
      "Criterio = friedman_mse, max_depth = 10, min_sample_split = 3, min_sample_leaf = 1, features = 0.6, precision = 64.28 % , error = 41353769724.52272\n",
      "Criterio = friedman_mse, max_depth = 10, min_sample_split = 3, min_sample_leaf = 1, features = 1.0, precision = 59.95 % , error = 46367319651.4866\n",
      "Criterio = friedman_mse, max_depth = 10, min_sample_split = 3, min_sample_leaf = 10, features = 0.4, precision = 39.07 % , error = 70549040402.24905\n",
      "Criterio = friedman_mse, max_depth = 10, min_sample_split = 3, min_sample_leaf = 10, features = 0.6, precision = 49.12 % , error = 58909279912.63107\n",
      "Criterio = friedman_mse, max_depth = 10, min_sample_split = 3, min_sample_leaf = 10, features = 1.0, precision = 46.57 % , error = 61863332525.71536\n"
     ]
    }
   ],
   "source": [
    "for r in res:\n",
    "    print(\"Criterio = {}, max_depth = {}, min_sample_split = {}, min_sample_leaf = {}, features = {}, precision = {:.2f} % , error = {}\"\\\n",
    "          .format(r[0],r[1],r[2],r[3],r[4],r[5],r[6]))"
   ]
  },
  {
   "cell_type": "code",
   "execution_count": 10,
   "metadata": {},
   "outputs": [
    {
     "name": "stdout",
     "output_type": "stream",
     "text": [
      "Mayor precision = Criterio = mse, max_depth = None, min_sample_split = 2, min_sample_leaf = 1, features = 0.6, precision = 98.28 % , error = 1989025537.2791593\n",
      "Menor error = Criterio = mse, max_depth = None, min_sample_split = 2, min_sample_leaf = 1, features = 0.6, precision = 98.28 % , error = 1989025537.2791593\n"
     ]
    }
   ],
   "source": [
    "min_error = float('inf')\n",
    "max_precision = 0\n",
    "tupla_min_error = ()\n",
    "tupla_max_precision = ()\n",
    "for r in res:\n",
    "    if r[6] < min_error:\n",
    "        min_error = r[6]\n",
    "        tupla_min_error = r\n",
    "    if r[5] > max_precision:\n",
    "        max_precision = r[5]\n",
    "        tupla_max_precision = r\n",
    "        \n",
    "print(\"Mayor precision = Criterio = {}, max_depth = {}, min_sample_split = {}, min_sample_leaf = {}, features = {}, precision = {:.2f} % , error = {}\".\\\n",
    "              format(tupla_max_precision[0],tupla_max_precision[1],tupla_max_precision[2],tupla_max_precision[3],tupla_max_precision[4],tupla_max_precision[5],tupla_max_precision[6]))\n",
    "print(\"Menor error = Criterio = {}, max_depth = {}, min_sample_split = {}, min_sample_leaf = {}, features = {}, precision = {:.2f} % , error = {}\".\\\n",
    "              format(tupla_min_error[0],tupla_min_error[1],tupla_min_error[2],tupla_min_error[3],tupla_min_error[4],tupla_min_error[5],tupla_min_error[6]))"
   ]
  },
  {
   "cell_type": "markdown",
   "metadata": {},
   "source": [
    "## Tomamos criterio = mse, max_depth = None ,min_sample = 2 ,min_leaf = 1, features = 0.6"
   ]
  },
  {
   "cell_type": "code",
   "execution_count": 49,
   "metadata": {
    "collapsed": true
   },
   "outputs": [],
   "source": [
    "#Probamos distintas combinaciones de columnas, esta es la que dio mejores resultados\n",
    "\n",
    "columnas = ['superficie','lat', 'lon','property_type_encoded','seguridad','gimnasio', 'aire', 'pileta', 'cochera']\n",
    "columnas_precio = columnas + ['price_aprox_usd']"
   ]
  },
  {
   "cell_type": "code",
   "execution_count": 50,
   "metadata": {
    "collapsed": true
   },
   "outputs": [],
   "source": [
    "set_entrenamiento = propiedades.loc[(propiedades.Year >= 2016) &((propiedades.Year < 2017) | (propiedades.Month < 6))\\\n",
    "                                    ,columnas_precio]\n",
    "set_pruebas = propiedades.loc[(propiedades.Year == 2017) & (propiedades.Month == 6),columnas_precio].head(20000)\n",
    "\n",
    "set_entrenamiento_datos = set_entrenamiento.loc[:,columnas]\n",
    "set_entrenamiento_resultado = set_entrenamiento.loc[:,'price_aprox_usd']"
   ]
  },
  {
   "cell_type": "code",
   "execution_count": 51,
   "metadata": {
    "collapsed": true
   },
   "outputs": [],
   "source": [
    "criterio = 'mse'\n",
    "max_depth = None\n",
    "min_sample = 2\n",
    "min_leaf = 1\n",
    "feature = 0.6"
   ]
  },
  {
   "cell_type": "code",
   "execution_count": 52,
   "metadata": {},
   "outputs": [
    {
     "name": "stdout",
     "output_type": "stream",
     "text": [
      "Precision = 98.10 % , error = 2198804392.142215\n"
     ]
    }
   ],
   "source": [
    "tree = DecisionTreeRegressor(criterion = criterio, max_depth = max_depth, min_samples_split = min_sample,\\\n",
    "                                    min_samples_leaf = min_leaf, max_features = feature)\n",
    "tree.fit(set_entrenamiento_datos,set_entrenamiento_resultado)\n",
    "set_pruebas.loc[:,'resultado'] = set_pruebas.loc[:,columnas].apply(lambda x: tree.predict(x)[0],axis = 1)\n",
    "precision = tree.score(set_pruebas.loc[:,columnas],set_pruebas.price_aprox_usd) * 100\n",
    "error = mean_squared_error(set_pruebas.price_aprox_usd,set_pruebas.resultado)\n",
    "print(\"Precision = {:.2f} % , error = {}\".format(precision, error))"
   ]
  },
  {
   "cell_type": "markdown",
   "metadata": {},
   "source": [
    "# calculo con los verdaderos datos a analizar"
   ]
  },
  {
   "cell_type": "code",
   "execution_count": 53,
   "metadata": {
    "collapsed": true
   },
   "outputs": [],
   "source": [
    "analizar = pd.read_csv(\"/home/mati/Desktop/properati_dataset_modificado.csv\")"
   ]
  },
  {
   "cell_type": "code",
   "execution_count": 54,
   "metadata": {
    "collapsed": true
   },
   "outputs": [],
   "source": [
    "analizar.loc[:,'price_usd'] = analizar.loc[:,columnas].apply(lambda x: tree.predict(x)[0],axis = 1)"
   ]
  },
  {
   "cell_type": "code",
   "execution_count": 55,
   "metadata": {
    "collapsed": true
   },
   "outputs": [],
   "source": [
    "resultado = analizar.loc[:,['id','price_usd']]"
   ]
  },
  {
   "cell_type": "code",
   "execution_count": 56,
   "metadata": {
    "collapsed": true
   },
   "outputs": [],
   "source": [
    "resultado.to_csv('resultados/Decision_tree_2', index = False)"
   ]
  },
  {
   "cell_type": "markdown",
   "metadata": {},
   "source": [
    "# Usando Grid Search y Cross Validation"
   ]
  },
  {
   "cell_type": "code",
   "execution_count": 2,
   "metadata": {
    "collapsed": true
   },
   "outputs": [],
   "source": [
    "propiedades = pd.read_csv('/home/mati/Desktop/set_datos_propiedades.csv')\n",
    "\n",
    "propiedades = propiedades.loc[(propiedades.price_aprox_usd.notnull()) & (propiedades.superficie.notnull())\\\n",
    "                              & (propiedades.lat.notnull()) & (propiedades.lon.notnull()) & (propiedades.Year >=2016)]\n",
    "\n",
    "columnas = ['superficie','lat', 'lon','property_type_encoded','seguridad','gimnasio', 'aire', 'pileta', 'cochera']\n",
    "columnas_precio = columnas + ['price_aprox_usd']\n",
    "\n",
    "set_entrenamiento_datos = propiedades.loc[:,columnas]\n",
    "set_entrenamiento_resultado = propiedades.loc[:,'price_aprox_usd']"
   ]
  },
  {
   "cell_type": "code",
   "execution_count": 3,
   "metadata": {
    "collapsed": true
   },
   "outputs": [],
   "source": [
    "# Parametros\n",
    "\n",
    "criterios = ['mse','friedman_mse']\n",
    "max_depth = [None,1,5,10]\n",
    "samples_split = [2,3]\n",
    "features = [0.4,0.6,1.0]\n",
    "\n",
    "parametros = {\"criterion\" : criterios, \"max_depth\" : max_depth, \\\n",
    "              \"min_samples_split\" : samples_split, \"max_features\" : features}\n",
    "\n",
    "iteraciones_cross_validation = 75\n",
    "arbol = DecisionTreeRegressor()"
   ]
  },
  {
   "cell_type": "code",
   "execution_count": 4,
   "metadata": {},
   "outputs": [
    {
     "name": "stdout",
     "output_type": "stream",
     "text": [
      "Tiempo: 17:47:24 --- 19:17:30 \n",
      " Precision: 95.69 \n",
      " Parametros = {'criterion': 'mse', 'max_depth': None, 'max_features': 0.4, 'min_samples_split': 3}\n"
     ]
    }
   ],
   "source": [
    "inicio = time.strftime(\"%X\")\n",
    "\n",
    "grid = GridSearchCV( estimator = arbol, param_grid = parametros, n_jobs = -1, cv = iteraciones_cross_validation)\n",
    "\n",
    "grid.fit(set_entrenamiento_datos, set_entrenamiento_resultado)\n",
    "\n",
    "score = grid.best_score_ * 100\n",
    "mejores_parametros = grid.best_params_\n",
    "fin = time.strftime(\"%X\")\n",
    "\n",
    "print(\"Tiempo: {} --- {} \\n Precision: {:.2f} \\n Parametros = {}\".format(inicio,fin,score,mejores_parametros))"
   ]
  },
  {
   "cell_type": "code",
   "execution_count": 5,
   "metadata": {
    "collapsed": true
   },
   "outputs": [],
   "source": [
    "#Con 10 iteraciones de CV: Precision: 92.52       12:17:11 --- 12:29:12\n",
    "#               Parametros = {'criterion': 'mse', 'max_depth': None, 'max_features': 0.6, 'min_samples_split': 3}\n",
    "\n",
    "#Con 30 iteraciones de CV:  Precision: 94.97       11:24:03 --- 12:00:09\n",
    "#              Parametros = {'criterion': 'mse', 'max_depth': None, 'max_features': 0.4, 'min_samples_split': 2}\n",
    "\n",
    "#Con 50 iteraciones de CV:    Precision: 95.61     12:09:55 --- 13:12:40 \n",
    "#              Parametros = {'criterion': 'mse', 'max_depth': None, 'max_features': 0.6, 'min_samples_split': 2}"
   ]
  },
  {
   "cell_type": "code",
   "execution_count": 6,
   "metadata": {
    "collapsed": true
   },
   "outputs": [],
   "source": [
    "analizar = pd.read_csv(\"/home/mati/Desktop/properati_dataset_modificado.csv\")\n",
    "\n",
    "analizar.loc[:,'price_usd'] = analizar.loc[:,columnas].apply(lambda x: grid.predict(x)[0],axis = 1)\n",
    "\n",
    "resultado = analizar.loc[:,['id','price_usd']]\n",
    "\n",
    "resultado.to_csv('resultados/Decision_tree_GridSearch.csv', index = False)"
   ]
  },
  {
   "cell_type": "code",
   "execution_count": 7,
   "metadata": {},
   "outputs": [
    {
     "data": {
      "text/plain": [
       "['algoritmos/decision_tree.pkl']"
      ]
     },
     "execution_count": 7,
     "metadata": {},
     "output_type": "execute_result"
    }
   ],
   "source": [
    "joblib.dump(grid, 'algoritmos/decision_tree.pkl')"
   ]
  },
  {
   "cell_type": "markdown",
   "metadata": {},
   "source": [
    "## Hago bagging con el mejor algoritmo"
   ]
  },
  {
   "cell_type": "code",
   "execution_count": 2,
   "metadata": {
    "collapsed": true
   },
   "outputs": [],
   "source": [
    "propiedades = pd.read_csv('/home/mati/Desktop/set_datos_propiedades.csv')\n",
    "\n",
    "propiedades = propiedades.loc[(propiedades.price_aprox_usd.notnull()) & (propiedades.superficie.notnull())\\\n",
    "                              & (propiedades.lat.notnull()) & (propiedades.lon.notnull()) & (propiedades.Year >=2016)]\n",
    "\n",
    "columnas = ['superficie','lat', 'lon','property_type_encoded','seguridad','gimnasio', 'aire', 'pileta', 'cochera']\n",
    "columnas_precio = columnas + ['price_aprox_usd']\n",
    "\n",
    "set_pruebas = analizar = pd.read_csv(\"/home/mati/Desktop/properati_dataset_modificado.csv\")\n",
    "set_pruebas.loc[:,'price_usd'] = 0.0"
   ]
  },
  {
   "cell_type": "code",
   "execution_count": 3,
   "metadata": {
    "collapsed": true
   },
   "outputs": [],
   "source": [
    "cant = 10\n",
    "\n",
    "for i in range(cant):\n",
    "    datos = propiedades.sample(frac = 0.4)\n",
    "    set_entrenamiento_datos = datos.loc[:,columnas]\n",
    "    set_entrenamiento_resultado = datos.loc[:,'price_aprox_usd']\n",
    "    \n",
    "    tree = DecisionTreeRegressor(criterion = 'mse', max_depth = None, max_features = 0.4, min_samples_split = 3)\n",
    "    \n",
    "    tree.fit(set_entrenamiento_datos,set_entrenamiento_resultado)\n",
    "    set_pruebas.loc[:,'res'] = set_pruebas.loc[:,columnas].apply(lambda x: tree.predict(x)[0],axis = 1)\n",
    "    set_pruebas.loc[:,'price_usd'] = set_pruebas.loc[:,'price_usd'] + set_pruebas.loc[:,'res']"
   ]
  },
  {
   "cell_type": "code",
   "execution_count": 4,
   "metadata": {
    "collapsed": true
   },
   "outputs": [],
   "source": [
    "set_pruebas.loc[:,'price_usd'] = set_pruebas.loc[:,'price_usd'] / cant\n",
    "\n",
    "resultado = set_pruebas.loc[:,['id','price_usd']]\n",
    "\n",
    "resultado.to_csv('resultados/Decision_tree_Cross_Validation.csv', index = False)"
   ]
  },
  {
   "cell_type": "markdown",
   "metadata": {},
   "source": [
    "# Ahora pruebo Grid Search con menos datos \n",
    "#### Elimino aquellos con precio muy bajo o muy alto"
   ]
  },
  {
   "cell_type": "code",
   "execution_count": 3,
   "metadata": {},
   "outputs": [],
   "source": [
    "propiedades = pd.read_csv('/home/mati/Desktop/set_datos_propiedades.csv')"
   ]
  },
  {
   "cell_type": "code",
   "execution_count": 4,
   "metadata": {
    "collapsed": true
   },
   "outputs": [],
   "source": [
    "sup_min = 10\n",
    "sup_max = 150\n",
    "\n",
    "lat_min = -35\n",
    "lat_max = -34\n",
    "\n",
    "lon_min = -59\n",
    "lon_max = -58\n",
    "\n",
    "precio_min = 5000\n",
    "precio_max = 1000000"
   ]
  },
  {
   "cell_type": "code",
   "execution_count": 5,
   "metadata": {
    "collapsed": true
   },
   "outputs": [],
   "source": [
    "propiedades = propiedades.loc[(propiedades.price_aprox_usd.notnull()) & (propiedades.superficie.notnull())\\\n",
    "                              & (propiedades.lat.notnull()) & (propiedades.lon.notnull()) & (propiedades.Year >=2016)\\\n",
    "                        & (propiedades.price_aprox_usd <= precio_max) & (propiedades.price_aprox_usd >= precio_min) &\\\n",
    "                         (propiedades.superficie <= sup_max) & (propiedades.superficie >= sup_min) &\\\n",
    "                      (propiedades.lat <= lat_max) & (propiedades.lat >= lat_min) &\\\n",
    "                       (propiedades.lon <= lon_max) & (propiedades.lon >= lon_min),:]\n",
    "\n",
    "columnas = ['superficie','lat', 'lon','property_type_encoded','seguridad','gimnasio', 'aire', 'pileta', 'cochera']\n",
    "columnas_precio = columnas + ['price_aprox_usd']\n",
    "\n",
    "set_entrenamiento_datos = propiedades.loc[:,columnas]\n",
    "set_entrenamiento_resultado = propiedades.loc[:,'price_aprox_usd']"
   ]
  },
  {
   "cell_type": "code",
   "execution_count": 10,
   "metadata": {
    "collapsed": true
   },
   "outputs": [],
   "source": [
    "# Parametros\n",
    "\n",
    "criterios = ['mse','friedman_mse']\n",
    "max_depth = [None,50,75]\n",
    "features = [0.4,0.6,0.8,1.0]\n",
    "\n",
    "parametros = {\"criterion\" : criterios, \"max_depth\" : max_depth, \"max_features\" : features}\n",
    "\n",
    "iteraciones_cross_validation = 12\n",
    "arbol = DecisionTreeRegressor()"
   ]
  },
  {
   "cell_type": "code",
   "execution_count": 11,
   "metadata": {},
   "outputs": [
    {
     "name": "stdout",
     "output_type": "stream",
     "text": [
      "Tiempo: 14:27:27 --- 14:34:39 \n",
      " Precision: 92.42 \n",
      " Parametros = {'criterion': 'friedman_mse', 'max_depth': 75, 'max_features': 0.8}\n"
     ]
    }
   ],
   "source": [
    "inicio = time.strftime(\"%X\")\n",
    "\n",
    "grid = GridSearchCV( estimator = arbol, param_grid = parametros, n_jobs = -1, cv = iteraciones_cross_validation)\n",
    "\n",
    "grid.fit(set_entrenamiento_datos, set_entrenamiento_resultado)\n",
    "\n",
    "score = grid.best_score_ * 100\n",
    "mejores_parametros = grid.best_params_\n",
    "fin = time.strftime(\"%X\")\n",
    "\n",
    "print(\"Tiempo: {} --- {} \\n Precision: {:.2f} \\n Parametros = {}\".format(inicio,fin,score,mejores_parametros))"
   ]
  },
  {
   "cell_type": "code",
   "execution_count": 12,
   "metadata": {
    "collapsed": true
   },
   "outputs": [],
   "source": [
    "analizar = pd.read_csv(\"/home/mati/Desktop/properati_dataset_modificado.csv\")\n",
    "\n",
    "analizar.loc[:,'price_usd'] = analizar.loc[:,columnas].apply(lambda x: grid.predict(x)[0],axis = 1)\n",
    "\n",
    "resultado = analizar.loc[:,['id','price_usd']]\n",
    "\n",
    "resultado.to_csv('resultados/Decision_tree_GridSearch_menosDatos.csv', index = False)"
   ]
  },
  {
   "cell_type": "code",
   "execution_count": 13,
   "metadata": {},
   "outputs": [
    {
     "data": {
      "text/plain": [
       "['algoritmos/decision_tree_2.pkl']"
      ]
     },
     "execution_count": 13,
     "metadata": {},
     "output_type": "execute_result"
    }
   ],
   "source": [
    "joblib.dump(grid, 'algoritmos/decision_tree_2.pkl')"
   ]
  },
  {
   "cell_type": "markdown",
   "metadata": {},
   "source": [
    "## Hago bagging con el mejor algoritmo"
   ]
  },
  {
   "cell_type": "code",
   "execution_count": 14,
   "metadata": {
    "collapsed": true
   },
   "outputs": [],
   "source": [
    "propiedades = pd.read_csv('/home/mati/Desktop/set_datos_propiedades.csv')\n",
    "\n",
    "sup_min = 10\n",
    "sup_max = 150\n",
    "\n",
    "lat_min = -35\n",
    "lat_max = -34\n",
    "\n",
    "lon_min = -59\n",
    "lon_max = -58\n",
    "\n",
    "precio_min = 5000\n",
    "precio_max = 1000000\n",
    "\n",
    "propiedades = propiedades.loc[(propiedades.price_aprox_usd.notnull()) & (propiedades.superficie.notnull())\\\n",
    "                              & (propiedades.lat.notnull()) & (propiedades.lon.notnull()) & (propiedades.Year >=2016)\\\n",
    "                        & (propiedades.price_aprox_usd <= precio_max) & (propiedades.price_aprox_usd >= precio_min) &\\\n",
    "                         (propiedades.superficie <= sup_max) & (propiedades.superficie >= sup_min) &\\\n",
    "                      (propiedades.lat <= lat_max) & (propiedades.lat >= lat_min) &\\\n",
    "                       (propiedades.lon <= lon_max) & (propiedades.lon >= lon_min),:]\n",
    "\n",
    "columnas = ['superficie','lat', 'lon','property_type_encoded','seguridad','gimnasio', 'aire', 'pileta', 'cochera']\n",
    "columnas_precio = columnas + ['price_aprox_usd']\n",
    "\n",
    "set_pruebas = analizar = pd.read_csv(\"/home/mati/Desktop/properati_dataset_modificado.csv\")\n",
    "set_pruebas.loc[:,'price_usd'] = 0.0"
   ]
  },
  {
   "cell_type": "code",
   "execution_count": 15,
   "metadata": {
    "collapsed": true
   },
   "outputs": [],
   "source": [
    "cant = 10\n",
    "\n",
    "for i in range(cant):\n",
    "    datos = propiedades.sample(frac = 0.7)\n",
    "    set_entrenamiento_datos = datos.loc[:,columnas]\n",
    "    set_entrenamiento_resultado = datos.loc[:,'price_aprox_usd']\n",
    "    \n",
    "    tree = DecisionTreeRegressor(criterion = 'friedman_mse', max_depth = 75, max_features = 0.8)\n",
    "    \n",
    "    tree.fit(set_entrenamiento_datos,set_entrenamiento_resultado)\n",
    "    set_pruebas.loc[:,'res'] = set_pruebas.loc[:,columnas].apply(lambda x: tree.predict(x)[0],axis = 1)\n",
    "    set_pruebas.loc[:,'price_usd'] = set_pruebas.loc[:,'price_usd'] + set_pruebas.loc[:,'res']"
   ]
  },
  {
   "cell_type": "code",
   "execution_count": 16,
   "metadata": {
    "collapsed": true
   },
   "outputs": [],
   "source": [
    "set_pruebas.loc[:,'price_usd'] = set_pruebas.loc[:,'price_usd'] / cant\n",
    "\n",
    "resultado = set_pruebas.loc[:,['id','price_usd']]\n",
    "\n",
    "resultado.to_csv('resultados/Decision_tree_Cross_Validation_menos_datos.csv', index = False)"
   ]
  },
  {
   "cell_type": "markdown",
   "metadata": {},
   "source": [
    "# Usando Grid Search y Cross Validation con las fechas"
   ]
  },
  {
   "cell_type": "code",
   "execution_count": 3,
   "metadata": {
    "collapsed": true
   },
   "outputs": [],
   "source": [
    "propiedades = pd.read_csv('/home/mati/Desktop/set_datos_propiedades.csv')\n",
    "\n",
    "propiedades = propiedades.loc[(propiedades.price_aprox_usd.notnull()) & (propiedades.superficie.notnull())\\\n",
    "                              & (propiedades.lat.notnull()) & (propiedades.lon.notnull()) & (propiedades.Year >=2016)]\n",
    "\n",
    "propiedades.loc[:,'fecha'] = propiedades.loc[:,['Year', 'Month']].apply(lambda x: int(str(x[0]) + str(x[1])), axis = 1)\n",
    "\n",
    "columnas = ['superficie','lat', 'lon','property_type_encoded','seguridad','gimnasio', 'aire','pileta', 'cochera', 'fecha']\n",
    "columnas_precio = columnas + ['price_aprox_usd']\n",
    "\n",
    "set_entrenamiento_datos = propiedades.loc[:,columnas]\n",
    "set_entrenamiento_resultado = propiedades.loc[:,'price_aprox_usd']"
   ]
  },
  {
   "cell_type": "code",
   "execution_count": 14,
   "metadata": {
    "collapsed": true
   },
   "outputs": [],
   "source": [
    "# Parametros\n",
    "\n",
    "criterios = ['mse','friedman_mse']\n",
    "max_depth = [None,5,10]\n",
    "features = [0.4,0.6,1.0]\n",
    "\n",
    "parametros = {\"criterion\" : criterios, \"max_depth\" : max_depth, \"max_features\" : features}\n",
    "\n",
    "iteraciones_cross_validation = 25\n",
    "arbol = DecisionTreeRegressor()"
   ]
  },
  {
   "cell_type": "code",
   "execution_count": 15,
   "metadata": {},
   "outputs": [
    {
     "name": "stdout",
     "output_type": "stream",
     "text": [
      "Tiempo: 20:55:33 --- 21:14:42 \n",
      " Precision: 94.61 \n",
      " Parametros = {'criterion': 'friedman_mse', 'max_depth': None, 'max_features': 0.6}\n"
     ]
    }
   ],
   "source": [
    "inicio = time.strftime(\"%X\")\n",
    "\n",
    "grid = GridSearchCV( estimator = arbol, param_grid = parametros, n_jobs = 2, cv = iteraciones_cross_validation)\n",
    "\n",
    "grid.fit(set_entrenamiento_datos, set_entrenamiento_resultado)\n",
    "\n",
    "score = grid.best_score_ * 100\n",
    "mejores_parametros = grid.best_params_\n",
    "fin = time.strftime(\"%X\")\n",
    "\n",
    "print(\"Tiempo: {} --- {} \\n Precision: {:.2f} \\n Parametros = {}\".format(inicio,fin,score,mejores_parametros))"
   ]
  },
  {
   "cell_type": "code",
   "execution_count": 17,
   "metadata": {
    "collapsed": true
   },
   "outputs": [],
   "source": [
    "analizar = pd.read_csv(\"/home/mati/Desktop/properati_dataset_modificado.csv\")\n",
    "\n",
    "analizar.loc[:,'Month'] = analizar.created_on.apply(lambda x: int(x.split('-')[1]))\n",
    "analizar.loc[:,'Year'] = analizar.created_on.apply(lambda x: int(x.split('-')[0]))\n",
    "analizar.loc[:,'fecha'] = analizar.loc[:,['Year', 'Month']].apply(lambda x: int(str(x[0]) + str(x[1])), axis = 1)\n",
    "\n",
    "analizar.loc[:,'price_usd'] = analizar.loc[:,columnas].apply(lambda x: grid.predict(x)[0],axis = 1)\n",
    "\n",
    "resultado = analizar.loc[:,['id','price_usd']]\n",
    "\n",
    "resultado.to_csv('resultados/Decision_tree_GridSearch_fechas.csv', index = False)"
   ]
  },
  {
   "cell_type": "code",
   "execution_count": 18,
   "metadata": {},
   "outputs": [
    {
     "data": {
      "text/plain": [
       "['algoritmos/decision_tree_3.pkl']"
      ]
     },
     "execution_count": 18,
     "metadata": {},
     "output_type": "execute_result"
    }
   ],
   "source": [
    "joblib.dump(grid, 'algoritmos/decision_tree_3.pkl')"
   ]
  },
  {
   "cell_type": "markdown",
   "metadata": {},
   "source": [
    "## Hago bagging con el mejor algoritmo"
   ]
  },
  {
   "cell_type": "code",
   "execution_count": 19,
   "metadata": {
    "collapsed": true
   },
   "outputs": [],
   "source": [
    "analizar.loc[:,'price_usd'] = 0.0"
   ]
  },
  {
   "cell_type": "code",
   "execution_count": 20,
   "metadata": {
    "collapsed": true
   },
   "outputs": [],
   "source": [
    "cant = 10\n",
    "\n",
    "for i in range(cant):\n",
    "    datos = propiedades.sample(frac = 0.4)\n",
    "    set_entrenamiento_datos = datos.loc[:,columnas]\n",
    "    set_entrenamiento_resultado = datos.loc[:,'price_aprox_usd']\n",
    "    \n",
    "    tree = DecisionTreeRegressor(criterion = 'friedman_mse', max_depth = None, max_features = 0.6)\n",
    "    \n",
    "    tree.fit(set_entrenamiento_datos,set_entrenamiento_resultado)\n",
    "    analizar.loc[:,'res'] = analizar.loc[:,columnas].apply(lambda x: tree.predict(x)[0],axis = 1)\n",
    "    analizar.loc[:,'price_usd'] = analizar.loc[:,'price_usd'] + analizar.loc[:,'res']"
   ]
  },
  {
   "cell_type": "code",
   "execution_count": 21,
   "metadata": {
    "collapsed": true
   },
   "outputs": [],
   "source": [
    "analizar.loc[:,'price_usd'] = analizar.loc[:,'price_usd'] / cant\n",
    "\n",
    "resultado = analizar.loc[:,['id','price_usd']]\n",
    "\n",
    "resultado.to_csv('resultados/Decision_tree_Cross_Validation_fechas.csv', index = False)"
   ]
  }
 ],
 "metadata": {
  "kernelspec": {
   "display_name": "Python 3",
   "language": "python",
   "name": "python3"
  },
  "language_info": {
   "codemirror_mode": {
    "name": "ipython",
    "version": 3
   },
   "file_extension": ".py",
   "mimetype": "text/x-python",
   "name": "python",
   "nbconvert_exporter": "python",
   "pygments_lexer": "ipython3",
   "version": "3.6.1"
  }
 },
 "nbformat": 4,
 "nbformat_minor": 2
}
