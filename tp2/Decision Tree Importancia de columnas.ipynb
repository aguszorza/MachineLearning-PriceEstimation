{
 "cells": [
  {
   "cell_type": "markdown",
   "metadata": {},
   "source": [
    "# Algoritmo final: Decision Tree"
   ]
  },
  {
   "cell_type": "code",
   "execution_count": 1,
   "metadata": {
    "collapsed": true
   },
   "outputs": [],
   "source": [
    "import pandas as pd\n",
    "import numpy as np\n",
    "from sklearn.metrics import mean_squared_error\n",
    "from sklearn.tree import DecisionTreeRegressor\n",
    "from sklearn import preprocessing\n",
    "from sklearn.model_selection import train_test_split\n",
    "import datetime\n",
    "\n",
    "import warnings\n",
    "warnings.simplefilter(\"ignore\", category=DeprecationWarning)"
   ]
  },
  {
   "cell_type": "code",
   "execution_count": 2,
   "metadata": {
    "collapsed": true
   },
   "outputs": [],
   "source": [
    "propiedades = pd.read_csv('../../set_datos_sup_desc.csv')\n",
    "set_pruebas = pd.read_csv(\"../properati_dataset_modificado_descripciones.csv\")\n",
    "set_pruebas.loc[:,'price_usd'] = 0.0"
   ]
  },
  {
   "cell_type": "code",
   "execution_count": 3,
   "metadata": {
    "collapsed": true
   },
   "outputs": [],
   "source": [
    "sup_min = 10\n",
    "sup_max = 300\n",
    "lat_min = -35\n",
    "lat_max = -34\n",
    "lon_min = -59\n",
    "lon_max = -58\n",
    "precio_min = 30000\n",
    "precio_max = 3000000\n",
    "\n",
    "propiedades.loc[:, 'Year'] = propiedades.loc[:,'created_on'].apply(lambda x: int(x.split('-')[0]))\n",
    "\n",
    "propiedades = propiedades.loc[(propiedades.price_aprox_usd.notnull()) & (propiedades.superficie.notnull())\\\n",
    "                              & (propiedades.lat.notnull()) & (propiedades.lon.notnull()) & (propiedades.Year >=2017)\\\n",
    "                        & (propiedades.price_aprox_usd <= precio_max) & (propiedades.price_aprox_usd >= precio_min) &\\\n",
    "                         (propiedades.superficie <= sup_max) & (propiedades.superficie >= sup_min) &\\\n",
    "                      (propiedades.lat <= lat_max) & (propiedades.lat >= lat_min) &\\\n",
    "                       (propiedades.lon <= lon_max) & (propiedades.lon >= lon_min),:]"
   ]
  },
  {
   "cell_type": "markdown",
   "metadata": {},
   "source": [
    "# Columnas"
   ]
  },
  {
   "cell_type": "code",
   "execution_count": 4,
   "metadata": {
    "collapsed": true
   },
   "outputs": [],
   "source": [
    "col = ['superficie','lat', 'lon','property_type_encoded']\n",
    "\n",
    "comodidades = ['seguridad','gimnasio', 'aire', 'pileta', 'cochera','transporte','cocina','comedor',\\\n",
    "'living', 'banos', 'balcon','ambientes','departamento', 'dormitorios','quincho', 'granito','porcelanato',\\\n",
    "'completo', 'excelente', 'edificio','lavadero', 'amplio', 'planta', 'cuadras', 'placard', 'terraza', 'acceso',\\\n",
    "'parrilla', 'luminoso','madera', 'credito', 'calidad', 'cucicba', 'amenities','expensas','mesada',\\\n",
    "'responsable','muebles', 'espacio', 'diario', 'independiente', 'cubierta','contrafrente', 'integrada',\\\n",
    "'recepcion','categoria', 'profesional', 'baulera', 'natural','unidades', 'principal', 'espacio', 'estacion', 'vestidor',\\\n",
    "'solarium', 'central','parquet', 'estrenar', 'granito','patio',  'casa', 'suite', 'vista', 'hall', 'agua',  \\\n",
    "'lote', 'fondo', 'acero', 'torre',  'horno',  'sala', 'salon', 'frente','toilette','piso', 'pisos', 'apto',\\\n",
    "'sobre','doble','marca','nuevo', 'bacha', 'ideal','excelente','auto',  'autos',  'ninos', 'sauna', 'lindo','rio',\\\n",
    "'gym', 'luz', 'sol', 'spa','laundry', 'monoambiente', 'ascensores', 'plantas', 'diseno', 'inoxidable', 'cubierto', \\\n",
    "'griferia','terminaciones', 'avenida', 'galeria', 'privado', 'placares', 'negocios', 'duplex', 'lavarropas', \\\n",
    "'ceramicos', 'reciclado', 'balcones', 'gas','ducha']"
   ]
  },
  {
   "cell_type": "markdown",
   "metadata": {},
   "source": [
    "# Parametros del estimador"
   ]
  },
  {
   "cell_type": "code",
   "execution_count": 7,
   "metadata": {
    "collapsed": true
   },
   "outputs": [],
   "source": [
    "criterion = 'mse'\n",
    "max_depth = 100\n",
    "max_features = 0.8"
   ]
  },
  {
   "cell_type": "markdown",
   "metadata": {},
   "source": [
    "# Con un set de validacion busco las columnas mas importantes"
   ]
  },
  {
   "cell_type": "code",
   "execution_count": 6,
   "metadata": {
    "collapsed": true
   },
   "outputs": [],
   "source": [
    "columnas = col + comodidades\n",
    "X_train, X_test, y_train, y_test = train_test_split(propiedades.loc[:,columnas], \\\n",
    "                                        propiedades.loc[:,'price_aprox_usd'], test_size=0.2)\n",
    "X_train = pd.DataFrame(X_train).reset_index(drop = True)\n",
    "X_test = pd.DataFrame(X_test).reset_index(drop = True)"
   ]
  },
  {
   "cell_type": "code",
   "execution_count": 7,
   "metadata": {},
   "outputs": [
    {
     "name": "stdout",
     "output_type": "stream",
     "text": [
      "Precision = 94.16 %,  Error = 2249959698\n"
     ]
    }
   ],
   "source": [
    "tree = DecisionTreeRegressor(criterion = criterion, max_depth = max_depth, max_features = max_features)\n",
    "    \n",
    "tree.fit(X_train,y_train)\n",
    "precision = tree.score(X_test,y_test) * 100\n",
    "error = mean_squared_error(tree.predict(X_test), y_test)\n",
    "print(\"Precision = {:.2f} %,  Error = {:.0f}\".format(precision,error))"
   ]
  },
  {
   "cell_type": "code",
   "execution_count": 8,
   "metadata": {},
   "outputs": [
    {
     "name": "stdout",
     "output_type": "stream",
     "text": [
      "0.386967442934 7.29235311653e-05\n",
      "119\n"
     ]
    },
    {
     "data": {
      "text/plain": [
       "42"
      ]
     },
     "execution_count": 8,
     "metadata": {},
     "output_type": "execute_result"
    }
   ],
   "source": [
    "imp = tree.feature_importances_\n",
    "print(max(imp),min(imp))\n",
    "print(len(columnas))\n",
    "\n",
    "len([x for x in imp if x >= 2e-3])"
   ]
  },
  {
   "cell_type": "code",
   "execution_count": 9,
   "metadata": {},
   "outputs": [
    {
     "name": "stdout",
     "output_type": "stream",
     "text": [
      "['superficie', 'lat', 'lon', 'property_type_encoded', 'seguridad', 'gimnasio', 'pileta', 'cochera', 'cocina', 'comedor', 'living', 'banos', 'departamento', 'dormitorios', 'completo', 'edificio', 'amplio', 'planta', 'terraza', 'parrilla', 'amenities', 'responsable', 'categoria', 'profesional', 'casa', 'suite', 'vista', 'hall', 'torre', 'salon', 'toilette', 'piso', 'doble', 'excelente', 'sauna', 'rio', 'spa', 'ascensores', 'diseno', 'avenida', 'duplex', 'ducha']\n"
     ]
    }
   ],
   "source": [
    "c = [y for x,y in enumerate(columnas) if imp[x] >= 2e-3]\n",
    "print(c)"
   ]
  },
  {
   "cell_type": "markdown",
   "metadata": {},
   "source": [
    "# Con el set de pruebas, usando las 50 columnas mas importantes"
   ]
  },
  {
   "cell_type": "code",
   "execution_count": 10,
   "metadata": {
    "collapsed": true
   },
   "outputs": [],
   "source": [
    "columnas = c\n",
    "\n",
    "set_entrenamiento_datos = propiedades.loc[:,columnas]\n",
    "set_entrenamiento_resultado = propiedades.loc[:,'price_aprox_usd']\n",
    "\n",
    "tree = DecisionTreeRegressor(criterion = 'mse', max_depth = 100, max_features = 0.8)\n",
    "\n",
    "tree.fit(set_entrenamiento_datos,set_entrenamiento_resultado)\n",
    "set_pruebas.loc[:,'price_usd'] = set_pruebas.loc[:,columnas].apply(lambda x: tree.predict([x])[0],axis = 1)\n",
    "\n",
    "resultado = set_pruebas.loc[:,['id','price_usd']]\n",
    "\n",
    "resultado.to_csv('resultados/decisionTree_importanciaColumnas.csv', index = False)"
   ]
  },
  {
   "cell_type": "markdown",
   "metadata": {},
   "source": [
    "# Con un set de validacion busco mas columnas mas importantes"
   ]
  },
  {
   "cell_type": "code",
   "execution_count": 11,
   "metadata": {
    "collapsed": true
   },
   "outputs": [],
   "source": [
    "columnas = col + comodidades\n",
    "X_train, X_test, y_train, y_test = train_test_split(propiedades.loc[:,columnas], \\\n",
    "                                        propiedades.loc[:,'price_aprox_usd'], test_size=0.2)\n",
    "X_train = pd.DataFrame(X_train).reset_index(drop = True)\n",
    "X_test = pd.DataFrame(X_test).reset_index(drop = True)"
   ]
  },
  {
   "cell_type": "code",
   "execution_count": 12,
   "metadata": {},
   "outputs": [
    {
     "name": "stdout",
     "output_type": "stream",
     "text": [
      "Precision = 94.19 %,  Error = 2240074463\n"
     ]
    }
   ],
   "source": [
    "tree = DecisionTreeRegressor(criterion = criterion, max_depth = max_depth, max_features = max_features)\n",
    "    \n",
    "tree.fit(X_train,y_train)\n",
    "precision = tree.score(X_test,y_test) * 100\n",
    "error = mean_squared_error(tree.predict(X_test), y_test)\n",
    "print(\"Precision = {:.2f} %,  Error = {:.0f}\".format(precision,error))"
   ]
  },
  {
   "cell_type": "code",
   "execution_count": 14,
   "metadata": {},
   "outputs": [
    {
     "name": "stdout",
     "output_type": "stream",
     "text": [
      "0.413244922935 2.23475232024e-05\n",
      "119\n"
     ]
    },
    {
     "data": {
      "text/plain": [
       "79"
      ]
     },
     "execution_count": 14,
     "metadata": {},
     "output_type": "execute_result"
    }
   ],
   "source": [
    "imp = tree.feature_importances_\n",
    "print(max(imp),min(imp))\n",
    "print(len(columnas))\n",
    "\n",
    "len([x for x in imp if x >= 1e-3])"
   ]
  },
  {
   "cell_type": "code",
   "execution_count": 15,
   "metadata": {},
   "outputs": [
    {
     "name": "stdout",
     "output_type": "stream",
     "text": [
      "['superficie', 'lat', 'lon', 'property_type_encoded', 'seguridad', 'gimnasio', 'aire', 'pileta', 'cochera', 'transporte', 'cocina', 'comedor', 'living', 'banos', 'balcon', 'ambientes', 'departamento', 'dormitorios', 'quincho', 'porcelanato', 'completo', 'excelente', 'edificio', 'lavadero', 'amplio', 'planta', 'cuadras', 'placard', 'terraza', 'acceso', 'parrilla', 'madera', 'amenities', 'responsable', 'muebles', 'diario', 'independiente', 'cubierta', 'contrafrente', 'recepcion', 'categoria', 'profesional', 'principal', 'solarium', 'central', 'estrenar', 'patio', 'casa', 'suite', 'vista', 'hall', 'lote', 'fondo', 'acero', 'torre', 'horno', 'sala', 'salon', 'frente', 'toilette', 'piso', 'pisos', 'apto', 'sobre', 'doble', 'nuevo', 'bacha', 'ideal', 'excelente', 'sauna', 'rio', 'sol', 'spa', 'plantas', 'diseno', 'griferia', 'terminaciones', 'avenida', 'ducha']\n"
     ]
    }
   ],
   "source": [
    "c = [y for x,y in enumerate(columnas) if imp[x] >= 1e-3]\n",
    "print(c)"
   ]
  },
  {
   "cell_type": "markdown",
   "metadata": {},
   "source": [
    "# Con el set de pruebas, usando las 80 columnas mas importantes"
   ]
  },
  {
   "cell_type": "code",
   "execution_count": 16,
   "metadata": {
    "collapsed": true
   },
   "outputs": [],
   "source": [
    "columnas = c\n",
    "\n",
    "set_entrenamiento_datos = propiedades.loc[:,columnas]\n",
    "set_entrenamiento_resultado = propiedades.loc[:,'price_aprox_usd']\n",
    "\n",
    "tree = DecisionTreeRegressor(criterion = 'mse', max_depth = 100, max_features = 0.8)\n",
    "\n",
    "tree.fit(set_entrenamiento_datos,set_entrenamiento_resultado)\n",
    "set_pruebas.loc[:,'price_usd'] = set_pruebas.loc[:,columnas].apply(lambda x: tree.predict([x])[0],axis = 1)\n",
    "\n",
    "resultado = set_pruebas.loc[:,['id','price_usd']]\n",
    "\n",
    "resultado.to_csv('resultados/decisionTree_importancia80Columnas.csv', index = False)"
   ]
  },
  {
   "cell_type": "code",
   "execution_count": 18,
   "metadata": {},
   "outputs": [
    {
     "name": "stdout",
     "output_type": "stream",
     "text": [
      "Precision = 94.25 %,  Error = 2153461948\n"
     ]
    }
   ],
   "source": [
    "X_train, X_test, y_train, y_test = train_test_split(propiedades.loc[:,columnas], \\\n",
    "                                        propiedades.loc[:,'price_aprox_usd'], test_size=0.2)\n",
    "tree = DecisionTreeRegressor(criterion = criterion, max_depth = max_depth, max_features = max_features) \n",
    "tree.fit(X_train,y_train)\n",
    "precision = tree.score(X_test,y_test) * 100\n",
    "error = mean_squared_error(tree.predict(X_test), y_test)\n",
    "print(\"Precision = {:.2f} %,  Error = {:.0f}\".format(precision,error))"
   ]
  },
  {
   "cell_type": "markdown",
   "metadata": {},
   "source": [
    "# Usando las columnas importantes para mi"
   ]
  },
  {
   "cell_type": "code",
   "execution_count": 4,
   "metadata": {},
   "outputs": [
    {
     "data": {
      "text/plain": [
       "87"
      ]
     },
     "execution_count": 4,
     "metadata": {},
     "output_type": "execute_result"
    }
   ],
   "source": [
    "columnas = ['superficie','lat', 'lon','property_type_encoded', \\\n",
    "'seguridad','gimnasio', 'aire', 'pileta', 'cochera','transporte','cocina','comedor',\\\n",
    "'living', 'banos', 'balcon','ambientes','departamento', 'dormitorios','quincho', 'granito','porcelanato',\\\n",
    "'completo', 'edificio','lavadero', 'amplio', 'terraza', 'acceso','parrilla', 'luminoso','madera',  'amenities',\\\n",
    "'mesada','muebles', 'espacio',  'cubierta','contrafrente', 'recepcion','categoria', 'profesional', 'baulera', \\\n",
    "'unidades', 'principal', 'estacion', 'vestidor', 'solarium', 'central', 'parquet','patio',  'casa', 'suite', 'vista',\\\n",
    "'hall','lote', 'fondo', 'acero', 'torre',  'horno',  'sala', 'salon', 'frente','toilette', 'bacha','auto',  'autos',\\\n",
    "'ninos', 'sauna','rio', 'gym', 'luz', 'sol', 'spa','laundry', 'monoambiente', 'ascensores', 'plantas',  'inoxidable', \\\n",
    "'cubierto','griferia','avenida', 'galeria', 'negocios', 'duplex', 'lavarropas', 'ceramicos', 'balcones', 'gas','ducha']\n",
    "\n",
    "len(columnas)"
   ]
  },
  {
   "cell_type": "code",
   "execution_count": 5,
   "metadata": {
    "collapsed": true
   },
   "outputs": [],
   "source": [
    "set_entrenamiento_datos = propiedades.loc[:,columnas]\n",
    "set_entrenamiento_resultado = propiedades.loc[:,'price_aprox_usd']\n",
    "\n",
    "tree = DecisionTreeRegressor(criterion = 'mse', max_depth = 100, max_features = 0.8)\n",
    "\n",
    "tree.fit(set_entrenamiento_datos,set_entrenamiento_resultado)\n",
    "set_pruebas.loc[:,'price_usd'] = set_pruebas.loc[:,columnas].apply(lambda x: tree.predict([x])[0],axis = 1)\n",
    "\n",
    "resultado = set_pruebas.loc[:,['id','price_usd']]\n",
    "\n",
    "resultado.to_csv('resultados/decisionTree_columnasSeleccionadas.csv', index = False)"
   ]
  },
  {
   "cell_type": "code",
   "execution_count": 8,
   "metadata": {},
   "outputs": [
    {
     "name": "stdout",
     "output_type": "stream",
     "text": [
      "Precision = 95.07 %,  Error = 1864764517\n"
     ]
    }
   ],
   "source": [
    "X_train, X_test, y_train, y_test = train_test_split(propiedades.loc[:,columnas], \\\n",
    "                                        propiedades.loc[:,'price_aprox_usd'], test_size=0.2)\n",
    "tree = DecisionTreeRegressor(criterion = criterion, max_depth = max_depth, max_features = max_features) \n",
    "tree.fit(X_train,y_train)\n",
    "precision = tree.score(X_test,y_test) * 100\n",
    "error = mean_squared_error(tree.predict(X_test), y_test)\n",
    "print(\"Precision = {:.2f} %,  Error = {:.0f}\".format(precision,error))"
   ]
  }
 ],
 "metadata": {
  "kernelspec": {
   "display_name": "Python 3",
   "language": "python",
   "name": "python3"
  },
  "language_info": {
   "codemirror_mode": {
    "name": "ipython",
    "version": 3
   },
   "file_extension": ".py",
   "mimetype": "text/x-python",
   "name": "python",
   "nbconvert_exporter": "python",
   "pygments_lexer": "ipython3",
   "version": "3.6.1"
  }
 },
 "nbformat": 4,
 "nbformat_minor": 2
}
