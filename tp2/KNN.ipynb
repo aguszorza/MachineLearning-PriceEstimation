{
 "cells": [
  {
   "cell_type": "code",
   "execution_count": 1,
   "metadata": {
    "collapsed": true
   },
   "outputs": [],
   "source": [
    "import pandas as pd\n",
    "import numpy as np\n",
    "from math import radians, sin, cos, asin, sqrt, pi, atan, atan2, fabs\n",
    "import time"
   ]
  },
  {
   "cell_type": "code",
   "execution_count": 4,
   "metadata": {
    "collapsed": true
   },
   "outputs": [],
   "source": [
    "def calcular_distancia(lat1,long1,lat2,long2):\n",
    "    lon1, lat1 = (radians(coord) for coord in (long1,lat1))\n",
    "    lon2, lat2 = (radians(coord) for coord in (long2,lat2))\n",
    "    dlat = (lat2 - lat1)\n",
    "    dlon = (lon2 - lon1)\n",
    "    a = (\n",
    "        sin(dlat * 0.5)**2 +\n",
    "        cos(lat1) * cos(lat2) * sin(dlon * 0.5)**2\n",
    "    )\n",
    "    \n",
    "    radioTierra = 6371008.8\n",
    "    return 2 * radioTierra * asin(sqrt(a)) #lo dejo en metros\n",
    "\n",
    "#distancia de Haversine\n",
    "#https://gist.github.com/habibutsu/8bbcc202a915e965c6a6d4f561d0e482"
   ]
  },
  {
   "cell_type": "code",
   "execution_count": 3,
   "metadata": {
    "collapsed": true
   },
   "outputs": [],
   "source": [
    "propiedades = pd.read_csv('/home/mati/Desktop/properati.csv')\n",
    "#propiedades = pd.read_csv('/home/agustin/Escritorio/escritorio/fiuba/Organizacion de datos/properati.csv')"
   ]
  },
  {
   "cell_type": "code",
   "execution_count": 5,
   "metadata": {
    "collapsed": true
   },
   "outputs": [],
   "source": [
    "propiedades = propiedades.loc[propiedades.Year >= 2016,:]"
   ]
  },
  {
   "cell_type": "code",
   "execution_count": 6,
   "metadata": {
    "collapsed": true
   },
   "outputs": [],
   "source": [
    "propiedades = propiedades.loc[(propiedades.lat.notnull()) & (propiedades.lon.notnull()) &\\\n",
    "                             (propiedades.superficie.notnull()) & (propiedades.price_aprox_usd.notnull()),:]"
   ]
  },
  {
   "cell_type": "markdown",
   "metadata": {},
   "source": [
    "## Tomo como set de prueba las publicaciones de junio 2017"
   ]
  },
  {
   "cell_type": "code",
   "execution_count": 22,
   "metadata": {
    "collapsed": true
   },
   "outputs": [],
   "source": [
    "set_pruebas = propiedades.loc[(propiedades.Year == 2017) & (propiedades.Month == 6),:].reset_index()\n",
    "set_datos = propiedades.loc[(propiedades.Year != 2017) | (propiedades.Month < 6),:].reset_index()"
   ]
  },
  {
   "cell_type": "code",
   "execution_count": 23,
   "metadata": {},
   "outputs": [
    {
     "name": "stdout",
     "output_type": "stream",
     "text": [
      "<class 'pandas.core.frame.DataFrame'>\n",
      "RangeIndex: 7519 entries, 0 to 7518\n",
      "Data columns (total 7 columns):\n",
      "property_type          7519 non-null object\n",
      "lat                    7519 non-null float64\n",
      "lon                    7519 non-null float64\n",
      "superficie             7519 non-null float64\n",
      "price_aprox_usd        7519 non-null float64\n",
      "resultado              7519 non-null int64\n",
      "cantidad_analizados    7519 non-null int64\n",
      "dtypes: float64(4), int64(2), object(1)\n",
      "memory usage: 411.3+ KB\n"
     ]
    }
   ],
   "source": [
    "set_pruebas = set_pruebas.sample(frac = 0.12).reset_index()\n",
    "set_pruebas.loc[:,'resultado'] = 0\n",
    "set_pruebas.loc[:,'cantidad_analizados'] = 0\n",
    "set_pruebas = set_pruebas.loc[:,['property_type','lat','lon','superficie','price_aprox_usd','resultado','cantidad_analizados']]\n",
    "set_pruebas.info()"
   ]
  },
  {
   "cell_type": "code",
   "execution_count": 25,
   "metadata": {},
   "outputs": [
    {
     "name": "stdout",
     "output_type": "stream",
     "text": [
      "<class 'pandas.core.frame.DataFrame'>\n",
      "RangeIndex: 464833 entries, 0 to 464832\n",
      "Data columns (total 5 columns):\n",
      "property_type      464833 non-null object\n",
      "lat                464833 non-null float64\n",
      "lon                464833 non-null float64\n",
      "superficie         464833 non-null float64\n",
      "price_aprox_usd    464833 non-null float64\n",
      "dtypes: float64(4), object(1)\n",
      "memory usage: 17.7+ MB\n"
     ]
    }
   ],
   "source": [
    "set_datos = set_datos.loc[:,['property_type','lat','lon','superficie','price_aprox_usd']]\n",
    "set_datos.info()"
   ]
  },
  {
   "cell_type": "markdown",
   "metadata": {},
   "source": [
    "### Agrupo por tipo de propiedad y luego por superficie, serian los lideres de knn"
   ]
  },
  {
   "cell_type": "code",
   "execution_count": 26,
   "metadata": {
    "collapsed": true
   },
   "outputs": [],
   "source": [
    "def redondear_superficie(superficie):\n",
    "    \"\"\"Convierto la superficie a un multiplo de 10\"\"\"\n",
    "    superficie /= 10\n",
    "    superficie = round(superficie) #lo hago entero\n",
    "    superficie *= 10\n",
    "    return int(superficie)"
   ]
  },
  {
   "cell_type": "code",
   "execution_count": 27,
   "metadata": {},
   "outputs": [
    {
     "data": {
      "text/html": [
       "<div>\n",
       "<style>\n",
       "    .dataframe thead tr:only-child th {\n",
       "        text-align: right;\n",
       "    }\n",
       "\n",
       "    .dataframe thead th {\n",
       "        text-align: left;\n",
       "    }\n",
       "\n",
       "    .dataframe tbody tr th {\n",
       "        vertical-align: top;\n",
       "    }\n",
       "</style>\n",
       "<table border=\"1\" class=\"dataframe\">\n",
       "  <thead>\n",
       "    <tr style=\"text-align: right;\">\n",
       "      <th></th>\n",
       "      <th>property_type</th>\n",
       "      <th>lat</th>\n",
       "      <th>lon</th>\n",
       "      <th>superficie</th>\n",
       "      <th>price_aprox_usd</th>\n",
       "      <th>superficie_actualizada</th>\n",
       "    </tr>\n",
       "  </thead>\n",
       "  <tbody>\n",
       "    <tr>\n",
       "      <th>0</th>\n",
       "      <td>house</td>\n",
       "      <td>-34.603282</td>\n",
       "      <td>-58.525425</td>\n",
       "      <td>448.0</td>\n",
       "      <td>490000.0</td>\n",
       "      <td>450</td>\n",
       "    </tr>\n",
       "    <tr>\n",
       "      <th>1</th>\n",
       "      <td>apartment</td>\n",
       "      <td>-34.564741</td>\n",
       "      <td>-58.441372</td>\n",
       "      <td>308.0</td>\n",
       "      <td>810000.0</td>\n",
       "      <td>310</td>\n",
       "    </tr>\n",
       "  </tbody>\n",
       "</table>\n",
       "</div>"
      ],
      "text/plain": [
       "  property_type        lat        lon  superficie  price_aprox_usd  \\\n",
       "0         house -34.603282 -58.525425       448.0         490000.0   \n",
       "1     apartment -34.564741 -58.441372       308.0         810000.0   \n",
       "\n",
       "   superficie_actualizada  \n",
       "0                     450  \n",
       "1                     310  "
      ]
     },
     "execution_count": 27,
     "metadata": {},
     "output_type": "execute_result"
    }
   ],
   "source": [
    "set_datos.loc[:,'superficie_actualizada'] = set_datos.loc[:,'superficie'].apply(redondear_superficie)\n",
    "set_datos.head(2)"
   ]
  },
  {
   "cell_type": "code",
   "execution_count": 29,
   "metadata": {
    "collapsed": true
   },
   "outputs": [],
   "source": [
    "set_datos_agrupados = set_datos.groupby('property_type')"
   ]
  },
  {
   "cell_type": "code",
   "execution_count": 30,
   "metadata": {},
   "outputs": [],
   "source": [
    "#Agrupo por superficie cada grupo\n",
    "grupos = {}\n",
    "for grupo in set_datos_agrupados.__iter__():\n",
    "    clave = grupo[0]\n",
    "    valor = grupo[1].groupby('superficie_actualizada')\n",
    "    diccionario = {}\n",
    "    for group in valor.__iter__():\n",
    "        sub_clave = group[0]\n",
    "        sub_valor = group[1]\n",
    "        diccionario[sub_clave] = sub_valor\n",
    "    grupos[clave] = diccionario"
   ]
  },
  {
   "cell_type": "code",
   "execution_count": 31,
   "metadata": {
    "collapsed": true
   },
   "outputs": [],
   "source": [
    "set_datos_agrupados = grupos"
   ]
  },
  {
   "cell_type": "markdown",
   "metadata": {},
   "source": [
    "#### Los datos quedan dic = {prop_type: {sup : dataframe}}"
   ]
  },
  {
   "cell_type": "markdown",
   "metadata": {},
   "source": [
    "## Algoritmo de KNN"
   ]
  },
  {
   "cell_type": "code",
   "execution_count": 32,
   "metadata": {
    "collapsed": true
   },
   "outputs": [],
   "source": [
    "def calcular_distancias_para_knn(datos,prueba_type,prueba_sup,prueba_lat,prueba_lon):\n",
    "    grupo = datos[prueba_type]\n",
    "    prueba_sup = redondear_superficie(prueba_sup)\n",
    "    analizados = []\n",
    "    for sup in range(prueba_sup - 10, prueba_sup + 20, 10):  #Miro sup +- 10\n",
    "        try:\n",
    "            a_analizar = grupo[sup].reset_index()\n",
    "            for i in range(len(a_analizar)):\n",
    "                distancia = calcular_distancia(a_analizar.lat[i],a_analizar.lon[i],prueba_lat,prueba_lon)\n",
    "                analizados.append((distancia,a_analizar.price_aprox_usd[i]))\n",
    "        except:\n",
    "            #Si no hay ninguna propiedad con superficie sup\n",
    "            continue\n",
    "    return analizados"
   ]
  },
  {
   "cell_type": "code",
   "execution_count": 33,
   "metadata": {
    "collapsed": true
   },
   "outputs": [],
   "source": [
    "def knn(datos,pruebas,k):\n",
    "    for i in range(len(pruebas)):\n",
    "        distancias = calcular_distancias_para_knn(datos,pruebas.property_type[i],pruebas.superficie[i],\\\n",
    "                                                  pruebas.lat[i],pruebas.lon[i])\n",
    "        resultado = obtener_promedio_k_minimos(distancias,k)\n",
    "        pruebas.resultado[i] = resultado\n",
    "        pruebas.cantidad_analizados[i] = len(distancias)\n",
    "    return pruebas"
   ]
  },
  {
   "cell_type": "code",
   "execution_count": 56,
   "metadata": {
    "collapsed": true
   },
   "outputs": [],
   "source": [
    "def knn_con_precision(datos,pruebas,lista_k): #Para buscar el mejor K de una lista\n",
    "    resultados = {}\n",
    "    for i in range(len(pruebas)):\n",
    "        distancias = calcular_distancias_para_knn(datos,pruebas.property_type[i],pruebas.superficie[i],\\\n",
    "                                                  pruebas.lat[i],pruebas.lon[i])\n",
    "        resultados = obtener_promedio_k_minimos(resultados,pruebas.price_aprox_usd[i],distancias,lista_k)\n",
    "    return resultados"
   ]
  },
  {
   "cell_type": "code",
   "execution_count": 55,
   "metadata": {
    "collapsed": true
   },
   "outputs": [],
   "source": [
    "def obtener_promedio_k_minimos(resultados,real,distancias,lista_k):\n",
    "    distancias.sort()\n",
    "    for k in lista_k:\n",
    "        k = min(k,len(distancias))\n",
    "        a_analizar = distancias[:k]\n",
    "        suma = 0\n",
    "        total = 0\n",
    "        for x in range(len(a_analizar)):\n",
    "            suma += a_analizar[x][1]\n",
    "            total += 1\n",
    "        res = suma / total\n",
    "        lista = resultados.get(k,[])\n",
    "        lista.append((real,res))\n",
    "        resultados[k] = lista\n",
    "    return resultados"
   ]
  },
  {
   "cell_type": "code",
   "execution_count": 44,
   "metadata": {
    "collapsed": true
   },
   "outputs": [],
   "source": [
    "def calcular_precision(resultados):\n",
    "    res = {}\n",
    "    for k in resultados.keys():\n",
    "        suma = 0\n",
    "        total = 0\n",
    "        lista = resultados[k]\n",
    "        for tupla in lista:\n",
    "            suma += calcular_resultado(tupla[0],tupla[1])\n",
    "            total += 1\n",
    "        res[k] = round(suma*100 / total,2)\n",
    "    return res"
   ]
  },
  {
   "cell_type": "code",
   "execution_count": 58,
   "metadata": {
    "collapsed": true
   },
   "outputs": [],
   "source": [
    "def calcular_resultado(real,calculado):\n",
    "    porcentaje = 0.025\n",
    "    if abs(real - calculado) <= real * porcentaje:\n",
    "        return 1\n",
    "    return 0"
   ]
  },
  {
   "cell_type": "markdown",
   "metadata": {},
   "source": [
    "## Busqueda del hiperparametro K"
   ]
  },
  {
   "cell_type": "markdown",
   "metadata": {},
   "source": [
    "##### Empezamos con algunos k salteados"
   ]
  },
  {
   "cell_type": "code",
   "execution_count": 57,
   "metadata": {},
   "outputs": [
    {
     "name": "stdout",
     "output_type": "stream",
     "text": [
      "157000.0 156410.0\n",
      "98000.0 89900.0\n",
      "157000.0 150595.0\n",
      "98000.0 98025.0\n",
      "Inicio: (11:27:32) Final: (11:28:55)\n",
      "Para k = 30 la precision es 50.0%\n",
      "Para k = 40 la precision es 50.0%\n"
     ]
    }
   ],
   "source": [
    "lista_k = [5,10,20,30,50,100,200,350,500,750,1000,2000,3000,10000,20000,50000,100000]\n",
    "\n",
    "inicio = time.strftime(\"%H:%M:%S\")\n",
    "pruebas = knn_con_precision(set_datos_agrupados,set_pruebas.head(2),lista_k)\n",
    "precision = calcular_precision(pruebas)\n",
    "print(\"Inicio: ({}) Final: ({})\\n\".format(inicio,time.strftime(\"%H:%M:%S\")))\n",
    "for k in lista_k:\n",
    "    print(\"Para k = {} la precision es {}%\".format(k,precision[k]))\n"
   ]
  }
 ],
 "metadata": {
  "kernelspec": {
   "display_name": "Python 3",
   "language": "python",
   "name": "python3"
  },
  "language_info": {
   "codemirror_mode": {
    "name": "ipython",
    "version": 3
   },
   "file_extension": ".py",
   "mimetype": "text/x-python",
   "name": "python",
   "nbconvert_exporter": "python",
   "pygments_lexer": "ipython3",
   "version": "3.6.1"
  }
 },
 "nbformat": 4,
 "nbformat_minor": 2
}
