{
 "cells": [
  {
   "cell_type": "code",
   "execution_count": 1,
   "metadata": {
    "collapsed": true
   },
   "outputs": [],
   "source": [
    "import pandas as pd\n",
    "import numpy as np\n",
    "from sklearn.metrics import mean_squared_error\n",
    "from sklearn.neighbors import KNeighborsRegressor\n",
    "\n",
    "import warnings\n",
    "warnings.simplefilter(\"ignore\", category=DeprecationWarning)"
   ]
  },
  {
   "cell_type": "code",
   "execution_count": 2,
   "metadata": {
    "collapsed": true
   },
   "outputs": [],
   "source": [
    "propiedades = pd.read_csv('/home/mati/Desktop/set_datos_propiedades.csv')"
   ]
  },
  {
   "cell_type": "code",
   "execution_count": 4,
   "metadata": {
    "collapsed": true
   },
   "outputs": [],
   "source": [
    "propiedades = propiedades.loc[(propiedades.price_aprox_usd.notnull()) & (propiedades.superficie.notnull()),\\\n",
    "                             ['place_name_encoded', 'property_type_encoded','price_aprox_usd','superficie',\\\n",
    "                             'Year','Month','seguridad','aire','gimnasio','cochera','pileta']]"
   ]
  },
  {
   "cell_type": "code",
   "execution_count": 5,
   "metadata": {},
   "outputs": [
    {
     "name": "stdout",
     "output_type": "stream",
     "text": [
      "<class 'pandas.core.frame.DataFrame'>\n",
      "Int64Index: 1132495 entries, 0 to 1413024\n",
      "Data columns (total 11 columns):\n",
      "place_name_encoded       1132495 non-null int64\n",
      "property_type_encoded    1132495 non-null int64\n",
      "price_aprox_usd          1132495 non-null float64\n",
      "superficie               1132495 non-null float64\n",
      "Year                     1132495 non-null int64\n",
      "Month                    1132495 non-null int64\n",
      "seguridad                1132495 non-null bool\n",
      "aire                     1132495 non-null bool\n",
      "gimnasio                 1132495 non-null bool\n",
      "cochera                  1132495 non-null bool\n",
      "pileta                   1132495 non-null bool\n",
      "dtypes: bool(5), float64(2), int64(4)\n",
      "memory usage: 65.9 MB\n"
     ]
    }
   ],
   "source": [
    "propiedades.info()"
   ]
  },
  {
   "cell_type": "markdown",
   "metadata": {},
   "source": [
    "# KNN"
   ]
  },
  {
   "cell_type": "code",
   "execution_count": 24,
   "metadata": {
    "collapsed": true
   },
   "outputs": [],
   "source": [
    "columnas = ['superficie','place_name_encoded','property_type_encoded','seguridad','gimnasio', 'aire', 'pileta', 'cochera']\n",
    "columnas_precio = columnas + ['price_aprox_usd']"
   ]
  },
  {
   "cell_type": "code",
   "execution_count": 25,
   "metadata": {
    "collapsed": true
   },
   "outputs": [],
   "source": [
    "set_entrenamiento = propiedades.loc[(propiedades.Year >= 2016) &((propiedades.Year < 2017) | (propiedades.Month < 6))\\\n",
    "                                    ,columnas_precio]\n",
    "set_pruebas = propiedades.loc[(propiedades.Year == 2017) & (propiedades.Month == 6),columnas_precio].head(20000)\n",
    "\n",
    "set_entrenamiento_datos = set_entrenamiento.loc[:,columnas]\n",
    "set_entrenamiento_resultado = set_entrenamiento.loc[:,'price_aprox_usd']"
   ]
  },
  {
   "cell_type": "code",
   "execution_count": 26,
   "metadata": {},
   "outputs": [
    {
     "name": "stdout",
     "output_type": "stream",
     "text": [
      "Precision = 66.47044903697412, error = 46257434434.250084\n"
     ]
    }
   ],
   "source": [
    "knn = KNeighborsRegressor()\n",
    "knn.fit(set_entrenamiento_datos,set_entrenamiento_resultado)\n",
    "set_pruebas.loc[:,'resultado'] = set_pruebas.loc[:,columnas].apply(lambda x: knn.predict(x)[0],axis = 1)\n",
    "precision = knn.score(set_pruebas.loc[:,columnas],set_pruebas.price_aprox_usd) * 100\n",
    "error = mean_squared_error(set_pruebas.price_aprox_usd,set_pruebas.resultado)\n",
    "print(\"Precision = {}, error = {}\".format(precision, error))"
   ]
  },
  {
   "cell_type": "markdown",
   "metadata": {},
   "source": [
    "### Ahora que tenemos una intuicion, probamos variando los parametros"
   ]
  },
  {
   "cell_type": "code",
   "execution_count": 27,
   "metadata": {
    "collapsed": true
   },
   "outputs": [],
   "source": [
    "columnas = ['superficie','place_name_encoded','property_type_encoded','seguridad','gimnasio', 'aire', 'pileta', 'cochera']\n",
    "columnas_precio = columnas + ['price_aprox_usd']"
   ]
  },
  {
   "cell_type": "code",
   "execution_count": 28,
   "metadata": {
    "collapsed": true
   },
   "outputs": [],
   "source": [
    "set_entrenamiento = propiedades.loc[(propiedades.Year >= 2016) &((propiedades.Year < 2017) | (propiedades.Month < 6))\\\n",
    "                                    ,columnas_precio]\n",
    "set_pruebas = propiedades.loc[(propiedades.Year == 2017) & (propiedades.Month == 6),columnas_precio].head(20000)\n",
    "\n",
    "set_entrenamiento_datos = set_entrenamiento.loc[:,columnas]\n",
    "set_entrenamiento_resultado = set_entrenamiento.loc[:,'price_aprox_usd']\n",
    "\n",
    "res = []"
   ]
  },
  {
   "cell_type": "code",
   "execution_count": 20,
   "metadata": {
    "collapsed": true
   },
   "outputs": [
    {
     "name": "stdout",
     "output_type": "stream",
     "text": [
      "5  -  1\n",
      "5  -  2\n",
      "10  -  1\n",
      "10  -  2\n",
      "50  -  1\n",
      "50  -  2\n",
      "500  -  1\n",
      "500  -  2\n"
     ]
    }
   ],
   "source": [
    "lista_k = [5,10,15,20,30,50,100,500,1000]\n",
    "lista_dist = [1,2,3,4,5,50]\n",
    "\n",
    "for k in lista_k:\n",
    "    for d in lista_dist:\n",
    "        knn = KNeighborsRegressor(n_neighbors = k, p = d)\n",
    "        knn.fit(set_entrenamiento_datos,set_entrenamiento_resultado)\n",
    "        set_pruebas.loc[:,'resultado'] = set_pruebas.loc[:,columnas].apply(lambda x: knn.predict(x)[0],axis = 1)\n",
    "        precision = knn.score(set_pruebas.loc[:,columnas],set_pruebas.price_aprox_usd) * 100\n",
    "        error = mean_squared_error(set_pruebas.price_aprox_usd,set_pruebas.resultado)\n",
    "        res.append((k,d,precision,error))\n",
    "        print(k,' - ',d)"
   ]
  },
  {
   "cell_type": "code",
   "execution_count": 21,
   "metadata": {
    "collapsed": true
   },
   "outputs": [
    {
     "name": "stdout",
     "output_type": "stream",
     "text": [
      "k = 5, dist = 1, error = 17.279051281715844, cantidad = 14846.\n",
      "k = 5, dist = 2, error = 17.317874394135966, cantidad = 14843.\n",
      "k = 10, dist = 1, error = 19.08697394391251, cantidad = 14807.\n",
      "k = 10, dist = 2, error = 19.181302488471175, cantidad = 14801.\n",
      "k = 50, dist = 1, error = 24.7305050085274, cantidad = 14707.\n",
      "k = 50, dist = 2, error = 25.112657532368523, cantidad = 14699.\n",
      "k = 500, dist = 1, error = 30.556412669287525, cantidad = 14576.\n",
      "k = 500, dist = 2, error = 31.553976700375664, cantidad = 14550.\n"
     ]
    }
   ],
   "source": [
    "for r in res:\n",
    "    print (\"k = {}, dist = {}, precision = {}, error = {}\".format(r[0],r[1],r[2],r[3]))"
   ]
  },
  {
   "cell_type": "markdown",
   "metadata": {},
   "source": [
    "# Elegimos k = {}  y dist = {}"
   ]
  },
  {
   "cell_type": "code",
   "execution_count": null,
   "metadata": {
    "collapsed": true
   },
   "outputs": [],
   "source": [
    "columnas = ['superficie','place_name_encoded','property_type_encoded','seguridad','gimnasio', 'aire', 'pileta', 'cochera']\n",
    "columnas_precio = columnas + ['price_aprox_usd']"
   ]
  },
  {
   "cell_type": "code",
   "execution_count": null,
   "metadata": {
    "collapsed": true
   },
   "outputs": [],
   "source": [
    "set_entrenamiento = propiedades.loc[(propiedades.Year >= 2016) &((propiedades.Year < 2017) | (propiedades.Month < 6))\\\n",
    "                                    ,columnas_precio]\n",
    "set_pruebas = propiedades.loc[(propiedades.Year == 2017) & (propiedades.Month == 6),columnas_precio].head(20000)\n",
    "\n",
    "set_entrenamiento_datos = set_entrenamiento.loc[:,columnas]\n",
    "set_entrenamiento_resultado = set_entrenamiento.loc[:,'price_aprox_usd']"
   ]
  },
  {
   "cell_type": "code",
   "execution_count": null,
   "metadata": {
    "collapsed": true
   },
   "outputs": [],
   "source": [
    "k = 0\n",
    "d = 0"
   ]
  },
  {
   "cell_type": "code",
   "execution_count": null,
   "metadata": {
    "collapsed": true
   },
   "outputs": [],
   "source": [
    "knn = KNeighborsRegressor(n_neighbors = k, p = d)\n",
    "knn.fit(set_entrenamiento_datos,set_entrenamiento_resultado)\n",
    "set_pruebas.loc[:,'resultado'] = set_pruebas.loc[:,columnas].apply(lambda x: knn.predict(x)[0],axis = 1)\n",
    "precision = knn.score(set_pruebas.loc[:,columnas],set_pruebas.price_aprox_usd) * 100\n",
    "error = mean_squared_error(set_pruebas.price_aprox_usd,set_pruebas.resultado)\n",
    "print(\"Precision = {}, error = {}\".format(precision, error))"
   ]
  },
  {
   "cell_type": "markdown",
   "metadata": {},
   "source": [
    "# Calculamos los verdaderos datos"
   ]
  },
  {
   "cell_type": "code",
   "execution_count": 29,
   "metadata": {
    "collapsed": true
   },
   "outputs": [],
   "source": [
    "analizar = pd.read_csv('/home/mati/Desktop/properati_dataset_modificado.csv')"
   ]
  },
  {
   "cell_type": "code",
   "execution_count": null,
   "metadata": {
    "collapsed": true
   },
   "outputs": [],
   "source": [
    "analizar.loc[:,'price_usd'] = analizar.loc[:,columnas].apply(lambda x: knn.predict(x)[0],axis = 1)"
   ]
  },
  {
   "cell_type": "code",
   "execution_count": null,
   "metadata": {
    "collapsed": true
   },
   "outputs": [],
   "source": [
    "analizar.to_csv('KNN_resultados.csv', index = False)"
   ]
  }
 ],
 "metadata": {
  "kernelspec": {
   "display_name": "Python 3",
   "language": "python",
   "name": "python3"
  },
  "language_info": {
   "codemirror_mode": {
    "name": "ipython",
    "version": 3
   },
   "file_extension": ".py",
   "mimetype": "text/x-python",
   "name": "python",
   "nbconvert_exporter": "python",
   "pygments_lexer": "ipython3",
   "version": "3.6.1"
  }
 },
 "nbformat": 4,
 "nbformat_minor": 2
}
