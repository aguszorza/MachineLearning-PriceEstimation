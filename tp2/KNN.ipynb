{
 "cells": [
  {
   "cell_type": "code",
   "execution_count": 1,
   "metadata": {
    "collapsed": true
   },
   "outputs": [],
   "source": [
    "import pandas as pd\n",
    "import numpy as np\n",
    "from math import radians, sin, cos, asin, sqrt, pi, atan, atan2, fabs\n",
    "import time\n",
    "from arbol_n_dimensiones import Arbol_n_dimensiones"
   ]
  },
  {
   "cell_type": "code",
   "execution_count": 2,
   "metadata": {
    "collapsed": true
   },
   "outputs": [],
   "source": [
    "def calcular_distancia(lat1,long1,lat2,long2):\n",
    "    lon1, lat1 = (radians(coord) for coord in (long1,lat1))\n",
    "    lon2, lat2 = (radians(coord) for coord in (long2,lat2))\n",
    "    dlat = (lat2 - lat1)\n",
    "    dlon = (lon2 - lon1)\n",
    "    a = (\n",
    "        sin(dlat * 0.5)**2 +\n",
    "        cos(lat1) * cos(lat2) * sin(dlon * 0.5)**2\n",
    "    )\n",
    "    \n",
    "    radioTierra = 6371008.8\n",
    "    return 2 * radioTierra * asin(sqrt(a)) #lo dejo en metros\n",
    "\n",
    "#distancia de Haversine\n",
    "#https://gist.github.com/habibutsu/8bbcc202a915e965c6a6d4f561d0e482"
   ]
  },
  {
   "cell_type": "code",
   "execution_count": 3,
   "metadata": {
    "collapsed": true
   },
   "outputs": [],
   "source": [
    "propiedades = pd.read_csv('/home/mati/Desktop/properati.csv')\n",
    "#propiedades = pd.read_csv('/home/agustin/Escritorio/escritorio/fiuba/Organizacion de datos/properati.csv')"
   ]
  },
  {
   "cell_type": "code",
   "execution_count": 4,
   "metadata": {
    "collapsed": true
   },
   "outputs": [],
   "source": [
    "propiedades = propiedades.loc[propiedades.Year >= 2017,:]"
   ]
  },
  {
   "cell_type": "code",
   "execution_count": 5,
   "metadata": {},
   "outputs": [
    {
     "name": "stdout",
     "output_type": "stream",
     "text": [
      "<class 'pandas.core.frame.DataFrame'>\n",
      "Int64Index: 294660 entries, 1988104 to 2455308\n",
      "Data columns (total 23 columns):\n",
      "created_on                    294660 non-null object\n",
      "currency                      293968 non-null object\n",
      "expenses                      41414 non-null float64\n",
      "fecha_de_publicacion          294660 non-null object\n",
      "floor                         36468 non-null float64\n",
      "lat                           294660 non-null float64\n",
      "lon                           294660 non-null float64\n",
      "place_name                    294596 non-null object\n",
      "place_with_parent_names       294660 non-null object\n",
      "price                         294660 non-null float64\n",
      "price_aprox_local_currency    294660 non-null float64\n",
      "price_aprox_usd               294660 non-null float64\n",
      "price_per_m2                  282871 non-null float64\n",
      "price_usd_per_m2              294660 non-null float64\n",
      "property_type                 294660 non-null object\n",
      "rooms                         198414 non-null float64\n",
      "state_name                    294660 non-null object\n",
      "superficie                    294660 non-null float64\n",
      "Year                          294660 non-null int64\n",
      "Month                         294660 non-null int64\n",
      "Year_created                  294660 non-null int64\n",
      "Month_created                 294660 non-null int64\n",
      "cantidad_meses_publicado      294660 non-null int64\n",
      "dtypes: float64(11), int64(5), object(7)\n",
      "memory usage: 54.0+ MB\n"
     ]
    }
   ],
   "source": [
    "propiedades = propiedades.loc[(propiedades.lat.notnull()) & (propiedades.lon.notnull()) &\\\n",
    "                             (propiedades.superficie.notnull()) & (propiedades.price_aprox_usd.notnull()),:]\n",
    "propiedades.info()"
   ]
  },
  {
   "cell_type": "markdown",
   "metadata": {},
   "source": [
    "## Tomo como set de prueba las publicaciones de junio 2017"
   ]
  },
  {
   "cell_type": "code",
   "execution_count": 6,
   "metadata": {
    "collapsed": true
   },
   "outputs": [],
   "source": [
    "set_pruebas = propiedades.loc[(propiedades.Year == 2017) & (propiedades.Month == 6),:].reset_index()\n",
    "set_datos = propiedades.loc[(propiedades.Year != 2017) | (propiedades.Month < 6),:].reset_index()"
   ]
  },
  {
   "cell_type": "code",
   "execution_count": 7,
   "metadata": {},
   "outputs": [
    {
     "name": "stdout",
     "output_type": "stream",
     "text": [
      "<class 'pandas.core.frame.DataFrame'>\n",
      "RangeIndex: 14166 entries, 0 to 14165\n",
      "Data columns (total 5 columns):\n",
      "property_type      14166 non-null object\n",
      "lat                14166 non-null float64\n",
      "lon                14166 non-null float64\n",
      "superficie         14166 non-null float64\n",
      "price_aprox_usd    14166 non-null float64\n",
      "dtypes: float64(4), object(1)\n",
      "memory usage: 553.4+ KB\n"
     ]
    }
   ],
   "source": [
    "set_pruebas = set_pruebas.sample(14166).reset_index()\n",
    "set_pruebas = set_pruebas.loc[:,['property_type','lat','lon','superficie','price_aprox_usd']]\n",
    "set_pruebas.info()"
   ]
  },
  {
   "cell_type": "code",
   "execution_count": 8,
   "metadata": {},
   "outputs": [
    {
     "name": "stdout",
     "output_type": "stream",
     "text": [
      "<class 'pandas.core.frame.DataFrame'>\n",
      "RangeIndex: 232005 entries, 0 to 232004\n",
      "Data columns (total 5 columns):\n",
      "property_type      232005 non-null object\n",
      "lat                232005 non-null float64\n",
      "lon                232005 non-null float64\n",
      "superficie         232005 non-null float64\n",
      "price_aprox_usd    232005 non-null float64\n",
      "dtypes: float64(4), object(1)\n",
      "memory usage: 8.9+ MB\n"
     ]
    }
   ],
   "source": [
    "set_datos = set_datos.loc[:,['property_type','lat','lon','superficie','price_aprox_usd']]\n",
    "set_datos.info()"
   ]
  },
  {
   "cell_type": "markdown",
   "metadata": {},
   "source": [
    "### Agrupo por tipo de propiedad y luego por superficie, serian los lideres de knn"
   ]
  },
  {
   "cell_type": "code",
   "execution_count": 9,
   "metadata": {
    "collapsed": true
   },
   "outputs": [],
   "source": [
    "def redondear_superficie(superficie):\n",
    "    \"\"\"Convierto la superficie a un multiplo de 10\"\"\"\n",
    "    superficie /= 10\n",
    "    superficie = round(superficie) #lo hago entero\n",
    "    superficie *= 10\n",
    "    return int(superficie)"
   ]
  },
  {
   "cell_type": "code",
   "execution_count": 10,
   "metadata": {},
   "outputs": [
    {
     "data": {
      "text/html": [
       "<div>\n",
       "<style>\n",
       "    .dataframe thead tr:only-child th {\n",
       "        text-align: right;\n",
       "    }\n",
       "\n",
       "    .dataframe thead th {\n",
       "        text-align: left;\n",
       "    }\n",
       "\n",
       "    .dataframe tbody tr th {\n",
       "        vertical-align: top;\n",
       "    }\n",
       "</style>\n",
       "<table border=\"1\" class=\"dataframe\">\n",
       "  <thead>\n",
       "    <tr style=\"text-align: right;\">\n",
       "      <th></th>\n",
       "      <th>property_type</th>\n",
       "      <th>lat</th>\n",
       "      <th>lon</th>\n",
       "      <th>superficie</th>\n",
       "      <th>price_aprox_usd</th>\n",
       "      <th>superficie_actualizada</th>\n",
       "    </tr>\n",
       "  </thead>\n",
       "  <tbody>\n",
       "    <tr>\n",
       "      <th>0</th>\n",
       "      <td>house</td>\n",
       "      <td>-34.490998</td>\n",
       "      <td>-58.76748</td>\n",
       "      <td>300.0</td>\n",
       "      <td>110000.0</td>\n",
       "      <td>300</td>\n",
       "    </tr>\n",
       "    <tr>\n",
       "      <th>1</th>\n",
       "      <td>apartment</td>\n",
       "      <td>-34.587785</td>\n",
       "      <td>-58.38658</td>\n",
       "      <td>162.0</td>\n",
       "      <td>645000.0</td>\n",
       "      <td>160</td>\n",
       "    </tr>\n",
       "  </tbody>\n",
       "</table>\n",
       "</div>"
      ],
      "text/plain": [
       "  property_type        lat       lon  superficie  price_aprox_usd  \\\n",
       "0         house -34.490998 -58.76748       300.0         110000.0   \n",
       "1     apartment -34.587785 -58.38658       162.0         645000.0   \n",
       "\n",
       "   superficie_actualizada  \n",
       "0                     300  \n",
       "1                     160  "
      ]
     },
     "execution_count": 10,
     "metadata": {},
     "output_type": "execute_result"
    }
   ],
   "source": [
    "set_datos.loc[:,'superficie_actualizada'] = set_datos.loc[:,'superficie'].apply(redondear_superficie)\n",
    "set_datos.head(2)"
   ]
  },
  {
   "cell_type": "code",
   "execution_count": 19,
   "metadata": {
    "collapsed": true
   },
   "outputs": [],
   "source": [
    "set_datos_agrupados = set_datos.groupby('property_type')"
   ]
  },
  {
   "cell_type": "code",
   "execution_count": 1,
   "metadata": {
    "collapsed": true
   },
   "outputs": [],
   "source": [
    "minimo_datos_en_hoja = 2000"
   ]
  },
  {
   "cell_type": "code",
   "execution_count": 20,
   "metadata": {},
   "outputs": [
    {
     "name": "stdout",
     "output_type": "stream",
     "text": [
      "PH\n",
      "0\n",
      "0\n",
      "apartment\n",
      "1\n",
      "0\n",
      "3\n",
      "2\n",
      "4\n",
      "4\n",
      "3\n",
      "2\n",
      "1\n",
      "2\n",
      "4\n",
      "4\n",
      "3\n",
      "3\n",
      "2\n",
      "1\n",
      "0\n",
      "5\n",
      "4\n",
      "5\n",
      "5\n",
      "4\n",
      "3\n",
      "2\n",
      "4\n",
      "3\n",
      "5\n",
      "4\n",
      "5\n",
      "4\n",
      "3\n",
      "2\n",
      "1\n",
      "3\n",
      "4\n",
      "3\n",
      "2\n",
      "5\n",
      "4\n",
      "5\n",
      "5\n",
      "4\n",
      "3\n",
      "5\n",
      "4\n",
      "4\n",
      "3\n",
      "2\n",
      "1\n",
      "0\n",
      "4\n",
      "4\n",
      "3\n",
      "2\n",
      "3\n",
      "4\n",
      "4\n",
      "3\n",
      "2\n",
      "1\n",
      "4\n",
      "3\n",
      "2\n",
      "4\n",
      "4\n",
      "3\n",
      "3\n",
      "2\n",
      "1\n",
      "0\n",
      "4\n",
      "3\n",
      "2\n",
      "3\n",
      "4\n",
      "4\n",
      "3\n",
      "2\n",
      "1\n",
      "4\n",
      "3\n",
      "2\n",
      "4\n",
      "4\n",
      "3\n",
      "3\n",
      "2\n",
      "1\n",
      "0\n",
      "3\n",
      "2\n",
      "3\n",
      "2\n",
      "1\n",
      "2\n",
      "3\n",
      "2\n",
      "1\n",
      "0\n",
      "3\n",
      "2\n",
      "3\n",
      "2\n",
      "1\n",
      "2\n",
      "2\n",
      "1\n",
      "0\n",
      "3\n",
      "2\n",
      "1\n",
      "2\n",
      "1\n",
      "0\n",
      "2\n",
      "2\n",
      "1\n",
      "1\n",
      "0\n",
      "1\n",
      "0\n",
      "1\n",
      "0\n",
      "0\n",
      "1\n",
      "0\n",
      "0\n",
      "house\n",
      "0\n",
      "0\n",
      "0\n",
      "0\n",
      "1\n",
      "1\n",
      "0\n",
      "0\n",
      "0\n",
      "0\n",
      "0\n",
      "0\n",
      "1\n",
      "0\n",
      "1\n",
      "1\n",
      "0\n",
      "0\n",
      "0\n",
      "0\n",
      "0\n",
      "0\n",
      "store\n",
      "0\n"
     ]
    }
   ],
   "source": [
    "#Agrupo por superficie cada grupo\n",
    "grupos = {}\n",
    "for grupo in set_datos_agrupados.__iter__():\n",
    "    clave = grupo[0]\n",
    "    print(clave)\n",
    "    valor = grupo[1].groupby('superficie_actualizada')\n",
    "    diccionario = {}\n",
    "    for group in valor.__iter__():\n",
    "        sub_clave = group[0]\n",
    "        dataframe = group[1]\n",
    "        datos = Arbol_n_dimensiones(dataframe, ['lat','lon'], minimo_datos_en_hoja)\n",
    "        diccionario[sub_clave] = datos\n",
    "    grupos[clave] = diccionario"
   ]
  },
  {
   "cell_type": "code",
   "execution_count": 21,
   "metadata": {
    "collapsed": true
   },
   "outputs": [],
   "source": [
    "set_datos_agrupados = grupos"
   ]
  },
  {
   "cell_type": "markdown",
   "metadata": {},
   "source": [
    "#### Los datos quedan dic = {prop_type: {sup : arbol n dimensiones}}"
   ]
  },
  {
   "cell_type": "markdown",
   "metadata": {},
   "source": [
    "## Algoritmo de KNN"
   ]
  },
  {
   "cell_type": "code",
   "execution_count": 23,
   "metadata": {
    "collapsed": true
   },
   "outputs": [],
   "source": [
    "def calcular_distancias_para_knn(datos,prueba):\n",
    "    grupo = datos[prueba.property_type]\n",
    "    prueba_sup = redondear_superficie(prueba.superficie)\n",
    "    analizados = []\n",
    "    for sup in range(prueba_sup - 10, prueba_sup + 20, 10):  #Miro sup +- 10\n",
    "        try:\n",
    "            a_analizar = grupo[sup].obtener_dataframe(prueba) #Lo busco en el arbol\n",
    "            for i in range(len(a_analizar)):\n",
    "                distancia = calcular_distancia(a_analizar.lat[i],a_analizar.lon[i],prueba.lat,prueba.lon)\n",
    "                analizados.append((distancia,a_analizar.price_aprox_usd[i]))\n",
    "        except:\n",
    "            #Si no hay ninguna propiedad con superficie sup\n",
    "            continue\n",
    "    return analizados"
   ]
  },
  {
   "cell_type": "code",
   "execution_count": 24,
   "metadata": {
    "collapsed": true
   },
   "outputs": [],
   "source": [
    "def knn(datos,pruebas,k):\n",
    "    for i in range(len(pruebas)):\n",
    "        distancias = calcular_distancias_para_knn(datos,pruebas.iloc[i])\n",
    "        resultado = obtener_promedio_k_minimos(distancias,k)\n",
    "        pruebas.resultado[i] = resultado\n",
    "        pruebas.cantidad_analizados[i] = len(distancias)\n",
    "    return pruebas"
   ]
  },
  {
   "cell_type": "code",
   "execution_count": 25,
   "metadata": {
    "collapsed": true
   },
   "outputs": [],
   "source": [
    "def knn_con_precision(datos,pruebas,lista_k): #Para buscar el mejor K de una lista\n",
    "    resultados = {}\n",
    "    for i in range(len(pruebas)):\n",
    "        distancias = calcular_distancias_para_knn(datos,pruebas.iloc[i])\n",
    "        resultados = obtener_promedio_k_minimos(resultados,pruebas.price_aprox_usd[i],distancias,lista_k)\n",
    "    return resultados"
   ]
  },
  {
   "cell_type": "code",
   "execution_count": 31,
   "metadata": {
    "collapsed": true
   },
   "outputs": [],
   "source": [
    "def obtener_promedio_k_minimos(resultados,real,distancias,lista_k):\n",
    "    distancias.sort()\n",
    "    for k in lista_k:\n",
    "        k2 = min(k,len(distancias))\n",
    "        a_analizar = distancias[:k2]\n",
    "        suma = 0\n",
    "        total = 0\n",
    "        for x in range(len(a_analizar)):\n",
    "            suma += a_analizar[x][1]\n",
    "            total += 1\n",
    "        if total != 0:\n",
    "            res = suma / total\n",
    "        else:\n",
    "            res = 0\n",
    "        lista = resultados.get(k,[])\n",
    "        lista.append((real,res))\n",
    "        resultados[k] = lista\n",
    "    return resultados"
   ]
  },
  {
   "cell_type": "code",
   "execution_count": 27,
   "metadata": {
    "collapsed": true
   },
   "outputs": [],
   "source": [
    "def calcular_precision(resultados):\n",
    "    res = {}\n",
    "    for k in resultados.keys():\n",
    "        suma = 0\n",
    "        total = 0\n",
    "        lista = resultados[k]\n",
    "        for tupla in lista:\n",
    "            suma += calcular_resultado(tupla[0],tupla[1])\n",
    "            total += 1\n",
    "        res[k] = round(suma*100 / total,2)\n",
    "    return res"
   ]
  },
  {
   "cell_type": "code",
   "execution_count": 28,
   "metadata": {
    "collapsed": true
   },
   "outputs": [],
   "source": [
    "def calcular_resultado(real,calculado):\n",
    "    porcentaje = 0.025\n",
    "    if abs(real - calculado) <= real * porcentaje:\n",
    "        return 1\n",
    "    return 0"
   ]
  },
  {
   "cell_type": "markdown",
   "metadata": {},
   "source": [
    "## Busqueda del hiperparametro K"
   ]
  },
  {
   "cell_type": "markdown",
   "metadata": {},
   "source": [
    "##### Empezamos con algunos k salteados"
   ]
  },
  {
   "cell_type": "code",
   "execution_count": 33,
   "metadata": {},
   "outputs": [
    {
     "name": "stdout",
     "output_type": "stream",
     "text": [
      "Inicio: (16:07:18) Final: (16:07:24)\n",
      "\n",
      "Para k = 5 la precision es 20.0%\n",
      "Para k = 10 la precision es 8.0%\n",
      "Para k = 20 la precision es 0.0%\n",
      "Para k = 30 la precision es 4.0%\n",
      "Para k = 50 la precision es 0.0%\n",
      "Para k = 100 la precision es 0.0%\n",
      "Para k = 200 la precision es 0.0%\n",
      "Para k = 350 la precision es 4.0%\n",
      "Para k = 500 la precision es 4.0%\n",
      "Para k = 750 la precision es 4.0%\n",
      "Para k = 1000 la precision es 0.0%\n"
     ]
    }
   ],
   "source": [
    "lista_k = [5,10,20,30,50,100,200,350,500,750,1000]\n",
    "\n",
    "inicio = time.strftime(\"%H:%M:%S\")\n",
    "pruebas = knn_con_precision(set_datos_agrupados,set_pruebas,lista_k)\n",
    "precision = calcular_precision(pruebas)\n",
    "print(\"Inicio: ({}) Final: ({})\\n\".format(inicio,time.strftime(\"%H:%M:%S\")))\n",
    "for k in lista_k:\n",
    "    print(\"Para k = {} la precision es {}%\".format(k,precision[k]))\n"
   ]
  }
 ],
 "metadata": {
  "kernelspec": {
   "display_name": "Python 3",
   "language": "python",
   "name": "python3"
  },
  "language_info": {
   "codemirror_mode": {
    "name": "ipython",
    "version": 3
   },
   "file_extension": ".py",
   "mimetype": "text/x-python",
   "name": "python",
   "nbconvert_exporter": "python",
   "pygments_lexer": "ipython3",
   "version": "3.6.1"
  }
 },
 "nbformat": 4,
 "nbformat_minor": 2
}
