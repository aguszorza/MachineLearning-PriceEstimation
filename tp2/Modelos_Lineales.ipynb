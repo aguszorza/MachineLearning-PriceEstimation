{
 "cells": [
  {
   "cell_type": "code",
   "execution_count": 1,
   "metadata": {
    "collapsed": true
   },
   "outputs": [],
   "source": [
    "import pandas as pd\n",
    "import numpy as np\n",
    "from sklearn.metrics import mean_squared_error\n",
    "from sklearn.linear_model import Ridge\n",
    "from sklearn.linear_model import SGDRegressor\n",
    "from sklearn.linear_model import Lasso\n",
    "from sklearn.linear_model import OrthogonalMatchingPursuit\n",
    "from sklearn.linear_model import ElasticNet\n",
    "\n",
    "import warnings\n",
    "warnings.simplefilter(\"ignore\", category=DeprecationWarning)"
   ]
  },
  {
   "cell_type": "code",
   "execution_count": 2,
   "metadata": {
    "collapsed": true
   },
   "outputs": [],
   "source": [
    "propiedades = pd.read_csv('/home/mati/Desktop/set_datos_propiedades.csv')"
   ]
  },
  {
   "cell_type": "code",
   "execution_count": 3,
   "metadata": {
    "collapsed": true
   },
   "outputs": [],
   "source": [
    "propiedades = propiedades.loc[(propiedades.price_aprox_usd.notnull()) & (propiedades.superficie.notnull()),\\\n",
    "                             ['place_name_encoded', 'property_type_encoded','price_aprox_usd','superficie',\\\n",
    "                             'Year','Month','seguridad','aire','gimnasio','cochera','pileta']]"
   ]
  },
  {
   "cell_type": "code",
   "execution_count": 4,
   "metadata": {},
   "outputs": [
    {
     "name": "stdout",
     "output_type": "stream",
     "text": [
      "<class 'pandas.core.frame.DataFrame'>\n",
      "Int64Index: 1132495 entries, 0 to 1413024\n",
      "Data columns (total 11 columns):\n",
      "place_name_encoded       1132495 non-null int64\n",
      "property_type_encoded    1132495 non-null int64\n",
      "price_aprox_usd          1132495 non-null float64\n",
      "superficie               1132495 non-null float64\n",
      "Year                     1132495 non-null int64\n",
      "Month                    1132495 non-null int64\n",
      "seguridad                1132495 non-null bool\n",
      "aire                     1132495 non-null bool\n",
      "gimnasio                 1132495 non-null bool\n",
      "cochera                  1132495 non-null bool\n",
      "pileta                   1132495 non-null bool\n",
      "dtypes: bool(5), float64(2), int64(4)\n",
      "memory usage: 65.9 MB\n"
     ]
    }
   ],
   "source": [
    "propiedades.info()"
   ]
  },
  {
   "cell_type": "markdown",
   "metadata": {},
   "source": [
    "# Preparo sets de pruebas y entrenamiento"
   ]
  },
  {
   "cell_type": "code",
   "execution_count": 5,
   "metadata": {
    "collapsed": true
   },
   "outputs": [],
   "source": [
    "columnas = ['superficie','place_name_encoded','property_type_encoded','seguridad','gimnasio', 'aire', 'pileta', 'cochera']\n",
    "columnas_precio = columnas + ['price_aprox_usd']"
   ]
  },
  {
   "cell_type": "code",
   "execution_count": 6,
   "metadata": {
    "collapsed": true
   },
   "outputs": [],
   "source": [
    "set_entrenamiento = propiedades.loc[(propiedades.Year >= 2016) &((propiedades.Year < 2017) | (propiedades.Month < 6))\\\n",
    "                                    ,columnas_precio]\n",
    "set_pruebas = propiedades.loc[(propiedades.Year == 2017) & (propiedades.Month == 6),columnas_precio].head(20000)\n",
    "\n",
    "set_entrenamiento_datos = set_entrenamiento.loc[:,columnas]\n",
    "set_entrenamiento_resultado = set_entrenamiento.loc[:,'price_aprox_usd']"
   ]
  },
  {
   "cell_type": "markdown",
   "metadata": {},
   "source": [
    "# Ridge"
   ]
  },
  {
   "cell_type": "code",
   "execution_count": 7,
   "metadata": {},
   "outputs": [
    {
     "name": "stdout",
     "output_type": "stream",
     "text": [
      "Precision = 13.72 % , error = 119029840814.70277\n"
     ]
    }
   ],
   "source": [
    "ridge = Ridge()\n",
    "ridge.fit(set_entrenamiento_datos,set_entrenamiento_resultado)\n",
    "set_pruebas.loc[:,'resultado'] = set_pruebas.loc[:,columnas].apply(lambda x: ridge.predict(x)[0],axis = 1)\n",
    "precision = ridge.score(set_pruebas.loc[:,columnas],set_pruebas.price_aprox_usd) * 100\n",
    "error = mean_squared_error(set_pruebas.price_aprox_usd,set_pruebas.resultado)\n",
    "print(\"Precision = {:.2f} % , error = {}\".format(precision, error))"
   ]
  },
  {
   "cell_type": "markdown",
   "metadata": {},
   "source": [
    "# Stochastic Gradient Descent"
   ]
  },
  {
   "cell_type": "code",
   "execution_count": 8,
   "metadata": {},
   "outputs": [
    {
     "name": "stdout",
     "output_type": "stream",
     "text": [
      "Precision = -20536964343701903285413975425024.00 % , error = 2.833283638826254e+40\n"
     ]
    }
   ],
   "source": [
    "sgd = SGDRegressor()\n",
    "sgd.fit(set_entrenamiento_datos,set_entrenamiento_resultado)\n",
    "set_pruebas.loc[:,'resultado'] = set_pruebas.loc[:,columnas].apply(lambda x: sgd.predict(x)[0],axis = 1)\n",
    "precision = sgd.score(set_pruebas.loc[:,columnas],set_pruebas.price_aprox_usd) * 100\n",
    "error = mean_squared_error(set_pruebas.price_aprox_usd,set_pruebas.resultado)\n",
    "print(\"Precision = {:.2f} % , error = {}\".format(precision, error))"
   ]
  },
  {
   "cell_type": "markdown",
   "metadata": {},
   "source": [
    "# Lasso"
   ]
  },
  {
   "cell_type": "code",
   "execution_count": 9,
   "metadata": {},
   "outputs": [
    {
     "name": "stdout",
     "output_type": "stream",
     "text": [
      "Precision = 13.72 % , error = 119029972821.81348\n"
     ]
    }
   ],
   "source": [
    "lasso = Lasso()\n",
    "lasso.fit(set_entrenamiento_datos,set_entrenamiento_resultado)\n",
    "set_pruebas.loc[:,'resultado'] = set_pruebas.loc[:,columnas].apply(lambda x: lasso.predict(x)[0],axis = 1)\n",
    "precision = lasso.score(set_pruebas.loc[:,columnas],set_pruebas.price_aprox_usd) * 100\n",
    "error = mean_squared_error(set_pruebas.price_aprox_usd,set_pruebas.resultado)\n",
    "print(\"Precision = {:.2f} % , error = {}\".format(precision, error))"
   ]
  },
  {
   "cell_type": "markdown",
   "metadata": {},
   "source": [
    "# Orthogonal Matching Pursuit model (OMP)"
   ]
  },
  {
   "cell_type": "code",
   "execution_count": 10,
   "metadata": {},
   "outputs": [
    {
     "name": "stdout",
     "output_type": "stream",
     "text": [
      "Precision = 8.04 % , error = 126866601834.1137\n"
     ]
    }
   ],
   "source": [
    "omp = OrthogonalMatchingPursuit()\n",
    "omp.fit(set_entrenamiento_datos,set_entrenamiento_resultado)\n",
    "set_pruebas.loc[:,'resultado'] = set_pruebas.loc[:,columnas].apply(lambda x: omp.predict(x)[0],axis = 1)\n",
    "precision = omp.score(set_pruebas.loc[:,columnas],set_pruebas.price_aprox_usd) * 100\n",
    "error = mean_squared_error(set_pruebas.price_aprox_usd,set_pruebas.resultado)\n",
    "print(\"Precision = {:.2f} % , error = {}\".format(precision, error))"
   ]
  },
  {
   "cell_type": "markdown",
   "metadata": {},
   "source": [
    "# Elastic Net"
   ]
  },
  {
   "cell_type": "code",
   "execution_count": 11,
   "metadata": {},
   "outputs": [
    {
     "name": "stdout",
     "output_type": "stream",
     "text": [
      "Precision = 8.50 % , error = 126237082307.53525\n"
     ]
    }
   ],
   "source": [
    "net = ElasticNet()\n",
    "net.fit(set_entrenamiento_datos,set_entrenamiento_resultado)\n",
    "set_pruebas.loc[:,'resultado'] = set_pruebas.loc[:,columnas].apply(lambda x: net.predict(x)[0],axis = 1)\n",
    "precision = net.score(set_pruebas.loc[:,columnas],set_pruebas.price_aprox_usd) * 100\n",
    "error = mean_squared_error(set_pruebas.price_aprox_usd,set_pruebas.resultado)\n",
    "print(\"Precision = {:.2f} % , error = {}\".format(precision, error))"
   ]
  },
  {
   "cell_type": "code",
   "execution_count": null,
   "metadata": {
    "collapsed": true
   },
   "outputs": [],
   "source": []
  },
  {
   "cell_type": "markdown",
   "metadata": {},
   "source": [
    "# Con lat y lon"
   ]
  },
  {
   "cell_type": "code",
   "execution_count": 4,
   "metadata": {
    "collapsed": true
   },
   "outputs": [],
   "source": [
    "propiedades = propiedades.loc[(propiedades.price_aprox_usd.notnull()) & (propiedades.superficie.notnull())\\\n",
    "                              & (propiedades.lat.notnull()) & (propiedades.lon.notnull()),\\\n",
    "                             ['lat', 'lon', 'property_type_encoded','price_aprox_usd','superficie',\\\n",
    "                             'Year','Month','seguridad','aire','gimnasio','cochera','pileta']]"
   ]
  },
  {
   "cell_type": "code",
   "execution_count": 5,
   "metadata": {
    "collapsed": true
   },
   "outputs": [],
   "source": [
    "columnas = ['superficie','lat','lon','property_type_encoded','seguridad','gimnasio', 'aire', 'pileta', 'cochera']\n",
    "columnas_precio = columnas + ['price_aprox_usd']"
   ]
  },
  {
   "cell_type": "code",
   "execution_count": 6,
   "metadata": {
    "collapsed": true
   },
   "outputs": [],
   "source": [
    "set_entrenamiento = propiedades.loc[(propiedades.Year >= 2016) &((propiedades.Year < 2017) | (propiedades.Month < 6))\\\n",
    "                                    ,columnas_precio]\n",
    "set_pruebas = propiedades.loc[(propiedades.Year == 2017) & (propiedades.Month == 6),columnas_precio].head(20000)\n",
    "\n",
    "set_entrenamiento_datos = set_entrenamiento.loc[:,columnas]\n",
    "set_entrenamiento_resultado = set_entrenamiento.loc[:,'price_aprox_usd']"
   ]
  },
  {
   "cell_type": "markdown",
   "metadata": {},
   "source": [
    "# Ridge"
   ]
  },
  {
   "cell_type": "code",
   "execution_count": 7,
   "metadata": {},
   "outputs": [
    {
     "name": "stdout",
     "output_type": "stream",
     "text": [
      "Precision = 10.43 % , error = 103708124039.7881\n"
     ]
    }
   ],
   "source": [
    "ridge = Ridge()\n",
    "ridge.fit(set_entrenamiento_datos,set_entrenamiento_resultado)\n",
    "set_pruebas.loc[:,'resultado'] = set_pruebas.loc[:,columnas].apply(lambda x: ridge.predict(x)[0],axis = 1)\n",
    "precision = ridge.score(set_pruebas.loc[:,columnas],set_pruebas.price_aprox_usd) * 100\n",
    "error = mean_squared_error(set_pruebas.price_aprox_usd,set_pruebas.resultado)\n",
    "print(\"Precision = {:.2f} % , error = {}\".format(precision, error))"
   ]
  },
  {
   "cell_type": "markdown",
   "metadata": {},
   "source": [
    "# Stochastic Gradient Descent"
   ]
  },
  {
   "cell_type": "code",
   "execution_count": 8,
   "metadata": {},
   "outputs": [
    {
     "name": "stdout",
     "output_type": "stream",
     "text": [
      "Precision = -177643396577753506187733689696256.00 % , error = 2.056824769235825e+41\n"
     ]
    }
   ],
   "source": [
    "sgd = SGDRegressor()\n",
    "sgd.fit(set_entrenamiento_datos,set_entrenamiento_resultado)\n",
    "set_pruebas.loc[:,'resultado'] = set_pruebas.loc[:,columnas].apply(lambda x: sgd.predict(x)[0],axis = 1)\n",
    "precision = sgd.score(set_pruebas.loc[:,columnas],set_pruebas.price_aprox_usd) * 100\n",
    "error = mean_squared_error(set_pruebas.price_aprox_usd,set_pruebas.resultado)\n",
    "print(\"Precision = {:.2f} % , error = {}\".format(precision, error))"
   ]
  },
  {
   "cell_type": "markdown",
   "metadata": {},
   "source": [
    "# Lasso"
   ]
  },
  {
   "cell_type": "code",
   "execution_count": 9,
   "metadata": {},
   "outputs": [
    {
     "name": "stdout",
     "output_type": "stream",
     "text": [
      "Precision = 10.43 % , error = 103708202835.3026\n"
     ]
    }
   ],
   "source": [
    "lasso = Lasso()\n",
    "lasso.fit(set_entrenamiento_datos,set_entrenamiento_resultado)\n",
    "set_pruebas.loc[:,'resultado'] = set_pruebas.loc[:,columnas].apply(lambda x: lasso.predict(x)[0],axis = 1)\n",
    "precision = lasso.score(set_pruebas.loc[:,columnas],set_pruebas.price_aprox_usd) * 100\n",
    "error = mean_squared_error(set_pruebas.price_aprox_usd,set_pruebas.resultado)\n",
    "print(\"Precision = {:.2f} % , error = {}\".format(precision, error))"
   ]
  },
  {
   "cell_type": "markdown",
   "metadata": {},
   "source": [
    "# Orthogonal Matching Pursuit model (OMP)"
   ]
  },
  {
   "cell_type": "code",
   "execution_count": 10,
   "metadata": {},
   "outputs": [
    {
     "name": "stdout",
     "output_type": "stream",
     "text": [
      "Precision = 5.13 % , error = 109845938967.9885\n"
     ]
    }
   ],
   "source": [
    "omp = OrthogonalMatchingPursuit()\n",
    "omp.fit(set_entrenamiento_datos,set_entrenamiento_resultado)\n",
    "set_pruebas.loc[:,'resultado'] = set_pruebas.loc[:,columnas].apply(lambda x: omp.predict(x)[0],axis = 1)\n",
    "precision = omp.score(set_pruebas.loc[:,columnas],set_pruebas.price_aprox_usd) * 100\n",
    "error = mean_squared_error(set_pruebas.price_aprox_usd,set_pruebas.resultado)\n",
    "print(\"Precision = {:.2f} % , error = {}\".format(precision, error))"
   ]
  },
  {
   "cell_type": "markdown",
   "metadata": {},
   "source": [
    "# Elastic Net"
   ]
  },
  {
   "cell_type": "code",
   "execution_count": 11,
   "metadata": {},
   "outputs": [
    {
     "name": "stdout",
     "output_type": "stream",
     "text": [
      "Precision = 6.73 % , error = 107995269580.30302\n"
     ]
    }
   ],
   "source": [
    "net = ElasticNet()\n",
    "net.fit(set_entrenamiento_datos,set_entrenamiento_resultado)\n",
    "set_pruebas.loc[:,'resultado'] = set_pruebas.loc[:,columnas].apply(lambda x: net.predict(x)[0],axis = 1)\n",
    "precision = net.score(set_pruebas.loc[:,columnas],set_pruebas.price_aprox_usd) * 100\n",
    "error = mean_squared_error(set_pruebas.price_aprox_usd,set_pruebas.resultado)\n",
    "print(\"Precision = {:.2f} % , error = {}\".format(precision, error))"
   ]
  },
  {
   "cell_type": "code",
   "execution_count": null,
   "metadata": {
    "collapsed": true
   },
   "outputs": [],
   "source": []
  },
  {
   "cell_type": "markdown",
   "metadata": {},
   "source": [
    "## Luego de probar 5 algoritmos lineales, en todos obtuvimos muy malos resultados.\n",
    "## Por lo tanto concluimos que este problema no puede resolverse linealmente.\n",
    "\n",
    "## No vamos a predecir los precios con estos algoritmos."
   ]
  }
 ],
 "metadata": {
  "kernelspec": {
   "display_name": "Python 3",
   "language": "python",
   "name": "python3"
  },
  "language_info": {
   "codemirror_mode": {
    "name": "ipython",
    "version": 3
   },
   "file_extension": ".py",
   "mimetype": "text/x-python",
   "name": "python",
   "nbconvert_exporter": "python",
   "pygments_lexer": "ipython3",
   "version": "3.6.1"
  }
 },
 "nbformat": 4,
 "nbformat_minor": 2
}
