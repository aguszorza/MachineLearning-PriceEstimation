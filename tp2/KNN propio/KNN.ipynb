{
 "cells": [
  {
   "cell_type": "code",
   "execution_count": 1,
   "metadata": {
    "collapsed": true
   },
   "outputs": [],
   "source": [
    "import pandas as pd\n",
    "import numpy as np\n",
    "from math import radians, sin, cos, asin, sqrt, pi, atan, atan2, fabs\n",
    "import time\n",
    "from arbol_n_dimensiones import Arbol_n_dimensiones"
   ]
  },
  {
   "cell_type": "code",
   "execution_count": 2,
   "metadata": {
    "collapsed": true
   },
   "outputs": [],
   "source": [
    "def calcular_distancia(lat1,long1,lat2,long2):\n",
    "    lon1, lat1 = (radians(coord) for coord in (long1,lat1))\n",
    "    lon2, lat2 = (radians(coord) for coord in (long2,lat2))\n",
    "    dlat = (lat2 - lat1)\n",
    "    dlon = (lon2 - lon1)\n",
    "    a = (\n",
    "        sin(dlat * 0.5)**2 +\n",
    "        cos(lat1) * cos(lat2) * sin(dlon * 0.5)**2\n",
    "    )\n",
    "    \n",
    "    radioTierra = 6371008.8\n",
    "    return 2 * radioTierra * asin(sqrt(a)) #lo dejo en metros\n",
    "\n",
    "#distancia de Haversine\n",
    "#https://gist.github.com/habibutsu/8bbcc202a915e965c6a6d4f561d0e482"
   ]
  },
  {
   "cell_type": "code",
   "execution_count": 3,
   "metadata": {
    "collapsed": true
   },
   "outputs": [],
   "source": [
    "propiedades = pd.read_csv('/home/mati/Desktop/properati.csv')\n",
    "#propiedades = pd.read_csv('/home/agustin/Escritorio/escritorio/fiuba/Organizacion de datos/properati.csv')"
   ]
  },
  {
   "cell_type": "code",
   "execution_count": 4,
   "metadata": {
    "collapsed": true
   },
   "outputs": [],
   "source": [
    "propiedades = propiedades.loc[propiedades.Year >= 2017,:]"
   ]
  },
  {
   "cell_type": "code",
   "execution_count": 5,
   "metadata": {},
   "outputs": [
    {
     "name": "stdout",
     "output_type": "stream",
     "text": [
      "<class 'pandas.core.frame.DataFrame'>\n",
      "Int64Index: 294660 entries, 1988104 to 2455308\n",
      "Data columns (total 23 columns):\n",
      "created_on                    294660 non-null object\n",
      "currency                      293968 non-null object\n",
      "expenses                      41414 non-null float64\n",
      "fecha_de_publicacion          294660 non-null object\n",
      "floor                         36468 non-null float64\n",
      "lat                           294660 non-null float64\n",
      "lon                           294660 non-null float64\n",
      "place_name                    294596 non-null object\n",
      "place_with_parent_names       294660 non-null object\n",
      "price                         294660 non-null float64\n",
      "price_aprox_local_currency    294660 non-null float64\n",
      "price_aprox_usd               294660 non-null float64\n",
      "price_per_m2                  282871 non-null float64\n",
      "price_usd_per_m2              294660 non-null float64\n",
      "property_type                 294660 non-null object\n",
      "rooms                         198414 non-null float64\n",
      "state_name                    294660 non-null object\n",
      "superficie                    294660 non-null float64\n",
      "Year                          294660 non-null int64\n",
      "Month                         294660 non-null int64\n",
      "Year_created                  294660 non-null int64\n",
      "Month_created                 294660 non-null int64\n",
      "cantidad_meses_publicado      294660 non-null int64\n",
      "dtypes: float64(11), int64(5), object(7)\n",
      "memory usage: 54.0+ MB\n"
     ]
    }
   ],
   "source": [
    "propiedades = propiedades.loc[(propiedades.lat.notnull()) & (propiedades.lon.notnull()) &\\\n",
    "                             (propiedades.superficie.notnull()) & (propiedades.price_aprox_usd.notnull()),:]\n",
    "propiedades.info()"
   ]
  },
  {
   "cell_type": "markdown",
   "metadata": {},
   "source": [
    "## Tomo como set de prueba las publicaciones de junio 2017"
   ]
  },
  {
   "cell_type": "code",
   "execution_count": 6,
   "metadata": {
    "collapsed": true
   },
   "outputs": [],
   "source": [
    "set_pruebas = propiedades.loc[(propiedades.Year == 2017) & (propiedades.Month == 6),:].reset_index()\n",
    "set_datos = propiedades.loc[(propiedades.Year != 2017) | (propiedades.Month < 6),:].reset_index()"
   ]
  },
  {
   "cell_type": "code",
   "execution_count": 7,
   "metadata": {},
   "outputs": [
    {
     "name": "stdout",
     "output_type": "stream",
     "text": [
      "<class 'pandas.core.frame.DataFrame'>\n",
      "RangeIndex: 14166 entries, 0 to 14165\n",
      "Data columns (total 5 columns):\n",
      "property_type      14166 non-null object\n",
      "lat                14166 non-null float64\n",
      "lon                14166 non-null float64\n",
      "superficie         14166 non-null float64\n",
      "price_aprox_usd    14166 non-null float64\n",
      "dtypes: float64(4), object(1)\n",
      "memory usage: 553.4+ KB\n"
     ]
    }
   ],
   "source": [
    "set_pruebas = set_pruebas.sample(14166).reset_index()\n",
    "set_pruebas = set_pruebas.loc[:,['property_type','lat','lon','superficie','price_aprox_usd']]\n",
    "set_pruebas.info()"
   ]
  },
  {
   "cell_type": "code",
   "execution_count": 8,
   "metadata": {},
   "outputs": [
    {
     "name": "stdout",
     "output_type": "stream",
     "text": [
      "<class 'pandas.core.frame.DataFrame'>\n",
      "RangeIndex: 232005 entries, 0 to 232004\n",
      "Data columns (total 5 columns):\n",
      "property_type      232005 non-null object\n",
      "lat                232005 non-null float64\n",
      "lon                232005 non-null float64\n",
      "superficie         232005 non-null float64\n",
      "price_aprox_usd    232005 non-null float64\n",
      "dtypes: float64(4), object(1)\n",
      "memory usage: 8.9+ MB\n"
     ]
    }
   ],
   "source": [
    "set_datos = set_datos.loc[:,['property_type','lat','lon','superficie','price_aprox_usd']]\n",
    "set_datos.info()"
   ]
  },
  {
   "cell_type": "markdown",
   "metadata": {},
   "source": [
    "### Agrupo por tipo de propiedad y luego por superficie, serian los lideres de knn"
   ]
  },
  {
   "cell_type": "code",
   "execution_count": 65,
   "metadata": {
    "collapsed": true
   },
   "outputs": [],
   "source": [
    "def redondear_superficie(superficie):\n",
    "    \"\"\"Convierto la superficie a un multiplo de 10\"\"\"\n",
    "    superficie /= 10\n",
    "    superficie = round(superficie) #lo hago entero\n",
    "    superficie *= 10\n",
    "    return int(superficie)"
   ]
  },
  {
   "cell_type": "code",
   "execution_count": 10,
   "metadata": {},
   "outputs": [
    {
     "data": {
      "text/html": [
       "<div>\n",
       "<style>\n",
       "    .dataframe thead tr:only-child th {\n",
       "        text-align: right;\n",
       "    }\n",
       "\n",
       "    .dataframe thead th {\n",
       "        text-align: left;\n",
       "    }\n",
       "\n",
       "    .dataframe tbody tr th {\n",
       "        vertical-align: top;\n",
       "    }\n",
       "</style>\n",
       "<table border=\"1\" class=\"dataframe\">\n",
       "  <thead>\n",
       "    <tr style=\"text-align: right;\">\n",
       "      <th></th>\n",
       "      <th>property_type</th>\n",
       "      <th>lat</th>\n",
       "      <th>lon</th>\n",
       "      <th>superficie</th>\n",
       "      <th>price_aprox_usd</th>\n",
       "      <th>superficie_actualizada</th>\n",
       "    </tr>\n",
       "  </thead>\n",
       "  <tbody>\n",
       "    <tr>\n",
       "      <th>0</th>\n",
       "      <td>house</td>\n",
       "      <td>-34.490998</td>\n",
       "      <td>-58.76748</td>\n",
       "      <td>300.0</td>\n",
       "      <td>110000.0</td>\n",
       "      <td>300</td>\n",
       "    </tr>\n",
       "    <tr>\n",
       "      <th>1</th>\n",
       "      <td>apartment</td>\n",
       "      <td>-34.587785</td>\n",
       "      <td>-58.38658</td>\n",
       "      <td>162.0</td>\n",
       "      <td>645000.0</td>\n",
       "      <td>160</td>\n",
       "    </tr>\n",
       "  </tbody>\n",
       "</table>\n",
       "</div>"
      ],
      "text/plain": [
       "  property_type        lat       lon  superficie  price_aprox_usd  \\\n",
       "0         house -34.490998 -58.76748       300.0         110000.0   \n",
       "1     apartment -34.587785 -58.38658       162.0         645000.0   \n",
       "\n",
       "   superficie_actualizada  \n",
       "0                     300  \n",
       "1                     160  "
      ]
     },
     "execution_count": 10,
     "metadata": {},
     "output_type": "execute_result"
    }
   ],
   "source": [
    "set_datos.loc[:,'superficie_actualizada'] = set_datos.loc[:,'superficie'].apply(redondear_superficie)\n",
    "set_datos.head(2)"
   ]
  },
  {
   "cell_type": "code",
   "execution_count": 11,
   "metadata": {
    "collapsed": true
   },
   "outputs": [],
   "source": [
    "set_datos_agrupados = set_datos.groupby('property_type')"
   ]
  },
  {
   "cell_type": "code",
   "execution_count": 12,
   "metadata": {
    "collapsed": true
   },
   "outputs": [],
   "source": [
    "minimo_datos_en_hoja = 2000"
   ]
  },
  {
   "cell_type": "code",
   "execution_count": 14,
   "metadata": {},
   "outputs": [
    {
     "name": "stdout",
     "output_type": "stream",
     "text": [
      "PH\n",
      "apartment\n",
      "house\n",
      "store\n"
     ]
    }
   ],
   "source": [
    "#Agrupo por superficie cada grupo\n",
    "grupos = {}\n",
    "for grupo in set_datos_agrupados.__iter__():\n",
    "    clave = grupo[0]\n",
    "    print(clave)\n",
    "    valor = grupo[1].groupby('superficie_actualizada')\n",
    "    diccionario = {}\n",
    "    for group in valor.__iter__():\n",
    "        sub_clave = group[0]\n",
    "        dataframe = group[1]\n",
    "        datos = Arbol_n_dimensiones(dataframe, ['lat','lon'], minimo_datos_en_hoja)\n",
    "        diccionario[sub_clave] = datos\n",
    "    grupos[clave] = diccionario\n",
    "\n",
    "set_datos_agrupados = grupos"
   ]
  },
  {
   "cell_type": "markdown",
   "metadata": {},
   "source": [
    "#### Los datos quedan dic = {prop_type: {sup : arbol n dimensiones}}"
   ]
  },
  {
   "cell_type": "markdown",
   "metadata": {},
   "source": [
    "## Algoritmo de KNN"
   ]
  },
  {
   "cell_type": "code",
   "execution_count": 5,
   "metadata": {
    "collapsed": true
   },
   "outputs": [],
   "source": [
    "def calcular_distancias_para_knn(datos,prueba):\n",
    "    grupo = datos[prueba.property_type]\n",
    "    prueba_sup = redondear_superficie(prueba.superficie)\n",
    "    analizados = []\n",
    "    for sup in range(prueba_sup - 10, prueba_sup + 20, 10):  #Miro sup +- 10\n",
    "        try:\n",
    "            a_analizar = grupo[sup].obtener_dataframe(prueba) #Lo busco en el arbol\n",
    "            for i in range(len(a_analizar)):\n",
    "                distancia = calcular_distancia(a_analizar.lat[i],a_analizar.lon[i],prueba.lat,prueba.lon)\n",
    "                analizados.append((distancia,a_analizar.price_aprox_usd[i]))\n",
    "        except:\n",
    "            #Si no hay ninguna propiedad con superficie sup\n",
    "            continue\n",
    "    return analizados"
   ]
  },
  {
   "cell_type": "code",
   "execution_count": 6,
   "metadata": {
    "collapsed": true
   },
   "outputs": [],
   "source": [
    "def knn_con_precision(datos,pruebas,lista_k): #Para buscar el mejor K de una lista\n",
    "    resultados = {}\n",
    "    for i in range(len(pruebas)):\n",
    "        distancias = calcular_distancias_para_knn(datos,pruebas.iloc[i])\n",
    "        resultados = obtener_promedio_k_minimos(resultados,pruebas.price_aprox_usd[i],distancias,lista_k)\n",
    "    return resultados"
   ]
  },
  {
   "cell_type": "code",
   "execution_count": 7,
   "metadata": {
    "collapsed": true
   },
   "outputs": [],
   "source": [
    "def obtener_promedio_k_minimos(resultados,real,distancias,lista_k):\n",
    "    distancias.sort()\n",
    "    for k in lista_k:\n",
    "        k2 = min(k,len(distancias))\n",
    "        a_analizar = distancias[:k2]\n",
    "        suma = 0\n",
    "        total = 0\n",
    "        for x in range(len(a_analizar)):\n",
    "            suma += a_analizar[x][1]\n",
    "            total += 1\n",
    "        if total != 0:\n",
    "            res = suma / total\n",
    "        else:\n",
    "            res = 0\n",
    "        lista = resultados.get(k,[])\n",
    "        lista.append((real,res))\n",
    "        resultados[k] = lista\n",
    "    return resultados"
   ]
  },
  {
   "cell_type": "code",
   "execution_count": 8,
   "metadata": {
    "collapsed": true
   },
   "outputs": [],
   "source": [
    "def calcular_precision(resultados):\n",
    "    res = {}\n",
    "    for k in resultados.keys():\n",
    "        suma = 0\n",
    "        total = 0\n",
    "        lista = resultados[k]\n",
    "        for tupla in lista:\n",
    "            suma += calcular_resultado(tupla[0],tupla[1])\n",
    "            total += 1\n",
    "        res[k] = round(suma*100 / total,2)\n",
    "    return res"
   ]
  },
  {
   "cell_type": "code",
   "execution_count": 9,
   "metadata": {
    "collapsed": true
   },
   "outputs": [],
   "source": [
    "def calcular_resultado(real,calculado):\n",
    "    porcentaje = 0.025\n",
    "    if abs(real - calculado) <= real * porcentaje:\n",
    "        return 1\n",
    "    return 0"
   ]
  },
  {
   "cell_type": "markdown",
   "metadata": {},
   "source": [
    "## Busqueda del hiperparametro K"
   ]
  },
  {
   "cell_type": "markdown",
   "metadata": {},
   "source": [
    "##### Empezamos con algunos k salteados"
   ]
  },
  {
   "cell_type": "code",
   "execution_count": 36,
   "metadata": {},
   "outputs": [
    {
     "name": "stdout",
     "output_type": "stream",
     "text": [
      "Inicio: (20:18:27) Final: (22:16:45)\n",
      "\n",
      "Para k = 5 la precision es 13.38%\n",
      "Para k = 10 la precision es 5.39%\n",
      "Para k = 20 la precision es 3.8%\n",
      "Para k = 30 la precision es 3.48%\n",
      "Para k = 50 la precision es 3.19%\n",
      "Para k = 100 la precision es 2.9%\n",
      "Para k = 200 la precision es 2.56%\n",
      "Para k = 350 la precision es 2.39%\n",
      "Para k = 500 la precision es 2.33%\n",
      "Para k = 750 la precision es 2.39%\n",
      "Para k = 1000 la precision es 2.18%\n"
     ]
    }
   ],
   "source": [
    "lista_k = [5,10,20,30,50,100,200,350,500,750,1000]\n",
    "\n",
    "inicio = time.strftime(\"%H:%M:%S\")\n",
    "pruebas = knn_con_precision(set_datos_agrupados,set_pruebas,lista_k)\n",
    "precision = calcular_precision(pruebas)\n",
    "print(\"Inicio: ({}) Final: ({})\\n\".format(inicio,time.strftime(\"%H:%M:%S\")))\n",
    "for k in lista_k:\n",
    "    print(\"Para k = {} la precision es {}%\".format(k,precision[k]))\n"
   ]
  },
  {
   "cell_type": "markdown",
   "metadata": {},
   "source": [
    "### Se ve que la precision es mas alta para valores bajos de k\n",
    "##### Ajustamos la busqueda"
   ]
  },
  {
   "cell_type": "code",
   "execution_count": 21,
   "metadata": {},
   "outputs": [
    {
     "name": "stdout",
     "output_type": "stream",
     "text": [
      "Inicio: (09:42:17) Final: (11:41:23)\n",
      "\n",
      "Para k = 1 la precision es 26.54%\n",
      "Para k = 2 la precision es 20.27%\n",
      "Para k = 3 la precision es 18.6%\n",
      "Para k = 4 la precision es 16.05%\n",
      "Para k = 5 la precision es 13.38%\n",
      "Para k = 6 la precision es 10.68%\n",
      "Para k = 7 la precision es 8.0%\n",
      "Para k = 8 la precision es 6.86%\n",
      "Para k = 9 la precision es 6.08%\n",
      "Para k = 10 la precision es 5.39%\n",
      "Para k = 11 la precision es 5.11%\n",
      "Para k = 12 la precision es 4.81%\n",
      "Para k = 13 la precision es 4.47%\n",
      "Para k = 14 la precision es 4.38%\n",
      "Para k = 15 la precision es 4.22%\n",
      "Para k = 16 la precision es 4.21%\n",
      "Para k = 17 la precision es 3.97%\n",
      "Para k = 18 la precision es 3.97%\n",
      "Para k = 19 la precision es 3.8%\n",
      "Para k = 20 la precision es 3.73%\n",
      "Para k = 21 la precision es 3.67%\n",
      "Para k = 22 la precision es 3.56%\n",
      "Para k = 23 la precision es 3.54%\n",
      "Para k = 24 la precision es 3.41%\n",
      "Para k = 25 la precision es 3.4%\n",
      "Para k = 26 la precision es 3.32%\n",
      "Para k = 27 la precision es 3.29%\n",
      "Para k = 28 la precision es 3.28%\n",
      "Para k = 29 la precision es 3.29%\n",
      "Para k = 30 la precision es 3.28%\n",
      "Para k = 31 la precision es 3.19%\n",
      "Para k = 32 la precision es 3.2%\n",
      "Para k = 33 la precision es 3.2%\n",
      "Para k = 34 la precision es 3.08%\n",
      "Para k = 35 la precision es 3.08%\n",
      "Para k = 36 la precision es 3.04%\n",
      "Para k = 37 la precision es 3.05%\n",
      "Para k = 38 la precision es 3.06%\n",
      "Para k = 39 la precision es 3.18%\n",
      "Para k = 40 la precision es 3.07%\n",
      "Para k = 41 la precision es 3.06%\n",
      "Para k = 42 la precision es 2.97%\n",
      "Para k = 43 la precision es 3.15%\n",
      "Para k = 44 la precision es 3.17%\n",
      "Para k = 45 la precision es 3.16%\n",
      "Para k = 46 la precision es 3.23%\n",
      "Para k = 47 la precision es 3.28%\n",
      "Para k = 48 la precision es 3.3%\n",
      "Para k = 49 la precision es 3.25%\n"
     ]
    }
   ],
   "source": [
    "lista_k = list(range(1,50))\n",
    "\n",
    "inicio = time.strftime(\"%H:%M:%S\")\n",
    "pruebas = knn_con_precision(set_datos_agrupados,set_pruebas,lista_k)\n",
    "precision = calcular_precision(pruebas)\n",
    "print(\"Inicio: ({}) Final: ({})\\n\".format(inicio,time.strftime(\"%H:%M:%S\")))\n",
    "for k in lista_k:\n",
    "    print(\"Para k = {} la precision es {}%\".format(k,precision[k]))\n"
   ]
  },
  {
   "cell_type": "markdown",
   "metadata": {},
   "source": [
    "# -----------------------------------------------------------------------------------------\n",
    "# -----------------------------------------------------------------------------------------\n",
    "# -----------------------------------------------------------------------------------------\n",
    "## Tomamos el primer set de datos y calculamos el resultado de los pedidos\n",
    "## Usamos k = 2,3,4"
   ]
  },
  {
   "cell_type": "code",
   "execution_count": 4,
   "metadata": {
    "collapsed": true
   },
   "outputs": [],
   "source": [
    "propiedades = pd.read_csv('/home/mati/Desktop/properati.csv')\n",
    "#propiedades = pd.read_csv('/home/agustin/Escritorio/escritorio/fiuba/Organizacion de datos/properati.csv')"
   ]
  },
  {
   "cell_type": "code",
   "execution_count": 10,
   "metadata": {
    "collapsed": true
   },
   "outputs": [],
   "source": [
    "propiedades = propiedades.loc[propiedades.Year >= 2017,:]\n",
    "propiedades = propiedades.loc[(propiedades.lat.notnull()) & (propiedades.lon.notnull()) &\\\n",
    "                             (propiedades.superficie.notnull()) & (propiedades.price_aprox_usd.notnull()),:]\n",
    "set_datos = propiedades"
   ]
  },
  {
   "cell_type": "code",
   "execution_count": 13,
   "metadata": {},
   "outputs": [],
   "source": [
    "set_datos.loc[:,'superficie_actualizada'] = set_datos.loc[:,'superficie'].apply(redondear_superficie)\n",
    "set_datos_agrupados = set_datos.groupby('property_type')\n",
    "\n",
    "minimo_datos_en_hoja = 2000"
   ]
  },
  {
   "cell_type": "code",
   "execution_count": 14,
   "metadata": {},
   "outputs": [
    {
     "name": "stdout",
     "output_type": "stream",
     "text": [
      "PH\n",
      "apartment\n",
      "house\n",
      "store\n"
     ]
    }
   ],
   "source": [
    "#Agrupo por superficie cada grupo\n",
    "grupos = {}\n",
    "for grupo in set_datos_agrupados.__iter__():\n",
    "    clave = grupo[0]\n",
    "    print(clave)\n",
    "    valor = grupo[1].groupby('superficie_actualizada')\n",
    "    diccionario = {}\n",
    "    for group in valor.__iter__():\n",
    "        sub_clave = group[0]\n",
    "        dataframe = group[1]\n",
    "        datos = Arbol_n_dimensiones(dataframe, ['lat','lon'], minimo_datos_en_hoja)\n",
    "        diccionario[sub_clave] = datos\n",
    "    grupos[clave] = diccionario\n",
    "\n",
    "set_datos_agrupados = grupos"
   ]
  },
  {
   "cell_type": "markdown",
   "metadata": {},
   "source": [
    "## set a calcular"
   ]
  },
  {
   "cell_type": "code",
   "execution_count": 15,
   "metadata": {},
   "outputs": [
    {
     "name": "stdout",
     "output_type": "stream",
     "text": [
      "<class 'pandas.core.frame.DataFrame'>\n",
      "RangeIndex: 14166 entries, 0 to 14165\n",
      "Data columns (total 17 columns):\n",
      "id                         14166 non-null int64\n",
      "created_on                 14166 non-null object\n",
      "property_type              14166 non-null object\n",
      "operation                  14166 non-null object\n",
      "place_name                 14166 non-null object\n",
      "place_with_parent_names    14166 non-null object\n",
      "country_name               14166 non-null object\n",
      "state_name                 14166 non-null object\n",
      "lat-lon                    10487 non-null object\n",
      "lat                        10487 non-null float64\n",
      "lon                        10487 non-null float64\n",
      "surface_total_in_m2        11853 non-null float64\n",
      "surface_covered_in_m2      13005 non-null float64\n",
      "floor                      1368 non-null float64\n",
      "rooms                      7500 non-null float64\n",
      "expenses                   2543 non-null object\n",
      "description                14166 non-null object\n",
      "dtypes: float64(6), int64(1), object(10)\n",
      "memory usage: 1.8+ MB\n"
     ]
    }
   ],
   "source": [
    "test = pd.read_csv('properati_dataset_testing_noprice.csv')\n",
    "test.info()"
   ]
  },
  {
   "cell_type": "code",
   "execution_count": 44,
   "metadata": {
    "collapsed": true
   },
   "outputs": [],
   "source": [
    "def obtener_promedio_por_zona_y_tipo(x,columna, datos):\n",
    "    zona, tipo = x\n",
    "    df = datos.loc[(datos.place_name == zona) & (datos.property_type == tipo),columna]\n",
    "    return df.mean()"
   ]
  },
  {
   "cell_type": "code",
   "execution_count": 45,
   "metadata": {},
   "outputs": [],
   "source": [
    "#Unifico las superficies\n",
    "test.loc[:,'superficie'] = test.loc[:,['surface_total_in_m2','surface_covered_in_m2']].apply\\\n",
    "            (lambda x: x[0] if not np.isnan(x[0]) else x[1], axis = 1)"
   ]
  },
  {
   "cell_type": "code",
   "execution_count": 46,
   "metadata": {},
   "outputs": [
    {
     "name": "stdout",
     "output_type": "stream",
     "text": [
      "lat\n",
      "lon\n",
      "sup\n"
     ]
    }
   ],
   "source": [
    "#Completo datos faltanes\n",
    "test.loc[test.lat.isnull(),'lat'] = test.loc[test.lat.isnull(),['place_name','property_type']].apply\\\n",
    "            (lambda x: obtener_promedio_por_zona_y_tipo(x,'lat',propiedades), axis = 1)\n",
    "print('lat')\n",
    "test.loc[test.lon.isnull(),'lon'] = test.loc[test.lon.isnull(),['place_name','property_type']].apply\\\n",
    "            (lambda x: obtener_promedio_por_zona_y_tipo(x,'lon',propiedades), axis = 1)\n",
    "print('lon')\n",
    "test.loc[test.superficie.isnull(),'superficie'] = test.loc[test.superficie.isnull(),['place_name','property_type']].apply\\\n",
    "            (lambda x: obtener_promedio_por_zona_y_tipo(x,'superficie',propiedades), axis = 1)\n",
    "print('sup')"
   ]
  },
  {
   "cell_type": "code",
   "execution_count": 50,
   "metadata": {},
   "outputs": [
    {
     "name": "stdout",
     "output_type": "stream",
     "text": [
      "lat\n",
      "lon\n",
      "sup\n"
     ]
    }
   ],
   "source": [
    "#Completo datos faltanes\n",
    "test.loc[test.lat.isnull(),'lat'] = test.loc[test.lat.isnull(),['place_name','property_type']].apply\\\n",
    "            (lambda x: obtener_promedio_por_zona_y_tipo(x,'lat',test), axis = 1)\n",
    "print('lat')\n",
    "test.loc[test.lon.isnull(),'lon'] = test.loc[test.lon.isnull(),['place_name','property_type']].apply\\\n",
    "            (lambda x: obtener_promedio_por_zona_y_tipo(x,'lon',test), axis = 1)\n",
    "print('lon')\n",
    "test.loc[test.superficie.isnull(),'superficie'] = test.loc[test.superficie.isnull(),['place_name','property_type']].apply\\\n",
    "            (lambda x: obtener_promedio_por_zona_y_tipo(x,'superficie',test), axis = 1)\n",
    "print('sup')"
   ]
  },
  {
   "cell_type": "code",
   "execution_count": 53,
   "metadata": {},
   "outputs": [
    {
     "data": {
      "text/plain": [
       "lat           -40.555387\n",
       "lon           -58.469591\n",
       "superficie    378.563137\n",
       "dtype: float64"
      ]
     },
     "execution_count": 53,
     "metadata": {},
     "output_type": "execute_result"
    }
   ],
   "source": [
    "test[['lat','lon','superficie']].mean()"
   ]
  },
  {
   "cell_type": "code",
   "execution_count": 54,
   "metadata": {},
   "outputs": [
    {
     "name": "stdout",
     "output_type": "stream",
     "text": [
      "lat\n",
      "lon\n",
      "sup\n"
     ]
    }
   ],
   "source": [
    "#Quedan 10 sin datos, los lleno con el promedio general\n",
    "\n",
    "#Completo datos faltanes\n",
    "test.loc[test.lat.isnull(),'lat'] = -40.555387\n",
    "print('lat')\n",
    "test.loc[test.lon.isnull(),'lon'] = -58.469591\n",
    "print('lon')\n",
    "test.loc[test.superficie.isnull(),'superficie'] = 378\n",
    "print('sup')"
   ]
  },
  {
   "cell_type": "code",
   "execution_count": 23,
   "metadata": {
    "collapsed": true
   },
   "outputs": [],
   "source": [
    "def traducir_tipo_propiedad(x):\n",
    "    if x == 'casa':\n",
    "        return 'house'\n",
    "    if x == 'departamento':\n",
    "        return 'apartment'\n",
    "    if x == 'ph':\n",
    "        return 'PH'\n",
    "    return x"
   ]
  },
  {
   "cell_type": "code",
   "execution_count": 24,
   "metadata": {
    "collapsed": true
   },
   "outputs": [],
   "source": [
    "#Traduzco los tipos de propiedad\n",
    "test.loc[:,'property_type'] = test.loc[:,'property_type'].apply(traducir_tipo_propiedad)"
   ]
  },
  {
   "cell_type": "code",
   "execution_count": 56,
   "metadata": {},
   "outputs": [
    {
     "name": "stdout",
     "output_type": "stream",
     "text": [
      "<class 'pandas.core.frame.DataFrame'>\n",
      "RangeIndex: 14166 entries, 0 to 14165\n",
      "Data columns (total 19 columns):\n",
      "id                         14166 non-null int64\n",
      "created_on                 14166 non-null object\n",
      "property_type              14166 non-null object\n",
      "operation                  14166 non-null object\n",
      "place_name                 14166 non-null object\n",
      "place_with_parent_names    14166 non-null object\n",
      "country_name               14166 non-null object\n",
      "state_name                 14166 non-null object\n",
      "lat-lon                    10487 non-null object\n",
      "lat                        14166 non-null float64\n",
      "lon                        14166 non-null float64\n",
      "surface_total_in_m2        11853 non-null float64\n",
      "surface_covered_in_m2      13005 non-null float64\n",
      "floor                      1368 non-null float64\n",
      "rooms                      7500 non-null float64\n",
      "expenses                   2543 non-null object\n",
      "description                14166 non-null object\n",
      "superficie                 14166 non-null float64\n",
      "price_usd                  14166 non-null int64\n",
      "dtypes: float64(7), int64(2), object(10)\n",
      "memory usage: 2.1+ MB\n"
     ]
    }
   ],
   "source": [
    "test.info()"
   ]
  },
  {
   "cell_type": "code",
   "execution_count": 57,
   "metadata": {},
   "outputs": [],
   "source": [
    "test.to_csv('properati_dataset_testing_noprice.csv', index = False)"
   ]
  },
  {
   "cell_type": "markdown",
   "metadata": {},
   "source": [
    "# KNN"
   ]
  },
  {
   "cell_type": "code",
   "execution_count": 58,
   "metadata": {
    "collapsed": true
   },
   "outputs": [],
   "source": [
    "test.loc[:,'price_usd'] = 0"
   ]
  },
  {
   "cell_type": "code",
   "execution_count": 59,
   "metadata": {
    "collapsed": true
   },
   "outputs": [],
   "source": [
    "def knn(datos,pruebas,k):\n",
    "    for i in range(len(pruebas)):\n",
    "        distancias = calcular_distancias_para_knn(datos,pruebas.iloc[i])\n",
    "        resultado = obtener_promedio_k_minimos(distancias,k)\n",
    "        pruebas.price_usd[i] = resultado\n",
    "    return pruebas"
   ]
  },
  {
   "cell_type": "code",
   "execution_count": 60,
   "metadata": {
    "collapsed": true
   },
   "outputs": [],
   "source": [
    "def obtener_promedio_k_minimos(distancias,k):\n",
    "    distancias.sort()\n",
    "    k2 = min(k,len(distancias))\n",
    "    suma = 0\n",
    "    total = 0\n",
    "    for x in range(k2):\n",
    "        suma += distancias[x][1]\n",
    "        total += 1\n",
    "    if total != 0:\n",
    "        res = suma / total\n",
    "    else:\n",
    "        res = 0\n",
    "    return res"
   ]
  },
  {
   "cell_type": "code",
   "execution_count": 61,
   "metadata": {},
   "outputs": [
    {
     "name": "stderr",
     "output_type": "stream",
     "text": [
      "/home/mati/anaconda3/lib/python3.6/site-packages/ipykernel_launcher.py:5: SettingWithCopyWarning: \n",
      "A value is trying to be set on a copy of a slice from a DataFrame\n",
      "\n",
      "See the caveats in the documentation: http://pandas.pydata.org/pandas-docs/stable/indexing.html#indexing-view-versus-copy\n",
      "  \"\"\"\n"
     ]
    }
   ],
   "source": [
    "k = 2\n",
    "resultados = knn(set_datos_agrupados,test,k)\n",
    "resultados = resultados.loc[:,['id','price_usd']]\n",
    "resultados.to_csv('resultadosKNN_k2.csv', index = False)"
   ]
  },
  {
   "cell_type": "code",
   "execution_count": 62,
   "metadata": {},
   "outputs": [
    {
     "name": "stderr",
     "output_type": "stream",
     "text": [
      "/home/mati/anaconda3/lib/python3.6/site-packages/ipykernel_launcher.py:5: SettingWithCopyWarning: \n",
      "A value is trying to be set on a copy of a slice from a DataFrame\n",
      "\n",
      "See the caveats in the documentation: http://pandas.pydata.org/pandas-docs/stable/indexing.html#indexing-view-versus-copy\n",
      "  \"\"\"\n"
     ]
    }
   ],
   "source": [
    "k = 3\n",
    "resultados = knn(set_datos_agrupados,test,k)\n",
    "resultados = resultados.loc[:,['id','price_usd']]\n",
    "resultados.to_csv('resultadosKNN_k3.csv', index = False)"
   ]
  },
  {
   "cell_type": "code",
   "execution_count": 63,
   "metadata": {},
   "outputs": [
    {
     "name": "stderr",
     "output_type": "stream",
     "text": [
      "/home/mati/anaconda3/lib/python3.6/site-packages/ipykernel_launcher.py:5: SettingWithCopyWarning: \n",
      "A value is trying to be set on a copy of a slice from a DataFrame\n",
      "\n",
      "See the caveats in the documentation: http://pandas.pydata.org/pandas-docs/stable/indexing.html#indexing-view-versus-copy\n",
      "  \"\"\"\n"
     ]
    }
   ],
   "source": [
    "k = 4\n",
    "resultados = knn(set_datos_agrupados,test,k)\n",
    "resultados = resultados.loc[:,['id','price_usd']]\n",
    "resultados.to_csv('resultadosKNN_k4.csv', index = False)"
   ]
  }
 ],
 "metadata": {
  "kernelspec": {
   "display_name": "Python 3",
   "language": "python",
   "name": "python3"
  },
  "language_info": {
   "codemirror_mode": {
    "name": "ipython",
    "version": 3
   },
   "file_extension": ".py",
   "mimetype": "text/x-python",
   "name": "python",
   "nbconvert_exporter": "python",
   "pygments_lexer": "ipython3",
   "version": "3.6.1"
  }
 },
 "nbformat": 4,
 "nbformat_minor": 2
}
