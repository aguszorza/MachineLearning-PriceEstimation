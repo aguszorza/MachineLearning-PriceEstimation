{
 "cells": [
  {
   "cell_type": "code",
   "execution_count": 1,
   "metadata": {
    "collapsed": true
   },
   "outputs": [],
   "source": [
    "%matplotlib inline\n",
    "\n",
    "import pandas as pd\n",
    "import numpy as np\n",
    "import matplotlib.pyplot as plt\n",
    "import geopandas as gpd\n",
    "from shapely.geometry import Polygon, MultiPolygon, Point\n",
    "from geopandas import GeoDataFrame\n",
    "from sklearn import preprocessing\n",
    "\n",
    "plt.rcParams['figure.figsize'] = (8,6)\n",
    "plt.rcParams['axes.titlesize'] = 17\n",
    "plt.rcParams['axes.titlepad'] = 20\n",
    "plt.rcParams['axes.labelsize'] = 12"
   ]
  },
  {
   "cell_type": "markdown",
   "metadata": {},
   "source": [
    "#### No estoy seguro si esta bien, pero pruebo"
   ]
  },
  {
   "cell_type": "code",
   "execution_count": 2,
   "metadata": {
    "collapsed": true
   },
   "outputs": [],
   "source": [
    "propiedades = pd.read_csv('properati.csv')"
   ]
  },
  {
   "cell_type": "code",
   "execution_count": 43,
   "metadata": {
    "collapsed": true
   },
   "outputs": [],
   "source": [
    "def obtener_barrio(fila):\n",
    "    barrio,padre = fila\n",
    "    return padre.split('|')[3]"
   ]
  },
  {
   "cell_type": "code",
   "execution_count": 44,
   "metadata": {
    "collapsed": true
   },
   "outputs": [],
   "source": [
    "propiedades.loc[:, 'place_name'] = propiedades.loc[:, ['place_name','place_with_parent_names']].apply(lambda x: obtener_barrio(x), axis = 1)"
   ]
  },
  {
   "cell_type": "code",
   "execution_count": 6,
   "metadata": {},
   "outputs": [],
   "source": [
    "tipo_propiedad = {'PH': [0], 'apartment':[587], 'house': [1829], 'store': [28531]}"
   ]
  },
  {
   "cell_type": "code",
   "execution_count": 9,
   "metadata": {},
   "outputs": [],
   "source": [
    "propiedades.loc[:,'property_type'] = propiedades.loc[:,'property_type']\\\n",
    ".apply(lambda x: tipo_propiedad[x]) "
   ]
  },
  {
   "cell_type": "code",
   "execution_count": 45,
   "metadata": {},
   "outputs": [],
   "source": [
    "import random\n",
    "barrios = {}\n",
    "x = 0\n",
    "for i in propiedades.groupby('place_name').agg(np.mean).lat.keys():\n",
    "    if i in barrios:\n",
    "        continue\n",
    "    barrios[i] = [x]\n",
    "    x+=random.randint(10, 100)"
   ]
  },
  {
   "cell_type": "code",
   "execution_count": 14,
   "metadata": {},
   "outputs": [],
   "source": [
    "propiedades.reset_index(drop = True, inplace = True)"
   ]
  },
  {
   "cell_type": "code",
   "execution_count": 46,
   "metadata": {},
   "outputs": [],
   "source": [
    "propiedades.loc[:,'place_name'] = propiedades.loc[:,'place_name']\\\n",
    ".apply(lambda x: barrios[x]) "
   ]
  },
  {
   "cell_type": "code",
   "execution_count": 74,
   "metadata": {},
   "outputs": [],
   "source": [
    "adivinar = propiedades.loc[propiedades.mes >= 7,:]"
   ]
  },
  {
   "cell_type": "code",
   "execution_count": 75,
   "metadata": {},
   "outputs": [],
   "source": [
    "entrenar = propiedades.loc[propiedades.mes < 7,:]"
   ]
  },
  {
   "cell_type": "code",
   "execution_count": 50,
   "metadata": {},
   "outputs": [
    {
     "data": {
      "text/plain": [
       "OneHotEncoder(categorical_features='all', dtype=<type 'numpy.float64'>,\n",
       "       handle_unknown='error', n_values='auto', sparse=True)"
      ]
     },
     "execution_count": 50,
     "metadata": {},
     "output_type": "execute_result"
    }
   ],
   "source": [
    "from sklearn import preprocessing\n",
    "tipos = preprocessing.OneHotEncoder()\n",
    "tipos.fit([[0], [587], [1829], [28531]]) "
   ]
  },
  {
   "cell_type": "code",
   "execution_count": 53,
   "metadata": {
    "collapsed": true
   },
   "outputs": [],
   "source": [
    "preparacion = barrios.values()\n",
    "for i in range (0, len(barrios)):\n",
    "    preparacion[i] = preparacion[i]"
   ]
  },
  {
   "cell_type": "code",
   "execution_count": 54,
   "metadata": {},
   "outputs": [
    {
     "data": {
      "text/plain": [
       "OneHotEncoder(categorical_features='all', dtype=<type 'numpy.float64'>,\n",
       "       handle_unknown='error', n_values='auto', sparse=True)"
      ]
     },
     "execution_count": 54,
     "metadata": {},
     "output_type": "execute_result"
    }
   ],
   "source": [
    "pre_barrios = preprocessing.OneHotEncoder()\n",
    "pre_barrios.fit(preparacion)"
   ]
  },
  {
   "cell_type": "code",
   "execution_count": 56,
   "metadata": {},
   "outputs": [],
   "source": [
    "propiedades.loc[:,'place_name'] = propiedades.loc[:,'place_name']\\\n",
    ".apply(lambda x: pre_barrios.transform([x]))"
   ]
  },
  {
   "cell_type": "code",
   "execution_count": 57,
   "metadata": {
    "collapsed": true
   },
   "outputs": [],
   "source": [
    "propiedades.loc[:,'property_type'] = propiedades.loc[:,'property_type']\\\n",
    ".apply(lambda x: tipos.transform([x]))"
   ]
  },
  {
   "cell_type": "code",
   "execution_count": 77,
   "metadata": {},
   "outputs": [],
   "source": [
    "condiciones = []\n",
    "precios = []\n",
    "\n",
    "for i in range(0,len(entrenar)):\n",
    "    if np.isnan(entrenar.price_aprox_usd[i]):\n",
    "        continue\n",
    "    if np.isinf(entrenar.ditancia_subtes[i]):\n",
    "        continue\n",
    "    l = list(entrenar.place_name[i].toarray()[0]) + list(entrenar.property_type[i].toarray()[0])\n",
    "    l.append(entrenar.ditancia_subtes[i])\n",
    "    l.append(entrenar.seguridad[i])\n",
    "    l.append(entrenar.gimnasio[i])\n",
    "    condiciones.append(l)\n",
    "    precios.append(entrenar.price_aprox_usd[i])"
   ]
  },
  {
   "cell_type": "code",
   "execution_count": null,
   "metadata": {},
   "outputs": [],
   "source": [
    "from sklearn.ensemble import GradientBoostingRegressor\n"
   ]
  },
  {
   "cell_type": "code",
   "execution_count": 79,
   "metadata": {},
   "outputs": [
    {
     "data": {
      "text/plain": [
       "GradientBoostingRegressor(alpha=0.9, criterion='friedman_mse', init=None,\n",
       "             learning_rate=0.9, loss='huber', max_depth=10,\n",
       "             max_features=None, max_leaf_nodes=None,\n",
       "             min_impurity_decrease=0.0, min_impurity_split=None,\n",
       "             min_samples_leaf=1, min_samples_split=2,\n",
       "             min_weight_fraction_leaf=0.0, n_estimators=1000,\n",
       "             presort='auto', random_state=0, subsample=1.0, verbose=0,\n",
       "             warm_start=False)"
      ]
     },
     "execution_count": 79,
     "metadata": {},
     "output_type": "execute_result"
    }
   ],
   "source": [
    "#propiedades.place_name[0].toarray()[0]\n",
    "est = GradientBoostingRegressor(n_estimators=1000, learning_rate=0.9,max_depth=10,\\\n",
    "                                random_state=0, loss='huber')\n",
    "est.fit(condiciones, precios)"
   ]
  },
  {
   "cell_type": "code",
   "execution_count": 80,
   "metadata": {},
   "outputs": [],
   "source": [
    "def adivinar_precio_indice(fila, estimador):\n",
    "    barrio,tipo,subte, seg, gim = fila\n",
    "    l =  list(barrio.toarray()[0]) + list(tipo.toarray()[0])\n",
    "    if np.isinf(subte):\n",
    "        return 0 # Ver de resolver estos despues\n",
    "    l.append(subte)\n",
    "    l.append(seg)\n",
    "    l.append(gim)\n",
    "    return  estimador.predict([l])[0]"
   ]
  },
  {
   "cell_type": "code",
   "execution_count": 81,
   "metadata": {},
   "outputs": [
    {
     "name": "stderr",
     "output_type": "stream",
     "text": [
      "/usr/local/lib/python2.7/dist-packages/pandas/core/indexing.py:337: SettingWithCopyWarning: \n",
      "A value is trying to be set on a copy of a slice from a DataFrame.\n",
      "Try using .loc[row_indexer,col_indexer] = value instead\n",
      "\n",
      "See the caveats in the documentation: http://pandas.pydata.org/pandas-docs/stable/indexing.html#indexing-view-versus-copy\n",
      "  self.obj[key] = _infer_fill_value(value)\n",
      "/usr/local/lib/python2.7/dist-packages/pandas/core/indexing.py:517: SettingWithCopyWarning: \n",
      "A value is trying to be set on a copy of a slice from a DataFrame.\n",
      "Try using .loc[row_indexer,col_indexer] = value instead\n",
      "\n",
      "See the caveats in the documentation: http://pandas.pydata.org/pandas-docs/stable/indexing.html#indexing-view-versus-copy\n",
      "  self.obj[item] = s\n"
     ]
    }
   ],
   "source": [
    "adivinar.loc[:,'precio_adivinado_gradient'] = adivinar.loc[:, ['place_name','property_type','ditancia_subtes', 'seguridad', 'gimnasio']]\\\n",
    ".apply(lambda x: adivinar_precio_indice(x, est), axis = 1)"
   ]
  },
  {
   "cell_type": "code",
   "execution_count": 82,
   "metadata": {
    "collapsed": true
   },
   "outputs": [],
   "source": [
    "adivinar.loc[:,'error_porcentual_gradient'] = adivinar.loc[:, ['price_aprox_usd', 'precio_adivinado_gradient']]\\\n",
    ".apply(lambda x: abs(x[0]-x[1])*100/(x[0]), axis = 1)"
   ]
  },
  {
   "cell_type": "code",
   "execution_count": 106,
   "metadata": {},
   "outputs": [
    {
     "data": {
      "text/plain": [
       "count    16205.000000\n",
       "mean        83.544287\n",
       "std        201.700593\n",
       "min          0.000000\n",
       "25%         18.903710\n",
       "50%         43.096393\n",
       "75%         79.090711\n",
       "max       9038.270013\n",
       "Name: error_porcentual_gradient, dtype: float64"
      ]
     },
     "execution_count": 106,
     "metadata": {},
     "output_type": "execute_result"
    }
   ],
   "source": [
    "adivinar.loc[adivinar.precio_adivinado_gradient>1000,:].error_porcentual_gradient.describe()"
   ]
  },
  {
   "cell_type": "code",
   "execution_count": 92,
   "metadata": {},
   "outputs": [
    {
     "data": {
      "text/plain": [
       "GradientBoostingRegressor(alpha=0.9, criterion='friedman_mse', init=None,\n",
       "             learning_rate=0.1, loss='huber', max_depth=10,\n",
       "             max_features=None, max_leaf_nodes=None,\n",
       "             min_impurity_decrease=0.0, min_impurity_split=None,\n",
       "             min_samples_leaf=1, min_samples_split=2,\n",
       "             min_weight_fraction_leaf=0.0, n_estimators=1000,\n",
       "             presort='auto', random_state=0, subsample=1.0, verbose=0,\n",
       "             warm_start=False)"
      ]
     },
     "execution_count": 92,
     "metadata": {},
     "output_type": "execute_result"
    }
   ],
   "source": [
    "est = GradientBoostingRegressor(n_estimators=1000, learning_rate=0.1,max_depth=10,\\\n",
    "                                random_state=0, loss='huber')\n",
    "est.fit(condiciones, precios)"
   ]
  },
  {
   "cell_type": "code",
   "execution_count": 94,
   "metadata": {
    "collapsed": true
   },
   "outputs": [],
   "source": [
    "adivinar.loc[:,'precio_adivinado_gradient_01'] = adivinar.loc[:, ['place_name','property_type','ditancia_subtes', 'seguridad', 'gimnasio']]\\\n",
    ".apply(lambda x: adivinar_precio_indice(x, est), axis = 1)"
   ]
  },
  {
   "cell_type": "code",
   "execution_count": 95,
   "metadata": {},
   "outputs": [],
   "source": [
    "adivinar.loc[:,'error_porcentual_gradient_01'] = adivinar.loc[:, ['price_aprox_usd', 'precio_adivinado_gradient_01']]\\\n",
    ".apply(lambda x: abs(x[0]-x[1])*100/(x[0]), axis = 1)"
   ]
  },
  {
   "cell_type": "code",
   "execution_count": 105,
   "metadata": {},
   "outputs": [
    {
     "data": {
      "text/plain": [
       "count    1.645800e+04\n",
       "mean     6.942295e+01\n",
       "std      1.631405e+02\n",
       "min      8.623357e-14\n",
       "25%      1.738087e+01\n",
       "50%      3.798468e+01\n",
       "75%      6.916166e+01\n",
       "max      5.788523e+03\n",
       "Name: error_porcentual_gradient_01, dtype: float64"
      ]
     },
     "execution_count": 105,
     "metadata": {},
     "output_type": "execute_result"
    }
   ],
   "source": [
    "adivinar.loc[adivinar.precio_adivinado_gradient_01>1000,:].error_porcentual_gradient_01.describe()"
   ]
  },
  {
   "cell_type": "code",
   "execution_count": 108,
   "metadata": {},
   "outputs": [
    {
     "data": {
      "text/plain": [
       "GradientBoostingRegressor(alpha=0.9, criterion='friedman_mse', init=None,\n",
       "             learning_rate=0.9, loss='huber', max_depth=10,\n",
       "             max_features=None, max_leaf_nodes=None,\n",
       "             min_impurity_decrease=0.0, min_impurity_split=None,\n",
       "             min_samples_leaf=1, min_samples_split=2,\n",
       "             min_weight_fraction_leaf=0.0, n_estimators=10000,\n",
       "             presort='auto', random_state=0, subsample=1.0, verbose=0,\n",
       "             warm_start=False)"
      ]
     },
     "execution_count": 108,
     "metadata": {},
     "output_type": "execute_result"
    }
   ],
   "source": [
    "est = GradientBoostingRegressor(n_estimators=10000, learning_rate=0.9,max_depth=10,\\\n",
    "                                random_state=0, loss='huber')\n",
    "est.fit(condiciones, precios)"
   ]
  },
  {
   "cell_type": "code",
   "execution_count": 109,
   "metadata": {
    "collapsed": true
   },
   "outputs": [],
   "source": [
    "adivinar.loc[:,'precio_adivinado_gradient_10000'] = adivinar.loc[:, ['place_name','property_type','ditancia_subtes', 'seguridad', 'gimnasio']]\\\n",
    ".apply(lambda x: adivinar_precio_indice(x, est), axis = 1)"
   ]
  },
  {
   "cell_type": "code",
   "execution_count": 110,
   "metadata": {
    "collapsed": true
   },
   "outputs": [],
   "source": [
    "adivinar.loc[:,'error_porcentual_gradient_10000'] = adivinar.loc[:, ['price_aprox_usd', 'precio_adivinado_gradient_10000']]\\\n",
    ".apply(lambda x: abs(x[0]-x[1])*100/(x[0]), axis = 1)"
   ]
  },
  {
   "cell_type": "code",
   "execution_count": 112,
   "metadata": {},
   "outputs": [
    {
     "data": {
      "text/plain": [
       "count    16181.000000\n",
       "mean        83.795200\n",
       "std        201.972879\n",
       "min          0.000000\n",
       "25%         18.898221\n",
       "50%         43.257067\n",
       "75%         79.274035\n",
       "max       9033.411137\n",
       "Name: error_porcentual_gradient_10000, dtype: float64"
      ]
     },
     "execution_count": 112,
     "metadata": {},
     "output_type": "execute_result"
    }
   ],
   "source": [
    "adivinar.loc[adivinar.precio_adivinado_gradient_10000>1000,:].error_porcentual_gradient_10000.describe()"
   ]
  },
  {
   "cell_type": "markdown",
   "metadata": {},
   "source": [
    "## Con SVR"
   ]
  },
  {
   "cell_type": "code",
   "execution_count": 113,
   "metadata": {
    "collapsed": true
   },
   "outputs": [],
   "source": [
    "from sklearn import svm"
   ]
  },
  {
   "cell_type": "code",
   "execution_count": 114,
   "metadata": {},
   "outputs": [
    {
     "data": {
      "text/plain": [
       "SVR(C=1.0, cache_size=200, coef0=0.0, degree=2, epsilon=0.1, gamma='auto',\n",
       "  kernel='rbf', max_iter=-1, shrinking=True, tol=0.001, verbose=False)"
      ]
     },
     "execution_count": 114,
     "metadata": {},
     "output_type": "execute_result"
    }
   ],
   "source": [
    "clf = svm.SVR(degree = 2)\n",
    "clf.fit(condiciones, precios)"
   ]
  },
  {
   "cell_type": "code",
   "execution_count": 116,
   "metadata": {},
   "outputs": [],
   "source": [
    "adivinar.loc[:,'precio_adivinado_svr'] = adivinar.loc[:, ['place_name','property_type','ditancia_subtes', 'seguridad', 'gimnasio']]\\\n",
    ".apply(lambda x: adivinar_precio_indice(x,clf), axis = 1)"
   ]
  },
  {
   "cell_type": "code",
   "execution_count": 117,
   "metadata": {
    "collapsed": true
   },
   "outputs": [],
   "source": [
    "adivinar.loc[:,'error_porcentual_svr'] = adivinar.loc[:, ['price_aprox_usd', 'precio_adivinado_svr']]\\\n",
    ".apply(lambda x: abs(x[0]-x[1])*100/(x[0]), axis = 1)"
   ]
  },
  {
   "cell_type": "code",
   "execution_count": 121,
   "metadata": {},
   "outputs": [
    {
     "data": {
      "text/plain": [
       "count    16478.000000\n",
       "mean        59.056386\n",
       "std         96.720346\n",
       "min          0.000235\n",
       "25%         22.490996\n",
       "50%         46.370952\n",
       "75%         73.992968\n",
       "max       2967.125531\n",
       "Name: error_porcentual_svr, dtype: float64"
      ]
     },
     "execution_count": 121,
     "metadata": {},
     "output_type": "execute_result"
    }
   ],
   "source": [
    "adivinar.loc[adivinar.precio_adivinado_svr != 0].error_porcentual_svr.describe()"
   ]
  },
  {
   "cell_type": "code",
   "execution_count": null,
   "metadata": {},
   "outputs": [],
   "source": [
    "# Le cambio el parametro degree y uso la funcion kernel. Creo que que si no esta seteado en poly\n",
    "# degree no es usado y por lo tanto estaria innecesariamente \n",
    "clf = svm.SVR(kernel = 'poly', degree = 5)\n",
    "clf.fit(condiciones, precios)"
   ]
  },
  {
   "cell_type": "code",
   "execution_count": null,
   "metadata": {
    "collapsed": true
   },
   "outputs": [],
   "source": [
    "adivinar.loc[:,'precio_adivinado_svr_5'] = adivinar.loc[:, ['place_name','property_type','ditancia_subtes', 'seguridad', 'gimnasio']]\\\n",
    ".apply(lambda x: adivinar_precio_indice(x,clf), axis = 1)"
   ]
  },
  {
   "cell_type": "code",
   "execution_count": null,
   "metadata": {
    "collapsed": true
   },
   "outputs": [],
   "source": [
    "adivinar.loc[:,'error_porcentual_svr_5'] = adivinar.loc[:, ['price_aprox_usd', 'precio_adivinado_svr_5']]\\\n",
    ".apply(lambda x: abs(x[0]-x[1])*100/(x[0]), axis = 1)"
   ]
  },
  {
   "cell_type": "code",
   "execution_count": null,
   "metadata": {},
   "outputs": [],
   "source": [
    "adivinar.loc[adivinar.precio_adivinado_svr_5 != 0].error_porcentual_svr_5.describe()"
   ]
  }
 ],
 "metadata": {
  "kernelspec": {
   "display_name": "Python 3",
   "language": "python",
   "name": "python3"
  },
  "language_info": {
   "codemirror_mode": {
    "name": "ipython",
    "version": 2
   },
   "file_extension": ".py",
   "mimetype": "text/x-python",
   "name": "python",
   "nbconvert_exporter": "python",
   "pygments_lexer": "ipython2",
   "version": "2.7.12"
  }
 },
 "nbformat": 4,
 "nbformat_minor": 2
}
