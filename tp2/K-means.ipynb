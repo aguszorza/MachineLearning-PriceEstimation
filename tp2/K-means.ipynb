{
 "cells": [
  {
   "cell_type": "code",
   "execution_count": 1,
   "metadata": {
    "collapsed": true
   },
   "outputs": [],
   "source": [
    "import pandas as pd\n",
    "import numpy as np\n",
    "from sklearn.metrics import mean_squared_error\n",
    "from sklearn.tree import DecisionTreeRegressor\n",
    "from sklearn.cluster import KMeans\n",
    "from sklearn.preprocessing import StandardScaler \n",
    "from sklearn.model_selection import GridSearchCV\n",
    "from sklearn.externals import joblib\n",
    "import time\n",
    "\n",
    "import warnings\n",
    "warnings.simplefilter(\"ignore\", category=DeprecationWarning)"
   ]
  },
  {
   "cell_type": "code",
   "execution_count": 2,
   "metadata": {
    "collapsed": true
   },
   "outputs": [],
   "source": [
    "propiedades = pd.read_csv('../../set_datos_propiedades.csv')\n",
    "\n",
    "sup_min = 10\n",
    "sup_max = 150\n",
    "\n",
    "lat_min = -35\n",
    "lat_max = -34\n",
    "\n",
    "lon_min = -59\n",
    "lon_max = -58\n",
    "\n",
    "precio_min = 5000\n",
    "precio_max = 1000000\n",
    "\n",
    "propiedades = propiedades.loc[(propiedades.price_aprox_usd.notnull()) & (propiedades.superficie.notnull())\\\n",
    "                              & (propiedades.lat.notnull()) & (propiedades.lon.notnull()) & (propiedades.Year >=2016)\\\n",
    "                        & (propiedades.price_aprox_usd <= precio_max) & (propiedades.price_aprox_usd >= precio_min) &\\\n",
    "                         (propiedades.superficie <= sup_max) & (propiedades.superficie >= sup_min) &\\\n",
    "                      (propiedades.lat <= lat_max) & (propiedades.lat >= lat_min) &\\\n",
    "                       (propiedades.lon <= lon_max) & (propiedades.lon >= lon_min),:]\n",
    "\n",
    "prop = propiedades.loc[(propiedades.Year >= 2016), :]\n",
    "\n",
    "columnas = ['superficie','lat', 'lon','property_type_encoded','seguridad','gimnasio', 'aire', 'pileta', 'cochera']\n",
    "columnas_precio = columnas + ['price_aprox_usd']"
   ]
  },
  {
   "cell_type": "code",
   "execution_count": 3,
   "metadata": {
    "collapsed": true
   },
   "outputs": [],
   "source": [
    "set_entrenamiento = prop.loc[(prop.Year >= 2016) &((prop.Year < 2017) | (prop.Month < 6))\\\n",
    "                                    ,columnas_precio]\n",
    "set_pruebas = prop.loc[(prop.Year == 2017) & (prop.Month == 6),columnas_precio].head(20000)\n",
    "\n",
    "set_entrenamiento_datos = set_entrenamiento.loc[:,columnas]\n",
    "set_entrenamiento_resultado = set_entrenamiento.loc[:,'price_aprox_usd']"
   ]
  },
  {
   "cell_type": "code",
   "execution_count": 4,
   "metadata": {
    "collapsed": true
   },
   "outputs": [],
   "source": [
    "def predecir(x, predictor, clusters):\n",
    "    indice = cluster.predict([x])[0]\n",
    "    return predictor[indice].predict([x])[0]"
   ]
  },
  {
   "cell_type": "markdown",
   "metadata": {},
   "source": [
    "# Obtenemos la cantidad de clusters"
   ]
  },
  {
   "cell_type": "code",
   "execution_count": 5,
   "metadata": {},
   "outputs": [
    {
     "name": "stdout",
     "output_type": "stream",
     "text": [
      "Cantidad de clusters = 50, error = 446203478.867, cant_digitos = 9\n"
     ]
    }
   ],
   "source": [
    "criterio = 'mse'\n",
    "max_depth = None\n",
    "min_sample = 2\n",
    "min_leaf = 1\n",
    "feature = 1.0\n",
    "\n",
    "lista = [2, 10,20, 30, 40, 50, 100, 200, 300]\n",
    "\n",
    "\n",
    "minimo = {'minimo': (0, np.inf)}\n",
    "\n",
    "for l in lista:\n",
    "    cluster = KMeans(n_clusters = l)\n",
    "    m = cluster.fit_predict(set_entrenamiento_datos,set_entrenamiento_resultado)\n",
    "    set_entrenamiento.loc[:, 'cluster'] = m\n",
    "\n",
    "    predictores = {}\n",
    "    for i in range (l):\n",
    "        tree = DecisionTreeRegressor(criterion = criterio, max_depth = max_depth,\\\n",
    "                                               min_samples_split = min_sample, min_samples_leaf = min_leaf,\\\n",
    "                                               max_features = feature)\n",
    "        entrenamiento = set_entrenamiento.loc[set_entrenamiento.cluster == i,:]\n",
    "        datos = entrenamiento.loc[:, columnas]\n",
    "        resultado = entrenamiento.loc[:,'price_aprox_usd']\n",
    "        tree.fit(datos, resultado)\n",
    "        predictores[i] = tree\n",
    "    \n",
    "    set_pruebas.loc[:,'resultado'] = set_pruebas.loc[:,columnas].apply(lambda x: predecir(x,predictores,cluster),axis = 1)\n",
    "\n",
    "    error = mean_squared_error(set_pruebas.price_aprox_usd, set_pruebas.resultado)\n",
    "    \n",
    "    if error < minimo['minimo'][1]:\n",
    "        minimo['minimo'] = (l, error)\n",
    "        \n",
    "c, error = minimo['minimo']\n",
    "print(\"Cantidad de clusters = {}, error = {}, cant_digitos = {}\".format(c, error, len(str(int(round(error,0))))))"
   ]
  },
  {
   "cell_type": "code",
   "execution_count": 6,
   "metadata": {
    "collapsed": true
   },
   "outputs": [],
   "source": [
    "cantidad_clusters = 50\n",
    "\n",
    "cluster = KMeans(n_clusters = cantidad_clusters)\n",
    "m = cluster.fit_predict(set_entrenamiento_datos,set_entrenamiento_resultado)"
   ]
  },
  {
   "cell_type": "code",
   "execution_count": 7,
   "metadata": {
    "collapsed": true
   },
   "outputs": [],
   "source": [
    "set_entrenamiento.loc[:, 'cluster'] = m"
   ]
  },
  {
   "cell_type": "markdown",
   "metadata": {},
   "source": [
    "# Con decision Tree"
   ]
  },
  {
   "cell_type": "code",
   "execution_count": 7,
   "metadata": {
    "collapsed": true
   },
   "outputs": [],
   "source": [
    "from sklearn.tree import DecisionTreeRegressor"
   ]
  },
  {
   "cell_type": "code",
   "execution_count": 38,
   "metadata": {
    "collapsed": true
   },
   "outputs": [],
   "source": [
    "criterio = 'mse'\n",
    "max_depth = None\n",
    "min_sample = 2\n",
    "min_leaf = 1\n",
    "feature = 1.0\n",
    "\n",
    "predictores = {}\n",
    "for i in range (cantidad_clusters):\n",
    "    tree = DecisionTreeRegressor(criterion = criterio, max_depth = max_depth,\\\n",
    "                                           min_samples_split = min_sample, min_samples_leaf = min_leaf,\\\n",
    "                                           max_features = feature)\n",
    "    entrenamiento = set_entrenamiento.loc[set_entrenamiento.cluster == i,:]\n",
    "    datos = entrenamiento.loc[:, columnas]\n",
    "    resultado = entrenamiento.loc[:,'price_aprox_usd']\n",
    "    tree.fit(datos, resultado)\n",
    "    predictores[i] = tree"
   ]
  },
  {
   "cell_type": "code",
   "execution_count": 39,
   "metadata": {},
   "outputs": [
    {
     "name": "stdout",
     "output_type": "stream",
     "text": [
      "error = 476743287.157, cant_digitos = 9\n"
     ]
    }
   ],
   "source": [
    "set_pruebas.loc[:,'resultado'] = set_pruebas.loc[:,columnas].apply(lambda x: predecir(x,predictores,cluster),axis = 1)\n",
    "\n",
    "error = mean_squared_error(set_pruebas.price_aprox_usd, set_pruebas.resultado)\n",
    "print(\"error = {}, cant_digitos = {}\".format(error, len(str(int(round(error,0))))))"
   ]
  },
  {
   "cell_type": "markdown",
   "metadata": {},
   "source": [
    "# Con Bagging Regressor"
   ]
  },
  {
   "cell_type": "code",
   "execution_count": 40,
   "metadata": {
    "collapsed": true
   },
   "outputs": [],
   "source": [
    "from sklearn.ensemble import BaggingRegressor"
   ]
  },
  {
   "cell_type": "code",
   "execution_count": 41,
   "metadata": {
    "collapsed": true
   },
   "outputs": [],
   "source": [
    "estimator = 5\n",
    "sample = 1.0\n",
    "feature = 1.0\n",
    "\n",
    "predictores = {}\n",
    "for i in range (cantidad_clusters):\n",
    "    bag = BaggingRegressor(n_estimators = estimator, max_samples = sample, max_features = feature)    \n",
    "    \n",
    "    entrenamiento = set_entrenamiento.loc[set_entrenamiento.cluster == i,:]\n",
    "    datos = entrenamiento.loc[:, columnas]\n",
    "    resultado = entrenamiento.loc[:,'price_aprox_usd']\n",
    "    bag.fit(datos, resultado)\n",
    "    predictores[i] = bag"
   ]
  },
  {
   "cell_type": "code",
   "execution_count": 42,
   "metadata": {},
   "outputs": [
    {
     "name": "stdout",
     "output_type": "stream",
     "text": [
      "error = 574063832.502, cant_digitos = 9\n"
     ]
    }
   ],
   "source": [
    "set_pruebas.loc[:,'resultado'] = set_pruebas.loc[:,columnas].apply(lambda x: predecir(x,predictores,cluster),axis = 1)\n",
    "\n",
    "error = mean_squared_error(set_pruebas.price_aprox_usd, set_pruebas.resultado)\n",
    "print(\"error = {}, cant_digitos = {}\".format(error, len(str(int(round(error,0))))))"
   ]
  },
  {
   "cell_type": "markdown",
   "metadata": {
    "collapsed": true
   },
   "source": [
    "# Con KNN"
   ]
  },
  {
   "cell_type": "code",
   "execution_count": 5,
   "metadata": {
    "collapsed": true
   },
   "outputs": [],
   "source": [
    "from sklearn.neighbors import KNeighborsRegressor"
   ]
  },
  {
   "cell_type": "code",
   "execution_count": 31,
   "metadata": {},
   "outputs": [
    {
     "name": "stdout",
     "output_type": "stream",
     "text": [
      "Cantidad de clusters = 30, error = 524761498.979, cant_digitos = 9\n"
     ]
    }
   ],
   "source": [
    "k = 1\n",
    "d = 1\n",
    "\n",
    "lista = [2, 10,20, 30, 40, 50, 100, 200, 300]\n",
    "\n",
    "\n",
    "minimo = {'minimo': (0, np.inf)}\n",
    "\n",
    "for l in range(20, 31):\n",
    "    cluster = KMeans(n_clusters = l)\n",
    "    m = cluster.fit_predict(set_entrenamiento_datos,set_entrenamiento_resultado)\n",
    "    set_entrenamiento.loc[:, 'cluster'] = m\n",
    "\n",
    "    predictores = {}\n",
    "    for i in range (l):\n",
    "        knn = KNeighborsRegressor(n_neighbors = k, p = d)\n",
    "        entrenamiento = set_entrenamiento.loc[set_entrenamiento.cluster == i,:]\n",
    "        datos = entrenamiento.loc[:, columnas]\n",
    "        resultado = entrenamiento.loc[:,'price_aprox_usd']\n",
    "        knn.fit(datos, resultado)\n",
    "        predictores[i] = knn\n",
    "    \n",
    "    set_pruebas.loc[:,'resultado'] = set_pruebas.loc[:,columnas].apply(lambda x: predecir(x,predictores,cluster),axis = 1)\n",
    "\n",
    "    error = mean_squared_error(set_pruebas.price_aprox_usd, set_pruebas.resultado)\n",
    "    \n",
    "    if error < minimo['minimo'][1]:\n",
    "        minimo['minimo'] = (l, error)\n",
    "        \n",
    "c, error = minimo['minimo']\n",
    "print(\"Cantidad de clusters = {}, error = {}, cant_digitos = {}\".format(c, error, len(str(int(round(error,0))))))"
   ]
  },
  {
   "cell_type": "code",
   "execution_count": 12,
   "metadata": {},
   "outputs": [
    {
     "name": "stdout",
     "output_type": "stream",
     "text": [
      "Cantidad de clusters = 21, error = 524748883.417, cant_digitos = 9\n"
     ]
    }
   ],
   "source": [
    "k = 1\n",
    "d = 1\n",
    "\n",
    "minimo = {'minimo': (0, np.inf)}\n",
    "\n",
    "for l in range(20, 31):\n",
    "    cluster = KMeans(n_clusters = l)\n",
    "    m = cluster.fit_predict(set_entrenamiento_datos,set_entrenamiento_resultado)\n",
    "    set_entrenamiento.loc[:, 'cluster'] = m\n",
    "\n",
    "    predictores = {}\n",
    "    for i in range (l):\n",
    "        knn = KNeighborsRegressor(n_neighbors = k, p = d)\n",
    "        entrenamiento = set_entrenamiento.loc[set_entrenamiento.cluster == i,:]\n",
    "        datos = entrenamiento.loc[:, columnas]\n",
    "        resultado = entrenamiento.loc[:,'price_aprox_usd']\n",
    "        knn.fit(datos, resultado)\n",
    "        predictores[i] = knn\n",
    "    \n",
    "    set_pruebas.loc[:,'resultado'] = set_pruebas.loc[:,columnas].apply(lambda x: predecir(x,predictores,cluster),axis = 1)\n",
    "\n",
    "    error = mean_squared_error(set_pruebas.price_aprox_usd, set_pruebas.resultado)\n",
    "    \n",
    "    if error < minimo['minimo'][1]:\n",
    "        minimo['minimo'] = (l, error)\n",
    "        \n",
    "c, error = minimo['minimo']\n",
    "print(\"Cantidad de clusters = {}, error = {}, cant_digitos = {}\".format(c, error, len(str(int(round(error,0))))))"
   ]
  },
  {
   "cell_type": "code",
   "execution_count": 27,
   "metadata": {
    "collapsed": true
   },
   "outputs": [],
   "source": [
    "cantidad_clusters = 21\n",
    "\n",
    "cluster = KMeans(n_clusters = cantidad_clusters)\n",
    "m = cluster.fit_predict(set_entrenamiento_datos,set_entrenamiento_resultado)"
   ]
  },
  {
   "cell_type": "code",
   "execution_count": 28,
   "metadata": {
    "collapsed": true
   },
   "outputs": [],
   "source": [
    "set_entrenamiento.loc[:, 'cluster'] = m"
   ]
  },
  {
   "cell_type": "code",
   "execution_count": 29,
   "metadata": {
    "collapsed": true
   },
   "outputs": [],
   "source": [
    "k = 1\n",
    "d = 1\n",
    "\n",
    "predictores = {}\n",
    "for i in range (cantidad_clusters):\n",
    "    knn = KNeighborsRegressor(n_neighbors = k, p = d)    \n",
    "    \n",
    "    entrenamiento = set_entrenamiento.loc[set_entrenamiento.cluster == i,:]\n",
    "    datos = entrenamiento.loc[:, columnas]\n",
    "    resultado = entrenamiento.loc[:,'price_aprox_usd']\n",
    "    knn.fit(datos, resultado)\n",
    "    predictores[i] = knn"
   ]
  },
  {
   "cell_type": "code",
   "execution_count": 30,
   "metadata": {},
   "outputs": [
    {
     "name": "stdout",
     "output_type": "stream",
     "text": [
      "error = 508573470.656, cant_digitos = 9\n"
     ]
    }
   ],
   "source": [
    "set_pruebas.loc[:,'resultado'] = set_pruebas.loc[:,columnas].apply(lambda x: predecir(x,predictores,cluster),axis = 1)\n",
    "\n",
    "error = mean_squared_error(set_pruebas.price_aprox_usd, set_pruebas.resultado)\n",
    "print(\"error = {}, cant_digitos = {}\".format(error, len(str(int(round(error,0))))))"
   ]
  },
  {
   "cell_type": "markdown",
   "metadata": {
    "collapsed": true
   },
   "source": [
    "# Con Lightgbm"
   ]
  },
  {
   "cell_type": "code",
   "execution_count": 52,
   "metadata": {
    "collapsed": true
   },
   "outputs": [],
   "source": [
    "import lightgbm as lgb"
   ]
  },
  {
   "cell_type": "code",
   "execution_count": 59,
   "metadata": {
    "collapsed": true
   },
   "outputs": [],
   "source": [
    "bt = 'goss'\n",
    "lr = 1.5\n",
    "n = 10000\n",
    "\n",
    "predictores = {}\n",
    "for i in range (cantidad_clusters):\n",
    "    lgbm = lgb.LGBMRegressor(n_estimators = n, learning_rate = lr, boosting_type = bt)\n",
    "    \n",
    "    entrenamiento = set_entrenamiento.loc[set_entrenamiento.cluster == i,:]\n",
    "    datos = entrenamiento.loc[:, columnas]\n",
    "    resultado = entrenamiento.loc[:,'price_aprox_usd']\n",
    "    lgbm.fit(datos, resultado)\n",
    "    predictores[i] = lgbm"
   ]
  },
  {
   "cell_type": "code",
   "execution_count": 60,
   "metadata": {},
   "outputs": [
    {
     "name": "stdout",
     "output_type": "stream",
     "text": [
      "error = 568903278.789, cant_digitos = 9\n"
     ]
    }
   ],
   "source": [
    "set_pruebas.loc[:,'resultado'] = set_pruebas.loc[:,columnas].apply(lambda x: predecir(x,predictores,cluster),axis = 1)\n",
    "\n",
    "error = mean_squared_error(set_pruebas.price_aprox_usd, set_pruebas.resultado)\n",
    "print(\"error = {}, cant_digitos = {}\".format(error, len(str(int(round(error,0))))))"
   ]
  },
  {
   "cell_type": "markdown",
   "metadata": {},
   "source": [
    "# Con Extra Trees"
   ]
  },
  {
   "cell_type": "code",
   "execution_count": 8,
   "metadata": {
    "collapsed": true
   },
   "outputs": [],
   "source": [
    "from sklearn.ensemble import ExtraTreesRegressor"
   ]
  },
  {
   "cell_type": "code",
   "execution_count": 33,
   "metadata": {},
   "outputs": [
    {
     "name": "stdout",
     "output_type": "stream",
     "text": [
      "Cantidad de clusters = 20, error = 326239215.215, cant_digitos = 9\n"
     ]
    }
   ],
   "source": [
    "k = 1\n",
    "d = 1\n",
    "\n",
    "lista = [2, 10,20, 30, 40, 50]#, 100, 200, 300]\n",
    "\n",
    "\n",
    "minimo = {'minimo': (0, np.inf)}\n",
    "\n",
    "for l in range(20, 31):\n",
    "    cluster = KMeans(n_clusters = l)\n",
    "    m = cluster.fit_predict(set_entrenamiento_datos,set_entrenamiento_resultado)\n",
    "    set_entrenamiento.loc[:, 'cluster'] = m\n",
    "\n",
    "    predictores = {}\n",
    "    for i in range (l):\n",
    "        tree = ExtraTreesRegressor(n_estimators = 100)\n",
    "        entrenamiento = set_entrenamiento.loc[set_entrenamiento.cluster == i,:]\n",
    "        datos = entrenamiento.loc[:, columnas]\n",
    "        resultado = entrenamiento.loc[:,'price_aprox_usd']\n",
    "        tree.fit(datos, resultado)\n",
    "        predictores[i] = tree\n",
    "    \n",
    "    set_pruebas.loc[:,'resultado'] = set_pruebas.loc[:,columnas].apply(lambda x: predecir(x,predictores,cluster),axis = 1)\n",
    "\n",
    "    error = mean_squared_error(set_pruebas.price_aprox_usd, set_pruebas.resultado)\n",
    "    \n",
    "    if error < minimo['minimo'][1]:\n",
    "        minimo['minimo'] = (l, error)\n",
    "        \n",
    "c, error = minimo['minimo']\n",
    "print(\"Cantidad de clusters = {}, error = {}, cant_digitos = {}\".format(c, error, len(str(int(round(error,0))))))"
   ]
  },
  {
   "cell_type": "code",
   "execution_count": 13,
   "metadata": {
    "collapsed": true
   },
   "outputs": [],
   "source": [
    "cantidad_clusters = 20\n",
    "\n",
    "cluster = KMeans(n_clusters = cantidad_clusters)\n",
    "m = cluster.fit_predict(set_entrenamiento_datos,set_entrenamiento_resultado)"
   ]
  },
  {
   "cell_type": "code",
   "execution_count": 14,
   "metadata": {
    "collapsed": true
   },
   "outputs": [],
   "source": [
    "set_entrenamiento.loc[:, 'cluster'] = m"
   ]
  },
  {
   "cell_type": "code",
   "execution_count": 19,
   "metadata": {
    "collapsed": true
   },
   "outputs": [],
   "source": [
    "criterio = 'mse'\n",
    "max_depth = None\n",
    "n_estimators = 50\n",
    "max_features = 1.0\n",
    "\n",
    "predictores = {}\n",
    "for i in range (cantidad_clusters):\n",
    "    tree = ExtraTreesRegressor(n_estimators = 100)\n",
    "    \n",
    "    entrenamiento = set_entrenamiento.loc[set_entrenamiento.cluster == i,:]\n",
    "    datos = entrenamiento.loc[:, columnas]\n",
    "    resultado = entrenamiento.loc[:,'price_aprox_usd']\n",
    "    tree.fit(datos, resultado)\n",
    "    predictores[i] = tree"
   ]
  },
  {
   "cell_type": "code",
   "execution_count": 20,
   "metadata": {},
   "outputs": [
    {
     "name": "stdout",
     "output_type": "stream",
     "text": [
      "error = 327945892.949, cant_digitos = 9\n"
     ]
    }
   ],
   "source": [
    "set_pruebas.loc[:,'resultado'] = set_pruebas.loc[:,columnas].apply(lambda x: predecir(x,predictores,cluster),axis = 1)\n",
    "\n",
    "error = mean_squared_error(set_pruebas.price_aprox_usd, set_pruebas.resultado)\n",
    "print(\"error = {}, cant_digitos = {}\".format(error, len(str(int(round(error,0))))))"
   ]
  },
  {
   "cell_type": "code",
   "execution_count": 21,
   "metadata": {
    "collapsed": true
   },
   "outputs": [],
   "source": [
    "analizar = pd.read_csv(\"../properati_dataset_modificado.csv\")\n",
    "analizar.loc[:,'price_usd'] = analizar.loc[:,columnas].apply(lambda x: predecir(x,predictores,cluster),axis = 1)"
   ]
  },
  {
   "cell_type": "code",
   "execution_count": 22,
   "metadata": {},
   "outputs": [
    {
     "data": {
      "text/plain": [
       "count     14166.000000\n",
       "mean     183390.285323\n",
       "std      118364.861523\n",
       "min       22400.000000\n",
       "25%      105590.000000\n",
       "50%      150971.147262\n",
       "75%      220676.550000\n",
       "max      927350.000000\n",
       "Name: price_usd, dtype: float64"
      ]
     },
     "execution_count": 22,
     "metadata": {},
     "output_type": "execute_result"
    }
   ],
   "source": [
    "analizar.price_usd.describe()"
   ]
  },
  {
   "cell_type": "code",
   "execution_count": 23,
   "metadata": {
    "collapsed": true
   },
   "outputs": [],
   "source": [
    "resultado = analizar.loc[:,['id','price_usd']]\n",
    "resultado.to_csv('resultados/Extra_Trees_con_Kmeans.csv', index = False)"
   ]
  },
  {
   "cell_type": "markdown",
   "metadata": {},
   "source": [
    "# Con Gradient Boosting"
   ]
  },
  {
   "cell_type": "code",
   "execution_count": 24,
   "metadata": {
    "collapsed": true
   },
   "outputs": [],
   "source": [
    "from sklearn.ensemble import GradientBoostingRegressor"
   ]
  },
  {
   "cell_type": "code",
   "execution_count": 25,
   "metadata": {
    "collapsed": true
   },
   "outputs": [],
   "source": [
    "l = 'ls'\n",
    "n = 100\n",
    "d = 20\n",
    "lr = 0.3\n",
    "\n",
    "predictores = {}\n",
    "for i in range (cantidad_clusters):\n",
    "    gradient = GradientBoostingRegressor(loss = l, n_estimators = n, max_depth = d, learning_rate = lr)\n",
    "    \n",
    "    entrenamiento = set_entrenamiento.loc[set_entrenamiento.cluster == i,:]\n",
    "    datos = entrenamiento.loc[:, columnas]\n",
    "    resultado = entrenamiento.loc[:,'price_aprox_usd']\n",
    "    gradient.fit(datos, resultado)\n",
    "    predictores[i] = gradient"
   ]
  },
  {
   "cell_type": "code",
   "execution_count": 26,
   "metadata": {},
   "outputs": [
    {
     "name": "stdout",
     "output_type": "stream",
     "text": [
      "error = 426284062.432, cant_digitos = 9\n"
     ]
    }
   ],
   "source": [
    "set_pruebas.loc[:,'resultado'] = set_pruebas.loc[:,columnas].apply(lambda x: predecir(x,predictores,cluster),axis = 1)\n",
    "\n",
    "error = mean_squared_error(set_pruebas.price_aprox_usd, set_pruebas.resultado)\n",
    "print(\"error = {}, cant_digitos = {}\".format(error, len(str(int(round(error,0))))))"
   ]
  },
  {
   "cell_type": "code",
   "execution_count": 27,
   "metadata": {
    "collapsed": true
   },
   "outputs": [],
   "source": [
    "analizar = pd.read_csv(\"../properati_dataset_modificado.csv\")\n",
    "analizar.loc[:,'price_usd'] = analizar.loc[:,columnas].apply(lambda x: predecir(x,predictores,cluster),axis = 1)"
   ]
  },
  {
   "cell_type": "code",
   "execution_count": 28,
   "metadata": {},
   "outputs": [
    {
     "data": {
      "text/plain": [
       "count     14166.000000\n",
       "mean     185484.246547\n",
       "std      135922.984573\n",
       "min        9344.754494\n",
       "25%       98534.076265\n",
       "50%      146767.021788\n",
       "75%      224951.294443\n",
       "max      954999.998802\n",
       "Name: price_usd, dtype: float64"
      ]
     },
     "execution_count": 28,
     "metadata": {},
     "output_type": "execute_result"
    }
   ],
   "source": [
    "analizar.price_usd.describe()"
   ]
  },
  {
   "cell_type": "code",
   "execution_count": 29,
   "metadata": {
    "collapsed": true
   },
   "outputs": [],
   "source": [
    "resultado = analizar.loc[:,['id','price_usd']]\n",
    "resultado.to_csv('resultados/Gradient_Boosting_con_Kmeans.csv', index = False)"
   ]
  },
  {
   "cell_type": "markdown",
   "metadata": {},
   "source": [
    "# Con Ada Boost"
   ]
  },
  {
   "cell_type": "code",
   "execution_count": 70,
   "metadata": {
    "collapsed": true
   },
   "outputs": [],
   "source": [
    "from sklearn.ensemble import AdaBoostRegressor"
   ]
  },
  {
   "cell_type": "code",
   "execution_count": 71,
   "metadata": {
    "collapsed": true
   },
   "outputs": [],
   "source": [
    "l = 'square'\n",
    "lr = 0.3\n",
    "n = 100\n",
    "\n",
    "predictores = {}\n",
    "for i in range (cantidad_clusters):\n",
    "    ada = AdaBoostRegressor(loss = l, learning_rate = lr, n_estimators = n)\n",
    "    \n",
    "    entrenamiento = set_entrenamiento.loc[set_entrenamiento.cluster == i,:]\n",
    "    datos = entrenamiento.loc[:, columnas]\n",
    "    resultado = entrenamiento.loc[:,'price_aprox_usd']\n",
    "    ada.fit(datos, resultado)\n",
    "    predictores[i] = ada"
   ]
  },
  {
   "cell_type": "code",
   "execution_count": 72,
   "metadata": {},
   "outputs": [
    {
     "name": "stdout",
     "output_type": "stream",
     "text": [
      "error = 6490206014.6, cant_digitos = 10\n"
     ]
    }
   ],
   "source": [
    "set_pruebas.loc[:,'resultado'] = set_pruebas.loc[:,columnas].apply(lambda x: predecir(x,predictores,cluster),axis = 1)\n",
    "\n",
    "error = mean_squared_error(set_pruebas.price_aprox_usd, set_pruebas.resultado)\n",
    "print(\"error = {}, cant_digitos = {}\".format(error, len(str(int(round(error,0))))))"
   ]
  },
  {
   "cell_type": "code",
   "execution_count": 73,
   "metadata": {
    "collapsed": true
   },
   "outputs": [],
   "source": [
    "l = 'linear'\n",
    "lr = 0.3\n",
    "n = 100\n",
    "\n",
    "predictores = {}\n",
    "for i in range (cantidad_clusters):\n",
    "    ada = AdaBoostRegressor(loss = l, learning_rate = lr, n_estimators = n)\n",
    "\n",
    "    entrenamiento = set_entrenamiento.loc[set_entrenamiento.cluster == i,:]\n",
    "    datos = entrenamiento.loc[:, columnas]\n",
    "    resultado = entrenamiento.loc[:,'price_aprox_usd']\n",
    "    ada.fit(datos, resultado)\n",
    "    predictores[i] = ada"
   ]
  },
  {
   "cell_type": "code",
   "execution_count": 74,
   "metadata": {},
   "outputs": [
    {
     "name": "stdout",
     "output_type": "stream",
     "text": [
      "error = 4878089438.17, cant_digitos = 10\n"
     ]
    }
   ],
   "source": [
    "set_pruebas.loc[:,'resultado'] = set_pruebas.loc[:,columnas].apply(lambda x: predecir(x,predictores,cluster),axis = 1)\n",
    "\n",
    "error = mean_squared_error(set_pruebas.price_aprox_usd, set_pruebas.resultado)\n",
    "print(\"error = {}, cant_digitos = {}\".format(error, len(str(int(round(error,0))))))"
   ]
  },
  {
   "cell_type": "markdown",
   "metadata": {},
   "source": [
    "# Con XGBoost"
   ]
  },
  {
   "cell_type": "code",
   "execution_count": 75,
   "metadata": {
    "collapsed": true
   },
   "outputs": [],
   "source": [
    "import xgboost"
   ]
  },
  {
   "cell_type": "code",
   "execution_count": 76,
   "metadata": {
    "collapsed": true
   },
   "outputs": [],
   "source": [
    "d = 10\n",
    "n = 500\n",
    "lr = 0.5 \n",
    "b = 'gbtree'\n",
    "\n",
    "predictores = {}\n",
    "for i in range (cantidad_clusters):\n",
    "    xgb = xgboost.XGBRegressor(n_estimators = n, learning_rate = lr, booster = b, max_depth = d)\n",
    "    \n",
    "    entrenamiento = set_entrenamiento.loc[set_entrenamiento.cluster == i,:]\n",
    "    datos = entrenamiento.loc[:, columnas]\n",
    "    resultado = entrenamiento.loc[:,'price_aprox_usd']\n",
    "    xgb.fit(datos, resultado)\n",
    "    predictores[i] = xgb"
   ]
  },
  {
   "cell_type": "code",
   "execution_count": 77,
   "metadata": {},
   "outputs": [
    {
     "name": "stdout",
     "output_type": "stream",
     "text": [
      "error = 12799245350.4, cant_digitos = 11\n"
     ]
    }
   ],
   "source": [
    "set_pruebas.loc[:,'resultado'] = xgb.predict(set_pruebas.loc[:,columnas])\n",
    "\n",
    "error = mean_squared_error(set_pruebas.price_aprox_usd, set_pruebas.resultado)\n",
    "print(\"error = {}, cant_digitos = {}\".format(error, len(str(int(round(error,0))))))"
   ]
  },
  {
   "cell_type": "markdown",
   "metadata": {},
   "source": [
    "# Con Perceptron"
   ]
  },
  {
   "cell_type": "code",
   "execution_count": 78,
   "metadata": {
    "collapsed": true
   },
   "outputs": [],
   "source": [
    "from sklearn.neural_network import MLPRegressor"
   ]
  },
  {
   "cell_type": "code",
   "execution_count": 79,
   "metadata": {
    "collapsed": true
   },
   "outputs": [],
   "source": [
    "solver = 'lbfgs'\n",
    "activation = 'logistic'\n",
    "tol=1e-10\n",
    "warm_start = True\n",
    "\n",
    "predictores = {}\n",
    "for i in range (cantidad_clusters):\n",
    "    perceptron = MLPRegressor(solver = solver, activation = activation, tol = tol,  warm_start = warm_start)\n",
    "    \n",
    "    entrenamiento = set_entrenamiento.loc[set_entrenamiento.cluster == i,:]\n",
    "    datos = entrenamiento.loc[:, columnas]\n",
    "    resultado = entrenamiento.loc[:,'price_aprox_usd']\n",
    "    #for k in range(6):\n",
    "    #    perceptron.fit(datos,resultado)\n",
    "    perceptron.fit(datos, resultado)\n",
    "    predictores[i] = perceptron"
   ]
  },
  {
   "cell_type": "code",
   "execution_count": 80,
   "metadata": {},
   "outputs": [
    {
     "name": "stdout",
     "output_type": "stream",
     "text": [
      "error = 9333433950.44, cant_digitos = 10\n"
     ]
    }
   ],
   "source": [
    "set_pruebas.loc[:,'resultado'] = set_pruebas.loc[:,columnas].apply(lambda x: predecir(x,predictores,cluster),axis = 1)\n",
    "\n",
    "error = mean_squared_error(set_pruebas.price_aprox_usd, set_pruebas.resultado)\n",
    "print(\"error = {}, cant_digitos = {}\".format(error, len(str(int(round(error,0))))))"
   ]
  },
  {
   "cell_type": "code",
   "execution_count": null,
   "metadata": {
    "collapsed": true
   },
   "outputs": [],
   "source": []
  },
  {
   "cell_type": "code",
   "execution_count": null,
   "metadata": {
    "collapsed": true
   },
   "outputs": [],
   "source": []
  },
  {
   "cell_type": "code",
   "execution_count": null,
   "metadata": {
    "collapsed": true
   },
   "outputs": [],
   "source": []
  },
  {
   "cell_type": "code",
   "execution_count": null,
   "metadata": {
    "collapsed": true
   },
   "outputs": [],
   "source": []
  },
  {
   "cell_type": "code",
   "execution_count": null,
   "metadata": {
    "collapsed": true
   },
   "outputs": [],
   "source": [
    "# probar de reemplazar esto"
   ]
  },
  {
   "cell_type": "code",
   "execution_count": null,
   "metadata": {
    "collapsed": true
   },
   "outputs": [],
   "source": [
    "def crear_cluster(cantidad_cluster, data_frame, datos, resultado):\n",
    "    cluster = KMeans(n_clusters = cantidad_cluster)\n",
    "    m = cluster.fit_predict(datos, resultado)\n",
    "    data_frame.loc[:, 'cluster'] = m\n",
    "    return cluster"
   ]
  }
 ],
 "metadata": {
  "kernelspec": {
   "display_name": "Python 3",
   "language": "python",
   "name": "python3"
  },
  "language_info": {
   "codemirror_mode": {
    "name": "ipython",
    "version": 2
   },
   "file_extension": ".py",
   "mimetype": "text/x-python",
   "name": "python",
   "nbconvert_exporter": "python",
   "pygments_lexer": "ipython2",
   "version": "2.7.12"
  }
 },
 "nbformat": 4,
 "nbformat_minor": 2
}
