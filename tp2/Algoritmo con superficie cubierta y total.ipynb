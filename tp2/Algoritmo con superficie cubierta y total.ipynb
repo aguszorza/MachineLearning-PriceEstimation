{
 "cells": [
  {
   "cell_type": "markdown",
   "metadata": {},
   "source": [
    "## Voy a probar usando superficie cubierta y superficie total"
   ]
  },
  {
   "cell_type": "code",
   "execution_count": 1,
   "metadata": {
    "collapsed": true
   },
   "outputs": [],
   "source": [
    "import pandas as pd\n",
    "import numpy as np\n",
    "from sklearn.tree import DecisionTreeRegressor\n",
    "from sklearn.metrics import mean_squared_error\n",
    "from sklearn.model_selection import GridSearchCV\n",
    "from sklearn.externals import joblib\n",
    "import time\n",
    "from sklearn.model_selection import train_test_split\n",
    "\n",
    "import warnings\n",
    "warnings.simplefilter(\"ignore\", category=DeprecationWarning)"
   ]
  },
  {
   "cell_type": "code",
   "execution_count": 2,
   "metadata": {
    "collapsed": true
   },
   "outputs": [],
   "source": [
    "propiedades = pd.read_csv('../../set_datos_superficies.csv')\n",
    "\n",
    "sup_min = 10\n",
    "sup_max = 300\n",
    "lat_min = -35\n",
    "lat_max = -34\n",
    "lon_min = -59\n",
    "lon_max = -58\n",
    "precio_min = 30000\n",
    "precio_max = 3000000\n",
    "\n",
    "propiedades = propiedades.loc[(propiedades.price_aprox_usd.notnull()) \\\n",
    "                              & (propiedades.lat.notnull()) & (propiedades.lon.notnull()) \\\n",
    "                        & (propiedades.price_aprox_usd <= precio_max) & (propiedades.price_aprox_usd >= precio_min) &\\\n",
    "                         (propiedades.lat <= lat_max) & (propiedades.lat >= lat_min) &\\\n",
    "                       (propiedades.lon <= lon_max) & (propiedades.lon >= lon_min),:]"
   ]
  },
  {
   "cell_type": "code",
   "execution_count": 3,
   "metadata": {
    "collapsed": true
   },
   "outputs": [],
   "source": [
    "set_pruebas = pd.read_csv('../properati_dataset_modificado2.csv')\n",
    "set_pruebas.loc[:,'price_usd'] = 0\n",
    "\n",
    "def normalizar_sup(s):\n",
    "    if not s:\n",
    "        return None\n",
    "    if s < sup_min:\n",
    "        return sup_min\n",
    "    if s > sup_max:\n",
    "        return sup_max\n",
    "    return s\n",
    "\n",
    "set_pruebas.loc[:,'surface_covered_in_m2'] = set_pruebas.loc[:,'surface_covered_in_m2'].apply(lambda x: normalizar_sup(x))\n",
    "set_pruebas.loc[:,'surface_total_in_m2'] = set_pruebas.loc[:,'surface_total_in_m2'].apply(lambda x: normalizar_sup(x))"
   ]
  },
  {
   "cell_type": "markdown",
   "metadata": {},
   "source": [
    "# Prueba"
   ]
  },
  {
   "cell_type": "code",
   "execution_count": 3,
   "metadata": {
    "collapsed": true
   },
   "outputs": [],
   "source": [
    "columnas = ['surface_covered_in_m2','surface_total_in_m2','lat', 'lon','property_type_encoded','gimnasio']\n",
    "cond_prop = (propiedades.surface_covered_in_m2.notnull()) & (propiedades.surface_total_in_m2.notnull()) &\\\n",
    "                    (propiedades.surface_covered_in_m2 <= sup_max) & (propiedades.surface_covered_in_m2 >= sup_min) &\\\n",
    "            (propiedades.surface_total_in_m2 <= sup_max) & (propiedades.surface_total_in_m2 >= sup_min) \n",
    "        \n",
    "X_train, X_test, y_train, y_test = train_test_split(propiedades.loc[cond_prop,columnas], \\\n",
    "                                        propiedades.loc[cond_prop,'price_aprox_usd'], test_size=0.2)"
   ]
  },
  {
   "cell_type": "code",
   "execution_count": 4,
   "metadata": {},
   "outputs": [
    {
     "name": "stdout",
     "output_type": "stream",
     "text": [
      "Precision = 97.11,  error = 1264832770, dig = 10\n"
     ]
    }
   ],
   "source": [
    "tree = DecisionTreeRegressor(criterion = 'mse', max_depth = 100, max_features = 0.8)\n",
    "    \n",
    "tree.fit(X_train,y_train)\n",
    "precision = tree.score(X_test,y_test) * 100\n",
    "error = mean_squared_error(tree.predict(X_test), y_test)\n",
    "print(\"Precision = {:.2f},  error = {:.0f}, dig = {}\".format(precision,error,len(str(int(round(error,0))))))"
   ]
  },
  {
   "cell_type": "markdown",
   "metadata": {},
   "source": [
    "# Calculo para aquellos que tienen tanto superficie total como cubierta"
   ]
  },
  {
   "cell_type": "code",
   "execution_count": 4,
   "metadata": {
    "collapsed": true
   },
   "outputs": [],
   "source": [
    "condiciones = (set_pruebas.surface_covered_in_m2.notnull()) & (set_pruebas.surface_total_in_m2.notnull())\n",
    "cond_prop = (propiedades.surface_covered_in_m2.notnull()) & (propiedades.surface_total_in_m2.notnull()) &\\\n",
    "                    (propiedades.surface_covered_in_m2 <= sup_max) & (propiedades.surface_covered_in_m2 >= sup_min) &\\\n",
    "            (propiedades.surface_total_in_m2 <= sup_max) & (propiedades.surface_total_in_m2 >= sup_min) \n"
   ]
  },
  {
   "cell_type": "code",
   "execution_count": 5,
   "metadata": {},
   "outputs": [
    {
     "name": "stdout",
     "output_type": "stream",
     "text": [
      "0-1-2-3-4-5-6-7-8-9-10-11-12-13-14-"
     ]
    }
   ],
   "source": [
    "cant =15\n",
    "columnas = ['surface_covered_in_m2','surface_total_in_m2','lat', 'lon','property_type_encoded','gimnasio']\n",
    "\n",
    "for i in range(cant):\n",
    "    datos = propiedades.loc[cond_prop,:].sample(frac = 0.8)\n",
    "    set_entrenamiento_datos = datos.loc[:,columnas]\n",
    "    set_entrenamiento_resultado = datos.loc[:,'price_aprox_usd']\n",
    "    \n",
    "    tree = DecisionTreeRegressor(criterion = 'mse', max_depth = 100, max_features = 0.8)\n",
    "    \n",
    "    tree.fit(set_entrenamiento_datos,set_entrenamiento_resultado)\n",
    "    set_pruebas.loc[condiciones,'price_usd'] = set_pruebas.loc[condiciones,'price_usd'] + \\\n",
    "            set_pruebas.loc[condiciones,columnas].apply(lambda x: tree.predict([x])[0],axis = 1)\n",
    "    print(i,end = '-')\n",
    "\n",
    "set_pruebas.loc[condiciones,'price_usd'] = set_pruebas.loc[condiciones,'price_usd'] / cant"
   ]
  },
  {
   "cell_type": "markdown",
   "metadata": {},
   "source": [
    "# Calculo para aquellos que solo tienen superficie cubierta"
   ]
  },
  {
   "cell_type": "code",
   "execution_count": 6,
   "metadata": {
    "collapsed": true
   },
   "outputs": [],
   "source": [
    "condiciones = (set_pruebas.surface_covered_in_m2.notnull()) & (set_pruebas.price_usd == 0)\n",
    "cond_prop = (propiedades.surface_covered_in_m2.notnull()) &\\\n",
    "        (propiedades.surface_covered_in_m2 <= sup_max) & (propiedades.surface_covered_in_m2 >= sup_min)"
   ]
  },
  {
   "cell_type": "code",
   "execution_count": 7,
   "metadata": {},
   "outputs": [
    {
     "name": "stdout",
     "output_type": "stream",
     "text": [
      "0-1-2-3-4-5-6-7-8-9-10-11-12-13-14-"
     ]
    }
   ],
   "source": [
    "cant = 15\n",
    "columnas = ['surface_covered_in_m2','lat', 'lon','property_type_encoded']\n",
    "\n",
    "for i in range(cant):\n",
    "    datos = propiedades.loc[cond_prop,:].sample(frac = 0.8)\n",
    "    set_entrenamiento_datos = datos.loc[:,columnas]\n",
    "    set_entrenamiento_resultado = datos.loc[:,'price_aprox_usd']\n",
    "    \n",
    "    tree = DecisionTreeRegressor(criterion = 'mse', max_depth = 100, max_features = 0.8)\n",
    "    \n",
    "    tree.fit(set_entrenamiento_datos,set_entrenamiento_resultado)\n",
    "    set_pruebas.loc[condiciones,'price_usd'] = set_pruebas.loc[condiciones,'price_usd'] + \\\n",
    "            set_pruebas.loc[condiciones,columnas].apply(lambda x: tree.predict([x])[0],axis = 1)\n",
    "    print(i,end = '-')\n",
    "\n",
    "set_pruebas.loc[condiciones,'price_usd'] = set_pruebas.loc[condiciones,'price_usd'] / cant"
   ]
  },
  {
   "cell_type": "markdown",
   "metadata": {},
   "source": [
    "# Calculo para aquellos que solo tienen superficie total"
   ]
  },
  {
   "cell_type": "code",
   "execution_count": 8,
   "metadata": {
    "collapsed": true
   },
   "outputs": [],
   "source": [
    "condiciones = (set_pruebas.surface_total_in_m2.notnull()) & (set_pruebas.price_usd == 0)\n",
    "cond_prop = (propiedades.surface_total_in_m2.notnull()) &\\\n",
    "            (propiedades.surface_total_in_m2 <= sup_max) & (propiedades.surface_total_in_m2 >= sup_min)"
   ]
  },
  {
   "cell_type": "code",
   "execution_count": 9,
   "metadata": {},
   "outputs": [
    {
     "name": "stdout",
     "output_type": "stream",
     "text": [
      "0-1-2-3-4-5-6-7-8-9-10-11-12-13-14-"
     ]
    }
   ],
   "source": [
    "cant = 15\n",
    "columnas = ['surface_total_in_m2','lat', 'lon','property_type_encoded','gimnasio','pileta']\n",
    "\n",
    "for i in range(cant):\n",
    "    datos = propiedades.loc[cond_prop,:].sample(frac = 0.8)\n",
    "    set_entrenamiento_datos = datos.loc[:,columnas]\n",
    "    set_entrenamiento_resultado = datos.loc[:,'price_aprox_usd']\n",
    "    \n",
    "    tree = DecisionTreeRegressor(criterion = 'mse', max_depth = 100, max_features = 0.8)\n",
    "    \n",
    "    tree.fit(set_entrenamiento_datos,set_entrenamiento_resultado)\n",
    "    set_pruebas.loc[condiciones,'price_usd'] = set_pruebas.loc[condiciones,'price_usd'] + \\\n",
    "            set_pruebas.loc[condiciones,columnas].apply(lambda x: tree.predict([x])[0],axis = 1)\n",
    "    print(i,end = '-')\n",
    "\n",
    "set_pruebas.loc[condiciones,'price_usd'] = set_pruebas.loc[condiciones,'price_usd'] / cant"
   ]
  },
  {
   "cell_type": "markdown",
   "metadata": {},
   "source": [
    "# Calculo para aquellos que no tienen superficie"
   ]
  },
  {
   "cell_type": "code",
   "execution_count": 10,
   "metadata": {
    "collapsed": true
   },
   "outputs": [],
   "source": [
    "condiciones =  (set_pruebas.price_usd == 0)"
   ]
  },
  {
   "cell_type": "code",
   "execution_count": 11,
   "metadata": {},
   "outputs": [
    {
     "name": "stdout",
     "output_type": "stream",
     "text": [
      "0-1-2-3-4-5-6-7-8-9-10-11-12-13-14-"
     ]
    }
   ],
   "source": [
    "cant = 15\n",
    "columnas = ['lat', 'lon','property_type_encoded','pileta']\n",
    "\n",
    "for i in range(cant):\n",
    "    datos = propiedades.sample(frac = 0.8)\n",
    "    set_entrenamiento_datos = datos.loc[:,columnas]\n",
    "    set_entrenamiento_resultado = datos.loc[:,'price_aprox_usd']\n",
    "    \n",
    "    tree = DecisionTreeRegressor(criterion = 'mse', max_depth = 100, max_features = 0.8)\n",
    "    \n",
    "    tree.fit(set_entrenamiento_datos,set_entrenamiento_resultado)\n",
    "    set_pruebas.loc[condiciones,'price_usd'] = set_pruebas.loc[condiciones,'price_usd'] + \\\n",
    "            set_pruebas.loc[condiciones,columnas].apply(lambda x: tree.predict([x])[0],axis = 1)\n",
    "    print(i,end = '-')\n",
    "\n",
    "set_pruebas.loc[condiciones,'price_usd'] = set_pruebas.loc[condiciones,'price_usd'] / cant"
   ]
  },
  {
   "cell_type": "markdown",
   "metadata": {},
   "source": [
    "### Resultado final"
   ]
  },
  {
   "cell_type": "code",
   "execution_count": 13,
   "metadata": {},
   "outputs": [
    {
     "data": {
      "text/html": [
       "<div>\n",
       "<style>\n",
       "    .dataframe thead tr:only-child th {\n",
       "        text-align: right;\n",
       "    }\n",
       "\n",
       "    .dataframe thead th {\n",
       "        text-align: left;\n",
       "    }\n",
       "\n",
       "    .dataframe tbody tr th {\n",
       "        vertical-align: top;\n",
       "    }\n",
       "</style>\n",
       "<table border=\"1\" class=\"dataframe\">\n",
       "  <thead>\n",
       "    <tr style=\"text-align: right;\">\n",
       "      <th></th>\n",
       "      <th>id</th>\n",
       "      <th>price_usd</th>\n",
       "    </tr>\n",
       "  </thead>\n",
       "  <tbody>\n",
       "    <tr>\n",
       "      <th>count</th>\n",
       "      <td>1.416600e+04</td>\n",
       "      <td>1.416600e+04</td>\n",
       "    </tr>\n",
       "    <tr>\n",
       "      <th>mean</th>\n",
       "      <td>2.285382e+06</td>\n",
       "      <td>2.070423e+05</td>\n",
       "    </tr>\n",
       "    <tr>\n",
       "      <th>std</th>\n",
       "      <td>4.290968e+04</td>\n",
       "      <td>1.969797e+05</td>\n",
       "    </tr>\n",
       "    <tr>\n",
       "      <th>min</th>\n",
       "      <td>3.632000e+03</td>\n",
       "      <td>3.000000e+04</td>\n",
       "    </tr>\n",
       "    <tr>\n",
       "      <th>25%</th>\n",
       "      <td>2.271809e+06</td>\n",
       "      <td>9.966667e+04</td>\n",
       "    </tr>\n",
       "    <tr>\n",
       "      <th>50%</th>\n",
       "      <td>2.290284e+06</td>\n",
       "      <td>1.447974e+05</td>\n",
       "    </tr>\n",
       "    <tr>\n",
       "      <th>75%</th>\n",
       "      <td>2.309395e+06</td>\n",
       "      <td>2.367954e+05</td>\n",
       "    </tr>\n",
       "    <tr>\n",
       "      <th>max</th>\n",
       "      <td>2.332338e+06</td>\n",
       "      <td>2.130000e+06</td>\n",
       "    </tr>\n",
       "  </tbody>\n",
       "</table>\n",
       "</div>"
      ],
      "text/plain": [
       "                 id     price_usd\n",
       "count  1.416600e+04  1.416600e+04\n",
       "mean   2.285382e+06  2.070423e+05\n",
       "std    4.290968e+04  1.969797e+05\n",
       "min    3.632000e+03  3.000000e+04\n",
       "25%    2.271809e+06  9.966667e+04\n",
       "50%    2.290284e+06  1.447974e+05\n",
       "75%    2.309395e+06  2.367954e+05\n",
       "max    2.332338e+06  2.130000e+06"
      ]
     },
     "execution_count": 13,
     "metadata": {},
     "output_type": "execute_result"
    }
   ],
   "source": [
    "resultado = set_pruebas.loc[:,['id','price_usd']]\n",
    "\n",
    "resultado.to_csv('resultados/Decision_tree_superficies.csv', index = False)\n",
    "resultado.describe()"
   ]
  }
 ],
 "metadata": {
  "kernelspec": {
   "display_name": "Python 3",
   "language": "python",
   "name": "python3"
  },
  "language_info": {
   "codemirror_mode": {
    "name": "ipython",
    "version": 3
   },
   "file_extension": ".py",
   "mimetype": "text/x-python",
   "name": "python",
   "nbconvert_exporter": "python",
   "pygments_lexer": "ipython3",
   "version": "3.6.1"
  }
 },
 "nbformat": 4,
 "nbformat_minor": 2
}
