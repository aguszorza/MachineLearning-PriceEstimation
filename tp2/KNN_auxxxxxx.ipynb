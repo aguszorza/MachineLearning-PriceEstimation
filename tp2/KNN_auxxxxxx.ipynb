{
 "cells": [
  {
   "cell_type": "code",
   "execution_count": null,
   "metadata": {
    "collapsed": true
   },
   "outputs": [],
   "source": [
    "import pandas as pd\n",
    "import numpy as np\n",
    "from sklearn.metrics import mean_squared_error\n",
    "from sklearn.neighbors import KNeighborsRegressor\n",
    "from sklearn.preprocessing import StandardScaler \n",
    "from sklearn.model_selection import GridSearchCV\n",
    "from sklearn.externals import joblib\n",
    "import time\n",
    "from sklearn.decomposition import TruncatedSVD\n",
    "from sklearn.model_selection import train_test_split\n",
    "\n",
    "import warnings\n",
    "warnings.simplefilter(\"ignore\", category=DeprecationWarning)"
   ]
  },
  {
   "cell_type": "markdown",
   "metadata": {},
   "source": [
    "# Grid Search y Cross Validation definitivo"
   ]
  },
  {
   "cell_type": "code",
   "execution_count": null,
   "metadata": {
    "collapsed": true
   },
   "outputs": [],
   "source": [
    "sup_min = 10\n",
    "sup_max = 300\n",
    "lat_min = -35\n",
    "lat_max = -34\n",
    "lon_min = -59\n",
    "lon_max = -58\n",
    "precio_min = 30000\n",
    "precio_max = 3000000"
   ]
  },
  {
   "cell_type": "code",
   "execution_count": null,
   "metadata": {
    "collapsed": true
   },
   "outputs": [],
   "source": [
    "propiedades = pd.read_csv('../../datos_con_fecha.csv')\n",
    "\n",
    "propiedades = propiedades.loc[(propiedades.price_aprox_usd.notnull()) & (propiedades.superficie.notnull())\\\n",
    "                              & (propiedades.lat.notnull()) & (propiedades.lon.notnull()) & (propiedades.Year >=2017)\\\n",
    "                        & (propiedades.price_aprox_usd <= precio_max) & (propiedades.price_aprox_usd >= precio_min) &\\\n",
    "                         (propiedades.superficie <= sup_max) & (propiedades.superficie >= sup_min) &\\\n",
    "                      (propiedades.lat <= lat_max) & (propiedades.lat >= lat_min) &\\\n",
    "                       (propiedades.lon <= lon_max) & (propiedades.lon >= lon_min),:]\n",
    "\n",
    "columnas = ['superficie','lat', 'lon','property_type_encoded','seguridad','gimnasio', 'aire', \\\n",
    "            'pileta', 'cochera','transporte','comercio', 'servicios', 'doble piso', 'jardin','fecha']\n",
    "\n",
    "set_entrenamiento_datos = propiedades.loc[:,columnas]\n",
    "set_entrenamiento_resultado = propiedades.loc[:,'price_aprox_usd']\n"
   ]
  },
  {
   "cell_type": "code",
   "execution_count": null,
   "metadata": {
    "collapsed": true
   },
   "outputs": [],
   "source": [
    "# Parametros\n",
    "\n",
    "lista_k = [2,3,10,15,20,30,50]\n",
    "lista_dist = [1,2,5]\n",
    "\n",
    "parametros = {\"n_neighbors\" : lista_k, \"p\" : lista_dist}\n",
    "\n",
    "iteraciones_cross_validation = 5\n",
    "knn = KNeighborsRegressor()"
   ]
  },
  {
   "cell_type": "code",
   "execution_count": null,
   "metadata": {
    "collapsed": true
   },
   "outputs": [],
   "source": [
    "inicio = time.strftime(\"%X\")\n",
    "\n",
    "grid = GridSearchCV( estimator = knn, param_grid = parametros, n_jobs = 2, cv = iteraciones_cross_validation)\n",
    "\n",
    "grid.fit(set_entrenamiento_datos, set_entrenamiento_resultado)\n",
    "\n",
    "score = grid.best_score_ * 100\n",
    "mejores_parametros = grid.best_params_\n",
    "fin = time.strftime(\"%X\")\n",
    "\n",
    "print(\"Tiempo: {} --- {} \\n Precision: {:.2f} \\n Parametros = {}\".format(inicio,fin,score,mejores_parametros))"
   ]
  },
  {
   "cell_type": "code",
   "execution_count": null,
   "metadata": {
    "collapsed": true
   },
   "outputs": [],
   "source": [
    "analizar = pd.read_csv(\"../properati_dataset_modificado2.csv\")\n",
    "\n",
    "analizar.loc[:,'price_usd'] = analizar.loc[:,columnas].apply(lambda x: grid.predict([x])[0],axis = 1)\n",
    "\n",
    "resultado = analizar.loc[:,['id','price_usd']]\n",
    "\n",
    "resultado.to_csv('resultados/Knn_GridSearch_definitivo_conFecha.csv', index = False)\n",
    "joblib.dump(grid, 'algoritmos/Knn_definitivo_conFecha.pkl')"
   ]
  },
  {
   "cell_type": "markdown",
   "metadata": {},
   "source": [
    "# Haciendo bagging"
   ]
  },
  {
   "cell_type": "code",
   "execution_count": null,
   "metadata": {
    "collapsed": true
   },
   "outputs": [],
   "source": [
    "propiedades = pd.read_csv('../../datos_con_fecha.csv')\n",
    "\n",
    "sup_min = 10\n",
    "sup_max = 300\n",
    "lat_min = -35\n",
    "lat_max = -34\n",
    "lon_min = -59\n",
    "lon_max = -58\n",
    "precio_min = 30000\n",
    "precio_max = 3000000\n",
    "\n",
    "propiedades = propiedades.loc[(propiedades.price_aprox_usd.notnull()) & (propiedades.superficie.notnull())\\\n",
    "                              & (propiedades.lat.notnull()) & (propiedades.lon.notnull()) & (propiedades.Year >=2017)\\\n",
    "                        & (propiedades.price_aprox_usd <= precio_max) & (propiedades.price_aprox_usd >= precio_min) &\\\n",
    "                         (propiedades.superficie <= sup_max) & (propiedades.superficie >= sup_min) &\\\n",
    "                      (propiedades.lat <= lat_max) & (propiedades.lat >= lat_min) &\\\n",
    "                       (propiedades.lon <= lon_max) & (propiedades.lon >= lon_min),:]\n",
    "\n",
    "set_pruebas = pd.read_csv(\"../properati_dataset_modificado2.csv\")\n",
    "set_pruebas.loc[:,'price_usd'] = 0.0"
   ]
  },
  {
   "cell_type": "code",
   "execution_count": null,
   "metadata": {
    "collapsed": true
   },
   "outputs": [],
   "source": [
    "cant = 10\n",
    "col = ['superficie','lat', 'lon','property_type_encoded','fecha']\n",
    "comodidades = ['seguridad','gimnasio','aire','pileta','cochera','transporte','comercio','servicios','doble piso','jardin']\n",
    "\n",
    "for i in range(cant):\n",
    "    com = list(np.random.choice(comodidades,6,replace = False))\n",
    "    columnas = col + com\n",
    "    set_entrenamiento_datos = propiedades.loc[:,columnas]\n",
    "    set_entrenamiento_resultado = propiedades.loc[:,'price_aprox_usd']\n",
    "    \n",
    "    knn = KNeighborsRegressor(n_neighbors = , p = )\n",
    "    \n",
    "    knn.fit(set_entrenamiento_datos,set_entrenamiento_resultado)\n",
    "    set_pruebas.loc[:,'res'] = set_pruebas.loc[:,columnas].apply(lambda x: knn.predict([x])[0],axis = 1)\n",
    "    set_pruebas.loc[:,'price_usd'] = set_pruebas.loc[:,'price_usd'] + set_pruebas.loc[:,'res']"
   ]
  },
  {
   "cell_type": "code",
   "execution_count": null,
   "metadata": {
    "collapsed": true
   },
   "outputs": [],
   "source": [
    "set_pruebas.loc[:,'price_usd'] = set_pruebas.loc[:,'price_usd'] / cant\n",
    "\n",
    "resultado = set_pruebas.loc[:,['id','price_usd']]\n",
    "\n",
    "resultado.to_csv('resultados/Knn_bagging_definitivo_conFecha.csv', index = False)"
   ]
  },
  {
   "cell_type": "markdown",
   "metadata": {},
   "source": [
    "# Haciendo bagging con Standard Scaler"
   ]
  },
  {
   "cell_type": "code",
   "execution_count": null,
   "metadata": {
    "collapsed": true
   },
   "outputs": [],
   "source": [
    "propiedades = pd.read_csv('../../datos_con_fecha.csv')\n",
    "\n",
    "sup_min = 10\n",
    "sup_max = 300\n",
    "lat_min = -35\n",
    "lat_max = -34\n",
    "lon_min = -59\n",
    "lon_max = -58\n",
    "precio_min = 30000\n",
    "precio_max = 3000000\n",
    "\n",
    "propiedades = propiedades.loc[(propiedades.price_aprox_usd.notnull()) & (propiedades.superficie.notnull())\\\n",
    "                              & (propiedades.lat.notnull()) & (propiedades.lon.notnull()) & (propiedades.Year >=2017)\\\n",
    "                        & (propiedades.price_aprox_usd <= precio_max) & (propiedades.price_aprox_usd >= precio_min) &\\\n",
    "                         (propiedades.superficie <= sup_max) & (propiedades.superficie >= sup_min) &\\\n",
    "                      (propiedades.lat <= lat_max) & (propiedades.lat >= lat_min) &\\\n",
    "                       (propiedades.lon <= lon_max) & (propiedades.lon >= lon_min),:]\n",
    "\n",
    "set_pruebas = pd.read_csv(\"../properati_dataset_modificado2.csv\")\n",
    "set_pruebas.loc[:,'price_usd'] = 0.0"
   ]
  },
  {
   "cell_type": "code",
   "execution_count": null,
   "metadata": {
    "collapsed": true
   },
   "outputs": [],
   "source": [
    "cant = 10\n",
    "col = ['superficie','lat', 'lon','property_type_encoded','fecha']\n",
    "comodidades = ['seguridad','gimnasio','aire','pileta','cochera','transporte','comercio','servicios','doble piso','jardin']\n",
    "\n",
    "for i in range(cant):\n",
    "    com = list(np.random.choice(comodidades,6,replace = False))\n",
    "    columnas = col + com\n",
    "    set_entrenamiento_datos = propiedades.loc[:,columnas]\n",
    "    set_entrenamiento_resultado = propiedades.loc[:,'price_aprox_usd']\n",
    "    \n",
    "    scaler = StandardScaler()\n",
    "    set_entrenamiento_datos = scaler.fit_transform(set_entrenamiento_datos)\n",
    "    \n",
    "    knn = KNeighborsRegressor(n_neighbors = , p = )\n",
    "    \n",
    "    knn.fit(set_entrenamiento_datos,set_entrenamiento_resultado)\n",
    "    set_pruebas.loc[:,'res'] = set_pruebas.loc[:,columnas].apply(lambda x: knn.predict([scaler.transform(x)])[0],axis = 1)\n",
    "    set_pruebas.loc[:,'price_usd'] = set_pruebas.loc[:,'price_usd'] + set_pruebas.loc[:,'res']"
   ]
  },
  {
   "cell_type": "code",
   "execution_count": null,
   "metadata": {
    "collapsed": true
   },
   "outputs": [],
   "source": [
    "set_pruebas.loc[:,'price_usd'] = set_pruebas.loc[:,'price_usd'] / cant\n",
    "\n",
    "resultado = set_pruebas.loc[:,['id','price_usd']]\n",
    "\n",
    "resultado.to_csv('resultados/Knn_bagging_definitivo_conFecha_StandardScaler.csv', index = False)"
   ]
  }
 ],
 "metadata": {
  "kernelspec": {
   "display_name": "Python 3",
   "language": "python",
   "name": "python3"
  },
  "language_info": {
   "codemirror_mode": {
    "name": "ipython",
    "version": 3
   },
   "file_extension": ".py",
   "mimetype": "text/x-python",
   "name": "python",
   "nbconvert_exporter": "python",
   "pygments_lexer": "ipython3",
   "version": "3.6.1"
  }
 },
 "nbformat": 4,
 "nbformat_minor": 2
}
