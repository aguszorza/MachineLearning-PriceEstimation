{
 "cells": [
  {
   "cell_type": "code",
   "execution_count": 1,
   "metadata": {
    "collapsed": true
   },
   "outputs": [],
   "source": [
    "%matplotlib inline\n",
    "\n",
    "import pandas as pd\n",
    "import numpy as np\n",
    "import matplotlib.pyplot as plt\n",
    "import geopandas as gpd\n",
    "from shapely.geometry import Polygon, MultiPolygon, Point\n",
    "from geopandas import GeoDataFrame\n",
    "from sklearn import preprocessing\n",
    "\n",
    "plt.rcParams['figure.figsize'] = (8,6)\n",
    "plt.rcParams['axes.titlesize'] = 17\n",
    "plt.rcParams['axes.titlepad'] = 20\n",
    "plt.rcParams['axes.labelsize'] = 12"
   ]
  },
  {
   "cell_type": "markdown",
   "metadata": {},
   "source": [
    "### El archivo usado es el de los 6 meses de 2017"
   ]
  },
  {
   "cell_type": "code",
   "execution_count": 2,
   "metadata": {
    "collapsed": true
   },
   "outputs": [],
   "source": [
    "propiedades = pd.read_csv('properati.csv')"
   ]
  },
  {
   "cell_type": "code",
   "execution_count": 3,
   "metadata": {
    "collapsed": true
   },
   "outputs": [],
   "source": [
    "propiedades.loc[:, 'mes'] = propiedades.loc[:,'created_on'].apply(lambda x: int(x.split('-')[1]))"
   ]
  },
  {
   "cell_type": "code",
   "execution_count": 4,
   "metadata": {
    "collapsed": true
   },
   "outputs": [],
   "source": [
    "propiedades.drop(['operation', 'country_name', 'geonames_id', 'lat-lon', 'properati_url', 'image_thumbnail'],axis =1,inplace =True)"
   ]
  },
  {
   "cell_type": "code",
   "execution_count": 5,
   "metadata": {
    "collapsed": true
   },
   "outputs": [],
   "source": [
    "propiedades = propiedades.loc[propiedades.state_name.str.contains('Capital | G.B.A'),:]"
   ]
  },
  {
   "cell_type": "code",
   "execution_count": 6,
   "metadata": {
    "collapsed": true
   },
   "outputs": [],
   "source": [
    "def unificar_superficie(fila):\n",
    "    s1,s2 = fila\n",
    "    if (s2 and not np.isnan(s2)):\n",
    "        return s2\n",
    "    if (s1 and not np.isnan(s1)):\n",
    "        return s1\n",
    "    return np.nan"
   ]
  },
  {
   "cell_type": "code",
   "execution_count": 7,
   "metadata": {
    "collapsed": true
   },
   "outputs": [],
   "source": [
    "propiedades.loc[:,'superficie'] = propiedades.loc[:,['surface_covered_in_m2', 'surface_total_in_m2']].apply(unificar_superficie, axis = 1)\n",
    "propiedades.drop(['surface_covered_in_m2', 'surface_total_in_m2'], axis = 1, inplace = True)"
   ]
  },
  {
   "cell_type": "code",
   "execution_count": 8,
   "metadata": {
    "collapsed": true
   },
   "outputs": [],
   "source": [
    "def calcularPrecioM2(fila):\n",
    "    \"\"\"Recibe una lista con precio total, superficie y precio por metro cuadrado,\n",
    "    y calcula este ultimo a partir de los anteriores, cuando es posible\"\"\"\n",
    "    precio_total, precio_m2, superficie = fila\n",
    "    if (np.isnan(precio_m2)):\n",
    "        if (superficie and not np.isnan(superficie)):\n",
    "            return precio_total/superficie\n",
    "    return precio_m2"
   ]
  },
  {
   "cell_type": "code",
   "execution_count": 9,
   "metadata": {
    "collapsed": true
   },
   "outputs": [],
   "source": [
    "propiedades.loc[:,'price_usd_per_m2'] = propiedades.loc[:,['price_aprox_usd','price_usd_per_m2', 'superficie']].\\\n",
    "            apply(calcularPrecioM2,axis = 1)"
   ]
  },
  {
   "cell_type": "code",
   "execution_count": 10,
   "metadata": {
    "collapsed": true
   },
   "outputs": [],
   "source": [
    "def obtener_barrio(fila):\n",
    "    barrio,padre = fila\n",
    "    return padre.split('|')[3]"
   ]
  },
  {
   "cell_type": "code",
   "execution_count": 11,
   "metadata": {
    "collapsed": true
   },
   "outputs": [],
   "source": [
    "propiedades.loc[:, 'place_name'] = propiedades.loc[:, ['place_name','place_with_parent_names']].apply(lambda x: obtener_barrio(x), axis = 1)"
   ]
  },
  {
   "cell_type": "code",
   "execution_count": 12,
   "metadata": {
    "collapsed": true
   },
   "outputs": [],
   "source": [
    "subtes = gpd.read_file('subtes.shp')"
   ]
  },
  {
   "cell_type": "code",
   "execution_count": 13,
   "metadata": {},
   "outputs": [
    {
     "name": "stderr",
     "output_type": "stream",
     "text": [
      "/usr/local/lib/python2.7/dist-packages/ipykernel_launcher.py:1: RuntimeWarning: overflow encountered in double_scalars\n",
      "  \"\"\"Entry point for launching an IPython kernel.\n"
     ]
    }
   ],
   "source": [
    "propiedades.loc[:,'ditancia_subtes'] = propiedades.loc[:, ['lon', 'lat']].apply(lambda x: (min(subtes.distance(Point(x[0], x[1]))))*100, axis = 1)"
   ]
  },
  {
   "cell_type": "code",
   "execution_count": 14,
   "metadata": {
    "collapsed": true
   },
   "outputs": [],
   "source": [
    "def tiene_cadena(cadena, lista):\n",
    "    cadena = str(cadena)\n",
    "    cadena = cadena.lower()\n",
    "    resultado = False\n",
    "    for x in lista:\n",
    "        resultado = resultado or (x in cadena)\n",
    "    return resultado"
   ]
  },
  {
   "cell_type": "code",
   "execution_count": 15,
   "metadata": {
    "collapsed": true
   },
   "outputs": [],
   "source": [
    "cadenas = ['vigilancia', 'seguridad', 'alarma', 'blindado', 'blindaje', 'guardia']\n",
    "propiedades.loc[:,'seguridad'] = propiedades.loc[:, 'description'].apply(lambda x: tiene_cadena(x, cadenas))"
   ]
  },
  {
   "cell_type": "code",
   "execution_count": 16,
   "metadata": {
    "collapsed": true
   },
   "outputs": [],
   "source": [
    "cadenas = ['gimnasio', 'gym', 'gimnacio']\n",
    "propiedades.loc[:,'gimnasio'] = propiedades.loc[:, 'description'].apply(lambda x: tiene_cadena(x, cadenas))"
   ]
  },
  {
   "cell_type": "markdown",
   "metadata": {},
   "source": [
    "## Codifico el tipo de propiedad"
   ]
  },
  {
   "cell_type": "code",
   "execution_count": 18,
   "metadata": {
    "collapsed": true
   },
   "outputs": [],
   "source": [
    "tipo_propiedad = {'PH': 0, 'apartment':587, 'house': 1829, 'store': 28531}"
   ]
  },
  {
   "cell_type": "code",
   "execution_count": 19,
   "metadata": {
    "collapsed": true
   },
   "outputs": [],
   "source": [
    "propiedades.loc[:,'property_type'] = propiedades.loc[:,'property_type']\\\n",
    ".apply(lambda x: tipo_propiedad[x]) "
   ]
  },
  {
   "cell_type": "markdown",
   "metadata": {},
   "source": [
    "## Codifico el barrio"
   ]
  },
  {
   "cell_type": "code",
   "execution_count": 26,
   "metadata": {
    "collapsed": true
   },
   "outputs": [],
   "source": [
    "import random\n",
    "barrios = {}\n",
    "x = 0\n",
    "for i in propiedades.groupby('place_name').agg(np.mean).lat.keys():\n",
    "    if i in barrios:\n",
    "        continue\n",
    "    barrios[i] = x\n",
    "    x+=random.randint(1, 100)"
   ]
  },
  {
   "cell_type": "code",
   "execution_count": 30,
   "metadata": {},
   "outputs": [],
   "source": [
    "propiedades.reset_index(drop = True, inplace = True)"
   ]
  },
  {
   "cell_type": "code",
   "execution_count": 31,
   "metadata": {
    "collapsed": true
   },
   "outputs": [],
   "source": [
    "propiedades.loc[:,'place_name'] = propiedades.loc[:,'place_name']\\\n",
    ".apply(lambda x: barrios[x]) "
   ]
  },
  {
   "cell_type": "code",
   "execution_count": 33,
   "metadata": {},
   "outputs": [],
   "source": [
    "adivinar = propiedades.loc[propiedades.mes >= 7,:]"
   ]
  },
  {
   "cell_type": "code",
   "execution_count": 34,
   "metadata": {
    "collapsed": true
   },
   "outputs": [],
   "source": [
    "entrenar = propiedades.loc[propiedades.mes < 7,:]"
   ]
  },
  {
   "cell_type": "code",
   "execution_count": 35,
   "metadata": {
    "collapsed": true
   },
   "outputs": [],
   "source": [
    "condiciones = []\n",
    "precios = []\n",
    "\n",
    "for i in range(0,len(entrenar)):\n",
    "    if np.isnan(entrenar.price_usd_per_m2[i]):\n",
    "        continue\n",
    "    if np.isinf(entrenar.ditancia_subtes[i]):\n",
    "        continue\n",
    "    l = []\n",
    "    l.append(entrenar.place_name[i])\n",
    "    l.append(entrenar.property_type[i])\n",
    "    l.append(entrenar.ditancia_subtes[i])\n",
    "    l.append(entrenar.seguridad[i])\n",
    "    l.append(entrenar.gimnasio[i])\n",
    "    condiciones.append(l)\n",
    "    precios.append(entrenar.price_usd_per_m2[i])"
   ]
  },
  {
   "cell_type": "code",
   "execution_count": 48,
   "metadata": {
    "collapsed": true
   },
   "outputs": [],
   "source": [
    "def adivinar_precio(fila, estimador):\n",
    "    barrio,tipo,subte, seg, gim = fila\n",
    "    if np.isinf(subte):\n",
    "        return 0 # Ver de resolver estos despues\n",
    "    return  estimador.predict([[barrio,tipo,subte,seg,gim]])[0]"
   ]
  },
  {
   "cell_type": "markdown",
   "metadata": {},
   "source": [
    "## Con SVM"
   ]
  },
  {
   "cell_type": "code",
   "execution_count": 37,
   "metadata": {},
   "outputs": [],
   "source": [
    "from sklearn import svm"
   ]
  },
  {
   "cell_type": "code",
   "execution_count": 38,
   "metadata": {},
   "outputs": [
    {
     "data": {
      "text/plain": [
       "SVR(C=1.0, cache_size=200, coef0=0.0, degree=5, epsilon=0.1, gamma='auto',\n",
       "  kernel='rbf', max_iter=-1, shrinking=True, tol=0.001, verbose=False)"
      ]
     },
     "execution_count": 38,
     "metadata": {},
     "output_type": "execute_result"
    }
   ],
   "source": [
    "clf = svm.SVR(degree = 5)\n",
    "clf.fit(condiciones, precios)"
   ]
  },
  {
   "cell_type": "code",
   "execution_count": 41,
   "metadata": {},
   "outputs": [
    {
     "data": {
      "text/html": [
       "<div>\n",
       "<style>\n",
       "    .dataframe thead tr:only-child th {\n",
       "        text-align: right;\n",
       "    }\n",
       "\n",
       "    .dataframe thead th {\n",
       "        text-align: left;\n",
       "    }\n",
       "\n",
       "    .dataframe tbody tr th {\n",
       "        vertical-align: top;\n",
       "    }\n",
       "</style>\n",
       "<table border=\"1\" class=\"dataframe\">\n",
       "  <thead>\n",
       "    <tr style=\"text-align: right;\">\n",
       "      <th></th>\n",
       "      <th>place_name</th>\n",
       "      <th>property_type</th>\n",
       "      <th>ditancia_subtes</th>\n",
       "      <th>seguridad</th>\n",
       "      <th>gimnasio</th>\n",
       "      <th>price_usd_per_m2</th>\n",
       "    </tr>\n",
       "  </thead>\n",
       "  <tbody>\n",
       "    <tr>\n",
       "      <th>0</th>\n",
       "      <td>2248</td>\n",
       "      <td>0</td>\n",
       "      <td>5.004808</td>\n",
       "      <td>False</td>\n",
       "      <td>False</td>\n",
       "      <td>1127.272727</td>\n",
       "    </tr>\n",
       "    <tr>\n",
       "      <th>1</th>\n",
       "      <td>1757</td>\n",
       "      <td>587</td>\n",
       "      <td>50.029804</td>\n",
       "      <td>False</td>\n",
       "      <td>False</td>\n",
       "      <td>NaN</td>\n",
       "    </tr>\n",
       "    <tr>\n",
       "      <th>2</th>\n",
       "      <td>2248</td>\n",
       "      <td>587</td>\n",
       "      <td>5.753307</td>\n",
       "      <td>False</td>\n",
       "      <td>False</td>\n",
       "      <td>1309.090909</td>\n",
       "    </tr>\n",
       "    <tr>\n",
       "      <th>3</th>\n",
       "      <td>1935</td>\n",
       "      <td>0</td>\n",
       "      <td>4.980840</td>\n",
       "      <td>False</td>\n",
       "      <td>False</td>\n",
       "      <td>NaN</td>\n",
       "    </tr>\n",
       "    <tr>\n",
       "      <th>4</th>\n",
       "      <td>3942</td>\n",
       "      <td>0</td>\n",
       "      <td>5.444071</td>\n",
       "      <td>False</td>\n",
       "      <td>False</td>\n",
       "      <td>1226.415094</td>\n",
       "    </tr>\n",
       "  </tbody>\n",
       "</table>\n",
       "</div>"
      ],
      "text/plain": [
       "   place_name  property_type  ditancia_subtes  seguridad  gimnasio  \\\n",
       "0        2248              0         5.004808      False     False   \n",
       "1        1757            587        50.029804      False     False   \n",
       "2        2248            587         5.753307      False     False   \n",
       "3        1935              0         4.980840      False     False   \n",
       "4        3942              0         5.444071      False     False   \n",
       "\n",
       "   price_usd_per_m2  \n",
       "0       1127.272727  \n",
       "1               NaN  \n",
       "2       1309.090909  \n",
       "3               NaN  \n",
       "4       1226.415094  "
      ]
     },
     "execution_count": 41,
     "metadata": {},
     "output_type": "execute_result"
    }
   ],
   "source": [
    "entrenar[['place_name','property_type','ditancia_subtes', 'seguridad', 'gimnasio', 'price_usd_per_m2']].head()"
   ]
  },
  {
   "cell_type": "code",
   "execution_count": 45,
   "metadata": {},
   "outputs": [
    {
     "data": {
      "text/plain": [
       "array([ 1874.81859534])"
      ]
     },
     "execution_count": 45,
     "metadata": {},
     "output_type": "execute_result"
    }
   ],
   "source": [
    "clf.predict([[3942, 0, 5.444071 ,False, False]])"
   ]
  },
  {
   "cell_type": "code",
   "execution_count": 49,
   "metadata": {},
   "outputs": [
    {
     "name": "stderr",
     "output_type": "stream",
     "text": [
      "/usr/local/lib/python2.7/dist-packages/pandas/core/indexing.py:337: SettingWithCopyWarning: \n",
      "A value is trying to be set on a copy of a slice from a DataFrame.\n",
      "Try using .loc[row_indexer,col_indexer] = value instead\n",
      "\n",
      "See the caveats in the documentation: http://pandas.pydata.org/pandas-docs/stable/indexing.html#indexing-view-versus-copy\n",
      "  self.obj[key] = _infer_fill_value(value)\n",
      "/usr/local/lib/python2.7/dist-packages/pandas/core/indexing.py:517: SettingWithCopyWarning: \n",
      "A value is trying to be set on a copy of a slice from a DataFrame.\n",
      "Try using .loc[row_indexer,col_indexer] = value instead\n",
      "\n",
      "See the caveats in the documentation: http://pandas.pydata.org/pandas-docs/stable/indexing.html#indexing-view-versus-copy\n",
      "  self.obj[item] = s\n"
     ]
    }
   ],
   "source": [
    "adivinar.loc[:,'precio_adivinado'] = adivinar.loc[:, ['place_name','property_type','ditancia_subtes', 'seguridad', 'gimnasio']]\\\n",
    ".apply(lambda x: adivinar_precio(x,clf), axis = 1)"
   ]
  },
  {
   "cell_type": "code",
   "execution_count": 60,
   "metadata": {},
   "outputs": [],
   "source": [
    "adivinar.loc[:,'error_porcentual_svm'] = adivinar.loc[:, ['price_usd_per_m2', 'precio_adivinado']]\\\n",
    ".apply(lambda x: abs(x[0]-x[1])*100/(x[0]), axis = 1)"
   ]
  },
  {
   "cell_type": "code",
   "execution_count": 63,
   "metadata": {},
   "outputs": [
    {
     "data": {
      "text/plain": [
       "count    15591.000000\n",
       "mean        73.588633\n",
       "std        942.575950\n",
       "min          0.006753\n",
       "25%         11.069972\n",
       "50%         22.543200\n",
       "75%         41.221146\n",
       "max      67016.413043\n",
       "Name: error_porcentual_svm, dtype: float64"
      ]
     },
     "execution_count": 63,
     "metadata": {},
     "output_type": "execute_result"
    }
   ],
   "source": [
    "adivinar.loc[adivinar.precio_adivinado != 0].error_porcentual_svm.describe()"
   ]
  },
  {
   "cell_type": "code",
   "execution_count": 69,
   "metadata": {},
   "outputs": [
    {
     "data": {
      "text/html": [
       "<div>\n",
       "<style>\n",
       "    .dataframe thead tr:only-child th {\n",
       "        text-align: right;\n",
       "    }\n",
       "\n",
       "    .dataframe thead th {\n",
       "        text-align: left;\n",
       "    }\n",
       "\n",
       "    .dataframe tbody tr th {\n",
       "        vertical-align: top;\n",
       "    }\n",
       "</style>\n",
       "<table border=\"1\" class=\"dataframe\">\n",
       "  <thead>\n",
       "    <tr style=\"text-align: right;\">\n",
       "      <th></th>\n",
       "      <th>precio_adivinado</th>\n",
       "      <th>price_usd_per_m2</th>\n",
       "      <th>price_aprox_usd</th>\n",
       "      <th>superficie</th>\n",
       "    </tr>\n",
       "  </thead>\n",
       "  <tbody>\n",
       "    <tr>\n",
       "      <th>52474</th>\n",
       "      <td>2153.467798</td>\n",
       "      <td>3.208556</td>\n",
       "      <td>600000.0</td>\n",
       "      <td>187000.0</td>\n",
       "    </tr>\n",
       "  </tbody>\n",
       "</table>\n",
       "</div>"
      ],
      "text/plain": [
       "       precio_adivinado  price_usd_per_m2  price_aprox_usd  superficie\n",
       "52474       2153.467798          3.208556         600000.0    187000.0"
      ]
     },
     "execution_count": 69,
     "metadata": {},
     "output_type": "execute_result"
    }
   ],
   "source": [
    "adivinar.loc[adivinar.error_porcentual_svm > 60000].head()[['precio_adivinado','price_usd_per_m2', 'price_aprox_usd', 'superficie']]\n",
    "\n",
    "#el precio que tiene es un asco pero es solo este"
   ]
  },
  {
   "cell_type": "markdown",
   "metadata": {},
   "source": [
    "## Con un árbol"
   ]
  },
  {
   "cell_type": "code",
   "execution_count": 76,
   "metadata": {
    "collapsed": true
   },
   "outputs": [],
   "source": [
    "from sklearn.tree import DecisionTreeRegressor"
   ]
  },
  {
   "cell_type": "code",
   "execution_count": 77,
   "metadata": {},
   "outputs": [
    {
     "data": {
      "text/plain": [
       "DecisionTreeRegressor(criterion='mse', max_depth=2, max_features=None,\n",
       "           max_leaf_nodes=None, min_impurity_decrease=0.0,\n",
       "           min_impurity_split=None, min_samples_leaf=1,\n",
       "           min_samples_split=2, min_weight_fraction_leaf=0.0,\n",
       "           presort=False, random_state=None, splitter='best')"
      ]
     },
     "execution_count": 77,
     "metadata": {},
     "output_type": "execute_result"
    }
   ],
   "source": [
    "# Primero uso con profundidad 2\n",
    "regr_1 = DecisionTreeRegressor(max_depth=2)\n",
    "regr_1.fit(condiciones, precios)"
   ]
  },
  {
   "cell_type": "code",
   "execution_count": 78,
   "metadata": {
    "collapsed": true
   },
   "outputs": [],
   "source": [
    "adivinar.loc[:,'precio_adivinado_arbol_2'] = adivinar.loc[:, ['place_name','property_type','ditancia_subtes', 'seguridad', 'gimnasio']]\\\n",
    ".apply(lambda x: adivinar_precio(x, regr_1), axis = 1)"
   ]
  },
  {
   "cell_type": "code",
   "execution_count": 80,
   "metadata": {},
   "outputs": [],
   "source": [
    "adivinar.loc[:,'error_porcentual_arbol_2'] = adivinar.loc[:, ['price_usd_per_m2', 'precio_adivinado_arbol_2']]\\\n",
    ".apply(lambda x: abs(x[0]-x[1])*100/(x[0]), axis = 1)"
   ]
  },
  {
   "cell_type": "code",
   "execution_count": 81,
   "metadata": {},
   "outputs": [
    {
     "data": {
      "text/plain": [
       "count     37618.000000\n",
       "mean        111.995308\n",
       "std         861.673720\n",
       "min           0.001526\n",
       "25%          60.183569\n",
       "50%         100.000000\n",
       "75%         100.000000\n",
       "max      102277.997903\n",
       "Name: error_porcentual_arbol_2, dtype: float64"
      ]
     },
     "execution_count": 81,
     "metadata": {},
     "output_type": "execute_result"
    }
   ],
   "source": [
    "adivinar.error_porcentual_arbol_2.describe()"
   ]
  },
  {
   "cell_type": "markdown",
   "metadata": {},
   "source": [
    "#### El error es mucho mayor SVM"
   ]
  },
  {
   "cell_type": "code",
   "execution_count": 82,
   "metadata": {},
   "outputs": [
    {
     "data": {
      "text/plain": [
       "DecisionTreeRegressor(criterion='mse', max_depth=4, max_features=None,\n",
       "           max_leaf_nodes=None, min_impurity_decrease=0.0,\n",
       "           min_impurity_split=None, min_samples_leaf=1,\n",
       "           min_samples_split=2, min_weight_fraction_leaf=0.0,\n",
       "           presort=False, random_state=None, splitter='best')"
      ]
     },
     "execution_count": 82,
     "metadata": {},
     "output_type": "execute_result"
    }
   ],
   "source": [
    "# Pruebo con profundidad 4\n",
    "regr_2 = DecisionTreeRegressor(max_depth=4)\n",
    "regr_2.fit(condiciones, precios)"
   ]
  },
  {
   "cell_type": "code",
   "execution_count": 83,
   "metadata": {
    "collapsed": true
   },
   "outputs": [],
   "source": [
    "adivinar.loc[:,'precio_adivinado_arbol_4'] = adivinar.loc[:, ['place_name','property_type','ditancia_subtes', 'seguridad', 'gimnasio']]\\\n",
    ".apply(lambda x: adivinar_precio(x, regr_2), axis = 1)"
   ]
  },
  {
   "cell_type": "code",
   "execution_count": 84,
   "metadata": {
    "collapsed": true
   },
   "outputs": [],
   "source": [
    "adivinar.loc[:,'error_porcentual_arbol_4'] = adivinar.loc[:, ['price_usd_per_m2', 'precio_adivinado_arbol_4']]\\\n",
    ".apply(lambda x: abs(x[0]-x[1])*100/(x[0]), axis = 1)"
   ]
  },
  {
   "cell_type": "code",
   "execution_count": 85,
   "metadata": {},
   "outputs": [
    {
     "data": {
      "text/plain": [
       "count    37618.000000\n",
       "mean       109.837382\n",
       "std        769.570297\n",
       "min          0.008338\n",
       "25%         50.719559\n",
       "50%        100.000000\n",
       "75%        100.000000\n",
       "max      90493.220886\n",
       "Name: error_porcentual_arbol_4, dtype: float64"
      ]
     },
     "execution_count": 85,
     "metadata": {},
     "output_type": "execute_result"
    }
   ],
   "source": [
    "adivinar.error_porcentual_arbol_4.describe()"
   ]
  },
  {
   "cell_type": "markdown",
   "metadata": {},
   "source": [
    "#### Disminuyo pero muy poco"
   ]
  },
  {
   "cell_type": "code",
   "execution_count": 86,
   "metadata": {},
   "outputs": [
    {
     "data": {
      "text/plain": [
       "DecisionTreeRegressor(criterion='mse', max_depth=10, max_features=None,\n",
       "           max_leaf_nodes=None, min_impurity_decrease=0.0,\n",
       "           min_impurity_split=None, min_samples_leaf=1,\n",
       "           min_samples_split=2, min_weight_fraction_leaf=0.0,\n",
       "           presort=False, random_state=None, splitter='best')"
      ]
     },
     "execution_count": 86,
     "metadata": {},
     "output_type": "execute_result"
    }
   ],
   "source": [
    "# Pruebo con profundidad 10\n",
    "regr_3 = DecisionTreeRegressor(max_depth=10)\n",
    "regr_3.fit(condiciones, precios)"
   ]
  },
  {
   "cell_type": "code",
   "execution_count": 87,
   "metadata": {
    "collapsed": true
   },
   "outputs": [],
   "source": [
    "adivinar.loc[:,'precio_adivinado_arbol_10'] = adivinar.loc[:, ['place_name','property_type','ditancia_subtes', 'seguridad', 'gimnasio']]\\\n",
    ".apply(lambda x: adivinar_precio(x, regr_3), axis = 1)"
   ]
  },
  {
   "cell_type": "code",
   "execution_count": 88,
   "metadata": {
    "collapsed": true
   },
   "outputs": [],
   "source": [
    "adivinar.loc[:,'error_porcentual_arbol_10'] = adivinar.loc[:, ['price_usd_per_m2', 'precio_adivinado_arbol_10']]\\\n",
    ".apply(lambda x: abs(x[0]-x[1])*100/(x[0]), axis = 1)"
   ]
  },
  {
   "cell_type": "code",
   "execution_count": 89,
   "metadata": {},
   "outputs": [
    {
     "data": {
      "text/plain": [
       "count    37618.000000\n",
       "mean        99.911023\n",
       "std        742.518786\n",
       "min          0.000547\n",
       "25%         31.376764\n",
       "50%        100.000000\n",
       "75%        100.000000\n",
       "max      88111.141189\n",
       "Name: error_porcentual_arbol_10, dtype: float64"
      ]
     },
     "execution_count": 89,
     "metadata": {},
     "output_type": "execute_result"
    }
   ],
   "source": [
    "adivinar.error_porcentual_arbol_10.describe()"
   ]
  },
  {
   "cell_type": "code",
   "execution_count": 125,
   "metadata": {},
   "outputs": [],
   "source": [
    "# Pruebo con varias profundidades\n",
    "# Tarda un poco\n",
    "l =[]\n",
    "for i in range (1, 100):\n",
    "    regr_4 = DecisionTreeRegressor(max_depth=i)\n",
    "    regr_4.fit(condiciones, precios)\n",
    "\n",
    "    adivinar.loc[:,'precio_adivinado_arbol_1000'] = adivinar.loc[:, ['place_name','property_type','ditancia_subtes', 'seguridad', 'gimnasio']]\\\n",
    "    .apply(lambda x: adivinar_precio(x, regr_4), axis = 1)\n",
    "\n",
    "    adivinar.loc[:,'error_porcentual_arbol_1000'] = adivinar.loc[:, ['price_usd_per_m2', 'precio_adivinado_arbol_1000']]\\\n",
    "    .apply(lambda x: abs(x[0]-x[1])*100/(x[0]), axis = 1)\n",
    "\n",
    "    l.append([adivinar.error_porcentual_arbol_1000.mean(),i])\n"
   ]
  },
  {
   "cell_type": "code",
   "execution_count": 126,
   "metadata": {},
   "outputs": [
    {
     "data": {
      "text/plain": [
       "[97.48518322662845, 15]"
      ]
     },
     "execution_count": 126,
     "metadata": {},
     "output_type": "execute_result"
    }
   ],
   "source": [
    "sorted(l)[0]"
   ]
  },
  {
   "cell_type": "code",
   "execution_count": 130,
   "metadata": {},
   "outputs": [],
   "source": [
    "regr_4 = DecisionTreeRegressor(max_depth=15)\n",
    "regr_4.fit(condiciones, precios)\n",
    "\n",
    "adivinar.loc[:,'precio_adivinado_arbol_1000'] = adivinar.loc[:, ['place_name','property_type','ditancia_subtes', 'seguridad', 'gimnasio']]\\\n",
    ".apply(lambda x: adivinar_precio(x, regr_4), axis = 1)\n",
    "\n",
    "adivinar.loc[:,'error_porcentual_arbol_1000'] = adivinar.loc[:, ['price_usd_per_m2', 'precio_adivinado_arbol_1000']]\\\n",
    ".apply(lambda x: abs(x[0]-x[1])*100/(x[0]), axis = 1)"
   ]
  },
  {
   "cell_type": "code",
   "execution_count": 132,
   "metadata": {},
   "outputs": [
    {
     "data": {
      "text/plain": [
       "count    37618.000000\n",
       "mean        97.452850\n",
       "std        697.899843\n",
       "min          0.000000\n",
       "25%         27.075799\n",
       "50%        100.000000\n",
       "75%        100.000000\n",
       "max      91165.496689\n",
       "Name: error_porcentual_arbol_1000, dtype: float64"
      ]
     },
     "execution_count": 132,
     "metadata": {},
     "output_type": "execute_result"
    }
   ],
   "source": [
    "adivinar.error_porcentual_arbol_1000.describe()"
   ]
  },
  {
   "cell_type": "markdown",
   "metadata": {},
   "source": [
    "#### Por lo que vi no da siempre lo mismo"
   ]
  },
  {
   "cell_type": "markdown",
   "metadata": {},
   "source": [
    "## Con Gradient Boosting regresor"
   ]
  },
  {
   "cell_type": "code",
   "execution_count": 218,
   "metadata": {},
   "outputs": [],
   "source": [
    "from sklearn.ensemble import GradientBoostingRegressor\n",
    "est = GradientBoostingRegressor(n_estimators=1000, learning_rate=0.9,max_depth=4,\\\n",
    "                                random_state=0, loss='ls')"
   ]
  },
  {
   "cell_type": "code",
   "execution_count": 219,
   "metadata": {},
   "outputs": [
    {
     "data": {
      "text/plain": [
       "GradientBoostingRegressor(alpha=0.9, criterion='friedman_mse', init=None,\n",
       "             learning_rate=0.9, loss='ls', max_depth=4, max_features=None,\n",
       "             max_leaf_nodes=None, min_impurity_decrease=0.0,\n",
       "             min_impurity_split=None, min_samples_leaf=1,\n",
       "             min_samples_split=2, min_weight_fraction_leaf=0.0,\n",
       "             n_estimators=1000, presort='auto', random_state=0,\n",
       "             subsample=1.0, verbose=0, warm_start=False)"
      ]
     },
     "execution_count": 219,
     "metadata": {},
     "output_type": "execute_result"
    }
   ],
   "source": [
    "est.fit(condiciones, precios)"
   ]
  },
  {
   "cell_type": "code",
   "execution_count": 228,
   "metadata": {},
   "outputs": [
    {
     "data": {
      "text/plain": [
       "array([ 3155.12840605])"
      ]
     },
     "execution_count": 228,
     "metadata": {},
     "output_type": "execute_result"
    }
   ],
   "source": [
    "est.predict([[521, 587, 1.0223190036801129, False, False]])"
   ]
  },
  {
   "cell_type": "code",
   "execution_count": 231,
   "metadata": {},
   "outputs": [],
   "source": [
    "adivinar.loc[:,'precio_adivinado_gradient'] = adivinar.loc[:, ['place_name','property_type','ditancia_subtes', 'seguridad', 'gimnasio']]\\\n",
    ".apply(lambda x: adivinar_precio(x, est), axis = 1)"
   ]
  },
  {
   "cell_type": "code",
   "execution_count": 232,
   "metadata": {
    "collapsed": true
   },
   "outputs": [],
   "source": [
    "adivinar.loc[:,'error_porcentual_gradient'] = adivinar.loc[:, ['price_usd_per_m2', 'precio_adivinado_gradient']]\\\n",
    ".apply(lambda x: abs(x[0]-x[1])*100/(x[0]), axis = 1)"
   ]
  },
  {
   "cell_type": "code",
   "execution_count": 236,
   "metadata": {},
   "outputs": [
    {
     "data": {
      "text/plain": [
       "count    13864.000000\n",
       "mean       122.853448\n",
       "std       1298.222806\n",
       "min          0.001143\n",
       "25%         10.061869\n",
       "50%         22.875479\n",
       "75%         46.986912\n",
       "max      80796.287278\n",
       "Name: error_porcentual_gradient, dtype: float64"
      ]
     },
     "execution_count": 236,
     "metadata": {},
     "output_type": "execute_result"
    }
   ],
   "source": [
    "adivinar.loc[adivinar.precio_adivinado_gradient>1000].error_porcentual_gradient.describe()"
   ]
  },
  {
   "cell_type": "code",
   "execution_count": 238,
   "metadata": {},
   "outputs": [
    {
     "data": {
      "text/plain": [
       "GradientBoostingRegressor(alpha=0.9, criterion='friedman_mse', init=None,\n",
       "             learning_rate=0.9, loss='ls', max_depth=4, max_features=None,\n",
       "             max_leaf_nodes=None, min_impurity_decrease=0.0,\n",
       "             min_impurity_split=None, min_samples_leaf=1,\n",
       "             min_samples_split=2, min_weight_fraction_leaf=0.0,\n",
       "             n_estimators=10000, presort='auto', random_state=0,\n",
       "             subsample=1.0, verbose=0, warm_start=False)"
      ]
     },
     "execution_count": 238,
     "metadata": {},
     "output_type": "execute_result"
    }
   ],
   "source": [
    "#Pruebo con otros parametros\n",
    "est = GradientBoostingRegressor(n_estimators=10000, learning_rate=0.9,max_depth=4,\\\n",
    "                                random_state=0, loss='ls')\n",
    "est.fit(condiciones, precios)"
   ]
  },
  {
   "cell_type": "code",
   "execution_count": 248,
   "metadata": {
    "collapsed": true
   },
   "outputs": [],
   "source": [
    "adivinar.loc[:,'precio_adivinado_gradient2'] = adivinar.loc[:, ['place_name','property_type','ditancia_subtes', 'seguridad', 'gimnasio']]\\\n",
    ".apply(lambda x: adivinar_precio(x, est), axis = 1)"
   ]
  },
  {
   "cell_type": "code",
   "execution_count": 249,
   "metadata": {
    "collapsed": true
   },
   "outputs": [],
   "source": [
    "adivinar.loc[:,'error_porcentual_gradient2'] = adivinar.loc[:, ['price_usd_per_m2', 'precio_adivinado_gradient2']]\\\n",
    ".apply(lambda x: abs(x[0]-x[1])*100/(x[0]), axis = 1)"
   ]
  },
  {
   "cell_type": "code",
   "execution_count": 253,
   "metadata": {},
   "outputs": [
    {
     "data": {
      "text/plain": [
       "count    13864.000000\n",
       "mean       126.236392\n",
       "std       1410.172214\n",
       "min          0.000055\n",
       "25%         10.321962\n",
       "50%         24.628229\n",
       "75%         49.832451\n",
       "max      95433.188911\n",
       "Name: error_porcentual_gradient2, dtype: float64"
      ]
     },
     "execution_count": 253,
     "metadata": {},
     "output_type": "execute_result"
    }
   ],
   "source": [
    "adivinar.loc[adivinar.precio_adivinado_gradient>1000].error_porcentual_gradient2.describe()"
   ]
  },
  {
   "cell_type": "code",
   "execution_count": 254,
   "metadata": {},
   "outputs": [
    {
     "data": {
      "text/plain": [
       "GradientBoostingRegressor(alpha=0.9, criterion='friedman_mse', init=None,\n",
       "             learning_rate=0.9, loss='huber', max_depth=10,\n",
       "             max_features=None, max_leaf_nodes=None,\n",
       "             min_impurity_decrease=0.0, min_impurity_split=None,\n",
       "             min_samples_leaf=1, min_samples_split=2,\n",
       "             min_weight_fraction_leaf=0.0, n_estimators=1000,\n",
       "             presort='auto', random_state=0, subsample=1.0, verbose=0,\n",
       "             warm_start=False)"
      ]
     },
     "execution_count": 254,
     "metadata": {},
     "output_type": "execute_result"
    }
   ],
   "source": [
    "#Pruebo con mayor profundidad y otra funcion loss\n",
    "est = GradientBoostingRegressor(n_estimators=1000, learning_rate=0.9,max_depth=10,\\\n",
    "                                random_state=0, loss='huber')\n",
    "est.fit(condiciones, precios)"
   ]
  },
  {
   "cell_type": "code",
   "execution_count": 255,
   "metadata": {
    "collapsed": true
   },
   "outputs": [],
   "source": [
    "adivinar.loc[:,'precio_adivinado_gradient3'] = adivinar.loc[:, ['place_name','property_type','ditancia_subtes', 'seguridad', 'gimnasio']]\\\n",
    ".apply(lambda x: adivinar_precio(x, est), axis = 1)"
   ]
  },
  {
   "cell_type": "code",
   "execution_count": 256,
   "metadata": {
    "collapsed": true
   },
   "outputs": [],
   "source": [
    "adivinar.loc[:,'error_porcentual_gradient3'] = adivinar.loc[:, ['price_usd_per_m2', 'precio_adivinado_gradient3']]\\\n",
    ".apply(lambda x: abs(x[0]-x[1])*100/(x[0]), axis = 1)"
   ]
  },
  {
   "cell_type": "code",
   "execution_count": 258,
   "metadata": {},
   "outputs": [
    {
     "data": {
      "text/plain": [
       "count    13864.000000\n",
       "mean       106.636816\n",
       "std       1315.261494\n",
       "min          0.000000\n",
       "25%          9.549533\n",
       "50%         21.897370\n",
       "75%         43.318553\n",
       "max      94841.525005\n",
       "Name: error_porcentual_gradient3, dtype: float64"
      ]
     },
     "execution_count": 258,
     "metadata": {},
     "output_type": "execute_result"
    }
   ],
   "source": [
    "adivinar.loc[adivinar.precio_adivinado_gradient>1000].error_porcentual_gradient3.describe()"
   ]
  },
  {
   "cell_type": "markdown",
   "metadata": {},
   "source": [
    "#### Probar lo mismo pero usando el precio ya que en algunos vamos a tener que hacer eso porque no tienen precio por metro cuadrado. Ver como hacer cuando faltan datos como latitud y longitud, entre otros"
   ]
  },
  {
   "cell_type": "markdown",
   "metadata": {},
   "source": [
    "## Cosas para ver como usarlas"
   ]
  },
  {
   "cell_type": "markdown",
   "metadata": {},
   "source": [
    "Las transformaciones de los tipos de propiedades y barrios tengo entendido que deberían ser bien realizados porque sino perjudican en la prediccion. Encontre algo que sirve para convertir los indices numericos que le establecimos en algo que \"no afecta la prediccion\". El problema es que no me deja meter esos valores obtenidos en los algoritmos de prediccion.\n",
    "Habria que ver si hay una forma de meterlo. \n",
    "Se hace con esto:"
   ]
  },
  {
   "cell_type": "code",
   "execution_count": 259,
   "metadata": {},
   "outputs": [
    {
     "data": {
      "text/plain": [
       "OneHotEncoder(categorical_features='all', dtype=<type 'numpy.float64'>,\n",
       "       handle_unknown='error', n_values='auto', sparse=True)"
      ]
     },
     "execution_count": 259,
     "metadata": {},
     "output_type": "execute_result"
    }
   ],
   "source": [
    "# ejemplo usando los tipos de propiedades. Reemplazo los tipos por los indices 0, 1, 2 y 3\n",
    "from sklearn import preprocessing\n",
    "tipos = preprocessing.OneHotEncoder()\n",
    "tipos.fit([[0], [1], [2], [3]]) "
   ]
  },
  {
   "cell_type": "code",
   "execution_count": 268,
   "metadata": {},
   "outputs": [
    {
     "name": "stdout",
     "output_type": "stream",
     "text": [
      "[[ 1.  0.  0.  0.]]\n",
      "[[ 0.  1.  0.  0.]]\n"
     ]
    }
   ],
   "source": [
    "# basicamente desplaza ese 1\n",
    "print(tipos.transform([[0]]).toarray())\n",
    "print(tipos.transform([[1]]).toarray())\n",
    "\n",
    "# Me olvide de intentar meter lo que devuelve sin aplicarle el toarray(). Tal vez acepte esa otra estructura"
   ]
  },
  {
   "cell_type": "markdown",
   "metadata": {},
   "source": [
    "Ver de usar nearest neighbors en conjunto con otros algoritmos"
   ]
  },
  {
   "cell_type": "code",
   "execution_count": 237,
   "metadata": {},
   "outputs": [],
   "source": [
    "#from sklearn.neighbors import NearestNeighbors\n",
    "#nbrs = NearestNeighbors(n_neighbors=2, algorithm='ball_tree').fit(condiciones)\n",
    "#gnb.fit(condiciones, precios)"
   ]
  }
 ],
 "metadata": {
  "kernelspec": {
   "display_name": "Python 3",
   "language": "python",
   "name": "python3"
  },
  "language_info": {
   "codemirror_mode": {
    "name": "ipython",
    "version": 2
   },
   "file_extension": ".py",
   "mimetype": "text/x-python",
   "name": "python",
   "nbconvert_exporter": "python",
   "pygments_lexer": "ipython2",
   "version": "2.7.12"
  }
 },
 "nbformat": 4,
 "nbformat_minor": 2
}
