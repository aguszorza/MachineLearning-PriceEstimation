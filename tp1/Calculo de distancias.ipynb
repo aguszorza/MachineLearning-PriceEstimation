{
 "cells": [
  {
   "cell_type": "code",
   "execution_count": 1,
   "metadata": {
    "collapsed": true
   },
   "outputs": [],
   "source": [
    "import pandas as pd\n",
    "import numpy as np\n",
    "import matplotlib.pyplot as plt\n",
    "from math import radians, sin, cos, asin, sqrt, pi, atan, atan2, fabs"
   ]
  },
  {
   "cell_type": "code",
   "execution_count": 8,
   "metadata": {
    "collapsed": true
   },
   "outputs": [],
   "source": [
    "def calcular_distancia(lat1,long1,lat2,long2):\n",
    "    lon1, lat1 = (radians(coord) for coord in (long1,lat1))\n",
    "    lon2, lat2 = (radians(coord) for coord in (long2,lat2))\n",
    "    dlat = (lat2 - lat1)\n",
    "    dlon = (lon2 - lon1)\n",
    "    a = (\n",
    "        sin(dlat * 0.5)**2 +\n",
    "        cos(lat1) * cos(lat2) * sin(dlon * 0.5)**2\n",
    "    )\n",
    "    \n",
    "    radioTierra = 6371008.8\n",
    "    return 2 * radioTierra * asin(sqrt(a)) / 1000\n",
    "\n",
    "#distancia de Haversine\n",
    "#https://gist.github.com/habibutsu/8bbcc202a915e965c6a6d4f561d0e482"
   ]
  },
  {
   "cell_type": "code",
   "execution_count": 5,
   "metadata": {
    "collapsed": true
   },
   "outputs": [],
   "source": [
    "def distancia_minima(fila, dataframe):\n",
    "    lat, lon = fila\n",
    "    distancias = []\n",
    "    for i in range (len(dataframe)):\n",
    "        d = calcular_distancia(lat,lon,dataframe.lat[i], dataframe.lon[i])\n",
    "        distancias.append(d)\n",
    "    return min(distancias)"
   ]
  },
  {
   "cell_type": "markdown",
   "metadata": {},
   "source": [
    "## Propiedades solo de Capital"
   ]
  },
  {
   "cell_type": "code",
   "execution_count": null,
   "metadata": {
    "collapsed": true
   },
   "outputs": [],
   "source": [
    "propiedades = pd.read_csv('properati.csv')\n",
    "#propiedades = pd.read_csv('/home/agustin/Escritorio/escritorio/fiuba/Organizacion de datos/properati.csv')"
   ]
  },
  {
   "cell_type": "code",
   "execution_count": null,
   "metadata": {
    "collapsed": true
   },
   "outputs": [],
   "source": [
    "solo_capital = propiedades.loc[(propiedades.state_name == 'Capital Federal') & (propiedades.lat.notnull()) & (propiedades.lon.notnull()),:]\n",
    "solo_capital = solo_capital.loc[((solo_capital.lat <= -34) & (solo_capital.lat >= -35)),:]\n",
    "solo_capital = solo_capital.loc[((solo_capital.lon <= -58) & (solo_capital.lon >= -59)),:]"
   ]
  },
  {
   "cell_type": "markdown",
   "metadata": {},
   "source": [
    "## Subtes"
   ]
  },
  {
   "cell_type": "code",
   "execution_count": 4,
   "metadata": {
    "collapsed": true
   },
   "outputs": [],
   "source": [
    "subtes = pd.read_csv('datos/estaciones-de-subte.csv', sep = \",\")"
   ]
  },
  {
   "cell_type": "code",
   "execution_count": null,
   "metadata": {
    "collapsed": true
   },
   "outputs": [],
   "source": [
    "subtes.rename(columns = {'X': 'lon', 'Y': 'lat'}, inplace = True)"
   ]
  },
  {
   "cell_type": "code",
   "execution_count": null,
   "metadata": {
    "collapsed": true
   },
   "outputs": [],
   "source": [
    "solo_capital.loc[:,'distancia_subtes'] = solo_capital.loc[:,['lat','lon']].apply(lambda x: distancia_minima(x, subtes), axis = 1)"
   ]
  },
  {
   "cell_type": "markdown",
   "metadata": {},
   "source": [
    "## Monumentos"
   ]
  },
  {
   "cell_type": "code",
   "execution_count": 6,
   "metadata": {
    "collapsed": true
   },
   "outputs": [],
   "source": [
    "monumentos = pd.read_csv('datos/monumentos.csv', sep = \",\")"
   ]
  },
  {
   "cell_type": "code",
   "execution_count": 9,
   "metadata": {
    "collapsed": true
   },
   "outputs": [],
   "source": [
    "solo_capital.loc[:,'distancia_monumentos'] = solo_capital.loc[:,['lat','lon']].apply(lambda x: distancia_minima(x, monumentos), axis = 1)"
   ]
  },
  {
   "cell_type": "markdown",
   "metadata": {},
   "source": [
    "## Ferrocarriles"
   ]
  },
  {
   "cell_type": "code",
   "execution_count": 8,
   "metadata": {
    "collapsed": true
   },
   "outputs": [],
   "source": [
    "ferrocarriles = pd.read_csv('datos/estaciones-de-ferrocarril.csv', sep = \";\")"
   ]
  },
  {
   "cell_type": "code",
   "execution_count": 14,
   "metadata": {
    "collapsed": true
   },
   "outputs": [],
   "source": [
    "ferrocarriles.rename(columns = {'LAT': 'lat', 'LNG': 'lon' }, inplace = True)"
   ]
  },
  {
   "cell_type": "code",
   "execution_count": null,
   "metadata": {
    "collapsed": true
   },
   "outputs": [],
   "source": [
    "solo_capital.loc[:,'distancia_ferrocarril'] = solo_capital.loc[:,['lat','lon']].apply(lambda x: distancia_minima(x, ferrocarriles), axis = 1)"
   ]
  },
  {
   "cell_type": "markdown",
   "metadata": {},
   "source": [
    "## Estadios"
   ]
  },
  {
   "cell_type": "code",
   "execution_count": 10,
   "metadata": {
    "collapsed": true
   },
   "outputs": [],
   "source": [
    "estadios = pd.read_csv('datos/estadios.csv', sep = \";\")"
   ]
  },
  {
   "cell_type": "code",
   "execution_count": 14,
   "metadata": {
    "collapsed": true
   },
   "outputs": [],
   "source": [
    "estadios.rename(columns = {'LAT': 'lat', 'LONG': 'lon' }, inplace = True)"
   ]
  },
  {
   "cell_type": "code",
   "execution_count": 2,
   "metadata": {
    "collapsed": true
   },
   "outputs": [],
   "source": [
    "solo_capital.loc[:,'distancia_estadios'] = solo_capital.loc[:,['lat','lon']].apply(lambda x: distancia_minima(x, estadios), axis = 1)"
   ]
  },
  {
   "cell_type": "markdown",
   "metadata": {},
   "source": [
    "# Zona de inundaciones"
   ]
  },
  {
   "cell_type": "code",
   "execution_count": 2,
   "metadata": {
    "collapsed": true
   },
   "outputs": [],
   "source": [
    "import geopandas as gpd\n",
    "from shapely.geometry import Polygon, MultiPolygon, Point\n",
    "from shapely import wkt"
   ]
  },
  {
   "cell_type": "code",
   "execution_count": 3,
   "metadata": {},
   "outputs": [
    {
     "data": {
      "text/html": [
       "<div>\n",
       "<style>\n",
       "    .dataframe thead tr:only-child th {\n",
       "        text-align: right;\n",
       "    }\n",
       "\n",
       "    .dataframe thead th {\n",
       "        text-align: left;\n",
       "    }\n",
       "\n",
       "    .dataframe tbody tr th {\n",
       "        vertical-align: top;\n",
       "    }\n",
       "</style>\n",
       "<table border=\"1\" class=\"dataframe\">\n",
       "  <thead>\n",
       "    <tr style=\"text-align: right;\">\n",
       "      <th></th>\n",
       "      <th>provincia</th>\n",
       "      <th>geometry</th>\n",
       "    </tr>\n",
       "  </thead>\n",
       "  <tbody>\n",
       "    <tr>\n",
       "      <th>0</th>\n",
       "      <td>Buenos Aires</td>\n",
       "      <td>POLYGON ((-58.80922221534311 -34.5343527692759...</td>\n",
       "    </tr>\n",
       "    <tr>\n",
       "      <th>1</th>\n",
       "      <td>Buenos Aires</td>\n",
       "      <td>POLYGON ((-58.55217881951273 -34.7005448538739...</td>\n",
       "    </tr>\n",
       "    <tr>\n",
       "      <th>2</th>\n",
       "      <td>Buenos Aires</td>\n",
       "      <td>POLYGON ((-57.99419000000001 -34.957731, -57.9...</td>\n",
       "    </tr>\n",
       "    <tr>\n",
       "      <th>3</th>\n",
       "      <td>Buenos Aires</td>\n",
       "      <td>POLYGON ((-58.35363374172896 -34.7235757806278...</td>\n",
       "    </tr>\n",
       "    <tr>\n",
       "      <th>4</th>\n",
       "      <td>Buenos Aires</td>\n",
       "      <td>POLYGON ((-58.18616301265681 -34.7955152796631...</td>\n",
       "    </tr>\n",
       "  </tbody>\n",
       "</table>\n",
       "</div>"
      ],
      "text/plain": [
       "      provincia                                           geometry\n",
       "0  Buenos Aires  POLYGON ((-58.80922221534311 -34.5343527692759...\n",
       "1  Buenos Aires  POLYGON ((-58.55217881951273 -34.7005448538739...\n",
       "2  Buenos Aires  POLYGON ((-57.99419000000001 -34.957731, -57.9...\n",
       "3  Buenos Aires  POLYGON ((-58.35363374172896 -34.7235757806278...\n",
       "4  Buenos Aires  POLYGON ((-58.18616301265681 -34.7955152796631..."
      ]
     },
     "execution_count": 3,
     "metadata": {},
     "output_type": "execute_result"
    }
   ],
   "source": [
    "inundaciones = gpd.read_file('datos/mapas/inundaciones.dbf')\n",
    "inundaciones.head()"
   ]
  },
  {
   "cell_type": "code",
   "execution_count": 20,
   "metadata": {
    "collapsed": true
   },
   "outputs": [],
   "source": [
    "solo_capital.loc[:,'Zona_inundacion'] = solo_capital.loc[:,['lat','lon']].apply\\\n",
    "(lambda x: inundaciones.contains(Point(x[1], x[0])).any(), axis = 1)"
   ]
  },
  {
   "cell_type": "markdown",
   "metadata": {},
   "source": [
    "# Cercania a las villas"
   ]
  },
  {
   "cell_type": "code",
   "execution_count": 11,
   "metadata": {},
   "outputs": [
    {
     "data": {
      "text/html": [
       "<div>\n",
       "<style>\n",
       "    .dataframe thead tr:only-child th {\n",
       "        text-align: right;\n",
       "    }\n",
       "\n",
       "    .dataframe thead th {\n",
       "        text-align: left;\n",
       "    }\n",
       "\n",
       "    .dataframe tbody tr th {\n",
       "        vertical-align: top;\n",
       "    }\n",
       "</style>\n",
       "<table border=\"1\" class=\"dataframe\">\n",
       "  <thead>\n",
       "    <tr style=\"text-align: right;\">\n",
       "      <th></th>\n",
       "      <th>provincia</th>\n",
       "      <th>geometry</th>\n",
       "    </tr>\n",
       "  </thead>\n",
       "  <tbody>\n",
       "    <tr>\n",
       "      <th>0</th>\n",
       "      <td>Buenos Aires</td>\n",
       "      <td>POLYGON ((-58.80922221534311 -34.5343527692759...</td>\n",
       "    </tr>\n",
       "    <tr>\n",
       "      <th>1</th>\n",
       "      <td>Buenos Aires</td>\n",
       "      <td>POLYGON ((-58.55217881951273 -34.7005448538739...</td>\n",
       "    </tr>\n",
       "    <tr>\n",
       "      <th>2</th>\n",
       "      <td>Buenos Aires</td>\n",
       "      <td>POLYGON ((-57.99419000000001 -34.957731, -57.9...</td>\n",
       "    </tr>\n",
       "    <tr>\n",
       "      <th>3</th>\n",
       "      <td>Buenos Aires</td>\n",
       "      <td>POLYGON ((-58.35363374172896 -34.7235757806278...</td>\n",
       "    </tr>\n",
       "    <tr>\n",
       "      <th>4</th>\n",
       "      <td>Buenos Aires</td>\n",
       "      <td>POLYGON ((-58.18616301265681 -34.7955152796631...</td>\n",
       "    </tr>\n",
       "  </tbody>\n",
       "</table>\n",
       "</div>"
      ],
      "text/plain": [
       "      provincia                                           geometry\n",
       "0  Buenos Aires  POLYGON ((-58.80922221534311 -34.5343527692759...\n",
       "1  Buenos Aires  POLYGON ((-58.55217881951273 -34.7005448538739...\n",
       "2  Buenos Aires  POLYGON ((-57.99419000000001 -34.957731, -57.9...\n",
       "3  Buenos Aires  POLYGON ((-58.35363374172896 -34.7235757806278...\n",
       "4  Buenos Aires  POLYGON ((-58.18616301265681 -34.7955152796631..."
      ]
     },
     "execution_count": 11,
     "metadata": {},
     "output_type": "execute_result"
    }
   ],
   "source": [
    "villas = gpd.read_file('datos/villas/villas.dbf')\n",
    "villas.head()"
   ]
  },
  {
   "cell_type": "code",
   "execution_count": 17,
   "metadata": {
    "collapsed": true
   },
   "outputs": [],
   "source": [
    "aux = villas.loc[villas.provincia.str.contains('Ciudad'),:]"
   ]
  },
  {
   "cell_type": "code",
   "execution_count": 24,
   "metadata": {
    "collapsed": true
   },
   "outputs": [],
   "source": [
    "solo_capital.loc[:,'distancia_villas'] = solo_capital.loc[:,['lat','lon']].apply\\\n",
    "(lambda x: min(aux.distance(Point(x[1], x[0]))) * 100, axis = 1)"
   ]
  },
  {
   "cell_type": "code",
   "execution_count": 30,
   "metadata": {},
   "outputs": [
    {
     "data": {
      "text/plain": [
       "0.0"
      ]
     },
     "execution_count": 30,
     "metadata": {},
     "output_type": "execute_result"
    }
   ],
   "source": [
    "min(solo_capital.distancia_villas)"
   ]
  },
  {
   "cell_type": "code",
   "execution_count": null,
   "metadata": {
    "collapsed": true
   },
   "outputs": [],
   "source": [
    "# Algunos dan negativo porque la distancia era menor que el radio y yo se los reste.\n",
    "# De ultima lo cambio despues recorro y si es negativo lo reemplazo por cero"
   ]
  },
  {
   "cell_type": "markdown",
   "metadata": {},
   "source": [
    "## Exportacion del archivo"
   ]
  },
  {
   "cell_type": "code",
   "execution_count": 27,
   "metadata": {
    "collapsed": true
   },
   "outputs": [],
   "source": [
    "#solo_capital.to_csv('solo_capital.csv', index = False)\n",
    "solo_capital.to_csv('/home/agustin/Escritorio/solo_capital2.csv', index = False)"
   ]
  }
 ],
 "metadata": {
  "kernelspec": {
   "display_name": "Python 3",
   "language": "python",
   "name": "python3"
  },
  "language_info": {
   "codemirror_mode": {
    "name": "ipython",
    "version": 3
   },
   "file_extension": ".py",
   "mimetype": "text/x-python",
   "name": "python",
   "nbconvert_exporter": "python",
   "pygments_lexer": "ipython3",
   "version": "3.6.1"
  }
 },
 "nbformat": 4,
 "nbformat_minor": 2
}
