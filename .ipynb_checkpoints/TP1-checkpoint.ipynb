{
 "cells": [
  {
   "cell_type": "code",
   "execution_count": 2,
   "metadata": {
    "collapsed": true
   },
   "outputs": [],
   "source": [
    "%matplotlib inline\n",
    "\n",
    "import pandas as pd\n",
    "import numpy as np\n",
    "import matplotlib.pyplot as plt\n",
    "import pyproj  #conda install pyproj\n"
   ]
  },
  {
   "cell_type": "code",
   "execution_count": 424,
   "metadata": {},
   "outputs": [
    {
     "name": "stderr",
     "output_type": "stream",
     "text": [
      "/home/mati/anaconda3/lib/python3.6/site-packages/IPython/core/interactiveshell.py:2717: DtypeWarning: Columns (0,3) have mixed types. Specify dtype option on import or set low_memory=False.\n",
      "  interactivity=interactivity, compiler=compiler, result=result)\n"
     ]
    }
   ],
   "source": [
    "propiedades = pd.read_csv('properati.csv')"
   ]
  },
  {
   "cell_type": "code",
   "execution_count": null,
   "metadata": {
    "collapsed": true
   },
   "outputs": [],
   "source": [
    "#Ya no es necesario \n",
    "\n",
    "#Elimino columnas innecesarias\n",
    "#propiedades.drop(['id', 'geonames_id', 'lat-lon', 'properati_url', 'description', 'title', 'image_thumbnail'], axis = 1, inplace = True)\n",
    "propiedades.head(2)\n"
   ]
  },
  {
   "cell_type": "code",
   "execution_count": null,
   "metadata": {
    "collapsed": true
   },
   "outputs": [],
   "source": [
    "propiedades.info()"
   ]
  },
  {
   "cell_type": "code",
   "execution_count": null,
   "metadata": {
    "collapsed": true
   },
   "outputs": [],
   "source": [
    "#ya no es necesario\n",
    "\n",
    "#Elimino los registros que no sean de Capital Federal o Gran Buenos Aires\n",
    "#capital = propiedades ['state_name'] == 'Capital Federal'\n",
    "#gba = propiedades ['state_name'].str.contains('Bs.As. G.B.A.')\n",
    "#propiedades = propiedades [capital | gba].reset_index()\n",
    "#propiedades.drop(\"index\", axis = 1, inplace = True)\n",
    "#propiedades.info()\n",
    "\n",
    "# podemos reemplazar es por la siguiente linea creo \n",
    "#( no lo hice porque en el repo no esta el csv y no se cual tenias)\n",
    "# propiedades = propiedades.loc[propiedades.state_name.str.contains('Bs.As. G.B.A.|Capital Federal'),:]"
   ]
  },
  {
   "cell_type": "code",
   "execution_count": null,
   "metadata": {
    "collapsed": true
   },
   "outputs": [],
   "source": [
    "#Compruebo que solo haya capital y gba\n",
    "propiedades.groupby('state_name').agg(np.size)['operation']"
   ]
  },
  {
   "cell_type": "code",
   "execution_count": 425,
   "metadata": {},
   "outputs": [
    {
     "data": {
      "text/plain": [
       "Palermo    107108\n",
       "Name: place_name, dtype: int64"
      ]
     },
     "execution_count": 425,
     "metadata": {},
     "output_type": "execute_result"
    }
   ],
   "source": [
    "#Reemplazo todos los tipos de Palermo por uno unico\n",
    "propiedades.loc[propiedades.place_name.str.contains(\"Palermo\", na = False),'place_name'] = 'Palermo'\n",
    "propiedades.loc[propiedades.place_name.str.contains(\"Palermo\", na = False),'place_name'].value_counts()"
   ]
  },
  {
   "cell_type": "code",
   "execution_count": 426,
   "metadata": {
    "collapsed": true
   },
   "outputs": [],
   "source": [
    "def calcularPrecioM2(fila):\n",
    "    \"\"\"Recibe una lista con precio total, superficie total, superficie cubierta y precio por metro cuadrado,\n",
    "    y calcula este ultimo a partir de los anteriores, cuando es posible\"\"\"\n",
    "    precio_total,superficie_total,superficie_cubierta,precio_m2 = fila\n",
    "    if (np.isnan(precio_m2)):\n",
    "        if (superficie_total and not np.isnan(superficie_total)):\n",
    "            return precio_total/superficie_total\n",
    "        if(superficie_cubierta and not np.isnan(superficie_cubierta)):\n",
    "            return precio_total/superficie_cubierta\n",
    "    return precio_m2"
   ]
  },
  {
   "cell_type": "code",
   "execution_count": 427,
   "metadata": {},
   "outputs": [
    {
     "name": "stdout",
     "output_type": "stream",
     "text": [
      "<class 'pandas.core.frame.DataFrame'>\n",
      "RangeIndex: 2580055 entries, 0 to 2580054\n",
      "Data columns (total 21 columns):\n",
      "country_name                  object\n",
      "created_on                    object\n",
      "currency                      object\n",
      "expenses                      object\n",
      "floor                         float64\n",
      "lat                           float64\n",
      "lon                           float64\n",
      "operation                     object\n",
      "place_name                    object\n",
      "place_with_parent_names       object\n",
      "price                         float64\n",
      "price_aprox_local_currency    float64\n",
      "price_aprox_usd               float64\n",
      "price_per_m2                  float64\n",
      "price_usd_per_m2              float64\n",
      "property_type                 object\n",
      "rooms                         float64\n",
      "state_name                    object\n",
      "surface_covered_in_m2         float64\n",
      "surface_in_m2                 float64\n",
      "surface_total_in_m2           float64\n",
      "dtypes: float64(12), object(9)\n",
      "memory usage: 413.4+ MB\n"
     ]
    }
   ],
   "source": [
    "#Calculo el precio por metro cuadrado a partir del precio total y la superficie\n",
    "propiedades.loc[:,'price_usd_per_m2'] = propiedades.loc[:,['price_aprox_usd','surface_total_in_m2','surface_covered_in_m2','price_usd_per_m2']].apply(calcularPrecioM2,axis = 1)\n",
    "propiedades.info()"
   ]
  },
  {
   "cell_type": "markdown",
   "metadata": {
    "collapsed": true
   },
   "source": [
    "### Como es el precio por metro cuadrado en cada zona? Cuales son los barrios con mayor promedio?"
   ]
  },
  {
   "cell_type": "code",
   "execution_count": null,
   "metadata": {
    "collapsed": true
   },
   "outputs": [],
   "source": [
    "tiene_precio = propiedades['price_usd_per_m2'].notnull()\n",
    "precio_por_zona = propiedades[tiene_precio].loc[:,['state_name','price_usd_per_m2']].groupby('state_name').agg([np.size,np.mean])\n",
    "precio_por_zona"
   ]
  },
  {
   "cell_type": "code",
   "execution_count": null,
   "metadata": {
    "collapsed": true
   },
   "outputs": [],
   "source": [
    "plot = precio_por_zona[('price_usd_per_m2','mean')].sort_values(ascending = False).plot(kind='barh', title = \"Precio por metro cuadrado promedio segun la zona\", figsize=(12,8));\n",
    "plot.set_ylabel(\"Zona\")\n",
    "plot.set_xlabel(\"Precio por metro cuadrado\")"
   ]
  },
  {
   "cell_type": "markdown",
   "metadata": {},
   "source": [
    "### Para capital federal"
   ]
  },
  {
   "cell_type": "code",
   "execution_count": null,
   "metadata": {
    "collapsed": true,
    "scrolled": true
   },
   "outputs": [],
   "source": [
    "precios_capital = propiedades[tiene_precio].loc[propiedades.state_name == 'Capital Federal',['place_name','price_usd_per_m2']]\n",
    "precios_capital = precios_capital.groupby('place_name').agg([np.size,np.mean])\n",
    "precios_capital.describe()"
   ]
  },
  {
   "cell_type": "code",
   "execution_count": null,
   "metadata": {
    "collapsed": true
   },
   "outputs": [],
   "source": [
    "#Tomamos solo aquellos barrios que tengan mas de 800 publicaciones\n",
    "precios_capital = precios_capital[precios_capital[('price_usd_per_m2','size')] > 800]"
   ]
  },
  {
   "cell_type": "code",
   "execution_count": null,
   "metadata": {
    "collapsed": true
   },
   "outputs": [],
   "source": [
    "plot = precios_capital[('price_usd_per_m2','mean')].sort_values(ascending = False).head(10).plot(kind='bar', figsize=(12,8));\n",
    "plot.set_xlabel(\"Barrio\")\n",
    "plot.set_ylabel(\"Precio por metro cuadrado\")\n",
    "plot.set_title(\"Precio por metro cuadrado para barrios de Capital Federal\")"
   ]
  },
  {
   "cell_type": "markdown",
   "metadata": {},
   "source": [
    "### Para gba zona norte"
   ]
  },
  {
   "cell_type": "code",
   "execution_count": null,
   "metadata": {
    "collapsed": true
   },
   "outputs": [],
   "source": [
    "precios_zona_norte = propiedades[tiene_precio].loc[propiedades.state_name.str.contains('Zona Norte'),['place_name','price_usd_per_m2']]\n",
    "precios_zona_norte = precios_zona_norte.groupby('place_name').agg([np.size,np.mean])\n",
    "precios_zona_norte.describe()"
   ]
  },
  {
   "cell_type": "code",
   "execution_count": null,
   "metadata": {
    "collapsed": true
   },
   "outputs": [],
   "source": [
    "#Tomamos solo aquellos barrios que tengan mas de 800 publicaciones\n",
    "precios_zona_norte = precios_zona_norte[precios_zona_norte[('price_usd_per_m2','size')] > 800]\n",
    "plot = precios_zona_norte[('price_usd_per_m2','mean')].sort_values(ascending = False).head(10).plot(kind='bar', figsize=(12,8));\n",
    "plot.set_xlabel(\"Barrio\")\n",
    "plot.set_ylabel(\"Precio por metro cuadrado\")\n",
    "plot.set_title(\"Precio por metro cuadrado para barrios de GBA Zona Norte\")"
   ]
  },
  {
   "cell_type": "markdown",
   "metadata": {},
   "source": [
    "### Para gba zona oeste"
   ]
  },
  {
   "cell_type": "code",
   "execution_count": null,
   "metadata": {
    "collapsed": true
   },
   "outputs": [],
   "source": [
    "precios_zona_oeste = propiedades[tiene_precio].loc[propiedades.state_name.str.contains('Zona Oeste'),['place_name','price_usd_per_m2']]\n",
    "precios_zona_oeste = precios_zona_oeste.groupby('place_name').agg([np.size,np.mean])\n",
    "precios_zona_oeste.describe()"
   ]
  },
  {
   "cell_type": "code",
   "execution_count": null,
   "metadata": {
    "collapsed": true
   },
   "outputs": [],
   "source": [
    "#Tomamos solo aquellos barrios que tengan mas de 800 publicaciones\n",
    "precios_zona_oeste = precios_zona_oeste[precios_zona_oeste[('price_usd_per_m2','size')] > 800]\n",
    "plot = precios_zona_oeste[('price_usd_per_m2','mean')].sort_values(ascending = False).head(10).plot(kind='bar', figsize=(12,8));\n",
    "plot.set_xlabel(\"Barrio\")\n",
    "plot.set_ylabel(\"Precio por metro cuadrado\")\n",
    "plot.set_title(\"Precio por metro cuadrado para barrios de GBA Zona Oeste\")"
   ]
  },
  {
   "cell_type": "markdown",
   "metadata": {},
   "source": [
    "### Para gba zona sur"
   ]
  },
  {
   "cell_type": "code",
   "execution_count": null,
   "metadata": {
    "collapsed": true
   },
   "outputs": [],
   "source": [
    "precios_zona_sur = propiedades[tiene_precio].loc[propiedades.state_name.str.contains('Zona Sur'),['place_name','price_usd_per_m2']]\n",
    "precios_zona_sur = precios_zona_sur.groupby('place_name').agg([np.size,np.mean])\n",
    "precios_zona_sur.describe()"
   ]
  },
  {
   "cell_type": "code",
   "execution_count": null,
   "metadata": {
    "collapsed": true
   },
   "outputs": [],
   "source": [
    "#Tomamos solo aquellos barrios que tengan mas de 800 publicaciones\n",
    "precios_zona_sur = precios_zona_sur[precios_zona_sur[('price_usd_per_m2','size')] > 800]\n",
    "plot = precios_zona_sur[('price_usd_per_m2','mean')].sort_values(ascending = False).head(10).plot(kind='bar', figsize=(12,8));\n",
    "plot.set_xlabel(\"Barrio\")\n",
    "plot.set_ylabel(\"Precio por metro cuadrado\")\n",
    "plot.set_title(\"Precio por metro cuadrado para barrios de GBA Zona Sur\")"
   ]
  },
  {
   "cell_type": "markdown",
   "metadata": {},
   "source": [
    "### Como evoluciono el precio por metro cuadrado al pasar los anios?"
   ]
  },
  {
   "cell_type": "code",
   "execution_count": null,
   "metadata": {
    "collapsed": true
   },
   "outputs": [],
   "source": [
    "def obtener_anio(fecha):\n",
    "    return fecha.split('-')[0]\n"
   ]
  },
  {
   "cell_type": "code",
   "execution_count": null,
   "metadata": {
    "collapsed": true
   },
   "outputs": [],
   "source": [
    "def obtener_mes(fecha):\n",
    "    return fecha.split('-')[1]"
   ]
  },
  {
   "cell_type": "code",
   "execution_count": null,
   "metadata": {
    "collapsed": true
   },
   "outputs": [],
   "source": [
    "propiedades.loc[:,'Year'] = propiedades.loc[:,'created_on'].apply(obtener_anio)\n",
    "propiedades.loc[:,'Month'] = propiedades.loc[:,'created_on'].apply(obtener_mes)\n",
    "propiedades.tail(3)"
   ]
  },
  {
   "cell_type": "code",
   "execution_count": null,
   "metadata": {
    "collapsed": true
   },
   "outputs": [],
   "source": [
    "precio_por_anio = propiedades[tiene_precio].loc[:,['Year','price_usd_per_m2']].groupby('Year').agg([np.size,np.mean])\n",
    "precio_por_anio = precio_por_anio.loc[precio_por_anio[('price_usd_per_m2','size')] > 100,:]\n",
    "precio_por_anio"
   ]
  },
  {
   "cell_type": "code",
   "execution_count": null,
   "metadata": {
    "collapsed": true
   },
   "outputs": [],
   "source": [
    "plot = precio_por_anio[('price_usd_per_m2','mean')].plot(figsize=(12,8));\n",
    "plot.set_xlabel(\"Año\")\n",
    "plot.set_ylabel(\"Precio por metro cuadrado promedio\")\n",
    "plot.set_ylim([0,3000])\n",
    "plot.set_title(\"Evolucion del precio por metro cuadrado a lo largo de los años\")"
   ]
  },
  {
   "cell_type": "code",
   "execution_count": null,
   "metadata": {
    "collapsed": true
   },
   "outputs": [],
   "source": [
    "precio_por_anio2 = propiedades.loc[propiedades.price_aprox_usd.notnull(),['Year','price_aprox_usd']].groupby('Year').agg([np.size,np.mean])\n",
    "precio_por_anio2 = precio_por_anio2.loc[precio_por_anio2[('price_aprox_usd','size')] > 100,:]\n",
    "plot = precio_por_anio2[('price_aprox_usd','mean')].plot(figsize=(12,8));\n",
    "plot.set_xlabel(\"Año\")\n",
    "plot.set_ylabel(\"Precio promedio\")\n",
    "plot.set_ylim([0,270000])\n",
    "plot.set_title(\"Evolucion del precio a lo largo de los años\")"
   ]
  },
  {
   "cell_type": "markdown",
   "metadata": {},
   "source": [
    "### Como evoluciono el precio por metro cuadrado en en cada anio?"
   ]
  },
  {
   "cell_type": "code",
   "execution_count": null,
   "metadata": {
    "collapsed": true
   },
   "outputs": [],
   "source": [
    "precios_2016 = propiedades[tiene_precio].loc[propiedades.Year == '2016',['Month','price_usd_per_m2']].groupby('Month').agg(np.mean)\n",
    "precios_2015 = propiedades[tiene_precio].loc[propiedades.Year == '2015',['Month','price_usd_per_m2']].groupby('Month').agg(np.mean)\n",
    "precios_2014 = propiedades[tiene_precio].loc[propiedades.Year == '2014',['Month','price_usd_per_m2']].groupby('Month').agg(np.mean)\n"
   ]
  },
  {
   "cell_type": "code",
   "execution_count": null,
   "metadata": {
    "collapsed": true
   },
   "outputs": [],
   "source": [
    "precios_2016 = precios_2016.rename(columns={'price_usd_per_m2': '2016'}).reset_index()\n",
    "precios_2015 = precios_2015.rename(columns={'price_usd_per_m2': '2015'}).reset_index()\n",
    "precios_2014 = precios_2014.rename(columns={'price_usd_per_m2': '2014'}).reset_index()\n",
    "precios = pd.merge(precios_2016,precios_2015,on='Month',how='outer')\n",
    "precios = pd.merge(precios,precios_2014,on='Month',how='outer')\n",
    "precios.set_index('Month', inplace = True)\n",
    "precios"
   ]
  },
  {
   "cell_type": "code",
   "execution_count": null,
   "metadata": {
    "collapsed": true
   },
   "outputs": [],
   "source": [
    "precios.index = ['Enero', 'Febrero', 'Marzo', 'Abril', 'Mayo', 'Junio', 'Julio', 'Agosto',\\\n",
    "                 'Septiembre', 'Octubre', 'Noviembre', 'Diciembre']\n",
    "plot = precios.plot(figsize=(12,8),rot = 50);\n",
    "plot.set_xlabel(\"Mes\")\n",
    "plot.set_ylabel(\"Precio por metro cuadrado promedio\")\n",
    "plot.set_title(\"Evolucion del precio por metro cuadrado a lo largo de los meses\")\n",
    "plot.set_ylim([0,3000])\n"
   ]
  },
  {
   "cell_type": "markdown",
   "metadata": {},
   "source": [
    "### Que tipo de propiedad se vende mas?"
   ]
  },
  {
   "cell_type": "code",
   "execution_count": null,
   "metadata": {
    "collapsed": true
   },
   "outputs": [],
   "source": [
    "tipos_propiedades = propiedades.loc[:,'property_type'].str.capitalize().value_counts()\n",
    "plot = tipos_propiedades.plot(kind='pie', figsize=(12,8), autopct='%.2f', label = 'Tipo de Propiedad');\n",
    "plot.set_title(\"Porcentaje de publicaciones de cada tipo de propiedad\")"
   ]
  },
  {
   "cell_type": "code",
   "execution_count": null,
   "metadata": {
    "collapsed": true
   },
   "outputs": [],
   "source": [
    "precio_tipos_propiedades = propiedades.loc[:,['property_type','price_aprox_usd']]\n",
    "precio_tipos_propiedades.loc[:,'property_type'] = precio_tipos_propiedades.loc[:,'property_type'].str.capitalize()\n",
    "precio_tipos_propiedades = precio_tipos_propiedades.groupby('property_type').agg([np.size,np.mean])\n",
    "plot = precio_tipos_propiedades.loc[:,('price_aprox_usd','mean')].sort_values(ascending=False).plot(kind = 'bar');\n",
    "\n",
    "plot.set_xlabel(\"Tipo de propiedad\")\n",
    "plot.set_ylabel(\"Precio promedio (en dolares)\")\n",
    "plot.set_title(\"Precio segun el tipo de propiedad\")"
   ]
  },
  {
   "cell_type": "markdown",
   "metadata": {},
   "source": [
    "### Cual es la relacion entre la superficie cubierta y la cantidad de habitaciones?"
   ]
  },
  {
   "cell_type": "code",
   "execution_count": null,
   "metadata": {
    "collapsed": true
   },
   "outputs": [],
   "source": [
    "tiene_superficie = propiedades['surface_covered_in_m2'].notnull()\n",
    "tiene_habitaciones = propiedades['rooms'].notnull()\n",
    "habitaciones = propiedades.loc[tiene_superficie & tiene_habitaciones,:]\n",
    "habitaciones = habitaciones.loc[(habitaciones['surface_covered_in_m2'] < 500) & (habitaciones['rooms'] < 15 ),:]\n",
    "habitaciones.plot.scatter(x = 'surface_covered_in_m2', y = 'rooms', figsize=(12,8))"
   ]
  },
  {
   "cell_type": "code",
   "execution_count": null,
   "metadata": {
    "collapsed": true
   },
   "outputs": [],
   "source": [
    "tiene_precio_usd = propiedades['price_aprox_usd'].notnull()\n",
    "tiene_habitaciones = propiedades['rooms'].notnull() & propiedades['rooms'] > 0\n",
    "hab = propiedades.loc[tiene_precio_usd & tiene_habitaciones,:]\n",
    "hab = hab.loc[(hab['price_aprox_usd'] > 1000) & (hab['price_aprox_usd'] < 100000) & (hab['rooms'] < 10),:]\n",
    "plot = hab.plot.scatter(x = 'price_aprox_usd', y = 'rooms', figsize=(12,8));\n",
    "plot.set_xlabel(\"Precio de la propiedad (en dolares)\")\n",
    "plot.set_ylabel(\"Cantidad de habitaciones\")\n",
    "plot.set_title(\"Relacion entre la cantidad de habitaciones y el precio de la propiedad\")"
   ]
  },
  {
   "cell_type": "markdown",
   "metadata": {},
   "source": [
    "##### se ve que las propiedades mas baratas no tiene mas de 4-5 habitaciones y que solo las mas caras tiene mas de 6"
   ]
  },
  {
   "cell_type": "markdown",
   "metadata": {},
   "source": [
    "### Relacion entre los distintos valores de dolar (Creo que no sirve para comparar)"
   ]
  },
  {
   "cell_type": "code",
   "execution_count": null,
   "metadata": {
    "collapsed": true,
    "scrolled": true
   },
   "outputs": [],
   "source": [
    "valor_dolar = propiedades.loc[(propiedades['price_aprox_local_currency'].notnull()) & (propiedades['price_aprox_usd'].notnull()),['price_aprox_local_currency','price_aprox_usd','Year']]\n",
    "valor_dolar ['dolar'] = valor_dolar['price_aprox_local_currency'] / valor_dolar['price_aprox_usd']\n",
    "valor_dolar = valor_dolar[valor_dolar ['dolar'] > 10]\n",
    "valor_dolar.describe()"
   ]
  },
  {
   "cell_type": "code",
   "execution_count": null,
   "metadata": {
    "collapsed": true
   },
   "outputs": [],
   "source": [
    "valor_dolar = valor_dolar.loc[:,['Year', 'dolar']].groupby('Year').agg(np.mean)\n",
    "valor_dolar"
   ]
  },
  {
   "cell_type": "markdown",
   "metadata": {},
   "source": [
    "## Tomamos algunos barrios importantes y hacemos comparaciones"
   ]
  },
  {
   "cell_type": "code",
   "execution_count": null,
   "metadata": {
    "collapsed": true
   },
   "outputs": [],
   "source": [
    "barrios = ['Palermo', 'Olivos', 'Lomas de Zamora', 'La Matanza']\n",
    "df = []\n",
    "for barrio in barrios:\n",
    "    a = propiedades[tiene_precio].loc[propiedades.place_name == barrio,['Year','price_usd_per_m2']]\\\n",
    "    .groupby('Year').agg(np.mean).reset_index().rename(columns={'price_usd_per_m2' : barrio})\n",
    "    df.append(a)"
   ]
  },
  {
   "cell_type": "code",
   "execution_count": null,
   "metadata": {
    "collapsed": true
   },
   "outputs": [],
   "source": [
    "precios_barrios = df[0]\n",
    "for x in range (1,len(barrios)):\n",
    "    precios_barrios = pd.merge(precios_barrios,df[x],how='outer')\n",
    "precios_barrios.set_index(\"Year\",inplace = True)\n",
    "precios_barrios"
   ]
  },
  {
   "cell_type": "code",
   "execution_count": null,
   "metadata": {
    "collapsed": true
   },
   "outputs": [],
   "source": [
    "plot = precios_barrios.plot(figsize=(12,8));\n",
    "plot.set_xlabel(\"Año\")\n",
    "plot.set_ylabel(\"Precio promedio por metro cuadrado\")\n",
    "plot.set_title(\"Evolucion del precio por metro cuadrado a lo largo de los años para algunos barrios\")\n",
    "plot.set_ylim([0,3600])"
   ]
  },
  {
   "cell_type": "code",
   "execution_count": null,
   "metadata": {
    "collapsed": true
   },
   "outputs": [],
   "source": [
    "precios_barrios2 = propiedades.loc[(propiedades.Year == '2016') & (propiedades.price_usd_per_m2 < 5000) &\\\n",
    "                        (propiedades.price_usd_per_m2 > 100)&((propiedades.place_name == barrios[0]) | \\\n",
    "                          (propiedades.place_name == barrios[1]) | (propiedades.place_name == barrios[2])\\\n",
    "                        | (propiedades.place_name == barrios[3])),\\\n",
    "        ['lon','place_name','price_usd_per_m2']].pivot_table(index='lon',columns='place_name')\n",
    "precios_barrios2.columns = precios_barrios2.columns.droplevel()\n",
    "boxplot = precios_barrios2.plot.box(figsize=(12,8),patch_artist=True,return_type='dict', title=\"Precio por metro cuadrado para algunos barrios\");\n",
    "ax=plt.gca()\n",
    "ax.set_ylabel('Precio por metro cuadrado')\n",
    "ax.set_xlabel('Barrio')\n",
    "\n",
    "\n",
    "colors = ['red' , 'green', 'orange', 'blue'] #Mismos colores del grafico de lineas de arriba\n",
    "    \n",
    "for patch, color in zip(boxplot['boxes'], colors):\n",
    "    patch.set_facecolor(color)\n"
   ]
  },
  {
   "cell_type": "markdown",
   "metadata": {},
   "source": [
    "## Relacion entre precios y distancia a lugares importantes"
   ]
  },
  {
   "cell_type": "code",
   "execution_count": 34,
   "metadata": {
    "collapsed": true
   },
   "outputs": [],
   "source": [
    "def calcular_distancia(lat1,long1,lat2,long2):\n",
    "    geod = pyproj.Geod(ellps=\"WGS84\")\n",
    "    angle1,angle2,distance = geod.inv(long1, lat1, long2, lat2)\n",
    "    return distance / 1000\n",
    "\n",
    "#https://joseguerreroa.wordpress.com/2012/11/09/desarrollo-geoespacial-con-python-en-linux-debian/"
   ]
  },
  {
   "cell_type": "code",
   "execution_count": 432,
   "metadata": {
    "collapsed": true
   },
   "outputs": [],
   "source": [
    "def calcular_distancia_minima(fila):\n",
    "\n",
    "    lugares = ['Obelisco','Cabildo','Planetario','Jardin Botanico','Abasto','Museo del arte']\n",
    "    latitudes = [-34.603075,-38.4833,-34.569722,-34.582639,-34.603611,-34.57722222]\n",
    "    longitudes = [-58.381653,-61.9,-58.411667,-58.417361,-58.410833,-58.40336111]\n",
    "    lat1,long1 = fila\n",
    "    distancias = []\n",
    "    \n",
    "    for i in range(len(lugares)):\n",
    "        distancias.append(calcular_distancia(lat1,long1,latitudes[i],longitudes[i]))\n",
    "    \n",
    "    return min(distancias)"
   ]
  },
  {
   "cell_type": "code",
   "execution_count": 436,
   "metadata": {},
   "outputs": [
    {
     "data": {
      "text/html": [
       "<div>\n",
       "<style>\n",
       "    .dataframe thead tr:only-child th {\n",
       "        text-align: right;\n",
       "    }\n",
       "\n",
       "    .dataframe thead th {\n",
       "        text-align: left;\n",
       "    }\n",
       "\n",
       "    .dataframe tbody tr th {\n",
       "        vertical-align: top;\n",
       "    }\n",
       "</style>\n",
       "<table border=\"1\" class=\"dataframe\">\n",
       "  <thead>\n",
       "    <tr style=\"text-align: right;\">\n",
       "      <th></th>\n",
       "      <th>country_name</th>\n",
       "      <th>created_on</th>\n",
       "      <th>currency</th>\n",
       "      <th>expenses</th>\n",
       "      <th>floor</th>\n",
       "      <th>lat</th>\n",
       "      <th>lon</th>\n",
       "      <th>operation</th>\n",
       "      <th>place_name</th>\n",
       "      <th>place_with_parent_names</th>\n",
       "      <th>...</th>\n",
       "      <th>price_aprox_usd</th>\n",
       "      <th>price_per_m2</th>\n",
       "      <th>price_usd_per_m2</th>\n",
       "      <th>property_type</th>\n",
       "      <th>rooms</th>\n",
       "      <th>state_name</th>\n",
       "      <th>surface_covered_in_m2</th>\n",
       "      <th>surface_in_m2</th>\n",
       "      <th>surface_total_in_m2</th>\n",
       "      <th>distancia</th>\n",
       "    </tr>\n",
       "  </thead>\n",
       "  <tbody>\n",
       "    <tr>\n",
       "      <th>0</th>\n",
       "      <td>NaN</td>\n",
       "      <td>2012-08-08</td>\n",
       "      <td>NaN</td>\n",
       "      <td>850 aprox</td>\n",
       "      <td>10.0</td>\n",
       "      <td>-34.561208</td>\n",
       "      <td>-58.464514</td>\n",
       "      <td>sell</td>\n",
       "      <td>Belgrano</td>\n",
       "      <td>|Argentina|Capital Federal|Belgrano|</td>\n",
       "      <td>...</td>\n",
       "      <td>NaN</td>\n",
       "      <td>NaN</td>\n",
       "      <td>NaN</td>\n",
       "      <td>apartment</td>\n",
       "      <td>3.0</td>\n",
       "      <td>Capital Federal</td>\n",
       "      <td>NaN</td>\n",
       "      <td>102.0</td>\n",
       "      <td>NaN</td>\n",
       "      <td>4.936932</td>\n",
       "    </tr>\n",
       "    <tr>\n",
       "      <th>10</th>\n",
       "      <td>NaN</td>\n",
       "      <td>2012-08-08</td>\n",
       "      <td>USD</td>\n",
       "      <td>NaN</td>\n",
       "      <td>10.0</td>\n",
       "      <td>-34.597915</td>\n",
       "      <td>-58.417149</td>\n",
       "      <td>sell</td>\n",
       "      <td>Palermo</td>\n",
       "      <td>|Argentina|Capital Federal|Palermo|</td>\n",
       "      <td>...</td>\n",
       "      <td>86925.0</td>\n",
       "      <td>NaN</td>\n",
       "      <td>2716.40625</td>\n",
       "      <td>apartment</td>\n",
       "      <td>1.0</td>\n",
       "      <td>Capital Federal</td>\n",
       "      <td>NaN</td>\n",
       "      <td>32.0</td>\n",
       "      <td>NaN</td>\n",
       "      <td>0.857280</td>\n",
       "    </tr>\n",
       "  </tbody>\n",
       "</table>\n",
       "<p>2 rows × 22 columns</p>\n",
       "</div>"
      ],
      "text/plain": [
       "   country_name  created_on currency   expenses  floor        lat        lon  \\\n",
       "0           NaN  2012-08-08      NaN  850 aprox   10.0 -34.561208 -58.464514   \n",
       "10          NaN  2012-08-08      USD        NaN   10.0 -34.597915 -58.417149   \n",
       "\n",
       "   operation place_name               place_with_parent_names    ...      \\\n",
       "0       sell   Belgrano  |Argentina|Capital Federal|Belgrano|    ...       \n",
       "10      sell    Palermo   |Argentina|Capital Federal|Palermo|    ...       \n",
       "\n",
       "    price_aprox_usd  price_per_m2  price_usd_per_m2  property_type  rooms  \\\n",
       "0               NaN           NaN               NaN      apartment    3.0   \n",
       "10          86925.0           NaN        2716.40625      apartment    1.0   \n",
       "\n",
       "         state_name  surface_covered_in_m2 surface_in_m2  surface_total_in_m2  \\\n",
       "0   Capital Federal                    NaN         102.0                  NaN   \n",
       "10  Capital Federal                    NaN          32.0                  NaN   \n",
       "\n",
       "    distancia  \n",
       "0    4.936932  \n",
       "10   0.857280  \n",
       "\n",
       "[2 rows x 22 columns]"
      ]
     },
     "execution_count": 436,
     "metadata": {},
     "output_type": "execute_result"
    }
   ],
   "source": [
    "solo_capital = propiedades.loc[(propiedades.state_name == 'Capital Federal') & (propiedades.lat.notnull()) & (propiedades.lon.notnull()),:]\n",
    "solo_capital = solo_capital.loc[((solo_capital.lat <= -32) & (solo_capital.lat >= -36)),:]\n",
    "solo_capital = solo_capital.loc[((solo_capital.lon <= -56) & (solo_capital.lon >= -63)),:]\n",
    "solo_capital.loc[:,'distancia'] = solo_capital.loc[:,['lat','lon']].apply(calcular_distancia_minima, axis = 1)\n",
    "solo_capital.head(2)"
   ]
  },
  {
   "cell_type": "code",
   "execution_count": 441,
   "metadata": {},
   "outputs": [
    {
     "data": {
      "text/plain": [
       "count    888975.000000\n",
       "mean          4.342562\n",
       "std           6.480397\n",
       "min           0.023225\n",
       "25%           1.467435\n",
       "50%           3.040989\n",
       "75%           5.597755\n",
       "max         450.797818\n",
       "Name: distancia, dtype: float64"
      ]
     },
     "execution_count": 441,
     "metadata": {},
     "output_type": "execute_result"
    }
   ],
   "source": [
    "solo_capital['distancia'].describe()"
   ]
  },
  {
   "cell_type": "code",
   "execution_count": 442,
   "metadata": {},
   "outputs": [
    {
     "data": {
      "text/plain": [
       "<matplotlib.text.Text at 0x7f20e15d7b00>"
      ]
     },
     "execution_count": 442,
     "metadata": {},
     "output_type": "execute_result"
    },
    {
     "data": {
      "image/png": "[encoded data removed]",
      "text/plain": [
       "<matplotlib.figure.Figure at 0x7f20e6af0ac8>"
      ]
     },
     "metadata": {},
     "output_type": "display_data"
    }
   ],
   "source": [
    "dist = solo_capital.loc[(solo_capital.price_usd_per_m2.notnull()) & (solo_capital.price_usd_per_m2 < 20000) & (solo_capital.distancia < 200),:]\n",
    "plot = dist.plot.scatter(x = 'distancia', y = 'price_usd_per_m2', figsize=(12,8));\n",
    "plot.set_xlabel(\"Distancia a algun lugar importante (Km)\")\n",
    "plot.set_ylabel(\"Precio por metro cuadrado\")\n",
    "plot.set_title(\"Relacion entre la distancia a algun lugar importante y el precio por metro cuadrado\")"
   ]
  },
  {
   "cell_type": "markdown",
   "metadata": {},
   "source": [
    "## Relacion entre el precio y cercania a los subtes"
   ]
  },
  {
   "cell_type": "code",
   "execution_count": 21,
   "metadata": {},
   "outputs": [
    {
     "data": {
      "text/html": [
       "<div>\n",
       "<style>\n",
       "    .dataframe thead tr:only-child th {\n",
       "        text-align: right;\n",
       "    }\n",
       "\n",
       "    .dataframe thead th {\n",
       "        text-align: left;\n",
       "    }\n",
       "\n",
       "    .dataframe tbody tr th {\n",
       "        vertical-align: top;\n",
       "    }\n",
       "</style>\n",
       "<table border=\"1\" class=\"dataframe\">\n",
       "  <thead>\n",
       "    <tr style=\"text-align: right;\">\n",
       "      <th></th>\n",
       "      <th>X</th>\n",
       "      <th>Y</th>\n",
       "      <th>ID</th>\n",
       "      <th>ESTACION</th>\n",
       "      <th>LINEA</th>\n",
       "    </tr>\n",
       "  </thead>\n",
       "  <tbody>\n",
       "    <tr>\n",
       "      <th>81</th>\n",
       "      <td>-58.469640</td>\n",
       "      <td>-34.630707</td>\n",
       "      <td>83.0</td>\n",
       "      <td>SAN PEDRITO</td>\n",
       "      <td>A</td>\n",
       "    </tr>\n",
       "    <tr>\n",
       "      <th>82</th>\n",
       "      <td>-58.463541</td>\n",
       "      <td>-34.629087</td>\n",
       "      <td>82.0</td>\n",
       "      <td>SAN JOSE DE FLORES</td>\n",
       "      <td>A</td>\n",
       "    </tr>\n",
       "    <tr>\n",
       "      <th>83</th>\n",
       "      <td>-58.403721</td>\n",
       "      <td>-34.598455</td>\n",
       "      <td>84.0</td>\n",
       "      <td>CORDOBA</td>\n",
       "      <td>H</td>\n",
       "    </tr>\n",
       "    <tr>\n",
       "      <th>84</th>\n",
       "      <td>-58.397216</td>\n",
       "      <td>-34.587462</td>\n",
       "      <td>85.0</td>\n",
       "      <td>LAS HERAS</td>\n",
       "      <td>H</td>\n",
       "    </tr>\n",
       "    <tr>\n",
       "      <th>85</th>\n",
       "      <td>-58.402376</td>\n",
       "      <td>-34.594525</td>\n",
       "      <td>86.0</td>\n",
       "      <td>SANTA FE - CARLOS JAUREGUI</td>\n",
       "      <td>H</td>\n",
       "    </tr>\n",
       "  </tbody>\n",
       "</table>\n",
       "</div>"
      ],
      "text/plain": [
       "            X          Y    ID                    ESTACION LINEA\n",
       "81 -58.469640 -34.630707  83.0                 SAN PEDRITO     A\n",
       "82 -58.463541 -34.629087  82.0          SAN JOSE DE FLORES     A\n",
       "83 -58.403721 -34.598455  84.0                     CORDOBA     H\n",
       "84 -58.397216 -34.587462  85.0                   LAS HERAS     H\n",
       "85 -58.402376 -34.594525  86.0  SANTA FE - CARLOS JAUREGUI     H"
      ]
     },
     "execution_count": 21,
     "metadata": {},
     "output_type": "execute_result"
    }
   ],
   "source": [
    "subtes = pd.read_csv('estaciones-de-subte.csv', sep = \",\")\n",
    "subtes.tail()"
   ]
  },
  {
   "cell_type": "code",
   "execution_count": 45,
   "metadata": {},
   "outputs": [
    {
     "name": "stdout",
     "output_type": "stream",
     "text": [
      "<class 'pandas.core.frame.DataFrame'>\n",
      "RangeIndex: 86 entries, 0 to 85\n",
      "Data columns (total 5 columns):\n",
      "X           86 non-null float64\n",
      "Y           86 non-null float64\n",
      "ID          86 non-null float64\n",
      "ESTACION    86 non-null object\n",
      "LINEA       86 non-null object\n",
      "dtypes: float64(3), object(2)\n",
      "memory usage: 3.4+ KB\n"
     ]
    }
   ],
   "source": [
    "subtes.info()"
   ]
  },
  {
   "cell_type": "code",
   "execution_count": 44,
   "metadata": {
    "collapsed": true
   },
   "outputs": [],
   "source": [
    "def distancia_subtes(fila, d_max):\n",
    "    lat = fila.lat\n",
    "    lon = fila.lon\n",
    "    distancias = []\n",
    "    for i in range (len(subtes)):\n",
    "        d = calcular_distancia(lat,lon,subtes.Y[i], subtes.X[i])\n",
    "        distancias.append(d)\n",
    "    return min(distancias)"
   ]
  },
  {
   "cell_type": "code",
   "execution_count": null,
   "metadata": {
    "collapsed": true
   },
   "outputs": [],
   "source": [
    "cercanos_subte = propiedades.loc[((propiedades.lat.notnull()) & (propiedades.lon.notnull()),:]\n",
    "cercanos_subte = cercanos_subte.loc[(distancia_subtes(),)]\n",
    "cercanos_subte.loc[:,'distancia'] = cercanos_subte.loc[:,['lat','lon']].apply(distancias_subtes, axis = 1)\n",
    "solo_capital.head(2)"
   ]
  },
  {
   "cell_type": "code",
   "execution_count": null,
   "metadata": {
    "collapsed": true
   },
   "outputs": [],
   "source": [
    "cercanos_subte.describe()"
   ]
  },
  {
   "cell_type": "code",
   "execution_count": null,
   "metadata": {
    "collapsed": true
   },
   "outputs": [],
   "source": [
    "dist = cercanos_subte.loc[(cercanos_subte.price_usd_per_m2.notnull()) & (cercanos_subtes.price_usd_per_m2 < 20000) & (cercanos_subtes.distancia < 200),:]\n",
    "plot = dist.plot.scatter(x = 'distancia', y = 'price_usd_per_m2', figsize=(12,8));\n",
    "plot.set_xlabel(\"Distancia a alguna estacion de subte (Km)\")\n",
    "plot.set_ylabel(\"Precio por metro cuadrado\")\n",
    "plot.set_title(\"Relacion entre el el precio por metro cuadrado y la distancia al subte\")"
   ]
  }
 ],
 "metadata": {
  "kernelspec": {
   "display_name": "Python 3",
   "language": "python",
   "name": "python3"
  },
  "language_info": {
   "codemirror_mode": {
    "name": "ipython",
    "version": 3
   },
   "file_extension": ".py",
   "mimetype": "text/x-python",
   "name": "python",
   "nbconvert_exporter": "python",
   "pygments_lexer": "ipython3",
   "version": "3.5.2"
  }
 },
 "nbformat": 4,
 "nbformat_minor": 2
}
