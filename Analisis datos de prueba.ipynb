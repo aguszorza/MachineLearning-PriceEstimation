{
 "cells": [
  {
   "cell_type": "code",
   "execution_count": 3,
   "metadata": {
    "collapsed": true
   },
   "outputs": [],
   "source": [
    "import pandas as pd\n",
    "import numpy as np\n",
    "from sklearn.tree import DecisionTreeRegressor\n",
    "from sklearn.metrics import mean_squared_error\n",
    "from sklearn.model_selection import GridSearchCV\n",
    "from sklearn.externals import joblib\n",
    "import time\n",
    "from sklearn.decomposition import TruncatedSVD\n",
    "from sklearn.model_selection import train_test_split\n",
    "\n",
    "\n",
    "import warnings\n",
    "warnings.simplefilter(\"ignore\", category=DeprecationWarning)"
   ]
  },
  {
   "cell_type": "code",
   "execution_count": 2,
   "metadata": {
    "collapsed": true
   },
   "outputs": [],
   "source": [
    "pruebas = pd.read_csv('properati_dataset_modificado.csv')"
   ]
  },
  {
   "cell_type": "code",
   "execution_count": 15,
   "metadata": {},
   "outputs": [],
   "source": [
    "sup_min = 10\n",
    "sup_max = 150\n",
    "\n",
    "lat_min = -35\n",
    "lat_max = -34\n",
    "\n",
    "lon_min = -59\n",
    "lon_max = -58\n",
    "\n",
    "precio_min = 5000\n",
    "precio_max = 1000000\n",
    "\n",
    "propiedades = pruebas\n",
    "p = propiedades.loc[  (propiedades.superficie >= sup_max) | (propiedades.superficie <= sup_min) |\\\n",
    "                      (propiedades.lat >= lat_max) | (propiedades.lat <= lat_min) |\\\n",
    "                       (propiedades.lon >= lon_max) | (propiedades.lon <= lon_min),:]\n",
    "\n",
    "columnas = ['superficie','lat', 'lon']"
   ]
  },
  {
   "cell_type": "code",
   "execution_count": 17,
   "metadata": {},
   "outputs": [
    {
     "data": {
      "text/html": [
       "<div>\n",
       "<style>\n",
       "    .dataframe thead tr:only-child th {\n",
       "        text-align: right;\n",
       "    }\n",
       "\n",
       "    .dataframe thead th {\n",
       "        text-align: left;\n",
       "    }\n",
       "\n",
       "    .dataframe tbody tr th {\n",
       "        vertical-align: top;\n",
       "    }\n",
       "</style>\n",
       "<table border=\"1\" class=\"dataframe\">\n",
       "  <thead>\n",
       "    <tr style=\"text-align: right;\">\n",
       "      <th></th>\n",
       "      <th>superficie</th>\n",
       "      <th>lat</th>\n",
       "      <th>lon</th>\n",
       "    </tr>\n",
       "  </thead>\n",
       "  <tbody>\n",
       "    <tr>\n",
       "      <th>count</th>\n",
       "      <td>4.174000e+03</td>\n",
       "      <td>4174.000000</td>\n",
       "      <td>4174.000000</td>\n",
       "    </tr>\n",
       "    <tr>\n",
       "      <th>mean</th>\n",
       "      <td>1.143443e+03</td>\n",
       "      <td>-34.667990</td>\n",
       "      <td>-58.460701</td>\n",
       "    </tr>\n",
       "    <tr>\n",
       "      <th>std</th>\n",
       "      <td>5.025419e+04</td>\n",
       "      <td>0.347596</td>\n",
       "      <td>0.320485</td>\n",
       "    </tr>\n",
       "    <tr>\n",
       "      <th>min</th>\n",
       "      <td>1.000000e+00</td>\n",
       "      <td>-38.416097</td>\n",
       "      <td>-63.616672</td>\n",
       "    </tr>\n",
       "    <tr>\n",
       "      <th>25%</th>\n",
       "      <td>1.670000e+02</td>\n",
       "      <td>-34.756526</td>\n",
       "      <td>-58.632980</td>\n",
       "    </tr>\n",
       "    <tr>\n",
       "      <th>50%</th>\n",
       "      <td>2.245681e+02</td>\n",
       "      <td>-34.646440</td>\n",
       "      <td>-58.459830</td>\n",
       "    </tr>\n",
       "    <tr>\n",
       "      <th>75%</th>\n",
       "      <td>3.200000e+02</td>\n",
       "      <td>-34.598624</td>\n",
       "      <td>-58.381931</td>\n",
       "    </tr>\n",
       "    <tr>\n",
       "      <th>max</th>\n",
       "      <td>3.243242e+06</td>\n",
       "      <td>-29.424917</td>\n",
       "      <td>-57.558500</td>\n",
       "    </tr>\n",
       "  </tbody>\n",
       "</table>\n",
       "</div>"
      ],
      "text/plain": [
       "         superficie          lat          lon\n",
       "count  4.174000e+03  4174.000000  4174.000000\n",
       "mean   1.143443e+03   -34.667990   -58.460701\n",
       "std    5.025419e+04     0.347596     0.320485\n",
       "min    1.000000e+00   -38.416097   -63.616672\n",
       "25%    1.670000e+02   -34.756526   -58.632980\n",
       "50%    2.245681e+02   -34.646440   -58.459830\n",
       "75%    3.200000e+02   -34.598624   -58.381931\n",
       "max    3.243242e+06   -29.424917   -57.558500"
      ]
     },
     "execution_count": 17,
     "metadata": {},
     "output_type": "execute_result"
    }
   ],
   "source": [
    "p.loc[:,columnas].describe()"
   ]
  },
  {
   "cell_type": "code",
   "execution_count": 19,
   "metadata": {},
   "outputs": [
    {
     "data": {
      "text/plain": [
       "superficie    4174\n",
       "lat           4174\n",
       "lon           4174\n",
       "dtype: int64"
      ]
     },
     "execution_count": 19,
     "metadata": {},
     "output_type": "execute_result"
    }
   ],
   "source": [
    "p.loc[:,columnas].count()"
   ]
  },
  {
   "cell_type": "markdown",
   "metadata": {},
   "source": [
    "## Hay 4000 propiedades con datos \"malos\" en las pruebas a analizar\n",
    "\n",
    "## Quizas por eso tenemos muy malos resultados"
   ]
  }
 ],
 "metadata": {
  "kernelspec": {
   "display_name": "Python 3",
   "language": "python",
   "name": "python3"
  },
  "language_info": {
   "codemirror_mode": {
    "name": "ipython",
    "version": 3
   },
   "file_extension": ".py",
   "mimetype": "text/x-python",
   "name": "python",
   "nbconvert_exporter": "python",
   "pygments_lexer": "ipython3",
   "version": "3.6.1"
  }
 },
 "nbformat": 4,
 "nbformat_minor": 2
}
