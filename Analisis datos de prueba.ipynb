{
 "cells": [
  {
   "cell_type": "code",
   "execution_count": 1,
   "metadata": {
    "collapsed": true
   },
   "outputs": [],
   "source": [
    "import pandas as pd\n",
    "import numpy as np\n",
    "from sklearn.tree import DecisionTreeRegressor\n",
    "from sklearn.metrics import mean_squared_error\n",
    "from sklearn.model_selection import GridSearchCV\n",
    "from sklearn.externals import joblib\n",
    "import time\n",
    "from sklearn.decomposition import TruncatedSVD\n",
    "from sklearn.model_selection import train_test_split\n",
    "\n",
    "\n",
    "import warnings\n",
    "warnings.simplefilter(\"ignore\", category=DeprecationWarning)"
   ]
  },
  {
   "cell_type": "code",
   "execution_count": 2,
   "metadata": {
    "collapsed": true
   },
   "outputs": [],
   "source": [
    "pruebas = pd.read_csv('properati_dataset_modificado.csv')"
   ]
  },
  {
   "cell_type": "code",
   "execution_count": 28,
   "metadata": {
    "collapsed": true
   },
   "outputs": [],
   "source": [
    "sup_min = 9\n",
    "sup_max = 150\n",
    "\n",
    "lat_min = -35\n",
    "lat_max = -34\n",
    "\n",
    "lon_min = -59\n",
    "lon_max = -58\n",
    "\n",
    "precio_min = 5000\n",
    "precio_max = 1000000\n",
    "\n",
    "propiedades = pruebas\n",
    "p = propiedades.loc[  (propiedades.superficie >= sup_max) | (propiedades.superficie <= sup_min) |\\\n",
    "                      (propiedades.lat >= lat_max) | (propiedades.lat <= lat_min) |\\\n",
    "                       (propiedades.lon >= lon_max) | (propiedades.lon <= lon_min),:]\n",
    "\n",
    "columnas = ['superficie','lat', 'lon']"
   ]
  },
  {
   "cell_type": "code",
   "execution_count": 29,
   "metadata": {},
   "outputs": [
    {
     "data": {
      "text/html": [
       "<div>\n",
       "<style>\n",
       "    .dataframe thead tr:only-child th {\n",
       "        text-align: right;\n",
       "    }\n",
       "\n",
       "    .dataframe thead th {\n",
       "        text-align: left;\n",
       "    }\n",
       "\n",
       "    .dataframe tbody tr th {\n",
       "        vertical-align: top;\n",
       "    }\n",
       "</style>\n",
       "<table border=\"1\" class=\"dataframe\">\n",
       "  <thead>\n",
       "    <tr style=\"text-align: right;\">\n",
       "      <th></th>\n",
       "      <th>superficie</th>\n",
       "      <th>lat</th>\n",
       "      <th>lon</th>\n",
       "    </tr>\n",
       "  </thead>\n",
       "  <tbody>\n",
       "    <tr>\n",
       "      <th>count</th>\n",
       "      <td>4.170000e+03</td>\n",
       "      <td>4170.000000</td>\n",
       "      <td>4170.000000</td>\n",
       "    </tr>\n",
       "    <tr>\n",
       "      <th>mean</th>\n",
       "      <td>1.144530e+03</td>\n",
       "      <td>-34.667977</td>\n",
       "      <td>-58.460659</td>\n",
       "    </tr>\n",
       "    <tr>\n",
       "      <th>std</th>\n",
       "      <td>5.027828e+04</td>\n",
       "      <td>0.347734</td>\n",
       "      <td>0.320623</td>\n",
       "    </tr>\n",
       "    <tr>\n",
       "      <th>min</th>\n",
       "      <td>1.000000e+00</td>\n",
       "      <td>-38.416097</td>\n",
       "      <td>-63.616672</td>\n",
       "    </tr>\n",
       "    <tr>\n",
       "      <th>25%</th>\n",
       "      <td>1.670000e+02</td>\n",
       "      <td>-34.756526</td>\n",
       "      <td>-58.632980</td>\n",
       "    </tr>\n",
       "    <tr>\n",
       "      <th>50%</th>\n",
       "      <td>2.245681e+02</td>\n",
       "      <td>-34.646625</td>\n",
       "      <td>-58.459830</td>\n",
       "    </tr>\n",
       "    <tr>\n",
       "      <th>75%</th>\n",
       "      <td>3.200000e+02</td>\n",
       "      <td>-34.598624</td>\n",
       "      <td>-58.381905</td>\n",
       "    </tr>\n",
       "    <tr>\n",
       "      <th>max</th>\n",
       "      <td>3.243242e+06</td>\n",
       "      <td>-29.424917</td>\n",
       "      <td>-57.558500</td>\n",
       "    </tr>\n",
       "  </tbody>\n",
       "</table>\n",
       "</div>"
      ],
      "text/plain": [
       "         superficie          lat          lon\n",
       "count  4.170000e+03  4170.000000  4170.000000\n",
       "mean   1.144530e+03   -34.667977   -58.460659\n",
       "std    5.027828e+04     0.347734     0.320623\n",
       "min    1.000000e+00   -38.416097   -63.616672\n",
       "25%    1.670000e+02   -34.756526   -58.632980\n",
       "50%    2.245681e+02   -34.646625   -58.459830\n",
       "75%    3.200000e+02   -34.598624   -58.381905\n",
       "max    3.243242e+06   -29.424917   -57.558500"
      ]
     },
     "execution_count": 29,
     "metadata": {},
     "output_type": "execute_result"
    }
   ],
   "source": [
    "p.loc[:,columnas].describe()"
   ]
  },
  {
   "cell_type": "code",
   "execution_count": 30,
   "metadata": {},
   "outputs": [
    {
     "data": {
      "text/plain": [
       "superficie    4170\n",
       "lat           4170\n",
       "lon           4170\n",
       "dtype: int64"
      ]
     },
     "execution_count": 30,
     "metadata": {},
     "output_type": "execute_result"
    }
   ],
   "source": [
    "p.loc[:,columnas].count()"
   ]
  },
  {
   "cell_type": "markdown",
   "metadata": {},
   "source": [
    "## Hay 4000 propiedades con datos \"malos\" en las pruebas a analizar\n",
    "\n",
    "## Quizas por eso tenemos muy malos resultados"
   ]
  },
  {
   "cell_type": "code",
   "execution_count": 31,
   "metadata": {
    "collapsed": true
   },
   "outputs": [],
   "source": [
    "sup = propiedades.loc[  (propiedades.superficie >= sup_max) | (propiedades.superficie <= sup_min),:]\n",
    "lat = propiedades.loc[  (propiedades.lat >= lat_max) | (propiedades.lat <= lat_min) ,:]\n",
    "lon = propiedades.loc[  (propiedades.lon >= lon_max) | (propiedades.lon <= lon_min),:]\n",
    "\n",
    "columnas = ['superficie','lat', 'lon']\n"
   ]
  },
  {
   "cell_type": "code",
   "execution_count": 32,
   "metadata": {
    "collapsed": true
   },
   "outputs": [],
   "source": [
    "s = sup.loc[:,'id'].count()\n",
    "l = lat.loc[:,'id'].count()\n",
    "lo = lon.loc[:,'id'].count()"
   ]
  },
  {
   "cell_type": "code",
   "execution_count": 33,
   "metadata": {},
   "outputs": [
    {
     "name": "stdout",
     "output_type": "stream",
     "text": [
      "Mal superficie   3677\n",
      "Mal Latitud   70\n",
      "Mal longitud   637\n"
     ]
    }
   ],
   "source": [
    "print(\"Mal superficie   {}\\nMal Latitud   {}\\nMal longitud   {}\".format(s,l,lo))"
   ]
  },
  {
   "cell_type": "markdown",
   "metadata": {},
   "source": [
    "### El principal problema es la superficie"
   ]
  },
  {
   "cell_type": "code",
   "execution_count": 37,
   "metadata": {},
   "outputs": [
    {
     "data": {
      "text/html": [
       "<div>\n",
       "<style>\n",
       "    .dataframe thead tr:only-child th {\n",
       "        text-align: right;\n",
       "    }\n",
       "\n",
       "    .dataframe thead th {\n",
       "        text-align: left;\n",
       "    }\n",
       "\n",
       "    .dataframe tbody tr th {\n",
       "        vertical-align: top;\n",
       "    }\n",
       "</style>\n",
       "<table border=\"1\" class=\"dataframe\">\n",
       "  <thead>\n",
       "    <tr style=\"text-align: right;\">\n",
       "      <th></th>\n",
       "      <th>property_type</th>\n",
       "      <th>superficie</th>\n",
       "      <th>surface_total_in_m2</th>\n",
       "      <th>surface_covered_in_m2</th>\n",
       "    </tr>\n",
       "  </thead>\n",
       "  <tbody>\n",
       "    <tr>\n",
       "      <th>13157</th>\n",
       "      <td>house</td>\n",
       "      <td>260.0</td>\n",
       "      <td>260.0</td>\n",
       "      <td>130.0</td>\n",
       "    </tr>\n",
       "    <tr>\n",
       "      <th>11590</th>\n",
       "      <td>apartment</td>\n",
       "      <td>289.0</td>\n",
       "      <td>289.0</td>\n",
       "      <td>270.0</td>\n",
       "    </tr>\n",
       "    <tr>\n",
       "      <th>2081</th>\n",
       "      <td>house</td>\n",
       "      <td>419.0</td>\n",
       "      <td>419.0</td>\n",
       "      <td>70.0</td>\n",
       "    </tr>\n",
       "    <tr>\n",
       "      <th>10286</th>\n",
       "      <td>house</td>\n",
       "      <td>340.0</td>\n",
       "      <td>340.0</td>\n",
       "      <td>195.0</td>\n",
       "    </tr>\n",
       "    <tr>\n",
       "      <th>4727</th>\n",
       "      <td>house</td>\n",
       "      <td>583.0</td>\n",
       "      <td>583.0</td>\n",
       "      <td>583.0</td>\n",
       "    </tr>\n",
       "    <tr>\n",
       "      <th>10951</th>\n",
       "      <td>PH</td>\n",
       "      <td>176.0</td>\n",
       "      <td>176.0</td>\n",
       "      <td>176.0</td>\n",
       "    </tr>\n",
       "    <tr>\n",
       "      <th>8590</th>\n",
       "      <td>apartment</td>\n",
       "      <td>295.0</td>\n",
       "      <td>295.0</td>\n",
       "      <td>280.0</td>\n",
       "    </tr>\n",
       "    <tr>\n",
       "      <th>825</th>\n",
       "      <td>house</td>\n",
       "      <td>160.0</td>\n",
       "      <td>NaN</td>\n",
       "      <td>160.0</td>\n",
       "    </tr>\n",
       "    <tr>\n",
       "      <th>963</th>\n",
       "      <td>house</td>\n",
       "      <td>300.0</td>\n",
       "      <td>NaN</td>\n",
       "      <td>300.0</td>\n",
       "    </tr>\n",
       "    <tr>\n",
       "      <th>7348</th>\n",
       "      <td>house</td>\n",
       "      <td>170.0</td>\n",
       "      <td>NaN</td>\n",
       "      <td>170.0</td>\n",
       "    </tr>\n",
       "  </tbody>\n",
       "</table>\n",
       "</div>"
      ],
      "text/plain": [
       "      property_type  superficie  surface_total_in_m2  surface_covered_in_m2\n",
       "13157         house       260.0                260.0                  130.0\n",
       "11590     apartment       289.0                289.0                  270.0\n",
       "2081          house       419.0                419.0                   70.0\n",
       "10286         house       340.0                340.0                  195.0\n",
       "4727          house       583.0                583.0                  583.0\n",
       "10951            PH       176.0                176.0                  176.0\n",
       "8590      apartment       295.0                295.0                  280.0\n",
       "825           house       160.0                  NaN                  160.0\n",
       "963           house       300.0                  NaN                  300.0\n",
       "7348          house       170.0                  NaN                  170.0"
      ]
     },
     "execution_count": 37,
     "metadata": {},
     "output_type": "execute_result"
    }
   ],
   "source": [
    "sup.loc[:,['property_type','superficie','surface_total_in_m2','surface_covered_in_m2']].sample(10)"
   ]
  },
  {
   "cell_type": "code",
   "execution_count": 52,
   "metadata": {
    "collapsed": true
   },
   "outputs": [],
   "source": [
    "def normalizar_sup(s):\n",
    "    if s < sup_min:\n",
    "        return sup_min\n",
    "    while (s > sup_max):\n",
    "        s = s / 2\n",
    "    return s\n",
    "\n",
    "def normalizar_lat(s):\n",
    "    if s > lat_min and s < lat_max:\n",
    "        return s\n",
    "    return propiedades.loc[:,'lat'].mean()\n",
    "\n",
    "def normalizar_lon(s):\n",
    "    if s > lon_min and s < lon_max:\n",
    "        return s\n",
    "    return propiedades.loc[:,'lon'].mean()"
   ]
  },
  {
   "cell_type": "code",
   "execution_count": 41,
   "metadata": {},
   "outputs": [
    {
     "name": "stderr",
     "output_type": "stream",
     "text": [
      "/home/mati/anaconda3/lib/python3.6/site-packages/pandas/core/indexing.py:517: SettingWithCopyWarning: \n",
      "A value is trying to be set on a copy of a slice from a DataFrame.\n",
      "Try using .loc[row_indexer,col_indexer] = value instead\n",
      "\n",
      "See the caveats in the documentation: http://pandas.pydata.org/pandas-docs/stable/indexing.html#indexing-view-versus-copy\n",
      "  self.obj[item] = s\n"
     ]
    }
   ],
   "source": [
    "sup.loc[:,'superficie'] = sup.loc[:,'superficie'].apply(lambda x: normalizar_sup(x))"
   ]
  },
  {
   "cell_type": "code",
   "execution_count": 42,
   "metadata": {},
   "outputs": [
    {
     "data": {
      "text/plain": [
       "count    3677.000000\n",
       "mean      105.439971\n",
       "std        27.163999\n",
       "min         9.000000\n",
       "25%        87.500000\n",
       "50%       102.500000\n",
       "75%       125.000000\n",
       "max       150.000000\n",
       "Name: superficie, dtype: float64"
      ]
     },
     "execution_count": 42,
     "metadata": {},
     "output_type": "execute_result"
    }
   ],
   "source": [
    "sup.loc[:,'superficie'].describe()"
   ]
  },
  {
   "cell_type": "code",
   "execution_count": 51,
   "metadata": {
    "collapsed": true
   },
   "outputs": [],
   "source": [
    "pruebas = pd.read_csv('properati_dataset_modificado.csv')"
   ]
  },
  {
   "cell_type": "code",
   "execution_count": 45,
   "metadata": {},
   "outputs": [
    {
     "data": {
      "text/plain": [
       "count    14166.000000\n",
       "mean        76.443202\n",
       "std         34.037244\n",
       "min          9.000000\n",
       "25%         47.000000\n",
       "50%         74.000000\n",
       "75%        100.000000\n",
       "max        150.000000\n",
       "Name: superficie, dtype: float64"
      ]
     },
     "execution_count": 45,
     "metadata": {},
     "output_type": "execute_result"
    }
   ],
   "source": [
    "pruebas.loc[:,'superficie'] = pruebas.loc[:,'superficie'].apply(lambda x: normalizar_sup(x))\n",
    "pruebas.loc[:,'superficie'].describe()"
   ]
  },
  {
   "cell_type": "code",
   "execution_count": 54,
   "metadata": {},
   "outputs": [
    {
     "data": {
      "text/html": [
       "<div>\n",
       "<style>\n",
       "    .dataframe thead tr:only-child th {\n",
       "        text-align: right;\n",
       "    }\n",
       "\n",
       "    .dataframe thead th {\n",
       "        text-align: left;\n",
       "    }\n",
       "\n",
       "    .dataframe tbody tr th {\n",
       "        vertical-align: top;\n",
       "    }\n",
       "</style>\n",
       "<table border=\"1\" class=\"dataframe\">\n",
       "  <thead>\n",
       "    <tr style=\"text-align: right;\">\n",
       "      <th></th>\n",
       "      <th>lat</th>\n",
       "      <th>lon</th>\n",
       "      <th>superficie</th>\n",
       "    </tr>\n",
       "  </thead>\n",
       "  <tbody>\n",
       "    <tr>\n",
       "      <th>count</th>\n",
       "      <td>14166.000000</td>\n",
       "      <td>14166.000000</td>\n",
       "      <td>14166.000000</td>\n",
       "    </tr>\n",
       "    <tr>\n",
       "      <th>mean</th>\n",
       "      <td>-34.633584</td>\n",
       "      <td>-58.480782</td>\n",
       "      <td>76.443202</td>\n",
       "    </tr>\n",
       "    <tr>\n",
       "      <th>std</th>\n",
       "      <td>0.090769</td>\n",
       "      <td>0.124550</td>\n",
       "      <td>34.037244</td>\n",
       "    </tr>\n",
       "    <tr>\n",
       "      <th>min</th>\n",
       "      <td>-34.991982</td>\n",
       "      <td>-58.975341</td>\n",
       "      <td>9.000000</td>\n",
       "    </tr>\n",
       "    <tr>\n",
       "      <th>25%</th>\n",
       "      <td>-34.651573</td>\n",
       "      <td>-58.510157</td>\n",
       "      <td>47.000000</td>\n",
       "    </tr>\n",
       "    <tr>\n",
       "      <th>50%</th>\n",
       "      <td>-34.612545</td>\n",
       "      <td>-58.452145</td>\n",
       "      <td>74.000000</td>\n",
       "    </tr>\n",
       "    <tr>\n",
       "      <th>75%</th>\n",
       "      <td>-34.587729</td>\n",
       "      <td>-58.412486</td>\n",
       "      <td>100.000000</td>\n",
       "    </tr>\n",
       "    <tr>\n",
       "      <th>max</th>\n",
       "      <td>-34.112857</td>\n",
       "      <td>-58.008589</td>\n",
       "      <td>150.000000</td>\n",
       "    </tr>\n",
       "  </tbody>\n",
       "</table>\n",
       "</div>"
      ],
      "text/plain": [
       "                lat           lon    superficie\n",
       "count  14166.000000  14166.000000  14166.000000\n",
       "mean     -34.633584    -58.480782     76.443202\n",
       "std        0.090769      0.124550     34.037244\n",
       "min      -34.991982    -58.975341      9.000000\n",
       "25%      -34.651573    -58.510157     47.000000\n",
       "50%      -34.612545    -58.452145     74.000000\n",
       "75%      -34.587729    -58.412486    100.000000\n",
       "max      -34.112857    -58.008589    150.000000"
      ]
     },
     "execution_count": 54,
     "metadata": {},
     "output_type": "execute_result"
    }
   ],
   "source": [
    "pruebas.loc[:,'lat'] = pruebas.loc[:,'lat'].apply(lambda x: normalizar_lat(x))\n",
    "pruebas.loc[:,'lon'] = pruebas.loc[:,'lon'].apply(lambda x: normalizar_lon(x))\n",
    "pruebas.loc[:,['lat','lon','superficie']].describe()"
   ]
  },
  {
   "cell_type": "code",
   "execution_count": 55,
   "metadata": {
    "collapsed": true
   },
   "outputs": [],
   "source": [
    "pruebas.to_csv('properati_dataset_modificado2.csv')"
   ]
  },
  {
   "cell_type": "code",
   "execution_count": 56,
   "metadata": {
    "collapsed": true
   },
   "outputs": [],
   "source": [
    "propiedades = pd.read_csv('../set_datos_propiedades.csv')\n",
    "\n",
    "sup_min = 10\n",
    "sup_max = 150\n",
    "lat_min = -35\n",
    "lat_max = -34\n",
    "lon_min = -59\n",
    "lon_max = -58\n",
    "precio_min = 5000\n",
    "precio_max = 1000000\n",
    "\n",
    "propiedades = propiedades.loc[(propiedades.price_aprox_usd.notnull()) & (propiedades.superficie.notnull())\\\n",
    "                              & (propiedades.lat.notnull()) & (propiedades.lon.notnull()) & (propiedades.Year >=2016)\\\n",
    "                        & (propiedades.price_aprox_usd <= precio_max) & (propiedades.price_aprox_usd >= precio_min) &\\\n",
    "                         (propiedades.superficie <= sup_max) & (propiedades.superficie >= sup_min) &\\\n",
    "                      (propiedades.lat <= lat_max) & (propiedades.lat >= lat_min) &\\\n",
    "                       (propiedades.lon <= lon_max) & (propiedades.lon >= lon_min),:]\n",
    "\n",
    "columnas = ['superficie','lat', 'lon','property_type_encoded','seguridad','gimnasio', 'aire', 'pileta', 'cochera']\n",
    "columnas_precio = columnas + ['price_aprox_usd']\n",
    "\n",
    "set_pruebas = analizar = pd.read_csv(\"properati_dataset_modificado2.csv\")\n",
    "set_pruebas.loc[:,'price_usd'] = 0.0"
   ]
  },
  {
   "cell_type": "code",
   "execution_count": 57,
   "metadata": {
    "collapsed": true
   },
   "outputs": [],
   "source": [
    "cant = 10\n",
    "\n",
    "for i in range(cant):\n",
    "    datos = propiedades.sample(frac = 0.7)\n",
    "    set_entrenamiento_datos = datos.loc[:,columnas]\n",
    "    set_entrenamiento_resultado = datos.loc[:,'price_aprox_usd']\n",
    "    \n",
    "    tree = DecisionTreeRegressor(criterion = 'friedman_mse', max_depth = 75, max_features = 0.8)\n",
    "    \n",
    "    tree.fit(set_entrenamiento_datos,set_entrenamiento_resultado)\n",
    "    set_pruebas.loc[:,'res'] = set_pruebas.loc[:,columnas].apply(lambda x: tree.predict(x)[0],axis = 1)\n",
    "    set_pruebas.loc[:,'price_usd'] = set_pruebas.loc[:,'price_usd'] + set_pruebas.loc[:,'res']"
   ]
  },
  {
   "cell_type": "code",
   "execution_count": 58,
   "metadata": {
    "collapsed": true
   },
   "outputs": [],
   "source": [
    "set_pruebas.loc[:,'price_usd'] = set_pruebas.loc[:,'price_usd'] / cant\n",
    "\n",
    "resultado = set_pruebas.loc[:,['id','price_usd']]\n",
    "\n",
    "resultado.to_csv('prueba_decisionTree_datos_modificados.csv', index = False)"
   ]
  },
  {
   "cell_type": "code",
   "execution_count": null,
   "metadata": {
    "collapsed": true
   },
   "outputs": [],
   "source": []
  },
  {
   "cell_type": "code",
   "execution_count": 60,
   "metadata": {},
   "outputs": [
    {
     "data": {
      "text/html": [
       "<div>\n",
       "<style>\n",
       "    .dataframe thead tr:only-child th {\n",
       "        text-align: right;\n",
       "    }\n",
       "\n",
       "    .dataframe thead th {\n",
       "        text-align: left;\n",
       "    }\n",
       "\n",
       "    .dataframe tbody tr th {\n",
       "        vertical-align: top;\n",
       "    }\n",
       "</style>\n",
       "<table border=\"1\" class=\"dataframe\">\n",
       "  <thead>\n",
       "    <tr style=\"text-align: right;\">\n",
       "      <th></th>\n",
       "      <th>id</th>\n",
       "      <th>price_usd</th>\n",
       "    </tr>\n",
       "  </thead>\n",
       "  <tbody>\n",
       "    <tr>\n",
       "      <th>count</th>\n",
       "      <td>1.416600e+04</td>\n",
       "      <td>14166.000000</td>\n",
       "    </tr>\n",
       "    <tr>\n",
       "      <th>mean</th>\n",
       "      <td>2.285382e+06</td>\n",
       "      <td>173559.264280</td>\n",
       "    </tr>\n",
       "    <tr>\n",
       "      <th>std</th>\n",
       "      <td>4.290968e+04</td>\n",
       "      <td>105794.360735</td>\n",
       "    </tr>\n",
       "    <tr>\n",
       "      <th>min</th>\n",
       "      <td>3.632000e+03</td>\n",
       "      <td>5005.030000</td>\n",
       "    </tr>\n",
       "    <tr>\n",
       "      <th>25%</th>\n",
       "      <td>2.271809e+06</td>\n",
       "      <td>105000.000000</td>\n",
       "    </tr>\n",
       "    <tr>\n",
       "      <th>50%</th>\n",
       "      <td>2.290284e+06</td>\n",
       "      <td>144000.000000</td>\n",
       "    </tr>\n",
       "    <tr>\n",
       "      <th>75%</th>\n",
       "      <td>2.309395e+06</td>\n",
       "      <td>210275.714286</td>\n",
       "    </tr>\n",
       "    <tr>\n",
       "      <th>max</th>\n",
       "      <td>2.332338e+06</td>\n",
       "      <td>912800.000000</td>\n",
       "    </tr>\n",
       "  </tbody>\n",
       "</table>\n",
       "</div>"
      ],
      "text/plain": [
       "                 id      price_usd\n",
       "count  1.416600e+04   14166.000000\n",
       "mean   2.285382e+06  173559.264280\n",
       "std    4.290968e+04  105794.360735\n",
       "min    3.632000e+03    5005.030000\n",
       "25%    2.271809e+06  105000.000000\n",
       "50%    2.290284e+06  144000.000000\n",
       "75%    2.309395e+06  210275.714286\n",
       "max    2.332338e+06  912800.000000"
      ]
     },
     "execution_count": 60,
     "metadata": {},
     "output_type": "execute_result"
    }
   ],
   "source": [
    "resultado.describe()"
   ]
  },
  {
   "cell_type": "code",
   "execution_count": null,
   "metadata": {
    "collapsed": true
   },
   "outputs": [],
   "source": []
  },
  {
   "cell_type": "markdown",
   "metadata": {
    "collapsed": true
   },
   "source": [
    "# --------------------------------------------------"
   ]
  },
  {
   "cell_type": "code",
   "execution_count": 5,
   "metadata": {},
   "outputs": [],
   "source": [
    "r = pd.read_csv('prueba_decisionTree_datos_modificados.csv')\n",
    "p = pd.read_csv('tp2/resultados/promedios_10_mejores_archivos.csv')"
   ]
  },
  {
   "cell_type": "code",
   "execution_count": 27,
   "metadata": {},
   "outputs": [
    {
     "data": {
      "text/html": [
       "<div>\n",
       "<style>\n",
       "    .dataframe thead tr:only-child th {\n",
       "        text-align: right;\n",
       "    }\n",
       "\n",
       "    .dataframe thead th {\n",
       "        text-align: left;\n",
       "    }\n",
       "\n",
       "    .dataframe tbody tr th {\n",
       "        vertical-align: top;\n",
       "    }\n",
       "</style>\n",
       "<table border=\"1\" class=\"dataframe\">\n",
       "  <thead>\n",
       "    <tr style=\"text-align: right;\">\n",
       "      <th></th>\n",
       "      <th>id</th>\n",
       "      <th>price_usd</th>\n",
       "      <th>price_usd_2</th>\n",
       "      <th>promedio</th>\n",
       "    </tr>\n",
       "  </thead>\n",
       "  <tbody>\n",
       "    <tr>\n",
       "      <th>count</th>\n",
       "      <td>1.416600e+04</td>\n",
       "      <td>14166.000000</td>\n",
       "      <td>1.416600e+04</td>\n",
       "      <td>14166.000000</td>\n",
       "    </tr>\n",
       "    <tr>\n",
       "      <th>mean</th>\n",
       "      <td>2.285382e+06</td>\n",
       "      <td>173559.264280</td>\n",
       "      <td>2.255481e+05</td>\n",
       "      <td>19955.369334</td>\n",
       "    </tr>\n",
       "    <tr>\n",
       "      <th>std</th>\n",
       "      <td>4.290968e+04</td>\n",
       "      <td>105794.360735</td>\n",
       "      <td>2.322223e+05</td>\n",
       "      <td>15400.532576</td>\n",
       "    </tr>\n",
       "    <tr>\n",
       "      <th>min</th>\n",
       "      <td>3.632000e+03</td>\n",
       "      <td>5005.030000</td>\n",
       "      <td>4.169945e+04</td>\n",
       "      <td>3406.106403</td>\n",
       "    </tr>\n",
       "    <tr>\n",
       "      <th>25%</th>\n",
       "      <td>2.271809e+06</td>\n",
       "      <td>105000.000000</td>\n",
       "      <td>1.098478e+05</td>\n",
       "      <td>10997.492730</td>\n",
       "    </tr>\n",
       "    <tr>\n",
       "      <th>50%</th>\n",
       "      <td>2.290284e+06</td>\n",
       "      <td>144000.000000</td>\n",
       "      <td>1.608363e+05</td>\n",
       "      <td>15786.014044</td>\n",
       "    </tr>\n",
       "    <tr>\n",
       "      <th>75%</th>\n",
       "      <td>2.309395e+06</td>\n",
       "      <td>210275.714286</td>\n",
       "      <td>2.645763e+05</td>\n",
       "      <td>23895.196741</td>\n",
       "    </tr>\n",
       "    <tr>\n",
       "      <th>max</th>\n",
       "      <td>2.332338e+06</td>\n",
       "      <td>912800.000000</td>\n",
       "      <td>1.423876e+07</td>\n",
       "      <td>728206.664184</td>\n",
       "    </tr>\n",
       "  </tbody>\n",
       "</table>\n",
       "</div>"
      ],
      "text/plain": [
       "                 id      price_usd   price_usd_2       promedio\n",
       "count  1.416600e+04   14166.000000  1.416600e+04   14166.000000\n",
       "mean   2.285382e+06  173559.264280  2.255481e+05   19955.369334\n",
       "std    4.290968e+04  105794.360735  2.322223e+05   15400.532576\n",
       "min    3.632000e+03    5005.030000  4.169945e+04    3406.106403\n",
       "25%    2.271809e+06  105000.000000  1.098478e+05   10997.492730\n",
       "50%    2.290284e+06  144000.000000  1.608363e+05   15786.014044\n",
       "75%    2.309395e+06  210275.714286  2.645763e+05   23895.196741\n",
       "max    2.332338e+06  912800.000000  1.423876e+07  728206.664184"
      ]
     },
     "execution_count": 27,
     "metadata": {},
     "output_type": "execute_result"
    }
   ],
   "source": [
    "r.loc[:,'price_usd_2'] = p.loc[:,'price_usd']\n",
    "r.loc[:,'promedio'] = ((r.loc[:,'price_usd'] + r.loc[:,'price_usd_2'] ) / 2) / 10\n",
    "r.describe()"
   ]
  },
  {
   "cell_type": "code",
   "execution_count": 28,
   "metadata": {},
   "outputs": [],
   "source": [
    "res = r.loc[:,['id','promedio']].rename(columns = {'promedio':'price_usd'})\n",
    "res.to_csv('prueba_precios_mas_bajos.csv')"
   ]
  },
  {
   "cell_type": "code",
   "execution_count": 26,
   "metadata": {},
   "outputs": [
    {
     "data": {
      "text/html": [
       "<div>\n",
       "<style>\n",
       "    .dataframe thead tr:only-child th {\n",
       "        text-align: right;\n",
       "    }\n",
       "\n",
       "    .dataframe thead th {\n",
       "        text-align: left;\n",
       "    }\n",
       "\n",
       "    .dataframe tbody tr th {\n",
       "        vertical-align: top;\n",
       "    }\n",
       "</style>\n",
       "<table border=\"1\" class=\"dataframe\">\n",
       "  <thead>\n",
       "    <tr style=\"text-align: right;\">\n",
       "      <th></th>\n",
       "      <th>id</th>\n",
       "      <th>price_usd</th>\n",
       "    </tr>\n",
       "  </thead>\n",
       "  <tbody>\n",
       "    <tr>\n",
       "      <th>count</th>\n",
       "      <td>1.416600e+04</td>\n",
       "      <td>1.416600e+04</td>\n",
       "    </tr>\n",
       "    <tr>\n",
       "      <th>mean</th>\n",
       "      <td>2.285382e+06</td>\n",
       "      <td>2.419157e+05</td>\n",
       "    </tr>\n",
       "    <tr>\n",
       "      <th>std</th>\n",
       "      <td>4.290968e+04</td>\n",
       "      <td>3.791904e+05</td>\n",
       "    </tr>\n",
       "    <tr>\n",
       "      <th>min</th>\n",
       "      <td>3.632000e+03</td>\n",
       "      <td>2.240000e+04</td>\n",
       "    </tr>\n",
       "    <tr>\n",
       "      <th>25%</th>\n",
       "      <td>2.271809e+06</td>\n",
       "      <td>1.062752e+05</td>\n",
       "    </tr>\n",
       "    <tr>\n",
       "      <th>50%</th>\n",
       "      <td>2.290284e+06</td>\n",
       "      <td>1.611697e+05</td>\n",
       "    </tr>\n",
       "    <tr>\n",
       "      <th>75%</th>\n",
       "      <td>2.309395e+06</td>\n",
       "      <td>2.693750e+05</td>\n",
       "    </tr>\n",
       "    <tr>\n",
       "      <th>max</th>\n",
       "      <td>2.332338e+06</td>\n",
       "      <td>3.187954e+07</td>\n",
       "    </tr>\n",
       "  </tbody>\n",
       "</table>\n",
       "</div>"
      ],
      "text/plain": [
       "                 id     price_usd\n",
       "count  1.416600e+04  1.416600e+04\n",
       "mean   2.285382e+06  2.419157e+05\n",
       "std    4.290968e+04  3.791904e+05\n",
       "min    3.632000e+03  2.240000e+04\n",
       "25%    2.271809e+06  1.062752e+05\n",
       "50%    2.290284e+06  1.611697e+05\n",
       "75%    2.309395e+06  2.693750e+05\n",
       "max    2.332338e+06  3.187954e+07"
      ]
     },
     "execution_count": 26,
     "metadata": {},
     "output_type": "execute_result"
    }
   ],
   "source": [
    "xg = pd.read_csv('tp2/resultados/Decision_tree_Cross_Validation.csv')\n",
    "xg.describe()"
   ]
  },
  {
   "cell_type": "code",
   "execution_count": 69,
   "metadata": {},
   "outputs": [],
   "source": [
    "#propiedades = pd.read_csv('../datos_con_fecha.csv')\n",
    "\n",
    "#propiedades = propiedades.loc[(propiedades.price_aprox_usd.notnull()) \\\n",
    "#                              & (propiedades.lat.notnull()) & (propiedades.lon.notnull()) & (propiedades.Year >=2017)]\n",
    "\n",
    "#propiedades.loc[:,'fecha'] = propiedades.loc[:,['Year', 'Month']].apply(lambda x: int(str(x[0]) + str(x[1])), axis = 1)\n",
    "\n",
    "columnas = ['lat', 'lon','property_type_encoded','seguridad','gimnasio', 'aire','pileta', 'cochera', 'fecha'\\\n",
    "           ,'transporte','comercio', 'servicios', 'doble piso', 'jardin']\n",
    "columnas_precio = columnas + ['price_aprox_usd']\n",
    "\n",
    "set_entrenamiento_datos = propiedades.loc[:,columnas]\n",
    "set_entrenamiento_resultado = propiedades.loc[:,'price_aprox_usd']"
   ]
  },
  {
   "cell_type": "code",
   "execution_count": 70,
   "metadata": {},
   "outputs": [
    {
     "name": "stdout",
     "output_type": "stream",
     "text": [
      "Precision: 82.72 \n",
      " Parametros = {'criterion': 'friedman_mse', 'max_depth': 75, 'max_features': 1.0}\n"
     ]
    }
   ],
   "source": [
    "# Parametros\n",
    "\n",
    "criterios = ['friedman_mse']\n",
    "max_depth = [75]\n",
    "features = [1.0]\n",
    "\n",
    "parametros = {\"criterion\" : criterios, \"max_depth\" : max_depth, \"max_features\" : features}\n",
    "\n",
    "iteraciones_cross_validation = 3\n",
    "arbol = DecisionTreeRegressor()\n",
    "\n",
    "grid = GridSearchCV( estimator = arbol, param_grid = parametros, n_jobs = 2, cv = iteraciones_cross_validation)\n",
    "\n",
    "grid.fit(set_entrenamiento_datos, set_entrenamiento_resultado)\n",
    "\n",
    "score = grid.best_score_ * 100\n",
    "mejores_parametros = grid.best_params_\n",
    "\n",
    "\n",
    "print(\"Precision: {:.2f} \\n Parametros = {}\".format(score,mejores_parametros))"
   ]
  },
  {
   "cell_type": "code",
   "execution_count": 74,
   "metadata": {
    "collapsed": true
   },
   "outputs": [],
   "source": [
    "analizar = pd.read_csv(\"properati_dataset_modificado2.csv\")\n",
    "\n",
    "analizar.loc[:,'Month'] = analizar.created_on.apply(lambda x: int(x.split('-')[1]))\n",
    "analizar.loc[:,'Year'] = analizar.created_on.apply(lambda x: int(x.split('-')[0]))\n",
    "analizar.loc[:,'fecha'] = analizar.loc[:,['Year', 'Month']].apply(lambda x: int(str(x[0]) + str(x[1])), axis = 1)\n",
    "\n",
    "analizar.loc[:,'price_usd'] = analizar.loc[:,columnas].apply(lambda x: grid.predict(x)[0],axis = 1)\n",
    "\n",
    "resultado = analizar.loc[:,['id','price_usd']]\n",
    "resultado.to_csv('prueba_decision_tree_sin_superficie.csv', index = False)"
   ]
  },
  {
   "cell_type": "code",
   "execution_count": 72,
   "metadata": {},
   "outputs": [
    {
     "name": "stdout",
     "output_type": "stream",
     "text": [
      "Precision: 95.98%  ,   Error = 5996699547,   dig = 10\n"
     ]
    }
   ],
   "source": [
    "X = propiedades.loc[:,columnas]\n",
    "y = propiedades.loc[:,'price_aprox_usd']\n",
    "X_train, X_test, y_train, y_test = train_test_split(X, y, test_size=0.2)\n",
    "\n",
    "precision = grid.score(X_test,y_test) * 100\n",
    "error = mean_squared_error(grid.predict(X_test),y_test)\n",
    "print(\"Precision: {:.2f}%  ,   Error = {:.0f},   dig = {}\".format(precision,error,len(str(int(round(error,0))))))"
   ]
  },
  {
   "cell_type": "code",
   "execution_count": 73,
   "metadata": {},
   "outputs": [
    {
     "data": {
      "text/html": [
       "<div>\n",
       "<style>\n",
       "    .dataframe thead tr:only-child th {\n",
       "        text-align: right;\n",
       "    }\n",
       "\n",
       "    .dataframe thead th {\n",
       "        text-align: left;\n",
       "    }\n",
       "\n",
       "    .dataframe tbody tr th {\n",
       "        vertical-align: top;\n",
       "    }\n",
       "</style>\n",
       "<table border=\"1\" class=\"dataframe\">\n",
       "  <thead>\n",
       "    <tr style=\"text-align: right;\">\n",
       "      <th></th>\n",
       "      <th>id</th>\n",
       "      <th>price_usd</th>\n",
       "    </tr>\n",
       "  </thead>\n",
       "  <tbody>\n",
       "    <tr>\n",
       "      <th>count</th>\n",
       "      <td>1.416600e+04</td>\n",
       "      <td>1.416600e+04</td>\n",
       "    </tr>\n",
       "    <tr>\n",
       "      <th>mean</th>\n",
       "      <td>2.285382e+06</td>\n",
       "      <td>2.646752e+05</td>\n",
       "    </tr>\n",
       "    <tr>\n",
       "      <th>std</th>\n",
       "      <td>4.290968e+04</td>\n",
       "      <td>5.554673e+05</td>\n",
       "    </tr>\n",
       "    <tr>\n",
       "      <th>min</th>\n",
       "      <td>3.632000e+03</td>\n",
       "      <td>5.118510e+03</td>\n",
       "    </tr>\n",
       "    <tr>\n",
       "      <th>25%</th>\n",
       "      <td>2.271809e+06</td>\n",
       "      <td>9.700000e+04</td>\n",
       "    </tr>\n",
       "    <tr>\n",
       "      <th>50%</th>\n",
       "      <td>2.290284e+06</td>\n",
       "      <td>1.550000e+05</td>\n",
       "    </tr>\n",
       "    <tr>\n",
       "      <th>75%</th>\n",
       "      <td>2.309395e+06</td>\n",
       "      <td>2.590000e+05</td>\n",
       "    </tr>\n",
       "    <tr>\n",
       "      <th>max</th>\n",
       "      <td>2.332338e+06</td>\n",
       "      <td>4.654544e+07</td>\n",
       "    </tr>\n",
       "  </tbody>\n",
       "</table>\n",
       "</div>"
      ],
      "text/plain": [
       "                 id     price_usd\n",
       "count  1.416600e+04  1.416600e+04\n",
       "mean   2.285382e+06  2.646752e+05\n",
       "std    4.290968e+04  5.554673e+05\n",
       "min    3.632000e+03  5.118510e+03\n",
       "25%    2.271809e+06  9.700000e+04\n",
       "50%    2.290284e+06  1.550000e+05\n",
       "75%    2.309395e+06  2.590000e+05\n",
       "max    2.332338e+06  4.654544e+07"
      ]
     },
     "execution_count": 73,
     "metadata": {},
     "output_type": "execute_result"
    }
   ],
   "source": [
    "resultado.describe()"
   ]
  }
 ],
 "metadata": {
  "kernelspec": {
   "display_name": "Python 3",
   "language": "python",
   "name": "python3"
  },
  "language_info": {
   "codemirror_mode": {
    "name": "ipython",
    "version": 3
   },
   "file_extension": ".py",
   "mimetype": "text/x-python",
   "name": "python",
   "nbconvert_exporter": "python",
   "pygments_lexer": "ipython3",
   "version": "3.6.1"
  }
 },
 "nbformat": 4,
 "nbformat_minor": 2
}
