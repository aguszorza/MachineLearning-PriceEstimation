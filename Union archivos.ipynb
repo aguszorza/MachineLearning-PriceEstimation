{
 "cells": [
  {
   "cell_type": "code",
   "execution_count": 1,
   "metadata": {
    "collapsed": true
   },
   "outputs": [],
   "source": [
    "import pandas as pd\n",
    "import numpy as np"
   ]
  },
  {
   "cell_type": "code",
   "execution_count": 2,
   "metadata": {
    "collapsed": true
   },
   "outputs": [],
   "source": [
    "lista_prop = [\"properati-AR-2013-08-01-properties-sell.csv\", \"properati-AR-2013-09-01-properties-sell.csv\",\\\n",
    "              \"properati-AR-2013-10-01-properties-sell.csv\", \"properati-AR-2013-11-01-properties-sell.csv\",\\\n",
    "              \"properati-AR-2013-12-01-properties-sell.csv\", \"properati-AR-2014-01-01-properties-sell.csv\",\\\n",
    "              \"properati-AR-2014-02-01-properties-sell.csv\", \"properati-AR-2014-03-01-properties-sell.csv\",\\\n",
    "              \"properati-AR-2014-04-01-properties-sell.csv\", \"properati-AR-2014-05-01-properties-sell.csv\",\\\n",
    "              \"properati-AR-2014-06-01-properties-sell.csv\", \"properati-AR-2014-07-01-properties-sell.csv\",\\\n",
    "              \"properati-AR-2014-08-01-properties-sell.csv\", \"properati-AR-2014-09-01-properties-sell.csv\",\\\n",
    "              \"properati-AR-2014-10-01-properties-sell.csv\", \"properati-AR-2014-11-01-properties-sell.csv\",\\\n",
    "              \"properati-AR-2014-12-01-properties-sell.csv\", \"properati-AR-2015-01-01-properties-sell.csv\",\\\n",
    "              \"properati-AR-2015-02-01-properties-sell.csv\", \"properati-AR-2015-03-01-properties-sell.csv\",\\\n",
    "              \"properati-AR-2015-04-01-properties-sell.csv\", \"properati-AR-2015-05-01-properties-sell.csv\",\\\n",
    "              \"properati-AR-2015-06-01-properties-sell.csv\", \"properati-AR-2015-07-01-properties-sell.csv\",\\\n",
    "              \"properati-AR-2015-08-01-properties-sell.csv\", \"properati-AR-2015-09-01-properties-sell.csv\",\\\n",
    "              \"properati-AR-2015-10-01-properties-sell.csv\", \"properati-AR-2015-11-01-properties-sell.csv\",\\\n",
    "              \"properati-AR-2015-12-01-properties-sell.csv\", \"properati-AR-2016-01-01-properties-sell.csv\",\\\n",
    "              \"properati-AR-2016-02-01-properties-sell.csv\", \"properati-AR-2016-03-01-properties-sell.csv\",\\\n",
    "              \"properati-AR-2016-04-01-properties-sell.csv\", \"properati-AR-2016-05-01-properties-sell.csv\",\\\n",
    "              \"properati-AR-2016-06-01-properties-sell.csv\", \"properati-AR-2016-07-01-properties-sell.csv\",\\\n",
    "              \"properati-AR-2016-08-01-properties-sell.csv\", \"properati-AR-2016-09-01-properties-sell.csv\",\\\n",
    "              \"properati-AR-2016-10-01-properties-sell.csv\", \"properati-AR-2016-11-01-properties-sell.csv\",\\\n",
    "              \"properati-AR-2016-12-01-properties-sell.csv\", \"properati-AR-2017-01-01-properties-sell.csv\",\\\n",
    "              \"properati-AR-2017-02-01-properties-sell.csv\", \"properati-AR-2017-03-01-properties-sell.csv\",\\\n",
    "              \"properati-AR-2017-04-01-properties-sell.csv\", \"properati-AR-2017-05-01-properties-sell.csv\",\\\n",
    "              \"properati-AR-2017-06-01-properties-sell.csv\", \"properati-AR-2017-06-06-properties-sell.csv\",\\\n",
    "              \"properati-AR-2017-07-03-properties-sell.csv\"]\n",
    "lista_fechas = [\"2013-07-01\", \"2013-08-01\", \"2013-09-01\", \"2013-10-01\", \"2013-11-01\", \"2013-12-01\",\\\n",
    "                \"2014-01-01\", \"2014-02-01\", \"2014-03-01\", \"2014-04-01\", \"2014-05-01\", \"2014-06-01\",\\\n",
    "                \"2014-07-01\", \"2014-08-01\", \"2014-09-01\", \"2014-10-01\", \"2014-11-01\", \"2014-12-01\",\\\n",
    "                \"2015-01-01\", \"2015-02-01\", \"2015-03-01\", \"2015-04-01\", \"2015-05-01\", \"2015-06-01\",\\\n",
    "                \"2015-07-01\", \"2015-08-01\", \"2015-09-01\", \"2015-10-01\", \"2015-11-01\", \"2015-12-01\",\\\n",
    "                \"2016-01-01\", \"2016-02-01\", \"2016-03-01\", \"2016-04-01\", \"2016-05-01\", \"2016-06-01\",\\\n",
    "                \"2016-07-01\", \"2016-08-01\", \"2016-09-01\", \"2016-10-01\", \"2016-11-01\", \"2016-12-01\",\\\n",
    "                \"2017-01-01\", \"2017-02-01\", \"2017-03-01\", \"2017-04-01\", \"2017-05-01\", \"2017-05-06\",\\\n",
    "                \"2017-06-03\"]"
   ]
  },
  {
   "cell_type": "code",
   "execution_count": 3,
   "metadata": {
    "collapsed": true
   },
   "outputs": [],
   "source": [
    "def fecha(i):\n",
    "    return lista_fechas[i]"
   ]
  },
  {
   "cell_type": "code",
   "execution_count": 4,
   "metadata": {
    "collapsed": true
   },
   "outputs": [],
   "source": [
    "def obtener_estado(cadena):\n",
    "    return cadena.split('|')[2]"
   ]
  },
  {
   "cell_type": "code",
   "execution_count": 28,
   "metadata": {},
   "outputs": [
    {
     "name": "stdout",
     "output_type": "stream",
     "text": [
      "41\n",
      "42\n",
      "43\n",
      "44\n",
      "45\n",
      "46\n",
      "47\n",
      "48\n"
     ]
    }
   ],
   "source": [
    "propiedades = None\n",
    "for x in range(41,len(lista_prop)):\n",
    "    auxiliar = pd.read_csv(lista_prop[x])\n",
    "    auxiliar.loc[:,'state_name'] = auxiliar.loc[:,'place_with_parent_names'].apply(obtener_estado)\n",
    "    auxiliar = auxiliar.loc[auxiliar.state_name.str.contains('Bs.As. G.B.A.|Capital Federal'),:]\n",
    "    auxiliar.loc[:,'fecha_de_publicacion'] = fecha(x)\n",
    "    propiedades = pd.concat([propiedades, auxiliar], ignore_index=True)\n",
    "    print(x)\n",
    "    \n",
    "#tiro error diciendo que no tiene el indice 'surface_in_m2'\n",
    "#se queja de estar reemplazando un dataframe por otro\n",
    "#creo que al hacer el concat tengo que guardar el resultado (osea no es inplace)  "
   ]
  },
  {
   "cell_type": "code",
   "execution_count": 29,
   "metadata": {},
   "outputs": [
    {
     "name": "stdout",
     "output_type": "stream",
     "text": [
      "<class 'pandas.core.frame.DataFrame'>\n",
      "RangeIndex: 508345 entries, 0 to 508344\n",
      "Data columns (total 28 columns):\n",
      "id                            508345 non-null object\n",
      "created_on                    508345 non-null object\n",
      "operation                     508345 non-null object\n",
      "property_type                 508345 non-null object\n",
      "place_name                    508271 non-null object\n",
      "place_with_parent_names       508345 non-null object\n",
      "country_name                  508345 non-null object\n",
      "state_name                    508345 non-null object\n",
      "geonames_id                   400170 non-null float64\n",
      "lat-lon                       400179 non-null object\n",
      "lat                           400179 non-null float64\n",
      "lon                           400179 non-null float64\n",
      "price                         443132 non-null float64\n",
      "currency                      441306 non-null object\n",
      "price_aprox_local_currency    443132 non-null float64\n",
      "price_aprox_usd               443132 non-null float64\n",
      "surface_total_in_m2           389235 non-null float64\n",
      "surface_covered_in_m2         458584 non-null float64\n",
      "price_usd_per_m2              321455 non-null float64\n",
      "price_per_m2                  400331 non-null float64\n",
      "floor                         59871 non-null float64\n",
      "rooms                         311843 non-null float64\n",
      "expenses                      54196 non-null float64\n",
      "properati_url                 508345 non-null object\n",
      "description                   508317 non-null object\n",
      "title                         508345 non-null object\n",
      "image_thumbnail               500679 non-null object\n",
      "fecha_de_publicacion          508345 non-null object\n",
      "dtypes: float64(13), object(15)\n",
      "memory usage: 108.6+ MB\n"
     ]
    }
   ],
   "source": [
    "propiedades.info()"
   ]
  },
  {
   "cell_type": "code",
   "execution_count": 30,
   "metadata": {},
   "outputs": [
    {
     "name": "stdout",
     "output_type": "stream",
     "text": [
      "<class 'pandas.core.frame.DataFrame'>\n",
      "RangeIndex: 508345 entries, 0 to 508344\n",
      "Data columns (total 20 columns):\n",
      "created_on                    508345 non-null object\n",
      "property_type                 508345 non-null object\n",
      "place_name                    508271 non-null object\n",
      "place_with_parent_names       508345 non-null object\n",
      "country_name                  508345 non-null object\n",
      "state_name                    508345 non-null object\n",
      "lat                           400179 non-null float64\n",
      "lon                           400179 non-null float64\n",
      "price                         443132 non-null float64\n",
      "currency                      441306 non-null object\n",
      "price_aprox_local_currency    443132 non-null float64\n",
      "price_aprox_usd               443132 non-null float64\n",
      "surface_total_in_m2           389235 non-null float64\n",
      "surface_covered_in_m2         458584 non-null float64\n",
      "price_usd_per_m2              321455 non-null float64\n",
      "price_per_m2                  400331 non-null float64\n",
      "floor                         59871 non-null float64\n",
      "rooms                         311843 non-null float64\n",
      "expenses                      54196 non-null float64\n",
      "fecha_de_publicacion          508345 non-null object\n",
      "dtypes: float64(12), object(8)\n",
      "memory usage: 77.6+ MB\n"
     ]
    }
   ],
   "source": [
    "propiedades.drop(['id','operation', 'geonames_id','lat-lon', 'properati_url', 'image_thumbnail', 'description', 'title'], axis = 1, inplace = True)\n",
    "propiedades.info()"
   ]
  },
  {
   "cell_type": "code",
   "execution_count": 31,
   "metadata": {},
   "outputs": [],
   "source": [
    "propiedades.to_csv('archivo5.csv')"
   ]
  },
  {
   "cell_type": "code",
   "execution_count": 22,
   "metadata": {},
   "outputs": [
    {
     "data": {
      "text/plain": [
       "49"
      ]
     },
     "execution_count": 22,
     "metadata": {},
     "output_type": "execute_result"
    }
   ],
   "source": [
    "len(lista_prop)"
   ]
  },
  {
   "cell_type": "code",
   "execution_count": 32,
   "metadata": {},
   "outputs": [
    {
     "name": "stderr",
     "output_type": "stream",
     "text": [
      "/usr/local/lib/python3.5/dist-packages/IPython/core/interactiveshell.py:2698: DtypeWarning: Columns (15) have mixed types. Specify dtype option on import or set low_memory=False.\n",
      "  interactivity=interactivity, compiler=compiler, result=result)\n"
     ]
    },
    {
     "name": "stdout",
     "output_type": "stream",
     "text": [
      "1\n",
      "2\n"
     ]
    },
    {
     "name": "stderr",
     "output_type": "stream",
     "text": [
      "/usr/local/lib/python3.5/dist-packages/IPython/core/interactiveshell.py:2698: DtypeWarning: Columns (1,4) have mixed types. Specify dtype option on import or set low_memory=False.\n",
      "  interactivity=interactivity, compiler=compiler, result=result)\n"
     ]
    },
    {
     "name": "stdout",
     "output_type": "stream",
     "text": [
      "3\n",
      "4\n",
      "5\n"
     ]
    }
   ],
   "source": [
    "prop = None\n",
    "for i in range (1,6):\n",
    "    aux = pd.read_csv(\"archivo\" + str(i) + \".csv\")\n",
    "    prop = pd.concat([prop, aux], ignore_index=True)\n",
    "    print (i)"
   ]
  },
  {
   "cell_type": "code",
   "execution_count": 36,
   "metadata": {
    "collapsed": true
   },
   "outputs": [],
   "source": [
    "prop.drop(['Unnamed: 0'], axis = 1, inplace = True)"
   ]
  },
  {
   "cell_type": "code",
   "execution_count": 37,
   "metadata": {},
   "outputs": [
    {
     "name": "stdout",
     "output_type": "stream",
     "text": [
      "<class 'pandas.core.frame.DataFrame'>\n",
      "RangeIndex: 2455309 entries, 0 to 2455308\n",
      "Data columns (total 21 columns):\n",
      "country_name                  object\n",
      "created_on                    object\n",
      "currency                      object\n",
      "expenses                      object\n",
      "fecha_de_publicacion          object\n",
      "floor                         float64\n",
      "lat                           float64\n",
      "lon                           float64\n",
      "place_name                    object\n",
      "place_with_parent_names       object\n",
      "price                         float64\n",
      "price_aprox_local_currency    float64\n",
      "price_aprox_usd               float64\n",
      "price_per_m2                  float64\n",
      "price_usd_per_m2              float64\n",
      "property_type                 object\n",
      "rooms                         float64\n",
      "state_name                    object\n",
      "surface_covered_in_m2         float64\n",
      "surface_in_m2                 float64\n",
      "surface_total_in_m2           float64\n",
      "dtypes: float64(12), object(9)\n",
      "memory usage: 393.4+ MB\n"
     ]
    }
   ],
   "source": [
    "prop.info()"
   ]
  },
  {
   "cell_type": "code",
   "execution_count": 38,
   "metadata": {
    "collapsed": true
   },
   "outputs": [],
   "source": [
    "prop.to_csv('properati.csv')"
   ]
  },
  {
   "cell_type": "code",
   "execution_count": 35,
   "metadata": {},
   "outputs": [
    {
     "name": "stdout",
     "output_type": "stream",
     "text": [
      "<class 'pandas.core.frame.DataFrame'>\n",
      "RangeIndex: 2455309 entries, 0 to 2455308\n",
      "Data columns (total 22 columns):\n",
      "Unnamed: 0                    int64\n",
      "country_name                  object\n",
      "created_on                    object\n",
      "currency                      object\n",
      "expenses                      object\n",
      "fecha_de_publicacion          object\n",
      "floor                         float64\n",
      "lat                           float64\n",
      "lon                           float64\n",
      "place_name                    object\n",
      "place_with_parent_names       object\n",
      "price                         float64\n",
      "price_aprox_local_currency    float64\n",
      "price_aprox_usd               float64\n",
      "price_per_m2                  float64\n",
      "price_usd_per_m2              float64\n",
      "property_type                 object\n",
      "rooms                         float64\n",
      "state_name                    object\n",
      "surface_covered_in_m2         float64\n",
      "surface_in_m2                 float64\n",
      "surface_total_in_m2           float64\n",
      "dtypes: float64(12), int64(1), object(9)\n",
      "memory usage: 412.1+ MB\n"
     ]
    }
   ],
   "source": [
    "prop.info()"
   ]
  }
 ],
 "metadata": {
  "kernelspec": {
   "display_name": "Python 3",
   "language": "python",
   "name": "python3"
  },
  "language_info": {
   "codemirror_mode": {
    "name": "ipython",
    "version": 3
   },
   "file_extension": ".py",
   "mimetype": "text/x-python",
   "name": "python",
   "nbconvert_exporter": "python",
   "pygments_lexer": "ipython3",
   "version": "3.5.2"
  }
 },
 "nbformat": 4,
 "nbformat_minor": 2
}
