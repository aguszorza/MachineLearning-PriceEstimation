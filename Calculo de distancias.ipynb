{
 "cells": [
  {
   "cell_type": "code",
   "execution_count": 1,
   "metadata": {
    "collapsed": true
   },
   "outputs": [],
   "source": [
    "import pandas as pd\n",
    "import numpy as np\n",
    "import matplotlib.pyplot as plt\n",
    "from math import radians, sin, cos, asin, sqrt, pi, atan, atan2, fabs"
   ]
  },
  {
   "cell_type": "code",
   "execution_count": 2,
   "metadata": {
    "collapsed": true
   },
   "outputs": [],
   "source": [
    "def calcular_distancia(lat1,long1,lat2,long2):\n",
    "    lon1, lat1 = (radians(coord) for coord in (long1,lat1))\n",
    "    lon2, lat2 = (radians(coord) for coord in (long2,lat2))\n",
    "    dlat = (lat2 - lat1)\n",
    "    dlon = (lon2 - lon1)\n",
    "    a = (\n",
    "        sin(dlat * 0.5)**2 +\n",
    "        cos(lat1) * cos(lat2) * sin(dlon * 0.5)**2\n",
    "    )\n",
    "    \n",
    "    radioTierra = 6371008.8\n",
    "    return 2 * radioTierra * asin(sqrt(a)) / 1000\n",
    "\n",
    "#distancia de Haversine\n",
    "#https://gist.github.com/habibutsu/8bbcc202a915e965c6a6d4f561d0e482"
   ]
  },
  {
   "cell_type": "code",
   "execution_count": 5,
   "metadata": {
    "collapsed": true
   },
   "outputs": [],
   "source": [
    "def distancia_minima(fila, dataframe):\n",
    "    lat, lon = fila\n",
    "    distancias = []\n",
    "    for i in range (len(dataframe)):\n",
    "        d = calcular_distancia(lat,lon,dataframe.lat[i], dataframe.lon[i])\n",
    "        distancias.append(d)\n",
    "    return min(distancias)"
   ]
  },
  {
   "cell_type": "code",
   "execution_count": 6,
   "metadata": {
    "collapsed": true
   },
   "outputs": [],
   "source": [
    "def cantidad_a_distancia(fila, dist, dataframe):\n",
    "    lat, lon = fila\n",
    "    cantidad = 0\n",
    "    for i in range (len(dataframe)):\n",
    "        d = calcular_distancia(lat,lon,dataframe.lat[i], dataframe.lon[i])\n",
    "        if d <= dist:\n",
    "            cantidad += 1\n",
    "    return cantidad"
   ]
  },
  {
   "cell_type": "markdown",
   "metadata": {},
   "source": [
    "## Propiedades solo de Capital"
   ]
  },
  {
   "cell_type": "code",
   "execution_count": null,
   "metadata": {
    "collapsed": true
   },
   "outputs": [],
   "source": [
    "propiedades = pd.read_csv('properati.csv')\n",
    "#propiedades = pd.read_csv('/home/agustin/Escritorio/escritorio/fiuba/Organizacion de datos/properati.csv')"
   ]
  },
  {
   "cell_type": "code",
   "execution_count": null,
   "metadata": {
    "collapsed": true
   },
   "outputs": [],
   "source": [
    "solo_capital = propiedades.loc[(propiedades.state_name == 'Capital Federal') & (propiedades.lat.notnull()) & (propiedades.lon.notnull()),:]\n",
    "solo_capital = solo_capital.loc[((solo_capital.lat <= -34) & (solo_capital.lat >= -35)),:]\n",
    "solo_capital = solo_capital.loc[((solo_capital.lon <= -58) & (solo_capital.lon >= -59)),:]"
   ]
  },
  {
   "cell_type": "markdown",
   "metadata": {},
   "source": [
    "## Subtes"
   ]
  },
  {
   "cell_type": "code",
   "execution_count": null,
   "metadata": {
    "collapsed": true
   },
   "outputs": [],
   "source": [
    "subtes = pd.read_csv('datos/estaciones-de-subte.csv', sep = \",\")"
   ]
  },
  {
   "cell_type": "code",
   "execution_count": null,
   "metadata": {
    "collapsed": true
   },
   "outputs": [],
   "source": [
    "subtes.rename(columns = {'X': 'lon', 'Y': 'lat'}, inplace = True)"
   ]
  },
  {
   "cell_type": "code",
   "execution_count": null,
   "metadata": {
    "collapsed": true
   },
   "outputs": [],
   "source": [
    "solo_capital.loc[:,'distancia_subtes'] = solo_capital.loc[:,['lat','lon']].apply(lambda x: distancia_minima(x, subtes), axis = 1)"
   ]
  },
  {
   "cell_type": "markdown",
   "metadata": {},
   "source": [
    "## Monumentos"
   ]
  },
  {
   "cell_type": "code",
   "execution_count": 7,
   "metadata": {
    "collapsed": true
   },
   "outputs": [],
   "source": [
    "monumentos = pd.read_csv('datos/monumentos.csv', sep = \",\")"
   ]
  },
  {
   "cell_type": "code",
   "execution_count": 9,
   "metadata": {},
   "outputs": [],
   "source": [
    "solo_capital.loc[:,'distancia_monumentos'] = solo_capital.loc[:,['lat','lon']].apply(lambda x: distancia_minima(x, monumentos), axis = 1)"
   ]
  },
  {
   "cell_type": "markdown",
   "metadata": {},
   "source": [
    "## Ferrocarriles"
   ]
  },
  {
   "cell_type": "code",
   "execution_count": 13,
   "metadata": {},
   "outputs": [],
   "source": [
    "ferrocarriles = pd.read_csv('datos/estaciones-de-ferrocarril.csv', sep = \";\")"
   ]
  },
  {
   "cell_type": "code",
   "execution_count": 14,
   "metadata": {},
   "outputs": [],
   "source": [
    "ferrocarriles.rename(columns = {'LAT': 'lat', 'LNG': 'lon' }, inplace = True)"
   ]
  },
  {
   "cell_type": "code",
   "execution_count": null,
   "metadata": {
    "collapsed": true
   },
   "outputs": [],
   "source": [
    "solo_capital.loc[:,'distancia_ferrocarril'] = solo_capital.loc[:,['lat','lon']].apply(lambda x: distancia_minima(x, ferrocarriles), axis = 1)"
   ]
  },
  {
   "cell_type": "markdown",
   "metadata": {},
   "source": [
    "## Estadios"
   ]
  },
  {
   "cell_type": "code",
   "execution_count": 21,
   "metadata": {},
   "outputs": [],
   "source": [
    "estadios = pd.read_csv('datos/estadios.csv', sep = \";\")"
   ]
  },
  {
   "cell_type": "code",
   "execution_count": 20,
   "metadata": {},
   "outputs": [],
   "source": [
    "estadios.rename(columns = {'LAT': 'lat', 'LONG': 'lon' }, inplace = True)"
   ]
  },
  {
   "cell_type": "code",
   "execution_count": 35,
   "metadata": {},
   "outputs": [
    {
     "ename": "NameError",
     "evalue": "name 'solo_capital' is not defined",
     "output_type": "error",
     "traceback": [
      "\u001b[0;31m---------------------------------------------------------------------------\u001b[0m",
      "\u001b[0;31mNameError\u001b[0m                                 Traceback (most recent call last)",
      "\u001b[0;32m<ipython-input-35-c46a05610540>\u001b[0m in \u001b[0;36m<module>\u001b[0;34m()\u001b[0m\n\u001b[0;32m----> 1\u001b[0;31m \u001b[0msolo_capital\u001b[0m\u001b[0;34m.\u001b[0m\u001b[0mloc\u001b[0m\u001b[0;34m[\u001b[0m\u001b[0;34m:\u001b[0m\u001b[0;34m,\u001b[0m\u001b[0;34m'distancia_estadios'\u001b[0m\u001b[0;34m]\u001b[0m \u001b[0;34m=\u001b[0m \u001b[0msolo_capital\u001b[0m\u001b[0;34m.\u001b[0m\u001b[0mloc\u001b[0m\u001b[0;34m[\u001b[0m\u001b[0;34m:\u001b[0m\u001b[0;34m,\u001b[0m\u001b[0;34m[\u001b[0m\u001b[0;34m'lat'\u001b[0m\u001b[0;34m,\u001b[0m\u001b[0;34m'lon'\u001b[0m\u001b[0;34m]\u001b[0m\u001b[0;34m]\u001b[0m\u001b[0;34m.\u001b[0m\u001b[0mapply\u001b[0m\u001b[0;34m(\u001b[0m\u001b[0;32mlambda\u001b[0m \u001b[0mx\u001b[0m\u001b[0;34m:\u001b[0m \u001b[0mdistancia_minima\u001b[0m\u001b[0;34m(\u001b[0m\u001b[0mx\u001b[0m\u001b[0;34m,\u001b[0m \u001b[0mestadios\u001b[0m\u001b[0;34m)\u001b[0m\u001b[0;34m,\u001b[0m \u001b[0maxis\u001b[0m \u001b[0;34m=\u001b[0m \u001b[0;36m1\u001b[0m\u001b[0;34m)\u001b[0m\u001b[0;34m\u001b[0m\u001b[0m\n\u001b[0m",
      "\u001b[0;31mNameError\u001b[0m: name 'solo_capital' is not defined"
     ]
    }
   ],
   "source": [
    "solo_capital.loc[:,'distancia_estadios'] = solo_capital.loc[:,['lat','lon']].apply(lambda x: distancia_minima(x, estadios), axis = 1)"
   ]
  },
  {
   "cell_type": "markdown",
   "metadata": {},
   "source": [
    "## Colectivos"
   ]
  },
  {
   "cell_type": "code",
   "execution_count": 22,
   "metadata": {},
   "outputs": [
    {
     "data": {
      "text/html": [
       "<div>\n",
       "<style>\n",
       "    .dataframe thead tr:only-child th {\n",
       "        text-align: right;\n",
       "    }\n",
       "\n",
       "    .dataframe thead th {\n",
       "        text-align: left;\n",
       "    }\n",
       "\n",
       "    .dataframe tbody tr th {\n",
       "        vertical-align: top;\n",
       "    }\n",
       "</style>\n",
       "<table border=\"1\" class=\"dataframe\">\n",
       "  <thead>\n",
       "    <tr style=\"text-align: right;\">\n",
       "      <th></th>\n",
       "      <th>X</th>\n",
       "      <th>Y</th>\n",
       "      <th>STOP_ID</th>\n",
       "      <th>TIPO</th>\n",
       "      <th>CALLE</th>\n",
       "      <th>NUMERO</th>\n",
       "      <th>ENTRE1</th>\n",
       "      <th>ENTRE2</th>\n",
       "      <th>LINEAS</th>\n",
       "      <th>DIR_NORM</th>\n",
       "      <th>CALLE_NORM</th>\n",
       "      <th>ALTURA_NOR</th>\n",
       "      <th>COORDX</th>\n",
       "      <th>COORDY</th>\n",
       "      <th>METROBUS</th>\n",
       "      <th>STOP_NAME</th>\n",
       "      <th>STOP_DESC</th>\n",
       "      <th>FUENTE</th>\n",
       "      <th>VERIFICADA</th>\n",
       "      <th>FECHA_ULTI</th>\n",
       "    </tr>\n",
       "  </thead>\n",
       "  <tbody>\n",
       "    <tr>\n",
       "      <th>0</th>\n",
       "      <td>-58,4327908137487</td>\n",
       "      <td>-34,5923809470</td>\n",
       "      <td>1000086</td>\n",
       "      <td>PARADAS CON REFUGIO</td>\n",
       "      <td>CORDOBA AV.</td>\n",
       "      <td>4859</td>\n",
       "      <td>ARMENIA</td>\n",
       "      <td>GURRUCHAGA</td>\n",
       "      <td>{151,168}</td>\n",
       "      <td>CORDOBA AV. 4859</td>\n",
       "      <td>CORDOBA AV.</td>\n",
       "      <td>4859.0</td>\n",
       "      <td>102.798.829.931.999.000.000</td>\n",
       "      <td>104.091.825.983.000.000.000</td>\n",
       "      <td>F</td>\n",
       "      <td>NaN</td>\n",
       "      <td>NaN</td>\n",
       "      <td>RELEVAMIENTO2015</td>\n",
       "      <td>T</td>\n",
       "      <td>9/4/2015</td>\n",
       "    </tr>\n",
       "    <tr>\n",
       "      <th>1</th>\n",
       "      <td>-58,5140298647844</td>\n",
       "      <td>-34,6016371880</td>\n",
       "      <td>1005465</td>\n",
       "      <td>PARADA NO OFICIAL</td>\n",
       "      <td>NUEVA YORK</td>\n",
       "      <td>4224</td>\n",
       "      <td>NaN</td>\n",
       "      <td>GUALEGUAYCHU</td>\n",
       "      <td>{105}</td>\n",
       "      <td>NUEVA YORK 4224</td>\n",
       "      <td>NUEVA YORK</td>\n",
       "      <td>4224.0</td>\n",
       "      <td>95.346.600.539.799.900.000</td>\n",
       "      <td>103.064.210.534.000.000.000</td>\n",
       "      <td>F</td>\n",
       "      <td>NaN</td>\n",
       "      <td>NaN</td>\n",
       "      <td>RELEVAMIENTO2015</td>\n",
       "      <td>T</td>\n",
       "      <td>17/4/2015</td>\n",
       "    </tr>\n",
       "    <tr>\n",
       "      <th>2</th>\n",
       "      <td>-58,4497660921390</td>\n",
       "      <td>-34,5544664433</td>\n",
       "      <td>1002096</td>\n",
       "      <td>PARADAS CON REFUGIO</td>\n",
       "      <td>DEL LIBERTADOR AV.</td>\n",
       "      <td>6250</td>\n",
       "      <td>BLANCO ENCALADA</td>\n",
       "      <td>OLAZABAL</td>\n",
       "      <td>{15,29}</td>\n",
       "      <td>DEL LIBERTADOR AV. 6250</td>\n",
       "      <td>DEL LIBERTADOR AV.</td>\n",
       "      <td>6250.0</td>\n",
       "      <td>101.242.081.519.000.000.000</td>\n",
       "      <td>108.298.117.206.000.000.000</td>\n",
       "      <td>F</td>\n",
       "      <td>NaN</td>\n",
       "      <td>NaN</td>\n",
       "      <td>RELEVAMIENTO2015</td>\n",
       "      <td>T</td>\n",
       "      <td>10/4/2015</td>\n",
       "    </tr>\n",
       "    <tr>\n",
       "      <th>3</th>\n",
       "      <td>-58,4941044948861</td>\n",
       "      <td>-34,5623407465</td>\n",
       "      <td>1006607</td>\n",
       "      <td>PARADAS CON REFUGIO</td>\n",
       "      <td>LARRALDE, CRISOLOGO AV.</td>\n",
       "      <td>5187</td>\n",
       "      <td>NaN</td>\n",
       "      <td>NaN</td>\n",
       "      <td>{110,71}</td>\n",
       "      <td>LARRALDE, CRISOLOGO AV. 5187</td>\n",
       "      <td>LARRALDE, CRISOLOGO AV.</td>\n",
       "      <td>5187.0</td>\n",
       "      <td>97.172.965.995.399.900.000</td>\n",
       "      <td>107.424.229.065.000.000.000</td>\n",
       "      <td>F</td>\n",
       "      <td>NaN</td>\n",
       "      <td>NaN</td>\n",
       "      <td>RELEVAMIENTO2015</td>\n",
       "      <td>T</td>\n",
       "      <td>14/4/2015</td>\n",
       "    </tr>\n",
       "    <tr>\n",
       "      <th>4</th>\n",
       "      <td>-58,4844741311517</td>\n",
       "      <td>-34,5757583663</td>\n",
       "      <td>1004767</td>\n",
       "      <td>PARADAS DE POSTE</td>\n",
       "      <td>OLAZABAL AV.</td>\n",
       "      <td>4920</td>\n",
       "      <td>NaN</td>\n",
       "      <td>TRIUNVIRATO AV.</td>\n",
       "      <td>{90}</td>\n",
       "      <td>OLAZABAL AV. 4920</td>\n",
       "      <td>OLAZABAL AV.</td>\n",
       "      <td>4920.0</td>\n",
       "      <td>98.057.080.321.899.900.000</td>\n",
       "      <td>105.936.009.144.000.000.000</td>\n",
       "      <td>F</td>\n",
       "      <td>NaN</td>\n",
       "      <td>NaN</td>\n",
       "      <td>RELEVAMIENTO2015</td>\n",
       "      <td>T</td>\n",
       "      <td>14/4/2015</td>\n",
       "    </tr>\n",
       "  </tbody>\n",
       "</table>\n",
       "</div>"
      ],
      "text/plain": [
       "                   X               Y  STOP_ID                 TIPO  \\\n",
       "0  -58,4327908137487  -34,5923809470  1000086  PARADAS CON REFUGIO   \n",
       "1  -58,5140298647844  -34,6016371880  1005465    PARADA NO OFICIAL   \n",
       "2  -58,4497660921390  -34,5544664433  1002096  PARADAS CON REFUGIO   \n",
       "3  -58,4941044948861  -34,5623407465  1006607  PARADAS CON REFUGIO   \n",
       "4  -58,4844741311517  -34,5757583663  1004767     PARADAS DE POSTE   \n",
       "\n",
       "                     CALLE NUMERO           ENTRE1           ENTRE2  \\\n",
       "0              CORDOBA AV.   4859          ARMENIA       GURRUCHAGA   \n",
       "1               NUEVA YORK   4224              NaN     GUALEGUAYCHU   \n",
       "2       DEL LIBERTADOR AV.   6250  BLANCO ENCALADA         OLAZABAL   \n",
       "3  LARRALDE, CRISOLOGO AV.   5187              NaN              NaN   \n",
       "4             OLAZABAL AV.   4920              NaN  TRIUNVIRATO AV.   \n",
       "\n",
       "      LINEAS                      DIR_NORM               CALLE_NORM  \\\n",
       "0  {151,168}              CORDOBA AV. 4859              CORDOBA AV.   \n",
       "1      {105}               NUEVA YORK 4224               NUEVA YORK   \n",
       "2    {15,29}       DEL LIBERTADOR AV. 6250       DEL LIBERTADOR AV.   \n",
       "3   {110,71}  LARRALDE, CRISOLOGO AV. 5187  LARRALDE, CRISOLOGO AV.   \n",
       "4       {90}             OLAZABAL AV. 4920             OLAZABAL AV.   \n",
       "\n",
       "   ALTURA_NOR                       COORDX                       COORDY  \\\n",
       "0      4859.0  102.798.829.931.999.000.000  104.091.825.983.000.000.000   \n",
       "1      4224.0   95.346.600.539.799.900.000  103.064.210.534.000.000.000   \n",
       "2      6250.0  101.242.081.519.000.000.000  108.298.117.206.000.000.000   \n",
       "3      5187.0   97.172.965.995.399.900.000  107.424.229.065.000.000.000   \n",
       "4      4920.0   98.057.080.321.899.900.000  105.936.009.144.000.000.000   \n",
       "\n",
       "  METROBUS STOP_NAME STOP_DESC            FUENTE VERIFICADA FECHA_ULTI  \n",
       "0        F       NaN       NaN  RELEVAMIENTO2015          T   9/4/2015  \n",
       "1        F       NaN       NaN  RELEVAMIENTO2015          T  17/4/2015  \n",
       "2        F       NaN       NaN  RELEVAMIENTO2015          T  10/4/2015  \n",
       "3        F       NaN       NaN  RELEVAMIENTO2015          T  14/4/2015  \n",
       "4        F       NaN       NaN  RELEVAMIENTO2015          T  14/4/2015  "
      ]
     },
     "execution_count": 22,
     "metadata": {},
     "output_type": "execute_result"
    }
   ],
   "source": [
    "colectivos = pd.read_csv('datos/paradas-de-colectivo.csv', sep = \";\")\n",
    "colectivos.head()"
   ]
  },
  {
   "cell_type": "code",
   "execution_count": 36,
   "metadata": {
    "collapsed": true
   },
   "outputs": [],
   "source": [
    "estadios.rename(columns = {'X': 'lat', 'Y': 'lon' }, inplace = True)"
   ]
  },
  {
   "cell_type": "code",
   "execution_count": 37,
   "metadata": {},
   "outputs": [
    {
     "ename": "KeyError",
     "evalue": "\"None of [['lat', 'lon']] are in the [columns]\"",
     "output_type": "error",
     "traceback": [
      "\u001b[0;31m---------------------------------------------------------------------------\u001b[0m",
      "\u001b[0;31mKeyError\u001b[0m                                  Traceback (most recent call last)",
      "\u001b[0;32m<ipython-input-37-102292c7865e>\u001b[0m in \u001b[0;36m<module>\u001b[0;34m()\u001b[0m\n\u001b[1;32m      7\u001b[0m     \u001b[0;32mreturn\u001b[0m \u001b[0mfloat\u001b[0m\u001b[0;34m(\u001b[0m\u001b[0ma\u001b[0m\u001b[0;34m)\u001b[0m\u001b[0;34m,\u001b[0m \u001b[0mfloat\u001b[0m\u001b[0;34m(\u001b[0m\u001b[0mb\u001b[0m\u001b[0;34m)\u001b[0m\u001b[0;34m\u001b[0m\u001b[0m\n\u001b[1;32m      8\u001b[0m \u001b[0;34m\u001b[0m\u001b[0m\n\u001b[0;32m----> 9\u001b[0;31m \u001b[0mcolectivos\u001b[0m\u001b[0;34m.\u001b[0m\u001b[0mloc\u001b[0m\u001b[0;34m[\u001b[0m\u001b[0;34m:\u001b[0m\u001b[0;34m,\u001b[0m\u001b[0;34m[\u001b[0m\u001b[0;34m'lat'\u001b[0m\u001b[0;34m,\u001b[0m \u001b[0;34m'lon'\u001b[0m\u001b[0;34m]\u001b[0m\u001b[0;34m]\u001b[0m \u001b[0;34m=\u001b[0m \u001b[0mcolectivos\u001b[0m\u001b[0;34m.\u001b[0m\u001b[0mloc\u001b[0m\u001b[0;34m[\u001b[0m\u001b[0;34m:\u001b[0m\u001b[0;34m,\u001b[0m\u001b[0;34m[\u001b[0m\u001b[0;34m'lat'\u001b[0m\u001b[0;34m,\u001b[0m\u001b[0;34m'lon'\u001b[0m\u001b[0;34m]\u001b[0m\u001b[0;34m]\u001b[0m\u001b[0;34m.\u001b[0m\u001b[0mapply\u001b[0m\u001b[0;34m(\u001b[0m\u001b[0;32mlambda\u001b[0m \u001b[0mx\u001b[0m\u001b[0;34m:\u001b[0m \u001b[0mabc\u001b[0m\u001b[0;34m(\u001b[0m\u001b[0mx\u001b[0m\u001b[0;34m)\u001b[0m\u001b[0;34m,\u001b[0m \u001b[0maxis\u001b[0m \u001b[0;34m=\u001b[0m \u001b[0;36m1\u001b[0m\u001b[0;34m)\u001b[0m\u001b[0;34m\u001b[0m\u001b[0m\n\u001b[0m\u001b[1;32m     10\u001b[0m \u001b[0mcolectivos\u001b[0m\u001b[0;34m.\u001b[0m\u001b[0mhead\u001b[0m\u001b[0;34m(\u001b[0m\u001b[0;34m)\u001b[0m\u001b[0;34m\u001b[0m\u001b[0m\n",
      "\u001b[0;32m/usr/local/lib/python2.7/dist-packages/pandas/core/indexing.pyc\u001b[0m in \u001b[0;36m__getitem__\u001b[0;34m(self, key)\u001b[0m\n\u001b[1;32m   1323\u001b[0m             \u001b[0;32mexcept\u001b[0m \u001b[0;34m(\u001b[0m\u001b[0mKeyError\u001b[0m\u001b[0;34m,\u001b[0m \u001b[0mIndexError\u001b[0m\u001b[0;34m)\u001b[0m\u001b[0;34m:\u001b[0m\u001b[0;34m\u001b[0m\u001b[0m\n\u001b[1;32m   1324\u001b[0m                 \u001b[0;32mpass\u001b[0m\u001b[0;34m\u001b[0m\u001b[0m\n\u001b[0;32m-> 1325\u001b[0;31m             \u001b[0;32mreturn\u001b[0m \u001b[0mself\u001b[0m\u001b[0;34m.\u001b[0m\u001b[0m_getitem_tuple\u001b[0m\u001b[0;34m(\u001b[0m\u001b[0mkey\u001b[0m\u001b[0;34m)\u001b[0m\u001b[0;34m\u001b[0m\u001b[0m\n\u001b[0m\u001b[1;32m   1326\u001b[0m         \u001b[0;32melse\u001b[0m\u001b[0;34m:\u001b[0m\u001b[0;34m\u001b[0m\u001b[0m\n\u001b[1;32m   1327\u001b[0m             \u001b[0mkey\u001b[0m \u001b[0;34m=\u001b[0m \u001b[0mcom\u001b[0m\u001b[0;34m.\u001b[0m\u001b[0m_apply_if_callable\u001b[0m\u001b[0;34m(\u001b[0m\u001b[0mkey\u001b[0m\u001b[0;34m,\u001b[0m \u001b[0mself\u001b[0m\u001b[0;34m.\u001b[0m\u001b[0mobj\u001b[0m\u001b[0;34m)\u001b[0m\u001b[0;34m\u001b[0m\u001b[0m\n",
      "\u001b[0;32m/usr/local/lib/python2.7/dist-packages/pandas/core/indexing.pyc\u001b[0m in \u001b[0;36m_getitem_tuple\u001b[0;34m(self, tup)\u001b[0m\n\u001b[1;32m    839\u001b[0m \u001b[0;34m\u001b[0m\u001b[0m\n\u001b[1;32m    840\u001b[0m         \u001b[0;31m# no multi-index, so validate all of the indexers\u001b[0m\u001b[0;34m\u001b[0m\u001b[0;34m\u001b[0m\u001b[0m\n\u001b[0;32m--> 841\u001b[0;31m         \u001b[0mself\u001b[0m\u001b[0;34m.\u001b[0m\u001b[0m_has_valid_tuple\u001b[0m\u001b[0;34m(\u001b[0m\u001b[0mtup\u001b[0m\u001b[0;34m)\u001b[0m\u001b[0;34m\u001b[0m\u001b[0m\n\u001b[0m\u001b[1;32m    842\u001b[0m \u001b[0;34m\u001b[0m\u001b[0m\n\u001b[1;32m    843\u001b[0m         \u001b[0;31m# ugly hack for GH #836\u001b[0m\u001b[0;34m\u001b[0m\u001b[0;34m\u001b[0m\u001b[0m\n",
      "\u001b[0;32m/usr/local/lib/python2.7/dist-packages/pandas/core/indexing.pyc\u001b[0m in \u001b[0;36m_has_valid_tuple\u001b[0;34m(self, key)\u001b[0m\n\u001b[1;32m    187\u001b[0m             \u001b[0;32mif\u001b[0m \u001b[0mi\u001b[0m \u001b[0;34m>=\u001b[0m \u001b[0mself\u001b[0m\u001b[0;34m.\u001b[0m\u001b[0mobj\u001b[0m\u001b[0;34m.\u001b[0m\u001b[0mndim\u001b[0m\u001b[0;34m:\u001b[0m\u001b[0;34m\u001b[0m\u001b[0m\n\u001b[1;32m    188\u001b[0m                 \u001b[0;32mraise\u001b[0m \u001b[0mIndexingError\u001b[0m\u001b[0;34m(\u001b[0m\u001b[0;34m'Too many indexers'\u001b[0m\u001b[0;34m)\u001b[0m\u001b[0;34m\u001b[0m\u001b[0m\n\u001b[0;32m--> 189\u001b[0;31m             \u001b[0;32mif\u001b[0m \u001b[0;32mnot\u001b[0m \u001b[0mself\u001b[0m\u001b[0;34m.\u001b[0m\u001b[0m_has_valid_type\u001b[0m\u001b[0;34m(\u001b[0m\u001b[0mk\u001b[0m\u001b[0;34m,\u001b[0m \u001b[0mi\u001b[0m\u001b[0;34m)\u001b[0m\u001b[0;34m:\u001b[0m\u001b[0;34m\u001b[0m\u001b[0m\n\u001b[0m\u001b[1;32m    190\u001b[0m                 raise ValueError(\"Location based indexing can only have [%s] \"\n\u001b[1;32m    191\u001b[0m                                  \"types\" % self._valid_types)\n",
      "\u001b[0;32m/usr/local/lib/python2.7/dist-packages/pandas/core/indexing.pyc\u001b[0m in \u001b[0;36m_has_valid_type\u001b[0;34m(self, key, axis)\u001b[0m\n\u001b[1;32m   1416\u001b[0m \u001b[0;34m\u001b[0m\u001b[0m\n\u001b[1;32m   1417\u001b[0m                 raise KeyError(\"None of [%s] are in the [%s]\" %\n\u001b[0;32m-> 1418\u001b[0;31m                                (key, self.obj._get_axis_name(axis)))\n\u001b[0m\u001b[1;32m   1419\u001b[0m \u001b[0;34m\u001b[0m\u001b[0m\n\u001b[1;32m   1420\u001b[0m             \u001b[0;32mreturn\u001b[0m \u001b[0mTrue\u001b[0m\u001b[0;34m\u001b[0m\u001b[0m\n",
      "\u001b[0;31mKeyError\u001b[0m: \"None of [['lat', 'lon']] are in the [columns]\""
     ]
    }
   ],
   "source": [
    "def abc (fila):\n",
    "    a,b = fila\n",
    "    a = a.split(',')\n",
    "    a = '.'.join(a)\n",
    "    b = b.split(',')\n",
    "    b = '.'.join(b)\n",
    "    return float(a), float(b)\n",
    "\n",
    "colectivos.loc[:,['lat', 'lon']] = colectivos.loc[:,['lat','lon']].apply(lambda x: abc(x), axis = 1)\n",
    "colectivos.head()"
   ]
  }
 ],
 "metadata": {
  "kernelspec": {
   "display_name": "Python 3",
   "language": "python",
   "name": "python3"
  },
  "language_info": {
   "codemirror_mode": {
    "name": "ipython",
    "version": 2
   },
   "file_extension": ".py",
   "mimetype": "text/x-python",
   "name": "python",
   "nbconvert_exporter": "python",
   "pygments_lexer": "ipython2",
   "version": "2.7.12"
  }
 },
 "nbformat": 4,
 "nbformat_minor": 2
}
