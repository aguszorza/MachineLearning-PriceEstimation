{
 "cells": [
  {
   "cell_type": "code",
   "execution_count": 1,
   "metadata": {
    "collapsed": true
   },
   "outputs": [],
   "source": [
    "import pandas as pd\n",
    "import numpy as np\n",
    "import matplotlib.pyplot as plt\n",
    "from math import radians, sin, cos, asin, sqrt, pi, atan, atan2, fabs"
   ]
  },
  {
   "cell_type": "code",
   "execution_count": 2,
   "metadata": {
    "collapsed": true
   },
   "outputs": [],
   "source": [
    "def calcular_distancia(lat1,long1,lat2,long2):\n",
    "    lon1, lat1 = (radians(coord) for coord in (long1,lat1))\n",
    "    lon2, lat2 = (radians(coord) for coord in (long2,lat2))\n",
    "    dlat = (lat2 - lat1)\n",
    "    dlon = (lon2 - lon1)\n",
    "    a = (\n",
    "        sin(dlat * 0.5)**2 +\n",
    "        cos(lat1) * cos(lat2) * sin(dlon * 0.5)**2\n",
    "    )\n",
    "    \n",
    "    radioTierra = 6371008.8\n",
    "    return 2 * radioTierra * asin(sqrt(a)) / 1000\n",
    "\n",
    "#distancia de Haversine\n",
    "#https://gist.github.com/habibutsu/8bbcc202a915e965c6a6d4f561d0e482"
   ]
  },
  {
   "cell_type": "code",
   "execution_count": 5,
   "metadata": {
    "collapsed": true
   },
   "outputs": [],
   "source": [
    "def distancia_minima(fila, dataframe):\n",
    "    lat, lon = fila\n",
    "    distancias = []\n",
    "    for i in range (len(dataframe)):\n",
    "        d = calcular_distancia(lat,lon,dataframe.lat[i], dataframe.lon[i])\n",
    "        distancias.append(d)\n",
    "    return min(distancias)"
   ]
  },
  {
   "cell_type": "code",
   "execution_count": 6,
   "metadata": {
    "collapsed": true
   },
   "outputs": [],
   "source": [
    "def cantidad_a_distancia(fila, dist, dataframe):\n",
    "    lat, lon = fila\n",
    "    cantidad = 0\n",
    "    for i in range (len(dataframe)):\n",
    "        d = calcular_distancia(lat,lon,dataframe.lat[i], dataframe.lon[i])\n",
    "        if d <= dist:\n",
    "            cantidad += 1\n",
    "    return cantidad"
   ]
  },
  {
   "cell_type": "markdown",
   "metadata": {},
   "source": [
    "## Propiedades solo de Capital"
   ]
  },
  {
   "cell_type": "code",
   "execution_count": null,
   "metadata": {
    "collapsed": true
   },
   "outputs": [],
   "source": [
    "propiedades = pd.read_csv('properati.csv')\n",
    "#propiedades = pd.read_csv('/home/agustin/Escritorio/escritorio/fiuba/Organizacion de datos/properati.csv')"
   ]
  },
  {
   "cell_type": "code",
   "execution_count": null,
   "metadata": {
    "collapsed": true
   },
   "outputs": [],
   "source": [
    "solo_capital = propiedades.loc[(propiedades.state_name == 'Capital Federal') & (propiedades.lat.notnull()) & (propiedades.lon.notnull()),:]\n",
    "solo_capital = solo_capital.loc[((solo_capital.lat <= -34) & (solo_capital.lat >= -35)),:]\n",
    "solo_capital = solo_capital.loc[((solo_capital.lon <= -58) & (solo_capital.lon >= -59)),:]"
   ]
  },
  {
   "cell_type": "markdown",
   "metadata": {},
   "source": [
    "## Subtes"
   ]
  },
  {
   "cell_type": "code",
   "execution_count": 4,
   "metadata": {
    "collapsed": true
   },
   "outputs": [],
   "source": [
    "subtes = pd.read_csv('datos/estaciones-de-subte.csv', sep = \",\")"
   ]
  },
  {
   "cell_type": "code",
   "execution_count": null,
   "metadata": {
    "collapsed": true
   },
   "outputs": [],
   "source": [
    "subtes.rename(columns = {'X': 'lon', 'Y': 'lat'}, inplace = True)"
   ]
  },
  {
   "cell_type": "code",
   "execution_count": null,
   "metadata": {
    "collapsed": true
   },
   "outputs": [],
   "source": [
    "solo_capital.loc[:,'distancia_subtes'] = solo_capital.loc[:,['lat','lon']].apply(lambda x: distancia_minima(x, subtes), axis = 1)"
   ]
  },
  {
   "cell_type": "markdown",
   "metadata": {},
   "source": [
    "## Monumentos"
   ]
  },
  {
   "cell_type": "code",
   "execution_count": 6,
   "metadata": {
    "collapsed": true
   },
   "outputs": [],
   "source": [
    "monumentos = pd.read_csv('datos/monumentos.csv', sep = \",\")"
   ]
  },
  {
   "cell_type": "code",
   "execution_count": 9,
   "metadata": {
    "collapsed": true
   },
   "outputs": [],
   "source": [
    "solo_capital.loc[:,'distancia_monumentos'] = solo_capital.loc[:,['lat','lon']].apply(lambda x: distancia_minima(x, monumentos), axis = 1)"
   ]
  },
  {
   "cell_type": "markdown",
   "metadata": {},
   "source": [
    "## Ferrocarriles"
   ]
  },
  {
   "cell_type": "code",
   "execution_count": 8,
   "metadata": {
    "collapsed": true
   },
   "outputs": [],
   "source": [
    "ferrocarriles = pd.read_csv('datos/estaciones-de-ferrocarril.csv', sep = \";\")"
   ]
  },
  {
   "cell_type": "code",
   "execution_count": 14,
   "metadata": {
    "collapsed": true
   },
   "outputs": [],
   "source": [
    "ferrocarriles.rename(columns = {'LAT': 'lat', 'LNG': 'lon' }, inplace = True)"
   ]
  },
  {
   "cell_type": "code",
   "execution_count": null,
   "metadata": {
    "collapsed": true
   },
   "outputs": [],
   "source": [
    "solo_capital.loc[:,'distancia_ferrocarril'] = solo_capital.loc[:,['lat','lon']].apply(lambda x: distancia_minima(x, ferrocarriles), axis = 1)"
   ]
  },
  {
   "cell_type": "markdown",
   "metadata": {},
   "source": [
    "## Estadios"
   ]
  },
  {
   "cell_type": "code",
   "execution_count": 10,
   "metadata": {
    "collapsed": true
   },
   "outputs": [],
   "source": [
    "estadios = pd.read_csv('datos/estadios.csv', sep = \";\")"
   ]
  },
  {
   "cell_type": "code",
   "execution_count": 14,
   "metadata": {
    "collapsed": true
   },
   "outputs": [],
   "source": [
    "estadios.rename(columns = {'LAT': 'lat', 'LONG': 'lon' }, inplace = True)"
   ]
  },
  {
   "cell_type": "code",
   "execution_count": 2,
   "metadata": {},
   "outputs": [],
   "source": [
    "solo_capital.loc[:,'distancia_estadios'] = solo_capital.loc[:,['lat','lon']].apply(lambda x: distancia_minima(x, estadios), axis = 1)"
   ]
  },
  {
   "cell_type": "markdown",
   "metadata": {},
   "source": [
    "## Colectivos"
   ]
  },
  {
   "cell_type": "code",
   "execution_count": 58,
   "metadata": {
    "collapsed": true
   },
   "outputs": [],
   "source": [
    "colectivos = pd.read_csv('datos/paradas-de-colectivo.csv', sep = \",\")"
   ]
  },
  {
   "cell_type": "code",
   "execution_count": null,
   "metadata": {
    "collapsed": true
   },
   "outputs": [],
   "source": [
    "solo_capital.loc[:,'colectivos'] = solo_capital.loc[:,['lat','lon']].apply\\\n",
    "(lambda x: cantidad_a_distancia(x,0.5, colectivos), axis = 1)"
   ]
  },
  {
   "cell_type": "markdown",
   "metadata": {},
   "source": [
    "## Servicios"
   ]
  },
  {
   "cell_type": "code",
   "execution_count": 5,
   "metadata": {},
   "outputs": [
    {
     "data": {
      "text/html": [
       "<div>\n",
       "<style>\n",
       "    .dataframe thead tr:only-child th {\n",
       "        text-align: right;\n",
       "    }\n",
       "\n",
       "    .dataframe thead th {\n",
       "        text-align: left;\n",
       "    }\n",
       "\n",
       "    .dataframe tbody tr th {\n",
       "        vertical-align: top;\n",
       "    }\n",
       "</style>\n",
       "<table border=\"1\" class=\"dataframe\">\n",
       "  <thead>\n",
       "    <tr style=\"text-align: right;\">\n",
       "      <th></th>\n",
       "      <th>Nombre</th>\n",
       "      <th>Servicio</th>\n",
       "      <th>lat</th>\n",
       "      <th>lon</th>\n",
       "    </tr>\n",
       "  </thead>\n",
       "  <tbody>\n",
       "    <tr>\n",
       "      <th>0</th>\n",
       "      <td>HILARIO ASCASUBI</td>\n",
       "      <td>Biblioteca</td>\n",
       "      <td>-34.623337</td>\n",
       "      <td>-58.492223</td>\n",
       "    </tr>\n",
       "  </tbody>\n",
       "</table>\n",
       "</div>"
      ],
      "text/plain": [
       "             Nombre    Servicio        lat        lon\n",
       "0  HILARIO ASCASUBI  Biblioteca -34.623337 -58.492223"
      ]
     },
     "execution_count": 5,
     "metadata": {},
     "output_type": "execute_result"
    }
   ],
   "source": [
    "bibliotecas = pd.read_csv('datos/servicios/bibliotecas.csv', sep = \";\")\n",
    "bibliotecas.rename(columns = {'BIBLIOTECA': 'Nombre', 'LAT': 'lat', 'LNG': 'lon' }, inplace = True)\n",
    "bibliotecas.loc[:,'Servicio'] = 'Biblioteca'\n",
    "bibliotecas = bibliotecas.loc[:,['Nombre', 'Servicio', 'lat', 'lon']]\n",
    "bibliotecas.head(1)"
   ]
  },
  {
   "cell_type": "code",
   "execution_count": 7,
   "metadata": {},
   "outputs": [
    {
     "data": {
      "text/html": [
       "<div>\n",
       "<style>\n",
       "    .dataframe thead tr:only-child th {\n",
       "        text-align: right;\n",
       "    }\n",
       "\n",
       "    .dataframe thead th {\n",
       "        text-align: left;\n",
       "    }\n",
       "\n",
       "    .dataframe tbody tr th {\n",
       "        vertical-align: top;\n",
       "    }\n",
       "</style>\n",
       "<table border=\"1\" class=\"dataframe\">\n",
       "  <thead>\n",
       "    <tr style=\"text-align: right;\">\n",
       "      <th></th>\n",
       "      <th>Nombre</th>\n",
       "      <th>Servicio</th>\n",
       "      <th>lat</th>\n",
       "      <th>lon</th>\n",
       "    </tr>\n",
       "  </thead>\n",
       "  <tbody>\n",
       "    <tr>\n",
       "      <th>0</th>\n",
       "      <td>SECCION PALERMO</td>\n",
       "      <td>Bomberos</td>\n",
       "      <td>-34.577526</td>\n",
       "      <td>-58.435809</td>\n",
       "    </tr>\n",
       "  </tbody>\n",
       "</table>\n",
       "</div>"
      ],
      "text/plain": [
       "            Nombre  Servicio        lat        lon\n",
       "0  SECCION PALERMO  Bomberos -34.577526 -58.435809"
      ]
     },
     "execution_count": 7,
     "metadata": {},
     "output_type": "execute_result"
    }
   ],
   "source": [
    "bomberos = pd.read_csv('datos/servicios/bomberos.csv', sep = \";\")\n",
    "bomberos.rename(columns = {'DCIA': 'Nombre', 'LAT': 'lat', 'LNG': 'lon' }, inplace = True)\n",
    "bomberos.loc[:,'Servicio'] = 'Bomberos'\n",
    "bomberos = bomberos.loc[:,['Nombre', 'Servicio', 'lat', 'lon']]\n",
    "bomberos.head(1)"
   ]
  },
  {
   "cell_type": "code",
   "execution_count": 34,
   "metadata": {},
   "outputs": [
    {
     "data": {
      "text/html": [
       "<div>\n",
       "<style>\n",
       "    .dataframe thead tr:only-child th {\n",
       "        text-align: right;\n",
       "    }\n",
       "\n",
       "    .dataframe thead th {\n",
       "        text-align: left;\n",
       "    }\n",
       "\n",
       "    .dataframe tbody tr th {\n",
       "        vertical-align: top;\n",
       "    }\n",
       "</style>\n",
       "<table border=\"1\" class=\"dataframe\">\n",
       "  <thead>\n",
       "    <tr style=\"text-align: right;\">\n",
       "      <th></th>\n",
       "      <th>Nombre</th>\n",
       "      <th>Servicio</th>\n",
       "      <th>lat</th>\n",
       "      <th>lon</th>\n",
       "    </tr>\n",
       "  </thead>\n",
       "  <tbody>\n",
       "    <tr>\n",
       "      <th>0</th>\n",
       "      <td>COMISARIA 52</td>\n",
       "      <td>Comisaria</td>\n",
       "      <td>-34.683121</td>\n",
       "      <td>-58.468944</td>\n",
       "    </tr>\n",
       "  </tbody>\n",
       "</table>\n",
       "</div>"
      ],
      "text/plain": [
       "         Nombre   Servicio        lat        lon\n",
       "0  COMISARIA 52  Comisaria -34.683121 -58.468944"
      ]
     },
     "execution_count": 34,
     "metadata": {},
     "output_type": "execute_result"
    }
   ],
   "source": [
    "comisarias = pd.read_csv('datos/servicios/comisarias.csv', sep = \",\")\n",
    "comisarias.loc[:,'Servicio'] = 'Comisaria'\n",
    "comisarias = comisarias.loc[:,['Nombre', 'Servicio', 'lat', 'lon']]\n",
    "comisarias.head(1)"
   ]
  },
  {
   "cell_type": "code",
   "execution_count": 38,
   "metadata": {},
   "outputs": [
    {
     "data": {
      "text/html": [
       "<div>\n",
       "<style>\n",
       "    .dataframe thead tr:only-child th {\n",
       "        text-align: right;\n",
       "    }\n",
       "\n",
       "    .dataframe thead th {\n",
       "        text-align: left;\n",
       "    }\n",
       "\n",
       "    .dataframe tbody tr th {\n",
       "        vertical-align: top;\n",
       "    }\n",
       "</style>\n",
       "<table border=\"1\" class=\"dataframe\">\n",
       "  <thead>\n",
       "    <tr style=\"text-align: right;\">\n",
       "      <th></th>\n",
       "      <th>Nombre</th>\n",
       "      <th>Servicio</th>\n",
       "      <th>lat</th>\n",
       "      <th>lon</th>\n",
       "    </tr>\n",
       "  </thead>\n",
       "  <tbody>\n",
       "    <tr>\n",
       "      <th>0</th>\n",
       "      <td>HOSPITAL GENERAL DE NIÑOS PEDRO DE ELIZALDE</td>\n",
       "      <td>Hospital</td>\n",
       "      <td>-34.628847</td>\n",
       "      <td>-58.377551</td>\n",
       "    </tr>\n",
       "  </tbody>\n",
       "</table>\n",
       "</div>"
      ],
      "text/plain": [
       "                                        Nombre  Servicio        lat        lon\n",
       "0  HOSPITAL GENERAL DE NIÑOS PEDRO DE ELIZALDE  Hospital -34.628847 -58.377551"
      ]
     },
     "execution_count": 38,
     "metadata": {},
     "output_type": "execute_result"
    }
   ],
   "source": [
    "hospitales = pd.read_csv('datos/servicios/hospitales.csv', sep = \";\")\n",
    "hospitales.rename(columns = {'NOMBRE': 'Nombre', 'LAT': 'lat', 'LNG': 'lon' }, inplace = True)\n",
    "hospitales.loc[:,'Servicio'] = 'Hospital'\n",
    "hospitales = hospitales.loc[:,['Nombre', 'Servicio', 'lat', 'lon']]\n",
    "hospitales.head(1)"
   ]
  },
  {
   "cell_type": "code",
   "execution_count": 39,
   "metadata": {},
   "outputs": [
    {
     "data": {
      "text/html": [
       "<div>\n",
       "<style>\n",
       "    .dataframe thead tr:only-child th {\n",
       "        text-align: right;\n",
       "    }\n",
       "\n",
       "    .dataframe thead th {\n",
       "        text-align: left;\n",
       "    }\n",
       "\n",
       "    .dataframe tbody tr th {\n",
       "        vertical-align: top;\n",
       "    }\n",
       "</style>\n",
       "<table border=\"1\" class=\"dataframe\">\n",
       "  <thead>\n",
       "    <tr style=\"text-align: right;\">\n",
       "      <th></th>\n",
       "      <th>Nombre</th>\n",
       "      <th>Servicio</th>\n",
       "      <th>lat</th>\n",
       "      <th>lon</th>\n",
       "    </tr>\n",
       "  </thead>\n",
       "  <tbody>\n",
       "    <tr>\n",
       "      <th>0</th>\n",
       "      <td>FLACSO (FACULTAD LATINOAMERICANA DE CIENCIAS S...</td>\n",
       "      <td>Universidad</td>\n",
       "      <td>-34.602676</td>\n",
       "      <td>-58.39544</td>\n",
       "    </tr>\n",
       "  </tbody>\n",
       "</table>\n",
       "</div>"
      ],
      "text/plain": [
       "                                              Nombre     Servicio        lat  \\\n",
       "0  FLACSO (FACULTAD LATINOAMERICANA DE CIENCIAS S...  Universidad -34.602676   \n",
       "\n",
       "        lon  \n",
       "0 -58.39544  "
      ]
     },
     "execution_count": 39,
     "metadata": {},
     "output_type": "execute_result"
    }
   ],
   "source": [
    "universidades = pd.read_csv('datos/servicios/universidades.csv', sep = \";\")\n",
    "universidades.rename(columns = {'UNIVERSIDA': 'Nombre', 'LAT': 'lat', 'LNG': 'lon' }, inplace = True)\n",
    "universidades.loc[:,'Servicio'] = 'Universidad'\n",
    "universidades = universidades.loc[:,['Nombre', 'Servicio', 'lat', 'lon']]\n",
    "universidades.head(1)"
   ]
  },
  {
   "cell_type": "code",
   "execution_count": 49,
   "metadata": {},
   "outputs": [
    {
     "data": {
      "text/html": [
       "<div>\n",
       "<style>\n",
       "    .dataframe thead tr:only-child th {\n",
       "        text-align: right;\n",
       "    }\n",
       "\n",
       "    .dataframe thead th {\n",
       "        text-align: left;\n",
       "    }\n",
       "\n",
       "    .dataframe tbody tr th {\n",
       "        vertical-align: top;\n",
       "    }\n",
       "</style>\n",
       "<table border=\"1\" class=\"dataframe\">\n",
       "  <thead>\n",
       "    <tr style=\"text-align: right;\">\n",
       "      <th></th>\n",
       "      <th>Nombre</th>\n",
       "      <th>Servicio</th>\n",
       "      <th>lat</th>\n",
       "      <th>lon</th>\n",
       "    </tr>\n",
       "  </thead>\n",
       "  <tbody>\n",
       "    <tr>\n",
       "      <th>0</th>\n",
       "      <td>ALPI - INSTITUTO DE REHABILITACION MARCELO FIT...</td>\n",
       "      <td>Clinica</td>\n",
       "      <td>-34.59163</td>\n",
       "      <td>-58.417333</td>\n",
       "    </tr>\n",
       "  </tbody>\n",
       "</table>\n",
       "</div>"
      ],
      "text/plain": [
       "                                              Nombre Servicio       lat  \\\n",
       "0  ALPI - INSTITUTO DE REHABILITACION MARCELO FIT...  Clinica -34.59163   \n",
       "\n",
       "         lon  \n",
       "0 -58.417333  "
      ]
     },
     "execution_count": 49,
     "metadata": {},
     "output_type": "execute_result"
    }
   ],
   "source": [
    "clinicas = pd.read_csv('datos/servicios/clinicas.csv', sep = \",\")\n",
    "clinicas.rename(columns = {'NOMBRE': 'Nombre', 'LAT': 'lat', 'LNG': 'lon' }, inplace = True)\n",
    "clinicas.loc[:,'Servicio'] = 'Clinica'\n",
    "clinicas = clinicas.loc[:,['Nombre', 'Servicio', 'lat', 'lon']]\n",
    "clinicas.head(1)"
   ]
  },
  {
   "cell_type": "code",
   "execution_count": 51,
   "metadata": {},
   "outputs": [
    {
     "data": {
      "text/html": [
       "<div>\n",
       "<style>\n",
       "    .dataframe thead tr:only-child th {\n",
       "        text-align: right;\n",
       "    }\n",
       "\n",
       "    .dataframe thead th {\n",
       "        text-align: left;\n",
       "    }\n",
       "\n",
       "    .dataframe tbody tr th {\n",
       "        vertical-align: top;\n",
       "    }\n",
       "</style>\n",
       "<table border=\"1\" class=\"dataframe\">\n",
       "  <thead>\n",
       "    <tr style=\"text-align: right;\">\n",
       "      <th></th>\n",
       "      <th>Nombre</th>\n",
       "      <th>Servicio</th>\n",
       "      <th>lat</th>\n",
       "      <th>lon</th>\n",
       "    </tr>\n",
       "  </thead>\n",
       "  <tbody>\n",
       "    <tr>\n",
       "      <th>0</th>\n",
       "      <td>CMB N° 2</td>\n",
       "      <td>Centro Medico</td>\n",
       "      <td>-34.622156</td>\n",
       "      <td>-58.482987</td>\n",
       "    </tr>\n",
       "  </tbody>\n",
       "</table>\n",
       "</div>"
      ],
      "text/plain": [
       "     Nombre       Servicio        lat        lon\n",
       "0  CMB N° 2  Centro Medico -34.622156 -58.482987"
      ]
     },
     "execution_count": 51,
     "metadata": {},
     "output_type": "execute_result"
    }
   ],
   "source": [
    "centros_medicos = pd.read_csv('datos/servicios/centros-medicos.csv', sep = \";\")\n",
    "centros_medicos.rename(columns = {'NOMBRE': 'Nombre', 'Y': 'lat', 'X': 'lon' }, inplace = True)\n",
    "centros_medicos.loc[:,'Servicio'] = 'Centro Medico'\n",
    "centros_medicos = centros_medicos.loc[:,['Nombre', 'Servicio', 'lat', 'lon']]\n",
    "centros_medicos.head(1)"
   ]
  },
  {
   "cell_type": "code",
   "execution_count": 57,
   "metadata": {},
   "outputs": [
    {
     "name": "stdout",
     "output_type": "stream",
     "text": [
      "<class 'pandas.core.frame.DataFrame'>\n",
      "Int64Index: 641 entries, 0 to 641\n",
      "Data columns (total 4 columns):\n",
      "Nombre      641 non-null object\n",
      "Servicio    641 non-null object\n",
      "lat         641 non-null float64\n",
      "lon         641 non-null float64\n",
      "dtypes: float64(2), object(2)\n",
      "memory usage: 25.0+ KB\n"
     ]
    }
   ],
   "source": [
    "servicios = pd.concat([bibliotecas,bomberos,comisarias,hospitales,universidades,clinicas,centros_medicos], ignore_index=True)\n",
    "servicios = servicios.loc[(servicios.lat.notnull()) & (servicios.lon.notnull()),:]\n",
    "servicios.info()"
   ]
  },
  {
   "cell_type": "code",
   "execution_count": null,
   "metadata": {
    "collapsed": true
   },
   "outputs": [],
   "source": [
    "solo_capital.loc[:,'servicios'] = solo_capital.loc[:,['lat','lon']].apply\\\n",
    "(lambda x: cantidad_a_distancia(x,0.8, servicios), axis = 1)"
   ]
  },
  {
   "cell_type": "markdown",
   "metadata": {},
   "source": [
    "# funcion auxiliar"
   ]
  },
  {
   "cell_type": "code",
   "execution_count": 45,
   "metadata": {
    "collapsed": true
   },
   "outputs": [],
   "source": [
    "def abc (fila):\n",
    "    a = fila.split(',')\n",
    "    a = '.'.join(a)\n",
    "    return float(a)\n"
   ]
  }
 ],
 "metadata": {
  "kernelspec": {
   "display_name": "Python 3",
   "language": "python",
   "name": "python3"
  },
  "language_info": {
   "codemirror_mode": {
    "name": "ipython",
    "version": 3
   },
   "file_extension": ".py",
   "mimetype": "text/x-python",
   "name": "python",
   "nbconvert_exporter": "python",
   "pygments_lexer": "ipython3",
   "version": "3.6.1"
  }
 },
 "nbformat": 4,
 "nbformat_minor": 2
}
